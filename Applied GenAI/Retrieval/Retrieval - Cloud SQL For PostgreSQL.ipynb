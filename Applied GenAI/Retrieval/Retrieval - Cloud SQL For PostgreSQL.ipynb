{
 "cells": [
  {
   "cell_type": "markdown",
   "id": "80315427",
   "metadata": {},
   "source": [
    "![tracker](https://us-central1-vertex-ai-mlops-369716.cloudfunctions.net/pixel-tracking?path=statmike%2Fvertex-ai-mlops%2FApplied+GenAI%2FRetrieval&file=Retrieval+-+Cloud+SQL+For+PostgreSQL.ipynb)\n",
    "<!--- header table --->\n",
    "<table align=\"left\">\n",
    "  <td style=\"text-align: center\">\n",
    "    <a href=\"https://colab.research.google.com/github/statmike/vertex-ai-mlops/blob/main/Applied%20GenAI/Retrieval/Retrieval%20-%20Cloud%20SQL%20For%20PostgreSQL.ipynb\">\n",
    "      <img src=\"https://cloud.google.com/ml-engine/images/colab-logo-32px.png\" alt=\"Google Colaboratory logo\">\n",
    "      <br>Run in<br>Colab\n",
    "    </a>\n",
    "  </td>\n",
    "  <td style=\"text-align: center\">\n",
    "    <a href=\"https://console.cloud.google.com/vertex-ai/colab/import/https%3A%2F%2Fraw.githubusercontent.com%2Fstatmike%2Fvertex-ai-mlops%2Fmain%2FApplied%2520GenAI%2FRetrieval%2FRetrieval%2520-%2520Cloud%2520SQL%2520For%2520PostgreSQL.ipynb\">\n",
    "      <img width=\"32px\" src=\"https://lh3.googleusercontent.com/JmcxdQi-qOpctIvWKgPtrzZdJJK-J3sWE1RsfjZNwshCFgE_9fULcNpuXYTilIR2hjwN\" alt=\"Google Cloud Colab Enterprise logo\">\n",
    "      <br>Run in<br>Colab Enterprise\n",
    "    </a>\n",
    "  </td>      \n",
    "  <td style=\"text-align: center\">\n",
    "    <a href=\"https://github.com/statmike/vertex-ai-mlops/blob/main/Applied%20GenAI/Retrieval/Retrieval%20-%20Cloud%20SQL%20For%20PostgreSQL.ipynb\">\n",
    "      <img src=\"https://cloud.google.com/ml-engine/images/github-logo-32px.png\" alt=\"GitHub logo\">\n",
    "      <br>View on<br>GitHub\n",
    "    </a>\n",
    "  </td>\n",
    "  <td style=\"text-align: center\">\n",
    "    <a href=\"https://console.cloud.google.com/vertex-ai/workbench/deploy-notebook?download_url=https://raw.githubusercontent.com/statmike/vertex-ai-mlops/main/Applied%20GenAI/Retrieval/Retrieval%20-%20Cloud%20SQL%20For%20PostgreSQL.ipynb\">\n",
    "      <img src=\"https://lh3.googleusercontent.com/UiNooY4LUgW_oTvpsNhPpQzsstV5W8F7rYgxgGBD85cWJoLmrOzhVs_ksK_vgx40SHs7jCqkTkCk=e14-rj-sc0xffffff-h130-w32\" alt=\"Vertex AI logo\">\n",
    "      <br>Open in<br>Vertex AI Workbench\n",
    "    </a>\n",
    "  </td>\n",
    "</table>"
   ]
  },
  {
   "cell_type": "markdown",
   "id": "96b0e8e6-d761-4540-9d09-8f0c4ce9a020",
   "metadata": {},
   "source": [
    "# Retrieval - Cloud SQL For PostgreSQL\n",
    "<p style=\"font-size: 45px;\">Code Works - Writeup In Progress</p>\n",
    "\n",
    "In prior workflows, a series of documents was [processed into chunks](../Chunking/readme.md), and for each chunk, [embeddings](../Embeddings/readme.md) were created:\n",
    "\n",
    "- Process: [Large Document Processing - Document AI Layout Parser](../Chunking/Large%20Document%20Processing%20-%20Document%20AI%20Layout%20Parser.ipynb)\n",
    "- Embed: [Vertex AI Text Embeddings API](../Embeddings/Vertex%20AI%20Text%20Embeddings%20API.ipynb)\n",
    "\n",
    "Retrieving chunks for a query involves calculating the embedding for the query and then using similarity metrics to find relevant chunks. A thorough review of similarity matching can be found in [The Math of Similarity](../Embeddings/The%20Math%20of%20Similarity.ipynb) - use dot product! As development moves from experiment to application, the process of storing and computing similarity is migrated to a [retrieval](./readme.md) system. This workflow is part of a [series of workflows exploring many retrieval systems](./readme.md).\n",
    "\n",
    "---\n",
    "\n",
    "**Cloud SQL For Postgres For Storage, Indexing, And Search**\n",
    "\n",
    "[Cloud SQL for PostgreSQL](https://cloud.google.com/sql/docs/postgres) is a fully managed relational database service on Google Cloud that offers compatibility with the popular PostgreSQL open-source database. It provides high availability, scalability, and security for your applications.\n",
    "\n",
    "- **Key Features:**\n",
    "\n",
    "    - **Fully Managed:** Cloud SQL takes care of database management tasks, including patching, backups, and high availability, allowing you to focus on your applications.\n",
    "    - **Scalability:** You can easily scale your Cloud SQL instances to accommodate growing data and traffic demands.\n",
    "    - **Security:** Cloud SQL provides robust security features, including data encryption and network security, to protect your data.\n",
    "    - **PostgreSQL Compatibility:**  Cloud SQL is compatible with standard PostgreSQL, making it easy to migrate existing applications or use familiar tools and frameworks.\n",
    "\n",
    "- **Vector Similarity Search with `pgvector`:**\n",
    "\n",
    "    - Cloud SQL for PostgreSQL supports the [`vector` extension](https://cloud.google.com/sql/docs/postgres/work-with-vectors#required-database-extensions) (based on the open-source [`pgvector` project](https://github.com/pgvector/pgvector)), which adds vector similarity search capabilities to your database.\n",
    "    - You can [store vector embeddings](https://cloud.google.com/sql/docs/postgres/work-with-vectors#store) directly in your PostgreSQL tables.\n",
    "    - `vector` provides multiple distance measures (e.g., Euclidean, cosine distance) for [calculating similarity between vectors](https://cloud.google.com/sql/docs/postgres/work-with-vectors#index).\n",
    "    - You can perform brute-force similarity searches without an index.\n",
    "    - For efficient approximate nearest neighbor (ANN) search, you can [create indexes](https://cloud.google.com/sql/docs/postgres/work-with-vectors#index) using the IVFFlat and HNSW indexes from `pgvector`.\n",
    "\n",
    "---\n",
    "\n",
    "**Use Case Data**\n",
    "\n",
    "Buying a home usually involves borrowing money from a lending institution, typically through a mortgage secured by the home's value. But how do these institutions manage the risks associated with such large loans, and how are lending standards established?\n",
    "\n",
    "In the United States, two government-sponsored enterprises (GSEs) play a vital role in the housing market:\n",
    "\n",
    "- Federal National Mortgage Association ([Fannie Mae](https://www.fanniemae.com/))\n",
    "- Federal Home Loan Mortgage Corporation ([Freddie Mac](https://www.freddiemac.com/))\n",
    "\n",
    "These GSEs purchase mortgages from lenders, enabling those lenders to offer more loans. This process also allows Fannie Mae and Freddie Mac to set standards for mortgages, ensuring they are responsible and borrowers are more likely to repay them. This system makes homeownership more affordable and stabilizes the housing market by maintaining a steady flow of liquidity for lenders and keeping interest rates controlled.\n",
    "\n",
    "However, navigating the complexities of these GSEs and their extensive servicing guides can be challenging.\n",
    "\n",
    "**Approaches**\n",
    "\n",
    "[This series](../readme.md) covers many generative AI workflows. These documents are used directly as long context for Gemini in the workflow [Long Context Retrieval With The Vertex AI Gemini API](../Generate/Long%20Context%20Retrieval%20With%20The%20Vertex%20AI%20Gemini%20API.ipynb). The workflow below uses a [retrieval](./readme.md) approach with the already generated chunks and embeddings."
   ]
  },
  {
   "cell_type": "markdown",
   "id": "be889472-69b0-416c-9cf1-edc9706fa5c5",
   "metadata": {
    "id": "od_UkDpvRmgD"
   },
   "source": [
    "---\n",
    "## Colab Setup\n",
    "\n",
    "When running this notebook in [Colab](https://colab.google/) or [Colab Enterprise](https://cloud.google.com/colab/docs/introduction), this section will authenticate to GCP (follow prompts in the popup) and set the current project for the session."
   ]
  },
  {
   "cell_type": "code",
   "execution_count": 1,
   "id": "21f75ba8-df50-466e-a5ec-f2a6dd88eb26",
   "metadata": {
    "executionInfo": {
     "elapsed": 195,
     "status": "ok",
     "timestamp": 1683726184843,
     "user": {
      "displayName": "Mike Henderson",
      "userId": "07691629187611687318"
     },
     "user_tz": 240
    },
    "id": "8UO9FnqyKBlF",
    "tags": []
   },
   "outputs": [],
   "source": [
    "PROJECT_ID = 'statmike-mlops-349915' # replace with project ID"
   ]
  },
  {
   "cell_type": "code",
   "execution_count": 2,
   "id": "9c325515-1ea0-45cc-82d3-a1bfb1c52155",
   "metadata": {
    "colab": {
     "base_uri": "https://localhost:8080/"
    },
    "executionInfo": {
     "elapsed": 68869,
     "status": "ok",
     "timestamp": 1683726253709,
     "user": {
      "displayName": "Mike Henderson",
      "userId": "07691629187611687318"
     },
     "user_tz": 240
    },
    "id": "N98-KK7LRkjm",
    "outputId": "09ec5008-0def-4e1a-c349-c598ee752f78",
    "tags": []
   },
   "outputs": [],
   "source": [
    "try:\n",
    "    from google.colab import auth\n",
    "    auth.authenticate_user()\n",
    "    !gcloud config set project {PROJECT_ID}\n",
    "except Exception:\n",
    "    pass"
   ]
  },
  {
   "cell_type": "markdown",
   "id": "055a4bd7-7b47-43ef-ba14-636c955e44e3",
   "metadata": {},
   "source": [
    "---\n",
    "## Installs and API Enablement\n",
    "\n",
    "The clients packages may need installing in this environment. "
   ]
  },
  {
   "cell_type": "markdown",
   "id": "410502ee-6fe3-4624-a69a-960ad7105f10",
   "metadata": {},
   "source": [
    "### Installs (If Needed)"
   ]
  },
  {
   "cell_type": "code",
   "execution_count": 3,
   "id": "f4dbdb83-3170-430c-b60d-3d686222a168",
   "metadata": {
    "tags": []
   },
   "outputs": [],
   "source": [
    "# tuples of (import name, install name, min_version)\n",
    "packages = [\n",
    "    ('google.cloud.aiplatform', 'google-cloud-aiplatform', '1.69.0'),\n",
    "    ('google.cloud.sql', 'cloud-sql-python-connector'),\n",
    "    ('sqlalchemy', 'sqlalchemy'),\n",
    "    ('pg8000', 'pg8000'),\n",
    "    ('asyncpg', 'asyncpg')\n",
    "]\n",
    "\n",
    "import importlib\n",
    "install = False\n",
    "for package in packages:\n",
    "    if not importlib.util.find_spec(package[0]):\n",
    "        print(f'installing package {package[1]}')\n",
    "        install = True\n",
    "        !pip install {package[1]} -U -q --user\n",
    "    elif len(package) == 3:\n",
    "        if importlib.metadata.version(package[0]) < package[2]:\n",
    "            print(f'updating package {package[1]}')\n",
    "            install = True\n",
    "            !pip install {package[1]} -U -q --user"
   ]
  },
  {
   "cell_type": "markdown",
   "id": "25374857-7d37-4c84-8cbb-a3c2fc7bb065",
   "metadata": {},
   "source": [
    "### API Enablement"
   ]
  },
  {
   "cell_type": "code",
   "execution_count": 4,
   "id": "9b7300a8-7e3a-4a08-95c0-91186237753f",
   "metadata": {
    "tags": []
   },
   "outputs": [],
   "source": [
    "!gcloud services enable aiplatform.googleapis.com\n",
    "!gcloud services enable sqladmin.googleapis.com"
   ]
  },
  {
   "cell_type": "markdown",
   "id": "157d09ba-9774-495f-8ced-3382bf75be8f",
   "metadata": {},
   "source": [
    "### Restart Kernel (If Installs Occured)\n",
    "\n",
    "After a kernel restart the code submission can start with the next cell after this one."
   ]
  },
  {
   "cell_type": "code",
   "execution_count": 5,
   "id": "f9864153-66c8-43e1-ae96-1179632ccf7d",
   "metadata": {
    "tags": []
   },
   "outputs": [],
   "source": [
    "if install:\n",
    "    import IPython\n",
    "    app = IPython.Application.instance()\n",
    "    app.kernel.do_shutdown(True)\n",
    "    IPython.display.display(IPython.display.Markdown(\"\"\"<div class=\\\"alert alert-block alert-warning\\\">\n",
    "        <b>⚠️ The kernel is going to restart. Please wait until it is finished before continuing to the next step. The previous cells do not need to be run again⚠️</b>\n",
    "        </div>\"\"\"))"
   ]
  },
  {
   "cell_type": "markdown",
   "id": "09a1ab41-cb32-4398-86dc-d30effb88a36",
   "metadata": {
    "id": "appt8-yVRtJ1"
   },
   "source": [
    "---\n",
    "## Setup"
   ]
  },
  {
   "cell_type": "markdown",
   "id": "2cebe11b-9ca1-4f3e-aa78-78640ff01ec8",
   "metadata": {
    "id": "63mx2EozRxFP"
   },
   "source": [
    "Inputs"
   ]
  },
  {
   "cell_type": "code",
   "execution_count": 6,
   "id": "ab2239cd-40ab-416d-bac0-0c6953d911b6",
   "metadata": {
    "colab": {
     "base_uri": "https://localhost:8080/",
     "height": 35
    },
    "executionInfo": {
     "elapsed": 2124,
     "status": "ok",
     "timestamp": 1683726390544,
     "user": {
      "displayName": "Mike Henderson",
      "userId": "07691629187611687318"
     },
     "user_tz": 240
    },
    "id": "xzcoXjM5Rky5",
    "outputId": "b3bdcbc1-70d5-472e-aea2-42c74a42efde",
    "tags": []
   },
   "outputs": [
    {
     "data": {
      "text/plain": [
       "'statmike-mlops-349915'"
      ]
     },
     "execution_count": 6,
     "metadata": {},
     "output_type": "execute_result"
    }
   ],
   "source": [
    "project = !gcloud config get-value project\n",
    "PROJECT_ID = project[0]\n",
    "PROJECT_ID"
   ]
  },
  {
   "cell_type": "code",
   "execution_count": 7,
   "id": "8aa97f05-66e9-4276-b2e6-83b5a91ca50c",
   "metadata": {
    "executionInfo": {
     "elapsed": 2,
     "status": "ok",
     "timestamp": 1683726390712,
     "user": {
      "displayName": "Mike Henderson",
      "userId": "07691629187611687318"
     },
     "user_tz": 240
    },
    "id": "IxWrFtqYMfku",
    "tags": []
   },
   "outputs": [],
   "source": [
    "REGION = 'us-central1'\n",
    "SERIES = 'applied-genai'\n",
    "EXPERIMENT = 'retrieval-cloudsql-postgresql'\n",
    "\n",
    "# Cloud SQL Names\n",
    "CLOUDSQL_INSTANCE_NAME = EXPERIMENT\n",
    "CLOUDSQL_DATABASE_NAME = SERIES\n",
    "CLOUDSQL_TABLE_NAME = EXPERIMENT\n",
    "\n",
    "CLOUDSQL_USER = 'test_db'\n",
    "CLOUDSQL_PASS = 'test_db_pass'"
   ]
  },
  {
   "cell_type": "markdown",
   "id": "52bbf65b-5d29-4a72-84ae-d977b9a743a6",
   "metadata": {
    "id": "LuajVwCiO6Yg"
   },
   "source": [
    "Packages"
   ]
  },
  {
   "cell_type": "code",
   "execution_count": 8,
   "id": "559f6e60-a594-4789-893b-295a8381b670",
   "metadata": {
    "executionInfo": {
     "elapsed": 17761,
     "status": "ok",
     "timestamp": 1683726409304,
     "user": {
      "displayName": "Mike Henderson",
      "userId": "07691629187611687318"
     },
     "user_tz": 240
    },
    "id": "LVC7zzSLRk2C",
    "tags": []
   },
   "outputs": [],
   "source": [
    "import os, json, time, glob, datetime, asyncio\n",
    "\n",
    "import numpy as np\n",
    "\n",
    "# Vertex AI\n",
    "from google.cloud import aiplatform\n",
    "import vertexai.language_models # for embeddings API\n",
    "import vertexai.generative_models # for Gemini Models\n",
    "from vertexai.resources.preview import feature_store\n",
    "\n",
    "# Cloud SQL\n",
    "import google.cloud.sql.connector\n",
    "import pg8000\n",
    "import sqlalchemy\n",
    "import asyncpg\n",
    "import sqlalchemy.ext.asyncio"
   ]
  },
  {
   "cell_type": "code",
   "execution_count": 9,
   "id": "d3fef31f-928f-45f2-a3f4-292ee242232c",
   "metadata": {
    "tags": []
   },
   "outputs": [
    {
     "data": {
      "text/plain": [
       "'1.71.0'"
      ]
     },
     "execution_count": 9,
     "metadata": {},
     "output_type": "execute_result"
    }
   ],
   "source": [
    "aiplatform.__version__"
   ]
  },
  {
   "cell_type": "markdown",
   "id": "5758c07e-f064-40fb-a0ef-de6cbde5cd0a",
   "metadata": {
    "id": "EyAVFG9TO9H-"
   },
   "source": [
    "Clients"
   ]
  },
  {
   "cell_type": "code",
   "execution_count": 10,
   "id": "3b72f3bb-176b-4678-ba6b-df9b2de14997",
   "metadata": {
    "executionInfo": {
     "elapsed": 19,
     "status": "ok",
     "timestamp": 1683726409306,
     "user": {
      "displayName": "Mike Henderson",
      "userId": "07691629187611687318"
     },
     "user_tz": 240
    },
    "id": "L0RPE13LOZce",
    "tags": []
   },
   "outputs": [],
   "source": [
    "# vertex ai clients\n",
    "vertexai.init(project = PROJECT_ID, location = REGION)"
   ]
  },
  {
   "cell_type": "markdown",
   "id": "8579282f-2723-4294-b72a-a65cc0831f44",
   "metadata": {},
   "source": [
    "---\n",
    "## Text & Embeddings For Examples\n",
    "\n",
    "This repository contains a [section for document processing (chunking)](../Chunking/readme.md) that includes an example of processing mulitple large pdfs (over 1000 pages) into chunks: [Large Document Processing - Document AI Layout Parser](../Chunking/Large%20Document%20Processing%20-%20Document%20AI%20Layout%20Parser.ipynb).  The chunks of text from that workflow are stored with this repository and loaded by another companion workflow that augments the chunks with text embeddings: [Vertex AI Text Embeddings API](../Embeddings/Vertex%20AI%20Text%20Embeddings%20API.ipynb).\n",
    "\n",
    "The following code will load the version of the chunks that includes text embeddings and prepare it for a local example of retrival augmented generation."
   ]
  },
  {
   "cell_type": "markdown",
   "id": "1e12cbe2-3ca6-4656-9e73-c0db5c63bf50",
   "metadata": {},
   "source": [
    "### Get The Documents\n",
    "\n",
    "If you are working from a clone of this notebooks [repository](https://github.com/statmike/vertex-ai-mlops) then the documents are already present. The following cell checks for the documents folder and if it is missing gets it (`git clone`):"
   ]
  },
  {
   "cell_type": "code",
   "execution_count": 11,
   "id": "6f4e77ed-43f7-42be-9575-6a491c0d6cba",
   "metadata": {
    "tags": []
   },
   "outputs": [],
   "source": [
    "local_dir = '../Embeddings/files/embeddings-api'"
   ]
  },
  {
   "cell_type": "code",
   "execution_count": 12,
   "id": "63ebe7c3-e72c-4394-91c3-d60c05bc0ce2",
   "metadata": {
    "tags": []
   },
   "outputs": [
    {
     "name": "stdout",
     "output_type": "stream",
     "text": [
      "Documents Found in folder `../Embeddings/files/embeddings-api`\n"
     ]
    }
   ],
   "source": [
    "if not os.path.exists(local_dir):\n",
    "    print('Retrieving documents...')\n",
    "    parent_dir = os.path.dirname(local_dir)\n",
    "    temp_dir = os.path.join(parent_dir, 'temp')\n",
    "    if not os.path.exists(temp_dir):\n",
    "        os.makedirs(temp_dir)\n",
    "    !git clone https://www.github.com/statmike/vertex-ai-mlops {temp_dir}/vertex-ai-mlops\n",
    "    shutil.copytree(f'{temp_dir}/vertex-ai-mlops/Applied GenAI/Embeddings/files/embeddings-api', local_dir)\n",
    "    shutil.rmtree(temp_dir)\n",
    "    print(f'Documents are now in folder `{local_dir}`')\n",
    "else:\n",
    "    print(f'Documents Found in folder `{local_dir}`')             "
   ]
  },
  {
   "cell_type": "markdown",
   "id": "33e68a84-9f88-4590-9ff1-e01c8a953ccf",
   "metadata": {},
   "source": [
    "### Load The Chunks"
   ]
  },
  {
   "cell_type": "code",
   "execution_count": 13,
   "id": "58d04382-a74a-44ac-8824-3b46c86aa148",
   "metadata": {
    "tags": []
   },
   "outputs": [
    {
     "data": {
      "text/plain": [
       "['../Embeddings/files/embeddings-api/large-files-chunk-embeddings-0000.jsonl',\n",
       " '../Embeddings/files/embeddings-api/large-files-chunk-embeddings-0001.jsonl',\n",
       " '../Embeddings/files/embeddings-api/large-files-chunk-embeddings-0002.jsonl',\n",
       " '../Embeddings/files/embeddings-api/large-files-chunk-embeddings-0003.jsonl',\n",
       " '../Embeddings/files/embeddings-api/large-files-chunk-embeddings-0004.jsonl',\n",
       " '../Embeddings/files/embeddings-api/large-files-chunk-embeddings-0005.jsonl',\n",
       " '../Embeddings/files/embeddings-api/large-files-chunk-embeddings-0006.jsonl',\n",
       " '../Embeddings/files/embeddings-api/large-files-chunk-embeddings-0007.jsonl',\n",
       " '../Embeddings/files/embeddings-api/large-files-chunk-embeddings-0008.jsonl',\n",
       " '../Embeddings/files/embeddings-api/large-files-chunk-embeddings-0009.jsonl']"
      ]
     },
     "execution_count": 13,
     "metadata": {},
     "output_type": "execute_result"
    }
   ],
   "source": [
    "jsonl_files = glob.glob(f\"{local_dir}/large-files*.jsonl\")\n",
    "jsonl_files.sort()\n",
    "jsonl_files"
   ]
  },
  {
   "cell_type": "code",
   "execution_count": 14,
   "id": "a54c6c96-6c28-49bb-80be-5d46797dfe77",
   "metadata": {
    "tags": []
   },
   "outputs": [
    {
     "data": {
      "text/plain": [
       "9040"
      ]
     },
     "execution_count": 14,
     "metadata": {},
     "output_type": "execute_result"
    }
   ],
   "source": [
    "chunks = []\n",
    "for file in jsonl_files:\n",
    "    with open(file, 'r') as f:\n",
    "        chunks.extend([json.loads(line) for line in f])\n",
    "len(chunks)"
   ]
  },
  {
   "cell_type": "markdown",
   "id": "a70115ec-6d60-41df-b7e6-9e2e5b463b1d",
   "metadata": {},
   "source": [
    "### Review A Chunk"
   ]
  },
  {
   "cell_type": "code",
   "execution_count": 15,
   "id": "fc20423e-e3d6-4e90-9e98-a5248508c82d",
   "metadata": {
    "tags": []
   },
   "outputs": [
    {
     "data": {
      "text/plain": [
       "dict_keys(['instance', 'predictions', 'status'])"
      ]
     },
     "execution_count": 15,
     "metadata": {},
     "output_type": "execute_result"
    }
   ],
   "source": [
    "chunks[0].keys()"
   ]
  },
  {
   "cell_type": "code",
   "execution_count": 16,
   "id": "1955ea39-4ffc-4d30-b653-a5a9911f2dab",
   "metadata": {
    "tags": []
   },
   "outputs": [
    {
     "data": {
      "text/plain": [
       "'fannie_part_0_c17'"
      ]
     },
     "execution_count": 16,
     "metadata": {},
     "output_type": "execute_result"
    }
   ],
   "source": [
    "chunks[0]['instance']['chunk_id']"
   ]
  },
  {
   "cell_type": "code",
   "execution_count": 17,
   "id": "3537982c-4a0e-456c-a652-19ea7507873b",
   "metadata": {
    "tags": []
   },
   "outputs": [
    {
     "name": "stdout",
     "output_type": "stream",
     "text": [
      "# Selling Guide Fannie Mae Single Family\n",
      "\n",
      "## Fannie Mae Copyright Notice\n",
      "\n",
      "### Fannie Mae Copyright Notice\n",
      "\n",
      "|-|\n",
      "| Section B3-4.2, Verification of Depository Assets 402 |\n",
      "| B3-4.2-01, Verification of Deposits and Assets (05/04/2022) 403 |\n",
      "| B3-4.2-02, Depository Accounts (12/14/2022) 405 |\n",
      "| B3-4.2-03, Individual Development Accounts (02/06/2019) 408 |\n",
      "| B3-4.2-04, Pooled Savings (Community Savings Funds) (04/01/2009) 411 |\n",
      "| B3-4.2-05, Foreign Assets (05/04/2022) 411 |\n",
      "| Section B3-4.3, Verification of Non-Depository Assets 412 |\n",
      "| B3-4.3-01, Stocks, Stock Options, Bonds, and Mutual Funds (06/30/2015) 412 |\n",
      "| B3-4.3-02, Trust Accounts (04/01/2009) 413 |\n",
      "| B3-4.3-03, Retirement Accounts (06/30/2015) 414 |\n",
      "| B3-4.3-04, Personal Gifts (09/06/2023) 415 |\n",
      "| B3-4.3-05, Gifts of Equity (10/07/2020) 418 |\n",
      "| B3-4.3-06, Grants and Lender Contributions (12/14/2022) 419 |\n",
      "| B3-4.3-07, Disaster Relief Grants or Loans (04/01/2009) 423 |\n",
      "| B3-4.3-08, Employer Assistance (09/29/2015) 423 |\n",
      "| B3-4.3-09, Earnest Money Deposit (05/04/2022) 425 |\n",
      "| B3-4.3-10, Anticipated Sales Proceeds (02/23/2016) B3-4.3-11, Trade Equity (12/16/2020) 426 428 |\n",
      "| B3-4.3-12, Rent-Related Credits (08/07/2024) 429 |\n",
      "| B3-4.3-13, Sweat Equity (04/15/2014) 430 |\n",
      "| B3-4.3-14, Bridge/Swing Loans (04/01/2009) 431 |\n",
      "| B3-4.3-15, Borrowed Funds Secured by an Asset (10/30/2009) 431 |\n",
      "|  |\n",
      "\n",
      "\n"
     ]
    }
   ],
   "source": [
    "print(chunks[0]['instance']['content'])"
   ]
  },
  {
   "cell_type": "code",
   "execution_count": 18,
   "id": "49f06293-a439-436b-bc93-cd6cd3fb4aff",
   "metadata": {
    "tags": []
   },
   "outputs": [
    {
     "data": {
      "text/plain": [
       "[0.031277116388082504,\n",
       " 0.03056905046105385,\n",
       " 0.010865348391234875,\n",
       " 0.0623614676296711,\n",
       " 0.03228681534528732,\n",
       " 0.05066155269742012,\n",
       " 0.046544693410396576,\n",
       " 0.05509665608406067,\n",
       " -0.014074751175940037,\n",
       " 0.008380400016903877]"
      ]
     },
     "execution_count": 18,
     "metadata": {},
     "output_type": "execute_result"
    }
   ],
   "source": [
    "chunks[0]['predictions'][0]['embeddings']['values'][0:10]"
   ]
  },
  {
   "cell_type": "markdown",
   "id": "f977358d-d9ea-4172-9eca-66079bb6087d",
   "metadata": {},
   "source": [
    "### Prepare Chunk Structure\n",
    "\n",
    "Make a list of dictionaries with information for each chunk:"
   ]
  },
  {
   "cell_type": "code",
   "execution_count": 19,
   "id": "be9fa708-130c-4343-b179-dbde0b09a972",
   "metadata": {
    "tags": []
   },
   "outputs": [],
   "source": [
    "content_chunks = [\n",
    "    dict(\n",
    "        gse = chunk['instance']['gse'],\n",
    "        chunk_id = chunk['instance']['chunk_id'],\n",
    "        content = chunk['instance']['content'],\n",
    "        embedding = chunk['predictions'][0]['embeddings']['values']\n",
    "    ) for chunk in chunks\n",
    "]"
   ]
  },
  {
   "cell_type": "markdown",
   "id": "d6619605-7b10-444e-a131-db06e56a4be8",
   "metadata": {},
   "source": [
    "### Query Embedding\n",
    "\n",
    "Create a query, or prompt, and get the embedding for it:\n",
    "\n",
    "Connect to models for text embeddings. Learn more about the model API:\n",
    "- [Vertex AI Text Embeddings API](../Embeddings/Vertex%20AI%20Text%20Embeddings%20API.ipynb)"
   ]
  },
  {
   "cell_type": "code",
   "execution_count": 20,
   "id": "3da5d30c-3dfb-42ba-a133-83dceb252787",
   "metadata": {
    "tags": []
   },
   "outputs": [],
   "source": [
    "question = \"Does a lender have to perform servicing functions directly?\""
   ]
  },
  {
   "cell_type": "code",
   "execution_count": 21,
   "id": "7992c26f-d058-4920-80a3-a157b88733e4",
   "metadata": {
    "tags": []
   },
   "outputs": [],
   "source": [
    "embedder = vertexai.language_models.TextEmbeddingModel.from_pretrained('text-embedding-004')"
   ]
  },
  {
   "cell_type": "code",
   "execution_count": 22,
   "id": "bbe6fda7-9cea-49a2-9e2f-9222d50677af",
   "metadata": {
    "tags": []
   },
   "outputs": [
    {
     "data": {
      "text/plain": [
       "[-0.0005117303808219731,\n",
       " 0.009651427157223225,\n",
       " 0.01768726110458374,\n",
       " 0.014538003131747246,\n",
       " -0.01829824410378933,\n",
       " 0.027877431362867355,\n",
       " -0.021124685183167458,\n",
       " 0.008830446749925613,\n",
       " -0.02669006586074829,\n",
       " 0.06414774805307388]"
      ]
     },
     "execution_count": 22,
     "metadata": {},
     "output_type": "execute_result"
    }
   ],
   "source": [
    "question_embedding = embedder.get_embeddings([question])[0].values\n",
    "question_embedding[0:10]"
   ]
  },
  {
   "cell_type": "markdown",
   "id": "0b6ec209-b34a-4837-8c54-a991ad831764",
   "metadata": {},
   "source": [
    "---\n",
    "## Setup Cloud SQL For PostgreSQL\n",
    "\n",
    "Creating an instance.  While failover replicas and read-only replicas are possible this example uses a single instance server with minimum possible specifications.  Creating an instance also includes choose a Cloud SQL edition.\n",
    "\n",
    "https://cloud.google.com/sql/docs/postgres/editions-intro#edition-faqs\n",
    "\n",
    "https://cloud.google.com/sql/pricing#mysql-pg-pricing"
   ]
  },
  {
   "cell_type": "markdown",
   "id": "30aa1f04-d797-43ff-b6b7-1f4a6f731c0a",
   "metadata": {},
   "source": [
    "### Create/Retrieve Instance\n",
    "\n",
    "https://cloud.google.com/sql/docs/postgres/create-instance\n",
    "\n",
    "https://cloud.google.com/sql/docs/postgres/instance-settings\n",
    "\n",
    "https://cloud.google.com/sdk/gcloud/reference/sql/instances"
   ]
  },
  {
   "cell_type": "code",
   "execution_count": 23,
   "id": "ce3e61b0-7aeb-44af-addd-0a1fdbd6fe62",
   "metadata": {
    "tags": []
   },
   "outputs": [
    {
     "name": "stdout",
     "output_type": "stream",
     "text": [
      "Found the instance: retrieval-cloudsql-postgresql\n"
     ]
    }
   ],
   "source": [
    "list_instances = !gcloud sql instances list --format=\"json(name)\"\n",
    "list_instances = json.loads(''.join(list_instances))\n",
    "\n",
    "if CLOUDSQL_INSTANCE_NAME in [i['name'] for i in list_instances]:\n",
    "    instance_describe = !gcloud sql instances describe $CLOUDSQL_INSTANCE_NAME --format=json\n",
    "    instance_describe = json.loads(''.join(instance_describe))\n",
    "    print(f\"Found the instance: {instance_describe['name']}\")\n",
    "else:\n",
    "    print('Creating an instance...')\n",
    "    instance_create = !gcloud sql instances create $CLOUDSQL_INSTANCE_NAME \\\n",
    "        --database-version=POSTGRES_15 \\\n",
    "        --tier=db-g1-small \\\n",
    "        --region=us-central1 \\\n",
    "        --quiet\n",
    "    instance_describe = !gcloud sql instances describe $CLOUDSQL_INSTANCE_NAME --format=json\n",
    "    instance_describe = json.loads(''.join(instance_describe))\n",
    "    print(f\"Created the instance: {instance_describe['name']}\")"
   ]
  },
  {
   "cell_type": "code",
   "execution_count": 24,
   "id": "44308346-48cd-446e-8fe6-de60c4d700f1",
   "metadata": {
    "tags": []
   },
   "outputs": [],
   "source": [
    "#instance_describe"
   ]
  },
  {
   "cell_type": "markdown",
   "id": "fe434c1c-f590-48b4-8f09-9a18284088f9",
   "metadata": {},
   "source": [
    "### Create User For This Workflow\n",
    "\n",
    "This workflow is a demonstration of capabilities.  \n",
    "\n",
    "https://cloud.google.com/sql/docs/postgres/users"
   ]
  },
  {
   "cell_type": "code",
   "execution_count": 25,
   "id": "09d73874-7a90-4032-b413-aef87e3db019",
   "metadata": {
    "tags": []
   },
   "outputs": [
    {
     "name": "stdout",
     "output_type": "stream",
     "text": [
      "Found the user: test_db\n"
     ]
    }
   ],
   "source": [
    "list_users = !gcloud sql users list --format=\"json\" --instance=$CLOUDSQL_INSTANCE_NAME\n",
    "list_users = json.loads(''.join(list_users))\n",
    "\n",
    "if CLOUDSQL_USER in [i['name'] for i in list_users]:\n",
    "    user_describe = !gcloud sql users describe $CLOUDSQL_USER --instance=$CLOUDSQL_INSTANCE_NAME --format=json\n",
    "    user_describe = json.loads(''.join(user_describe))\n",
    "    print(f\"Found the user: {user_describe['name']}\")\n",
    "else:\n",
    "    print('Creating the user...')\n",
    "    user_create = !gcloud sql users create $CLOUDSQL_USER \\\n",
    "        --instance=$CLOUDSQL_INSTANCE_NAME \\\n",
    "        --password=$CLOUDSQL_PASS\n",
    "    user_describe = !gcloud sql users describe $CLOUDSQL_USER --instance=$CLOUDSQL_INSTANCE_NAME --format=json\n",
    "    user_describe = json.loads(''.join(user_describe))\n",
    "    print(f\"Created the user: {user_describe['name']}\")"
   ]
  },
  {
   "cell_type": "code",
   "execution_count": 26,
   "id": "6872b6ed-9799-4254-838f-ce0ce4d17834",
   "metadata": {
    "tags": []
   },
   "outputs": [],
   "source": [
    "#user_describe"
   ]
  },
  {
   "cell_type": "markdown",
   "id": "8816511e-31d8-4a9f-953b-c9c229cd88e7",
   "metadata": {},
   "source": [
    "### Connection To Databases\n",
    "\n",
    "Cloud SQL For PostgreSQL is postgres and has a default database named postgres\n",
    "\n",
    "There are many ways to connect to a database: https://cloud.google.com/sql/docs/postgres/connect-overview\n",
    "\n",
    "Here we want to use Python and will use the Cloud SQL Language Connectors: https://cloud.google.com/sql/docs/postgres/language-connectors\n",
    "\n",
    "We will create sync and async connectors: https://cloud.google.com/sql/docs/postgres/connect-connectors#setup-and-usage\n",
    "\n",
    "Connections have three parts:\n",
    "- a connection tool, in this case provided by: https://github.com/GoogleCloudPlatform/cloud-sql-python-connector\n",
    "- a driver to create a connection pool, pg8000 (sync) and asyncpg (async)\n",
    "- a client library that can use connection pools to execute SQL queries, SQLAlchemy"
   ]
  },
  {
   "cell_type": "markdown",
   "id": "19c6661f-d845-44fb-a581-557bc10eadf5",
   "metadata": {},
   "source": [
    "#### Connection Tool"
   ]
  },
  {
   "cell_type": "code",
   "execution_count": 27,
   "id": "16e70aaa-e7a5-4391-98c8-65ce393e24a5",
   "metadata": {
    "tags": []
   },
   "outputs": [],
   "source": [
    "sync_connector = google.cloud.sql.connector.Connector()\n",
    "async_connector = await google.cloud.sql.connector.create_async_connector()"
   ]
  },
  {
   "cell_type": "markdown",
   "id": "957af4b6-f8aa-4a06-9d0d-673af8ca15b4",
   "metadata": {
    "tags": []
   },
   "source": [
    "#### Connection"
   ]
  },
  {
   "cell_type": "code",
   "execution_count": 28,
   "id": "2f117aad-b15b-4811-b42d-a8aeed9fdab6",
   "metadata": {
    "tags": []
   },
   "outputs": [],
   "source": [
    "def get_sync_conn(\n",
    "    connector: google.cloud.sql.connector.Connector,\n",
    "    db: str\n",
    "):\n",
    "    def getconn():\n",
    "        conn = connector.connect(\n",
    "            instance_describe['connectionName'],\n",
    "            \"pg8000\",\n",
    "            user = CLOUDSQL_USER,\n",
    "            password = CLOUDSQL_PASS,\n",
    "            db = db\n",
    "        )\n",
    "        return conn\n",
    "    return getconn"
   ]
  },
  {
   "cell_type": "code",
   "execution_count": 29,
   "id": "deb28250-edda-4f25-bb7e-89dd21e8c27f",
   "metadata": {
    "tags": []
   },
   "outputs": [],
   "source": [
    "async def get_async_conn(\n",
    "    connector: google.cloud.sql.connector.Connector,\n",
    "    db: str\n",
    "):\n",
    "    async def getconn():\n",
    "        conn = await connector.connect_async(\n",
    "            instance_describe['connectionName'],\n",
    "            \"asyncpg\",\n",
    "            user = CLOUDSQL_USER,\n",
    "            password = CLOUDSQL_PASS,\n",
    "            db = db\n",
    "        )\n",
    "        return conn\n",
    "    return getconn"
   ]
  },
  {
   "cell_type": "markdown",
   "id": "86132c57-5c04-42f7-9c1b-89662b83bda9",
   "metadata": {
    "tags": []
   },
   "source": [
    "#### Connection Pool"
   ]
  },
  {
   "cell_type": "code",
   "execution_count": 30,
   "id": "a907e700-5627-4779-afed-ae80ae5f7f30",
   "metadata": {
    "tags": []
   },
   "outputs": [],
   "source": [
    "def get_sync_pool(\n",
    "    connector: google.cloud.sql.connector.Connector,\n",
    "    db: str\n",
    ") -> sqlalchemy.engine.Engine:\n",
    "\n",
    "    pool = sqlalchemy.create_engine(\n",
    "        \"postgresql+pg8000://\",\n",
    "        creator = get_sync_conn(connector, db)\n",
    "    )\n",
    "    pool.dialect.description_encoding = None\n",
    "    pool.execution_options(isolation_level=\"AUTOCOMMIT\")\n",
    "    return pool"
   ]
  },
  {
   "cell_type": "code",
   "execution_count": 31,
   "id": "b950bc58-7cb1-40da-9610-e133e693c049",
   "metadata": {
    "tags": []
   },
   "outputs": [],
   "source": [
    "async def get_async_pool(\n",
    "    connector: google.cloud.sql.connector.Connector,\n",
    "    db: str\n",
    ") -> sqlalchemy.engine.Engine:\n",
    "\n",
    "    pool = sqlalchemy.ext.asyncio.create_async_engine(\n",
    "        \"postgresql+asyncpg://\",\n",
    "        async_creator = await get_async_conn(connector, db)\n",
    "    )\n",
    "    pool.dialect.description_encoding = None\n",
    "    pool.execution_options(isolation_level=\"AUTOCOMMIT\")\n",
    "    return pool"
   ]
  },
  {
   "cell_type": "code",
   "execution_count": 32,
   "id": "a96f5957-1568-478f-8a6d-6a138a00c007",
   "metadata": {
    "tags": []
   },
   "outputs": [],
   "source": [
    "sync_pool = get_sync_pool(sync_connector, 'postgres')"
   ]
  },
  {
   "cell_type": "code",
   "execution_count": 33,
   "id": "91606de8-97b4-4230-a45a-22ee69b88e1b",
   "metadata": {
    "tags": []
   },
   "outputs": [],
   "source": [
    "async_pool = await get_async_pool(async_connector, 'postgres')"
   ]
  },
  {
   "cell_type": "markdown",
   "id": "0beed7d3-5c41-4d40-86e8-e2f76e97c9dc",
   "metadata": {
    "tags": []
   },
   "source": [
    "#### Query Orchestrator\n",
    "\n",
    "Use the a pool as a context manager to orchstrate the query"
   ]
  },
  {
   "cell_type": "code",
   "execution_count": 34,
   "id": "7ca638ee-927a-4106-84ed-ec7fba9abe48",
   "metadata": {
    "tags": []
   },
   "outputs": [],
   "source": [
    "def run_query(query, pool = None, connector = sync_connector):\n",
    "    # get the current connnection pool:\n",
    "    if pool is None:\n",
    "        pool = sync_pool\n",
    "        \n",
    "    # run the query and get the response as 'result'\n",
    "    with pool.connect().execution_options(isolation_level=\"AUTOCOMMIT\") as connection:\n",
    "        result = connection.execute(query)\n",
    "        #connector.close()\n",
    "        \n",
    "    # prepare the response\n",
    "    rows = []\n",
    "    try:\n",
    "        for row in result:\n",
    "            rows.append(dict(zip(result.keys(), row)))\n",
    "    except Exception:\n",
    "        pass\n",
    "    \n",
    "    # return the response\n",
    "    return rows[0] if len(rows) == 1 else rows"
   ]
  },
  {
   "cell_type": "code",
   "execution_count": 35,
   "id": "5d9ab7bf-55a0-4af3-a436-611a208cd3bc",
   "metadata": {
    "tags": []
   },
   "outputs": [],
   "source": [
    "async def async_run_query(query, pool = None, connector = async_connector):\n",
    "    # get the current connection pool\n",
    "    if pool is None:\n",
    "        pool = async_pool\n",
    "        \n",
    "    # run the query and get the response as 'result'\n",
    "    async with pool.connect() as connection:\n",
    "        result = await connection.execute(query)\n",
    "        await connection.commit()\n",
    "        #await connector.close_async()\n",
    "        \n",
    "    # prepare the response\n",
    "    rows = []\n",
    "    try:\n",
    "        for row in result:\n",
    "            rows.append(dict(zip(result.keys(), row)))\n",
    "    except Exception:\n",
    "        pass\n",
    "    \n",
    "    # return the response\n",
    "    return rows[0] if len(rows) == 1 else rows"
   ]
  },
  {
   "cell_type": "markdown",
   "id": "465acd60-024f-4023-8fac-ebc12ff37559",
   "metadata": {
    "tags": []
   },
   "source": [
    "### Test Query\n",
    "\n",
    "When submitting SQL statements either of the connectors should work for DML (SELECT, INSERT, DELETE, UPDATE) but only the synchronous connector appears to work for DDL (CREATE, ALTER, DROP) statements."
   ]
  },
  {
   "cell_type": "code",
   "execution_count": 36,
   "id": "8ef9cd63-bd5b-44d6-8cab-4dcfbb26bb03",
   "metadata": {
    "tags": []
   },
   "outputs": [],
   "source": [
    "query = sqlalchemy.text(\"SELECT 'Success' as did_it_work\")"
   ]
  },
  {
   "cell_type": "code",
   "execution_count": 37,
   "id": "eb36ca9d-bf8d-4a84-845b-f2f226fd2326",
   "metadata": {
    "tags": []
   },
   "outputs": [
    {
     "data": {
      "text/plain": [
       "{'did_it_work': 'Success'}"
      ]
     },
     "execution_count": 37,
     "metadata": {},
     "output_type": "execute_result"
    }
   ],
   "source": [
    "run_query(query)"
   ]
  },
  {
   "cell_type": "code",
   "execution_count": 38,
   "id": "0a04bc25-1269-464e-9137-0a8fff09b4db",
   "metadata": {
    "tags": []
   },
   "outputs": [
    {
     "data": {
      "text/plain": [
       "{'did_it_work': 'Success'}"
      ]
     },
     "execution_count": 38,
     "metadata": {},
     "output_type": "execute_result"
    }
   ],
   "source": [
    "await async_run_query(query)"
   ]
  },
  {
   "cell_type": "markdown",
   "id": "af37a67e-d2e5-4688-b88f-449371fccc3a",
   "metadata": {},
   "source": [
    "---\n",
    "## Working With Cloud SQL For PostgreSQL"
   ]
  },
  {
   "cell_type": "markdown",
   "id": "1d3536a9-d6b2-43f5-abe5-1a7e9f6a5903",
   "metadata": {
    "tags": []
   },
   "source": [
    "### Create A Database"
   ]
  },
  {
   "cell_type": "code",
   "execution_count": 39,
   "id": "19bc8ec7-54d7-47b6-a122-fe5363ca6a2f",
   "metadata": {
    "tags": []
   },
   "outputs": [
    {
     "data": {
      "text/plain": [
       "[]"
      ]
     },
     "execution_count": 39,
     "metadata": {},
     "output_type": "execute_result"
    }
   ],
   "source": [
    "query = sqlalchemy.text(f\"SELECT datname FROM pg_database WHERE datname = '{CLOUDSQL_DATABASE_NAME}'\")\n",
    "result = run_query(query)\n",
    "result"
   ]
  },
  {
   "cell_type": "code",
   "execution_count": 40,
   "id": "a87117d8-7075-4249-bd3d-bad2261eb67d",
   "metadata": {
    "tags": []
   },
   "outputs": [],
   "source": [
    "if not result:\n",
    "    query = sqlalchemy.text(f\"CREATE DATABASE \\\"{CLOUDSQL_DATABASE_NAME}\\\"\")\n",
    "    run_query(query)"
   ]
  },
  {
   "cell_type": "code",
   "execution_count": 41,
   "id": "06b317cd-58ea-475c-9688-6e847227725d",
   "metadata": {
    "tags": []
   },
   "outputs": [
    {
     "data": {
      "text/plain": [
       "{'oid': 34640,\n",
       " 'datname': 'applied-genai',\n",
       " 'datdba': 16538,\n",
       " 'encoding': 6,\n",
       " 'datlocprovider': 'c',\n",
       " 'datistemplate': False,\n",
       " 'datallowconn': True,\n",
       " 'datconnlimit': -1,\n",
       " 'datfrozenxid': 716,\n",
       " 'datminmxid': 1,\n",
       " 'dattablespace': 1663,\n",
       " 'datcollate': 'en_US.UTF8',\n",
       " 'datctype': 'en_US.UTF8',\n",
       " 'daticulocale': None,\n",
       " 'datcollversion': '2.19',\n",
       " 'datacl': None}"
      ]
     },
     "execution_count": 41,
     "metadata": {},
     "output_type": "execute_result"
    }
   ],
   "source": [
    "query = sqlalchemy.text(f\"SELECT * FROM pg_database WHERE datname = '{CLOUDSQL_DATABASE_NAME}'\")\n",
    "run_query(query)"
   ]
  },
  {
   "cell_type": "markdown",
   "id": "06e31414-c334-400d-b7d3-6444fae6a3f5",
   "metadata": {},
   "source": [
    "### Move Connection To New Database"
   ]
  },
  {
   "cell_type": "code",
   "execution_count": 42,
   "id": "60df80cc-065c-4a34-b601-f3140eb799dd",
   "metadata": {
    "tags": []
   },
   "outputs": [
    {
     "data": {
      "text/plain": [
       "{'current_database': 'postgres'}"
      ]
     },
     "execution_count": 42,
     "metadata": {},
     "output_type": "execute_result"
    }
   ],
   "source": [
    "run_query(sqlalchemy.text('SELECT current_database()'))"
   ]
  },
  {
   "cell_type": "code",
   "execution_count": 43,
   "id": "7d87c470-6e6e-47c2-94a1-016f15369cce",
   "metadata": {
    "tags": []
   },
   "outputs": [
    {
     "data": {
      "text/plain": [
       "{'current_database': 'postgres'}"
      ]
     },
     "execution_count": 43,
     "metadata": {},
     "output_type": "execute_result"
    }
   ],
   "source": [
    "await async_run_query(sqlalchemy.text('SELECT current_database()'))"
   ]
  },
  {
   "cell_type": "code",
   "execution_count": 44,
   "id": "dd48a032-1363-4306-bcc2-cfda6a7a3295",
   "metadata": {
    "tags": []
   },
   "outputs": [],
   "source": [
    "sync_pool.dispose()\n",
    "sync_connector.close()\n",
    "sync_connector = google.cloud.sql.connector.Connector()\n",
    "sync_pool = get_sync_pool(sync_connector, CLOUDSQL_DATABASE_NAME)\n",
    "\n",
    "await async_pool.dispose()\n",
    "await async_connector.close_async()\n",
    "async_connector = await google.cloud.sql.connector.create_async_connector()\n",
    "async_pool = await get_async_pool(async_connector, CLOUDSQL_DATABASE_NAME)"
   ]
  },
  {
   "cell_type": "code",
   "execution_count": 45,
   "id": "8ae0099a-7ac3-4e73-b776-ea8d03c0047e",
   "metadata": {
    "tags": []
   },
   "outputs": [
    {
     "data": {
      "text/plain": [
       "{'current_database': 'applied-genai'}"
      ]
     },
     "execution_count": 45,
     "metadata": {},
     "output_type": "execute_result"
    }
   ],
   "source": [
    "run_query(sqlalchemy.text('SELECT current_database()'))"
   ]
  },
  {
   "cell_type": "code",
   "execution_count": 46,
   "id": "dfb4130b-32c6-4766-a434-a6da18b50216",
   "metadata": {
    "tags": []
   },
   "outputs": [
    {
     "data": {
      "text/plain": [
       "{'current_database': 'applied-genai'}"
      ]
     },
     "execution_count": 46,
     "metadata": {},
     "output_type": "execute_result"
    }
   ],
   "source": [
    "await async_run_query(sqlalchemy.text('SELECT current_database()'))"
   ]
  },
  {
   "cell_type": "markdown",
   "id": "e630ffed-bd08-4902-b38b-2ae1911e9a84",
   "metadata": {},
   "source": [
    "### Create Table"
   ]
  },
  {
   "cell_type": "code",
   "execution_count": 47,
   "id": "d9451a9a-3971-4cc8-a538-fbe262d33de7",
   "metadata": {
    "tags": []
   },
   "outputs": [
    {
     "data": {
      "text/plain": [
       "[]"
      ]
     },
     "execution_count": 47,
     "metadata": {},
     "output_type": "execute_result"
    }
   ],
   "source": [
    "result = run_query(sqlalchemy.text(f\"SELECT * from information_schema.tables WHERE table_name = '{CLOUDSQL_TABLE_NAME}'\"))\n",
    "result"
   ]
  },
  {
   "cell_type": "code",
   "execution_count": 48,
   "id": "f405b3da-3273-4eee-b803-ba24dc9257f2",
   "metadata": {
    "tags": []
   },
   "outputs": [
    {
     "data": {
      "text/plain": [
       "[]"
      ]
     },
     "execution_count": 48,
     "metadata": {},
     "output_type": "execute_result"
    }
   ],
   "source": [
    "run_query(sqlalchemy.text(f\"DROP TABLE IF EXISTS \\\"{CLOUDSQL_TABLE_NAME}\\\"\"))"
   ]
  },
  {
   "cell_type": "code",
   "execution_count": 49,
   "id": "0e09e6de-ea35-4869-b71d-7cbca6c7cddf",
   "metadata": {
    "tags": []
   },
   "outputs": [
    {
     "data": {
      "text/plain": [
       "[]"
      ]
     },
     "execution_count": 49,
     "metadata": {},
     "output_type": "execute_result"
    }
   ],
   "source": [
    "run_query(\n",
    "    sqlalchemy.text(f\"\"\"\n",
    "            CREATE TABLE IF NOT EXISTS \\\"{CLOUDSQL_TABLE_NAME}\\\" (\n",
    "                chunk_id VARCHAR(100) NOT NULL PRIMARY KEY,\n",
    "                gse VARCHAR(50),\n",
    "                content TEXT,\n",
    "                embedding REAL[]\n",
    "            );\n",
    "        \"\"\"\n",
    "    )\n",
    ")"
   ]
  },
  {
   "cell_type": "code",
   "execution_count": 50,
   "id": "6c41fe04-56ae-400d-91d9-e8b233dcae86",
   "metadata": {
    "tags": []
   },
   "outputs": [
    {
     "data": {
      "text/plain": [
       "{'table_catalog': 'applied-genai',\n",
       " 'table_schema': 'public',\n",
       " 'table_name': 'retrieval-cloudsql-postgresql',\n",
       " 'table_type': 'BASE TABLE',\n",
       " 'self_referencing_column_name': None,\n",
       " 'reference_generation': None,\n",
       " 'user_defined_type_catalog': None,\n",
       " 'user_defined_type_schema': None,\n",
       " 'user_defined_type_name': None,\n",
       " 'is_insertable_into': 'YES',\n",
       " 'is_typed': 'NO',\n",
       " 'commit_action': None}"
      ]
     },
     "execution_count": 50,
     "metadata": {},
     "output_type": "execute_result"
    }
   ],
   "source": [
    "result = run_query(sqlalchemy.text(f\"SELECT * from information_schema.tables WHERE table_name = '{CLOUDSQL_TABLE_NAME}'\"))\n",
    "result"
   ]
  },
  {
   "cell_type": "code",
   "execution_count": 51,
   "id": "321364c1-94ae-454b-a2a7-213b53f68080",
   "metadata": {
    "tags": []
   },
   "outputs": [
    {
     "data": {
      "text/plain": [
       "[{'column_name': 'embedding', 'data_type': 'ARRAY'},\n",
       " {'column_name': 'chunk_id', 'data_type': 'character varying'},\n",
       " {'column_name': 'gse', 'data_type': 'character varying'},\n",
       " {'column_name': 'content', 'data_type': 'text'}]"
      ]
     },
     "execution_count": 51,
     "metadata": {},
     "output_type": "execute_result"
    }
   ],
   "source": [
    "run_query(sqlalchemy.text(f\"SELECT column_name, data_type FROM information_schema.columns WHERE table_name = '{CLOUDSQL_TABLE_NAME}'\"))"
   ]
  },
  {
   "cell_type": "markdown",
   "id": "e462f833-13c8-45d4-9e21-128b38bd8a63",
   "metadata": {},
   "source": [
    "### Add, Retrieve, And Delete Rows"
   ]
  },
  {
   "cell_type": "markdown",
   "id": "8be3906b-584a-4d99-a8fd-c99c30ca4a6d",
   "metadata": {},
   "source": [
    "#### Get A Record\n",
    "\n",
    "Dictionaries for each record/row are stored in `content_chunks` from earlier in this workflow:"
   ]
  },
  {
   "cell_type": "code",
   "execution_count": 52,
   "id": "82cf7824-5e2e-4ad4-8de0-81043d0a1a98",
   "metadata": {
    "tags": []
   },
   "outputs": [],
   "source": [
    "first_record = content_chunks[0]"
   ]
  },
  {
   "cell_type": "code",
   "execution_count": 53,
   "id": "77917c41-cfdf-4e1b-8f86-e12122312206",
   "metadata": {
    "tags": []
   },
   "outputs": [
    {
     "data": {
      "text/plain": [
       "dict_keys(['gse', 'chunk_id', 'content', 'embedding'])"
      ]
     },
     "execution_count": 53,
     "metadata": {},
     "output_type": "execute_result"
    }
   ],
   "source": [
    "first_record.keys()"
   ]
  },
  {
   "cell_type": "code",
   "execution_count": 54,
   "id": "0e16efb7-e571-4738-9372-386cd8039f76",
   "metadata": {
    "tags": []
   },
   "outputs": [
    {
     "data": {
      "text/plain": [
       "'fannie_part_0_c17'"
      ]
     },
     "execution_count": 54,
     "metadata": {},
     "output_type": "execute_result"
    }
   ],
   "source": [
    "first_record['chunk_id']"
   ]
  },
  {
   "cell_type": "markdown",
   "id": "43e09de0-199e-4e0d-9e04-606a1d685df7",
   "metadata": {},
   "source": [
    "#### Insert Row"
   ]
  },
  {
   "cell_type": "code",
   "execution_count": 55,
   "id": "10fdd928-f96c-45b7-81cd-5093232678ed",
   "metadata": {},
   "outputs": [],
   "source": [
    "table = sqlalchemy.Table(\n",
    "    CLOUDSQL_TABLE_NAME,\n",
    "    sqlalchemy.MetaData(),\n",
    "    autoload_with = sync_pool\n",
    ")"
   ]
  },
  {
   "cell_type": "code",
   "execution_count": 56,
   "id": "084555ac-d878-4d07-a029-0f493856bdf5",
   "metadata": {},
   "outputs": [
    {
     "name": "stdout",
     "output_type": "stream",
     "text": [
      "retrieval-cloudsql-postgresql.chunk_id\n",
      "retrieval-cloudsql-postgresql.gse\n",
      "retrieval-cloudsql-postgresql.content\n",
      "retrieval-cloudsql-postgresql.embedding\n"
     ]
    }
   ],
   "source": [
    "for c in table.columns:\n",
    "    print(c)"
   ]
  },
  {
   "cell_type": "code",
   "execution_count": 57,
   "id": "8aa57796-0883-4fca-857b-b1805645d149",
   "metadata": {
    "tags": []
   },
   "outputs": [],
   "source": [
    "insert_row = sqlalchemy.insert(table).values(first_record)"
   ]
  },
  {
   "cell_type": "code",
   "execution_count": 58,
   "id": "bc4f22aa-1991-4197-bbfc-809ad1e7bb06",
   "metadata": {
    "tags": []
   },
   "outputs": [
    {
     "data": {
      "text/plain": [
       "[]"
      ]
     },
     "execution_count": 58,
     "metadata": {},
     "output_type": "execute_result"
    }
   ],
   "source": [
    "run_query(insert_row)"
   ]
  },
  {
   "cell_type": "markdown",
   "id": "fc4f6ebb-242f-44c3-b8f3-3a1f66e4560a",
   "metadata": {},
   "source": [
    "#### Retrieve Row"
   ]
  },
  {
   "cell_type": "code",
   "execution_count": 59,
   "id": "8383d755-0af3-4bd8-b229-ae9585fefbf8",
   "metadata": {
    "tags": []
   },
   "outputs": [],
   "source": [
    "query = sqlalchemy.text(f\"SELECT * FROM \\\"{CLOUDSQL_TABLE_NAME}\\\" WHERE chunk_id = '{first_record['chunk_id']}'\")\n",
    "result = run_query(query)"
   ]
  },
  {
   "cell_type": "code",
   "execution_count": 60,
   "id": "f4acce3f-b7f2-480a-9adb-0c62f3e9c755",
   "metadata": {
    "tags": []
   },
   "outputs": [
    {
     "data": {
      "text/plain": [
       "dict_keys(['chunk_id', 'gse', 'content', 'embedding'])"
      ]
     },
     "execution_count": 60,
     "metadata": {},
     "output_type": "execute_result"
    }
   ],
   "source": [
    "result.keys()"
   ]
  },
  {
   "cell_type": "code",
   "execution_count": 61,
   "id": "3629c484-7c3e-48c1-abb1-b03669b255bc",
   "metadata": {
    "tags": []
   },
   "outputs": [
    {
     "data": {
      "text/plain": [
       "'fannie_part_0_c17'"
      ]
     },
     "execution_count": 61,
     "metadata": {},
     "output_type": "execute_result"
    }
   ],
   "source": [
    "result['chunk_id']"
   ]
  },
  {
   "cell_type": "code",
   "execution_count": 62,
   "id": "0afdc1b2-526c-4b72-bb0b-981f22e1fa83",
   "metadata": {
    "tags": []
   },
   "outputs": [],
   "source": [
    "query = sqlalchemy.select(table).where(table.columns.chunk_id == first_record['chunk_id'])\n",
    "result = run_query(query)"
   ]
  },
  {
   "cell_type": "code",
   "execution_count": 63,
   "id": "13aece62-df0e-4426-b3f4-dd8adb115723",
   "metadata": {
    "tags": []
   },
   "outputs": [
    {
     "data": {
      "text/plain": [
       "dict_keys(['chunk_id', 'gse', 'content', 'embedding'])"
      ]
     },
     "execution_count": 63,
     "metadata": {},
     "output_type": "execute_result"
    }
   ],
   "source": [
    "result.keys()"
   ]
  },
  {
   "cell_type": "code",
   "execution_count": 64,
   "id": "58b790b7-941b-4fb8-b9d0-6b9b6acb8ae7",
   "metadata": {
    "tags": []
   },
   "outputs": [
    {
     "data": {
      "text/plain": [
       "'fannie_part_0_c17'"
      ]
     },
     "execution_count": 64,
     "metadata": {},
     "output_type": "execute_result"
    }
   ],
   "source": [
    "result['chunk_id']"
   ]
  },
  {
   "cell_type": "code",
   "execution_count": 65,
   "id": "e1147de7-3b8a-4f4a-b95b-97736bba5718",
   "metadata": {
    "tags": []
   },
   "outputs": [
    {
     "data": {
      "text/plain": [
       "list"
      ]
     },
     "execution_count": 65,
     "metadata": {},
     "output_type": "execute_result"
    }
   ],
   "source": [
    "type(result['embedding'])"
   ]
  },
  {
   "cell_type": "code",
   "execution_count": 66,
   "id": "24e92617-d0f3-4b01-ae38-2c90d68547da",
   "metadata": {
    "tags": []
   },
   "outputs": [
    {
     "data": {
      "text/plain": [
       "[0.031277116,\n",
       " 0.03056905,\n",
       " 0.010865348,\n",
       " 0.062361468,\n",
       " 0.032286815,\n",
       " 0.050661553,\n",
       " 0.046544693,\n",
       " 0.055096656,\n",
       " -0.014074751,\n",
       " 0.0083804]"
      ]
     },
     "execution_count": 66,
     "metadata": {},
     "output_type": "execute_result"
    }
   ],
   "source": [
    "result['embedding'][0:10]"
   ]
  },
  {
   "cell_type": "markdown",
   "id": "c294031f-0987-4877-b61c-b1b94e01cd6a",
   "metadata": {},
   "source": [
    "#### Delete Row"
   ]
  },
  {
   "cell_type": "code",
   "execution_count": 67,
   "id": "b53ba31d-4a6a-4d47-a103-d698a2c9e4b2",
   "metadata": {
    "tags": []
   },
   "outputs": [
    {
     "data": {
      "text/plain": [
       "{'count': 1}"
      ]
     },
     "execution_count": 67,
     "metadata": {},
     "output_type": "execute_result"
    }
   ],
   "source": [
    "run_query(sqlalchemy.text(f\"SELECT COUNT(*) as count FROM \\\"{CLOUDSQL_TABLE_NAME}\\\"\"))"
   ]
  },
  {
   "cell_type": "code",
   "execution_count": 68,
   "id": "5426abb0-91bc-4029-89fa-261a47612997",
   "metadata": {
    "tags": []
   },
   "outputs": [
    {
     "data": {
      "text/plain": [
       "[]"
      ]
     },
     "execution_count": 68,
     "metadata": {},
     "output_type": "execute_result"
    }
   ],
   "source": [
    "run_query(sqlalchemy.text(f\"DELETE FROM \\\"{CLOUDSQL_TABLE_NAME}\\\" WHERE chunk_id = '{first_record['chunk_id']}'\"))"
   ]
  },
  {
   "cell_type": "code",
   "execution_count": 69,
   "id": "35c38964-b3c0-4fdc-9ff1-e2ea403f88a1",
   "metadata": {
    "tags": []
   },
   "outputs": [
    {
     "data": {
      "text/plain": [
       "{'count': 0}"
      ]
     },
     "execution_count": 69,
     "metadata": {},
     "output_type": "execute_result"
    }
   ],
   "source": [
    "run_query(sqlalchemy.text(f\"SELECT COUNT(*) as count FROM \\\"{CLOUDSQL_TABLE_NAME}\\\"\"))"
   ]
  },
  {
   "cell_type": "markdown",
   "id": "7b6caa1e-2989-4f4a-adda-767a330c8b07",
   "metadata": {},
   "source": [
    "## Load Data \n",
    "\n",
    "There are a lot of rows to load so using the async method here:"
   ]
  },
  {
   "cell_type": "code",
   "execution_count": 70,
   "id": "7a9e3289-fb36-40f0-b1aa-6c8ddb225b8c",
   "metadata": {
    "tags": []
   },
   "outputs": [],
   "source": [
    "queries = [sqlalchemy.insert(table).values(c) for c in content_chunks]"
   ]
  },
  {
   "cell_type": "code",
   "execution_count": 71,
   "id": "2bc96727-b075-4b79-bb58-6909c8ba3a05",
   "metadata": {
    "tags": []
   },
   "outputs": [],
   "source": [
    "tasks = [async_run_query(query) for query in queries]"
   ]
  },
  {
   "cell_type": "code",
   "execution_count": 72,
   "id": "95bf4f19-a1cd-4e76-b7bd-ae94a255db2b",
   "metadata": {
    "tags": []
   },
   "outputs": [],
   "source": [
    "results = await asyncio.gather(*tasks)"
   ]
  },
  {
   "cell_type": "code",
   "execution_count": 76,
   "id": "d773c549-acde-4171-98cf-a8a8160e990b",
   "metadata": {
    "tags": []
   },
   "outputs": [
    {
     "data": {
      "text/plain": [
       "{'count': 9040}"
      ]
     },
     "execution_count": 76,
     "metadata": {},
     "output_type": "execute_result"
    }
   ],
   "source": [
    "run_query(sqlalchemy.text(f\"SELECT COUNT(*) as count FROM \\\"{CLOUDSQL_TABLE_NAME}\\\"\"))"
   ]
  },
  {
   "cell_type": "markdown",
   "id": "d398b5fe-4eb2-471f-8409-233354558f03",
   "metadata": {},
   "source": [
    "---\n",
    "## Setup Cloud SQL For PostgreSQL For Vector Similarity Search\n",
    "\n",
    "https://cloud.google.com/sql/docs/postgres/work-with-vectors\n",
    "\n",
    "**Store Embeddings As Vectors**\n",
    "\n",
    "[Google provides](https://cloud.google.com/sql/docs/postgres/work-with-vectors#required-database-extensions) a version of [`pgvector`](https://github.com/pgvector/pgvector#indexing) named `vector` that includes functions and operators for working with vector values. \n",
    "\n",
    "```CREATE EXTENSION IF NOT EXISTS vector```"
   ]
  },
  {
   "cell_type": "code",
   "execution_count": 77,
   "id": "b31fb01c-db4a-4e6d-856f-ca1c4d49627c",
   "metadata": {
    "tags": []
   },
   "outputs": [
    {
     "data": {
      "text/plain": [
       "[]"
      ]
     },
     "execution_count": 77,
     "metadata": {},
     "output_type": "execute_result"
    }
   ],
   "source": [
    "run_query(sqlalchemy.text(f\"CREATE EXTENSION IF NOT EXISTS vector\"))"
   ]
  },
  {
   "cell_type": "markdown",
   "id": "8a0f76a3-319e-42c9-92bf-80f24d1afe92",
   "metadata": {},
   "source": [
    "### Convert `embedding` Column To Vector Data Type\n",
    "\n",
    "The data was loaded/inserted above with the embedding stored in a column named 'embedding' as an ARRAY of float values.  This column can now be converted to the vector type with the specific dimension using an `ALTER TABLE` command."
   ]
  },
  {
   "cell_type": "code",
   "execution_count": 78,
   "id": "421f1d80-c9d3-49e4-b42a-730d51d20d42",
   "metadata": {
    "tags": []
   },
   "outputs": [
    {
     "data": {
      "text/plain": [
       "[]"
      ]
     },
     "execution_count": 78,
     "metadata": {},
     "output_type": "execute_result"
    }
   ],
   "source": [
    "run_query(sqlalchemy.text(f\"ALTER TABLE \\\"{CLOUDSQL_TABLE_NAME}\\\" ALTER COLUMN embedding TYPE vector({len(question_embedding)});\"))"
   ]
  },
  {
   "cell_type": "code",
   "execution_count": 79,
   "id": "603cc945-af92-4f11-a950-7b3cc4261352",
   "metadata": {
    "tags": []
   },
   "outputs": [
    {
     "data": {
      "text/plain": [
       "[{'column_name': 'embedding', 'data_type': 'USER-DEFINED'},\n",
       " {'column_name': 'chunk_id', 'data_type': 'character varying'},\n",
       " {'column_name': 'gse', 'data_type': 'character varying'},\n",
       " {'column_name': 'content', 'data_type': 'text'}]"
      ]
     },
     "execution_count": 79,
     "metadata": {},
     "output_type": "execute_result"
    }
   ],
   "source": [
    "run_query(sqlalchemy.text(f\"SELECT column_name, data_type FROM information_schema.columns WHERE table_name = '{CLOUDSQL_TABLE_NAME}'\"))"
   ]
  },
  {
   "cell_type": "code",
   "execution_count": 80,
   "id": "4eada953-e459-4aca-b55e-e4fbe05c7c2a",
   "metadata": {
    "tags": []
   },
   "outputs": [
    {
     "data": {
      "text/plain": [
       "dict_keys(['chunk_id', 'gse', 'content', 'embedding'])"
      ]
     },
     "execution_count": 80,
     "metadata": {},
     "output_type": "execute_result"
    }
   ],
   "source": [
    "query = sqlalchemy.text(f\"SELECT * FROM \\\"{CLOUDSQL_TABLE_NAME}\\\" WHERE chunk_id = '{first_record['chunk_id']}'\")\n",
    "result = run_query(query)\n",
    "result.keys()"
   ]
  },
  {
   "cell_type": "code",
   "execution_count": 81,
   "id": "1c3b9180-15ba-4915-8a6e-93aea8498edb",
   "metadata": {
    "tags": []
   },
   "outputs": [
    {
     "data": {
      "text/plain": [
       "str"
      ]
     },
     "execution_count": 81,
     "metadata": {},
     "output_type": "execute_result"
    }
   ],
   "source": [
    "type(result['embedding'])"
   ]
  },
  {
   "cell_type": "code",
   "execution_count": 82,
   "id": "553a6f7e-74e2-4311-9026-7b5e06700019",
   "metadata": {
    "tags": []
   },
   "outputs": [
    {
     "data": {
      "text/plain": [
       "'[0.031277116,0.03056905,0.010865348,0.062361468,0.032286815,0.050661553,0.046544693,0.055096656,-0.0'"
      ]
     },
     "execution_count": 82,
     "metadata": {},
     "output_type": "execute_result"
    }
   ],
   "source": [
    "result['embedding'][0:100]"
   ]
  },
  {
   "cell_type": "markdown",
   "id": "ed8dfdc5-d9aa-4cb7-9433-4db9caddb34f",
   "metadata": {},
   "source": [
    "---\n",
    "## Vector Similarity Search, Matching\n"
   ]
  },
  {
   "cell_type": "markdown",
   "id": "d8ff533e-65d7-4a12-8082-d1e5bd9717ae",
   "metadata": {},
   "source": [
    "### Brute Force Search - No Index\n",
    "\n",
    "Easily run a brute force (compare to all rows) match with a choice of distance measure:\n",
    "- `<->` for L2, Euclidean distance\n",
    "- `<#>` for Inner, Dot Product\n",
    "- `<=>` for Cosine distance"
   ]
  },
  {
   "cell_type": "code",
   "execution_count": 83,
   "id": "0d1497a3-042a-4d38-866b-a6a44f3de30d",
   "metadata": {
    "tags": []
   },
   "outputs": [
    {
     "data": {
      "text/plain": [
       "[{'chunk_id': 'fannie_part_0_c352', 'dot_product': -0.7099841833114624},\n",
       " {'chunk_id': 'freddie_part_4_c509', 'dot_product': -0.680526077747345},\n",
       " {'chunk_id': 'freddie_part_4_c510', 'dot_product': -0.6753296852111816},\n",
       " {'chunk_id': 'fannie_part_0_c353', 'dot_product': -0.6723706722259521},\n",
       " {'chunk_id': 'fannie_part_0_c326', 'dot_product': -0.66834956407547}]"
      ]
     },
     "execution_count": 83,
     "metadata": {},
     "output_type": "execute_result"
    }
   ],
   "source": [
    "run_query(sqlalchemy.text(f\"SELECT chunk_id, embedding <#> '{question_embedding}' AS dot_product FROM \\\"{CLOUDSQL_TABLE_NAME}\\\" ORDER BY dot_product LIMIT 5\"))"
   ]
  },
  {
   "cell_type": "code",
   "execution_count": 84,
   "id": "87e97aea-5b36-46b8-9f5d-c6f271ca9890",
   "metadata": {
    "tags": []
   },
   "outputs": [
    {
     "data": {
      "text/plain": [
       "[{'chunk_id': 'fannie_part_0_c352', 'euclidean_distance': 0.7615658337594855},\n",
       " {'chunk_id': 'freddie_part_4_c509', 'euclidean_distance': 0.7992875100367289},\n",
       " {'chunk_id': 'freddie_part_4_c510', 'euclidean_distance': 0.8057848660615564},\n",
       " {'chunk_id': 'fannie_part_0_c353', 'euclidean_distance': 0.8094337265330812},\n",
       " {'chunk_id': 'fannie_part_0_c326', 'euclidean_distance': 0.8144253147417732}]"
      ]
     },
     "execution_count": 84,
     "metadata": {},
     "output_type": "execute_result"
    }
   ],
   "source": [
    "run_query(sqlalchemy.text(f\"SELECT chunk_id, embedding <-> '{question_embedding}' AS euclidean_distance FROM \\\"{CLOUDSQL_TABLE_NAME}\\\" ORDER BY euclidean_distance LIMIT 5\"))"
   ]
  },
  {
   "cell_type": "code",
   "execution_count": 85,
   "id": "cd5102f7-724f-43b0-b445-e510648f8a3f",
   "metadata": {
    "tags": []
   },
   "outputs": [
    {
     "data": {
      "text/plain": [
       "[{'chunk_id': 'fannie_part_0_c352', 'cosine_distance': 0.2899983636254655},\n",
       " {'chunk_id': 'freddie_part_4_c509', 'cosine_distance': 0.31944424887732137},\n",
       " {'chunk_id': 'freddie_part_4_c510', 'cosine_distance': 0.3246529458452222},\n",
       " {'chunk_id': 'fannie_part_0_c353', 'cosine_distance': 0.32760391792511945},\n",
       " {'chunk_id': 'fannie_part_0_c326', 'cosine_distance': 0.33164633285935186}]"
      ]
     },
     "execution_count": 85,
     "metadata": {},
     "output_type": "execute_result"
    }
   ],
   "source": [
    "run_query(sqlalchemy.text(f\"SELECT chunk_id, embedding <=> '{question_embedding}' AS cosine_distance FROM \\\"{CLOUDSQL_TABLE_NAME}\\\" ORDER BY cosine_distance LIMIT 5\"))"
   ]
  },
  {
   "cell_type": "markdown",
   "id": "cb6a5143-3fd2-4315-8469-16e7cb442716",
   "metadata": {},
   "source": [
    "### Brute Force Search With Pre-Filtering - No Index\n",
    "\n",
    "Extending a brute force match with pre-filtering means including a `WHERE` statement:"
   ]
  },
  {
   "cell_type": "markdown",
   "id": "d36f22be-a294-451b-ae47-e563e59d266e",
   "metadata": {},
   "source": [
    "Matches for rows where `gse = 'fannie'`:"
   ]
  },
  {
   "cell_type": "code",
   "execution_count": 86,
   "id": "30b305a8-8322-4363-a4c1-9f467c7b9d9b",
   "metadata": {
    "tags": []
   },
   "outputs": [
    {
     "data": {
      "text/plain": [
       "[{'chunk_id': 'fannie_part_0_c352', 'dot_product': -0.7099841833114624},\n",
       " {'chunk_id': 'fannie_part_0_c353', 'dot_product': -0.6723706722259521},\n",
       " {'chunk_id': 'fannie_part_0_c326', 'dot_product': -0.66834956407547},\n",
       " {'chunk_id': 'fannie_part_0_c92', 'dot_product': -0.6614338159561157},\n",
       " {'chunk_id': 'fannie_part_0_c240', 'dot_product': -0.6608578562736511}]"
      ]
     },
     "execution_count": 86,
     "metadata": {},
     "output_type": "execute_result"
    }
   ],
   "source": [
    "run_query(sqlalchemy.text(f\"SELECT chunk_id, embedding <#> '{question_embedding}' AS dot_product FROM \\\"{CLOUDSQL_TABLE_NAME}\\\" WHERE gse = 'fannie' ORDER BY dot_product LIMIT 5\"))"
   ]
  },
  {
   "cell_type": "markdown",
   "id": "881f2f0d-d4cb-4ea7-99fc-1c50added56a",
   "metadata": {},
   "source": [
    "Matches for rows where `gse = 'freddie'`:"
   ]
  },
  {
   "cell_type": "code",
   "execution_count": 87,
   "id": "d7f3f99a-80ed-4e7c-954e-75ea94d854fb",
   "metadata": {
    "tags": []
   },
   "outputs": [
    {
     "data": {
      "text/plain": [
       "[{'chunk_id': 'freddie_part_4_c509', 'dot_product': -0.680526077747345},\n",
       " {'chunk_id': 'freddie_part_4_c510', 'dot_product': -0.6753296852111816},\n",
       " {'chunk_id': 'freddie_part_4_c472', 'dot_product': -0.661984384059906},\n",
       " {'chunk_id': 'freddie_part_6_c439', 'dot_product': -0.6604534983634949},\n",
       " {'chunk_id': 'freddie_part_4_c558', 'dot_product': -0.6575403213500977}]"
      ]
     },
     "execution_count": 87,
     "metadata": {},
     "output_type": "execute_result"
    }
   ],
   "source": [
    "run_query(sqlalchemy.text(f\"SELECT chunk_id, embedding <#> '{question_embedding}' AS dot_product FROM \\\"{CLOUDSQL_TABLE_NAME}\\\" WHERE gse = 'freddie' ORDER BY dot_product LIMIT 5\"))"
   ]
  },
  {
   "cell_type": "markdown",
   "id": "ebe3503e-0c7d-49d0-9a7b-12c35aa2795c",
   "metadata": {},
   "source": [
    "### Create An Index\n",
    "\n",
    "Indexes make search across many rows more efficient by first matching partions of rows and then only comparing to rows within the partions.  This section covers [creating indexes](https://cloud.google.com/sql/docs/postgres/work-with-vectors#index) and using them in queries.\n",
    "\n",
    "- IVFFlat: Inverted File Lists, specifically with flat quantization\n",
    "    - partions rows into list, only searches a subset that are closest to the query vector\n",
    "    - fast build, low memory usage, slower query\n",
    "    - can increase the number of lists used in search at query time for greater recall\n",
    "- [HNSW](https://arxiv.org/abs/1603.09320): Hierarchical Navigable Small World graphs\n",
    "    - creates a multilayer graph\n",
    "    - slower build, more memory, faster query\n",
    "    - can increase the number of candidates in the search for greater recall"
   ]
  },
  {
   "cell_type": "markdown",
   "id": "12d665bc-bdc1-48fc-bfd3-5ae832a2822d",
   "metadata": {},
   "source": [
    "#### IVFFlat\n",
    "\n",
    "https://github.com/pgvector/pgvector?tab=readme-ov-file#ivfflat"
   ]
  },
  {
   "cell_type": "code",
   "execution_count": 89,
   "id": "465b3344-146e-45c3-aba3-29363d68c0d4",
   "metadata": {
    "tags": []
   },
   "outputs": [
    {
     "data": {
      "text/plain": [
       "[]"
      ]
     },
     "execution_count": 89,
     "metadata": {},
     "output_type": "execute_result"
    }
   ],
   "source": [
    "run_query(sqlalchemy.text(f\"\"\"\n",
    "    CREATE INDEX IF NOT EXISTS ivfflat_index\n",
    "    ON \\\"{CLOUDSQL_TABLE_NAME}\\\"\n",
    "    USING ivfflat (embedding vector_ip_ops)\n",
    "    WITH (lists = 100)\n",
    "\"\"\"))"
   ]
  },
  {
   "cell_type": "code",
   "execution_count": 90,
   "id": "76cc25f0-3026-475a-9dba-7d5750727225",
   "metadata": {
    "tags": []
   },
   "outputs": [
    {
     "data": {
      "text/plain": [
       "{'schemaname': 'public',\n",
       " 'tablename': 'retrieval-cloudsql-postgresql',\n",
       " 'indexname': 'ivfflat_index',\n",
       " 'tablespace': None,\n",
       " 'indexdef': 'CREATE INDEX ivfflat_index ON public.\"retrieval-cloudsql-postgresql\" USING ivfflat (embedding vector_ip_ops) WITH (lists=\\'100\\')'}"
      ]
     },
     "execution_count": 90,
     "metadata": {},
     "output_type": "execute_result"
    }
   ],
   "source": [
    "run_query(sqlalchemy.text(f\"SELECT * FROM pg_indexes  WHERE tablename = '{CLOUDSQL_TABLE_NAME}' AND indexname = 'ivfflat_index'\"))"
   ]
  },
  {
   "cell_type": "code",
   "execution_count": 91,
   "id": "ea68eecf-f05c-415b-89c0-1df3761b7a90",
   "metadata": {
    "tags": []
   },
   "outputs": [
    {
     "data": {
      "text/plain": [
       "[]"
      ]
     },
     "execution_count": 91,
     "metadata": {},
     "output_type": "execute_result"
    }
   ],
   "source": [
    "run_query(sqlalchemy.text('SELECT * FROM pg_stat_progress_create_index'))"
   ]
  },
  {
   "cell_type": "code",
   "execution_count": 93,
   "id": "ce41401c-23ca-4129-b489-28fa0ebdc578",
   "metadata": {
    "tags": []
   },
   "outputs": [
    {
     "data": {
      "text/plain": [
       "[{'chunk_id': 'freddie_part_4_c509', 'dot_product': -0.680526077747345},\n",
       " {'chunk_id': 'freddie_part_4_c510', 'dot_product': -0.6753296852111816},\n",
       " {'chunk_id': 'freddie_part_5_c360', 'dot_product': -0.6557323932647705},\n",
       " {'chunk_id': 'freddie_part_4_c508', 'dot_product': -0.6519314646720886},\n",
       " {'chunk_id': 'freddie_part_5_c98', 'dot_product': -0.6464937925338745}]"
      ]
     },
     "execution_count": 93,
     "metadata": {},
     "output_type": "execute_result"
    }
   ],
   "source": [
    "run_query(sqlalchemy.text(f\"\"\"\n",
    "    SELECT chunk_id, embedding <#> '{question_embedding}' AS dot_product\n",
    "    FROM \\\"{CLOUDSQL_TABLE_NAME}\\\"\n",
    "    ORDER BY dot_product\n",
    "    LIMIT 5\n",
    "\"\"\"))"
   ]
  },
  {
   "cell_type": "code",
   "execution_count": 94,
   "id": "5c7092c5-8ef0-4674-a864-b791ab5616a9",
   "metadata": {
    "tags": []
   },
   "outputs": [
    {
     "data": {
      "text/plain": [
       "[{'QUERY PLAN': 'Limit  (cost=118.18..118.38 rows=5 width=27) (actual time=0.243..0.308 rows=5 loops=1)'},\n",
       " {'QUERY PLAN': '  ->  Index Scan using ivfflat_index on \"retrieval-cloudsql-postgresql\"  (cost=118.18..489.68 rows=9040 width=27) (actual time=0.242..0.305 rows=5 loops=1)'},\n",
       " {'QUERY PLAN': 'Planning Time: 0.163 ms'},\n",
       " {'QUERY PLAN': 'Execution Time: 0.351 ms'}]"
      ]
     },
     "execution_count": 94,
     "metadata": {},
     "output_type": "execute_result"
    }
   ],
   "source": [
    "result = run_query(sqlalchemy.text(f\"\"\"\n",
    "    EXPLAIN ANALYZE\n",
    "    SELECT chunk_id, embedding <#> '{question_embedding}' AS dot_product\n",
    "    FROM \\\"{CLOUDSQL_TABLE_NAME}\\\"\n",
    "    ORDER BY dot_product\n",
    "    LIMIT 5\n",
    "\"\"\"))\n",
    "result[0:2] + result[-2:]"
   ]
  },
  {
   "cell_type": "code",
   "execution_count": 95,
   "id": "98edf268-bb0e-4b98-a06e-92fc2ffd389d",
   "metadata": {
    "tags": []
   },
   "outputs": [
    {
     "data": {
      "text/plain": [
       "[{'chunk_id': 'fannie_part_0_c352', 'dot_product': -0.7099841833114624},\n",
       " {'chunk_id': 'freddie_part_4_c509', 'dot_product': -0.680526077747345},\n",
       " {'chunk_id': 'freddie_part_4_c510', 'dot_product': -0.6753296852111816},\n",
       " {'chunk_id': 'fannie_part_0_c353', 'dot_product': -0.6723706722259521},\n",
       " {'chunk_id': 'fannie_part_0_c326', 'dot_product': -0.66834956407547}]"
      ]
     },
     "execution_count": 95,
     "metadata": {},
     "output_type": "execute_result"
    }
   ],
   "source": [
    "run_query(sqlalchemy.text(f\"\"\"\n",
    "    SET LOCAL ivfflat.probes = 10;\n",
    "    SELECT chunk_id, embedding <#> '{question_embedding}' AS dot_product\n",
    "    FROM \\\"{CLOUDSQL_TABLE_NAME}\\\"\n",
    "    ORDER BY dot_product\n",
    "    LIMIT 5\n",
    "\"\"\"))"
   ]
  },
  {
   "cell_type": "code",
   "execution_count": 96,
   "id": "055a1340-9a8d-4b40-ba16-beaa940f5b31",
   "metadata": {
    "tags": []
   },
   "outputs": [
    {
     "data": {
      "text/plain": [
       "[{'QUERY PLAN': 'Limit  (cost=1159.28..1160.74 rows=5 width=27) (actual time=1.363..1.397 rows=5 loops=1)'},\n",
       " {'QUERY PLAN': '  ->  Index Scan using ivfflat_index on \"retrieval-cloudsql-postgresql\"  (cost=1159.28..3790.92 rows=9040 width=27) (actual time=1.361..1.394 rows=5 loops=1)'},\n",
       " {'QUERY PLAN': 'Planning Time: 0.156 ms'},\n",
       " {'QUERY PLAN': 'Execution Time: 1.425 ms'}]"
      ]
     },
     "execution_count": 96,
     "metadata": {},
     "output_type": "execute_result"
    }
   ],
   "source": [
    "result = run_query(sqlalchemy.text(f\"\"\"\n",
    "    SET LOCAL ivfflat.probes = 10;\n",
    "    EXPLAIN ANALYZE\n",
    "    SELECT chunk_id, embedding <#> '{question_embedding}' AS dot_product\n",
    "    FROM \\\"{CLOUDSQL_TABLE_NAME}\\\"\n",
    "    ORDER BY dot_product\n",
    "    LIMIT 5\n",
    "\"\"\"))\n",
    "result[0:2] + result[-2:]"
   ]
  },
  {
   "cell_type": "code",
   "execution_count": 97,
   "id": "97a3336b-3933-4be5-8084-5e58926d8807",
   "metadata": {
    "tags": []
   },
   "outputs": [
    {
     "data": {
      "text/plain": [
       "[{'chunk_id': 'fannie_part_2_c793', 'dot_product': -0.6455321311950684},\n",
       " {'chunk_id': 'fannie_part_2_c795', 'dot_product': -0.6292608976364136},\n",
       " {'chunk_id': 'fannie_part_2_c792', 'dot_product': -0.6290532350540161},\n",
       " {'chunk_id': 'fannie_part_2_c791', 'dot_product': -0.6204110383987427},\n",
       " {'chunk_id': 'fannie_part_2_c798', 'dot_product': -0.6203723549842834}]"
      ]
     },
     "execution_count": 97,
     "metadata": {},
     "output_type": "execute_result"
    }
   ],
   "source": [
    "run_query(sqlalchemy.text(f\"\"\"\n",
    "    SELECT chunk_id, embedding <#> '{question_embedding}' AS dot_product\n",
    "    FROM \\\"{CLOUDSQL_TABLE_NAME}\\\"\n",
    "    WHERE gse = 'fannie'\n",
    "    ORDER BY dot_product\n",
    "    LIMIT 5\n",
    "\"\"\"))"
   ]
  },
  {
   "cell_type": "code",
   "execution_count": 98,
   "id": "c4c8e4f7-e47d-429d-80c3-1e2e3c037d06",
   "metadata": {
    "tags": []
   },
   "outputs": [
    {
     "data": {
      "text/plain": [
       "[{'QUERY PLAN': 'Limit  (cost=118.18..118.77 rows=5 width=27) (actual time=0.233..0.263 rows=5 loops=1)'},\n",
       " {'QUERY PLAN': '  ->  Index Scan using ivfflat_index on \"retrieval-cloudsql-postgresql\"  (cost=118.18..474.88 rows=3032 width=27) (actual time=0.232..0.261 rows=5 loops=1)'},\n",
       " {'QUERY PLAN': 'Planning Time: 0.117 ms'},\n",
       " {'QUERY PLAN': 'Execution Time: 0.289 ms'}]"
      ]
     },
     "execution_count": 98,
     "metadata": {},
     "output_type": "execute_result"
    }
   ],
   "source": [
    "result = run_query(sqlalchemy.text(f\"\"\"\n",
    "    EXPLAIN ANALYZE\n",
    "    SELECT chunk_id, embedding <#> '{question_embedding}' AS dot_product\n",
    "    FROM \\\"{CLOUDSQL_TABLE_NAME}\\\"\n",
    "    WHERE gse = 'fannie'\n",
    "    ORDER BY dot_product\n",
    "    LIMIT 5\n",
    "\"\"\"))\n",
    "result[0:2] + result[-2:]"
   ]
  },
  {
   "cell_type": "code",
   "execution_count": 99,
   "id": "70a03aaf-9cb0-4d09-8298-0ce3458307fb",
   "metadata": {
    "tags": []
   },
   "outputs": [
    {
     "data": {
      "text/plain": [
       "[]"
      ]
     },
     "execution_count": 99,
     "metadata": {},
     "output_type": "execute_result"
    }
   ],
   "source": [
    "run_query(sqlalchemy.text('DROP INDEX IF EXISTS ivfflat_index'))"
   ]
  },
  {
   "cell_type": "markdown",
   "id": "d9a50b5f-caae-4efe-90fe-5c1d568138b8",
   "metadata": {},
   "source": [
    "#### HNSW\n",
    "\n",
    "https://github.com/pgvector/pgvector?tab=readme-ov-file#hnsw"
   ]
  },
  {
   "cell_type": "code",
   "execution_count": 100,
   "id": "c16c902d-9f6b-4799-ae5f-0cfa558ff241",
   "metadata": {
    "tags": []
   },
   "outputs": [
    {
     "data": {
      "text/plain": [
       "[]"
      ]
     },
     "execution_count": 100,
     "metadata": {},
     "output_type": "execute_result"
    }
   ],
   "source": [
    "run_query(sqlalchemy.text(f\"\"\"\n",
    "    CREATE INDEX IF NOT EXISTS hnsw_index\n",
    "    ON \\\"{CLOUDSQL_TABLE_NAME}\\\"\n",
    "    USING hnsw (embedding vector_ip_ops)\n",
    "    WITH (m = 10, ef_construction = 40)\n",
    "\"\"\"))"
   ]
  },
  {
   "cell_type": "code",
   "execution_count": 101,
   "id": "44a2ebf4-4be3-4c22-b891-eea261e9f1cb",
   "metadata": {
    "tags": []
   },
   "outputs": [
    {
     "data": {
      "text/plain": [
       "{'schemaname': 'public',\n",
       " 'tablename': 'retrieval-cloudsql-postgresql',\n",
       " 'indexname': 'hnsw_index',\n",
       " 'tablespace': None,\n",
       " 'indexdef': 'CREATE INDEX hnsw_index ON public.\"retrieval-cloudsql-postgresql\" USING hnsw (embedding vector_ip_ops) WITH (m=\\'10\\', ef_construction=\\'40\\')'}"
      ]
     },
     "execution_count": 101,
     "metadata": {},
     "output_type": "execute_result"
    }
   ],
   "source": [
    "run_query(sqlalchemy.text(f\"SELECT * FROM pg_indexes  WHERE tablename = '{CLOUDSQL_TABLE_NAME}' AND indexname = 'hnsw_index'\"))"
   ]
  },
  {
   "cell_type": "code",
   "execution_count": 102,
   "id": "a38c13ce-eea7-4a2a-825e-02a6a6169189",
   "metadata": {
    "tags": []
   },
   "outputs": [
    {
     "data": {
      "text/plain": [
       "[]"
      ]
     },
     "execution_count": 102,
     "metadata": {},
     "output_type": "execute_result"
    }
   ],
   "source": [
    "run_query(sqlalchemy.text('SELECT * FROM pg_stat_progress_create_index'))"
   ]
  },
  {
   "cell_type": "code",
   "execution_count": 104,
   "id": "196cad6a-68d3-4caf-8a1c-ebdf8b94606a",
   "metadata": {
    "tags": []
   },
   "outputs": [
    {
     "data": {
      "text/plain": [
       "[{'chunk_id': 'fannie_part_0_c352', 'dot_product': -0.7099841833114624},\n",
       " {'chunk_id': 'freddie_part_4_c509', 'dot_product': -0.680526077747345},\n",
       " {'chunk_id': 'freddie_part_4_c510', 'dot_product': -0.6753296852111816},\n",
       " {'chunk_id': 'fannie_part_0_c353', 'dot_product': -0.6723706722259521},\n",
       " {'chunk_id': 'fannie_part_0_c326', 'dot_product': -0.66834956407547}]"
      ]
     },
     "execution_count": 104,
     "metadata": {},
     "output_type": "execute_result"
    }
   ],
   "source": [
    "run_query(sqlalchemy.text(f\"\"\"\n",
    "    SELECT chunk_id, embedding <#> '{question_embedding}' AS dot_product\n",
    "    FROM \\\"{CLOUDSQL_TABLE_NAME}\\\"\n",
    "    ORDER BY dot_product\n",
    "    LIMIT 5\n",
    "\"\"\"))"
   ]
  },
  {
   "cell_type": "code",
   "execution_count": 105,
   "id": "e6faab74-16d8-41fd-a3fb-a1baad7c19ab",
   "metadata": {
    "tags": []
   },
   "outputs": [
    {
     "data": {
      "text/plain": [
       "[{'QUERY PLAN': 'Limit  (cost=100.38..102.98 rows=5 width=27) (actual time=0.729..0.762 rows=5 loops=1)'},\n",
       " {'QUERY PLAN': '  ->  Index Scan using hnsw_index on \"retrieval-cloudsql-postgresql\"  (cost=100.38..4817.38 rows=9040 width=27) (actual time=0.728..0.759 rows=5 loops=1)'},\n",
       " {'QUERY PLAN': 'Planning Time: 0.123 ms'},\n",
       " {'QUERY PLAN': 'Execution Time: 0.786 ms'}]"
      ]
     },
     "execution_count": 105,
     "metadata": {},
     "output_type": "execute_result"
    }
   ],
   "source": [
    "result = run_query(sqlalchemy.text(f\"\"\"\n",
    "    EXPLAIN ANALYZE\n",
    "    SELECT chunk_id, embedding <#> '{question_embedding}' AS dot_product\n",
    "    FROM \\\"{CLOUDSQL_TABLE_NAME}\\\"\n",
    "    ORDER BY dot_product\n",
    "    LIMIT 5\n",
    "\"\"\"))\n",
    "result[0:2] + result[-2:]"
   ]
  },
  {
   "cell_type": "code",
   "execution_count": 106,
   "id": "9ec763ec-7d1a-4066-a065-9f741c5bb2b5",
   "metadata": {
    "tags": []
   },
   "outputs": [
    {
     "data": {
      "text/plain": [
       "[{'chunk_id': 'fannie_part_0_c352', 'dot_product': -0.7099841833114624},\n",
       " {'chunk_id': 'freddie_part_4_c509', 'dot_product': -0.680526077747345},\n",
       " {'chunk_id': 'freddie_part_4_c510', 'dot_product': -0.6753296852111816},\n",
       " {'chunk_id': 'fannie_part_0_c353', 'dot_product': -0.6723706722259521},\n",
       " {'chunk_id': 'fannie_part_0_c326', 'dot_product': -0.66834956407547}]"
      ]
     },
     "execution_count": 106,
     "metadata": {},
     "output_type": "execute_result"
    }
   ],
   "source": [
    "run_query(sqlalchemy.text(f\"\"\"\n",
    "    SET LOCAL hnsw.ef_search = 20;\n",
    "    SELECT chunk_id, embedding <#> '{question_embedding}' AS dot_product\n",
    "    FROM \\\"{CLOUDSQL_TABLE_NAME}\\\"\n",
    "    ORDER BY dot_product\n",
    "    LIMIT 5\n",
    "\"\"\"))"
   ]
  },
  {
   "cell_type": "code",
   "execution_count": 107,
   "id": "c50716d5-2336-45e4-8752-6dbe3703969b",
   "metadata": {
    "tags": []
   },
   "outputs": [
    {
     "data": {
      "text/plain": [
       "[{'QUERY PLAN': 'Limit  (cost=100.38..102.98 rows=5 width=27) (actual time=0.728..0.772 rows=5 loops=1)'},\n",
       " {'QUERY PLAN': '  ->  Index Scan using hnsw_index on \"retrieval-cloudsql-postgresql\"  (cost=100.38..4817.38 rows=9040 width=27) (actual time=0.726..0.770 rows=5 loops=1)'},\n",
       " {'QUERY PLAN': 'Planning Time: 0.096 ms'},\n",
       " {'QUERY PLAN': 'Execution Time: 0.799 ms'}]"
      ]
     },
     "execution_count": 107,
     "metadata": {},
     "output_type": "execute_result"
    }
   ],
   "source": [
    "result = run_query(sqlalchemy.text(f\"\"\"\n",
    "    SET LOCAL hnsw.ef_search = 20;\n",
    "    EXPLAIN ANALYZE\n",
    "    SELECT chunk_id, embedding <#> '{question_embedding}' AS dot_product\n",
    "    FROM \\\"{CLOUDSQL_TABLE_NAME}\\\"\n",
    "    ORDER BY dot_product\n",
    "    LIMIT 5\n",
    "\"\"\"))\n",
    "result[0:2] + result[-2:]"
   ]
  },
  {
   "cell_type": "code",
   "execution_count": 108,
   "id": "dd1d179d-20ab-4aa7-a431-2dcea2387d25",
   "metadata": {
    "tags": []
   },
   "outputs": [
    {
     "data": {
      "text/plain": [
       "[{'chunk_id': 'fannie_part_0_c352', 'dot_product': -0.7099841833114624},\n",
       " {'chunk_id': 'fannie_part_0_c353', 'dot_product': -0.6723706722259521},\n",
       " {'chunk_id': 'fannie_part_0_c326', 'dot_product': -0.66834956407547},\n",
       " {'chunk_id': 'fannie_part_0_c92', 'dot_product': -0.6614338159561157},\n",
       " {'chunk_id': 'fannie_part_0_c240', 'dot_product': -0.6608578562736511}]"
      ]
     },
     "execution_count": 108,
     "metadata": {},
     "output_type": "execute_result"
    }
   ],
   "source": [
    "run_query(sqlalchemy.text(f\"\"\"\n",
    "    SELECT chunk_id, embedding <#> '{question_embedding}' AS dot_product\n",
    "    FROM \\\"{CLOUDSQL_TABLE_NAME}\\\"\n",
    "    WHERE gse = 'fannie'\n",
    "    ORDER BY dot_product\n",
    "    LIMIT 5\n",
    "\"\"\"))"
   ]
  },
  {
   "cell_type": "code",
   "execution_count": 109,
   "id": "f856c5ef-9d7c-4d63-ad88-61082760ae80",
   "metadata": {
    "tags": []
   },
   "outputs": [
    {
     "data": {
      "text/plain": [
       "[{'QUERY PLAN': 'Limit  (cost=100.38..108.17 rows=5 width=27) (actual time=0.864..0.900 rows=5 loops=1)'},\n",
       " {'QUERY PLAN': '  ->  Index Scan using hnsw_index on \"retrieval-cloudsql-postgresql\"  (cost=100.38..4824.95 rows=3032 width=27) (actual time=0.863..0.897 rows=5 loops=1)'},\n",
       " {'QUERY PLAN': 'Planning Time: 0.101 ms'},\n",
       " {'QUERY PLAN': 'Execution Time: 0.929 ms'}]"
      ]
     },
     "execution_count": 109,
     "metadata": {},
     "output_type": "execute_result"
    }
   ],
   "source": [
    "result = run_query(sqlalchemy.text(f\"\"\"\n",
    "    EXPLAIN ANALYZE\n",
    "    SELECT chunk_id, embedding <#> '{question_embedding}' AS dot_product\n",
    "    FROM \\\"{CLOUDSQL_TABLE_NAME}\\\"\n",
    "    WHERE gse = 'fannie'\n",
    "    ORDER BY dot_product\n",
    "    LIMIT 5\n",
    "\"\"\"))\n",
    "result[0:2] + result[-2:]"
   ]
  },
  {
   "cell_type": "code",
   "execution_count": 110,
   "id": "eecb74fe-b8f9-43ac-9a55-f618ad90d366",
   "metadata": {
    "tags": []
   },
   "outputs": [
    {
     "data": {
      "text/plain": [
       "[]"
      ]
     },
     "execution_count": 110,
     "metadata": {},
     "output_type": "execute_result"
    }
   ],
   "source": [
    "run_query(sqlalchemy.text('DROP INDEX IF EXISTS hnsw_index'))"
   ]
  },
  {
   "cell_type": "code",
   "execution_count": null,
   "id": "37277a40-57ac-4045-a600-a3c915fcd161",
   "metadata": {},
   "outputs": [],
   "source": [
    "### Search And Override Index - Brute Force Search"
   ]
  },
  {
   "cell_type": "code",
   "execution_count": null,
   "id": "3abd1079-1f11-473e-8b14-94e42bd96a29",
   "metadata": {},
   "outputs": [],
   "source": []
  },
  {
   "cell_type": "code",
   "execution_count": null,
   "id": "7b8d119e-9bc6-477e-bb02-4a0d8d22d305",
   "metadata": {},
   "outputs": [],
   "source": []
  },
  {
   "cell_type": "code",
   "execution_count": null,
   "id": "197726ca-23dd-4c44-a27c-fddaec7a787b",
   "metadata": {},
   "outputs": [],
   "source": []
  },
  {
   "cell_type": "code",
   "execution_count": null,
   "id": "f179e3e7-2453-443c-856e-db679cae6976",
   "metadata": {},
   "outputs": [],
   "source": []
  },
  {
   "cell_type": "code",
   "execution_count": null,
   "id": "ff2bc8c2-7b4a-473a-800e-c3d55e975d81",
   "metadata": {},
   "outputs": [],
   "source": []
  },
  {
   "cell_type": "code",
   "execution_count": null,
   "id": "3329a3bd-e133-4999-b0c6-9b61a2db4448",
   "metadata": {},
   "outputs": [],
   "source": []
  },
  {
   "cell_type": "code",
   "execution_count": null,
   "id": "58739cb8-7210-4702-90b4-18162a2f40da",
   "metadata": {},
   "outputs": [],
   "source": []
  },
  {
   "cell_type": "code",
   "execution_count": null,
   "id": "4bd2ebbe-a945-46ac-89ea-735a8f9337d6",
   "metadata": {},
   "outputs": [],
   "source": []
  },
  {
   "cell_type": "code",
   "execution_count": null,
   "id": "78e8df47-63d4-4291-8bac-8346322db2c7",
   "metadata": {},
   "outputs": [],
   "source": []
  },
  {
   "cell_type": "markdown",
   "id": "847b69b8-13b8-4a2e-abe7-11adc776bb08",
   "metadata": {},
   "source": [
    "## Remove Resources"
   ]
  },
  {
   "cell_type": "code",
   "execution_count": 74,
   "id": "49e9be75-ce2c-4b33-b10c-01dc161d723e",
   "metadata": {
    "tags": []
   },
   "outputs": [],
   "source": [
    "# can't drop the database of an active connection, switch connection to mysql (default) database\n",
    "\n",
    "#sync_pool.dispose()\n",
    "#sync_connector.close()\n",
    "#sync_connector = google.cloud.sql.connector.Connector()\n",
    "#sync_pool = get_sync_pool(sync_connector, 'postgres')\n",
    "\n",
    "#await async_pool.dispose()\n",
    "#await async_connector.close_async()\n",
    "#async_connector = await google.cloud.sql.connector.create_async_connector()\n",
    "#async_pool = await get_async_pool(async_connector, 'postgres')\n",
    "\n",
    "#query = sqlalchemy.text(f\"DROP DATABASE IF EXISTS \\\"{CLOUDSQL_DATABASE_NAME}\\\"\")\n",
    "#run_query(query)"
   ]
  },
  {
   "cell_type": "code",
   "execution_count": 107,
   "id": "ac9a9caa-4d47-41da-9298-e465e65c2604",
   "metadata": {
    "tags": []
   },
   "outputs": [],
   "source": [
    "#user_delete = !gcloud sql users delete $CLOUDSQL_USER --instance=$CLOUDSQL_INSTANCE_NAME --quiet"
   ]
  },
  {
   "cell_type": "code",
   "execution_count": 100,
   "id": "11d7ca8b-09f2-441a-af6d-32e869e66a32",
   "metadata": {
    "tags": []
   },
   "outputs": [],
   "source": [
    "#instance_delete = !gcloud sql instances delete $CLOUDSQL_INSTANCE_NAME --quiet --format=json"
   ]
  },
  {
   "cell_type": "code",
   "execution_count": null,
   "id": "676e7307-739e-43f8-8083-02698181e747",
   "metadata": {},
   "outputs": [],
   "source": []
  }
 ],
 "metadata": {
  "environment": {
   "kernel": "conda-base-py",
   "name": "workbench-notebooks.m125",
   "type": "gcloud",
   "uri": "us-docker.pkg.dev/deeplearning-platform-release/gcr.io/workbench-notebooks:m125"
  },
  "kernelspec": {
   "display_name": "Python 3 (ipykernel) (Local)",
   "language": "python",
   "name": "conda-base-py"
  },
  "language_info": {
   "codemirror_mode": {
    "name": "ipython",
    "version": 3
   },
   "file_extension": ".py",
   "mimetype": "text/x-python",
   "name": "python",
   "nbconvert_exporter": "python",
   "pygments_lexer": "ipython3",
   "version": "3.10.15"
  }
 },
 "nbformat": 4,
 "nbformat_minor": 5
}
