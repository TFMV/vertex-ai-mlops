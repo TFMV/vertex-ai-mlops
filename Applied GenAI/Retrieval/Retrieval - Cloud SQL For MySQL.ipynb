{
 "cells": [
  {
   "cell_type": "markdown",
   "id": "3aa892a5",
   "metadata": {},
   "source": [
    "![tracker](https://us-central1-vertex-ai-mlops-369716.cloudfunctions.net/pixel-tracking?path=statmike%2Fvertex-ai-mlops%2FApplied+GenAI%2FRetrieval&file=Retrieval+-+Cloud+SQL+For+MySQL.ipynb)\n",
    "<!--- header table --->\n",
    "<table align=\"left\">\n",
    "  <td style=\"text-align: center\">\n",
    "    <a href=\"https://colab.research.google.com/github/statmike/vertex-ai-mlops/blob/main/Applied%20GenAI/Retrieval/Retrieval%20-%20Cloud%20SQL%20For%20MySQL.ipynb\">\n",
    "      <img src=\"https://cloud.google.com/ml-engine/images/colab-logo-32px.png\" alt=\"Google Colaboratory logo\">\n",
    "      <br>Run in<br>Colab\n",
    "    </a>\n",
    "  </td>\n",
    "  <td style=\"text-align: center\">\n",
    "    <a href=\"https://console.cloud.google.com/vertex-ai/colab/import/https%3A%2F%2Fraw.githubusercontent.com%2Fstatmike%2Fvertex-ai-mlops%2Fmain%2FApplied%2520GenAI%2FRetrieval%2FRetrieval%2520-%2520Cloud%2520SQL%2520For%2520MySQL.ipynb\">\n",
    "      <img width=\"32px\" src=\"https://lh3.googleusercontent.com/JmcxdQi-qOpctIvWKgPtrzZdJJK-J3sWE1RsfjZNwshCFgE_9fULcNpuXYTilIR2hjwN\" alt=\"Google Cloud Colab Enterprise logo\">\n",
    "      <br>Run in<br>Colab Enterprise\n",
    "    </a>\n",
    "  </td>      \n",
    "  <td style=\"text-align: center\">\n",
    "    <a href=\"https://github.com/statmike/vertex-ai-mlops/blob/main/Applied%20GenAI/Retrieval/Retrieval%20-%20Cloud%20SQL%20For%20MySQL.ipynb\">\n",
    "      <img src=\"https://cloud.google.com/ml-engine/images/github-logo-32px.png\" alt=\"GitHub logo\">\n",
    "      <br>View on<br>GitHub\n",
    "    </a>\n",
    "  </td>\n",
    "  <td style=\"text-align: center\">\n",
    "    <a href=\"https://console.cloud.google.com/vertex-ai/workbench/deploy-notebook?download_url=https://raw.githubusercontent.com/statmike/vertex-ai-mlops/main/Applied%20GenAI/Retrieval/Retrieval%20-%20Cloud%20SQL%20For%20MySQL.ipynb\">\n",
    "      <img src=\"https://lh3.googleusercontent.com/UiNooY4LUgW_oTvpsNhPpQzsstV5W8F7rYgxgGBD85cWJoLmrOzhVs_ksK_vgx40SHs7jCqkTkCk=e14-rj-sc0xffffff-h130-w32\" alt=\"Vertex AI logo\">\n",
    "      <br>Open in<br>Vertex AI Workbench\n",
    "    </a>\n",
    "  </td>\n",
    "</table>"
   ]
  },
  {
   "cell_type": "markdown",
   "id": "96b0e8e6-d761-4540-9d09-8f0c4ce9a020",
   "metadata": {},
   "source": [
    "# Retrieval - Cloud SQL For MySQL\n",
    "<p style=\"font-size: 45px;\">IN PROGRESS - NOT COMPLETE</p>\n",
    "\n",
    "In prior workflows, a series of documents was [processed into chunks](../Chunking/readme.md), and for each chunk, [embeddings](../Embeddings/readme.md) were created:\n",
    "\n",
    "- Process: [Large Document Processing - Document AI Layout Parser](../Chunking/Large%20Document%20Processing%20-%20Document%20AI%20Layout%20Parser.ipynb)\n",
    "- Embed: [Vertex AI Text Embeddings API](../Embeddings/Vertex%20AI%20Text%20Embeddings%20API.ipynb)\n",
    "\n",
    "Retrieving chunks for a query involves calculating the embedding for the query and then using similarity metrics to find relevant chunks. A thorough review of similarity matching can be found in [The Math of Similarity](../Embeddings/The%20Math%20of%20Similarity.ipynb) - use dot product! As development moves from experiment to application, the process of storing and computing similarity is migrated to a [retrieval](./readme.md) system. This workflow is part of a [series of workflows exploring many retrieval systems](./readme.md).\n",
    "\n",
    "**Cloud SQL For MySQL For Storage, Indexing, And Search**\n",
    "\n",
    "\n",
    "\n",
    "**Use Case Data**\n",
    "\n",
    "Buying a home usually involves borrowing money from a lending institution, typically through a mortgage secured by the home's value. But how do these institutions manage the risks associated with such large loans, and how are lending standards established?\n",
    "\n",
    "In the United States, two government-sponsored enterprises (GSEs) play a vital role in the housing market:\n",
    "\n",
    "- Federal National Mortgage Association ([Fannie Mae](https://www.fanniemae.com/))\n",
    "- Federal Home Loan Mortgage Corporation ([Freddie Mac](https://www.freddiemac.com/))\n",
    "\n",
    "These GSEs purchase mortgages from lenders, enabling those lenders to offer more loans. This process also allows Fannie Mae and Freddie Mac to set standards for mortgages, ensuring they are responsible and borrowers are more likely to repay them. This system makes homeownership more affordable and stabilizes the housing market by maintaining a steady flow of liquidity for lenders and keeping interest rates controlled.\n",
    "\n",
    "However, navigating the complexities of these GSEs and their extensive servicing guides can be challenging.\n",
    "\n",
    "**Approaches**\n",
    "\n",
    "[This series](../readme.md) covers many generative AI workflows. These documents are used directly as long context for Gemini in the workflow [Long Context Retrieval With The Vertex AI Gemini API](../Generate/Long%20Context%20Retrieval%20With%20The%20Vertex%20AI%20Gemini%20API.ipynb). The workflow below uses a [retrieval](./readme.md) approach with the already generated chunks and embeddings."
   ]
  },
  {
   "cell_type": "markdown",
   "id": "be889472-69b0-416c-9cf1-edc9706fa5c5",
   "metadata": {
    "id": "od_UkDpvRmgD"
   },
   "source": [
    "---\n",
    "## Colab Setup\n",
    "\n",
    "When running this notebook in [Colab](https://colab.google/) or [Colab Enterprise](https://cloud.google.com/colab/docs/introduction), this section will authenticate to GCP (follow prompts in the popup) and set the current project for the session."
   ]
  },
  {
   "cell_type": "code",
   "execution_count": 1,
   "id": "21f75ba8-df50-466e-a5ec-f2a6dd88eb26",
   "metadata": {
    "executionInfo": {
     "elapsed": 195,
     "status": "ok",
     "timestamp": 1683726184843,
     "user": {
      "displayName": "Mike Henderson",
      "userId": "07691629187611687318"
     },
     "user_tz": 240
    },
    "id": "8UO9FnqyKBlF",
    "tags": []
   },
   "outputs": [],
   "source": [
    "PROJECT_ID = 'statmike-mlops-349915' # replace with project ID"
   ]
  },
  {
   "cell_type": "code",
   "execution_count": 2,
   "id": "9c325515-1ea0-45cc-82d3-a1bfb1c52155",
   "metadata": {
    "colab": {
     "base_uri": "https://localhost:8080/"
    },
    "executionInfo": {
     "elapsed": 68869,
     "status": "ok",
     "timestamp": 1683726253709,
     "user": {
      "displayName": "Mike Henderson",
      "userId": "07691629187611687318"
     },
     "user_tz": 240
    },
    "id": "N98-KK7LRkjm",
    "outputId": "09ec5008-0def-4e1a-c349-c598ee752f78",
    "tags": []
   },
   "outputs": [],
   "source": [
    "try:\n",
    "    from google.colab import auth\n",
    "    auth.authenticate_user()\n",
    "    !gcloud config set project {PROJECT_ID}\n",
    "except Exception:\n",
    "    pass"
   ]
  },
  {
   "cell_type": "markdown",
   "id": "055a4bd7-7b47-43ef-ba14-636c955e44e3",
   "metadata": {},
   "source": [
    "---\n",
    "## Installs and API Enablement\n",
    "\n",
    "The clients packages may need installing in this environment. "
   ]
  },
  {
   "cell_type": "markdown",
   "id": "410502ee-6fe3-4624-a69a-960ad7105f10",
   "metadata": {},
   "source": [
    "### Installs (If Needed)"
   ]
  },
  {
   "cell_type": "code",
   "execution_count": 3,
   "id": "f4dbdb83-3170-430c-b60d-3d686222a168",
   "metadata": {
    "tags": []
   },
   "outputs": [],
   "source": [
    "# tuples of (import name, install name, min_version)\n",
    "packages = [\n",
    "    ('google.cloud.aiplatform', 'google-cloud-aiplatform', '1.69.0'),\n",
    "    ('google.cloud.sql', 'cloud-sql-python-connector'),\n",
    "    ('sqlalchemy', 'sqlalchemy'),\n",
    "    ('pymysql', 'pymysql')\n",
    "]\n",
    "\n",
    "import importlib\n",
    "install = False\n",
    "for package in packages:\n",
    "    if not importlib.util.find_spec(package[0]):\n",
    "        print(f'installing package {package[1]}')\n",
    "        install = True\n",
    "        !pip install {package[1]} -U -q --user\n",
    "    elif len(package) == 3:\n",
    "        if importlib.metadata.version(package[0]) < package[2]:\n",
    "            print(f'updating package {package[1]}')\n",
    "            install = True\n",
    "            !pip install {package[1]} -U -q --user"
   ]
  },
  {
   "cell_type": "markdown",
   "id": "25374857-7d37-4c84-8cbb-a3c2fc7bb065",
   "metadata": {},
   "source": [
    "### API Enablement"
   ]
  },
  {
   "cell_type": "code",
   "execution_count": 4,
   "id": "9b7300a8-7e3a-4a08-95c0-91186237753f",
   "metadata": {
    "tags": []
   },
   "outputs": [],
   "source": [
    "!gcloud services enable aiplatform.googleapis.com\n",
    "!gcloud services enable sqladmin.googleapis.com"
   ]
  },
  {
   "cell_type": "markdown",
   "id": "157d09ba-9774-495f-8ced-3382bf75be8f",
   "metadata": {},
   "source": [
    "### Restart Kernel (If Installs Occured)\n",
    "\n",
    "After a kernel restart the code submission can start with the next cell after this one."
   ]
  },
  {
   "cell_type": "code",
   "execution_count": 5,
   "id": "f9864153-66c8-43e1-ae96-1179632ccf7d",
   "metadata": {
    "tags": []
   },
   "outputs": [],
   "source": [
    "if install:\n",
    "    import IPython\n",
    "    app = IPython.Application.instance()\n",
    "    app.kernel.do_shutdown(True)\n",
    "    IPython.display.display(IPython.display.Markdown(\"\"\"<div class=\\\"alert alert-block alert-warning\\\">\n",
    "        <b>⚠️ The kernel is going to restart. Please wait until it is finished before continuing to the next step. The previous cells do not need to be run again⚠️</b>\n",
    "        </div>\"\"\"))"
   ]
  },
  {
   "cell_type": "markdown",
   "id": "09a1ab41-cb32-4398-86dc-d30effb88a36",
   "metadata": {
    "id": "appt8-yVRtJ1"
   },
   "source": [
    "---\n",
    "## Setup"
   ]
  },
  {
   "cell_type": "markdown",
   "id": "2cebe11b-9ca1-4f3e-aa78-78640ff01ec8",
   "metadata": {
    "id": "63mx2EozRxFP"
   },
   "source": [
    "Inputs"
   ]
  },
  {
   "cell_type": "code",
   "execution_count": 6,
   "id": "ab2239cd-40ab-416d-bac0-0c6953d911b6",
   "metadata": {
    "colab": {
     "base_uri": "https://localhost:8080/",
     "height": 35
    },
    "executionInfo": {
     "elapsed": 2124,
     "status": "ok",
     "timestamp": 1683726390544,
     "user": {
      "displayName": "Mike Henderson",
      "userId": "07691629187611687318"
     },
     "user_tz": 240
    },
    "id": "xzcoXjM5Rky5",
    "outputId": "b3bdcbc1-70d5-472e-aea2-42c74a42efde",
    "tags": []
   },
   "outputs": [
    {
     "data": {
      "text/plain": [
       "'statmike-mlops-349915'"
      ]
     },
     "execution_count": 6,
     "metadata": {},
     "output_type": "execute_result"
    }
   ],
   "source": [
    "project = !gcloud config get-value project\n",
    "PROJECT_ID = project[0]\n",
    "PROJECT_ID"
   ]
  },
  {
   "cell_type": "code",
   "execution_count": 7,
   "id": "8aa97f05-66e9-4276-b2e6-83b5a91ca50c",
   "metadata": {
    "executionInfo": {
     "elapsed": 2,
     "status": "ok",
     "timestamp": 1683726390712,
     "user": {
      "displayName": "Mike Henderson",
      "userId": "07691629187611687318"
     },
     "user_tz": 240
    },
    "id": "IxWrFtqYMfku",
    "tags": []
   },
   "outputs": [],
   "source": [
    "REGION = 'us-central1'\n",
    "SERIES = 'applied-genai'\n",
    "EXPERIMENT = 'retrieval-cloudsql-mysql'\n",
    "\n",
    "# Cloud SQL Names\n",
    "CLOUDSQL_INSTANCE_NAME = EXPERIMENT\n",
    "CLOUDSQL_DATABASE_NAME = SERIES\n",
    "CLOUDSQL_TABLE_NAME = EXPERIMENT\n",
    "\n",
    "CLOUDSQL_USER = 'test_db'\n",
    "CLOUDSQL_PASS = 'test_db_pass'"
   ]
  },
  {
   "cell_type": "markdown",
   "id": "52bbf65b-5d29-4a72-84ae-d977b9a743a6",
   "metadata": {
    "id": "LuajVwCiO6Yg"
   },
   "source": [
    "Packages"
   ]
  },
  {
   "cell_type": "code",
   "execution_count": 75,
   "id": "559f6e60-a594-4789-893b-295a8381b670",
   "metadata": {
    "executionInfo": {
     "elapsed": 17761,
     "status": "ok",
     "timestamp": 1683726409304,
     "user": {
      "displayName": "Mike Henderson",
      "userId": "07691629187611687318"
     },
     "user_tz": 240
    },
    "id": "LVC7zzSLRk2C",
    "tags": []
   },
   "outputs": [],
   "source": [
    "import os, json, time, glob, datetime, copy\n",
    "import concurrent.futures\n",
    "\n",
    "import numpy as np\n",
    "\n",
    "# Vertex AI\n",
    "from google.cloud import aiplatform\n",
    "import vertexai.language_models # for embeddings API\n",
    "import vertexai.generative_models # for Gemini Models\n",
    "from vertexai.resources.preview import feature_store\n",
    "\n",
    "# Cloud SQL\n",
    "import google.cloud.sql.connector\n",
    "import sqlalchemy\n",
    "import pymysql"
   ]
  },
  {
   "cell_type": "code",
   "execution_count": 9,
   "id": "d3fef31f-928f-45f2-a3f4-292ee242232c",
   "metadata": {
    "tags": []
   },
   "outputs": [
    {
     "data": {
      "text/plain": [
       "'1.71.0'"
      ]
     },
     "execution_count": 9,
     "metadata": {},
     "output_type": "execute_result"
    }
   ],
   "source": [
    "aiplatform.__version__"
   ]
  },
  {
   "cell_type": "markdown",
   "id": "5758c07e-f064-40fb-a0ef-de6cbde5cd0a",
   "metadata": {
    "id": "EyAVFG9TO9H-"
   },
   "source": [
    "Clients"
   ]
  },
  {
   "cell_type": "code",
   "execution_count": 10,
   "id": "3b72f3bb-176b-4678-ba6b-df9b2de14997",
   "metadata": {
    "executionInfo": {
     "elapsed": 19,
     "status": "ok",
     "timestamp": 1683726409306,
     "user": {
      "displayName": "Mike Henderson",
      "userId": "07691629187611687318"
     },
     "user_tz": 240
    },
    "id": "L0RPE13LOZce",
    "tags": []
   },
   "outputs": [],
   "source": [
    "# vertex ai clients\n",
    "vertexai.init(project = PROJECT_ID, location = REGION)"
   ]
  },
  {
   "cell_type": "markdown",
   "id": "8579282f-2723-4294-b72a-a65cc0831f44",
   "metadata": {},
   "source": [
    "---\n",
    "## Text & Embeddings For Examples\n",
    "\n",
    "This repository contains a [section for document processing (chunking)](../Chunking/readme.md) that includes an example of processing mulitple large pdfs (over 1000 pages) into chunks: [Large Document Processing - Document AI Layout Parser](../Chunking/Large%20Document%20Processing%20-%20Document%20AI%20Layout%20Parser.ipynb).  The chunks of text from that workflow are stored with this repository and loaded by another companion workflow that augments the chunks with text embeddings: [Vertex AI Text Embeddings API](../Embeddings/Vertex%20AI%20Text%20Embeddings%20API.ipynb).\n",
    "\n",
    "The following code will load the version of the chunks that includes text embeddings and prepare it for a local example of retrival augmented generation."
   ]
  },
  {
   "cell_type": "markdown",
   "id": "1e12cbe2-3ca6-4656-9e73-c0db5c63bf50",
   "metadata": {},
   "source": [
    "### Get The Documents\n",
    "\n",
    "If you are working from a clone of this notebooks [repository](https://github.com/statmike/vertex-ai-mlops) then the documents are already present. The following cell checks for the documents folder and if it is missing gets it (`git clone`):"
   ]
  },
  {
   "cell_type": "code",
   "execution_count": 11,
   "id": "6f4e77ed-43f7-42be-9575-6a491c0d6cba",
   "metadata": {
    "tags": []
   },
   "outputs": [],
   "source": [
    "local_dir = '../Embeddings/files/embeddings-api'"
   ]
  },
  {
   "cell_type": "code",
   "execution_count": 12,
   "id": "63ebe7c3-e72c-4394-91c3-d60c05bc0ce2",
   "metadata": {
    "tags": []
   },
   "outputs": [
    {
     "name": "stdout",
     "output_type": "stream",
     "text": [
      "Documents Found in folder `../Embeddings/files/embeddings-api`\n"
     ]
    }
   ],
   "source": [
    "if not os.path.exists(local_dir):\n",
    "    print('Retrieving documents...')\n",
    "    parent_dir = os.path.dirname(local_dir)\n",
    "    temp_dir = os.path.join(parent_dir, 'temp')\n",
    "    if not os.path.exists(temp_dir):\n",
    "        os.makedirs(temp_dir)\n",
    "    !git clone https://www.github.com/statmike/vertex-ai-mlops {temp_dir}/vertex-ai-mlops\n",
    "    shutil.copytree(f'{temp_dir}/vertex-ai-mlops/Applied GenAI/Embeddings/files/embeddings-api', local_dir)\n",
    "    shutil.rmtree(temp_dir)\n",
    "    print(f'Documents are now in folder `{local_dir}`')\n",
    "else:\n",
    "    print(f'Documents Found in folder `{local_dir}`')             "
   ]
  },
  {
   "cell_type": "markdown",
   "id": "33e68a84-9f88-4590-9ff1-e01c8a953ccf",
   "metadata": {},
   "source": [
    "### Load The Chunks"
   ]
  },
  {
   "cell_type": "code",
   "execution_count": 13,
   "id": "58d04382-a74a-44ac-8824-3b46c86aa148",
   "metadata": {
    "tags": []
   },
   "outputs": [
    {
     "data": {
      "text/plain": [
       "['../Embeddings/files/embeddings-api/large-files-chunk-embeddings-0000.jsonl',\n",
       " '../Embeddings/files/embeddings-api/large-files-chunk-embeddings-0001.jsonl',\n",
       " '../Embeddings/files/embeddings-api/large-files-chunk-embeddings-0002.jsonl',\n",
       " '../Embeddings/files/embeddings-api/large-files-chunk-embeddings-0003.jsonl',\n",
       " '../Embeddings/files/embeddings-api/large-files-chunk-embeddings-0004.jsonl',\n",
       " '../Embeddings/files/embeddings-api/large-files-chunk-embeddings-0005.jsonl',\n",
       " '../Embeddings/files/embeddings-api/large-files-chunk-embeddings-0006.jsonl',\n",
       " '../Embeddings/files/embeddings-api/large-files-chunk-embeddings-0007.jsonl',\n",
       " '../Embeddings/files/embeddings-api/large-files-chunk-embeddings-0008.jsonl',\n",
       " '../Embeddings/files/embeddings-api/large-files-chunk-embeddings-0009.jsonl']"
      ]
     },
     "execution_count": 13,
     "metadata": {},
     "output_type": "execute_result"
    }
   ],
   "source": [
    "jsonl_files = glob.glob(f\"{local_dir}/large-files*.jsonl\")\n",
    "jsonl_files.sort()\n",
    "jsonl_files"
   ]
  },
  {
   "cell_type": "code",
   "execution_count": 14,
   "id": "a54c6c96-6c28-49bb-80be-5d46797dfe77",
   "metadata": {
    "tags": []
   },
   "outputs": [
    {
     "data": {
      "text/plain": [
       "9040"
      ]
     },
     "execution_count": 14,
     "metadata": {},
     "output_type": "execute_result"
    }
   ],
   "source": [
    "chunks = []\n",
    "for file in jsonl_files:\n",
    "    with open(file, 'r') as f:\n",
    "        chunks.extend([json.loads(line) for line in f])\n",
    "len(chunks)"
   ]
  },
  {
   "cell_type": "markdown",
   "id": "a70115ec-6d60-41df-b7e6-9e2e5b463b1d",
   "metadata": {},
   "source": [
    "### Review A Chunk"
   ]
  },
  {
   "cell_type": "code",
   "execution_count": 15,
   "id": "fc20423e-e3d6-4e90-9e98-a5248508c82d",
   "metadata": {
    "tags": []
   },
   "outputs": [
    {
     "data": {
      "text/plain": [
       "dict_keys(['instance', 'predictions', 'status'])"
      ]
     },
     "execution_count": 15,
     "metadata": {},
     "output_type": "execute_result"
    }
   ],
   "source": [
    "chunks[0].keys()"
   ]
  },
  {
   "cell_type": "code",
   "execution_count": 16,
   "id": "1955ea39-4ffc-4d30-b653-a5a9911f2dab",
   "metadata": {
    "tags": []
   },
   "outputs": [
    {
     "data": {
      "text/plain": [
       "'fannie_part_0_c17'"
      ]
     },
     "execution_count": 16,
     "metadata": {},
     "output_type": "execute_result"
    }
   ],
   "source": [
    "chunks[0]['instance']['chunk_id']"
   ]
  },
  {
   "cell_type": "code",
   "execution_count": 17,
   "id": "3537982c-4a0e-456c-a652-19ea7507873b",
   "metadata": {
    "tags": []
   },
   "outputs": [
    {
     "name": "stdout",
     "output_type": "stream",
     "text": [
      "# Selling Guide Fannie Mae Single Family\n",
      "\n",
      "## Fannie Mae Copyright Notice\n",
      "\n",
      "### Fannie Mae Copyright Notice\n",
      "\n",
      "|-|\n",
      "| Section B3-4.2, Verification of Depository Assets 402 |\n",
      "| B3-4.2-01, Verification of Deposits and Assets (05/04/2022) 403 |\n",
      "| B3-4.2-02, Depository Accounts (12/14/2022) 405 |\n",
      "| B3-4.2-03, Individual Development Accounts (02/06/2019) 408 |\n",
      "| B3-4.2-04, Pooled Savings (Community Savings Funds) (04/01/2009) 411 |\n",
      "| B3-4.2-05, Foreign Assets (05/04/2022) 411 |\n",
      "| Section B3-4.3, Verification of Non-Depository Assets 412 |\n",
      "| B3-4.3-01, Stocks, Stock Options, Bonds, and Mutual Funds (06/30/2015) 412 |\n",
      "| B3-4.3-02, Trust Accounts (04/01/2009) 413 |\n",
      "| B3-4.3-03, Retirement Accounts (06/30/2015) 414 |\n",
      "| B3-4.3-04, Personal Gifts (09/06/2023) 415 |\n",
      "| B3-4.3-05, Gifts of Equity (10/07/2020) 418 |\n",
      "| B3-4.3-06, Grants and Lender Contributions (12/14/2022) 419 |\n",
      "| B3-4.3-07, Disaster Relief Grants or Loans (04/01/2009) 423 |\n",
      "| B3-4.3-08, Employer Assistance (09/29/2015) 423 |\n",
      "| B3-4.3-09, Earnest Money Deposit (05/04/2022) 425 |\n",
      "| B3-4.3-10, Anticipated Sales Proceeds (02/23/2016) B3-4.3-11, Trade Equity (12/16/2020) 426 428 |\n",
      "| B3-4.3-12, Rent-Related Credits (08/07/2024) 429 |\n",
      "| B3-4.3-13, Sweat Equity (04/15/2014) 430 |\n",
      "| B3-4.3-14, Bridge/Swing Loans (04/01/2009) 431 |\n",
      "| B3-4.3-15, Borrowed Funds Secured by an Asset (10/30/2009) 431 |\n",
      "|  |\n",
      "\n",
      "\n"
     ]
    }
   ],
   "source": [
    "print(chunks[0]['instance']['content'])"
   ]
  },
  {
   "cell_type": "code",
   "execution_count": 18,
   "id": "49f06293-a439-436b-bc93-cd6cd3fb4aff",
   "metadata": {
    "tags": []
   },
   "outputs": [
    {
     "data": {
      "text/plain": [
       "[0.031277116388082504,\n",
       " 0.03056905046105385,\n",
       " 0.010865348391234875,\n",
       " 0.0623614676296711,\n",
       " 0.03228681534528732,\n",
       " 0.05066155269742012,\n",
       " 0.046544693410396576,\n",
       " 0.05509665608406067,\n",
       " -0.014074751175940037,\n",
       " 0.008380400016903877]"
      ]
     },
     "execution_count": 18,
     "metadata": {},
     "output_type": "execute_result"
    }
   ],
   "source": [
    "chunks[0]['predictions'][0]['embeddings']['values'][0:10]"
   ]
  },
  {
   "cell_type": "markdown",
   "id": "f977358d-d9ea-4172-9eca-66079bb6087d",
   "metadata": {},
   "source": [
    "### Prepare Chunk Structure\n",
    "\n",
    "Make a list of dictionaries with information for each chunk:"
   ]
  },
  {
   "cell_type": "code",
   "execution_count": 19,
   "id": "be9fa708-130c-4343-b179-dbde0b09a972",
   "metadata": {
    "tags": []
   },
   "outputs": [],
   "source": [
    "content_chunks = [\n",
    "    dict(\n",
    "        gse = chunk['instance']['gse'],\n",
    "        chunk_id = chunk['instance']['chunk_id'],\n",
    "        content = chunk['instance']['content'],\n",
    "        embedding = chunk['predictions'][0]['embeddings']['values']\n",
    "    ) for chunk in chunks\n",
    "]"
   ]
  },
  {
   "cell_type": "markdown",
   "id": "d6619605-7b10-444e-a131-db06e56a4be8",
   "metadata": {},
   "source": [
    "### Query Embedding\n",
    "\n",
    "Create a query, or prompt, and get the embedding for it:\n",
    "\n",
    "Connect to models for text embeddings. Learn more about the model API:\n",
    "- [Vertex AI Text Embeddings API](../Embeddings/Vertex%20AI%20Text%20Embeddings%20API.ipynb)"
   ]
  },
  {
   "cell_type": "code",
   "execution_count": 20,
   "id": "3da5d30c-3dfb-42ba-a133-83dceb252787",
   "metadata": {
    "tags": []
   },
   "outputs": [],
   "source": [
    "question = \"Does a lender have to perform servicing functions directly?\""
   ]
  },
  {
   "cell_type": "code",
   "execution_count": 21,
   "id": "7992c26f-d058-4920-80a3-a157b88733e4",
   "metadata": {
    "tags": []
   },
   "outputs": [],
   "source": [
    "embedder = vertexai.language_models.TextEmbeddingModel.from_pretrained('text-embedding-004')"
   ]
  },
  {
   "cell_type": "code",
   "execution_count": 22,
   "id": "bbe6fda7-9cea-49a2-9e2f-9222d50677af",
   "metadata": {
    "tags": []
   },
   "outputs": [
    {
     "data": {
      "text/plain": [
       "[-0.0005117303808219731,\n",
       " 0.009651427157223225,\n",
       " 0.01768726110458374,\n",
       " 0.014538003131747246,\n",
       " -0.01829824410378933,\n",
       " 0.027877431362867355,\n",
       " -0.021124685183167458,\n",
       " 0.008830446749925613,\n",
       " -0.02669006586074829,\n",
       " 0.06414774805307388]"
      ]
     },
     "execution_count": 22,
     "metadata": {},
     "output_type": "execute_result"
    }
   ],
   "source": [
    "question_embedding = embedder.get_embeddings([question])[0].values\n",
    "question_embedding[0:10]"
   ]
  },
  {
   "cell_type": "markdown",
   "id": "0b6ec209-b34a-4837-8c54-a991ad831764",
   "metadata": {},
   "source": [
    "---\n",
    "## Setup Cloud SQL For MySQL\n",
    "\n",
    "Creating an instance.  While failover replicas and read-only replicas are possible this example uses a single instance server with minimum possible specifications.  Creating an instance also includes choose a Cloud SQL edition.\n",
    "\n",
    "https://cloud.google.com/sql/docs/mysql/editions-intro\n",
    "\n",
    "https://cloud.google.com/sql/pricing#mysql-pg-pricing"
   ]
  },
  {
   "cell_type": "markdown",
   "id": "ea03feb3-9a22-4a7f-8988-91c9c9195175",
   "metadata": {},
   "source": [
    "### Create/Retrieve Instance\n",
    "\n",
    "https://cloud.google.com/sql/docs/mysql/create-instance\n",
    "\n",
    "https://cloud.google.com/sql/docs/mysql/instance-settings\n",
    "\n",
    "https://cloud.google.com/sdk/gcloud/reference/sql/instances"
   ]
  },
  {
   "cell_type": "code",
   "execution_count": 23,
   "id": "e71ba04b-f118-436f-bcc2-e1cac6ac3824",
   "metadata": {
    "tags": []
   },
   "outputs": [
    {
     "name": "stdout",
     "output_type": "stream",
     "text": [
      "Found the instance: retrieval-cloudsql-mysql\n"
     ]
    }
   ],
   "source": [
    "list_instances = !gcloud sql instances list --format=\"json(name)\"\n",
    "list_instances = json.loads(''.join(list_instances))\n",
    "\n",
    "if CLOUDSQL_INSTANCE_NAME in [i['name'] for i in list_instances]:\n",
    "    instance_describe = !gcloud sql instances describe $CLOUDSQL_INSTANCE_NAME --format=json\n",
    "    instance_describe = json.loads(''.join(instance_describe))\n",
    "    print(f\"Found the instance: {instance_describe['name']}\")\n",
    "else:\n",
    "    print('Creating an instance...')\n",
    "    instance_create = !gcloud sql instances create $CLOUDSQL_INSTANCE_NAME \\\n",
    "        --database-version=MYSQL_8_0 \\\n",
    "        --tier=db-g1-small \\\n",
    "        --region=us-central1 \\\n",
    "        --quiet\n",
    "    instance_describe = !gcloud sql instances describe $CLOUDSQL_INSTANCE_NAME --format=json\n",
    "    instance_describe = json.loads(''.join(instance_describe))\n",
    "    print(f\"Created the instance: {instance_describe['name']}\")"
   ]
  },
  {
   "cell_type": "code",
   "execution_count": 24,
   "id": "91e44642-6640-40ef-b0a0-f0000b3d695f",
   "metadata": {
    "tags": []
   },
   "outputs": [],
   "source": [
    "#instance_describe"
   ]
  },
  {
   "cell_type": "markdown",
   "id": "dc8dcdef-2393-4b57-b658-d0c01dc8d759",
   "metadata": {},
   "source": [
    "### Create User For This Workflow\n",
    "\n",
    "This workflow is a demonstration of capabilities.  \n",
    "\n",
    "https://cloud.google.com/sql/docs/mysql/users"
   ]
  },
  {
   "cell_type": "code",
   "execution_count": 25,
   "id": "90c809ac-f0c0-4780-af82-99dc8f679dc9",
   "metadata": {
    "tags": []
   },
   "outputs": [
    {
     "name": "stdout",
     "output_type": "stream",
     "text": [
      "Found the user: test_db\n"
     ]
    }
   ],
   "source": [
    "list_users = !gcloud sql users list --format=\"json\" --instance=$CLOUDSQL_INSTANCE_NAME\n",
    "list_users = json.loads(''.join(list_users))\n",
    "\n",
    "if CLOUDSQL_USER in [i['name'] for i in list_users]:\n",
    "    user_describe = !gcloud sql users describe $CLOUDSQL_USER --instance=$CLOUDSQL_INSTANCE_NAME --format=json\n",
    "    user_describe = json.loads(''.join(user_describe))\n",
    "    print(f\"Found the user: {user_describe['name']}\")\n",
    "else:\n",
    "    print('Creating the user...')\n",
    "    user_create = !gcloud sql users create $CLOUDSQL_USER \\\n",
    "        --instance=$CLOUDSQL_INSTANCE_NAME \\\n",
    "        --password=$CLOUDSQL_PASS\n",
    "    user_describe = !gcloud sql users describe $CLOUDSQL_USER --instance=$CLOUDSQL_INSTANCE_NAME --format=json\n",
    "    user_describe = json.loads(''.join(user_describe))\n",
    "    print(f\"Created the user: {user_describe['name']}\")"
   ]
  },
  {
   "cell_type": "code",
   "execution_count": 26,
   "id": "2d58cc5b-ff2f-43de-85d3-4e10b2976552",
   "metadata": {
    "tags": []
   },
   "outputs": [],
   "source": [
    "#user_describe"
   ]
  },
  {
   "cell_type": "markdown",
   "id": "fb54a1d1-c3e6-4f78-bf83-713c92653275",
   "metadata": {},
   "source": [
    "### Connection To Databases\n",
    "\n",
    "Cloud SQL For MySQL has default databases, like mysql: https://cloud.google.com/sql/docs/mysql/create-manage-databases#gcloud\n",
    "\n",
    "There are many ways to connect to a database: https://cloud.google.com/sql/docs/mysql/connect-overview\n",
    "\n",
    "Here we want to use Python and will use the Cloud SQL Language Connectors: https://cloud.google.com/sql/docs/mysql/language-connectors\n",
    "\n",
    "We will create a connector: https://cloud.google.com/sql/docs/mysql/connect-connectors#python\n",
    "\n",
    "Connections have three parts:\n",
    "- a connection tool, in this case provided by: https://github.com/GoogleCloudPlatform/cloud-sql-python-connector\n",
    "- a driver to create a connection pool, pymysql\n",
    "- a client library that can use connection pools to execute SQL queries, SQLAlchemy"
   ]
  },
  {
   "cell_type": "markdown",
   "id": "90c74471-7e71-41ea-99e0-e155dee64686",
   "metadata": {},
   "source": [
    "#### Connection Tool"
   ]
  },
  {
   "cell_type": "code",
   "execution_count": 27,
   "id": "46728598-f440-42cd-ba76-8a3473fba204",
   "metadata": {
    "tags": []
   },
   "outputs": [],
   "source": [
    "sync_connector = google.cloud.sql.connector.Connector()"
   ]
  },
  {
   "cell_type": "markdown",
   "id": "a250d996-035d-49f4-94ef-0f7924480011",
   "metadata": {
    "tags": []
   },
   "source": [
    "#### Connection"
   ]
  },
  {
   "cell_type": "code",
   "execution_count": 28,
   "id": "8883224b-74e6-4314-9a32-6743a05aad72",
   "metadata": {
    "tags": []
   },
   "outputs": [],
   "source": [
    "def get_sync_conn(\n",
    "    connector: google.cloud.sql.connector.Connector,\n",
    "    db: str\n",
    "):\n",
    "    def getconn():\n",
    "        conn = connector.connect(\n",
    "            instance_describe['connectionName'],\n",
    "            \"pymysql\",\n",
    "            user = CLOUDSQL_USER,\n",
    "            password = CLOUDSQL_PASS,\n",
    "            db = db\n",
    "        )\n",
    "        return conn\n",
    "    return getconn"
   ]
  },
  {
   "cell_type": "markdown",
   "id": "4164f4f1-e8f6-4bf5-abcd-6b1f45a89ec3",
   "metadata": {
    "tags": []
   },
   "source": [
    "#### Connection Pool"
   ]
  },
  {
   "cell_type": "code",
   "execution_count": 29,
   "id": "6b00a969-b033-47d7-9a2a-cd3f16f5d425",
   "metadata": {
    "tags": []
   },
   "outputs": [],
   "source": [
    "def get_sync_pool(\n",
    "    connector: google.cloud.sql.connector.Connector,\n",
    "    db: str\n",
    ") -> sqlalchemy.engine.Engine:\n",
    "\n",
    "    pool = sqlalchemy.create_engine(\n",
    "        \"mysql+pymysql://\",\n",
    "        creator = get_sync_conn(connector, db)\n",
    "    )\n",
    "    pool.dialect.description_encoding = None\n",
    "    pool.execution_options(isolation_level=\"AUTOCOMMIT\")\n",
    "    return pool"
   ]
  },
  {
   "cell_type": "code",
   "execution_count": 30,
   "id": "edde2bd8-38c1-47b3-8514-c732b7c6ea73",
   "metadata": {
    "tags": []
   },
   "outputs": [],
   "source": [
    "sync_pool = get_sync_pool(sync_connector, 'mysql')"
   ]
  },
  {
   "cell_type": "markdown",
   "id": "4b545d8c-4f9a-477a-b7d8-12a09608971c",
   "metadata": {
    "tags": []
   },
   "source": [
    "#### Query Orchestrator\n",
    "\n",
    "Use the a pool as a context manager to orchstrate the query"
   ]
  },
  {
   "cell_type": "code",
   "execution_count": 31,
   "id": "d00ad350-cab5-46eb-a4ec-ebbde6f36e2d",
   "metadata": {
    "tags": []
   },
   "outputs": [],
   "source": [
    "def run_query(query, pool = None, connector = sync_connector):\n",
    "    # get the current connnection pool:\n",
    "    if pool is None:\n",
    "        pool = sync_pool\n",
    "        \n",
    "    # run the query and get the response as 'result'\n",
    "    with pool.connect().execution_options(isolation_level=\"AUTOCOMMIT\") as connection:\n",
    "        result = connection.execute(query)\n",
    "        #connector.close()\n",
    "        \n",
    "    # prepare the response\n",
    "    rows = []\n",
    "    try:\n",
    "        for row in result:\n",
    "            rows.append(dict(zip(result.keys(), row)))\n",
    "    except Exception:\n",
    "        pass\n",
    "    \n",
    "    # return the response\n",
    "    return rows[0] if len(rows) == 1 else rows"
   ]
  },
  {
   "cell_type": "markdown",
   "id": "c30d6e7b-961f-45c0-a25d-86e136208b4b",
   "metadata": {
    "tags": []
   },
   "source": [
    "### Test Query\n",
    "\n",
    "When submitting SQL statements either of the connectors should work for DML (SELECT, INSERT, DELETE, UPDATE) but only the synchronous connector appears to work for DDL (CREATE, ALTER, DROP) statements."
   ]
  },
  {
   "cell_type": "code",
   "execution_count": 32,
   "id": "5ffc8da0-e2c1-4049-97c0-23e9c51b0908",
   "metadata": {
    "tags": []
   },
   "outputs": [],
   "source": [
    "query = sqlalchemy.text(\"SELECT 'Success' as did_it_work\")"
   ]
  },
  {
   "cell_type": "code",
   "execution_count": 33,
   "id": "6cdcc3cc-b210-4351-b963-9a5e79010b70",
   "metadata": {
    "tags": []
   },
   "outputs": [
    {
     "data": {
      "text/plain": [
       "{'did_it_work': 'Success'}"
      ]
     },
     "execution_count": 33,
     "metadata": {},
     "output_type": "execute_result"
    }
   ],
   "source": [
    "run_query(query)"
   ]
  },
  {
   "cell_type": "code",
   "execution_count": 34,
   "id": "c95815a8-fd7c-42db-896d-dae1c1476ae0",
   "metadata": {
    "tags": []
   },
   "outputs": [
    {
     "name": "stdout",
     "output_type": "stream",
     "text": [
      "{'did_it_work': 'Success'}\n",
      "{'did_it_work': 'Success'}\n",
      "{'did_it_work': 'Success'}\n",
      "{'did_it_work': 'Success'}\n",
      "{'did_it_work': 'Success'}\n"
     ]
    }
   ],
   "source": [
    "with concurrent.futures.ThreadPoolExecutor(max_workers = 5) as executor:\n",
    "    queries = [query]* 5\n",
    "    futures = [executor.submit(run_query, query) for query in queries]\n",
    "    for future in futures:\n",
    "        print(future.result())"
   ]
  },
  {
   "cell_type": "markdown",
   "id": "aa0cacc4-59f7-4fa6-b766-8215e74ee8dc",
   "metadata": {},
   "source": [
    "---\n",
    "## Working With Cloud SQL For MySQL"
   ]
  },
  {
   "cell_type": "markdown",
   "id": "7c5268fb-f40c-48f7-9d34-35d4bdfd3c01",
   "metadata": {
    "tags": []
   },
   "source": [
    "### Create A Database"
   ]
  },
  {
   "cell_type": "code",
   "execution_count": 35,
   "id": "03b6242c-6bc1-417d-b6ca-7011f3300216",
   "metadata": {
    "tags": []
   },
   "outputs": [
    {
     "data": {
      "text/plain": [
       "[]"
      ]
     },
     "execution_count": 35,
     "metadata": {},
     "output_type": "execute_result"
    }
   ],
   "source": [
    "query = sqlalchemy.text(f\"SELECT schema_name FROM INFORMATION_SCHEMA.SCHEMATA WHERE schema_name = '{CLOUDSQL_DATABASE_NAME}'\")\n",
    "result = run_query(query)\n",
    "result"
   ]
  },
  {
   "cell_type": "code",
   "execution_count": 40,
   "id": "062c3f67-c31d-4fee-8086-965edfc65205",
   "metadata": {
    "tags": []
   },
   "outputs": [],
   "source": [
    "if not result:\n",
    "    query = sqlalchemy.text(f\"CREATE DATABASE `{CLOUDSQL_DATABASE_NAME}`\")\n",
    "    run_query(query)"
   ]
  },
  {
   "cell_type": "code",
   "execution_count": 41,
   "id": "678cb382-149a-4c31-9ef1-7689542daede",
   "metadata": {
    "tags": []
   },
   "outputs": [
    {
     "data": {
      "text/plain": [
       "{'SCHEMA_NAME': 'applied-genai'}"
      ]
     },
     "execution_count": 41,
     "metadata": {},
     "output_type": "execute_result"
    }
   ],
   "source": [
    "query = sqlalchemy.text(f\"SELECT schema_name FROM INFORMATION_SCHEMA.SCHEMATA WHERE schema_name = '{CLOUDSQL_DATABASE_NAME}'\")\n",
    "result = run_query(query)\n",
    "result"
   ]
  },
  {
   "cell_type": "code",
   "execution_count": 42,
   "id": "d1ea53f2-15f7-4f9f-91e0-c23eede6bc60",
   "metadata": {
    "tags": []
   },
   "outputs": [
    {
     "data": {
      "text/plain": [
       "{'CATALOG_NAME': 'def',\n",
       " 'SCHEMA_NAME': 'applied-genai',\n",
       " 'DEFAULT_CHARACTER_SET_NAME': 'utf8mb4',\n",
       " 'DEFAULT_COLLATION_NAME': 'utf8mb4_0900_ai_ci',\n",
       " 'SQL_PATH': None,\n",
       " 'DEFAULT_ENCRYPTION': 'NO'}"
      ]
     },
     "execution_count": 42,
     "metadata": {},
     "output_type": "execute_result"
    }
   ],
   "source": [
    "query = sqlalchemy.text(f\"SELECT * FROM INFORMATION_SCHEMA.SCHEMATA WHERE schema_name = '{CLOUDSQL_DATABASE_NAME}'\")\n",
    "run_query(query)"
   ]
  },
  {
   "cell_type": "markdown",
   "id": "5da651ad-3c23-4415-8dcc-03f5e7c28098",
   "metadata": {},
   "source": [
    "### Move Connection To New Database"
   ]
  },
  {
   "cell_type": "code",
   "execution_count": 43,
   "id": "df724bf6-c196-4402-a820-b7bf102eb451",
   "metadata": {
    "tags": []
   },
   "outputs": [
    {
     "data": {
      "text/plain": [
       "{'DATABASE()': 'mysql'}"
      ]
     },
     "execution_count": 43,
     "metadata": {},
     "output_type": "execute_result"
    }
   ],
   "source": [
    "run_query(sqlalchemy.text('SELECT database()'))"
   ]
  },
  {
   "cell_type": "code",
   "execution_count": 46,
   "id": "381e715f-3aa1-41f7-a80f-ecb13fb8179f",
   "metadata": {
    "tags": []
   },
   "outputs": [],
   "source": [
    "sync_pool.dispose()\n",
    "sync_connector.close()\n",
    "sync_connector = google.cloud.sql.connector.Connector()\n",
    "sync_pool = get_sync_pool(sync_connector, CLOUDSQL_DATABASE_NAME)"
   ]
  },
  {
   "cell_type": "code",
   "execution_count": 47,
   "id": "057314e6-c8de-44ce-903e-a8b781f4406a",
   "metadata": {
    "tags": []
   },
   "outputs": [
    {
     "data": {
      "text/plain": [
       "{'database()': 'applied-genai'}"
      ]
     },
     "execution_count": 47,
     "metadata": {},
     "output_type": "execute_result"
    }
   ],
   "source": [
    "run_query(sqlalchemy.text('SELECT database()'))"
   ]
  },
  {
   "cell_type": "markdown",
   "id": "5d5fbeba-0ab4-44c6-8130-089c58d9f2b3",
   "metadata": {},
   "source": [
    "### Create Table"
   ]
  },
  {
   "cell_type": "code",
   "execution_count": 48,
   "id": "d9451a9a-3971-4cc8-a538-fbe262d33de7",
   "metadata": {
    "tags": []
   },
   "outputs": [
    {
     "data": {
      "text/plain": [
       "[]"
      ]
     },
     "execution_count": 48,
     "metadata": {},
     "output_type": "execute_result"
    }
   ],
   "source": [
    "result = run_query(sqlalchemy.text(f\"SELECT * from information_schema.tables WHERE table_schema = '{CLOUDSQL_TABLE_NAME}'\"))\n",
    "result"
   ]
  },
  {
   "cell_type": "code",
   "execution_count": 49,
   "id": "f405b3da-3273-4eee-b803-ba24dc9257f2",
   "metadata": {
    "tags": []
   },
   "outputs": [
    {
     "data": {
      "text/plain": [
       "[]"
      ]
     },
     "execution_count": 49,
     "metadata": {},
     "output_type": "execute_result"
    }
   ],
   "source": [
    "run_query(sqlalchemy.text(f\"DROP TABLE IF EXISTS `{CLOUDSQL_TABLE_NAME}`\"))"
   ]
  },
  {
   "cell_type": "code",
   "execution_count": 50,
   "id": "0e09e6de-ea35-4869-b71d-7cbca6c7cddf",
   "metadata": {
    "tags": []
   },
   "outputs": [
    {
     "data": {
      "text/plain": [
       "[]"
      ]
     },
     "execution_count": 50,
     "metadata": {},
     "output_type": "execute_result"
    }
   ],
   "source": [
    "run_query(\n",
    "    sqlalchemy.text(f\"\"\"\n",
    "            CREATE TABLE IF NOT EXISTS `{CLOUDSQL_TABLE_NAME}` (\n",
    "                chunk_id VARCHAR(100) NOT NULL PRIMARY KEY,\n",
    "                gse VARCHAR(50),\n",
    "                content TEXT,\n",
    "                embedding JSON\n",
    "            );\n",
    "        \"\"\"\n",
    "    )\n",
    ")"
   ]
  },
  {
   "cell_type": "code",
   "execution_count": 51,
   "id": "6c41fe04-56ae-400d-91d9-e8b233dcae86",
   "metadata": {
    "tags": []
   },
   "outputs": [
    {
     "data": {
      "text/plain": [
       "{'TABLE_CATALOG': 'def',\n",
       " 'TABLE_SCHEMA': 'applied-genai',\n",
       " 'TABLE_NAME': 'retrieval-cloudsql-mysql',\n",
       " 'TABLE_TYPE': 'BASE TABLE',\n",
       " 'ENGINE': 'InnoDB',\n",
       " 'VERSION': 10,\n",
       " 'ROW_FORMAT': 'Dynamic',\n",
       " 'TABLE_ROWS': 0,\n",
       " 'AVG_ROW_LENGTH': 0,\n",
       " 'DATA_LENGTH': 16384,\n",
       " 'MAX_DATA_LENGTH': 0,\n",
       " 'INDEX_LENGTH': 0,\n",
       " 'DATA_FREE': 0,\n",
       " 'AUTO_INCREMENT': None,\n",
       " 'CREATE_TIME': datetime.datetime(2024, 11, 5, 14, 45, 6),\n",
       " 'UPDATE_TIME': None,\n",
       " 'CHECK_TIME': None,\n",
       " 'TABLE_COLLATION': 'utf8mb4_0900_ai_ci',\n",
       " 'CHECKSUM': None,\n",
       " 'CREATE_OPTIONS': '',\n",
       " 'TABLE_COMMENT': ''}"
      ]
     },
     "execution_count": 51,
     "metadata": {},
     "output_type": "execute_result"
    }
   ],
   "source": [
    "result = run_query(sqlalchemy.text(f\"SELECT * from information_schema.tables WHERE table_name = '{CLOUDSQL_TABLE_NAME}'\"))\n",
    "result"
   ]
  },
  {
   "cell_type": "code",
   "execution_count": 52,
   "id": "321364c1-94ae-454b-a2a7-213b53f68080",
   "metadata": {
    "tags": []
   },
   "outputs": [
    {
     "data": {
      "text/plain": [
       "[{'COLUMN_NAME': 'chunk_id', 'DATA_TYPE': 'varchar'},\n",
       " {'COLUMN_NAME': 'content', 'DATA_TYPE': 'text'},\n",
       " {'COLUMN_NAME': 'embedding', 'DATA_TYPE': 'json'},\n",
       " {'COLUMN_NAME': 'gse', 'DATA_TYPE': 'varchar'}]"
      ]
     },
     "execution_count": 52,
     "metadata": {},
     "output_type": "execute_result"
    }
   ],
   "source": [
    "run_query(sqlalchemy.text(f\"SELECT column_name, data_type FROM information_schema.columns WHERE table_name = '{CLOUDSQL_TABLE_NAME}'\"))"
   ]
  },
  {
   "cell_type": "markdown",
   "id": "ef02461a-8f1c-4973-965f-909c619f47c8",
   "metadata": {},
   "source": [
    "### Add, Retrieve, And Delete Rows"
   ]
  },
  {
   "cell_type": "markdown",
   "id": "705ca09e-6e39-4cc9-a366-11896a31a1c5",
   "metadata": {},
   "source": [
    "#### Get A Record\n",
    "\n",
    "Dictionaries for each record/row are stored in `content_chunks` from earlier in this workflow:"
   ]
  },
  {
   "cell_type": "code",
   "execution_count": 53,
   "id": "a83315a7-083b-4568-af1b-b8373235f562",
   "metadata": {
    "tags": []
   },
   "outputs": [],
   "source": [
    "first_record = content_chunks[0]"
   ]
  },
  {
   "cell_type": "code",
   "execution_count": 54,
   "id": "dadb9d64-f653-42d7-8b04-3ce9ac6f7921",
   "metadata": {
    "tags": []
   },
   "outputs": [
    {
     "data": {
      "text/plain": [
       "dict_keys(['gse', 'chunk_id', 'content', 'embedding'])"
      ]
     },
     "execution_count": 54,
     "metadata": {},
     "output_type": "execute_result"
    }
   ],
   "source": [
    "first_record.keys()"
   ]
  },
  {
   "cell_type": "code",
   "execution_count": 55,
   "id": "20885dc3-f818-4958-9262-543361990680",
   "metadata": {
    "tags": []
   },
   "outputs": [
    {
     "data": {
      "text/plain": [
       "'fannie_part_0_c17'"
      ]
     },
     "execution_count": 55,
     "metadata": {},
     "output_type": "execute_result"
    }
   ],
   "source": [
    "first_record['chunk_id']"
   ]
  },
  {
   "cell_type": "markdown",
   "id": "62a253f6-6490-4bcd-9033-0c36e49cbfec",
   "metadata": {},
   "source": [
    "Convert embedding to JSON:"
   ]
  },
  {
   "cell_type": "code",
   "execution_count": 58,
   "id": "006a942d-8499-42c4-a752-b9936638df4d",
   "metadata": {
    "tags": []
   },
   "outputs": [],
   "source": [
    "first_record['embedding'] = json.dumps(first_record['embedding'])"
   ]
  },
  {
   "cell_type": "markdown",
   "id": "a2c5ea14-b8af-490d-a800-7eecf4fdbd8e",
   "metadata": {},
   "source": [
    "#### Insert Row"
   ]
  },
  {
   "cell_type": "code",
   "execution_count": 59,
   "id": "d1698049-7eb0-4d89-a8dc-35e4455cb0e6",
   "metadata": {},
   "outputs": [],
   "source": [
    "table = sqlalchemy.Table(\n",
    "    CLOUDSQL_TABLE_NAME,\n",
    "    sqlalchemy.MetaData(),\n",
    "    autoload_with = sync_pool\n",
    ")"
   ]
  },
  {
   "cell_type": "code",
   "execution_count": 60,
   "id": "d7686c46-7920-4fb2-97b6-0812685048fe",
   "metadata": {},
   "outputs": [
    {
     "name": "stdout",
     "output_type": "stream",
     "text": [
      "retrieval-cloudsql-mysql.chunk_id\n",
      "retrieval-cloudsql-mysql.gse\n",
      "retrieval-cloudsql-mysql.content\n",
      "retrieval-cloudsql-mysql.embedding\n"
     ]
    }
   ],
   "source": [
    "for c in table.columns:\n",
    "    print(c)"
   ]
  },
  {
   "cell_type": "code",
   "execution_count": 61,
   "id": "ca26ce17-6cc9-4d58-907e-933eae62103f",
   "metadata": {
    "tags": []
   },
   "outputs": [],
   "source": [
    "insert_row = sqlalchemy.insert(table).values(first_record)"
   ]
  },
  {
   "cell_type": "code",
   "execution_count": 62,
   "id": "127f84c1-5c8b-4cbb-984b-33fa06d5ca6a",
   "metadata": {
    "tags": []
   },
   "outputs": [
    {
     "data": {
      "text/plain": [
       "[]"
      ]
     },
     "execution_count": 62,
     "metadata": {},
     "output_type": "execute_result"
    }
   ],
   "source": [
    "run_query(insert_row)"
   ]
  },
  {
   "cell_type": "markdown",
   "id": "3231ace1-799b-4a63-ac4a-43e748416535",
   "metadata": {},
   "source": [
    "#### Retrieve Row"
   ]
  },
  {
   "cell_type": "code",
   "execution_count": 63,
   "id": "7d5b1d88-508e-4339-a09d-56776baa61d1",
   "metadata": {
    "tags": []
   },
   "outputs": [],
   "source": [
    "query = sqlalchemy.text(f\"SELECT * FROM `{CLOUDSQL_TABLE_NAME}` WHERE chunk_id = '{first_record['chunk_id']}'\")\n",
    "result = run_query(query)"
   ]
  },
  {
   "cell_type": "code",
   "execution_count": 64,
   "id": "a263ccda-910c-4a00-90c4-6862ecc41bd3",
   "metadata": {
    "tags": []
   },
   "outputs": [
    {
     "data": {
      "text/plain": [
       "dict_keys(['chunk_id', 'gse', 'content', 'embedding'])"
      ]
     },
     "execution_count": 64,
     "metadata": {},
     "output_type": "execute_result"
    }
   ],
   "source": [
    "result.keys()"
   ]
  },
  {
   "cell_type": "code",
   "execution_count": 65,
   "id": "52109662-5de4-4106-b50b-abee3648588d",
   "metadata": {
    "tags": []
   },
   "outputs": [
    {
     "data": {
      "text/plain": [
       "'fannie_part_0_c17'"
      ]
     },
     "execution_count": 65,
     "metadata": {},
     "output_type": "execute_result"
    }
   ],
   "source": [
    "result['chunk_id']"
   ]
  },
  {
   "cell_type": "code",
   "execution_count": 66,
   "id": "617c2484-7a3a-4266-9ae5-7474091cdf33",
   "metadata": {
    "tags": []
   },
   "outputs": [],
   "source": [
    "query = sqlalchemy.select(table).where(table.columns.chunk_id == first_record['chunk_id'])\n",
    "result = run_query(query)"
   ]
  },
  {
   "cell_type": "code",
   "execution_count": 67,
   "id": "2623c120-1082-4460-a707-0679ca9ca1fa",
   "metadata": {
    "tags": []
   },
   "outputs": [
    {
     "data": {
      "text/plain": [
       "dict_keys(['chunk_id', 'gse', 'content', 'embedding'])"
      ]
     },
     "execution_count": 67,
     "metadata": {},
     "output_type": "execute_result"
    }
   ],
   "source": [
    "result.keys()"
   ]
  },
  {
   "cell_type": "code",
   "execution_count": 68,
   "id": "2563c83b-a9f1-441f-a12c-1daddfb8247d",
   "metadata": {
    "tags": []
   },
   "outputs": [
    {
     "data": {
      "text/plain": [
       "'fannie_part_0_c17'"
      ]
     },
     "execution_count": 68,
     "metadata": {},
     "output_type": "execute_result"
    }
   ],
   "source": [
    "result['chunk_id']"
   ]
  },
  {
   "cell_type": "code",
   "execution_count": 69,
   "id": "63134336-8224-43f6-ac6f-864b45a8c8d3",
   "metadata": {
    "tags": []
   },
   "outputs": [
    {
     "data": {
      "text/plain": [
       "str"
      ]
     },
     "execution_count": 69,
     "metadata": {},
     "output_type": "execute_result"
    }
   ],
   "source": [
    "type(result['embedding'])"
   ]
  },
  {
   "cell_type": "code",
   "execution_count": 70,
   "id": "ba8a0dd0-cc17-4704-a74e-d91f64da0588",
   "metadata": {
    "tags": []
   },
   "outputs": [
    {
     "data": {
      "text/plain": [
       "[0.031277116388082504,\n",
       " 0.03056905046105385,\n",
       " 0.010865348391234875,\n",
       " 0.0623614676296711,\n",
       " 0.03228681534528732,\n",
       " 0.05066155269742012,\n",
       " 0.046544693410396576,\n",
       " 0.05509665608406067,\n",
       " -0.014074751175940037,\n",
       " 0.008380400016903877]"
      ]
     },
     "execution_count": 70,
     "metadata": {},
     "output_type": "execute_result"
    }
   ],
   "source": [
    "json.loads(result['embedding'])[0:10]"
   ]
  },
  {
   "cell_type": "markdown",
   "id": "ba0b641f-8234-4ed3-a1cd-af14c290d5f4",
   "metadata": {},
   "source": [
    "#### Delete Row"
   ]
  },
  {
   "cell_type": "code",
   "execution_count": 71,
   "id": "05b05836-7a7a-4c7f-9ebe-46444e872511",
   "metadata": {
    "tags": []
   },
   "outputs": [
    {
     "data": {
      "text/plain": [
       "{'count': 1}"
      ]
     },
     "execution_count": 71,
     "metadata": {},
     "output_type": "execute_result"
    }
   ],
   "source": [
    "run_query(sqlalchemy.text(f\"SELECT COUNT(*) as count FROM `{CLOUDSQL_TABLE_NAME}`\"))"
   ]
  },
  {
   "cell_type": "code",
   "execution_count": 72,
   "id": "8edb1020-18a3-4600-b2d4-36caf6b41469",
   "metadata": {
    "tags": []
   },
   "outputs": [
    {
     "data": {
      "text/plain": [
       "[]"
      ]
     },
     "execution_count": 72,
     "metadata": {},
     "output_type": "execute_result"
    }
   ],
   "source": [
    "run_query(sqlalchemy.text(f\"DELETE FROM `{CLOUDSQL_TABLE_NAME}` WHERE chunk_id = '{first_record['chunk_id']}'\"))"
   ]
  },
  {
   "cell_type": "code",
   "execution_count": 73,
   "id": "02f9233b-2fc2-4629-ba0a-7b2e03c83981",
   "metadata": {
    "tags": []
   },
   "outputs": [
    {
     "data": {
      "text/plain": [
       "{'count': 0}"
      ]
     },
     "execution_count": 73,
     "metadata": {},
     "output_type": "execute_result"
    }
   ],
   "source": [
    "run_query(sqlalchemy.text(f\"SELECT COUNT(*) as count FROM `{CLOUDSQL_TABLE_NAME}`\"))"
   ]
  },
  {
   "cell_type": "markdown",
   "id": "8051c78f-de52-420f-ac52-a91dcc7a0e55",
   "metadata": {},
   "source": [
    "## Load Data \n",
    "\n",
    "There are a lot of rows to load so using concurrency.  There is not an async driver for MySQL here so using threading to achieve concurrency. The number of threads is limited to 1000 but each thread is just send data and waiting so no intense CPU work and the OS should be able to manage the high number of threads."
   ]
  },
  {
   "cell_type": "code",
   "execution_count": 76,
   "id": "f19a9966-9f6f-463e-91c7-d6cb451214d0",
   "metadata": {
    "tags": []
   },
   "outputs": [],
   "source": [
    "prep_content_chunks  = copy.deepcopy(content_chunks)\n",
    "for chunk in prep_content_chunks:\n",
    "    chunk['embedding'] = json.dumps(chunk['embedding'])"
   ]
  },
  {
   "cell_type": "code",
   "execution_count": 77,
   "id": "4d0b52ae-0c57-46c0-9e58-9369ab0e8850",
   "metadata": {
    "tags": []
   },
   "outputs": [],
   "source": [
    "queries = [sqlalchemy.insert(table).values(c) for c in prep_content_chunks]"
   ]
  },
  {
   "cell_type": "code",
   "execution_count": 79,
   "id": "6b53c440-2d35-48b7-9dfc-f17acc7d2b55",
   "metadata": {
    "tags": []
   },
   "outputs": [],
   "source": [
    "with concurrent.futures.ThreadPoolExecutor(max_workers = 1000) as executor:\n",
    "    futures = [executor.submit(run_query, query) for query in queries]"
   ]
  },
  {
   "cell_type": "code",
   "execution_count": 80,
   "id": "c4a08d53-1706-4a16-8420-dd60e2075074",
   "metadata": {
    "tags": []
   },
   "outputs": [
    {
     "data": {
      "text/plain": [
       "{'count': 9040}"
      ]
     },
     "execution_count": 80,
     "metadata": {},
     "output_type": "execute_result"
    }
   ],
   "source": [
    "run_query(sqlalchemy.text(f\"SELECT COUNT(*) as count FROM `{CLOUDSQL_TABLE_NAME}`\"))"
   ]
  },
  {
   "cell_type": "markdown",
   "id": "eb28a28f-d4af-446b-9b15-c39fca59f748",
   "metadata": {},
   "source": [
    "---\n",
    "## Setup Cloud SQL For MySQL For Vector Similarity Search\n",
    "\n",
    "https://cloud.google.com/sql/docs/mysql/work-with-vectors"
   ]
  },
  {
   "cell_type": "code",
   "execution_count": null,
   "id": "beaad98f-39bc-4ad4-9aac-872d81ab21e1",
   "metadata": {},
   "outputs": [],
   "source": []
  },
  {
   "cell_type": "code",
   "execution_count": null,
   "id": "31be7e31-7ae0-446b-847c-dab5277b404d",
   "metadata": {},
   "outputs": [],
   "source": []
  },
  {
   "cell_type": "code",
   "execution_count": null,
   "id": "b6b5b76a-3097-4fb1-aeb7-31fdfdc33c73",
   "metadata": {},
   "outputs": [],
   "source": []
  },
  {
   "cell_type": "code",
   "execution_count": null,
   "id": "bf81fb07-79f1-402a-b6f9-f08eeab30744",
   "metadata": {},
   "outputs": [],
   "source": []
  },
  {
   "cell_type": "code",
   "execution_count": null,
   "id": "e62d2e11-9ab5-4f13-a7f8-e2a6b5c81f84",
   "metadata": {},
   "outputs": [],
   "source": []
  },
  {
   "cell_type": "code",
   "execution_count": null,
   "id": "cea521d5-e37c-421f-a928-b4a0ca7eca85",
   "metadata": {},
   "outputs": [],
   "source": []
  },
  {
   "cell_type": "code",
   "execution_count": null,
   "id": "0f618b6e-b0f3-47f4-8501-f3a6ac2388a3",
   "metadata": {},
   "outputs": [],
   "source": []
  },
  {
   "cell_type": "code",
   "execution_count": null,
   "id": "47853ddb-09b2-4747-b0ab-926518e7ad43",
   "metadata": {},
   "outputs": [],
   "source": []
  },
  {
   "cell_type": "code",
   "execution_count": null,
   "id": "5e717523-4b21-4a31-8087-03abfaaff9fb",
   "metadata": {},
   "outputs": [],
   "source": []
  },
  {
   "cell_type": "code",
   "execution_count": null,
   "id": "0daef6e2-78be-40ab-b2b2-068ca480af9f",
   "metadata": {},
   "outputs": [],
   "source": []
  },
  {
   "cell_type": "code",
   "execution_count": null,
   "id": "f8073848-bbe9-4db0-b58b-4c2c5e1c0d35",
   "metadata": {},
   "outputs": [],
   "source": []
  },
  {
   "cell_type": "code",
   "execution_count": null,
   "id": "a3da7dc1-d801-4c7a-a3d3-ffa7e5586ada",
   "metadata": {},
   "outputs": [],
   "source": []
  },
  {
   "cell_type": "markdown",
   "id": "847b69b8-13b8-4a2e-abe7-11adc776bb08",
   "metadata": {},
   "source": [
    "## Remove Resources"
   ]
  },
  {
   "cell_type": "code",
   "execution_count": 82,
   "id": "2033b98b-7280-4bec-87aa-1d54eecbe0f0",
   "metadata": {
    "tags": []
   },
   "outputs": [],
   "source": [
    "# can't drop the database of an active connection, switch connection to mysql (default) database\n",
    "\n",
    "#sync_pool.dispose()\n",
    "#sync_connector.close()\n",
    "#sync_connector = google.cloud.sql.connector.Connector()\n",
    "#sync_pool = get_sync_pool(sync_connector, 'mysql')\n",
    "\n",
    "#query = sqlalchemy.text(f\"DROP DATABASE IF EXISTS `{CLOUDSQL_DATABASE_NAME}`\")\n",
    "#run_query(query)"
   ]
  },
  {
   "cell_type": "code",
   "execution_count": 107,
   "id": "778c4aee-ee06-40f5-8daf-9be7198bcb68",
   "metadata": {
    "tags": []
   },
   "outputs": [],
   "source": [
    "#user_delete = !gcloud sql users delete $CLOUDSQL_USER --instance=$CLOUDSQL_INSTANCE_NAME --quiet"
   ]
  },
  {
   "cell_type": "code",
   "execution_count": 100,
   "id": "315a8b7b-575f-4708-84fb-40dfffbfe280",
   "metadata": {
    "tags": []
   },
   "outputs": [],
   "source": [
    "#instance_delete = !gcloud sql instances delete $CLOUDSQL_INSTANCE_NAME --quiet --format=json"
   ]
  },
  {
   "cell_type": "code",
   "execution_count": null,
   "id": "11d7ca8b-09f2-441a-af6d-32e869e66a32",
   "metadata": {},
   "outputs": [],
   "source": []
  },
  {
   "cell_type": "code",
   "execution_count": null,
   "id": "5a2bfe16-257d-4c6a-bd47-16a4df74853f",
   "metadata": {},
   "outputs": [],
   "source": []
  },
  {
   "cell_type": "code",
   "execution_count": null,
   "id": "676e7307-739e-43f8-8083-02698181e747",
   "metadata": {},
   "outputs": [],
   "source": []
  }
 ],
 "metadata": {
  "environment": {
   "kernel": "conda-base-py",
   "name": "workbench-notebooks.m125",
   "type": "gcloud",
   "uri": "us-docker.pkg.dev/deeplearning-platform-release/gcr.io/workbench-notebooks:m125"
  },
  "kernelspec": {
   "display_name": "Python 3 (ipykernel) (Local)",
   "language": "python",
   "name": "conda-base-py"
  },
  "language_info": {
   "codemirror_mode": {
    "name": "ipython",
    "version": 3
   },
   "file_extension": ".py",
   "mimetype": "text/x-python",
   "name": "python",
   "nbconvert_exporter": "python",
   "pygments_lexer": "ipython3",
   "version": "3.10.15"
  }
 },
 "nbformat": 4,
 "nbformat_minor": 5
}
