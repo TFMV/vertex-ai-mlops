{
 "cells": [
  {
   "cell_type": "markdown",
   "id": "f03242bf",
   "metadata": {},
   "source": [
    "![tracker](https://us-central1-vertex-ai-mlops-369716.cloudfunctions.net/pixel-tracking?path=statmike%2Fvertex-ai-mlops%2FApplied+GenAI%2FRetrieval&file=Retrieval+-+AlloyDB+For+PostgreSQL.ipynb)\n",
    "<!--- header table --->\n",
    "<table align=\"left\">\n",
    "  <td style=\"text-align: center\">\n",
    "    <a href=\"https://colab.research.google.com/github/statmike/vertex-ai-mlops/blob/main/Applied%20GenAI/Retrieval/Retrieval%20-%20AlloyDB%20For%20PostgreSQL.ipynb\">\n",
    "      <img src=\"https://cloud.google.com/ml-engine/images/colab-logo-32px.png\" alt=\"Google Colaboratory logo\">\n",
    "      <br>Run in<br>Colab\n",
    "    </a>\n",
    "  </td>\n",
    "  <td style=\"text-align: center\">\n",
    "    <a href=\"https://console.cloud.google.com/vertex-ai/colab/import/https%3A%2F%2Fraw.githubusercontent.com%2Fstatmike%2Fvertex-ai-mlops%2Fmain%2FApplied%2520GenAI%2FRetrieval%2FRetrieval%2520-%2520AlloyDB%2520For%2520PostgreSQL.ipynb\">\n",
    "      <img width=\"32px\" src=\"https://lh3.googleusercontent.com/JmcxdQi-qOpctIvWKgPtrzZdJJK-J3sWE1RsfjZNwshCFgE_9fULcNpuXYTilIR2hjwN\" alt=\"Google Cloud Colab Enterprise logo\">\n",
    "      <br>Run in<br>Colab Enterprise\n",
    "    </a>\n",
    "  </td>      \n",
    "  <td style=\"text-align: center\">\n",
    "    <a href=\"https://github.com/statmike/vertex-ai-mlops/blob/main/Applied%20GenAI/Retrieval/Retrieval%20-%20AlloyDB%20For%20PostgreSQL.ipynb\">\n",
    "      <img src=\"https://cloud.google.com/ml-engine/images/github-logo-32px.png\" alt=\"GitHub logo\">\n",
    "      <br>View on<br>GitHub\n",
    "    </a>\n",
    "  </td>\n",
    "  <td style=\"text-align: center\">\n",
    "    <a href=\"https://console.cloud.google.com/vertex-ai/workbench/deploy-notebook?download_url=https://raw.githubusercontent.com/statmike/vertex-ai-mlops/main/Applied%20GenAI/Retrieval/Retrieval%20-%20AlloyDB%20For%20PostgreSQL.ipynb\">\n",
    "      <img src=\"https://lh3.googleusercontent.com/UiNooY4LUgW_oTvpsNhPpQzsstV5W8F7rYgxgGBD85cWJoLmrOzhVs_ksK_vgx40SHs7jCqkTkCk=e14-rj-sc0xffffff-h130-w32\" alt=\"Vertex AI logo\">\n",
    "      <br>Open in<br>Vertex AI Workbench\n",
    "    </a>\n",
    "  </td>\n",
    "</table>"
   ]
  },
  {
   "cell_type": "markdown",
   "id": "96b0e8e6-d761-4540-9d09-8f0c4ce9a020",
   "metadata": {},
   "source": [
    "# Retrieval - AlloyDB For PostgreSQL\n",
    "<p style=\"font-size: 45px;\">IN PROGRESS - NOT COMPLETE</p>\n",
    "\n",
    "In prior workflows, a series of documents was [processed into chunks](../Chunking/readme.md), and for each chunk, [embeddings](../Embeddings/readme.md) were created:\n",
    "\n",
    "- Process: [Large Document Processing - Document AI Layout Parser](../Chunking/Large%20Document%20Processing%20-%20Document%20AI%20Layout%20Parser.ipynb)\n",
    "- Embed: [Vertex AI Text Embeddings API](../Embeddings/Vertex%20AI%20Text%20Embeddings%20API.ipynb)\n",
    "\n",
    "Retrieving chunks for a query involves calculating the embedding for the query and then using similarity metrics to find relevant chunks. A thorough review of similarity matching can be found in [The Math of Similarity](../Embeddings/The%20Math%20of%20Similarity.ipynb) - use dot product! As development moves from experiment to application, the process of storing and computing similarity is migrated to a [retrieval](./readme.md) system. This workflow is part of a [series of workflows exploring many retrieval systems](./readme.md).\n",
    "\n",
    "**AlloyDB For Storage, Indexing, And Search**\n",
    "\n",
    "- [**AlloyDB for PostgreSQL**](https://cloud.google.com/alloydb) is a fully managed database service on Google Cloud that is compatible with and significantly faster than standard PostgreSQL. \n",
    "- AlloyDB boasts a comprehensive suite of [generative AI features](https://cloud.google.com/alloydb/docs/ai), including the ability to generate embeddings and predictions through seamless integration with Vertex AI.  You can even request predictions from any [endpoint in Google Cloud](https://cloud.google.com/alloydb/docs/ai/model-endpoint-register-model#add-generic).\n",
    "- Similarity metrics are built into AlloyDB through an optimized implementation of [`pgvector`](https://github.com/pgvector/pgvector?tab=readme-ov-file#indexing), simply called [`vector`](https://cloud.google.com/alloydb/docs/ai/store-embeddings#required-extension) in AlloyDB. This allows for the creation of highly efficient inverted file (IVF) indexes for accelerated similarity search. \n",
    "- Additionally, AlloyDB offers the `alloydb_scann` extension, which implements the [ScaNN algorithm](https://github.com/google-research/google-research/blob/master/scann/docs/algorithms.md) for super-efficient nearest neighbor matching.\n",
    "\n",
    "**Use Case Data**\n",
    "\n",
    "Buying a home usually involves borrowing money from a lending institution, typically through a mortgage secured by the home's value. But how do these institutions manage the risks associated with such large loans, and how are lending standards established?\n",
    "\n",
    "In the United States, two government-sponsored enterprises (GSEs) play a vital role in the housing market:\n",
    "\n",
    "- Federal National Mortgage Association ([Fannie Mae](https://www.fanniemae.com/))\n",
    "- Federal Home Loan Mortgage Corporation ([Freddie Mac](https://www.freddiemac.com/))\n",
    "\n",
    "These GSEs purchase mortgages from lenders, enabling those lenders to offer more loans. This process also allows Fannie Mae and Freddie Mac to set standards for mortgages, ensuring they are responsible and borrowers are more likely to repay them. This system makes homeownership more affordable and stabilizes the housing market by maintaining a steady flow of liquidity for lenders and keeping interest rates controlled.\n",
    "\n",
    "However, navigating the complexities of these GSEs and their extensive servicing guides can be challenging.\n",
    "\n",
    "**Approaches**\n",
    "\n",
    "[This series](../readme.md) covers many generative AI workflows. These documents are used directly as long context for Gemini in the workflow [Long Context Retrieval With The Vertex AI Gemini API](../Generate/Long%20Context%20Retrieval%20With%20The%20Vertex%20AI%20Gemini%20API.ipynb). The workflow below uses a [retrieval](./readme.md) approach with the already generated chunks and embeddings."
   ]
  },
  {
   "cell_type": "markdown",
   "id": "be889472-69b0-416c-9cf1-edc9706fa5c5",
   "metadata": {
    "id": "od_UkDpvRmgD"
   },
   "source": [
    "---\n",
    "## Colab Setup\n",
    "\n",
    "When running this notebook in [Colab](https://colab.google/) or [Colab Enterprise](https://cloud.google.com/colab/docs/introduction), this section will authenticate to GCP (follow prompts in the popup) and set the current project for the session."
   ]
  },
  {
   "cell_type": "code",
   "execution_count": 1,
   "id": "21f75ba8-df50-466e-a5ec-f2a6dd88eb26",
   "metadata": {
    "executionInfo": {
     "elapsed": 195,
     "status": "ok",
     "timestamp": 1683726184843,
     "user": {
      "displayName": "Mike Henderson",
      "userId": "07691629187611687318"
     },
     "user_tz": 240
    },
    "id": "8UO9FnqyKBlF",
    "tags": []
   },
   "outputs": [],
   "source": [
    "PROJECT_ID = 'statmike-mlops-349915' # replace with project ID"
   ]
  },
  {
   "cell_type": "code",
   "execution_count": 2,
   "id": "9c325515-1ea0-45cc-82d3-a1bfb1c52155",
   "metadata": {
    "colab": {
     "base_uri": "https://localhost:8080/"
    },
    "executionInfo": {
     "elapsed": 68869,
     "status": "ok",
     "timestamp": 1683726253709,
     "user": {
      "displayName": "Mike Henderson",
      "userId": "07691629187611687318"
     },
     "user_tz": 240
    },
    "id": "N98-KK7LRkjm",
    "outputId": "09ec5008-0def-4e1a-c349-c598ee752f78",
    "tags": []
   },
   "outputs": [],
   "source": [
    "try:\n",
    "    from google.colab import auth\n",
    "    auth.authenticate_user()\n",
    "    !gcloud config set project {PROJECT_ID}\n",
    "except Exception:\n",
    "    pass"
   ]
  },
  {
   "cell_type": "markdown",
   "id": "055a4bd7-7b47-43ef-ba14-636c955e44e3",
   "metadata": {},
   "source": [
    "---\n",
    "## Installs and API Enablement\n",
    "\n",
    "The clients packages may need installing in this environment. "
   ]
  },
  {
   "cell_type": "markdown",
   "id": "410502ee-6fe3-4624-a69a-960ad7105f10",
   "metadata": {},
   "source": [
    "### Installs (If Needed)"
   ]
  },
  {
   "cell_type": "code",
   "execution_count": 3,
   "id": "f4dbdb83-3170-430c-b60d-3d686222a168",
   "metadata": {
    "tags": []
   },
   "outputs": [],
   "source": [
    "# tuples of (import name, install name, min_version)\n",
    "packages = [\n",
    "    ('google.cloud.aiplatform', 'google-cloud-aiplatform', '1.69.0'),\n",
    "    ('google.cloud.alloydb', 'google-cloud-alloydb'),\n",
    "    ('google.cloud.alloydb.connector', 'google-cloud-alloydb-connector'),\n",
    "    ('sqlalchemy', 'sqlalchemy'),\n",
    "    ('pg8000', 'pg8000'),\n",
    "    ('asyncpg', 'asyncpg')\n",
    "]\n",
    "\n",
    "import importlib\n",
    "install = False\n",
    "for package in packages:\n",
    "    if not importlib.util.find_spec(package[0]):\n",
    "        print(f'installing package {package[1]}')\n",
    "        install = True\n",
    "        !pip install {package[1]} -U -q --user\n",
    "    elif len(package) == 3:\n",
    "        if importlib.metadata.version(package[0]) < package[2]:\n",
    "            print(f'updating package {package[1]}')\n",
    "            install = True\n",
    "            !pip install {package[1]} -U -q --user"
   ]
  },
  {
   "cell_type": "markdown",
   "id": "25374857-7d37-4c84-8cbb-a3c2fc7bb065",
   "metadata": {},
   "source": [
    "### API Enablement"
   ]
  },
  {
   "cell_type": "code",
   "execution_count": 4,
   "id": "9b7300a8-7e3a-4a08-95c0-91186237753f",
   "metadata": {
    "tags": []
   },
   "outputs": [],
   "source": [
    "!gcloud services enable aiplatform.googleapis.com\n",
    "!gcloud services enable alloydb.googleapis.com"
   ]
  },
  {
   "cell_type": "markdown",
   "id": "157d09ba-9774-495f-8ced-3382bf75be8f",
   "metadata": {},
   "source": [
    "### Restart Kernel (If Installs Occured)\n",
    "\n",
    "After a kernel restart the code submission can start with the next cell after this one."
   ]
  },
  {
   "cell_type": "code",
   "execution_count": 5,
   "id": "f9864153-66c8-43e1-ae96-1179632ccf7d",
   "metadata": {
    "tags": []
   },
   "outputs": [],
   "source": [
    "if install:\n",
    "    import IPython\n",
    "    app = IPython.Application.instance()\n",
    "    app.kernel.do_shutdown(True)\n",
    "    IPython.display.display(IPython.display.Markdown(\"\"\"<div class=\\\"alert alert-block alert-warning\\\">\n",
    "        <b>⚠️ The kernel is going to restart. Please wait until it is finished before continuing to the next step. The previous cells do not need to be run again⚠️</b>\n",
    "        </div>\"\"\"))"
   ]
  },
  {
   "cell_type": "markdown",
   "id": "09a1ab41-cb32-4398-86dc-d30effb88a36",
   "metadata": {
    "id": "appt8-yVRtJ1"
   },
   "source": [
    "---\n",
    "## Setup"
   ]
  },
  {
   "cell_type": "markdown",
   "id": "2cebe11b-9ca1-4f3e-aa78-78640ff01ec8",
   "metadata": {
    "id": "63mx2EozRxFP"
   },
   "source": [
    "Inputs"
   ]
  },
  {
   "cell_type": "code",
   "execution_count": 6,
   "id": "ab2239cd-40ab-416d-bac0-0c6953d911b6",
   "metadata": {
    "colab": {
     "base_uri": "https://localhost:8080/",
     "height": 35
    },
    "executionInfo": {
     "elapsed": 2124,
     "status": "ok",
     "timestamp": 1683726390544,
     "user": {
      "displayName": "Mike Henderson",
      "userId": "07691629187611687318"
     },
     "user_tz": 240
    },
    "id": "xzcoXjM5Rky5",
    "outputId": "b3bdcbc1-70d5-472e-aea2-42c74a42efde",
    "tags": []
   },
   "outputs": [
    {
     "data": {
      "text/plain": [
       "'statmike-mlops-349915'"
      ]
     },
     "execution_count": 6,
     "metadata": {},
     "output_type": "execute_result"
    }
   ],
   "source": [
    "project = !gcloud config get-value project\n",
    "PROJECT_ID = project[0]\n",
    "PROJECT_ID"
   ]
  },
  {
   "cell_type": "code",
   "execution_count": 7,
   "id": "8aa97f05-66e9-4276-b2e6-83b5a91ca50c",
   "metadata": {
    "executionInfo": {
     "elapsed": 2,
     "status": "ok",
     "timestamp": 1683726390712,
     "user": {
      "displayName": "Mike Henderson",
      "userId": "07691629187611687318"
     },
     "user_tz": 240
    },
    "id": "IxWrFtqYMfku",
    "tags": []
   },
   "outputs": [],
   "source": [
    "REGION = 'us-central1'\n",
    "SERIES = 'applied-genai'\n",
    "EXPERIMENT = 'retrieval-alloydb'\n",
    "\n",
    "# AlloyDB Names\n",
    "ALLOYDB_CLUSTER_NAME = PROJECT_ID\n",
    "ALLOYDB_INSTANCE_NAME = PROJECT_ID\n",
    "ALLOYDB_DATABASE_NAME = SERIES\n",
    "ALLOYDB_TABLE_NAME = EXPERIMENT\n",
    "\n",
    "ALLOYDB_USER = 'test_alloydb'\n",
    "ALLOYDB_PASS = 'test_alloydb_pass'"
   ]
  },
  {
   "cell_type": "markdown",
   "id": "52bbf65b-5d29-4a72-84ae-d977b9a743a6",
   "metadata": {
    "id": "LuajVwCiO6Yg"
   },
   "source": [
    "Packages"
   ]
  },
  {
   "cell_type": "code",
   "execution_count": 8,
   "id": "2a7ea98a-aa23-42f6-85df-07a453e63efd",
   "metadata": {
    "tags": []
   },
   "outputs": [],
   "source": [
    "#!pip install google-cloud-aiplatform -U -q --user --force-reinstall"
   ]
  },
  {
   "cell_type": "code",
   "execution_count": 9,
   "id": "559f6e60-a594-4789-893b-295a8381b670",
   "metadata": {
    "executionInfo": {
     "elapsed": 17761,
     "status": "ok",
     "timestamp": 1683726409304,
     "user": {
      "displayName": "Mike Henderson",
      "userId": "07691629187611687318"
     },
     "user_tz": 240
    },
    "id": "LVC7zzSLRk2C",
    "tags": []
   },
   "outputs": [],
   "source": [
    "import os, json, time, glob, datetime, asyncio\n",
    "\n",
    "import numpy as np\n",
    "\n",
    "# Vertex AI\n",
    "from google.cloud import aiplatform\n",
    "import vertexai.language_models # for embeddings API\n",
    "import vertexai.generative_models # for Gemini Models\n",
    "from vertexai.resources.preview import feature_store\n",
    "\n",
    "# AlloyDB\n",
    "from google.cloud import alloydb\n",
    "import google.cloud.alloydb.connector\n",
    "import pg8000\n",
    "import sqlalchemy\n",
    "import asyncpg\n",
    "import sqlalchemy.ext.asyncio"
   ]
  },
  {
   "cell_type": "code",
   "execution_count": 10,
   "id": "d3fef31f-928f-45f2-a3f4-292ee242232c",
   "metadata": {
    "tags": []
   },
   "outputs": [
    {
     "data": {
      "text/plain": [
       "'1.71.0'"
      ]
     },
     "execution_count": 10,
     "metadata": {},
     "output_type": "execute_result"
    }
   ],
   "source": [
    "aiplatform.__version__"
   ]
  },
  {
   "cell_type": "markdown",
   "id": "5758c07e-f064-40fb-a0ef-de6cbde5cd0a",
   "metadata": {
    "id": "EyAVFG9TO9H-"
   },
   "source": [
    "Clients"
   ]
  },
  {
   "cell_type": "code",
   "execution_count": 11,
   "id": "3b72f3bb-176b-4678-ba6b-df9b2de14997",
   "metadata": {
    "executionInfo": {
     "elapsed": 19,
     "status": "ok",
     "timestamp": 1683726409306,
     "user": {
      "displayName": "Mike Henderson",
      "userId": "07691629187611687318"
     },
     "user_tz": 240
    },
    "id": "L0RPE13LOZce",
    "tags": []
   },
   "outputs": [],
   "source": [
    "# vertex ai clients\n",
    "vertexai.init(project = PROJECT_ID, location = REGION)\n",
    "\n",
    "# alloydb\n",
    "alloydb_client = alloydb.AlloyDBAdminClient()"
   ]
  },
  {
   "cell_type": "markdown",
   "id": "8579282f-2723-4294-b72a-a65cc0831f44",
   "metadata": {},
   "source": [
    "---\n",
    "## Text & Embeddings For Examples\n",
    "\n",
    "This repository contains a [section for document processing (chunking)](../Chunking/readme.md) that includes an example of processing mulitple large pdfs (over 1000 pages) into chunks: [Large Document Processing - Document AI Layout Parser](../Chunking/Large%20Document%20Processing%20-%20Document%20AI%20Layout%20Parser.ipynb).  The chunks of text from that workflow are stored with this repository and loaded by another companion workflow that augments the chunks with text embeddings: [Vertex AI Text Embeddings API](../Embeddings/Vertex%20AI%20Text%20Embeddings%20API.ipynb).\n",
    "\n",
    "The following code will load the version of the chunks that includes text embeddings and prepare it for a local example of retrival augmented generation."
   ]
  },
  {
   "cell_type": "markdown",
   "id": "1e12cbe2-3ca6-4656-9e73-c0db5c63bf50",
   "metadata": {},
   "source": [
    "### Get The Documents\n",
    "\n",
    "If you are working from a clone of this notebooks [repository](https://github.com/statmike/vertex-ai-mlops) then the documents are already present. The following cell checks for the documents folder and if it is missing gets it (`git clone`):"
   ]
  },
  {
   "cell_type": "code",
   "execution_count": 12,
   "id": "6f4e77ed-43f7-42be-9575-6a491c0d6cba",
   "metadata": {
    "tags": []
   },
   "outputs": [],
   "source": [
    "local_dir = '../Embeddings/files/embeddings-api'"
   ]
  },
  {
   "cell_type": "code",
   "execution_count": 13,
   "id": "63ebe7c3-e72c-4394-91c3-d60c05bc0ce2",
   "metadata": {
    "tags": []
   },
   "outputs": [
    {
     "name": "stdout",
     "output_type": "stream",
     "text": [
      "Documents Found in folder `../Embeddings/files/embeddings-api`\n"
     ]
    }
   ],
   "source": [
    "if not os.path.exists(local_dir):\n",
    "    print('Retrieving documents...')\n",
    "    parent_dir = os.path.dirname(local_dir)\n",
    "    temp_dir = os.path.join(parent_dir, 'temp')\n",
    "    if not os.path.exists(temp_dir):\n",
    "        os.makedirs(temp_dir)\n",
    "    !git clone https://www.github.com/statmike/vertex-ai-mlops {temp_dir}/vertex-ai-mlops\n",
    "    shutil.copytree(f'{temp_dir}/vertex-ai-mlops/Applied GenAI/Embeddings/files/embeddings-api', local_dir)\n",
    "    shutil.rmtree(temp_dir)\n",
    "    print(f'Documents are now in folder `{local_dir}`')\n",
    "else:\n",
    "    print(f'Documents Found in folder `{local_dir}`')             "
   ]
  },
  {
   "cell_type": "markdown",
   "id": "33e68a84-9f88-4590-9ff1-e01c8a953ccf",
   "metadata": {},
   "source": [
    "### Load The Chunks"
   ]
  },
  {
   "cell_type": "code",
   "execution_count": 14,
   "id": "58d04382-a74a-44ac-8824-3b46c86aa148",
   "metadata": {
    "tags": []
   },
   "outputs": [
    {
     "data": {
      "text/plain": [
       "['../Embeddings/files/embeddings-api/large-files-chunk-embeddings-0000.jsonl',\n",
       " '../Embeddings/files/embeddings-api/large-files-chunk-embeddings-0001.jsonl',\n",
       " '../Embeddings/files/embeddings-api/large-files-chunk-embeddings-0002.jsonl',\n",
       " '../Embeddings/files/embeddings-api/large-files-chunk-embeddings-0003.jsonl',\n",
       " '../Embeddings/files/embeddings-api/large-files-chunk-embeddings-0004.jsonl',\n",
       " '../Embeddings/files/embeddings-api/large-files-chunk-embeddings-0005.jsonl',\n",
       " '../Embeddings/files/embeddings-api/large-files-chunk-embeddings-0006.jsonl',\n",
       " '../Embeddings/files/embeddings-api/large-files-chunk-embeddings-0007.jsonl',\n",
       " '../Embeddings/files/embeddings-api/large-files-chunk-embeddings-0008.jsonl',\n",
       " '../Embeddings/files/embeddings-api/large-files-chunk-embeddings-0009.jsonl']"
      ]
     },
     "execution_count": 14,
     "metadata": {},
     "output_type": "execute_result"
    }
   ],
   "source": [
    "jsonl_files = glob.glob(f\"{local_dir}/large-files*.jsonl\")\n",
    "jsonl_files.sort()\n",
    "jsonl_files"
   ]
  },
  {
   "cell_type": "code",
   "execution_count": 15,
   "id": "a54c6c96-6c28-49bb-80be-5d46797dfe77",
   "metadata": {
    "tags": []
   },
   "outputs": [
    {
     "data": {
      "text/plain": [
       "9040"
      ]
     },
     "execution_count": 15,
     "metadata": {},
     "output_type": "execute_result"
    }
   ],
   "source": [
    "chunks = []\n",
    "for file in jsonl_files:\n",
    "    with open(file, 'r') as f:\n",
    "        chunks.extend([json.loads(line) for line in f])\n",
    "len(chunks)"
   ]
  },
  {
   "cell_type": "markdown",
   "id": "a70115ec-6d60-41df-b7e6-9e2e5b463b1d",
   "metadata": {},
   "source": [
    "### Review A Chunk"
   ]
  },
  {
   "cell_type": "code",
   "execution_count": 16,
   "id": "fc20423e-e3d6-4e90-9e98-a5248508c82d",
   "metadata": {
    "tags": []
   },
   "outputs": [
    {
     "data": {
      "text/plain": [
       "dict_keys(['instance', 'predictions', 'status'])"
      ]
     },
     "execution_count": 16,
     "metadata": {},
     "output_type": "execute_result"
    }
   ],
   "source": [
    "chunks[0].keys()"
   ]
  },
  {
   "cell_type": "code",
   "execution_count": 17,
   "id": "1955ea39-4ffc-4d30-b653-a5a9911f2dab",
   "metadata": {
    "tags": []
   },
   "outputs": [
    {
     "data": {
      "text/plain": [
       "'fannie_part_0_c17'"
      ]
     },
     "execution_count": 17,
     "metadata": {},
     "output_type": "execute_result"
    }
   ],
   "source": [
    "chunks[0]['instance']['chunk_id']"
   ]
  },
  {
   "cell_type": "code",
   "execution_count": 18,
   "id": "3537982c-4a0e-456c-a652-19ea7507873b",
   "metadata": {
    "tags": []
   },
   "outputs": [
    {
     "name": "stdout",
     "output_type": "stream",
     "text": [
      "# Selling Guide Fannie Mae Single Family\n",
      "\n",
      "## Fannie Mae Copyright Notice\n",
      "\n",
      "### Fannie Mae Copyright Notice\n",
      "\n",
      "|-|\n",
      "| Section B3-4.2, Verification of Depository Assets 402 |\n",
      "| B3-4.2-01, Verification of Deposits and Assets (05/04/2022) 403 |\n",
      "| B3-4.2-02, Depository Accounts (12/14/2022) 405 |\n",
      "| B3-4.2-03, Individual Development Accounts (02/06/2019) 408 |\n",
      "| B3-4.2-04, Pooled Savings (Community Savings Funds) (04/01/2009) 411 |\n",
      "| B3-4.2-05, Foreign Assets (05/04/2022) 411 |\n",
      "| Section B3-4.3, Verification of Non-Depository Assets 412 |\n",
      "| B3-4.3-01, Stocks, Stock Options, Bonds, and Mutual Funds (06/30/2015) 412 |\n",
      "| B3-4.3-02, Trust Accounts (04/01/2009) 413 |\n",
      "| B3-4.3-03, Retirement Accounts (06/30/2015) 414 |\n",
      "| B3-4.3-04, Personal Gifts (09/06/2023) 415 |\n",
      "| B3-4.3-05, Gifts of Equity (10/07/2020) 418 |\n",
      "| B3-4.3-06, Grants and Lender Contributions (12/14/2022) 419 |\n",
      "| B3-4.3-07, Disaster Relief Grants or Loans (04/01/2009) 423 |\n",
      "| B3-4.3-08, Employer Assistance (09/29/2015) 423 |\n",
      "| B3-4.3-09, Earnest Money Deposit (05/04/2022) 425 |\n",
      "| B3-4.3-10, Anticipated Sales Proceeds (02/23/2016) B3-4.3-11, Trade Equity (12/16/2020) 426 428 |\n",
      "| B3-4.3-12, Rent-Related Credits (08/07/2024) 429 |\n",
      "| B3-4.3-13, Sweat Equity (04/15/2014) 430 |\n",
      "| B3-4.3-14, Bridge/Swing Loans (04/01/2009) 431 |\n",
      "| B3-4.3-15, Borrowed Funds Secured by an Asset (10/30/2009) 431 |\n",
      "|  |\n",
      "\n",
      "\n"
     ]
    }
   ],
   "source": [
    "print(chunks[0]['instance']['content'])"
   ]
  },
  {
   "cell_type": "code",
   "execution_count": 19,
   "id": "49f06293-a439-436b-bc93-cd6cd3fb4aff",
   "metadata": {
    "tags": []
   },
   "outputs": [
    {
     "data": {
      "text/plain": [
       "[0.031277116388082504,\n",
       " 0.03056905046105385,\n",
       " 0.010865348391234875,\n",
       " 0.0623614676296711,\n",
       " 0.03228681534528732,\n",
       " 0.05066155269742012,\n",
       " 0.046544693410396576,\n",
       " 0.05509665608406067,\n",
       " -0.014074751175940037,\n",
       " 0.008380400016903877]"
      ]
     },
     "execution_count": 19,
     "metadata": {},
     "output_type": "execute_result"
    }
   ],
   "source": [
    "chunks[0]['predictions'][0]['embeddings']['values'][0:10]"
   ]
  },
  {
   "cell_type": "markdown",
   "id": "f977358d-d9ea-4172-9eca-66079bb6087d",
   "metadata": {},
   "source": [
    "### Prepare Chunk Structure\n",
    "\n",
    "Make a list of dictionaries with information for each chunk:"
   ]
  },
  {
   "cell_type": "code",
   "execution_count": 20,
   "id": "be9fa708-130c-4343-b179-dbde0b09a972",
   "metadata": {
    "tags": []
   },
   "outputs": [],
   "source": [
    "content_chunks = [\n",
    "    dict(\n",
    "        gse = chunk['instance']['gse'],\n",
    "        chunk_id = chunk['instance']['chunk_id'],\n",
    "        content = chunk['instance']['content'],\n",
    "        embedding = chunk['predictions'][0]['embeddings']['values']\n",
    "    ) for chunk in chunks\n",
    "]"
   ]
  },
  {
   "cell_type": "markdown",
   "id": "d6619605-7b10-444e-a131-db06e56a4be8",
   "metadata": {},
   "source": [
    "### Query Embedding\n",
    "\n",
    "Create a query, or prompt, and get the embedding for it:\n",
    "\n",
    "Connect to models for text embeddings. Learn more about the model API:\n",
    "- [Vertex AI Text Embeddings API](../Embeddings/Vertex%20AI%20Text%20Embeddings%20API.ipynb)"
   ]
  },
  {
   "cell_type": "code",
   "execution_count": 21,
   "id": "3da5d30c-3dfb-42ba-a133-83dceb252787",
   "metadata": {
    "tags": []
   },
   "outputs": [],
   "source": [
    "question = \"Does a lender have to perform servicing functions directly?\""
   ]
  },
  {
   "cell_type": "code",
   "execution_count": 22,
   "id": "7992c26f-d058-4920-80a3-a157b88733e4",
   "metadata": {
    "tags": []
   },
   "outputs": [],
   "source": [
    "embedder = vertexai.language_models.TextEmbeddingModel.from_pretrained('text-embedding-004')"
   ]
  },
  {
   "cell_type": "code",
   "execution_count": 23,
   "id": "bbe6fda7-9cea-49a2-9e2f-9222d50677af",
   "metadata": {
    "tags": []
   },
   "outputs": [
    {
     "data": {
      "text/plain": [
       "[-0.0005117303808219731,\n",
       " 0.009651427157223225,\n",
       " 0.01768726110458374,\n",
       " 0.014538003131747246,\n",
       " -0.01829824410378933,\n",
       " 0.027877431362867355,\n",
       " -0.021124685183167458,\n",
       " 0.008830446749925613,\n",
       " -0.02669006586074829,\n",
       " 0.06414774805307388]"
      ]
     },
     "execution_count": 23,
     "metadata": {},
     "output_type": "execute_result"
    }
   ],
   "source": [
    "question_embedding = embedder.get_embeddings([question])[0].values\n",
    "question_embedding[0:10]"
   ]
  },
  {
   "cell_type": "markdown",
   "id": "0b6ec209-b34a-4837-8c54-a991ad831764",
   "metadata": {},
   "source": [
    "---\n",
    "## Setup AlloyDB\n",
    "\n",
    "- Cluster\n",
    "    - Instance\n",
    "        - Connect to Instance With SQL Client\n",
    "        - Database\n",
    "            - Table"
   ]
  },
  {
   "cell_type": "markdown",
   "id": "7728ef6b-c20e-4d90-9d71-a016ae5ef34b",
   "metadata": {},
   "source": [
    "### Create/Retrieve Cluster\n",
    "\n",
    "https://cloud.google.com/alloydb/docs/cluster-create\n",
    "\n",
    "https://cloud.google.com/alloydb/docs/cluster-settings?resource=prim-instance\n",
    "\n",
    "https://cloud.google.com/python/docs/reference/alloydb/latest/google.cloud.alloydb_v1.services.alloy_db_admin.AlloyDBAdminClient#google_cloud_alloydb_v1_services_alloy_db_admin_AlloyDBAdminClient_create_cluster"
   ]
  },
  {
   "cell_type": "code",
   "execution_count": 24,
   "id": "2b0e9c0e-3feb-4db5-b6cf-09014fa149f0",
   "metadata": {
    "tags": []
   },
   "outputs": [
    {
     "name": "stdout",
     "output_type": "stream",
     "text": [
      "Found the cluster: projects/statmike-mlops-349915/locations/us-central1/clusters/statmike-mlops-349915\n"
     ]
    }
   ],
   "source": [
    "try:\n",
    "    alloydb_cluster = alloydb_client.get_cluster(\n",
    "        name = f'projects/{PROJECT_ID}/locations/{REGION}/clusters/{ALLOYDB_CLUSTER_NAME}'\n",
    "    )\n",
    "    print(f\"Found the cluster: {alloydb_cluster.name}\")\n",
    "except Exception:\n",
    "    print('Creating a cluster ...')\n",
    "    create_cluster = alloydb_client.create_cluster(\n",
    "        parent = f\"projects/{PROJECT_ID}/locations/{REGION}\",\n",
    "        cluster_id = ALLOYDB_CLUSTER_NAME,\n",
    "        cluster = alloydb.Cluster(\n",
    "            #network = f\"projects/{PROJECT_ID}/global/networks/your-network\"\n",
    "            initial_user = alloydb.UserPassword(\n",
    "                user = ALLOYDB_USER,\n",
    "                password = ALLOYDB_PASS\n",
    "            ),\n",
    "        )\n",
    "    )\n",
    "    alloydb_cluster = create_cluster.result()\n",
    "    print(f\"Created the cluster: {alloydb_cluster.name}\")"
   ]
  },
  {
   "cell_type": "code",
   "execution_count": 25,
   "id": "cfd005a4-5d7a-499b-ad41-9291de36f25c",
   "metadata": {
    "tags": []
   },
   "outputs": [],
   "source": [
    "#alloydb_cluster"
   ]
  },
  {
   "cell_type": "markdown",
   "id": "abfb1ea1-ba09-40c8-b650-f47e564b993f",
   "metadata": {},
   "source": [
    "### Create/Retrieve Instance\n",
    "\n",
    "https://cloud.google.com/alloydb/docs/cluster-create\n",
    "\n",
    "https://cloud.google.com/alloydb/docs/cluster-settings?resource=prim-instance\n",
    "\n",
    "https://cloud.google.com/python/docs/reference/alloydb/latest/google.cloud.alloydb_v1.services.alloy_db_admin.AlloyDBAdminClient#google_cloud_alloydb_v1_services_alloy_db_admin_AlloyDBAdminClient_create_instance"
   ]
  },
  {
   "cell_type": "code",
   "execution_count": 26,
   "id": "c08f57f6-9843-4751-8f40-ad68b99dfc47",
   "metadata": {
    "tags": []
   },
   "outputs": [
    {
     "name": "stdout",
     "output_type": "stream",
     "text": [
      "Found the instance: projects/statmike-mlops-349915/locations/us-central1/clusters/statmike-mlops-349915/instances/statmike-mlops-349915\n"
     ]
    }
   ],
   "source": [
    "try:\n",
    "    alloydb_instance = alloydb_client.get_instance(\n",
    "        name = f\"{alloydb_cluster.name}/instances/{ALLOYDB_INSTANCE_NAME}\"\n",
    "    )\n",
    "    print(f\"Found the instance: {alloydb_instance.name}\")\n",
    "except Exception:\n",
    "    print('Creating an instance ...')\n",
    "    create_instance = alloydb_client.create_instance(\n",
    "        parent = alloydb_cluster.name,\n",
    "        instance_id = ALLOYDB_INSTANCE_NAME,\n",
    "        instance = alloydb.Instance(\n",
    "            instance_type = alloydb.Instance.InstanceType.PRIMARY, # PRIMARY supports read/write, READ_POOL support read only\n",
    "            machine_config = alloydb.Instance.MachineConfig(cpu_count = 2),\n",
    "            availability_type = alloydb.Instance.AvailabilityType.ZONAL, # ZONAL is a a single zone, REGIONAL is multi-zone within the region (high availability)\n",
    "            gce_zone = REGION+'-a', # add a zone to the region with availability_type = ZONAL\n",
    "        )\n",
    "    )\n",
    "    alloydb_instance = create_instance.result()\n",
    "    print(f\"Created the instance: {alloydb_instance.name}\")"
   ]
  },
  {
   "cell_type": "code",
   "execution_count": 27,
   "id": "99bbcec7-99b7-4053-941e-1ae19c052ad7",
   "metadata": {
    "tags": []
   },
   "outputs": [],
   "source": [
    "#alloydb_instance"
   ]
  },
  {
   "cell_type": "markdown",
   "id": "ae119aab-f208-4884-bf0e-08b745f88a06",
   "metadata": {},
   "source": [
    "### Create/Retrieve User"
   ]
  },
  {
   "cell_type": "code",
   "execution_count": 29,
   "id": "4522c177-5fe7-4b9a-b84d-04318b4ffe1a",
   "metadata": {
    "tags": []
   },
   "outputs": [
    {
     "data": {
      "text/plain": [
       "name: \"projects/statmike-mlops-349915/locations/us-central1/clusters/statmike-mlops-349915/users/test_alloydb\"\n",
       "database_roles: \"alloydbsuperuser\"\n",
       "user_type: ALLOYDB_BUILT_IN"
      ]
     },
     "execution_count": 29,
     "metadata": {},
     "output_type": "execute_result"
    }
   ],
   "source": [
    "alloydb_client.get_user(name = f\"{alloydb_cluster.name}/users/{ALLOYDB_USER}\")"
   ]
  },
  {
   "cell_type": "markdown",
   "id": "fe69db10-ef6e-4a2e-9e1b-9a79fbfbf3f1",
   "metadata": {
    "tags": []
   },
   "source": [
    "### Connections To Databases\n",
    "\n",
    "AlloyDB is postgres and has a default database named postgres\n",
    "\n",
    "There are many ways to connect to a database: https://cloud.google.com/alloydb/docs/connection-overview\n",
    "\n",
    "Here we want to use Python and will use the AlloyDB language connectors: https://cloud.google.com/alloydb/docs/language-connectors-overview\n",
    "\n",
    "We will create sync and async connectors:https://cloud.google.com/alloydb/docs/connect-language-connectors#install-connectors\n",
    "\n",
    "Connections have three parts:\n",
    "- a connection tool, in this case provided by: https://github.com/GoogleCloudPlatform/alloydb-python-connector/tree/main\n",
    "- a driver to create a connection pool, pg8000 (sync) and asyncpg (async)\n",
    "- a client library that can use connection pools to execute SQL queries, SQLAlchemy"
   ]
  },
  {
   "cell_type": "markdown",
   "id": "cf13e2bb-540e-40bb-86ff-5315e52ba35d",
   "metadata": {
    "tags": []
   },
   "source": [
    "#### Connection Tool"
   ]
  },
  {
   "cell_type": "code",
   "execution_count": 30,
   "id": "15b3926a-4191-4b9a-b2b4-9dca325bbe76",
   "metadata": {
    "tags": []
   },
   "outputs": [],
   "source": [
    "sync_connector = google.cloud.alloydb.connector.Connector()\n",
    "async_connector = google.cloud.alloydb.connector.AsyncConnector()"
   ]
  },
  {
   "cell_type": "markdown",
   "id": "ede88f8a-f9a9-499a-94a2-15fab54b0880",
   "metadata": {
    "tags": []
   },
   "source": [
    "#### Connection"
   ]
  },
  {
   "cell_type": "code",
   "execution_count": 31,
   "id": "2f117aad-b15b-4811-b42d-a8aeed9fdab6",
   "metadata": {
    "tags": []
   },
   "outputs": [],
   "source": [
    "def get_sync_conn(\n",
    "    connector: google.cloud.alloydb.connector.Connector,\n",
    "    db: str\n",
    "):\n",
    "    def getconn():\n",
    "        conn = connector.connect(\n",
    "            alloydb_instance.name,\n",
    "            \"pg8000\",\n",
    "            user = ALLOYDB_USER,\n",
    "            password = ALLOYDB_PASS,\n",
    "            db = db\n",
    "        )\n",
    "        return conn\n",
    "    return getconn"
   ]
  },
  {
   "cell_type": "code",
   "execution_count": 32,
   "id": "deb28250-edda-4f25-bb7e-89dd21e8c27f",
   "metadata": {
    "tags": []
   },
   "outputs": [],
   "source": [
    "async def get_async_conn(\n",
    "    connector: google.cloud.alloydb.connector.AsyncConnector,\n",
    "    db: str\n",
    "):\n",
    "    async def getconn():\n",
    "        conn = await connector.connect(\n",
    "            alloydb_instance.name,\n",
    "            \"asyncpg\",\n",
    "            user = ALLOYDB_USER,\n",
    "            password = ALLOYDB_PASS,\n",
    "            db = db\n",
    "        )\n",
    "        return conn\n",
    "    return getconn"
   ]
  },
  {
   "cell_type": "markdown",
   "id": "741fd166-2232-47db-880a-801dc9a85296",
   "metadata": {
    "tags": []
   },
   "source": [
    "#### Connection Pool"
   ]
  },
  {
   "cell_type": "code",
   "execution_count": 33,
   "id": "b8906947-3744-47f3-90c4-97baa52bfbbe",
   "metadata": {
    "tags": []
   },
   "outputs": [],
   "source": [
    "def get_sync_pool(\n",
    "    connector: google.cloud.alloydb.connector.Connector,\n",
    "    db: str\n",
    ") -> sqlalchemy.engine.Engine:\n",
    "\n",
    "    pool = sqlalchemy.create_engine(\n",
    "        \"postgresql+pg8000://\",\n",
    "        creator = get_sync_conn(connector, db)\n",
    "    )\n",
    "    pool.dialect.description_encoding = None\n",
    "    pool.execution_options(isolation_level=\"AUTOCOMMIT\")\n",
    "    return pool"
   ]
  },
  {
   "cell_type": "code",
   "execution_count": 34,
   "id": "46959ce6-3e23-4d51-9d13-535acc6e3cb9",
   "metadata": {
    "tags": []
   },
   "outputs": [],
   "source": [
    "async def get_async_pool(\n",
    "    connector: google.cloud.alloydb.connector.Connector,\n",
    "    db: str\n",
    ") -> sqlalchemy.engine.Engine:\n",
    "\n",
    "    pool = sqlalchemy.ext.asyncio.create_async_engine(\n",
    "        \"postgresql+asyncpg://\",\n",
    "        async_creator = await get_async_conn(connector, db)\n",
    "    )\n",
    "    pool.dialect.description_encoding = None\n",
    "    pool.execution_options(isolation_level=\"AUTOCOMMIT\")\n",
    "    return pool"
   ]
  },
  {
   "cell_type": "code",
   "execution_count": 35,
   "id": "c3f2e791-52b8-4bb2-ae5b-ceb7893e3acb",
   "metadata": {
    "tags": []
   },
   "outputs": [],
   "source": [
    "sync_pool = get_sync_pool(sync_connector, 'postgres')"
   ]
  },
  {
   "cell_type": "code",
   "execution_count": 36,
   "id": "efa9b8f6-32e8-4cc5-a842-8c4e86773073",
   "metadata": {
    "tags": []
   },
   "outputs": [],
   "source": [
    "async_pool = await get_async_pool(async_connector, 'postgres')"
   ]
  },
  {
   "cell_type": "markdown",
   "id": "52b77393-96d3-4623-92df-e1b82f063249",
   "metadata": {
    "tags": []
   },
   "source": [
    "#### Query Orchestrator\n",
    "\n",
    "Use the a pool as a context manager to orchstrate the query"
   ]
  },
  {
   "cell_type": "code",
   "execution_count": 37,
   "id": "9ddc0b6f-c9af-4a98-b429-572188e3b2a4",
   "metadata": {
    "tags": []
   },
   "outputs": [],
   "source": [
    "def run_query(query, pool = None, connector = sync_connector):\n",
    "    # get the current connnection pool:\n",
    "    if pool is None:\n",
    "        pool = sync_pool\n",
    "        \n",
    "    # run the query and get the response as 'result'\n",
    "    with pool.connect().execution_options(isolation_level=\"AUTOCOMMIT\") as connection:\n",
    "        result = connection.execute(query)\n",
    "        connector.close()\n",
    "        \n",
    "    # prepare the response\n",
    "    rows = []\n",
    "    try:\n",
    "        for row in result:\n",
    "            rows.append(dict(zip(result.keys(), row)))\n",
    "    except Exception:\n",
    "        pass\n",
    "    \n",
    "    # return the response\n",
    "    return rows[0] if len(rows) == 1 else rows"
   ]
  },
  {
   "cell_type": "code",
   "execution_count": 38,
   "id": "30c3d19d-a513-436a-a9c6-ec5d5e95ed20",
   "metadata": {
    "tags": []
   },
   "outputs": [],
   "source": [
    "async def async_run_query(query, pool = None, connector = async_connector):\n",
    "    # get the current connection pool\n",
    "    if pool is None:\n",
    "        pool = async_pool\n",
    "        \n",
    "    # run the query and get the response as 'result'\n",
    "    async with pool.connect() as connection:\n",
    "        result = await connection.execute(query)\n",
    "        await connection.commit()\n",
    "        await connector.close()\n",
    "        \n",
    "    # prepare the response\n",
    "    rows = []\n",
    "    try:\n",
    "        for row in result:\n",
    "            rows.append(dict(zip(result.keys(), row)))\n",
    "    except Exception:\n",
    "        pass\n",
    "    \n",
    "    # return the response\n",
    "    return rows[0] if len(rows) == 1 else rows"
   ]
  },
  {
   "cell_type": "markdown",
   "id": "6220e59b-10eb-4a79-8c14-147efecc4ee4",
   "metadata": {
    "tags": []
   },
   "source": [
    "### Test Query\n",
    "\n",
    "When submitting SQL statements either of the connectors should work for DML (SELECT, INSERT, DELETE, UPDATE) but only the synchronous connector appears to work for DDL (CREATE, ALTER, DROP) statements."
   ]
  },
  {
   "cell_type": "code",
   "execution_count": 39,
   "id": "ff635b1a-f954-47e1-a206-de7aa5328163",
   "metadata": {
    "tags": []
   },
   "outputs": [],
   "source": [
    "query = sqlalchemy.text(\"SELECT 'Success' as did_it_work\")"
   ]
  },
  {
   "cell_type": "code",
   "execution_count": 40,
   "id": "ce1772a9-6d07-46bd-8617-c91cb160a465",
   "metadata": {
    "tags": []
   },
   "outputs": [
    {
     "data": {
      "text/plain": [
       "{'did_it_work': 'Success'}"
      ]
     },
     "execution_count": 40,
     "metadata": {},
     "output_type": "execute_result"
    }
   ],
   "source": [
    "run_query(query)"
   ]
  },
  {
   "cell_type": "code",
   "execution_count": 41,
   "id": "16bdc44d-aead-40ec-979f-42fc43a3a7c8",
   "metadata": {
    "tags": []
   },
   "outputs": [
    {
     "data": {
      "text/plain": [
       "{'did_it_work': 'Success'}"
      ]
     },
     "execution_count": 41,
     "metadata": {},
     "output_type": "execute_result"
    }
   ],
   "source": [
    "await async_run_query(query)"
   ]
  },
  {
   "cell_type": "markdown",
   "id": "35a518d2-8805-41b3-9abe-b401373fdd3f",
   "metadata": {},
   "source": [
    "---\n",
    "## Working With AlloyDB"
   ]
  },
  {
   "cell_type": "markdown",
   "id": "7e3295f2-b539-4552-bafc-555a21523c35",
   "metadata": {
    "tags": []
   },
   "source": [
    "### Create A Database"
   ]
  },
  {
   "cell_type": "code",
   "execution_count": 42,
   "id": "7e168dea-d7da-4bf8-bf17-9a0e781911c8",
   "metadata": {
    "tags": []
   },
   "outputs": [
    {
     "data": {
      "text/plain": [
       "{'datname': 'applied-genai'}"
      ]
     },
     "execution_count": 42,
     "metadata": {},
     "output_type": "execute_result"
    }
   ],
   "source": [
    "query = sqlalchemy.text(f\"SELECT datname FROM pg_database WHERE datname = '{ALLOYDB_DATABASE_NAME}'\")\n",
    "result = run_query(query)\n",
    "result"
   ]
  },
  {
   "cell_type": "code",
   "execution_count": 43,
   "id": "1966d10d-25fb-442e-8d71-6b4c35c2b888",
   "metadata": {
    "tags": []
   },
   "outputs": [],
   "source": [
    "if not result:\n",
    "    query = sqlalchemy.text(f\"CREATE DATABASE \\\"{ALLOYDB_DATABASE_NAME}\\\"\")\n",
    "    run_query(query)"
   ]
  },
  {
   "cell_type": "code",
   "execution_count": 44,
   "id": "85068284-797c-456d-88a7-23881c23b914",
   "metadata": {
    "tags": []
   },
   "outputs": [
    {
     "data": {
      "text/plain": [
       "{'oid': 21630,\n",
       " 'datname': 'applied-genai',\n",
       " 'datdba': 16470,\n",
       " 'encoding': 6,\n",
       " 'datlocprovider': 'i',\n",
       " 'datistemplate': False,\n",
       " 'datallowconn': True,\n",
       " 'datconnlimit': -1,\n",
       " 'datfrozenxid': 720,\n",
       " 'datminmxid': 1,\n",
       " 'dattablespace': 1663,\n",
       " 'datcollate': 'C',\n",
       " 'datctype': 'C',\n",
       " 'daticulocale': 'und-x-icu',\n",
       " 'datcollversion': '153.112',\n",
       " 'datacl': None}"
      ]
     },
     "execution_count": 44,
     "metadata": {},
     "output_type": "execute_result"
    }
   ],
   "source": [
    "query = sqlalchemy.text(f\"SELECT * FROM pg_database WHERE datname = '{ALLOYDB_DATABASE_NAME}'\")\n",
    "run_query(query)"
   ]
  },
  {
   "cell_type": "markdown",
   "id": "a34d1f1f-f760-4344-85df-b87c3613eaad",
   "metadata": {},
   "source": [
    "### Move Connection To New Database"
   ]
  },
  {
   "cell_type": "code",
   "execution_count": 45,
   "id": "2b7bd995-0e74-4c79-b101-674b4665bef4",
   "metadata": {
    "tags": []
   },
   "outputs": [
    {
     "data": {
      "text/plain": [
       "{'current_database': 'postgres'}"
      ]
     },
     "execution_count": 45,
     "metadata": {},
     "output_type": "execute_result"
    }
   ],
   "source": [
    "run_query(sqlalchemy.text('SELECT current_database()'))"
   ]
  },
  {
   "cell_type": "code",
   "execution_count": 46,
   "id": "b79f4407-e111-448c-ac4a-90448da0d590",
   "metadata": {
    "tags": []
   },
   "outputs": [
    {
     "data": {
      "text/plain": [
       "{'current_database': 'postgres'}"
      ]
     },
     "execution_count": 46,
     "metadata": {},
     "output_type": "execute_result"
    }
   ],
   "source": [
    "await async_run_query(sqlalchemy.text('SELECT current_database()'))"
   ]
  },
  {
   "cell_type": "code",
   "execution_count": 47,
   "id": "5dd35a55-3426-4d52-b611-ee1c6ca81816",
   "metadata": {
    "tags": []
   },
   "outputs": [],
   "source": [
    "sync_pool.dispose()\n",
    "sync_connector.close()\n",
    "sync_connector = google.cloud.alloydb.connector.Connector()\n",
    "sync_pool = get_sync_pool(sync_connector, ALLOYDB_DATABASE_NAME)\n",
    "\n",
    "await async_pool.dispose()\n",
    "await async_connector.close()\n",
    "async_connector = google.cloud.alloydb.connector.AsyncConnector()\n",
    "async_pool = await get_async_pool(async_connector, ALLOYDB_DATABASE_NAME)"
   ]
  },
  {
   "cell_type": "code",
   "execution_count": 48,
   "id": "2a8cdac7-5fb7-4097-bb3c-e96334e543d4",
   "metadata": {
    "tags": []
   },
   "outputs": [
    {
     "data": {
      "text/plain": [
       "{'current_database': 'applied-genai'}"
      ]
     },
     "execution_count": 48,
     "metadata": {},
     "output_type": "execute_result"
    }
   ],
   "source": [
    "run_query(sqlalchemy.text('SELECT current_database()'))"
   ]
  },
  {
   "cell_type": "code",
   "execution_count": 49,
   "id": "9db7f090-8b03-4d4e-a346-0e1a2fe0c143",
   "metadata": {
    "tags": []
   },
   "outputs": [
    {
     "data": {
      "text/plain": [
       "{'current_database': 'applied-genai'}"
      ]
     },
     "execution_count": 49,
     "metadata": {},
     "output_type": "execute_result"
    }
   ],
   "source": [
    "await async_run_query(sqlalchemy.text('SELECT current_database()'))"
   ]
  },
  {
   "cell_type": "markdown",
   "id": "9b053e1b-2fb1-4744-87e6-12347ce6de79",
   "metadata": {},
   "source": [
    "### Create Table"
   ]
  },
  {
   "cell_type": "code",
   "execution_count": 50,
   "id": "28b87d4d-a594-4523-ad20-eb33ded3c50e",
   "metadata": {
    "tags": []
   },
   "outputs": [
    {
     "data": {
      "text/plain": [
       "{'table_catalog': 'applied-genai',\n",
       " 'table_schema': 'public',\n",
       " 'table_name': 'retrieval-alloydb',\n",
       " 'table_type': 'BASE TABLE',\n",
       " 'self_referencing_column_name': None,\n",
       " 'reference_generation': None,\n",
       " 'user_defined_type_catalog': None,\n",
       " 'user_defined_type_schema': None,\n",
       " 'user_defined_type_name': None,\n",
       " 'is_insertable_into': 'YES',\n",
       " 'is_typed': 'NO',\n",
       " 'commit_action': None}"
      ]
     },
     "execution_count": 50,
     "metadata": {},
     "output_type": "execute_result"
    }
   ],
   "source": [
    "result = run_query(sqlalchemy.text(f\"SELECT * from information_schema.tables WHERE table_name = '{ALLOYDB_TABLE_NAME}'\"))\n",
    "result"
   ]
  },
  {
   "cell_type": "code",
   "execution_count": 51,
   "id": "f6d59f24-82d0-406b-82c3-3f1794461668",
   "metadata": {
    "tags": []
   },
   "outputs": [
    {
     "data": {
      "text/plain": [
       "[]"
      ]
     },
     "execution_count": 51,
     "metadata": {},
     "output_type": "execute_result"
    }
   ],
   "source": [
    "run_query(sqlalchemy.text(f\"DROP TABLE IF EXISTS \\\"{ALLOYDB_TABLE_NAME}\\\"\"))"
   ]
  },
  {
   "cell_type": "code",
   "execution_count": 52,
   "id": "7ffc4348-86ea-40d7-a0e9-5049830a9c4e",
   "metadata": {
    "tags": []
   },
   "outputs": [
    {
     "data": {
      "text/plain": [
       "[]"
      ]
     },
     "execution_count": 52,
     "metadata": {},
     "output_type": "execute_result"
    }
   ],
   "source": [
    "run_query(\n",
    "    sqlalchemy.text(f\"\"\"\n",
    "            CREATE TABLE IF NOT EXISTS \\\"{ALLOYDB_TABLE_NAME}\\\" (\n",
    "                chunk_id VARCHAR(100) NOT NULL PRIMARY KEY,\n",
    "                gse VARCHAR(50),\n",
    "                content TEXT,\n",
    "                embedding REAL[]\n",
    "            );\n",
    "        \"\"\"\n",
    "    )\n",
    ")"
   ]
  },
  {
   "cell_type": "code",
   "execution_count": 53,
   "id": "cbf4c6c7-7cd1-4985-9600-7e9d51c42977",
   "metadata": {
    "tags": []
   },
   "outputs": [
    {
     "data": {
      "text/plain": [
       "{'table_catalog': 'applied-genai',\n",
       " 'table_schema': 'public',\n",
       " 'table_name': 'retrieval-alloydb',\n",
       " 'table_type': 'BASE TABLE',\n",
       " 'self_referencing_column_name': None,\n",
       " 'reference_generation': None,\n",
       " 'user_defined_type_catalog': None,\n",
       " 'user_defined_type_schema': None,\n",
       " 'user_defined_type_name': None,\n",
       " 'is_insertable_into': 'YES',\n",
       " 'is_typed': 'NO',\n",
       " 'commit_action': None}"
      ]
     },
     "execution_count": 53,
     "metadata": {},
     "output_type": "execute_result"
    }
   ],
   "source": [
    "result = run_query(sqlalchemy.text(f\"SELECT * from information_schema.tables WHERE table_name = '{ALLOYDB_TABLE_NAME}'\"))\n",
    "result"
   ]
  },
  {
   "cell_type": "code",
   "execution_count": 54,
   "id": "95bd923f-84ae-47c2-b6f2-2d4ef5262a93",
   "metadata": {
    "tags": []
   },
   "outputs": [
    {
     "data": {
      "text/plain": [
       "[{'column_name': 'embedding', 'data_type': 'ARRAY'},\n",
       " {'column_name': 'chunk_id', 'data_type': 'character varying'},\n",
       " {'column_name': 'gse', 'data_type': 'character varying'},\n",
       " {'column_name': 'content', 'data_type': 'text'}]"
      ]
     },
     "execution_count": 54,
     "metadata": {},
     "output_type": "execute_result"
    }
   ],
   "source": [
    "run_query(sqlalchemy.text(f\"SELECT column_name, data_type FROM information_schema.columns WHERE table_name = '{ALLOYDB_TABLE_NAME}'\"))"
   ]
  },
  {
   "cell_type": "markdown",
   "id": "79f69653-fc52-48bd-83c8-dee15335834c",
   "metadata": {},
   "source": [
    "### Add, Retrieve, And Delete Rows"
   ]
  },
  {
   "cell_type": "markdown",
   "id": "9dd6fa00-4efe-4b8a-acb9-9606477562c9",
   "metadata": {},
   "source": [
    "#### Get A Record\n",
    "\n",
    "Dictionaries for each record/row are stored in `content_chunks` from earlier in this workflow:"
   ]
  },
  {
   "cell_type": "code",
   "execution_count": 55,
   "id": "b575010a-11c5-4b43-b3e5-8ed57492a6e6",
   "metadata": {
    "tags": []
   },
   "outputs": [],
   "source": [
    "first_record = content_chunks[0]"
   ]
  },
  {
   "cell_type": "code",
   "execution_count": 56,
   "id": "e6a36677-d8e5-47fc-b1d4-237282bcb0fc",
   "metadata": {
    "tags": []
   },
   "outputs": [
    {
     "data": {
      "text/plain": [
       "dict_keys(['gse', 'chunk_id', 'content', 'embedding'])"
      ]
     },
     "execution_count": 56,
     "metadata": {},
     "output_type": "execute_result"
    }
   ],
   "source": [
    "first_record.keys()"
   ]
  },
  {
   "cell_type": "code",
   "execution_count": 57,
   "id": "d2463d83-aa30-434c-92fd-76244fef318d",
   "metadata": {
    "tags": []
   },
   "outputs": [
    {
     "data": {
      "text/plain": [
       "'fannie_part_0_c17'"
      ]
     },
     "execution_count": 57,
     "metadata": {},
     "output_type": "execute_result"
    }
   ],
   "source": [
    "first_record['chunk_id']"
   ]
  },
  {
   "cell_type": "markdown",
   "id": "dd030c3b-9572-4930-9e1d-153060d21584",
   "metadata": {},
   "source": [
    "#### Insert Row"
   ]
  },
  {
   "cell_type": "code",
   "execution_count": 58,
   "id": "d2b47f08-7b07-4ec1-9ce7-926de646b190",
   "metadata": {},
   "outputs": [],
   "source": [
    "table = sqlalchemy.Table(\n",
    "    ALLOYDB_TABLE_NAME,\n",
    "    sqlalchemy.MetaData(),\n",
    "    autoload_with = sync_pool\n",
    ")"
   ]
  },
  {
   "cell_type": "code",
   "execution_count": 59,
   "id": "8a50c53b-f47f-491b-b86c-9487406c3ed5",
   "metadata": {},
   "outputs": [
    {
     "name": "stdout",
     "output_type": "stream",
     "text": [
      "retrieval-alloydb.chunk_id\n",
      "retrieval-alloydb.gse\n",
      "retrieval-alloydb.content\n",
      "retrieval-alloydb.embedding\n"
     ]
    }
   ],
   "source": [
    "for c in table.columns:\n",
    "    print(c)"
   ]
  },
  {
   "cell_type": "code",
   "execution_count": 60,
   "id": "da8bc975-928c-4088-a8e1-6e5df56512b2",
   "metadata": {
    "tags": []
   },
   "outputs": [],
   "source": [
    "insert_row = sqlalchemy.insert(table).values(first_record)"
   ]
  },
  {
   "cell_type": "code",
   "execution_count": 61,
   "id": "af77ae21-092f-4705-bce7-b29624b2a2f7",
   "metadata": {
    "tags": []
   },
   "outputs": [
    {
     "data": {
      "text/plain": [
       "[]"
      ]
     },
     "execution_count": 61,
     "metadata": {},
     "output_type": "execute_result"
    }
   ],
   "source": [
    "run_query(insert_row)"
   ]
  },
  {
   "cell_type": "markdown",
   "id": "ec8cfb56-56e7-488e-946d-cc579c4eec27",
   "metadata": {},
   "source": [
    "#### Retrieve Row"
   ]
  },
  {
   "cell_type": "code",
   "execution_count": 62,
   "id": "b89f2df3-4a03-4239-bb3d-e3bf26742408",
   "metadata": {
    "tags": []
   },
   "outputs": [],
   "source": [
    "query = sqlalchemy.text(f\"SELECT * FROM \\\"{ALLOYDB_TABLE_NAME}\\\" WHERE chunk_id = '{first_record['chunk_id']}'\")\n",
    "result = run_query(query)"
   ]
  },
  {
   "cell_type": "code",
   "execution_count": 63,
   "id": "3354adc6-bcd4-43c5-aa76-552571361f90",
   "metadata": {
    "tags": []
   },
   "outputs": [
    {
     "data": {
      "text/plain": [
       "dict_keys(['chunk_id', 'gse', 'content', 'embedding'])"
      ]
     },
     "execution_count": 63,
     "metadata": {},
     "output_type": "execute_result"
    }
   ],
   "source": [
    "result.keys()"
   ]
  },
  {
   "cell_type": "code",
   "execution_count": 64,
   "id": "0a60d005-075b-496c-bb71-c2c52d221294",
   "metadata": {
    "tags": []
   },
   "outputs": [
    {
     "data": {
      "text/plain": [
       "'fannie_part_0_c17'"
      ]
     },
     "execution_count": 64,
     "metadata": {},
     "output_type": "execute_result"
    }
   ],
   "source": [
    "result['chunk_id']"
   ]
  },
  {
   "cell_type": "code",
   "execution_count": 65,
   "id": "c437331b-9001-429b-ad14-266821a6c0fa",
   "metadata": {
    "tags": []
   },
   "outputs": [],
   "source": [
    "query = sqlalchemy.select(table).where(table.columns.chunk_id == first_record['chunk_id'])\n",
    "result = run_query(query)"
   ]
  },
  {
   "cell_type": "code",
   "execution_count": 66,
   "id": "eaef2ab7-815a-49b6-9798-f1ad1e245ced",
   "metadata": {
    "tags": []
   },
   "outputs": [
    {
     "data": {
      "text/plain": [
       "dict_keys(['chunk_id', 'gse', 'content', 'embedding'])"
      ]
     },
     "execution_count": 66,
     "metadata": {},
     "output_type": "execute_result"
    }
   ],
   "source": [
    "result.keys()"
   ]
  },
  {
   "cell_type": "code",
   "execution_count": 67,
   "id": "724e2c89-95d0-493c-9eeb-bd1941d59e58",
   "metadata": {
    "tags": []
   },
   "outputs": [
    {
     "data": {
      "text/plain": [
       "'fannie_part_0_c17'"
      ]
     },
     "execution_count": 67,
     "metadata": {},
     "output_type": "execute_result"
    }
   ],
   "source": [
    "result['chunk_id']"
   ]
  },
  {
   "cell_type": "code",
   "execution_count": 68,
   "id": "cee83639-cbd4-4fb8-956c-6eee46002769",
   "metadata": {
    "tags": []
   },
   "outputs": [
    {
     "data": {
      "text/plain": [
       "list"
      ]
     },
     "execution_count": 68,
     "metadata": {},
     "output_type": "execute_result"
    }
   ],
   "source": [
    "type(result['embedding'])"
   ]
  },
  {
   "cell_type": "code",
   "execution_count": 69,
   "id": "189dbe10-ba60-44f7-9c55-b620d7c9930a",
   "metadata": {
    "tags": []
   },
   "outputs": [
    {
     "data": {
      "text/plain": [
       "[0.031277116,\n",
       " 0.03056905,\n",
       " 0.010865348,\n",
       " 0.062361468,\n",
       " 0.032286815,\n",
       " 0.050661553,\n",
       " 0.046544693,\n",
       " 0.055096656,\n",
       " -0.014074751,\n",
       " 0.0083804]"
      ]
     },
     "execution_count": 69,
     "metadata": {},
     "output_type": "execute_result"
    }
   ],
   "source": [
    "result['embedding'][0:10]"
   ]
  },
  {
   "cell_type": "markdown",
   "id": "3a528a37-be4a-450d-a677-108d7a34caff",
   "metadata": {},
   "source": [
    "#### Delete Row"
   ]
  },
  {
   "cell_type": "code",
   "execution_count": 70,
   "id": "166d073b-bac1-48eb-90b7-7ab48d94ec33",
   "metadata": {
    "tags": []
   },
   "outputs": [
    {
     "data": {
      "text/plain": [
       "{'count': 1}"
      ]
     },
     "execution_count": 70,
     "metadata": {},
     "output_type": "execute_result"
    }
   ],
   "source": [
    "run_query(sqlalchemy.text(f\"SELECT COUNT(*) as count FROM \\\"{ALLOYDB_TABLE_NAME}\\\"\"))"
   ]
  },
  {
   "cell_type": "code",
   "execution_count": 71,
   "id": "20ababa0-18ba-4cef-9247-b46d06cab9fa",
   "metadata": {
    "tags": []
   },
   "outputs": [
    {
     "data": {
      "text/plain": [
       "[]"
      ]
     },
     "execution_count": 71,
     "metadata": {},
     "output_type": "execute_result"
    }
   ],
   "source": [
    "run_query(sqlalchemy.text(f\"DELETE FROM \\\"{ALLOYDB_TABLE_NAME}\\\" WHERE chunk_id = '{first_record['chunk_id']}'\"))"
   ]
  },
  {
   "cell_type": "code",
   "execution_count": 72,
   "id": "7557bf26-8f37-4bbc-85a7-7ee636f2eef8",
   "metadata": {
    "tags": []
   },
   "outputs": [
    {
     "data": {
      "text/plain": [
       "{'count': 0}"
      ]
     },
     "execution_count": 72,
     "metadata": {},
     "output_type": "execute_result"
    }
   ],
   "source": [
    "run_query(sqlalchemy.text(f\"SELECT COUNT(*) as count FROM \\\"{ALLOYDB_TABLE_NAME}\\\"\"))"
   ]
  },
  {
   "cell_type": "markdown",
   "id": "723f9413-3dcb-4c4d-aca3-43761ab6da42",
   "metadata": {},
   "source": [
    "## Load Data \n",
    "\n",
    "There are a lot of rows to load so using the async method here:"
   ]
  },
  {
   "cell_type": "code",
   "execution_count": 73,
   "id": "e261d6c6-d39b-463c-a898-ecee6cf903bf",
   "metadata": {
    "tags": []
   },
   "outputs": [],
   "source": [
    "queries = [sqlalchemy.insert(table).values(c) for c in content_chunks]"
   ]
  },
  {
   "cell_type": "code",
   "execution_count": 74,
   "id": "e0b754db-d9e1-4fd2-851d-89ea705cfb85",
   "metadata": {
    "tags": []
   },
   "outputs": [],
   "source": [
    "tasks = [async_run_query(query) for query in queries]"
   ]
  },
  {
   "cell_type": "code",
   "execution_count": 75,
   "id": "c84b7d53-dd86-4952-a2fb-84ed675965b0",
   "metadata": {
    "tags": []
   },
   "outputs": [],
   "source": [
    "results = await asyncio.gather(*tasks)"
   ]
  },
  {
   "cell_type": "code",
   "execution_count": 76,
   "id": "0ff3630f-3519-4cfc-9a62-476c395b4ce9",
   "metadata": {
    "tags": []
   },
   "outputs": [
    {
     "data": {
      "text/plain": [
       "{'count': 9040}"
      ]
     },
     "execution_count": 76,
     "metadata": {},
     "output_type": "execute_result"
    }
   ],
   "source": [
    "run_query(sqlalchemy.text(f\"SELECT COUNT(*) as count FROM \\\"{ALLOYDB_TABLE_NAME}\\\"\"))"
   ]
  },
  {
   "cell_type": "markdown",
   "id": "138154e9-7d22-4c75-9806-d3286c49207d",
   "metadata": {},
   "source": [
    "---\n",
    "## Setup AlloyDB for Vector Similarity Search\n",
    "\n",
    "To store embeddings a vectors and then do indexing and matching the database needs some required extensions.\n",
    "\n",
    "**Store Embeddings As Vectors**\n",
    "\n",
    "[Google provides](https://cloud.google.com/alloydb/docs/ai/store-embeddings#required-extension) a version of [`pgvector`](https://github.com/pgvector/pgvector#indexing) named `vector` that includes function and operators for working with vector values. \n",
    "\n",
    "```CREATE EXTENSION IF NOT EXISTS vector```\n",
    "\n",
    "**Create Indexes For Vectors**\n",
    "\n",
    "Indexing of vectors allows for faster approximate search.  The `vector` package above includes the `pgvector` functionality of IVF, IVFFLat, and HNSW index types.  The Google developed [ScaNN index](https://github.com/google-research/google-research/blob/master/scann/docs/algorithms.md) can be added as an extension named `alloydb_scann`.\n",
    "\n",
    "```CREATE EXTENSION IF NOT EXISTS alloydb_scann```\n"
   ]
  },
  {
   "cell_type": "code",
   "execution_count": 77,
   "id": "7573561e-8f1d-4edb-b685-2a9a793cd8b3",
   "metadata": {
    "tags": []
   },
   "outputs": [
    {
     "data": {
      "text/plain": [
       "[]"
      ]
     },
     "execution_count": 77,
     "metadata": {},
     "output_type": "execute_result"
    }
   ],
   "source": [
    "run_query(sqlalchemy.text(f\"CREATE EXTENSION IF NOT EXISTS vector\"))"
   ]
  },
  {
   "cell_type": "code",
   "execution_count": 78,
   "id": "d2f798df-91ae-4263-8905-505e12e49581",
   "metadata": {
    "tags": []
   },
   "outputs": [
    {
     "data": {
      "text/plain": [
       "[]"
      ]
     },
     "execution_count": 78,
     "metadata": {},
     "output_type": "execute_result"
    }
   ],
   "source": [
    "run_query(sqlalchemy.text(f\"CREATE EXTENSION IF NOT EXISTS alloydb_scann\"))"
   ]
  },
  {
   "cell_type": "markdown",
   "id": "ab4b1f26-418a-4c47-882b-c9772be4dc82",
   "metadata": {},
   "source": [
    "### Convert `embedding` Column To Vector Data Type\n",
    "\n",
    "The data was loaded/inserted above with the embedding stored in a column named 'embedding' as an ARRAY of float values.  This column can now be converted to the vector type with the specific dimension using an `ALTER TABLE` command."
   ]
  },
  {
   "cell_type": "code",
   "execution_count": 79,
   "id": "cb3e163a-67f7-4f06-93e8-1140cc097f2d",
   "metadata": {
    "tags": []
   },
   "outputs": [
    {
     "data": {
      "text/plain": [
       "[]"
      ]
     },
     "execution_count": 79,
     "metadata": {},
     "output_type": "execute_result"
    }
   ],
   "source": [
    "run_query(sqlalchemy.text(f\"ALTER TABLE \\\"{ALLOYDB_TABLE_NAME}\\\" ALTER COLUMN embedding TYPE vector({len(question_embedding)});\"))"
   ]
  },
  {
   "cell_type": "code",
   "execution_count": 80,
   "id": "863a6bf8-d59e-4b74-93a5-b09a95b1d665",
   "metadata": {
    "tags": []
   },
   "outputs": [
    {
     "data": {
      "text/plain": [
       "[{'column_name': 'embedding', 'data_type': 'USER-DEFINED'},\n",
       " {'column_name': 'chunk_id', 'data_type': 'character varying'},\n",
       " {'column_name': 'gse', 'data_type': 'character varying'},\n",
       " {'column_name': 'content', 'data_type': 'text'}]"
      ]
     },
     "execution_count": 80,
     "metadata": {},
     "output_type": "execute_result"
    }
   ],
   "source": [
    "run_query(sqlalchemy.text(f\"SELECT column_name, data_type FROM information_schema.columns WHERE table_name = '{ALLOYDB_TABLE_NAME}'\"))"
   ]
  },
  {
   "cell_type": "code",
   "execution_count": 81,
   "id": "07fa6254-1343-49b7-a829-e83182034e03",
   "metadata": {
    "tags": []
   },
   "outputs": [
    {
     "data": {
      "text/plain": [
       "dict_keys(['chunk_id', 'gse', 'content', 'embedding'])"
      ]
     },
     "execution_count": 81,
     "metadata": {},
     "output_type": "execute_result"
    }
   ],
   "source": [
    "query = sqlalchemy.text(f\"SELECT * FROM \\\"{ALLOYDB_TABLE_NAME}\\\" WHERE chunk_id = '{first_record['chunk_id']}'\")\n",
    "result = run_query(query)\n",
    "result.keys()"
   ]
  },
  {
   "cell_type": "code",
   "execution_count": 82,
   "id": "80697848-571c-43f3-82f4-5c4c32356f71",
   "metadata": {
    "tags": []
   },
   "outputs": [
    {
     "data": {
      "text/plain": [
       "str"
      ]
     },
     "execution_count": 82,
     "metadata": {},
     "output_type": "execute_result"
    }
   ],
   "source": [
    "type(result['embedding'])"
   ]
  },
  {
   "cell_type": "code",
   "execution_count": 83,
   "id": "b1308fbe-e4fb-4240-9cf8-c5237bb218b3",
   "metadata": {
    "tags": []
   },
   "outputs": [
    {
     "data": {
      "text/plain": [
       "'[0.031277116,0.03056905,0.010865348,0.062361468,0.032286815,0.050661553,0.046544693,0.055096656,-0.0'"
      ]
     },
     "execution_count": 83,
     "metadata": {},
     "output_type": "execute_result"
    }
   ],
   "source": [
    "result['embedding'][0:100]"
   ]
  },
  {
   "cell_type": "markdown",
   "id": "08cfc98a-616e-439f-a67c-f3b17f1d7fb1",
   "metadata": {},
   "source": [
    "---\n",
    "## Vector Similarity Search, Matching\n",
    "\n",
    "- brute force, with and without prefiltering\n",
    "- create indexes\n",
    "- search with index, specify index\n",
    "- search and let opimizer pick index\n",
    "- detect which index is pick, with and without prefiltering\n",
    "- search and force brute force even when index exists"
   ]
  },
  {
   "cell_type": "markdown",
   "id": "c689231d-baf9-4dfc-a06a-d2c26062e89a",
   "metadata": {},
   "source": [
    "### Brute Force Search - No Index\n",
    "\n",
    "Easily run a brute force (compare to all rows) match with a choice of distance measure:\n",
    "- `<->` for L2, Euclidean distance\n",
    "- `<#>` for Inner, Dot Product\n",
    "- `<=>` for Cosine distance"
   ]
  },
  {
   "cell_type": "code",
   "execution_count": 219,
   "id": "aed237e4-77e6-4dab-af1a-908ad0563d61",
   "metadata": {
    "tags": []
   },
   "outputs": [
    {
     "data": {
      "text/plain": [
       "[{'chunk_id': 'fannie_part_0_c352', 'dot_product': -0.7099841833114624},\n",
       " {'chunk_id': 'freddie_part_4_c509', 'dot_product': -0.680526077747345},\n",
       " {'chunk_id': 'freddie_part_4_c510', 'dot_product': -0.6753296852111816},\n",
       " {'chunk_id': 'fannie_part_0_c353', 'dot_product': -0.6723706722259521},\n",
       " {'chunk_id': 'fannie_part_0_c326', 'dot_product': -0.66834956407547}]"
      ]
     },
     "execution_count": 219,
     "metadata": {},
     "output_type": "execute_result"
    }
   ],
   "source": [
    "run_query(sqlalchemy.text(f\"SELECT chunk_id, embedding <#> '{question_embedding}' AS dot_product FROM \\\"{ALLOYDB_TABLE_NAME}\\\" ORDER BY dot_product LIMIT 5\"))"
   ]
  },
  {
   "cell_type": "code",
   "execution_count": 220,
   "id": "3976d318-a321-4b55-8167-9fafb05533e1",
   "metadata": {
    "tags": []
   },
   "outputs": [
    {
     "data": {
      "text/plain": [
       "[{'chunk_id': 'fannie_part_0_c352', 'euclidean_distance': 0.7615658337594855},\n",
       " {'chunk_id': 'freddie_part_4_c509', 'euclidean_distance': 0.7992875100367289},\n",
       " {'chunk_id': 'freddie_part_4_c510', 'euclidean_distance': 0.8057848660615564},\n",
       " {'chunk_id': 'fannie_part_0_c353', 'euclidean_distance': 0.8094337265330812},\n",
       " {'chunk_id': 'fannie_part_0_c326', 'euclidean_distance': 0.8144253147417732}]"
      ]
     },
     "execution_count": 220,
     "metadata": {},
     "output_type": "execute_result"
    }
   ],
   "source": [
    "run_query(sqlalchemy.text(f\"SELECT chunk_id, embedding <-> '{question_embedding}' AS euclidean_distance FROM \\\"{ALLOYDB_TABLE_NAME}\\\" ORDER BY euclidean_distance LIMIT 5\"))"
   ]
  },
  {
   "cell_type": "code",
   "execution_count": 221,
   "id": "fbc277a6-0621-4b9f-b206-03b8be1de3fd",
   "metadata": {
    "tags": []
   },
   "outputs": [
    {
     "data": {
      "text/plain": [
       "[{'chunk_id': 'fannie_part_0_c352', 'cosine_distance': 0.2899983636254655},\n",
       " {'chunk_id': 'freddie_part_4_c509', 'cosine_distance': 0.31944424887732137},\n",
       " {'chunk_id': 'freddie_part_4_c510', 'cosine_distance': 0.3246529458452222},\n",
       " {'chunk_id': 'fannie_part_0_c353', 'cosine_distance': 0.32760391792511945},\n",
       " {'chunk_id': 'fannie_part_0_c326', 'cosine_distance': 0.33164633285935186}]"
      ]
     },
     "execution_count": 221,
     "metadata": {},
     "output_type": "execute_result"
    }
   ],
   "source": [
    "run_query(sqlalchemy.text(f\"SELECT chunk_id, embedding <=> '{question_embedding}' AS cosine_distance FROM \\\"{ALLOYDB_TABLE_NAME}\\\" ORDER BY cosine_distance LIMIT 5\"))"
   ]
  },
  {
   "cell_type": "markdown",
   "id": "fc22e6d3-8045-4e2b-b7f9-434740707219",
   "metadata": {},
   "source": [
    "### Brute Force Search With Pre-Filtering - No Index\n",
    "\n",
    "Extending a brute force match with pre-filtering means including a `WHERE` statement:"
   ]
  },
  {
   "cell_type": "markdown",
   "id": "1ca0a409-f092-4418-aad2-e85690e90002",
   "metadata": {},
   "source": [
    "Matches for rows where `gse = 'fannie'`:"
   ]
  },
  {
   "cell_type": "code",
   "execution_count": 222,
   "id": "0d8782ba-5ecb-485c-abe9-f494fb8ce585",
   "metadata": {
    "tags": []
   },
   "outputs": [
    {
     "data": {
      "text/plain": [
       "[{'chunk_id': 'fannie_part_0_c352', 'dot_product': -0.7099841833114624},\n",
       " {'chunk_id': 'fannie_part_0_c353', 'dot_product': -0.6723706722259521},\n",
       " {'chunk_id': 'fannie_part_0_c326', 'dot_product': -0.66834956407547},\n",
       " {'chunk_id': 'fannie_part_0_c92', 'dot_product': -0.6614338159561157},\n",
       " {'chunk_id': 'fannie_part_0_c240', 'dot_product': -0.6608578562736511}]"
      ]
     },
     "execution_count": 222,
     "metadata": {},
     "output_type": "execute_result"
    }
   ],
   "source": [
    "run_query(sqlalchemy.text(f\"SELECT chunk_id, embedding <#> '{question_embedding}' AS dot_product FROM \\\"{ALLOYDB_TABLE_NAME}\\\" WHERE gse = 'fannie' ORDER BY dot_product LIMIT 5\"))"
   ]
  },
  {
   "cell_type": "markdown",
   "id": "9c1ca2eb-6edd-443d-9aff-e91245005cb7",
   "metadata": {},
   "source": [
    "Matches for rows where `gse = 'freddie'`:"
   ]
  },
  {
   "cell_type": "code",
   "execution_count": 223,
   "id": "ce74b3d6-73b7-4106-83ea-e43f2f0d8630",
   "metadata": {
    "tags": []
   },
   "outputs": [
    {
     "data": {
      "text/plain": [
       "[{'chunk_id': 'freddie_part_4_c509', 'dot_product': -0.680526077747345},\n",
       " {'chunk_id': 'freddie_part_4_c510', 'dot_product': -0.6753296852111816},\n",
       " {'chunk_id': 'freddie_part_4_c472', 'dot_product': -0.661984384059906},\n",
       " {'chunk_id': 'freddie_part_6_c439', 'dot_product': -0.6604534983634949},\n",
       " {'chunk_id': 'freddie_part_4_c558', 'dot_product': -0.6575403213500977}]"
      ]
     },
     "execution_count": 223,
     "metadata": {},
     "output_type": "execute_result"
    }
   ],
   "source": [
    "run_query(sqlalchemy.text(f\"SELECT chunk_id, embedding <#> '{question_embedding}' AS dot_product FROM \\\"{ALLOYDB_TABLE_NAME}\\\" WHERE gse = 'freddie' ORDER BY dot_product LIMIT 5\"))"
   ]
  },
  {
   "cell_type": "markdown",
   "id": "93407950-f3ae-47d0-bd6e-eded8e1cdcad",
   "metadata": {},
   "source": [
    "### Create An Index\n",
    "\n",
    "Index make search across many rows more efficient by first matching partions of rows and then only comparing to rows within the partions.  This section covers [creating indexes](https://cloud.google.com/alloydb/docs/ai/store-index-query-vectors?resource=scann) and using them in queries.\n",
    "\n",
    "- IVF: Inverted File Lists, a general approach where the quanitzation can be selected\n",
    "    - partions rows into list, only searches a subset that are closest to the query vector\n",
    "    - fast build, low memory, slow query\n",
    "    - can increase the number of list used in searches at query time for greater recall\n",
    "- IVFFlat: Inverted File Lists, specifically with flat quantization\n",
    "    - partions rows into list, only searches a subset that are closest to the query vector\n",
    "    - fast build, low memory usage, slower query\n",
    "    - can increase the number of lists used in search at query time for greater recall\n",
    "- [HNSW](https://arxiv.org/abs/1603.09320): Hierarchical Navigable Small World graphs\n",
    "    - creates a multilayer graph\n",
    "    - slower build, more memory, faster query\n",
    "    - can increase the number of candidates in the search for greater recall\n",
    "- ScaNN: [Developed by google](https://github.com/google-research/google-research/blob/master/scann/docs/algorithms.md)\n",
    "    - tree-based quantization index\n",
    "    - faster build with less memory than HNSW\n",
    "    - faster query times "
   ]
  },
  {
   "cell_type": "markdown",
   "id": "29049960-57d3-442c-a828-97d2558487bd",
   "metadata": {},
   "source": [
    "#### IVF\n",
    "\n",
    "https://cloud.google.com/alloydb/docs/ai/store-index-query-vectors?resource=ivf#create-index"
   ]
  },
  {
   "cell_type": "code",
   "execution_count": 283,
   "id": "9b8c4c04-f2f9-4fa9-8b05-ae33a126d64a",
   "metadata": {
    "tags": []
   },
   "outputs": [
    {
     "data": {
      "text/plain": [
       "[]"
      ]
     },
     "execution_count": 283,
     "metadata": {},
     "output_type": "execute_result"
    }
   ],
   "source": [
    "run_query(sqlalchemy.text(f\"\"\"\n",
    "    CREATE INDEX IF NOT EXISTS ivf_index\n",
    "    ON \\\"{ALLOYDB_TABLE_NAME}\\\"\n",
    "    USING ivf (embedding vector_ip_ops)\n",
    "    WITH (lists = 100, quantizer = 'FLAT')\n",
    "\"\"\"))"
   ]
  },
  {
   "cell_type": "code",
   "execution_count": 284,
   "id": "5cd83753-48b4-4ea7-b006-5c1ffaaf3f41",
   "metadata": {
    "tags": []
   },
   "outputs": [
    {
     "data": {
      "text/plain": [
       "{'schemaname': 'public',\n",
       " 'tablename': 'retrieval-alloydb',\n",
       " 'indexname': 'ivf_index',\n",
       " 'tablespace': None,\n",
       " 'indexdef': 'CREATE INDEX ivf_index ON public.\"retrieval-alloydb\" USING ivf (embedding vector_ip_ops) WITH (lists=\\'100\\', quantizer=\\'FLAT\\')'}"
      ]
     },
     "execution_count": 284,
     "metadata": {},
     "output_type": "execute_result"
    }
   ],
   "source": [
    "run_query(sqlalchemy.text(f\"SELECT * FROM pg_indexes  WHERE tablename = '{ALLOYDB_TABLE_NAME}' AND indexname = 'ivf_index'\"))"
   ]
  },
  {
   "cell_type": "code",
   "execution_count": 285,
   "id": "db04191b-69b7-42f7-931e-452a89bcee76",
   "metadata": {
    "tags": []
   },
   "outputs": [
    {
     "data": {
      "text/plain": [
       "[]"
      ]
     },
     "execution_count": 285,
     "metadata": {},
     "output_type": "execute_result"
    }
   ],
   "source": [
    "run_query(sqlalchemy.text('SELECT * FROM pg_stat_progress_create_index'))"
   ]
  },
  {
   "cell_type": "code",
   "execution_count": 286,
   "id": "9e17f3d5-1b93-4215-90f4-bc933da84dfb",
   "metadata": {
    "tags": []
   },
   "outputs": [
    {
     "data": {
      "text/plain": [
       "[]"
      ]
     },
     "execution_count": 286,
     "metadata": {},
     "output_type": "execute_result"
    }
   ],
   "source": [
    "run_query(sqlalchemy.text('SELECT * FROM pg_stat_ann_indexes'))"
   ]
  },
  {
   "cell_type": "code",
   "execution_count": 287,
   "id": "c5ccbc18-1caa-4def-b3d8-3b35b804af11",
   "metadata": {
    "tags": []
   },
   "outputs": [
    {
     "data": {
      "text/plain": [
       "[{'chunk_id': 'fannie_part_0_c352', 'dot_product': -0.7099841833114624},\n",
       " {'chunk_id': 'fannie_part_0_c353', 'dot_product': -0.6723706722259521},\n",
       " {'chunk_id': 'fannie_part_0_c92', 'dot_product': -0.6614338159561157},\n",
       " {'chunk_id': 'fannie_part_0_c240', 'dot_product': -0.6608578562736511},\n",
       " {'chunk_id': 'fannie_part_2_c417', 'dot_product': -0.6559132933616638}]"
      ]
     },
     "execution_count": 287,
     "metadata": {},
     "output_type": "execute_result"
    }
   ],
   "source": [
    "run_query(sqlalchemy.text(f\"\"\"\n",
    "    SELECT chunk_id, embedding <#> '{question_embedding}' AS dot_product\n",
    "    FROM \\\"{ALLOYDB_TABLE_NAME}\\\"\n",
    "    ORDER BY dot_product\n",
    "    LIMIT 5\n",
    "\"\"\"))"
   ]
  },
  {
   "cell_type": "code",
   "execution_count": 288,
   "id": "8903255e-6fd4-44d4-be6c-4b1412b87d8b",
   "metadata": {
    "tags": []
   },
   "outputs": [
    {
     "data": {
      "text/plain": [
       "[{'QUERY PLAN': 'Limit  (cost=115.68..115.88 rows=5 width=27) (actual time=0.201..0.224 rows=5 loops=1)'},\n",
       " {'QUERY PLAN': '  ->  Index Scan using ivf_index on \"retrieval-alloydb\"  (cost=115.68..487.18 rows=9040 width=27) (actual time=0.199..0.222 rows=5 loops=1)'},\n",
       " {'QUERY PLAN': 'Planning Time: 0.076 ms'},\n",
       " {'QUERY PLAN': 'Execution Time: 0.242 ms'}]"
      ]
     },
     "execution_count": 288,
     "metadata": {},
     "output_type": "execute_result"
    }
   ],
   "source": [
    "result = run_query(sqlalchemy.text(f\"\"\"\n",
    "    EXPLAIN ANALYZE\n",
    "    SELECT chunk_id, embedding <#> '{question_embedding}' AS dot_product\n",
    "    FROM \\\"{ALLOYDB_TABLE_NAME}\\\"\n",
    "    ORDER BY dot_product\n",
    "    LIMIT 5\n",
    "\"\"\"))\n",
    "result[0:2] + result[-2:]"
   ]
  },
  {
   "cell_type": "code",
   "execution_count": 307,
   "id": "e630ca74-e23b-4841-91c7-ffafc1b3fa94",
   "metadata": {
    "tags": []
   },
   "outputs": [
    {
     "data": {
      "text/plain": [
       "[{'chunk_id': 'fannie_part_0_c352', 'dot_product': -0.7099841833114624},\n",
       " {'chunk_id': 'freddie_part_4_c509', 'dot_product': -0.680526077747345},\n",
       " {'chunk_id': 'freddie_part_4_c510', 'dot_product': -0.6753296852111816},\n",
       " {'chunk_id': 'fannie_part_0_c353', 'dot_product': -0.6723706722259521},\n",
       " {'chunk_id': 'fannie_part_0_c326', 'dot_product': -0.66834956407547}]"
      ]
     },
     "execution_count": 307,
     "metadata": {},
     "output_type": "execute_result"
    }
   ],
   "source": [
    "run_query(sqlalchemy.text(f\"\"\"\n",
    "    SET LOCAL ivf.probes = 10;\n",
    "    SELECT chunk_id, embedding <#> '{question_embedding}' AS dot_product\n",
    "    FROM \\\"{ALLOYDB_TABLE_NAME}\\\"\n",
    "    ORDER BY dot_product\n",
    "    LIMIT 5\n",
    "\"\"\"))"
   ]
  },
  {
   "cell_type": "code",
   "execution_count": 308,
   "id": "d90e1a8f-97b0-4f97-97e4-7fa886f0d638",
   "metadata": {
    "tags": []
   },
   "outputs": [
    {
     "data": {
      "text/plain": [
       "[{'QUERY PLAN': 'Limit  (cost=1156.78..1158.24 rows=5 width=27) (actual time=1.007..1.031 rows=5 loops=1)'},\n",
       " {'QUERY PLAN': '  ->  Index Scan using ivf_index on \"retrieval-alloydb\"  (cost=1156.78..3788.42 rows=9040 width=27) (actual time=1.005..1.028 rows=5 loops=1)'},\n",
       " {'QUERY PLAN': 'Planning Time: 0.079 ms'},\n",
       " {'QUERY PLAN': 'Execution Time: 1.054 ms'}]"
      ]
     },
     "execution_count": 308,
     "metadata": {},
     "output_type": "execute_result"
    }
   ],
   "source": [
    "result = run_query(sqlalchemy.text(f\"\"\"\n",
    "    SET LOCAL ivf.probes = 10;\n",
    "    EXPLAIN ANALYZE\n",
    "    SELECT chunk_id, embedding <#> '{question_embedding}' AS dot_product\n",
    "    FROM \\\"{ALLOYDB_TABLE_NAME}\\\"\n",
    "    ORDER BY dot_product\n",
    "    LIMIT 5\n",
    "\"\"\"))\n",
    "result[0:2] + result[-2:]"
   ]
  },
  {
   "cell_type": "code",
   "execution_count": 289,
   "id": "2011bb8c-be48-4758-940e-7d1b7d0ef636",
   "metadata": {
    "tags": []
   },
   "outputs": [
    {
     "data": {
      "text/plain": [
       "[{'chunk_id': 'fannie_part_0_c352', 'dot_product': -0.7099841833114624},\n",
       " {'chunk_id': 'fannie_part_0_c353', 'dot_product': -0.6723706722259521},\n",
       " {'chunk_id': 'fannie_part_0_c92', 'dot_product': -0.6614338159561157},\n",
       " {'chunk_id': 'fannie_part_0_c240', 'dot_product': -0.6608578562736511},\n",
       " {'chunk_id': 'fannie_part_2_c417', 'dot_product': -0.6559132933616638}]"
      ]
     },
     "execution_count": 289,
     "metadata": {},
     "output_type": "execute_result"
    }
   ],
   "source": [
    "run_query(sqlalchemy.text(f\"\"\"\n",
    "    SELECT chunk_id, embedding <#> '{question_embedding}' AS dot_product\n",
    "    FROM \\\"{ALLOYDB_TABLE_NAME}\\\"\n",
    "    WHERE gse = 'fannie'\n",
    "    ORDER BY dot_product\n",
    "    LIMIT 5\n",
    "\"\"\"))"
   ]
  },
  {
   "cell_type": "code",
   "execution_count": 290,
   "id": "448f21d3-f9b7-4b14-88fe-7e87e2721b5d",
   "metadata": {
    "tags": []
   },
   "outputs": [
    {
     "data": {
      "text/plain": [
       "[{'QUERY PLAN': 'Limit  (cost=115.68..116.27 rows=5 width=27) (actual time=0.183..0.208 rows=5 loops=1)'},\n",
       " {'QUERY PLAN': '  ->  Index Scan using ivf_index on \"retrieval-alloydb\"  (cost=115.68..472.38 rows=3032 width=27) (actual time=0.182..0.206 rows=5 loops=1)'},\n",
       " {'QUERY PLAN': 'Planning Time: 0.092 ms'},\n",
       " {'QUERY PLAN': 'Execution Time: 0.227 ms'}]"
      ]
     },
     "execution_count": 290,
     "metadata": {},
     "output_type": "execute_result"
    }
   ],
   "source": [
    "result = run_query(sqlalchemy.text(f\"\"\"\n",
    "    EXPLAIN ANALYZE\n",
    "    SELECT chunk_id, embedding <#> '{question_embedding}' AS dot_product\n",
    "    FROM \\\"{ALLOYDB_TABLE_NAME}\\\"\n",
    "    WHERE gse = 'fannie'\n",
    "    ORDER BY dot_product\n",
    "    LIMIT 5\n",
    "\"\"\"))\n",
    "result[0:2] + result[-2:]"
   ]
  },
  {
   "cell_type": "code",
   "execution_count": 309,
   "id": "2f616780-492d-43d0-b5be-9f7873042a43",
   "metadata": {
    "tags": []
   },
   "outputs": [
    {
     "data": {
      "text/plain": [
       "[]"
      ]
     },
     "execution_count": 309,
     "metadata": {},
     "output_type": "execute_result"
    }
   ],
   "source": [
    "run_query(sqlalchemy.text('DROP INDEX IF EXISTS ivf_index'))"
   ]
  },
  {
   "cell_type": "markdown",
   "id": "03bdb1ce-063c-4cbf-bd5d-538535fd5d7f",
   "metadata": {},
   "source": [
    "#### IVFFlat\n",
    "\n",
    "https://cloud.google.com/alloydb/docs/ai/store-index-query-vectors?resource=ivfflat#create-index"
   ]
  },
  {
   "cell_type": "code",
   "execution_count": 310,
   "id": "36e1f5fb-350b-4771-8f78-4069459867f8",
   "metadata": {
    "tags": []
   },
   "outputs": [
    {
     "data": {
      "text/plain": [
       "[]"
      ]
     },
     "execution_count": 310,
     "metadata": {},
     "output_type": "execute_result"
    }
   ],
   "source": [
    "run_query(sqlalchemy.text(f\"\"\"\n",
    "    CREATE INDEX IF NOT EXISTS ivfflat_index\n",
    "    ON \\\"{ALLOYDB_TABLE_NAME}\\\"\n",
    "    USING ivfflat (embedding vector_ip_ops)\n",
    "    WITH (lists = 100)\n",
    "\"\"\"))"
   ]
  },
  {
   "cell_type": "code",
   "execution_count": 311,
   "id": "513f9d46-e343-4e7e-8a24-bab2f501357e",
   "metadata": {
    "tags": []
   },
   "outputs": [
    {
     "data": {
      "text/plain": [
       "{'schemaname': 'public',\n",
       " 'tablename': 'retrieval-alloydb',\n",
       " 'indexname': 'ivfflat_index',\n",
       " 'tablespace': None,\n",
       " 'indexdef': 'CREATE INDEX ivfflat_index ON public.\"retrieval-alloydb\" USING ivfflat (embedding vector_ip_ops) WITH (lists=\\'100\\')'}"
      ]
     },
     "execution_count": 311,
     "metadata": {},
     "output_type": "execute_result"
    }
   ],
   "source": [
    "run_query(sqlalchemy.text(f\"SELECT * FROM pg_indexes  WHERE tablename = '{ALLOYDB_TABLE_NAME}' AND indexname = 'ivfflat_index'\"))"
   ]
  },
  {
   "cell_type": "code",
   "execution_count": 312,
   "id": "a427e6b2-1628-4efc-a993-b402c985085f",
   "metadata": {
    "tags": []
   },
   "outputs": [
    {
     "data": {
      "text/plain": [
       "[]"
      ]
     },
     "execution_count": 312,
     "metadata": {},
     "output_type": "execute_result"
    }
   ],
   "source": [
    "run_query(sqlalchemy.text('SELECT * FROM pg_stat_progress_create_index'))"
   ]
  },
  {
   "cell_type": "code",
   "execution_count": 313,
   "id": "f0e51988-e21d-4606-b862-87366fc79d83",
   "metadata": {
    "tags": []
   },
   "outputs": [
    {
     "data": {
      "text/plain": [
       "[]"
      ]
     },
     "execution_count": 313,
     "metadata": {},
     "output_type": "execute_result"
    }
   ],
   "source": [
    "run_query(sqlalchemy.text('SELECT * FROM pg_stat_ann_indexes'))"
   ]
  },
  {
   "cell_type": "code",
   "execution_count": 314,
   "id": "823c7648-6b4b-47f3-af80-9b90c47bebd3",
   "metadata": {
    "tags": []
   },
   "outputs": [
    {
     "data": {
      "text/plain": [
       "[{'chunk_id': 'freddie_part_4_c509', 'dot_product': -0.680526077747345},\n",
       " {'chunk_id': 'freddie_part_4_c510', 'dot_product': -0.6753296852111816},\n",
       " {'chunk_id': 'freddie_part_6_c410', 'dot_product': -0.6573532819747925},\n",
       " {'chunk_id': 'freddie_part_5_c360', 'dot_product': -0.6557323932647705},\n",
       " {'chunk_id': 'freddie_part_4_c508', 'dot_product': -0.6519314646720886}]"
      ]
     },
     "execution_count": 314,
     "metadata": {},
     "output_type": "execute_result"
    }
   ],
   "source": [
    "run_query(sqlalchemy.text(f\"\"\"\n",
    "    SELECT chunk_id, embedding <#> '{question_embedding}' AS dot_product\n",
    "    FROM \\\"{ALLOYDB_TABLE_NAME}\\\"\n",
    "    ORDER BY dot_product\n",
    "    LIMIT 5\n",
    "\"\"\"))"
   ]
  },
  {
   "cell_type": "code",
   "execution_count": 315,
   "id": "49cd484c-f1e0-40a1-b3ac-6d199b2e68a5",
   "metadata": {
    "tags": []
   },
   "outputs": [
    {
     "data": {
      "text/plain": [
       "[{'QUERY PLAN': 'Limit  (cost=118.18..118.38 rows=5 width=27) (actual time=0.181..0.204 rows=5 loops=1)'},\n",
       " {'QUERY PLAN': '  ->  Index Scan using ivfflat_index on \"retrieval-alloydb\"  (cost=118.18..489.68 rows=9040 width=27) (actual time=0.179..0.201 rows=5 loops=1)'},\n",
       " {'QUERY PLAN': 'Planning Time: 0.086 ms'},\n",
       " {'QUERY PLAN': 'Execution Time: 0.222 ms'}]"
      ]
     },
     "execution_count": 315,
     "metadata": {},
     "output_type": "execute_result"
    }
   ],
   "source": [
    "result = run_query(sqlalchemy.text(f\"\"\"\n",
    "    EXPLAIN ANALYZE\n",
    "    SELECT chunk_id, embedding <#> '{question_embedding}' AS dot_product\n",
    "    FROM \\\"{ALLOYDB_TABLE_NAME}\\\"\n",
    "    ORDER BY dot_product\n",
    "    LIMIT 5\n",
    "\"\"\"))\n",
    "result[0:2] + result[-2:]"
   ]
  },
  {
   "cell_type": "code",
   "execution_count": 316,
   "id": "1194298a-cec5-488d-b050-e4821fb24a2e",
   "metadata": {
    "tags": []
   },
   "outputs": [
    {
     "data": {
      "text/plain": [
       "[{'chunk_id': 'fannie_part_0_c352', 'dot_product': -0.7099841833114624},\n",
       " {'chunk_id': 'freddie_part_4_c509', 'dot_product': -0.680526077747345},\n",
       " {'chunk_id': 'freddie_part_4_c510', 'dot_product': -0.6753296852111816},\n",
       " {'chunk_id': 'fannie_part_0_c353', 'dot_product': -0.6723706722259521},\n",
       " {'chunk_id': 'fannie_part_0_c326', 'dot_product': -0.66834956407547}]"
      ]
     },
     "execution_count": 316,
     "metadata": {},
     "output_type": "execute_result"
    }
   ],
   "source": [
    "run_query(sqlalchemy.text(f\"\"\"\n",
    "    SET LOCAL ivfflat.probes = 10;\n",
    "    SELECT chunk_id, embedding <#> '{question_embedding}' AS dot_product\n",
    "    FROM \\\"{ALLOYDB_TABLE_NAME}\\\"\n",
    "    ORDER BY dot_product\n",
    "    LIMIT 5\n",
    "\"\"\"))"
   ]
  },
  {
   "cell_type": "code",
   "execution_count": 317,
   "id": "4f7dabdd-5504-4d00-963a-2b8cdc983494",
   "metadata": {
    "tags": []
   },
   "outputs": [
    {
     "data": {
      "text/plain": [
       "[{'QUERY PLAN': 'Limit  (cost=1159.28..1160.74 rows=5 width=27) (actual time=0.858..0.882 rows=5 loops=1)'},\n",
       " {'QUERY PLAN': '  ->  Index Scan using ivfflat_index on \"retrieval-alloydb\"  (cost=1159.28..3790.92 rows=9040 width=27) (actual time=0.857..0.879 rows=5 loops=1)'},\n",
       " {'QUERY PLAN': 'Planning Time: 0.056 ms'},\n",
       " {'QUERY PLAN': 'Execution Time: 0.902 ms'}]"
      ]
     },
     "execution_count": 317,
     "metadata": {},
     "output_type": "execute_result"
    }
   ],
   "source": [
    "result = run_query(sqlalchemy.text(f\"\"\"\n",
    "    SET LOCAL ivfflat.probes = 10;\n",
    "    EXPLAIN ANALYZE\n",
    "    SELECT chunk_id, embedding <#> '{question_embedding}' AS dot_product\n",
    "    FROM \\\"{ALLOYDB_TABLE_NAME}\\\"\n",
    "    ORDER BY dot_product\n",
    "    LIMIT 5\n",
    "\"\"\"))\n",
    "result[0:2] + result[-2:]"
   ]
  },
  {
   "cell_type": "code",
   "execution_count": 318,
   "id": "e6614f23-cae0-46f9-b52f-63b586c2f595",
   "metadata": {
    "tags": []
   },
   "outputs": [
    {
     "data": {
      "text/plain": [
       "[{'chunk_id': 'fannie_part_2_c793', 'dot_product': -0.6455321311950684},\n",
       " {'chunk_id': 'fannie_part_2_c795', 'dot_product': -0.6292608976364136},\n",
       " {'chunk_id': 'fannie_part_2_c792', 'dot_product': -0.6290532350540161},\n",
       " {'chunk_id': 'fannie_part_2_c791', 'dot_product': -0.6204110383987427},\n",
       " {'chunk_id': 'fannie_part_2_c798', 'dot_product': -0.6203723549842834}]"
      ]
     },
     "execution_count": 318,
     "metadata": {},
     "output_type": "execute_result"
    }
   ],
   "source": [
    "run_query(sqlalchemy.text(f\"\"\"\n",
    "    SELECT chunk_id, embedding <#> '{question_embedding}' AS dot_product\n",
    "    FROM \\\"{ALLOYDB_TABLE_NAME}\\\"\n",
    "    WHERE gse = 'fannie'\n",
    "    ORDER BY dot_product\n",
    "    LIMIT 5\n",
    "\"\"\"))"
   ]
  },
  {
   "cell_type": "code",
   "execution_count": 319,
   "id": "0d462a51-f025-4deb-a919-d2aa5b9643ca",
   "metadata": {
    "tags": []
   },
   "outputs": [
    {
     "data": {
      "text/plain": [
       "[{'QUERY PLAN': 'Limit  (cost=118.18..118.77 rows=5 width=27) (actual time=0.218..0.245 rows=5 loops=1)'},\n",
       " {'QUERY PLAN': '  ->  Index Scan using ivfflat_index on \"retrieval-alloydb\"  (cost=118.18..474.88 rows=3032 width=27) (actual time=0.217..0.243 rows=5 loops=1)'},\n",
       " {'QUERY PLAN': 'Planning Time: 0.087 ms'},\n",
       " {'QUERY PLAN': 'Execution Time: 0.263 ms'}]"
      ]
     },
     "execution_count": 319,
     "metadata": {},
     "output_type": "execute_result"
    }
   ],
   "source": [
    "result = run_query(sqlalchemy.text(f\"\"\"\n",
    "    EXPLAIN ANALYZE\n",
    "    SELECT chunk_id, embedding <#> '{question_embedding}' AS dot_product\n",
    "    FROM \\\"{ALLOYDB_TABLE_NAME}\\\"\n",
    "    WHERE gse = 'fannie'\n",
    "    ORDER BY dot_product\n",
    "    LIMIT 5\n",
    "\"\"\"))\n",
    "result[0:2] + result[-2:]"
   ]
  },
  {
   "cell_type": "code",
   "execution_count": 320,
   "id": "fd92728d-67a6-47a7-bbaf-b3fe5da46652",
   "metadata": {
    "tags": []
   },
   "outputs": [
    {
     "data": {
      "text/plain": [
       "[]"
      ]
     },
     "execution_count": 320,
     "metadata": {},
     "output_type": "execute_result"
    }
   ],
   "source": [
    "run_query(sqlalchemy.text('DROP INDEX IF EXISTS ivfflat_index'))"
   ]
  },
  {
   "cell_type": "markdown",
   "id": "502fc8b1-cc77-4f22-8d4c-ed82a5c0e6f0",
   "metadata": {},
   "source": [
    "#### HNSW\n",
    "\n",
    "https://cloud.google.com/alloydb/docs/ai/store-index-query-vectors?resource=hnsw#create-index"
   ]
  },
  {
   "cell_type": "code",
   "execution_count": 321,
   "id": "bdd57b3c-3cd3-4e3c-b99b-a1f3516c402d",
   "metadata": {
    "tags": []
   },
   "outputs": [
    {
     "data": {
      "text/plain": [
       "[]"
      ]
     },
     "execution_count": 321,
     "metadata": {},
     "output_type": "execute_result"
    }
   ],
   "source": [
    "run_query(sqlalchemy.text(f\"\"\"\n",
    "    CREATE INDEX IF NOT EXISTS hnsw_index\n",
    "    ON \\\"{ALLOYDB_TABLE_NAME}\\\"\n",
    "    USING hnsw (embedding vector_ip_ops)\n",
    "    WITH (m = 10, ef_construction = 40)\n",
    "\"\"\"))"
   ]
  },
  {
   "cell_type": "code",
   "execution_count": 322,
   "id": "4e846a7a-db7b-4c87-ac24-9c74d600f053",
   "metadata": {
    "tags": []
   },
   "outputs": [
    {
     "data": {
      "text/plain": [
       "{'schemaname': 'public',\n",
       " 'tablename': 'retrieval-alloydb',\n",
       " 'indexname': 'hnsw_index',\n",
       " 'tablespace': None,\n",
       " 'indexdef': 'CREATE INDEX hnsw_index ON public.\"retrieval-alloydb\" USING hnsw (embedding vector_ip_ops) WITH (m=\\'10\\', ef_construction=\\'40\\')'}"
      ]
     },
     "execution_count": 322,
     "metadata": {},
     "output_type": "execute_result"
    }
   ],
   "source": [
    "run_query(sqlalchemy.text(f\"SELECT * FROM pg_indexes  WHERE tablename = '{ALLOYDB_TABLE_NAME}' AND indexname = 'hnsw_index'\"))"
   ]
  },
  {
   "cell_type": "code",
   "execution_count": 323,
   "id": "c6b568c3-1f41-4198-8a35-d1ccbe4f31c1",
   "metadata": {
    "tags": []
   },
   "outputs": [
    {
     "data": {
      "text/plain": [
       "[]"
      ]
     },
     "execution_count": 323,
     "metadata": {},
     "output_type": "execute_result"
    }
   ],
   "source": [
    "run_query(sqlalchemy.text('SELECT * FROM pg_stat_progress_create_index'))"
   ]
  },
  {
   "cell_type": "code",
   "execution_count": 324,
   "id": "3cbdfeb6-3254-42bc-a7b5-8f310ab24acf",
   "metadata": {
    "tags": []
   },
   "outputs": [
    {
     "data": {
      "text/plain": [
       "[]"
      ]
     },
     "execution_count": 324,
     "metadata": {},
     "output_type": "execute_result"
    }
   ],
   "source": [
    "run_query(sqlalchemy.text('SELECT * FROM pg_stat_ann_indexes'))"
   ]
  },
  {
   "cell_type": "code",
   "execution_count": 325,
   "id": "5a892404-8fd0-43e2-8e0a-ae9142f40064",
   "metadata": {
    "tags": []
   },
   "outputs": [
    {
     "data": {
      "text/plain": [
       "[{'chunk_id': 'fannie_part_0_c352', 'dot_product': -0.7099841833114624},\n",
       " {'chunk_id': 'freddie_part_4_c509', 'dot_product': -0.680526077747345},\n",
       " {'chunk_id': 'freddie_part_4_c510', 'dot_product': -0.6753296852111816},\n",
       " {'chunk_id': 'fannie_part_0_c353', 'dot_product': -0.6723706722259521},\n",
       " {'chunk_id': 'fannie_part_0_c326', 'dot_product': -0.66834956407547}]"
      ]
     },
     "execution_count": 325,
     "metadata": {},
     "output_type": "execute_result"
    }
   ],
   "source": [
    "run_query(sqlalchemy.text(f\"\"\"\n",
    "    SELECT chunk_id, embedding <#> '{question_embedding}' AS dot_product\n",
    "    FROM \\\"{ALLOYDB_TABLE_NAME}\\\"\n",
    "    ORDER BY dot_product\n",
    "    LIMIT 5\n",
    "\"\"\"))"
   ]
  },
  {
   "cell_type": "code",
   "execution_count": 326,
   "id": "3a534feb-0e6d-4487-9407-0d0f0adb1da7",
   "metadata": {
    "tags": []
   },
   "outputs": [
    {
     "data": {
      "text/plain": [
       "[{'QUERY PLAN': 'Limit  (cost=100.38..102.98 rows=5 width=27) (actual time=0.588..0.613 rows=5 loops=1)'},\n",
       " {'QUERY PLAN': '  ->  Index Scan using hnsw_index on \"retrieval-alloydb\"  (cost=100.38..4817.38 rows=9040 width=27) (actual time=0.586..0.610 rows=5 loops=1)'},\n",
       " {'QUERY PLAN': 'Planning Time: 0.076 ms'},\n",
       " {'QUERY PLAN': 'Execution Time: 0.632 ms'}]"
      ]
     },
     "execution_count": 326,
     "metadata": {},
     "output_type": "execute_result"
    }
   ],
   "source": [
    "result = run_query(sqlalchemy.text(f\"\"\"\n",
    "    EXPLAIN ANALYZE\n",
    "    SELECT chunk_id, embedding <#> '{question_embedding}' AS dot_product\n",
    "    FROM \\\"{ALLOYDB_TABLE_NAME}\\\"\n",
    "    ORDER BY dot_product\n",
    "    LIMIT 5\n",
    "\"\"\"))\n",
    "result[0:2] + result[-2:]"
   ]
  },
  {
   "cell_type": "code",
   "execution_count": 327,
   "id": "1752b9ca-8468-4b21-ac7f-71f781375230",
   "metadata": {
    "tags": []
   },
   "outputs": [
    {
     "data": {
      "text/plain": [
       "[{'chunk_id': 'fannie_part_0_c352', 'dot_product': -0.7099841833114624},\n",
       " {'chunk_id': 'freddie_part_4_c509', 'dot_product': -0.680526077747345},\n",
       " {'chunk_id': 'freddie_part_4_c510', 'dot_product': -0.6753296852111816},\n",
       " {'chunk_id': 'fannie_part_0_c353', 'dot_product': -0.6723706722259521},\n",
       " {'chunk_id': 'fannie_part_0_c326', 'dot_product': -0.66834956407547}]"
      ]
     },
     "execution_count": 327,
     "metadata": {},
     "output_type": "execute_result"
    }
   ],
   "source": [
    "run_query(sqlalchemy.text(f\"\"\"\n",
    "    SET LOCAL hnsw.ef_search = 20;\n",
    "    SELECT chunk_id, embedding <#> '{question_embedding}' AS dot_product\n",
    "    FROM \\\"{ALLOYDB_TABLE_NAME}\\\"\n",
    "    ORDER BY dot_product\n",
    "    LIMIT 5\n",
    "\"\"\"))"
   ]
  },
  {
   "cell_type": "code",
   "execution_count": 328,
   "id": "66b5e729-0237-4fa3-adf1-c7d4512b5221",
   "metadata": {
    "tags": []
   },
   "outputs": [
    {
     "data": {
      "text/plain": [
       "[{'QUERY PLAN': 'Limit  (cost=100.38..102.98 rows=5 width=27) (actual time=0.356..0.379 rows=5 loops=1)'},\n",
       " {'QUERY PLAN': '  ->  Index Scan using hnsw_index on \"retrieval-alloydb\"  (cost=100.38..4817.38 rows=9040 width=27) (actual time=0.354..0.376 rows=5 loops=1)'},\n",
       " {'QUERY PLAN': 'Planning Time: 0.076 ms'},\n",
       " {'QUERY PLAN': 'Execution Time: 0.400 ms'}]"
      ]
     },
     "execution_count": 328,
     "metadata": {},
     "output_type": "execute_result"
    }
   ],
   "source": [
    "result = run_query(sqlalchemy.text(f\"\"\"\n",
    "    SET LOCAL hnsw.ef_search = 20;\n",
    "    EXPLAIN ANALYZE\n",
    "    SELECT chunk_id, embedding <#> '{question_embedding}' AS dot_product\n",
    "    FROM \\\"{ALLOYDB_TABLE_NAME}\\\"\n",
    "    ORDER BY dot_product\n",
    "    LIMIT 5\n",
    "\"\"\"))\n",
    "result[0:2] + result[-2:]"
   ]
  },
  {
   "cell_type": "code",
   "execution_count": 329,
   "id": "71f73899-d1a5-4fde-84db-64bbabe7fb91",
   "metadata": {
    "tags": []
   },
   "outputs": [
    {
     "data": {
      "text/plain": [
       "[{'chunk_id': 'fannie_part_0_c352', 'dot_product': -0.7099841833114624},\n",
       " {'chunk_id': 'fannie_part_0_c353', 'dot_product': -0.6723706722259521},\n",
       " {'chunk_id': 'fannie_part_0_c326', 'dot_product': -0.66834956407547},\n",
       " {'chunk_id': 'fannie_part_0_c92', 'dot_product': -0.6614338159561157},\n",
       " {'chunk_id': 'fannie_part_0_c240', 'dot_product': -0.6608578562736511}]"
      ]
     },
     "execution_count": 329,
     "metadata": {},
     "output_type": "execute_result"
    }
   ],
   "source": [
    "run_query(sqlalchemy.text(f\"\"\"\n",
    "    SELECT chunk_id, embedding <#> '{question_embedding}' AS dot_product\n",
    "    FROM \\\"{ALLOYDB_TABLE_NAME}\\\"\n",
    "    WHERE gse = 'fannie'\n",
    "    ORDER BY dot_product\n",
    "    LIMIT 5\n",
    "\"\"\"))"
   ]
  },
  {
   "cell_type": "code",
   "execution_count": 330,
   "id": "c3f902ff-25b1-4101-a21c-583d0c35f4a4",
   "metadata": {
    "tags": []
   },
   "outputs": [
    {
     "data": {
      "text/plain": [
       "[{'QUERY PLAN': 'Limit  (cost=100.38..108.17 rows=5 width=27) (actual time=0.585..0.618 rows=5 loops=1)'},\n",
       " {'QUERY PLAN': '  ->  Index Scan using hnsw_index on \"retrieval-alloydb\"  (cost=100.38..4824.95 rows=3032 width=27) (actual time=0.584..0.616 rows=5 loops=1)'},\n",
       " {'QUERY PLAN': 'Planning Time: 0.077 ms'},\n",
       " {'QUERY PLAN': 'Execution Time: 0.638 ms'}]"
      ]
     },
     "execution_count": 330,
     "metadata": {},
     "output_type": "execute_result"
    }
   ],
   "source": [
    "result = run_query(sqlalchemy.text(f\"\"\"\n",
    "    EXPLAIN ANALYZE\n",
    "    SELECT chunk_id, embedding <#> '{question_embedding}' AS dot_product\n",
    "    FROM \\\"{ALLOYDB_TABLE_NAME}\\\"\n",
    "    WHERE gse = 'fannie'\n",
    "    ORDER BY dot_product\n",
    "    LIMIT 5\n",
    "\"\"\"))\n",
    "result[0:2] + result[-2:]"
   ]
  },
  {
   "cell_type": "code",
   "execution_count": 331,
   "id": "1319ffd0-e4c5-4805-96ab-1ef50155424d",
   "metadata": {
    "tags": []
   },
   "outputs": [
    {
     "data": {
      "text/plain": [
       "[]"
      ]
     },
     "execution_count": 331,
     "metadata": {},
     "output_type": "execute_result"
    }
   ],
   "source": [
    "run_query(sqlalchemy.text('DROP INDEX IF EXISTS hnsw_index'))"
   ]
  },
  {
   "cell_type": "markdown",
   "id": "301a21ec-47c6-43b8-8c1c-eea0ca909b8c",
   "metadata": {},
   "source": [
    "#### ScaNN\n",
    "\n",
    "https://cloud.google.com/alloydb/docs/ai/store-index-query-vectors?resource=scann#create-index"
   ]
  },
  {
   "cell_type": "code",
   "execution_count": 332,
   "id": "33a7b769-9c03-4492-a1b5-6c9e36f10c65",
   "metadata": {
    "tags": []
   },
   "outputs": [
    {
     "data": {
      "text/plain": [
       "[]"
      ]
     },
     "execution_count": 332,
     "metadata": {},
     "output_type": "execute_result"
    }
   ],
   "source": [
    "run_query(sqlalchemy.text(f\"\"\"\n",
    "    CREATE INDEX IF NOT EXISTS scann_index\n",
    "    ON \\\"{ALLOYDB_TABLE_NAME}\\\"\n",
    "    USING scann (embedding dot_product)\n",
    "    WITH (num_leaves = 100)\n",
    "\"\"\"))"
   ]
  },
  {
   "cell_type": "code",
   "execution_count": 333,
   "id": "fbfa3e48-b432-4961-a380-155c4c8cef71",
   "metadata": {
    "tags": []
   },
   "outputs": [
    {
     "data": {
      "text/plain": [
       "{'schemaname': 'public',\n",
       " 'tablename': 'retrieval-alloydb',\n",
       " 'indexname': 'scann_index',\n",
       " 'tablespace': None,\n",
       " 'indexdef': 'CREATE INDEX scann_index ON public.\"retrieval-alloydb\" USING scann (embedding dot_product) WITH (num_leaves=\\'100\\')'}"
      ]
     },
     "execution_count": 333,
     "metadata": {},
     "output_type": "execute_result"
    }
   ],
   "source": [
    "run_query(sqlalchemy.text(f\"SELECT * FROM pg_indexes  WHERE tablename = '{ALLOYDB_TABLE_NAME}' AND indexname = 'scann_index'\"))"
   ]
  },
  {
   "cell_type": "code",
   "execution_count": 334,
   "id": "425267d3-f75d-41d2-8634-3fff53967257",
   "metadata": {
    "tags": []
   },
   "outputs": [
    {
     "data": {
      "text/plain": [
       "[]"
      ]
     },
     "execution_count": 334,
     "metadata": {},
     "output_type": "execute_result"
    }
   ],
   "source": [
    "run_query(sqlalchemy.text('SELECT * FROM pg_stat_progress_create_index'))"
   ]
  },
  {
   "cell_type": "code",
   "execution_count": 335,
   "id": "c9f84d17-93b9-49b9-9a51-d5285158779a",
   "metadata": {
    "tags": []
   },
   "outputs": [
    {
     "data": {
      "text/plain": [
       "{'relid': 71137,\n",
       " 'indexrelid': 90890,\n",
       " 'schemaname': 'public',\n",
       " 'relname': 'retrieval-alloydb',\n",
       " 'indexrelname': 'scann_index',\n",
       " 'indextype': 'scann',\n",
       " 'indexconfig': ['num_leaves=100'],\n",
       " 'indexsize': '2120 kB',\n",
       " 'indexscan': 0,\n",
       " 'insertcount': 9041,\n",
       " 'deletecount': 1,\n",
       " 'updatecount': 0,\n",
       " 'partitioncount': 100,\n",
       " 'distribution': {'average': 165.5,\n",
       "  'maximum': 628,\n",
       "  'minimum': 37,\n",
       "  'outliers': [628, 623, 561, 527, 407, 403, 382, 341, 337, 317]}}"
      ]
     },
     "execution_count": 335,
     "metadata": {},
     "output_type": "execute_result"
    }
   ],
   "source": [
    "run_query(sqlalchemy.text('SELECT * FROM pg_stat_ann_indexes'))"
   ]
  },
  {
   "cell_type": "code",
   "execution_count": 336,
   "id": "c9bffbbc-7b54-41e4-9f96-6c9ea9b44ef3",
   "metadata": {
    "tags": []
   },
   "outputs": [
    {
     "data": {
      "text/plain": [
       "[{'chunk_id': 'fannie_part_0_c352', 'dot_product': -0.7099841833114624},\n",
       " {'chunk_id': 'fannie_part_0_c92', 'dot_product': -0.6614338159561157},\n",
       " {'chunk_id': 'fannie_part_0_c335', 'dot_product': -0.6521918177604675},\n",
       " {'chunk_id': 'freddie_part_4_c472', 'dot_product': -0.661984384059906},\n",
       " {'chunk_id': 'freddie_part_5_c360', 'dot_product': -0.6557323932647705}]"
      ]
     },
     "execution_count": 336,
     "metadata": {},
     "output_type": "execute_result"
    }
   ],
   "source": [
    "run_query(sqlalchemy.text(f\"\"\"\n",
    "    SELECT chunk_id, embedding <#> '{question_embedding}' AS dot_product\n",
    "    FROM \\\"{ALLOYDB_TABLE_NAME}\\\"\n",
    "    ORDER BY dot_product\n",
    "    LIMIT 5\n",
    "\"\"\"))"
   ]
  },
  {
   "cell_type": "code",
   "execution_count": 337,
   "id": "34c6dca3-9f1b-44cd-a165-3b60b3c18837",
   "metadata": {
    "tags": []
   },
   "outputs": [
    {
     "data": {
      "text/plain": [
       "[{'QUERY PLAN': 'Limit  (cost=2.51..6.52 rows=1 width=27) (actual time=0.173..0.210 rows=5 loops=1)'},\n",
       " {'QUERY PLAN': '  ->  Index Scan using scann_index on \"retrieval-alloydb\"  (cost=2.51..6.52 rows=1 width=27) (actual time=0.170..0.206 rows=5 loops=1)'},\n",
       " {'QUERY PLAN': 'Planning Time: 0.093 ms'},\n",
       " {'QUERY PLAN': 'Execution Time: 0.238 ms'}]"
      ]
     },
     "execution_count": 337,
     "metadata": {},
     "output_type": "execute_result"
    }
   ],
   "source": [
    "result = run_query(sqlalchemy.text(f\"\"\"\n",
    "    EXPLAIN ANALYZE\n",
    "    SELECT chunk_id, embedding <#> '{question_embedding}' AS dot_product\n",
    "    FROM \\\"{ALLOYDB_TABLE_NAME}\\\"\n",
    "    ORDER BY dot_product\n",
    "    LIMIT 5\n",
    "\"\"\"))\n",
    "result[0:2] + result[-2:]"
   ]
  },
  {
   "cell_type": "code",
   "execution_count": 340,
   "id": "e746b33a-be8f-4d56-a284-267ae44450c1",
   "metadata": {
    "tags": []
   },
   "outputs": [
    {
     "data": {
      "text/plain": [
       "[{'chunk_id': 'fannie_part_0_c352', 'dot_product': -0.7099841833114624},\n",
       " {'chunk_id': 'freddie_part_4_c509', 'dot_product': -0.680526077747345},\n",
       " {'chunk_id': 'freddie_part_4_c510', 'dot_product': -0.6753296852111816},\n",
       " {'chunk_id': 'fannie_part_0_c353', 'dot_product': -0.6723706722259521},\n",
       " {'chunk_id': 'fannie_part_0_c326', 'dot_product': -0.66834956407547}]"
      ]
     },
     "execution_count": 340,
     "metadata": {},
     "output_type": "execute_result"
    }
   ],
   "source": [
    "run_query(sqlalchemy.text(f\"\"\"\n",
    "    SET LOCAL scann.num_leaves_to_search = 2;\n",
    "    SET LOCAL scann.pre_reordering_num_neighbors=50;\n",
    "    SELECT chunk_id, embedding <#> '{question_embedding}' AS dot_product\n",
    "    FROM \\\"{ALLOYDB_TABLE_NAME}\\\"\n",
    "    ORDER BY dot_product\n",
    "    LIMIT 5\n",
    "\"\"\"))"
   ]
  },
  {
   "cell_type": "code",
   "execution_count": 341,
   "id": "0c12b6c8-66fe-4717-878f-ea4dc8876c4c",
   "metadata": {
    "tags": []
   },
   "outputs": [
    {
     "data": {
      "text/plain": [
       "[{'QUERY PLAN': 'Limit  (cost=2.51..6.52 rows=1 width=27) (actual time=0.426..0.439 rows=5 loops=1)'},\n",
       " {'QUERY PLAN': '  ->  Index Scan using scann_index on \"retrieval-alloydb\"  (cost=2.51..6.52 rows=1 width=27) (actual time=0.424..0.436 rows=5 loops=1)'},\n",
       " {'QUERY PLAN': 'Planning Time: 0.086 ms'},\n",
       " {'QUERY PLAN': 'Execution Time: 0.471 ms'}]"
      ]
     },
     "execution_count": 341,
     "metadata": {},
     "output_type": "execute_result"
    }
   ],
   "source": [
    "result = run_query(sqlalchemy.text(f\"\"\"\n",
    "    SET LOCAL scann.num_leaves_to_search = 2;\n",
    "    SET LOCAL scann.pre_reordering_num_neighbors=50;\n",
    "    EXPLAIN ANALYZE\n",
    "    SELECT chunk_id, embedding <#> '{question_embedding}' AS dot_product\n",
    "    FROM \\\"{ALLOYDB_TABLE_NAME}\\\"\n",
    "    ORDER BY dot_product\n",
    "    LIMIT 5\n",
    "\"\"\"))\n",
    "result[0:2] + result[-2:]"
   ]
  },
  {
   "cell_type": "code",
   "execution_count": 342,
   "id": "64b36b85-b474-4a76-b8ce-5458695c2036",
   "metadata": {
    "tags": []
   },
   "outputs": [
    {
     "data": {
      "text/plain": [
       "[{'chunk_id': 'fannie_part_0_c352', 'dot_product': -0.7099841833114624},\n",
       " {'chunk_id': 'fannie_part_0_c353', 'dot_product': -0.6723706722259521},\n",
       " {'chunk_id': 'fannie_part_0_c326', 'dot_product': -0.66834956407547},\n",
       " {'chunk_id': 'fannie_part_0_c92', 'dot_product': -0.6614338159561157},\n",
       " {'chunk_id': 'fannie_part_0_c240', 'dot_product': -0.6608578562736511}]"
      ]
     },
     "execution_count": 342,
     "metadata": {},
     "output_type": "execute_result"
    }
   ],
   "source": [
    "run_query(sqlalchemy.text(f\"\"\"\n",
    "    SELECT chunk_id, embedding <#> '{question_embedding}' AS dot_product\n",
    "    FROM \\\"{ALLOYDB_TABLE_NAME}\\\"\n",
    "    WHERE gse = 'fannie'\n",
    "    ORDER BY dot_product\n",
    "    LIMIT 5\n",
    "\"\"\"))"
   ]
  },
  {
   "cell_type": "code",
   "execution_count": 343,
   "id": "336d57e0-3922-4085-96c0-d82d56e3ba97",
   "metadata": {
    "tags": []
   },
   "outputs": [
    {
     "data": {
      "text/plain": [
       "[{'QUERY PLAN': 'Limit  (cost=1151.01..1151.02 rows=1 width=27) (actual time=11.990..11.992 rows=5 loops=1)'},\n",
       " {'QUERY PLAN': '  ->  Sort  (cost=1151.01..1151.02 rows=1 width=27) (actual time=11.989..11.990 rows=5 loops=1)'},\n",
       " {'QUERY PLAN': 'Planning Time: 0.083 ms'},\n",
       " {'QUERY PLAN': 'Execution Time: 12.015 ms'}]"
      ]
     },
     "execution_count": 343,
     "metadata": {},
     "output_type": "execute_result"
    }
   ],
   "source": [
    "result = run_query(sqlalchemy.text(f\"\"\"\n",
    "    EXPLAIN ANALYZE\n",
    "    SELECT chunk_id, embedding <#> '{question_embedding}' AS dot_product\n",
    "    FROM \\\"{ALLOYDB_TABLE_NAME}\\\"\n",
    "    WHERE gse = 'fannie'\n",
    "    ORDER BY dot_product\n",
    "    LIMIT 5\n",
    "\"\"\"))\n",
    "result[0:2] + result[-2:]"
   ]
  },
  {
   "cell_type": "code",
   "execution_count": 344,
   "id": "2d9de213-247f-46a4-a29a-4615913031e0",
   "metadata": {
    "tags": []
   },
   "outputs": [
    {
     "data": {
      "text/plain": [
       "[]"
      ]
     },
     "execution_count": 344,
     "metadata": {},
     "output_type": "execute_result"
    }
   ],
   "source": [
    "run_query(sqlalchemy.text('DROP INDEX IF EXISTS scann_index'))"
   ]
  },
  {
   "cell_type": "code",
   "execution_count": null,
   "id": "3afb6d26-b165-440b-9501-fe263664c9b8",
   "metadata": {},
   "outputs": [],
   "source": [
    "### Search And Override Index - Brute Force Search"
   ]
  },
  {
   "cell_type": "code",
   "execution_count": null,
   "id": "44308346-48cd-446e-8fe6-de60c4d700f1",
   "metadata": {},
   "outputs": [],
   "source": []
  },
  {
   "cell_type": "code",
   "execution_count": null,
   "id": "c95815a8-fd7c-42db-896d-dae1c1476ae0",
   "metadata": {},
   "outputs": [],
   "source": []
  },
  {
   "cell_type": "code",
   "execution_count": null,
   "id": "beaad98f-39bc-4ad4-9aac-872d81ab21e1",
   "metadata": {},
   "outputs": [],
   "source": []
  },
  {
   "cell_type": "code",
   "execution_count": null,
   "id": "b0d03f2f-6617-4827-99b8-478e95a94668",
   "metadata": {},
   "outputs": [],
   "source": []
  },
  {
   "cell_type": "code",
   "execution_count": null,
   "id": "7a0c5f9e-e9a8-45df-ace6-ae7ef95f498d",
   "metadata": {},
   "outputs": [],
   "source": []
  },
  {
   "cell_type": "code",
   "execution_count": null,
   "id": "0daef6e2-78be-40ab-b2b2-068ca480af9f",
   "metadata": {},
   "outputs": [],
   "source": []
  },
  {
   "cell_type": "code",
   "execution_count": null,
   "id": "f8073848-bbe9-4db0-b58b-4c2c5e1c0d35",
   "metadata": {},
   "outputs": [],
   "source": []
  },
  {
   "cell_type": "code",
   "execution_count": null,
   "id": "a3da7dc1-d801-4c7a-a3d3-ffa7e5586ada",
   "metadata": {},
   "outputs": [],
   "source": []
  },
  {
   "cell_type": "markdown",
   "id": "847b69b8-13b8-4a2e-abe7-11adc776bb08",
   "metadata": {},
   "source": [
    "## Remove Resources"
   ]
  },
  {
   "cell_type": "code",
   "execution_count": 143,
   "id": "86ee2425-6826-44a4-8acf-ba47cff8ca58",
   "metadata": {
    "tags": []
   },
   "outputs": [],
   "source": [
    "# can't drop the database of an active connection, switch connection to postgres (default) database\n",
    "#query = sqlalchemy.text(f\"DROP DATABASE IF EXISTS \\\"{ALLOYDB_DATABASE_NAME}\\\"\")\n",
    "#run_query(query)"
   ]
  },
  {
   "cell_type": "code",
   "execution_count": 56,
   "id": "91f8d796-8d5c-4e3d-97f9-78838cbf0f06",
   "metadata": {
    "tags": []
   },
   "outputs": [
    {
     "data": {
      "text/plain": [
       "<google.api_core.operation.Operation at 0x7f918e7714e0>"
      ]
     },
     "execution_count": 56,
     "metadata": {},
     "output_type": "execute_result"
    }
   ],
   "source": [
    "#delete_instance = alloydb_client.delete_instance(name = alloydb_instance.name)\n",
    "#delete_instance.result()"
   ]
  },
  {
   "cell_type": "code",
   "execution_count": 60,
   "id": "db2eca55-aa28-4cd2-b591-81646d3b4202",
   "metadata": {
    "tags": []
   },
   "outputs": [
    {
     "data": {
      "text/plain": [
       "<google.api_core.operation.Operation at 0x7f918e6dd0f0>"
      ]
     },
     "execution_count": 60,
     "metadata": {},
     "output_type": "execute_result"
    }
   ],
   "source": [
    "#delete_cluster = alloydb_client.delete_cluster(request = dict(name = alloydb_cluster.name, force = True))\n",
    "#delete_cluster.result()"
   ]
  },
  {
   "cell_type": "code",
   "execution_count": null,
   "id": "11d7ca8b-09f2-441a-af6d-32e869e66a32",
   "metadata": {},
   "outputs": [],
   "source": []
  },
  {
   "cell_type": "code",
   "execution_count": null,
   "id": "5a2bfe16-257d-4c6a-bd47-16a4df74853f",
   "metadata": {},
   "outputs": [],
   "source": []
  },
  {
   "cell_type": "code",
   "execution_count": null,
   "id": "676e7307-739e-43f8-8083-02698181e747",
   "metadata": {},
   "outputs": [],
   "source": []
  }
 ],
 "metadata": {
  "environment": {
   "kernel": "conda-base-py",
   "name": "workbench-notebooks.m125",
   "type": "gcloud",
   "uri": "us-docker.pkg.dev/deeplearning-platform-release/gcr.io/workbench-notebooks:m125"
  },
  "kernelspec": {
   "display_name": "Python 3 (ipykernel) (Local)",
   "language": "python",
   "name": "conda-base-py"
  },
  "language_info": {
   "codemirror_mode": {
    "name": "ipython",
    "version": 3
   },
   "file_extension": ".py",
   "mimetype": "text/x-python",
   "name": "python",
   "nbconvert_exporter": "python",
   "pygments_lexer": "ipython3",
   "version": "3.10.15"
  }
 },
 "nbformat": 4,
 "nbformat_minor": 5
}
