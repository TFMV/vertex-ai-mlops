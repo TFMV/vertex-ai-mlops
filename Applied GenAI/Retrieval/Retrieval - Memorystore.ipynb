{
 "cells": [
  {
   "cell_type": "markdown",
   "id": "e89180c9",
   "metadata": {},
   "source": [
    "![tracker](https://us-central1-vertex-ai-mlops-369716.cloudfunctions.net/pixel-tracking?path=statmike%2Fvertex-ai-mlops%2FApplied+GenAI%2FRetrieval&file=Retrieval+-+Memorystore.ipynb)\n",
    "<!--- header table --->\n",
    "<table align=\"left\">\n",
    "  <td style=\"text-align: center\">\n",
    "    <a href=\"https://colab.research.google.com/github/statmike/vertex-ai-mlops/blob/main/Applied%20GenAI/Retrieval/Retrieval%20-%20Memorystore.ipynb\">\n",
    "      <img src=\"https://cloud.google.com/ml-engine/images/colab-logo-32px.png\" alt=\"Google Colaboratory logo\">\n",
    "      <br>Run in<br>Colab\n",
    "    </a>\n",
    "  </td>\n",
    "  <td style=\"text-align: center\">\n",
    "    <a href=\"https://console.cloud.google.com/vertex-ai/colab/import/https%3A%2F%2Fraw.githubusercontent.com%2Fstatmike%2Fvertex-ai-mlops%2Fmain%2FApplied%2520GenAI%2FRetrieval%2FRetrieval%2520-%2520Memorystore.ipynb\">\n",
    "      <img width=\"32px\" src=\"https://lh3.googleusercontent.com/JmcxdQi-qOpctIvWKgPtrzZdJJK-J3sWE1RsfjZNwshCFgE_9fULcNpuXYTilIR2hjwN\" alt=\"Google Cloud Colab Enterprise logo\">\n",
    "      <br>Run in<br>Colab Enterprise\n",
    "    </a>\n",
    "  </td>      \n",
    "  <td style=\"text-align: center\">\n",
    "    <a href=\"https://github.com/statmike/vertex-ai-mlops/blob/main/Applied%20GenAI/Retrieval/Retrieval%20-%20Memorystore.ipynb\">\n",
    "      <img src=\"https://cloud.google.com/ml-engine/images/github-logo-32px.png\" alt=\"GitHub logo\">\n",
    "      <br>View on<br>GitHub\n",
    "    </a>\n",
    "  </td>\n",
    "  <td style=\"text-align: center\">\n",
    "    <a href=\"https://console.cloud.google.com/vertex-ai/workbench/deploy-notebook?download_url=https://raw.githubusercontent.com/statmike/vertex-ai-mlops/main/Applied%20GenAI/Retrieval/Retrieval%20-%20Memorystore.ipynb\">\n",
    "      <img src=\"https://lh3.googleusercontent.com/UiNooY4LUgW_oTvpsNhPpQzsstV5W8F7rYgxgGBD85cWJoLmrOzhVs_ksK_vgx40SHs7jCqkTkCk=e14-rj-sc0xffffff-h130-w32\" alt=\"Vertex AI logo\">\n",
    "      <br>Open in<br>Vertex AI Workbench\n",
    "    </a>\n",
    "  </td>\n",
    "</table>"
   ]
  },
  {
   "cell_type": "markdown",
   "id": "96b0e8e6-d761-4540-9d09-8f0c4ce9a020",
   "metadata": {},
   "source": [
    "# Retrieval - Memorystore (Redis)\n",
    "<p style=\"font-size: 45px;\">IN PROGRESS - NOT COMPLETE</p>\n",
    "\n",
    "In prior workflows, a series of documents was [processed into chunks](../Chunking/readme.md), and for each chunk, [embeddings](../Embeddings/readme.md) were created:\n",
    "\n",
    "- Process: [Large Document Processing - Document AI Layout Parser](../Chunking/Large%20Document%20Processing%20-%20Document%20AI%20Layout%20Parser.ipynb)\n",
    "- Embed: [Vertex AI Text Embeddings API](../Embeddings/Vertex%20AI%20Text%20Embeddings%20API.ipynb)\n",
    "\n",
    "Retrieving chunks for a query involves calculating the embedding for the query and then using similarity metrics to find relevant chunks. A thorough review of similarity matching can be found in [The Math of Similarity](../Embeddings/The%20Math%20of%20Similarity.ipynb) - use dot product! As development moves from experiment to application, the process of storing and computing similarity is migrated to a [retrieval](./readme.md) system. This workflow is part of a [series of workflows exploring many retrieval systems](./readme.md).\n",
    "\n",
    "**Memorystore For Storage, Indexing, And Search**\n",
    "\n",
    "[Google Cloud Memorystore](https://cloud.google.com/memorystore) is a fully managed in-memory data store service that can be used to enhance the performance of applications by caching frequently accessed data. Memorystore offers several in-memory database options, including [Redis](https://cloud.google.com/memorystore/docs/redis), [Redis Cluster](https://cloud.google.com/memorystore/docs/cluster), [Memcached](https://cloud.google.com/memorystore/docs/memcached), and [Valkey](https://cloud.google.com/memorystore/docs/valkey/). Each option provides unique features and capabilities to suit different needs.\n",
    "\n",
    "This example uses [Redis](https://redis.io/docs/latest/), which is an open-source, in-memory data store that can be used as a database, cache, message broker, and streaming engine. In Redis, data is stored as key-value pairs. The key serves as an identifier to request or retrieve specific data. Redis offers a [variety of data types](https://redis.io/docs/latest/develop/data-types/) for values, including strings, lists, sets, hashes, and sorted sets. These data types provide flexibility in how you structure and organize your data. In addition to basic retrieval using keys, Redis offers querying capabilities across data elements, [including vector search](https://cloud.google.com/memorystore/docs/redis/about-vector-search) for efficient similarity matching.\n",
    "\n",
    "**Use Case Data**\n",
    "\n",
    "Buying a home usually involves borrowing money from a lending institution, typically through a mortgage secured by the home's value. But how do these institutions manage the risks associated with such large loans, and how are lending standards established?\n",
    "\n",
    "In the United States, two government-sponsored enterprises (GSEs) play a vital role in the housing market:\n",
    "\n",
    "- Federal National Mortgage Association ([Fannie Mae](https://www.fanniemae.com/))\n",
    "- Federal Home Loan Mortgage Corporation ([Freddie Mac](https://www.freddiemac.com/))\n",
    "\n",
    "These GSEs purchase mortgages from lenders, enabling those lenders to offer more loans. This process also allows Fannie Mae and Freddie Mac to set standards for mortgages, ensuring they are responsible and borrowers are more likely to repay them. This system makes homeownership more affordable and stabilizes the housing market by maintaining a steady flow of liquidity for lenders and keeping interest rates controlled.\n",
    "\n",
    "However, navigating the complexities of these GSEs and their extensive servicing guides can be challenging.\n",
    "\n",
    "**Approaches**\n",
    "\n",
    "[This series](../readme.md) covers many generative AI workflows. These documents are used directly as long context for Gemini in the workflow [Long Context Retrieval With The Vertex AI Gemini API](../Generate/Long%20Context%20Retrieval%20With%20The%20Vertex%20AI%20Gemini%20API.ipynb). The workflow below uses a [retrieval](./readme.md) approach with the already generated chunks and embeddings."
   ]
  },
  {
   "cell_type": "markdown",
   "id": "be889472-69b0-416c-9cf1-edc9706fa5c5",
   "metadata": {
    "id": "od_UkDpvRmgD"
   },
   "source": [
    "---\n",
    "## Colab Setup\n",
    "\n",
    "When running this notebook in [Colab](https://colab.google/) or [Colab Enterprise](https://cloud.google.com/colab/docs/introduction), this section will authenticate to GCP (follow prompts in the popup) and set the current project for the session."
   ]
  },
  {
   "cell_type": "code",
   "execution_count": 1,
   "id": "21f75ba8-df50-466e-a5ec-f2a6dd88eb26",
   "metadata": {
    "executionInfo": {
     "elapsed": 195,
     "status": "ok",
     "timestamp": 1683726184843,
     "user": {
      "displayName": "Mike Henderson",
      "userId": "07691629187611687318"
     },
     "user_tz": 240
    },
    "id": "8UO9FnqyKBlF",
    "tags": []
   },
   "outputs": [],
   "source": [
    "PROJECT_ID = 'statmike-mlops-349915' # replace with project ID"
   ]
  },
  {
   "cell_type": "code",
   "execution_count": 2,
   "id": "9c325515-1ea0-45cc-82d3-a1bfb1c52155",
   "metadata": {
    "colab": {
     "base_uri": "https://localhost:8080/"
    },
    "executionInfo": {
     "elapsed": 68869,
     "status": "ok",
     "timestamp": 1683726253709,
     "user": {
      "displayName": "Mike Henderson",
      "userId": "07691629187611687318"
     },
     "user_tz": 240
    },
    "id": "N98-KK7LRkjm",
    "outputId": "09ec5008-0def-4e1a-c349-c598ee752f78",
    "tags": []
   },
   "outputs": [],
   "source": [
    "try:\n",
    "    from google.colab import auth\n",
    "    auth.authenticate_user()\n",
    "    !gcloud config set project {PROJECT_ID}\n",
    "except Exception:\n",
    "    pass"
   ]
  },
  {
   "cell_type": "markdown",
   "id": "055a4bd7-7b47-43ef-ba14-636c955e44e3",
   "metadata": {},
   "source": [
    "---\n",
    "## Installs and API Enablement\n",
    "\n",
    "The clients packages may need installing in this environment. "
   ]
  },
  {
   "cell_type": "markdown",
   "id": "410502ee-6fe3-4624-a69a-960ad7105f10",
   "metadata": {},
   "source": [
    "### Installs (If Needed)"
   ]
  },
  {
   "cell_type": "code",
   "execution_count": 3,
   "id": "f4dbdb83-3170-430c-b60d-3d686222a168",
   "metadata": {
    "tags": []
   },
   "outputs": [],
   "source": [
    "# tuples of (import name, install name, min_version)\n",
    "packages = [\n",
    "    ('google.cloud.aiplatform', 'google-cloud-aiplatform', '1.69.0'),\n",
    "    ('google.cloud.redis', 'google-cloud-redis'),\n",
    "    ('redis', 'redis', '5.0.8')\n",
    "]\n",
    "\n",
    "import importlib\n",
    "install = False\n",
    "for package in packages:\n",
    "    if not importlib.util.find_spec(package[0]):\n",
    "        print(f'installing package {package[1]}')\n",
    "        install = True\n",
    "        !pip install {package[1]} -U -q --user\n",
    "    elif len(package) == 3:\n",
    "        if importlib.metadata.version(package[0]) < package[2]:\n",
    "            print(f'updating package {package[1]}')\n",
    "            install = True\n",
    "            !pip install {package[1]} -U -q --user"
   ]
  },
  {
   "cell_type": "markdown",
   "id": "25374857-7d37-4c84-8cbb-a3c2fc7bb065",
   "metadata": {},
   "source": [
    "### API Enablement"
   ]
  },
  {
   "cell_type": "code",
   "execution_count": 4,
   "id": "9b7300a8-7e3a-4a08-95c0-91186237753f",
   "metadata": {
    "tags": []
   },
   "outputs": [],
   "source": [
    "!gcloud services enable aiplatform.googleapis.com\n",
    "!gcloud services enable redis.googleapis.com"
   ]
  },
  {
   "cell_type": "markdown",
   "id": "157d09ba-9774-495f-8ced-3382bf75be8f",
   "metadata": {},
   "source": [
    "### Restart Kernel (If Installs Occured)\n",
    "\n",
    "After a kernel restart the code submission can start with the next cell after this one."
   ]
  },
  {
   "cell_type": "code",
   "execution_count": 5,
   "id": "f9864153-66c8-43e1-ae96-1179632ccf7d",
   "metadata": {
    "tags": []
   },
   "outputs": [],
   "source": [
    "if install:\n",
    "    import IPython\n",
    "    app = IPython.Application.instance()\n",
    "    app.kernel.do_shutdown(True)\n",
    "    IPython.display.display(IPython.display.Markdown(\"\"\"<div class=\\\"alert alert-block alert-warning\\\">\n",
    "        <b>⚠️ The kernel is going to restart. Please wait until it is finished before continuing to the next step. The previous cells do not need to be run again⚠️</b>\n",
    "        </div>\"\"\"))"
   ]
  },
  {
   "cell_type": "markdown",
   "id": "09a1ab41-cb32-4398-86dc-d30effb88a36",
   "metadata": {
    "id": "appt8-yVRtJ1"
   },
   "source": [
    "---\n",
    "## Setup"
   ]
  },
  {
   "cell_type": "markdown",
   "id": "2cebe11b-9ca1-4f3e-aa78-78640ff01ec8",
   "metadata": {
    "id": "63mx2EozRxFP"
   },
   "source": [
    "Inputs"
   ]
  },
  {
   "cell_type": "code",
   "execution_count": 6,
   "id": "ab2239cd-40ab-416d-bac0-0c6953d911b6",
   "metadata": {
    "colab": {
     "base_uri": "https://localhost:8080/",
     "height": 35
    },
    "executionInfo": {
     "elapsed": 2124,
     "status": "ok",
     "timestamp": 1683726390544,
     "user": {
      "displayName": "Mike Henderson",
      "userId": "07691629187611687318"
     },
     "user_tz": 240
    },
    "id": "xzcoXjM5Rky5",
    "outputId": "b3bdcbc1-70d5-472e-aea2-42c74a42efde",
    "tags": []
   },
   "outputs": [
    {
     "data": {
      "text/plain": [
       "'statmike-mlops-349915'"
      ]
     },
     "execution_count": 6,
     "metadata": {},
     "output_type": "execute_result"
    }
   ],
   "source": [
    "project = !gcloud config get-value project\n",
    "PROJECT_ID = project[0]\n",
    "PROJECT_ID"
   ]
  },
  {
   "cell_type": "code",
   "execution_count": 7,
   "id": "8aa97f05-66e9-4276-b2e6-83b5a91ca50c",
   "metadata": {
    "executionInfo": {
     "elapsed": 2,
     "status": "ok",
     "timestamp": 1683726390712,
     "user": {
      "displayName": "Mike Henderson",
      "userId": "07691629187611687318"
     },
     "user_tz": 240
    },
    "id": "IxWrFtqYMfku",
    "tags": []
   },
   "outputs": [],
   "source": [
    "REGION = 'us-central1'\n",
    "SERIES = 'applied-genai'\n",
    "EXPERIMENT = 'retrieval-memorystore-redis'\n",
    "\n",
    "# Redis names\n",
    "REDIS_INSTANCE_NAME = EXPERIMENT"
   ]
  },
  {
   "cell_type": "markdown",
   "id": "52bbf65b-5d29-4a72-84ae-d977b9a743a6",
   "metadata": {
    "id": "LuajVwCiO6Yg"
   },
   "source": [
    "Packages"
   ]
  },
  {
   "cell_type": "code",
   "execution_count": 8,
   "id": "559f6e60-a594-4789-893b-295a8381b670",
   "metadata": {
    "executionInfo": {
     "elapsed": 17761,
     "status": "ok",
     "timestamp": 1683726409304,
     "user": {
      "displayName": "Mike Henderson",
      "userId": "07691629187611687318"
     },
     "user_tz": 240
    },
    "id": "LVC7zzSLRk2C",
    "tags": []
   },
   "outputs": [],
   "source": [
    "import os, json, time, glob, datetime, tempfile\n",
    "\n",
    "import numpy as np\n",
    "import redis\n",
    "\n",
    "# Vertex AI\n",
    "from google.cloud import aiplatform\n",
    "import vertexai.language_models # for embeddings API\n",
    "import vertexai.generative_models # for Gemini Models\n",
    "from vertexai.resources.preview import feature_store\n",
    "\n",
    "# memorystore\n",
    "from google.cloud import redis_v1"
   ]
  },
  {
   "cell_type": "code",
   "execution_count": 9,
   "id": "d3fef31f-928f-45f2-a3f4-292ee242232c",
   "metadata": {
    "tags": []
   },
   "outputs": [
    {
     "data": {
      "text/plain": [
       "'1.69.0'"
      ]
     },
     "execution_count": 9,
     "metadata": {},
     "output_type": "execute_result"
    }
   ],
   "source": [
    "aiplatform.__version__"
   ]
  },
  {
   "cell_type": "markdown",
   "id": "5758c07e-f064-40fb-a0ef-de6cbde5cd0a",
   "metadata": {
    "id": "EyAVFG9TO9H-"
   },
   "source": [
    "Clients"
   ]
  },
  {
   "cell_type": "code",
   "execution_count": 10,
   "id": "3b72f3bb-176b-4678-ba6b-df9b2de14997",
   "metadata": {
    "executionInfo": {
     "elapsed": 19,
     "status": "ok",
     "timestamp": 1683726409306,
     "user": {
      "displayName": "Mike Henderson",
      "userId": "07691629187611687318"
     },
     "user_tz": 240
    },
    "id": "L0RPE13LOZce",
    "tags": []
   },
   "outputs": [],
   "source": [
    "# vertex ai clients\n",
    "vertexai.init(project = PROJECT_ID, location = REGION)\n",
    "\n",
    "# memorystore clients\n",
    "redis_client = redis_v1.CloudRedisClient()"
   ]
  },
  {
   "cell_type": "markdown",
   "id": "8579282f-2723-4294-b72a-a65cc0831f44",
   "metadata": {},
   "source": [
    "---\n",
    "## Text & Embeddings For Examples\n",
    "\n",
    "This repository contains a [section for document processing (chunking)](../Chunking/readme.md) that includes an example of processing mulitple large pdfs (over 1000 pages) into chunks: [Large Document Processing - Document AI Layout Parser](../Chunking/Large%20Document%20Processing%20-%20Document%20AI%20Layout%20Parser.ipynb).  The chunks of text from that workflow are stored with this repository and loaded by another companion workflow that augments the chunks with text embeddings: [Vertex AI Text Embeddings API](../Embeddings/Vertex%20AI%20Text%20Embeddings%20API.ipynb).\n",
    "\n",
    "The following code will load the version of the chunks that includes text embeddings and prepare it for a local example of retrival augmented generation."
   ]
  },
  {
   "cell_type": "markdown",
   "id": "1e12cbe2-3ca6-4656-9e73-c0db5c63bf50",
   "metadata": {},
   "source": [
    "### Get The Documents\n",
    "\n",
    "If you are working from a clone of this notebooks [repository](https://github.com/statmike/vertex-ai-mlops) then the documents are already present. The following cell checks for the documents folder and if it is missing gets it (`git clone`):"
   ]
  },
  {
   "cell_type": "code",
   "execution_count": 11,
   "id": "6f4e77ed-43f7-42be-9575-6a491c0d6cba",
   "metadata": {
    "tags": []
   },
   "outputs": [],
   "source": [
    "local_dir = '../Embeddings/files/embeddings-api'"
   ]
  },
  {
   "cell_type": "code",
   "execution_count": 12,
   "id": "63ebe7c3-e72c-4394-91c3-d60c05bc0ce2",
   "metadata": {
    "tags": []
   },
   "outputs": [
    {
     "name": "stdout",
     "output_type": "stream",
     "text": [
      "Documents Found in folder `../Embeddings/files/embeddings-api`\n"
     ]
    }
   ],
   "source": [
    "if not os.path.exists(local_dir):\n",
    "    print('Retrieving documents...')\n",
    "    parent_dir = os.path.dirname(local_dir)\n",
    "    temp_dir = os.path.join(parent_dir, 'temp')\n",
    "    if not os.path.exists(temp_dir):\n",
    "        os.makedirs(temp_dir)\n",
    "    !git clone https://www.github.com/statmike/vertex-ai-mlops {temp_dir}/vertex-ai-mlops\n",
    "    shutil.copytree(f'{temp_dir}/vertex-ai-mlops/Applied GenAI/Embeddings/files/embeddings-api', local_dir)\n",
    "    shutil.rmtree(temp_dir)\n",
    "    print(f'Documents are now in folder `{local_dir}`')\n",
    "else:\n",
    "    print(f'Documents Found in folder `{local_dir}`')             "
   ]
  },
  {
   "cell_type": "markdown",
   "id": "33e68a84-9f88-4590-9ff1-e01c8a953ccf",
   "metadata": {},
   "source": [
    "### Load The Chunks"
   ]
  },
  {
   "cell_type": "code",
   "execution_count": 13,
   "id": "58d04382-a74a-44ac-8824-3b46c86aa148",
   "metadata": {
    "tags": []
   },
   "outputs": [
    {
     "data": {
      "text/plain": [
       "['../Embeddings/files/embeddings-api/large-files-chunk-embeddings-0000.jsonl',\n",
       " '../Embeddings/files/embeddings-api/large-files-chunk-embeddings-0001.jsonl',\n",
       " '../Embeddings/files/embeddings-api/large-files-chunk-embeddings-0002.jsonl',\n",
       " '../Embeddings/files/embeddings-api/large-files-chunk-embeddings-0003.jsonl',\n",
       " '../Embeddings/files/embeddings-api/large-files-chunk-embeddings-0004.jsonl',\n",
       " '../Embeddings/files/embeddings-api/large-files-chunk-embeddings-0005.jsonl',\n",
       " '../Embeddings/files/embeddings-api/large-files-chunk-embeddings-0006.jsonl',\n",
       " '../Embeddings/files/embeddings-api/large-files-chunk-embeddings-0007.jsonl',\n",
       " '../Embeddings/files/embeddings-api/large-files-chunk-embeddings-0008.jsonl',\n",
       " '../Embeddings/files/embeddings-api/large-files-chunk-embeddings-0009.jsonl']"
      ]
     },
     "execution_count": 13,
     "metadata": {},
     "output_type": "execute_result"
    }
   ],
   "source": [
    "jsonl_files = glob.glob(f\"{local_dir}/large-files*.jsonl\")\n",
    "jsonl_files.sort()\n",
    "jsonl_files"
   ]
  },
  {
   "cell_type": "code",
   "execution_count": 14,
   "id": "a54c6c96-6c28-49bb-80be-5d46797dfe77",
   "metadata": {
    "tags": []
   },
   "outputs": [
    {
     "data": {
      "text/plain": [
       "9040"
      ]
     },
     "execution_count": 14,
     "metadata": {},
     "output_type": "execute_result"
    }
   ],
   "source": [
    "chunks = []\n",
    "for file in jsonl_files:\n",
    "    with open(file, 'r') as f:\n",
    "        chunks.extend([json.loads(line) for line in f])\n",
    "len(chunks)"
   ]
  },
  {
   "cell_type": "markdown",
   "id": "a70115ec-6d60-41df-b7e6-9e2e5b463b1d",
   "metadata": {},
   "source": [
    "### Review A Chunk"
   ]
  },
  {
   "cell_type": "code",
   "execution_count": 15,
   "id": "fc20423e-e3d6-4e90-9e98-a5248508c82d",
   "metadata": {
    "tags": []
   },
   "outputs": [
    {
     "data": {
      "text/plain": [
       "dict_keys(['instance', 'predictions', 'status'])"
      ]
     },
     "execution_count": 15,
     "metadata": {},
     "output_type": "execute_result"
    }
   ],
   "source": [
    "chunks[0].keys()"
   ]
  },
  {
   "cell_type": "code",
   "execution_count": 16,
   "id": "1955ea39-4ffc-4d30-b653-a5a9911f2dab",
   "metadata": {
    "tags": []
   },
   "outputs": [
    {
     "data": {
      "text/plain": [
       "'fannie_part_0_c17'"
      ]
     },
     "execution_count": 16,
     "metadata": {},
     "output_type": "execute_result"
    }
   ],
   "source": [
    "chunks[0]['instance']['chunk_id']"
   ]
  },
  {
   "cell_type": "code",
   "execution_count": 17,
   "id": "3537982c-4a0e-456c-a652-19ea7507873b",
   "metadata": {
    "tags": []
   },
   "outputs": [
    {
     "name": "stdout",
     "output_type": "stream",
     "text": [
      "# Selling Guide Fannie Mae Single Family\n",
      "\n",
      "## Fannie Mae Copyright Notice\n",
      "\n",
      "### Fannie Mae Copyright Notice\n",
      "\n",
      "|-|\n",
      "| Section B3-4.2, Verification of Depository Assets 402 |\n",
      "| B3-4.2-01, Verification of Deposits and Assets (05/04/2022) 403 |\n",
      "| B3-4.2-02, Depository Accounts (12/14/2022) 405 |\n",
      "| B3-4.2-03, Individual Development Accounts (02/06/2019) 408 |\n",
      "| B3-4.2-04, Pooled Savings (Community Savings Funds) (04/01/2009) 411 |\n",
      "| B3-4.2-05, Foreign Assets (05/04/2022) 411 |\n",
      "| Section B3-4.3, Verification of Non-Depository Assets 412 |\n",
      "| B3-4.3-01, Stocks, Stock Options, Bonds, and Mutual Funds (06/30/2015) 412 |\n",
      "| B3-4.3-02, Trust Accounts (04/01/2009) 413 |\n",
      "| B3-4.3-03, Retirement Accounts (06/30/2015) 414 |\n",
      "| B3-4.3-04, Personal Gifts (09/06/2023) 415 |\n",
      "| B3-4.3-05, Gifts of Equity (10/07/2020) 418 |\n",
      "| B3-4.3-06, Grants and Lender Contributions (12/14/2022) 419 |\n",
      "| B3-4.3-07, Disaster Relief Grants or Loans (04/01/2009) 423 |\n",
      "| B3-4.3-08, Employer Assistance (09/29/2015) 423 |\n",
      "| B3-4.3-09, Earnest Money Deposit (05/04/2022) 425 |\n",
      "| B3-4.3-10, Anticipated Sales Proceeds (02/23/2016) B3-4.3-11, Trade Equity (12/16/2020) 426 428 |\n",
      "| B3-4.3-12, Rent-Related Credits (08/07/2024) 429 |\n",
      "| B3-4.3-13, Sweat Equity (04/15/2014) 430 |\n",
      "| B3-4.3-14, Bridge/Swing Loans (04/01/2009) 431 |\n",
      "| B3-4.3-15, Borrowed Funds Secured by an Asset (10/30/2009) 431 |\n",
      "|  |\n",
      "\n",
      "\n"
     ]
    }
   ],
   "source": [
    "print(chunks[0]['instance']['content'])"
   ]
  },
  {
   "cell_type": "code",
   "execution_count": 18,
   "id": "49f06293-a439-436b-bc93-cd6cd3fb4aff",
   "metadata": {
    "tags": []
   },
   "outputs": [
    {
     "data": {
      "text/plain": [
       "[0.031277116388082504,\n",
       " 0.03056905046105385,\n",
       " 0.010865348391234875,\n",
       " 0.0623614676296711,\n",
       " 0.03228681534528732,\n",
       " 0.05066155269742012,\n",
       " 0.046544693410396576,\n",
       " 0.05509665608406067,\n",
       " -0.014074751175940037,\n",
       " 0.008380400016903877]"
      ]
     },
     "execution_count": 18,
     "metadata": {},
     "output_type": "execute_result"
    }
   ],
   "source": [
    "chunks[0]['predictions'][0]['embeddings']['values'][0:10]"
   ]
  },
  {
   "cell_type": "markdown",
   "id": "f977358d-d9ea-4172-9eca-66079bb6087d",
   "metadata": {},
   "source": [
    "### Prepare Chunk Structure\n",
    "\n",
    "Make a list of dictionaries with information for each chunk:"
   ]
  },
  {
   "cell_type": "code",
   "execution_count": 40,
   "id": "be9fa708-130c-4343-b179-dbde0b09a972",
   "metadata": {
    "tags": []
   },
   "outputs": [],
   "source": [
    "content_chunks = [\n",
    "    dict(\n",
    "        gse = chunk['instance']['gse'],\n",
    "        chunk_id = chunk['instance']['chunk_id'],\n",
    "        content = chunk['instance']['content'],\n",
    "        embedding = chunk['predictions'][0]['embeddings']['values']\n",
    "    ) for chunk in chunks\n",
    "]"
   ]
  },
  {
   "cell_type": "markdown",
   "id": "d6619605-7b10-444e-a131-db06e56a4be8",
   "metadata": {},
   "source": [
    "### Query Embedding\n",
    "\n",
    "Create a query, or prompt, and get the embedding for it:\n",
    "\n",
    "Connect to models for text embeddings. Learn more about the model API:\n",
    "- [Vertex AI Text Embeddings API](../Embeddings/Vertex%20AI%20Text%20Embeddings%20API.ipynb)"
   ]
  },
  {
   "cell_type": "code",
   "execution_count": 20,
   "id": "3da5d30c-3dfb-42ba-a133-83dceb252787",
   "metadata": {
    "tags": []
   },
   "outputs": [],
   "source": [
    "question = \"Does a lender have to perform servicing functions directly?\""
   ]
  },
  {
   "cell_type": "code",
   "execution_count": 21,
   "id": "7992c26f-d058-4920-80a3-a157b88733e4",
   "metadata": {
    "tags": []
   },
   "outputs": [],
   "source": [
    "embedder = vertexai.language_models.TextEmbeddingModel.from_pretrained('text-embedding-004')"
   ]
  },
  {
   "cell_type": "code",
   "execution_count": 22,
   "id": "bbe6fda7-9cea-49a2-9e2f-9222d50677af",
   "metadata": {
    "tags": []
   },
   "outputs": [
    {
     "data": {
      "text/plain": [
       "[-0.0005117303808219731,\n",
       " 0.009651427157223225,\n",
       " 0.01768726110458374,\n",
       " 0.014538003131747246,\n",
       " -0.01829824410378933,\n",
       " 0.027877431362867355,\n",
       " -0.021124685183167458,\n",
       " 0.008830446749925613,\n",
       " -0.02669006586074829,\n",
       " 0.06414774805307388]"
      ]
     },
     "execution_count": 22,
     "metadata": {},
     "output_type": "execute_result"
    }
   ],
   "source": [
    "question_embedding = embedder.get_embeddings([question])[0].values\n",
    "question_embedding[0:10]"
   ]
  },
  {
   "cell_type": "markdown",
   "id": "0b6ec209-b34a-4837-8c54-a991ad831764",
   "metadata": {},
   "source": [
    "---\n",
    "## Retrieval With Memorystore (Redis)\n",
    "\n",
    "Memorystore offers multiple caching engines as a service: [Valkey](https://cloud.google.com/memorystore/docs/valkey/), [Redis](https://cloud.google.com/memorystore/docs/redis), [Redis Cluster](https://cloud.google.com/memorystore/docs/cluster), and [Memcached](https://cloud.google.com/memorystore/docs/memcached). Redis is offered as a single instance or a clustered instance where the instance is a series of shards that contains subsets of the cached data.\n",
    "\n",
    "This workflow will use a single instance of [Redis](https://cloud.google.com/memorystore/docs/redis) because it [supports vector search](https://cloud.google.com/memorystore/docs/redis/about-vector-search).\n",
    "\n",
    "**Memorystore data structure**\n",
    "\n",
    "Memorystore, Redis in this case, is a key:value pair database.  In this case think of the key as the value that would be used to requests or retrieve data for.  And data is actually a flexible, multi-parameter, object with multiple [possible data types](https://redis.io/docs/latest/develop/data-types/).  Beyond retriving data based on the key there are also querying capabilties across the data elements, including vector search!\n",
    "\n",
    "**Understanding Costs**\n",
    "\n",
    "[Pricing for Memorystore for Redis](https://cloud.google.com/memorystore/docs/redis/pricing) is straightforward and based on these parameters that are part of the instance creation:\n",
    "- **Service Tier**: [read more about service tiers](https://cloud.google.com/memorystore/docs/redis/redis-tiers)\n",
    "    - Basic - a simple Redis cache with a standalone instance (**Used in this workflow.**)\n",
    "    - Standard - A high availability instance with cross-zone replication and automatic failover\n",
    "- **Provisioned capacity**: \n",
    "    - Size in GB priced in $ per GB per hour. Capacity tiers make additional capacity progressively cheaper. (**The Minimum of 1 GB is used in this workflow.**)\n",
    "- **Region**: \n",
    "    - Pricing varies by the region choosen for the instance.\n",
    "- **Replicas**: \n",
    "    - For the Standard Service Tier you have the option to enable read replicas for distributed reads.\n",
    "    \n",
    "    \n",
    "Important Notes on the Approach used here:\n",
    "\n",
    "Redis has a concept called modules: https://redis.io/docs/latest/develop/reference/modules/\n",
    "\n",
    "Redis has core data types that are directly supported: https://redis.io/docs/latest/develop/data-types/#core-data-types\n",
    "\n",
    "Additional data types are enabled by \n",
    "\n",
    "The data types supported in Redis are expanded extension modules: https://redis.io/docs/latest/develop/data-types/#extension-data-types\n",
    "\n",
    "Of note is the JSON data type module extension: https://redis.io/docs/latest/develop/data-types/json/\n",
    "\n",
    "Google Cloud Memorystore Redis support these versions of Redis: https://cloud.google.com/memorystore/docs/redis/supported-versions\n",
    "\n",
    "Which inclues version 7.2 and the build in vector search functionality: https://cloud.google.com/memorystore/docs/redis/supported-versions#redis_version_72\n",
    "\n",
    "Many examples found on the web for using this vector search capability use it with the JSON module, like this one: https://redis.io/docs/latest/develop/get-started/vector-database/\n",
    "\n",
    "An example directly using hashing can be found here: https://redis-py.readthedocs.io/en/stable/examples/search_vector_similarity_examples.html\n",
    "\n",
    "In the supported functionality for Memorystore Redis, modules are not supported.  For this reason, the HASH data type is best to use for vector search feature.  While a Python dictionary is comparable to a HASH\n",
    "- https://redis.io/docs/latest/develop/data-types/#hashes\n",
    "    - https://redis.io/docs/latest/develop/data-types/hashes/\n",
    "- Trying to store a dictionary element that has a value of type list is not possilbe. Like an embedding as a list of floats.  Serializing the embedding as bytes is necessary and covered by this note:\n",
    "    - https://cloud.google.com/memorystore/docs/redis/indexing-vectors\n",
    "\n",
    "\n",
    "\n",
    "Redis Hashes:\n",
    "\n",
    "https://redis.io/docs/latest/develop/data-types/hashes/\n",
    "\n",
    "Can store more key-value pairs than you probably need or have available memory for: (2^32-1).\n",
    "\n",
    "Offer many features like field expiration.\n",
    "\n",
    "More on redis:\n",
    "database, namespaces(prefixes), keys\n"
   ]
  },
  {
   "cell_type": "markdown",
   "id": "011332b0-52a5-4d3b-a211-00e6d82feaae",
   "metadata": {},
   "source": [
    "### Create/Retrieve An Instance\n",
    "\n",
    "https://cloud.google.com/memorystore/docs/redis/redis-tiers\n",
    "\n",
    "https://cloud.google.com/python/docs/reference/redis/latest/google.cloud.redis_v1.services.cloud_redis.CloudRedisClient"
   ]
  },
  {
   "cell_type": "code",
   "execution_count": 27,
   "id": "28fd8700-78cc-4ccb-be99-040f1f19e3bb",
   "metadata": {},
   "outputs": [
    {
     "name": "stdout",
     "output_type": "stream",
     "text": [
      "Creating Redis instance ...\n",
      "Created Redis instance: projects/statmike-mlops-349915/locations/us-central1/instances/retrieval-memorystore-redis\n"
     ]
    }
   ],
   "source": [
    "try:\n",
    "    redis_instance = redis_client.get_instance(\n",
    "        name = f\"projects/{PROJECT_ID}/locations/{REGION}/instances/{REDIS_INSTANCE_NAME}\"\n",
    "    )\n",
    "    print(f\"Retrieved Redis instance: {redis_instance.name}\")\n",
    "except Exception:\n",
    "    print(f\"Creating Redis instance ...\")\n",
    "    create_instance = redis_client.create_instance(\n",
    "        parent = f\"projects/{PROJECT_ID}/locations/{REGION}\",\n",
    "        instance_id = REDIS_INSTANCE_NAME,\n",
    "        instance = redis_v1.Instance(\n",
    "            name = f\"projects/{PROJECT_ID}/locations/{REGION}/instances/{REDIS_INSTANCE_NAME}\",\n",
    "            tier = redis_v1.Instance.Tier.BASIC,\n",
    "            memory_size_gb = 1,\n",
    "            redis_version = 'REDIS_7_2',\n",
    "            transit_encryption_mode=redis_v1.Instance.TransitEncryptionMode.SERVER_AUTHENTICATION  # Enable TLS\n",
    "        )\n",
    "    )\n",
    "    response = create_instance.result()\n",
    "    redis_instance = redis_client.get_instance(\n",
    "        name = f\"projects/{PROJECT_ID}/locations/{REGION}/instances/{REDIS_INSTANCE_NAME}\"\n",
    "    )\n",
    "    print(f\"Created Redis instance: {redis_instance.name}\")"
   ]
  },
  {
   "cell_type": "code",
   "execution_count": 28,
   "id": "6dcab470-b73d-4c37-ac76-97abf4d7bbab",
   "metadata": {
    "tags": []
   },
   "outputs": [
    {
     "data": {
      "text/plain": [
       "name: \"projects/statmike-mlops-349915/locations/us-central1/instances/retrieval-memorystore-redis\"\n",
       "location_id: \"us-central1-c\"\n",
       "redis_version: \"REDIS_7_2\"\n",
       "reserved_ip_range: \"10.106.20.32/29\"\n",
       "host: \"10.106.20.35\"\n",
       "port: 6378\n",
       "current_location_id: \"us-central1-c\"\n",
       "create_time {\n",
       "  seconds: 1730169733\n",
       "  nanos: 767497286\n",
       "}\n",
       "state: READY\n",
       "tier: BASIC\n",
       "memory_size_gb: 1\n",
       "authorized_network: \"projects/statmike-mlops-349915/global/networks/default\"\n",
       "persistence_iam_identity: \"serviceAccount:service-1026793852137@cloud-redis.iam.gserviceaccount.com\"\n",
       "connect_mode: DIRECT_PEERING\n",
       "server_ca_certs {\n",
       "  serial_number: \"0\"\n",
       "  cert: \"-----BEGIN CERTIFICATE-----\\nMIIDnTCCAoWgAwIBAgIBADANBgkqhkiG9w0BAQsFADCBhTEtMCsGA1UELhMkOTVm\\nZmNlYmUtMDAwZi00NzYyLTkwYzctOGYxZWZhZGI1NzkxMTEwLwYDVQQDEyhHb29n\\nbGUgQ2xvdWQgTWVtb3J5c3RvcmUgUmVkaXMgU2VydmVyIENBMRQwEgYDVQQKEwtH\\nb29nbGUsIEluYzELMAkGA1UEBhMCVVMwHhcNMjQxMDI5MDI0MTIxWhcNMzQxMDI3\\nMDI0MjIxWjCBhTEtMCsGA1UELhMkOTVmZmNlYmUtMDAwZi00NzYyLTkwYzctOGYx\\nZWZhZGI1NzkxMTEwLwYDVQQDEyhHb29nbGUgQ2xvdWQgTWVtb3J5c3RvcmUgUmVk\\naXMgU2VydmVyIENBMRQwEgYDVQQKEwtHb29nbGUsIEluYzELMAkGA1UEBhMCVVMw\\nggEiMA0GCSqGSIb3DQEBAQUAA4IBDwAwggEKAoIBAQDjI/p6kW7bEU+Ekz29JK6J\\ntwx+LTtBXf3MHRXEkPh95o6vtM3L82lOevARyqpXxyOBlvDn/kyKBP37CA2qwCci\\nB4qH0QqavdZHkAV3P64Yma5lYFa135XTP0MCCPzOutp+kbhbUQf2F7Jx35cX2dAe\\nlh1GJBks0RYgtXlA3qM1c1Mq7rAXtO5gD5X9rUAca+RCAIOeYG16ktGq5Z6DNdZB\\ndCdskG8IPQKFN3IZUaRWfwK6QNLDjxuMTEK4MzuCsv/tGJjKqkRqFCKHLX/bM0ey\\npT3epHg/F8XlX7rQST9hrr40rdAcEzHtNxdiRwQApc8dJq32F8rMBReXgUZCrKJz\\nAgMBAAGjFjAUMBIGA1UdEwEB/wQIMAYBAf8CAQAwDQYJKoZIhvcNAQELBQADggEB\\nABH6HUW/xwKe+CYnppHtKVW5A2t/Gqp+wz1z2S+nyDqdpdb8Sk0IKcXWHoGufWO7\\nXKO1tV6SLQx99vQ88rK5HLsbeHQBiIQd/itF2vm75z1r/shFjUbJXDA+wlltC6uC\\ndZlGvX3SNA+SE4HtjXv1ROR6jvUIJ0doz1HYLVR5mDnkeLAk4Sm/0N+tYirpW76z\\nmq4jZh1jLJEGKWOd1N2X2Rb7oqs0sy5ixggrxQ6Po4SKw6NfFSqCFfJ8tpk/oaBE\\nAG4+840eR4sSYsIa6Fywf2c7D5viqV+2NcE7BYFH00vRtXTtJEiocOIiQjDcGV7a\\nI8//lufg4CEuIiUPfbFPwVE=\\n-----END CERTIFICATE-----\"\n",
       "  create_time {\n",
       "    seconds: 1730169741\n",
       "    nanos: 546080000\n",
       "  }\n",
       "  expire_time {\n",
       "    seconds: 2045529741\n",
       "    nanos: 316000000\n",
       "  }\n",
       "  sha1_fingerprint: \"2ed36e7fbf66700e319e3ec69c6ed68e1e549ff0\"\n",
       "}\n",
       "transit_encryption_mode: SERVER_AUTHENTICATION\n",
       "nodes {\n",
       "  id: \"node-0\"\n",
       "  zone: \"us-central1-c\"\n",
       "}\n",
       "read_replicas_mode: READ_REPLICAS_DISABLED\n",
       "persistence_config {\n",
       "  persistence_mode: DISABLED\n",
       "}\n",
       "maintenance_version: \"20240411_00_00\"\n",
       "available_maintenance_versions: \"20240503_00_00\"\n",
       "available_maintenance_versions: \"20240724_00_00\""
      ]
     },
     "execution_count": 28,
     "metadata": {},
     "output_type": "execute_result"
    }
   ],
   "source": [
    "redis_instance"
   ]
  },
  {
   "cell_type": "markdown",
   "id": "3968fbd7-a732-4f2d-a17d-957027c955fb",
   "metadata": {},
   "source": [
    "### Connect To Redis Instance\n",
    "\n",
    "Connect to the Redis instance using the [redis-py](https://redis-py.readthedocs.io/en/stable/) Python package. The following code create two clients using [redis.Redis()](https://redis-py.readthedocs.io/en/stable/connections.html#generic-client):\n",
    "- `r_client` with `decode_responses = True`\n",
    "- `b_client` with `decode_responses = False`\n",
    "\n",
    "Why two clients?  We will be storing data in the [Redis Hashes](https://redis.io/docs/latest/develop/data-types/hashes/) data type which is like a Python dictionary. Further, the embedding vectors will be converted to bytes objects before writing to Redis.  \n",
    "\n",
    "## more here\n",
    "- why bytes for the vectors\n",
    "- links to GCP info on this\n",
    "- two methods of using client: native and .execute_command\n",
    "- links to redis-py and GCP docs for langauge"
   ]
  },
  {
   "cell_type": "code",
   "execution_count": 30,
   "id": "da76f3de-a1e3-4b9e-a9f7-53f0d57210a8",
   "metadata": {
    "tags": []
   },
   "outputs": [],
   "source": [
    "with tempfile.NamedTemporaryFile(delete=False) as cert_file:\n",
    "    cert_file.write(redis_instance.server_ca_certs[0].cert.encode())  # Write certificate content\n",
    "    cert_path = cert_file.name"
   ]
  },
  {
   "cell_type": "code",
   "execution_count": 31,
   "id": "1571c6f5-da7f-4686-aafb-2be39c461af5",
   "metadata": {
    "tags": []
   },
   "outputs": [],
   "source": [
    "r_client = redis.Redis(\n",
    "    host = redis_instance.host,\n",
    "    port = redis_instance.port,\n",
    "    ssl = True,\n",
    "    ssl_ca_certs = cert_path,\n",
    "    decode_responses = True\n",
    ")"
   ]
  },
  {
   "cell_type": "code",
   "execution_count": 32,
   "id": "09306dd9-8e8f-4bca-a076-9c4d21e878c9",
   "metadata": {
    "tags": []
   },
   "outputs": [],
   "source": [
    "b_client = redis.Redis(\n",
    "    host = redis_instance.host,\n",
    "    port = redis_instance.port,\n",
    "    ssl = True,\n",
    "    ssl_ca_certs = cert_path,\n",
    "    decode_responses = False\n",
    ")"
   ]
  },
  {
   "cell_type": "code",
   "execution_count": 33,
   "id": "3ebbb366-b419-4dc8-83e9-705e4428752c",
   "metadata": {
    "tags": []
   },
   "outputs": [
    {
     "name": "stdout",
     "output_type": "stream",
     "text": [
      "Connected to Redis successfully!\n"
     ]
    }
   ],
   "source": [
    "try:\n",
    "    r_client.ping() and b_client.ping()\n",
    "    print(\"Connected to Redis successfully!\")\n",
    "except Exception as e:\n",
    "    print(f\"Error connecting to Redis: {e}\")"
   ]
  },
  {
   "cell_type": "markdown",
   "id": "bee9bc18-4279-44a5-8ec9-699628b2a1e2",
   "metadata": {},
   "source": [
    "### Prepare Data For Redis\n",
    "\n",
    "There are multiple storage [data formats](https://redis.io/docs/latest/develop/data-types/) possible with Redis.  [Hashing](https://redis.io/docs/latest/develop/data-types/hashes/) is like a Python dictionary and offers many advantages, like the vector search capability that will be used here.  To use the hash data type the embedding need to be serialized before inserting: https://cloud.google.com/memorystore/docs/redis/indexing-vectors"
   ]
  },
  {
   "cell_type": "code",
   "execution_count": 41,
   "id": "2213bb75-4070-4279-9dae-0aceba022f59",
   "metadata": {
    "tags": []
   },
   "outputs": [
    {
     "data": {
      "text/plain": [
       "dict_keys(['gse', 'chunk_id', 'content', 'embedding'])"
      ]
     },
     "execution_count": 41,
     "metadata": {},
     "output_type": "execute_result"
    }
   ],
   "source": [
    "content_chunks[0].keys()"
   ]
  },
  {
   "cell_type": "code",
   "execution_count": 42,
   "id": "4026ccec-59e2-44c8-81d7-49c41d17a075",
   "metadata": {
    "tags": []
   },
   "outputs": [],
   "source": [
    "for chunk in content_chunks:\n",
    "    chunk['embedding'] = np.array(chunk['embedding']).astype('float32').tobytes()"
   ]
  },
  {
   "cell_type": "code",
   "execution_count": 43,
   "id": "aba5ebce-b791-4498-8368-60a838c9f517",
   "metadata": {
    "tags": []
   },
   "outputs": [
    {
     "data": {
      "text/plain": [
       "bytes"
      ]
     },
     "execution_count": 43,
     "metadata": {},
     "output_type": "execute_result"
    }
   ],
   "source": [
    "type(content_chunks[0]['embedding'])"
   ]
  },
  {
   "cell_type": "code",
   "execution_count": 44,
   "id": "5c29255e-e99c-4ab9-9712-d58eea8fdf64",
   "metadata": {
    "tags": []
   },
   "outputs": [
    {
     "data": {
      "text/plain": [
       "3072"
      ]
     },
     "execution_count": 44,
     "metadata": {},
     "output_type": "execute_result"
    }
   ],
   "source": [
    "len(content_chunks[0]['embedding'])"
   ]
  },
  {
   "cell_type": "markdown",
   "id": "5a72b632-b01f-4ba5-8e8b-9ab8785f6eb3",
   "metadata": {},
   "source": [
    "### Add/Retrive/Delete Records To The Instance"
   ]
  },
  {
   "cell_type": "code",
   "execution_count": 45,
   "id": "b575010a-11c5-4b43-b3e5-8ed57492a6e6",
   "metadata": {
    "tags": []
   },
   "outputs": [],
   "source": [
    "first_record = content_chunks[0]"
   ]
  },
  {
   "cell_type": "code",
   "execution_count": 46,
   "id": "e6a36677-d8e5-47fc-b1d4-237282bcb0fc",
   "metadata": {
    "tags": []
   },
   "outputs": [
    {
     "data": {
      "text/plain": [
       "dict_keys(['gse', 'chunk_id', 'content', 'embedding'])"
      ]
     },
     "execution_count": 46,
     "metadata": {},
     "output_type": "execute_result"
    }
   ],
   "source": [
    "first_record.keys()"
   ]
  },
  {
   "cell_type": "code",
   "execution_count": 47,
   "id": "d2463d83-aa30-434c-92fd-76244fef318d",
   "metadata": {
    "tags": []
   },
   "outputs": [
    {
     "data": {
      "text/plain": [
       "'fannie_part_0_c17'"
      ]
     },
     "execution_count": 47,
     "metadata": {},
     "output_type": "execute_result"
    }
   ],
   "source": [
    "first_record['chunk_id']"
   ]
  },
  {
   "cell_type": "code",
   "execution_count": 50,
   "id": "5aa7454c-2c13-4478-84e5-a9c417398d82",
   "metadata": {
    "tags": []
   },
   "outputs": [
    {
     "name": "stdout",
     "output_type": "stream",
     "text": [
      "Adding the record to the database: fannie_part_0_c17\n"
     ]
    }
   ],
   "source": [
    "if r_client.exists(first_record['chunk_id']):\n",
    "    print(f\"Found this record already in the database: {first_record['chunk_id']}\")\n",
    "else:\n",
    "    print(f\"Adding the record to the database: {first_record['chunk_id']}\")\n",
    "    r_client.hset(first_record['chunk_id'], mapping = first_record)"
   ]
  },
  {
   "cell_type": "code",
   "execution_count": 51,
   "id": "b706da4a-8154-4ee0-b541-2f50c20e5f16",
   "metadata": {
    "tags": []
   },
   "outputs": [
    {
     "data": {
      "text/plain": [
       "'fannie'"
      ]
     },
     "execution_count": 51,
     "metadata": {},
     "output_type": "execute_result"
    }
   ],
   "source": [
    "r_client.hget(first_record['chunk_id'], 'gse')"
   ]
  },
  {
   "cell_type": "code",
   "execution_count": 54,
   "id": "7df79924-a642-4ce7-ab08-4faf152a6fdd",
   "metadata": {
    "tags": []
   },
   "outputs": [
    {
     "data": {
      "text/plain": [
       "b'fannie'"
      ]
     },
     "execution_count": 54,
     "metadata": {},
     "output_type": "execute_result"
    }
   ],
   "source": [
    "b_client.hget(first_record['chunk_id'], 'gse')"
   ]
  },
  {
   "cell_type": "code",
   "execution_count": 52,
   "id": "7e152d41-d1e2-420e-8713-9e57633c00d2",
   "metadata": {
    "tags": []
   },
   "outputs": [
    {
     "data": {
      "text/plain": [
       "'# Selling Guide Fannie Mae Single Family\\n\\n## Fannie Mae Copyright Notice\\n\\n### Fannie Mae Copyright Notice\\n\\n|-|\\n| Section B3-4.2, Verification of Depository Assets 402 |\\n| B3-4.2-01, Verification of Deposits and Assets (05/04/2022) 403 |\\n| B3-4.2-02, Depository Accounts (12/14/2022) 405 |\\n| B3-4.2-03, Individual Development Accounts (02/06/2019) 408 |\\n| B3-4.2-04, Pooled Savings (Community Savings Funds) (04/01/2009) 411 |\\n| B3-4.2-05, Foreign Assets (05/04/2022) 411 |\\n| Section B3-4.3, Verification of Non-Depository Assets 412 |\\n| B3-4.3-01, Stocks, Stock Options, Bonds, and Mutual Funds (06/30/2015) 412 |\\n| B3-4.3-02, Trust Accounts (04/01/2009) 413 |\\n| B3-4.3-03, Retirement Accounts (06/30/2015) 414 |\\n| B3-4.3-04, Personal Gifts (09/06/2023) 415 |\\n| B3-4.3-05, Gifts of Equity (10/07/2020) 418 |\\n| B3-4.3-06, Grants and Lender Contributions (12/14/2022) 419 |\\n| B3-4.3-07, Disaster Relief Grants or Loans (04/01/2009) 423 |\\n| B3-4.3-08, Employer Assistance (09/29/2015) 423 |\\n| B3-4.3-09, Earnest Money Deposit (05/04/2022) 425 |\\n| B3-4.3-10, Anticipated Sales Proceeds (02/23/2016) B3-4.3-11, Trade Equity (12/16/2020) 426 428 |\\n| B3-4.3-12, Rent-Related Credits (08/07/2024) 429 |\\n| B3-4.3-13, Sweat Equity (04/15/2014) 430 |\\n| B3-4.3-14, Bridge/Swing Loans (04/01/2009) 431 |\\n| B3-4.3-15, Borrowed Funds Secured by an Asset (10/30/2009) 431 |\\n|  |\\n\\n'"
      ]
     },
     "execution_count": 52,
     "metadata": {},
     "output_type": "execute_result"
    }
   ],
   "source": [
    "r_client.hget(first_record['chunk_id'], 'content')"
   ]
  },
  {
   "cell_type": "code",
   "execution_count": 53,
   "id": "52dc1493-1111-41be-aa4c-2be6b881b370",
   "metadata": {
    "tags": []
   },
   "outputs": [
    {
     "data": {
      "text/plain": [
       "['fannie',\n",
       " '# Selling Guide Fannie Mae Single Family\\n\\n## Fannie Mae Copyright Notice\\n\\n### Fannie Mae Copyright Notice\\n\\n|-|\\n| Section B3-4.2, Verification of Depository Assets 402 |\\n| B3-4.2-01, Verification of Deposits and Assets (05/04/2022) 403 |\\n| B3-4.2-02, Depository Accounts (12/14/2022) 405 |\\n| B3-4.2-03, Individual Development Accounts (02/06/2019) 408 |\\n| B3-4.2-04, Pooled Savings (Community Savings Funds) (04/01/2009) 411 |\\n| B3-4.2-05, Foreign Assets (05/04/2022) 411 |\\n| Section B3-4.3, Verification of Non-Depository Assets 412 |\\n| B3-4.3-01, Stocks, Stock Options, Bonds, and Mutual Funds (06/30/2015) 412 |\\n| B3-4.3-02, Trust Accounts (04/01/2009) 413 |\\n| B3-4.3-03, Retirement Accounts (06/30/2015) 414 |\\n| B3-4.3-04, Personal Gifts (09/06/2023) 415 |\\n| B3-4.3-05, Gifts of Equity (10/07/2020) 418 |\\n| B3-4.3-06, Grants and Lender Contributions (12/14/2022) 419 |\\n| B3-4.3-07, Disaster Relief Grants or Loans (04/01/2009) 423 |\\n| B3-4.3-08, Employer Assistance (09/29/2015) 423 |\\n| B3-4.3-09, Earnest Money Deposit (05/04/2022) 425 |\\n| B3-4.3-10, Anticipated Sales Proceeds (02/23/2016) B3-4.3-11, Trade Equity (12/16/2020) 426 428 |\\n| B3-4.3-12, Rent-Related Credits (08/07/2024) 429 |\\n| B3-4.3-13, Sweat Equity (04/15/2014) 430 |\\n| B3-4.3-14, Bridge/Swing Loans (04/01/2009) 431 |\\n| B3-4.3-15, Borrowed Funds Secured by an Asset (10/30/2009) 431 |\\n|  |\\n\\n']"
      ]
     },
     "execution_count": 53,
     "metadata": {},
     "output_type": "execute_result"
    }
   ],
   "source": [
    "r_client.hmget(first_record['chunk_id'], ['gse', 'content'])"
   ]
  },
  {
   "cell_type": "code",
   "execution_count": 55,
   "id": "dabddfe3-ccc8-466a-baf3-b47becbd4713",
   "metadata": {
    "tags": []
   },
   "outputs": [
    {
     "data": {
      "text/plain": [
       "1"
      ]
     },
     "execution_count": 55,
     "metadata": {},
     "output_type": "execute_result"
    }
   ],
   "source": [
    "r_client.hdel(first_record['chunk_id'], 'embedding')"
   ]
  },
  {
   "cell_type": "code",
   "execution_count": 56,
   "id": "598f8183-fd83-4278-9d6c-63569e5a6f33",
   "metadata": {
    "tags": []
   },
   "outputs": [
    {
     "data": {
      "text/plain": [
       "{'chunk_id': 'fannie_part_0_c17',\n",
       " 'content': '# Selling Guide Fannie Mae Single Family\\n\\n## Fannie Mae Copyright Notice\\n\\n### Fannie Mae Copyright Notice\\n\\n|-|\\n| Section B3-4.2, Verification of Depository Assets 402 |\\n| B3-4.2-01, Verification of Deposits and Assets (05/04/2022) 403 |\\n| B3-4.2-02, Depository Accounts (12/14/2022) 405 |\\n| B3-4.2-03, Individual Development Accounts (02/06/2019) 408 |\\n| B3-4.2-04, Pooled Savings (Community Savings Funds) (04/01/2009) 411 |\\n| B3-4.2-05, Foreign Assets (05/04/2022) 411 |\\n| Section B3-4.3, Verification of Non-Depository Assets 412 |\\n| B3-4.3-01, Stocks, Stock Options, Bonds, and Mutual Funds (06/30/2015) 412 |\\n| B3-4.3-02, Trust Accounts (04/01/2009) 413 |\\n| B3-4.3-03, Retirement Accounts (06/30/2015) 414 |\\n| B3-4.3-04, Personal Gifts (09/06/2023) 415 |\\n| B3-4.3-05, Gifts of Equity (10/07/2020) 418 |\\n| B3-4.3-06, Grants and Lender Contributions (12/14/2022) 419 |\\n| B3-4.3-07, Disaster Relief Grants or Loans (04/01/2009) 423 |\\n| B3-4.3-08, Employer Assistance (09/29/2015) 423 |\\n| B3-4.3-09, Earnest Money Deposit (05/04/2022) 425 |\\n| B3-4.3-10, Anticipated Sales Proceeds (02/23/2016) B3-4.3-11, Trade Equity (12/16/2020) 426 428 |\\n| B3-4.3-12, Rent-Related Credits (08/07/2024) 429 |\\n| B3-4.3-13, Sweat Equity (04/15/2014) 430 |\\n| B3-4.3-14, Bridge/Swing Loans (04/01/2009) 431 |\\n| B3-4.3-15, Borrowed Funds Secured by an Asset (10/30/2009) 431 |\\n|  |\\n\\n',\n",
       " 'gse': 'fannie'}"
      ]
     },
     "execution_count": 56,
     "metadata": {},
     "output_type": "execute_result"
    }
   ],
   "source": [
    "r_client.hgetall(first_record['chunk_id'])"
   ]
  },
  {
   "cell_type": "code",
   "execution_count": 57,
   "id": "1bdd656a-7781-4bc4-95d6-7ccbb5c075cd",
   "metadata": {
    "tags": []
   },
   "outputs": [
    {
     "data": {
      "text/plain": [
       "1"
      ]
     },
     "execution_count": 57,
     "metadata": {},
     "output_type": "execute_result"
    }
   ],
   "source": [
    "r_client.delete(first_record['chunk_id'])"
   ]
  },
  {
   "cell_type": "markdown",
   "id": "f38b9077-ac0f-4884-8b10-5522a7f008d3",
   "metadata": {},
   "source": [
    "### Load All Documents To The Instance\n",
    "\n",
    "Use a pipeline to efficiently load all the records.\n",
    "\n",
    "https://redis-py.readthedocs.io/en/stable/examples/pipeline_examples.html"
   ]
  },
  {
   "cell_type": "code",
   "execution_count": 58,
   "id": "ccfacb9d-0189-428f-9e8b-e6e21248c6a8",
   "metadata": {
    "tags": []
   },
   "outputs": [],
   "source": [
    "# check for chunk loading status\n",
    "with r_client.pipeline() as pipe:\n",
    "    for chunk in content_chunks:\n",
    "        pipe.exists(chunk['chunk_id'])\n",
    "    exists_results = pipe.execute()"
   ]
  },
  {
   "cell_type": "code",
   "execution_count": 59,
   "id": "c4e57635-ca6a-438b-b8b4-052a740015bd",
   "metadata": {
    "tags": []
   },
   "outputs": [],
   "source": [
    "# load missing chunks\n",
    "with r_client.pipeline() as pipe:\n",
    "    load_indexes = []\n",
    "    for i, (chunk, exists) in enumerate(zip(content_chunks, exists_results)):\n",
    "        if not exists:\n",
    "            load_indexes.append(i)\n",
    "            pipe.hset(chunk['chunk_id'], mapping=chunk)\n",
    "    load_results = pipe.execute()"
   ]
  },
  {
   "cell_type": "code",
   "execution_count": 60,
   "id": "d376b172-205d-4414-b837-4f9dfae2ec56",
   "metadata": {
    "tags": []
   },
   "outputs": [
    {
     "name": "stdout",
     "output_type": "stream",
     "text": [
      "All chunks(9040) loaded successfully.\n"
     ]
    }
   ],
   "source": [
    "# check for loading issues and give first failure id info for diagnostic\n",
    "if all(load_results):\n",
    "    print(f'All chunks({len(load_results)}) loaded successfully.')\n",
    "else:\n",
    "    print(f\"During loading {load_results.count(0)} records were not successfully loaded.\")\n",
    "    first_fail_index = load_indexes[load_results.index(0)]\n",
    "    print(f\"Start troubleshooting with the record at index {first_fail_index} which as has 'chunk_id' = {content_chunks[first_fail_index]['chunk_id']}\")"
   ]
  },
  {
   "cell_type": "code",
   "execution_count": 61,
   "id": "c8645a63-7d2e-4d67-b37a-54a6ac4bc18d",
   "metadata": {
    "tags": []
   },
   "outputs": [
    {
     "data": {
      "text/plain": [
       "'fannie'"
      ]
     },
     "execution_count": 61,
     "metadata": {},
     "output_type": "execute_result"
    }
   ],
   "source": [
    "r_client.hget(first_record['chunk_id'], 'gse')"
   ]
  },
  {
   "cell_type": "code",
   "execution_count": 62,
   "id": "237f00eb-22dd-4771-80da-82f13975c49a",
   "metadata": {
    "tags": []
   },
   "outputs": [
    {
     "data": {
      "text/plain": [
       "4"
      ]
     },
     "execution_count": 62,
     "metadata": {},
     "output_type": "execute_result"
    }
   ],
   "source": [
    "r_client.hlen(first_record['chunk_id'])"
   ]
  },
  {
   "cell_type": "code",
   "execution_count": 63,
   "id": "cfddd4e2-72e1-4a25-950c-f8bd0ae9f5f0",
   "metadata": {
    "tags": []
   },
   "outputs": [
    {
     "data": {
      "text/plain": [
       "9040"
      ]
     },
     "execution_count": 63,
     "metadata": {},
     "output_type": "execute_result"
    }
   ],
   "source": [
    "r_client.dbsize()"
   ]
  },
  {
   "cell_type": "markdown",
   "id": "11b729b1-c93e-4a85-b97c-1f3737998c28",
   "metadata": {},
   "source": [
    "### Create An Index\n",
    "\n",
    "https://redis.io/docs/latest/develop/interact/search-and-query/advanced-concepts/vectors/\n",
    "\n",
    "https://redis-py.readthedocs.io/en/stable/examples/search_vector_similarity_examples.html#KNN-Queries\n",
    "\n",
    "https://redis.io/docs/latest/develop/get-started/vector-database/#create-an-index"
   ]
  },
  {
   "cell_type": "code",
   "execution_count": 173,
   "id": "2c234638-3771-4236-a1f7-59923bc85cad",
   "metadata": {
    "tags": []
   },
   "outputs": [
    {
     "name": "stdout",
     "output_type": "stream",
     "text": [
      "Create the index ...\n",
      "Index Created: flat-index\n"
     ]
    }
   ],
   "source": [
    "INDEX_NAME = 'flat-index'\n",
    "\n",
    "try:\n",
    "    check_index = client.ft(INDEX_NAME).info()\n",
    "    print(f\"This index already exists: {check_index['index_name']}\")\n",
    "except Exception:\n",
    "    print(f'Create the index ...')\n",
    "    schema = (\n",
    "        #redis.commands.search.field.TagField(name = \"gse\"),\n",
    "        redis.commands.search.field.VectorField(\n",
    "            'embedding',\n",
    "            'FLAT',\n",
    "            dict(\n",
    "                TYPE = 'FLOAT32',\n",
    "                DIM = len(question_embedding),\n",
    "                DISTANCE_METRIC = 'IP' # dot product\n",
    "            )\n",
    "        )\n",
    "    )\n",
    "    index_def = redis.commands.search.indexDefinition.IndexDefinition(\n",
    "        #prefix = [], # defaults to all, this is a list of namespaces/prefixes to index\n",
    "        index_type = redis.commands.search.indexDefinition.IndexType.HASH\n",
    "    )\n",
    "    client.ft(INDEX_NAME).create_index(fields = schema, definition = index_def)\n",
    "    check_index = client.ft(INDEX_NAME).info()\n",
    "    print(f\"Index Created: {check_index['index_name']}\")"
   ]
  },
  {
   "cell_type": "code",
   "execution_count": 174,
   "id": "7a6ea3fd-b4cd-40f8-aa3f-c929c079e165",
   "metadata": {
    "tags": []
   },
   "outputs": [
    {
     "name": "stdout",
     "output_type": "stream",
     "text": [
      "Create the index ...\n",
      "Index Created: hnsw-index\n"
     ]
    }
   ],
   "source": [
    "INDEX_NAME = 'hnsw-index'\n",
    "\n",
    "try:\n",
    "    check_index = client.ft(INDEX_NAME).info()\n",
    "    print(f\"This index already exists: {check_index['index_name']}\")\n",
    "except Exception:\n",
    "    print(f'Create the index ...')\n",
    "    schema = (\n",
    "        #redis.commands.search.field.TagField(name = \"gse\"),\n",
    "        redis.commands.search.field.VectorField(\n",
    "            'embedding',\n",
    "            'HNSW',\n",
    "            dict(\n",
    "                TYPE = 'FLOAT32',\n",
    "                DIM = len(question_embedding),\n",
    "                DISTANCE_METRIC = 'IP' # dot product\n",
    "            )\n",
    "        )\n",
    "    )\n",
    "    index_def = redis.commands.search.indexDefinition.IndexDefinition(\n",
    "        #prefix = [], # defaults to all, this is a list of namespaces/prefixes to index\n",
    "        index_type = redis.commands.search.indexDefinition.IndexType.HASH\n",
    "    )\n",
    "    client.ft(INDEX_NAME).create_index(fields = schema, definition = index_def)\n",
    "    check_index = client.ft(INDEX_NAME).info()\n",
    "    print(f\"Index Created: {check_index['index_name']}\")"
   ]
  },
  {
   "cell_type": "code",
   "execution_count": null,
   "id": "23b6558c-6cac-43b9-977d-742fc406a5ec",
   "metadata": {},
   "outputs": [],
   "source": []
  },
  {
   "cell_type": "code",
   "execution_count": null,
   "id": "e5ecfb26-7230-4a29-82d6-f46b26263e01",
   "metadata": {},
   "outputs": [],
   "source": []
  },
  {
   "cell_type": "code",
   "execution_count": null,
   "id": "3383cc83-25ae-40aa-8af6-838b80f81bfc",
   "metadata": {
    "tags": []
   },
   "outputs": [],
   "source": [
    "INDEX_NAME = 'flat-index'\n",
    "\n",
    "command = (\n",
    "    f\"FT.CREATE {INDEX_NAME} ON HASH \"\n",
    "    f\"SCHEMA embedding VECTOR FLAT 6 \"\n",
    "    f\"TYPE FLOAT32 \"\n",
    "    f\"DIM {len(question_embedding)} \"\n",
    "    f\"DISTANCE_METRIC IP \"\n",
    ")\n",
    "\n",
    "\n",
    "client.execute_command(command)"
   ]
  },
  {
   "cell_type": "code",
   "execution_count": 65,
   "id": "a0c4fc4c-e78b-4eea-9b93-3c6639f83b22",
   "metadata": {
    "tags": []
   },
   "outputs": [
    {
     "name": "stdout",
     "output_type": "stream",
     "text": [
      "This index already exists: flat-index\n"
     ]
    }
   ],
   "source": [
    "INDEX_NAME = 'flat-index'\n",
    "\n",
    "try:\n",
    "    check_index = r_client.ft(INDEX_NAME).info()\n",
    "    print(f\"This index already exists: {check_index['index_name']}\")\n",
    "except Exception:\n",
    "    print(f'Create the index ...')\n",
    "\n",
    "    command = (\n",
    "        f\"FT.CREATE {INDEX_NAME} ON HASH \"\n",
    "        f\"SCHEMA embedding VECTOR FLAT 6 \"\n",
    "        f\"TYPE FLOAT32 \"\n",
    "        f\"DIM {len(question_embedding)} \"\n",
    "        f\"DISTANCE_METRIC IP \"\n",
    "    )\n",
    "\n",
    "    r_client.execute_command(command)\n",
    "    \n",
    "    print(f'Checking for index backfill ...')\n",
    "    while True:\n",
    "        check_index = r_client.ft(INDEX_NAME).info()\n",
    "        if check_index['backfill_in_progress'] == '1':\n",
    "            complete_pct = 100*float(check_index['backfill_complete_percent'])\n",
    "            print(f\"Backfill still in progress with {complete_pct:.2f} percent complete ...\")\n",
    "            time.sleep(10)\n",
    "        else:\n",
    "            print(f\"Backfill complete.\")\n",
    "            print(f\"Index created and covers {check_index['num_docs']} records\")\n",
    "            break"
   ]
  },
  {
   "cell_type": "code",
   "execution_count": 69,
   "id": "ddb0d48d-068c-4fc7-bb98-c03bf9665970",
   "metadata": {
    "tags": []
   },
   "outputs": [
    {
     "name": "stdout",
     "output_type": "stream",
     "text": [
      "Create the index ...\n",
      "Checking for index backfill ...\n",
      "Backfill still in progress with 0.00 percent complete ...\n",
      "Backfill still in progress with 22.72 percent complete ...\n",
      "Backfill still in progress with 39.81 percent complete ...\n",
      "Backfill still in progress with 53.53 percent complete ...\n",
      "Backfill still in progress with 65.74 percent complete ...\n",
      "Backfill still in progress with 77.05 percent complete ...\n",
      "Backfill still in progress with 87.60 percent complete ...\n",
      "Backfill still in progress with 97.61 percent complete ...\n",
      "Backfill complete.\n",
      "Index created and covers 9040 records\n"
     ]
    }
   ],
   "source": [
    "INDEX_NAME = 'hnsw-index'\n",
    "\n",
    "try:\n",
    "    check_index = r_client.ft(INDEX_NAME).info()\n",
    "    print(f\"This index already exists: {check_index['index_name']}\")\n",
    "except Exception:\n",
    "    print(f'Create the index ...')\n",
    "\n",
    "    command = (\n",
    "        f\"FT.CREATE {INDEX_NAME} ON HASH \"\n",
    "        f\"SCHEMA embedding VECTOR HNSW 6 \"\n",
    "        f\"TYPE FLOAT32 \"\n",
    "        f\"DIM {len(question_embedding)} \"\n",
    "        f\"DISTANCE_METRIC IP \"\n",
    "    )\n",
    "\n",
    "    r_client.execute_command(command)\n",
    "    \n",
    "    print(f'Checking for index backfill ...')\n",
    "    while True:\n",
    "        check_index = r_client.ft(INDEX_NAME).info()\n",
    "        if check_index['backfill_in_progress'] == '1':\n",
    "            complete_pct = 100*float(check_index['backfill_complete_percent'])\n",
    "            print(f\"Backfill still in progress with {complete_pct:.2f} percent complete ...\")\n",
    "            time.sleep(1)\n",
    "        else:\n",
    "            print(f\"Backfill complete.\")\n",
    "            print(f\"Index created and covers {check_index['num_docs']} records\")\n",
    "            break"
   ]
  },
  {
   "cell_type": "markdown",
   "id": "471649a3-cf4c-4d0e-b767-43cb45b65f47",
   "metadata": {},
   "source": [
    "### Check The Index State"
   ]
  },
  {
   "cell_type": "code",
   "execution_count": 73,
   "id": "333ece1d-c594-4a2b-8971-e864b723b3d7",
   "metadata": {
    "tags": []
   },
   "outputs": [
    {
     "data": {
      "text/plain": [
       "['flat-index', 'hnsw-index']"
      ]
     },
     "execution_count": 73,
     "metadata": {},
     "output_type": "execute_result"
    }
   ],
   "source": [
    "r_client.execute_command(\n",
    "    'FT._LIST'\n",
    ")"
   ]
  },
  {
   "cell_type": "raw",
   "id": "4bdd37c5-a871-4ccd-a05a-e6fb54817366",
   "metadata": {
    "tags": []
   },
   "source": [
    "r_client.execute_command(\n",
    "    'FT.DROPINDEX', 'flat-index'\n",
    ")"
   ]
  },
  {
   "cell_type": "raw",
   "id": "fb4a96b2-3b8f-42e9-b3e7-951d7047df1c",
   "metadata": {
    "tags": []
   },
   "source": [
    "r_client.execute_command(\n",
    "    'FT.DROPINDEX', 'hnsw-index'\n",
    ")"
   ]
  },
  {
   "cell_type": "code",
   "execution_count": 74,
   "id": "c8506456-72aa-41ec-ac11-d6f40006d538",
   "metadata": {
    "tags": []
   },
   "outputs": [],
   "source": [
    "check_index = r_client.ft('flat-index').info()"
   ]
  },
  {
   "cell_type": "code",
   "execution_count": 75,
   "id": "bba50f7b-0d17-41ac-97b9-ff357e78e753",
   "metadata": {
    "tags": []
   },
   "outputs": [
    {
     "data": {
      "text/plain": [
       "{'index_name': 'flat-index',\n",
       " 'index_options': [],\n",
       " 'index_definition': ['key_type',\n",
       "  'HASH',\n",
       "  'prefixes',\n",
       "  [''],\n",
       "  'default_score',\n",
       "  '1'],\n",
       " 'attributes': [['identifier',\n",
       "   'embedding',\n",
       "   'attribute',\n",
       "   'embedding',\n",
       "   'type',\n",
       "   'VECTOR',\n",
       "   'index',\n",
       "   ['capacity',\n",
       "    10240,\n",
       "    'dimensions',\n",
       "    768,\n",
       "    'distance_metric',\n",
       "    'IP',\n",
       "    'data_type',\n",
       "    'FLOAT32',\n",
       "    'algorithm',\n",
       "    ['name', 'FLAT', 'block_size', 1024]]]],\n",
       " 'num_docs': '9040',\n",
       " 'num_terms': '0',\n",
       " 'num_records': '9040',\n",
       " 'hash_indexing_failures': '0',\n",
       " 'backfill_in_progress': '0',\n",
       " 'backfill_complete_percent': '1.000000',\n",
       " 'mutation_queue_size': '0',\n",
       " 'recent_mutations_queue_delay': '0 sec'}"
      ]
     },
     "execution_count": 75,
     "metadata": {},
     "output_type": "execute_result"
    }
   ],
   "source": [
    "check_index"
   ]
  },
  {
   "cell_type": "markdown",
   "id": "f6a46d2c-0f86-418b-840a-afded7dea0bf",
   "metadata": {},
   "source": [
    "### Matching"
   ]
  },
  {
   "cell_type": "code",
   "execution_count": 93,
   "id": "9e9dc461-8b53-49ad-a24f-61f39e08f86b",
   "metadata": {
    "tags": []
   },
   "outputs": [],
   "source": [
    "def parse_matches(results, include_embed = False):\n",
    "    encoding = b_client.get_encoder().encoding\n",
    "    responses = []\n",
    "    for i in range(2, len(results), 2):\n",
    "        response = {}\n",
    "        for j in range(0, len(results[i]), 2):\n",
    "            key = results[i][j].decode(encoding)\n",
    "            value = results[i][j+1]\n",
    "            if key == 'embedding':\n",
    "                if include_embed:\n",
    "                    response[key] = np.frombuffer(value, dtype='float32').tolist()\n",
    "            elif key == 'distance':\n",
    "                response[key] = float(value.decode(encoding))\n",
    "            else:\n",
    "                response[key] = value.decode(encoding)\n",
    "        responses.append(response)\n",
    "    return responses"
   ]
  },
  {
   "cell_type": "code",
   "execution_count": 94,
   "id": "f81911d0-0fbc-4bb7-83b5-24f64ea166be",
   "metadata": {
    "tags": []
   },
   "outputs": [],
   "source": [
    "query_args = [\n",
    "    f\"FT.SEARCH {INDEX_NAME}\",\n",
    "    f\"*=>[KNN 5 @embedding $query_embedding AS distance]\",\n",
    "    \"PARAMS\",\n",
    "    2,\n",
    "    \"query_embedding\",\n",
    "    np.array(question_embedding).astype('float32').tobytes(),\n",
    "    \"DIALECT\",\n",
    "    2,\n",
    "]\n",
    "\n",
    "results = b_client.execute_command(*query_args)"
   ]
  },
  {
   "cell_type": "code",
   "execution_count": 95,
   "id": "2ed89288-cdd8-4420-965d-6f6a565962d8",
   "metadata": {
    "tags": []
   },
   "outputs": [],
   "source": [
    "matches = parse_matches(results)"
   ]
  },
  {
   "cell_type": "code",
   "execution_count": 96,
   "id": "db34b6ad-6c49-426c-9ada-52ff405c3d7e",
   "metadata": {
    "tags": []
   },
   "outputs": [
    {
     "data": {
      "text/plain": [
       "[{'distance': 0.331650435925,\n",
       "  'chunk_id': 'fannie_part_0_c326',\n",
       "  'content': \"# Chapter A3-3, Third-Party Lending Functions and Servicing Arrangements\\n\\nIntroduction This chapter explains Fannie Mae's requirements regarding the outsourcing of mortgage origination and servicing functions. It also addresses other servicing arrangements as well as the requirements related to document custody and document custodians. 105\",\n",
       "  'gse': 'fannie'},\n",
       " {'distance': 0.327629327774,\n",
       "  'chunk_id': 'fannie_part_0_c353',\n",
       "  'content': \"# A3-3-03, Other Servicing Arrangements (12/15/2015)\\n\\n## General Requirements for Subservicing Arrangements\\n\\nA servicer may use a subservicer only if it will not interfere with the servicer's ability to meet Fannie Mae's remitting and reporting requirements. A master servicer may not enter into new subservicing arrangements—or extend existing arrangements to include newly originated mortgages-unless both the master servicer and the subservicer are Fannie Mae- approved servicers in good standing who are able to perform the duties associated with the master servicer/subservicer arrangement. The master servicer must ensure that its written agreement with the subservicer acknowledges Fannie Mae's right to rescind its recognition of the subservicing arrangement if Fannie Mae decides to transfer the master servicer's portfolio for any reason. 114 The master servicer must confirm its existing subservicing arrangements when it submits the Lender Record Information (Form 582) each year. For additional information concerning subservicer and master servicer duties, responsibilities, and other requirements, see the Servicing Guide on Fannie Mae's website.\",\n",
       "  'gse': 'fannie'},\n",
       " {'distance': 0.32467019558,\n",
       "  'chunk_id': 'freddie_part_4_c510',\n",
       "  'content': '# (1) Notice requirements\\n\\nThe notice may not amend the terms of a Mortgage other than those relating to where to send payments. The Master Servicer and any Servicing Agent must ensure that their staff and facilities are adequately prepared to process Servicing and accounting transactions and to respond to Borrower inquiries during the transfer transition period. The Servicing Agent or Master Servicer undertaking the performance of the Servicing obligations must assume responsibility for responding to Borrower inquiries received after the date of such undertaking. If any Servicing or accounting problem cannot be resolved without the involvement of the Servicer that was performing the Servicing obligations, the new Servicing Agent or Master Servicer undertaking the performance of the Servicing obligations, and not the Borrower, should initiate the contact with the prior Servicer.',\n",
       "  'gse': 'freddie'},\n",
       " {'distance': 0.319473981857,\n",
       "  'chunk_id': 'freddie_part_4_c509',\n",
       "  'content': \"# (1) Notice requirements\\n\\nThe notice must advise the Borrower of the following: 1. The date the new Servicing Agent or Master Servicer undertakes the performance of the Servicing obligations 2. The name and address of the Servicer undertaking the performance of the Servicing obligations 3. The names and telephone numbers of the contact persons or departments where the Borrowers' inquiries relating to the transfer should be directed. (If toll-free numbers are not available, the letter must indicate that collect calls will be accepted.) Such names and telephone numbers must be provided for the party previously performing the Servicing obligations as well as the new Servicing Agent or Master Servicer undertaking the performance of the Servicing obligations. 4. The date when the party previously performing the Servicing obligation will no longer collect the Borrowers' payments and when the new Servicing Agent or Master Servicer undertaking the performance of the Servicing obligations will begin to collect them 5. Procedures for maintenance of automatic draft payments, if applicable. Every effort must be made to continue, without interruption, electronic payments on the Borrower's Mortgage, to the extent permitted by applicable law.\",\n",
       "  'gse': 'freddie'},\n",
       " {'distance': 0.290015816689,\n",
       "  'chunk_id': 'fannie_part_0_c352',\n",
       "  'content': '# A3-3-03, Other Servicing Arrangements (12/15/2015)\\n\\nIntroduction This topic provides an overview of other servicing arrangements, including: • Subservicing • General Requirements for Subservicing Arrangements • Pledge of Servicing Rights and Transfer of Interest in Servicing Income\\n\\n## Subservicing\\n\\nA lender may use other organizations to perform some or all of its servicing functions. Fannie Mae refers to these arrangements as “subservicing” arrangements, meaning that a servicer (the “subservicer”) other than the contractually responsible servicer (the “master” servicer) is performing the servicing functions. The following are not considered to be subservicing arrangements: • when a computer service bureau is used to perform accounting and reporting functions; • when the originating lender sells and assigns servicing to another lender, unless the originating lender continues to be the contractually responsible servicer.',\n",
       "  'gse': 'fannie'}]"
      ]
     },
     "execution_count": 96,
     "metadata": {},
     "output_type": "execute_result"
    }
   ],
   "source": [
    "matches"
   ]
  },
  {
   "cell_type": "code",
   "execution_count": null,
   "id": "fc7bb71e-aa81-48b4-b602-60e115412386",
   "metadata": {},
   "outputs": [],
   "source": []
  },
  {
   "cell_type": "code",
   "execution_count": null,
   "id": "6cac1bed-3055-4118-819b-341b95ef8955",
   "metadata": {},
   "outputs": [],
   "source": []
  },
  {
   "cell_type": "code",
   "execution_count": null,
   "id": "db627870-ad11-4581-ae0c-be578c4e8b97",
   "metadata": {},
   "outputs": [],
   "source": []
  },
  {
   "cell_type": "code",
   "execution_count": null,
   "id": "e66ca1d4-9fd2-46f6-8dfc-c38fa7b85f27",
   "metadata": {},
   "outputs": [],
   "source": []
  },
  {
   "cell_type": "code",
   "execution_count": null,
   "id": "e7b25ef5-b9fd-45e7-9086-40aac5a1c937",
   "metadata": {},
   "outputs": [],
   "source": []
  },
  {
   "cell_type": "code",
   "execution_count": null,
   "id": "b90ec9a5-ad5a-413e-ab42-38da7f85b39f",
   "metadata": {},
   "outputs": [],
   "source": []
  },
  {
   "cell_type": "code",
   "execution_count": null,
   "id": "04ae7a28-96ef-4be6-89c1-c4329df41a92",
   "metadata": {},
   "outputs": [],
   "source": []
  },
  {
   "cell_type": "code",
   "execution_count": null,
   "id": "82518d92-7fca-4c72-accc-c329afbd2204",
   "metadata": {},
   "outputs": [],
   "source": []
  },
  {
   "cell_type": "code",
   "execution_count": null,
   "id": "7326af3b-79a8-4737-bec7-4c4060fc34ac",
   "metadata": {},
   "outputs": [],
   "source": []
  },
  {
   "cell_type": "code",
   "execution_count": null,
   "id": "36846a3f-a4bd-495b-8845-99dcac3464c4",
   "metadata": {},
   "outputs": [],
   "source": []
  },
  {
   "cell_type": "code",
   "execution_count": null,
   "id": "9a9f0609-6a84-42bf-b248-a3ee576e9dc7",
   "metadata": {},
   "outputs": [],
   "source": []
  },
  {
   "cell_type": "code",
   "execution_count": null,
   "id": "fef90830-fb05-4782-ace6-1e1d0890f0ef",
   "metadata": {},
   "outputs": [],
   "source": []
  },
  {
   "cell_type": "code",
   "execution_count": null,
   "id": "8a14e287-4b50-4b3f-a303-a2e19eef03dc",
   "metadata": {},
   "outputs": [],
   "source": []
  },
  {
   "cell_type": "markdown",
   "id": "14bff763-1270-4c32-b930-67b0f0ef9faf",
   "metadata": {},
   "source": [
    "## Remove Resources"
   ]
  },
  {
   "cell_type": "code",
   "execution_count": 252,
   "id": "6557d8bd-8582-4453-9a52-2f1a889c380c",
   "metadata": {
    "tags": []
   },
   "outputs": [],
   "source": [
    "#client.flushall() # empty all records in the instance, across all databases"
   ]
  },
  {
   "cell_type": "code",
   "execution_count": 26,
   "id": "059a56c2-82c4-4b68-8dbe-3d157a556d68",
   "metadata": {
    "tags": []
   },
   "outputs": [],
   "source": [
    "#redis_client.delete_instance(name = redis_instance.name)"
   ]
  },
  {
   "cell_type": "code",
   "execution_count": null,
   "id": "437fcd09-b32a-4f6a-9359-d4e9c2e5dce4",
   "metadata": {},
   "outputs": [],
   "source": []
  }
 ],
 "metadata": {
  "environment": {
   "kernel": "conda-base-py",
   "name": "workbench-notebooks.m125",
   "type": "gcloud",
   "uri": "us-docker.pkg.dev/deeplearning-platform-release/gcr.io/workbench-notebooks:m125"
  },
  "kernelspec": {
   "display_name": "Python 3 (ipykernel) (Local)",
   "language": "python",
   "name": "conda-base-py"
  },
  "language_info": {
   "codemirror_mode": {
    "name": "ipython",
    "version": 3
   },
   "file_extension": ".py",
   "mimetype": "text/x-python",
   "name": "python",
   "nbconvert_exporter": "python",
   "pygments_lexer": "ipython3",
   "version": "3.10.15"
  }
 },
 "nbformat": 4,
 "nbformat_minor": 5
}
