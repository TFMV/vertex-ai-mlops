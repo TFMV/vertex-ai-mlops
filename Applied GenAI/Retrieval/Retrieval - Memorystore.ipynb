{
 "cells": [
  {
   "cell_type": "markdown",
   "id": "e89180c9",
   "metadata": {},
   "source": [
    "![tracker](https://us-central1-vertex-ai-mlops-369716.cloudfunctions.net/pixel-tracking?path=statmike%2Fvertex-ai-mlops%2FApplied+GenAI%2FRetrieval&file=Retrieval+-+Memorystore.ipynb)\n",
    "<!--- header table --->\n",
    "<table align=\"left\">\n",
    "  <td style=\"text-align: center\">\n",
    "    <a href=\"https://colab.research.google.com/github/statmike/vertex-ai-mlops/blob/main/Applied%20GenAI/Retrieval/Retrieval%20-%20Memorystore.ipynb\">\n",
    "      <img src=\"https://cloud.google.com/ml-engine/images/colab-logo-32px.png\" alt=\"Google Colaboratory logo\">\n",
    "      <br>Run in<br>Colab\n",
    "    </a>\n",
    "  </td>\n",
    "  <td style=\"text-align: center\">\n",
    "    <a href=\"https://console.cloud.google.com/vertex-ai/colab/import/https%3A%2F%2Fraw.githubusercontent.com%2Fstatmike%2Fvertex-ai-mlops%2Fmain%2FApplied%2520GenAI%2FRetrieval%2FRetrieval%2520-%2520Memorystore.ipynb\">\n",
    "      <img width=\"32px\" src=\"https://lh3.googleusercontent.com/JmcxdQi-qOpctIvWKgPtrzZdJJK-J3sWE1RsfjZNwshCFgE_9fULcNpuXYTilIR2hjwN\" alt=\"Google Cloud Colab Enterprise logo\">\n",
    "      <br>Run in<br>Colab Enterprise\n",
    "    </a>\n",
    "  </td>      \n",
    "  <td style=\"text-align: center\">\n",
    "    <a href=\"https://github.com/statmike/vertex-ai-mlops/blob/main/Applied%20GenAI/Retrieval/Retrieval%20-%20Memorystore.ipynb\">\n",
    "      <img src=\"https://cloud.google.com/ml-engine/images/github-logo-32px.png\" alt=\"GitHub logo\">\n",
    "      <br>View on<br>GitHub\n",
    "    </a>\n",
    "  </td>\n",
    "  <td style=\"text-align: center\">\n",
    "    <a href=\"https://console.cloud.google.com/vertex-ai/workbench/deploy-notebook?download_url=https://raw.githubusercontent.com/statmike/vertex-ai-mlops/main/Applied%20GenAI/Retrieval/Retrieval%20-%20Memorystore.ipynb\">\n",
    "      <img src=\"https://lh3.googleusercontent.com/UiNooY4LUgW_oTvpsNhPpQzsstV5W8F7rYgxgGBD85cWJoLmrOzhVs_ksK_vgx40SHs7jCqkTkCk=e14-rj-sc0xffffff-h130-w32\" alt=\"Vertex AI logo\">\n",
    "      <br>Open in<br>Vertex AI Workbench\n",
    "    </a>\n",
    "  </td>\n",
    "</table>"
   ]
  },
  {
   "cell_type": "markdown",
   "id": "96b0e8e6-d761-4540-9d09-8f0c4ce9a020",
   "metadata": {},
   "source": [
    "# Retrieval - Memorystore (Redis)\n",
    "<p style=\"font-size: 45px;\">IN PROGRESS - NOT COMPLETE</p>\n",
    "\n",
    "In prior workflows, a series of documents was [processed into chunks](../Chunking/readme.md), and for each chunk, [embeddings](../Embeddings/readme.md) were created:\n",
    "\n",
    "- Process: [Large Document Processing - Document AI Layout Parser](../Chunking/Large%20Document%20Processing%20-%20Document%20AI%20Layout%20Parser.ipynb)\n",
    "- Embed: [Vertex AI Text Embeddings API](../Embeddings/Vertex%20AI%20Text%20Embeddings%20API.ipynb)\n",
    "\n",
    "Retrieving chunks for a query involves calculating the embedding for the query and then using similarity metrics to find relevant chunks. A thorough review of similarity matching can be found in [The Math of Similarity](../Embeddings/The%20Math%20of%20Similarity.ipynb) - use dot product! As development moves from experiment to application, the process of storing and computing similarity is migrated to a [retrieval](./readme.md) system. This workflow is part of a [series of workflows exploring many retrieval systems](./readme.md).\n",
    "\n",
    "**Memorystore For Storage, Indexing, And Search**\n",
    "\n",
    "[Google Cloud Memorystore](https://cloud.google.com/memorystore) is a fully managed in-memory data store service that can be used to enhance the performance of applications by caching frequently accessed data. Memorystore offers several in-memory database options, including [Redis](https://cloud.google.com/memorystore/docs/redis), [Redis Cluster](https://cloud.google.com/memorystore/docs/cluster), [Memcached](https://cloud.google.com/memorystore/docs/memcached), and [Valkey](https://cloud.google.com/memorystore/docs/valkey/). Each option provides unique features and capabilities to suit different needs.\n",
    "\n",
    "This example uses [Redis](https://redis.io/docs/latest/), which is an open-source, in-memory data store that can be used as a database, cache, message broker, and streaming engine. In Redis, data is stored as key-value pairs. The key serves as an identifier to request or retrieve specific data. Redis offers a [variety of data types](https://redis.io/docs/latest/develop/data-types/) for values, including strings, lists, sets, hashes, and sorted sets. These data types provide flexibility in how you structure and organize your data. In addition to basic retrieval using keys, Redis offers querying capabilities across data elements, [including vector search](https://cloud.google.com/memorystore/docs/redis/about-vector-search) for efficient similarity matching.\n",
    "\n",
    "**Use Case Data**\n",
    "\n",
    "Buying a home usually involves borrowing money from a lending institution, typically through a mortgage secured by the home's value. But how do these institutions manage the risks associated with such large loans, and how are lending standards established?\n",
    "\n",
    "In the United States, two government-sponsored enterprises (GSEs) play a vital role in the housing market:\n",
    "\n",
    "- Federal National Mortgage Association ([Fannie Mae](https://www.fanniemae.com/))\n",
    "- Federal Home Loan Mortgage Corporation ([Freddie Mac](https://www.freddiemac.com/))\n",
    "\n",
    "These GSEs purchase mortgages from lenders, enabling those lenders to offer more loans. This process also allows Fannie Mae and Freddie Mac to set standards for mortgages, ensuring they are responsible and borrowers are more likely to repay them. This system makes homeownership more affordable and stabilizes the housing market by maintaining a steady flow of liquidity for lenders and keeping interest rates controlled.\n",
    "\n",
    "However, navigating the complexities of these GSEs and their extensive servicing guides can be challenging.\n",
    "\n",
    "**Approaches**\n",
    "\n",
    "[This series](../readme.md) covers many generative AI workflows. These documents are used directly as long context for Gemini in the workflow [Long Context Retrieval With The Vertex AI Gemini API](../Generate/Long%20Context%20Retrieval%20With%20The%20Vertex%20AI%20Gemini%20API.ipynb). The workflow below uses a [retrieval](./readme.md) approach with the already generated chunks and embeddings."
   ]
  },
  {
   "cell_type": "markdown",
   "id": "be889472-69b0-416c-9cf1-edc9706fa5c5",
   "metadata": {
    "id": "od_UkDpvRmgD"
   },
   "source": [
    "---\n",
    "## Colab Setup\n",
    "\n",
    "When running this notebook in [Colab](https://colab.google/) or [Colab Enterprise](https://cloud.google.com/colab/docs/introduction), this section will authenticate to GCP (follow prompts in the popup) and set the current project for the session."
   ]
  },
  {
   "cell_type": "code",
   "execution_count": 1,
   "id": "21f75ba8-df50-466e-a5ec-f2a6dd88eb26",
   "metadata": {
    "executionInfo": {
     "elapsed": 195,
     "status": "ok",
     "timestamp": 1683726184843,
     "user": {
      "displayName": "Mike Henderson",
      "userId": "07691629187611687318"
     },
     "user_tz": 240
    },
    "id": "8UO9FnqyKBlF",
    "tags": []
   },
   "outputs": [],
   "source": [
    "PROJECT_ID = 'statmike-mlops-349915' # replace with project ID"
   ]
  },
  {
   "cell_type": "code",
   "execution_count": 2,
   "id": "9c325515-1ea0-45cc-82d3-a1bfb1c52155",
   "metadata": {
    "colab": {
     "base_uri": "https://localhost:8080/"
    },
    "executionInfo": {
     "elapsed": 68869,
     "status": "ok",
     "timestamp": 1683726253709,
     "user": {
      "displayName": "Mike Henderson",
      "userId": "07691629187611687318"
     },
     "user_tz": 240
    },
    "id": "N98-KK7LRkjm",
    "outputId": "09ec5008-0def-4e1a-c349-c598ee752f78",
    "tags": []
   },
   "outputs": [],
   "source": [
    "try:\n",
    "    from google.colab import auth\n",
    "    auth.authenticate_user()\n",
    "    !gcloud config set project {PROJECT_ID}\n",
    "except Exception:\n",
    "    pass"
   ]
  },
  {
   "cell_type": "markdown",
   "id": "055a4bd7-7b47-43ef-ba14-636c955e44e3",
   "metadata": {},
   "source": [
    "---\n",
    "## Installs and API Enablement\n",
    "\n",
    "The clients packages may need installing in this environment. "
   ]
  },
  {
   "cell_type": "markdown",
   "id": "410502ee-6fe3-4624-a69a-960ad7105f10",
   "metadata": {},
   "source": [
    "### Installs (If Needed)"
   ]
  },
  {
   "cell_type": "code",
   "execution_count": 3,
   "id": "f4dbdb83-3170-430c-b60d-3d686222a168",
   "metadata": {
    "tags": []
   },
   "outputs": [],
   "source": [
    "# tuples of (import name, install name, min_version)\n",
    "packages = [\n",
    "    ('google.cloud.aiplatform', 'google-cloud-aiplatform', '1.69.0'),\n",
    "    ('google.cloud.redis', 'google-cloud-redis'),\n",
    "    ('redis', 'redis')\n",
    "]\n",
    "\n",
    "import importlib\n",
    "install = False\n",
    "for package in packages:\n",
    "    if not importlib.util.find_spec(package[0]):\n",
    "        print(f'installing package {package[1]}')\n",
    "        install = True\n",
    "        !pip install {package[1]} -U -q --user\n",
    "    elif len(package) == 3:\n",
    "        if importlib.metadata.version(package[0]) < package[2]:\n",
    "            print(f'updating package {package[1]}')\n",
    "            install = True\n",
    "            !pip install {package[1]} -U -q --user"
   ]
  },
  {
   "cell_type": "markdown",
   "id": "25374857-7d37-4c84-8cbb-a3c2fc7bb065",
   "metadata": {},
   "source": [
    "### API Enablement"
   ]
  },
  {
   "cell_type": "code",
   "execution_count": 4,
   "id": "9b7300a8-7e3a-4a08-95c0-91186237753f",
   "metadata": {
    "tags": []
   },
   "outputs": [],
   "source": [
    "!gcloud services enable aiplatform.googleapis.com\n",
    "!gcloud services enable redis.googleapis.com"
   ]
  },
  {
   "cell_type": "markdown",
   "id": "157d09ba-9774-495f-8ced-3382bf75be8f",
   "metadata": {},
   "source": [
    "### Restart Kernel (If Installs Occured)\n",
    "\n",
    "After a kernel restart the code submission can start with the next cell after this one."
   ]
  },
  {
   "cell_type": "code",
   "execution_count": 5,
   "id": "f9864153-66c8-43e1-ae96-1179632ccf7d",
   "metadata": {
    "tags": []
   },
   "outputs": [],
   "source": [
    "if install:\n",
    "    import IPython\n",
    "    app = IPython.Application.instance()\n",
    "    app.kernel.do_shutdown(True)\n",
    "    IPython.display.display(IPython.display.Markdown(\"\"\"<div class=\\\"alert alert-block alert-warning\\\">\n",
    "        <b>⚠️ The kernel is going to restart. Please wait until it is finished before continuing to the next step. The previous cells do not need to be run again⚠️</b>\n",
    "        </div>\"\"\"))"
   ]
  },
  {
   "cell_type": "markdown",
   "id": "09a1ab41-cb32-4398-86dc-d30effb88a36",
   "metadata": {
    "id": "appt8-yVRtJ1"
   },
   "source": [
    "---\n",
    "## Setup"
   ]
  },
  {
   "cell_type": "markdown",
   "id": "2cebe11b-9ca1-4f3e-aa78-78640ff01ec8",
   "metadata": {
    "id": "63mx2EozRxFP"
   },
   "source": [
    "Inputs"
   ]
  },
  {
   "cell_type": "code",
   "execution_count": 6,
   "id": "ab2239cd-40ab-416d-bac0-0c6953d911b6",
   "metadata": {
    "colab": {
     "base_uri": "https://localhost:8080/",
     "height": 35
    },
    "executionInfo": {
     "elapsed": 2124,
     "status": "ok",
     "timestamp": 1683726390544,
     "user": {
      "displayName": "Mike Henderson",
      "userId": "07691629187611687318"
     },
     "user_tz": 240
    },
    "id": "xzcoXjM5Rky5",
    "outputId": "b3bdcbc1-70d5-472e-aea2-42c74a42efde",
    "tags": []
   },
   "outputs": [
    {
     "data": {
      "text/plain": [
       "'statmike-mlops-349915'"
      ]
     },
     "execution_count": 6,
     "metadata": {},
     "output_type": "execute_result"
    }
   ],
   "source": [
    "project = !gcloud config get-value project\n",
    "PROJECT_ID = project[0]\n",
    "PROJECT_ID"
   ]
  },
  {
   "cell_type": "code",
   "execution_count": 31,
   "id": "8aa97f05-66e9-4276-b2e6-83b5a91ca50c",
   "metadata": {
    "executionInfo": {
     "elapsed": 2,
     "status": "ok",
     "timestamp": 1683726390712,
     "user": {
      "displayName": "Mike Henderson",
      "userId": "07691629187611687318"
     },
     "user_tz": 240
    },
    "id": "IxWrFtqYMfku",
    "tags": []
   },
   "outputs": [],
   "source": [
    "REGION = 'us-central1'\n",
    "SERIES = 'applied-genai'\n",
    "EXPERIMENT = 'retrieval-memorystore-redis'\n",
    "\n",
    "# Redis names\n",
    "REDIS_INSTANCE_NAME = EXPERIMENT"
   ]
  },
  {
   "cell_type": "markdown",
   "id": "52bbf65b-5d29-4a72-84ae-d977b9a743a6",
   "metadata": {
    "id": "LuajVwCiO6Yg"
   },
   "source": [
    "Packages"
   ]
  },
  {
   "cell_type": "code",
   "execution_count": 53,
   "id": "559f6e60-a594-4789-893b-295a8381b670",
   "metadata": {
    "executionInfo": {
     "elapsed": 17761,
     "status": "ok",
     "timestamp": 1683726409304,
     "user": {
      "displayName": "Mike Henderson",
      "userId": "07691629187611687318"
     },
     "user_tz": 240
    },
    "id": "LVC7zzSLRk2C",
    "tags": []
   },
   "outputs": [],
   "source": [
    "import os, json, time, glob, datetime, tempfile\n",
    "\n",
    "import numpy as np\n",
    "import redis\n",
    "\n",
    "# Vertex AI\n",
    "from google.cloud import aiplatform\n",
    "import vertexai.language_models # for embeddings API\n",
    "import vertexai.generative_models # for Gemini Models\n",
    "from vertexai.resources.preview import feature_store\n",
    "\n",
    "# memorystore\n",
    "from google.cloud import redis_v1"
   ]
  },
  {
   "cell_type": "code",
   "execution_count": 10,
   "id": "d3fef31f-928f-45f2-a3f4-292ee242232c",
   "metadata": {
    "tags": []
   },
   "outputs": [
    {
     "data": {
      "text/plain": [
       "'1.69.0'"
      ]
     },
     "execution_count": 10,
     "metadata": {},
     "output_type": "execute_result"
    }
   ],
   "source": [
    "aiplatform.__version__"
   ]
  },
  {
   "cell_type": "markdown",
   "id": "5758c07e-f064-40fb-a0ef-de6cbde5cd0a",
   "metadata": {
    "id": "EyAVFG9TO9H-"
   },
   "source": [
    "Clients"
   ]
  },
  {
   "cell_type": "code",
   "execution_count": 25,
   "id": "3b72f3bb-176b-4678-ba6b-df9b2de14997",
   "metadata": {
    "executionInfo": {
     "elapsed": 19,
     "status": "ok",
     "timestamp": 1683726409306,
     "user": {
      "displayName": "Mike Henderson",
      "userId": "07691629187611687318"
     },
     "user_tz": 240
    },
    "id": "L0RPE13LOZce",
    "tags": []
   },
   "outputs": [],
   "source": [
    "# vertex ai clients\n",
    "vertexai.init(project = PROJECT_ID, location = REGION)\n",
    "\n",
    "# memorystore clients\n",
    "redis_client = redis_v1.CloudRedisClient()"
   ]
  },
  {
   "cell_type": "markdown",
   "id": "8579282f-2723-4294-b72a-a65cc0831f44",
   "metadata": {},
   "source": [
    "---\n",
    "## Text & Embeddings For Examples\n",
    "\n",
    "This repository contains a [section for document processing (chunking)](../Chunking/readme.md) that includes an example of processing mulitple large pdfs (over 1000 pages) into chunks: [Large Document Processing - Document AI Layout Parser](../Chunking/Large%20Document%20Processing%20-%20Document%20AI%20Layout%20Parser.ipynb).  The chunks of text from that workflow are stored with this repository and loaded by another companion workflow that augments the chunks with text embeddings: [Vertex AI Text Embeddings API](../Embeddings/Vertex%20AI%20Text%20Embeddings%20API.ipynb).\n",
    "\n",
    "The following code will load the version of the chunks that includes text embeddings and prepare it for a local example of retrival augmented generation."
   ]
  },
  {
   "cell_type": "markdown",
   "id": "1e12cbe2-3ca6-4656-9e73-c0db5c63bf50",
   "metadata": {},
   "source": [
    "### Get The Documents\n",
    "\n",
    "If you are working from a clone of this notebooks [repository](https://github.com/statmike/vertex-ai-mlops) then the documents are already present. The following cell checks for the documents folder and if it is missing gets it (`git clone`):"
   ]
  },
  {
   "cell_type": "code",
   "execution_count": 12,
   "id": "6f4e77ed-43f7-42be-9575-6a491c0d6cba",
   "metadata": {
    "tags": []
   },
   "outputs": [],
   "source": [
    "local_dir = '../Embeddings/files/embeddings-api'"
   ]
  },
  {
   "cell_type": "code",
   "execution_count": 13,
   "id": "63ebe7c3-e72c-4394-91c3-d60c05bc0ce2",
   "metadata": {
    "tags": []
   },
   "outputs": [
    {
     "name": "stdout",
     "output_type": "stream",
     "text": [
      "Documents Found in folder `../Embeddings/files/embeddings-api`\n"
     ]
    }
   ],
   "source": [
    "if not os.path.exists(local_dir):\n",
    "    print('Retrieving documents...')\n",
    "    parent_dir = os.path.dirname(local_dir)\n",
    "    temp_dir = os.path.join(parent_dir, 'temp')\n",
    "    if not os.path.exists(temp_dir):\n",
    "        os.makedirs(temp_dir)\n",
    "    !git clone https://www.github.com/statmike/vertex-ai-mlops {temp_dir}/vertex-ai-mlops\n",
    "    shutil.copytree(f'{temp_dir}/vertex-ai-mlops/Applied GenAI/Embeddings/files/embeddings-api', local_dir)\n",
    "    shutil.rmtree(temp_dir)\n",
    "    print(f'Documents are now in folder `{local_dir}`')\n",
    "else:\n",
    "    print(f'Documents Found in folder `{local_dir}`')             "
   ]
  },
  {
   "cell_type": "markdown",
   "id": "33e68a84-9f88-4590-9ff1-e01c8a953ccf",
   "metadata": {},
   "source": [
    "### Load The Chunks"
   ]
  },
  {
   "cell_type": "code",
   "execution_count": 14,
   "id": "58d04382-a74a-44ac-8824-3b46c86aa148",
   "metadata": {
    "tags": []
   },
   "outputs": [
    {
     "data": {
      "text/plain": [
       "['../Embeddings/files/embeddings-api/large-files-chunk-embeddings-0000.jsonl',\n",
       " '../Embeddings/files/embeddings-api/large-files-chunk-embeddings-0001.jsonl',\n",
       " '../Embeddings/files/embeddings-api/large-files-chunk-embeddings-0002.jsonl',\n",
       " '../Embeddings/files/embeddings-api/large-files-chunk-embeddings-0003.jsonl',\n",
       " '../Embeddings/files/embeddings-api/large-files-chunk-embeddings-0004.jsonl',\n",
       " '../Embeddings/files/embeddings-api/large-files-chunk-embeddings-0005.jsonl',\n",
       " '../Embeddings/files/embeddings-api/large-files-chunk-embeddings-0006.jsonl',\n",
       " '../Embeddings/files/embeddings-api/large-files-chunk-embeddings-0007.jsonl',\n",
       " '../Embeddings/files/embeddings-api/large-files-chunk-embeddings-0008.jsonl',\n",
       " '../Embeddings/files/embeddings-api/large-files-chunk-embeddings-0009.jsonl']"
      ]
     },
     "execution_count": 14,
     "metadata": {},
     "output_type": "execute_result"
    }
   ],
   "source": [
    "jsonl_files = glob.glob(f\"{local_dir}/large-files*.jsonl\")\n",
    "jsonl_files.sort()\n",
    "jsonl_files"
   ]
  },
  {
   "cell_type": "code",
   "execution_count": 15,
   "id": "a54c6c96-6c28-49bb-80be-5d46797dfe77",
   "metadata": {
    "tags": []
   },
   "outputs": [
    {
     "data": {
      "text/plain": [
       "9040"
      ]
     },
     "execution_count": 15,
     "metadata": {},
     "output_type": "execute_result"
    }
   ],
   "source": [
    "chunks = []\n",
    "for file in jsonl_files:\n",
    "    with open(file, 'r') as f:\n",
    "        chunks.extend([json.loads(line) for line in f])\n",
    "len(chunks)"
   ]
  },
  {
   "cell_type": "markdown",
   "id": "a70115ec-6d60-41df-b7e6-9e2e5b463b1d",
   "metadata": {},
   "source": [
    "### Review A Chunk"
   ]
  },
  {
   "cell_type": "code",
   "execution_count": 16,
   "id": "fc20423e-e3d6-4e90-9e98-a5248508c82d",
   "metadata": {
    "tags": []
   },
   "outputs": [
    {
     "data": {
      "text/plain": [
       "dict_keys(['instance', 'predictions', 'status'])"
      ]
     },
     "execution_count": 16,
     "metadata": {},
     "output_type": "execute_result"
    }
   ],
   "source": [
    "chunks[0].keys()"
   ]
  },
  {
   "cell_type": "code",
   "execution_count": 17,
   "id": "1955ea39-4ffc-4d30-b653-a5a9911f2dab",
   "metadata": {
    "tags": []
   },
   "outputs": [
    {
     "data": {
      "text/plain": [
       "'fannie_part_0_c17'"
      ]
     },
     "execution_count": 17,
     "metadata": {},
     "output_type": "execute_result"
    }
   ],
   "source": [
    "chunks[0]['instance']['chunk_id']"
   ]
  },
  {
   "cell_type": "code",
   "execution_count": 18,
   "id": "3537982c-4a0e-456c-a652-19ea7507873b",
   "metadata": {
    "tags": []
   },
   "outputs": [
    {
     "name": "stdout",
     "output_type": "stream",
     "text": [
      "# Selling Guide Fannie Mae Single Family\n",
      "\n",
      "## Fannie Mae Copyright Notice\n",
      "\n",
      "### Fannie Mae Copyright Notice\n",
      "\n",
      "|-|\n",
      "| Section B3-4.2, Verification of Depository Assets 402 |\n",
      "| B3-4.2-01, Verification of Deposits and Assets (05/04/2022) 403 |\n",
      "| B3-4.2-02, Depository Accounts (12/14/2022) 405 |\n",
      "| B3-4.2-03, Individual Development Accounts (02/06/2019) 408 |\n",
      "| B3-4.2-04, Pooled Savings (Community Savings Funds) (04/01/2009) 411 |\n",
      "| B3-4.2-05, Foreign Assets (05/04/2022) 411 |\n",
      "| Section B3-4.3, Verification of Non-Depository Assets 412 |\n",
      "| B3-4.3-01, Stocks, Stock Options, Bonds, and Mutual Funds (06/30/2015) 412 |\n",
      "| B3-4.3-02, Trust Accounts (04/01/2009) 413 |\n",
      "| B3-4.3-03, Retirement Accounts (06/30/2015) 414 |\n",
      "| B3-4.3-04, Personal Gifts (09/06/2023) 415 |\n",
      "| B3-4.3-05, Gifts of Equity (10/07/2020) 418 |\n",
      "| B3-4.3-06, Grants and Lender Contributions (12/14/2022) 419 |\n",
      "| B3-4.3-07, Disaster Relief Grants or Loans (04/01/2009) 423 |\n",
      "| B3-4.3-08, Employer Assistance (09/29/2015) 423 |\n",
      "| B3-4.3-09, Earnest Money Deposit (05/04/2022) 425 |\n",
      "| B3-4.3-10, Anticipated Sales Proceeds (02/23/2016) B3-4.3-11, Trade Equity (12/16/2020) 426 428 |\n",
      "| B3-4.3-12, Rent-Related Credits (08/07/2024) 429 |\n",
      "| B3-4.3-13, Sweat Equity (04/15/2014) 430 |\n",
      "| B3-4.3-14, Bridge/Swing Loans (04/01/2009) 431 |\n",
      "| B3-4.3-15, Borrowed Funds Secured by an Asset (10/30/2009) 431 |\n",
      "|  |\n",
      "\n",
      "\n"
     ]
    }
   ],
   "source": [
    "print(chunks[0]['instance']['content'])"
   ]
  },
  {
   "cell_type": "code",
   "execution_count": 19,
   "id": "49f06293-a439-436b-bc93-cd6cd3fb4aff",
   "metadata": {
    "tags": []
   },
   "outputs": [
    {
     "data": {
      "text/plain": [
       "[0.031277116388082504,\n",
       " 0.03056905046105385,\n",
       " 0.010865348391234875,\n",
       " 0.0623614676296711,\n",
       " 0.03228681534528732,\n",
       " 0.05066155269742012,\n",
       " 0.046544693410396576,\n",
       " 0.05509665608406067,\n",
       " -0.014074751175940037,\n",
       " 0.008380400016903877]"
      ]
     },
     "execution_count": 19,
     "metadata": {},
     "output_type": "execute_result"
    }
   ],
   "source": [
    "chunks[0]['predictions'][0]['embeddings']['values'][0:10]"
   ]
  },
  {
   "cell_type": "markdown",
   "id": "f977358d-d9ea-4172-9eca-66079bb6087d",
   "metadata": {},
   "source": [
    "### Prepare Chunk Structure\n",
    "\n",
    "Make a list of dictionaries with information for each chunk:"
   ]
  },
  {
   "cell_type": "code",
   "execution_count": 142,
   "id": "be9fa708-130c-4343-b179-dbde0b09a972",
   "metadata": {
    "tags": []
   },
   "outputs": [],
   "source": [
    "content_chunks = [\n",
    "    dict(\n",
    "        gse = chunk['instance']['gse'],\n",
    "        chunk_id = chunk['instance']['chunk_id'],\n",
    "        content = chunk['instance']['content'],\n",
    "        embedding = chunk['predictions'][0]['embeddings']['values']\n",
    "    ) for chunk in chunks\n",
    "]"
   ]
  },
  {
   "cell_type": "markdown",
   "id": "d6619605-7b10-444e-a131-db06e56a4be8",
   "metadata": {},
   "source": [
    "### Query Embedding\n",
    "\n",
    "Create a query, or prompt, and get the embedding for it:\n",
    "\n",
    "Connect to models for text embeddings. Learn more about the model API:\n",
    "- [Vertex AI Text Embeddings API](../Embeddings/Vertex%20AI%20Text%20Embeddings%20API.ipynb)"
   ]
  },
  {
   "cell_type": "code",
   "execution_count": 21,
   "id": "3da5d30c-3dfb-42ba-a133-83dceb252787",
   "metadata": {
    "tags": []
   },
   "outputs": [],
   "source": [
    "question = \"Does a lender have to perform servicing functions directly?\""
   ]
  },
  {
   "cell_type": "code",
   "execution_count": 22,
   "id": "7992c26f-d058-4920-80a3-a157b88733e4",
   "metadata": {
    "tags": []
   },
   "outputs": [],
   "source": [
    "embedder = vertexai.language_models.TextEmbeddingModel.from_pretrained('text-embedding-004')"
   ]
  },
  {
   "cell_type": "code",
   "execution_count": 23,
   "id": "bbe6fda7-9cea-49a2-9e2f-9222d50677af",
   "metadata": {
    "tags": []
   },
   "outputs": [
    {
     "data": {
      "text/plain": [
       "[-0.0005117303808219731,\n",
       " 0.009651427157223225,\n",
       " 0.01768726110458374,\n",
       " 0.014538003131747246,\n",
       " -0.01829824410378933,\n",
       " 0.027877431362867355,\n",
       " -0.021124685183167458,\n",
       " 0.008830446749925613,\n",
       " -0.02669006586074829,\n",
       " 0.06414774805307388]"
      ]
     },
     "execution_count": 23,
     "metadata": {},
     "output_type": "execute_result"
    }
   ],
   "source": [
    "question_embedding = embedder.get_embeddings([question])[0].values\n",
    "question_embedding[0:10]"
   ]
  },
  {
   "cell_type": "markdown",
   "id": "0b6ec209-b34a-4837-8c54-a991ad831764",
   "metadata": {},
   "source": [
    "---\n",
    "## Retrieval With Memorystore (Redis)\n",
    "\n",
    "Memorystore offers multiple caching engines as a service: [Valkey](https://cloud.google.com/memorystore/docs/valkey/), [Redis](https://cloud.google.com/memorystore/docs/redis), [Redis Cluster](https://cloud.google.com/memorystore/docs/cluster), and [Memcached](https://cloud.google.com/memorystore/docs/memcached). Redis is offered as a single instance or a clustered instance where the instance is a series of shards that contains subsets of the cached data.\n",
    "\n",
    "This workflow will use a single instance of [Redis](https://cloud.google.com/memorystore/docs/redis) because it [supports vector search](https://cloud.google.com/memorystore/docs/redis/about-vector-search).\n",
    "\n",
    "**Memorystore data structure**\n",
    "\n",
    "Memorystore, Redis in this case, is a key:value pair database.  In this case think of the key as the value that would be used to requests or retrieve data for.  And data is actually a flexible, multi-parameter, object with multiple [possible data types](https://redis.io/docs/latest/develop/data-types/).  Beyond retriving data based on the key there are also querying capabilties across the data elements, including vector search!\n",
    "\n",
    "**Understanding Costs**\n",
    "\n",
    "[Pricing for Memorystore for Redis](https://cloud.google.com/memorystore/docs/redis/pricing) is straightforward and based on these parameters that are part of the instance creation:\n",
    "- **Service Tier**: [read more about service tiers](https://cloud.google.com/memorystore/docs/redis/redis-tiers)\n",
    "    - Basic - a simple Redis cache with a standalone instance (**Used in this workflow.**)\n",
    "    - Standard - A high availability instance with cross-zone replication and automatic failover\n",
    "- **Provisioned capacity**: \n",
    "    - Size in GB priced in $ per GB per hour. Capacity tiers make additional capacity progressively cheaper. (**The Minimum of 1 GB is used in this workflow.**)\n",
    "- **Region**: \n",
    "    - Pricing varies by the region choosen for the instance.\n",
    "- **Replicas**: \n",
    "    - For the Standard Service Tier you have the option to enable read replicas for distributed reads.\n",
    "    \n",
    "    \n",
    "Important Notes on the Approach used here:\n",
    "\n",
    "Redis has a concept called modules: https://redis.io/docs/latest/develop/reference/modules/\n",
    "\n",
    "Redis has core data types that are directly supported: https://redis.io/docs/latest/develop/data-types/#core-data-types\n",
    "\n",
    "Additional data types are enabled by \n",
    "\n",
    "The data types supported in Redis are expanded extension modules: https://redis.io/docs/latest/develop/data-types/#extension-data-types\n",
    "\n",
    "Of note is the JSON data type module extension: https://redis.io/docs/latest/develop/data-types/json/\n",
    "\n",
    "Google Cloud Memorystore Redis support these versions of Redis: https://cloud.google.com/memorystore/docs/redis/supported-versions\n",
    "\n",
    "Which inclues version 7.2 and the build in vector search functionality: https://cloud.google.com/memorystore/docs/redis/supported-versions#redis_version_72\n",
    "\n",
    "Many examples found on the web for using this vector search capability use it with the JSON module, like this one: https://redis.io/docs/latest/develop/get-started/vector-database/\n",
    "\n",
    "An example directly using hashing can be found here: https://redis-py.readthedocs.io/en/stable/examples/search_vector_similarity_examples.html\n",
    "\n",
    "In the supported functionality for Memorystore Redis, modules are not supported.  For this reason, the HASH data type is best to use for vector search feature.  While a Python dictionary is comparable to a HASH\n",
    "- https://redis.io/docs/latest/develop/data-types/#hashes\n",
    "    - https://redis.io/docs/latest/develop/data-types/hashes/\n",
    "- Trying to store a dictionary element that has a value of type list is not possilbe. Like an embedding as a list of floats.  Serializing the embedding as bytes is necessary and covered by this note:\n",
    "    - https://cloud.google.com/memorystore/docs/redis/indexing-vectors\n",
    "\n",
    "\n",
    "\n",
    "Redis Hashes:\n",
    "\n",
    "https://redis.io/docs/latest/develop/data-types/hashes/\n",
    "\n",
    "Can store more key-value pairs than you probably need or have available memory for: (2^32-1).\n",
    "\n",
    "Offer many features like field expiration.\n",
    "\n",
    "More on redis:\n",
    "database, namespaces(prefixes), keys\n"
   ]
  },
  {
   "cell_type": "markdown",
   "id": "011332b0-52a5-4d3b-a211-00e6d82feaae",
   "metadata": {},
   "source": [
    "### Create/Retrieve An Instance\n",
    "\n",
    "https://cloud.google.com/memorystore/docs/redis/redis-tiers\n",
    "\n",
    "https://cloud.google.com/python/docs/reference/redis/latest/google.cloud.redis_v1.services.cloud_redis.CloudRedisClient"
   ]
  },
  {
   "cell_type": "code",
   "execution_count": 83,
   "id": "28fd8700-78cc-4ccb-be99-040f1f19e3bb",
   "metadata": {},
   "outputs": [
    {
     "name": "stdout",
     "output_type": "stream",
     "text": [
      "Retrieved Redis instance: projects/statmike-mlops-349915/locations/us-central1/instances/retrieval-memorystore-redis\n"
     ]
    }
   ],
   "source": [
    "try:\n",
    "    redis_instance = redis_client.get_instance(\n",
    "        name = f\"projects/{PROJECT_ID}/locations/{REGION}/instances/{REDIS_INSTANCE_NAME}\"\n",
    "    )\n",
    "    print(f\"Retrieved Redis instance: {redis_instance.name}\")\n",
    "except Exception:\n",
    "    print(f\"Creating Redis instance ...\")\n",
    "    create_instance = redis_client.create_instance(\n",
    "        parent = f\"projects/{PROJECT_ID}/locations/{REGION}\",\n",
    "        instance_id = REDIS_INSTANCE_NAME,\n",
    "        instance = redis_v1.Instance(\n",
    "            name = f\"projects/{PROJECT_ID}/locations/{REGION}/instances/{REDIS_INSTANCE_NAME}\",\n",
    "            tier = redis_v1.Instance.Tier.BASIC,\n",
    "            memory_size_gb = 1,\n",
    "            redis_version = 'REDIS_7_2',\n",
    "            transit_encryption_mode=redis_v1.Instance.TransitEncryptionMode.SERVER_AUTHENTICATION  # Enable TLS\n",
    "        )\n",
    "    )\n",
    "    response = create_instance.result()\n",
    "    redis_instance = redis_client.get_instance(\n",
    "        name = f\"projects/{PROJECT_ID}/locations/{REGION}/instances/{REDIS_INSTANCE_NAME}\"\n",
    "    )\n",
    "    print(f\"Created Redis instance: {redis_instance.name}\")"
   ]
  },
  {
   "cell_type": "markdown",
   "id": "3968fbd7-a732-4f2d-a17d-957027c955fb",
   "metadata": {},
   "source": [
    "### Connect To Redis Instance"
   ]
  },
  {
   "cell_type": "code",
   "execution_count": 84,
   "id": "da76f3de-a1e3-4b9e-a9f7-53f0d57210a8",
   "metadata": {
    "tags": []
   },
   "outputs": [],
   "source": [
    "with tempfile.NamedTemporaryFile(delete=False) as cert_file:\n",
    "    cert_file.write(redis_instance.server_ca_certs[0].cert.encode())  # Write certificate content\n",
    "    cert_path = cert_file.name"
   ]
  },
  {
   "cell_type": "code",
   "execution_count": 85,
   "id": "1571c6f5-da7f-4686-aafb-2be39c461af5",
   "metadata": {
    "tags": []
   },
   "outputs": [],
   "source": [
    "client = redis.Redis(\n",
    "    host = redis_instance.host,\n",
    "    port = redis_instance.port,\n",
    "    ssl = True,\n",
    "    ssl_ca_certs = cert_path,\n",
    "    decode_responses = True\n",
    ")"
   ]
  },
  {
   "cell_type": "code",
   "execution_count": 86,
   "id": "3ebbb366-b419-4dc8-83e9-705e4428752c",
   "metadata": {
    "tags": []
   },
   "outputs": [
    {
     "name": "stdout",
     "output_type": "stream",
     "text": [
      "Connected to Redis successfully!\n"
     ]
    }
   ],
   "source": [
    "try:\n",
    "    client.ping()\n",
    "    print(\"Connected to Redis successfully!\")\n",
    "except Exception as e:\n",
    "    print(f\"Error connecting to Redis: {e}\")"
   ]
  },
  {
   "cell_type": "markdown",
   "id": "bee9bc18-4279-44a5-8ec9-699628b2a1e2",
   "metadata": {},
   "source": [
    "### Prepare Data For Redis\n",
    "\n",
    "There are multiple storage [data formats](https://redis.io/docs/latest/develop/data-types/) possible with Redis.  A [Hash](https://redis.io/docs/latest/develop/data-types/hashes/) is like a Python dictionary and offers many advantages, like the vector search capability that will be used here.  To use the hash data type the embedding need to be serialized before inserting: https://cloud.google.com/memorystore/docs/redis/indexing-vectors"
   ]
  },
  {
   "cell_type": "code",
   "execution_count": 147,
   "id": "2213bb75-4070-4279-9dae-0aceba022f59",
   "metadata": {
    "tags": []
   },
   "outputs": [
    {
     "data": {
      "text/plain": [
       "dict_keys(['gse', 'chunk_id', 'content', 'embedding'])"
      ]
     },
     "execution_count": 147,
     "metadata": {},
     "output_type": "execute_result"
    }
   ],
   "source": [
    "content_chunks[0].keys()"
   ]
  },
  {
   "cell_type": "code",
   "execution_count": 148,
   "id": "4026ccec-59e2-44c8-81d7-49c41d17a075",
   "metadata": {
    "tags": []
   },
   "outputs": [],
   "source": [
    "for chunk in content_chunks:\n",
    "    chunk['embedding'] = np.array(chunk['embedding'], dtype = np.float32).tobytes()"
   ]
  },
  {
   "cell_type": "code",
   "execution_count": 149,
   "id": "aba5ebce-b791-4498-8368-60a838c9f517",
   "metadata": {
    "tags": []
   },
   "outputs": [],
   "source": [
    "#content_chunks[0]['embedding']"
   ]
  },
  {
   "cell_type": "markdown",
   "id": "5a72b632-b01f-4ba5-8e8b-9ab8785f6eb3",
   "metadata": {},
   "source": [
    "### Add/Retrive First Document To The Instance"
   ]
  },
  {
   "cell_type": "code",
   "execution_count": 150,
   "id": "b575010a-11c5-4b43-b3e5-8ed57492a6e6",
   "metadata": {
    "tags": []
   },
   "outputs": [],
   "source": [
    "first_record = content_chunks[0]"
   ]
  },
  {
   "cell_type": "code",
   "execution_count": 151,
   "id": "e6a36677-d8e5-47fc-b1d4-237282bcb0fc",
   "metadata": {
    "tags": []
   },
   "outputs": [
    {
     "data": {
      "text/plain": [
       "dict_keys(['gse', 'chunk_id', 'content', 'embedding'])"
      ]
     },
     "execution_count": 151,
     "metadata": {},
     "output_type": "execute_result"
    }
   ],
   "source": [
    "first_record.keys()"
   ]
  },
  {
   "cell_type": "code",
   "execution_count": 152,
   "id": "d2463d83-aa30-434c-92fd-76244fef318d",
   "metadata": {
    "tags": []
   },
   "outputs": [
    {
     "data": {
      "text/plain": [
       "'fannie_part_0_c17'"
      ]
     },
     "execution_count": 152,
     "metadata": {},
     "output_type": "execute_result"
    }
   ],
   "source": [
    "first_record['chunk_id']"
   ]
  },
  {
   "cell_type": "code",
   "execution_count": 153,
   "id": "5aa7454c-2c13-4478-84e5-a9c417398d82",
   "metadata": {
    "tags": []
   },
   "outputs": [
    {
     "name": "stdout",
     "output_type": "stream",
     "text": [
      "Adding the record to the database: fannie_part_0_c17\n"
     ]
    }
   ],
   "source": [
    "if client.exists(first_record['chunk_id']):\n",
    "    print(f\"Found this record already in the database: {first_record['chunk_id']}\")\n",
    "else:\n",
    "    print(f\"Adding the record to the database: {first_record['chunk_id']}\")\n",
    "    client.hset(first_record['chunk_id'], mapping = first_record)"
   ]
  },
  {
   "cell_type": "code",
   "execution_count": 154,
   "id": "b706da4a-8154-4ee0-b541-2f50c20e5f16",
   "metadata": {
    "tags": []
   },
   "outputs": [
    {
     "data": {
      "text/plain": [
       "'fannie'"
      ]
     },
     "execution_count": 154,
     "metadata": {},
     "output_type": "execute_result"
    }
   ],
   "source": [
    "client.hget(first_record['chunk_id'], 'gse')"
   ]
  },
  {
   "cell_type": "code",
   "execution_count": 155,
   "id": "7e152d41-d1e2-420e-8713-9e57633c00d2",
   "metadata": {
    "tags": []
   },
   "outputs": [
    {
     "data": {
      "text/plain": [
       "'# Selling Guide Fannie Mae Single Family\\n\\n## Fannie Mae Copyright Notice\\n\\n### Fannie Mae Copyright Notice\\n\\n|-|\\n| Section B3-4.2, Verification of Depository Assets 402 |\\n| B3-4.2-01, Verification of Deposits and Assets (05/04/2022) 403 |\\n| B3-4.2-02, Depository Accounts (12/14/2022) 405 |\\n| B3-4.2-03, Individual Development Accounts (02/06/2019) 408 |\\n| B3-4.2-04, Pooled Savings (Community Savings Funds) (04/01/2009) 411 |\\n| B3-4.2-05, Foreign Assets (05/04/2022) 411 |\\n| Section B3-4.3, Verification of Non-Depository Assets 412 |\\n| B3-4.3-01, Stocks, Stock Options, Bonds, and Mutual Funds (06/30/2015) 412 |\\n| B3-4.3-02, Trust Accounts (04/01/2009) 413 |\\n| B3-4.3-03, Retirement Accounts (06/30/2015) 414 |\\n| B3-4.3-04, Personal Gifts (09/06/2023) 415 |\\n| B3-4.3-05, Gifts of Equity (10/07/2020) 418 |\\n| B3-4.3-06, Grants and Lender Contributions (12/14/2022) 419 |\\n| B3-4.3-07, Disaster Relief Grants or Loans (04/01/2009) 423 |\\n| B3-4.3-08, Employer Assistance (09/29/2015) 423 |\\n| B3-4.3-09, Earnest Money Deposit (05/04/2022) 425 |\\n| B3-4.3-10, Anticipated Sales Proceeds (02/23/2016) B3-4.3-11, Trade Equity (12/16/2020) 426 428 |\\n| B3-4.3-12, Rent-Related Credits (08/07/2024) 429 |\\n| B3-4.3-13, Sweat Equity (04/15/2014) 430 |\\n| B3-4.3-14, Bridge/Swing Loans (04/01/2009) 431 |\\n| B3-4.3-15, Borrowed Funds Secured by an Asset (10/30/2009) 431 |\\n|  |\\n\\n'"
      ]
     },
     "execution_count": 155,
     "metadata": {},
     "output_type": "execute_result"
    }
   ],
   "source": [
    "client.hget(first_record['chunk_id'], 'content')"
   ]
  },
  {
   "cell_type": "code",
   "execution_count": 156,
   "id": "52dc1493-1111-41be-aa4c-2be6b881b370",
   "metadata": {
    "tags": []
   },
   "outputs": [
    {
     "data": {
      "text/plain": [
       "['fannie',\n",
       " '# Selling Guide Fannie Mae Single Family\\n\\n## Fannie Mae Copyright Notice\\n\\n### Fannie Mae Copyright Notice\\n\\n|-|\\n| Section B3-4.2, Verification of Depository Assets 402 |\\n| B3-4.2-01, Verification of Deposits and Assets (05/04/2022) 403 |\\n| B3-4.2-02, Depository Accounts (12/14/2022) 405 |\\n| B3-4.2-03, Individual Development Accounts (02/06/2019) 408 |\\n| B3-4.2-04, Pooled Savings (Community Savings Funds) (04/01/2009) 411 |\\n| B3-4.2-05, Foreign Assets (05/04/2022) 411 |\\n| Section B3-4.3, Verification of Non-Depository Assets 412 |\\n| B3-4.3-01, Stocks, Stock Options, Bonds, and Mutual Funds (06/30/2015) 412 |\\n| B3-4.3-02, Trust Accounts (04/01/2009) 413 |\\n| B3-4.3-03, Retirement Accounts (06/30/2015) 414 |\\n| B3-4.3-04, Personal Gifts (09/06/2023) 415 |\\n| B3-4.3-05, Gifts of Equity (10/07/2020) 418 |\\n| B3-4.3-06, Grants and Lender Contributions (12/14/2022) 419 |\\n| B3-4.3-07, Disaster Relief Grants or Loans (04/01/2009) 423 |\\n| B3-4.3-08, Employer Assistance (09/29/2015) 423 |\\n| B3-4.3-09, Earnest Money Deposit (05/04/2022) 425 |\\n| B3-4.3-10, Anticipated Sales Proceeds (02/23/2016) B3-4.3-11, Trade Equity (12/16/2020) 426 428 |\\n| B3-4.3-12, Rent-Related Credits (08/07/2024) 429 |\\n| B3-4.3-13, Sweat Equity (04/15/2014) 430 |\\n| B3-4.3-14, Bridge/Swing Loans (04/01/2009) 431 |\\n| B3-4.3-15, Borrowed Funds Secured by an Asset (10/30/2009) 431 |\\n|  |\\n\\n']"
      ]
     },
     "execution_count": 156,
     "metadata": {},
     "output_type": "execute_result"
    }
   ],
   "source": [
    "client.hmget(first_record['chunk_id'], ['gse', 'content'])"
   ]
  },
  {
   "cell_type": "code",
   "execution_count": 157,
   "id": "dabddfe3-ccc8-466a-baf3-b47becbd4713",
   "metadata": {
    "tags": []
   },
   "outputs": [
    {
     "data": {
      "text/plain": [
       "1"
      ]
     },
     "execution_count": 157,
     "metadata": {},
     "output_type": "execute_result"
    }
   ],
   "source": [
    "client.hdel(first_record['chunk_id'], 'embedding')"
   ]
  },
  {
   "cell_type": "code",
   "execution_count": 158,
   "id": "598f8183-fd83-4278-9d6c-63569e5a6f33",
   "metadata": {
    "tags": []
   },
   "outputs": [
    {
     "data": {
      "text/plain": [
       "{'chunk_id': 'fannie_part_0_c17',\n",
       " 'content': '# Selling Guide Fannie Mae Single Family\\n\\n## Fannie Mae Copyright Notice\\n\\n### Fannie Mae Copyright Notice\\n\\n|-|\\n| Section B3-4.2, Verification of Depository Assets 402 |\\n| B3-4.2-01, Verification of Deposits and Assets (05/04/2022) 403 |\\n| B3-4.2-02, Depository Accounts (12/14/2022) 405 |\\n| B3-4.2-03, Individual Development Accounts (02/06/2019) 408 |\\n| B3-4.2-04, Pooled Savings (Community Savings Funds) (04/01/2009) 411 |\\n| B3-4.2-05, Foreign Assets (05/04/2022) 411 |\\n| Section B3-4.3, Verification of Non-Depository Assets 412 |\\n| B3-4.3-01, Stocks, Stock Options, Bonds, and Mutual Funds (06/30/2015) 412 |\\n| B3-4.3-02, Trust Accounts (04/01/2009) 413 |\\n| B3-4.3-03, Retirement Accounts (06/30/2015) 414 |\\n| B3-4.3-04, Personal Gifts (09/06/2023) 415 |\\n| B3-4.3-05, Gifts of Equity (10/07/2020) 418 |\\n| B3-4.3-06, Grants and Lender Contributions (12/14/2022) 419 |\\n| B3-4.3-07, Disaster Relief Grants or Loans (04/01/2009) 423 |\\n| B3-4.3-08, Employer Assistance (09/29/2015) 423 |\\n| B3-4.3-09, Earnest Money Deposit (05/04/2022) 425 |\\n| B3-4.3-10, Anticipated Sales Proceeds (02/23/2016) B3-4.3-11, Trade Equity (12/16/2020) 426 428 |\\n| B3-4.3-12, Rent-Related Credits (08/07/2024) 429 |\\n| B3-4.3-13, Sweat Equity (04/15/2014) 430 |\\n| B3-4.3-14, Bridge/Swing Loans (04/01/2009) 431 |\\n| B3-4.3-15, Borrowed Funds Secured by an Asset (10/30/2009) 431 |\\n|  |\\n\\n',\n",
       " 'gse': 'fannie'}"
      ]
     },
     "execution_count": 158,
     "metadata": {},
     "output_type": "execute_result"
    }
   ],
   "source": [
    "client.hgetall(first_record['chunk_id'])"
   ]
  },
  {
   "cell_type": "code",
   "execution_count": 159,
   "id": "1bdd656a-7781-4bc4-95d6-7ccbb5c075cd",
   "metadata": {
    "tags": []
   },
   "outputs": [
    {
     "data": {
      "text/plain": [
       "1"
      ]
     },
     "execution_count": 159,
     "metadata": {},
     "output_type": "execute_result"
    }
   ],
   "source": [
    "client.delete(first_record['chunk_id'])"
   ]
  },
  {
   "cell_type": "markdown",
   "id": "f38b9077-ac0f-4884-8b10-5522a7f008d3",
   "metadata": {},
   "source": [
    "### Load All Documents To The Instance\n",
    "\n",
    "Use a pipeline to efficiently load all the records.\n",
    "\n",
    "https://redis-py.readthedocs.io/en/stable/examples/pipeline_examples.html"
   ]
  },
  {
   "cell_type": "code",
   "execution_count": 207,
   "id": "ccfacb9d-0189-428f-9e8b-e6e21248c6a8",
   "metadata": {
    "tags": []
   },
   "outputs": [],
   "source": [
    "# check for chunk loading status\n",
    "with client.pipeline() as pipe:\n",
    "    for chunk in content_chunks:\n",
    "        pipe.exists(chunk['chunk_id'])\n",
    "    exists_results = pipe.execute()"
   ]
  },
  {
   "cell_type": "code",
   "execution_count": 208,
   "id": "c4e57635-ca6a-438b-b8b4-052a740015bd",
   "metadata": {
    "tags": []
   },
   "outputs": [],
   "source": [
    "# load missing chunks\n",
    "with client.pipeline() as pipe:\n",
    "    load_indexes = []\n",
    "    for i, (chunk, exists) in enumerate(zip(content_chunks, exists_results)):\n",
    "        if not exists:\n",
    "            load_indexes.append(i)\n",
    "            pipe.hset(chunk['chunk_id'], mapping=chunk)\n",
    "    load_results = pipe.execute()"
   ]
  },
  {
   "cell_type": "code",
   "execution_count": 209,
   "id": "d376b172-205d-4414-b837-4f9dfae2ec56",
   "metadata": {
    "tags": []
   },
   "outputs": [
    {
     "name": "stdout",
     "output_type": "stream",
     "text": [
      "All chunks loaded successfully.\n"
     ]
    }
   ],
   "source": [
    "# check for loading issues and give first failure id info for diagnostic\n",
    "if all(load_results):\n",
    "    print('All chunks loaded successfully.')\n",
    "else:\n",
    "    print(f\"During loading {load_results.count(0)} records were not successfully loaded.\")\n",
    "    first_fail_index = load_indexes[load_results.index(0)]\n",
    "    print(f\"Start troubleshooting with the record at index {first_fail_index} which as has 'chunk_id' = {content_chunks[first_fail_index]['chunk_id']}\")"
   ]
  },
  {
   "cell_type": "code",
   "execution_count": 210,
   "id": "c8645a63-7d2e-4d67-b37a-54a6ac4bc18d",
   "metadata": {
    "tags": []
   },
   "outputs": [
    {
     "data": {
      "text/plain": [
       "'fannie'"
      ]
     },
     "execution_count": 210,
     "metadata": {},
     "output_type": "execute_result"
    }
   ],
   "source": [
    "client.hget(first_record['chunk_id'], 'gse')"
   ]
  },
  {
   "cell_type": "code",
   "execution_count": 215,
   "id": "237f00eb-22dd-4771-80da-82f13975c49a",
   "metadata": {
    "tags": []
   },
   "outputs": [
    {
     "data": {
      "text/plain": [
       "4"
      ]
     },
     "execution_count": 215,
     "metadata": {},
     "output_type": "execute_result"
    }
   ],
   "source": [
    "client.hlen(first_record['chunk_id'])"
   ]
  },
  {
   "cell_type": "code",
   "execution_count": 216,
   "id": "cfddd4e2-72e1-4a25-950c-f8bd0ae9f5f0",
   "metadata": {
    "tags": []
   },
   "outputs": [
    {
     "data": {
      "text/plain": [
       "9040"
      ]
     },
     "execution_count": 216,
     "metadata": {},
     "output_type": "execute_result"
    }
   ],
   "source": [
    "client.dbsize()"
   ]
  },
  {
   "cell_type": "markdown",
   "id": "11b729b1-c93e-4a85-b97c-1f3737998c28",
   "metadata": {},
   "source": [
    "### Create An Index"
   ]
  },
  {
   "cell_type": "code",
   "execution_count": null,
   "id": "8aaff5dc-ed02-4572-8732-037030e9008e",
   "metadata": {},
   "outputs": [],
   "source": []
  },
  {
   "cell_type": "code",
   "execution_count": null,
   "id": "2c234638-3771-4236-a1f7-59923bc85cad",
   "metadata": {},
   "outputs": [],
   "source": []
  },
  {
   "cell_type": "code",
   "execution_count": null,
   "id": "9cd2f9dd-2611-4546-ad73-fb14b3f22a68",
   "metadata": {},
   "outputs": [],
   "source": []
  },
  {
   "cell_type": "code",
   "execution_count": null,
   "id": "2481d773-b626-448b-8669-6ea9e1a3b76a",
   "metadata": {},
   "outputs": [],
   "source": []
  },
  {
   "cell_type": "code",
   "execution_count": null,
   "id": "862e25ba-8569-4394-a3e3-aa3ee1efbc0a",
   "metadata": {},
   "outputs": [],
   "source": []
  },
  {
   "cell_type": "code",
   "execution_count": null,
   "id": "7a6ea3fd-b4cd-40f8-aa3f-c929c079e165",
   "metadata": {},
   "outputs": [],
   "source": []
  },
  {
   "cell_type": "code",
   "execution_count": null,
   "id": "c0df2ac6-93fb-4800-aaa6-65f075c177a0",
   "metadata": {},
   "outputs": [],
   "source": []
  },
  {
   "cell_type": "code",
   "execution_count": null,
   "id": "7fe405e0-82af-4a1f-a50e-bd960875397a",
   "metadata": {},
   "outputs": [],
   "source": []
  },
  {
   "cell_type": "code",
   "execution_count": null,
   "id": "bc739b67-d5d4-4fd6-8301-bde1466e3763",
   "metadata": {},
   "outputs": [],
   "source": []
  },
  {
   "cell_type": "markdown",
   "id": "471649a3-cf4c-4d0e-b767-43cb45b65f47",
   "metadata": {},
   "source": [
    "### Check The Index State"
   ]
  },
  {
   "cell_type": "markdown",
   "id": "f6a46d2c-0f86-418b-840a-afded7dea0bf",
   "metadata": {},
   "source": [
    "### Matching"
   ]
  },
  {
   "cell_type": "code",
   "execution_count": null,
   "id": "fef90830-fb05-4782-ace6-1e1d0890f0ef",
   "metadata": {},
   "outputs": [],
   "source": []
  },
  {
   "cell_type": "code",
   "execution_count": null,
   "id": "8a14e287-4b50-4b3f-a303-a2e19eef03dc",
   "metadata": {},
   "outputs": [],
   "source": []
  },
  {
   "cell_type": "markdown",
   "id": "14bff763-1270-4c32-b930-67b0f0ef9faf",
   "metadata": {},
   "source": [
    "## Remove Resources"
   ]
  },
  {
   "cell_type": "code",
   "execution_count": 225,
   "id": "6557d8bd-8582-4453-9a52-2f1a889c380c",
   "metadata": {
    "tags": []
   },
   "outputs": [],
   "source": [
    "#client.flushall() # empty all records in the instance, across all databases"
   ]
  },
  {
   "cell_type": "code",
   "execution_count": 40,
   "id": "059a56c2-82c4-4b68-8dbe-3d157a556d68",
   "metadata": {
    "tags": []
   },
   "outputs": [],
   "source": [
    "#redis_client.delete_instance(name = redis_instance.name)"
   ]
  },
  {
   "cell_type": "code",
   "execution_count": null,
   "id": "437fcd09-b32a-4f6a-9359-d4e9c2e5dce4",
   "metadata": {},
   "outputs": [],
   "source": []
  }
 ],
 "metadata": {
  "environment": {
   "kernel": "conda-base-py",
   "name": "workbench-notebooks.m125",
   "type": "gcloud",
   "uri": "us-docker.pkg.dev/deeplearning-platform-release/gcr.io/workbench-notebooks:m125"
  },
  "kernelspec": {
   "display_name": "Python 3 (ipykernel) (Local)",
   "language": "python",
   "name": "conda-base-py"
  },
  "language_info": {
   "codemirror_mode": {
    "name": "ipython",
    "version": 3
   },
   "file_extension": ".py",
   "mimetype": "text/x-python",
   "name": "python",
   "nbconvert_exporter": "python",
   "pygments_lexer": "ipython3",
   "version": "3.10.15"
  }
 },
 "nbformat": 4,
 "nbformat_minor": 5
}
