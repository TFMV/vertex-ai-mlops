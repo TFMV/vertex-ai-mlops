{
 "cells": [
  {
   "cell_type": "markdown",
   "id": "e89180c9",
   "metadata": {},
   "source": [
    "![tracker](https://us-central1-vertex-ai-mlops-369716.cloudfunctions.net/pixel-tracking?path=statmike%2Fvertex-ai-mlops%2FApplied+GenAI%2FRetrieval&file=Retrieval+-+Memorystore.ipynb)\n",
    "<!--- header table --->\n",
    "<table align=\"left\">\n",
    "  <td style=\"text-align: center\">\n",
    "    <a href=\"https://colab.research.google.com/github/statmike/vertex-ai-mlops/blob/main/Applied%20GenAI/Retrieval/Retrieval%20-%20Memorystore.ipynb\">\n",
    "      <img src=\"https://cloud.google.com/ml-engine/images/colab-logo-32px.png\" alt=\"Google Colaboratory logo\">\n",
    "      <br>Run in<br>Colab\n",
    "    </a>\n",
    "  </td>\n",
    "  <td style=\"text-align: center\">\n",
    "    <a href=\"https://console.cloud.google.com/vertex-ai/colab/import/https%3A%2F%2Fraw.githubusercontent.com%2Fstatmike%2Fvertex-ai-mlops%2Fmain%2FApplied%2520GenAI%2FRetrieval%2FRetrieval%2520-%2520Memorystore.ipynb\">\n",
    "      <img width=\"32px\" src=\"https://lh3.googleusercontent.com/JmcxdQi-qOpctIvWKgPtrzZdJJK-J3sWE1RsfjZNwshCFgE_9fULcNpuXYTilIR2hjwN\" alt=\"Google Cloud Colab Enterprise logo\">\n",
    "      <br>Run in<br>Colab Enterprise\n",
    "    </a>\n",
    "  </td>      \n",
    "  <td style=\"text-align: center\">\n",
    "    <a href=\"https://github.com/statmike/vertex-ai-mlops/blob/main/Applied%20GenAI/Retrieval/Retrieval%20-%20Memorystore.ipynb\">\n",
    "      <img src=\"https://cloud.google.com/ml-engine/images/github-logo-32px.png\" alt=\"GitHub logo\">\n",
    "      <br>View on<br>GitHub\n",
    "    </a>\n",
    "  </td>\n",
    "  <td style=\"text-align: center\">\n",
    "    <a href=\"https://console.cloud.google.com/vertex-ai/workbench/deploy-notebook?download_url=https://raw.githubusercontent.com/statmike/vertex-ai-mlops/main/Applied%20GenAI/Retrieval/Retrieval%20-%20Memorystore.ipynb\">\n",
    "      <img src=\"https://lh3.googleusercontent.com/UiNooY4LUgW_oTvpsNhPpQzsstV5W8F7rYgxgGBD85cWJoLmrOzhVs_ksK_vgx40SHs7jCqkTkCk=e14-rj-sc0xffffff-h130-w32\" alt=\"Vertex AI logo\">\n",
    "      <br>Open in<br>Vertex AI Workbench\n",
    "    </a>\n",
    "  </td>\n",
    "</table>"
   ]
  },
  {
   "cell_type": "markdown",
   "id": "96b0e8e6-d761-4540-9d09-8f0c4ce9a020",
   "metadata": {},
   "source": [
    "# Retrieval - Memorystore (Redis)\n",
    "<p style=\"font-size: 45px;\">IN PROGRESS - NOT COMPLETE</p>\n",
    "\n",
    "In prior workflows, a series of documents was [processed into chunks](../Chunking/readme.md), and for each chunk, [embeddings](../Embeddings/readme.md) were created:\n",
    "\n",
    "- Process: [Large Document Processing - Document AI Layout Parser](../Chunking/Large%20Document%20Processing%20-%20Document%20AI%20Layout%20Parser.ipynb)\n",
    "- Embed: [Vertex AI Text Embeddings API](../Embeddings/Vertex%20AI%20Text%20Embeddings%20API.ipynb)\n",
    "\n",
    "Retrieving chunks for a query involves calculating the embedding for the query and then using similarity metrics to find relevant chunks. A thorough review of similarity matching can be found in [The Math of Similarity](../Embeddings/The%20Math%20of%20Similarity.ipynb) - use dot product! As development moves from experiment to application, the process of storing and computing similarity is migrated to a [retrieval](./readme.md) system. This workflow is part of a [series of workflows exploring many retrieval systems](./readme.md).\n",
    "\n",
    "**Memorystore For Storage, Indexing, And Search**\n",
    "\n",
    "[Google Cloud Memorystore](https://cloud.google.com/memorystore) is a fully managed in-memory data store service that can be used to enhance the performance of applications by caching frequently accessed data. Memorystore offers several in-memory database options, including [Redis](https://cloud.google.com/memorystore/docs/redis), [Redis Cluster](https://cloud.google.com/memorystore/docs/cluster), [Memcached](https://cloud.google.com/memorystore/docs/memcached), and [Valkey](https://cloud.google.com/memorystore/docs/valkey/). Each option provides unique features and capabilities to suit different needs.\n",
    "\n",
    "This example uses [Redis](https://redis.io/docs/latest/), which is an open-source, in-memory data store that can be used as a database, cache, message broker, and streaming engine. In Redis, data is stored as key-value pairs. The key serves as an identifier to request or retrieve specific data. Redis offers a [variety of data types](https://redis.io/docs/latest/develop/data-types/) for values, including strings, lists, sets, hashes, and sorted sets. These data types provide flexibility in how you structure and organize your data. In addition to basic retrieval using keys, Redis offers querying capabilities across data elements, [including vector search](https://cloud.google.com/memorystore/docs/redis/about-vector-search) for efficient similarity matching.\n",
    "\n",
    "**Use Case Data**\n",
    "\n",
    "Buying a home usually involves borrowing money from a lending institution, typically through a mortgage secured by the home's value. But how do these institutions manage the risks associated with such large loans, and how are lending standards established?\n",
    "\n",
    "In the United States, two government-sponsored enterprises (GSEs) play a vital role in the housing market:\n",
    "\n",
    "- Federal National Mortgage Association ([Fannie Mae](https://www.fanniemae.com/))\n",
    "- Federal Home Loan Mortgage Corporation ([Freddie Mac](https://www.freddiemac.com/))\n",
    "\n",
    "These GSEs purchase mortgages from lenders, enabling those lenders to offer more loans. This process also allows Fannie Mae and Freddie Mac to set standards for mortgages, ensuring they are responsible and borrowers are more likely to repay them. This system makes homeownership more affordable and stabilizes the housing market by maintaining a steady flow of liquidity for lenders and keeping interest rates controlled.\n",
    "\n",
    "However, navigating the complexities of these GSEs and their extensive servicing guides can be challenging.\n",
    "\n",
    "**Approaches**\n",
    "\n",
    "[This series](../readme.md) covers many generative AI workflows. These documents are used directly as long context for Gemini in the workflow [Long Context Retrieval With The Vertex AI Gemini API](../Generate/Long%20Context%20Retrieval%20With%20The%20Vertex%20AI%20Gemini%20API.ipynb). The workflow below uses a [retrieval](./readme.md) approach with the already generated chunks and embeddings."
   ]
  },
  {
   "cell_type": "markdown",
   "id": "be889472-69b0-416c-9cf1-edc9706fa5c5",
   "metadata": {
    "id": "od_UkDpvRmgD"
   },
   "source": [
    "---\n",
    "## Colab Setup\n",
    "\n",
    "When running this notebook in [Colab](https://colab.google/) or [Colab Enterprise](https://cloud.google.com/colab/docs/introduction), this section will authenticate to GCP (follow prompts in the popup) and set the current project for the session."
   ]
  },
  {
   "cell_type": "code",
   "execution_count": 1,
   "id": "21f75ba8-df50-466e-a5ec-f2a6dd88eb26",
   "metadata": {
    "executionInfo": {
     "elapsed": 195,
     "status": "ok",
     "timestamp": 1683726184843,
     "user": {
      "displayName": "Mike Henderson",
      "userId": "07691629187611687318"
     },
     "user_tz": 240
    },
    "id": "8UO9FnqyKBlF",
    "tags": []
   },
   "outputs": [],
   "source": [
    "PROJECT_ID = 'statmike-mlops-349915' # replace with project ID"
   ]
  },
  {
   "cell_type": "code",
   "execution_count": 2,
   "id": "9c325515-1ea0-45cc-82d3-a1bfb1c52155",
   "metadata": {
    "colab": {
     "base_uri": "https://localhost:8080/"
    },
    "executionInfo": {
     "elapsed": 68869,
     "status": "ok",
     "timestamp": 1683726253709,
     "user": {
      "displayName": "Mike Henderson",
      "userId": "07691629187611687318"
     },
     "user_tz": 240
    },
    "id": "N98-KK7LRkjm",
    "outputId": "09ec5008-0def-4e1a-c349-c598ee752f78",
    "tags": []
   },
   "outputs": [],
   "source": [
    "try:\n",
    "    from google.colab import auth\n",
    "    auth.authenticate_user()\n",
    "    !gcloud config set project {PROJECT_ID}\n",
    "except Exception:\n",
    "    pass"
   ]
  },
  {
   "cell_type": "markdown",
   "id": "055a4bd7-7b47-43ef-ba14-636c955e44e3",
   "metadata": {},
   "source": [
    "---\n",
    "## Installs and API Enablement\n",
    "\n",
    "The clients packages may need installing in this environment. "
   ]
  },
  {
   "cell_type": "markdown",
   "id": "410502ee-6fe3-4624-a69a-960ad7105f10",
   "metadata": {},
   "source": [
    "### Installs (If Needed)"
   ]
  },
  {
   "cell_type": "code",
   "execution_count": 3,
   "id": "f4dbdb83-3170-430c-b60d-3d686222a168",
   "metadata": {
    "tags": []
   },
   "outputs": [],
   "source": [
    "# tuples of (import name, install name, min_version)\n",
    "packages = [\n",
    "    ('google.cloud.aiplatform', 'google-cloud-aiplatform', '1.69.0'),\n",
    "    ('google.cloud.redis', 'google-cloud-redis'),\n",
    "    ('redis', 'redis', '5.0.8')\n",
    "]\n",
    "\n",
    "import importlib\n",
    "install = False\n",
    "for package in packages:\n",
    "    if not importlib.util.find_spec(package[0]):\n",
    "        print(f'installing package {package[1]}')\n",
    "        install = True\n",
    "        !pip install {package[1]} -U -q --user\n",
    "    elif len(package) == 3:\n",
    "        if importlib.metadata.version(package[0]) < package[2]:\n",
    "            print(f'updating package {package[1]}')\n",
    "            install = True\n",
    "            !pip install {package[1]} -U -q --user"
   ]
  },
  {
   "cell_type": "markdown",
   "id": "25374857-7d37-4c84-8cbb-a3c2fc7bb065",
   "metadata": {},
   "source": [
    "### API Enablement"
   ]
  },
  {
   "cell_type": "code",
   "execution_count": 4,
   "id": "9b7300a8-7e3a-4a08-95c0-91186237753f",
   "metadata": {
    "tags": []
   },
   "outputs": [],
   "source": [
    "!gcloud services enable aiplatform.googleapis.com\n",
    "!gcloud services enable redis.googleapis.com"
   ]
  },
  {
   "cell_type": "markdown",
   "id": "157d09ba-9774-495f-8ced-3382bf75be8f",
   "metadata": {},
   "source": [
    "### Restart Kernel (If Installs Occured)\n",
    "\n",
    "After a kernel restart the code submission can start with the next cell after this one."
   ]
  },
  {
   "cell_type": "code",
   "execution_count": 5,
   "id": "f9864153-66c8-43e1-ae96-1179632ccf7d",
   "metadata": {
    "tags": []
   },
   "outputs": [],
   "source": [
    "if install:\n",
    "    import IPython\n",
    "    app = IPython.Application.instance()\n",
    "    app.kernel.do_shutdown(True)\n",
    "    IPython.display.display(IPython.display.Markdown(\"\"\"<div class=\\\"alert alert-block alert-warning\\\">\n",
    "        <b>⚠️ The kernel is going to restart. Please wait until it is finished before continuing to the next step. The previous cells do not need to be run again⚠️</b>\n",
    "        </div>\"\"\"))"
   ]
  },
  {
   "cell_type": "markdown",
   "id": "09a1ab41-cb32-4398-86dc-d30effb88a36",
   "metadata": {
    "id": "appt8-yVRtJ1"
   },
   "source": [
    "---\n",
    "## Setup"
   ]
  },
  {
   "cell_type": "markdown",
   "id": "2cebe11b-9ca1-4f3e-aa78-78640ff01ec8",
   "metadata": {
    "id": "63mx2EozRxFP"
   },
   "source": [
    "Inputs"
   ]
  },
  {
   "cell_type": "code",
   "execution_count": 6,
   "id": "ab2239cd-40ab-416d-bac0-0c6953d911b6",
   "metadata": {
    "colab": {
     "base_uri": "https://localhost:8080/",
     "height": 35
    },
    "executionInfo": {
     "elapsed": 2124,
     "status": "ok",
     "timestamp": 1683726390544,
     "user": {
      "displayName": "Mike Henderson",
      "userId": "07691629187611687318"
     },
     "user_tz": 240
    },
    "id": "xzcoXjM5Rky5",
    "outputId": "b3bdcbc1-70d5-472e-aea2-42c74a42efde",
    "tags": []
   },
   "outputs": [
    {
     "data": {
      "text/plain": [
       "'statmike-mlops-349915'"
      ]
     },
     "execution_count": 6,
     "metadata": {},
     "output_type": "execute_result"
    }
   ],
   "source": [
    "project = !gcloud config get-value project\n",
    "PROJECT_ID = project[0]\n",
    "PROJECT_ID"
   ]
  },
  {
   "cell_type": "code",
   "execution_count": 7,
   "id": "8aa97f05-66e9-4276-b2e6-83b5a91ca50c",
   "metadata": {
    "executionInfo": {
     "elapsed": 2,
     "status": "ok",
     "timestamp": 1683726390712,
     "user": {
      "displayName": "Mike Henderson",
      "userId": "07691629187611687318"
     },
     "user_tz": 240
    },
    "id": "IxWrFtqYMfku",
    "tags": []
   },
   "outputs": [],
   "source": [
    "REGION = 'us-central1'\n",
    "SERIES = 'applied-genai'\n",
    "EXPERIMENT = 'retrieval-memorystore-redis'\n",
    "\n",
    "# Redis names\n",
    "REDIS_INSTANCE_NAME = EXPERIMENT"
   ]
  },
  {
   "cell_type": "markdown",
   "id": "52bbf65b-5d29-4a72-84ae-d977b9a743a6",
   "metadata": {
    "id": "LuajVwCiO6Yg"
   },
   "source": [
    "Packages"
   ]
  },
  {
   "cell_type": "code",
   "execution_count": 8,
   "id": "559f6e60-a594-4789-893b-295a8381b670",
   "metadata": {
    "executionInfo": {
     "elapsed": 17761,
     "status": "ok",
     "timestamp": 1683726409304,
     "user": {
      "displayName": "Mike Henderson",
      "userId": "07691629187611687318"
     },
     "user_tz": 240
    },
    "id": "LVC7zzSLRk2C",
    "tags": []
   },
   "outputs": [],
   "source": [
    "import os, json, time, glob, datetime, tempfile\n",
    "\n",
    "import numpy as np\n",
    "import redis\n",
    "\n",
    "# Vertex AI\n",
    "from google.cloud import aiplatform\n",
    "import vertexai.language_models # for embeddings API\n",
    "import vertexai.generative_models # for Gemini Models\n",
    "from vertexai.resources.preview import feature_store\n",
    "\n",
    "# memorystore\n",
    "from google.cloud import redis_v1"
   ]
  },
  {
   "cell_type": "code",
   "execution_count": 9,
   "id": "d3fef31f-928f-45f2-a3f4-292ee242232c",
   "metadata": {
    "tags": []
   },
   "outputs": [
    {
     "data": {
      "text/plain": [
       "'1.69.0'"
      ]
     },
     "execution_count": 9,
     "metadata": {},
     "output_type": "execute_result"
    }
   ],
   "source": [
    "aiplatform.__version__"
   ]
  },
  {
   "cell_type": "markdown",
   "id": "5758c07e-f064-40fb-a0ef-de6cbde5cd0a",
   "metadata": {
    "id": "EyAVFG9TO9H-"
   },
   "source": [
    "Clients"
   ]
  },
  {
   "cell_type": "code",
   "execution_count": 10,
   "id": "3b72f3bb-176b-4678-ba6b-df9b2de14997",
   "metadata": {
    "executionInfo": {
     "elapsed": 19,
     "status": "ok",
     "timestamp": 1683726409306,
     "user": {
      "displayName": "Mike Henderson",
      "userId": "07691629187611687318"
     },
     "user_tz": 240
    },
    "id": "L0RPE13LOZce",
    "tags": []
   },
   "outputs": [],
   "source": [
    "# vertex ai clients\n",
    "vertexai.init(project = PROJECT_ID, location = REGION)\n",
    "\n",
    "# memorystore clients\n",
    "redis_client = redis_v1.CloudRedisClient()"
   ]
  },
  {
   "cell_type": "markdown",
   "id": "8579282f-2723-4294-b72a-a65cc0831f44",
   "metadata": {},
   "source": [
    "---\n",
    "## Text & Embeddings For Examples\n",
    "\n",
    "This repository contains a [section for document processing (chunking)](../Chunking/readme.md) that includes an example of processing mulitple large pdfs (over 1000 pages) into chunks: [Large Document Processing - Document AI Layout Parser](../Chunking/Large%20Document%20Processing%20-%20Document%20AI%20Layout%20Parser.ipynb).  The chunks of text from that workflow are stored with this repository and loaded by another companion workflow that augments the chunks with text embeddings: [Vertex AI Text Embeddings API](../Embeddings/Vertex%20AI%20Text%20Embeddings%20API.ipynb).\n",
    "\n",
    "The following code will load the version of the chunks that includes text embeddings and prepare it for a local example of retrival augmented generation."
   ]
  },
  {
   "cell_type": "markdown",
   "id": "1e12cbe2-3ca6-4656-9e73-c0db5c63bf50",
   "metadata": {},
   "source": [
    "### Get The Documents\n",
    "\n",
    "If you are working from a clone of this notebooks [repository](https://github.com/statmike/vertex-ai-mlops) then the documents are already present. The following cell checks for the documents folder and if it is missing gets it (`git clone`):"
   ]
  },
  {
   "cell_type": "code",
   "execution_count": 11,
   "id": "6f4e77ed-43f7-42be-9575-6a491c0d6cba",
   "metadata": {
    "tags": []
   },
   "outputs": [],
   "source": [
    "local_dir = '../Embeddings/files/embeddings-api'"
   ]
  },
  {
   "cell_type": "code",
   "execution_count": 12,
   "id": "63ebe7c3-e72c-4394-91c3-d60c05bc0ce2",
   "metadata": {
    "tags": []
   },
   "outputs": [
    {
     "name": "stdout",
     "output_type": "stream",
     "text": [
      "Documents Found in folder `../Embeddings/files/embeddings-api`\n"
     ]
    }
   ],
   "source": [
    "if not os.path.exists(local_dir):\n",
    "    print('Retrieving documents...')\n",
    "    parent_dir = os.path.dirname(local_dir)\n",
    "    temp_dir = os.path.join(parent_dir, 'temp')\n",
    "    if not os.path.exists(temp_dir):\n",
    "        os.makedirs(temp_dir)\n",
    "    !git clone https://www.github.com/statmike/vertex-ai-mlops {temp_dir}/vertex-ai-mlops\n",
    "    shutil.copytree(f'{temp_dir}/vertex-ai-mlops/Applied GenAI/Embeddings/files/embeddings-api', local_dir)\n",
    "    shutil.rmtree(temp_dir)\n",
    "    print(f'Documents are now in folder `{local_dir}`')\n",
    "else:\n",
    "    print(f'Documents Found in folder `{local_dir}`')             "
   ]
  },
  {
   "cell_type": "markdown",
   "id": "33e68a84-9f88-4590-9ff1-e01c8a953ccf",
   "metadata": {},
   "source": [
    "### Load The Chunks"
   ]
  },
  {
   "cell_type": "code",
   "execution_count": 13,
   "id": "58d04382-a74a-44ac-8824-3b46c86aa148",
   "metadata": {
    "tags": []
   },
   "outputs": [
    {
     "data": {
      "text/plain": [
       "['../Embeddings/files/embeddings-api/large-files-chunk-embeddings-0000.jsonl',\n",
       " '../Embeddings/files/embeddings-api/large-files-chunk-embeddings-0001.jsonl',\n",
       " '../Embeddings/files/embeddings-api/large-files-chunk-embeddings-0002.jsonl',\n",
       " '../Embeddings/files/embeddings-api/large-files-chunk-embeddings-0003.jsonl',\n",
       " '../Embeddings/files/embeddings-api/large-files-chunk-embeddings-0004.jsonl',\n",
       " '../Embeddings/files/embeddings-api/large-files-chunk-embeddings-0005.jsonl',\n",
       " '../Embeddings/files/embeddings-api/large-files-chunk-embeddings-0006.jsonl',\n",
       " '../Embeddings/files/embeddings-api/large-files-chunk-embeddings-0007.jsonl',\n",
       " '../Embeddings/files/embeddings-api/large-files-chunk-embeddings-0008.jsonl',\n",
       " '../Embeddings/files/embeddings-api/large-files-chunk-embeddings-0009.jsonl']"
      ]
     },
     "execution_count": 13,
     "metadata": {},
     "output_type": "execute_result"
    }
   ],
   "source": [
    "jsonl_files = glob.glob(f\"{local_dir}/large-files*.jsonl\")\n",
    "jsonl_files.sort()\n",
    "jsonl_files"
   ]
  },
  {
   "cell_type": "code",
   "execution_count": 14,
   "id": "a54c6c96-6c28-49bb-80be-5d46797dfe77",
   "metadata": {
    "tags": []
   },
   "outputs": [
    {
     "data": {
      "text/plain": [
       "9040"
      ]
     },
     "execution_count": 14,
     "metadata": {},
     "output_type": "execute_result"
    }
   ],
   "source": [
    "chunks = []\n",
    "for file in jsonl_files:\n",
    "    with open(file, 'r') as f:\n",
    "        chunks.extend([json.loads(line) for line in f])\n",
    "len(chunks)"
   ]
  },
  {
   "cell_type": "markdown",
   "id": "a70115ec-6d60-41df-b7e6-9e2e5b463b1d",
   "metadata": {},
   "source": [
    "### Review A Chunk"
   ]
  },
  {
   "cell_type": "code",
   "execution_count": 15,
   "id": "fc20423e-e3d6-4e90-9e98-a5248508c82d",
   "metadata": {
    "tags": []
   },
   "outputs": [
    {
     "data": {
      "text/plain": [
       "dict_keys(['instance', 'predictions', 'status'])"
      ]
     },
     "execution_count": 15,
     "metadata": {},
     "output_type": "execute_result"
    }
   ],
   "source": [
    "chunks[0].keys()"
   ]
  },
  {
   "cell_type": "code",
   "execution_count": 16,
   "id": "1955ea39-4ffc-4d30-b653-a5a9911f2dab",
   "metadata": {
    "tags": []
   },
   "outputs": [
    {
     "data": {
      "text/plain": [
       "'fannie_part_0_c17'"
      ]
     },
     "execution_count": 16,
     "metadata": {},
     "output_type": "execute_result"
    }
   ],
   "source": [
    "chunks[0]['instance']['chunk_id']"
   ]
  },
  {
   "cell_type": "code",
   "execution_count": 17,
   "id": "3537982c-4a0e-456c-a652-19ea7507873b",
   "metadata": {
    "tags": []
   },
   "outputs": [
    {
     "name": "stdout",
     "output_type": "stream",
     "text": [
      "# Selling Guide Fannie Mae Single Family\n",
      "\n",
      "## Fannie Mae Copyright Notice\n",
      "\n",
      "### Fannie Mae Copyright Notice\n",
      "\n",
      "|-|\n",
      "| Section B3-4.2, Verification of Depository Assets 402 |\n",
      "| B3-4.2-01, Verification of Deposits and Assets (05/04/2022) 403 |\n",
      "| B3-4.2-02, Depository Accounts (12/14/2022) 405 |\n",
      "| B3-4.2-03, Individual Development Accounts (02/06/2019) 408 |\n",
      "| B3-4.2-04, Pooled Savings (Community Savings Funds) (04/01/2009) 411 |\n",
      "| B3-4.2-05, Foreign Assets (05/04/2022) 411 |\n",
      "| Section B3-4.3, Verification of Non-Depository Assets 412 |\n",
      "| B3-4.3-01, Stocks, Stock Options, Bonds, and Mutual Funds (06/30/2015) 412 |\n",
      "| B3-4.3-02, Trust Accounts (04/01/2009) 413 |\n",
      "| B3-4.3-03, Retirement Accounts (06/30/2015) 414 |\n",
      "| B3-4.3-04, Personal Gifts (09/06/2023) 415 |\n",
      "| B3-4.3-05, Gifts of Equity (10/07/2020) 418 |\n",
      "| B3-4.3-06, Grants and Lender Contributions (12/14/2022) 419 |\n",
      "| B3-4.3-07, Disaster Relief Grants or Loans (04/01/2009) 423 |\n",
      "| B3-4.3-08, Employer Assistance (09/29/2015) 423 |\n",
      "| B3-4.3-09, Earnest Money Deposit (05/04/2022) 425 |\n",
      "| B3-4.3-10, Anticipated Sales Proceeds (02/23/2016) B3-4.3-11, Trade Equity (12/16/2020) 426 428 |\n",
      "| B3-4.3-12, Rent-Related Credits (08/07/2024) 429 |\n",
      "| B3-4.3-13, Sweat Equity (04/15/2014) 430 |\n",
      "| B3-4.3-14, Bridge/Swing Loans (04/01/2009) 431 |\n",
      "| B3-4.3-15, Borrowed Funds Secured by an Asset (10/30/2009) 431 |\n",
      "|  |\n",
      "\n",
      "\n"
     ]
    }
   ],
   "source": [
    "print(chunks[0]['instance']['content'])"
   ]
  },
  {
   "cell_type": "code",
   "execution_count": 18,
   "id": "49f06293-a439-436b-bc93-cd6cd3fb4aff",
   "metadata": {
    "tags": []
   },
   "outputs": [
    {
     "data": {
      "text/plain": [
       "[0.031277116388082504,\n",
       " 0.03056905046105385,\n",
       " 0.010865348391234875,\n",
       " 0.0623614676296711,\n",
       " 0.03228681534528732,\n",
       " 0.05066155269742012,\n",
       " 0.046544693410396576,\n",
       " 0.05509665608406067,\n",
       " -0.014074751175940037,\n",
       " 0.008380400016903877]"
      ]
     },
     "execution_count": 18,
     "metadata": {},
     "output_type": "execute_result"
    }
   ],
   "source": [
    "chunks[0]['predictions'][0]['embeddings']['values'][0:10]"
   ]
  },
  {
   "cell_type": "markdown",
   "id": "f977358d-d9ea-4172-9eca-66079bb6087d",
   "metadata": {},
   "source": [
    "### Prepare Chunk Structure\n",
    "\n",
    "Make a list of dictionaries with information for each chunk:"
   ]
  },
  {
   "cell_type": "code",
   "execution_count": 40,
   "id": "be9fa708-130c-4343-b179-dbde0b09a972",
   "metadata": {
    "tags": []
   },
   "outputs": [],
   "source": [
    "content_chunks = [\n",
    "    dict(\n",
    "        gse = chunk['instance']['gse'],\n",
    "        chunk_id = chunk['instance']['chunk_id'],\n",
    "        content = chunk['instance']['content'],\n",
    "        embedding = chunk['predictions'][0]['embeddings']['values']\n",
    "    ) for chunk in chunks\n",
    "]"
   ]
  },
  {
   "cell_type": "markdown",
   "id": "d6619605-7b10-444e-a131-db06e56a4be8",
   "metadata": {},
   "source": [
    "### Query Embedding\n",
    "\n",
    "Create a query, or prompt, and get the embedding for it:\n",
    "\n",
    "Connect to models for text embeddings. Learn more about the model API:\n",
    "- [Vertex AI Text Embeddings API](../Embeddings/Vertex%20AI%20Text%20Embeddings%20API.ipynb)"
   ]
  },
  {
   "cell_type": "code",
   "execution_count": 20,
   "id": "3da5d30c-3dfb-42ba-a133-83dceb252787",
   "metadata": {
    "tags": []
   },
   "outputs": [],
   "source": [
    "question = \"Does a lender have to perform servicing functions directly?\""
   ]
  },
  {
   "cell_type": "code",
   "execution_count": 21,
   "id": "7992c26f-d058-4920-80a3-a157b88733e4",
   "metadata": {
    "tags": []
   },
   "outputs": [],
   "source": [
    "embedder = vertexai.language_models.TextEmbeddingModel.from_pretrained('text-embedding-004')"
   ]
  },
  {
   "cell_type": "code",
   "execution_count": 22,
   "id": "bbe6fda7-9cea-49a2-9e2f-9222d50677af",
   "metadata": {
    "tags": []
   },
   "outputs": [
    {
     "data": {
      "text/plain": [
       "[-0.0005117303808219731,\n",
       " 0.009651427157223225,\n",
       " 0.01768726110458374,\n",
       " 0.014538003131747246,\n",
       " -0.01829824410378933,\n",
       " 0.027877431362867355,\n",
       " -0.021124685183167458,\n",
       " 0.008830446749925613,\n",
       " -0.02669006586074829,\n",
       " 0.06414774805307388]"
      ]
     },
     "execution_count": 22,
     "metadata": {},
     "output_type": "execute_result"
    }
   ],
   "source": [
    "question_embedding = embedder.get_embeddings([question])[0].values\n",
    "question_embedding[0:10]"
   ]
  },
  {
   "cell_type": "markdown",
   "id": "0b6ec209-b34a-4837-8c54-a991ad831764",
   "metadata": {},
   "source": [
    "---\n",
    "## Retrieval With Memorystore (Redis)\n",
    "\n",
    "Memorystore offers multiple caching engines as a service: [Valkey](https://cloud.google.com/memorystore/docs/valkey/), [Redis](https://cloud.google.com/memorystore/docs/redis), [Redis Cluster](https://cloud.google.com/memorystore/docs/cluster), and [Memcached](https://cloud.google.com/memorystore/docs/memcached). Redis is offered as a single instance or a clustered instance where the instance is a series of shards that contains subsets of the cached data.\n",
    "\n",
    "This workflow will use a single instance of [Redis](https://cloud.google.com/memorystore/docs/redis) because it [supports vector search](https://cloud.google.com/memorystore/docs/redis/about-vector-search).\n",
    "\n",
    "**Memorystore data structure**\n",
    "\n",
    "Memorystore, Redis in this case, is a key:value pair database.  In this case think of the key as the value that would be used to requests or retrieve data for.  And data is actually a flexible, multi-parameter, object with multiple [possible data types](https://redis.io/docs/latest/develop/data-types/).  Beyond retriving data based on the key there are also querying capabilties across the data elements, including vector search!\n",
    "\n",
    "**Understanding Costs**\n",
    "\n",
    "[Pricing for Memorystore for Redis](https://cloud.google.com/memorystore/docs/redis/pricing) is straightforward and based on these parameters that are part of the instance creation:\n",
    "- **Service Tier**: [read more about service tiers](https://cloud.google.com/memorystore/docs/redis/redis-tiers)\n",
    "    - Basic - a simple Redis cache with a standalone instance (**Used in this workflow.**)\n",
    "    - Standard - A high availability instance with cross-zone replication and automatic failover\n",
    "- **Provisioned capacity**: \n",
    "    - Size in GB priced in $ per GB per hour. Capacity tiers make additional capacity progressively cheaper. (**The Minimum of 1 GB is used in this workflow.**)\n",
    "- **Region**: \n",
    "    - Pricing varies by the region choosen for the instance.\n",
    "- **Replicas**: \n",
    "    - For the Standard Service Tier you have the option to enable read replicas for distributed reads.\n",
    "    \n",
    "    \n",
    "Important Notes on the Approach used here:\n",
    "\n",
    "Redis has a concept called modules: https://redis.io/docs/latest/develop/reference/modules/\n",
    "\n",
    "Redis has core data types that are directly supported: https://redis.io/docs/latest/develop/data-types/#core-data-types\n",
    "\n",
    "Additional data types are enabled by \n",
    "\n",
    "The data types supported in Redis are expanded extension modules: https://redis.io/docs/latest/develop/data-types/#extension-data-types\n",
    "\n",
    "Of note is the JSON data type module extension: https://redis.io/docs/latest/develop/data-types/json/\n",
    "\n",
    "Google Cloud Memorystore Redis support these versions of Redis: https://cloud.google.com/memorystore/docs/redis/supported-versions\n",
    "\n",
    "Which inclues version 7.2 and the build in vector search functionality: https://cloud.google.com/memorystore/docs/redis/supported-versions#redis_version_72\n",
    "\n",
    "Many examples found on the web for using this vector search capability use it with the JSON module, like this one: https://redis.io/docs/latest/develop/get-started/vector-database/\n",
    "\n",
    "An example directly using hashing can be found here: https://redis-py.readthedocs.io/en/stable/examples/search_vector_similarity_examples.html\n",
    "\n",
    "In the supported functionality for Memorystore Redis, modules are not supported.  For this reason, the HASH data type is best to use for vector search feature.  While a Python dictionary is comparable to a HASH\n",
    "- https://redis.io/docs/latest/develop/data-types/#hashes\n",
    "    - https://redis.io/docs/latest/develop/data-types/hashes/\n",
    "- Trying to store a dictionary element that has a value of type list is not possilbe. Like an embedding as a list of floats.  Serializing the embedding as bytes is necessary and covered by this note:\n",
    "    - https://cloud.google.com/memorystore/docs/redis/indexing-vectors\n",
    "\n",
    "\n",
    "\n",
    "Redis Hashes:\n",
    "\n",
    "https://redis.io/docs/latest/develop/data-types/hashes/\n",
    "\n",
    "Can store more key-value pairs than you probably need or have available memory for: (2^32-1).\n",
    "\n",
    "Offer many features like field expiration.\n",
    "\n",
    "More on redis:\n",
    "database, namespaces(prefixes), keys\n"
   ]
  },
  {
   "cell_type": "markdown",
   "id": "011332b0-52a5-4d3b-a211-00e6d82feaae",
   "metadata": {},
   "source": [
    "### Create/Retrieve An Instance\n",
    "\n",
    "https://cloud.google.com/memorystore/docs/redis/redis-tiers\n",
    "\n",
    "https://cloud.google.com/python/docs/reference/redis/latest/google.cloud.redis_v1.services.cloud_redis.CloudRedisClient"
   ]
  },
  {
   "cell_type": "code",
   "execution_count": 27,
   "id": "28fd8700-78cc-4ccb-be99-040f1f19e3bb",
   "metadata": {},
   "outputs": [
    {
     "name": "stdout",
     "output_type": "stream",
     "text": [
      "Creating Redis instance ...\n",
      "Created Redis instance: projects/statmike-mlops-349915/locations/us-central1/instances/retrieval-memorystore-redis\n"
     ]
    }
   ],
   "source": [
    "try:\n",
    "    redis_instance = redis_client.get_instance(\n",
    "        name = f\"projects/{PROJECT_ID}/locations/{REGION}/instances/{REDIS_INSTANCE_NAME}\"\n",
    "    )\n",
    "    print(f\"Retrieved Redis instance: {redis_instance.name}\")\n",
    "except Exception:\n",
    "    print(f\"Creating Redis instance ...\")\n",
    "    create_instance = redis_client.create_instance(\n",
    "        parent = f\"projects/{PROJECT_ID}/locations/{REGION}\",\n",
    "        instance_id = REDIS_INSTANCE_NAME,\n",
    "        instance = redis_v1.Instance(\n",
    "            name = f\"projects/{PROJECT_ID}/locations/{REGION}/instances/{REDIS_INSTANCE_NAME}\",\n",
    "            tier = redis_v1.Instance.Tier.BASIC,\n",
    "            memory_size_gb = 1,\n",
    "            redis_version = 'REDIS_7_2',\n",
    "            transit_encryption_mode=redis_v1.Instance.TransitEncryptionMode.SERVER_AUTHENTICATION  # Enable TLS\n",
    "        )\n",
    "    )\n",
    "    response = create_instance.result()\n",
    "    redis_instance = redis_client.get_instance(\n",
    "        name = f\"projects/{PROJECT_ID}/locations/{REGION}/instances/{REDIS_INSTANCE_NAME}\"\n",
    "    )\n",
    "    print(f\"Created Redis instance: {redis_instance.name}\")"
   ]
  },
  {
   "cell_type": "code",
   "execution_count": 28,
   "id": "6dcab470-b73d-4c37-ac76-97abf4d7bbab",
   "metadata": {
    "tags": []
   },
   "outputs": [
    {
     "data": {
      "text/plain": [
       "name: \"projects/statmike-mlops-349915/locations/us-central1/instances/retrieval-memorystore-redis\"\n",
       "location_id: \"us-central1-c\"\n",
       "redis_version: \"REDIS_7_2\"\n",
       "reserved_ip_range: \"10.106.20.32/29\"\n",
       "host: \"10.106.20.35\"\n",
       "port: 6378\n",
       "current_location_id: \"us-central1-c\"\n",
       "create_time {\n",
       "  seconds: 1730169733\n",
       "  nanos: 767497286\n",
       "}\n",
       "state: READY\n",
       "tier: BASIC\n",
       "memory_size_gb: 1\n",
       "authorized_network: \"projects/statmike-mlops-349915/global/networks/default\"\n",
       "persistence_iam_identity: \"serviceAccount:service-1026793852137@cloud-redis.iam.gserviceaccount.com\"\n",
       "connect_mode: DIRECT_PEERING\n",
       "server_ca_certs {\n",
       "  serial_number: \"0\"\n",
       "  cert: \"-----BEGIN CERTIFICATE-----\\nMIIDnTCCAoWgAwIBAgIBADANBgkqhkiG9w0BAQsFADCBhTEtMCsGA1UELhMkOTVm\\nZmNlYmUtMDAwZi00NzYyLTkwYzctOGYxZWZhZGI1NzkxMTEwLwYDVQQDEyhHb29n\\nbGUgQ2xvdWQgTWVtb3J5c3RvcmUgUmVkaXMgU2VydmVyIENBMRQwEgYDVQQKEwtH\\nb29nbGUsIEluYzELMAkGA1UEBhMCVVMwHhcNMjQxMDI5MDI0MTIxWhcNMzQxMDI3\\nMDI0MjIxWjCBhTEtMCsGA1UELhMkOTVmZmNlYmUtMDAwZi00NzYyLTkwYzctOGYx\\nZWZhZGI1NzkxMTEwLwYDVQQDEyhHb29nbGUgQ2xvdWQgTWVtb3J5c3RvcmUgUmVk\\naXMgU2VydmVyIENBMRQwEgYDVQQKEwtHb29nbGUsIEluYzELMAkGA1UEBhMCVVMw\\nggEiMA0GCSqGSIb3DQEBAQUAA4IBDwAwggEKAoIBAQDjI/p6kW7bEU+Ekz29JK6J\\ntwx+LTtBXf3MHRXEkPh95o6vtM3L82lOevARyqpXxyOBlvDn/kyKBP37CA2qwCci\\nB4qH0QqavdZHkAV3P64Yma5lYFa135XTP0MCCPzOutp+kbhbUQf2F7Jx35cX2dAe\\nlh1GJBks0RYgtXlA3qM1c1Mq7rAXtO5gD5X9rUAca+RCAIOeYG16ktGq5Z6DNdZB\\ndCdskG8IPQKFN3IZUaRWfwK6QNLDjxuMTEK4MzuCsv/tGJjKqkRqFCKHLX/bM0ey\\npT3epHg/F8XlX7rQST9hrr40rdAcEzHtNxdiRwQApc8dJq32F8rMBReXgUZCrKJz\\nAgMBAAGjFjAUMBIGA1UdEwEB/wQIMAYBAf8CAQAwDQYJKoZIhvcNAQELBQADggEB\\nABH6HUW/xwKe+CYnppHtKVW5A2t/Gqp+wz1z2S+nyDqdpdb8Sk0IKcXWHoGufWO7\\nXKO1tV6SLQx99vQ88rK5HLsbeHQBiIQd/itF2vm75z1r/shFjUbJXDA+wlltC6uC\\ndZlGvX3SNA+SE4HtjXv1ROR6jvUIJ0doz1HYLVR5mDnkeLAk4Sm/0N+tYirpW76z\\nmq4jZh1jLJEGKWOd1N2X2Rb7oqs0sy5ixggrxQ6Po4SKw6NfFSqCFfJ8tpk/oaBE\\nAG4+840eR4sSYsIa6Fywf2c7D5viqV+2NcE7BYFH00vRtXTtJEiocOIiQjDcGV7a\\nI8//lufg4CEuIiUPfbFPwVE=\\n-----END CERTIFICATE-----\"\n",
       "  create_time {\n",
       "    seconds: 1730169741\n",
       "    nanos: 546080000\n",
       "  }\n",
       "  expire_time {\n",
       "    seconds: 2045529741\n",
       "    nanos: 316000000\n",
       "  }\n",
       "  sha1_fingerprint: \"2ed36e7fbf66700e319e3ec69c6ed68e1e549ff0\"\n",
       "}\n",
       "transit_encryption_mode: SERVER_AUTHENTICATION\n",
       "nodes {\n",
       "  id: \"node-0\"\n",
       "  zone: \"us-central1-c\"\n",
       "}\n",
       "read_replicas_mode: READ_REPLICAS_DISABLED\n",
       "persistence_config {\n",
       "  persistence_mode: DISABLED\n",
       "}\n",
       "maintenance_version: \"20240411_00_00\"\n",
       "available_maintenance_versions: \"20240503_00_00\"\n",
       "available_maintenance_versions: \"20240724_00_00\""
      ]
     },
     "execution_count": 28,
     "metadata": {},
     "output_type": "execute_result"
    }
   ],
   "source": [
    "redis_instance"
   ]
  },
  {
   "cell_type": "markdown",
   "id": "3968fbd7-a732-4f2d-a17d-957027c955fb",
   "metadata": {},
   "source": [
    "### Connect To Redis Instance\n",
    "\n",
    "Connect to the Redis instance using the [redis-py](https://redis-py.readthedocs.io/en/stable/) Python package. The following code create two clients using [redis.Redis()](https://redis-py.readthedocs.io/en/stable/connections.html#generic-client):\n",
    "- `r_client` with `decode_responses = True`\n",
    "- `b_client` with `decode_responses = False`\n",
    "\n",
    "Why two clients?  We will be storing data in the [Redis Hashes](https://redis.io/docs/latest/develop/data-types/hashes/) data type which is like a Python dictionary. Further, the embedding vectors will be converted to bytes objects before writing to Redis.  \n",
    "\n",
    "## more here\n",
    "- why bytes for the vectors\n",
    "- links to GCP info on this\n",
    "- two methods of using client: native and .execute_command\n",
    "- links to redis-py and GCP docs for langauge"
   ]
  },
  {
   "cell_type": "code",
   "execution_count": 30,
   "id": "da76f3de-a1e3-4b9e-a9f7-53f0d57210a8",
   "metadata": {
    "tags": []
   },
   "outputs": [],
   "source": [
    "with tempfile.NamedTemporaryFile(delete=False) as cert_file:\n",
    "    cert_file.write(redis_instance.server_ca_certs[0].cert.encode())  # Write certificate content\n",
    "    cert_path = cert_file.name"
   ]
  },
  {
   "cell_type": "code",
   "execution_count": 31,
   "id": "1571c6f5-da7f-4686-aafb-2be39c461af5",
   "metadata": {
    "tags": []
   },
   "outputs": [],
   "source": [
    "r_client = redis.Redis(\n",
    "    host = redis_instance.host,\n",
    "    port = redis_instance.port,\n",
    "    ssl = True,\n",
    "    ssl_ca_certs = cert_path,\n",
    "    decode_responses = True\n",
    ")"
   ]
  },
  {
   "cell_type": "code",
   "execution_count": 32,
   "id": "09306dd9-8e8f-4bca-a076-9c4d21e878c9",
   "metadata": {
    "tags": []
   },
   "outputs": [],
   "source": [
    "b_client = redis.Redis(\n",
    "    host = redis_instance.host,\n",
    "    port = redis_instance.port,\n",
    "    ssl = True,\n",
    "    ssl_ca_certs = cert_path,\n",
    "    decode_responses = False\n",
    ")"
   ]
  },
  {
   "cell_type": "code",
   "execution_count": 33,
   "id": "3ebbb366-b419-4dc8-83e9-705e4428752c",
   "metadata": {
    "tags": []
   },
   "outputs": [
    {
     "name": "stdout",
     "output_type": "stream",
     "text": [
      "Connected to Redis successfully!\n"
     ]
    }
   ],
   "source": [
    "try:\n",
    "    r_client.ping() and b_client.ping()\n",
    "    print(\"Connected to Redis successfully!\")\n",
    "except Exception as e:\n",
    "    print(f\"Error connecting to Redis: {e}\")"
   ]
  },
  {
   "cell_type": "markdown",
   "id": "bee9bc18-4279-44a5-8ec9-699628b2a1e2",
   "metadata": {},
   "source": [
    "### Prepare Data For Redis\n",
    "\n",
    "There are multiple storage [data formats](https://redis.io/docs/latest/develop/data-types/) possible with Redis.  [Hashing](https://redis.io/docs/latest/develop/data-types/hashes/) is like a Python dictionary and offers many advantages, like the vector search capability that will be used here.  To use the hash data type the embedding need to be serialized before inserting: https://cloud.google.com/memorystore/docs/redis/indexing-vectors"
   ]
  },
  {
   "cell_type": "code",
   "execution_count": 41,
   "id": "2213bb75-4070-4279-9dae-0aceba022f59",
   "metadata": {
    "tags": []
   },
   "outputs": [
    {
     "data": {
      "text/plain": [
       "dict_keys(['gse', 'chunk_id', 'content', 'embedding'])"
      ]
     },
     "execution_count": 41,
     "metadata": {},
     "output_type": "execute_result"
    }
   ],
   "source": [
    "content_chunks[0].keys()"
   ]
  },
  {
   "cell_type": "code",
   "execution_count": 42,
   "id": "4026ccec-59e2-44c8-81d7-49c41d17a075",
   "metadata": {
    "tags": []
   },
   "outputs": [],
   "source": [
    "for chunk in content_chunks:\n",
    "    chunk['embedding'] = np.array(chunk['embedding']).astype('float32').tobytes()"
   ]
  },
  {
   "cell_type": "code",
   "execution_count": 43,
   "id": "aba5ebce-b791-4498-8368-60a838c9f517",
   "metadata": {
    "tags": []
   },
   "outputs": [
    {
     "data": {
      "text/plain": [
       "bytes"
      ]
     },
     "execution_count": 43,
     "metadata": {},
     "output_type": "execute_result"
    }
   ],
   "source": [
    "type(content_chunks[0]['embedding'])"
   ]
  },
  {
   "cell_type": "code",
   "execution_count": 44,
   "id": "5c29255e-e99c-4ab9-9712-d58eea8fdf64",
   "metadata": {
    "tags": []
   },
   "outputs": [
    {
     "data": {
      "text/plain": [
       "3072"
      ]
     },
     "execution_count": 44,
     "metadata": {},
     "output_type": "execute_result"
    }
   ],
   "source": [
    "len(content_chunks[0]['embedding'])"
   ]
  },
  {
   "cell_type": "markdown",
   "id": "5a72b632-b01f-4ba5-8e8b-9ab8785f6eb3",
   "metadata": {},
   "source": [
    "### Add/Retrive/Delete Records To The Instance"
   ]
  },
  {
   "cell_type": "code",
   "execution_count": 45,
   "id": "b575010a-11c5-4b43-b3e5-8ed57492a6e6",
   "metadata": {
    "tags": []
   },
   "outputs": [],
   "source": [
    "first_record = content_chunks[0]"
   ]
  },
  {
   "cell_type": "code",
   "execution_count": 46,
   "id": "e6a36677-d8e5-47fc-b1d4-237282bcb0fc",
   "metadata": {
    "tags": []
   },
   "outputs": [
    {
     "data": {
      "text/plain": [
       "dict_keys(['gse', 'chunk_id', 'content', 'embedding'])"
      ]
     },
     "execution_count": 46,
     "metadata": {},
     "output_type": "execute_result"
    }
   ],
   "source": [
    "first_record.keys()"
   ]
  },
  {
   "cell_type": "code",
   "execution_count": 47,
   "id": "d2463d83-aa30-434c-92fd-76244fef318d",
   "metadata": {
    "tags": []
   },
   "outputs": [
    {
     "data": {
      "text/plain": [
       "'fannie_part_0_c17'"
      ]
     },
     "execution_count": 47,
     "metadata": {},
     "output_type": "execute_result"
    }
   ],
   "source": [
    "first_record['chunk_id']"
   ]
  },
  {
   "cell_type": "code",
   "execution_count": 50,
   "id": "5aa7454c-2c13-4478-84e5-a9c417398d82",
   "metadata": {
    "tags": []
   },
   "outputs": [
    {
     "name": "stdout",
     "output_type": "stream",
     "text": [
      "Adding the record to the database: fannie_part_0_c17\n"
     ]
    }
   ],
   "source": [
    "if r_client.exists(first_record['chunk_id']):\n",
    "    print(f\"Found this record already in the database: {first_record['chunk_id']}\")\n",
    "else:\n",
    "    print(f\"Adding the record to the database: {first_record['chunk_id']}\")\n",
    "    r_client.hset(first_record['chunk_id'], mapping = first_record)"
   ]
  },
  {
   "cell_type": "code",
   "execution_count": 51,
   "id": "b706da4a-8154-4ee0-b541-2f50c20e5f16",
   "metadata": {
    "tags": []
   },
   "outputs": [
    {
     "data": {
      "text/plain": [
       "'fannie'"
      ]
     },
     "execution_count": 51,
     "metadata": {},
     "output_type": "execute_result"
    }
   ],
   "source": [
    "r_client.hget(first_record['chunk_id'], 'gse')"
   ]
  },
  {
   "cell_type": "code",
   "execution_count": 54,
   "id": "7df79924-a642-4ce7-ab08-4faf152a6fdd",
   "metadata": {
    "tags": []
   },
   "outputs": [
    {
     "data": {
      "text/plain": [
       "b'fannie'"
      ]
     },
     "execution_count": 54,
     "metadata": {},
     "output_type": "execute_result"
    }
   ],
   "source": [
    "b_client.hget(first_record['chunk_id'], 'gse')"
   ]
  },
  {
   "cell_type": "code",
   "execution_count": 52,
   "id": "7e152d41-d1e2-420e-8713-9e57633c00d2",
   "metadata": {
    "tags": []
   },
   "outputs": [
    {
     "data": {
      "text/plain": [
       "'# Selling Guide Fannie Mae Single Family\\n\\n## Fannie Mae Copyright Notice\\n\\n### Fannie Mae Copyright Notice\\n\\n|-|\\n| Section B3-4.2, Verification of Depository Assets 402 |\\n| B3-4.2-01, Verification of Deposits and Assets (05/04/2022) 403 |\\n| B3-4.2-02, Depository Accounts (12/14/2022) 405 |\\n| B3-4.2-03, Individual Development Accounts (02/06/2019) 408 |\\n| B3-4.2-04, Pooled Savings (Community Savings Funds) (04/01/2009) 411 |\\n| B3-4.2-05, Foreign Assets (05/04/2022) 411 |\\n| Section B3-4.3, Verification of Non-Depository Assets 412 |\\n| B3-4.3-01, Stocks, Stock Options, Bonds, and Mutual Funds (06/30/2015) 412 |\\n| B3-4.3-02, Trust Accounts (04/01/2009) 413 |\\n| B3-4.3-03, Retirement Accounts (06/30/2015) 414 |\\n| B3-4.3-04, Personal Gifts (09/06/2023) 415 |\\n| B3-4.3-05, Gifts of Equity (10/07/2020) 418 |\\n| B3-4.3-06, Grants and Lender Contributions (12/14/2022) 419 |\\n| B3-4.3-07, Disaster Relief Grants or Loans (04/01/2009) 423 |\\n| B3-4.3-08, Employer Assistance (09/29/2015) 423 |\\n| B3-4.3-09, Earnest Money Deposit (05/04/2022) 425 |\\n| B3-4.3-10, Anticipated Sales Proceeds (02/23/2016) B3-4.3-11, Trade Equity (12/16/2020) 426 428 |\\n| B3-4.3-12, Rent-Related Credits (08/07/2024) 429 |\\n| B3-4.3-13, Sweat Equity (04/15/2014) 430 |\\n| B3-4.3-14, Bridge/Swing Loans (04/01/2009) 431 |\\n| B3-4.3-15, Borrowed Funds Secured by an Asset (10/30/2009) 431 |\\n|  |\\n\\n'"
      ]
     },
     "execution_count": 52,
     "metadata": {},
     "output_type": "execute_result"
    }
   ],
   "source": [
    "r_client.hget(first_record['chunk_id'], 'content')"
   ]
  },
  {
   "cell_type": "code",
   "execution_count": 53,
   "id": "52dc1493-1111-41be-aa4c-2be6b881b370",
   "metadata": {
    "tags": []
   },
   "outputs": [
    {
     "data": {
      "text/plain": [
       "['fannie',\n",
       " '# Selling Guide Fannie Mae Single Family\\n\\n## Fannie Mae Copyright Notice\\n\\n### Fannie Mae Copyright Notice\\n\\n|-|\\n| Section B3-4.2, Verification of Depository Assets 402 |\\n| B3-4.2-01, Verification of Deposits and Assets (05/04/2022) 403 |\\n| B3-4.2-02, Depository Accounts (12/14/2022) 405 |\\n| B3-4.2-03, Individual Development Accounts (02/06/2019) 408 |\\n| B3-4.2-04, Pooled Savings (Community Savings Funds) (04/01/2009) 411 |\\n| B3-4.2-05, Foreign Assets (05/04/2022) 411 |\\n| Section B3-4.3, Verification of Non-Depository Assets 412 |\\n| B3-4.3-01, Stocks, Stock Options, Bonds, and Mutual Funds (06/30/2015) 412 |\\n| B3-4.3-02, Trust Accounts (04/01/2009) 413 |\\n| B3-4.3-03, Retirement Accounts (06/30/2015) 414 |\\n| B3-4.3-04, Personal Gifts (09/06/2023) 415 |\\n| B3-4.3-05, Gifts of Equity (10/07/2020) 418 |\\n| B3-4.3-06, Grants and Lender Contributions (12/14/2022) 419 |\\n| B3-4.3-07, Disaster Relief Grants or Loans (04/01/2009) 423 |\\n| B3-4.3-08, Employer Assistance (09/29/2015) 423 |\\n| B3-4.3-09, Earnest Money Deposit (05/04/2022) 425 |\\n| B3-4.3-10, Anticipated Sales Proceeds (02/23/2016) B3-4.3-11, Trade Equity (12/16/2020) 426 428 |\\n| B3-4.3-12, Rent-Related Credits (08/07/2024) 429 |\\n| B3-4.3-13, Sweat Equity (04/15/2014) 430 |\\n| B3-4.3-14, Bridge/Swing Loans (04/01/2009) 431 |\\n| B3-4.3-15, Borrowed Funds Secured by an Asset (10/30/2009) 431 |\\n|  |\\n\\n']"
      ]
     },
     "execution_count": 53,
     "metadata": {},
     "output_type": "execute_result"
    }
   ],
   "source": [
    "r_client.hmget(first_record['chunk_id'], ['gse', 'content'])"
   ]
  },
  {
   "cell_type": "code",
   "execution_count": 55,
   "id": "dabddfe3-ccc8-466a-baf3-b47becbd4713",
   "metadata": {
    "tags": []
   },
   "outputs": [
    {
     "data": {
      "text/plain": [
       "1"
      ]
     },
     "execution_count": 55,
     "metadata": {},
     "output_type": "execute_result"
    }
   ],
   "source": [
    "r_client.hdel(first_record['chunk_id'], 'embedding')"
   ]
  },
  {
   "cell_type": "code",
   "execution_count": 56,
   "id": "598f8183-fd83-4278-9d6c-63569e5a6f33",
   "metadata": {
    "tags": []
   },
   "outputs": [
    {
     "data": {
      "text/plain": [
       "{'chunk_id': 'fannie_part_0_c17',\n",
       " 'content': '# Selling Guide Fannie Mae Single Family\\n\\n## Fannie Mae Copyright Notice\\n\\n### Fannie Mae Copyright Notice\\n\\n|-|\\n| Section B3-4.2, Verification of Depository Assets 402 |\\n| B3-4.2-01, Verification of Deposits and Assets (05/04/2022) 403 |\\n| B3-4.2-02, Depository Accounts (12/14/2022) 405 |\\n| B3-4.2-03, Individual Development Accounts (02/06/2019) 408 |\\n| B3-4.2-04, Pooled Savings (Community Savings Funds) (04/01/2009) 411 |\\n| B3-4.2-05, Foreign Assets (05/04/2022) 411 |\\n| Section B3-4.3, Verification of Non-Depository Assets 412 |\\n| B3-4.3-01, Stocks, Stock Options, Bonds, and Mutual Funds (06/30/2015) 412 |\\n| B3-4.3-02, Trust Accounts (04/01/2009) 413 |\\n| B3-4.3-03, Retirement Accounts (06/30/2015) 414 |\\n| B3-4.3-04, Personal Gifts (09/06/2023) 415 |\\n| B3-4.3-05, Gifts of Equity (10/07/2020) 418 |\\n| B3-4.3-06, Grants and Lender Contributions (12/14/2022) 419 |\\n| B3-4.3-07, Disaster Relief Grants or Loans (04/01/2009) 423 |\\n| B3-4.3-08, Employer Assistance (09/29/2015) 423 |\\n| B3-4.3-09, Earnest Money Deposit (05/04/2022) 425 |\\n| B3-4.3-10, Anticipated Sales Proceeds (02/23/2016) B3-4.3-11, Trade Equity (12/16/2020) 426 428 |\\n| B3-4.3-12, Rent-Related Credits (08/07/2024) 429 |\\n| B3-4.3-13, Sweat Equity (04/15/2014) 430 |\\n| B3-4.3-14, Bridge/Swing Loans (04/01/2009) 431 |\\n| B3-4.3-15, Borrowed Funds Secured by an Asset (10/30/2009) 431 |\\n|  |\\n\\n',\n",
       " 'gse': 'fannie'}"
      ]
     },
     "execution_count": 56,
     "metadata": {},
     "output_type": "execute_result"
    }
   ],
   "source": [
    "r_client.hgetall(first_record['chunk_id'])"
   ]
  },
  {
   "cell_type": "code",
   "execution_count": 57,
   "id": "1bdd656a-7781-4bc4-95d6-7ccbb5c075cd",
   "metadata": {
    "tags": []
   },
   "outputs": [
    {
     "data": {
      "text/plain": [
       "1"
      ]
     },
     "execution_count": 57,
     "metadata": {},
     "output_type": "execute_result"
    }
   ],
   "source": [
    "r_client.delete(first_record['chunk_id'])"
   ]
  },
  {
   "cell_type": "markdown",
   "id": "f38b9077-ac0f-4884-8b10-5522a7f008d3",
   "metadata": {},
   "source": [
    "### Load All Documents To The Instance\n",
    "\n",
    "Use a pipeline to efficiently load all the records.\n",
    "\n",
    "https://redis-py.readthedocs.io/en/stable/examples/pipeline_examples.html"
   ]
  },
  {
   "cell_type": "code",
   "execution_count": 58,
   "id": "ccfacb9d-0189-428f-9e8b-e6e21248c6a8",
   "metadata": {
    "tags": []
   },
   "outputs": [],
   "source": [
    "# check for chunk loading status\n",
    "with r_client.pipeline() as pipe:\n",
    "    for chunk in content_chunks:\n",
    "        pipe.exists(chunk['chunk_id'])\n",
    "    exists_results = pipe.execute()"
   ]
  },
  {
   "cell_type": "code",
   "execution_count": 59,
   "id": "c4e57635-ca6a-438b-b8b4-052a740015bd",
   "metadata": {
    "tags": []
   },
   "outputs": [],
   "source": [
    "# load missing chunks\n",
    "with r_client.pipeline() as pipe:\n",
    "    load_indexes = []\n",
    "    for i, (chunk, exists) in enumerate(zip(content_chunks, exists_results)):\n",
    "        if not exists:\n",
    "            load_indexes.append(i)\n",
    "            pipe.hset(chunk['chunk_id'], mapping=chunk)\n",
    "    load_results = pipe.execute()"
   ]
  },
  {
   "cell_type": "code",
   "execution_count": 60,
   "id": "d376b172-205d-4414-b837-4f9dfae2ec56",
   "metadata": {
    "tags": []
   },
   "outputs": [
    {
     "name": "stdout",
     "output_type": "stream",
     "text": [
      "All chunks(9040) loaded successfully.\n"
     ]
    }
   ],
   "source": [
    "# check for loading issues and give first failure id info for diagnostic\n",
    "if all(load_results):\n",
    "    print(f'All chunks({len(load_results)}) loaded successfully.')\n",
    "else:\n",
    "    print(f\"During loading {load_results.count(0)} records were not successfully loaded.\")\n",
    "    first_fail_index = load_indexes[load_results.index(0)]\n",
    "    print(f\"Start troubleshooting with the record at index {first_fail_index} which as has 'chunk_id' = {content_chunks[first_fail_index]['chunk_id']}\")"
   ]
  },
  {
   "cell_type": "code",
   "execution_count": 61,
   "id": "c8645a63-7d2e-4d67-b37a-54a6ac4bc18d",
   "metadata": {
    "tags": []
   },
   "outputs": [
    {
     "data": {
      "text/plain": [
       "'fannie'"
      ]
     },
     "execution_count": 61,
     "metadata": {},
     "output_type": "execute_result"
    }
   ],
   "source": [
    "r_client.hget(first_record['chunk_id'], 'gse')"
   ]
  },
  {
   "cell_type": "code",
   "execution_count": 62,
   "id": "237f00eb-22dd-4771-80da-82f13975c49a",
   "metadata": {
    "tags": []
   },
   "outputs": [
    {
     "data": {
      "text/plain": [
       "4"
      ]
     },
     "execution_count": 62,
     "metadata": {},
     "output_type": "execute_result"
    }
   ],
   "source": [
    "r_client.hlen(first_record['chunk_id'])"
   ]
  },
  {
   "cell_type": "code",
   "execution_count": 63,
   "id": "cfddd4e2-72e1-4a25-950c-f8bd0ae9f5f0",
   "metadata": {
    "tags": []
   },
   "outputs": [
    {
     "data": {
      "text/plain": [
       "9040"
      ]
     },
     "execution_count": 63,
     "metadata": {},
     "output_type": "execute_result"
    }
   ],
   "source": [
    "r_client.dbsize()"
   ]
  },
  {
   "cell_type": "markdown",
   "id": "11b729b1-c93e-4a85-b97c-1f3737998c28",
   "metadata": {},
   "source": [
    "### Create An Index\n",
    "\n",
    "https://redis.io/docs/latest/develop/interact/search-and-query/advanced-concepts/vectors/\n",
    "\n",
    "https://redis-py.readthedocs.io/en/stable/examples/search_vector_similarity_examples.html#KNN-Queries\n",
    "\n",
    "https://redis.io/docs/latest/develop/get-started/vector-database/#create-an-index"
   ]
  },
  {
   "cell_type": "code",
   "execution_count": 173,
   "id": "2c234638-3771-4236-a1f7-59923bc85cad",
   "metadata": {
    "tags": []
   },
   "outputs": [
    {
     "name": "stdout",
     "output_type": "stream",
     "text": [
      "Create the index ...\n",
      "Index Created: flat-index\n"
     ]
    }
   ],
   "source": [
    "INDEX_NAME = 'flat-index'\n",
    "\n",
    "try:\n",
    "    check_index = client.ft(INDEX_NAME).info()\n",
    "    print(f\"This index already exists: {check_index['index_name']}\")\n",
    "except Exception:\n",
    "    print(f'Create the index ...')\n",
    "    schema = (\n",
    "        #redis.commands.search.field.TagField(name = \"gse\"),\n",
    "        redis.commands.search.field.VectorField(\n",
    "            'embedding',\n",
    "            'FLAT',\n",
    "            dict(\n",
    "                TYPE = 'FLOAT32',\n",
    "                DIM = len(question_embedding),\n",
    "                DISTANCE_METRIC = 'IP' # dot product\n",
    "            )\n",
    "        )\n",
    "    )\n",
    "    index_def = redis.commands.search.indexDefinition.IndexDefinition(\n",
    "        #prefix = [], # defaults to all, this is a list of namespaces/prefixes to index\n",
    "        index_type = redis.commands.search.indexDefinition.IndexType.HASH\n",
    "    )\n",
    "    client.ft(INDEX_NAME).create_index(fields = schema, definition = index_def)\n",
    "    check_index = client.ft(INDEX_NAME).info()\n",
    "    print(f\"Index Created: {check_index['index_name']}\")"
   ]
  },
  {
   "cell_type": "code",
   "execution_count": 174,
   "id": "7a6ea3fd-b4cd-40f8-aa3f-c929c079e165",
   "metadata": {
    "tags": []
   },
   "outputs": [
    {
     "name": "stdout",
     "output_type": "stream",
     "text": [
      "Create the index ...\n",
      "Index Created: hnsw-index\n"
     ]
    }
   ],
   "source": [
    "INDEX_NAME = 'hnsw-index'\n",
    "\n",
    "try:\n",
    "    check_index = client.ft(INDEX_NAME).info()\n",
    "    print(f\"This index already exists: {check_index['index_name']}\")\n",
    "except Exception:\n",
    "    print(f'Create the index ...')\n",
    "    schema = (\n",
    "        #redis.commands.search.field.TagField(name = \"gse\"),\n",
    "        redis.commands.search.field.VectorField(\n",
    "            'embedding',\n",
    "            'HNSW',\n",
    "            dict(\n",
    "                TYPE = 'FLOAT32',\n",
    "                DIM = len(question_embedding),\n",
    "                DISTANCE_METRIC = 'IP' # dot product\n",
    "            )\n",
    "        )\n",
    "    )\n",
    "    index_def = redis.commands.search.indexDefinition.IndexDefinition(\n",
    "        #prefix = [], # defaults to all, this is a list of namespaces/prefixes to index\n",
    "        index_type = redis.commands.search.indexDefinition.IndexType.HASH\n",
    "    )\n",
    "    client.ft(INDEX_NAME).create_index(fields = schema, definition = index_def)\n",
    "    check_index = client.ft(INDEX_NAME).info()\n",
    "    print(f\"Index Created: {check_index['index_name']}\")"
   ]
  },
  {
   "cell_type": "code",
   "execution_count": null,
   "id": "23b6558c-6cac-43b9-977d-742fc406a5ec",
   "metadata": {},
   "outputs": [],
   "source": []
  },
  {
   "cell_type": "code",
   "execution_count": null,
   "id": "e5ecfb26-7230-4a29-82d6-f46b26263e01",
   "metadata": {},
   "outputs": [],
   "source": []
  },
  {
   "cell_type": "code",
   "execution_count": null,
   "id": "3383cc83-25ae-40aa-8af6-838b80f81bfc",
   "metadata": {
    "tags": []
   },
   "outputs": [],
   "source": [
    "INDEX_NAME = 'flat-index'\n",
    "\n",
    "command = (\n",
    "    f\"FT.CREATE {INDEX_NAME} ON HASH \"\n",
    "    f\"SCHEMA embedding VECTOR FLAT 6 \"\n",
    "    f\"TYPE FLOAT32 \"\n",
    "    f\"DIM {len(question_embedding)} \"\n",
    "    f\"DISTANCE_METRIC IP \"\n",
    ")\n",
    "\n",
    "\n",
    "client.execute_command(command)"
   ]
  },
  {
   "cell_type": "code",
   "execution_count": 65,
   "id": "a0c4fc4c-e78b-4eea-9b93-3c6639f83b22",
   "metadata": {
    "tags": []
   },
   "outputs": [
    {
     "name": "stdout",
     "output_type": "stream",
     "text": [
      "This index already exists: flat-index\n"
     ]
    }
   ],
   "source": [
    "INDEX_NAME = 'flat-index'\n",
    "\n",
    "try:\n",
    "    check_index = r_client.ft(INDEX_NAME).info()\n",
    "    print(f\"This index already exists: {check_index['index_name']}\")\n",
    "except Exception:\n",
    "    print(f'Create the index ...')\n",
    "\n",
    "    command = (\n",
    "        f\"FT.CREATE {INDEX_NAME} ON HASH \"\n",
    "        f\"SCHEMA embedding VECTOR FLAT 6 \"\n",
    "        f\"TYPE FLOAT32 \"\n",
    "        f\"DIM {len(question_embedding)} \"\n",
    "        f\"DISTANCE_METRIC IP \"\n",
    "    )\n",
    "\n",
    "    r_client.execute_command(command)\n",
    "    \n",
    "    print(f'Checking for index backfill ...')\n",
    "    while True:\n",
    "        check_index = r_client.ft(INDEX_NAME).info()\n",
    "        if check_index['backfill_in_progress'] == '1':\n",
    "            complete_pct = 100*float(check_index['backfill_complete_percent'])\n",
    "            print(f\"Backfill still in progress with {complete_pct:.2f} percent complete ...\")\n",
    "            time.sleep(10)\n",
    "        else:\n",
    "            print(f\"Backfill complete.\")\n",
    "            print(f\"Index created and covers {check_index['num_docs']} records\")\n",
    "            break"
   ]
  },
  {
   "cell_type": "code",
   "execution_count": 69,
   "id": "ddb0d48d-068c-4fc7-bb98-c03bf9665970",
   "metadata": {
    "tags": []
   },
   "outputs": [
    {
     "name": "stdout",
     "output_type": "stream",
     "text": [
      "Create the index ...\n",
      "Checking for index backfill ...\n",
      "Backfill still in progress with 0.00 percent complete ...\n",
      "Backfill still in progress with 22.72 percent complete ...\n",
      "Backfill still in progress with 39.81 percent complete ...\n",
      "Backfill still in progress with 53.53 percent complete ...\n",
      "Backfill still in progress with 65.74 percent complete ...\n",
      "Backfill still in progress with 77.05 percent complete ...\n",
      "Backfill still in progress with 87.60 percent complete ...\n",
      "Backfill still in progress with 97.61 percent complete ...\n",
      "Backfill complete.\n",
      "Index created and covers 9040 records\n"
     ]
    }
   ],
   "source": [
    "INDEX_NAME = 'hnsw-index'\n",
    "\n",
    "try:\n",
    "    check_index = r_client.ft(INDEX_NAME).info()\n",
    "    print(f\"This index already exists: {check_index['index_name']}\")\n",
    "except Exception:\n",
    "    print(f'Create the index ...')\n",
    "\n",
    "    command = (\n",
    "        f\"FT.CREATE {INDEX_NAME} ON HASH \"\n",
    "        f\"SCHEMA embedding VECTOR HNSW 6 \"\n",
    "        f\"TYPE FLOAT32 \"\n",
    "        f\"DIM {len(question_embedding)} \"\n",
    "        f\"DISTANCE_METRIC IP \"\n",
    "    )\n",
    "\n",
    "    r_client.execute_command(command)\n",
    "    \n",
    "    print(f'Checking for index backfill ...')\n",
    "    while True:\n",
    "        check_index = r_client.ft(INDEX_NAME).info()\n",
    "        if check_index['backfill_in_progress'] == '1':\n",
    "            complete_pct = 100*float(check_index['backfill_complete_percent'])\n",
    "            print(f\"Backfill still in progress with {complete_pct:.2f} percent complete ...\")\n",
    "            time.sleep(1)\n",
    "        else:\n",
    "            print(f\"Backfill complete.\")\n",
    "            print(f\"Index created and covers {check_index['num_docs']} records\")\n",
    "            break"
   ]
  },
  {
   "cell_type": "markdown",
   "id": "471649a3-cf4c-4d0e-b767-43cb45b65f47",
   "metadata": {},
   "source": [
    "### Check The Index State"
   ]
  },
  {
   "cell_type": "code",
   "execution_count": 73,
   "id": "333ece1d-c594-4a2b-8971-e864b723b3d7",
   "metadata": {
    "tags": []
   },
   "outputs": [
    {
     "data": {
      "text/plain": [
       "['flat-index', 'hnsw-index']"
      ]
     },
     "execution_count": 73,
     "metadata": {},
     "output_type": "execute_result"
    }
   ],
   "source": [
    "r_client.execute_command(\n",
    "    'FT._LIST'\n",
    ")"
   ]
  },
  {
   "cell_type": "raw",
   "id": "4bdd37c5-a871-4ccd-a05a-e6fb54817366",
   "metadata": {
    "tags": []
   },
   "source": [
    "r_client.execute_command(\n",
    "    'FT.DROPINDEX', 'flat-index'\n",
    ")"
   ]
  },
  {
   "cell_type": "raw",
   "id": "fb4a96b2-3b8f-42e9-b3e7-951d7047df1c",
   "metadata": {
    "tags": []
   },
   "source": [
    "r_client.execute_command(\n",
    "    'FT.DROPINDEX', 'hnsw-index'\n",
    ")"
   ]
  },
  {
   "cell_type": "code",
   "execution_count": 74,
   "id": "c8506456-72aa-41ec-ac11-d6f40006d538",
   "metadata": {
    "tags": []
   },
   "outputs": [],
   "source": [
    "check_index = r_client.ft('flat-index').info()"
   ]
  },
  {
   "cell_type": "code",
   "execution_count": 75,
   "id": "bba50f7b-0d17-41ac-97b9-ff357e78e753",
   "metadata": {
    "tags": []
   },
   "outputs": [
    {
     "data": {
      "text/plain": [
       "{'index_name': 'flat-index',\n",
       " 'index_options': [],\n",
       " 'index_definition': ['key_type',\n",
       "  'HASH',\n",
       "  'prefixes',\n",
       "  [''],\n",
       "  'default_score',\n",
       "  '1'],\n",
       " 'attributes': [['identifier',\n",
       "   'embedding',\n",
       "   'attribute',\n",
       "   'embedding',\n",
       "   'type',\n",
       "   'VECTOR',\n",
       "   'index',\n",
       "   ['capacity',\n",
       "    10240,\n",
       "    'dimensions',\n",
       "    768,\n",
       "    'distance_metric',\n",
       "    'IP',\n",
       "    'data_type',\n",
       "    'FLOAT32',\n",
       "    'algorithm',\n",
       "    ['name', 'FLAT', 'block_size', 1024]]]],\n",
       " 'num_docs': '9040',\n",
       " 'num_terms': '0',\n",
       " 'num_records': '9040',\n",
       " 'hash_indexing_failures': '0',\n",
       " 'backfill_in_progress': '0',\n",
       " 'backfill_complete_percent': '1.000000',\n",
       " 'mutation_queue_size': '0',\n",
       " 'recent_mutations_queue_delay': '0 sec'}"
      ]
     },
     "execution_count": 75,
     "metadata": {},
     "output_type": "execute_result"
    }
   ],
   "source": [
    "check_index"
   ]
  },
  {
   "cell_type": "markdown",
   "id": "f6a46d2c-0f86-418b-840a-afded7dea0bf",
   "metadata": {},
   "source": [
    "### Matching"
   ]
  },
  {
   "cell_type": "code",
   "execution_count": 79,
   "id": "f81911d0-0fbc-4bb7-83b5-24f64ea166be",
   "metadata": {
    "tags": []
   },
   "outputs": [
    {
     "data": {
      "text/plain": [
       "[5,\n",
       " b'fannie_part_0_c326',\n",
       " [b'distance',\n",
       "  b'0.331650435925',\n",
       "  b'embedding',\n",
       "  b'L\\x05&=l<\\x9d<$\\x80;=\\xd6/\\x04=\\x95\\x1b+\\xbd\\x88V_=\\x8cQ\\xee\\xbbU\\xa0\\x87<\\xb3s\\xc5\\xbc\\xad\\xf2-=\\x154\\xe2;\\x11\\x1d1=DS\\x8e=\\x87\\xadT<w!\\xa3\\xbc{\\xdb\\xc8\\xbc7\\xdc\\xcf<PA==O(\\x9c\\xbcx<\\xb6\\xba\\xdc\\x02\\x14\\xbdO\\xdf\\xa1<6\\x8a\\xb6\\xbd\\xebc\\x8c\\xbc\\xa1\\xa9\\'<c\\x86\\xc5\\xbd0\\\\G=9\\xdf\\xa9\\xbd@\\xd5\\xc1\\xbcW\\x03M\\xbd2\\x8b\\x85<S\\xa8\\x95<\\x12\\xd7\\t\\xbc\\x95Z\\x9c\\xbdCb4\\xbc\\xc3\\xb4\\n<H\\x9a\\xc7\\xba\\x85?\\xbb<\\xbaP\\x9a:\\x00\\x1b6\\xbd;\\xa4\\xab\\xbc\\xc2\\x8dm\\xbcC(U\\xbc\\xa7u\\x01<6{%\\xbdf\\x90\\x82\\xbd@{\\x1b=j\\x01x=0s\\xc3\\xbd&,\\x8d\\xbbG\\x1d\\x12\\xbb\\xda\\x15\\xa7=\\xc0l0\\xbb\\xb3\\xbf\\x8a;5\\n\\x19<d\\x8e(\\xbd\\xed\\xa8\\x0f<\\xb6\\xd0\\xc1\\xbc(\\x8a\\xa6\\xbcSfI\\xbd\\xe9\\x14\\xda\\xbb\\xbe<B=\\x15\\xeb\\xb6<\\xafz\\xac\\xbcyf*\\xbci\\xde\\x86\\xbcr\\x050\\xbdh\\x9c.\\xbd\\xec(\\x1f\\xbdaG\\x84<h\\x95m\\xbd\\xd8\\x9f\\x9e<\\xfb\\xdd\\x9c<<\\x0f\\xa8<\\xa7\\\\\\x8e\\xbc\\xc7\\x8f`\\xbd3\\x84\\x9d\\xbb=\\x86V\\xbc\\x9c\\xed\\xcd<-\\xfe\\x19=\\xccN\\x89\\xbd\\xa2o\\x10=\\xa3\\x9b\\x0c=\\x1a\\xae\\x8b\\xba\\xd9\\xe2\\x12<\\x02\\xb88:ng\\x0b=\\x98/\\xb0\\xbd\\xe3\\x98\\xb5\\xbc\\x9d\\x04b<ln^=\\xe6{\\xd6<\\nKs\\xbc/>\\x95<jW\\xc6\\xbcM8r;\\xa3r\\xf9\\xbc\\x8d\\x85z\\xbd\\xb2\\xc3\\x87:\\xbd[c=\\xb1\\xae\\x98;D\\x1e\\xaa<\\x8a\\xe8\\x93\\xbc8\\x89T\\xbd\\xd27)=\\x8e$\\x02\\xbd\\xaa\\t\\xa4\\xbd\\xbd\\x86N=\\xf0n\\x8b\\xbd\\x0ef,;\\x85\\x14#<\\xe5\\xf0\\xa2=h\\xbe\\x87<\\xf5\\xca\\x14=J\\x1c\\xd9\\xba\\x16\\x94K\\xbdx\\x1a7=\\x9f\\x81\\x99\\xbczr\\xfb\\xbc&\\xdc\\xc7\\xbc\\xe30\\n=NJ\\x05<[\\xb7\\xa1\\xbc\\x8d\"v=\\x10\\xa7h=t\\xae\\x88\\xbc\\xa6\\x95\\xa4<\\x19\\x100\\xbb\\xe7\\x18h\\xbd\\xe1\\xd4\\x1d=\\x89\\x84\\x96=\\xaaw\\xc3\\xbc\\xf9S\\xff;\\x10~N=`\\xe8\\xd8<!\\xd6\\x0c\\xbd/\\x81\\xd1<\\x17\\x1c\\xab:\\xd4\\xc7\\x18\\xbd\\xd7\\x8a\\xed;-T\\xb4;\\t\\x06\\x01\\xbd\\xc9,\\xdb\\xbd\\x0c<\\xc2=\\x1a \\x01=\\xd8\\x82o\\xbc\\xd3pE=\\xf2,\\xc8=\\xfe\\xaaU\\xbd)\\xc2\\n=\\x9a\\xe9\\x87\\xbcV\\xccD\\xbc\\x0b\\x1b\\r:\\x117\\x05\\xbc\\x80jf<Np\\xe2\\xbcx\\'\\x81<Zo\\x9c\\xbd\\\\\\x0bK=\\x12\\x9f\\xfe;\\xae\\xf0)=\\xec\\x83\\x05\\xbdP\\x85\\x1b=%q\\x17;\\xbd\\xc3\\xbe\\xbc\\xbe\\xcc\\xd6;\\x8b\\xa0#\\xbc\\xafu8\\xbd\\xa3\\x9b\\xc5\\xb9\\xce\\xb6\\x7f;\\xac\\xe0z\\xbc\\x02\\xabv\\xbd\\xfc\\t]\\xbd\\x0e\\r\\x8f\\xbdw\\xa0O=\\x8d?\\n\\xbc\\xe7\\x81|=\\xf5\\xa9F\\xbd\\xc2\\xe6K\\xbdF\\xc2I\\xbd\\x8f(#=\\x01)\\x95<P-\\n\\xbc\\xc3\\xa6\\xd3<I\\xb1\\x17\\xbct5\\x00\\xbdq\\xa9N\\xbc\\xef\\x9d\\xd1<\\xa8\\x06\\xe8<\\xf5,\\x1e\\xbdo\\xec\\xa0<\\x9e+\\x88;G,\\xc5\\xbcyA\\x97<5,\\x1d\\xbd\\xdaX\\xe7\\xbc\\xc9\\xe5x\\xbdw\\xae\\x9e\\xbc\\xf3T\\xbc\\xbc\\xfb\\xc4$\\xbd(\\xc4\\x92\\xbc\\x84\\xa8\\xb1\\xbc\\xd1Y\\x1f=\\x06\\x97\\x93\\xbb\\xc5\\xa8;=-\\xdc\\xfa<%\\x17\\xfc\\xbc$\\xb7\\x9e\\xbc\\x00\\xb1\\x9d\\xbc\\xb4\\xbb\\x8d\\xbc\\r\\xbf\\xf6\\xbc\\xe1V\\x8c\\xbb\\x0b\\xcd(\\xbb\\xe9\\xd7O\\xbca,\\xf8\\xbb/\\xd5\\x80;\\x91(\\x80=\\xd7dr<\\x14\\xc7\\x86=@\\xf6\\xf0\\xbc\\x834\\x93<H:\\xda;\\xb8\\xf7\\x88\\xbcG$\\xaa\\xbcVf\\xfd;\\xd9\\xc7i=\\x1ah1<G]\\x8b<\\xcbS\\xc2<PG\\xb8\\xbc\\x04X\\xb2<PUq=,\\xbdb\\xbc\\x8f\\xdf6\\xbb\\x0c\\xb7\\x8f\\xb9y\\x15\\x98=?)\\x0e=\\xfa.\\x14\\xbdq\\xf7\\xcf\\xbbVd^=\\xb9\\xa1\\xaf<\\x8c\\'\\xe9<\\x07\\xc63=\\x9b\\xda\\x9e\\xbcZ\\x87\\xf28~\\x1c\\x9f=\\xae$y=\\xe1\\xb0\\x0c\\xbd\\xc6\\xff\\xf7\\xb9iW\\xc3\\xbd\\x8a(\\x01\\xbc\\xfbP2;\\xc9\\xfa\\xf1\\xbc\\xa7\\x0fL<F\\xc5#\\xbd\\x13&\"=\\x13\\xf9\\xa8\\xbc,mg<\\xa7\\xb2\\x10\\xbci\\xaa3\\xbc\\xcf\\x83\\xc0<E\\x86X\\xbc\\x13\\xcdS;\\xf3\\xa76\\xbd\\x85\\xd7\\xc7\\xb9\\x1ah>\\xbc)\\xfa\\x84;\\xb2\\xac\\xa8\\xbdWE,\\xbd\\x06G;\\xbd\\xe3\\xad-\\xbbhsd;1\\xde\\xb0\\xbc4?K9)\\xc6\\x03\\xbc\\xc3\\x0b\\x99;\\x11\\x8cM<1\\x9e2\\xbc`\\x0f\\x00\\xbd\\x16;\\x8d\\xbd\\xc0\"j=\\xfc\\x04\\xdd:\\xf2\\xe1]<}\\xdf\\x17\\xbd$\\x17f<\\x18wr\\xbd\\x18\\x9c\\xda<<P\\xe1<\\xb4\\xb5x<\\r\\x02\\x96<\\xb3:\\xd7\\xbc\\xac\\xac\\xd9<Ai\\xa5<\\xde-\\xea\\xb9\\x86\\xfa\\x0e\\xbd8\\x9f\\x0f<|M5=&Aa\\xbb\\xb0=J\\xbdc0\\x04\\xbd,\\xc6\"=Zk\\x1e={\\x85\\x98\\xbbA\\xe9\\x80=[\\xe1\\xcd\\xbc\\xc0\\x13\\x80\\xbb\\x817D\\xbb\\'\\r\\x16\\xbd\\xabB\\xf9\\xbbh\\x8f\\x9c\\xb9*\\xc8y\\xbcH\\x01D=\\x1d\\x08\\xbb\\xbcK?\\x1b\\xbd%K\\xcb\\xbc^8\\x8c<\\xaa\\xeb\\x18\\xbe\\xb1\\x948\\xbc\\x1eX+\\xbd\\xaf#\\xa7;\\xc5\\x13;<\\x1eqK<~\\xfa\\x9a\\xbc5\\xddz\\xbbJ\\xbf\\xe3;\\xd3\\x04\\x18<I\\xa5\\xb7<\\x7f\\x0e\\x17\\xbcw\\xd0n<\\xf9z\\xa9\\xbb\\xed\\x90\\x19;\\xbf\\xef|\\xbc\\x1f\\x0fW=*\\x88\\x0f\\xbd\\xab\\x10\\x07\\xbd\\x8e\\xad\\xee<\\xa4\\xc4\\xed\\xbc\\xfc\\xd3(\\xbc\\xfa\\x8dw\\xbc\\xc9\\x00\\x82<\\xb5|\\xab=R\\xd0z\\xbc=\\\\\\x17=\\xb4\\xc9\\x15<\\x8f\\xfe\\\\\\xbcE\\x8aH\\xbd\\xae7\\x9c\\xbc\\x8b\\x9d\\x99\\xbcl\\xc1\\x89\\xbb\\x1b~\\x01\\xbd\\xbbov=\\x89\\xbaS=\\x02\\x00\\x8a\\xbc\\xe8\\x05\\n\\xbdD\\xba\\x8c:l\\xfe2\\xbd\\xb0\\x92X=/\\xb7\\xc3\\xbc\\xd8\\x07U=\\xf4r8=3\\xc8\\xa4:k\\xd5C<\\xf8\\x04\\xe6;\\x81\\xa9\\xa7<\\x9b\\xf13=)\\x130\\xbd\\xb2{><-\\xd5\\xd7\\xbc\\xbf9\\xc8\\xbb~#\\r<tt\\t=\\xb5\\x06\\xcf\\xbc\\x8d\\x0er<\\x08^\\x8d;\\x12\\xc1\\x08=^\\x0c\\x07\\xbd\\n:\\x92\\xbcC\\xf7L<[\\x126<\\xd1Q\\x07;\\xf7 \\x1b=\\xc3e?\\xbc=\\x12\\x10=X-$=Id\\x18\\xbcH\\xaf\\xa3=\\xfb\\x17\\x8c;\\xa0\\x896=\\x02o2\\xbbi.\\xf6<\\xd8}\\x05\\xbdtae\\xbb\\x87\\x8eV\\xbc\\xf6W\\x9a<\\xf8\\xf8a<\\x82z\\xe3<\\x12\\x0e\\xcf\\xbb\\x82\\x0e\\xf6\\xba\\x98X>\\xbd\\xd2\\x08\\x9e:\\xb9\\xd8I\\xbd\\x1e\\xfd\\x07\\xbd/\\x8e*\\xbbZ\\x8c\\x13\\xbd\\x9d\\x0f\\xd7<G\\xd0Q\\xbdZ\\xd8\\x9e=\\xe9\\xccn\\xbc)\\xb7)\\xbdi\\x81g<\\xa5\\xb1\\xd9\\xbb\\xd8\\x84V\\xbc\\x01\\xca\\x1c\\xbd\\x08\\xa4\\x9e=%\\xaa\\t\\xbcp\\xd1\\x8c=\\xe0\\x02|=\\x86f\\xaf\\xbc\\xc1\\xab\\xda<\\xf8\\xe6\\xba=\\x89x\\xe0\\xbb\\x86L.\\xbc\\x92\\xd77=\\xabz\\x8a<\\'\\xc2*<c+<\\xbd\\xee)\\'\\xbd\\xb4\\x1c\\xb2;\\x84:\\x81=\\xb7\\x15\\xd6\\xbb\\xcb`\\x8c<\\nG\\xbd<\\xb5e\\xc1<\\xebz\\x05=\\x11\\x00R\\xbc\\xd6Y\\x97=>\\xa06\\xbdq\\xeb\\'\\xbdzN,\\xbd\\xa1\\t\\x9a<\\xec\\xee\\x1c=\\xb0\\x15\\x0f=\\xf2\\r\\xcf<\\\\s\\xe6<\\xfd\\xd6\\x1b<\\xa9\\xcc\\xa4<6\\x9c\\xe3\\xbb\\xf4\\x17\\r=C\\xf6o\\xbc\\x12eR\\xbcJ\\xa4\\x1f\\xbd0\\x94\\xb8<\\x08\\x9bm\\xbb\\xdaA\\xb8\\xbd\\x96\\x83\\x8d\\xbd\\xd6&\\xd3<\\x16W\\x8b\\xbc\\x83\\xc9\\\\\\xbc\\rK#\\xbb\\xf1X\\xa5\\xbbZ\\x87\\xd1\\xbcb\\xda&\\xbbe\\xa4\\x92\\xba\\x8c===\\xcd\\x99\\x15\\xbd\\xe9\\x87Q\\xbc\\xd8\\xd5\\x1d=\\r\\xf7\\xe3<\\xe4\\xb2\\xf9\\xbc<\\x96\\xe8<\\xb4\\x06\\xe5<[<\\x9f<\\x1e\\xa3\\r<\\xeb\\x98=\\xbcH\\xbe)\\xbd\\xc2}\\x058\\xcbK\\x87=~\\x10\\x02=\\xa5&\\xe6;\\x18\\xf4\\x0e<\\xaa\\xb8\\x05\\xbd(\\xee\\x01<b\\xa7k\\xbd\\xe4\\x12K=\\xc6\\x9eJ=?\\x88\\xfc\\xbc\\xcb\\'a\\xbc~\\x1d\\x07\\xbd\\xc0\\xa5\\xdb\\xbah\\x88\\xbb\\xbbD\\xc7\\x08\\xbd=t(\\xbc.\\xe9S\\xbc\\'\\x8f\\xa4\\xbb\\x8d\\x8f = \\xd2{\\xbc\\x91\\xf9\\xae=V\\xab,\\xbd\\xc7j\\x02=M\\x89\\xb0=&\\xc6\\xec<\\xdd\\x1d,\\xbd\"!i;}\\x1f\\x87\\xbd\\xfe\\xb5~\\xbc\\x99/\\x1e\\xbd\\x0cL1=\\x0e\\x9d\\x02\\xbd\\x80\\xeb\\x1a9\\xc1\\xcfN\\xbcWH\\xb6<\\xa8\\x18?\\xbdY\\xf5}<\\x12\\xe9\\xa1\\xbc\\x1f\\xb6\\x14\\xbbz\\xd16=\\xb8+`\\xbc\\xd5\\xcf>\\xbb\\x86\\xa2\\xa1\\xbd\\xba\\xea\\xd8<l\\x1c\\xdc\\xbc-\\xe1K\\xbd\\xbfD\\xca<#\\x91\\xce\\xbc\\xd6\\x9b\\x84=\\xd3\\x1f\\xa9<\\x94.\\x16\\xbd\\xe7\\xf1J\\xbc\\x02\\xd8o\\xbc\\x0b\\x90#=\\x16\\xe3\\x8e\\xbc#\\xa9Q=\\xa0\\x02\\x0b=\\x05L\\x80=\\x95\\x92\\xe2<\\xe0\\xf5A=\\xf4\\x9e@=\\x8e1V<\\xd4\\x13\\x1f\\xbaA\\xb7\\xd2\\xbc\\xc7^\\xfb;\\x11\\xa1\\xff<\\xb4T\\x1c=~\\x19\\n\\xbc\\xb4{i=\\xcfGR<vw\\x81\\xbbTr9\\xbd\\x00\\x9aV\\xbd\\xcdZI<\\xed\\x836\\xbcW\\xaa\\x08\\xbd\\xd7\\xea\\x9f\\xbco\\xbd\\x80<\\xba\\xb9\\xd4:\\x97\\xf5\\x97<\\xa9\\xf9\\x87<XG\\x7f;\\x0b_\\xbb\\xbc\\xc7eb\\xbd\\x14\\xb0*\\xbc\\xec\\xac!\\xbd\\xe56\\x9c<H_\\xa2\\xbd\\x82\\xec\\x05=(J\\xe3<v78\\xbda\\x867\\xbca\\x8a?\\xbd\\x9c1\\x97\\xbb\\x0e\\x91\\x1c\\xbd6\\x1e/\\xbd\\xa9\\xa6N=n\\x87\\xfc:\\xd0kL=\\x17&@\\xbd\\xd4\\x13\\x0e;\\x9b\\xb8H\\xbd\\x90\\xaa\\x1d\\xbd\\xdc\\xb9\\xe2\\xbcC\\xaa\\xa4\\xbb\\x01n\\xda\\xbc\\xa9V\\x96=YF\\xb9\\xbb\\xc5\\xd4\\xcf\\xbb\\xe0\\x93\\xbc\\xbc5\\x07:\\xbcK\\xf5\\xcd\\xbc\\x11M\\xba\\xbc3\\x08/<\\xf3\\x0ba\\xbd\\x07M\\x8a;\\x13\\x9ca\\xbc\\xa9\\xe7\\xa1\\xbd\\xb2Ai<\\xe9\\xee#\\xbc\\x17 J\\xbd\\x1c\\x18\\xc8<\\xa1\\x84\\x18\\xbc\\xe2\\x84\\xb8;\\xaf=\\xc8\\xbc\\xcf%\\x9a\\xbcB\\xf8\\x87\\xba\\r\\x0e!\\xbd\\x1b\\xc0c\\xbdc;\\x1d\\xbd~?\\xfd\\xbc\\x89\\x15\\x17<\\x0b\\xf7\\xd8\\xbc]\\x0b\\x81\\xbc\\xeb\\x85\\x8a<\\xc2\\x83\\xdc\\xba\\x00\\x12\\xd9\\xbc\\xb3\\x8d\\xb7\\xbc\\xca3\\xbc;\\xbbP3=\\xac\\xcac\\xbb-\\xc99<\\x9e\\xb3\\xa8\\xbcxx\\x8d<?\\x90R<T\\xa0\\xf0\\xbc\\xf5\\xdd\\x87\\xbd\\xf5\\xc9\\x99\\xbc\\x9e^\\xa1\\xbd}TP=\\xd9=5\\xbc\\x0e\\xc6\\r=r}%=T\\xac\\x02=s\\xb5\\xb3\\xbb\\xe5D\\xfa;\\x8a\\x96\\xed<}\\x95f\\xbcZ\\xebA\\xbb\\x94\\xb8\\xe1<f\\xf9\\xd7\\xbb\\xe4\\xad\\xba<S\\x9e!=E\\x05\\xb0:4(l=k\\xd5\\x0b=\\x07\\x0f\\x9b=\\x05o\\xad<\\x13\\x94\\x90;\\xae\\x81\\x80;\\xe3B\\x01\\xbd\\xe6\\xad\\x17\\xbd\\xba\\x16\\xd1\\xbb\\x87\\xa9\\xdc<]_\\xbb\\xbc\\xd6\\x91R=7G\\xac<\\x1ee\\'\\xbc+N\\xc9\\xbb5\\x92\\xe0\\xbc\\xf3\\x03[:\\x90_\\x86\\xbc\\xf3\\xa3\\r<\\x1c\\xcd\\xf7\\xbb\\xf7\\xf02\\xbd\\xcf\\x92Y<@\\xe7\\x84\\xbd\\xe9qn=\\xbc`Q\\xbc\\x8b(O\\xbd)\\x06a\\xbdv\\x00\\x16<\\x1f\\xb1\\xca\\xbcAj,\\xbdt\\xd1\\x8b=d\\x01\\x9c;cC\\x08\\xbd=\\xbdB=;g\\x17<P\\xc3\\x11=\\x88\\x1d);\\xc7E\\x95\\xba\\xc7\\xf04\\xbc\\x1e\\x986<`\\x19\\x08<e8\\xc1\\xbc\\x9d`\\xa7;\\x06\\xa5\\x84\\xbd\\x93eN=|\\x05Z\\xbcn\\xaf\\x9d\\xbb\\xbe\\xa0\\x17\\xbd\\xc3\\xde\"=\\xbe\\xddl=\\xa1Xt\\xbd\\nV\\x13\\xbcO\\xf0\\x17=\\x95\\\\\\x05=\\xc6\\xf2j<V\\xac\\xdc=\\xad\\xab\\x12\\xbc\\xae\\x9a\\x87\\xbc\\xbcbe\\xbdV\\xc6\\x00<b\\x93\\xa6\\xbcc(\\x13\\xbcY:\\xa5\\xbd\\x06n\\xb5\\xbd\\xf4m`\\xbc\\xe3_i=\\xd9\\xd0\\x91<\\xab\\xc6\\x82\\xbc\\xf0\\xcb#\\xbdn\\xa9\\x92\\xbc\\xe9\\xd5\\xab\\xbdq8J=\\x18\\x9dN<\\xcb\\xc0\\xc7\\xbb6>\\x00\\xbd\\xfbD\\xeb\\xbb\\xdc\\xb9#=\\xae\\xe9%=:\\r\\xbf<$2\\x0b\\xbcV,\\xea;\\xa5n+\\xbc uM\\xbc\\xc8\\x93\\xae<\\x1e\\x03\\x03=Z(N=G\\xb2j<us\\xed\\xbc\\xddjv\\xbd\\xd5\\x81\\x07\\xbb<O\\x04=\\xaf\\xc43\\xbd`\\xe3\\xb4\\xbcO\\xad\\x07=\\xff45=P\\x12c\\xbc\\xa3\\x8e.\\xbb\\xdexz\\xbcu\\x1a\\xa6\\xbd\\x10_,<e\\xad\\xaf=[\\x8c\\x0f=\\xff\\x1e[\\xbd\\x9fR\\x98<\\xb5\\xa6\\xcd<\\xb7\\x07+=\"5\\x03\\xbc\\x99\\xc1\\x9a\\xbdL\\x93\\x87\\xbb\\n)\\x88\\xbd7\\xf9)\\xbc\\x16]D=\\xb4\\x8fB\\xbdhv{\\xbc \\x9b\\x95=\\xdcY\\x86\\xbd;H\\x14<\\x9a\\xc4\\xc8;\\x8a\\xfc\\x8f<\\x9aj@\\xbc\\x01\\xe4\\xac\\xbcp\\xd6\\x1f=\\x9e\\xef9\\xbduE\\xb3\\xbc\\x99\\xf6\\x9a\\xbdB\\xa3\\xc0\\xbc\\x99\\xa5\\xe9<!\\xe1}\\xbb',\n",
       "  b'chunk_id',\n",
       "  b'fannie_part_0_c326',\n",
       "  b'content',\n",
       "  b\"# Chapter A3-3, Third-Party Lending Functions and Servicing Arrangements\\n\\nIntroduction This chapter explains Fannie Mae's requirements regarding the outsourcing of mortgage origination and servicing functions. It also addresses other servicing arrangements as well as the requirements related to document custody and document custodians. 105\",\n",
       "  b'gse',\n",
       "  b'fannie'],\n",
       " b'fannie_part_0_c353',\n",
       " [b'distance',\n",
       "  b'0.327629327774',\n",
       "  b'embedding',\n",
       "  b'\\xac\\xe9{\\xbc\\x04%\\x01<v\\xd6\\x10=L?\\xae<Z\\xb0\\xcc\\xbc,\\xf1\\xa5\\xbb8\\xdb\\x8e<Y\\x189\\xbb\\xe1]\\xb8\\xbc\\xe8z\\x0e=R\\x13D\\xbc.\\xac\\x87=\\x1dH\\x90=\\xfd\\xe8\\x14\\xbd\\x7f/\\xbb<\\x0c\\x1b\\xad\\xbc\"\\n\\xf4\\xbb\\xe2\\x17-=+\\xad\\x8a\\xbco\\x7f\\xa9<l;A\\xbd\\xfb2\\x16;\\xe9\\x03\\xbd\\xbd\\xa3\\xc4\\xb7\\xbc\\x11\\xe4z\\xbc\\x9bO\\x92\\xbd\\xaeG\\x11=\\x1e\\x8e\\x8f\\xbd\\x04\\xd1\\xf0;\\xe7\\xcc\\xa0\\xbd.7\\x93\\xbcF\\x16)\\xbcz L\\xbc\\x8eOt\\xbd\\x0f\\x15o<\\x00\\'\\x80\\xbc\\x81\\xee!\\xbc\\x7f-\\x11=\\xad\\x14\\xd5<\\xb1\\xa4\\x06\\xbd\\\\\\xe4T\\xbd$\\xef\\xa3\\xbc\\xdc\\xbb%< uQ<\\x9a\\x96\\xe0\\xbc\\x1a\\x01\\x9d\\xbdrP\\x88<\\xdc\\x98\\x15=\\x9b\\x80\\xa8\\xbd\\x00d\\xda<1 \\xfd<!(\\xb4=\\x1b\\xb0\\x8e<\\x92|/\\xbc\\xf0\\xb9\\x89\\xbc]\\xf0\\x87\\xbd\\xfcHT\\xbc\\x9bz\\x16\\xbd]:\\x06\\xbdc\\x0f\\xcd\\xbc@\\xfeK\\xbbk\\xd5\\x15<3\\xbbA<.\\x08\\xcb\\xbc\\x19\\xb8]\\xbc\\xb6\\xed*;\\x1b\\xe3\\x03\\xbd\\x11Dw\\xbd=\\xa1\\x8b\\xbd$\\xb3\\x90;\\xfe\\x04\\x88\\xbcr+\\xd7<\\xa4dI<\\xf2\\x01\\xb1<\\x1a\\xe40<\\x8c\\x8a\\xde\\xbc\\x90Md\\xbbZ\\x14\"\\xbd\\xd6\\xe2\\xd4\\xba\\xa6\\xa6U=y\\xb1\\x87\\xbd5\\xb2\\x1d=zD:<\\xa33\\xe1<*f;\\xbc[\\x18\\xb1<u}\\x1c=\\xe4x\\xd8\\xbdS\\xabM\\xbd@\\xee;\\xbc\\xb4\\x84\\x96=\\x14\\xe7P=U\\xec\\x05\\xbd\\xc6\\xc4\\x8d<\\x8el\\x809\\xeb\\n;;\\x108\\xca\\xbc\\x82\\x8e*\\xbd%=\\xe8;\\x83|\\x0c=\\x16\\x8cM<+\\xbc\\x02;\\xca\\x8c0\\xbd|\\xa6n\\xbd\\x8d\\xaa\\x88=s\\xb9\\x84\\xbc\\xe8%)\\xbd\\x8b$\\xc4<\\xd4\\x143\\xbd\\xe1:R:\\xf5~\\x1f=\\x7f+m=\\x9f\"\\x19=\\xa4\\xba\\x04=\\x81G\\xc2<\\x7f?\\xfb\\xbc\\xaf\\x997=\\x9a\\x06\\xdd\\xbcMh\\xd2\\xbc\\xd9|\\x06\\xbd\\x07r\"=\\xc1\\xbd\\x02<\\x03\\xb3\\xfd;\\x93S==t\\xfeL=\\xeesE<\\x82\\x86\\xe5<\\xd5\\x8b\\x00\\xbd\\xd2\\r{\\xbd\\xb1\\xa9\\x84<\\xa5JX=\\xb0}\\xa2\\xbc\\xb5\\xff\\xef\\xbb \\x024=\\xce\\t\\x17=\\x9c\\x97#\\xbd\\xf3\\x015<\\x92p\\xa9\\xbc\\xba\\xc2N\\xbdv\\x94i=\\xe6\\x8co;G\\x8c \\xbdI#\\xd8\\xbdl\\xbd\\x85=9e\\x17=\\x82TB\\xbd\\xaf\\x82\\x01=\\xffw\\xba=\\xda\\xbe:\\xbd\\xd6\\x08\\x0c<Y5_\\xbd\\xd1\\xd2 \\xbd\\x9du@<\\xa3\\xbct\\xbc\\x1a\\x84\\xcd\\xbb\\xa9\\x9c\\xc7\\xbc\\xc2\\x91(\\xbc\\x12H)\\xbdP\\x99\\x87=i\\xac8\\xbdt;@<\\xf2l\\x03\\xbd\\xc3D2<\\xc2\\x07]<\\x10\\xf5\\xbe<&\\xd4\\xbf<\\x01\\x94\\xfa\\xbc\\xddDJ\\xbd\\x85\\xc6g=\\x18G\\xc8<\\xeb\\x83;\\xbd\\r\\xb9\\xd5\\xbc\\x90\\xc4;\\xbd\\xed\\x1ag\\xbdkx\\t=\\xa6zO:\\xb3\\x87\\xca=\\x1c\\x86\\x04=\\xa7H[\\xbd\\x91\\x15y\\xbd\\xc2X\\xbb<\\xa4\\xfc\\x9f<\\xfb\\x1f\\xc0\\xbbY\\x9c\\xfc;\\x12V\\xe7;\\x89\\x91]\\xbc<\\xa5\\x9e\\xbcM\\xefB=\\xb5\\x9f\\x95=\\x8b\\xc8\\xcf\\xbc\\x9f!\\x08=|\\xdd\\x84\\xbc\\xbbIM\\xbb\\xbc7J=H\\xe9\\xf9\\xbb\\x94\\xb6m\\xba\\xeb%|\\xbd\\xe9P\\x95\\xbc\\x9f?\\x12\\xbc\\x11SX\\xbdg\\xc0(\\xbcx\\x9cs\\xbc\\x85\\xb7u\\xbb/\\xee\\x80\\xbd\\xc5\\xc8\\xa9<\\x84\\xdaH=\\xab^\\xaf\\xbb/d\\x8b\\xbd\\x8b(M\\xbd\\xba5\\x10\\xbd\\x8c\\xf7\\x8d\\xbb\\x07G\\xc3;T\\x9aT\\xbd\\x11\\xbb\\x02<\\xf4\\x7f!\\xbd\\xf2\\xe3\\r<C\\xa9\\x8c=}2\\x13<\\xf7i\\x84=W\\x8bU\\xbd\\xfdkE;\\x1d\\x1d\\xfc<\\xe6U\\xa1\\xbb\\x92\\'\\x9a\\xbbv\\x7f\\xc9\\xbc\\xb1\\x06L=?~r<\\xd5\\x12\\xa3<\\xb5\\x81\\x87<\\\\&Q\\xbc\\xf8$\\xb8;\\xe5\\xb61=\\x92\\x96\\t\\xbd\\xf2o\\xee<\\x89\\x03\\x10\\xbc\\xd5\\xdb\\x83=\\x1c=\\x87<\\x92#\\x05\\xbd\\x06\\xb1\\xe6\\xbb\\x16\\xad\\x9a<\\x9a\\x15\\'\\xbb\\xd5ol=sJ\\x99=5=6\\xbd\\xb4\\xd8L=\\xf21\\xc2=G&-=\\xb9\\x8d\\xa7<Na\\xca\\xbc\\xe1h\\xa8\\xbd\\x94<\\xd3\\xbc\\x99\\xff\\xdb<\\x88^\\x13\\xbb\\r\\x91\\xba;+8\\xb5\\xbb\\x9c\\xf9\\xa7\\xbc\\x89\\xf8a<\\xf9\\t\\xe5<\\xd5\\xaf\\xa0\\xbc7\\xe9\\xc6\\xbc\\x95\\xe9\\x86=\\x81\\xb3\\xc3;\\xa7F\\x00\\xbd\\xa6B\\xa0;\\xb4\\x9c_;\\x9f2\\x89\\xbd\\xd4H\\x98\\xbae\\xfcE\\xbd\\x19S\\xaf\\xbd\\xaf\\xa9\\xbd\\xbc\\x163F<\\xe5\\xfd\\x8b;\\xc7Q\\x06\\xbd\\x07\\x8f\\x0f<\\xf2\\xc8\\xdc:\\x99F\\x8a;\\xabm\\xbe<\\xc5\\x00\\xc0;\\xe5\\x83{\\xbc\\x12\\xc8O\\xbd\\xd7\\xeb\\x83=\\xeds\\x94;\\xbc\\xb6\\x86<q\\x9bH\\xbdH]\\xc7<;Y\\x8e\\xbd`x3=|\\xd9\\xaa<\\x9dd\\x9c<{\\xce\\x90\\xbc\\x9a\\xa1\\xe7\\xbc\\x12r\\xf1\\xbbs\\xab\\xfe<\\xb8Z\\xa8\\xbb\\xc5\\x06\\x97\\xbc\\xb5\\xf3$=\\x8b#J=\\xa1D\\x82\\xba\\x07P\\x17\\xbd\\x0b\\x13\\x96\\xbc\\xca\\\\\\x8a=?\\x98\\xe8<\\x8f.\\xa2;\\xb0\\xd8\\xb2\\xbc\\xc0\\x8f8\\xbd\\xb4\\xbd\\xdc<\\xad\\xf5o\\xbd\\xb1\\xb5\\x01\\xbd\\x83\\xb9G\\xbcXP\\x0b\\xbc\\x7fs.;\\xacI\\xba<Tr\\xd6\\xbc\\xca\\xb29\\xbd:t\\x03\\xbd\\xfe\\r\\x97<\\xda\\x08\\x19\\xbe48J<s\\x8b1\\xbd\\xec\\xd2S<\\xe4\\xee\\xfc<\\x1eRH\\xbbs7\\x8c\\xbc0{\\xcd9\\xbc\\x9bY<\\x99m\\xea<X2\\x86<\\x0c#K\\xbc\\xcdm3<P\\xcb\\xbd<\\xd9h\\xf7\\xbb\\x8fb\\xb2\\xba\\xa1\\xd8\\x05=\\xf7\\xb4\\x01\\xbd\\n\\xe4\\xb8\\xbc\\xd7\\xdd*=\\xf2\\x0f\\xd9\\xbc\\xa0\\xd69\\xbd\\xef\\x85i\\xbc\\xf0\\x05\\x00<52\\xa3=\\xed:u<Oy\\xa7;\\x8f\\xde`:\\xbe\"\\xd5;\\t\\xcd\\x1c\\xbd `!:\\xee\\xe2\\n<<\\xb7s\\xbc\\xe9\\xa8M\\xbc*\\xffq=\\x08\\xf9\\x19=\\xc42%\\xbc\\xb3\\xa8\\xe9\\xbc\\x0c\\x03\\x03<\\xbc\\xf9\\x0f\\xbd\\x9b\\xb4C=\\x88\\xb6\\x80\\xbd\\x82\\x8f\\x15=\\x01<\\xf1;Jo&\\xbco.\\x97<\\x8cZ\\x13<r\\xaa\\xa0<\\xaa\\xaa\\xb0<\\x08\\xe8\\x08\\xbd\\x08\\xffr<\\x06-\\x0c\\xbdxI\\xb7<\\x1f\\x9a\\x1b\\xbca~x<\\xf2!\\xd6\\xbc\\xfc\\xeb\\xa7;\\x91\\xf1J=J\\xbc\\xed;\\x15_\\xf2\\xbcpe\\x18\\xbd\\x18\\x82\\x0f<\\x90\\xca^\\xb9\\x10\\x00j;\\xaf&M=\\xc5\"\\x98\\xbc\\xdcE\\xef;`\\xe9z=X\\x1b\\x06\\xbd\\x86C\\xcc=\\xd2e9\\xbd\\x19\\xa0\\xd4\\xbb\\x1dS\\xa5\\xbc\\xd0Tf<\\xa4O\\xc2\\xbc\\xcf`}\\xba\\xd3\\x1a =b\\xe0U<\\xc4tA=A\\xf2\\xaf<\\xf1\\xd8\\x9d\\xbcSk\\x11\\xbb\\xd5\\xed\\r\\xbd\\x8e\\x9e\\xa9<\\xe2\\xcf\\xce\\xbc\\xdb\\xf6\\xe6\\xbc\\xcc\\x16\\x9f\\xbbe\\xf5\\x0e\\xbd\\x06\\x07\\x17=\\x1a{\\xb8<]\\xbd\\x97=\\xdeq\\x03\\xbb\\x922\\xd5:~\\xb0\\x9a<\\xde_F\\xbd\\xbbl\\xc7\\xbbB\\xa96\\xbd\\xaf\\xc6]=\\xd7E\\x17\\xbd/\\x1b\\xe1<\\x8b\\xa6\\x19=\\xee\\xc5\\x1a\\xbc\\xb18\\x1c=IW\\x84=\\xa8\\x8b\\xed\\xbc:\\xd8\\xa9\\xbc\\x80\\xd8\\n=Cu\\x9d\\xbc\\xfb\\xf8\\x15=\\xf2\\xeb\\xcd\\xbc\\xd2\\x88\\x83:\\x9c\\xdd\\xa6\\xba\\xafs\\x7f=O\\x8e\\x1b\\xbd\\xf3\\x91\\xba\\xbb\\xa9u\\x90;\\xf1\\xe8\\x1a<\\x19n\\x99;\\x97\\xd9-=\\x80\\x03\\xa8=\\x9e\\xb5h9\\x93;#\\xbd\\xcd8\\x91\\xbd\\xd7\\x86X=\\x89Cl\\xbc\\xca\\xac\\xa5<\\x1f_\\xb3;M\\xb4}<\\xff\\x7f\\x83\\xbb\\xf74\\xdb<\\xa8\\xca\\x00<\\xe11\\x03=\\xf7\\xa1+\\xbd\\x01\\x1a\\x83\\xbc\\xb9c\\xb8\\xbb\\x99\\x1e\\xca;0_:=\\xef#\\xd0\\xbd.\\xfd\\x83\\xbd\\x87;!=\\xedr\\x9e\\xbc>E\\x92<p\\x94\\xb1<5\\xe95=\"\\xb3b\\xbde>\\xc2<\\x19L\\xfd<\\x93\\x95\\xd2<\\xf8\\x97u\\xbde\\xf4\\xe6;\\x01\\xdb!<R\\x9fz<@\\xea\\xee\\xbbj\\xfcR<\\xc1\\xffp\\xbc\\x86\\x9d\\x9f<\\xb1\\x87b=\\xdf+\\x8f;\\xcbS\\r\\xbd\\xeb?\\xb9\\xbc\\xbd\\x87\\x8d=\\tY\\x94\\xbbj\\xac\\xe1\\xbb\\x91w\\x06<\\x82\\x96\\xc6\\xbc\\xd7\\x0f\\xe3;\\x07\"W\\xbcDV$<\\xbb\\x13\\xe4<\\xc3\\x85-\\xbd\\xd8\\xb2\\xd6<5\\xf8\\x0b\\xbc\\x03#7\\xbc\\x8bb\\xaf\\xbc\\xfb\\x08\"\\xbd\\x16\\xa78\\xbd\"\\xfb\\t;\\xef\\'\\x8f<\\t%\\xfb<\\x00\\xc9;\\xbd\\xdb\\xe3\\xaa=\\xed\\xf2,\\xbb\\x888\\x1686|c=N\\x04D=\\x9a\\xa5\\x89\\xbc\\x17S\\x9a\\xbb\\xb8\\t\\x82\\xbdSF^<\\x19K\\xcb\\xbc\\xe4\\x89$\\xbb\\x16\\xec\\xd4\\xbc\\x89\\x04m<5\\xdb\\x85<_S\\xfb\\xbb\\x8cWK\\xbd\\x96\\xf2\\xc9\\xbb\\x0fe\\x0c\\xbd\\xd0\\xa2\\xe5;\\x02\\r\\x89<^\\xd08\\xbb\\xf0\\xafR;\\x99\\xd07\\xbd\\xa0\\x07M=\\x9a\\xcew\\xbd\\xc8\\xf2j\\xbd\\xe7\\x17\\x0f;\\xa3\\xf8_\\xbc\\xf6\\xe8\\x9a=;\\xa8C\\xbc\\x15\\xdc5\\xbcx(\\x86\\xbc\\x11\\xb8\\x97\\xbb\\x130\\x0f=\\xa0\\x0c\\xb2\\xbb!\\xb3\\xa9=\\x10\\xedQ<\\xe7\\x8fp=\\xde\\xc79\\xbb\\xcab\\x16=~\\x9d\\n=X5\\x0f\\xbbxfD\\xbb/\\x16\\x92<\\xdd^I\\xbc\\t\\x99\\xaa\\xba4f\\xad=\\xf8\\x12\\x1f<\\xd4\\xa5\\x8e<\\x1d\\x0b\\xc4\\xbc\\x0f\\xa5\\xba9;u)\\xbd5\\xb6v\\xbd\\xeb\\xe9\\xc9;`dz;\\x8d/\\x8f\\xbb\\xf0\\xf9\\x8e\\xbc\\x16\\x7f\\x9f=\\x8f\\xbb\\x08=\\xe2\\xba&\\xbb\\xb2\\xd4\\xa6<2)\\xb5\\xbc\\x84\\xe1\\n<\\xc7~\\x85\\xbc:\\x0f\\xec<*F\\xb5\\xbb2\\xd4\\xa2;w\\xad;\\xbd\\\\\\xcf\\xa9<\\x06w\\x83=$T\\x15\\xbd\\xc48\\xf9\\xbb\\x01\\xbbT\\xbd\\xc57\\x1e<h\\x03\\xf6\\xbc\\xbeQ.\\xbd\\xf7\\xe2\\t\\xbc\\xdc\\x81\\x9c<\\xf3\\x12h=o\\x87\\xb0\\xbc\\'\\xca\\x15\\xbd\\xb6qy\\xbc\\x04a\\x15\\xbc\\x92\\xb4\\x82<\\x18\\xb2><\\x82\\xc0\\xb2;\\x18\\xb0\\xf0=&C7<\\xda&\\xca:)\\xdd\\x89\\xbd\\x11\\xa0\\xbf\\xbc\\xbe\\xafu\\xbbk\\xf3\\xd9\\xbb\\xd8\\xf5\\xa3\\xbce\\xaa8\\xbd\\xc3\\x11(;\\x8f}\\xbe\\xbbj\\xa1\\xa5\\xbd\\xda\\\\\\x8f\\xbc\\xe13/\\xbc\\xb6\\x9a%\\xbd\\xd6 ;<\\x88\\xab\\x96<r\\x07\\xf2<(i\\x0c\\xbd\\xc6\\x98\\x8a\\xbc\\xe1x\\x99\\xbcU\\x87\\x85\\xbc|8\\x9d\\xbc\\x94\\x8d\\x0f\\xbdr\\x8c(\\xbd\\x04AE\\xbd\\x01B\\x91\\xbc_\\xd2\\xf9;\\xf9\\x0b\\xc0\\xbccUf;\\xd3\\xf1\\x0c\\xbd\\xf6wF\\xbd\\xa1\\x82T:\\xa1a\\x15<\\xa5\\xc8\\xf1\\xbcZ\\xaaq<\\x82\\x91\\xe8<Tjc<\\xc6\\xc8\\xcd<5\\xa1N\\xbcq\\xa7B\\xbd\\xf6#\\xff\\xbc\\xec\\xd0\\xda\\xbc\\xa7\\xf9,\\xbc#\\xff\\xaa<\\xad)\\x0b=\\x7fm\\x97=q\\xfbv=\\xd6\\xcc\\x00\\xbd]f\\x10=\\xb1(N<Irl<\\xa4\\xbe\\xb39\\x1c\\x13x;I%\\x97\\xbd\\xa4\\x06D\\xba%\\x9b\\xd0;%\\xafI=\\x9a\\xd6\\x8c=\\xd1\\x9b\\xa9;~\\xfa~=\\x1d\\xdb\\x99<\\xbe\\x1e\\xa0\\xb9\\xc2\\\\,\\xbcM*5\\xbd\\x85\\xeb\\xa8\\xbc\\x1c`\\xb9;^\\xeeb<\\xa7/\\x00\\xbd\\\\\\x9f\\x83=\\xe5\\xdf\\x02\\xbc\\xc2\\xabE\\xbc\\xf6\\xde\\xdc\\xbczb\\x08\\xbd-\\x07\\x9f\\xbbA\\x8d\\xa6\\xbc\\xf7 \\xbc\\xbc\\xba\\x0b\\x05:\\xc2\\xc6\\x01\\xbb\\xadu\\x12=\\xc6\\x1f:\\xbd\\xcbB9=Ol\\xed<M\\x12\\xa7\\xbc9\\x8f\\xf1\\xbc\\xfd[0<\\x0b\\xeb\\x16;\\xf6e\\xb6\\xbc\\xab\\x9f\\x1f\\xbb\\x0f[\\x13\\xbd\\x00\\x8a\\xba\\xbc\\xf4\\x83\\x0e=\\x157\\xb6\\xbc\\x01\\xe1\\xd3\\xbb\\xe05i;\\x89\\xe0{\\xbc?\\xadI\\xbd\\xe6\\xa6\\xae<\\xa6\\x9c\\x1d<\\xf5\\xa8\\x96\\xbc\"\\xac\\x05\\xbd\\x1cG0\\xbd\\xca\\x1f\\t=\\xcbmn\\xbcI\\x9e\\'=\\\\?7\\xbd\\xd4\\xb3\\x1f\\xbcz\\xf9\\xc8<w\\xf6\\x0e\\xbdE\\x1dX\\xbd\\xd6\\xab\\x14\\xbc\\xe6\\xe9\\xa9\\xbbM\\xe3\\x8e<\\x87\\xc4\\xb1=\\x96E^=\\x13\\xe1\\\\:5\\xf6\\x88\\xbds\\x95X<^\\xda\\xb3\\xbc\\x1cd\\x86\\xbc\\x18nO\\xbdG\\xf0\\xdc\\xbd\\xd6\\xf8\\x04\\xbdz\\x9c\\xc0\\xbb+\\xde\\xe6<\\xf5\\xf0@=\\t\\xa73\\xbd\\xc9\\xe2\\x07\\xbcg\\x8e\\xbd\\xbc\\x95\\x9d\\x80<6\\x9a\\x95<\\xb0\\xcfv\\xbc\\xa0\\xa2E\\xbd\\xa0\\x0f\\xc3\\xbcW\\xfd%=\\xef5\\x9b=\\x80\\xcb\\x1d=\\xae+\\xde<\\t\\xb3\\r<\\xc6v\\x89;\\xae6\"\\xbb_A\\x94<kU8=*\\xed.=\\xd6\\x9d\\x03\\xbd\\xed\\x18\\xeb\\xbc9\\xa45\\xbdW\\xf8\\x97\\xbb]U5=\\x04\\'\\x95\\xbb7=\\x9f;\\x84\\x88/=\\x12\\xee\"<m\\xecn\\xba\\x19\\x08B\\xbc-+\\xaf;\\xa7\\r\\xb8\\xbd\\xa7\\'`\\xbd\\x0c.J=\\x9cP\\x18=\\x82p\\x17\\xbd\\xdf\\xc1\\x02\\xbd\\xa6k\\xae; \\xb7\\xb8<\\xff~T\\xbbi\\xc6\\x9f\\xbd\\xb1)\\x9d\\xbc\\x94\\xae\\xbb\\xbc\\xde\\x8d\\x9f\\xbc\\x9a\\x10s=\\x83\\xce7\\xbd\\xc0\\x11{\\xbc\\xe2\\x95\\xd9=[\\xf6\\xe7\\xbc\\x1d\\xe5(=\\xd4S\\x81;[\\xbd\\xf2;\\xe52G\\xbc\\x8df\\x1b\\xbd\\xb9;v=U$\\xf6\\xbc%a\\xb2\\xbc\\xd9=j\\xbd\\xfb\\xd6\\xfe\\xbbr\\xed\\x8d=\\x90\\xa7\\xfc\\xbc',\n",
       "  b'chunk_id',\n",
       "  b'fannie_part_0_c353',\n",
       "  b'content',\n",
       "  b\"# A3-3-03, Other Servicing Arrangements (12/15/2015)\\n\\n## General Requirements for Subservicing Arrangements\\n\\nA servicer may use a subservicer only if it will not interfere with the servicer's ability to meet Fannie Mae's remitting and reporting requirements. A master servicer may not enter into new subservicing arrangements\\xe2\\x80\\x94or extend existing arrangements to include newly originated mortgages-unless both the master servicer and the subservicer are Fannie Mae- approved servicers in good standing who are able to perform the duties associated with the master servicer/subservicer arrangement. The master servicer must ensure that its written agreement with the subservicer acknowledges Fannie Mae's right to rescind its recognition of the subservicing arrangement if Fannie Mae decides to transfer the master servicer's portfolio for any reason. 114 The master servicer must confirm its existing subservicing arrangements when it submits the Lender Record Information (Form 582) each year. For additional information concerning subservicer and master servicer duties, responsibilities, and other requirements, see the Servicing Guide on Fannie Mae's website.\",\n",
       "  b'gse',\n",
       "  b'fannie'],\n",
       " b'freddie_part_4_c510',\n",
       " [b'distance',\n",
       "  b'0.32467019558',\n",
       "  b'embedding',\n",
       "  b'X\\x7f\\'=\\x13\\xd3F=R=w=B\\xdc\\x14<Q\\x9eq\\xbd\\xe4\\x9e\\x04=\\xd78\\x1d\\xbc\\xd0\\xc9\\xa1<]\\x04\\xe6:\\xaa Z=\\xecJ\\x10\\xbc;\\x00\\xa2=\\xb8Z\\x90=zB\\x11\\xbb0\\xa8\\xb9\\xbcq\\x1e\\x1b\\xbc\\xd9\\x99$\\xbc\\xb9\\xb2\\r=\\xf9\\xe8\\x06\\xbd.!\\n<\\x92\\x86\\xb3\\xbc\\xbe\\xca\\xe1\\xbb\\x07\\xa1;\\xbdV\\x81\\xba\\xbbAa$=M\\xd8\\x93\\xbdb\\xf8\\x1d<\\xda\\xdaB\\xbc\\x06\\xb2\\x91\\xbay\\xdf\\xf0\\xbd\\x8a\\xe2\\xa7;mh\\x9a\\xbb\\xf1G8\\xbd\\xef\\t~\\xbd9\\x84\\x8b<=\\x03\"<P\\x8bE\\xbd\\x0b\\xb7\\xc3<L\\xed\\x08;\\x02\\xcd\\x0e\\xbd(#\\x92\\xbd\\x88\"\\x00<\\xe49\\x1e\\xbb\\xa4\\x14\\x9e\\xbc\\x0f\\xab\\x14\\xbd\\x8a\\xd4s<\\x1b/\\xf9:Izt=\\x1b\\xadO\\xbdP\\x009=\\xc8\\x85\\x17=\\xa2{?=u\\x89\\x95\\xbbdC\\n<\\xae\\xb5:<\\x1f\\xf2\\x84\\xbd\\'\\x85\\x8c;\\xd6\\x85\\x0b\\xbd\\xcb\\x8b\\xa6\\xbc?\\xa6\\x11\\xbd\\\\\\xb7X\\xbc:\\x93\\xd8<9c\\xfa<c\\xb0K\\xbdwl\\x08=\\xda9j\\xba\\x99\\xc2\\xb6\\xbcN\\x93\\x94\\xbd\\xfe\\x94>\\xbd\\xa9\\xdf\\x1a\\xbc\\xc9*\\xa1<\\x01\\xf2_=k\\x0c\\xee;\\x9b\\xcf\\x98<0\\xfe\\x9b<\\xf2\\xeb)\\xbd\\xc4\\x12\\xed;\\xf8I\\x12\\xbdJ\\xf3\\xbd<\\xd0w\\x8c<\\xf0\\x9f\\x90\\xbc\\x89\\x91\\xe6<\\xe5cT\\xbd\\x91\\x99%\\xbc\\xb0v?:Ee+=J\\x07\\x80=\\xf5]\\xb5\\xbdt\\xa2\\xb1\\xbd\\xba\\x92\\x98\\xbbi\\x8f\\x81=\"u\\x89=`\\xc7\\x01\\xbd\\xc1\\x9dc<\\x81\\xfa\\xc7\\xbb\\xad\\x19*\\xbc\\xef\\xf5\\x06\\xbd\\x8e%\\x83<\\x00\\xb0\\x0e=\\xce_\\xf6<\\x94c\\x1c\\xbc\\xf4\\xbb\\x14=\\xea\\xc1\\xa9\\xbd\\x17uX\\xbd \\x84W=\\xc5\\xcd\\x85\\xbd6\\xe1\\xfa\\xbc\\xa9\\xdd\\x03=R\\x97\\xe0\\xbc\\xf44\\xf5<P\\xd9\\x97<\\xc3\\xf0\\xb2=k-\\x17=\\x92\\xb9\\x12=\\x1ax\\xe5;\\xaa|a\\xbd\\x1a\\x121=\\x96\\xe2#\\xbd\\x0c\\xc4\\xed<x\\x0f\\xf0:\\xb9\\xed1=\\xad\\xadc<\\xc9\\xc5\\xa1\\xbc\\x0e\\xf7\\x96={F\\\\=P\\x12n<\\xb6\\x7f\\x93<i>\\x04\\xbd\\xbb\\xf7T\\xbd\\x96\\xf0\\x8f\\xb9h\\xc1^=\\xb5J\\xb6\\xbc\\x9cU@<3L`=\\x13\\xf4\\xe6<\\xa9\\xd1\\xd9\\xbc\\x80\\x1a\\x9a<\\xe3]\\xbd<\\xe4\\xca\\xae\\xbb\\xc1w\\x19=\\x8eM\\x15<{6k\\xbdv%j\\xbd\\xe3\\x1f\\x8c=uX\\xd8<\\xcf\\xb9y\\xbd\\xedd\\xa4=)+\\x16>18&\\xbd\\xce:\\x94\\xbc\\x8b\\x0f!\\xbd\\xdfs\\xec\\xbc\\x81\\x9c\\x03\\xbc45\\xa6:k\\x10O\\xbcs\\xd9\\x0b\\xbc\\xb8\\xdf\\x87=\\x88\\x08\\\\\\xbd*f\\xa0=\\xa6\\x8b\\xb5\\xbc\\x9f\\x94\\x14\\xbb\\xfa\\xd3o\\xbd\\xff\\xfe\\x89<\\x8c\\xdf\\xac<IH\\n\\xbdx\\x10U=\\xaa\\x10\\xda\\xbd\\x16\\xdb\\xe9\\xbc\\x92\\xb9h=\\xea!\\xc0<g\\xc2\\xf1;&\\x83t\\xbd\\xc5\\xf9#\\xbd\\x89B\\x93\\xbd\\xba1\\xd7<\\x17\\xd9I\\xba\\xd6?\\xa4==v+\\xbc\\x1b\\xd4\\x17\\xbd\\xa3]\\xbb\\xbc\\x0b\\x9e:\\xbc\\x1e\\xfef\\xba\\xf7\\xed\\x0c\\xbd\\x92\\xe4\\x84<\\\\\\x08\\x0f=\\xd0\\xb6\\xf8\\xbbD\\xa5}\\xbc\\xa5/^<@6\\x92=\\x14\\x1bR\\xbc6\\xcd\\x94<\\xde\\xfeh<:\\xbd\\x0c\\xbd\\rN\\x89=7\\x13<\\xbd[\\xf0,\\xbccQ\\x96\\xbdA\\xc8\\xbb\\xbc\\xe9\\xdd\\x1a<\\xcc\\xe5h\\xbc\\x05%\\x13\\xbd\\xe7b\\xa9<\\xe4\\xf2\\xb1\\xbb\\x93b\\r\\xbd\\x94\\x10\\x87<\\x80\\t5=\\xaf\\x0e\\xc0\\xbc\\x12\\xc8%\\xbd~\\xd1\\x90\\xbb0\\xeb\\x96\\xbc\\xef\\xc4J<\\xc4\\xadA\\xbc>\\xa5\\xd4;\\xf4\\x14)\\xbd\\xcc<\\xf8\\xbcT\\xe6\\xd5\\xbc\\xb4\\xb5s=<\\x8bY\\xbc\\xf4U\\x83=\\x1e\\xbd\\x99\\xbd\\xa9\\x8b\\t\\xbdr\\xb8\\xb9;|\"\\x89<\\xbe\\x89\\x18\\xbd\\x81l\\xd1\\xb9\\xc0\\x13\\\\=\\xa1AM\\xbd\\xd1vF=\\x92\\xd6);vzO\\xbc\\xc4S\\xb8\\xbc\\xba$t\\xbc\\xd2~8\\xbd\\xfd\\x9c\\x0c=\\xeezO\\xbc\\x00\\xbe:=\\x0b\\xddS=A\\xc5v\\xbc(\\xbd\\x1c\\xbc\\x9c\\xc6\\x8f<*\\x9a\\n\\xbd\\xab\\xd6Z=i\\x9e\\x92=\\xa8\\xc3\\x0f\\xbd[#C=q\\x9b\\x1a=\\xf9\\x9c\\xf0<\\x8b\\xe5\\xba<\\xa0\\xde&\\xbd\\x1e\\x19\\x87\\xbd*\\xaaS<\\xee\\x9e\\xf0<h\\xa1-<\\xe7\\xf6\\xa2\\xbc\\xe3(\\xf6\\xbc\\x10\\xb2\\x92\\xbc\\xcf\\xf7\\xa9\\xbc\\xc6\\x8f\\xd4\\xbb\\xbf\\x9co\\xbdh\\r\\xf2\\xbc\\x80^\\x00=T\\xe6u\\xbc\\xd9\\t\\xe9\\xbcr\\x8e<\\xbb\\xe2\\xeb\\xf9;`\\x97\\x94\\xbd\\x82kU\\xbc\\x9c\\xef\\xee\\xbc\\xbf\\x9e\\x10\\xbd\\xc0\\x90^\\xbc.\\x89\\x00\\xbc\\x8d\\xa1\\x15=]\\xa0\\x1b\\xbd\\x1aH\\xb5\\xbbiX\\xb9\\xbc]\\x81\\xe6;%\\xb5\\xd1\\xbb\\x80\\x19\\xbf<\\x811]\\xbb\\xb3>\\x86\\xbc\\x0c\\xb2\\x9f=\\xe6\\x8e\\x89<\\xed\\xaf\\xce<\\xa3.a\\xbd\\xc9Qu;[\\xfb\\xa3\\xbd\\x84\\x0cU<L\\xd1\\x9d;1\\xef\\xb5\\xbc\\x10Q\\x12=\\x9e\\xa1\\x92\\xbbX\\xd7U=F\\xa0\\x9b<\\x84[\\xf2\\xbcR\\x0c\\x80<\\x00\\r\\xdc<:\\xdfT=\\xc8\\x8c\\x7f;\\x8aa\\xf5\\xbc\\xb5\\xb3\\xed\\xbc\\xc5\\xc5\\x87\\xbb-\\xde\\xa0=\\x02\\xc7\\x04\\xbc`\\x0b\\xc9\\xbc\\x9dV\\xc4\\xbbc\\xd2\\xff;8\\xf4$<\\xc1\\xb5_<Rf\\xc2<= .=6\\xec\\x83<q\\xee:=\\xf5Z\\x86<\\xff\\xe3\\xd1\\xbc\\xa7\\x12\\x12\\xbd\\xbc&%=Q\\x89\\n\\xbe\\xde\\xe95=a|/\\xbb\\x95z`<1n\\xab<\\xd2\\xcb\\'\\xbd\\x1bn\\xb8:\\x85\\xf2\\xef<?\\xda\\xaf\\xbc\\xcbu\\xbf<\\xadb\\xa3\\xbb\\xd0\\xf6\\xc2\\xbc\\xb8)O\\xbc\\xcb\\nF<\\r\\xf0K;]r\\xa5<V\\x9a#=\\xcb\\x062\\xbd\\xb7$\\xd1\\xbc\\x85\\xe4\\n=\\x18\"\\xf0\\xbc\\xb2\\xd3S\\xbdCo\\x12=\\xb3\\x98\\xc7<\\xd1\\x1f\\x9a=;\\xdb\\x84=2,\\xc9\\xbb\\r\\xf3c;\\xad\\xb3\\x15:\\xb2sI\\xbd3=S<\\x974>\\xbd\\xb8\\x94\\xeb\\xbc\\xbc\\x9a\\xf8\\xbc{\\xde\\xe1<\\xe8\\xbft=\\xab\\xd5!\\xba\\xa8{\\xeb\\xbcR\\xff\\x17;h-\\xac<\\xf9\\xec\\x85=g\\xdd\\x9b\\xbc\\xb3\\x96*=\\x1f\\xfb\\xe1<\\x87\\xf8f<\\xf6\\x10\\x82<\\xf35\\x04<\\xdc\\x18\\xa3<\\x06\\x91%<\\xb8\\xac\\xd2\\xbc=\\xe7\\xb5<\\xaf:K:\\xef\\xee\\xaa\\xba\\ns5\\xbd\\x05.Y\\xbbs#\\\\\\xbc`\\'(\\xbb{fw=\\xd3,\\xc3<\\x99\\xb0+\\xbd\\xca\\xc3~\\xbd\\xb1\\xb1\\xab;\\xe9\\x04\\x16\\xbd \\x93\\xe3\\xbb\\xef\\xb2\\x0f=\\xa0\\xca\\xe0\\xbb\\x15\\'\\x9c\\xbc\\x0f\\x01\\xe2<Pr\\xe4\\xbcw\\xa2\\x8f=PZl\\xbd\\xbd\\rW=\\x14\\x90\\xc5:~\\x8b\\x19<l\\xd2\\x88\\xbcl\\x10\\x83=\\xdb\\xc8\\x8d\\xba\\x15\\xf5\\xf3<\\xeay\\xc6<+&\\xe6\\xbc\\xb8O\\xa1\\xbc\\x11)\\x17;\\xc7\\x8bU<\\xbc\\xce\\xae<\\xed\\xfc4\\xbd\\xa9P/\\xbd\\x11M*=\\x14g!\\xbd\\xbbb\\xeb<G\\t\\xb5<R\\xe1G=p\\x99U=\\xff\\x98\\x1c=\\xf0_\\xaf\\xbb\\x04\\xab\\x07\\xbc\\xa71\\xd3<\\x10-\\x04\\xbc\\n*\\xe0<\\xc5\\xd2\\x1d\\xbd\\xff`\\xfe<m\\xd0j=\\x00\\xf6/<\\x145q=\\xac9\\xbf=\\xed\\xd8\\x12\\xbd\\x82%\\xe4<\\xd5 \\x9f=Fev<I\\xe8s<\\xeaf\\x87\\xbd\\xdd\\x89.;}\\xdc\\xeb\\xbb\\xdf2t=(\\n\\x80\\xbd\\xbb\\xfb\\xe9<z\\x0b#=m\\xb1\\x1b<\\xc4\\x02\\xf9<gq\\x9c<\\x0b\\xde\\x18=\\x96\\xc9\\xbe<{x\\xcd\\xbc-\\xe5l\\xbd\\xb4[\\xc6< \\xa8\\x02\\xbc\\xa2W:=O\\xf8\\x90<\\x93X]<\\xef\\x9aJ\\xbdQ\\xe46=k1\\xe8<\\xb0\\x94*=\\xa11\\xf6<\\xa9\\x89\\xa5\\xbcs\\x1bo\\xbdv\\xa5v;\\xbe\\xdd\\xc1\\xbc\\xf7\\t\\xb8\\xbd\\xf8\\'\\xa6\\xbd\\xfb\\xa5\\xaa;?W\\x05\\xbb\\xcc\\x19\\xd4;\\x19b\\x12\\xbc\\x18\\xda\\x0f<\\xad*\\x85\\xbdt\\xe6.<\\xd3&\\xf1<U\\x16\\x90<\\xda\\x8fQ\\xbd*\\x84\\xfb:\\xf1\\xeb\\xef<\\x8e\\x05\\x15<\\x93F\\xf2\\xbc\\x0c\\xb8\\xdf<\\x9e=\\x97<\\x10\\xd2M=\\x7fio=\\xa5\\xf9 \\xbc\\xadk\\xa3\\xbcU\\xff;\\xbd\\xff\\xaaD=\\xbfE\\xff\\xbb\\x16\\xb5\\x1a\\xbbc\\xf3\\x10=a\\x88a\\xbb]\\xe58<\\x8b\\xab\\x13\\xbd\\x04)M<v\\xc4\\x1c=m\\xf1\\xb6\\xbc\\xea5\\x14\\xbdW|\\x9c\\xbb}\\xd7\\xad\\xbc\\xef\\xa0y<\\xfb\\x14\\x07\\xbd4\\xba\\xe9\\xbb\\xb3\\x94Y\\xbb\\xf6\\x82\\xb9\\xba\\x93>\\xf8<n\\xf2\\xde\\xbaI\\x0b\\xfd<\\xf9\\xbf=<\\xd0F =\\xf1\\x84\\x05=\\x8b\\xfd3=9#\\xf4\\xbcgR\\x90<;\\xee#\\xbd\\xe2w\\x80<\\xe1\\xd59\\xbcU\\x04\\xbc;A\\xb5a\\xbd\\x8f\\x13\\xa7\\xbcZG\\xf0<88m<*xf\\xbd)\\xa0n\\xbb\\xa3+\\xad\\xbc\\xd9\\xd4\\xd6<wJ\\xc1<\\x13:\\xe7\\xbcZ\\x19\\xaa9\\xfb\\xa7G\\xbd\\xb7\\x95\\x7f=*v\\x86\\xbd%\\xdb\\x82\\xbd/\\xf3\\xe8<^\\x08\\x12\\xbb\\xb6\\x06\\x0e=\\xd62X\\xbc\\t\\xe9\\xad\\xbc\\xf1\\xc70\\xbbe1.\\xbb.\\xe2]=q7\\xfe<#B\\x80=\\xc4\\xa1V=y%+=_\\xb2y<\\x01\\x03B;\\xa5 \\x8a=\\x1a\\xed6=\\x0c\\x99\\xe1<=V\\x1a=\\x08\\xcbA<Z\\xa4\\x94\\xbc\\xa7&+=\\x84\\xee\\x1a<lj\\xdc<=\\x18\\x1c\\xbd\\xd49\\x9e\\xbc\\n~E\\xbd\\x03\\xf2:\\xbd\\xd0\\xdc<<\\xcc\\x020\\xbc$)\\x90\\xbb\\xff\\xdf\\x10\\xbd\\xf3J\\x84=y\\x8e\\x04=\\xc4\\x9b}\\xbcT{H=\\xa4}\\xca\\xbcK\\x0c\\x81\\xba\\x1d\\xd2\\x83:\\xed\\x93\\x13<\\x8cX\\x12\\xbc\\x94\\x94p\\xbc\\x85BV\\xbch$\\xb9;,p\\x9f=aX\\xe2\\xbc$\\xe58<\\x86\\xbd\\xdb\\xbc\\x93[\\x00\\xbd\\xb7\\x97\\x90;=F\\xf8\\xba\\x1b\\x1f\\xa2<3\\x04\\xfb<\\xfb\\xa8\\x06=\\xf06\\x10\\xbd\\x9d\\xa0*\\xbd\\xbb\\xef\\x95\\xbd\\xce\\xd2\\x81\\xbb\\xf90\\x1b\\xbc\\xd31Y\\xbb\\xb3\\x96\\x88<\\xb7J\\xc6=\\xbd\\xac7=4,\\x85<\\xa4\\x8d\\x93\\xbd\\xa0z\\x11\\xbd\\xb58\\x0e<d\\xf4(\\xbb@m\\xc6\\xbc\\xdd \\x98<\\xc4\\x1e\\x03;\\xaa\\xe3\\xde;mI\\x9c\\xbdm\\xda-=\\xa9\\xcf\\xae<\\xdf\\xb9@\\xbd.\\x83\\xda\\xbcq\\xa0\\x04\\xbc\\xf7\\x00+=\\xfc\\xf44=\\xcbA1=\\x93|\\x9c<\\xdb\\xf3\\x03\\xbd\\xf0W\\t\\xbd\\xa2\\xc5\\xa2\\xba\\xc8\\x96\\x89\\xbd^\\x9fn\\xbd+/4\\xbd\\x92~\\x00\\xbbG\\xe8\\xd3\\xbc\\xd3-\\xde\\xbbp\\xbc\\xa6\\xbc7R\\x9f\\xbc2\\x17\\x03=\\xd8\\x97\\xf5<b\\xb0\\xc3\\xbc\\x0c\\xc5\\xae;\\x8aE\\xe0\\xbcQ\\xd2\\xb8<C\\x83\\x9e<T\\xc7l\\xbaQ\\x83\\x1a\\xbdZ0\\x10\\xbd*\\xd2\\x87\\xbcY\\x19-<f\\xd1T<:\\xccf<\\x999.=\\xed\\x96F=\\xdc\\x17\\xb8\\xbc)\\xdf\\xa2\\xbcM\\xe9\\xaf\\xbc6\\x02u\\xbc\\x0c\\xba\\x88;\\xe6|?\\xbd1\\xb0\\xac\\xbdP\\x86\\x9d<\\x1c\\x83\\xd9<q\\x06\\x94<-*j=\\xcc[\\x19=\\x0b\\xb9@=o\\xc6\\x1d=\\x05\\xd4\\xf7\\xba\\xc3\\xc5&<\\x02#\\x80\\xba\\xd4\\x82&\\xbd\\xb0\\x11\\x15=\\xc4\\x1b\\xe7<0\\xb6\\xa6;\\x83\\xcb\\xa3<\\x89\\xb7]<\\x0f\\xde\\';,\\xf8\\x10\\xbd\\xb65\\x1e\\xbd\"(\\xe4\\xbc\\x91@\\xa0\\xbbvt\\x88<Y\\x9eO<\\xbf\\x1a\\x8e<J\\x80M<\\xea\\xf0\\x17\\xbd\\r\\x92\\x8a=`\\x90\\xc3\\xbb{\\x849\\xbc\\x7f\\xabL\\xbd\\x89\\xd2\\xba\\xbc\\x90&\\xd0;\\x93\\x06\\x0c\\xbd\\xd8\\x8c\\xfd\\xbc\\x1f2\\xe4\\xbc\\xd8\\xb5c\\xbc\\nN\\x1a=\\xf8-\\x8d\\xbc\\x1dh9\\xbb\\x99\\x8b\\xe3<\\xbb\\xde\\xf7<`6\\x98\\xbc\\xf6K\\x8e<\\xe1\\xdb9<\\xe0\\xb8\\xce;A\\x82\\xd5;\\xaa\\xd1C<K\\x9b\\xd2<\\xf3s\\xd3;\\xcc\\x82#=s\\xc92\\xbc>\\xa5\\xa3\\xbc^\\xf2\\xb6<\\x1a\\x89\\xe4\\xbb\\\\\\x1e\\xee\\xbc\\xe4\\xa0$\\xbd5\\xaf4\\xbd\"\\x98\\xcd<r\\x04\\x82=_3\\x1f<\\xff)\\x1a\\xbd\\x90=I\\xbd\\x97C0\\xbb!}$\\xbd\\xdb\\xbb?\\xbd\\xe6\\xe2\\x9d\\xbdH>\\x90\\xbd)5E\\xbb\\x04@\\xcf\\xbbNX^<\\x0e\\x07\\x84=\\xbc\\xb5\\xc5\\xbcI7T=YS:\\xbc\\xf0rr\\xbb\\x14\\xed2<\\x04?\\t\\xbcLCE\\xbd\\x84\\xaa\\x06\\xbd\\xb8G\\'=\\x8d\")=\\xea\\xa0\\xc0<\\xc1\\xba\\xa1;\\xfd\\xa2:<XD\\xed<\\xd55\\x00;M\\xff%<\\xb9\\n\\x95=\\x8e\\xa44=(\\xd7G\\xbc\\xf4J\\x81\\xbcV\\\\\\x8f\\xbcg\\xed\\xc5\\xbb\\xe4\\x9f\\xb2<\\r\\xcb\\x8b\\xbc\\xc9\\xb7/\\xbc\\x05\\xa2\\x9c<\\x1d\\xb4\\xe3<\\xe7\\x87d<i\\xb3%\\xbc{\\xc2\\xbb\\xbc\\x80\\xf9r\\xbd1c6\\xbdn\\xd2\\x038.\\x91W<f*\\xa3\\xbd\\xeex\\x8e;um\\xe6;-<\\xe0<+=\\xbb\\xbc?P#\\xbdW\\r\\xe4\\xbce\\xad\\xa2\\xbc\\x1a\\xa6W;n\\xcc\\x18<\\x1e\\xb89\\xbd\\x9c\\xdf\\xb6\\xbc\\xe0\\xe0\\xa4=\\x86\\x84\\x83\\xbc\\xd8\\x1bX\\xbc`G4\\xbbU8V<\\x07\\xe3\\x87;\\xb0\\xbb)<:A\\xcc<f\\xd37\\xbd\\xe8P\\xd9\\xbcC\\t;\\xbd\\xcd\\x9d\\xbd\\xbb\\xdd7\\x9a<\\xc3\\x08\\x93<',\n",
       "  b'chunk_id',\n",
       "  b'freddie_part_4_c510',\n",
       "  b'content',\n",
       "  b'# (1) Notice requirements\\n\\nThe notice may not amend the terms of a Mortgage other than those relating to where to send payments. The Master Servicer and any Servicing Agent must ensure that their staff and facilities are adequately prepared to process Servicing and accounting transactions and to respond to Borrower inquiries during the transfer transition period. The Servicing Agent or Master Servicer undertaking the performance of the Servicing obligations must assume responsibility for responding to Borrower inquiries received after the date of such undertaking. If any Servicing or accounting problem cannot be resolved without the involvement of the Servicer that was performing the Servicing obligations, the new Servicing Agent or Master Servicer undertaking the performance of the Servicing obligations, and not the Borrower, should initiate the contact with the prior Servicer.',\n",
       "  b'gse',\n",
       "  b'freddie'],\n",
       " b'freddie_part_4_c509',\n",
       " [b'distance',\n",
       "  b'0.319473981857',\n",
       "  b'embedding',\n",
       "  b'\\x8e\\xc7#=!@v=o\\x12]=\\xc6\\xec\\x9a<\\xe4\\xdc`\\xbduB@=\\xdc\\xb7\\x97\\xbcK\\x08\\x0f=\\x98h\\xcf\\xbb\\x99\\r3=\\xdb\\xa5G\\xbc,\\x8d\\x94=oe\\x8b=\\xac\\xc5\\xfe6W#\\x88\\xbc\\xc0U3\\xbc\\x97\\x08\\xbf\\xbc\\xc3|\\'=\\x96j\\x85\\xbd\\x98,b;J\\x0f>\\xbd\\xc9\\x19\\xbe;\\xb0\\x8e\\x17\\xbdN\\x8eQ\\xbb9b\"=\\xb5.\\x8b\\xbdt\\xcd\\xe2\\xbb\\xc6\\x84\\xdc\\xbcOf\\xa6\\xbc\\xb4%\\xe5\\xbd\\xd7Y\\x0c\\xbc\\x17\\xa1\\x88;\\x131K\\xbd\\xb1L1\\xbd:\\x1d\\xa3<4\\x04:\\xbbZR[\\xbdks|\\xb9C$|<\\xcb\\xca\\xd6\\xbc\\x93\\xc7\\x8d\\xbd\\xe6@\\x17\\xbd\\xcd\\r\\x81\\xbc^z\\x08;1\\xbf\\xc7\\xbcQ\\xaa\\x07=\\xc5\\x014\\xbc\\xa6\\xb0:=\\x9e\\xc3N\\xbd6U\\x14=\\xc6f\"=\\x92\\xa0/=\\x0e\\x14\\xaa\\xbbZf\\x1a\\xbc\\xac\\x89\\xb3<1m\\x82\\xbd>\\xe0^<A\\xd5(\\xbd\\x95\\xf5)\\xbd\\x89\\xf4 \\xbde\\xfa\\x9a\\xbcrp\\xc5<\\xd9\\x1a\\xb5<\\xb7\"\\\\\\xbd\\xab\\xa0\\xb5<b\\xe2~\\xbb\\x81\\xed\\xf5\\xbcPAp\\xbd\\x83\\xef4\\xbd\\xab\\xdf\\x81\\xbc\\xda:\\x85<\\xe1KV=\\x1f\\xc1\\xa0<I\\x02\\xf9<\\x98$\\xc8;~4z\\xbd;\\xec\\n<,\\x9c\\xb2\\xbc\\xea}\\xe4<\\\\+\\xa0\\xbb\\x9dd\\x1f\\xbc\\xbajc;\\xf5\\xd2F\\xbd\\xc75\\xc7\\xbc\\x8bh+\\xbc^\\xa1\\xc1<\\xec\\x05N=\\xfd\\xfc\\xa5\\xbd\\xcf\\xea\\x8d\\xbd\\x8e\\\\\\xde9\\xed\\xf3\\xab=\\xe71~=Z\\xf6\\xc7\\xbc.!u<:i\\xee\\xbb\\r\\x86d\\xbc\\x95\\x81/\\xbd\\x07\\xf3\"<W\\xff$=\\x1dJ\\xb5<\\x17\\xf4q;ib\\xda<\\x9d\\x15\\xa5\\xbd\\xb1\\x94\\x8b\\xbd\\x7f\\x01\\xef<\\xc60c\\xbd\\xcb\\xa3\\x15\\xbdGbD;\\x97{\\xc1\\xbcD/\\xde<Z!\\x17=\\xba\\x80\\x8d=\\x19\\x88Z=\\x9a.\\xa9<?)&\\xbcH\\x13:\\xbdt#\\x0e=^\\xb25\\xbdE\\xab\\x19=Z\\x93\\x12\\xbc\\xd49.=\\x11\\xa2\"<\\xc9F\\xf7\\xbc\\x94\\xe1}=\\x91\\xe1G=Q\\xf8/=i\\x98\\xf4<S\\xf8\\x16\\xbd\\xfc\\x89w\\xbd\\x95V\\xbb\\xba\\x0c\\xa5T=\\xe1<\\x1e\\xbd\\xeb\\xf8\\x08<\\xcbhf=v\\xad\\xbc<j>5\\xbd\\xd2`\\x05=\\x19\\x9e\\xc8<\\x08\\x04f<\\x0e\\x8c\\n=\\xaf\\x82\\x0c\\xbb\\x80\\xa8t\\xbd\\x10\\xad\\x87\\xbd\\xac\\x8b_=\\xf8\\xe4\\xc7< A>\\xbd\\xae\\x80^=\\xf3\\xba\\xf6=D\\xa3\\x07\\xbd\\xe4\\x91\\xa3\\xbc\\xa7\\x8f\\x08\\xbd\\xd9NW\\xbcd\\x96\\xab\\xbc\\x1eU\\x1a\\xbcK\\xa2\\x82;\\x86\\xbb\\xd2\\xbc`PJ=,MN\\xbd,9\\xa3={\\x05\\x13\\xbd\\x911E;\\xb1\\xddp\\xbdDC\\xbc:\\xab-\\x8f<\\n\\x90D\\xbd\\xa5 \\xdc<{+\\xc1\\xbd$\\xb9\\xea\\xbc]H<=\\x12\\xa96=Y\\xa3,<\\x1c\\x84\\x85\\xbd\\x17\\x90\\xe5\\xbc\\x8cQ\\xbf\\xbd\\x1e\\xe9\\x18<\\x98\\xd0\\xbf\\xbbQZi=:\\x91\\xcb\\xbb\\x01\\xa8\\n\\xbdNI\\xaa\\xbc\\x8eT#\\xba\\xe7\\x84\\x9d<\\xf1\\x19\\x03\\xbd\\xbc\\xe5t;A\\x9f\\x0e=\\xf3/\\xaf\\xba\\x80Y@\\xbc\\xf5\\xec\\xee<\\xda\\x86\\xb5=\\xea\\xfe\\xfd:4\\xa2\\x84<\\xd0\\t-:\\x07^\\x14\\xbd\\xec\\xeb|=Jti\\xbd-\\x99<\\xbc\\x9d\\x1e\\x87\\xbds\\xde\\x08\\xbd\\xac\\x04\\xc2<X\\n\\x16\\xbd.\\x7f-\\xbd\\x93c\\xf5<jCm;$\\t\\x1f\\xbd\\x88D\\xd4:\\x0f\\xc0H=\\xddR\\xf1\\xbc/\\x079\\xbd\\xf5\\x93\\xe3\\xba\\xf3\\xfc\\xb9\\xbc\\xc7\\xb2\\x89<\\x9a<\\xa8\\xbb5\\xc2\\x8f<\\x86\\x98\\xf4\\xbc3\\x0fY\\xbcW7\\xf3\\xbc\\xc7\\t\\'=\\x19TF;\\xa3y\\x94=\\xf39\\x98\\xbd\\n\\x17\\xe3\\xbcGd\\xb0;\\x18\\xa7=\\xbc\\xdcz\\xaf\\xbc24\\x90:k\\x7fs=\\xc1^7\\xbdV\\x13n=\\xdc\\xaa\\xac<u\\x1e\\xb7\\xbc?\\x88\\x10\\xbd\\xc5\\xb1\\xa5\\xbb\\x92 \\x0b\\xbd\\xd2\\xb9\\x0c=\\x8bF\\x84\\xbb\\n\\x87\\x1c=\\x16\\xce\\x86=\\xdd<\\x02\\xbd\\xe7Mw\\xbc\\x12~\\x97<c\\xeb\\xc6\\xbc\\x11\\xf4]=,\\xc1\\x9d=H\\xa32\\xbdu\\x19X=`\\x81W=\\x1a\\x9e\\x82<\\xbc\\\\\\x0f=\\x8a\\x8d\\x07\\xbd\\xcb\\xbe\\x88\\xbd\\xb1\\x06\\x1c\\xbbY\\xb9Q=\\xcd\\xfe$;\\x10R\\xd0\\xbc\\xfe\\x16\\x1c\\xbd)\\x17\\xb3\\xbc$!\\x0e\\xbc4\\xd4\\xe2;[\\x05O\\xbd\\xedl#\\xbd\\x87\\x9e_=\\xf1{v\\xbbhH\\x9c\\xbc\\xc4h\\xbe\\xbb\\xb9\\xd8\\x01<\\xfd3\\x8f\\xbd\\x96|\\xbd\\xbc0\\x8c\\xe9\\xbc\\xba\\xb9L\\xbd\\x1f\\x1e\\xbe\\xbc[\\xf3/<X\\n\\x0e=A \\xaf\\xbc\\xb2sl:\\x93\\x08\\x03\\xbd\\x88(\\x8b<\\x07(\\xa5\\xbc\\xbf\\xd1\\x9b<\\x8a\\xe7\\x04\\xbb\\xb2a\\x94\\xbcg\\xa7\\x82=\\x08\\x93A<\\xe9b\\xad<p\\x00Z\\xbd\\xf7\\x1b\\xa59\\xa7(U\\xbd\\xaf\\x91\\xcb<0t^<\\x89\\xa1\\xe6\\xbb\\xc1\\xcd)=\\xe8\\x81\\xb5\\xbc1\\x87X=\\x18\\x8b\\xec<\\x932-\\xbd\\x0f\\xc4W<\\xda=`<l\\xc1G=U5\\x05<\\x06\\x95\\xd9\\xbc\\xea\\xff&\\xbdI\\x8a\\x82\\xbc\\xee\\x94\\x93=\\xc9\\xca\\xeb\\xbc\\xf3\\x1d\\xf2\\xbb\\xadY\\xa1\\xbc\\xba\\xf9\\xac;\\xfd]\\x9b;F\\xcd\\xaa<\\x9e\\x9d\\x04=\\xd7\\r\\xd4<\\x9f\\x98\\xc5<\\xf0\\x80-=\\xfd\\x13\\x0c=<,\\x83\\xbc\\xf8Q\\xc0\\xbc\\x1fsG=\\xe7h \\xbe=\\x01\\xd3<\\x88q \\xbc\\x1c\\xb1\\x81<\\x11\\x0f\\xe0<\\xb9`\\x18\\xbd\\x1b\\xcaR\\xbc\\xf4\\xae\\x05<\\x9at\\x0e\\xbc\\r\\xa3\\xbe<\\xe1\\xc7\\xcc\\xbb\\xfb\\xe7\\x03\\xbdu\\xe7\\x8c<K\\xe9\\xa9<6\\x9e\\xfa\\xbb\\xa7\\x0e\\xaf<K\\xf6h=\\xcc\\x8d\\xe9\\xbc\\x0b\\xfe\\x11\\xbd]\\xcb =~\\x8d\\x04\\xbdy\\x05=\\xbd\\xc2\\xeas;~\\x9f\\x0b=&p\\xa5=x9\\x82=\\xf0\\xabQ<\\x19\\xa0\\xbd<\"\\x7f\\x9f\\xbc\\x15\\x0bl\\xbd\\xf5\\xc6\\x0e\\xbc\\x94\\xac\\x12\\xbd\\xaag#\\xbd\\x91\\xed)\\xbc\\xed\\x12 =\\xcdP\\x96=\\xc33\\x8a\\xbc)\\x81\\t\\xbd\\xac\\x14Q\\xbc/\\xdc\\xf1<\\xd6\\x86q=\\x89G\\x88\\xbcw\\x84M=Z/z<[\\xcc)<f\\x80\\xc2<\\xc5\\xab\\x1d;\\x97\\xd0\\xc3<\\x1fn\\x10=l{\\xe2\\xbc\\xfbX\\xf0;\\xbb\\t\\x05<\\xba\\x0f`\\xbc\\xe6\\xd7*\\xbd\\xd5uF\\xbc\\xb6\\x9a\\xdd\\xb9(\\xd6\\xaf;J\\x03>=\\xbb\\x16\\xd89\\x95\\xf8\\x1c\\xbd\\xb5\\x0e\\x8c\\xbd\\xa7\\xf6\\xbf<\\x88\\xdb\\xfa\\xbc#()\\xbc\\xc3\\xac\\xf2<\\xacn\\x9d\\xbb; \\x85\\xbc\\x1b\\x11e\\xb9\\x1f\\x88\\xca\\xbc5\\xcd\\x82=\\xdbj[\\xbd\\x81\\x8fc=\\xc9\\x03!\\xbb?\\x05\\xe0\\xb9x\\xd23\\xbd,J5=l\\x14\\x1b\\xbb^\\xc0L=\\xdf\\xb1\\xfe<\\xd4\\xf1\\xe5\\xbc\\xad.\\x9a\\xbc\\xed\\x02@;\\nt,<\\xacF\\xd2<5Kf\\xbd\\x95\\xa4L\\xbd\\x9ak5=\\x98\"/\\xbd\"}\\x1c=i\\xc3\\xb5<I\\x8cs=\\x93r\\xc5<b\\xd5\\x93<\\xb2\\xe2\\x8d\\xbb:J\\r\\xbc\\x0b\\xfe\\xb3<\\x98P\\x1f\\xbc\\xc0?\\x08=7\\x04\\x12\\xbd)\\xe7\\xdb<G\\x1c\\x8a=\\x93\\xb4\\xcc<\\xb1wW=&\\xaf\\xb3= \\\\\\r\\xbdwJ[<r\\xbd\\x84=$\\x9d\\xf0<\\xb2\\xcf\\xcd<\\xa1\\xdaz\\xbd\\xc8\\xb6%\\xba)J\\x86\\xbc\\x8f\\xda\\x99=\\x12\\xa8^\\xbd,\\xb2\\x19=\\xc7\\xf9\"=\\xf6\\xc8\\x94;\\xb5&\\xc4<b\\xbe\\x84<\\xeb\\xcaL=8Gv;\\xd3\"\\x80\\xbb\\xbdT\\x91\\xbd\\x11\\xbb\\x1a=\\x99\\xb7\\xc19\\x14\\x05D=e\\xa1|<\\x89\\x1e\\x02=X\\xb4\\x19\\xbd\\x9a\\xff5=\\xcf\\xe20<92\\r=7\\x06\\xea<I\\xeb\\xf2\\xbc \\xac`\\xbdZ\\x9e\\';\\xe5b\\xe7\\xbcQt\\xb0\\xbd\\xe6d\\xb0\\xbd\\xdc\\xb2e\\xba\\x1c\\xdb_<\\xc0\\x85/<\\xa9`\\xec:_\\x1c\\xba\\xba\\xd2\\x0fO\\xbd\\x8f\\xa4\\x9c<xU\\xc8<\\x19\\xff)=\\xc1\\xf2\\'\\xbdW\\x9a\\xaf;\\xf5\\x1ag<\\xc5\\xba\\x00<\\xf69\\x9b\\xbc\\t4&=\\x98g\\x97<\\xd1\\x0c\\xd5<\\xfeh\\xb1=\\x97\\xd8B\\xbc%\\xac\\xe0\\xbc4\\x9d-\\xbd\\x9a3]=(5\\xd3\\xbb\\x05\\xd7\\x82<\\x81\\xe8\\xda<GO\\xac\\xbc\\xb3#\\xa8<o\\xa1\\xfc\\xbc\\xcaC\\x11=A9$=6\\x86\\x92\\xbcI\\xf6\\xa4\\xbcH\\xcf\\xd0\\xbcv\\xad\\x87\\xbc\\x8c\\x8bR\\xbc\\x92M\\x17\\xbd#V\\xda\\xbb\\x033\\xf2\\xbaz\\xabq\\xbb\\\\\\xde\\x05=sR\\x99\\xbaa\\x7fY=]\\x89\\x81\\xbbZ=\\x83;\\xa2|9=\\x9f\\xf5C=o\\xd8\\xed\\xbc\\x04p\\x1d\\xbb\\xefQX\\xbd:\\xa2|;\\xee\\'T\\xbcV\\xee\\xdd:T;\\x96\\xbd$\\x17\\t\\xbc\\xad\\xc7g<s\\xd2#\\xbc\\rD\\x1e\\xbd\\x92\\xb9H\\xbcD\\xda\\n\\xbc\\xef?\\xd9<\\x90>V<MA\\x80\\xbc\\xba\\x92\\x8a\\xbbv\\xfa\\x16\\xbd]yj=\\xbe\\x8c{\\xbd\\xadd\\x85\\xbdXc\\xe5<\\x16\\x98\\x8d\\xbc!\\xa2O=X\\xd6z\\xbc#\\xe4\\xb8\\xbc\\xb5q\\xa2\\xbc@\\x8a\\x9d;O\\x93t=\\\\J\\xbf<3L\\x89=\\xffE\\x11=6\\xdc1=\\x13u\\xf5;\\x84m\\xe5;g y=\\xef\\xe2\\x16=\\x83/\\xa6<\\x043\\xf0<\\xde\\x80\\xac<\\xcd\\xbae\\xbc\\xd2\\x0f\\xf7<\\xf3\\x80\\xb8\\xb9w\\xda\\x08=G\\xb1\\xb3\\xbc\\xbc\\xae\\x92\\xbc\\xd5\\xad\\xf7\\xbc\\xebdF\\xbd\\x10\\x8a5<\\xfa\\xeb\\xdf\\xbbx\\xbd\\x93;\\xf1\\x05l\\xbd\\x89gK=\\xe5 \\xd8<fF\\x97\\xbc\\xc3\\x8aD=\\x0f^\\xaf\\xbc\\x1d\\xd3\"\\xbc\\x9f\\xc4\\xb0\\xbbP/L\\xbb\\xefv\\xf8\\xbcR7x\\xbc\\xbf\\xd6\\xbd95\\xac\\xba\\xba\\xe9\\x01j=\\x1ac\\xa4\\xbc\\xff\\xa4\\xb2<\\xfe\\x87\\xbb\\xbc\\x83\\\\0\\xbdK\\xac\\xc6:\\xc3\\xffj\\xb89|\\x04=;`\\x1b=\\xe6\\xee\\x13=\\xc4\\xfb?\\xbd\\xef\\xd3?\\xbdW\\xfen\\xbd\\x80\\x1a\\x04\\xbc\\to\\xc33\\xab\\xa3\\xd6\\xbb\\x14\\xe4\\xe7;\\xc3/\\xbc=&\\x94P=o,\\xf5<\\xa1\\x19?\\xbd\\xa2\\xcf\\xd3\\xbc\\xc3ON\\xbc\\x05\\x85\\xdf\\xbb\\xc9[\\xbc;\\xf4\\xbf\\x16\\xbb\\xbeR\\x1d:k\")\\xbc\\x81\\xa2\\x99\\xbd\\x1evi=\\x9b\\x190;\\x8b\\xef\\x08\\xbdIT\\xb0\\xbc\\xa8\"\\x8a<\\x8a\\xdd\\x1a=\\xeeB\\xe4<Vo\\xe5<f\\x9e\\x1c=\\x85\\xa1\\xd8\\xbb\\x15q\\x80\\xbczi\\r\\xbcb\\xff\\x88\\xbd\\x89\\xbc\\x84\\xbd\\xc3\\x8f6\\xbd\\x04\\xa6\\x9e<\\xe5\\x19\\xf0\\xbc_3n;D?\\xf6\\xbc\\xf7$!\\xbc\\xe6)\\x0b=\\xa0\\x93\\x87<~\\xac\\x03\\xbd\\xc2g\\xbf<\\x11I\\xe7\\xbcMTy<\\x04\\xfe\\xbc<t\\xb6B\\xbb\\xea\\x08\\x95\\xbc\\xe5\\xcc9\\xbd\\x93\\xcc\\xb0\\xbcGn\\x0e<\\xd6\\xd6\\xbf;<\\xe3\\xee\\xbb\\xf8*V=\\x93\\xc3\\x1d=y\\xf9D\\xbcss\\xa6\\xbc^\\xfb\\x80\\xbc\\xec\\x9c|\\xbct\\xda\\xa4<\\xc5K\\x15\\xbd/\\xdd\\xb0\\xbd}O\\x0e=g\\xfd\\xc1<0:\\xb4<K\\x8bC=\\xf5\\x14G=E\\xdef=\\xef\\xab\\x90<\\xa9\\x8c\\xa3;\\x0fS<:\\xc0\\xb1\\x9f\\xbbB\\xed\\x0e\\xbd\\xed\\xde\\xac<\\xa1\\x97\\x0b=l\\x96>\\xbb\\xf6\\x8ea<$\\r\\x95<\\xbe!\\xa1;U\\x95\\x08\\xbd\\xda3F\\xbd\\x9a\\xa8\\x86\\xbc\\xb7\\xf2\\xc7\\xbb\\x7f\\xc1c\\xbc\\x86\\xbb\\n<\\x92\\xafX<\\x039\\x08=\\xa5t\\n\\xbd\\xf7\\x0e{=\\xc0A\\xaa\\xba$\\x1a\\xb0\\xbbp\\xb3\\x1b\\xbd\\xdcw\\x8c\\xbc\\x0c\\xc0p\\xbb\\x11\\xd3\\xef\\xbc\\x15\\xeb-\\xbd0\\x9a\\x13\\xbd\\xb3\\x17\\x83\\xbc\\xf1H\\xb3<n\\xe55;\\xaf\\x04n\\xbc\\x9d\\xd7\\x13=\\xf8\\xca\"=~A\\xa2\\xbcRM-<3\\x86\\x17\\xba8\\x9e\\xca<\\xac\\xe7\\xa3;L\\xa1S\\xbc_\\xde\\xe2<j\\'\\xa7<0\\xafI=\\xb9|,<#\\xd7\\xfd;J\\xb8\\x9c<\\x7f\\xb5\\xe7\\xba\\x19\\xbeI\\xbct\\xcc3\\xbd\\xae\\xeb\\x14\\xbd\\xffN\\xd5<\\r\\xa5\\x83=\\xc5\\xefR:\\xe1aA\\xbd.\\xc2\\x99\\xbd\\xec{\\x87;H\\\\r\\xbd\\xdb\\x0bq\\xbdq\\x92\\xa3\\xbd\\xe7\\x9b\\x8c\\xbd\\xce\\x8e\\xc9\\xba\\xc5\\xbf\\xcc\\xbb!\\xe6\\xfd<\\xdc\\xa6z=m\\x9c\\xb1\\xbb\\x11&5=\\xc9\\x04\\xcc\\xbb\\xb7%\\x9d;\\xdc\\xed|<\\x03\\x02\\x9d\\xba4B\\x10\\xbd\\xf4c\\xe0\\xbcS7\\x02=z\\xca\\x02=y\\xd7\\xc3<\\x03:\\x89\\xbb\\xc5\\xd4\\xab<\\xe6\\xb3\\xb4<\\x96\\xa9y<5\\xed\\xf6<\\x1c\\xdbf=\\x82\\x86(=\\xf9\\xbf\\xc0\\xbc\\x05\\x1f\\xcc\\xbc\\x98P\\xb7\\xbc\\x15\\xe7\\xa9\\xbc\\xbc\\x18\\xbe<o\\xf9\\xc2\\xbc\\x87}0\\xbcIT\\xcb<\\x06\\xe2\\xe8<\\xb5\\x9c\\xa4;=\\xedF\\xbc\\x17\\xea\\x9d\\xbc\\x1e(\\xa4\\xbd)9l\\xbd\\x0e\\x1c6<\\x9d\\xe2\\x91<xOk\\xbd:\\xcc\\xe7\\xba\\xde\\x98g<\\xb3\\xd8\\xea<\\xd7/\\xb8\\xbck\\tJ\\xbd\\xb2\\xa6\\x03\\xbdY\\x9b8\\xbc\\x8b\\x97\\n\\xbcj\\xcf,<\\x06\\x97Y\\xbd\\xb0\\t\\xf0\\xbc\\tO\\xc5=\\x93\\xb4\\x17<\\xd5B\\xbc\\xbc\\xaa\\xd6\\x88:\\x11\\xc1\\xc3;\\x18A\\x8d\\xbb\\xdf.)<\\xbaY\\x1b=\\xd6\\x9fA\\xbd\\xd1\\xa4\\xe3\\xbc\\xd9k$\\xbd\\x15\\x16,\\xbc\\xdd\\x9a\\x86<\\xa8\\xda-<',\n",
       "  b'chunk_id',\n",
       "  b'freddie_part_4_c509',\n",
       "  b'content',\n",
       "  b\"# (1) Notice requirements\\n\\nThe notice must advise the Borrower of the following: 1. The date the new Servicing Agent or Master Servicer undertakes the performance of the Servicing obligations 2. The name and address of the Servicer undertaking the performance of the Servicing obligations 3. The names and telephone numbers of the contact persons or departments where the Borrowers' inquiries relating to the transfer should be directed. (If toll-free numbers are not available, the letter must indicate that collect calls will be accepted.) Such names and telephone numbers must be provided for the party previously performing the Servicing obligations as well as the new Servicing Agent or Master Servicer undertaking the performance of the Servicing obligations. 4. The date when the party previously performing the Servicing obligation will no longer collect the Borrowers' payments and when the new Servicing Agent or Master Servicer undertaking the performance of the Servicing obligations will begin to collect them 5. Procedures for maintenance of automatic draft payments, if applicable. Every effort must be made to continue, without interruption, electronic payments on the Borrower's Mortgage, to the extent permitted by applicable law.\",\n",
       "  b'gse',\n",
       "  b'freddie'],\n",
       " b'fannie_part_0_c352',\n",
       " [b'distance',\n",
       "  b'0.290015816689',\n",
       "  b'embedding',\n",
       "  b'O\\xbbo\\xba\\x0c8\\xbd<=N2=Q(\\xed<\\x0f\\x19\\x90\\xbc\\xb2r\\xd5<\\xe8U\\x8f<\\xe5e\\x12=\\xa5\\x10\\xef\\xbc9\\x08\\xc5<\\xa4\\x14D\\xbc\\x87\\xabI=\\x94rb=\\t\\xf9&\\xbcFh\\xc7<\\xab\\xfe\\xed\\xbc\\x9aQ\\xa5\\xbc\\xe1\\xaa\\xd3<\\xc9\\x839\\xbdf\\x0c\\xae<#6(\\xbd\\xa3\\xdc\\x1d=\\x95\\t\\xf8\\xbd\\x12q\\n\\xbd\"\\xd2\\xab\\xbb\\x99\\x85\\xc2\\xbd\\xe1\\xb2\\xbb<\\x7f/\\x86\\xbd\\x88jl\\xbcZp\\x82\\xbd\\xa8\\xbe\\xeb\\xbb\\x08\\x8f\\xe4;\\xee\\xfa\\x96<P\\x85\\x90\\xbd\\xdd\\x99R\\xbcm\\x7f\\x1d\\xbd\\x96*\\xd5\\xbbh\\xaf\\xcc<\\tB*<ys\\xab\\xbcWG!\\xbd\\xf09\\xac\\xbc#\\x14`\\xbc\\xe3PD<%\\xbc\\xbe\\xbc\\x81\\xe7\\x84\\xbd\\xfa\\x1a\\x82<\\xe4l\\x1f=\\xc4H\\x85\\xbd\\xbcwt\\xbb\\xf0#\\xa7<B\\xe1\\x82=\\x01\\xaa\\xde\\xbc\\xd4\\x98\\xbb<\\xdc\\xc5\\xe3\\xbb\\xad\\xf0A\\xbdTF\\xe4<\\xb2\\x82\\x0f\\xbd\\xe1O%\\xbd\\x0b\\xf4\\xd5:\\xe4\\xd9D\\xbc]n@<\\t\\xea<;\\xd5\\xd4\\x15\\xbd\\xcaU\\x96\\xbc\\x15\\xc3\\x10<\\x9c\\xe2V\\xbd\\xce\\x0e\\x98\\xbd\\xc9\\xc4}\\xbd*\\xd6\\x84<\\xc1\\x1c-\\xba\\xach\\xce;`\\x0bB\\xbb\\x98\\x88\\x0b=\\x98\\x9a\\xf9<\\xfd\\n\\x88\\xbc\\xfd2\\x95\\xbb\\x1e\\x7f\\xa9\\xbcB\\x06\\xb4;\\xa5\\xee\\xcd<wF\\x94\\xbdz\\xcfc=\\xea\\xfbj\\xbb\\xa4\\xe3\\'=\\xac6\\xbc\\xbc\\xb1tS<AV\\xc7<\\xbf\\x04\\xb7\\xbdho@\\xbd\\x11\\x90\\x83\\xbc\\xda\\xf7\\xaf=\\xe8\\xecx=Rvt\\xbd\"\\xaf\\x07=7\\x92\\x11<\\xf8\\x81\\x1e<\\xb3_\\x9a\\xbc\\x1e\\x93n\\xbc)\\x02\\x0e=\\xc1l\\x8b=\\x1a\\xba\\xbc\\xbb\\xe0\\xfe\\x82<\\xc3#|\\xbd\\xc0z3\\xbddi\\x8e=g6\\n\\xbc\\xe3P\\xdd\\xbc\\xab\\x9dF=\\xcb\\xc4\\x9e\\xbcX\\xc0\\x0c<\\xe8\\xc4\\xe9<\\x98\\x9e\\x89=\\xe9u$=\\x1f\\xd6\\xab9\\x15L&=\\xe6d\"\\xbdexm<*\\xa5\\xc2\\xbb\\x8d\\x0c\\x11\\xbd\\x19\\xd7\\x84\\xbd\\xe0\\xbc\\xea<\\xf1H\\x16;\\xa4\\xa5\\x16;\\xfc\\xfdX=\\xcd4\\xaa<KcR\\xb9dkL<\\x1b\\xdfp\\xbd?P\\x87\\xbd \\xe20=\\xd6\\xd0\\x95=\\xc7:\\xf9\\xbcM\\xb8\\xbf\\xbbsBQ=\\xf6x\\xd9<\\xa1\\xdd\\n\\xbd\\x89\\x7f\\x96<\\xc4\\x86~\\xbc\\xf5\\xc9\\xfc\\xbc_\\x0fM=\\x9e\\xe8\\x10<\\x94\\x0e%\\xbd\\x8d-\\xe2\\xbdi\\xda\\x9c=\\x06$0=\\x8a?\\x07\\xbdU\\xa0S=b\\xd6\\xa3=\\x82\\xbb\\t\\xbdt\\xc0\\xa9<\\xbf\\x7f\\n\\xbd47\\x04\\xbd\\xe7-\\r\\xbc\\xb47]\\xbc\\xa5V\\x10<6\\xea\\xd5\\xbc)\\xf0/;c\\xbac\\xbd\\xd5\\xba\\xb1=\\xd9\\x17\\xf8\\xbc{\\xb4+=\\xb4g\\r\\xbdZ%\\xc8<g\\t\\x1c\\xbd\\xef\\x1d\\xab<\\xf4\\xb7\\x12=\\xdd\\xb2\\x04\\xbd\\xc5c\\xdd\\xbc\\x93\\xf49=\\xd0\\xf2\\xbc<\\xfa\\x05\\x03\\xbd]Y\\x14\\xbd<\\xfb\\xb8\\xbcp\\x80\\xc7\\xbd\\x9cTA=\\xb3wq<rW\\x92=\\xbc\\xee\\xa5\\xbb::\\x96\\xbd\\x856\\x87\\xbd\\tv6=\\xe2\\xb7\\xfb<\\xcc\\xf1\\xf2\\xbc\\xbf\\xcd!=N4\\xea<=lb\\xbc\\x1e\\xae\\xd2\\xba\\xf2\\x89D=n \"=\\xffK\\xa1\\xbc3\\xfb\\xfb<\\xaeY\\xa6\\xbc8\\xe9\\xa1\\xbc\\xe4\\xc9\\x06=\\x83\\xf5\\x0f;x,k<@G\\x85\\xbd\\xfb\\xb5\\x17\\xbd\\xe4\\x12\\x8c;\\xfc\\x07Y;\\x1e\\x1b!\\xbd\\xb7\\x98\\x9f\\xbb`%\\x91;\\xe9\\xf7d\\xbd\\xdf\\xc7\\x8a<ju\\x90<\\xda\\xe8\\xba\\xbc\\xe0\\x16y\\xbd*/B\\xbd\\'\\xf0T\\xbb\\xcd\\xe9\\x89;\\xbe$\\xd0;~\\x18)\\xbb&V\\'\\xbb\\xaf\\x0c,\\xbc\\xf0`\\x1f\\xbb\\xe3\\xddj=\\xff\\xa6\\xa3<\\xcfww=7\\xc2u\\xbda\\xcb\\xc0\\xbc\\xaa\\xbdh<\\x08\\x16\\xb6\\xbc\\r\\xe4\\x80\\xbb\\xd6\\x0b\\\\\\xbbS!\\x14=\\xeb\\x19\\'\\xbcgHY=\\x94\\x19?=\\xd1\\x98\\xa0\\xbcx\\x10\\xab<)\\x9cJ=\\xd5\\xd0\\xdb\\xbc\\xc6\\xa6\\x1f=L\\x13K\\xbc\\xb2\\x07e=Z\\xe3\\x06=\\xaa2\\x0e\\xbc\\xab\\xdey\\xbc~\\xf3\\x15<C\\xd5 \\xbc\\xa3\\xbbg=\\xe0n\\x9b=\\xabEm\\xbdc2\\xe5<\\x12\\xa4\\xc0=d\\xfd\\x0b=$\\xf5\\xfe<\\r%\\x16\\xbc=\\xc3\\xb6\\xbd\\x8c\\x13\\xb9\\xbc\\xa3v\\xf0<\\x99H~;\\xc9#+\\xbcI\\xe8x\\xbc\\xec\\xa4.\\xbcV8W<\\xc2\\x86\\xf9\\xba\\xf0\\xe2\\x80\\xbcF{\\x80\\xbc\\r\\x8d5=\\xcf\\x12K\\xbbKDB\\xbc\\xc6\\xbf\\x98\\xbck\\xb6T<\\xf2@\\x1b\\xbd\\x82w\\xb2;\\xfc\\x15s\\xbd\\xea\\xb5\\xcd\\xbdm\\xf2\\\\\\xbdAX\\x079\\x10\\x9a\\x03=\\xc0\\xe1\\x06\\xbd\\xf7vI;/\\xfem\\xbc/\\xe8\\xdc<\\xfa\\xe8k<~`3\\xbc\\xf2\\x92\\xbe\\xbb\\xf5\\xe6\\x8a\\xbdi\\x85R=\\\\s\\x8a<\\xef\\x12\\xb6\\xbc|\\x04&\\xbd\\x90a\\xc1<\\xb0\\x18\\x83\\xbd\\xef6\\xee<\\x1bA\\x11=\\xcf\\xb4\\xf7<O]\\x0f<\\xebn\\t\\xbd\\x98@\\x06\\xbd\\x82F\\xa7<\\x8f+\\x19\\xbc\\x14\\xd6\\x04\\xbc\\xa2A\\x01\\xbc\\xed\\xdb\\x12=[u\\x14\\xbd \\xf7\\x17\\xbd\\x81\\x8e\\x1d\\xbc\\x7fG\\xec<x\\xf1\\x83=9\\xe6\\xd5:\\x99\\xc8\\x15\\xbb\\xbc\\r\\xc2\\xbc#P\\xdc<\\xd5\\x02\\x83\\xbd\\xc5C\\'\\xbd\\xbee\\xf4\\xbc\\x97\\xcf&<6\\x816<\\x11\\x8f\\xf1<uF\\xc4\\xbc1D\\x8a\\xbd\\xa7o\\xb2\\xbb\\xf9\\xc9f\\xb9\\xda\\xe8/\\xbe\\x87\\x93\\xb0\\xba\\x8c`P\\xbd\\r\\x0c\\xf8<\\x9f\\x01\\'<\\xe6\\xa52<\\x0b\\xcbv\\xbc\\xe9\\xa1\\xd7\\xbbK\\x1f\\xb6<\\xd7\\x97\\x94<\\xbb+\\x1f<\\xe2.\\xd4\\xb9\\xee\\x9f\\x1e\\xbc\\xe3\\xcd\\xab<\\x9dA\\x81\\xbc\\x1b\\x0f\\xed\\xbb\\x1b\\x86==b\\xdd@\\xbd&4\\xb8\\xbc\\x1bBe=\\xfc(*\\xbd)l\\xe5\\xbc7\\\\\\x95\\xbc\\xe3\\x10#<\\t9\\xaa=\\xce\\xcb\\xb3<\\xb2\\xa8\\xb0;\\x91\\x8b\\xa8\\xbb\\xa7\\xb0X<\\x99\\xe3\\xd1\\xbc\\x16{8\\xbb\\xc0\\xfaF;\\xf5}\\xc4\\xbc\\x13W\\t\\xbd\\xa1\\x1fN=\\x85\\xfam=\\xfd\\xe7\\x03\\xbd\\xa1w\\xbf\\xbc\\\\9\\x07\\xbb\\x85\\xc3\\xfd\\xbc&\\x8b\\x82=\\xff!:\\xbda\\xe5\\x02=\\x8d\\xb0j<\\xae\\xb8_\\xbb\\xb7 %\\xba\\xa2\\xf2\\xa5;G\\x7f,=\\x94\\x87\\x95<\\xc9\\x93*\\xbdi\\xa1\\x9f<\\xc8\\xadl\\xbc\\xbb\\x85-=S\\xbe\\x9f\\xb9F\\xe9h<\\x99\\xcf\\x08\\xbd\\xde\\x9d\\xc0\\xbc\\x02A\\xf8<\\xdd(\"<\\x07\\x96\\xa9\\xbc\\xa7\\x94\\xa4\\xbb\\xf6d)<y\\xd8\\xd5;\\xddP\\xae<`\\xc0^=\\x9b\\x9b\\x01\\xbc\\x19}\\xf0\\xbc\\x18\\x84\\xf9<\\x17\\xadT\\xbd\\x06\\x10\\xa5=@\\x7f\\xf5\\xbc\\xe3o\\x04=\\x8d\\xa8s\\xbc&ul<J\\xbfU<\\xebri\\xbcE\\xf28=\\x85\\x95\\x0f=\\x03[\\x0e=*\\xf9\\xdd<~\\xab\\n\\xbd2\\xd9\\xd8:\\x0ec\\xc5\\xbc\\xc3\\xec[\\xbb\\xbe\\xbfg\\xbd\\xad\\x17\\xed\\xbc\\xb0\\x08\\x04<\\x93\\xa5\\xd0\\xbc\\xa4\\x9d\\x0c=\\x83\\x03\\xe1;\\xe0H\\x8d=,\\xf1\\x94\\xbc\\x87\\x9c\\x93\\xbb\\xd3\\xff5;\\xaeO\\x97\\xbc-\\xec\\xe7<S\\xa5j\\xbddD\\xa0=R\\xe3\\x02\\xbd$<3=\\xd0\\x83\\x03=\\xdarO<\\x90?$=\\xf2\\xc2y=\\xe4\\x85`\\xbd\\x86V\\x86\\xbb\\xb7a\\xb1<N\\xe5\\x16<\\x95\\xc0\\n=%\\xb3\\xdd\\xbcX\\xfc\\x8c\\xbb\\xdf\\xfc\\xc2<e{\\x17=mD\\x85\\xbb\\x8f\\x15k;0)\\x07\\xbcB\\r\\xf8:\\xe6\\xd2\\xc6<g\\x86\\xed<.\\xb6F=T\\\\\\x9a\\xbc\\x97\\xf0\\x07\\xbd\\xde\\xe1\\xbc\\xbd\\x1a\\xaf>=`\\xd0\\xbb\\xbc\\xef\\x84\\xdd;\\xf9\\xc5w<* d<\\x9b\\xb9\\x0f<I\\x0f\\xbf\\xbc-\"\\xdf8\\x88\\x1fP=\\xe04\\x04\\xbc\\xd4\\x95\\x8d\\xbc\\xa7q\\xc8\\xbcI({<\\xf3I\\x06=\\x06\\xf6\\xa4\\xbd\\xfa\\xdc*\\xbd\\xaf\\xd4\\x0b=\\x89\\xb1\\xfa\\xba\\x7f\\x7fe<\\xc0E\\xfb<\\x16y\\x80=\\x8a\\x9d\\xfd\\xbc\\x02L\\xcd<\\xab\\xf0 =\\xe1\\xb5\\xba<\\xb3-\\x14\\xbd\\xe6\\xaa\\x90;.D$=Cb5=g\\x92\\xaa;\\xe8\\xbd =\\xe5\\xbc\\xd3\\xbb\\xa9\\xd8\\x05;\\x9ay$=}\\xa5~:\\xf5U\\'\\xbd\\x0e`\\x9e;\\xeb\\tG=\\x94\\xf7\\xb1:\\xe6\\xc91\\xbb\\xadV)<\\xff\\xa7y\\xbcoz\\x81<\\xd9O\\xc4\\xbcX\\xd9|<I\\x9c\\xd9<\\x87\\x83\\x1f\\xbdX\"\\xb3;>\\x8bF\\xbd\\xb8\\xab\\xbb<\\xf5\\xf1\\xc4\\xbcWWb\\xbd\\xcb(e\\xbd\\x1e{V\\xbc\\xe4~\\xaf\\xbazc\\xec;\\xcdA\\xda\\xbc\\x9f\\x91}=\\xefy\\x87\\xbc\\xddc\\x93<\\xe5\\xc0\\x9f=\\xf1\\n\\xee<\\x1a\\x1aY\\xbd\\xe0\\xa4\\x11<\\xa9,T\\xbd\\r\\x931<\\x11\\x81^\\xbd\\xf9\\x1a\\xc2\\xbb\\x15>\\x97\\xbc \\xa1\\x9a;8\\xe9!<I\\xd2\\x1c=\\x0c\\xaa.\\xbd\\x9b\\x00\\x83\\xbc\\x87\\x03\\xd2\\xbc%\\xb6\\xc0<\\x10\\x1co<r\\x91\\x9c<\\xe0\\xd8\\x0f\\xb9\\xb9)t\\xbd3GZ=\\x15\\x81$\\xbd\\xc9wB\\xbd\\xacQn<\\x95\\xdc\\x01\\xbd\\xb1\\xca\\x97=\\x87\\xd3\\xfd:\\xa7R\\x19\\xbd\\xa2m\\x07\\xbd\\xcd\\xe4~\\xbc\\xf4V7=\\xfc\\x9e\\xb5<D\\x95\\x9e=\\xc9\\xb5\\x90<i\\xd1Z=fl\\x93;K\\xf5(=#b\\xd5;\\x19)M\\xbc19\\xa9\\xba\\xc4\\xbd\\xd4\\xbb\\xc7\\xd2\\xce\\xbc\\xa2_\\\\\\xbccJ\\x9e=B\\xdfV<\\x99j]<\\x84\\xe2\\xf4\\xbb\\xbe\\xf8\\x9e\\xbc\\xe4\\xff\\x0f\\xbd\\xe8\\x16A\\xbd\\x16\\x8d\\x03<e\\xce\\xb5<\\xf8\\xae\\xc5\\xbcS\\xa0\\x13;\\x90\\x06\\x81=\\x13\\x15\\xc7<\\xa0\\xb8\\xe5;\\xa88\"<&\\xfe\\xb9<,\\x1e\\x86;H\\xd8!\\xbd4)\\xb6;#C5\\xbc89\\x9f<\\xf5\\x0e\\x10\\xbdy\\x9eO=\\x8d\\xe41=x\\x9b\\t\\xbd\\xdcs\\x9a\\xbc\\xc9\\xf02\\xbd\\x08\\xb0T\\xbc\\xf4\\x91\\xdd\\xbc^\\xd2$\\xbd\\xe6\\xfd\\xb6:0\\x04\\xb9<\\xce1\\xf5<\\x0e#w\\xbcS\\xa1\\xcd\\xbb\\x87\\xb4\\xb5\\xbbo\\x9e%\\xbb\\x17RF\\xbb\\xbcF\\xe2<\\x88^\\xb7\\xbcL\\xc6\\xd6=\\x9bwG<\\x85\\x89\\x0e\\xba\\x82\\x8cZ\\xbd\\xc4!\\xd8\\xbc\\xad\\xd6\\xa3\\xbc\\x1a<\\x01\\xbb-)r<3\\xf02\\xbd\\x14?\\x07;\\x1a\\xb9\\xfa;\\\\\\x01\\x9a\\xbdW\\x80y;#O>;v\"\\xe7\\xbcC9n<\\xd2%\\xc5<\\xfb\\xfc\\xf5<\\x9cH\\xe1\\xbc\\x0bB\\xa4\\xbc\\xd6?U;\\xb5\\xc5\\x86\\xba\\x9e\\xd4\\x1f\\xbd\\xce\\xe7\\xad\\xbc\\t(8\\xbd\\x14\\xc0\\xf2\\xbc\\xdf \\xdf\\xbb\\xad\\xa0\\x8c\\xbc_=9\\xbc\\xc2\\xbd\\xad\\xba\\xb8\\xcd\\x1a\\xbdp\\xf1\\xbb\\xbc\\xf6\\xf7\\xb8\\xbb\\x92\\xf0\\xb9<\\x1aD\\xe9\\xbca\\xc7\\xa3<\\xa8\\x14M\\xbb7)*\\xb9\\x87\\xb1\\'=\\x1dU\\xf7\\xbc\\xc3ra\\xbd\\x9b\\xe33\\xbd\\xfaAU\\xbd_\\xf0\\x08\\xbc\\x0e\\xef\\xcb;\\x8f\\xd9\\xc7<\\x8a\\xea\"=\\t\\x89}=\\xb7\\x89\\xeb\\xbc\\x1e\\x04\\x1e=B\\x11\\xf0:?\\xd1\\xb2<6\\x0b^<o\\x1f^\\xbbr\\ru\\xbd\\x0f\\x8f\\xbb\\xba_\\xfa\\xb3\\xbbn%\\xd2<\\xa1\\x187=\\\\D=\\xbb\\x80\\xca&=~\\xd3\\xdb;o6\\x10\\xbc\\xe7P6=\\xe4\\xbe\\x90\\xbc\\xe5\\xcf\\x18\\xbd\\x06!\\x0e<\\xb6/\\x92<Q\\xec\\x96\\xb9/\\xb1\\x8b=\\xf9C\\x9f;\\x9d\\x9f\\x85\\xbaC\\x94\\x1f\\xbc\\x03(`\\xbce5\\xcb<f\\xc7\\xdd\\xbcn%\\xe3\\xbc\\xf7\\x8c\\xe1<\\x03\\xcd\\x00\\xbd:\\xec\\xf7<\\xa9\\x0c(\\xbd\\xcf\\x01C=p\\x7f\\x12<\\xb9Q\\x99\\xbc\\x0e\\xac\\xba\\xbc(:\\xf5\\xbb\\xacbU\\xbc\\xa8\\x94U\\xbb %#\\xbcG\\xb1W\\xbc\\xd0\\xd89\\xbdP\\xec-=M\\xe5\\xd1\\xbcAvj;\\xdd\\xbeZ;\\x06\\x00\\t\\xbd\\x84\\xd6\"\\xbduQ$=\\xa7\\xf4k<\\xd85\\x87\\xbc\\xe1\\xbe\\xb6\\xbc\\xa2\\xbc/\\xbd\\xbe>\\x18=#-\\xc7\\xbc\\x8d,\\xfa;\\xd5?\\xd9\\xbc{c\\x8a<\\xcd\\xe3\\x9b<\\xfa/a\\xbd\\xf2\\xf9\\x0f\\xbd\\xf9\\xb9\\x06\\xbd\\xa5\\x08\\xc0<\\xe1R\\x00=\\xbeT\\xb2=\\xbfC\\xe9<%:\\x14\\xbc\\xee\\xfa\\x83\\xbd\\x16@j\\xbb\\x01O\\xb4\\xbc\\xb7\\x0e\\xa2\\xbc\\x03X\\x84\\xbd\\x93\\xbc\\xd8\\xbd\\xffpA\\xbdJ\\xf1E<^&0=\\x7f\\xa3L<n=\\xfc\\xbc\\xdd\\xfab;*\\xf3\\xa8\\xbcQ\\xfc0<G\\xdc\\x1d<\\x93\\xaez;\\xae#\\x9e\\xbc\\x83\\x18\\x92\\xbc\\xb9 \\xaa<\\xca7b=\\xce\\xe8\\x82<\\xdc\\xdb\\xb1\\xbb\\x01\\xd99=4C\\xb4\\xbc\\xca\\xbcw\\xbc\\x9e\\xd9\\xe6;\\xef\\xf7T=\\x1a\\xda\\x1a=\\xce^\\x1a\\xbd\\xd6`$\\xbd\\xfd\\xe33\\xbdHN\"\\xba\\x86\\xce\\xf4<E=I\\xbd\\xf1\\xa5\\x81\\xbc{\\xc1\\xcd<8v\\x97;\\xba\\x7f7\\xbc\\x00\\x04\\xce\\xbc\\x9eST\\xbc\\xb2X\\xc2\\xbd\\xab.\\x08\\xbd\\xa4\\xbdS=\\xad\\xb8i=\\x96\\x9c;\\xbd\\xf4\\xf6\\x12\\xbd\\xeb^\\xdd<\\xe1#\\xa2:\\x7f2\\x17\\xbbD\\xb1\\xa0\\xbdSZ\\x9a\\xbc<8\\x04\\xbd:\\xc4\\x8d\\xbc\\xfa,I=\\x1f\\xe6\\xec\\xbc\\x17\\x17\\x81\\xbck\\xc1\\x0c> \\xc0\\n\\xbd&\\xf1j=\\'\\x89\\xda<\\x1a\\xca\\x92\\xbc_G9\\xbc@I\\xd2\\xbc\\xd5U\\x97=t?d\\xbd\\x96c\\xb8\\xbc\\xfdAi\\xbd\\xdd\\\\\\xdd\\xbc(h\\x82=\")\\x9c<',\n",
       "  b'chunk_id',\n",
       "  b'fannie_part_0_c352',\n",
       "  b'content',\n",
       "  b'# A3-3-03, Other Servicing Arrangements (12/15/2015)\\n\\nIntroduction This topic provides an overview of other servicing arrangements, including: \\xe2\\x80\\xa2 Subservicing \\xe2\\x80\\xa2 General Requirements for Subservicing Arrangements \\xe2\\x80\\xa2 Pledge of Servicing Rights and Transfer of Interest in Servicing Income\\n\\n## Subservicing\\n\\nA lender may use other organizations to perform some or all of its servicing functions. Fannie Mae refers to these arrangements as \\xe2\\x80\\x9csubservicing\\xe2\\x80\\x9d arrangements, meaning that a servicer (the \\xe2\\x80\\x9csubservicer\\xe2\\x80\\x9d) other than the contractually responsible servicer (the \\xe2\\x80\\x9cmaster\\xe2\\x80\\x9d servicer) is performing the servicing functions. The following are not considered to be subservicing arrangements: \\xe2\\x80\\xa2 when a computer service bureau is used to perform accounting and reporting functions; \\xe2\\x80\\xa2 when the originating lender sells and assigns servicing to another lender, unless the originating lender continues to be the contractually responsible servicer.',\n",
       "  b'gse',\n",
       "  b'fannie']]"
      ]
     },
     "execution_count": 79,
     "metadata": {},
     "output_type": "execute_result"
    }
   ],
   "source": [
    "query_args = [\n",
    "    f\"FT.SEARCH {INDEX_NAME}\",\n",
    "    f\"*=>[KNN 5 @embedding $query_embedding AS distance]\",\n",
    "    \"PARAMS\",\n",
    "    2,\n",
    "    \"query_embedding\",\n",
    "    np.array(question_embedding).astype('float32').tobytes(),\n",
    "    \"DIALECT\",\n",
    "    2,\n",
    "]\n",
    "\n",
    "b_client.execute_command(*query_args)"
   ]
  },
  {
   "cell_type": "code",
   "execution_count": null,
   "id": "2ed89288-cdd8-4420-965d-6f6a565962d8",
   "metadata": {},
   "outputs": [],
   "source": []
  },
  {
   "cell_type": "code",
   "execution_count": null,
   "id": "db34b6ad-6c49-426c-9ada-52ff405c3d7e",
   "metadata": {},
   "outputs": [],
   "source": []
  },
  {
   "cell_type": "code",
   "execution_count": null,
   "id": "fc7bb71e-aa81-48b4-b602-60e115412386",
   "metadata": {},
   "outputs": [],
   "source": []
  },
  {
   "cell_type": "code",
   "execution_count": null,
   "id": "6cac1bed-3055-4118-819b-341b95ef8955",
   "metadata": {},
   "outputs": [],
   "source": []
  },
  {
   "cell_type": "code",
   "execution_count": null,
   "id": "db627870-ad11-4581-ae0c-be578c4e8b97",
   "metadata": {},
   "outputs": [],
   "source": []
  },
  {
   "cell_type": "code",
   "execution_count": null,
   "id": "e66ca1d4-9fd2-46f6-8dfc-c38fa7b85f27",
   "metadata": {},
   "outputs": [],
   "source": []
  },
  {
   "cell_type": "code",
   "execution_count": null,
   "id": "e7b25ef5-b9fd-45e7-9086-40aac5a1c937",
   "metadata": {},
   "outputs": [],
   "source": []
  },
  {
   "cell_type": "code",
   "execution_count": null,
   "id": "b90ec9a5-ad5a-413e-ab42-38da7f85b39f",
   "metadata": {},
   "outputs": [],
   "source": []
  },
  {
   "cell_type": "code",
   "execution_count": null,
   "id": "04ae7a28-96ef-4be6-89c1-c4329df41a92",
   "metadata": {},
   "outputs": [],
   "source": []
  },
  {
   "cell_type": "code",
   "execution_count": null,
   "id": "82518d92-7fca-4c72-accc-c329afbd2204",
   "metadata": {},
   "outputs": [],
   "source": []
  },
  {
   "cell_type": "code",
   "execution_count": null,
   "id": "7326af3b-79a8-4737-bec7-4c4060fc34ac",
   "metadata": {},
   "outputs": [],
   "source": []
  },
  {
   "cell_type": "code",
   "execution_count": null,
   "id": "36846a3f-a4bd-495b-8845-99dcac3464c4",
   "metadata": {},
   "outputs": [],
   "source": []
  },
  {
   "cell_type": "code",
   "execution_count": null,
   "id": "9a9f0609-6a84-42bf-b248-a3ee576e9dc7",
   "metadata": {},
   "outputs": [],
   "source": []
  },
  {
   "cell_type": "code",
   "execution_count": null,
   "id": "fef90830-fb05-4782-ace6-1e1d0890f0ef",
   "metadata": {},
   "outputs": [],
   "source": []
  },
  {
   "cell_type": "code",
   "execution_count": null,
   "id": "8a14e287-4b50-4b3f-a303-a2e19eef03dc",
   "metadata": {},
   "outputs": [],
   "source": []
  },
  {
   "cell_type": "markdown",
   "id": "14bff763-1270-4c32-b930-67b0f0ef9faf",
   "metadata": {},
   "source": [
    "## Remove Resources"
   ]
  },
  {
   "cell_type": "code",
   "execution_count": 252,
   "id": "6557d8bd-8582-4453-9a52-2f1a889c380c",
   "metadata": {
    "tags": []
   },
   "outputs": [],
   "source": [
    "#client.flushall() # empty all records in the instance, across all databases"
   ]
  },
  {
   "cell_type": "code",
   "execution_count": 26,
   "id": "059a56c2-82c4-4b68-8dbe-3d157a556d68",
   "metadata": {
    "tags": []
   },
   "outputs": [],
   "source": [
    "#redis_client.delete_instance(name = redis_instance.name)"
   ]
  },
  {
   "cell_type": "code",
   "execution_count": null,
   "id": "437fcd09-b32a-4f6a-9359-d4e9c2e5dce4",
   "metadata": {},
   "outputs": [],
   "source": []
  }
 ],
 "metadata": {
  "environment": {
   "kernel": "conda-base-py",
   "name": "workbench-notebooks.m125",
   "type": "gcloud",
   "uri": "us-docker.pkg.dev/deeplearning-platform-release/gcr.io/workbench-notebooks:m125"
  },
  "kernelspec": {
   "display_name": "Python 3 (ipykernel) (Local)",
   "language": "python",
   "name": "conda-base-py"
  },
  "language_info": {
   "codemirror_mode": {
    "name": "ipython",
    "version": 3
   },
   "file_extension": ".py",
   "mimetype": "text/x-python",
   "name": "python",
   "nbconvert_exporter": "python",
   "pygments_lexer": "ipython3",
   "version": "3.10.15"
  }
 },
 "nbformat": 4,
 "nbformat_minor": 5
}
