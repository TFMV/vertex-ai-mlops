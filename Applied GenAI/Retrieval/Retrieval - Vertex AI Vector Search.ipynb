{
 "cells": [
  {
   "cell_type": "markdown",
   "id": "e1104e83",
   "metadata": {},
   "source": [
    "![tracker](https://us-central1-vertex-ai-mlops-369716.cloudfunctions.net/pixel-tracking?path=statmike%2Fvertex-ai-mlops%2FApplied+GenAI%2FRetrieval&file=Retrieval+-+Vertex+AI+Vector+Search.ipynb)\n",
    "<!--- header table --->\n",
    "<table align=\"left\">\n",
    "  <td style=\"text-align: center\">\n",
    "    <a href=\"https://colab.research.google.com/github/statmike/vertex-ai-mlops/blob/main/Applied%20GenAI/Retrieval/Retrieval%20-%20Vertex%20AI%20Vector%20Search.ipynb\">\n",
    "      <img src=\"https://cloud.google.com/ml-engine/images/colab-logo-32px.png\" alt=\"Google Colaboratory logo\">\n",
    "      <br>Run in<br>Colab\n",
    "    </a>\n",
    "  </td>\n",
    "  <td style=\"text-align: center\">\n",
    "    <a href=\"https://console.cloud.google.com/vertex-ai/colab/import/https%3A%2F%2Fraw.githubusercontent.com%2Fstatmike%2Fvertex-ai-mlops%2Fmain%2FApplied%2520GenAI%2FRetrieval%2FRetrieval%2520-%2520Vertex%2520AI%2520Vector%2520Search.ipynb\">\n",
    "      <img width=\"32px\" src=\"https://lh3.googleusercontent.com/JmcxdQi-qOpctIvWKgPtrzZdJJK-J3sWE1RsfjZNwshCFgE_9fULcNpuXYTilIR2hjwN\" alt=\"Google Cloud Colab Enterprise logo\">\n",
    "      <br>Run in<br>Colab Enterprise\n",
    "    </a>\n",
    "  </td>      \n",
    "  <td style=\"text-align: center\">\n",
    "    <a href=\"https://github.com/statmike/vertex-ai-mlops/blob/main/Applied%20GenAI/Retrieval/Retrieval%20-%20Vertex%20AI%20Vector%20Search.ipynb\">\n",
    "      <img src=\"https://cloud.google.com/ml-engine/images/github-logo-32px.png\" alt=\"GitHub logo\">\n",
    "      <br>View on<br>GitHub\n",
    "    </a>\n",
    "  </td>\n",
    "  <td style=\"text-align: center\">\n",
    "    <a href=\"https://console.cloud.google.com/vertex-ai/workbench/deploy-notebook?download_url=https://raw.githubusercontent.com/statmike/vertex-ai-mlops/main/Applied%20GenAI/Retrieval/Retrieval%20-%20Vertex%20AI%20Vector%20Search.ipynb\">\n",
    "      <img src=\"https://lh3.googleusercontent.com/UiNooY4LUgW_oTvpsNhPpQzsstV5W8F7rYgxgGBD85cWJoLmrOzhVs_ksK_vgx40SHs7jCqkTkCk=e14-rj-sc0xffffff-h130-w32\" alt=\"Vertex AI logo\">\n",
    "      <br>Open in<br>Vertex AI Workbench\n",
    "    </a>\n",
    "  </td>\n",
    "</table>"
   ]
  },
  {
   "cell_type": "markdown",
   "id": "96b0e8e6-d761-4540-9d09-8f0c4ce9a020",
   "metadata": {},
   "source": [
    "# Retrieval - Vertex AI Vector Search\n",
    "\n",
    "In prior workflows, a series of documents was [processed into chunks](../Chunking/readme.md), and for each chunk, [embeddings](../Embeddings/readme.md) were created:\n",
    "\n",
    "- Process: [Large Document Processing - Document AI Layout Parser](../Chunking/Large%20Document%20Processing%20-%20Document%20AI%20Layout%20Parser.ipynb)\n",
    "- Embed: [Vertex AI Text Embeddings API](../Embeddings/Vertex%20AI%20Text%20Embeddings%20API.ipynb)\n",
    "\n",
    "Retrieving chunks for a query involves calculating the embedding for the query and then using similarity metrics to find relevant chunks. A thorough review of similarity matching can be found in [The Math of Similarity](../Embeddings/The%20Math%20of%20Similarity.ipynb) - use dot product! As development moves from experiment to application, the process of storing and computing similarity is migrated to a [retrieval](./readme.md) system. This workflow is part of a [series of workflows exploring many retrieval systems](./readme.md).\n",
    "\n",
    "**Vertex AI Vector Search For Storage, Indexing, And Search**\n",
    "\n",
    "[Vertex AI Vector Search](https://cloud.google.com/vertex-ai/docs/vector-search/overview) is a vector similarity search solution built for scale, offering enhanced features such as:\n",
    "\n",
    "- Support for sparse embeddings, including those used for keyword searches.\n",
    "- Hybrid search capabilities that combine dense and sparse embeddings.\n",
    "- Batch and streaming indexing options to match update latency requirements.\n",
    "- Inclusion of vector attributes (metadata) that can be used for filtering searches (allowlisting and denylisting).\n",
    "- Crowding attributes to limit the number of responses within groups.\n",
    "\n",
    "**Use Case Data**\n",
    "\n",
    "Buying a home usually involves borrowing money from a lending institution, typically through a mortgage secured by the home's value. But how do these institutions manage the risks associated with such large loans, and how are lending standards established?\n",
    "\n",
    "In the United States, two government-sponsored enterprises (GSEs) play a vital role in the housing market:\n",
    "\n",
    "- Federal National Mortgage Association ([Fannie Mae](https://www.fanniemae.com/))\n",
    "- Federal Home Loan Mortgage Corporation ([Freddie Mac](https://www.freddiemac.com/))\n",
    "\n",
    "These GSEs purchase mortgages from lenders, enabling those lenders to offer more loans. This process also allows Fannie Mae and Freddie Mac to set standards for mortgages, ensuring they are responsible and borrowers are more likely to repay them. This system makes homeownership more affordable and stabilizes the housing market by maintaining a steady flow of liquidity for lenders and keeping interest rates controlled.\n",
    "\n",
    "However, navigating the complexities of these GSEs and their extensive servicing guides can be challenging.\n",
    "\n",
    "**Approaches**\n",
    "\n",
    "[This series](../readme.md) covers many generative AI workflows. These documents are used directly as long context for Gemini in the workflow [Long Context Retrieval With The Vertex AI Gemini API](../Generate/Long%20Context%20Retrieval%20With%20The%20Vertex%20AI%20Gemini%20API.ipynb). The workflow below uses a [retrieval](./readme.md) approach with the already generated chunks and embeddings."
   ]
  },
  {
   "cell_type": "markdown",
   "id": "be889472-69b0-416c-9cf1-edc9706fa5c5",
   "metadata": {
    "id": "od_UkDpvRmgD"
   },
   "source": [
    "---\n",
    "## Colab Setup\n",
    "\n",
    "When running this notebook in [Colab](https://colab.google/) or [Colab Enterprise](https://cloud.google.com/colab/docs/introduction), this section will authenticate to GCP (follow prompts in the popup) and set the current project for the session."
   ]
  },
  {
   "cell_type": "code",
   "execution_count": 1,
   "id": "21f75ba8-df50-466e-a5ec-f2a6dd88eb26",
   "metadata": {
    "executionInfo": {
     "elapsed": 195,
     "status": "ok",
     "timestamp": 1683726184843,
     "user": {
      "displayName": "Mike Henderson",
      "userId": "07691629187611687318"
     },
     "user_tz": 240
    },
    "id": "8UO9FnqyKBlF",
    "tags": []
   },
   "outputs": [],
   "source": [
    "PROJECT_ID = 'statmike-mlops-349915' # replace with project ID"
   ]
  },
  {
   "cell_type": "code",
   "execution_count": 2,
   "id": "9c325515-1ea0-45cc-82d3-a1bfb1c52155",
   "metadata": {
    "colab": {
     "base_uri": "https://localhost:8080/"
    },
    "executionInfo": {
     "elapsed": 68869,
     "status": "ok",
     "timestamp": 1683726253709,
     "user": {
      "displayName": "Mike Henderson",
      "userId": "07691629187611687318"
     },
     "user_tz": 240
    },
    "id": "N98-KK7LRkjm",
    "outputId": "09ec5008-0def-4e1a-c349-c598ee752f78",
    "tags": []
   },
   "outputs": [],
   "source": [
    "try:\n",
    "    from google.colab import auth\n",
    "    auth.authenticate_user()\n",
    "    !gcloud config set project {PROJECT_ID}\n",
    "except Exception:\n",
    "    pass"
   ]
  },
  {
   "cell_type": "markdown",
   "id": "055a4bd7-7b47-43ef-ba14-636c955e44e3",
   "metadata": {},
   "source": [
    "---\n",
    "## Installs and API Enablement\n",
    "\n",
    "The clients packages may need installing in this environment. "
   ]
  },
  {
   "cell_type": "markdown",
   "id": "410502ee-6fe3-4624-a69a-960ad7105f10",
   "metadata": {},
   "source": [
    "### Installs (If Needed)"
   ]
  },
  {
   "cell_type": "code",
   "execution_count": 3,
   "id": "f4dbdb83-3170-430c-b60d-3d686222a168",
   "metadata": {
    "tags": []
   },
   "outputs": [],
   "source": [
    "# tuples of (import name, install name, min_version)\n",
    "packages = [\n",
    "    ('google.cloud.aiplatform', 'google-cloud-aiplatform', '1.69.0'),\n",
    "    ('google.cloud.storage', 'google-cloud-storage')\n",
    "]\n",
    "\n",
    "import importlib\n",
    "install = False\n",
    "for package in packages:\n",
    "    if not importlib.util.find_spec(package[0]):\n",
    "        print(f'installing package {package[1]}')\n",
    "        install = True\n",
    "        !pip install {package[1]} -U -q --user\n",
    "    elif len(package) == 3:\n",
    "        if importlib.metadata.version(package[0]) < package[2]:\n",
    "            print(f'updating package {package[1]}')\n",
    "            install = True\n",
    "            !pip install {package[1]} -U -q --user"
   ]
  },
  {
   "cell_type": "markdown",
   "id": "25374857-7d37-4c84-8cbb-a3c2fc7bb065",
   "metadata": {},
   "source": [
    "### API Enablement"
   ]
  },
  {
   "cell_type": "code",
   "execution_count": 4,
   "id": "9b7300a8-7e3a-4a08-95c0-91186237753f",
   "metadata": {
    "tags": []
   },
   "outputs": [],
   "source": [
    "!gcloud services enable aiplatform.googleapis.com"
   ]
  },
  {
   "cell_type": "markdown",
   "id": "157d09ba-9774-495f-8ced-3382bf75be8f",
   "metadata": {},
   "source": [
    "### Restart Kernel (If Installs Occured)\n",
    "\n",
    "After a kernel restart the code submission can start with the next cell after this one."
   ]
  },
  {
   "cell_type": "code",
   "execution_count": 5,
   "id": "f9864153-66c8-43e1-ae96-1179632ccf7d",
   "metadata": {
    "tags": []
   },
   "outputs": [],
   "source": [
    "if install:\n",
    "    import IPython\n",
    "    app = IPython.Application.instance()\n",
    "    app.kernel.do_shutdown(True)\n",
    "    IPython.display.display(IPython.display.Markdown(\"\"\"<div class=\\\"alert alert-block alert-warning\\\">\n",
    "        <b>⚠️ The kernel is going to restart. Please wait until it is finished before continuing to the next step. The previous cells do not need to be run again⚠️</b>\n",
    "        </div>\"\"\"))"
   ]
  },
  {
   "cell_type": "markdown",
   "id": "09a1ab41-cb32-4398-86dc-d30effb88a36",
   "metadata": {
    "id": "appt8-yVRtJ1"
   },
   "source": [
    "---\n",
    "## Setup"
   ]
  },
  {
   "cell_type": "markdown",
   "id": "2cebe11b-9ca1-4f3e-aa78-78640ff01ec8",
   "metadata": {
    "id": "63mx2EozRxFP"
   },
   "source": [
    "Inputs"
   ]
  },
  {
   "cell_type": "code",
   "execution_count": 6,
   "id": "ab2239cd-40ab-416d-bac0-0c6953d911b6",
   "metadata": {
    "colab": {
     "base_uri": "https://localhost:8080/",
     "height": 35
    },
    "executionInfo": {
     "elapsed": 2124,
     "status": "ok",
     "timestamp": 1683726390544,
     "user": {
      "displayName": "Mike Henderson",
      "userId": "07691629187611687318"
     },
     "user_tz": 240
    },
    "id": "xzcoXjM5Rky5",
    "outputId": "b3bdcbc1-70d5-472e-aea2-42c74a42efde",
    "tags": []
   },
   "outputs": [
    {
     "data": {
      "text/plain": [
       "'statmike-mlops-349915'"
      ]
     },
     "execution_count": 6,
     "metadata": {},
     "output_type": "execute_result"
    }
   ],
   "source": [
    "project = !gcloud config get-value project\n",
    "PROJECT_ID = project[0]\n",
    "PROJECT_ID"
   ]
  },
  {
   "cell_type": "code",
   "execution_count": 7,
   "id": "8aa97f05-66e9-4276-b2e6-83b5a91ca50c",
   "metadata": {
    "executionInfo": {
     "elapsed": 2,
     "status": "ok",
     "timestamp": 1683726390712,
     "user": {
      "displayName": "Mike Henderson",
      "userId": "07691629187611687318"
     },
     "user_tz": 240
    },
    "id": "IxWrFtqYMfku",
    "tags": []
   },
   "outputs": [],
   "source": [
    "REGION = 'us-central1'\n",
    "SERIES = 'applied-genai'\n",
    "EXPERIMENT = 'retrieval-vertex-vector-search'\n",
    "\n",
    "# GCS storage bucket name\n",
    "GCS_BUCKET = PROJECT_ID\n",
    "\n",
    "# Vertex AI Vector Search Names\n",
    "VS_INDEX_NAME = f\"{SERIES}-{EXPERIMENT}\"\n",
    "VS_ENDPOINT_NAME = PROJECT_ID"
   ]
  },
  {
   "cell_type": "markdown",
   "id": "52bbf65b-5d29-4a72-84ae-d977b9a743a6",
   "metadata": {
    "id": "LuajVwCiO6Yg"
   },
   "source": [
    "Packages"
   ]
  },
  {
   "cell_type": "code",
   "execution_count": 8,
   "id": "559f6e60-a594-4789-893b-295a8381b670",
   "metadata": {
    "executionInfo": {
     "elapsed": 17761,
     "status": "ok",
     "timestamp": 1683726409304,
     "user": {
      "displayName": "Mike Henderson",
      "userId": "07691629187611687318"
     },
     "user_tz": 240
    },
    "id": "LVC7zzSLRk2C",
    "tags": []
   },
   "outputs": [],
   "source": [
    "import os, json, time, glob\n",
    "\n",
    "import numpy as np\n",
    "\n",
    "# Vertex AI\n",
    "from google.cloud import aiplatform\n",
    "import vertexai.language_models # for embeddings API\n",
    "import vertexai.generative_models # for Gemini Models\n",
    "\n",
    "# gcs client\n",
    "from google.cloud import storage"
   ]
  },
  {
   "cell_type": "code",
   "execution_count": 9,
   "id": "d3fef31f-928f-45f2-a3f4-292ee242232c",
   "metadata": {
    "tags": []
   },
   "outputs": [
    {
     "data": {
      "text/plain": [
       "'1.69.0'"
      ]
     },
     "execution_count": 9,
     "metadata": {},
     "output_type": "execute_result"
    }
   ],
   "source": [
    "aiplatform.__version__"
   ]
  },
  {
   "cell_type": "markdown",
   "id": "5758c07e-f064-40fb-a0ef-de6cbde5cd0a",
   "metadata": {
    "id": "EyAVFG9TO9H-"
   },
   "source": [
    "Clients"
   ]
  },
  {
   "cell_type": "code",
   "execution_count": 10,
   "id": "3b72f3bb-176b-4678-ba6b-df9b2de14997",
   "metadata": {
    "executionInfo": {
     "elapsed": 19,
     "status": "ok",
     "timestamp": 1683726409306,
     "user": {
      "displayName": "Mike Henderson",
      "userId": "07691629187611687318"
     },
     "user_tz": 240
    },
    "id": "L0RPE13LOZce",
    "tags": []
   },
   "outputs": [],
   "source": [
    "# vertex ai clients\n",
    "vertexai.init(project = PROJECT_ID, location = REGION)\n",
    "\n",
    "# gcs client\n",
    "gcs = storage.Client(project = PROJECT_ID)\n",
    "bucket = gcs.bucket(GCS_BUCKET)"
   ]
  },
  {
   "cell_type": "markdown",
   "id": "8579282f-2723-4294-b72a-a65cc0831f44",
   "metadata": {},
   "source": [
    "---\n",
    "## Text & Embeddings For Examples\n",
    "\n",
    "This repository contains a [section for document processing (chunking)](../Chunking/readme.md) that includes an example of processing mulitple large pdfs (over 1000 pages) into chunks: [Large Document Processing - Document AI Layout Parser](../Chunking/Large%20Document%20Processing%20-%20Document%20AI%20Layout%20Parser.ipynb).  The chunks of text from that workflow are stored with this repository and loaded by another companion workflow that augments the chunks with text embeddings: [Vertex AI Text Embeddings API](../Embeddings/Vertex%20AI%20Text%20Embeddings%20API.ipynb).\n",
    "\n",
    "The following code will load the version of the chunks that includes text embeddings and prepare it for a local example of retrival augmented generation."
   ]
  },
  {
   "cell_type": "markdown",
   "id": "1e12cbe2-3ca6-4656-9e73-c0db5c63bf50",
   "metadata": {},
   "source": [
    "### Get The Documents\n",
    "\n",
    "If you are working from a clone of this notebooks [repository](https://github.com/statmike/vertex-ai-mlops) then the documents are already present. The following cell checks for the documents folder and if it is missing gets it (`git clone`):"
   ]
  },
  {
   "cell_type": "code",
   "execution_count": 11,
   "id": "6f4e77ed-43f7-42be-9575-6a491c0d6cba",
   "metadata": {
    "tags": []
   },
   "outputs": [],
   "source": [
    "local_dir = '../Embeddings/files/embeddings-api'"
   ]
  },
  {
   "cell_type": "code",
   "execution_count": 12,
   "id": "63ebe7c3-e72c-4394-91c3-d60c05bc0ce2",
   "metadata": {
    "tags": []
   },
   "outputs": [
    {
     "name": "stdout",
     "output_type": "stream",
     "text": [
      "Documents Found in folder `../Embeddings/files/embeddings-api`\n"
     ]
    }
   ],
   "source": [
    "if not os.path.exists(local_dir):\n",
    "    print('Retrieving documents...')\n",
    "    parent_dir = os.path.dirname(local_dir)\n",
    "    temp_dir = os.path.join(parent_dir, 'temp')\n",
    "    if not os.path.exists(temp_dir):\n",
    "        os.makedirs(temp_dir)\n",
    "    !git clone https://www.github.com/statmike/vertex-ai-mlops {temp_dir}/vertex-ai-mlops\n",
    "    shutil.copytree(f'{temp_dir}/vertex-ai-mlops/Applied GenAI/Embeddings/files/embeddings-api', local_dir)\n",
    "    shutil.rmtree(temp_dir)\n",
    "    print(f'Documents are now in folder `{local_dir}`')\n",
    "else:\n",
    "    print(f'Documents Found in folder `{local_dir}`')             "
   ]
  },
  {
   "cell_type": "markdown",
   "id": "33e68a84-9f88-4590-9ff1-e01c8a953ccf",
   "metadata": {},
   "source": [
    "### Load The Chunks"
   ]
  },
  {
   "cell_type": "code",
   "execution_count": 13,
   "id": "58d04382-a74a-44ac-8824-3b46c86aa148",
   "metadata": {
    "tags": []
   },
   "outputs": [
    {
     "data": {
      "text/plain": [
       "['../Embeddings/files/embeddings-api/large-files-chunk-embeddings-0000.jsonl',\n",
       " '../Embeddings/files/embeddings-api/large-files-chunk-embeddings-0001.jsonl',\n",
       " '../Embeddings/files/embeddings-api/large-files-chunk-embeddings-0002.jsonl',\n",
       " '../Embeddings/files/embeddings-api/large-files-chunk-embeddings-0003.jsonl',\n",
       " '../Embeddings/files/embeddings-api/large-files-chunk-embeddings-0004.jsonl',\n",
       " '../Embeddings/files/embeddings-api/large-files-chunk-embeddings-0005.jsonl',\n",
       " '../Embeddings/files/embeddings-api/large-files-chunk-embeddings-0006.jsonl',\n",
       " '../Embeddings/files/embeddings-api/large-files-chunk-embeddings-0007.jsonl',\n",
       " '../Embeddings/files/embeddings-api/large-files-chunk-embeddings-0008.jsonl',\n",
       " '../Embeddings/files/embeddings-api/large-files-chunk-embeddings-0009.jsonl']"
      ]
     },
     "execution_count": 13,
     "metadata": {},
     "output_type": "execute_result"
    }
   ],
   "source": [
    "jsonl_files = glob.glob(f\"{local_dir}/large-files*.jsonl\")\n",
    "jsonl_files.sort()\n",
    "jsonl_files"
   ]
  },
  {
   "cell_type": "code",
   "execution_count": 14,
   "id": "a54c6c96-6c28-49bb-80be-5d46797dfe77",
   "metadata": {
    "tags": []
   },
   "outputs": [
    {
     "data": {
      "text/plain": [
       "9040"
      ]
     },
     "execution_count": 14,
     "metadata": {},
     "output_type": "execute_result"
    }
   ],
   "source": [
    "chunks = []\n",
    "for file in jsonl_files:\n",
    "    with open(file, 'r') as f:\n",
    "        chunks.extend([json.loads(line) for line in f])\n",
    "len(chunks)"
   ]
  },
  {
   "cell_type": "markdown",
   "id": "a70115ec-6d60-41df-b7e6-9e2e5b463b1d",
   "metadata": {},
   "source": [
    "### Review A Chunk"
   ]
  },
  {
   "cell_type": "code",
   "execution_count": 15,
   "id": "fc20423e-e3d6-4e90-9e98-a5248508c82d",
   "metadata": {
    "tags": []
   },
   "outputs": [
    {
     "data": {
      "text/plain": [
       "dict_keys(['instance', 'predictions', 'status'])"
      ]
     },
     "execution_count": 15,
     "metadata": {},
     "output_type": "execute_result"
    }
   ],
   "source": [
    "chunks[0].keys()"
   ]
  },
  {
   "cell_type": "code",
   "execution_count": 16,
   "id": "1955ea39-4ffc-4d30-b653-a5a9911f2dab",
   "metadata": {
    "tags": []
   },
   "outputs": [
    {
     "data": {
      "text/plain": [
       "'fannie_part_0_c17'"
      ]
     },
     "execution_count": 16,
     "metadata": {},
     "output_type": "execute_result"
    }
   ],
   "source": [
    "chunks[0]['instance']['chunk_id']"
   ]
  },
  {
   "cell_type": "code",
   "execution_count": 17,
   "id": "3537982c-4a0e-456c-a652-19ea7507873b",
   "metadata": {
    "tags": []
   },
   "outputs": [
    {
     "name": "stdout",
     "output_type": "stream",
     "text": [
      "# Selling Guide Fannie Mae Single Family\n",
      "\n",
      "## Fannie Mae Copyright Notice\n",
      "\n",
      "### Fannie Mae Copyright Notice\n",
      "\n",
      "|-|\n",
      "| Section B3-4.2, Verification of Depository Assets 402 |\n",
      "| B3-4.2-01, Verification of Deposits and Assets (05/04/2022) 403 |\n",
      "| B3-4.2-02, Depository Accounts (12/14/2022) 405 |\n",
      "| B3-4.2-03, Individual Development Accounts (02/06/2019) 408 |\n",
      "| B3-4.2-04, Pooled Savings (Community Savings Funds) (04/01/2009) 411 |\n",
      "| B3-4.2-05, Foreign Assets (05/04/2022) 411 |\n",
      "| Section B3-4.3, Verification of Non-Depository Assets 412 |\n",
      "| B3-4.3-01, Stocks, Stock Options, Bonds, and Mutual Funds (06/30/2015) 412 |\n",
      "| B3-4.3-02, Trust Accounts (04/01/2009) 413 |\n",
      "| B3-4.3-03, Retirement Accounts (06/30/2015) 414 |\n",
      "| B3-4.3-04, Personal Gifts (09/06/2023) 415 |\n",
      "| B3-4.3-05, Gifts of Equity (10/07/2020) 418 |\n",
      "| B3-4.3-06, Grants and Lender Contributions (12/14/2022) 419 |\n",
      "| B3-4.3-07, Disaster Relief Grants or Loans (04/01/2009) 423 |\n",
      "| B3-4.3-08, Employer Assistance (09/29/2015) 423 |\n",
      "| B3-4.3-09, Earnest Money Deposit (05/04/2022) 425 |\n",
      "| B3-4.3-10, Anticipated Sales Proceeds (02/23/2016) B3-4.3-11, Trade Equity (12/16/2020) 426 428 |\n",
      "| B3-4.3-12, Rent-Related Credits (08/07/2024) 429 |\n",
      "| B3-4.3-13, Sweat Equity (04/15/2014) 430 |\n",
      "| B3-4.3-14, Bridge/Swing Loans (04/01/2009) 431 |\n",
      "| B3-4.3-15, Borrowed Funds Secured by an Asset (10/30/2009) 431 |\n",
      "|  |\n",
      "\n",
      "\n"
     ]
    }
   ],
   "source": [
    "print(chunks[0]['instance']['content'])"
   ]
  },
  {
   "cell_type": "code",
   "execution_count": 18,
   "id": "49f06293-a439-436b-bc93-cd6cd3fb4aff",
   "metadata": {
    "tags": []
   },
   "outputs": [
    {
     "data": {
      "text/plain": [
       "[0.031277116388082504,\n",
       " 0.03056905046105385,\n",
       " 0.010865348391234875,\n",
       " 0.0623614676296711,\n",
       " 0.03228681534528732,\n",
       " 0.05066155269742012,\n",
       " 0.046544693410396576,\n",
       " 0.05509665608406067,\n",
       " -0.014074751175940037,\n",
       " 0.008380400016903877]"
      ]
     },
     "execution_count": 18,
     "metadata": {},
     "output_type": "execute_result"
    }
   ],
   "source": [
    "chunks[0]['predictions'][0]['embeddings']['values'][0:10]"
   ]
  },
  {
   "cell_type": "markdown",
   "id": "f977358d-d9ea-4172-9eca-66079bb6087d",
   "metadata": {},
   "source": [
    "### Prepare Chunk Structure\n",
    "\n",
    "Make a list of dictionaries with information for each chunk:"
   ]
  },
  {
   "cell_type": "code",
   "execution_count": 19,
   "id": "be9fa708-130c-4343-b179-dbde0b09a972",
   "metadata": {
    "tags": []
   },
   "outputs": [],
   "source": [
    "content_chunks = [\n",
    "    dict(\n",
    "        gse = chunk['instance']['gse'],\n",
    "        chunk_id = chunk['instance']['chunk_id'],\n",
    "        content = chunk['instance']['content'],\n",
    "        embedding = chunk['predictions'][0]['embeddings']['values']\n",
    "    ) for chunk in chunks\n",
    "]"
   ]
  },
  {
   "cell_type": "markdown",
   "id": "d6619605-7b10-444e-a131-db06e56a4be8",
   "metadata": {},
   "source": [
    "### Query Embedding\n",
    "\n",
    "Create a query, or prompt, and get the embedding for it:\n",
    "\n",
    "Connect to models for text embeddings. Learn more about the model API:\n",
    "- [Vertex AI Text Embeddings API](../Embeddings/Vertex%20AI%20Text%20Embeddings%20API.ipynb)"
   ]
  },
  {
   "cell_type": "code",
   "execution_count": 20,
   "id": "3da5d30c-3dfb-42ba-a133-83dceb252787",
   "metadata": {
    "tags": []
   },
   "outputs": [],
   "source": [
    "question = \"Does a lender have to perform servicing functions directly?\""
   ]
  },
  {
   "cell_type": "code",
   "execution_count": 21,
   "id": "7992c26f-d058-4920-80a3-a157b88733e4",
   "metadata": {
    "tags": []
   },
   "outputs": [],
   "source": [
    "embedder = vertexai.language_models.TextEmbeddingModel.from_pretrained('text-embedding-004')"
   ]
  },
  {
   "cell_type": "code",
   "execution_count": 22,
   "id": "bbe6fda7-9cea-49a2-9e2f-9222d50677af",
   "metadata": {
    "tags": []
   },
   "outputs": [
    {
     "data": {
      "text/plain": [
       "[-0.0005117303808219731,\n",
       " 0.009651427157223225,\n",
       " 0.01768726110458374,\n",
       " 0.014538003131747246,\n",
       " -0.01829824410378933,\n",
       " 0.027877431362867355,\n",
       " -0.021124685183167458,\n",
       " 0.008830446749925613,\n",
       " -0.02669006586074829,\n",
       " 0.06414774805307388]"
      ]
     },
     "execution_count": 22,
     "metadata": {},
     "output_type": "execute_result"
    }
   ],
   "source": [
    "question_embedding = embedder.get_embeddings([question])[0].values\n",
    "question_embedding[0:10]"
   ]
  },
  {
   "cell_type": "markdown",
   "id": "3745dc92-0000-418f-a914-3bd4fa49cf5b",
   "metadata": {},
   "source": [
    "---\n",
    "## Retrieval With Vertex AI Vector Search\n",
    "\n",
    "[Vertex AI Vector Search](https://cloud.google.com/vertex-ai/docs/vector-search/overview) is a vector similarity search solution built for scale, offering many enhanced functions, like streaming inserts of new embeddings."
   ]
  },
  {
   "cell_type": "markdown",
   "id": "c301f984-bbe8-4e0f-b30f-dcbc620fe4aa",
   "metadata": {},
   "source": [
    "### Prepare Input Data In GCS\n",
    "\n",
    "A batch input for Vertex AI Vector Search are sourced from GCS directory with structure:\n",
    "```\n",
    "batch_root/\n",
    "├── features_1.csv\n",
    "├── features_2.csv\n",
    "└── delete/\n",
    "    └── deletes_1.txt\n",
    "```\n",
    "Where each `features*` files is `.csv`, `.json`, or `.avro` file of input feature data.  The `delete` folder has `.txt` files of record IDs to remove from the the index.  Each batch job will have a batch root folder like this.\n",
    "\n",
    "The `features` files have structs of input information for each input and requires a value for `id` and for `embedding` and/or `sparse_embedding`.  The `sparse_embedding` can be great for keyword search and hybrid search.  The example below focuses on embeddings which are also called dense embeddings.\n",
    "\n",
    "The `features` files can also have optional `restricts` with  `namespace` and `allow` tokens for use in filtering and crowding during search.  These will be used in the example below.\n",
    "\n",
    "**Reference:**\n",
    "- [Input data format and structure](https://cloud.google.com/vertex-ai/docs/vector-search/setup/format-structure)\n",
    "- [Filter vector matches](https://cloud.google.com/vertex-ai/docs/vector-search/filtering)"
   ]
  },
  {
   "cell_type": "code",
   "execution_count": 23,
   "id": "d9d49296-f176-4a83-8914-b7a1e2f522f4",
   "metadata": {
    "tags": []
   },
   "outputs": [],
   "source": [
    "inside_vs_data = [\n",
    "    dict(\n",
    "        id = chunk['instance']['chunk_id'],\n",
    "        embedding = chunk['predictions'][0]['embeddings']['values'],\n",
    "        restricts = [\n",
    "            dict(\n",
    "                namespace = 'gse',\n",
    "                allow = [chunk['instance']['gse']]\n",
    "            )\n",
    "        ]\n",
    "    ) for chunk in chunks\n",
    "]"
   ]
  },
  {
   "cell_type": "code",
   "execution_count": 24,
   "id": "1224402f-d59d-486e-b0f8-b0d7b170c382",
   "metadata": {
    "tags": []
   },
   "outputs": [],
   "source": [
    "outside_vs_data = {}\n",
    "for chunk in chunks:\n",
    "    outside_vs_data[chunk['instance']['chunk_id']] = chunk['instance']['content']"
   ]
  },
  {
   "cell_type": "markdown",
   "id": "6bb70841-1c8d-4cdc-adb8-bda90602bea6",
   "metadata": {},
   "source": [
    "#### Save To GCS"
   ]
  },
  {
   "cell_type": "code",
   "execution_count": 25,
   "id": "6119ba51-bc70-426a-866b-bd7f0c075916",
   "metadata": {
    "tags": []
   },
   "outputs": [
    {
     "data": {
      "text/plain": [
       "[<Blob: statmike-mlops-349915, applied-genai/retrieval-vertex-vector-search/batches/initial/feature.json, 1729265490867222>]"
      ]
     },
     "execution_count": 25,
     "metadata": {},
     "output_type": "execute_result"
    }
   ],
   "source": [
    "blob = bucket.blob(f'{SERIES}/{EXPERIMENT}/batches/initial/feature.json')\n",
    "jsonl_data = '\\n'.join(json.dumps(row) for row in inside_vs_data)\n",
    "blob.upload_from_string(jsonl_data, content_type = 'application/json')\n",
    "list(bucket.list_blobs(prefix = f'{SERIES}/{EXPERIMENT}'))"
   ]
  },
  {
   "cell_type": "markdown",
   "id": "d6dad38a-6f8c-43fe-8774-1e5e58844f7b",
   "metadata": {},
   "source": [
    "### Create/Retrieve An Index\n",
    "\n",
    "Before deploying an index for use on an endpoint with Vertex AI Vector Search, you first create the index and load the data.  The workflow here will create and load the data to two different indexes: one for treeAH approximate nearest neighbors search, and one for brute force full search.  Indexes can be created for batch updates or streaming updates.\n",
    "\n",
    "**Reference:**\n",
    "- [Create and managed your index](https://cloud.google.com/vertex-ai/docs/vector-search/create-manage-index)\n",
    "- [Index configuration parameters](https://cloud.google.com/vertex-ai/docs/vector-search/configuring-indexes)\n",
    "- [Python SDK: `aiplatform.MatchingEngineIndex`](https://cloud.google.com/python/docs/reference/aiplatform/latest/google.cloud.aiplatform.MatchingEngineIndex#google_cloud_aiplatform_MatchingEngineIndex_name)"
   ]
  },
  {
   "cell_type": "markdown",
   "id": "5ed2867a-8070-42ef-909e-44f8565c550b",
   "metadata": {},
   "source": [
    "#### Create Empty Indexes\n",
    "\n",
    "Check for the index and if missing create it:\n",
    "- a tree ah index for approximation nearest neightbors search\n",
    "- a brute force index for verifying results in testing"
   ]
  },
  {
   "cell_type": "code",
   "execution_count": 58,
   "id": "11da6e43-cd7b-4dfe-9c97-839a43d97a89",
   "metadata": {
    "tags": []
   },
   "outputs": [
    {
     "name": "stdout",
     "output_type": "stream",
     "text": [
      "Retrieved existing index with same name.\n"
     ]
    }
   ],
   "source": [
    "check = aiplatform.MatchingEngineIndex.list(filter=f'display_name=\"{VS_INDEX_NAME}-tree-ah\"')\n",
    "if len(check) > 0:\n",
    "    print('Retrieved existing index with same name.')\n",
    "    vs_index_tree_ah = check[0]\n",
    "else:\n",
    "    print('Creating index ...')\n",
    "    vs_index_tree_ah = aiplatform.MatchingEngineIndex.create_tree_ah_index(\n",
    "        display_name = VS_INDEX_NAME + '-tree-ah',\n",
    "        dimensions = len(question_embedding),\n",
    "        approximate_neighbors_count = 20,\n",
    "        distance_measure_type = 'DOT_PRODUCT_DISTANCE',\n",
    "        leaf_node_embedding_count = 250,\n",
    "        leaf_nodes_to_search_percent = 10,\n",
    "        index_update_method = 'BATCH_METHOD',\n",
    "        shard_size = 'SHARD_SIZE_SMALL'\n",
    "    )    "
   ]
  },
  {
   "cell_type": "code",
   "execution_count": 59,
   "id": "28b6af7e-8955-4be0-909c-74ee90604c77",
   "metadata": {
    "tags": []
   },
   "outputs": [
    {
     "name": "stdout",
     "output_type": "stream",
     "text": [
      "Retrieved existing index with same name.\n"
     ]
    }
   ],
   "source": [
    "check = aiplatform.MatchingEngineIndex.list(filter=f'display_name=\"{VS_INDEX_NAME}-brute-force\"')\n",
    "if len(check) > 0:\n",
    "    print('Retrieved existing index with same name.')\n",
    "    vs_index_brute_force = check[0]\n",
    "else:\n",
    "    print('Creating index ...')\n",
    "    vs_index_brute_force = aiplatform.MatchingEngineIndex.create_brute_force_index(\n",
    "        display_name = VS_INDEX_NAME + '-brute-force',\n",
    "        dimensions = len(question_embedding),\n",
    "        distance_measure_type = 'DOT_PRODUCT_DISTANCE',\n",
    "        index_update_method = 'BATCH_METHOD',\n",
    "        shard_size = 'SHARD_SIZE_SMALL'\n",
    "    )  "
   ]
  },
  {
   "cell_type": "markdown",
   "id": "b744d06d-f95d-4651-b53a-e19c008181ae",
   "metadata": {},
   "source": [
    "#### Load Data To Index\n",
    "\n",
    "Check to see if data is already loaded and if missing then load as a complete overwrite:"
   ]
  },
  {
   "cell_type": "code",
   "execution_count": 44,
   "id": "f60990f3-fe2d-4ea5-ba63-2634360b2544",
   "metadata": {
    "tags": []
   },
   "outputs": [
    {
     "data": {
      "text/plain": [
       "{'vectorsCount': '9040', 'shardsCount': 1}"
      ]
     },
     "execution_count": 44,
     "metadata": {},
     "output_type": "execute_result"
    }
   ],
   "source": [
    "vs_index_tree_ah.to_dict()['indexStats']"
   ]
  },
  {
   "cell_type": "code",
   "execution_count": 45,
   "id": "55e73079-acb6-4177-b057-54fde25bb9cd",
   "metadata": {
    "tags": []
   },
   "outputs": [
    {
     "data": {
      "text/plain": [
       "{'vectorsCount': '9040', 'shardsCount': 1}"
      ]
     },
     "execution_count": 45,
     "metadata": {},
     "output_type": "execute_result"
    }
   ],
   "source": [
    "vs_index_brute_force.to_dict()['indexStats']"
   ]
  },
  {
   "cell_type": "code",
   "execution_count": 60,
   "id": "5ce275e2-3136-4250-ab6c-88f07d74bbe1",
   "metadata": {
    "tags": []
   },
   "outputs": [
    {
     "name": "stdout",
     "output_type": "stream",
     "text": [
      "Embeddings already loaded.\n"
     ]
    }
   ],
   "source": [
    "if 'vectorsCount' not in vs_index_tree_ah.to_dict()['indexStats']:\n",
    "    print('Loading Embeddings...')\n",
    "    vs_index_tree_ah.update_embeddings(\n",
    "        contents_delta_uri = f'gs://{bucket.name}/{SERIES}/{EXPERIMENT}/batches/initial',\n",
    "        is_complete_overwrite = True\n",
    "    )\n",
    "else:\n",
    "    print('Embeddings already loaded.')"
   ]
  },
  {
   "cell_type": "code",
   "execution_count": 61,
   "id": "aa61d578-db37-4ae0-9826-1423523365ad",
   "metadata": {
    "tags": []
   },
   "outputs": [
    {
     "name": "stdout",
     "output_type": "stream",
     "text": [
      "Embeddings already loaded.\n"
     ]
    }
   ],
   "source": [
    "if 'vectorsCount' not in vs_index_brute_force.to_dict()['indexStats']:\n",
    "    print('Loading Embeddings...')\n",
    "    vs_index_brute_force.update_embeddings(\n",
    "        contents_delta_uri = f'gs://{bucket.name}/{SERIES}/{EXPERIMENT}/batches/initial',\n",
    "        is_complete_overwrite = True\n",
    "    )\n",
    "else:\n",
    "    print('Embeddings already loaded.')"
   ]
  },
  {
   "cell_type": "markdown",
   "id": "22261294-4b73-49fc-bb6a-8106fc193228",
   "metadata": {},
   "source": [
    "### Manage An Index\n",
    "\n",
    "Similar to loading data to the indexes in the previous section, batch update can be carried out with incremental data or complete overwrites.  If the indexes are set up for streaming updates the upserts can be streamed to the indexes.\n",
    "\n",
    "**Reference:**\n",
    "- [Update and rebuild index](https://cloud.google.com/vertex-ai/docs/vector-search/update-rebuild-index)"
   ]
  },
  {
   "cell_type": "markdown",
   "id": "d5727964-51c5-46ee-b8f6-da66963b5b39",
   "metadata": {},
   "source": [
    "### Create/Retrieve An Index Endpoint\n",
    "\n",
    "To make indexes available for serving nearest neighbors matches they need to be deployed to a Vertex AI Vector Search endpoints.  This section will create an endpoint (or retrieve it).  The work below creates a public endpoint but the endpoint can also be created with VPC peering or private service connect.  \n",
    "\n",
    "**Reference:**\n",
    "- [Deploy - Public Endpoint](https://cloud.google.com/vertex-ai/docs/vector-search/deploy-index-public)\n",
    "- [Deploy - Private services access(VPC peering)](https://cloud.google.com/vertex-ai/docs/vector-search/deploy-index-vpc)\n",
    "- [Deploy - Private Services Connect (PSC)](https://cloud.google.com/vertex-ai/docs/vector-search/setup/private-service-connect)\n",
    "- [Python SDK: `aiplatform.MatchingEngineIndexEndpoint`](https://cloud.google.com/python/docs/reference/aiplatform/latest/google.cloud.aiplatform.MatchingEngineIndexEndpoint)"
   ]
  },
  {
   "cell_type": "code",
   "execution_count": 62,
   "id": "e7cc655b-cbd4-4577-b555-f454b0c052bd",
   "metadata": {
    "tags": []
   },
   "outputs": [
    {
     "name": "stdout",
     "output_type": "stream",
     "text": [
      "Retreived exiting endpoint with same name.\n"
     ]
    }
   ],
   "source": [
    "check = aiplatform.MatchingEngineIndexEndpoint.list(filter=f'display_name=\"{VS_ENDPOINT_NAME}\"')\n",
    "if len(check) > 0:\n",
    "    print('Retreived exiting endpoint with same name.')\n",
    "    vs_endpoint = check[0]\n",
    "else:\n",
    "    print('Creating endpoing...')\n",
    "    vs_endpoint = aiplatform.MatchingEngineIndexEndpoint.create(\n",
    "        display_name = VS_ENDPOINT_NAME,\n",
    "        public_endpoint_enabled = True\n",
    "    )"
   ]
  },
  {
   "cell_type": "markdown",
   "id": "9ce35ac1-5727-4f15-b244-04f591f72c5f",
   "metadata": {},
   "source": [
    "### Deploy Indexes To Index Endpoint\n",
    "\n",
    "Check for indexes on the endpoint and if missing deploy them\n",
    "\n",
    "This is the point where computing resources are started to hosts the endpoint. Choices here and the up time of the endpoint are important considerations for performance and [costs](https://cloud.google.com/vertex-ai/pricing#vectorsearch).\n",
    "\n",
    "**Notes**\n",
    "- Machine types should chosen to support the choosen shard size (see first reference below)\n",
    "- It is recommended to have two replicas per shard\n",
    "- min_replica_count and max_replica_count default to 2 (no autoscaling)\n",
    "- if min_replica_count is not set then it defaults to 2\n",
    "- if max_replica_count is not set then it defaults to the same value as min_replica_count\n",
    "\n",
    "**Reference:**\n",
    "- [Machine type options](https://cloud.google.com/vertex-ai/docs/vector-search/create-manage-index#create-index)\n",
    "- [Enable Autoscaling](https://cloud.google.com/vertex-ai/docs/vector-search/deploy-index-public#autoscaling)\n",
    "    - [Change autoscaling parameters for and endpoint](https://cloud.google.com/vertex-ai/docs/vector-search/deploy-index-public#mutate-deployed-index)\n",
    "- [Deployment settings that impact performance](https://cloud.google.com/vertex-ai/docs/vector-search/deploy-index-public#performance)\n"
   ]
  },
  {
   "cell_type": "code",
   "execution_count": 67,
   "id": "896ad94f-ea8f-4cf6-a639-f6f0e0c6f163",
   "metadata": {
    "tags": []
   },
   "outputs": [
    {
     "name": "stdout",
     "output_type": "stream",
     "text": [
      "Found index already deployed to endpoint: applied-genai-retrieval-vertex-vector-search-tree-ah\n",
      "Found index already deployed to endpoint: applied-genai-retrieval-vertex-vector-search-brute-force\n"
     ]
    }
   ],
   "source": [
    "for index in [vs_index_tree_ah, vs_index_brute_force]:\n",
    "    if index.display_name.replace('-', '_') not in [i.id for i in vs_endpoint.deployed_indexes]:\n",
    "        print(f'Deploying index: {index.display_name}')\n",
    "        vs_endpoint = vs_endpoint.deploy_index(\n",
    "            index = index.resource_name,\n",
    "            deployed_index_id = index.display_name.replace('-', '_'),\n",
    "            machine_type = 'e2-standard-2',\n",
    "            min_replica_count = 2,\n",
    "            max_replica_count = 2, \n",
    "        )\n",
    "    else:\n",
    "        print(f'Found index already deployed to endpoint: {index.display_name}')"
   ]
  },
  {
   "cell_type": "code",
   "execution_count": 73,
   "id": "d3cd2fff-6548-486d-b97c-a81535a1b448",
   "metadata": {
    "tags": []
   },
   "outputs": [],
   "source": [
    "vs_endpoint = aiplatform.MatchingEngineIndexEndpoint(\n",
    "    index_endpoint_name = vs_endpoint.resource_name\n",
    ")"
   ]
  },
  {
   "cell_type": "code",
   "execution_count": 74,
   "id": "27df7d60-3ed0-40e7-8438-f5faaa08014c",
   "metadata": {
    "tags": []
   },
   "outputs": [
    {
     "data": {
      "text/plain": [
       "[id: \"applied_genai_retrieval_vertex_vector_search_tree_ah\"\n",
       "index: \"projects/1026793852137/locations/us-central1/indexes/2418270272177045504\"\n",
       "create_time {\n",
       "  seconds: 1729254606\n",
       "  nanos: 813361000\n",
       "}\n",
       "index_sync_time {\n",
       "  seconds: 1729266827\n",
       "  nanos: 283083000\n",
       "}\n",
       "deployment_group: \"default\"\n",
       "dedicated_resources {\n",
       "  machine_spec {\n",
       "    machine_type: \"e2-standard-2\"\n",
       "  }\n",
       "  min_replica_count: 2\n",
       "  max_replica_count: 2\n",
       "}\n",
       ", id: \"applied_genai_retrieval_vertex_vector_search_brute_force\"\n",
       "index: \"projects/1026793852137/locations/us-central1/indexes/1855742531220799488\"\n",
       "create_time {\n",
       "  seconds: 1729255453\n",
       "  nanos: 24613000\n",
       "}\n",
       "index_sync_time {\n",
       "  seconds: 1729266771\n",
       "  nanos: 750378000\n",
       "}\n",
       "deployment_group: \"default\"\n",
       "dedicated_resources {\n",
       "  machine_spec {\n",
       "    machine_type: \"e2-standard-2\"\n",
       "  }\n",
       "  min_replica_count: 2\n",
       "  max_replica_count: 2\n",
       "}\n",
       "]"
      ]
     },
     "execution_count": 74,
     "metadata": {},
     "output_type": "execute_result"
    }
   ],
   "source": [
    "vs_endpoint.deployed_indexes"
   ]
  },
  {
   "cell_type": "markdown",
   "id": "c8710008-7836-494f-a914-af38b90ee3bf",
   "metadata": {},
   "source": [
    "### Matches:"
   ]
  },
  {
   "cell_type": "code",
   "execution_count": 72,
   "id": "05dbb73a-d500-43b8-8e23-8159cd0a872e",
   "metadata": {
    "tags": []
   },
   "outputs": [
    {
     "data": {
      "text/plain": [
       "[datapoint_id: \"fannie_part_0_c40\"\n",
       "feature_vector: 0.027678849175572395\n",
       "feature_vector: -0.007303171791136265\n",
       "feature_vector: 0.03341332823038101\n",
       "feature_vector: 0.06296615302562714\n",
       "feature_vector: -0.014549952000379562\n",
       "feature_vector: 0.027599383145570755\n",
       "feature_vector: 0.04117162525653839\n",
       "feature_vector: 0.0039031493943184614\n",
       "feature_vector: -0.02049889974296093\n",
       "feature_vector: -0.0017076944932341576\n",
       "feature_vector: -0.025188840925693512\n",
       "feature_vector: 0.06535536050796509\n",
       "feature_vector: 0.06576049327850342\n",
       "feature_vector: -0.039182983338832855\n",
       "feature_vector: -0.017826547846198082\n",
       "feature_vector: -0.057337116450071335\n",
       "feature_vector: 0.035221464931964874\n",
       "feature_vector: 0.044845353811979294\n",
       "feature_vector: -0.02948317490518093\n",
       "feature_vector: -0.0037089877296239138\n",
       "feature_vector: -0.019938185811042786\n",
       "feature_vector: -0.013213587924838066\n",
       "feature_vector: -0.01755746267735958\n",
       "feature_vector: -0.03500330448150635\n",
       "feature_vector: -0.024951962754130363\n",
       "feature_vector: -0.06173713877797127\n",
       "feature_vector: 0.02694622613489628\n",
       "feature_vector: -0.059984829276800156\n",
       "feature_vector: -0.004815598018467426\n",
       "feature_vector: -0.017345638945698738\n",
       "feature_vector: 0.045723654329776764\n",
       "feature_vector: 0.028966613113880157\n",
       "feature_vector: 0.01707635447382927\n",
       "feature_vector: -0.03616061434149742\n",
       "feature_vector: 0.05320967733860016\n",
       "feature_vector: 0.04831977188587189\n",
       "feature_vector: 0.0072409613057971\n",
       "feature_vector: 0.006304004229605198\n",
       "feature_vector: 0.036134492605924606\n",
       "feature_vector: -0.053504180163145065\n",
       "feature_vector: -0.05498253554105759\n",
       "feature_vector: -0.025790691375732422\n",
       "feature_vector: -0.011316079646348953\n",
       "feature_vector: -0.002533729886636138\n",
       "feature_vector: -0.014926573261618614\n",
       "feature_vector: -0.057624075561761856\n",
       "feature_vector: 0.008527496829628944\n",
       "feature_vector: 0.03236369788646698\n",
       "feature_vector: -0.03533649072051048\n",
       "feature_vector: 0.02653767541050911\n",
       "feature_vector: 0.04502498358488083\n",
       "feature_vector: 0.07117687165737152\n",
       "feature_vector: 0.0432245172560215\n",
       "feature_vector: 0.0368599034845829\n",
       "feature_vector: -0.04270855709910393\n",
       "feature_vector: -0.07350245118141174\n",
       "feature_vector: -0.031069301068782806\n",
       "feature_vector: -0.039061903953552246\n",
       "feature_vector: -0.030647583305835724\n",
       "feature_vector: -0.009597351774573326\n",
       "feature_vector: -0.02040225826203823\n",
       "feature_vector: -0.009492280893027782\n",
       "feature_vector: 0.003277788171544671\n",
       "feature_vector: -0.03121761791408062\n",
       "feature_vector: 0.012742816470563412\n",
       "feature_vector: -0.015571556985378265\n",
       "feature_vector: -0.02771824598312378\n",
       "feature_vector: -0.06032509356737137\n",
       "feature_vector: -0.06070733815431595\n",
       "feature_vector: 0.013067048974335194\n",
       "feature_vector: -0.02594938687980175\n",
       "feature_vector: 0.09279059618711472\n",
       "feature_vector: 0.02573227323591709\n",
       "feature_vector: 0.03173697739839554\n",
       "feature_vector: 0.012835287488996983\n",
       "feature_vector: 0.0060180919244885445\n",
       "feature_vector: 0.01440101582556963\n",
       "feature_vector: 0.012557243928313255\n",
       "feature_vector: 0.01833837479352951\n",
       "feature_vector: 0.07558786123991013\n",
       "feature_vector: -0.04134218022227287\n",
       "feature_vector: 0.022621503099799156\n",
       "feature_vector: 0.006198238581418991\n",
       "feature_vector: -0.007886175066232681\n",
       "feature_vector: -0.0029490196611732244\n",
       "feature_vector: 0.023015443235635757\n",
       "feature_vector: 0.006625323556363583\n",
       "feature_vector: -0.07486425340175629\n",
       "feature_vector: -0.03432326391339302\n",
       "feature_vector: -0.010789036750793457\n",
       "feature_vector: 0.09280042350292206\n",
       "feature_vector: 0.07090490311384201\n",
       "feature_vector: -0.0797150656580925\n",
       "feature_vector: -0.004564973991364241\n",
       "feature_vector: 0.019234903156757355\n",
       "feature_vector: -0.003646420780569315\n",
       "feature_vector: -0.06546603888273239\n",
       "feature_vector: -0.0998482033610344\n",
       "feature_vector: 0.07223135977983475\n",
       "feature_vector: 0.04633151739835739\n",
       "feature_vector: 0.0047136032953858376\n",
       "feature_vector: 0.0038911683950573206\n",
       "feature_vector: -0.015924448147416115\n",
       "feature_vector: -0.01234868261963129\n",
       "feature_vector: 0.06129451096057892\n",
       "feature_vector: -0.001330986968241632\n",
       "feature_vector: -0.03797517344355583\n",
       "feature_vector: -0.044391732662916183\n",
       "feature_vector: -0.07603844255208969\n",
       "feature_vector: 0.022516289725899696\n",
       "feature_vector: -0.057704031467437744\n",
       "feature_vector: 0.025845147669315338\n",
       "feature_vector: -0.0053626964800059795\n",
       "feature_vector: 0.02420991100370884\n",
       "feature_vector: 0.021032709628343582\n",
       "feature_vector: -0.004466262646019459\n",
       "feature_vector: 0.011041626334190369\n",
       "feature_vector: 0.005841351579874754\n",
       "feature_vector: 0.03737374395132065\n",
       "feature_vector: -0.025957033038139343\n",
       "feature_vector: -0.002769558457657695\n",
       "feature_vector: 0.024837829172611237\n",
       "feature_vector: 0.0027135906275361776\n",
       "feature_vector: 0.04268357902765274\n",
       "feature_vector: -0.02985655888915062\n",
       "feature_vector: 0.0021798296365886927\n",
       "feature_vector: 0.012197785079479218\n",
       "feature_vector: -0.014757823199033737\n",
       "feature_vector: -0.010171745903789997\n",
       "feature_vector: 0.013396087102591991\n",
       "feature_vector: 0.024968432262539864\n",
       "feature_vector: -0.03047596663236618\n",
       "feature_vector: -0.018624193966388702\n",
       "feature_vector: 0.023506853729486465\n",
       "feature_vector: 0.03227132558822632\n",
       "feature_vector: -0.03317437693476677\n",
       "feature_vector: 0.02922329679131508\n",
       "feature_vector: -0.0034529322292655706\n",
       "feature_vector: -0.043626852333545685\n",
       "feature_vector: 0.04085039719939232\n",
       "feature_vector: -0.059606291353702545\n",
       "feature_vector: 0.005393006838858128\n",
       "feature_vector: -0.08307837694883347\n",
       "feature_vector: 0.007616123184561729\n",
       "feature_vector: -0.017011744901537895\n",
       "feature_vector: -0.046482741832733154\n",
       "feature_vector: 0.00995216891169548\n",
       "feature_vector: 0.1130136251449585\n",
       "feature_vector: 0.00039687054231762886\n",
       "feature_vector: 0.006697657518088818\n",
       "feature_vector: -0.06592274457216263\n",
       "feature_vector: -0.04663988947868347\n",
       "feature_vector: 0.03160155564546585\n",
       "feature_vector: -0.050249382853507996\n",
       "feature_vector: -0.012046095915138721\n",
       "feature_vector: 0.04003334417939186\n",
       "feature_vector: 0.01072485651820898\n",
       "feature_vector: -0.0016200096579268575\n",
       "feature_vector: 0.04243767634034157\n",
       "feature_vector: -0.019480986520648003\n",
       "feature_vector: 0.028028838336467743\n",
       "feature_vector: -0.020732633769512177\n",
       "feature_vector: 0.026344509795308113\n",
       "feature_vector: -0.0006361136911436915\n",
       "feature_vector: -0.005919091869145632\n",
       "feature_vector: 0.011784267611801624\n",
       "feature_vector: -0.0271904356777668\n",
       "feature_vector: -0.07810839265584946\n",
       "feature_vector: 0.006548585835844278\n",
       "feature_vector: -0.0003890713269356638\n",
       "feature_vector: -5.4495365475304425e-05\n",
       "feature_vector: 0.003102821996435523\n",
       "feature_vector: -0.050195805728435516\n",
       "feature_vector: -0.05401916056871414\n",
       "feature_vector: 0.03255024924874306\n",
       "feature_vector: 0.04598601162433624\n",
       "feature_vector: 0.10358309000730515\n",
       "feature_vector: 0.06747967004776001\n",
       "feature_vector: -0.013139761984348297\n",
       "feature_vector: -0.0190621018409729\n",
       "feature_vector: 0.035262998193502426\n",
       "feature_vector: 0.04828384518623352\n",
       "feature_vector: -0.02412285842001438\n",
       "feature_vector: -0.05471992492675781\n",
       "feature_vector: 0.048291802406311035\n",
       "feature_vector: 0.020505333319306374\n",
       "feature_vector: -0.07939184457063675\n",
       "feature_vector: 0.01068709883838892\n",
       "feature_vector: 0.026768239215016365\n",
       "feature_vector: -0.005475208628922701\n",
       "feature_vector: 0.01752026565372944\n",
       "feature_vector: 0.008757779374718666\n",
       "feature_vector: -0.03449335694313049\n",
       "feature_vector: 0.026366552338004112\n",
       "feature_vector: 0.02325473353266716\n",
       "feature_vector: 0.03201114013791084\n",
       "feature_vector: -0.02770807594060898\n",
       "feature_vector: -0.030638644471764565\n",
       "feature_vector: -0.040471483021974564\n",
       "feature_vector: -0.04034845158457756\n",
       "feature_vector: 0.057291507720947266\n",
       "feature_vector: 0.0015316918725147843\n",
       "feature_vector: -0.0161751601845026\n",
       "feature_vector: -0.030637629330158234\n",
       "feature_vector: -0.025984827429056168\n",
       "feature_vector: 0.008982649073004723\n",
       "feature_vector: -0.022257400676608086\n",
       "feature_vector: -0.05115222558379173\n",
       "feature_vector: -0.02133748307824135\n",
       "feature_vector: -0.043145932257175446\n",
       "feature_vector: 0.011885122396051884\n",
       "feature_vector: -0.01326421182602644\n",
       "feature_vector: -0.025801580399274826\n",
       "feature_vector: -0.05939548462629318\n",
       "feature_vector: -0.006869862787425518\n",
       "feature_vector: 0.01825764961540699\n",
       "feature_vector: 0.059006184339523315\n",
       "feature_vector: 0.01302189752459526\n",
       "feature_vector: 0.07354842871427536\n",
       "feature_vector: -0.016468282788991928\n",
       "feature_vector: -0.026800839230418205\n",
       "feature_vector: 0.017520751804113388\n",
       "feature_vector: 0.020561881363391876\n",
       "feature_vector: 0.007117212284356356\n",
       "feature_vector: -0.013921829871833324\n",
       "feature_vector: 0.0007010858389548957\n",
       "feature_vector: -0.01548671256750822\n",
       "feature_vector: -0.001437026308849454\n",
       "feature_vector: 0.018711602315306664\n",
       "feature_vector: -0.0465729720890522\n",
       "feature_vector: -0.0604747012257576\n",
       "feature_vector: 0.050966888666152954\n",
       "feature_vector: -0.035774268209934235\n",
       "feature_vector: 0.018330633640289307\n",
       "feature_vector: -0.04154318943619728\n",
       "feature_vector: 0.07979157567024231\n",
       "feature_vector: 0.04598003625869751\n",
       "feature_vector: -0.08124471455812454\n",
       "feature_vector: -0.00927029363811016\n",
       "feature_vector: 0.015941239893436432\n",
       "feature_vector: 0.04173729941248894\n",
       "feature_vector: 0.020806394517421722\n",
       "feature_vector: 0.03445528820157051\n",
       "feature_vector: -0.030207255855202675\n",
       "feature_vector: 0.015402126125991344\n",
       "feature_vector: 0.055080052465200424\n",
       "feature_vector: 0.06281934678554535\n",
       "feature_vector: 0.023500600829720497\n",
       "feature_vector: 0.0037741351407021284\n",
       "feature_vector: -0.04072469472885132\n",
       "feature_vector: 0.02650555968284607\n",
       "feature_vector: 0.01303276140242815\n",
       "feature_vector: -0.01209559477865696\n",
       "feature_vector: 0.006537968292832375\n",
       "feature_vector: -0.05754270404577255\n",
       "feature_vector: 0.024391664192080498\n",
       "feature_vector: 0.009160970337688923\n",
       "feature_vector: -0.014651377685368061\n",
       "feature_vector: -0.0013318839482963085\n",
       "feature_vector: 0.0043315826915204525\n",
       "feature_vector: 0.012251844629645348\n",
       "feature_vector: -0.005845772102475166\n",
       "feature_vector: -0.007078534457832575\n",
       "feature_vector: 0.029988931491971016\n",
       "feature_vector: -0.09213874489068985\n",
       "feature_vector: -0.05420980975031853\n",
       "feature_vector: -0.05096118152141571\n",
       "feature_vector: -0.0544109120965004\n",
       "feature_vector: 0.012889064848423004\n",
       "feature_vector: -0.03941437602043152\n",
       "feature_vector: 0.03252187743782997\n",
       "feature_vector: -0.0064980387687683105\n",
       "feature_vector: -0.04305727407336235\n",
       "feature_vector: -0.006560026668012142\n",
       "feature_vector: 0.015747960656881332\n",
       "feature_vector: 0.043380849063396454\n",
       "feature_vector: -0.010328703559935093\n",
       "feature_vector: 0.04843832552433014\n",
       "feature_vector: -0.04628482460975647\n",
       "feature_vector: -0.08193519711494446\n",
       "feature_vector: 0.02105638012290001\n",
       "feature_vector: -0.022968711331486702\n",
       "feature_vector: 0.02038627117872238\n",
       "feature_vector: 0.006332718301564455\n",
       "feature_vector: 0.042731478810310364\n",
       "feature_vector: -0.0810057744383812\n",
       "feature_vector: 0.007774275727570057\n",
       "feature_vector: 0.027721509337425232\n",
       "feature_vector: -0.038800567388534546\n",
       "feature_vector: -0.000708812556695193\n",
       "feature_vector: 0.01669257879257202\n",
       "feature_vector: 0.03793683648109436\n",
       "feature_vector: 0.025580212473869324\n",
       "feature_vector: -0.002874212572351098\n",
       "feature_vector: 0.012767598032951355\n",
       "feature_vector: 0.013577770441770554\n",
       "feature_vector: 0.03956295922398567\n",
       "feature_vector: 0.02760445326566696\n",
       "feature_vector: -0.04441184550523758\n",
       "feature_vector: 0.005841167643666267\n",
       "feature_vector: 0.039215508848428726\n",
       "feature_vector: 0.023102611303329468\n",
       "feature_vector: -0.017601393163204193\n",
       "feature_vector: 0.015402194112539291\n",
       "feature_vector: -0.04048376530408859\n",
       "feature_vector: 0.0024604611098766327\n",
       "feature_vector: 0.017933771014213562\n",
       "feature_vector: -0.04010613635182381\n",
       "feature_vector: 0.04586341232061386\n",
       "feature_vector: -0.028390120714902878\n",
       "feature_vector: 0.015083014965057373\n",
       "feature_vector: 0.08960507810115814\n",
       "feature_vector: -0.0238233283162117\n",
       "feature_vector: -0.05538717284798622\n",
       "feature_vector: -0.017812544479966164\n",
       "feature_vector: -0.0031148346606642008\n",
       "feature_vector: -0.15363696217536926\n",
       "feature_vector: 0.009289227426052094\n",
       "feature_vector: -0.012450288981199265\n",
       "feature_vector: 0.043984685093164444\n",
       "feature_vector: 0.017802510410547256\n",
       "feature_vector: -0.02186669036746025\n",
       "feature_vector: -0.00016641622642055154\n",
       "feature_vector: 0.017344625666737556\n",
       "feature_vector: 0.027563905343413353\n",
       "feature_vector: -0.029545465484261513\n",
       "feature_vector: 0.02533203363418579\n",
       "feature_vector: -0.02208659239113331\n",
       "feature_vector: 0.050100721418857574\n",
       "feature_vector: 0.03900269791483879\n",
       "feature_vector: -0.044863857328891754\n",
       "feature_vector: -0.011715796776115894\n",
       "feature_vector: 0.02108054980635643\n",
       "feature_vector: -0.06978564709424973\n",
       "feature_vector: -0.02355377748608589\n",
       "feature_vector: 0.019335342571139336\n",
       "feature_vector: -0.04316827282309532\n",
       "feature_vector: 9.500175656285137e-05\n",
       "feature_vector: 0.04809527471661568\n",
       "feature_vector: 0.05355631560087204\n",
       "feature_vector: 0.04389703646302223\n",
       "feature_vector: -0.025135332718491554\n",
       "feature_vector: -0.005268312059342861\n",
       "feature_vector: -0.0025028930976986885\n",
       "feature_vector: -0.03414062783122063\n",
       "feature_vector: -0.03762613609433174\n",
       "feature_vector: -0.018240507692098618\n",
       "feature_vector: -0.022012528032064438\n",
       "feature_vector: 0.021910501644015312\n",
       "feature_vector: -0.0010038847103714943\n",
       "feature_vector: 0.013979888521134853\n",
       "feature_vector: 0.07662828266620636\n",
       "feature_vector: 0.012582565657794476\n",
       "feature_vector: -0.034707777202129364\n",
       "feature_vector: -0.006532453000545502\n",
       "feature_vector: 0.033898863941431046\n",
       "feature_vector: 0.057640280574560165\n",
       "feature_vector: -0.017650766298174858\n",
       "feature_vector: 0.03364689648151398\n",
       "feature_vector: 0.03519969806075096\n",
       "feature_vector: 0.03534397482872009\n",
       "feature_vector: 0.01711135357618332\n",
       "feature_vector: -0.015546717680990696\n",
       "feature_vector: 0.08196607232093811\n",
       "feature_vector: 0.05508321523666382\n",
       "feature_vector: -0.036058079451322556\n",
       "feature_vector: 0.03690648451447487\n",
       "feature_vector: -0.0017696175491437316\n",
       "feature_vector: 0.00532768527045846\n",
       "feature_vector: -0.056033987551927567\n",
       "feature_vector: -0.008876161649823189\n",
       "feature_vector: -0.038415636867284775\n",
       "feature_vector: 0.03588147833943367\n",
       "feature_vector: -0.0005333032459020615\n",
       "feature_vector: -0.014124507084488869\n",
       "feature_vector: -0.08108946681022644\n",
       "feature_vector: -0.05982305482029915\n",
       "feature_vector: 0.028297655284404755\n",
       "feature_vector: 0.015012310817837715\n",
       "feature_vector: -0.009238437749445438\n",
       "feature_vector: -0.022761519998311996\n",
       "feature_vector: -0.0004420021141413599\n",
       "feature_vector: 0.019798528403043747\n",
       "feature_vector: -0.002659016288816929\n",
       "feature_vector: -0.04117816314101219\n",
       "feature_vector: 0.059284813702106476\n",
       "feature_vector: -0.0071148863062262535\n",
       "feature_vector: -0.00208570109680295\n",
       "feature_vector: -0.03763844817876816\n",
       "feature_vector: 0.005939186085015535\n",
       "feature_vector: -0.005936475470662117\n",
       "feature_vector: -0.010631365701556206\n",
       "feature_vector: 0.022989358752965927\n",
       "feature_vector: 0.015713348984718323\n",
       "feature_vector: -0.008765858598053455\n",
       "feature_vector: -0.013163953088223934\n",
       "feature_vector: -0.025756480172276497\n",
       "feature_vector: -0.04092228785157204\n",
       "feature_vector: -0.02189096063375473\n",
       "feature_vector: 0.012905977666378021\n",
       "feature_vector: -0.08738569915294647\n",
       "feature_vector: -0.028913160786032677\n",
       "feature_vector: 0.05461779981851578\n",
       "feature_vector: -0.055530086159706116\n",
       "feature_vector: 0.04627961665391922\n",
       "feature_vector: -0.01859554834663868\n",
       "feature_vector: 0.06437137722969055\n",
       "feature_vector: 0.014672192744910717\n",
       "feature_vector: -0.01397036388516426\n",
       "feature_vector: 0.005784471053630114\n",
       "feature_vector: 0.011015551164746284\n",
       "feature_vector: 0.0034702864941209555\n",
       "feature_vector: -0.03845351189374924\n",
       "feature_vector: 0.05656948313117027\n",
       "feature_vector: -0.02748071402311325\n",
       "feature_vector: -0.009363256394863129\n",
       "feature_vector: 0.008913260884582996\n",
       "feature_vector: -0.012066707946360111\n",
       "feature_vector: -0.009756836108863354\n",
       "feature_vector: 0.008065537549555302\n",
       "feature_vector: -0.0012933630496263504\n",
       "feature_vector: 0.0011727313976734877\n",
       "feature_vector: 0.02590746432542801\n",
       "feature_vector: -0.010443449020385742\n",
       "feature_vector: -0.005760252941399813\n",
       "feature_vector: -0.030448973178863525\n",
       "feature_vector: -0.01623934879899025\n",
       "feature_vector: 0.00993579626083374\n",
       "feature_vector: 0.02413085475564003\n",
       "feature_vector: -0.018167821690440178\n",
       "feature_vector: -0.04245053976774216\n",
       "feature_vector: 0.0457703061401844\n",
       "feature_vector: 0.010101077146828175\n",
       "feature_vector: 0.020305007696151733\n",
       "feature_vector: 0.03311553969979286\n",
       "feature_vector: 0.04058331623673439\n",
       "feature_vector: -0.008897366002202034\n",
       "feature_vector: 0.0014234451809898019\n",
       "feature_vector: -0.03673331439495087\n",
       "feature_vector: 0.08856738358736038\n",
       "feature_vector: 0.02902967855334282\n",
       "feature_vector: -0.015853991732001305\n",
       "feature_vector: 0.035265687853097916\n",
       "feature_vector: -0.016416795551776886\n",
       "feature_vector: 0.01000006590038538\n",
       "feature_vector: 0.04402277618646622\n",
       "feature_vector: -0.000938843993935734\n",
       "feature_vector: 0.0021109580993652344\n",
       "feature_vector: -0.028666628524661064\n",
       "feature_vector: -0.031913723796606064\n",
       "feature_vector: -0.03154253214597702\n",
       "feature_vector: 0.03106093965470791\n",
       "feature_vector: 0.01552571076899767\n",
       "feature_vector: -0.05455157160758972\n",
       "feature_vector: -0.05541916564106941\n",
       "feature_vector: -0.020391132682561874\n",
       "feature_vector: 0.019443348050117493\n",
       "feature_vector: 0.005723158363252878\n",
       "feature_vector: 0.011763808317482471\n",
       "feature_vector: 0.03646676987409592\n",
       "feature_vector: -0.017549268901348114\n",
       "feature_vector: -0.009446506388485432\n",
       "feature_vector: 0.033980295062065125\n",
       "feature_vector: 0.040519557893276215\n",
       "feature_vector: 0.003070178674533963\n",
       "feature_vector: 0.0009055252303369343\n",
       "feature_vector: -0.04547891765832901\n",
       "feature_vector: 0.07141468673944473\n",
       "feature_vector: -0.015355458483099937\n",
       "feature_vector: -0.020883480086922646\n",
       "feature_vector: -0.008723429404199123\n",
       "feature_vector: 0.01954609341919422\n",
       "feature_vector: 0.03331441804766655\n",
       "feature_vector: 0.0010063876397907734\n",
       "feature_vector: 0.000745085533708334\n",
       "feature_vector: 0.027987493202090263\n",
       "feature_vector: 0.03334195911884308\n",
       "feature_vector: -0.01936192996799946\n",
       "feature_vector: 0.005632789805531502\n",
       "feature_vector: 0.01870822347700596\n",
       "feature_vector: -0.03626880794763565\n",
       "feature_vector: 0.003096761181950569\n",
       "feature_vector: 0.013321353122591972\n",
       "feature_vector: 0.03572458773851395\n",
       "feature_vector: -0.00981857068836689\n",
       "feature_vector: -0.03313519433140755\n",
       "feature_vector: -0.036167144775390625\n",
       "feature_vector: -0.03302312269806862\n",
       "feature_vector: -0.006273207720369101\n",
       "feature_vector: -0.05346261337399483\n",
       "feature_vector: -0.00449777115136385\n",
       "feature_vector: 0.005102769937366247\n",
       "feature_vector: 0.009371264837682247\n",
       "feature_vector: -0.009432545863091946\n",
       "feature_vector: -0.017119411379098892\n",
       "feature_vector: -0.06725437194108963\n",
       "feature_vector: 0.06674174219369888\n",
       "feature_vector: -0.0259507205337286\n",
       "feature_vector: 0.03273280709981918\n",
       "feature_vector: 0.06403930485248566\n",
       "feature_vector: 0.06214923411607742\n",
       "feature_vector: 0.01966831088066101\n",
       "feature_vector: 0.014077259227633476\n",
       "feature_vector: -0.06240126118063927\n",
       "feature_vector: -0.0046141427010297775\n",
       "feature_vector: 0.0020797005854547024\n",
       "feature_vector: -0.045615699142217636\n",
       "feature_vector: -0.00931977666914463\n",
       "feature_vector: 0.03383415564894676\n",
       "feature_vector: 0.019983436912298203\n",
       "feature_vector: 0.023214222863316536\n",
       "feature_vector: -0.014323056675493717\n",
       "feature_vector: -0.007346232421696186\n",
       "feature_vector: -0.031049340963363647\n",
       "feature_vector: -0.0397244393825531\n",
       "feature_vector: 0.0405038557946682\n",
       "feature_vector: -0.005348928738385439\n",
       "feature_vector: 0.009281245060265064\n",
       "feature_vector: -0.013392685912549496\n",
       "feature_vector: 0.08702370524406433\n",
       "feature_vector: -0.07463259249925613\n",
       "feature_vector: -0.030766336247324944\n",
       "feature_vector: -0.012241908349096775\n",
       "feature_vector: -0.03455381467938423\n",
       "feature_vector: -0.03604678437113762\n",
       "feature_vector: -0.013239437714219093\n",
       "feature_vector: -0.018507955595850945\n",
       "feature_vector: 0.002497348701581359\n",
       "feature_vector: 0.006599389482289553\n",
       "feature_vector: 0.03373875096440315\n",
       "feature_vector: -0.029741475358605385\n",
       "feature_vector: 0.05581315979361534\n",
       "feature_vector: 0.0111883245408535\n",
       "feature_vector: 0.031909529119729996\n",
       "feature_vector: 0.05307774618268013\n",
       "feature_vector: 0.05154064670205116\n",
       "feature_vector: 0.02698885276913643\n",
       "feature_vector: -0.006211667321622372\n",
       "feature_vector: -0.015954410657286644\n",
       "feature_vector: -0.0016628451412543654\n",
       "feature_vector: 0.02470722794532776\n",
       "feature_vector: 0.014971217140555382\n",
       "feature_vector: 0.052154093980789185\n",
       "feature_vector: 0.04388963431119919\n",
       "feature_vector: 0.04220413416624069\n",
       "feature_vector: 0.014218848198652267\n",
       "feature_vector: -0.05549027398228645\n",
       "feature_vector: 0.011339361779391766\n",
       "feature_vector: -0.027236025780439377\n",
       "feature_vector: 0.036785706877708435\n",
       "feature_vector: -0.045341018587350845\n",
       "feature_vector: 0.015074720606207848\n",
       "feature_vector: -0.044152453541755676\n",
       "feature_vector: 0.06323640793561935\n",
       "feature_vector: 0.014772341586649418\n",
       "feature_vector: -0.031233947724103928\n",
       "feature_vector: 0.042594633996486664\n",
       "feature_vector: -0.02256052754819393\n",
       "feature_vector: 0.013566994108259678\n",
       "feature_vector: -0.040280766785144806\n",
       "feature_vector: 0.03675105795264244\n",
       "feature_vector: 0.010555134154856205\n",
       "feature_vector: 0.008105015382170677\n",
       "feature_vector: -0.005148361902683973\n",
       "feature_vector: 0.033983517438173294\n",
       "feature_vector: 0.031165188178420067\n",
       "feature_vector: -0.03178832307457924\n",
       "feature_vector: 0.02386772818863392\n",
       "feature_vector: -0.026424283161759377\n",
       "feature_vector: -0.00869061704725027\n",
       "feature_vector: -0.028273051604628563\n",
       "feature_vector: -0.016229817643761635\n",
       "feature_vector: -0.00943757500499487\n",
       "feature_vector: -0.020396804437041283\n",
       "feature_vector: 0.008740996941924095\n",
       "feature_vector: -0.049768876284360886\n",
       "feature_vector: -0.0787433460354805\n",
       "feature_vector: -0.0012083995388820767\n",
       "feature_vector: -0.006465587764978409\n",
       "feature_vector: -0.02935260534286499\n",
       "feature_vector: 0.016204744577407837\n",
       "feature_vector: 0.011789019219577312\n",
       "feature_vector: 0.06411722302436829\n",
       "feature_vector: -0.03544462472200394\n",
       "feature_vector: 0.023613352328538895\n",
       "feature_vector: -0.021305959671735764\n",
       "feature_vector: -0.006037101615220308\n",
       "feature_vector: -0.01169477216899395\n",
       "feature_vector: 0.002328361850231886\n",
       "feature_vector: 0.0019305336754769087\n",
       "feature_vector: -0.016041791066527367\n",
       "feature_vector: 0.04743710160255432\n",
       "feature_vector: -0.07940148562192917\n",
       "feature_vector: -0.02023133635520935\n",
       "feature_vector: -0.03212778642773628\n",
       "feature_vector: -0.017581306397914886\n",
       "feature_vector: -0.068583182990551\n",
       "feature_vector: -0.0027733591850847006\n",
       "feature_vector: 0.01054565329104662\n",
       "feature_vector: -0.01693391613662243\n",
       "feature_vector: 0.005520771723240614\n",
       "feature_vector: -0.020048940554261208\n",
       "feature_vector: -0.019767843186855316\n",
       "feature_vector: 0.008749159052968025\n",
       "feature_vector: -0.07488042116165161\n",
       "feature_vector: -0.09356269985437393\n",
       "feature_vector: -0.009437053464353085\n",
       "feature_vector: -0.017780661582946777\n",
       "feature_vector: 0.020582817494869232\n",
       "feature_vector: -0.04970312491059303\n",
       "feature_vector: -0.011098305694758892\n",
       "feature_vector: 0.026145214214920998\n",
       "feature_vector: -0.0378289632499218\n",
       "feature_vector: -0.0997784286737442\n",
       "feature_vector: -0.021921124309301376\n",
       "feature_vector: 0.025027895346283913\n",
       "feature_vector: -0.07188943773508072\n",
       "feature_vector: -0.00977273564785719\n",
       "feature_vector: 0.008857092820107937\n",
       "feature_vector: 0.0023855012841522694\n",
       "feature_vector: -0.009224006906151772\n",
       "feature_vector: 0.010501600801944733\n",
       "feature_vector: -0.026957960799336433\n",
       "feature_vector: -0.03968313708901405\n",
       "feature_vector: -0.000812250014860183\n",
       "feature_vector: -0.030648307874798775\n",
       "feature_vector: 0.010720214806497097\n",
       "feature_vector: 0.04798857867717743\n",
       "feature_vector: 0.038080181926488876\n",
       "feature_vector: 0.04969409853219986\n",
       "feature_vector: 0.004115049261599779\n",
       "feature_vector: 0.0204816535115242\n",
       "feature_vector: 0.04051894322037697\n",
       "feature_vector: -0.08109413087368011\n",
       "feature_vector: -0.00818159244954586\n",
       "feature_vector: 0.006621140521019697\n",
       "feature_vector: -0.002771316096186638\n",
       "feature_vector: -0.03856810927391052\n",
       "feature_vector: 0.03525104001164436\n",
       "feature_vector: -0.020211970433592796\n",
       "feature_vector: 0.04084145277738571\n",
       "feature_vector: -0.031419895589351654\n",
       "feature_vector: 0.05845104902982712\n",
       "feature_vector: -0.043330688029527664\n",
       "feature_vector: -0.03882035240530968\n",
       "feature_vector: -0.018492618575692177\n",
       "feature_vector: -0.017254691570997238\n",
       "feature_vector: -0.010386980138719082\n",
       "feature_vector: 0.03288395702838898\n",
       "feature_vector: -0.026657193899154663\n",
       "feature_vector: -0.04487459361553192\n",
       "feature_vector: 0.036585912108421326\n",
       "feature_vector: 0.0008500127005390823\n",
       "feature_vector: -0.007450012024492025\n",
       "feature_vector: 0.0007484322413802147\n",
       "feature_vector: -0.04380049929022789\n",
       "feature_vector: -0.03518455848097801\n",
       "feature_vector: -0.030845601111650467\n",
       "feature_vector: 0.03380957245826721\n",
       "feature_vector: -0.013256220147013664\n",
       "feature_vector: -0.0156428050249815\n",
       "feature_vector: -0.035722341388463974\n",
       "feature_vector: -0.032312531024217606\n",
       "feature_vector: 0.01627882570028305\n",
       "feature_vector: 0.008606476709246635\n",
       "feature_vector: 0.013860219158232212\n",
       "feature_vector: -0.0717080608010292\n",
       "feature_vector: 0.01274135522544384\n",
       "feature_vector: -0.002472484949976206\n",
       "feature_vector: -0.08302117884159088\n",
       "feature_vector: -0.01105219591408968\n",
       "feature_vector: -0.00398510554805398\n",
       "feature_vector: -0.013989592902362347\n",
       "feature_vector: 0.03688454255461693\n",
       "feature_vector: -0.023492155596613884\n",
       "feature_vector: -0.00948218535631895\n",
       "feature_vector: 0.01639019511640072\n",
       "feature_vector: 0.010919391177594662\n",
       "feature_vector: -0.023880967870354652\n",
       "feature_vector: 0.008770502172410488\n",
       "feature_vector: 0.004304715432226658\n",
       "feature_vector: -0.00750420056283474\n",
       "feature_vector: 0.008054833859205246\n",
       "feature_vector: -0.048615459352731705\n",
       "feature_vector: 0.027425777167081833\n",
       "feature_vector: -0.03647628799080849\n",
       "feature_vector: 0.01093071699142456\n",
       "feature_vector: -0.008504699915647507\n",
       "feature_vector: -0.019130486994981766\n",
       "feature_vector: 0.037999026477336884\n",
       "feature_vector: -0.04585428908467293\n",
       "feature_vector: -0.01860451139509678\n",
       "feature_vector: 0.008449533954262733\n",
       "feature_vector: 0.038881298154592514\n",
       "feature_vector: 0.05302789434790611\n",
       "feature_vector: 0.06555036455392838\n",
       "feature_vector: -0.0319952629506588\n",
       "feature_vector: -0.0504995658993721\n",
       "feature_vector: -0.03681736811995506\n",
       "feature_vector: -0.0021444070152938366\n",
       "feature_vector: 0.020751258358359337\n",
       "feature_vector: -0.016269782558083534\n",
       "feature_vector: -0.06215117499232292\n",
       "feature_vector: -0.037863586097955704\n",
       "feature_vector: 0.0072958823293447495\n",
       "feature_vector: 0.017112018540501595\n",
       "feature_vector: -0.00675783958286047\n",
       "feature_vector: 0.01785215735435486\n",
       "feature_vector: -0.04576481133699417\n",
       "feature_vector: 0.026140384376049042\n",
       "feature_vector: -0.01526148896664381\n",
       "feature_vector: 0.03206057474017143\n",
       "feature_vector: 0.07337257266044617\n",
       "feature_vector: -0.015562862157821655\n",
       "feature_vector: 0.020521653816103935\n",
       "feature_vector: -0.03198229521512985\n",
       "feature_vector: 0.05947759374976158\n",
       "feature_vector: 0.04397450014948845\n",
       "feature_vector: 0.038735777139663696\n",
       "feature_vector: 0.021143900230526924\n",
       "feature_vector: 0.06635948270559311\n",
       "feature_vector: -0.03593386337161064\n",
       "feature_vector: -0.012282333336770535\n",
       "feature_vector: 0.02608206309378147\n",
       "feature_vector: 0.058438174426555634\n",
       "feature_vector: 0.06348999589681625\n",
       "feature_vector: 0.003285213839262724\n",
       "feature_vector: -0.012209409847855568\n",
       "feature_vector: -0.04287107288837433\n",
       "feature_vector: -0.016184145584702492\n",
       "feature_vector: 0.05920766666531563\n",
       "feature_vector: -0.007510741241276264\n",
       "feature_vector: -0.05632312595844269\n",
       "feature_vector: 0.0005935426452197134\n",
       "feature_vector: 0.0150073217228055\n",
       "feature_vector: 0.04548623785376549\n",
       "feature_vector: -0.01569279097020626\n",
       "feature_vector: -0.005280852317810059\n",
       "feature_vector: -0.020522138103842735\n",
       "feature_vector: -0.004132453352212906\n",
       "feature_vector: 0.050390180200338364\n",
       "feature_vector: 0.01590786501765251\n",
       "feature_vector: -0.073780857026577\n",
       "feature_vector: 0.007804197259247303\n",
       "feature_vector: 0.002405572682619095\n",
       "feature_vector: 0.027028489857912064\n",
       "feature_vector: 0.002095612697303295\n",
       "feature_vector: -0.04259519279003143\n",
       "feature_vector: 0.022881949320435524\n",
       "feature_vector: -0.03860269859433174\n",
       "feature_vector: -0.0025867875665426254\n",
       "feature_vector: 0.0609949454665184\n",
       "feature_vector: 0.025529058650135994\n",
       "feature_vector: -0.008921980857849121\n",
       "feature_vector: 0.0655512809753418\n",
       "feature_vector: -0.02688656747341156\n",
       "feature_vector: 0.009317259304225445\n",
       "feature_vector: -0.026220660656690598\n",
       "feature_vector: 0.012428343296051025\n",
       "feature_vector: 0.012195348739624023\n",
       "feature_vector: -0.06169867888092995\n",
       "feature_vector: 0.06406895816326141\n",
       "feature_vector: -0.029580701142549515\n",
       "feature_vector: 0.008094178512692451\n",
       "feature_vector: -0.05897510051727295\n",
       "feature_vector: -0.04075346142053604\n",
       "feature_vector: 0.08989788591861725\n",
       "feature_vector: -0.05876680836081505\n",
       "restricts {\n",
       "  namespace: \"gse\"\n",
       "  allow_list: \"fannie\"\n",
       "}\n",
       "crowding_tag {\n",
       "  crowding_attribute: \"0\"\n",
       "}\n",
       "]"
      ]
     },
     "execution_count": 72,
     "metadata": {},
     "output_type": "execute_result"
    }
   ],
   "source": [
    "test.read_index_datapoints(\n",
    "    deployed_index_id = vs_index_tree_ah.display_name.replace('-', '_'),\n",
    "    ids = ['fannie_part_0_c40']\n",
    ")"
   ]
  },
  {
   "cell_type": "code",
   "execution_count": null,
   "id": "ce85ac28-0c6a-4aa1-acd8-b86b15993bdd",
   "metadata": {},
   "outputs": [],
   "source": []
  },
  {
   "cell_type": "code",
   "execution_count": null,
   "id": "3b1079ac-c973-47c7-95c6-5c3d5f697e81",
   "metadata": {},
   "outputs": [],
   "source": []
  },
  {
   "cell_type": "code",
   "execution_count": 80,
   "id": "8b029a4d-8c77-4f1f-9f83-200cd7ced1b0",
   "metadata": {
    "tags": []
   },
   "outputs": [
    {
     "ename": "AttributeError",
     "evalue": "'MatchingEngineIndexEndpoint' object has no attribute '_public_match_client'",
     "output_type": "error",
     "traceback": [
      "\u001b[0;31m---------------------------------------------------------------------------\u001b[0m",
      "\u001b[0;31mAttributeError\u001b[0m                            Traceback (most recent call last)",
      "Cell \u001b[0;32mIn[80], line 1\u001b[0m\n\u001b[0;32m----> 1\u001b[0m \u001b[43mvs_endpoint\u001b[49m\u001b[38;5;241;43m.\u001b[39;49m\u001b[43mfind_neighbors\u001b[49m\u001b[43m(\u001b[49m\n\u001b[1;32m      2\u001b[0m \u001b[43m    \u001b[49m\u001b[43mdeployed_index_id\u001b[49m\u001b[43m \u001b[49m\u001b[38;5;241;43m=\u001b[39;49m\u001b[43m \u001b[49m\u001b[43mvs_index_tree_ah\u001b[49m\u001b[38;5;241;43m.\u001b[39;49m\u001b[43mdisplay_name\u001b[49m\u001b[38;5;241;43m.\u001b[39;49m\u001b[43mreplace\u001b[49m\u001b[43m(\u001b[49m\u001b[38;5;124;43m'\u001b[39;49m\u001b[38;5;124;43m-\u001b[39;49m\u001b[38;5;124;43m'\u001b[39;49m\u001b[43m,\u001b[49m\u001b[43m \u001b[49m\u001b[38;5;124;43m'\u001b[39;49m\u001b[38;5;124;43m_\u001b[39;49m\u001b[38;5;124;43m'\u001b[39;49m\u001b[43m)\u001b[49m\u001b[43m,\u001b[49m\n\u001b[1;32m      3\u001b[0m \u001b[43m    \u001b[49m\u001b[43mqueries\u001b[49m\u001b[43m \u001b[49m\u001b[38;5;241;43m=\u001b[39;49m\u001b[43m \u001b[49m\u001b[43m[\u001b[49m\u001b[43mquestion_embedding\u001b[49m\u001b[43m[\u001b[49m\u001b[43m:\u001b[49m\u001b[43m]\u001b[49m\u001b[43m]\u001b[49m\n\u001b[1;32m      4\u001b[0m \u001b[43m)\u001b[49m\n",
      "File \u001b[0;32m~/.local/lib/python3.10/site-packages/google/cloud/aiplatform/matching_engine/matching_engine_index_endpoint.py:1463\u001b[0m, in \u001b[0;36mMatchingEngineIndexEndpoint.find_neighbors\u001b[0;34m(self, deployed_index_id, queries, num_neighbors, filter, per_crowding_attribute_neighbor_count, approx_num_neighbors, fraction_leaf_nodes_to_search_override, return_full_datapoint, numeric_filter, embedding_ids)\u001b[0m\n\u001b[1;32m   1377\u001b[0m \u001b[38;5;28;01mdef\u001b[39;00m \u001b[38;5;21mfind_neighbors\u001b[39m(\n\u001b[1;32m   1378\u001b[0m     \u001b[38;5;28mself\u001b[39m,\n\u001b[1;32m   1379\u001b[0m     \u001b[38;5;241m*\u001b[39m,\n\u001b[0;32m   (...)\u001b[0m\n\u001b[1;32m   1389\u001b[0m     embedding_ids: Optional[List[\u001b[38;5;28mstr\u001b[39m]] \u001b[38;5;241m=\u001b[39m \u001b[38;5;28;01mNone\u001b[39;00m,\n\u001b[1;32m   1390\u001b[0m ) \u001b[38;5;241m-\u001b[39m\u001b[38;5;241m>\u001b[39m List[List[MatchNeighbor]]:\n\u001b[1;32m   1391\u001b[0m \u001b[38;5;250m    \u001b[39m\u001b[38;5;124;03m\"\"\"Retrieves nearest neighbors for the given embedding queries on the\u001b[39;00m\n\u001b[1;32m   1392\u001b[0m \u001b[38;5;124;03m    specified deployed index which is deployed to either public or private\u001b[39;00m\n\u001b[1;32m   1393\u001b[0m \u001b[38;5;124;03m    endpoint.\u001b[39;00m\n\u001b[0;32m   (...)\u001b[0m\n\u001b[1;32m   1460\u001b[0m \u001b[38;5;124;03m        List[List[MatchNeighbor]] - A list of nearest neighbors for each query.\u001b[39;00m\n\u001b[1;32m   1461\u001b[0m \u001b[38;5;124;03m    \"\"\"\u001b[39;00m\n\u001b[0;32m-> 1463\u001b[0m     \u001b[38;5;28;01mif\u001b[39;00m \u001b[38;5;129;01mnot\u001b[39;00m \u001b[38;5;28;43mself\u001b[39;49m\u001b[38;5;241;43m.\u001b[39;49m\u001b[43m_public_match_client\u001b[49m:\n\u001b[1;32m   1464\u001b[0m         \u001b[38;5;66;03m# Private endpoint\u001b[39;00m\n\u001b[1;32m   1465\u001b[0m         \u001b[38;5;28;01mreturn\u001b[39;00m \u001b[38;5;28mself\u001b[39m\u001b[38;5;241m.\u001b[39mmatch(\n\u001b[1;32m   1466\u001b[0m             deployed_index_id\u001b[38;5;241m=\u001b[39mdeployed_index_id,\n\u001b[1;32m   1467\u001b[0m             queries\u001b[38;5;241m=\u001b[39mqueries,\n\u001b[0;32m   (...)\u001b[0m\n\u001b[1;32m   1473\u001b[0m             numeric_filter\u001b[38;5;241m=\u001b[39mnumeric_filter,\n\u001b[1;32m   1474\u001b[0m         )\n\u001b[1;32m   1476\u001b[0m     \u001b[38;5;66;03m# Create the FindNeighbors request\u001b[39;00m\n",
      "\u001b[0;31mAttributeError\u001b[0m: 'MatchingEngineIndexEndpoint' object has no attribute '_public_match_client'"
     ]
    }
   ],
   "source": [
    "vs_endpoint.find_neighbors(\n",
    "    deployed_index_id = vs_index_tree_ah.display_name.replace('-', '_'),\n",
    "    queries = [question_embedding[:]]\n",
    ")"
   ]
  },
  {
   "cell_type": "code",
   "execution_count": null,
   "id": "bcc05d84-9a97-4494-bede-915dfa30f4b1",
   "metadata": {},
   "outputs": [],
   "source": []
  },
  {
   "cell_type": "code",
   "execution_count": null,
   "id": "cabdb4bb-093b-4288-aa45-3fc59bb0950c",
   "metadata": {},
   "outputs": [],
   "source": []
  },
  {
   "cell_type": "code",
   "execution_count": null,
   "id": "b5c09446-3196-4b61-aa61-6f5aae174c3b",
   "metadata": {},
   "outputs": [],
   "source": []
  },
  {
   "cell_type": "code",
   "execution_count": null,
   "id": "b482433a-e1fb-47bf-b04e-2f34002b1c3f",
   "metadata": {},
   "outputs": [],
   "source": []
  },
  {
   "cell_type": "code",
   "execution_count": null,
   "id": "5f6cadf3-3b84-468b-91f5-b7f835296fd0",
   "metadata": {},
   "outputs": [],
   "source": []
  },
  {
   "cell_type": "code",
   "execution_count": null,
   "id": "edc4e2f7-3355-41aa-bcc5-f673eb1fe990",
   "metadata": {},
   "outputs": [],
   "source": []
  },
  {
   "cell_type": "code",
   "execution_count": null,
   "id": "ffe8128d-d206-4ffa-888a-99c57bf5f61a",
   "metadata": {},
   "outputs": [],
   "source": []
  },
  {
   "cell_type": "code",
   "execution_count": null,
   "id": "9d24c5c2-c588-4aa6-90fd-3cd6b92dba01",
   "metadata": {},
   "outputs": [],
   "source": []
  },
  {
   "cell_type": "code",
   "execution_count": null,
   "id": "4b7b10b7-b914-4d4e-b674-1af5be4ed445",
   "metadata": {},
   "outputs": [],
   "source": []
  },
  {
   "cell_type": "code",
   "execution_count": null,
   "id": "ea1332db-eb4f-4618-98d3-dad842f3e90e",
   "metadata": {},
   "outputs": [],
   "source": []
  },
  {
   "cell_type": "markdown",
   "id": "3c698479-ef35-43b4-86cb-e2547e467e5b",
   "metadata": {},
   "source": [
    "---\n",
    "## Simple RAG Using Vertex AI Vector Search For Retrieval"
   ]
  },
  {
   "cell_type": "code",
   "execution_count": null,
   "id": "878b6c2c-987c-4478-b7da-d4566750c2ba",
   "metadata": {},
   "outputs": [],
   "source": []
  },
  {
   "cell_type": "code",
   "execution_count": null,
   "id": "ec10bc5c-a5d0-41de-af55-6513e0e2f13a",
   "metadata": {},
   "outputs": [],
   "source": []
  },
  {
   "cell_type": "markdown",
   "id": "226cad1b-18f5-4120-87e5-b6af492988ed",
   "metadata": {},
   "source": [
    "---\n",
    "## Remove Resources\n",
    "\n",
    "-undeploy index\n",
    "- delete endpoint\n",
    "- delete index\n",
    "- remove gcs\n",
    "\n",
    "gcs and fs"
   ]
  },
  {
   "cell_type": "code",
   "execution_count": 49,
   "id": "8df72131-c6f6-4b5b-a027-4e30b0047267",
   "metadata": {
    "tags": []
   },
   "outputs": [],
   "source": [
    "# undeploy indexes created above:\n",
    "#vs_endpoint.undeploy_index(deployed_index_id = vs_index_tree_ah.display_name.replace('-', '_'))\n",
    "#vs_endpoint.undeploy_index(deployed_index_id = vs_index_brute_force.display_name.replace('-', '_'))\n",
    "\n",
    "# delete the endpoint\n",
    "#vs_endpoint.delete(force = True)\n",
    "\n",
    "# delete the indexes\n",
    "#vs_index_tree_ah.delete()\n",
    "#vs_index_brute_force.delete()\n",
    "\n",
    "# delete the gcs content\n"
   ]
  },
  {
   "cell_type": "code",
   "execution_count": null,
   "id": "a5c54fe3-52b9-4cec-97cf-6032c188f9ab",
   "metadata": {},
   "outputs": [],
   "source": []
  }
 ],
 "metadata": {
  "environment": {
   "kernel": "conda-base-py",
   "name": "workbench-notebooks.m125",
   "type": "gcloud",
   "uri": "us-docker.pkg.dev/deeplearning-platform-release/gcr.io/workbench-notebooks:m125"
  },
  "kernelspec": {
   "display_name": "Python 3 (ipykernel) (Local)",
   "language": "python",
   "name": "conda-base-py"
  },
  "language_info": {
   "codemirror_mode": {
    "name": "ipython",
    "version": 3
   },
   "file_extension": ".py",
   "mimetype": "text/x-python",
   "name": "python",
   "nbconvert_exporter": "python",
   "pygments_lexer": "ipython3",
   "version": "3.10.15"
  }
 },
 "nbformat": 4,
 "nbformat_minor": 5
}
