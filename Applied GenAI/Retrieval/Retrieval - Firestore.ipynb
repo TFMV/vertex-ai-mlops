{
 "cells": [
  {
   "cell_type": "markdown",
   "id": "e89180c9",
   "metadata": {},
   "source": [
    "![tracker](https://us-central1-vertex-ai-mlops-369716.cloudfunctions.net/pixel-tracking?path=statmike%2Fvertex-ai-mlops%2FApplied+GenAI%2FRetrieval&file=Retrieval+-+Firestore.ipynb)\n",
    "<!--- header table --->\n",
    "<table align=\"left\">\n",
    "  <td style=\"text-align: center\">\n",
    "    <a href=\"https://colab.research.google.com/github/statmike/vertex-ai-mlops/blob/main/Applied%20GenAI/Retrieval/Retrieval%20-%20Firestore.ipynb\">\n",
    "      <img src=\"https://cloud.google.com/ml-engine/images/colab-logo-32px.png\" alt=\"Google Colaboratory logo\">\n",
    "      <br>Run in<br>Colab\n",
    "    </a>\n",
    "  </td>\n",
    "  <td style=\"text-align: center\">\n",
    "    <a href=\"https://console.cloud.google.com/vertex-ai/colab/import/https%3A%2F%2Fraw.githubusercontent.com%2Fstatmike%2Fvertex-ai-mlops%2Fmain%2FApplied%2520GenAI%2FRetrieval%2FRetrieval%2520-%2520Firestore.ipynb\">\n",
    "      <img width=\"32px\" src=\"https://lh3.googleusercontent.com/JmcxdQi-qOpctIvWKgPtrzZdJJK-J3sWE1RsfjZNwshCFgE_9fULcNpuXYTilIR2hjwN\" alt=\"Google Cloud Colab Enterprise logo\">\n",
    "      <br>Run in<br>Colab Enterprise\n",
    "    </a>\n",
    "  </td>      \n",
    "  <td style=\"text-align: center\">\n",
    "    <a href=\"https://github.com/statmike/vertex-ai-mlops/blob/main/Applied%20GenAI/Retrieval/Retrieval%20-%20Firestore.ipynb\">\n",
    "      <img src=\"https://cloud.google.com/ml-engine/images/github-logo-32px.png\" alt=\"GitHub logo\">\n",
    "      <br>View on<br>GitHub\n",
    "    </a>\n",
    "  </td>\n",
    "  <td style=\"text-align: center\">\n",
    "    <a href=\"https://console.cloud.google.com/vertex-ai/workbench/deploy-notebook?download_url=https://raw.githubusercontent.com/statmike/vertex-ai-mlops/main/Applied%20GenAI/Retrieval/Retrieval%20-%20Firestore.ipynb\">\n",
    "      <img src=\"https://lh3.googleusercontent.com/UiNooY4LUgW_oTvpsNhPpQzsstV5W8F7rYgxgGBD85cWJoLmrOzhVs_ksK_vgx40SHs7jCqkTkCk=e14-rj-sc0xffffff-h130-w32\" alt=\"Vertex AI logo\">\n",
    "      <br>Open in<br>Vertex AI Workbench\n",
    "    </a>\n",
    "  </td>\n",
    "</table>"
   ]
  },
  {
   "cell_type": "markdown",
   "id": "96b0e8e6-d761-4540-9d09-8f0c4ce9a020",
   "metadata": {},
   "source": [
    "# Retrieval - Firestore\n",
    "<p style=\"font-size: 45px;\">IN PROGRESS - NOT COMPLETE</p>\n",
    "\n",
    "In prior workflows, a series of documents was [processed into chunks](../Chunking/readme.md), and for each chunk, [embeddings](../Embeddings/readme.md) were created:\n",
    "\n",
    "- Process: [Large Document Processing - Document AI Layout Parser](../Chunking/Large%20Document%20Processing%20-%20Document%20AI%20Layout%20Parser.ipynb)\n",
    "- Embed: [Vertex AI Text Embeddings API](../Embeddings/Vertex%20AI%20Text%20Embeddings%20API.ipynb)\n",
    "\n",
    "Retrieving chunks for a query involves calculating the embedding for the query and then using similarity metrics to find relevant chunks. A thorough review of similarity matching can be found in [The Math of Similarity](../Embeddings/The%20Math%20of%20Similarity.ipynb) - use dot product! As development moves from experiment to application, the process of storing and computing similarity is migrated to a [retrieval](./readme.md) system. This workflow is part of a [series of workflows exploring many retrieval systems](./readme.md).\n",
    "\n",
    "**Firestore For Storage, Indexing, And Search**\n",
    "\n",
    "[Firestore](https://cloud.google.com/firestore) is a fully managed, serverless document database on Google Cloud that scales automatically to meet any demand, without requiring partitioning or incurring downtime. It's ideal for mobile, web, and server development because it keeps data in sync across client apps with real-time listeners and offers offline support for mobile and web.\n",
    "\n",
    "- **Data Model:**  Firestore stores data in documents (similar to JSON) comprised of key-value pairs.  Keys (fields) are mapped to values of various supported data types. ([see the full list here](https://cloud.google.com/firestore/docs/concepts/data-types?hl=en)) ([Learn more about the data model](https://cloud.google.com/firestore/docs/data-model?hl=en))\n",
    "- **Flexible Structure:** Data is organized in a hierarchical structure where collections contain documents. Documents can be nested objects, and collections can have subcollections, providing flexibility in how you structure your data.\n",
    "- **BigQuery Integration:**  Firestore integrates directly with BigQuery, allowing you to stream data into BigQuery or export query results to Firestore. ([Learn more about BigQuery integration](https://cloud.google.com/firestore/docs/solutions/bigquery?hl=en))\n",
    "- **Generative AI Features:** Firestore offers integrated GenAI features, such as generating text embeddings and seamless integration with LangChain.\n",
    "- **Vector Similarity Search:** Firestore provides built-in vector similarity search with indexing for efficient nearest neighbor matching. ([Learn more about vector search](https://cloud.google.com/firestore/docs/vector-search?hl=en))\n",
    "\n",
    "**Use Case Data**\n",
    "\n",
    "Buying a home usually involves borrowing money from a lending institution, typically through a mortgage secured by the home's value. But how do these institutions manage the risks associated with such large loans, and how are lending standards established?\n",
    "\n",
    "In the United States, two government-sponsored enterprises (GSEs) play a vital role in the housing market:\n",
    "\n",
    "- Federal National Mortgage Association ([Fannie Mae](https://www.fanniemae.com/))\n",
    "- Federal Home Loan Mortgage Corporation ([Freddie Mac](https://www.freddiemac.com/))\n",
    "\n",
    "These GSEs purchase mortgages from lenders, enabling those lenders to offer more loans. This process also allows Fannie Mae and Freddie Mac to set standards for mortgages, ensuring they are responsible and borrowers are more likely to repay them. This system makes homeownership more affordable and stabilizes the housing market by maintaining a steady flow of liquidity for lenders and keeping interest rates controlled.\n",
    "\n",
    "However, navigating the complexities of these GSEs and their extensive servicing guides can be challenging.\n",
    "\n",
    "**Approaches**\n",
    "\n",
    "[This series](../readme.md) covers many generative AI workflows. These documents are used directly as long context for Gemini in the workflow [Long Context Retrieval With The Vertex AI Gemini API](../Generate/Long%20Context%20Retrieval%20With%20The%20Vertex%20AI%20Gemini%20API.ipynb). The workflow below uses a [retrieval](./readme.md) approach with the already generated chunks and embeddings."
   ]
  },
  {
   "cell_type": "markdown",
   "id": "be889472-69b0-416c-9cf1-edc9706fa5c5",
   "metadata": {
    "id": "od_UkDpvRmgD"
   },
   "source": [
    "---\n",
    "## Colab Setup\n",
    "\n",
    "When running this notebook in [Colab](https://colab.google/) or [Colab Enterprise](https://cloud.google.com/colab/docs/introduction), this section will authenticate to GCP (follow prompts in the popup) and set the current project for the session."
   ]
  },
  {
   "cell_type": "code",
   "execution_count": 1,
   "id": "21f75ba8-df50-466e-a5ec-f2a6dd88eb26",
   "metadata": {
    "executionInfo": {
     "elapsed": 195,
     "status": "ok",
     "timestamp": 1683726184843,
     "user": {
      "displayName": "Mike Henderson",
      "userId": "07691629187611687318"
     },
     "user_tz": 240
    },
    "id": "8UO9FnqyKBlF",
    "tags": []
   },
   "outputs": [],
   "source": [
    "PROJECT_ID = 'statmike-mlops-349915' # replace with project ID"
   ]
  },
  {
   "cell_type": "code",
   "execution_count": 2,
   "id": "9c325515-1ea0-45cc-82d3-a1bfb1c52155",
   "metadata": {
    "colab": {
     "base_uri": "https://localhost:8080/"
    },
    "executionInfo": {
     "elapsed": 68869,
     "status": "ok",
     "timestamp": 1683726253709,
     "user": {
      "displayName": "Mike Henderson",
      "userId": "07691629187611687318"
     },
     "user_tz": 240
    },
    "id": "N98-KK7LRkjm",
    "outputId": "09ec5008-0def-4e1a-c349-c598ee752f78",
    "tags": []
   },
   "outputs": [],
   "source": [
    "try:\n",
    "    from google.colab import auth\n",
    "    auth.authenticate_user()\n",
    "    !gcloud config set project {PROJECT_ID}\n",
    "except Exception:\n",
    "    pass"
   ]
  },
  {
   "cell_type": "markdown",
   "id": "055a4bd7-7b47-43ef-ba14-636c955e44e3",
   "metadata": {},
   "source": [
    "---\n",
    "## Installs and API Enablement\n",
    "\n",
    "The clients packages may need installing in this environment. "
   ]
  },
  {
   "cell_type": "markdown",
   "id": "410502ee-6fe3-4624-a69a-960ad7105f10",
   "metadata": {},
   "source": [
    "### Installs (If Needed)"
   ]
  },
  {
   "cell_type": "code",
   "execution_count": 3,
   "id": "f4dbdb83-3170-430c-b60d-3d686222a168",
   "metadata": {
    "tags": []
   },
   "outputs": [],
   "source": [
    "# tuples of (import name, install name, min_version)\n",
    "packages = [\n",
    "    ('google.cloud.aiplatform', 'google-cloud-aiplatform', '1.69.0'),\n",
    "    ('google.cloud.firestore', 'google-cloud-firestore')\n",
    "]\n",
    "\n",
    "import importlib\n",
    "install = False\n",
    "for package in packages:\n",
    "    if not importlib.util.find_spec(package[0]):\n",
    "        print(f'installing package {package[1]}')\n",
    "        install = True\n",
    "        !pip install {package[1]} -U -q --user\n",
    "    elif len(package) == 3:\n",
    "        if importlib.metadata.version(package[0]) < package[2]:\n",
    "            print(f'updating package {package[1]}')\n",
    "            install = True\n",
    "            !pip install {package[1]} -U -q --user"
   ]
  },
  {
   "cell_type": "markdown",
   "id": "25374857-7d37-4c84-8cbb-a3c2fc7bb065",
   "metadata": {},
   "source": [
    "### API Enablement"
   ]
  },
  {
   "cell_type": "code",
   "execution_count": 4,
   "id": "9b7300a8-7e3a-4a08-95c0-91186237753f",
   "metadata": {
    "tags": []
   },
   "outputs": [],
   "source": [
    "!gcloud services enable aiplatform.googleapis.com\n",
    "!gcloud services enable firestore.googleapis.com"
   ]
  },
  {
   "cell_type": "markdown",
   "id": "157d09ba-9774-495f-8ced-3382bf75be8f",
   "metadata": {},
   "source": [
    "### Restart Kernel (If Installs Occured)\n",
    "\n",
    "After a kernel restart the code submission can start with the next cell after this one."
   ]
  },
  {
   "cell_type": "code",
   "execution_count": 5,
   "id": "f9864153-66c8-43e1-ae96-1179632ccf7d",
   "metadata": {
    "tags": []
   },
   "outputs": [],
   "source": [
    "if install:\n",
    "    import IPython\n",
    "    app = IPython.Application.instance()\n",
    "    app.kernel.do_shutdown(True)\n",
    "    IPython.display.display(IPython.display.Markdown(\"\"\"<div class=\\\"alert alert-block alert-warning\\\">\n",
    "        <b>⚠️ The kernel is going to restart. Please wait until it is finished before continuing to the next step. The previous cells do not need to be run again⚠️</b>\n",
    "        </div>\"\"\"))"
   ]
  },
  {
   "cell_type": "markdown",
   "id": "09a1ab41-cb32-4398-86dc-d30effb88a36",
   "metadata": {
    "id": "appt8-yVRtJ1"
   },
   "source": [
    "---\n",
    "## Setup"
   ]
  },
  {
   "cell_type": "markdown",
   "id": "2cebe11b-9ca1-4f3e-aa78-78640ff01ec8",
   "metadata": {
    "id": "63mx2EozRxFP"
   },
   "source": [
    "Inputs"
   ]
  },
  {
   "cell_type": "code",
   "execution_count": 6,
   "id": "ab2239cd-40ab-416d-bac0-0c6953d911b6",
   "metadata": {
    "colab": {
     "base_uri": "https://localhost:8080/",
     "height": 35
    },
    "executionInfo": {
     "elapsed": 2124,
     "status": "ok",
     "timestamp": 1683726390544,
     "user": {
      "displayName": "Mike Henderson",
      "userId": "07691629187611687318"
     },
     "user_tz": 240
    },
    "id": "xzcoXjM5Rky5",
    "outputId": "b3bdcbc1-70d5-472e-aea2-42c74a42efde",
    "tags": []
   },
   "outputs": [
    {
     "data": {
      "text/plain": [
       "'statmike-mlops-349915'"
      ]
     },
     "execution_count": 6,
     "metadata": {},
     "output_type": "execute_result"
    }
   ],
   "source": [
    "project = !gcloud config get-value project\n",
    "PROJECT_ID = project[0]\n",
    "PROJECT_ID"
   ]
  },
  {
   "cell_type": "code",
   "execution_count": 7,
   "id": "8aa97f05-66e9-4276-b2e6-83b5a91ca50c",
   "metadata": {
    "executionInfo": {
     "elapsed": 2,
     "status": "ok",
     "timestamp": 1683726390712,
     "user": {
      "displayName": "Mike Henderson",
      "userId": "07691629187611687318"
     },
     "user_tz": 240
    },
    "id": "IxWrFtqYMfku",
    "tags": []
   },
   "outputs": [],
   "source": [
    "REGION = 'us-central1'\n",
    "SERIES = 'applied-genai'\n",
    "EXPERIMENT = 'retrieval-firestore'"
   ]
  },
  {
   "cell_type": "markdown",
   "id": "52bbf65b-5d29-4a72-84ae-d977b9a743a6",
   "metadata": {
    "id": "LuajVwCiO6Yg"
   },
   "source": [
    "Packages"
   ]
  },
  {
   "cell_type": "code",
   "execution_count": 8,
   "id": "559f6e60-a594-4789-893b-295a8381b670",
   "metadata": {
    "executionInfo": {
     "elapsed": 17761,
     "status": "ok",
     "timestamp": 1683726409304,
     "user": {
      "displayName": "Mike Henderson",
      "userId": "07691629187611687318"
     },
     "user_tz": 240
    },
    "id": "LVC7zzSLRk2C",
    "tags": []
   },
   "outputs": [],
   "source": [
    "import os, json, time, glob, datetime\n",
    "\n",
    "import numpy as np\n",
    "\n",
    "# Vertex AI\n",
    "from google.cloud import aiplatform\n",
    "import vertexai.language_models # for embeddings API\n",
    "import vertexai.generative_models # for Gemini Models\n",
    "from vertexai.resources.preview import feature_store\n",
    "\n",
    "# firestore\n",
    "from google.cloud import firestore\n",
    "from google.cloud import firestore_v1\n",
    "from google.cloud import firestore_admin_v1"
   ]
  },
  {
   "cell_type": "code",
   "execution_count": 9,
   "id": "d3fef31f-928f-45f2-a3f4-292ee242232c",
   "metadata": {
    "tags": []
   },
   "outputs": [
    {
     "data": {
      "text/plain": [
       "'1.69.0'"
      ]
     },
     "execution_count": 9,
     "metadata": {},
     "output_type": "execute_result"
    }
   ],
   "source": [
    "aiplatform.__version__"
   ]
  },
  {
   "cell_type": "markdown",
   "id": "5758c07e-f064-40fb-a0ef-de6cbde5cd0a",
   "metadata": {
    "id": "EyAVFG9TO9H-"
   },
   "source": [
    "Clients"
   ]
  },
  {
   "cell_type": "code",
   "execution_count": 10,
   "id": "3b72f3bb-176b-4678-ba6b-df9b2de14997",
   "metadata": {
    "executionInfo": {
     "elapsed": 19,
     "status": "ok",
     "timestamp": 1683726409306,
     "user": {
      "displayName": "Mike Henderson",
      "userId": "07691629187611687318"
     },
     "user_tz": 240
    },
    "id": "L0RPE13LOZce",
    "tags": []
   },
   "outputs": [],
   "source": [
    "# vertex ai clients\n",
    "vertexai.init(project = PROJECT_ID, location = REGION)\n",
    "\n",
    "# firestore clients\n",
    "fs = firestore.Client(project = PROJECT_ID)\n",
    "fs_admin = firestore_admin_v1.FirestoreAdminClient()"
   ]
  },
  {
   "cell_type": "markdown",
   "id": "8579282f-2723-4294-b72a-a65cc0831f44",
   "metadata": {},
   "source": [
    "---\n",
    "## Text & Embeddings For Examples\n",
    "\n",
    "This repository contains a [section for document processing (chunking)](../Chunking/readme.md) that includes an example of processing mulitple large pdfs (over 1000 pages) into chunks: [Large Document Processing - Document AI Layout Parser](../Chunking/Large%20Document%20Processing%20-%20Document%20AI%20Layout%20Parser.ipynb).  The chunks of text from that workflow are stored with this repository and loaded by another companion workflow that augments the chunks with text embeddings: [Vertex AI Text Embeddings API](../Embeddings/Vertex%20AI%20Text%20Embeddings%20API.ipynb).\n",
    "\n",
    "The following code will load the version of the chunks that includes text embeddings and prepare it for a local example of retrival augmented generation."
   ]
  },
  {
   "cell_type": "markdown",
   "id": "1e12cbe2-3ca6-4656-9e73-c0db5c63bf50",
   "metadata": {},
   "source": [
    "### Get The Documents\n",
    "\n",
    "If you are working from a clone of this notebooks [repository](https://github.com/statmike/vertex-ai-mlops) then the documents are already present. The following cell checks for the documents folder and if it is missing gets it (`git clone`):"
   ]
  },
  {
   "cell_type": "code",
   "execution_count": 11,
   "id": "6f4e77ed-43f7-42be-9575-6a491c0d6cba",
   "metadata": {
    "tags": []
   },
   "outputs": [],
   "source": [
    "local_dir = '../Embeddings/files/embeddings-api'"
   ]
  },
  {
   "cell_type": "code",
   "execution_count": 12,
   "id": "63ebe7c3-e72c-4394-91c3-d60c05bc0ce2",
   "metadata": {
    "tags": []
   },
   "outputs": [
    {
     "name": "stdout",
     "output_type": "stream",
     "text": [
      "Documents Found in folder `../Embeddings/files/embeddings-api`\n"
     ]
    }
   ],
   "source": [
    "if not os.path.exists(local_dir):\n",
    "    print('Retrieving documents...')\n",
    "    parent_dir = os.path.dirname(local_dir)\n",
    "    temp_dir = os.path.join(parent_dir, 'temp')\n",
    "    if not os.path.exists(temp_dir):\n",
    "        os.makedirs(temp_dir)\n",
    "    !git clone https://www.github.com/statmike/vertex-ai-mlops {temp_dir}/vertex-ai-mlops\n",
    "    shutil.copytree(f'{temp_dir}/vertex-ai-mlops/Applied GenAI/Embeddings/files/embeddings-api', local_dir)\n",
    "    shutil.rmtree(temp_dir)\n",
    "    print(f'Documents are now in folder `{local_dir}`')\n",
    "else:\n",
    "    print(f'Documents Found in folder `{local_dir}`')             "
   ]
  },
  {
   "cell_type": "markdown",
   "id": "33e68a84-9f88-4590-9ff1-e01c8a953ccf",
   "metadata": {},
   "source": [
    "### Load The Chunks"
   ]
  },
  {
   "cell_type": "code",
   "execution_count": 13,
   "id": "58d04382-a74a-44ac-8824-3b46c86aa148",
   "metadata": {
    "tags": []
   },
   "outputs": [
    {
     "data": {
      "text/plain": [
       "['../Embeddings/files/embeddings-api/large-files-chunk-embeddings-0000.jsonl',\n",
       " '../Embeddings/files/embeddings-api/large-files-chunk-embeddings-0001.jsonl',\n",
       " '../Embeddings/files/embeddings-api/large-files-chunk-embeddings-0002.jsonl',\n",
       " '../Embeddings/files/embeddings-api/large-files-chunk-embeddings-0003.jsonl',\n",
       " '../Embeddings/files/embeddings-api/large-files-chunk-embeddings-0004.jsonl',\n",
       " '../Embeddings/files/embeddings-api/large-files-chunk-embeddings-0005.jsonl',\n",
       " '../Embeddings/files/embeddings-api/large-files-chunk-embeddings-0006.jsonl',\n",
       " '../Embeddings/files/embeddings-api/large-files-chunk-embeddings-0007.jsonl',\n",
       " '../Embeddings/files/embeddings-api/large-files-chunk-embeddings-0008.jsonl',\n",
       " '../Embeddings/files/embeddings-api/large-files-chunk-embeddings-0009.jsonl']"
      ]
     },
     "execution_count": 13,
     "metadata": {},
     "output_type": "execute_result"
    }
   ],
   "source": [
    "jsonl_files = glob.glob(f\"{local_dir}/large-files*.jsonl\")\n",
    "jsonl_files.sort()\n",
    "jsonl_files"
   ]
  },
  {
   "cell_type": "code",
   "execution_count": 14,
   "id": "a54c6c96-6c28-49bb-80be-5d46797dfe77",
   "metadata": {
    "tags": []
   },
   "outputs": [
    {
     "data": {
      "text/plain": [
       "9040"
      ]
     },
     "execution_count": 14,
     "metadata": {},
     "output_type": "execute_result"
    }
   ],
   "source": [
    "chunks = []\n",
    "for file in jsonl_files:\n",
    "    with open(file, 'r') as f:\n",
    "        chunks.extend([json.loads(line) for line in f])\n",
    "len(chunks)"
   ]
  },
  {
   "cell_type": "markdown",
   "id": "a70115ec-6d60-41df-b7e6-9e2e5b463b1d",
   "metadata": {},
   "source": [
    "### Review A Chunk"
   ]
  },
  {
   "cell_type": "code",
   "execution_count": 15,
   "id": "fc20423e-e3d6-4e90-9e98-a5248508c82d",
   "metadata": {
    "tags": []
   },
   "outputs": [
    {
     "data": {
      "text/plain": [
       "dict_keys(['instance', 'predictions', 'status'])"
      ]
     },
     "execution_count": 15,
     "metadata": {},
     "output_type": "execute_result"
    }
   ],
   "source": [
    "chunks[0].keys()"
   ]
  },
  {
   "cell_type": "code",
   "execution_count": 16,
   "id": "1955ea39-4ffc-4d30-b653-a5a9911f2dab",
   "metadata": {
    "tags": []
   },
   "outputs": [
    {
     "data": {
      "text/plain": [
       "'fannie_part_0_c17'"
      ]
     },
     "execution_count": 16,
     "metadata": {},
     "output_type": "execute_result"
    }
   ],
   "source": [
    "chunks[0]['instance']['chunk_id']"
   ]
  },
  {
   "cell_type": "code",
   "execution_count": 17,
   "id": "3537982c-4a0e-456c-a652-19ea7507873b",
   "metadata": {
    "tags": []
   },
   "outputs": [
    {
     "name": "stdout",
     "output_type": "stream",
     "text": [
      "# Selling Guide Fannie Mae Single Family\n",
      "\n",
      "## Fannie Mae Copyright Notice\n",
      "\n",
      "### Fannie Mae Copyright Notice\n",
      "\n",
      "|-|\n",
      "| Section B3-4.2, Verification of Depository Assets 402 |\n",
      "| B3-4.2-01, Verification of Deposits and Assets (05/04/2022) 403 |\n",
      "| B3-4.2-02, Depository Accounts (12/14/2022) 405 |\n",
      "| B3-4.2-03, Individual Development Accounts (02/06/2019) 408 |\n",
      "| B3-4.2-04, Pooled Savings (Community Savings Funds) (04/01/2009) 411 |\n",
      "| B3-4.2-05, Foreign Assets (05/04/2022) 411 |\n",
      "| Section B3-4.3, Verification of Non-Depository Assets 412 |\n",
      "| B3-4.3-01, Stocks, Stock Options, Bonds, and Mutual Funds (06/30/2015) 412 |\n",
      "| B3-4.3-02, Trust Accounts (04/01/2009) 413 |\n",
      "| B3-4.3-03, Retirement Accounts (06/30/2015) 414 |\n",
      "| B3-4.3-04, Personal Gifts (09/06/2023) 415 |\n",
      "| B3-4.3-05, Gifts of Equity (10/07/2020) 418 |\n",
      "| B3-4.3-06, Grants and Lender Contributions (12/14/2022) 419 |\n",
      "| B3-4.3-07, Disaster Relief Grants or Loans (04/01/2009) 423 |\n",
      "| B3-4.3-08, Employer Assistance (09/29/2015) 423 |\n",
      "| B3-4.3-09, Earnest Money Deposit (05/04/2022) 425 |\n",
      "| B3-4.3-10, Anticipated Sales Proceeds (02/23/2016) B3-4.3-11, Trade Equity (12/16/2020) 426 428 |\n",
      "| B3-4.3-12, Rent-Related Credits (08/07/2024) 429 |\n",
      "| B3-4.3-13, Sweat Equity (04/15/2014) 430 |\n",
      "| B3-4.3-14, Bridge/Swing Loans (04/01/2009) 431 |\n",
      "| B3-4.3-15, Borrowed Funds Secured by an Asset (10/30/2009) 431 |\n",
      "|  |\n",
      "\n",
      "\n"
     ]
    }
   ],
   "source": [
    "print(chunks[0]['instance']['content'])"
   ]
  },
  {
   "cell_type": "code",
   "execution_count": 18,
   "id": "49f06293-a439-436b-bc93-cd6cd3fb4aff",
   "metadata": {
    "tags": []
   },
   "outputs": [
    {
     "data": {
      "text/plain": [
       "[0.031277116388082504,\n",
       " 0.03056905046105385,\n",
       " 0.010865348391234875,\n",
       " 0.0623614676296711,\n",
       " 0.03228681534528732,\n",
       " 0.05066155269742012,\n",
       " 0.046544693410396576,\n",
       " 0.05509665608406067,\n",
       " -0.014074751175940037,\n",
       " 0.008380400016903877]"
      ]
     },
     "execution_count": 18,
     "metadata": {},
     "output_type": "execute_result"
    }
   ],
   "source": [
    "chunks[0]['predictions'][0]['embeddings']['values'][0:10]"
   ]
  },
  {
   "cell_type": "markdown",
   "id": "f977358d-d9ea-4172-9eca-66079bb6087d",
   "metadata": {},
   "source": [
    "### Prepare Chunk Structure\n",
    "\n",
    "Make a list of dictionaries with information for each chunk:"
   ]
  },
  {
   "cell_type": "code",
   "execution_count": 19,
   "id": "be9fa708-130c-4343-b179-dbde0b09a972",
   "metadata": {
    "tags": []
   },
   "outputs": [],
   "source": [
    "content_chunks = [\n",
    "    dict(\n",
    "        gse = chunk['instance']['gse'],\n",
    "        chunk_id = chunk['instance']['chunk_id'],\n",
    "        content = chunk['instance']['content'],\n",
    "        embedding = chunk['predictions'][0]['embeddings']['values']\n",
    "    ) for chunk in chunks\n",
    "]"
   ]
  },
  {
   "cell_type": "markdown",
   "id": "d6619605-7b10-444e-a131-db06e56a4be8",
   "metadata": {},
   "source": [
    "### Query Embedding\n",
    "\n",
    "Create a query, or prompt, and get the embedding for it:\n",
    "\n",
    "Connect to models for text embeddings. Learn more about the model API:\n",
    "- [Vertex AI Text Embeddings API](../Embeddings/Vertex%20AI%20Text%20Embeddings%20API.ipynb)"
   ]
  },
  {
   "cell_type": "code",
   "execution_count": 20,
   "id": "3da5d30c-3dfb-42ba-a133-83dceb252787",
   "metadata": {
    "tags": []
   },
   "outputs": [],
   "source": [
    "question = \"Does a lender have to perform servicing functions directly?\""
   ]
  },
  {
   "cell_type": "code",
   "execution_count": 21,
   "id": "7992c26f-d058-4920-80a3-a157b88733e4",
   "metadata": {
    "tags": []
   },
   "outputs": [],
   "source": [
    "embedder = vertexai.language_models.TextEmbeddingModel.from_pretrained('text-embedding-004')"
   ]
  },
  {
   "cell_type": "code",
   "execution_count": 22,
   "id": "bbe6fda7-9cea-49a2-9e2f-9222d50677af",
   "metadata": {
    "tags": []
   },
   "outputs": [
    {
     "data": {
      "text/plain": [
       "[-0.0005117303808219731,\n",
       " 0.009651427157223225,\n",
       " 0.01768726110458374,\n",
       " 0.014538003131747246,\n",
       " -0.01829824410378933,\n",
       " 0.027877431362867355,\n",
       " -0.021124685183167458,\n",
       " 0.008830446749925613,\n",
       " -0.02669006586074829,\n",
       " 0.06414774805307388]"
      ]
     },
     "execution_count": 22,
     "metadata": {},
     "output_type": "execute_result"
    }
   ],
   "source": [
    "question_embedding = embedder.get_embeddings([question])[0].values\n",
    "question_embedding[0:10]"
   ]
  },
  {
   "cell_type": "markdown",
   "id": "0b6ec209-b34a-4837-8c54-a991ad831764",
   "metadata": {},
   "source": [
    "---\n",
    "## Retrieval With Firestore\n",
    "\n",
    "\n",
    "Firestore structure:\n",
    "\n",
    "database of which there is a `default` which includes a free qouta per month\n",
    "https://cloud.google.com/firestore/docs/manage-databases#the_default_database\n",
    "https://cloud.google.com/firestore/quotas#free-quota\n",
    "\n",
    "collections are groups of doucments in a database - like a container or folder\n",
    "https://cloud.google.com/firestore/docs/data-model#collections\n",
    "\n",
    "and then the actual piece of data, the document which can have a nested structure itself\n",
    "https://cloud.google.com/firestore/docs/data-model#documents\n",
    "\n",
    "\n",
    "\n",
    "\n",
    "https://cloud.google.com/python/docs/reference/firestore/latest/google.cloud.firestore_v1.client.Client"
   ]
  },
  {
   "cell_type": "markdown",
   "id": "508888e3-16ac-4e12-95ed-efb5d1b18a36",
   "metadata": {},
   "source": [
    "### Prepare Data For Firestore\n",
    "\n",
    "Basically, think dictionary or JSON, with `key:value` pairs and nesting is supported.  Read more about [data structure](https://cloud.google.com/firestore/docs/concepts/structure-data) and [supported data types](https://cloud.google.com/firestore/docs/concepts/data-types)."
   ]
  },
  {
   "cell_type": "code",
   "execution_count": 23,
   "id": "a11643a6-a8ed-4757-85e8-efa2a55b772b",
   "metadata": {
    "tags": []
   },
   "outputs": [],
   "source": [
    "input_data = [\n",
    "    dict(\n",
    "        id = chunk['instance']['chunk_id'],\n",
    "        embedding = firestore_v1.vector.Vector(chunk['predictions'][0]['embeddings']['values']),\n",
    "        gse = chunk['instance']['gse'],\n",
    "        content = chunk['instance']['content']\n",
    "    ) for chunk in chunks\n",
    "]"
   ]
  },
  {
   "cell_type": "markdown",
   "id": "a97ab0c8-57ce-40bc-bde0-6936d13dd7d1",
   "metadata": {},
   "source": [
    "### Setup Firestore\n",
    "\n",
    "If this is the first time using Firestore in the GCP project then the default database will need to be setup.  There are two approach to this: console and admin client:\n",
    "\n",
    "**Console**\n",
    "\n",
    "Read about the steps [here](https://cloud.google.com/firestore/docs/create-database-server-client-library#create_a_in_native_mode_database).\n",
    "- Go to the [Firestore Viewer](https://console.cloud.google.com/firestore/data)\n",
    "- If a Database ID value of **(default)** is present then Firebase is already setup for this workflow, otherwise:\n",
    "    - Select **Create Database**\n",
    "        - In 'Select your Firestore mode' Choose **Native mode (recommended)** and then click **Continue**\n",
    "        - In `Configure your database` leave the `Database ID` as **(default)** and then click **Create Database**\n",
    "            - Location Type: Choose a Region or Multi-region or leave the defaulted values\n",
    "            \n",
    "**Admin Client**\n",
    "\n",
    "The code below will use the admin client to first try to retrieve the `default` database and if it is missing will initiate and wait on its creation."
   ]
  },
  {
   "cell_type": "code",
   "execution_count": 25,
   "id": "fb02a761-3620-48b1-b5ec-40d8f77aa9d5",
   "metadata": {
    "tags": []
   },
   "outputs": [
    {
     "name": "stdout",
     "output_type": "stream",
     "text": [
      "Creating the `default` database...\n",
      "Waiting on creation to complete...\n",
      "Created the `default` database: projects/statmike-mlops-349915/databases/(default)\n"
     ]
    }
   ],
   "source": [
    "try:\n",
    "    database = fs_admin.get_database(name = f'projects/{PROJECT_ID}/databases/(default)')\n",
    "    print(f\"Found the `default` database: {database.name}\")\n",
    "except Exception:\n",
    "    print(f\"Creating the `default` database...\")\n",
    "    create_db = fs_admin.create_database(\n",
    "        request = firestore_admin_v1.types.CreateDatabaseRequest(\n",
    "            parent = f\"projects/{PROJECT_ID}\",\n",
    "            database_id = '(default)',\n",
    "            database = firestore_admin_v1.types.database.Database(\n",
    "                type_ = firestore_admin_v1.types.database.Database.DatabaseType.FIRESTORE_NATIVE,\n",
    "                location_id = REGION\n",
    "            )\n",
    "        )\n",
    "    )\n",
    "    print('Waiting on creation to complete...')\n",
    "    create_db.result()\n",
    "    database = fs_admin.get_database(name = f'projects/{PROJECT_ID}/databases/(default)')\n",
    "    print(f'Created the `default` database: {database.name}')"
   ]
  },
  {
   "cell_type": "code",
   "execution_count": 26,
   "id": "439b5060-7150-4a91-a894-fed49446181c",
   "metadata": {
    "tags": []
   },
   "outputs": [
    {
     "data": {
      "text/plain": [
       "name: \"projects/statmike-mlops-349915/databases/(default)\"\n",
       "uid: \"b29a6d74-7ad0-4232-9850-519e3471912b\"\n",
       "create_time {\n",
       "  seconds: 1729703138\n",
       "  nanos: 163054000\n",
       "}\n",
       "update_time {\n",
       "  seconds: 1729703138\n",
       "  nanos: 163054000\n",
       "}\n",
       "location_id: \"us-central1\"\n",
       "type_: FIRESTORE_NATIVE\n",
       "concurrency_mode: PESSIMISTIC\n",
       "version_retention_period {\n",
       "  seconds: 3600\n",
       "}\n",
       "earliest_version_time {\n",
       "  seconds: 1729703138\n",
       "  nanos: 163054000\n",
       "}\n",
       "app_engine_integration_mode: DISABLED\n",
       "point_in_time_recovery_enablement: POINT_IN_TIME_RECOVERY_DISABLED\n",
       "delete_protection_state: DELETE_PROTECTION_DISABLED\n",
       "etag: \"IKy2x6v+pIkDMO7y96j+pIkD\""
      ]
     },
     "execution_count": 26,
     "metadata": {},
     "output_type": "execute_result"
    }
   ],
   "source": [
    "database"
   ]
  },
  {
   "cell_type": "markdown",
   "id": "f8b4d763-90f5-41fe-9399-47e496ca059d",
   "metadata": {},
   "source": [
    "### Create/Retrieve Collection\n",
    "\n",
    "The client is setup above without a specific database reference which will defer to the `default` database."
   ]
  },
  {
   "cell_type": "code",
   "execution_count": 27,
   "id": "6b3b870e-9a3f-49fe-8ee6-20581125a6a6",
   "metadata": {
    "tags": []
   },
   "outputs": [],
   "source": [
    "collection = fs.collection(f'{SERIES}-{EXPERIMENT}')\n",
    "doc_list = collection.limit(1).get()"
   ]
  },
  {
   "cell_type": "code",
   "execution_count": 28,
   "id": "b4f3f741-9f76-40dc-807a-633856a2d363",
   "metadata": {
    "tags": []
   },
   "outputs": [
    {
     "name": "stdout",
     "output_type": "stream",
     "text": [
      "Collection 'applied-genai-retrieval-firestore' does not exist.\n"
     ]
    }
   ],
   "source": [
    "if doc_list:\n",
    "    print(f\"Collection '{collection.id}' exists.\")\n",
    "else:\n",
    "    print(f\"Collection '{collection.id}' does not exist.\")"
   ]
  },
  {
   "cell_type": "markdown",
   "id": "c799197f-8231-4f50-afdf-ff202611b466",
   "metadata": {},
   "source": [
    "### Add/Retrieve First Document In The Collection\n",
    "\n",
    "From the collection object you can refer to a `.document('name')` object by name, even prior to creating it.  From this document object you can add its data to the database with `.set()`, update its contents with `.update` and remove the document with `.delete()`. "
   ]
  },
  {
   "cell_type": "code",
   "execution_count": 46,
   "id": "291d3ec8-5f8e-486e-a7e9-ad25eae3fe27",
   "metadata": {
    "tags": []
   },
   "outputs": [],
   "source": [
    "document = collection.document(input_data[0]['id'])\n",
    "if not doc_list:\n",
    "    document.set(input_data[0])\n",
    "    document = document.get()\n",
    "else:\n",
    "    document = document.get()"
   ]
  },
  {
   "cell_type": "code",
   "execution_count": 47,
   "id": "b66e673c-b0b9-4a06-a7d3-1c2ca7d36559",
   "metadata": {
    "tags": []
   },
   "outputs": [
    {
     "data": {
      "text/plain": [
       "dict_keys(['embedding', 'content', 'id', 'gse'])"
      ]
     },
     "execution_count": 47,
     "metadata": {},
     "output_type": "execute_result"
    }
   ],
   "source": [
    "local_document = document.to_dict()\n",
    "local_document.keys()"
   ]
  },
  {
   "cell_type": "code",
   "execution_count": 48,
   "id": "00d7fee2-e0ba-4b17-afd9-ebf10191c732",
   "metadata": {
    "tags": []
   },
   "outputs": [
    {
     "name": "stdout",
     "output_type": "stream",
     "text": [
      "fannie\n"
     ]
    }
   ],
   "source": [
    "print(local_document['gse'])"
   ]
  },
  {
   "cell_type": "code",
   "execution_count": 49,
   "id": "8680c952-7b2e-43d0-965c-c8b493cbac5f",
   "metadata": {
    "tags": []
   },
   "outputs": [
    {
     "name": "stdout",
     "output_type": "stream",
     "text": [
      "# Selling Guide Fannie Mae Single Family\n",
      "\n",
      "## Fannie Mae Copyright Notice\n",
      "\n",
      "### Fannie Mae Copyright Notice\n",
      "\n",
      "|-|\n",
      "| Section B3-4.2, Verification of Depository Assets 402 |\n",
      "| B3-4.2-01, Verification of Deposits and Assets (05/04/2022) 403 |\n",
      "| B3-4.2-02, Depository Accounts (12/14/2022) 405 |\n",
      "| B3-4.2-03, Individual Development Accounts (02/06/2019) 408 |\n",
      "| B3-4.2-04, Pooled Savings (Community Savings Funds) (04/01/2009) 411 |\n",
      "| B3-4.2-05, Foreign Assets (05/04/2022) 411 |\n",
      "| Section B3-4.3, Verification of Non-Depository Assets 412 |\n",
      "| B3-4.3-01, Stocks, Stock Options, Bonds, and Mutual Funds (06/30/2015) 412 |\n",
      "| B3-4.3-02, Trust Accounts (04/01/2009) 413 |\n",
      "| B3-4.3-03, Retirement Accounts (06/30/2015) 414 |\n",
      "| B3-4.3-04, Personal Gifts (09/06/2023) 415 |\n",
      "| B3-4.3-05, Gifts of Equity (10/07/2020) 418 |\n",
      "| B3-4.3-06, Grants and Lender Contributions (12/14/2022) 419 |\n",
      "| B3-4.3-07, Disaster Relief Grants or Loans (04/01/2009) 423 |\n",
      "| B3-4.3-08, Employer Assistance (09/29/2015) 423 |\n",
      "| B3-4.3-09, Earnest Money Deposit (05/04/2022) 425 |\n",
      "| B3-4.3-10, Anticipated Sales Proceeds (02/23/2016) B3-4.3-11, Trade Equity (12/16/2020) 426 428 |\n",
      "| B3-4.3-12, Rent-Related Credits (08/07/2024) 429 |\n",
      "| B3-4.3-13, Sweat Equity (04/15/2014) 430 |\n",
      "| B3-4.3-14, Bridge/Swing Loans (04/01/2009) 431 |\n",
      "| B3-4.3-15, Borrowed Funds Secured by an Asset (10/30/2009) 431 |\n",
      "|  |\n",
      "\n",
      "\n"
     ]
    }
   ],
   "source": [
    "print(local_document['content'])"
   ]
  },
  {
   "cell_type": "markdown",
   "id": "3b7db4d6-4850-43f0-82c0-99918fe1218c",
   "metadata": {},
   "source": [
    "### Batch Add Documents To The Collection\n",
    "\n",
    "If only the first document is loaded then load the rest as a [batch](https://cloud.google.com/firestore/docs/manage-data/transactions#batched-writes).\n",
    "\n",
    ">Determining whether all documents have been loaded, as opposed to just the first, presents an interesting challenge. In a typical data source, you might perform a document/record count, but this operation is not feasible in Firestore, as it would necessitate reading all documents. If a total count is required, the entire collection could be streamed using `.stream()` and iterated over. However, a more efficient method is employed here: retrieving a maximum of two documents and checking if the result contains more than one. This approach is both fast and simple! Alternatively, a query could be made for the second document, and if it's missing, proceed to load it and any remaining documents.\n",
    "\n",
    "Any batch can contains documents with `.set()`, `.update()`, and `.delete()` actions."
   ]
  },
  {
   "cell_type": "code",
   "execution_count": 50,
   "id": "722f55aa-07a6-499f-bb08-800bc790076d",
   "metadata": {
    "tags": []
   },
   "outputs": [
    {
     "name": "stdout",
     "output_type": "stream",
     "text": [
      "Need to load the remaining documents...\n",
      "Completed batch number 1 of 100 records\n",
      "Completed batch number 2 of 100 records\n",
      "Completed batch number 3 of 100 records\n",
      "Completed batch number 4 of 100 records\n",
      "Completed batch number 5 of 100 records\n",
      "Completed batch number 6 of 100 records\n",
      "Completed batch number 7 of 100 records\n",
      "Completed batch number 8 of 100 records\n",
      "Completed batch number 9 of 100 records\n",
      "Completed batch number 10 of 100 records\n",
      "Completed batch number 11 of 100 records\n",
      "Completed batch number 12 of 100 records\n",
      "Completed batch number 13 of 100 records\n",
      "Completed batch number 14 of 100 records\n",
      "Completed batch number 15 of 100 records\n",
      "Completed batch number 16 of 100 records\n",
      "Completed batch number 17 of 100 records\n",
      "Completed batch number 18 of 100 records\n",
      "Completed batch number 19 of 100 records\n",
      "Completed batch number 20 of 100 records\n",
      "Completed batch number 21 of 100 records\n",
      "Completed batch number 22 of 100 records\n",
      "Completed batch number 23 of 100 records\n",
      "Completed batch number 24 of 100 records\n",
      "Completed batch number 25 of 100 records\n",
      "Completed batch number 26 of 100 records\n",
      "Completed batch number 27 of 100 records\n",
      "Completed batch number 28 of 100 records\n",
      "Completed batch number 29 of 100 records\n",
      "Completed batch number 30 of 100 records\n",
      "Completed batch number 31 of 100 records\n",
      "Completed batch number 32 of 100 records\n",
      "Completed batch number 33 of 100 records\n",
      "Completed batch number 34 of 100 records\n",
      "Completed batch number 35 of 100 records\n",
      "Completed batch number 36 of 100 records\n",
      "Completed batch number 37 of 100 records\n",
      "Completed batch number 38 of 100 records\n",
      "Completed batch number 39 of 100 records\n",
      "Completed batch number 40 of 100 records\n",
      "Completed batch number 41 of 100 records\n",
      "Completed batch number 42 of 100 records\n",
      "Completed batch number 43 of 100 records\n",
      "Completed batch number 44 of 100 records\n",
      "Completed batch number 45 of 100 records\n",
      "Completed batch number 46 of 100 records\n",
      "Completed batch number 47 of 100 records\n",
      "Completed batch number 48 of 100 records\n",
      "Completed batch number 49 of 100 records\n",
      "Completed batch number 50 of 100 records\n",
      "Completed batch number 51 of 100 records\n",
      "Completed batch number 52 of 100 records\n",
      "Completed batch number 53 of 100 records\n",
      "Completed batch number 54 of 100 records\n",
      "Completed batch number 55 of 100 records\n",
      "Completed batch number 56 of 100 records\n",
      "Completed batch number 57 of 100 records\n",
      "Completed batch number 58 of 100 records\n",
      "Completed batch number 59 of 100 records\n",
      "Completed batch number 60 of 100 records\n",
      "Completed batch number 61 of 100 records\n",
      "Completed batch number 62 of 100 records\n",
      "Completed batch number 63 of 100 records\n",
      "Completed batch number 64 of 100 records\n",
      "Completed batch number 65 of 100 records\n",
      "Completed batch number 66 of 100 records\n",
      "Completed batch number 67 of 100 records\n",
      "Completed batch number 68 of 100 records\n",
      "Completed batch number 69 of 100 records\n",
      "Completed batch number 70 of 100 records\n",
      "Completed batch number 71 of 100 records\n",
      "Completed batch number 72 of 100 records\n",
      "Completed batch number 73 of 100 records\n",
      "Completed batch number 74 of 100 records\n",
      "Completed batch number 75 of 100 records\n",
      "Completed batch number 76 of 100 records\n",
      "Completed batch number 77 of 100 records\n",
      "Completed batch number 78 of 100 records\n",
      "Completed batch number 79 of 100 records\n",
      "Completed batch number 80 of 100 records\n",
      "Completed batch number 81 of 100 records\n",
      "Completed batch number 82 of 100 records\n",
      "Completed batch number 83 of 100 records\n",
      "Completed batch number 84 of 100 records\n",
      "Completed batch number 85 of 100 records\n",
      "Completed batch number 86 of 100 records\n",
      "Completed batch number 87 of 100 records\n",
      "Completed batch number 88 of 100 records\n",
      "Completed batch number 89 of 100 records\n",
      "Completed batch number 90 of 100 records\n",
      "Completed batch number 91 of 39 records\n",
      "Documents loaded to the collection: 'applied-genai-retrieval-firestore'\n"
     ]
    }
   ],
   "source": [
    "doc_list = collection.limit(2).get()\n",
    "if len(doc_list) > 1:\n",
    "    print(f\"Documents already loaded to this collection '{collection.id}'.\")\n",
    "elif len(doc_list) == 1:\n",
    "    print(f\"Need to load the remaining documents...\")\n",
    "    \n",
    "    # load remaining documents as a series of batch write operations\n",
    "    batchsize = 100\n",
    "    for b, i in enumerate(range(1, len(input_data), batchsize)):\n",
    "        batch = fs.batch()\n",
    "        for record in input_data[i:i+batchsize]:\n",
    "            curr_doc = collection.document(record['id'])\n",
    "            batch.set(curr_doc, record)\n",
    "        batch.commit()\n",
    "        print(f\"Completed batch number {b+1} of {len(input_data[i:i+batchsize])} records\")\n",
    "    print(f\"Documents loaded to the collection: '{collection.id}'\")\n",
    "    \n",
    "else:\n",
    "    print(f\"Collection '{collection.id}' does not exist.\")"
   ]
  },
  {
   "cell_type": "markdown",
   "id": "90ee50bf-9701-4b86-8437-1c397fb24c66",
   "metadata": {},
   "source": [
    "**NOTE:** An alternative to batch is using asychronous tasks - [read more here](https://cloud.google.com/firestore/docs/create-database-server-client-library#add_data)."
   ]
  },
  {
   "cell_type": "markdown",
   "id": "39d7eaf6-b1a9-4eb6-a5a3-34cba02803d0",
   "metadata": {},
   "source": [
    "### Retrieve Embedding For Entity\n",
    "\n",
    "Retrieve an entry including embedding for a specific id (entity):"
   ]
  },
  {
   "cell_type": "code",
   "execution_count": 51,
   "id": "88a86e11-f5f8-4392-8333-fe7d729df187",
   "metadata": {
    "tags": []
   },
   "outputs": [],
   "source": [
    "result = collection.document('fannie_part_0_c40').get().to_dict()"
   ]
  },
  {
   "cell_type": "code",
   "execution_count": 52,
   "id": "5801b7ec-8cc1-41f4-be59-493139a023c9",
   "metadata": {
    "tags": []
   },
   "outputs": [
    {
     "data": {
      "text/plain": [
       "'fannie_part_0_c40'"
      ]
     },
     "execution_count": 52,
     "metadata": {},
     "output_type": "execute_result"
    }
   ],
   "source": [
    "result['id']"
   ]
  },
  {
   "cell_type": "code",
   "execution_count": 56,
   "id": "491c4b89-0262-46da-acf2-b3c73523cbf9",
   "metadata": {
    "tags": []
   },
   "outputs": [
    {
     "data": {
      "text/plain": [
       "[0.027678849175572395,\n",
       " -0.007303171791136265,\n",
       " 0.03341332823038101,\n",
       " 0.06296615302562714,\n",
       " -0.014549952000379562]"
      ]
     },
     "execution_count": 56,
     "metadata": {},
     "output_type": "execute_result"
    }
   ],
   "source": [
    "list(result['embedding'][0:5])"
   ]
  },
  {
   "cell_type": "code",
   "execution_count": 265,
   "id": "7131a280-dc35-40c9-9c46-861897676827",
   "metadata": {
    "tags": []
   },
   "outputs": [
    {
     "data": {
      "text/plain": [
       "'fannie'"
      ]
     },
     "execution_count": 265,
     "metadata": {},
     "output_type": "execute_result"
    }
   ],
   "source": [
    "result['gse']"
   ]
  },
  {
   "cell_type": "markdown",
   "id": "59bdbc8f-e6dd-4848-a2e5-2c4984acd78c",
   "metadata": {},
   "source": [
    "### Create Indexes\n",
    "\n",
    "https://cloud.google.com/firestore/docs/reference/rpc/google.firestore.admin.v1#google.firestore.admin.v1.CreateIndexRequest\n",
    "\n",
    "https://cloud.google.com/python/docs/reference/firestore/latest/google.cloud.firestore_admin_v1.services.firestore_admin.client.FirestoreAdminClient\n",
    "\n",
    "https://cloud.google.com/python/docs/reference/firestore/latest/google.cloud.firestore_admin_v1.services.firestore_admin.client.FirestoreAdminClient#google_cloud_firestore_admin_v1_services_firestore_admin_client_FirestoreAdminClient_create_index\n",
    "\n",
    "\n",
    "\n",
    "https://firebase.google.com/docs/firestore/vector-search\n",
    "\n",
    "\n",
    "idea:\n",
    "- create vector index\n",
    "- match with index\n",
    "- create commposite index\n",
    "- match with composite = pre-filter\n"
   ]
  },
  {
   "cell_type": "code",
   "execution_count": 268,
   "id": "c4b2b260-b6b2-4b9e-8f8c-843830bc76d1",
   "metadata": {
    "tags": []
   },
   "outputs": [
    {
     "data": {
      "text/plain": [
       "[]"
      ]
     },
     "execution_count": 268,
     "metadata": {},
     "output_type": "execute_result"
    }
   ],
   "source": [
    "indexes = list(fs_admin.list_indexes(\n",
    "    parent = f\"{database.name}/collectionGroups/{collection.id}\"\n",
    "))\n",
    "indexes"
   ]
  },
  {
   "cell_type": "code",
   "execution_count": 269,
   "id": "fb6a17e8-15fb-49a7-aba7-7eac62d0123e",
   "metadata": {
    "tags": []
   },
   "outputs": [
    {
     "name": "stdout",
     "output_type": "stream",
     "text": [
      "Creating an index for just the embedding ...\n",
      "\n"
     ]
    },
    {
     "data": {
      "text/plain": [
       "name: \"projects/statmike-mlops-349915/databases/(default)/collectionGroups/applied-genai-retrieval-firestore/indexes/CICAgJj7z4EK\"\n",
       "query_scope: COLLECTION\n",
       "fields {\n",
       "  field_path: \"__name__\"\n",
       "  order: ASCENDING\n",
       "}\n",
       "fields {\n",
       "  field_path: \"embedding\"\n",
       "  vector_config {\n",
       "    dimension: 768\n",
       "    flat {\n",
       "    }\n",
       "  }\n",
       "}\n",
       "state: READY"
      ]
     },
     "execution_count": 269,
     "metadata": {},
     "output_type": "execute_result"
    }
   ],
   "source": [
    "vector_index = next(\n",
    "    (index for index in indexes if {'embedding'} == {field.field_path for field in index.fields if field.field_path != '__name__'}),\n",
    "    None\n",
    ")\n",
    "\n",
    "if vector_index:\n",
    "    print(f'Found an index for just the embedding:\\n')\n",
    "else:\n",
    "    print(f'Creating an index for just the embedding ...\\n')\n",
    "    create_index = fs_admin.create_index(\n",
    "        request = firestore_admin_v1.types.CreateIndexRequest(\n",
    "            parent = f\"{database.name}/collectionGroups/{collection.id}\",\n",
    "            index = firestore_admin_v1.types.Index(\n",
    "                query_scope = firestore_admin_v1.types.Index.QueryScope.COLLECTION,\n",
    "                fields = [\n",
    "                    firestore_admin_v1.types.Index.IndexField(\n",
    "                        field_path = 'embedding',\n",
    "                        vector_config = firestore_admin_v1.types.Index.IndexField.VectorConfig(\n",
    "                            dimension = 768,\n",
    "                            flat = firestore_admin_v1.types.Index.IndexField.VectorConfig.FlatIndex()\n",
    "                        )\n",
    "                    ),\n",
    "                ]\n",
    "            )\n",
    "        )\n",
    "    )\n",
    "    index = create_index.result()\n",
    "    vector_index = fs_admin.get_index(name = index.name)\n",
    "\n",
    "vector_index"
   ]
  },
  {
   "cell_type": "code",
   "execution_count": 270,
   "id": "5eb173db-6c23-428e-bfda-27b6887cc860",
   "metadata": {
    "tags": []
   },
   "outputs": [],
   "source": [
    "matches = collection.find_nearest(\n",
    "    vector_field = 'embedding',\n",
    "    query_vector = firestore_v1.vector.Vector(question_embedding),\n",
    "    limit = 5,\n",
    "    distance_measure = firestore_v1.base_vector_query.DistanceMeasure.DOT_PRODUCT\n",
    ").get()"
   ]
  },
  {
   "cell_type": "code",
   "execution_count": 271,
   "id": "43dc0b6b-2954-49d0-96b2-b5b8852e45be",
   "metadata": {
    "tags": []
   },
   "outputs": [
    {
     "data": {
      "text/plain": [
       "google.cloud.firestore_v1.query_results.QueryResultsList"
      ]
     },
     "execution_count": 271,
     "metadata": {},
     "output_type": "execute_result"
    }
   ],
   "source": [
    "type(matches)"
   ]
  },
  {
   "cell_type": "code",
   "execution_count": 272,
   "id": "fc25a49c-55fb-45d5-aadb-58824faa4e64",
   "metadata": {
    "tags": []
   },
   "outputs": [],
   "source": [
    "matches = list(matches)"
   ]
  },
  {
   "cell_type": "code",
   "execution_count": 273,
   "id": "b1faadaa-a42d-4f2f-97e6-1f0eb1e43782",
   "metadata": {
    "tags": []
   },
   "outputs": [
    {
     "data": {
      "text/plain": [
       "5"
      ]
     },
     "execution_count": 273,
     "metadata": {},
     "output_type": "execute_result"
    }
   ],
   "source": [
    "len(matches)"
   ]
  },
  {
   "cell_type": "code",
   "execution_count": 274,
   "id": "f5d3dcf0-342a-47c2-abdc-25b7294b38c5",
   "metadata": {
    "tags": []
   },
   "outputs": [
    {
     "data": {
      "text/plain": [
       "['fannie_part_0_c352',\n",
       " 'freddie_part_4_c509',\n",
       " 'freddie_part_4_c510',\n",
       " 'fannie_part_0_c353',\n",
       " 'fannie_part_0_c326']"
      ]
     },
     "execution_count": 274,
     "metadata": {},
     "output_type": "execute_result"
    }
   ],
   "source": [
    "[match.to_dict()['id'] for match in matches]"
   ]
  },
  {
   "cell_type": "code",
   "execution_count": 275,
   "id": "defc9c67-03ff-424b-9ac9-79e3a58db78b",
   "metadata": {
    "tags": []
   },
   "outputs": [
    {
     "data": {
      "text/plain": [
       "'# A3-3-03, Other Servicing Arrangements (12/15/2015)\\n\\nIntroduction This topic provides an overview of other servicing arrangements, including: • Subservicing • General Requirements for Subservicing Arrangements • Pledge of Servicing Rights and Transfer of Interest in Servicing Income\\n\\n## Subservicing\\n\\nA lender may use other organizations to perform some or all of its servicing functions. Fannie Mae refers to these arrangements as “subservicing” arrangements, meaning that a servicer (the “subservicer”) other than the contractually responsible servicer (the “master” servicer) is performing the servicing functions. The following are not considered to be subservicing arrangements: • when a computer service bureau is used to perform accounting and reporting functions; • when the originating lender sells and assigns servicing to another lender, unless the originating lender continues to be the contractually responsible servicer.'"
      ]
     },
     "execution_count": 275,
     "metadata": {},
     "output_type": "execute_result"
    }
   ],
   "source": [
    "matches[0].to_dict()['content']"
   ]
  },
  {
   "cell_type": "code",
   "execution_count": 276,
   "id": "d51935bf-5d49-4006-8b2c-573c4189f67e",
   "metadata": {
    "tags": []
   },
   "outputs": [
    {
     "name": "stdout",
     "output_type": "stream",
     "text": [
      "Creating a composite index for just the embedding and gse ...\n",
      "\n"
     ]
    },
    {
     "data": {
      "text/plain": [
       "name: \"projects/statmike-mlops-349915/databases/(default)/collectionGroups/applied-genai-retrieval-firestore/indexes/CICAgJjFvYoK\"\n",
       "query_scope: COLLECTION\n",
       "fields {\n",
       "  field_path: \"gse\"\n",
       "  order: ASCENDING\n",
       "}\n",
       "fields {\n",
       "  field_path: \"__name__\"\n",
       "  order: ASCENDING\n",
       "}\n",
       "fields {\n",
       "  field_path: \"embedding\"\n",
       "  vector_config {\n",
       "    dimension: 768\n",
       "    flat {\n",
       "    }\n",
       "  }\n",
       "}\n",
       "state: READY"
      ]
     },
     "execution_count": 276,
     "metadata": {},
     "output_type": "execute_result"
    }
   ],
   "source": [
    "composite_index = next(\n",
    "    (index for index in indexes if {'embedding', 'gse'} == {field.field_path for field in index.fields if field.field_path != '__name__'}),\n",
    "    None\n",
    ")\n",
    "\n",
    "if composite_index:\n",
    "    print(f'Found a composite index for the embedding and gse:\\n')\n",
    "else:\n",
    "    print(f'Creating a composite index for just the embedding and gse ...\\n')\n",
    "    create_index = fs_admin.create_index(\n",
    "        request = firestore_admin_v1.types.CreateIndexRequest(\n",
    "            parent = f\"{database.name}/collectionGroups/{collection.id}\",\n",
    "            index = firestore_admin_v1.types.Index(\n",
    "                query_scope = firestore_admin_v1.types.Index.QueryScope.COLLECTION,\n",
    "                fields = [\n",
    "                    firestore_admin_v1.types.Index.IndexField(\n",
    "                        field_path = 'gse',\n",
    "                        order = firestore_admin_v1.types.Index.IndexField.Order.ASCENDING\n",
    "                    ),\n",
    "                    firestore_admin_v1.types.Index.IndexField(\n",
    "                        field_path = 'embedding',\n",
    "                        vector_config = firestore_admin_v1.types.Index.IndexField.VectorConfig(\n",
    "                            dimension = 768,\n",
    "                            flat = firestore_admin_v1.types.Index.IndexField.VectorConfig.FlatIndex()\n",
    "                        )\n",
    "                    ),\n",
    "                ]\n",
    "            )\n",
    "        )\n",
    "    )\n",
    "    index = create_index.result()\n",
    "    composite_index = fs_admin.get_index(name = index.name)\n",
    "    \n",
    "composite_index"
   ]
  },
  {
   "cell_type": "code",
   "execution_count": 277,
   "id": "a5db3593-e162-43be-8a42-c928b8b77bf0",
   "metadata": {
    "tags": []
   },
   "outputs": [],
   "source": [
    "matches = collection.where('gse', '==', 'fannie').find_nearest(\n",
    "    vector_field = 'embedding',\n",
    "    query_vector = firestore_v1.vector.Vector(question_embedding),\n",
    "    limit = 5,\n",
    "    distance_measure = firestore_v1.base_vector_query.DistanceMeasure.DOT_PRODUCT\n",
    ").get()"
   ]
  },
  {
   "cell_type": "code",
   "execution_count": 278,
   "id": "4d2f7d85-ae3c-4275-b275-c29008348e7e",
   "metadata": {
    "tags": []
   },
   "outputs": [
    {
     "data": {
      "text/plain": [
       "['fannie_part_0_c352',\n",
       " 'fannie_part_0_c353',\n",
       " 'fannie_part_0_c326',\n",
       " 'fannie_part_0_c92',\n",
       " 'fannie_part_0_c240']"
      ]
     },
     "execution_count": 278,
     "metadata": {},
     "output_type": "execute_result"
    }
   ],
   "source": [
    "[match.to_dict()['id'] for match in matches]"
   ]
  },
  {
   "cell_type": "code",
   "execution_count": 279,
   "id": "729f3263-bafe-4808-bf3d-c5d4322a2f8d",
   "metadata": {
    "tags": []
   },
   "outputs": [
    {
     "data": {
      "text/plain": [
       "'# A3-3-03, Other Servicing Arrangements (12/15/2015)\\n\\nIntroduction This topic provides an overview of other servicing arrangements, including: • Subservicing • General Requirements for Subservicing Arrangements • Pledge of Servicing Rights and Transfer of Interest in Servicing Income\\n\\n## Subservicing\\n\\nA lender may use other organizations to perform some or all of its servicing functions. Fannie Mae refers to these arrangements as “subservicing” arrangements, meaning that a servicer (the “subservicer”) other than the contractually responsible servicer (the “master” servicer) is performing the servicing functions. The following are not considered to be subservicing arrangements: • when a computer service bureau is used to perform accounting and reporting functions; • when the originating lender sells and assigns servicing to another lender, unless the originating lender continues to be the contractually responsible servicer.'"
      ]
     },
     "execution_count": 279,
     "metadata": {},
     "output_type": "execute_result"
    }
   ],
   "source": [
    "matches[0].to_dict()['content']"
   ]
  },
  {
   "cell_type": "code",
   "execution_count": null,
   "id": "e3448f48-ad88-4eec-8c93-a80788241717",
   "metadata": {},
   "outputs": [],
   "source": []
  },
  {
   "cell_type": "code",
   "execution_count": null,
   "id": "d14f6298-3896-4db5-97c5-63119660b4a1",
   "metadata": {},
   "outputs": [],
   "source": []
  },
  {
   "cell_type": "code",
   "execution_count": null,
   "id": "b6192d2c-be3a-4cd3-b1bf-c1ba59d55300",
   "metadata": {},
   "outputs": [],
   "source": []
  },
  {
   "cell_type": "code",
   "execution_count": null,
   "id": "cbc9c1fc-1d1d-4d98-a02c-d6e20e5e3e4f",
   "metadata": {},
   "outputs": [],
   "source": []
  },
  {
   "cell_type": "code",
   "execution_count": null,
   "id": "2c37de67-c645-4bce-a6e1-d699e8dbd710",
   "metadata": {},
   "outputs": [],
   "source": []
  },
  {
   "cell_type": "code",
   "execution_count": null,
   "id": "b3b7cc49-40e1-4fca-9fff-7c152cc51328",
   "metadata": {},
   "outputs": [],
   "source": []
  },
  {
   "cell_type": "code",
   "execution_count": null,
   "id": "ba4d0fc5-d696-44c8-b878-b1f8cdf842db",
   "metadata": {},
   "outputs": [],
   "source": []
  },
  {
   "cell_type": "code",
   "execution_count": null,
   "id": "b9cb8f09-9d68-4085-8507-f5b6b2e1f7c1",
   "metadata": {},
   "outputs": [],
   "source": []
  },
  {
   "cell_type": "code",
   "execution_count": null,
   "id": "5afc7f36-5b4d-49dc-aa4b-28812d0f7b22",
   "metadata": {},
   "outputs": [],
   "source": []
  },
  {
   "cell_type": "code",
   "execution_count": null,
   "id": "565f3618-f63a-4046-ae49-4a1e1bdff333",
   "metadata": {},
   "outputs": [],
   "source": []
  },
  {
   "cell_type": "code",
   "execution_count": null,
   "id": "28fd8700-78cc-4ccb-be99-040f1f19e3bb",
   "metadata": {},
   "outputs": [],
   "source": []
  },
  {
   "cell_type": "code",
   "execution_count": null,
   "id": "c35fd5e1-d101-4ae8-bc18-0e6d5ce453b4",
   "metadata": {},
   "outputs": [],
   "source": []
  },
  {
   "cell_type": "code",
   "execution_count": null,
   "id": "e939b283-b70a-40c8-9e95-ffd8d587f728",
   "metadata": {},
   "outputs": [],
   "source": []
  },
  {
   "cell_type": "code",
   "execution_count": null,
   "id": "7eb18eec-03c9-4ea5-8789-615b246c0047",
   "metadata": {},
   "outputs": [],
   "source": []
  },
  {
   "cell_type": "code",
   "execution_count": null,
   "id": "08794663-4710-49b4-9cd6-bb93a11819bf",
   "metadata": {},
   "outputs": [],
   "source": []
  },
  {
   "cell_type": "code",
   "execution_count": null,
   "id": "dbaf11c1-8c54-458d-a78c-3cb466a8a2e8",
   "metadata": {},
   "outputs": [],
   "source": []
  },
  {
   "cell_type": "code",
   "execution_count": null,
   "id": "8a14e287-4b50-4b3f-a303-a2e19eef03dc",
   "metadata": {},
   "outputs": [],
   "source": []
  },
  {
   "cell_type": "markdown",
   "id": "14bff763-1270-4c32-b930-67b0f0ef9faf",
   "metadata": {},
   "source": [
    "## Remove Resources"
   ]
  },
  {
   "cell_type": "code",
   "execution_count": 264,
   "id": "059a56c2-82c4-4b68-8dbe-3d157a556d68",
   "metadata": {
    "tags": []
   },
   "outputs": [],
   "source": [
    "#for index in list(fs_admin.list_indexes(parent = f\"{database.name}/collectionGroups/{collection.id}\")):\n",
    "#    fs_admin.delete_index(name = index.name)"
   ]
  },
  {
   "cell_type": "code",
   "execution_count": null,
   "id": "437fcd09-b32a-4f6a-9359-d4e9c2e5dce4",
   "metadata": {},
   "outputs": [],
   "source": []
  }
 ],
 "metadata": {
  "environment": {
   "kernel": "conda-base-py",
   "name": "workbench-notebooks.m125",
   "type": "gcloud",
   "uri": "us-docker.pkg.dev/deeplearning-platform-release/gcr.io/workbench-notebooks:m125"
  },
  "kernelspec": {
   "display_name": "Python 3 (ipykernel) (Local)",
   "language": "python",
   "name": "conda-base-py"
  },
  "language_info": {
   "codemirror_mode": {
    "name": "ipython",
    "version": 3
   },
   "file_extension": ".py",
   "mimetype": "text/x-python",
   "name": "python",
   "nbconvert_exporter": "python",
   "pygments_lexer": "ipython3",
   "version": "3.10.15"
  }
 },
 "nbformat": 4,
 "nbformat_minor": 5
}
