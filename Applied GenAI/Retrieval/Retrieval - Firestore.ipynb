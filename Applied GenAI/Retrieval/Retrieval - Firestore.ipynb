{
 "cells": [
  {
   "cell_type": "markdown",
   "id": "e89180c9",
   "metadata": {},
   "source": [
    "![tracker](https://us-central1-vertex-ai-mlops-369716.cloudfunctions.net/pixel-tracking?path=statmike%2Fvertex-ai-mlops%2FApplied+GenAI%2FRetrieval&file=Retrieval+-+Firestore.ipynb)\n",
    "<!--- header table --->\n",
    "<table align=\"left\">\n",
    "  <td style=\"text-align: center\">\n",
    "    <a href=\"https://colab.research.google.com/github/statmike/vertex-ai-mlops/blob/main/Applied%20GenAI/Retrieval/Retrieval%20-%20Firestore.ipynb\">\n",
    "      <img src=\"https://cloud.google.com/ml-engine/images/colab-logo-32px.png\" alt=\"Google Colaboratory logo\">\n",
    "      <br>Run in<br>Colab\n",
    "    </a>\n",
    "  </td>\n",
    "  <td style=\"text-align: center\">\n",
    "    <a href=\"https://console.cloud.google.com/vertex-ai/colab/import/https%3A%2F%2Fraw.githubusercontent.com%2Fstatmike%2Fvertex-ai-mlops%2Fmain%2FApplied%2520GenAI%2FRetrieval%2FRetrieval%2520-%2520Firestore.ipynb\">\n",
    "      <img width=\"32px\" src=\"https://lh3.googleusercontent.com/JmcxdQi-qOpctIvWKgPtrzZdJJK-J3sWE1RsfjZNwshCFgE_9fULcNpuXYTilIR2hjwN\" alt=\"Google Cloud Colab Enterprise logo\">\n",
    "      <br>Run in<br>Colab Enterprise\n",
    "    </a>\n",
    "  </td>      \n",
    "  <td style=\"text-align: center\">\n",
    "    <a href=\"https://github.com/statmike/vertex-ai-mlops/blob/main/Applied%20GenAI/Retrieval/Retrieval%20-%20Firestore.ipynb\">\n",
    "      <img src=\"https://cloud.google.com/ml-engine/images/github-logo-32px.png\" alt=\"GitHub logo\">\n",
    "      <br>View on<br>GitHub\n",
    "    </a>\n",
    "  </td>\n",
    "  <td style=\"text-align: center\">\n",
    "    <a href=\"https://console.cloud.google.com/vertex-ai/workbench/deploy-notebook?download_url=https://raw.githubusercontent.com/statmike/vertex-ai-mlops/main/Applied%20GenAI/Retrieval/Retrieval%20-%20Firestore.ipynb\">\n",
    "      <img src=\"https://lh3.googleusercontent.com/UiNooY4LUgW_oTvpsNhPpQzsstV5W8F7rYgxgGBD85cWJoLmrOzhVs_ksK_vgx40SHs7jCqkTkCk=e14-rj-sc0xffffff-h130-w32\" alt=\"Vertex AI logo\">\n",
    "      <br>Open in<br>Vertex AI Workbench\n",
    "    </a>\n",
    "  </td>\n",
    "</table>"
   ]
  },
  {
   "cell_type": "markdown",
   "id": "96b0e8e6-d761-4540-9d09-8f0c4ce9a020",
   "metadata": {},
   "source": [
    "# Retrieval - Firestore\n",
    "\n",
    "In prior workflows, a series of documents was [processed into chunks](../Chunking/readme.md), and for each chunk, [embeddings](../Embeddings/readme.md) were created:\n",
    "\n",
    "- Process: [Large Document Processing - Document AI Layout Parser](../Chunking/Large%20Document%20Processing%20-%20Document%20AI%20Layout%20Parser.ipynb)\n",
    "- Embed: [Vertex AI Text Embeddings API](../Embeddings/Vertex%20AI%20Text%20Embeddings%20API.ipynb)\n",
    "\n",
    "Retrieving chunks for a query involves calculating the embedding for the query and then using similarity metrics to find relevant chunks. A thorough review of similarity matching can be found in [The Math of Similarity](../Embeddings/The%20Math%20of%20Similarity.ipynb) - use dot product! As development moves from experiment to application, the process of storing and computing similarity is migrated to a [retrieval](./readme.md) system. This workflow is part of a [series of workflows exploring many retrieval systems](./readme.md).\n",
    "\n",
    "---\n",
    "\n",
    "**Firestore For Storage, Indexing, And Search**\n",
    "\n",
    "[Firestore](https://cloud.google.com/firestore) is a fully managed, serverless document database on Google Cloud that scales automatically to meet any demand, without requiring partitioning or incurring downtime. It's ideal for mobile, web, and server development because it keeps data in sync across client apps with real-time listeners and offers offline support for mobile and web.\n",
    "\n",
    "- **Data Model:**  Firestore stores data in documents (similar to JSON) comprised of key-value pairs.  Keys (fields) are mapped to values of various supported data types. ([see the full list here](https://cloud.google.com/firestore/docs/concepts/data-types?hl=en)) ([Learn more about the data model](https://cloud.google.com/firestore/docs/data-model?hl=en))\n",
    "- **Flexible Structure:** Data is organized in a hierarchical structure where collections contain documents. Documents can be nested objects, and collections can have subcollections, providing flexibility in how you structure your data.\n",
    "- **BigQuery Integration:**  Firestore integrates directly with BigQuery, allowing you to stream data into BigQuery or export query results to Firestore. ([Learn more about BigQuery integration](https://cloud.google.com/firestore/docs/solutions/bigquery?hl=en))\n",
    "- **Generative AI Features:** Firestore offers integrated GenAI features, such as generating text embeddings and seamless integration with LangChain.\n",
    "- **Vector Similarity Search:** Firestore provides built-in vector similarity search with indexing for efficient nearest neighbor matching. ([Learn more about vector search](https://cloud.google.com/firestore/docs/vector-search?hl=en))\n",
    "\n",
    "---\n",
    "\n",
    "**Use Case Data**\n",
    "\n",
    "Buying a home usually involves borrowing money from a lending institution, typically through a mortgage secured by the home's value. But how do these institutions manage the risks associated with such large loans, and how are lending standards established?\n",
    "\n",
    "In the United States, two government-sponsored enterprises (GSEs) play a vital role in the housing market:\n",
    "\n",
    "- Federal National Mortgage Association ([Fannie Mae](https://www.fanniemae.com/))\n",
    "- Federal Home Loan Mortgage Corporation ([Freddie Mac](https://www.freddiemac.com/))\n",
    "\n",
    "These GSEs purchase mortgages from lenders, enabling those lenders to offer more loans. This process also allows Fannie Mae and Freddie Mac to set standards for mortgages, ensuring they are responsible and borrowers are more likely to repay them. This system makes homeownership more affordable and stabilizes the housing market by maintaining a steady flow of liquidity for lenders and keeping interest rates controlled.\n",
    "\n",
    "However, navigating the complexities of these GSEs and their extensive servicing guides can be challenging.\n",
    "\n",
    "**Approaches**\n",
    "\n",
    "[This series](../readme.md) covers many generative AI workflows. These documents are used directly as long context for Gemini in the workflow [Long Context Retrieval With The Vertex AI Gemini API](../Generate/Long%20Context%20Retrieval%20With%20The%20Vertex%20AI%20Gemini%20API.ipynb). The workflow below uses a [retrieval](./readme.md) approach with the already generated chunks and embeddings."
   ]
  },
  {
   "cell_type": "markdown",
   "id": "be889472-69b0-416c-9cf1-edc9706fa5c5",
   "metadata": {
    "id": "od_UkDpvRmgD"
   },
   "source": [
    "---\n",
    "## Colab Setup\n",
    "\n",
    "When running this notebook in [Colab](https://colab.google/) or [Colab Enterprise](https://cloud.google.com/colab/docs/introduction), this section will authenticate to GCP (follow prompts in the popup) and set the current project for the session."
   ]
  },
  {
   "cell_type": "code",
   "execution_count": 23,
   "id": "21f75ba8-df50-466e-a5ec-f2a6dd88eb26",
   "metadata": {
    "executionInfo": {
     "elapsed": 195,
     "status": "ok",
     "timestamp": 1683726184843,
     "user": {
      "displayName": "Mike Henderson",
      "userId": "07691629187611687318"
     },
     "user_tz": 240
    },
    "id": "8UO9FnqyKBlF",
    "tags": []
   },
   "outputs": [],
   "source": [
    "PROJECT_ID = 'statmike-mlops-349915' # replace with project ID"
   ]
  },
  {
   "cell_type": "code",
   "execution_count": 24,
   "id": "9c325515-1ea0-45cc-82d3-a1bfb1c52155",
   "metadata": {
    "colab": {
     "base_uri": "https://localhost:8080/"
    },
    "executionInfo": {
     "elapsed": 68869,
     "status": "ok",
     "timestamp": 1683726253709,
     "user": {
      "displayName": "Mike Henderson",
      "userId": "07691629187611687318"
     },
     "user_tz": 240
    },
    "id": "N98-KK7LRkjm",
    "outputId": "09ec5008-0def-4e1a-c349-c598ee752f78",
    "tags": []
   },
   "outputs": [],
   "source": [
    "try:\n",
    "    from google.colab import auth\n",
    "    auth.authenticate_user()\n",
    "    !gcloud config set project {PROJECT_ID}\n",
    "except Exception:\n",
    "    pass"
   ]
  },
  {
   "cell_type": "markdown",
   "id": "055a4bd7-7b47-43ef-ba14-636c955e44e3",
   "metadata": {},
   "source": [
    "---\n",
    "## Installs and API Enablement\n",
    "\n",
    "The clients packages may need installing in this environment. "
   ]
  },
  {
   "cell_type": "markdown",
   "id": "410502ee-6fe3-4624-a69a-960ad7105f10",
   "metadata": {},
   "source": [
    "### Installs (If Needed)"
   ]
  },
  {
   "cell_type": "code",
   "execution_count": 25,
   "id": "f4dbdb83-3170-430c-b60d-3d686222a168",
   "metadata": {
    "tags": []
   },
   "outputs": [],
   "source": [
    "# tuples of (import name, install name, min_version)\n",
    "packages = [\n",
    "    ('google.cloud.aiplatform', 'google-cloud-aiplatform', '1.69.0'),\n",
    "    ('google.cloud.firestore', 'google-cloud-firestore')\n",
    "]\n",
    "\n",
    "import importlib\n",
    "install = False\n",
    "for package in packages:\n",
    "    if not importlib.util.find_spec(package[0]):\n",
    "        print(f'installing package {package[1]}')\n",
    "        install = True\n",
    "        !pip install {package[1]} -U -q --user\n",
    "    elif len(package) == 3:\n",
    "        if importlib.metadata.version(package[0]) < package[2]:\n",
    "            print(f'updating package {package[1]}')\n",
    "            install = True\n",
    "            !pip install {package[1]} -U -q --user"
   ]
  },
  {
   "cell_type": "markdown",
   "id": "25374857-7d37-4c84-8cbb-a3c2fc7bb065",
   "metadata": {},
   "source": [
    "### API Enablement"
   ]
  },
  {
   "cell_type": "code",
   "execution_count": 26,
   "id": "9b7300a8-7e3a-4a08-95c0-91186237753f",
   "metadata": {
    "tags": []
   },
   "outputs": [],
   "source": [
    "!gcloud services enable aiplatform.googleapis.com\n",
    "!gcloud services enable firestore.googleapis.com"
   ]
  },
  {
   "cell_type": "markdown",
   "id": "157d09ba-9774-495f-8ced-3382bf75be8f",
   "metadata": {},
   "source": [
    "### Restart Kernel (If Installs Occured)\n",
    "\n",
    "After a kernel restart the code submission can start with the next cell after this one."
   ]
  },
  {
   "cell_type": "code",
   "execution_count": 27,
   "id": "f9864153-66c8-43e1-ae96-1179632ccf7d",
   "metadata": {
    "tags": []
   },
   "outputs": [],
   "source": [
    "if install:\n",
    "    import IPython\n",
    "    app = IPython.Application.instance()\n",
    "    app.kernel.do_shutdown(True)\n",
    "    IPython.display.display(IPython.display.Markdown(\"\"\"<div class=\\\"alert alert-block alert-warning\\\">\n",
    "        <b>⚠️ The kernel is going to restart. Please wait until it is finished before continuing to the next step. The previous cells do not need to be run again⚠️</b>\n",
    "        </div>\"\"\"))"
   ]
  },
  {
   "cell_type": "markdown",
   "id": "09a1ab41-cb32-4398-86dc-d30effb88a36",
   "metadata": {
    "id": "appt8-yVRtJ1"
   },
   "source": [
    "---\n",
    "## Setup"
   ]
  },
  {
   "cell_type": "markdown",
   "id": "2cebe11b-9ca1-4f3e-aa78-78640ff01ec8",
   "metadata": {
    "id": "63mx2EozRxFP"
   },
   "source": [
    "Inputs"
   ]
  },
  {
   "cell_type": "code",
   "execution_count": 28,
   "id": "ab2239cd-40ab-416d-bac0-0c6953d911b6",
   "metadata": {
    "colab": {
     "base_uri": "https://localhost:8080/",
     "height": 35
    },
    "executionInfo": {
     "elapsed": 2124,
     "status": "ok",
     "timestamp": 1683726390544,
     "user": {
      "displayName": "Mike Henderson",
      "userId": "07691629187611687318"
     },
     "user_tz": 240
    },
    "id": "xzcoXjM5Rky5",
    "outputId": "b3bdcbc1-70d5-472e-aea2-42c74a42efde",
    "tags": []
   },
   "outputs": [
    {
     "data": {
      "text/plain": [
       "'statmike-mlops-349915'"
      ]
     },
     "execution_count": 28,
     "metadata": {},
     "output_type": "execute_result"
    }
   ],
   "source": [
    "project = !gcloud config get-value project\n",
    "PROJECT_ID = project[0]\n",
    "PROJECT_ID"
   ]
  },
  {
   "cell_type": "code",
   "execution_count": 29,
   "id": "8aa97f05-66e9-4276-b2e6-83b5a91ca50c",
   "metadata": {
    "executionInfo": {
     "elapsed": 2,
     "status": "ok",
     "timestamp": 1683726390712,
     "user": {
      "displayName": "Mike Henderson",
      "userId": "07691629187611687318"
     },
     "user_tz": 240
    },
    "id": "IxWrFtqYMfku",
    "tags": []
   },
   "outputs": [],
   "source": [
    "REGION = 'us-central1'\n",
    "SERIES = 'applied-genai'\n",
    "EXPERIMENT = 'retrieval-firestore'"
   ]
  },
  {
   "cell_type": "markdown",
   "id": "52bbf65b-5d29-4a72-84ae-d977b9a743a6",
   "metadata": {
    "id": "LuajVwCiO6Yg"
   },
   "source": [
    "Packages"
   ]
  },
  {
   "cell_type": "code",
   "execution_count": 125,
   "id": "559f6e60-a594-4789-893b-295a8381b670",
   "metadata": {
    "executionInfo": {
     "elapsed": 17761,
     "status": "ok",
     "timestamp": 1683726409304,
     "user": {
      "displayName": "Mike Henderson",
      "userId": "07691629187611687318"
     },
     "user_tz": 240
    },
    "id": "LVC7zzSLRk2C",
    "tags": []
   },
   "outputs": [],
   "source": [
    "import os, json, time, glob, datetime, asyncio\n",
    "\n",
    "# Vertex AI\n",
    "from google.cloud import aiplatform\n",
    "import vertexai.language_models # for embeddings API\n",
    "import vertexai.generative_models # for Gemini Models\n",
    "from vertexai.resources.preview import feature_store\n",
    "\n",
    "# firestore\n",
    "from google.cloud import firestore\n",
    "from google.cloud import firestore_v1\n",
    "from google.cloud import firestore_admin_v1"
   ]
  },
  {
   "cell_type": "code",
   "execution_count": 31,
   "id": "d3fef31f-928f-45f2-a3f4-292ee242232c",
   "metadata": {
    "tags": []
   },
   "outputs": [
    {
     "data": {
      "text/plain": [
       "'1.71.0'"
      ]
     },
     "execution_count": 31,
     "metadata": {},
     "output_type": "execute_result"
    }
   ],
   "source": [
    "aiplatform.__version__"
   ]
  },
  {
   "cell_type": "markdown",
   "id": "5758c07e-f064-40fb-a0ef-de6cbde5cd0a",
   "metadata": {
    "id": "EyAVFG9TO9H-"
   },
   "source": [
    "Clients"
   ]
  },
  {
   "cell_type": "code",
   "execution_count": 32,
   "id": "3b72f3bb-176b-4678-ba6b-df9b2de14997",
   "metadata": {
    "executionInfo": {
     "elapsed": 19,
     "status": "ok",
     "timestamp": 1683726409306,
     "user": {
      "displayName": "Mike Henderson",
      "userId": "07691629187611687318"
     },
     "user_tz": 240
    },
    "id": "L0RPE13LOZce",
    "tags": []
   },
   "outputs": [],
   "source": [
    "# vertex ai clients\n",
    "vertexai.init(project = PROJECT_ID, location = REGION)\n",
    "\n",
    "# firestore clients\n",
    "fs = firestore.Client(project = PROJECT_ID)\n",
    "fs_admin = firestore_admin_v1.FirestoreAdminClient()"
   ]
  },
  {
   "cell_type": "markdown",
   "id": "8579282f-2723-4294-b72a-a65cc0831f44",
   "metadata": {},
   "source": [
    "---\n",
    "## Text & Embeddings For Examples\n",
    "\n",
    "This repository contains a [section for document processing (chunking)](../Chunking/readme.md) that includes an example of processing mulitple large pdfs (over 1000 pages) into chunks: [Large Document Processing - Document AI Layout Parser](../Chunking/Large%20Document%20Processing%20-%20Document%20AI%20Layout%20Parser.ipynb).  The chunks of text from that workflow are stored with this repository and loaded by another companion workflow that augments the chunks with text embeddings: [Vertex AI Text Embeddings API](../Embeddings/Vertex%20AI%20Text%20Embeddings%20API.ipynb).\n",
    "\n",
    "The following code will load the version of the chunks that includes text embeddings and prepare it for a local example of retrival augmented generation."
   ]
  },
  {
   "cell_type": "markdown",
   "id": "1e12cbe2-3ca6-4656-9e73-c0db5c63bf50",
   "metadata": {},
   "source": [
    "### Get The Documents\n",
    "\n",
    "If you are working from a clone of this notebooks [repository](https://github.com/statmike/vertex-ai-mlops) then the documents are already present. The following cell checks for the documents folder and if it is missing gets it (`git clone`):"
   ]
  },
  {
   "cell_type": "code",
   "execution_count": 33,
   "id": "6f4e77ed-43f7-42be-9575-6a491c0d6cba",
   "metadata": {
    "tags": []
   },
   "outputs": [],
   "source": [
    "local_dir = '../Embeddings/files/embeddings-api'"
   ]
  },
  {
   "cell_type": "code",
   "execution_count": 34,
   "id": "63ebe7c3-e72c-4394-91c3-d60c05bc0ce2",
   "metadata": {
    "tags": []
   },
   "outputs": [
    {
     "name": "stdout",
     "output_type": "stream",
     "text": [
      "Documents Found in folder `../Embeddings/files/embeddings-api`\n"
     ]
    }
   ],
   "source": [
    "if not os.path.exists(local_dir):\n",
    "    print('Retrieving documents...')\n",
    "    parent_dir = os.path.dirname(local_dir)\n",
    "    temp_dir = os.path.join(parent_dir, 'temp')\n",
    "    if not os.path.exists(temp_dir):\n",
    "        os.makedirs(temp_dir)\n",
    "    !git clone https://www.github.com/statmike/vertex-ai-mlops {temp_dir}/vertex-ai-mlops\n",
    "    shutil.copytree(f'{temp_dir}/vertex-ai-mlops/Applied GenAI/Embeddings/files/embeddings-api', local_dir)\n",
    "    shutil.rmtree(temp_dir)\n",
    "    print(f'Documents are now in folder `{local_dir}`')\n",
    "else:\n",
    "    print(f'Documents Found in folder `{local_dir}`')             "
   ]
  },
  {
   "cell_type": "markdown",
   "id": "33e68a84-9f88-4590-9ff1-e01c8a953ccf",
   "metadata": {},
   "source": [
    "### Load The Chunks"
   ]
  },
  {
   "cell_type": "code",
   "execution_count": 35,
   "id": "58d04382-a74a-44ac-8824-3b46c86aa148",
   "metadata": {
    "tags": []
   },
   "outputs": [
    {
     "data": {
      "text/plain": [
       "['../Embeddings/files/embeddings-api/large-files-chunk-embeddings-0000.jsonl',\n",
       " '../Embeddings/files/embeddings-api/large-files-chunk-embeddings-0001.jsonl',\n",
       " '../Embeddings/files/embeddings-api/large-files-chunk-embeddings-0002.jsonl',\n",
       " '../Embeddings/files/embeddings-api/large-files-chunk-embeddings-0003.jsonl',\n",
       " '../Embeddings/files/embeddings-api/large-files-chunk-embeddings-0004.jsonl',\n",
       " '../Embeddings/files/embeddings-api/large-files-chunk-embeddings-0005.jsonl',\n",
       " '../Embeddings/files/embeddings-api/large-files-chunk-embeddings-0006.jsonl',\n",
       " '../Embeddings/files/embeddings-api/large-files-chunk-embeddings-0007.jsonl',\n",
       " '../Embeddings/files/embeddings-api/large-files-chunk-embeddings-0008.jsonl',\n",
       " '../Embeddings/files/embeddings-api/large-files-chunk-embeddings-0009.jsonl']"
      ]
     },
     "execution_count": 35,
     "metadata": {},
     "output_type": "execute_result"
    }
   ],
   "source": [
    "jsonl_files = glob.glob(f\"{local_dir}/large-files*.jsonl\")\n",
    "jsonl_files.sort()\n",
    "jsonl_files"
   ]
  },
  {
   "cell_type": "code",
   "execution_count": 36,
   "id": "a54c6c96-6c28-49bb-80be-5d46797dfe77",
   "metadata": {
    "tags": []
   },
   "outputs": [
    {
     "data": {
      "text/plain": [
       "9040"
      ]
     },
     "execution_count": 36,
     "metadata": {},
     "output_type": "execute_result"
    }
   ],
   "source": [
    "chunks = []\n",
    "for file in jsonl_files:\n",
    "    with open(file, 'r') as f:\n",
    "        chunks.extend([json.loads(line) for line in f])\n",
    "len(chunks)"
   ]
  },
  {
   "cell_type": "markdown",
   "id": "a70115ec-6d60-41df-b7e6-9e2e5b463b1d",
   "metadata": {},
   "source": [
    "### Review A Chunk"
   ]
  },
  {
   "cell_type": "code",
   "execution_count": 37,
   "id": "fc20423e-e3d6-4e90-9e98-a5248508c82d",
   "metadata": {
    "tags": []
   },
   "outputs": [
    {
     "data": {
      "text/plain": [
       "dict_keys(['instance', 'predictions', 'status'])"
      ]
     },
     "execution_count": 37,
     "metadata": {},
     "output_type": "execute_result"
    }
   ],
   "source": [
    "chunks[0].keys()"
   ]
  },
  {
   "cell_type": "code",
   "execution_count": 38,
   "id": "1955ea39-4ffc-4d30-b653-a5a9911f2dab",
   "metadata": {
    "tags": []
   },
   "outputs": [
    {
     "data": {
      "text/plain": [
       "'fannie_part_0_c17'"
      ]
     },
     "execution_count": 38,
     "metadata": {},
     "output_type": "execute_result"
    }
   ],
   "source": [
    "chunks[0]['instance']['chunk_id']"
   ]
  },
  {
   "cell_type": "code",
   "execution_count": 39,
   "id": "3537982c-4a0e-456c-a652-19ea7507873b",
   "metadata": {
    "tags": []
   },
   "outputs": [
    {
     "name": "stdout",
     "output_type": "stream",
     "text": [
      "# Selling Guide Fannie Mae Single Family\n",
      "\n",
      "## Fannie Mae Copyright Notice\n",
      "\n",
      "### Fannie Mae Copyright Notice\n",
      "\n",
      "|-|\n",
      "| Section B3-4.2, Verification of Depository Assets 402 |\n",
      "| B3-4.2-01, Verification of Deposits and Assets (05/04/2022) 403 |\n",
      "| B3-4.2-02, Depository Accounts (12/14/2022) 405 |\n",
      "| B3-4.2-03, Individual Development Accounts (02/06/2019) 408 |\n",
      "| B3-4.2-04, Pooled Savings (Community Savings Funds) (04/01/2009) 411 |\n",
      "| B3-4.2-05, Foreign Assets (05/04/2022) 411 |\n",
      "| Section B3-4.3, Verification of Non-Depository Assets 412 |\n",
      "| B3-4.3-01, Stocks, Stock Options, Bonds, and Mutual Funds (06/30/2015) 412 |\n",
      "| B3-4.3-02, Trust Accounts (04/01/2009) 413 |\n",
      "| B3-4.3-03, Retirement Accounts (06/30/2015) 414 |\n",
      "| B3-4.3-04, Personal Gifts (09/06/2023) 415 |\n",
      "| B3-4.3-05, Gifts of Equity (10/07/2020) 418 |\n",
      "| B3-4.3-06, Grants and Lender Contributions (12/14/2022) 419 |\n",
      "| B3-4.3-07, Disaster Relief Grants or Loans (04/01/2009) 423 |\n",
      "| B3-4.3-08, Employer Assistance (09/29/2015) 423 |\n",
      "| B3-4.3-09, Earnest Money Deposit (05/04/2022) 425 |\n",
      "| B3-4.3-10, Anticipated Sales Proceeds (02/23/2016) B3-4.3-11, Trade Equity (12/16/2020) 426 428 |\n",
      "| B3-4.3-12, Rent-Related Credits (08/07/2024) 429 |\n",
      "| B3-4.3-13, Sweat Equity (04/15/2014) 430 |\n",
      "| B3-4.3-14, Bridge/Swing Loans (04/01/2009) 431 |\n",
      "| B3-4.3-15, Borrowed Funds Secured by an Asset (10/30/2009) 431 |\n",
      "|  |\n",
      "\n",
      "\n"
     ]
    }
   ],
   "source": [
    "print(chunks[0]['instance']['content'])"
   ]
  },
  {
   "cell_type": "code",
   "execution_count": 40,
   "id": "49f06293-a439-436b-bc93-cd6cd3fb4aff",
   "metadata": {
    "tags": []
   },
   "outputs": [
    {
     "data": {
      "text/plain": [
       "[0.031277116388082504,\n",
       " 0.03056905046105385,\n",
       " 0.010865348391234875,\n",
       " 0.0623614676296711,\n",
       " 0.03228681534528732,\n",
       " 0.05066155269742012,\n",
       " 0.046544693410396576,\n",
       " 0.05509665608406067,\n",
       " -0.014074751175940037,\n",
       " 0.008380400016903877]"
      ]
     },
     "execution_count": 40,
     "metadata": {},
     "output_type": "execute_result"
    }
   ],
   "source": [
    "chunks[0]['predictions'][0]['embeddings']['values'][0:10]"
   ]
  },
  {
   "cell_type": "markdown",
   "id": "f977358d-d9ea-4172-9eca-66079bb6087d",
   "metadata": {},
   "source": [
    "### Prepare Chunk Structure\n",
    "\n",
    "Make a list of dictionaries with information for each chunk:"
   ]
  },
  {
   "cell_type": "code",
   "execution_count": 41,
   "id": "be9fa708-130c-4343-b179-dbde0b09a972",
   "metadata": {
    "tags": []
   },
   "outputs": [],
   "source": [
    "content_chunks = [\n",
    "    dict(\n",
    "        gse = chunk['instance']['gse'],\n",
    "        chunk_id = chunk['instance']['chunk_id'],\n",
    "        content = chunk['instance']['content'],\n",
    "        embedding = chunk['predictions'][0]['embeddings']['values']\n",
    "    ) for chunk in chunks\n",
    "]"
   ]
  },
  {
   "cell_type": "markdown",
   "id": "d6619605-7b10-444e-a131-db06e56a4be8",
   "metadata": {},
   "source": [
    "### Query Embedding\n",
    "\n",
    "Create a query, or prompt, and get the embedding for it:\n",
    "\n",
    "Connect to models for text embeddings. Learn more about the model API:\n",
    "- [Vertex AI Text Embeddings API](../Embeddings/Vertex%20AI%20Text%20Embeddings%20API.ipynb)"
   ]
  },
  {
   "cell_type": "code",
   "execution_count": 42,
   "id": "3da5d30c-3dfb-42ba-a133-83dceb252787",
   "metadata": {
    "tags": []
   },
   "outputs": [],
   "source": [
    "question = \"Does a lender have to perform servicing functions directly?\""
   ]
  },
  {
   "cell_type": "code",
   "execution_count": 43,
   "id": "7992c26f-d058-4920-80a3-a157b88733e4",
   "metadata": {
    "tags": []
   },
   "outputs": [],
   "source": [
    "embedder = vertexai.language_models.TextEmbeddingModel.from_pretrained('text-embedding-004')"
   ]
  },
  {
   "cell_type": "code",
   "execution_count": 44,
   "id": "bbe6fda7-9cea-49a2-9e2f-9222d50677af",
   "metadata": {
    "tags": []
   },
   "outputs": [
    {
     "data": {
      "text/plain": [
       "[-0.0005117303808219731,\n",
       " 0.009651427157223225,\n",
       " 0.01768726110458374,\n",
       " 0.014538003131747246,\n",
       " -0.01829824410378933,\n",
       " 0.027877431362867355,\n",
       " -0.021124685183167458,\n",
       " 0.008830446749925613,\n",
       " -0.02669006586074829,\n",
       " 0.06414774805307388]"
      ]
     },
     "execution_count": 44,
     "metadata": {},
     "output_type": "execute_result"
    }
   ],
   "source": [
    "question_embedding = embedder.get_embeddings([question])[0].values\n",
    "question_embedding[0:10]"
   ]
  },
  {
   "cell_type": "markdown",
   "id": "56acb8bf-d0cc-4613-81f4-6d9a74c5a6d3",
   "metadata": {},
   "source": [
    "---\n",
    "## Setup Firestore\n",
    "\n",
    "Firestore is a scalable database for mobile, web, and server development. Scalable because:\n",
    "- there is no need to pre-provision storage, just add documents and pay for what you use\n",
    "- flexibile data model supporting hierarchical structures\n",
    "- multi-region data replication\n",
    "- data synchronization to update data on connected devices\n",
    "- much more!\n",
    "\n",
    "**Firestore Databases**\n",
    "\n",
    "Firestore as a service hosts databases.  Setting up a new database starts with choosing between two modes:\n",
    "- Firestore in Native mode (**used below**)\n",
    "    - scales to millions of concurrent clients.  Great for mobile and web apps.\n",
    "- Firestore in Datastore Mode\n",
    "    - scales to millions of writes per seconds\n",
    "    - backwards compatible with datastore APIs\n",
    "    - no real-time capabilities from Firestore\n",
    "\n",
    "The first database created can be named `(default)` and will have a [free quota tier](https://cloud.google.com/firestore/quotas) for getting started (see pricing next).\n",
    "    \n",
    "**Firestore Pricing**\n",
    "\n",
    "Regardless of the mode choosen [the pricing](https://cloud.google.com/firestore/pricing) is the same and based on size of data stored and network usage (read, write, delete, transfer).  For the `(default)` database you get a [free tier](https://cloud.google.com/firestore/pricing) for stored data, reads, writes, deletes, and data transfers with daily limits. This free tier covers this demonstration workflow as long as the database is named `(default)` and the createion of the database below uses this name.\n",
    "\n",
    "**Firestore Data Structure**\n",
    "\n",
    "Within a database data is stored as **documents**. Think of a document as a dictionary or JSON where there can be many field with values, including nested fields and values (nesting is referred to as a map).  These documents are limits in size to 1MB.  A document has [these supported data types](https://cloud.google.com/firestore/docs/concepts/data-types) which are more expansive than JSON and even include a type for vectors which is used in this workflow.\n",
    "\n",
    "Documents are store in **collections** which are just named containers for a group of documents that make queries simple.  \n",
    "\n",
    "Hierarchies of upto 100 levels can be created in a specific way.  A document can contain a **subcollection** which is just a nested container for group of documents.  The key concept here is that the subcollection must be contained within a document, not directly under a collection or another subcollection.\n",
    "\n",
    "Remember that Firestore is schemaless so documents can have different fields or even the same fields with different data types even if they are in the same collection.  Documents just need unique keys, the name, like an id, and Firestore can create random IDs automatically if needed.\n",
    "\n",
    "**Working With Firestore**\n",
    "\n",
    "Firestore has rich ecosystem of [client libraries](https://cloud.google.com/firestore/docs/reference/libraries) as well as direct HTTP and RPC calls.  There are mobile and web SDK for common environments (Web, iOS+, Android, Flutter).  Then there are server client libraries  in many common languages (C#, Go, Java, Node.js, PHP, Python, and Ruby).  These are accompanied by the Firebase Admin SDK.\n",
    "\n",
    "Here the [Google Cloud Python Client Library for Firestore](https://cloud.google.com/python/docs/reference/firestore/latest/index.html) is used."
   ]
  },
  {
   "cell_type": "markdown",
   "id": "5c7840c0-ae8c-4243-9005-0c77db26d699",
   "metadata": {},
   "source": [
    "### Create/Retrieve A Database\n",
    "\n",
    "The startying point for using Firestore is a database.  No preplanning is need for storage size or compute so creating the database is the key point and involved choosing a mode (covered above) and using the name `(default)` for free tier quota.\n",
    "\n",
    "Documentation References:\n",
    "- [Create and manage databases](https://cloud.google.com/firestore/docs/manage-databases)\n",
    "- [Choosing between Native mode and Datastore mode](https://cloud.google.com/firestore/docs/firestore-or-datastore)\n",
    "- [Python Client for Cloud Firestore API](https://cloud.google.com/python/docs/reference/firestore/latest)\n",
    "    - [FirestoreAdminClient](https://cloud.google.com/python/docs/reference/firestore/latest/google.cloud.firestore_admin_v1.services.firestore_admin.client.FirestoreAdminClient)"
   ]
  },
  {
   "cell_type": "code",
   "execution_count": 45,
   "id": "0efd9f98-2e88-4c2f-b7c8-626981dc2012",
   "metadata": {
    "tags": []
   },
   "outputs": [
    {
     "name": "stdout",
     "output_type": "stream",
     "text": [
      "Found the `default` database: projects/statmike-mlops-349915/databases/(default)\n"
     ]
    }
   ],
   "source": [
    "try:\n",
    "    database = fs_admin.get_database(name = f'projects/{PROJECT_ID}/databases/(default)')\n",
    "    print(f\"Found the `default` database: {database.name}\")\n",
    "except Exception:\n",
    "    print(f\"Creating the `default` database...\")\n",
    "    create_db = fs_admin.create_database(\n",
    "        request = firestore_admin_v1.types.CreateDatabaseRequest(\n",
    "            parent = f\"projects/{PROJECT_ID}\",\n",
    "            database_id = '(default)',\n",
    "            database = firestore_admin_v1.types.database.Database(\n",
    "                type_ = firestore_admin_v1.types.database.Database.DatabaseType.FIRESTORE_NATIVE,\n",
    "                location_id = REGION\n",
    "            )\n",
    "        )\n",
    "    )\n",
    "    print('Waiting on creation to complete...')\n",
    "    create_db.result()\n",
    "    database = fs_admin.get_database(name = f'projects/{PROJECT_ID}/databases/(default)')\n",
    "    print(f'Created the `default` database: {database.name}')"
   ]
  },
  {
   "cell_type": "code",
   "execution_count": 46,
   "id": "ad91fcf2-7bf2-4ef8-8745-532099b7226a",
   "metadata": {
    "tags": []
   },
   "outputs": [
    {
     "data": {
      "text/plain": [
       "name: \"projects/statmike-mlops-349915/databases/(default)\"\n",
       "uid: \"b29a6d74-7ad0-4232-9850-519e3471912b\"\n",
       "create_time {\n",
       "  seconds: 1729703138\n",
       "  nanos: 163054000\n",
       "}\n",
       "update_time {\n",
       "  seconds: 1729703138\n",
       "  nanos: 163054000\n",
       "}\n",
       "location_id: \"us-central1\"\n",
       "type_: FIRESTORE_NATIVE\n",
       "concurrency_mode: PESSIMISTIC\n",
       "version_retention_period {\n",
       "  seconds: 3600\n",
       "}\n",
       "earliest_version_time {\n",
       "  seconds: 1731768138\n",
       "  nanos: 772252000\n",
       "}\n",
       "app_engine_integration_mode: DISABLED\n",
       "point_in_time_recovery_enablement: POINT_IN_TIME_RECOVERY_DISABLED\n",
       "delete_protection_state: DELETE_PROTECTION_DISABLED\n",
       "etag: \"IOmXybqY4YkDMInatbn+pIkD\""
      ]
     },
     "execution_count": 46,
     "metadata": {},
     "output_type": "execute_result"
    }
   ],
   "source": [
    "database"
   ]
  },
  {
   "cell_type": "markdown",
   "id": "68ac6c14-e015-461e-9168-f6586359bdeb",
   "metadata": {},
   "source": [
    "---\n",
    "## Working With Firestore"
   ]
  },
  {
   "cell_type": "markdown",
   "id": "df0f59cb-0b88-46ea-90a1-aaaa28af3c98",
   "metadata": {},
   "source": [
    "### Create/Retrieve Collection\n",
    "\n",
    "The client is setup above without a specific database reference which will defer to the `default` database.  Collection can be directly referenced even if they don't exists yet.\n",
    "\n",
    "Documentation References:\n",
    "- [Use a server client library](https://cloud.google.com/firestore/docs/create-database-server-client-library)\n",
    "- [Python Client for Cloud Firestore API](https://cloud.google.com/python/docs/reference/firestore/latest)\n",
    "    - [Firestore Client](https://cloud.google.com/python/docs/reference/firestore/latest/google.cloud.firestore_v1.client)"
   ]
  },
  {
   "cell_type": "code",
   "execution_count": 100,
   "id": "ee1904dd-fa16-4c31-8814-7afb9af44223",
   "metadata": {
    "tags": []
   },
   "outputs": [],
   "source": [
    "collection = fs.collection(f'{SERIES}-{EXPERIMENT}')\n",
    "doc_list = collection.limit(1).get()"
   ]
  },
  {
   "cell_type": "code",
   "execution_count": 101,
   "id": "62f81b0a-94d6-44fc-9731-fb834a194ddb",
   "metadata": {
    "tags": []
   },
   "outputs": [
    {
     "name": "stdout",
     "output_type": "stream",
     "text": [
      "Collection 'applied-genai-retrieval-firestore' does not exist.\n"
     ]
    }
   ],
   "source": [
    "if doc_list:\n",
    "    print(f\"Collection '{collection.id}' exists.\")\n",
    "else:\n",
    "    print(f\"Collection '{collection.id}' does not exist.\")"
   ]
  },
  {
   "cell_type": "markdown",
   "id": "e5e1039b-28bc-48ba-8e0c-ccf0c2805a02",
   "metadata": {},
   "source": [
    "Delete content from the environment to start this workflow fresh:"
   ]
  },
  {
   "cell_type": "code",
   "execution_count": 102,
   "id": "44cee36c-f6f5-45f0-b66b-62707c1d0447",
   "metadata": {
    "tags": []
   },
   "outputs": [],
   "source": [
    "if doc_list:\n",
    "    clear_collection = fs.recursive_delete(collection)"
   ]
  },
  {
   "cell_type": "markdown",
   "id": "fe908f65-720e-4135-8bce-4405a3b24f87",
   "metadata": {},
   "source": [
    "### Prepare Data For Firestore\n",
    "\n",
    "Basically, think dictionary or JSON, with `key:value` pairs and nesting is supported (and referred to as a map).  Read more about [data structure](https://cloud.google.com/firestore/docs/concepts/structure-data) and [supported data types](https://cloud.google.com/firestore/docs/concepts/data-types), specifically the vector type that is used to store the embedding vector rather than array which is also supported."
   ]
  },
  {
   "cell_type": "markdown",
   "id": "20a1b43c-7f8d-4dee-a8fb-1bcc742a9073",
   "metadata": {},
   "source": [
    "#### Get A Record/Document\n",
    "\n",
    "Dictionaries for each record/row are stored in `content_chunks` from earlier in this workflow:"
   ]
  },
  {
   "cell_type": "code",
   "execution_count": 103,
   "id": "04ad30ba-0716-48ed-81c9-c8d3001f7362",
   "metadata": {
    "tags": []
   },
   "outputs": [],
   "source": [
    "first_record = content_chunks[0].copy()"
   ]
  },
  {
   "cell_type": "code",
   "execution_count": 104,
   "id": "c7c7ceb2-a99c-4eda-b5cf-0eb02a1fc6e2",
   "metadata": {
    "tags": []
   },
   "outputs": [
    {
     "data": {
      "text/plain": [
       "dict_keys(['gse', 'chunk_id', 'content', 'embedding'])"
      ]
     },
     "execution_count": 104,
     "metadata": {},
     "output_type": "execute_result"
    }
   ],
   "source": [
    "first_record.keys()"
   ]
  },
  {
   "cell_type": "code",
   "execution_count": 105,
   "id": "987e68dc-4f05-48b9-afd4-69600885334f",
   "metadata": {
    "tags": []
   },
   "outputs": [
    {
     "data": {
      "text/plain": [
       "'fannie_part_0_c17'"
      ]
     },
     "execution_count": 105,
     "metadata": {},
     "output_type": "execute_result"
    }
   ],
   "source": [
    "first_record['chunk_id']"
   ]
  },
  {
   "cell_type": "code",
   "execution_count": 106,
   "id": "6ea922cb-fb36-4995-b1e8-09732467e505",
   "metadata": {
    "tags": []
   },
   "outputs": [
    {
     "data": {
      "text/plain": [
       "list"
      ]
     },
     "execution_count": 106,
     "metadata": {},
     "output_type": "execute_result"
    }
   ],
   "source": [
    "type(first_record['embedding'])"
   ]
  },
  {
   "cell_type": "markdown",
   "id": "3da63a19-2529-4ccd-a264-6e0c2baabd69",
   "metadata": {},
   "source": [
    "#### Prepare The Document\n",
    "\n",
    "Convert the embedding array (list of floats) into the `Vector` data type for Firestore:"
   ]
  },
  {
   "cell_type": "code",
   "execution_count": 107,
   "id": "e62dbbda-150b-4740-bac6-69230a5a07d9",
   "metadata": {
    "tags": []
   },
   "outputs": [],
   "source": [
    "first_record['embedding'] = firestore_v1.vector.Vector(first_record['embedding'])"
   ]
  },
  {
   "cell_type": "code",
   "execution_count": 108,
   "id": "530ef16a-e94b-44be-b550-bd91e23f8ca0",
   "metadata": {
    "tags": []
   },
   "outputs": [
    {
     "data": {
      "text/plain": [
       "google.cloud.firestore_v1.vector.Vector"
      ]
     },
     "execution_count": 108,
     "metadata": {},
     "output_type": "execute_result"
    }
   ],
   "source": [
    "type(first_record['embedding'])"
   ]
  },
  {
   "cell_type": "code",
   "execution_count": 109,
   "id": "f38b7ecf-694f-4c04-acb0-3e8e98a2a205",
   "metadata": {
    "tags": []
   },
   "outputs": [
    {
     "data": {
      "text/plain": [
       "768"
      ]
     },
     "execution_count": 109,
     "metadata": {},
     "output_type": "execute_result"
    }
   ],
   "source": [
    "len(first_record['embedding'])"
   ]
  },
  {
   "cell_type": "code",
   "execution_count": 110,
   "id": "d5850e91-9016-4a6e-b3ad-b5726a8da8f1",
   "metadata": {
    "tags": []
   },
   "outputs": [
    {
     "data": {
      "text/plain": [
       "(0.031277116388082504,\n",
       " 0.03056905046105385,\n",
       " 0.010865348391234875,\n",
       " 0.0623614676296711,\n",
       " 0.03228681534528732)"
      ]
     },
     "execution_count": 110,
     "metadata": {},
     "output_type": "execute_result"
    }
   ],
   "source": [
    "first_record['embedding'][0:5]"
   ]
  },
  {
   "cell_type": "markdown",
   "id": "109dcd60-4158-4469-ad9f-7eff2e2e308c",
   "metadata": {},
   "source": [
    "### Add, Retrive, And Delete Documents To The Database>Collection\n",
    "\n",
    "Learn about inserting, retrieving, and deleting records/rows with the following simple examples.\n",
    "\n",
    "From the collection object you can refer to a `.document('name')` object by name, even prior to creating it.  From this document object you can add its data to the database with `.set()`, update its contents with `.update` and remove the document with `.delete()`. "
   ]
  },
  {
   "cell_type": "markdown",
   "id": "f7000d3b-7612-44ba-8f24-cf88a52f9cfc",
   "metadata": {},
   "source": [
    "#### Insert Document\n"
   ]
  },
  {
   "cell_type": "code",
   "execution_count": 128,
   "id": "8c526541-112f-465c-a739-9c0af2bd35c9",
   "metadata": {
    "tags": []
   },
   "outputs": [
    {
     "data": {
      "text/plain": [
       "update_time {\n",
       "  seconds: 1731774848\n",
       "  nanos: 960261000\n",
       "}"
      ]
     },
     "execution_count": 128,
     "metadata": {},
     "output_type": "execute_result"
    }
   ],
   "source": [
    "document = collection.document(first_record['chunk_id'])\n",
    "document.set(first_record)"
   ]
  },
  {
   "cell_type": "markdown",
   "id": "0561aaa3-cba0-48f6-81a0-2dcc527aab1e",
   "metadata": {},
   "source": [
    "#### Retrieve Document"
   ]
  },
  {
   "cell_type": "code",
   "execution_count": 113,
   "id": "e20967b6-d2cf-4c26-94af-f7fb72764c0a",
   "metadata": {
    "tags": []
   },
   "outputs": [],
   "source": [
    "local_document = document.get()"
   ]
  },
  {
   "cell_type": "code",
   "execution_count": 114,
   "id": "706f6394-e3f3-4582-a2b9-7a8f5009424b",
   "metadata": {
    "tags": []
   },
   "outputs": [
    {
     "data": {
      "text/plain": [
       "dict_keys(['content', 'embedding', 'chunk_id', 'gse'])"
      ]
     },
     "execution_count": 114,
     "metadata": {},
     "output_type": "execute_result"
    }
   ],
   "source": [
    "local_document = local_document.to_dict()\n",
    "local_document.keys()"
   ]
  },
  {
   "cell_type": "code",
   "execution_count": 115,
   "id": "32edb448-d92a-4ba6-8d28-3cef592e6710",
   "metadata": {
    "tags": []
   },
   "outputs": [
    {
     "name": "stdout",
     "output_type": "stream",
     "text": [
      "fannie\n"
     ]
    }
   ],
   "source": [
    "print(local_document['gse'])"
   ]
  },
  {
   "cell_type": "code",
   "execution_count": 116,
   "id": "c5b9e434-c40a-4ec3-945c-4d5a19ba48d3",
   "metadata": {
    "tags": []
   },
   "outputs": [
    {
     "data": {
      "text/plain": [
       "google.cloud.firestore_v1.vector.Vector"
      ]
     },
     "execution_count": 116,
     "metadata": {},
     "output_type": "execute_result"
    }
   ],
   "source": [
    "type(local_document['embedding'])"
   ]
  },
  {
   "cell_type": "markdown",
   "id": "4d8ef819-461a-4732-8f39-fb71bbbb1f1e",
   "metadata": {},
   "source": [
    "#### Delete Document Field"
   ]
  },
  {
   "cell_type": "code",
   "execution_count": 117,
   "id": "ad2c62a8-3eb2-4bb1-8ffb-f9385f665575",
   "metadata": {
    "tags": []
   },
   "outputs": [
    {
     "data": {
      "text/plain": [
       "update_time {\n",
       "  seconds: 1731774285\n",
       "  nanos: 659604000\n",
       "}"
      ]
     },
     "execution_count": 117,
     "metadata": {},
     "output_type": "execute_result"
    }
   ],
   "source": [
    "document.update(dict(content = firestore.DELETE_FIELD))"
   ]
  },
  {
   "cell_type": "code",
   "execution_count": 118,
   "id": "5859551c-2eb0-4138-b5fd-60025ea18b7d",
   "metadata": {
    "tags": []
   },
   "outputs": [],
   "source": [
    "local_document = document.get()"
   ]
  },
  {
   "cell_type": "code",
   "execution_count": 119,
   "id": "d28bc33e-13da-47ed-acf7-b742e20cb5ed",
   "metadata": {
    "tags": []
   },
   "outputs": [
    {
     "data": {
      "text/plain": [
       "dict_keys(['chunk_id', 'embedding', 'gse'])"
      ]
     },
     "execution_count": 119,
     "metadata": {},
     "output_type": "execute_result"
    }
   ],
   "source": [
    "local_document = local_document.to_dict()\n",
    "local_document.keys()"
   ]
  },
  {
   "cell_type": "markdown",
   "id": "e97e3fed-5ffa-4053-b17b-ecf2753a46a6",
   "metadata": {
    "tags": []
   },
   "source": [
    "#### Delete Document"
   ]
  },
  {
   "cell_type": "code",
   "execution_count": 132,
   "id": "8cc0a3a4-3a89-43aa-8cb2-02796f0da560",
   "metadata": {
    "tags": []
   },
   "outputs": [
    {
     "data": {
      "text/plain": [
       "DatetimeWithNanoseconds(2024, 11, 16, 16, 34, 26, 213932, tzinfo=datetime.timezone.utc)"
      ]
     },
     "execution_count": 132,
     "metadata": {},
     "output_type": "execute_result"
    }
   ],
   "source": [
    "document.delete()"
   ]
  },
  {
   "cell_type": "code",
   "execution_count": 133,
   "id": "197184a2-1fb1-497f-9db2-a831db627629",
   "metadata": {
    "tags": []
   },
   "outputs": [
    {
     "data": {
      "text/plain": [
       "False"
      ]
     },
     "execution_count": 133,
     "metadata": {},
     "output_type": "execute_result"
    }
   ],
   "source": [
    "document.get().exists"
   ]
  },
  {
   "cell_type": "markdown",
   "id": "95802938-fc31-4343-8666-11076bc0b2b6",
   "metadata": {},
   "source": [
    "### Load Data"
   ]
  },
  {
   "cell_type": "markdown",
   "id": "c29ccabc-bcc9-46c8-a8c4-c65552dff74b",
   "metadata": {},
   "source": [
    "Verify the colleciton is empty:"
   ]
  },
  {
   "cell_type": "code",
   "execution_count": 136,
   "id": "2d481a4a-a2b4-4ffb-b4b4-ba74fba28937",
   "metadata": {
    "tags": []
   },
   "outputs": [
    {
     "data": {
      "text/plain": [
       "0"
      ]
     },
     "execution_count": 136,
     "metadata": {},
     "output_type": "execute_result"
    }
   ],
   "source": [
    "doc_list = collection.limit(1).get()\n",
    "len(doc_list)"
   ]
  },
  {
   "cell_type": "markdown",
   "id": "367be167-b647-404c-864a-4589043e6e3e",
   "metadata": {},
   "source": [
    "Prepare the embedding values as `Vector` type for all records:"
   ]
  },
  {
   "cell_type": "code",
   "execution_count": 137,
   "id": "4a34d983-7538-4622-bb38-69daf5ebf748",
   "metadata": {
    "tags": []
   },
   "outputs": [],
   "source": [
    "for chunk in content_chunks:\n",
    "    if type(chunk['embedding']) == list:\n",
    "        chunk['embedding'] = firestore_v1.vector.Vector(chunk['embedding'])"
   ]
  },
  {
   "cell_type": "markdown",
   "id": "cce5dd0b-bddb-404c-9b23-dbbc1eab9b46",
   "metadata": {},
   "source": [
    "Create document references for each chunk:"
   ]
  },
  {
   "cell_type": "code",
   "execution_count": 144,
   "id": "37fb50d7-5c3a-4087-9cf2-b5d023e6d861",
   "metadata": {
    "tags": []
   },
   "outputs": [],
   "source": [
    "doc_refs = [collection.document(chunk['chunk_id']) for chunk in content_chunks]"
   ]
  },
  {
   "cell_type": "markdown",
   "id": "848f357b-b87d-4cc5-b7e7-519d9af71014",
   "metadata": {},
   "source": [
    "Create an async function that set the document values (adds) to the Firebase database collection:"
   ]
  },
  {
   "cell_type": "code",
   "execution_count": 145,
   "id": "2f296c27-8ed2-42af-9236-5f5157fc0bc1",
   "metadata": {
    "tags": []
   },
   "outputs": [],
   "source": [
    "async def add_document(doc_ref, data):\n",
    "    doc_ref.set(data)"
   ]
  },
  {
   "cell_type": "markdown",
   "id": "53ae65b2-c391-4905-a2eb-dbb269131727",
   "metadata": {},
   "source": [
    "Create a list of tasks that will add documents to the collection:"
   ]
  },
  {
   "cell_type": "code",
   "execution_count": 146,
   "id": "c07be86e-0e8a-4320-89d9-9fd9cd517a6f",
   "metadata": {
    "tags": []
   },
   "outputs": [],
   "source": [
    "tasks = [add_document(doc_ref, chunk) for doc_ref, chunk in zip(doc_refs, content_chunks)]"
   ]
  },
  {
   "cell_type": "markdown",
   "id": "69d8d0d8-74e6-421c-b22c-175aa113418b",
   "metadata": {},
   "source": [
    "Run all the tasks with `asyncio.gather` and `await` the result:"
   ]
  },
  {
   "cell_type": "code",
   "execution_count": 147,
   "id": "fb4a810f-3fb2-46d3-ad1b-d0a1b491d4cf",
   "metadata": {
    "tags": []
   },
   "outputs": [],
   "source": [
    "results = await asyncio.gather(*tasks)"
   ]
  },
  {
   "cell_type": "markdown",
   "id": "0fb72f6e-3c27-4e0e-a475-16b1fea31cba",
   "metadata": {},
   "source": [
    "Verify the results:"
   ]
  },
  {
   "cell_type": "code",
   "execution_count": 150,
   "id": "7cefbb20-fcfe-4de7-9193-43ea0c1bed7d",
   "metadata": {
    "tags": []
   },
   "outputs": [
    {
     "data": {
      "text/plain": [
       "1"
      ]
     },
     "execution_count": 150,
     "metadata": {},
     "output_type": "execute_result"
    }
   ],
   "source": [
    "doc_list = collection.limit(1).get()\n",
    "len(doc_list)"
   ]
  },
  {
   "cell_type": "markdown",
   "id": "9cb052de-bc7d-4f91-a65e-f88d324fd615",
   "metadata": {},
   "source": [
    "---\n",
    "## Setup Firestore for Vector Similarity Search\n",
    "\n"
   ]
  },
  {
   "cell_type": "code",
   "execution_count": null,
   "id": "0d04a881-0988-48f4-a4a2-75388c9e137a",
   "metadata": {},
   "outputs": [],
   "source": []
  },
  {
   "cell_type": "code",
   "execution_count": null,
   "id": "3e42c926-12ad-4851-8b76-9c8aef8c2d91",
   "metadata": {},
   "outputs": [],
   "source": []
  },
  {
   "cell_type": "code",
   "execution_count": null,
   "id": "b72f0444-3f36-4c44-802e-902732d73e79",
   "metadata": {},
   "outputs": [],
   "source": []
  },
  {
   "cell_type": "code",
   "execution_count": null,
   "id": "168f4f9a-3635-480a-b071-99ff3d36c3f1",
   "metadata": {},
   "outputs": [],
   "source": []
  },
  {
   "cell_type": "markdown",
   "id": "59bdbc8f-e6dd-4848-a2e5-2c4984acd78c",
   "metadata": {},
   "source": [
    "### Create Indexes\n",
    "\n",
    "https://cloud.google.com/firestore/docs/reference/rpc/google.firestore.admin.v1#google.firestore.admin.v1.CreateIndexRequest\n",
    "\n",
    "https://cloud.google.com/python/docs/reference/firestore/latest/google.cloud.firestore_admin_v1.services.firestore_admin.client.FirestoreAdminClient\n",
    "\n",
    "https://cloud.google.com/python/docs/reference/firestore/latest/google.cloud.firestore_admin_v1.services.firestore_admin.client.FirestoreAdminClient#google_cloud_firestore_admin_v1_services_firestore_admin_client_FirestoreAdminClient_create_index\n",
    "\n",
    "\n",
    "\n",
    "https://firebase.google.com/docs/firestore/vector-search\n",
    "\n",
    "\n",
    "idea:\n",
    "- create vector index\n",
    "- match with index\n",
    "- create commposite index\n",
    "- match with composite = pre-filter\n"
   ]
  },
  {
   "cell_type": "code",
   "execution_count": 268,
   "id": "c4b2b260-b6b2-4b9e-8f8c-843830bc76d1",
   "metadata": {
    "tags": []
   },
   "outputs": [
    {
     "data": {
      "text/plain": [
       "[]"
      ]
     },
     "execution_count": 268,
     "metadata": {},
     "output_type": "execute_result"
    }
   ],
   "source": [
    "indexes = list(fs_admin.list_indexes(\n",
    "    parent = f\"{database.name}/collectionGroups/{collection.id}\"\n",
    "))\n",
    "indexes"
   ]
  },
  {
   "cell_type": "code",
   "execution_count": 269,
   "id": "fb6a17e8-15fb-49a7-aba7-7eac62d0123e",
   "metadata": {
    "tags": []
   },
   "outputs": [
    {
     "name": "stdout",
     "output_type": "stream",
     "text": [
      "Creating an index for just the embedding ...\n",
      "\n"
     ]
    },
    {
     "data": {
      "text/plain": [
       "name: \"projects/statmike-mlops-349915/databases/(default)/collectionGroups/applied-genai-retrieval-firestore/indexes/CICAgJj7z4EK\"\n",
       "query_scope: COLLECTION\n",
       "fields {\n",
       "  field_path: \"__name__\"\n",
       "  order: ASCENDING\n",
       "}\n",
       "fields {\n",
       "  field_path: \"embedding\"\n",
       "  vector_config {\n",
       "    dimension: 768\n",
       "    flat {\n",
       "    }\n",
       "  }\n",
       "}\n",
       "state: READY"
      ]
     },
     "execution_count": 269,
     "metadata": {},
     "output_type": "execute_result"
    }
   ],
   "source": [
    "vector_index = next(\n",
    "    (index for index in indexes if {'embedding'} == {field.field_path for field in index.fields if field.field_path != '__name__'}),\n",
    "    None\n",
    ")\n",
    "\n",
    "if vector_index:\n",
    "    print(f'Found an index for just the embedding:\\n')\n",
    "else:\n",
    "    print(f'Creating an index for just the embedding ...\\n')\n",
    "    create_index = fs_admin.create_index(\n",
    "        request = firestore_admin_v1.types.CreateIndexRequest(\n",
    "            parent = f\"{database.name}/collectionGroups/{collection.id}\",\n",
    "            index = firestore_admin_v1.types.Index(\n",
    "                query_scope = firestore_admin_v1.types.Index.QueryScope.COLLECTION,\n",
    "                fields = [\n",
    "                    firestore_admin_v1.types.Index.IndexField(\n",
    "                        field_path = 'embedding',\n",
    "                        vector_config = firestore_admin_v1.types.Index.IndexField.VectorConfig(\n",
    "                            dimension = 768,\n",
    "                            flat = firestore_admin_v1.types.Index.IndexField.VectorConfig.FlatIndex()\n",
    "                        )\n",
    "                    ),\n",
    "                ]\n",
    "            )\n",
    "        )\n",
    "    )\n",
    "    index = create_index.result()\n",
    "    vector_index = fs_admin.get_index(name = index.name)\n",
    "\n",
    "vector_index"
   ]
  },
  {
   "cell_type": "code",
   "execution_count": 270,
   "id": "5eb173db-6c23-428e-bfda-27b6887cc860",
   "metadata": {
    "tags": []
   },
   "outputs": [],
   "source": [
    "matches = collection.find_nearest(\n",
    "    vector_field = 'embedding',\n",
    "    query_vector = firestore_v1.vector.Vector(question_embedding),\n",
    "    limit = 5,\n",
    "    distance_measure = firestore_v1.base_vector_query.DistanceMeasure.DOT_PRODUCT\n",
    ").get()"
   ]
  },
  {
   "cell_type": "code",
   "execution_count": 271,
   "id": "43dc0b6b-2954-49d0-96b2-b5b8852e45be",
   "metadata": {
    "tags": []
   },
   "outputs": [
    {
     "data": {
      "text/plain": [
       "google.cloud.firestore_v1.query_results.QueryResultsList"
      ]
     },
     "execution_count": 271,
     "metadata": {},
     "output_type": "execute_result"
    }
   ],
   "source": [
    "type(matches)"
   ]
  },
  {
   "cell_type": "code",
   "execution_count": 272,
   "id": "fc25a49c-55fb-45d5-aadb-58824faa4e64",
   "metadata": {
    "tags": []
   },
   "outputs": [],
   "source": [
    "matches = list(matches)"
   ]
  },
  {
   "cell_type": "code",
   "execution_count": 273,
   "id": "b1faadaa-a42d-4f2f-97e6-1f0eb1e43782",
   "metadata": {
    "tags": []
   },
   "outputs": [
    {
     "data": {
      "text/plain": [
       "5"
      ]
     },
     "execution_count": 273,
     "metadata": {},
     "output_type": "execute_result"
    }
   ],
   "source": [
    "len(matches)"
   ]
  },
  {
   "cell_type": "code",
   "execution_count": 274,
   "id": "f5d3dcf0-342a-47c2-abdc-25b7294b38c5",
   "metadata": {
    "tags": []
   },
   "outputs": [
    {
     "data": {
      "text/plain": [
       "['fannie_part_0_c352',\n",
       " 'freddie_part_4_c509',\n",
       " 'freddie_part_4_c510',\n",
       " 'fannie_part_0_c353',\n",
       " 'fannie_part_0_c326']"
      ]
     },
     "execution_count": 274,
     "metadata": {},
     "output_type": "execute_result"
    }
   ],
   "source": [
    "[match.id for match in matches]"
   ]
  },
  {
   "cell_type": "code",
   "execution_count": 275,
   "id": "defc9c67-03ff-424b-9ac9-79e3a58db78b",
   "metadata": {
    "tags": []
   },
   "outputs": [
    {
     "data": {
      "text/plain": [
       "'# A3-3-03, Other Servicing Arrangements (12/15/2015)\\n\\nIntroduction This topic provides an overview of other servicing arrangements, including: • Subservicing • General Requirements for Subservicing Arrangements • Pledge of Servicing Rights and Transfer of Interest in Servicing Income\\n\\n## Subservicing\\n\\nA lender may use other organizations to perform some or all of its servicing functions. Fannie Mae refers to these arrangements as “subservicing” arrangements, meaning that a servicer (the “subservicer”) other than the contractually responsible servicer (the “master” servicer) is performing the servicing functions. The following are not considered to be subservicing arrangements: • when a computer service bureau is used to perform accounting and reporting functions; • when the originating lender sells and assigns servicing to another lender, unless the originating lender continues to be the contractually responsible servicer.'"
      ]
     },
     "execution_count": 275,
     "metadata": {},
     "output_type": "execute_result"
    }
   ],
   "source": [
    "matches[0].to_dict()['content']"
   ]
  },
  {
   "cell_type": "code",
   "execution_count": 276,
   "id": "d51935bf-5d49-4006-8b2c-573c4189f67e",
   "metadata": {
    "tags": []
   },
   "outputs": [
    {
     "name": "stdout",
     "output_type": "stream",
     "text": [
      "Creating a composite index for just the embedding and gse ...\n",
      "\n"
     ]
    },
    {
     "data": {
      "text/plain": [
       "name: \"projects/statmike-mlops-349915/databases/(default)/collectionGroups/applied-genai-retrieval-firestore/indexes/CICAgJjFvYoK\"\n",
       "query_scope: COLLECTION\n",
       "fields {\n",
       "  field_path: \"gse\"\n",
       "  order: ASCENDING\n",
       "}\n",
       "fields {\n",
       "  field_path: \"__name__\"\n",
       "  order: ASCENDING\n",
       "}\n",
       "fields {\n",
       "  field_path: \"embedding\"\n",
       "  vector_config {\n",
       "    dimension: 768\n",
       "    flat {\n",
       "    }\n",
       "  }\n",
       "}\n",
       "state: READY"
      ]
     },
     "execution_count": 276,
     "metadata": {},
     "output_type": "execute_result"
    }
   ],
   "source": [
    "composite_index = next(\n",
    "    (index for index in indexes if {'embedding', 'gse'} == {field.field_path for field in index.fields if field.field_path != '__name__'}),\n",
    "    None\n",
    ")\n",
    "\n",
    "if composite_index:\n",
    "    print(f'Found a composite index for the embedding and gse:\\n')\n",
    "else:\n",
    "    print(f'Creating a composite index for just the embedding and gse ...\\n')\n",
    "    create_index = fs_admin.create_index(\n",
    "        request = firestore_admin_v1.types.CreateIndexRequest(\n",
    "            parent = f\"{database.name}/collectionGroups/{collection.id}\",\n",
    "            index = firestore_admin_v1.types.Index(\n",
    "                query_scope = firestore_admin_v1.types.Index.QueryScope.COLLECTION,\n",
    "                fields = [\n",
    "                    firestore_admin_v1.types.Index.IndexField(\n",
    "                        field_path = 'gse',\n",
    "                        order = firestore_admin_v1.types.Index.IndexField.Order.ASCENDING\n",
    "                    ),\n",
    "                    firestore_admin_v1.types.Index.IndexField(\n",
    "                        field_path = 'embedding',\n",
    "                        vector_config = firestore_admin_v1.types.Index.IndexField.VectorConfig(\n",
    "                            dimension = 768,\n",
    "                            flat = firestore_admin_v1.types.Index.IndexField.VectorConfig.FlatIndex()\n",
    "                        )\n",
    "                    ),\n",
    "                ]\n",
    "            )\n",
    "        )\n",
    "    )\n",
    "    index = create_index.result()\n",
    "    composite_index = fs_admin.get_index(name = index.name)\n",
    "    \n",
    "composite_index"
   ]
  },
  {
   "cell_type": "code",
   "execution_count": 17,
   "id": "a5db3593-e162-43be-8a42-c928b8b77bf0",
   "metadata": {
    "tags": []
   },
   "outputs": [],
   "source": [
    "matches = collection.where(filter = firestore_v1.base_query.FieldFilter('gse', '==', 'fannie')).find_nearest(\n",
    "    vector_field = 'embedding',\n",
    "    query_vector = firestore_v1.vector.Vector(question_embedding),\n",
    "    limit = 5,\n",
    "    distance_measure = firestore_v1.base_vector_query.DistanceMeasure.DOT_PRODUCT\n",
    ").get()"
   ]
  },
  {
   "cell_type": "code",
   "execution_count": 22,
   "id": "4d2f7d85-ae3c-4275-b275-c29008348e7e",
   "metadata": {
    "tags": []
   },
   "outputs": [
    {
     "data": {
      "text/plain": [
       "['fannie_part_0_c352',\n",
       " 'fannie_part_0_c353',\n",
       " 'fannie_part_0_c326',\n",
       " 'fannie_part_0_c92',\n",
       " 'fannie_part_0_c240']"
      ]
     },
     "execution_count": 22,
     "metadata": {},
     "output_type": "execute_result"
    }
   ],
   "source": [
    "[match.id for match in matches]"
   ]
  },
  {
   "cell_type": "code",
   "execution_count": 19,
   "id": "729f3263-bafe-4808-bf3d-c5d4322a2f8d",
   "metadata": {
    "tags": []
   },
   "outputs": [
    {
     "data": {
      "text/plain": [
       "'# A3-3-03, Other Servicing Arrangements (12/15/2015)\\n\\nIntroduction This topic provides an overview of other servicing arrangements, including: • Subservicing • General Requirements for Subservicing Arrangements • Pledge of Servicing Rights and Transfer of Interest in Servicing Income\\n\\n## Subservicing\\n\\nA lender may use other organizations to perform some or all of its servicing functions. Fannie Mae refers to these arrangements as “subservicing” arrangements, meaning that a servicer (the “subservicer”) other than the contractually responsible servicer (the “master” servicer) is performing the servicing functions. The following are not considered to be subservicing arrangements: • when a computer service bureau is used to perform accounting and reporting functions; • when the originating lender sells and assigns servicing to another lender, unless the originating lender continues to be the contractually responsible servicer.'"
      ]
     },
     "execution_count": 19,
     "metadata": {},
     "output_type": "execute_result"
    }
   ],
   "source": [
    "matches[0].to_dict()['content']"
   ]
  },
  {
   "cell_type": "code",
   "execution_count": null,
   "id": "e3448f48-ad88-4eec-8c93-a80788241717",
   "metadata": {},
   "outputs": [],
   "source": []
  },
  {
   "cell_type": "code",
   "execution_count": null,
   "id": "d14f6298-3896-4db5-97c5-63119660b4a1",
   "metadata": {},
   "outputs": [],
   "source": []
  },
  {
   "cell_type": "code",
   "execution_count": 39,
   "id": "b6192d2c-be3a-4cd3-b1bf-c1ba59d55300",
   "metadata": {},
   "outputs": [],
   "source": [
    "matches = collection.select(['id', 'vector_distance']).find_nearest(\n",
    "    vector_field = 'embedding',\n",
    "    query_vector = firestore_v1.vector.Vector(question_embedding),\n",
    "    limit = 5,\n",
    "    distance_measure = firestore_v1.base_vector_query.DistanceMeasure.DOT_PRODUCT,\n",
    "    distance_result_field = \"vector_distance\",\n",
    ").get()"
   ]
  },
  {
   "cell_type": "code",
   "execution_count": 40,
   "id": "cbc9c1fc-1d1d-4d98-a02c-d6e20e5e3e4f",
   "metadata": {},
   "outputs": [
    {
     "data": {
      "text/plain": [
       "[('fannie_part_0_c352', 0.7099842015202704),\n",
       " ('freddie_part_4_c509', 0.6805260859043879),\n",
       " ('freddie_part_4_c510', 0.6753296984114657),\n",
       " ('fannie_part_0_c353', 0.6723706814818051),\n",
       " ('fannie_part_0_c326', 0.6683496311110355)]"
      ]
     },
     "execution_count": 40,
     "metadata": {},
     "output_type": "execute_result"
    }
   ],
   "source": [
    "[(match.id, match.get('vector_distance')) for match in matches]"
   ]
  },
  {
   "cell_type": "code",
   "execution_count": null,
   "id": "b3b7cc49-40e1-4fca-9fff-7c152cc51328",
   "metadata": {},
   "outputs": [],
   "source": []
  },
  {
   "cell_type": "code",
   "execution_count": null,
   "id": "ba4d0fc5-d696-44c8-b878-b1f8cdf842db",
   "metadata": {},
   "outputs": [],
   "source": []
  },
  {
   "cell_type": "code",
   "execution_count": 36,
   "id": "b9cb8f09-9d68-4085-8507-f5b6b2e1f7c1",
   "metadata": {},
   "outputs": [],
   "source": [
    "matches = collection.select(['id', 'vector_distance']).find_nearest(\n",
    "    vector_field = 'embedding',\n",
    "    query_vector = firestore_v1.vector.Vector(question_embedding),\n",
    "    limit = 5,\n",
    "    distance_measure = firestore_v1.base_vector_query.DistanceMeasure.DOT_PRODUCT,\n",
    "    distance_result_field = \"vector_distance\",\n",
    "    distance_threshold = 0.69\n",
    ").get()"
   ]
  },
  {
   "cell_type": "code",
   "execution_count": 37,
   "id": "5afc7f36-5b4d-49dc-aa4b-28812d0f7b22",
   "metadata": {},
   "outputs": [
    {
     "data": {
      "text/plain": [
       "[{'id': 'fannie_part_0_c352', 'vector_distance': 0.7099842015202704}]"
      ]
     },
     "execution_count": 37,
     "metadata": {},
     "output_type": "execute_result"
    }
   ],
   "source": [
    "[match.to_dict() for match in matches]"
   ]
  },
  {
   "cell_type": "code",
   "execution_count": null,
   "id": "565f3618-f63a-4046-ae49-4a1e1bdff333",
   "metadata": {},
   "outputs": [],
   "source": []
  },
  {
   "cell_type": "code",
   "execution_count": null,
   "id": "28fd8700-78cc-4ccb-be99-040f1f19e3bb",
   "metadata": {},
   "outputs": [],
   "source": []
  },
  {
   "cell_type": "code",
   "execution_count": null,
   "id": "c35fd5e1-d101-4ae8-bc18-0e6d5ce453b4",
   "metadata": {},
   "outputs": [],
   "source": []
  },
  {
   "cell_type": "code",
   "execution_count": null,
   "id": "e939b283-b70a-40c8-9e95-ffd8d587f728",
   "metadata": {},
   "outputs": [],
   "source": []
  },
  {
   "cell_type": "code",
   "execution_count": null,
   "id": "7eb18eec-03c9-4ea5-8789-615b246c0047",
   "metadata": {},
   "outputs": [],
   "source": []
  },
  {
   "cell_type": "code",
   "execution_count": null,
   "id": "08794663-4710-49b4-9cd6-bb93a11819bf",
   "metadata": {},
   "outputs": [],
   "source": []
  },
  {
   "cell_type": "code",
   "execution_count": null,
   "id": "dbaf11c1-8c54-458d-a78c-3cb466a8a2e8",
   "metadata": {},
   "outputs": [],
   "source": []
  },
  {
   "cell_type": "code",
   "execution_count": null,
   "id": "8a14e287-4b50-4b3f-a303-a2e19eef03dc",
   "metadata": {},
   "outputs": [],
   "source": []
  },
  {
   "cell_type": "markdown",
   "id": "14bff763-1270-4c32-b930-67b0f0ef9faf",
   "metadata": {},
   "source": [
    "## Remove Resources"
   ]
  },
  {
   "cell_type": "code",
   "execution_count": null,
   "id": "74a19005-2b7a-49d0-8d09-fe72bfd4b694",
   "metadata": {},
   "outputs": [],
   "source": [
    "# delete all documents in the collection\n",
    "#fs.recursive_delete(collection)"
   ]
  },
  {
   "cell_type": "code",
   "execution_count": 54,
   "id": "059a56c2-82c4-4b68-8dbe-3d157a556d68",
   "metadata": {
    "tags": []
   },
   "outputs": [],
   "source": [
    "#for index in list(fs_admin.list_indexes(parent = f\"{database.name}/collectionGroups/{collection.id}\")):\n",
    "#    fs_admin.delete_index(name = index.name)"
   ]
  },
  {
   "cell_type": "code",
   "execution_count": null,
   "id": "437fcd09-b32a-4f6a-9359-d4e9c2e5dce4",
   "metadata": {},
   "outputs": [],
   "source": []
  }
 ],
 "metadata": {
  "environment": {
   "kernel": "conda-base-py",
   "name": "workbench-notebooks.m125",
   "type": "gcloud",
   "uri": "us-docker.pkg.dev/deeplearning-platform-release/gcr.io/workbench-notebooks:m125"
  },
  "kernelspec": {
   "display_name": "Python 3 (ipykernel) (Local)",
   "language": "python",
   "name": "conda-base-py"
  },
  "language_info": {
   "codemirror_mode": {
    "name": "ipython",
    "version": 3
   },
   "file_extension": ".py",
   "mimetype": "text/x-python",
   "name": "python",
   "nbconvert_exporter": "python",
   "pygments_lexer": "ipython3",
   "version": "3.10.15"
  }
 },
 "nbformat": 4,
 "nbformat_minor": 5
}
