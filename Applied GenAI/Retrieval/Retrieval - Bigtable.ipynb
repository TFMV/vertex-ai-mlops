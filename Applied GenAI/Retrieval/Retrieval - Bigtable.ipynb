{
 "cells": [
  {
   "cell_type": "markdown",
   "id": "e89180c9",
   "metadata": {},
   "source": [
    "![tracker](https://us-central1-vertex-ai-mlops-369716.cloudfunctions.net/pixel-tracking?path=statmike%2Fvertex-ai-mlops%2FApplied+GenAI%2FRetrieval&file=Retrieval+-+Bigtable.ipynb)\n",
    "<!--- header table --->\n",
    "<table align=\"left\">\n",
    "  <td style=\"text-align: center\">\n",
    "    <a href=\"https://colab.research.google.com/github/statmike/vertex-ai-mlops/blob/main/Applied%20GenAI/Retrieval/Retrieval%20-%20Bigtable.ipynb\">\n",
    "      <img src=\"https://cloud.google.com/ml-engine/images/colab-logo-32px.png\" alt=\"Google Colaboratory logo\">\n",
    "      <br>Run in<br>Colab\n",
    "    </a>\n",
    "  </td>\n",
    "  <td style=\"text-align: center\">\n",
    "    <a href=\"https://console.cloud.google.com/vertex-ai/colab/import/https%3A%2F%2Fraw.githubusercontent.com%2Fstatmike%2Fvertex-ai-mlops%2Fmain%2FApplied%2520GenAI%2FRetrieval%2FRetrieval%2520-%2520Bigtable.ipynb\">\n",
    "      <img width=\"32px\" src=\"https://lh3.googleusercontent.com/JmcxdQi-qOpctIvWKgPtrzZdJJK-J3sWE1RsfjZNwshCFgE_9fULcNpuXYTilIR2hjwN\" alt=\"Google Cloud Colab Enterprise logo\">\n",
    "      <br>Run in<br>Colab Enterprise\n",
    "    </a>\n",
    "  </td>      \n",
    "  <td style=\"text-align: center\">\n",
    "    <a href=\"https://github.com/statmike/vertex-ai-mlops/blob/main/Applied%20GenAI/Retrieval/Retrieval%20-%20Bigtable.ipynb\">\n",
    "      <img src=\"https://cloud.google.com/ml-engine/images/github-logo-32px.png\" alt=\"GitHub logo\">\n",
    "      <br>View on<br>GitHub\n",
    "    </a>\n",
    "  </td>\n",
    "  <td style=\"text-align: center\">\n",
    "    <a href=\"https://console.cloud.google.com/vertex-ai/workbench/deploy-notebook?download_url=https://raw.githubusercontent.com/statmike/vertex-ai-mlops/main/Applied%20GenAI/Retrieval/Retrieval%20-%20Bigtable.ipynb\">\n",
    "      <img src=\"https://lh3.googleusercontent.com/UiNooY4LUgW_oTvpsNhPpQzsstV5W8F7rYgxgGBD85cWJoLmrOzhVs_ksK_vgx40SHs7jCqkTkCk=e14-rj-sc0xffffff-h130-w32\" alt=\"Vertex AI logo\">\n",
    "      <br>Open in<br>Vertex AI Workbench\n",
    "    </a>\n",
    "  </td>\n",
    "</table>"
   ]
  },
  {
   "cell_type": "markdown",
   "id": "96b0e8e6-d761-4540-9d09-8f0c4ce9a020",
   "metadata": {},
   "source": [
    "# Retrieval - Bigtable\n",
    "\n",
    "In prior workflows, a series of documents was [processed into chunks](../Chunking/readme.md), and for each chunk, [embeddings](../Embeddings/readme.md) were created:\n",
    "\n",
    "- Process: [Large Document Processing - Document AI Layout Parser](../Chunking/Large%20Document%20Processing%20-%20Document%20AI%20Layout%20Parser.ipynb)\n",
    "- Embed: [Vertex AI Text Embeddings API](../Embeddings/Vertex%20AI%20Text%20Embeddings%20API.ipynb)\n",
    "\n",
    "Retrieving chunks for a query involves calculating the embedding for the query and then using similarity metrics to find relevant chunks. A thorough review of similarity matching can be found in [The Math of Similarity](../Embeddings/The%20Math%20of%20Similarity.ipynb) - use dot product! As development moves from experiment to application, the process of storing and computing similarity is migrated to a [retrieval](./readme.md) system. This workflow is part of a [series of workflows exploring many retrieval systems](./readme.md).\n",
    "\n",
    "---\n",
    "\n",
    "**Bigtable For Storage, And Search**\n",
    "\n",
    "[Google Cloud Bigtable](https://cloud.google.com/bigtable) is a fully managed, scalable NoSQL wide-column database service. It's the same technology that powers many core Google services, including Search, Maps, and Gmail! Bigtable is designed for high throughput and low latency, making it suitable for large-scale analytical and operational workloads.\n",
    "\n",
    "- **Key Features:**\n",
    "\n",
    "    - **Scalability:** Bigtable can handle massive amounts of data and traffic, scaling seamlessly to meet your needs.\n",
    "    - **Performance:** It provides low latency and high throughput, making it ideal for applications that require fast data access.\n",
    "    - **Wide-Column Data Model:** Bigtable's flexible data model allows you to store and query data with a large number of columns, making it suitable for sparse and semi-structured data.\n",
    "    - **Integration:** Bigtable integrates with other Google Cloud services, such as BigQuery and Dataflow, for data analytics and processing.\n",
    "\n",
    "- **Built-in Nearest Neighbor Search:**\n",
    "\n",
    "    - Bigtable now offers [built-in support for nearest neighbor search](https://cloud.google.com/bigtable/docs/find-k-nearest-neighbors#perform-knn-search) with vector embeddings.\n",
    "    - You [write embeddings to Bigtable](https://cloud.google.com/bigtable/docs/find-k-nearest-neighbors#write-embeddings) as [byte objects](https://cloud.google.com/bigtable/docs/find-k-nearest-neighbors#define-conversion-functions).\n",
    "    - Using the [new SQL interface in Bigtable](https://cloud.google.com/bigtable/docs/introduction-sql), you can perform efficient nearest neighbor searches using embeddings.\n",
    "\n",
    "---\n",
    "\n",
    "**Use Case Data**\n",
    "\n",
    "Buying a home usually involves borrowing money from a lending institution, typically through a mortgage secured by the home's value. But how do these institutions manage the risks associated with such large loans, and how are lending standards established?\n",
    "\n",
    "In the United States, two government-sponsored enterprises (GSEs) play a vital role in the housing market:\n",
    "\n",
    "- Federal National Mortgage Association ([Fannie Mae](https://www.fanniemae.com/))\n",
    "- Federal Home Loan Mortgage Corporation ([Freddie Mac](https://www.freddiemac.com/))\n",
    "\n",
    "These GSEs purchase mortgages from lenders, enabling those lenders to offer more loans. This process also allows Fannie Mae and Freddie Mac to set standards for mortgages, ensuring they are responsible and borrowers are more likely to repay them. This system makes homeownership more affordable and stabilizes the housing market by maintaining a steady flow of liquidity for lenders and keeping interest rates controlled.\n",
    "\n",
    "However, navigating the complexities of these GSEs and their extensive servicing guides can be challenging.\n",
    "\n",
    "**Approaches**\n",
    "\n",
    "[This series](../readme.md) covers many generative AI workflows. These documents are used directly as long context for Gemini in the workflow [Long Context Retrieval With The Vertex AI Gemini API](../Generate/Long%20Context%20Retrieval%20With%20The%20Vertex%20AI%20Gemini%20API.ipynb). The workflow below uses a [retrieval](./readme.md) approach with the already generated chunks and embeddings."
   ]
  },
  {
   "cell_type": "markdown",
   "id": "be889472-69b0-416c-9cf1-edc9706fa5c5",
   "metadata": {
    "id": "od_UkDpvRmgD"
   },
   "source": [
    "---\n",
    "## Colab Setup\n",
    "\n",
    "When running this notebook in [Colab](https://colab.google/) or [Colab Enterprise](https://cloud.google.com/colab/docs/introduction), this section will authenticate to GCP (follow prompts in the popup) and set the current project for the session."
   ]
  },
  {
   "cell_type": "code",
   "execution_count": 1,
   "id": "21f75ba8-df50-466e-a5ec-f2a6dd88eb26",
   "metadata": {
    "executionInfo": {
     "elapsed": 195,
     "status": "ok",
     "timestamp": 1683726184843,
     "user": {
      "displayName": "Mike Henderson",
      "userId": "07691629187611687318"
     },
     "user_tz": 240
    },
    "id": "8UO9FnqyKBlF",
    "tags": []
   },
   "outputs": [],
   "source": [
    "PROJECT_ID = 'statmike-mlops-349915' # replace with project ID"
   ]
  },
  {
   "cell_type": "code",
   "execution_count": 2,
   "id": "9c325515-1ea0-45cc-82d3-a1bfb1c52155",
   "metadata": {
    "colab": {
     "base_uri": "https://localhost:8080/"
    },
    "executionInfo": {
     "elapsed": 68869,
     "status": "ok",
     "timestamp": 1683726253709,
     "user": {
      "displayName": "Mike Henderson",
      "userId": "07691629187611687318"
     },
     "user_tz": 240
    },
    "id": "N98-KK7LRkjm",
    "outputId": "09ec5008-0def-4e1a-c349-c598ee752f78",
    "tags": []
   },
   "outputs": [],
   "source": [
    "try:\n",
    "    from google.colab import auth\n",
    "    auth.authenticate_user()\n",
    "    !gcloud config set project {PROJECT_ID}\n",
    "except Exception:\n",
    "    pass"
   ]
  },
  {
   "cell_type": "markdown",
   "id": "055a4bd7-7b47-43ef-ba14-636c955e44e3",
   "metadata": {},
   "source": [
    "---\n",
    "## Installs and API Enablement\n",
    "\n",
    "The clients packages may need installing in this environment. "
   ]
  },
  {
   "cell_type": "markdown",
   "id": "410502ee-6fe3-4624-a69a-960ad7105f10",
   "metadata": {},
   "source": [
    "### Installs (If Needed)"
   ]
  },
  {
   "cell_type": "code",
   "execution_count": 3,
   "id": "f4dbdb83-3170-430c-b60d-3d686222a168",
   "metadata": {
    "tags": []
   },
   "outputs": [],
   "source": [
    "# tuples of (import name, install name, min_version)\n",
    "packages = [\n",
    "    ('google.cloud.aiplatform', 'google-cloud-aiplatform', '1.69.0'),\n",
    "    ('google.cloud.bigtable', 'google-cloud-bigtable'),\n",
    "]\n",
    "\n",
    "import importlib\n",
    "install = False\n",
    "for package in packages:\n",
    "    if not importlib.util.find_spec(package[0]):\n",
    "        print(f'installing package {package[1]}')\n",
    "        install = True\n",
    "        !pip install {package[1]} -U -q --user\n",
    "    elif len(package) == 3:\n",
    "        if importlib.metadata.version(package[0]) < package[2]:\n",
    "            print(f'updating package {package[1]}')\n",
    "            install = True\n",
    "            !pip install {package[1]} -U -q --user"
   ]
  },
  {
   "cell_type": "markdown",
   "id": "25374857-7d37-4c84-8cbb-a3c2fc7bb065",
   "metadata": {},
   "source": [
    "### API Enablement"
   ]
  },
  {
   "cell_type": "code",
   "execution_count": 28,
   "id": "9b7300a8-7e3a-4a08-95c0-91186237753f",
   "metadata": {
    "tags": []
   },
   "outputs": [],
   "source": [
    "!gcloud services enable aiplatform.googleapis.com\n",
    "!gcloud services enable bigtable.googleapis.com\n",
    "!gcloud services enable bigtableadmin.googleapis.com"
   ]
  },
  {
   "cell_type": "markdown",
   "id": "157d09ba-9774-495f-8ced-3382bf75be8f",
   "metadata": {},
   "source": [
    "### Restart Kernel (If Installs Occured)\n",
    "\n",
    "After a kernel restart the code submission can start with the next cell after this one."
   ]
  },
  {
   "cell_type": "code",
   "execution_count": 5,
   "id": "f9864153-66c8-43e1-ae96-1179632ccf7d",
   "metadata": {
    "tags": []
   },
   "outputs": [],
   "source": [
    "if install:\n",
    "    import IPython\n",
    "    app = IPython.Application.instance()\n",
    "    app.kernel.do_shutdown(True)\n",
    "    IPython.display.display(IPython.display.Markdown(\"\"\"<div class=\\\"alert alert-block alert-warning\\\">\n",
    "        <b>⚠️ The kernel is going to restart. Please wait until it is finished before continuing to the next step. The previous cells do not need to be run again⚠️</b>\n",
    "        </div>\"\"\"))"
   ]
  },
  {
   "cell_type": "markdown",
   "id": "09a1ab41-cb32-4398-86dc-d30effb88a36",
   "metadata": {
    "id": "appt8-yVRtJ1"
   },
   "source": [
    "---\n",
    "## Setup"
   ]
  },
  {
   "cell_type": "markdown",
   "id": "2cebe11b-9ca1-4f3e-aa78-78640ff01ec8",
   "metadata": {
    "id": "63mx2EozRxFP"
   },
   "source": [
    "Inputs"
   ]
  },
  {
   "cell_type": "code",
   "execution_count": 6,
   "id": "ab2239cd-40ab-416d-bac0-0c6953d911b6",
   "metadata": {
    "colab": {
     "base_uri": "https://localhost:8080/",
     "height": 35
    },
    "executionInfo": {
     "elapsed": 2124,
     "status": "ok",
     "timestamp": 1683726390544,
     "user": {
      "displayName": "Mike Henderson",
      "userId": "07691629187611687318"
     },
     "user_tz": 240
    },
    "id": "xzcoXjM5Rky5",
    "outputId": "b3bdcbc1-70d5-472e-aea2-42c74a42efde",
    "tags": []
   },
   "outputs": [
    {
     "data": {
      "text/plain": [
       "'statmike-mlops-349915'"
      ]
     },
     "execution_count": 6,
     "metadata": {},
     "output_type": "execute_result"
    }
   ],
   "source": [
    "project = !gcloud config get-value project\n",
    "PROJECT_ID = project[0]\n",
    "PROJECT_ID"
   ]
  },
  {
   "cell_type": "code",
   "execution_count": 99,
   "id": "8aa97f05-66e9-4276-b2e6-83b5a91ca50c",
   "metadata": {
    "executionInfo": {
     "elapsed": 2,
     "status": "ok",
     "timestamp": 1683726390712,
     "user": {
      "displayName": "Mike Henderson",
      "userId": "07691629187611687318"
     },
     "user_tz": 240
    },
    "id": "IxWrFtqYMfku",
    "tags": []
   },
   "outputs": [],
   "source": [
    "REGION = 'us-central1'\n",
    "SERIES = 'applied-genai'\n",
    "EXPERIMENT = 'retrieval-bigtable'\n",
    "\n",
    "# BigTable Names\n",
    "BIGTABLE_INSTANCE_NAME = PROJECT_ID\n",
    "BIGTABLE_TABLE_NAME = SERIES\n",
    "BIGTABLE_COLUMN_FAMILY_NAME = EXPERIMENT"
   ]
  },
  {
   "cell_type": "markdown",
   "id": "52bbf65b-5d29-4a72-84ae-d977b9a743a6",
   "metadata": {
    "id": "LuajVwCiO6Yg"
   },
   "source": [
    "Packages"
   ]
  },
  {
   "cell_type": "code",
   "execution_count": 285,
   "id": "559f6e60-a594-4789-893b-295a8381b670",
   "metadata": {
    "executionInfo": {
     "elapsed": 17761,
     "status": "ok",
     "timestamp": 1683726409304,
     "user": {
      "displayName": "Mike Henderson",
      "userId": "07691629187611687318"
     },
     "user_tz": 240
    },
    "id": "LVC7zzSLRk2C",
    "tags": []
   },
   "outputs": [],
   "source": [
    "import os, json, time, glob, datetime, struct, tempfile\n",
    "\n",
    "import numpy as np\n",
    "import redis\n",
    "\n",
    "# Vertex AI\n",
    "from google.cloud import aiplatform\n",
    "import vertexai.language_models # for embeddings API\n",
    "import vertexai.generative_models # for Gemini Models\n",
    "from vertexai.resources.preview import feature_store\n",
    "\n",
    "# bigtable\n",
    "from google.cloud import bigtable\n",
    "import google.cloud.bigtable.data\n",
    "import google.cloud.bigtable.row_filters\n",
    "#from google.cloud.bigtable import row_filters"
   ]
  },
  {
   "cell_type": "code",
   "execution_count": 9,
   "id": "d3fef31f-928f-45f2-a3f4-292ee242232c",
   "metadata": {
    "tags": []
   },
   "outputs": [
    {
     "data": {
      "text/plain": [
       "'1.69.0'"
      ]
     },
     "execution_count": 9,
     "metadata": {},
     "output_type": "execute_result"
    }
   ],
   "source": [
    "aiplatform.__version__"
   ]
  },
  {
   "cell_type": "markdown",
   "id": "5758c07e-f064-40fb-a0ef-de6cbde5cd0a",
   "metadata": {
    "id": "EyAVFG9TO9H-"
   },
   "source": [
    "Clients"
   ]
  },
  {
   "cell_type": "code",
   "execution_count": 25,
   "id": "3b72f3bb-176b-4678-ba6b-df9b2de14997",
   "metadata": {
    "executionInfo": {
     "elapsed": 19,
     "status": "ok",
     "timestamp": 1683726409306,
     "user": {
      "displayName": "Mike Henderson",
      "userId": "07691629187611687318"
     },
     "user_tz": 240
    },
    "id": "L0RPE13LOZce",
    "tags": []
   },
   "outputs": [],
   "source": [
    "# vertex ai clients\n",
    "vertexai.init(project = PROJECT_ID, location = REGION)\n",
    "\n",
    "# bigtable client\n",
    "bigtable_client = bigtable.client.Client(project = PROJECT_ID, admin = True)"
   ]
  },
  {
   "cell_type": "markdown",
   "id": "8579282f-2723-4294-b72a-a65cc0831f44",
   "metadata": {},
   "source": [
    "---\n",
    "## Text & Embeddings For Examples\n",
    "\n",
    "This repository contains a [section for document processing (chunking)](../Chunking/readme.md) that includes an example of processing mulitple large pdfs (over 1000 pages) into chunks: [Large Document Processing - Document AI Layout Parser](../Chunking/Large%20Document%20Processing%20-%20Document%20AI%20Layout%20Parser.ipynb).  The chunks of text from that workflow are stored with this repository and loaded by another companion workflow that augments the chunks with text embeddings: [Vertex AI Text Embeddings API](../Embeddings/Vertex%20AI%20Text%20Embeddings%20API.ipynb).\n",
    "\n",
    "The following code will load the version of the chunks that includes text embeddings and prepare it for a local example of retrival augmented generation."
   ]
  },
  {
   "cell_type": "markdown",
   "id": "1e12cbe2-3ca6-4656-9e73-c0db5c63bf50",
   "metadata": {},
   "source": [
    "### Get The Documents\n",
    "\n",
    "If you are working from a clone of this notebooks [repository](https://github.com/statmike/vertex-ai-mlops) then the documents are already present. The following cell checks for the documents folder and if it is missing gets it (`git clone`):"
   ]
  },
  {
   "cell_type": "code",
   "execution_count": 11,
   "id": "6f4e77ed-43f7-42be-9575-6a491c0d6cba",
   "metadata": {
    "tags": []
   },
   "outputs": [],
   "source": [
    "local_dir = '../Embeddings/files/embeddings-api'"
   ]
  },
  {
   "cell_type": "code",
   "execution_count": 12,
   "id": "63ebe7c3-e72c-4394-91c3-d60c05bc0ce2",
   "metadata": {
    "tags": []
   },
   "outputs": [
    {
     "name": "stdout",
     "output_type": "stream",
     "text": [
      "Documents Found in folder `../Embeddings/files/embeddings-api`\n"
     ]
    }
   ],
   "source": [
    "if not os.path.exists(local_dir):\n",
    "    print('Retrieving documents...')\n",
    "    parent_dir = os.path.dirname(local_dir)\n",
    "    temp_dir = os.path.join(parent_dir, 'temp')\n",
    "    if not os.path.exists(temp_dir):\n",
    "        os.makedirs(temp_dir)\n",
    "    !git clone https://www.github.com/statmike/vertex-ai-mlops {temp_dir}/vertex-ai-mlops\n",
    "    shutil.copytree(f'{temp_dir}/vertex-ai-mlops/Applied GenAI/Embeddings/files/embeddings-api', local_dir)\n",
    "    shutil.rmtree(temp_dir)\n",
    "    print(f'Documents are now in folder `{local_dir}`')\n",
    "else:\n",
    "    print(f'Documents Found in folder `{local_dir}`')             "
   ]
  },
  {
   "cell_type": "markdown",
   "id": "33e68a84-9f88-4590-9ff1-e01c8a953ccf",
   "metadata": {},
   "source": [
    "### Load The Chunks"
   ]
  },
  {
   "cell_type": "code",
   "execution_count": 13,
   "id": "58d04382-a74a-44ac-8824-3b46c86aa148",
   "metadata": {
    "tags": []
   },
   "outputs": [
    {
     "data": {
      "text/plain": [
       "['../Embeddings/files/embeddings-api/large-files-chunk-embeddings-0000.jsonl',\n",
       " '../Embeddings/files/embeddings-api/large-files-chunk-embeddings-0001.jsonl',\n",
       " '../Embeddings/files/embeddings-api/large-files-chunk-embeddings-0002.jsonl',\n",
       " '../Embeddings/files/embeddings-api/large-files-chunk-embeddings-0003.jsonl',\n",
       " '../Embeddings/files/embeddings-api/large-files-chunk-embeddings-0004.jsonl',\n",
       " '../Embeddings/files/embeddings-api/large-files-chunk-embeddings-0005.jsonl',\n",
       " '../Embeddings/files/embeddings-api/large-files-chunk-embeddings-0006.jsonl',\n",
       " '../Embeddings/files/embeddings-api/large-files-chunk-embeddings-0007.jsonl',\n",
       " '../Embeddings/files/embeddings-api/large-files-chunk-embeddings-0008.jsonl',\n",
       " '../Embeddings/files/embeddings-api/large-files-chunk-embeddings-0009.jsonl']"
      ]
     },
     "execution_count": 13,
     "metadata": {},
     "output_type": "execute_result"
    }
   ],
   "source": [
    "jsonl_files = glob.glob(f\"{local_dir}/large-files*.jsonl\")\n",
    "jsonl_files.sort()\n",
    "jsonl_files"
   ]
  },
  {
   "cell_type": "code",
   "execution_count": 14,
   "id": "a54c6c96-6c28-49bb-80be-5d46797dfe77",
   "metadata": {
    "tags": []
   },
   "outputs": [
    {
     "data": {
      "text/plain": [
       "9040"
      ]
     },
     "execution_count": 14,
     "metadata": {},
     "output_type": "execute_result"
    }
   ],
   "source": [
    "chunks = []\n",
    "for file in jsonl_files:\n",
    "    with open(file, 'r') as f:\n",
    "        chunks.extend([json.loads(line) for line in f])\n",
    "len(chunks)"
   ]
  },
  {
   "cell_type": "markdown",
   "id": "a70115ec-6d60-41df-b7e6-9e2e5b463b1d",
   "metadata": {},
   "source": [
    "### Review A Chunk"
   ]
  },
  {
   "cell_type": "code",
   "execution_count": 15,
   "id": "fc20423e-e3d6-4e90-9e98-a5248508c82d",
   "metadata": {
    "tags": []
   },
   "outputs": [
    {
     "data": {
      "text/plain": [
       "dict_keys(['instance', 'predictions', 'status'])"
      ]
     },
     "execution_count": 15,
     "metadata": {},
     "output_type": "execute_result"
    }
   ],
   "source": [
    "chunks[0].keys()"
   ]
  },
  {
   "cell_type": "code",
   "execution_count": 16,
   "id": "1955ea39-4ffc-4d30-b653-a5a9911f2dab",
   "metadata": {
    "tags": []
   },
   "outputs": [
    {
     "data": {
      "text/plain": [
       "'fannie_part_0_c17'"
      ]
     },
     "execution_count": 16,
     "metadata": {},
     "output_type": "execute_result"
    }
   ],
   "source": [
    "chunks[0]['instance']['chunk_id']"
   ]
  },
  {
   "cell_type": "code",
   "execution_count": 17,
   "id": "3537982c-4a0e-456c-a652-19ea7507873b",
   "metadata": {
    "tags": []
   },
   "outputs": [
    {
     "name": "stdout",
     "output_type": "stream",
     "text": [
      "# Selling Guide Fannie Mae Single Family\n",
      "\n",
      "## Fannie Mae Copyright Notice\n",
      "\n",
      "### Fannie Mae Copyright Notice\n",
      "\n",
      "|-|\n",
      "| Section B3-4.2, Verification of Depository Assets 402 |\n",
      "| B3-4.2-01, Verification of Deposits and Assets (05/04/2022) 403 |\n",
      "| B3-4.2-02, Depository Accounts (12/14/2022) 405 |\n",
      "| B3-4.2-03, Individual Development Accounts (02/06/2019) 408 |\n",
      "| B3-4.2-04, Pooled Savings (Community Savings Funds) (04/01/2009) 411 |\n",
      "| B3-4.2-05, Foreign Assets (05/04/2022) 411 |\n",
      "| Section B3-4.3, Verification of Non-Depository Assets 412 |\n",
      "| B3-4.3-01, Stocks, Stock Options, Bonds, and Mutual Funds (06/30/2015) 412 |\n",
      "| B3-4.3-02, Trust Accounts (04/01/2009) 413 |\n",
      "| B3-4.3-03, Retirement Accounts (06/30/2015) 414 |\n",
      "| B3-4.3-04, Personal Gifts (09/06/2023) 415 |\n",
      "| B3-4.3-05, Gifts of Equity (10/07/2020) 418 |\n",
      "| B3-4.3-06, Grants and Lender Contributions (12/14/2022) 419 |\n",
      "| B3-4.3-07, Disaster Relief Grants or Loans (04/01/2009) 423 |\n",
      "| B3-4.3-08, Employer Assistance (09/29/2015) 423 |\n",
      "| B3-4.3-09, Earnest Money Deposit (05/04/2022) 425 |\n",
      "| B3-4.3-10, Anticipated Sales Proceeds (02/23/2016) B3-4.3-11, Trade Equity (12/16/2020) 426 428 |\n",
      "| B3-4.3-12, Rent-Related Credits (08/07/2024) 429 |\n",
      "| B3-4.3-13, Sweat Equity (04/15/2014) 430 |\n",
      "| B3-4.3-14, Bridge/Swing Loans (04/01/2009) 431 |\n",
      "| B3-4.3-15, Borrowed Funds Secured by an Asset (10/30/2009) 431 |\n",
      "|  |\n",
      "\n",
      "\n"
     ]
    }
   ],
   "source": [
    "print(chunks[0]['instance']['content'])"
   ]
  },
  {
   "cell_type": "code",
   "execution_count": 18,
   "id": "49f06293-a439-436b-bc93-cd6cd3fb4aff",
   "metadata": {
    "tags": []
   },
   "outputs": [
    {
     "data": {
      "text/plain": [
       "[0.031277116388082504,\n",
       " 0.03056905046105385,\n",
       " 0.010865348391234875,\n",
       " 0.0623614676296711,\n",
       " 0.03228681534528732,\n",
       " 0.05066155269742012,\n",
       " 0.046544693410396576,\n",
       " 0.05509665608406067,\n",
       " -0.014074751175940037,\n",
       " 0.008380400016903877]"
      ]
     },
     "execution_count": 18,
     "metadata": {},
     "output_type": "execute_result"
    }
   ],
   "source": [
    "chunks[0]['predictions'][0]['embeddings']['values'][0:10]"
   ]
  },
  {
   "cell_type": "markdown",
   "id": "f977358d-d9ea-4172-9eca-66079bb6087d",
   "metadata": {},
   "source": [
    "### Prepare Chunk Structure\n",
    "\n",
    "Make a list of dictionaries with information for each chunk:"
   ]
  },
  {
   "cell_type": "code",
   "execution_count": 19,
   "id": "be9fa708-130c-4343-b179-dbde0b09a972",
   "metadata": {
    "tags": []
   },
   "outputs": [],
   "source": [
    "content_chunks = [\n",
    "    dict(\n",
    "        gse = chunk['instance']['gse'],\n",
    "        chunk_id = chunk['instance']['chunk_id'],\n",
    "        content = chunk['instance']['content'],\n",
    "        embedding = chunk['predictions'][0]['embeddings']['values']\n",
    "    ) for chunk in chunks\n",
    "]"
   ]
  },
  {
   "cell_type": "markdown",
   "id": "d6619605-7b10-444e-a131-db06e56a4be8",
   "metadata": {},
   "source": [
    "### Query Embedding\n",
    "\n",
    "Create a query, or prompt, and get the embedding for it:\n",
    "\n",
    "Connect to models for text embeddings. Learn more about the model API:\n",
    "- [Vertex AI Text Embeddings API](../Embeddings/Vertex%20AI%20Text%20Embeddings%20API.ipynb)"
   ]
  },
  {
   "cell_type": "code",
   "execution_count": 20,
   "id": "3da5d30c-3dfb-42ba-a133-83dceb252787",
   "metadata": {
    "tags": []
   },
   "outputs": [],
   "source": [
    "question = \"Does a lender have to perform servicing functions directly?\""
   ]
  },
  {
   "cell_type": "code",
   "execution_count": 21,
   "id": "7992c26f-d058-4920-80a3-a157b88733e4",
   "metadata": {
    "tags": []
   },
   "outputs": [],
   "source": [
    "embedder = vertexai.language_models.TextEmbeddingModel.from_pretrained('text-embedding-004')"
   ]
  },
  {
   "cell_type": "code",
   "execution_count": 22,
   "id": "bbe6fda7-9cea-49a2-9e2f-9222d50677af",
   "metadata": {
    "tags": []
   },
   "outputs": [
    {
     "data": {
      "text/plain": [
       "[-0.0005117303808219731,\n",
       " 0.009651427157223225,\n",
       " 0.01768726110458374,\n",
       " 0.014538003131747246,\n",
       " -0.01829824410378933,\n",
       " 0.027877431362867355,\n",
       " -0.021124685183167458,\n",
       " 0.008830446749925613,\n",
       " -0.02669006586074829,\n",
       " 0.06414774805307388]"
      ]
     },
     "execution_count": 22,
     "metadata": {},
     "output_type": "execute_result"
    }
   ],
   "source": [
    "question_embedding = embedder.get_embeddings([question])[0].values\n",
    "question_embedding[0:10]"
   ]
  },
  {
   "cell_type": "markdown",
   "id": "802d5551-9d20-411c-ac95-cc0ade578893",
   "metadata": {},
   "source": [
    "---\n",
    "## Setup Bigtable\n",
    "\n"
   ]
  },
  {
   "cell_type": "code",
   "execution_count": null,
   "id": "4b9081d6-4d67-49b8-84c2-4033ff3fef60",
   "metadata": {},
   "outputs": [],
   "source": []
  },
  {
   "cell_type": "code",
   "execution_count": null,
   "id": "9c72271f-5ffd-4121-aac7-c6b8b3b88749",
   "metadata": {},
   "outputs": [],
   "source": []
  },
  {
   "cell_type": "markdown",
   "id": "0b6ec209-b34a-4837-8c54-a991ad831764",
   "metadata": {},
   "source": [
    "---\n",
    "## Retrieval With Bigtable\n",
    "\n",
    "**BigTable data structure**\n",
    "\n",
    "Instance (cluster of nodes, min of 1)\n",
    "Table\n",
    "Row\n",
    "Column Family\n",
    "Column \n",
    "Cell\n",
    "\n",
    "**Understanding Costs**\n",
    "Compute\n",
    "Storage (including backups)\n",
    "Network\n",
    "Replication (multiple clusters in different regions)"
   ]
  },
  {
   "cell_type": "markdown",
   "id": "011332b0-52a5-4d3b-a211-00e6d82feaae",
   "metadata": {},
   "source": [
    "### Create/Retrieve An Instance\n",
    "\n",
    "https://cloud.google.com/python/docs/reference/bigtable/latest/instance\n",
    "\n",
    "https://cloud.google.com/bigtable/docs/instances-clusters-nodes\n",
    "\n",
    "https://cloud.google.com/bigtable/docs/creating-instance\n",
    "\n",
    "https://cloud.google.com/bigtable/docs/locations#north_america"
   ]
  },
  {
   "cell_type": "code",
   "execution_count": 65,
   "id": "6cac1bed-3055-4118-819b-341b95ef8955",
   "metadata": {},
   "outputs": [
    {
     "name": "stdout",
     "output_type": "stream",
     "text": [
      "Creating the instance ...\n",
      "Waiting for instance creation...\n",
      "Created Bigtable instance: projects/statmike-mlops-349915/instances/statmike-mlops-349915\n"
     ]
    }
   ],
   "source": [
    "bigtable_instance = bigtable_client.instance(BIGTABLE_INSTANCE_NAME)\n",
    "\n",
    "if bigtable_instance.exists():\n",
    "    print(f\"Found the instance: {bigtable_instance.name}\")\n",
    "else:\n",
    "    bigtable_cluster = bigtable_instance.cluster(\n",
    "        BIGTABLE_INSTANCE_NAME,\n",
    "        location_id = REGION+'-a', # bigtable is a zonal resource \n",
    "        serve_nodes = 1,\n",
    "        default_storage_type = bigtable.enums.StorageType.HDD,  # Choice of HDD or SDD\n",
    "    )\n",
    "    print(f\"Creating the instance ...\")\n",
    "    create_instance = bigtable_instance.create(clusters = [bigtable_cluster])\n",
    "    while not create_instance.done():\n",
    "        print('Waiting for instance creation...')\n",
    "        time.sleep(10)\n",
    "    bigtable_instance.reload()\n",
    "    print(f\"Created Bigtable instance: {bigtable_instance.name}\")"
   ]
  },
  {
   "cell_type": "code",
   "execution_count": 81,
   "id": "36846a3f-a4bd-495b-8845-99dcac3464c4",
   "metadata": {},
   "outputs": [
    {
     "name": "stdout",
     "output_type": "stream",
     "text": [
      "Name:  projects/statmike-mlops-349915/instances/statmike-mlops-349915/clusters/statmike-mlops-349915\n",
      "Nodes:  1\n",
      "Storage:  StorageType.HDD\n"
     ]
    }
   ],
   "source": [
    "bigtable_clusters = bigtable_instance.list_clusters()\n",
    "for cluster in bigtable_clusters:\n",
    "    if type(cluster) == list and cluster:\n",
    "        print('Name: ', cluster[0].name)\n",
    "        print('Nodes: ', cluster[0].serve_nodes)\n",
    "        print('Storage: ', cluster[0].default_storage_type)"
   ]
  },
  {
   "cell_type": "markdown",
   "id": "d7afdbc2-ae36-4e24-be95-4bce71cc6580",
   "metadata": {},
   "source": [
    "### Create/Retrieve Table\n",
    "\n",
    "https://cloud.google.com/bigtable/docs/managing-tables\n",
    "\n",
    "https://cloud.google.com/python/docs/reference/bigtable/latest/table"
   ]
  },
  {
   "cell_type": "code",
   "execution_count": 102,
   "id": "7c96e893-bbcd-4d65-9f70-5f994d67b7db",
   "metadata": {
    "tags": []
   },
   "outputs": [
    {
     "name": "stdout",
     "output_type": "stream",
     "text": [
      "Creating the table...\n",
      "Created Bigtable table: projects/statmike-mlops-349915/instances/statmike-mlops-349915/tables/applied-genai\n"
     ]
    }
   ],
   "source": [
    "bigtable_table = bigtable_instance.table(BIGTABLE_TABLE_NAME)\n",
    "\n",
    "if bigtable_table.exists():\n",
    "    print(f\"Found the table: {bigtable_table.name}\")\n",
    "else:\n",
    "    print(f\"Creating the table...\")\n",
    "    bigtable_table.create()\n",
    "    print(f\"Created Bigtable table: {bigtable_table.name}\")"
   ]
  },
  {
   "cell_type": "markdown",
   "id": "69f5a6f2-4c81-4a5b-9907-c3f96917a485",
   "metadata": {},
   "source": [
    "### Create/Retrieve Column Family\n",
    "\n",
    "https://cloud.google.com/bigtable/docs/managing-tables#add-column-families"
   ]
  },
  {
   "cell_type": "code",
   "execution_count": 123,
   "id": "cbb4894e-38ed-44e8-8ec6-5c3711c9e4a1",
   "metadata": {
    "tags": []
   },
   "outputs": [
    {
     "name": "stdout",
     "output_type": "stream",
     "text": [
      "Found the column family: projects/statmike-mlops-349915/instances/statmike-mlops-349915/tables/applied-genai/columnFamilies/retrieval-bigtable\n"
     ]
    }
   ],
   "source": [
    "bigtable_column_family = bigtable_table.column_family(BIGTABLE_COLUMN_FAMILY_NAME)\n",
    "\n",
    "if bigtable_column_family.name in [c.name for c in list(bigtable_table.list_column_families().values())]:\n",
    "    print(f\"Found the column family: {bigtable_column_family.name}\")\n",
    "else:\n",
    "    print(f\"Creating the column family...\")\n",
    "    bigtable_column_family.create()\n",
    "    print(f\"Created column family: {bigtable_column_family.name}\")"
   ]
  },
  {
   "cell_type": "code",
   "execution_count": 131,
   "id": "7c3399c4-4c6a-4049-8d55-32370d896e5e",
   "metadata": {
    "tags": []
   },
   "outputs": [
    {
     "data": {
      "text/plain": [
       "'retrieval-bigtable'"
      ]
     },
     "execution_count": 131,
     "metadata": {},
     "output_type": "execute_result"
    }
   ],
   "source": [
    "bigtable_column_family.column_family_id"
   ]
  },
  {
   "cell_type": "markdown",
   "id": "bbc87039-430e-4aa4-aacf-d964696fe20d",
   "metadata": {},
   "source": [
    "### Add/Retrive/Delete Rows To The Table\n",
    "\n",
    "A row has a structure of:\n",
    "- row key\n",
    "    - column families\n",
    "        - column qualifiers\n",
    "            - cell value\n",
    "            \n",
    "            \n",
    "THere are three ways to write data to a table:\n",
    "- direct = add, overwrite, delete cell\n",
    "- conditional = use a filter to check if row is a match and then execute change/mutation\n",
    "- append = presumes cell exists and data while handling change/mutation, add to a string, increment a counter for instance.\n",
    "\n",
    "Writing records involves a timestamp for the cell: either assigned by the Bigtable server or in the call to set the value.  A cell can have multiple values with different timestamps. Think of this as a z-axis, or time axis for the table where each cell has its own history. Each point in the history of key:column_family:column:cells is referred to as a cell so cells can be a list of timestamped values.  \n",
    "- more on time-series data schema options: https://cloud.google.com/bigtable/docs/schema-design-time-series#new-columns\n",
    "- You can also set a TTL or max number of versions as part of garbage collection: https://cloud.google.com/bigtable/docs/garbage-collection\n",
    "\n",
    "https://cloud.google.com/python/docs/reference/bigtable/latest/data-api\n",
    "\n",
    "https://cloud.google.com/bigtable/docs/samples-python-hello#write_rows_to_a_table"
   ]
  },
  {
   "cell_type": "code",
   "execution_count": 238,
   "id": "b575010a-11c5-4b43-b3e5-8ed57492a6e6",
   "metadata": {
    "tags": []
   },
   "outputs": [],
   "source": [
    "first_record = content_chunks[0]"
   ]
  },
  {
   "cell_type": "code",
   "execution_count": 239,
   "id": "e6a36677-d8e5-47fc-b1d4-237282bcb0fc",
   "metadata": {
    "tags": []
   },
   "outputs": [
    {
     "data": {
      "text/plain": [
       "dict_keys(['gse', 'chunk_id', 'content', 'embedding'])"
      ]
     },
     "execution_count": 239,
     "metadata": {},
     "output_type": "execute_result"
    }
   ],
   "source": [
    "first_record.keys()"
   ]
  },
  {
   "cell_type": "code",
   "execution_count": 240,
   "id": "d2463d83-aa30-434c-92fd-76244fef318d",
   "metadata": {
    "tags": []
   },
   "outputs": [
    {
     "data": {
      "text/plain": [
       "'fannie_part_0_c17'"
      ]
     },
     "execution_count": 240,
     "metadata": {},
     "output_type": "execute_result"
    }
   ],
   "source": [
    "first_record['chunk_id']"
   ]
  },
  {
   "cell_type": "code",
   "execution_count": 241,
   "id": "a7f44978-96b2-4fc3-bb09-b79fa60ee961",
   "metadata": {
    "tags": []
   },
   "outputs": [],
   "source": [
    "row = bigtable_table.row(first_record['chunk_id'])"
   ]
  },
  {
   "cell_type": "code",
   "execution_count": 242,
   "id": "b97244c1-76d1-4e3c-b04a-60e1abf1f3da",
   "metadata": {
    "tags": []
   },
   "outputs": [],
   "source": [
    "for k, v in first_record.items():\n",
    "    if k == 'embedding':\n",
    "        v = struct.pack(f'>{len(v)}f', *v)\n",
    "    row.set_cell(bigtable_column_family.column_family_id, k, v)"
   ]
  },
  {
   "cell_type": "code",
   "execution_count": 243,
   "id": "9a1355dc-1418-4a58-a6e0-fb4a5bda1f5e",
   "metadata": {
    "tags": []
   },
   "outputs": [
    {
     "data": {
      "text/plain": []
     },
     "execution_count": 243,
     "metadata": {},
     "output_type": "execute_result"
    }
   ],
   "source": [
    "row.commit()"
   ]
  },
  {
   "cell_type": "markdown",
   "id": "b163a9ca-407e-4969-91d7-217f186af1b2",
   "metadata": {},
   "source": [
    "row filters:\n",
    "\n",
    "https://cloud.google.com/python/docs/reference/bigtable/latest/row-filters"
   ]
  },
  {
   "cell_type": "code",
   "execution_count": 244,
   "id": "dcf61265-4cad-4b58-bcb0-67962bcf1232",
   "metadata": {
    "tags": []
   },
   "outputs": [],
   "source": [
    "row_filter = bigtable.row_filters.CellsColumnLimitFilter(1) # most recent column only"
   ]
  },
  {
   "cell_type": "code",
   "execution_count": 245,
   "id": "c31286bd-02e3-4346-8000-30c1b6c4fcb9",
   "metadata": {
    "tags": []
   },
   "outputs": [],
   "source": [
    "read_row = bigtable_table.read_row(first_record['chunk_id'], row_filter)"
   ]
  },
  {
   "cell_type": "code",
   "execution_count": 246,
   "id": "cf523efb-1eca-453a-82e7-be77082a0b2f",
   "metadata": {
    "tags": []
   },
   "outputs": [
    {
     "data": {
      "text/plain": [
       "'fannie'"
      ]
     },
     "execution_count": 246,
     "metadata": {},
     "output_type": "execute_result"
    }
   ],
   "source": [
    "read_row.cells[bigtable_column_family.column_family_id]['gse'.encode()][0].value.decode()"
   ]
  },
  {
   "cell_type": "code",
   "execution_count": 247,
   "id": "d900cd8b-3414-4411-9201-abcacd0da3b0",
   "metadata": {
    "tags": []
   },
   "outputs": [
    {
     "name": "stdout",
     "output_type": "stream",
     "text": [
      "chunk_id: fannie_part_0_c17\n",
      "content: # Selling Guide Fannie Mae Single Family\n",
      "\n",
      "## Fannie Mae Copyright Notice\n",
      "\n",
      "### Fannie Mae Copyright Notice\n",
      "\n",
      "|-|\n",
      "| Section B3-4.2, Verification of Depository Assets 402 |\n",
      "| B3-4.2-01, Verification of Deposits and Assets (05/04/2022) 403 |\n",
      "| B3-4.2-02, Depository Accounts (12/14/2022) 405 |\n",
      "| B3-4.2-03, Individual Development Accounts (02/06/2019) 408 |\n",
      "| B3-4.2-04, Pooled Savings (Community Savings Funds) (04/01/2009) 411 |\n",
      "| B3-4.2-05, Foreign Assets (05/04/2022) 411 |\n",
      "| Section B3-4.3, Verification of Non-Depository Assets 412 |\n",
      "| B3-4.3-01, Stocks, Stock Options, Bonds, and Mutual Funds (06/30/2015) 412 |\n",
      "| B3-4.3-02, Trust Accounts (04/01/2009) 413 |\n",
      "| B3-4.3-03, Retirement Accounts (06/30/2015) 414 |\n",
      "| B3-4.3-04, Personal Gifts (09/06/2023) 415 |\n",
      "| B3-4.3-05, Gifts of Equity (10/07/2020) 418 |\n",
      "| B3-4.3-06, Grants and Lender Contributions (12/14/2022) 419 |\n",
      "| B3-4.3-07, Disaster Relief Grants or Loans (04/01/2009) 423 |\n",
      "| B3-4.3-08, Employer Assistance (09/29/2015) 423 |\n",
      "| B3-4.3-09, Earnest Money Deposit (05/04/2022) 425 |\n",
      "| B3-4.3-10, Anticipated Sales Proceeds (02/23/2016) B3-4.3-11, Trade Equity (12/16/2020) 426 428 |\n",
      "| B3-4.3-12, Rent-Related Credits (08/07/2024) 429 |\n",
      "| B3-4.3-13, Sweat Equity (04/15/2014) 430 |\n",
      "| B3-4.3-14, Bridge/Swing Loans (04/01/2009) 431 |\n",
      "| B3-4.3-15, Borrowed Funds Secured by an Asset (10/30/2009) 431 |\n",
      "|  |\n",
      "\n",
      "\n",
      "embedding: [0.031277116388082504, 0.03056905046105385, 0.010865348391234875, 0.0623614676296711, 0.03228681534528732, 0.05066155269742012, 0.046544693410396576, 0.05509665608406067, -0.014074751175940037, 0.008380400016903877, -0.01929544471204281, 0.06018099561333656, 0.021451441571116447, 0.009322194382548332, -0.013701723888516426, -0.04351693019270897, 0.04790112003684044, 0.003177436999976635, -0.04303600266575813, -0.04613032191991806, -0.022652707993984222, 0.011459872126579285, -0.048748698085546494, -0.028833577409386635, -0.026493791490793228, -0.10107960551977158, -0.005884544923901558, -0.0469786673784256, 0.010677908547222614, -0.027322884649038315, 0.020917106419801712, 0.03639862686395645, -0.0248264092952013, -0.04899158701300621, 0.0075708250515162945, -0.019531236961483955, 0.004617298487573862, -0.03411642462015152, 0.024835137650370598, -0.04770590737462044, -0.03282281011343002, -0.02035667560994625, -0.04656996577978134, 0.028384139761328697, -0.016697902232408524, -0.051484543830156326, 0.03096424974501133, -0.003249448025599122, -0.027910081669688225, 0.007608796935528517, 0.04205267131328583, 0.023721003904938698, -0.01884978823363781, -0.006985411047935486, -0.03508876636624336, -0.0547468364238739, -0.036823876202106476, -0.03662095591425896, -0.02248244546353817, -0.025111649185419083, -0.0006414309609681368, 0.0182955265045166, 0.022843850776553154, -0.023551806807518005, 0.0008694315911270678, -0.012131139636039734, 0.00868213176727295, -0.02935527265071869, -0.057278115302324295, -0.013916621915996075, -0.022094203159213066, 0.04566516727209091, 0.0025522890500724316, 0.044288426637649536, 0.023704824969172478, -0.01852419786155224, 0.01710422709584236, 0.00535933393985033, 0.04389301314949989, 0.0344621017575264, -0.0381350964307785, 0.015827827155590057, 0.006450353190302849, -1.6636546206427738e-05, -0.001411276520229876, 0.02251240983605385, 0.04433685168623924, -0.060027044266462326, -0.051762744784355164, -0.011061104945838451, 0.10319468379020691, 0.06315633654594421, -0.048748210072517395, -0.0078058550134301186, 0.058003634214401245, -0.0401839055120945, -0.04964875057339668, -0.11064539849758148, 0.050548918545246124, 0.05135246366262436, 0.006448789499700069, 0.007349808234721422, -0.025536077097058296, -0.03911641612648964, 0.0032796096056699753, -0.014791490510106087, -0.042186614125967026, -0.025778431445360184, -0.08049439638853073, 0.08412909507751465, 0.01916232518851757, 0.05395384132862091, 0.022053014487028122, -0.040566373616456985, 0.0008939941762946546, -0.00550567451864481, 0.058615684509277344, 0.019738102331757545, -0.01977623626589775, -0.025852130725979805, 0.013372923247516155, 0.03154229372739792, -0.0020687333308160305, 0.07591177523136139, 0.004643366206437349, 0.025594230741262436, 0.009799128398299217, -0.014647570438683033, -0.02998271957039833, -0.009824158623814583, 0.023015350103378296, -0.012919330969452858, -0.0003809346817433834, 0.05848165228962898, 0.03320414572954178, -0.034758202731609344, -0.0008447031723335385, 0.032949142158031464, -0.043030619621276855, 0.03016526997089386, -0.015965495258569717, 0.0029810855630785227, -0.12628312408924103, 0.016331814229488373, -0.01519558671861887, -0.05296441167593002, -0.002982701174914837, 0.09598235785961151, -0.04044840857386589, 0.009519772604107857, -0.07008667290210724, -0.030573545023798943, 0.032500673085451126, -0.019984155893325806, -0.0017932812916114926, -0.006629190407693386, 0.003992535173892975, -0.016502447426319122, 0.06719055771827698, -0.005274219438433647, 0.024906976148486137, -0.023498112335801125, 0.04445740580558777, 0.03523082658648491, -0.005399143323302269, -0.0041869389824569225, -0.0480545237660408, -0.06638071686029434, 0.010008201003074646, 0.03135582059621811, -0.07723842561244965, -0.036735355854034424, -0.09080908447504044, -0.055579569190740585, 0.024374037981033325, 0.03484451770782471, 0.054416242986917496, 0.019175253808498383, -0.061646174639463425, -0.0486944317817688, 0.024428674951195717, 0.025723490864038467, 0.014215262606739998, -0.03842373192310333, 0.06885501742362976, -0.02941860444843769, -0.07249417901039124, 0.028116991743445396, 0.04352659359574318, 0.01398441195487976, -0.009595882147550583, -0.024975350126624107, 0.026299385353922844, 0.028902394697070122, -0.013490378856658936, 0.023553859442472458, 0.029531018808484077, -0.05135912448167801, -0.06210099160671234, -0.05234602466225624, 0.047345396131277084, -0.01955464482307434, 0.004819192923605442, -0.031758859753608704, -0.014878668822348118, 0.02302776835858822, 0.00048023799899965525, -0.04280298203229904, -0.04338442534208298, -0.01649491861462593, -0.02924460545182228, -0.016178421676158905, -0.019162915647029877, -0.03165683150291443, 0.01174873299896717, 0.02271885797381401, 0.05637688934803009, -0.0069326856173574924, 0.10389163345098495, -0.027093468233942986, 0.023192303255200386, -0.014107934199273586, 0.003311422187834978, 0.03567708656191826, -0.029757628217339516, 0.015425901859998703, -0.03048405423760414, 0.01631997898221016, 0.034651197493076324, -0.05083967372775078, -0.004225339740514755, 0.04795169085264206, -0.006014712154865265, -0.026606258004903793, -0.038068994879722595, 0.057571690529584885, 0.029625823721289635, -0.048350345343351364, -0.008735685609281063, 0.058519236743450165, 0.0220361165702343, -0.009728629142045975, 0.014077210798859596, -0.004480293486267328, 0.039900097995996475, 0.03214197978377342, 0.025237761437892914, 0.009786556474864483, 0.055691879242658615, -0.029336372390389442, 0.015119664371013641, 0.02651818096637726, -0.03624148666858673, 0.01224399171769619, -0.046249911189079285, 0.0567801371216774, 0.03222629800438881, -0.007709826808422804, 0.004536567255854607, -0.009059185162186623, 0.024471448734402657, -0.024741940200328827, -0.02824186161160469, 0.0038342399057000875, -0.04356355220079422, -0.0813874825835228, -0.05329671874642372, -0.05913553386926651, -0.016599707305431366, -0.04313967004418373, 0.03612745180726051, -0.04836038127541542, -0.02096383087337017, -0.023742420598864555, -0.016958773136138916, 0.03805474564433098, 0.0009907233761623502, 0.0052277580834925175, -0.03531286492943764, -0.0822012647986412, 0.024982457980513573, 0.006158168893307447, 0.021829217672348022, 0.0066199214197695255, 0.06275363266468048, -0.05117737874388695, 0.004781244322657585, -0.005451940931379795, 0.04671185463666916, 0.0019171442836523056, 0.018862754106521606, 0.06066703796386719, -0.006029682699590921, -0.01752461865544319, 0.00572238489985466, 0.019370784983038902, 0.05284608155488968, 0.03100101836025715, -0.06360217183828354, -0.04600304365158081, 0.026451475918293, 0.025105031207203865, 0.007304310332983732, 0.020132986828684807, -0.03906361386179924, -0.0060670520178973675, -0.04419126734137535, 0.01379171572625637, 0.003380891401320696, -0.040571101009845734, 0.017909860238432884, 0.06711532920598984, -0.01957823894917965, -0.03754300996661186, -0.006695087533444166, -0.04011182487010956, -0.13453441858291626, -0.04059942066669464, -0.005785555578768253, 0.03358453884720802, 0.021381516009569168, 0.007832464762032032, -0.02745133265852928, 0.004362260457128286, 0.038539692759513855, -0.02968313731253147, 0.03905971348285675, -0.04317036271095276, 0.010508441366255283, -0.009721914306282997, 0.014085762202739716, -0.027101052924990654, 0.027836939319968224, -0.0787668377161026, -0.013070392422378063, 0.05407842621207237, -0.033484041690826416, 0.011617735028266907, 0.0710858479142189, 0.029788564890623093, 0.05257262662053108, -0.004353106487542391, 0.024833867326378822, 0.002303983084857464, -0.0536828450858593, -0.07494788616895676, -0.022071534767746925, -0.035796869546175, -0.028532737866044044, 0.005875998176634312, 0.03041202761232853, 0.0736565962433815, 0.02724090963602066, 0.0003826026222668588, 0.015650248154997826, 0.018431441858410835, 0.08925775438547134, -0.018824510276317596, 0.018922558054327965, 0.044763240963220596, 0.005196928046643734, 0.022239476442337036, -0.0014725241344422102, 0.0671992301940918, 0.04417191073298454, -0.027511177584528923, 0.052302926778793335, 0.004355242475867271, -0.00501990644261241, -0.02272106520831585, 0.02037547342479229, -0.029400164261460304, 0.009821278043091297, 0.006717570126056671, -0.009289325214922428, -0.04384787008166313, -0.05679174140095711, 0.02255069464445114, 0.02553286775946617, -0.026034308597445488, 0.0208306685090065, 0.005666225217282772, -0.017260588705539703, 0.019757604226469994, -0.008011903613805771, 0.09940554946660995, -0.020355720072984695, 0.019406773149967194, -0.054875634610652924, -0.03646634519100189, -0.0300811305642128, -0.007979781366884708, 0.01791788823902607, 0.03574862703680992, -0.04609484225511551, 0.01695237122476101, -0.018908478319644928, 0.023326322436332703, -0.002182499971240759, -0.0018442141590639949, -0.05997556447982788, -0.03796977922320366, 0.006829415448009968, -0.023173758760094643, 0.02818099409341812, -0.03334426134824753, 0.09793921560049057, -0.0040667615830898285, -0.024801623076200485, 0.023952865973114967, 0.009532686322927475, -0.02023947797715664, -0.035043515264987946, 0.06352875381708145, -0.0002971497888211161, -0.019225282594561577, 0.04701520875096321, 0.031321290880441666, -0.007724408060312271, 0.00921334233134985, -0.005462556146085262, 0.03369312733411789, 0.04216817021369934, 0.011274994350969791, 0.002493444597348571, -0.009758987464010715, -0.006132220849394798, 0.003234060015529394, 0.02113177627325058, -0.016114991158246994, -0.00036233323044143617, 0.009062663652002811, 0.010381471365690231, 0.07033780962228775, 0.03245237469673157, 0.09924546629190445, -0.004194015171378851, -0.021294349804520607, -0.05876512825489044, 0.051986563950777054, 0.025446796789765358, -0.02078915573656559, 0.06544525921344757, 0.0055097052827477455, -0.0074172900058329105, 0.008200375363230705, -0.003769420087337494, 0.032288599759340286, -0.010087622329592705, -0.017940465360879898, 0.033266205340623856, 0.014719421043992043, 0.010597486980259418, -0.07314997911453247, -0.08192317187786102, 0.0022975222673267126, 0.03740105777978897, 0.018248794600367546, 0.0282430537045002, -0.021178126335144043, -0.0035538000520318747, 0.010744964703917503, 0.05275757238268852, -0.0004579504893627018, 0.01296456903219223, 0.005951039493083954, -0.01445450633764267, 0.07716921716928482, 0.011357367970049381, 0.02074449323117733, 0.012271525338292122, 0.023275746032595634, 0.05837105214595795, -0.01599727012217045, -0.044685814529657364, 0.004667619708925486, 0.07156526297330856, 0.01012535858899355, -0.026369191706180573, -0.0024915391113609076, -0.04843571409583092, 0.03433719277381897, -0.027341611683368683, 0.03321605175733566, 0.02843525819480419, -0.045673079788684845, 0.011957565322518349, 0.007540273945778608, -0.025193968787789345, -0.040915150195360184, -0.012946676462888718, 0.004750970751047134, -0.0046204146929085255, -0.03627792000770569, 0.0319015309214592, -0.028163377195596695, 0.05733999237418175, -0.028745634481310844, 0.007613787427544594, 0.05156027153134346, 0.0626147985458374, 0.05067834630608559, -0.03359874337911606, -0.02495180070400238, -0.007067530881613493, -0.02824331261217594, -0.03093664161860943, -0.012614240869879723, 0.06959906220436096, 0.007297897711396217, 0.029198354110121727, -0.030506595969200134, 0.04672511667013168, 0.00607127882540226, -0.027058955281972885, 0.0075409603305161, 0.0008675272692926228, -0.012243497185409069, -0.02308524399995804, 0.05871434137225151, -0.06209864094853401, -0.05923594534397125, 0.042018402367830276, -0.021293727681040764, -0.0007426512893289328, 0.01462311390787363, 0.018131453543901443, -0.005005436949431896, 0.005736291408538818, 0.018715273588895798, 0.0016241379780694842, 0.0694570317864418, 0.031178874894976616, 0.04578454792499542, 0.056395988911390305, 0.05717678368091583, 0.04004671797156334, -0.010525155812501907, 0.0018395287916064262, -0.01509018149226904, 0.03419022634625435, 0.0059544784016907215, 0.03664599731564522, 0.024154547601938248, 0.033262718468904495, 0.024599814787507057, -0.02838784269988537, -0.010699938982725143, -0.047613102942705154, 0.026071522384881973, -0.0003077191940974444, -0.007568839471787214, -0.05217573046684265, 0.04839164391160011, 0.010108648799359798, -0.023685147985816002, 0.053998906165361404, -0.02070752903819084, -0.015268846414983273, -0.04026395455002785, 0.047906771302223206, -0.03222183510661125, 0.029852477833628654, -0.005315890070050955, 0.030373897403478622, 0.001021972973830998, -0.05592302232980728, 0.07234423607587814, -0.029874034225940704, -0.030565379187464714, -0.011907222680747509, -0.0215921550989151, 0.031646911054849625, -0.0370924174785614, 0.033404864370822906, -0.054133012890815735, -0.056384630501270294, -0.03333008289337158, 0.018602730706334114, -0.03925875946879387, 0.006256615277379751, -0.004335618577897549, 0.04234965890645981, 0.011259389109909534, -0.0009896436240524054, -0.04762959107756615, -0.03340035304427147, -0.01203649677336216, 0.012134173884987831, -0.0071455975994467735, -0.0063856542110443115, 0.05923282355070114, -0.020873339846730232, -0.048600878566503525, 0.005990530364215374, 0.0067246947437524796, -0.03912264481186867, -0.0007653801585547626, 0.0154844019562006, 0.036373015493154526, 0.02708919532597065, -0.060178060084581375, 0.003707570256665349, -0.018751027062535286, -0.04382690414786339, -0.08751071989536285, 0.010735703632235527, -0.03407849371433258, 0.00875865574926138, -0.02538648247718811, -0.020839601755142212, 0.02233046479523182, -0.007568683475255966, -0.04214634746313095, -0.0848274752497673, 0.04051945358514786, -0.05459153279662132, -0.002322580898180604, 0.013857410289347172, -0.001236235722899437, 0.005804644897580147, -0.016886631026864052, -0.02441144734621048, -0.02391439490020275, -0.022350475192070007, -0.01710919290781021, 0.0011445858981460333, 0.010004980489611626, 0.04937123507261276, 0.03683285787701607, -0.04016701504588127, -0.002269995864480734, 0.059385571628808975, -0.06373682618141174, -0.013999657705426216, -0.01849650777876377, -0.01128192525357008, 0.007046206388622522, 0.020690323784947395, -0.022777758538722992, 0.05394716188311577, 0.037966713309288025, 0.05327753722667694, -0.016987046226859093, -0.023043636232614517, 0.0015535951824858785, 0.005786512512713671, 0.00528296921402216, 0.04632455110549927, 0.030560795217752457, -0.026010951027274132, 0.0470210425555706, -0.020386075600981712, -0.013235069811344147, -0.0429656021296978, -0.012853138148784637, -0.06053205206990242, 0.01785801351070404, 0.020246034488081932, 0.006908527575433254, -0.034196145832538605, -0.0008631718228571117, -0.02539868839085102, 0.03519358113408089, -0.028085969388484955, -0.004696475341916084, -0.0539628230035305, -0.015189528465270996, 0.006840797141194344, -0.05032709985971451, -0.019434195011854172, -0.04040927067399025, -0.007560573052614927, 0.012863349169492722, -0.008293540216982365, 0.004802385810762644, -0.0019041576888412237, 0.00503663020208478, -0.028654562309384346, -0.018283208832144737, 0.0009052465902641416, -0.02333368919789791, 0.01320537831634283, -0.07497964054346085, 0.050224028527736664, -0.020232228562235832, 0.003503344254568219, -0.023824870586395264, 0.018860168755054474, 0.03121919371187687, -0.02201707661151886, -0.003101576818153262, 0.02235729619860649, 0.05112515762448311, 0.015655172988772392, 0.04526470601558685, -0.04256388545036316, -0.04974754527211189, -0.017952952533960342, 0.006797906942665577, -0.014957384206354618, -0.03031417727470398, -0.015463246032595634, -0.04107111319899559, 0.015551525168120861, 0.007647436577826738, 0.029697513207793236, 0.02425759844481945, -0.02511521801352501, 0.011299993842840195, -0.03541930764913559, -0.005981515161693096, 0.057289108633995056, -0.014889953657984734, 0.018506323918700218, -0.001531703514046967, 0.052504632622003555, 0.04320824518799782, 0.05889436602592468, 0.019405122846364975, 0.055244553834199905, 0.007226028945297003, 0.05039706826210022, 0.009336009621620178, 0.06695137917995453, 0.03270453214645386, -0.013106195256114006, 0.035851310938596725, -0.058930911123752594, -0.004080501850694418, 0.08005746454000473, -0.00793781690299511, -0.006158164702355862, -0.023257678374648094, 0.002276030369102955, 0.02928137220442295, 0.03891342878341675, -0.05525435507297516, -0.020348334684967995, 0.0014668912626802921, 0.061618391424417496, -0.017502544447779655, -0.042943574488162994, -0.032865576446056366, 0.017472224310040474, 0.018492138013243675, 0.002174444729462266, -0.05515822023153305, -0.004187797661870718, -0.06105946749448776, -0.05932226404547691, 0.03689606487751007, -0.010276093147695065, -0.02361220121383667, 0.04137137532234192, -0.043341364711523056, 0.01849673129618168, -0.01437355950474739, 0.0067030685022473335, 0.013444274663925171, -0.025279337540268898, 0.0707043781876564, -0.05105167627334595, -0.028999006375670433, -0.06949671357870102, -0.047782231122255325, 0.06677839905023575, -0.03832581639289856]\n",
      "gse: fannie\n"
     ]
    }
   ],
   "source": [
    "for column, cells in read_row.cells[bigtable_column_family.column_family_id].items():\n",
    "    for cell in cells:\n",
    "        c = column.decode()\n",
    "        if c == 'embedding':\n",
    "            v = list(struct.unpack(f'>{len(cell.value)//4}f', cell.value))\n",
    "        else:\n",
    "            v = cell.value.decode()\n",
    "        print(f\"{c}: {v}\")"
   ]
  },
  {
   "cell_type": "markdown",
   "id": "60624edc-1959-4b20-91be-8fb9ddf3dfde",
   "metadata": {},
   "source": [
    "write the same row again, then change the filter to (2) and show multiple instances"
   ]
  },
  {
   "cell_type": "code",
   "execution_count": 248,
   "id": "05ecaf39-472a-445f-9553-13e3427cd113",
   "metadata": {
    "tags": []
   },
   "outputs": [],
   "source": [
    "row = bigtable_table.row(first_record['chunk_id'])"
   ]
  },
  {
   "cell_type": "code",
   "execution_count": 249,
   "id": "0bc8b01b-8dbc-4029-b608-367dfaa92d2e",
   "metadata": {
    "tags": []
   },
   "outputs": [],
   "source": [
    "for k, v in first_record.items():\n",
    "    if k == 'embedding':\n",
    "        v = struct.pack(f'>{len(v)}f', *v)\n",
    "    row.set_cell(bigtable_column_family.column_family_id, k, v)"
   ]
  },
  {
   "cell_type": "code",
   "execution_count": 250,
   "id": "63006b09-e9c7-4497-bd6e-00e7bcdab438",
   "metadata": {
    "tags": []
   },
   "outputs": [
    {
     "data": {
      "text/plain": []
     },
     "execution_count": 250,
     "metadata": {},
     "output_type": "execute_result"
    }
   ],
   "source": [
    "row.commit()"
   ]
  },
  {
   "cell_type": "markdown",
   "id": "25911b66-191a-4ee5-8fa4-7aa934ef03df",
   "metadata": {},
   "source": [
    "row filters:\n",
    "\n",
    "https://cloud.google.com/python/docs/reference/bigtable/latest/row-filters"
   ]
  },
  {
   "cell_type": "code",
   "execution_count": 251,
   "id": "44fddd99-67d2-4fcb-b214-06c6b430f708",
   "metadata": {
    "tags": []
   },
   "outputs": [],
   "source": [
    "row_filter = bigtable.row_filters.CellsColumnLimitFilter(2) # most recent column only"
   ]
  },
  {
   "cell_type": "code",
   "execution_count": 252,
   "id": "1f72d528-976b-46f7-9fa4-de1a2358c6da",
   "metadata": {
    "tags": []
   },
   "outputs": [],
   "source": [
    "read_row = bigtable_table.read_row(first_record['chunk_id'], row_filter)"
   ]
  },
  {
   "cell_type": "code",
   "execution_count": 253,
   "id": "dd8f6167-deab-45aa-8c04-6d3c05ccf0a9",
   "metadata": {
    "tags": []
   },
   "outputs": [
    {
     "data": {
      "text/plain": [
       "'fannie'"
      ]
     },
     "execution_count": 253,
     "metadata": {},
     "output_type": "execute_result"
    }
   ],
   "source": [
    "read_row.cells[bigtable_column_family.column_family_id]['gse'.encode()][0].value.decode()"
   ]
  },
  {
   "cell_type": "code",
   "execution_count": 254,
   "id": "d131a019-b54f-43ad-90a2-957fb94d41fa",
   "metadata": {
    "tags": []
   },
   "outputs": [
    {
     "name": "stdout",
     "output_type": "stream",
     "text": [
      "chunk_id: fannie_part_0_c17\n",
      "chunk_id: fannie_part_0_c17\n",
      "content: # Selling Guide Fannie Mae Single Family\n",
      "\n",
      "## Fannie Mae Copyright Notice\n",
      "\n",
      "### Fannie Mae Copyright Notice\n",
      "\n",
      "|-|\n",
      "| Section B3-4.2, Verification of Depository Assets 402 |\n",
      "| B3-4.2-01, Verification of Deposits and Assets (05/04/2022) 403 |\n",
      "| B3-4.2-02, Depository Accounts (12/14/2022) 405 |\n",
      "| B3-4.2-03, Individual Development Accounts (02/06/2019) 408 |\n",
      "| B3-4.2-04, Pooled Savings (Community Savings Funds) (04/01/2009) 411 |\n",
      "| B3-4.2-05, Foreign Assets (05/04/2022) 411 |\n",
      "| Section B3-4.3, Verification of Non-Depository Assets 412 |\n",
      "| B3-4.3-01, Stocks, Stock Options, Bonds, and Mutual Funds (06/30/2015) 412 |\n",
      "| B3-4.3-02, Trust Accounts (04/01/2009) 413 |\n",
      "| B3-4.3-03, Retirement Accounts (06/30/2015) 414 |\n",
      "| B3-4.3-04, Personal Gifts (09/06/2023) 415 |\n",
      "| B3-4.3-05, Gifts of Equity (10/07/2020) 418 |\n",
      "| B3-4.3-06, Grants and Lender Contributions (12/14/2022) 419 |\n",
      "| B3-4.3-07, Disaster Relief Grants or Loans (04/01/2009) 423 |\n",
      "| B3-4.3-08, Employer Assistance (09/29/2015) 423 |\n",
      "| B3-4.3-09, Earnest Money Deposit (05/04/2022) 425 |\n",
      "| B3-4.3-10, Anticipated Sales Proceeds (02/23/2016) B3-4.3-11, Trade Equity (12/16/2020) 426 428 |\n",
      "| B3-4.3-12, Rent-Related Credits (08/07/2024) 429 |\n",
      "| B3-4.3-13, Sweat Equity (04/15/2014) 430 |\n",
      "| B3-4.3-14, Bridge/Swing Loans (04/01/2009) 431 |\n",
      "| B3-4.3-15, Borrowed Funds Secured by an Asset (10/30/2009) 431 |\n",
      "|  |\n",
      "\n",
      "\n",
      "content: # Selling Guide Fannie Mae Single Family\n",
      "\n",
      "## Fannie Mae Copyright Notice\n",
      "\n",
      "### Fannie Mae Copyright Notice\n",
      "\n",
      "|-|\n",
      "| Section B3-4.2, Verification of Depository Assets 402 |\n",
      "| B3-4.2-01, Verification of Deposits and Assets (05/04/2022) 403 |\n",
      "| B3-4.2-02, Depository Accounts (12/14/2022) 405 |\n",
      "| B3-4.2-03, Individual Development Accounts (02/06/2019) 408 |\n",
      "| B3-4.2-04, Pooled Savings (Community Savings Funds) (04/01/2009) 411 |\n",
      "| B3-4.2-05, Foreign Assets (05/04/2022) 411 |\n",
      "| Section B3-4.3, Verification of Non-Depository Assets 412 |\n",
      "| B3-4.3-01, Stocks, Stock Options, Bonds, and Mutual Funds (06/30/2015) 412 |\n",
      "| B3-4.3-02, Trust Accounts (04/01/2009) 413 |\n",
      "| B3-4.3-03, Retirement Accounts (06/30/2015) 414 |\n",
      "| B3-4.3-04, Personal Gifts (09/06/2023) 415 |\n",
      "| B3-4.3-05, Gifts of Equity (10/07/2020) 418 |\n",
      "| B3-4.3-06, Grants and Lender Contributions (12/14/2022) 419 |\n",
      "| B3-4.3-07, Disaster Relief Grants or Loans (04/01/2009) 423 |\n",
      "| B3-4.3-08, Employer Assistance (09/29/2015) 423 |\n",
      "| B3-4.3-09, Earnest Money Deposit (05/04/2022) 425 |\n",
      "| B3-4.3-10, Anticipated Sales Proceeds (02/23/2016) B3-4.3-11, Trade Equity (12/16/2020) 426 428 |\n",
      "| B3-4.3-12, Rent-Related Credits (08/07/2024) 429 |\n",
      "| B3-4.3-13, Sweat Equity (04/15/2014) 430 |\n",
      "| B3-4.3-14, Bridge/Swing Loans (04/01/2009) 431 |\n",
      "| B3-4.3-15, Borrowed Funds Secured by an Asset (10/30/2009) 431 |\n",
      "|  |\n",
      "\n",
      "\n",
      "embedding: [0.031277116388082504, 0.03056905046105385, 0.010865348391234875, 0.0623614676296711, 0.03228681534528732, 0.05066155269742012, 0.046544693410396576, 0.05509665608406067, -0.014074751175940037, 0.008380400016903877, -0.01929544471204281, 0.06018099561333656, 0.021451441571116447, 0.009322194382548332, -0.013701723888516426, -0.04351693019270897, 0.04790112003684044, 0.003177436999976635, -0.04303600266575813, -0.04613032191991806, -0.022652707993984222, 0.011459872126579285, -0.048748698085546494, -0.028833577409386635, -0.026493791490793228, -0.10107960551977158, -0.005884544923901558, -0.0469786673784256, 0.010677908547222614, -0.027322884649038315, 0.020917106419801712, 0.03639862686395645, -0.0248264092952013, -0.04899158701300621, 0.0075708250515162945, -0.019531236961483955, 0.004617298487573862, -0.03411642462015152, 0.024835137650370598, -0.04770590737462044, -0.03282281011343002, -0.02035667560994625, -0.04656996577978134, 0.028384139761328697, -0.016697902232408524, -0.051484543830156326, 0.03096424974501133, -0.003249448025599122, -0.027910081669688225, 0.007608796935528517, 0.04205267131328583, 0.023721003904938698, -0.01884978823363781, -0.006985411047935486, -0.03508876636624336, -0.0547468364238739, -0.036823876202106476, -0.03662095591425896, -0.02248244546353817, -0.025111649185419083, -0.0006414309609681368, 0.0182955265045166, 0.022843850776553154, -0.023551806807518005, 0.0008694315911270678, -0.012131139636039734, 0.00868213176727295, -0.02935527265071869, -0.057278115302324295, -0.013916621915996075, -0.022094203159213066, 0.04566516727209091, 0.0025522890500724316, 0.044288426637649536, 0.023704824969172478, -0.01852419786155224, 0.01710422709584236, 0.00535933393985033, 0.04389301314949989, 0.0344621017575264, -0.0381350964307785, 0.015827827155590057, 0.006450353190302849, -1.6636546206427738e-05, -0.001411276520229876, 0.02251240983605385, 0.04433685168623924, -0.060027044266462326, -0.051762744784355164, -0.011061104945838451, 0.10319468379020691, 0.06315633654594421, -0.048748210072517395, -0.0078058550134301186, 0.058003634214401245, -0.0401839055120945, -0.04964875057339668, -0.11064539849758148, 0.050548918545246124, 0.05135246366262436, 0.006448789499700069, 0.007349808234721422, -0.025536077097058296, -0.03911641612648964, 0.0032796096056699753, -0.014791490510106087, -0.042186614125967026, -0.025778431445360184, -0.08049439638853073, 0.08412909507751465, 0.01916232518851757, 0.05395384132862091, 0.022053014487028122, -0.040566373616456985, 0.0008939941762946546, -0.00550567451864481, 0.058615684509277344, 0.019738102331757545, -0.01977623626589775, -0.025852130725979805, 0.013372923247516155, 0.03154229372739792, -0.0020687333308160305, 0.07591177523136139, 0.004643366206437349, 0.025594230741262436, 0.009799128398299217, -0.014647570438683033, -0.02998271957039833, -0.009824158623814583, 0.023015350103378296, -0.012919330969452858, -0.0003809346817433834, 0.05848165228962898, 0.03320414572954178, -0.034758202731609344, -0.0008447031723335385, 0.032949142158031464, -0.043030619621276855, 0.03016526997089386, -0.015965495258569717, 0.0029810855630785227, -0.12628312408924103, 0.016331814229488373, -0.01519558671861887, -0.05296441167593002, -0.002982701174914837, 0.09598235785961151, -0.04044840857386589, 0.009519772604107857, -0.07008667290210724, -0.030573545023798943, 0.032500673085451126, -0.019984155893325806, -0.0017932812916114926, -0.006629190407693386, 0.003992535173892975, -0.016502447426319122, 0.06719055771827698, -0.005274219438433647, 0.024906976148486137, -0.023498112335801125, 0.04445740580558777, 0.03523082658648491, -0.005399143323302269, -0.0041869389824569225, -0.0480545237660408, -0.06638071686029434, 0.010008201003074646, 0.03135582059621811, -0.07723842561244965, -0.036735355854034424, -0.09080908447504044, -0.055579569190740585, 0.024374037981033325, 0.03484451770782471, 0.054416242986917496, 0.019175253808498383, -0.061646174639463425, -0.0486944317817688, 0.024428674951195717, 0.025723490864038467, 0.014215262606739998, -0.03842373192310333, 0.06885501742362976, -0.02941860444843769, -0.07249417901039124, 0.028116991743445396, 0.04352659359574318, 0.01398441195487976, -0.009595882147550583, -0.024975350126624107, 0.026299385353922844, 0.028902394697070122, -0.013490378856658936, 0.023553859442472458, 0.029531018808484077, -0.05135912448167801, -0.06210099160671234, -0.05234602466225624, 0.047345396131277084, -0.01955464482307434, 0.004819192923605442, -0.031758859753608704, -0.014878668822348118, 0.02302776835858822, 0.00048023799899965525, -0.04280298203229904, -0.04338442534208298, -0.01649491861462593, -0.02924460545182228, -0.016178421676158905, -0.019162915647029877, -0.03165683150291443, 0.01174873299896717, 0.02271885797381401, 0.05637688934803009, -0.0069326856173574924, 0.10389163345098495, -0.027093468233942986, 0.023192303255200386, -0.014107934199273586, 0.003311422187834978, 0.03567708656191826, -0.029757628217339516, 0.015425901859998703, -0.03048405423760414, 0.01631997898221016, 0.034651197493076324, -0.05083967372775078, -0.004225339740514755, 0.04795169085264206, -0.006014712154865265, -0.026606258004903793, -0.038068994879722595, 0.057571690529584885, 0.029625823721289635, -0.048350345343351364, -0.008735685609281063, 0.058519236743450165, 0.0220361165702343, -0.009728629142045975, 0.014077210798859596, -0.004480293486267328, 0.039900097995996475, 0.03214197978377342, 0.025237761437892914, 0.009786556474864483, 0.055691879242658615, -0.029336372390389442, 0.015119664371013641, 0.02651818096637726, -0.03624148666858673, 0.01224399171769619, -0.046249911189079285, 0.0567801371216774, 0.03222629800438881, -0.007709826808422804, 0.004536567255854607, -0.009059185162186623, 0.024471448734402657, -0.024741940200328827, -0.02824186161160469, 0.0038342399057000875, -0.04356355220079422, -0.0813874825835228, -0.05329671874642372, -0.05913553386926651, -0.016599707305431366, -0.04313967004418373, 0.03612745180726051, -0.04836038127541542, -0.02096383087337017, -0.023742420598864555, -0.016958773136138916, 0.03805474564433098, 0.0009907233761623502, 0.0052277580834925175, -0.03531286492943764, -0.0822012647986412, 0.024982457980513573, 0.006158168893307447, 0.021829217672348022, 0.0066199214197695255, 0.06275363266468048, -0.05117737874388695, 0.004781244322657585, -0.005451940931379795, 0.04671185463666916, 0.0019171442836523056, 0.018862754106521606, 0.06066703796386719, -0.006029682699590921, -0.01752461865544319, 0.00572238489985466, 0.019370784983038902, 0.05284608155488968, 0.03100101836025715, -0.06360217183828354, -0.04600304365158081, 0.026451475918293, 0.025105031207203865, 0.007304310332983732, 0.020132986828684807, -0.03906361386179924, -0.0060670520178973675, -0.04419126734137535, 0.01379171572625637, 0.003380891401320696, -0.040571101009845734, 0.017909860238432884, 0.06711532920598984, -0.01957823894917965, -0.03754300996661186, -0.006695087533444166, -0.04011182487010956, -0.13453441858291626, -0.04059942066669464, -0.005785555578768253, 0.03358453884720802, 0.021381516009569168, 0.007832464762032032, -0.02745133265852928, 0.004362260457128286, 0.038539692759513855, -0.02968313731253147, 0.03905971348285675, -0.04317036271095276, 0.010508441366255283, -0.009721914306282997, 0.014085762202739716, -0.027101052924990654, 0.027836939319968224, -0.0787668377161026, -0.013070392422378063, 0.05407842621207237, -0.033484041690826416, 0.011617735028266907, 0.0710858479142189, 0.029788564890623093, 0.05257262662053108, -0.004353106487542391, 0.024833867326378822, 0.002303983084857464, -0.0536828450858593, -0.07494788616895676, -0.022071534767746925, -0.035796869546175, -0.028532737866044044, 0.005875998176634312, 0.03041202761232853, 0.0736565962433815, 0.02724090963602066, 0.0003826026222668588, 0.015650248154997826, 0.018431441858410835, 0.08925775438547134, -0.018824510276317596, 0.018922558054327965, 0.044763240963220596, 0.005196928046643734, 0.022239476442337036, -0.0014725241344422102, 0.0671992301940918, 0.04417191073298454, -0.027511177584528923, 0.052302926778793335, 0.004355242475867271, -0.00501990644261241, -0.02272106520831585, 0.02037547342479229, -0.029400164261460304, 0.009821278043091297, 0.006717570126056671, -0.009289325214922428, -0.04384787008166313, -0.05679174140095711, 0.02255069464445114, 0.02553286775946617, -0.026034308597445488, 0.0208306685090065, 0.005666225217282772, -0.017260588705539703, 0.019757604226469994, -0.008011903613805771, 0.09940554946660995, -0.020355720072984695, 0.019406773149967194, -0.054875634610652924, -0.03646634519100189, -0.0300811305642128, -0.007979781366884708, 0.01791788823902607, 0.03574862703680992, -0.04609484225511551, 0.01695237122476101, -0.018908478319644928, 0.023326322436332703, -0.002182499971240759, -0.0018442141590639949, -0.05997556447982788, -0.03796977922320366, 0.006829415448009968, -0.023173758760094643, 0.02818099409341812, -0.03334426134824753, 0.09793921560049057, -0.0040667615830898285, -0.024801623076200485, 0.023952865973114967, 0.009532686322927475, -0.02023947797715664, -0.035043515264987946, 0.06352875381708145, -0.0002971497888211161, -0.019225282594561577, 0.04701520875096321, 0.031321290880441666, -0.007724408060312271, 0.00921334233134985, -0.005462556146085262, 0.03369312733411789, 0.04216817021369934, 0.011274994350969791, 0.002493444597348571, -0.009758987464010715, -0.006132220849394798, 0.003234060015529394, 0.02113177627325058, -0.016114991158246994, -0.00036233323044143617, 0.009062663652002811, 0.010381471365690231, 0.07033780962228775, 0.03245237469673157, 0.09924546629190445, -0.004194015171378851, -0.021294349804520607, -0.05876512825489044, 0.051986563950777054, 0.025446796789765358, -0.02078915573656559, 0.06544525921344757, 0.0055097052827477455, -0.0074172900058329105, 0.008200375363230705, -0.003769420087337494, 0.032288599759340286, -0.010087622329592705, -0.017940465360879898, 0.033266205340623856, 0.014719421043992043, 0.010597486980259418, -0.07314997911453247, -0.08192317187786102, 0.0022975222673267126, 0.03740105777978897, 0.018248794600367546, 0.0282430537045002, -0.021178126335144043, -0.0035538000520318747, 0.010744964703917503, 0.05275757238268852, -0.0004579504893627018, 0.01296456903219223, 0.005951039493083954, -0.01445450633764267, 0.07716921716928482, 0.011357367970049381, 0.02074449323117733, 0.012271525338292122, 0.023275746032595634, 0.05837105214595795, -0.01599727012217045, -0.044685814529657364, 0.004667619708925486, 0.07156526297330856, 0.01012535858899355, -0.026369191706180573, -0.0024915391113609076, -0.04843571409583092, 0.03433719277381897, -0.027341611683368683, 0.03321605175733566, 0.02843525819480419, -0.045673079788684845, 0.011957565322518349, 0.007540273945778608, -0.025193968787789345, -0.040915150195360184, -0.012946676462888718, 0.004750970751047134, -0.0046204146929085255, -0.03627792000770569, 0.0319015309214592, -0.028163377195596695, 0.05733999237418175, -0.028745634481310844, 0.007613787427544594, 0.05156027153134346, 0.0626147985458374, 0.05067834630608559, -0.03359874337911606, -0.02495180070400238, -0.007067530881613493, -0.02824331261217594, -0.03093664161860943, -0.012614240869879723, 0.06959906220436096, 0.007297897711396217, 0.029198354110121727, -0.030506595969200134, 0.04672511667013168, 0.00607127882540226, -0.027058955281972885, 0.0075409603305161, 0.0008675272692926228, -0.012243497185409069, -0.02308524399995804, 0.05871434137225151, -0.06209864094853401, -0.05923594534397125, 0.042018402367830276, -0.021293727681040764, -0.0007426512893289328, 0.01462311390787363, 0.018131453543901443, -0.005005436949431896, 0.005736291408538818, 0.018715273588895798, 0.0016241379780694842, 0.0694570317864418, 0.031178874894976616, 0.04578454792499542, 0.056395988911390305, 0.05717678368091583, 0.04004671797156334, -0.010525155812501907, 0.0018395287916064262, -0.01509018149226904, 0.03419022634625435, 0.0059544784016907215, 0.03664599731564522, 0.024154547601938248, 0.033262718468904495, 0.024599814787507057, -0.02838784269988537, -0.010699938982725143, -0.047613102942705154, 0.026071522384881973, -0.0003077191940974444, -0.007568839471787214, -0.05217573046684265, 0.04839164391160011, 0.010108648799359798, -0.023685147985816002, 0.053998906165361404, -0.02070752903819084, -0.015268846414983273, -0.04026395455002785, 0.047906771302223206, -0.03222183510661125, 0.029852477833628654, -0.005315890070050955, 0.030373897403478622, 0.001021972973830998, -0.05592302232980728, 0.07234423607587814, -0.029874034225940704, -0.030565379187464714, -0.011907222680747509, -0.0215921550989151, 0.031646911054849625, -0.0370924174785614, 0.033404864370822906, -0.054133012890815735, -0.056384630501270294, -0.03333008289337158, 0.018602730706334114, -0.03925875946879387, 0.006256615277379751, -0.004335618577897549, 0.04234965890645981, 0.011259389109909534, -0.0009896436240524054, -0.04762959107756615, -0.03340035304427147, -0.01203649677336216, 0.012134173884987831, -0.0071455975994467735, -0.0063856542110443115, 0.05923282355070114, -0.020873339846730232, -0.048600878566503525, 0.005990530364215374, 0.0067246947437524796, -0.03912264481186867, -0.0007653801585547626, 0.0154844019562006, 0.036373015493154526, 0.02708919532597065, -0.060178060084581375, 0.003707570256665349, -0.018751027062535286, -0.04382690414786339, -0.08751071989536285, 0.010735703632235527, -0.03407849371433258, 0.00875865574926138, -0.02538648247718811, -0.020839601755142212, 0.02233046479523182, -0.007568683475255966, -0.04214634746313095, -0.0848274752497673, 0.04051945358514786, -0.05459153279662132, -0.002322580898180604, 0.013857410289347172, -0.001236235722899437, 0.005804644897580147, -0.016886631026864052, -0.02441144734621048, -0.02391439490020275, -0.022350475192070007, -0.01710919290781021, 0.0011445858981460333, 0.010004980489611626, 0.04937123507261276, 0.03683285787701607, -0.04016701504588127, -0.002269995864480734, 0.059385571628808975, -0.06373682618141174, -0.013999657705426216, -0.01849650777876377, -0.01128192525357008, 0.007046206388622522, 0.020690323784947395, -0.022777758538722992, 0.05394716188311577, 0.037966713309288025, 0.05327753722667694, -0.016987046226859093, -0.023043636232614517, 0.0015535951824858785, 0.005786512512713671, 0.00528296921402216, 0.04632455110549927, 0.030560795217752457, -0.026010951027274132, 0.0470210425555706, -0.020386075600981712, -0.013235069811344147, -0.0429656021296978, -0.012853138148784637, -0.06053205206990242, 0.01785801351070404, 0.020246034488081932, 0.006908527575433254, -0.034196145832538605, -0.0008631718228571117, -0.02539868839085102, 0.03519358113408089, -0.028085969388484955, -0.004696475341916084, -0.0539628230035305, -0.015189528465270996, 0.006840797141194344, -0.05032709985971451, -0.019434195011854172, -0.04040927067399025, -0.007560573052614927, 0.012863349169492722, -0.008293540216982365, 0.004802385810762644, -0.0019041576888412237, 0.00503663020208478, -0.028654562309384346, -0.018283208832144737, 0.0009052465902641416, -0.02333368919789791, 0.01320537831634283, -0.07497964054346085, 0.050224028527736664, -0.020232228562235832, 0.003503344254568219, -0.023824870586395264, 0.018860168755054474, 0.03121919371187687, -0.02201707661151886, -0.003101576818153262, 0.02235729619860649, 0.05112515762448311, 0.015655172988772392, 0.04526470601558685, -0.04256388545036316, -0.04974754527211189, -0.017952952533960342, 0.006797906942665577, -0.014957384206354618, -0.03031417727470398, -0.015463246032595634, -0.04107111319899559, 0.015551525168120861, 0.007647436577826738, 0.029697513207793236, 0.02425759844481945, -0.02511521801352501, 0.011299993842840195, -0.03541930764913559, -0.005981515161693096, 0.057289108633995056, -0.014889953657984734, 0.018506323918700218, -0.001531703514046967, 0.052504632622003555, 0.04320824518799782, 0.05889436602592468, 0.019405122846364975, 0.055244553834199905, 0.007226028945297003, 0.05039706826210022, 0.009336009621620178, 0.06695137917995453, 0.03270453214645386, -0.013106195256114006, 0.035851310938596725, -0.058930911123752594, -0.004080501850694418, 0.08005746454000473, -0.00793781690299511, -0.006158164702355862, -0.023257678374648094, 0.002276030369102955, 0.02928137220442295, 0.03891342878341675, -0.05525435507297516, -0.020348334684967995, 0.0014668912626802921, 0.061618391424417496, -0.017502544447779655, -0.042943574488162994, -0.032865576446056366, 0.017472224310040474, 0.018492138013243675, 0.002174444729462266, -0.05515822023153305, -0.004187797661870718, -0.06105946749448776, -0.05932226404547691, 0.03689606487751007, -0.010276093147695065, -0.02361220121383667, 0.04137137532234192, -0.043341364711523056, 0.01849673129618168, -0.01437355950474739, 0.0067030685022473335, 0.013444274663925171, -0.025279337540268898, 0.0707043781876564, -0.05105167627334595, -0.028999006375670433, -0.06949671357870102, -0.047782231122255325, 0.06677839905023575, -0.03832581639289856]\n",
      "embedding: [0.031277116388082504, 0.03056905046105385, 0.010865348391234875, 0.0623614676296711, 0.03228681534528732, 0.05066155269742012, 0.046544693410396576, 0.05509665608406067, -0.014074751175940037, 0.008380400016903877, -0.01929544471204281, 0.06018099561333656, 0.021451441571116447, 0.009322194382548332, -0.013701723888516426, -0.04351693019270897, 0.04790112003684044, 0.003177436999976635, -0.04303600266575813, -0.04613032191991806, -0.022652707993984222, 0.011459872126579285, -0.048748698085546494, -0.028833577409386635, -0.026493791490793228, -0.10107960551977158, -0.005884544923901558, -0.0469786673784256, 0.010677908547222614, -0.027322884649038315, 0.020917106419801712, 0.03639862686395645, -0.0248264092952013, -0.04899158701300621, 0.0075708250515162945, -0.019531236961483955, 0.004617298487573862, -0.03411642462015152, 0.024835137650370598, -0.04770590737462044, -0.03282281011343002, -0.02035667560994625, -0.04656996577978134, 0.028384139761328697, -0.016697902232408524, -0.051484543830156326, 0.03096424974501133, -0.003249448025599122, -0.027910081669688225, 0.007608796935528517, 0.04205267131328583, 0.023721003904938698, -0.01884978823363781, -0.006985411047935486, -0.03508876636624336, -0.0547468364238739, -0.036823876202106476, -0.03662095591425896, -0.02248244546353817, -0.025111649185419083, -0.0006414309609681368, 0.0182955265045166, 0.022843850776553154, -0.023551806807518005, 0.0008694315911270678, -0.012131139636039734, 0.00868213176727295, -0.02935527265071869, -0.057278115302324295, -0.013916621915996075, -0.022094203159213066, 0.04566516727209091, 0.0025522890500724316, 0.044288426637649536, 0.023704824969172478, -0.01852419786155224, 0.01710422709584236, 0.00535933393985033, 0.04389301314949989, 0.0344621017575264, -0.0381350964307785, 0.015827827155590057, 0.006450353190302849, -1.6636546206427738e-05, -0.001411276520229876, 0.02251240983605385, 0.04433685168623924, -0.060027044266462326, -0.051762744784355164, -0.011061104945838451, 0.10319468379020691, 0.06315633654594421, -0.048748210072517395, -0.0078058550134301186, 0.058003634214401245, -0.0401839055120945, -0.04964875057339668, -0.11064539849758148, 0.050548918545246124, 0.05135246366262436, 0.006448789499700069, 0.007349808234721422, -0.025536077097058296, -0.03911641612648964, 0.0032796096056699753, -0.014791490510106087, -0.042186614125967026, -0.025778431445360184, -0.08049439638853073, 0.08412909507751465, 0.01916232518851757, 0.05395384132862091, 0.022053014487028122, -0.040566373616456985, 0.0008939941762946546, -0.00550567451864481, 0.058615684509277344, 0.019738102331757545, -0.01977623626589775, -0.025852130725979805, 0.013372923247516155, 0.03154229372739792, -0.0020687333308160305, 0.07591177523136139, 0.004643366206437349, 0.025594230741262436, 0.009799128398299217, -0.014647570438683033, -0.02998271957039833, -0.009824158623814583, 0.023015350103378296, -0.012919330969452858, -0.0003809346817433834, 0.05848165228962898, 0.03320414572954178, -0.034758202731609344, -0.0008447031723335385, 0.032949142158031464, -0.043030619621276855, 0.03016526997089386, -0.015965495258569717, 0.0029810855630785227, -0.12628312408924103, 0.016331814229488373, -0.01519558671861887, -0.05296441167593002, -0.002982701174914837, 0.09598235785961151, -0.04044840857386589, 0.009519772604107857, -0.07008667290210724, -0.030573545023798943, 0.032500673085451126, -0.019984155893325806, -0.0017932812916114926, -0.006629190407693386, 0.003992535173892975, -0.016502447426319122, 0.06719055771827698, -0.005274219438433647, 0.024906976148486137, -0.023498112335801125, 0.04445740580558777, 0.03523082658648491, -0.005399143323302269, -0.0041869389824569225, -0.0480545237660408, -0.06638071686029434, 0.010008201003074646, 0.03135582059621811, -0.07723842561244965, -0.036735355854034424, -0.09080908447504044, -0.055579569190740585, 0.024374037981033325, 0.03484451770782471, 0.054416242986917496, 0.019175253808498383, -0.061646174639463425, -0.0486944317817688, 0.024428674951195717, 0.025723490864038467, 0.014215262606739998, -0.03842373192310333, 0.06885501742362976, -0.02941860444843769, -0.07249417901039124, 0.028116991743445396, 0.04352659359574318, 0.01398441195487976, -0.009595882147550583, -0.024975350126624107, 0.026299385353922844, 0.028902394697070122, -0.013490378856658936, 0.023553859442472458, 0.029531018808484077, -0.05135912448167801, -0.06210099160671234, -0.05234602466225624, 0.047345396131277084, -0.01955464482307434, 0.004819192923605442, -0.031758859753608704, -0.014878668822348118, 0.02302776835858822, 0.00048023799899965525, -0.04280298203229904, -0.04338442534208298, -0.01649491861462593, -0.02924460545182228, -0.016178421676158905, -0.019162915647029877, -0.03165683150291443, 0.01174873299896717, 0.02271885797381401, 0.05637688934803009, -0.0069326856173574924, 0.10389163345098495, -0.027093468233942986, 0.023192303255200386, -0.014107934199273586, 0.003311422187834978, 0.03567708656191826, -0.029757628217339516, 0.015425901859998703, -0.03048405423760414, 0.01631997898221016, 0.034651197493076324, -0.05083967372775078, -0.004225339740514755, 0.04795169085264206, -0.006014712154865265, -0.026606258004903793, -0.038068994879722595, 0.057571690529584885, 0.029625823721289635, -0.048350345343351364, -0.008735685609281063, 0.058519236743450165, 0.0220361165702343, -0.009728629142045975, 0.014077210798859596, -0.004480293486267328, 0.039900097995996475, 0.03214197978377342, 0.025237761437892914, 0.009786556474864483, 0.055691879242658615, -0.029336372390389442, 0.015119664371013641, 0.02651818096637726, -0.03624148666858673, 0.01224399171769619, -0.046249911189079285, 0.0567801371216774, 0.03222629800438881, -0.007709826808422804, 0.004536567255854607, -0.009059185162186623, 0.024471448734402657, -0.024741940200328827, -0.02824186161160469, 0.0038342399057000875, -0.04356355220079422, -0.0813874825835228, -0.05329671874642372, -0.05913553386926651, -0.016599707305431366, -0.04313967004418373, 0.03612745180726051, -0.04836038127541542, -0.02096383087337017, -0.023742420598864555, -0.016958773136138916, 0.03805474564433098, 0.0009907233761623502, 0.0052277580834925175, -0.03531286492943764, -0.0822012647986412, 0.024982457980513573, 0.006158168893307447, 0.021829217672348022, 0.0066199214197695255, 0.06275363266468048, -0.05117737874388695, 0.004781244322657585, -0.005451940931379795, 0.04671185463666916, 0.0019171442836523056, 0.018862754106521606, 0.06066703796386719, -0.006029682699590921, -0.01752461865544319, 0.00572238489985466, 0.019370784983038902, 0.05284608155488968, 0.03100101836025715, -0.06360217183828354, -0.04600304365158081, 0.026451475918293, 0.025105031207203865, 0.007304310332983732, 0.020132986828684807, -0.03906361386179924, -0.0060670520178973675, -0.04419126734137535, 0.01379171572625637, 0.003380891401320696, -0.040571101009845734, 0.017909860238432884, 0.06711532920598984, -0.01957823894917965, -0.03754300996661186, -0.006695087533444166, -0.04011182487010956, -0.13453441858291626, -0.04059942066669464, -0.005785555578768253, 0.03358453884720802, 0.021381516009569168, 0.007832464762032032, -0.02745133265852928, 0.004362260457128286, 0.038539692759513855, -0.02968313731253147, 0.03905971348285675, -0.04317036271095276, 0.010508441366255283, -0.009721914306282997, 0.014085762202739716, -0.027101052924990654, 0.027836939319968224, -0.0787668377161026, -0.013070392422378063, 0.05407842621207237, -0.033484041690826416, 0.011617735028266907, 0.0710858479142189, 0.029788564890623093, 0.05257262662053108, -0.004353106487542391, 0.024833867326378822, 0.002303983084857464, -0.0536828450858593, -0.07494788616895676, -0.022071534767746925, -0.035796869546175, -0.028532737866044044, 0.005875998176634312, 0.03041202761232853, 0.0736565962433815, 0.02724090963602066, 0.0003826026222668588, 0.015650248154997826, 0.018431441858410835, 0.08925775438547134, -0.018824510276317596, 0.018922558054327965, 0.044763240963220596, 0.005196928046643734, 0.022239476442337036, -0.0014725241344422102, 0.0671992301940918, 0.04417191073298454, -0.027511177584528923, 0.052302926778793335, 0.004355242475867271, -0.00501990644261241, -0.02272106520831585, 0.02037547342479229, -0.029400164261460304, 0.009821278043091297, 0.006717570126056671, -0.009289325214922428, -0.04384787008166313, -0.05679174140095711, 0.02255069464445114, 0.02553286775946617, -0.026034308597445488, 0.0208306685090065, 0.005666225217282772, -0.017260588705539703, 0.019757604226469994, -0.008011903613805771, 0.09940554946660995, -0.020355720072984695, 0.019406773149967194, -0.054875634610652924, -0.03646634519100189, -0.0300811305642128, -0.007979781366884708, 0.01791788823902607, 0.03574862703680992, -0.04609484225511551, 0.01695237122476101, -0.018908478319644928, 0.023326322436332703, -0.002182499971240759, -0.0018442141590639949, -0.05997556447982788, -0.03796977922320366, 0.006829415448009968, -0.023173758760094643, 0.02818099409341812, -0.03334426134824753, 0.09793921560049057, -0.0040667615830898285, -0.024801623076200485, 0.023952865973114967, 0.009532686322927475, -0.02023947797715664, -0.035043515264987946, 0.06352875381708145, -0.0002971497888211161, -0.019225282594561577, 0.04701520875096321, 0.031321290880441666, -0.007724408060312271, 0.00921334233134985, -0.005462556146085262, 0.03369312733411789, 0.04216817021369934, 0.011274994350969791, 0.002493444597348571, -0.009758987464010715, -0.006132220849394798, 0.003234060015529394, 0.02113177627325058, -0.016114991158246994, -0.00036233323044143617, 0.009062663652002811, 0.010381471365690231, 0.07033780962228775, 0.03245237469673157, 0.09924546629190445, -0.004194015171378851, -0.021294349804520607, -0.05876512825489044, 0.051986563950777054, 0.025446796789765358, -0.02078915573656559, 0.06544525921344757, 0.0055097052827477455, -0.0074172900058329105, 0.008200375363230705, -0.003769420087337494, 0.032288599759340286, -0.010087622329592705, -0.017940465360879898, 0.033266205340623856, 0.014719421043992043, 0.010597486980259418, -0.07314997911453247, -0.08192317187786102, 0.0022975222673267126, 0.03740105777978897, 0.018248794600367546, 0.0282430537045002, -0.021178126335144043, -0.0035538000520318747, 0.010744964703917503, 0.05275757238268852, -0.0004579504893627018, 0.01296456903219223, 0.005951039493083954, -0.01445450633764267, 0.07716921716928482, 0.011357367970049381, 0.02074449323117733, 0.012271525338292122, 0.023275746032595634, 0.05837105214595795, -0.01599727012217045, -0.044685814529657364, 0.004667619708925486, 0.07156526297330856, 0.01012535858899355, -0.026369191706180573, -0.0024915391113609076, -0.04843571409583092, 0.03433719277381897, -0.027341611683368683, 0.03321605175733566, 0.02843525819480419, -0.045673079788684845, 0.011957565322518349, 0.007540273945778608, -0.025193968787789345, -0.040915150195360184, -0.012946676462888718, 0.004750970751047134, -0.0046204146929085255, -0.03627792000770569, 0.0319015309214592, -0.028163377195596695, 0.05733999237418175, -0.028745634481310844, 0.007613787427544594, 0.05156027153134346, 0.0626147985458374, 0.05067834630608559, -0.03359874337911606, -0.02495180070400238, -0.007067530881613493, -0.02824331261217594, -0.03093664161860943, -0.012614240869879723, 0.06959906220436096, 0.007297897711396217, 0.029198354110121727, -0.030506595969200134, 0.04672511667013168, 0.00607127882540226, -0.027058955281972885, 0.0075409603305161, 0.0008675272692926228, -0.012243497185409069, -0.02308524399995804, 0.05871434137225151, -0.06209864094853401, -0.05923594534397125, 0.042018402367830276, -0.021293727681040764, -0.0007426512893289328, 0.01462311390787363, 0.018131453543901443, -0.005005436949431896, 0.005736291408538818, 0.018715273588895798, 0.0016241379780694842, 0.0694570317864418, 0.031178874894976616, 0.04578454792499542, 0.056395988911390305, 0.05717678368091583, 0.04004671797156334, -0.010525155812501907, 0.0018395287916064262, -0.01509018149226904, 0.03419022634625435, 0.0059544784016907215, 0.03664599731564522, 0.024154547601938248, 0.033262718468904495, 0.024599814787507057, -0.02838784269988537, -0.010699938982725143, -0.047613102942705154, 0.026071522384881973, -0.0003077191940974444, -0.007568839471787214, -0.05217573046684265, 0.04839164391160011, 0.010108648799359798, -0.023685147985816002, 0.053998906165361404, -0.02070752903819084, -0.015268846414983273, -0.04026395455002785, 0.047906771302223206, -0.03222183510661125, 0.029852477833628654, -0.005315890070050955, 0.030373897403478622, 0.001021972973830998, -0.05592302232980728, 0.07234423607587814, -0.029874034225940704, -0.030565379187464714, -0.011907222680747509, -0.0215921550989151, 0.031646911054849625, -0.0370924174785614, 0.033404864370822906, -0.054133012890815735, -0.056384630501270294, -0.03333008289337158, 0.018602730706334114, -0.03925875946879387, 0.006256615277379751, -0.004335618577897549, 0.04234965890645981, 0.011259389109909534, -0.0009896436240524054, -0.04762959107756615, -0.03340035304427147, -0.01203649677336216, 0.012134173884987831, -0.0071455975994467735, -0.0063856542110443115, 0.05923282355070114, -0.020873339846730232, -0.048600878566503525, 0.005990530364215374, 0.0067246947437524796, -0.03912264481186867, -0.0007653801585547626, 0.0154844019562006, 0.036373015493154526, 0.02708919532597065, -0.060178060084581375, 0.003707570256665349, -0.018751027062535286, -0.04382690414786339, -0.08751071989536285, 0.010735703632235527, -0.03407849371433258, 0.00875865574926138, -0.02538648247718811, -0.020839601755142212, 0.02233046479523182, -0.007568683475255966, -0.04214634746313095, -0.0848274752497673, 0.04051945358514786, -0.05459153279662132, -0.002322580898180604, 0.013857410289347172, -0.001236235722899437, 0.005804644897580147, -0.016886631026864052, -0.02441144734621048, -0.02391439490020275, -0.022350475192070007, -0.01710919290781021, 0.0011445858981460333, 0.010004980489611626, 0.04937123507261276, 0.03683285787701607, -0.04016701504588127, -0.002269995864480734, 0.059385571628808975, -0.06373682618141174, -0.013999657705426216, -0.01849650777876377, -0.01128192525357008, 0.007046206388622522, 0.020690323784947395, -0.022777758538722992, 0.05394716188311577, 0.037966713309288025, 0.05327753722667694, -0.016987046226859093, -0.023043636232614517, 0.0015535951824858785, 0.005786512512713671, 0.00528296921402216, 0.04632455110549927, 0.030560795217752457, -0.026010951027274132, 0.0470210425555706, -0.020386075600981712, -0.013235069811344147, -0.0429656021296978, -0.012853138148784637, -0.06053205206990242, 0.01785801351070404, 0.020246034488081932, 0.006908527575433254, -0.034196145832538605, -0.0008631718228571117, -0.02539868839085102, 0.03519358113408089, -0.028085969388484955, -0.004696475341916084, -0.0539628230035305, -0.015189528465270996, 0.006840797141194344, -0.05032709985971451, -0.019434195011854172, -0.04040927067399025, -0.007560573052614927, 0.012863349169492722, -0.008293540216982365, 0.004802385810762644, -0.0019041576888412237, 0.00503663020208478, -0.028654562309384346, -0.018283208832144737, 0.0009052465902641416, -0.02333368919789791, 0.01320537831634283, -0.07497964054346085, 0.050224028527736664, -0.020232228562235832, 0.003503344254568219, -0.023824870586395264, 0.018860168755054474, 0.03121919371187687, -0.02201707661151886, -0.003101576818153262, 0.02235729619860649, 0.05112515762448311, 0.015655172988772392, 0.04526470601558685, -0.04256388545036316, -0.04974754527211189, -0.017952952533960342, 0.006797906942665577, -0.014957384206354618, -0.03031417727470398, -0.015463246032595634, -0.04107111319899559, 0.015551525168120861, 0.007647436577826738, 0.029697513207793236, 0.02425759844481945, -0.02511521801352501, 0.011299993842840195, -0.03541930764913559, -0.005981515161693096, 0.057289108633995056, -0.014889953657984734, 0.018506323918700218, -0.001531703514046967, 0.052504632622003555, 0.04320824518799782, 0.05889436602592468, 0.019405122846364975, 0.055244553834199905, 0.007226028945297003, 0.05039706826210022, 0.009336009621620178, 0.06695137917995453, 0.03270453214645386, -0.013106195256114006, 0.035851310938596725, -0.058930911123752594, -0.004080501850694418, 0.08005746454000473, -0.00793781690299511, -0.006158164702355862, -0.023257678374648094, 0.002276030369102955, 0.02928137220442295, 0.03891342878341675, -0.05525435507297516, -0.020348334684967995, 0.0014668912626802921, 0.061618391424417496, -0.017502544447779655, -0.042943574488162994, -0.032865576446056366, 0.017472224310040474, 0.018492138013243675, 0.002174444729462266, -0.05515822023153305, -0.004187797661870718, -0.06105946749448776, -0.05932226404547691, 0.03689606487751007, -0.010276093147695065, -0.02361220121383667, 0.04137137532234192, -0.043341364711523056, 0.01849673129618168, -0.01437355950474739, 0.0067030685022473335, 0.013444274663925171, -0.025279337540268898, 0.0707043781876564, -0.05105167627334595, -0.028999006375670433, -0.06949671357870102, -0.047782231122255325, 0.06677839905023575, -0.03832581639289856]\n",
      "gse: fannie\n",
      "gse: fannie\n"
     ]
    }
   ],
   "source": [
    "for column, cells in read_row.cells[bigtable_column_family.column_family_id].items():\n",
    "    for cell in cells:\n",
    "        c = column.decode()\n",
    "        if c == 'embedding':\n",
    "            v = list(struct.unpack(f'>{len(cell.value)//4}f', cell.value))\n",
    "        else:\n",
    "            v = cell.value.decode()\n",
    "        print(f\"{c}: {v}\")"
   ]
  },
  {
   "cell_type": "code",
   "execution_count": null,
   "id": "506ba064-7b5a-4f8f-8ecf-bd98c2fbb332",
   "metadata": {},
   "outputs": [],
   "source": []
  },
  {
   "cell_type": "code",
   "execution_count": 255,
   "id": "93243b70-5e17-413f-b977-fb494f6892c3",
   "metadata": {
    "tags": []
   },
   "outputs": [],
   "source": [
    "row_filter = bigtable.row_filters.CellsRowLimitFilter(2) # most recent column only"
   ]
  },
  {
   "cell_type": "code",
   "execution_count": 256,
   "id": "3a389abf-f32e-42b9-b17b-339eac2797f2",
   "metadata": {
    "tags": []
   },
   "outputs": [],
   "source": [
    "read_row = bigtable_table.read_row(first_record['chunk_id'], row_filter)"
   ]
  },
  {
   "cell_type": "code",
   "execution_count": 257,
   "id": "6d117637-6e77-4757-a59b-d76669b4dab0",
   "metadata": {
    "tags": []
   },
   "outputs": [
    {
     "name": "stdout",
     "output_type": "stream",
     "text": [
      "chunk_id: fannie_part_0_c17\n",
      "chunk_id: fannie_part_0_c17\n"
     ]
    }
   ],
   "source": [
    "for column, cells in read_row.cells[bigtable_column_family.column_family_id].items():\n",
    "    for cell in cells:\n",
    "        c = column.decode()\n",
    "        if c == 'embedding':\n",
    "            v = list(struct.unpack(f'>{len(cell.value)//4}f', cell.value))\n",
    "        else:\n",
    "            v = cell.value.decode()\n",
    "        print(f\"{c}: {v}\")"
   ]
  },
  {
   "cell_type": "code",
   "execution_count": null,
   "id": "8a14e287-4b50-4b3f-a303-a2e19eef03dc",
   "metadata": {},
   "outputs": [],
   "source": []
  },
  {
   "cell_type": "code",
   "execution_count": null,
   "id": "7b02efd7-43a2-4dc5-9527-f8dc4a372d01",
   "metadata": {},
   "outputs": [],
   "source": []
  },
  {
   "cell_type": "markdown",
   "id": "e91146f5-7962-447f-a8e3-df3a01ba9a14",
   "metadata": {},
   "source": [
    "googleSQL\n",
    "\n",
    "https://cloud.google.com/bigtable/docs/googlesql-examples"
   ]
  },
  {
   "cell_type": "code",
   "execution_count": 311,
   "id": "49f76173-3f30-41bd-b89f-2c08eec526e1",
   "metadata": {
    "tags": []
   },
   "outputs": [],
   "source": [
    "async def execute_query(query):\n",
    "    async with bigtable.data.BigtableDataClientAsync(project=PROJECT_ID) as client:\n",
    "        local_query = query\n",
    "        rows = []\n",
    "        async for row in await client.execute_query(query, BIGTABLE_INSTANCE_NAME):\n",
    "            rows.append(row)\n",
    "        return rows"
   ]
  },
  {
   "cell_type": "code",
   "execution_count": 321,
   "id": "437060c3-d26a-4cc2-a977-cf8380dace5c",
   "metadata": {
    "tags": []
   },
   "outputs": [],
   "source": [
    "query = f\"\"\"\n",
    "      SELECT `{BIGTABLE_COLUMN_FAMILY_NAME}`['gse'] as gse, _key\n",
    "      FROM `{BIGTABLE_TABLE_NAME}`(with_history => TRUE)\n",
    "      WHERE _key = '{first_record['chunk_id']}';\n",
    "      \"\"\"\n",
    "\n",
    "results = await execute_query(query)"
   ]
  },
  {
   "cell_type": "code",
   "execution_count": 322,
   "id": "6b60bad0-c093-46a0-b070-4b36263d33ab",
   "metadata": {
    "tags": []
   },
   "outputs": [
    {
     "data": {
      "text/plain": [
       "[QueryResultRow([('gse', [Struct([('timestamp', DatetimeWithNanoseconds(2024, 10, 30, 14, 56, 9, 479000, tzinfo=datetime.timezone.utc)), ('value', b'fannie')]), Struct([('timestamp', DatetimeWithNanoseconds(2024, 10, 30, 14, 56, 6, 726000, tzinfo=datetime.timezone.utc)), ('value', b'fannie')])]), ('_key', b'fannie_part_0_c17')])]"
      ]
     },
     "execution_count": 322,
     "metadata": {},
     "output_type": "execute_result"
    }
   ],
   "source": [
    "results"
   ]
  },
  {
   "cell_type": "code",
   "execution_count": 323,
   "id": "7e70952c-305f-4ae8-a286-aeddb5e0e9ee",
   "metadata": {
    "tags": []
   },
   "outputs": [
    {
     "name": "stdout",
     "output_type": "stream",
     "text": [
      "fannie_part_0_c17 ['fannie', 'fannie'] ['10/30/24 14:56:09.479000', '10/30/24 14:56:06.726000']\n"
     ]
    }
   ],
   "source": [
    "for row in results:\n",
    "    print(\n",
    "        row['_key'].decode(),\n",
    "        [r['value'].decode() for r in row['gse']],\n",
    "        [r['timestamp'].strftime(\"%m/%d/%y %H:%M:%S.%f\") for r in row['gse']]\n",
    "    )"
   ]
  },
  {
   "cell_type": "code",
   "execution_count": 324,
   "id": "6f25a93d-5e70-445f-9281-6816680fa3fb",
   "metadata": {
    "tags": []
   },
   "outputs": [],
   "source": [
    "query = f\"\"\"\n",
    "      SELECT `{BIGTABLE_COLUMN_FAMILY_NAME}`['gse'] as gse, _key\n",
    "      FROM `{BIGTABLE_TABLE_NAME}`\n",
    "      WHERE _key = '{first_record['chunk_id']}';\n",
    "      \"\"\"\n",
    "\n",
    "results = await execute_query(query)"
   ]
  },
  {
   "cell_type": "code",
   "execution_count": 325,
   "id": "a4f1806f-098f-459c-b262-cf5f0b4b9516",
   "metadata": {
    "tags": []
   },
   "outputs": [
    {
     "data": {
      "text/plain": [
       "[QueryResultRow([('gse', b'fannie'), ('_key', b'fannie_part_0_c17')])]"
      ]
     },
     "execution_count": 325,
     "metadata": {},
     "output_type": "execute_result"
    }
   ],
   "source": [
    "results"
   ]
  },
  {
   "cell_type": "code",
   "execution_count": 328,
   "id": "a0072767-fe89-43ae-a3d7-f6b1ea053d05",
   "metadata": {
    "tags": []
   },
   "outputs": [
    {
     "name": "stdout",
     "output_type": "stream",
     "text": [
      "fannie_part_0_c17 fannie\n"
     ]
    }
   ],
   "source": [
    "for row in results:\n",
    "    print(\n",
    "        row['_key'].decode(), \n",
    "        row['gse'].decode()\n",
    "    )"
   ]
  },
  {
   "cell_type": "code",
   "execution_count": 335,
   "id": "9fa36498-494f-4c2e-ad8c-2b6cab60a990",
   "metadata": {
    "tags": []
   },
   "outputs": [],
   "source": [
    "query = f\"\"\"\n",
    "      SELECT _key, `{BIGTABLE_COLUMN_FAMILY_NAME}`\n",
    "      FROM `{BIGTABLE_TABLE_NAME}`\n",
    "      WHERE _key = '{first_record['chunk_id']}';\n",
    "      \"\"\"\n",
    "\n",
    "results = await execute_query(query)"
   ]
  },
  {
   "cell_type": "code",
   "execution_count": 346,
   "id": "7bdf2e5f-2229-44e7-8c0c-20edc937d4b5",
   "metadata": {
    "tags": []
   },
   "outputs": [
    {
     "name": "stdout",
     "output_type": "stream",
     "text": [
      "fannie_part_0_c17 fannie_part_0_c17 fannie # Selling Guide Fannie Mae Single Family\n",
      "\n",
      "## Fannie Mae Copyright Notice\n",
      "\n",
      "### Fannie Mae Copyright Notice\n",
      "\n",
      "|-|\n",
      "| Section B3-4.2, Verification of Depository Assets 402 |\n",
      "| B3-4.2-01, Verification of Deposits and Assets (05/04/2022) 403 |\n",
      "| B3-4.2-02, Depository Accounts (12/14/2022) 405 |\n",
      "| B3-4.2-03, Individual Development Accounts (02/06/2019) 408 |\n",
      "| B3-4.2-04, Pooled Savings (Community Savings Funds) (04/01/2009) 411 |\n",
      "| B3-4.2-05, Foreign Assets (05/04/2022) 411 |\n",
      "| Section B3-4.3, Verification of Non-Depository Assets 412 |\n",
      "| B3-4.3-01, Stocks, Stock Options, Bonds, and Mutual Funds (06/30/2015) 412 |\n",
      "| B3-4.3-02, Trust Accounts (04/01/2009) 413 |\n",
      "| B3-4.3-03, Retirement Accounts (06/30/2015) 414 |\n",
      "| B3-4.3-04, Personal Gifts (09/06/2023) 415 |\n",
      "| B3-4.3-05, Gifts of Equity (10/07/2020) 418 |\n",
      "| B3-4.3-06, Grants and Lender Contributions (12/14/2022) 419 |\n",
      "| B3-4.3-07, Disaster Relief Grants or Loans (04/01/2009) 423 |\n",
      "| B3-4.3-08, Employer Assistance (09/29/2015) 423 |\n",
      "| B3-4.3-09, Earnest Money Deposit (05/04/2022) 425 |\n",
      "| B3-4.3-10, Anticipated Sales Proceeds (02/23/2016) B3-4.3-11, Trade Equity (12/16/2020) 426 428 |\n",
      "| B3-4.3-12, Rent-Related Credits (08/07/2024) 429 |\n",
      "| B3-4.3-13, Sweat Equity (04/15/2014) 430 |\n",
      "| B3-4.3-14, Bridge/Swing Loans (04/01/2009) 431 |\n",
      "| B3-4.3-15, Borrowed Funds Secured by an Asset (10/30/2009) 431 |\n",
      "|  |\n",
      "\n",
      "\n"
     ]
    }
   ],
   "source": [
    "for row in results:\n",
    "    print(\n",
    "        row['_key'].decode(), \n",
    "        row[BIGTABLE_COLUMN_FAMILY_NAME][b'chunk_id'].decode(),\n",
    "        row[BIGTABLE_COLUMN_FAMILY_NAME][b'gse'].decode(),\n",
    "        row[BIGTABLE_COLUMN_FAMILY_NAME][b'content'].decode(),\n",
    "    )"
   ]
  },
  {
   "cell_type": "code",
   "execution_count": null,
   "id": "53f7b491-fffb-4b1f-a204-63c52656eca1",
   "metadata": {},
   "outputs": [],
   "source": []
  },
  {
   "cell_type": "code",
   "execution_count": null,
   "id": "c0cb481c-f79d-447f-8b2c-a8158be2c465",
   "metadata": {},
   "outputs": [],
   "source": []
  },
  {
   "cell_type": "code",
   "execution_count": null,
   "id": "caaf55e4-5483-4172-884b-f1be57551413",
   "metadata": {},
   "outputs": [],
   "source": []
  },
  {
   "cell_type": "code",
   "execution_count": 351,
   "id": "a1ccef45-34f9-475a-b8c9-01fdbc63e902",
   "metadata": {
    "tags": []
   },
   "outputs": [
    {
     "data": {
      "text/plain": []
     },
     "execution_count": 351,
     "metadata": {},
     "output_type": "execute_result"
    }
   ],
   "source": [
    "row = bigtable_table.row(first_record['chunk_id'])\n",
    "row.delete()\n",
    "row.commit()"
   ]
  },
  {
   "cell_type": "markdown",
   "id": "cdfe5406-3b61-4e90-a37a-7b1051b14f6d",
   "metadata": {},
   "source": [
    "### Load All Rows To The Table\n",
    "\n",
    "https://cloud.google.com/bigtable/docs/samples-python-hello#write_rows_to_a_table\n",
    "\n",
    "update the column family to have a max version garbage collection of 1 and explain how this works referring back to the single row example above.\n",
    "\n",
    "There are many great features in the BigTable clients for handling mutations/changes/writes to fit the specifics of a use case.  Here we need to write over 9000 new rows to the table.  Here are some of the techniques that can be used:\n",
    "\n",
    "- table.mutate_rows() **used here**\n",
    "    - atomic updates for many rows as cell operations are grouped into row objects and submitted together\n",
    "    - async with: await table.bulk_mutate_rows()\n",
    "        - asyncronous submission of many row objects containing cell operations\n"
   ]
  },
  {
   "cell_type": "code",
   "execution_count": 379,
   "id": "0324a0f5-e323-4052-b6fb-00cca0476afc",
   "metadata": {},
   "outputs": [],
   "source": [
    "rows = []\n",
    "for chunk in content_chunks:\n",
    "    row = bigtable_table.row(chunk['chunk_id'])\n",
    "    for k, v in chunk.items():\n",
    "        if k == 'embedding':\n",
    "            v = struct.pack(f'>{len(v)}f', *v)\n",
    "        else:\n",
    "            v = v.encode()\n",
    "        row.set_cell(bigtable_column_family.column_family_id, k, v)\n",
    "    rows.append(row)\n",
    "results = bigtable_table.mutate_rows(rows)"
   ]
  },
  {
   "cell_type": "code",
   "execution_count": 384,
   "id": "d3fc4301-9d0b-45e8-8443-2bb75ad93058",
   "metadata": {
    "tags": []
   },
   "outputs": [
    {
     "data": {
      "text/plain": [
       "(9040, True)"
      ]
     },
     "execution_count": 384,
     "metadata": {},
     "output_type": "execute_result"
    }
   ],
   "source": [
    "len(results), all(results)"
   ]
  },
  {
   "cell_type": "markdown",
   "id": "d99b51a0-8c91-4bf7-8a07-4fc0bd947e1f",
   "metadata": {
    "tags": []
   },
   "source": [
    "Get a sample of keys to verify that rows were writen:"
   ]
  },
  {
   "cell_type": "code",
   "execution_count": 376,
   "id": "18804e2c-5949-4cf4-886d-a796988b6f28",
   "metadata": {},
   "outputs": [
    {
     "data": {
      "text/plain": [
       "['fannie_part_0_c1',\n",
       " 'fannie_part_0_c10',\n",
       " 'fannie_part_0_c100',\n",
       " 'fannie_part_0_c1000',\n",
       " 'fannie_part_0_c1001',\n",
       " 'fannie_part_0_c1002',\n",
       " 'fannie_part_0_c1003',\n",
       " 'fannie_part_0_c1004',\n",
       " 'fannie_part_0_c1005',\n",
       " 'fannie_part_0_c1006']"
      ]
     },
     "execution_count": 376,
     "metadata": {},
     "output_type": "execute_result"
    }
   ],
   "source": [
    "[r.row_key.decode() for r in bigtable_table.read_rows(limit=10)]"
   ]
  },
  {
   "cell_type": "code",
   "execution_count": null,
   "id": "35215743-641b-4b31-95b4-92f8adafc714",
   "metadata": {},
   "outputs": [],
   "source": []
  },
  {
   "cell_type": "code",
   "execution_count": null,
   "id": "7e60bc29-ae62-49e9-8eb9-e57052a02372",
   "metadata": {},
   "outputs": [],
   "source": []
  },
  {
   "cell_type": "markdown",
   "id": "673f6d4b-1a4e-46c0-a4ca-8436d735e2c8",
   "metadata": {},
   "source": [
    "### Matching\n",
    "\n",
    "Bigtable only has brute force matching - no indexing and no approximation methods (IVF, ScaaN).  For distance measure dot product is missing and only cosine and euclidean are available."
   ]
  },
  {
   "cell_type": "code",
   "execution_count": 399,
   "id": "674909b9-74c2-4174-bac6-63e67de7c300",
   "metadata": {
    "tags": []
   },
   "outputs": [],
   "source": [
    "query = f\"\"\"\n",
    "      SELECT _key, `{BIGTABLE_COLUMN_FAMILY_NAME}`['content'] as content\n",
    "      FROM `{BIGTABLE_TABLE_NAME}`\n",
    "      ORDER BY COSINE_DISTANCE(\n",
    "              TO_VECTOR32(`{BIGTABLE_COLUMN_FAMILY_NAME}`['embedding']),\n",
    "              {question_embedding}\n",
    "          ) ASC\n",
    "      LIMIT 5;\n",
    "      \"\"\"\n",
    "\n",
    "results = await execute_query(query)"
   ]
  },
  {
   "cell_type": "code",
   "execution_count": 401,
   "id": "950ae835-7870-455e-9412-c07e1a954aa6",
   "metadata": {
    "tags": []
   },
   "outputs": [
    {
     "name": "stdout",
     "output_type": "stream",
     "text": [
      "fannie_part_0_c352\n",
      "freddie_part_4_c509\n",
      "freddie_part_4_c510\n",
      "fannie_part_0_c353\n",
      "fannie_part_0_c326\n"
     ]
    }
   ],
   "source": [
    "for row in results:\n",
    "    print(\n",
    "        row['_key'].decode(),\n",
    "        #row['content'].decode()\n",
    "    )"
   ]
  },
  {
   "cell_type": "code",
   "execution_count": null,
   "id": "f2e107ea-abdf-4a3d-9c89-f48cde4258c6",
   "metadata": {},
   "outputs": [],
   "source": []
  },
  {
   "cell_type": "code",
   "execution_count": null,
   "id": "e5cc3526-cec4-472b-b23b-d0f00ad5679e",
   "metadata": {},
   "outputs": [],
   "source": []
  },
  {
   "cell_type": "markdown",
   "id": "94dc77a9-5d0e-4ac0-8477-f20dcaf6b894",
   "metadata": {},
   "source": [
    "### Matching with Filtering\n",
    "\n",
    "Since the only method is brutefore filtering is easily accomplished with a WHERE clause"
   ]
  },
  {
   "cell_type": "code",
   "execution_count": 402,
   "id": "54067aeb-afd4-4ab5-a67c-9169ced0f4ea",
   "metadata": {
    "tags": []
   },
   "outputs": [],
   "source": [
    "query = f\"\"\"\n",
    "      SELECT _key, \n",
    "          `{BIGTABLE_COLUMN_FAMILY_NAME}`['content'] as content,\n",
    "          COSINE_DISTANCE(\n",
    "              TO_VECTOR32(`{BIGTABLE_COLUMN_FAMILY_NAME}`['embedding']),\n",
    "              {question_embedding}\n",
    "          ) as distance,\n",
    "      FROM `{BIGTABLE_TABLE_NAME}`\n",
    "      WHERE `{BIGTABLE_COLUMN_FAMILY_NAME}`['gse'] = 'fannie'\n",
    "      ORDER BY COSINE_DISTANCE(\n",
    "              TO_VECTOR32(`{BIGTABLE_COLUMN_FAMILY_NAME}`['embedding']),\n",
    "              {question_embedding}\n",
    "          ) ASC\n",
    "      LIMIT 5;\n",
    "      \"\"\"\n",
    "\n",
    "results = await execute_query(query)"
   ]
  },
  {
   "cell_type": "code",
   "execution_count": 403,
   "id": "97ea24b6-b1fb-4348-92f9-89e1f6b80ea6",
   "metadata": {
    "tags": []
   },
   "outputs": [
    {
     "name": "stdout",
     "output_type": "stream",
     "text": [
      "fannie_part_0_c352 0.28999842323157043\n",
      "fannie_part_0_c353 0.32760391792511945\n",
      "fannie_part_0_c326 0.3316462732543465\n",
      "fannie_part_0_c92 0.3385544159915941\n",
      "fannie_part_0_c240 0.33913578264492195\n"
     ]
    }
   ],
   "source": [
    "for row in results:\n",
    "    print(\n",
    "        row['_key'].decode(),\n",
    "        row['distance'],\n",
    "        #row['content'].decode()\n",
    "    )"
   ]
  },
  {
   "cell_type": "code",
   "execution_count": null,
   "id": "96d662b2-b458-4b5f-99b1-8004ff1dca81",
   "metadata": {},
   "outputs": [],
   "source": []
  },
  {
   "cell_type": "code",
   "execution_count": null,
   "id": "eec89343-d98d-4dd6-8082-22dad3282a8b",
   "metadata": {},
   "outputs": [],
   "source": []
  },
  {
   "cell_type": "code",
   "execution_count": null,
   "id": "81eb2539-fe1b-4db3-b6a4-f1f515a855e7",
   "metadata": {},
   "outputs": [],
   "source": []
  },
  {
   "cell_type": "code",
   "execution_count": null,
   "id": "4228361e-4e3b-4392-b367-00f845f1ac78",
   "metadata": {},
   "outputs": [],
   "source": []
  },
  {
   "cell_type": "code",
   "execution_count": null,
   "id": "ef86268e-7e3c-43ee-94c8-14c9782930c9",
   "metadata": {},
   "outputs": [],
   "source": []
  },
  {
   "cell_type": "code",
   "execution_count": null,
   "id": "844ddd35-61a0-495f-ae35-a887865546bd",
   "metadata": {},
   "outputs": [],
   "source": []
  },
  {
   "cell_type": "code",
   "execution_count": null,
   "id": "d6435dbb-1c06-4160-b247-9ab0b64523b4",
   "metadata": {},
   "outputs": [],
   "source": []
  },
  {
   "cell_type": "code",
   "execution_count": null,
   "id": "a8087dc7-f4b3-41d8-b71f-9cf3901ad4df",
   "metadata": {},
   "outputs": [],
   "source": []
  },
  {
   "cell_type": "code",
   "execution_count": null,
   "id": "5befedc8-3800-419e-b3f7-37f8b6803ee1",
   "metadata": {},
   "outputs": [],
   "source": []
  },
  {
   "cell_type": "code",
   "execution_count": null,
   "id": "4feb59a1-30f2-403c-96c0-6588f93f4288",
   "metadata": {},
   "outputs": [],
   "source": []
  },
  {
   "cell_type": "code",
   "execution_count": null,
   "id": "8726bc84-f021-46ba-95be-68188cc3dd38",
   "metadata": {},
   "outputs": [],
   "source": []
  },
  {
   "cell_type": "code",
   "execution_count": null,
   "id": "286051fe-fee8-4f24-9b45-79002f0a3917",
   "metadata": {},
   "outputs": [],
   "source": []
  },
  {
   "cell_type": "code",
   "execution_count": null,
   "id": "761d57ec-1bd0-42ef-b491-dc8dfcff1dd6",
   "metadata": {},
   "outputs": [],
   "source": []
  },
  {
   "cell_type": "markdown",
   "id": "14bff763-1270-4c32-b930-67b0f0ef9faf",
   "metadata": {},
   "source": [
    "## Remove Resources"
   ]
  },
  {
   "cell_type": "code",
   "execution_count": null,
   "id": "71d71e97-4079-4ffa-8ace-c9ddd19b3900",
   "metadata": {},
   "outputs": [],
   "source": []
  },
  {
   "cell_type": "code",
   "execution_count": null,
   "id": "6b666756-cce3-4c71-8fb4-25b0554412b5",
   "metadata": {},
   "outputs": [],
   "source": []
  },
  {
   "cell_type": "code",
   "execution_count": null,
   "id": "628211f9-8ff6-4124-b5fe-055b83898813",
   "metadata": {},
   "outputs": [],
   "source": [
    "#bigtable_column_family.delete()"
   ]
  },
  {
   "cell_type": "code",
   "execution_count": 101,
   "id": "b68475d4-e937-4f9d-bf32-1dcffe25258d",
   "metadata": {
    "tags": []
   },
   "outputs": [],
   "source": [
    "#bigtable_table.delete()"
   ]
  },
  {
   "cell_type": "code",
   "execution_count": 64,
   "id": "437fcd09-b32a-4f6a-9359-d4e9c2e5dce4",
   "metadata": {},
   "outputs": [],
   "source": [
    "#bigtable_instance.delete()"
   ]
  },
  {
   "cell_type": "code",
   "execution_count": null,
   "id": "8f8e31eb-7ce7-4ab6-8c7c-25c2a5025513",
   "metadata": {},
   "outputs": [],
   "source": []
  }
 ],
 "metadata": {
  "environment": {
   "kernel": "conda-base-py",
   "name": "workbench-notebooks.m125",
   "type": "gcloud",
   "uri": "us-docker.pkg.dev/deeplearning-platform-release/gcr.io/workbench-notebooks:m125"
  },
  "kernelspec": {
   "display_name": "Python 3 (ipykernel) (Local)",
   "language": "python",
   "name": "conda-base-py"
  },
  "language_info": {
   "codemirror_mode": {
    "name": "ipython",
    "version": 3
   },
   "file_extension": ".py",
   "mimetype": "text/x-python",
   "name": "python",
   "nbconvert_exporter": "python",
   "pygments_lexer": "ipython3",
   "version": "3.10.15"
  }
 },
 "nbformat": 4,
 "nbformat_minor": 5
}
