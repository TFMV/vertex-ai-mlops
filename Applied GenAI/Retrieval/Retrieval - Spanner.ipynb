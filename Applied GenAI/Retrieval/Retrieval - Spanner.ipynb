{
 "cells": [
  {
   "cell_type": "markdown",
   "id": "5704a184",
   "metadata": {},
   "source": [
    "![tracker](https://us-central1-vertex-ai-mlops-369716.cloudfunctions.net/pixel-tracking?path=statmike%2Fvertex-ai-mlops%2FApplied+GenAI%2FRetrieval&file=Retrieval+-+Spanner.ipynb)\n",
    "<!--- header table --->\n",
    "<table align=\"left\">\n",
    "  <td style=\"text-align: center\">\n",
    "    <a href=\"https://colab.research.google.com/github/statmike/vertex-ai-mlops/blob/main/Applied%20GenAI/Retrieval/Retrieval%20-%20Spanner.ipynb\">\n",
    "      <img src=\"https://cloud.google.com/ml-engine/images/colab-logo-32px.png\" alt=\"Google Colaboratory logo\">\n",
    "      <br>Run in<br>Colab\n",
    "    </a>\n",
    "  </td>\n",
    "  <td style=\"text-align: center\">\n",
    "    <a href=\"https://console.cloud.google.com/vertex-ai/colab/import/https%3A%2F%2Fraw.githubusercontent.com%2Fstatmike%2Fvertex-ai-mlops%2Fmain%2FApplied%2520GenAI%2FRetrieval%2FRetrieval%2520-%2520Spanner.ipynb\">\n",
    "      <img width=\"32px\" src=\"https://lh3.googleusercontent.com/JmcxdQi-qOpctIvWKgPtrzZdJJK-J3sWE1RsfjZNwshCFgE_9fULcNpuXYTilIR2hjwN\" alt=\"Google Cloud Colab Enterprise logo\">\n",
    "      <br>Run in<br>Colab Enterprise\n",
    "    </a>\n",
    "  </td>      \n",
    "  <td style=\"text-align: center\">\n",
    "    <a href=\"https://github.com/statmike/vertex-ai-mlops/blob/main/Applied%20GenAI/Retrieval/Retrieval%20-%20Spanner.ipynb\">\n",
    "      <img src=\"https://cloud.google.com/ml-engine/images/github-logo-32px.png\" alt=\"GitHub logo\">\n",
    "      <br>View on<br>GitHub\n",
    "    </a>\n",
    "  </td>\n",
    "  <td style=\"text-align: center\">\n",
    "    <a href=\"https://console.cloud.google.com/vertex-ai/workbench/deploy-notebook?download_url=https://raw.githubusercontent.com/statmike/vertex-ai-mlops/main/Applied%20GenAI/Retrieval/Retrieval%20-%20Spanner.ipynb\">\n",
    "      <img src=\"https://lh3.googleusercontent.com/UiNooY4LUgW_oTvpsNhPpQzsstV5W8F7rYgxgGBD85cWJoLmrOzhVs_ksK_vgx40SHs7jCqkTkCk=e14-rj-sc0xffffff-h130-w32\" alt=\"Vertex AI logo\">\n",
    "      <br>Open in<br>Vertex AI Workbench\n",
    "    </a>\n",
    "  </td>\n",
    "</table>"
   ]
  },
  {
   "cell_type": "markdown",
   "id": "96b0e8e6-d761-4540-9d09-8f0c4ce9a020",
   "metadata": {},
   "source": [
    "# Retrieval - Spanner\n",
    "<p style=\"font-size: 45px;\">Code Works - Writeup In Progress</p>\n",
    "\n",
    "In prior workflows, a series of documents was [processed into chunks](../Chunking/readme.md), and for each chunk, [embeddings](../Embeddings/readme.md) were created:\n",
    "\n",
    "- Process: [Large Document Processing - Document AI Layout Parser](../Chunking/Large%20Document%20Processing%20-%20Document%20AI%20Layout%20Parser.ipynb)\n",
    "- Embed: [Vertex AI Text Embeddings API](../Embeddings/Vertex%20AI%20Text%20Embeddings%20API.ipynb)\n",
    "\n",
    "Retrieving chunks for a query involves calculating the embedding for the query and then using similarity metrics to find relevant chunks. A thorough review of similarity matching can be found in [The Math of Similarity](../Embeddings/The%20Math%20of%20Similarity.ipynb) - use dot product! As development moves from experiment to application, the process of storing and computing similarity is migrated to a [retrieval](./readme.md) system. This workflow is part of a [series of workflows exploring many retrieval systems](./readme.md).\n",
    "\n",
    "**Spanner For Storage, Indexing, And Search**\n",
    "\n",
    "**Spanner** ([https://cloud.google.com/spanner](https://cloud.google.com/spanner)) is Google Cloud's globally distributed, scalable database, suitable for a wide range of applications, from gaming databases to financial ledgers.\n",
    "\n",
    "- **Effortless Scalability:** Spanner decouples compute and storage, enabling effortless scalability to accommodate growing data and traffic demands.\n",
    "- **Always-On Availability:**  Spanner provides automatic maintenance with zero downtime and allows for 100% online schema changes, even with synchronous replication, ensuring continuous availability.\n",
    "- **Spanner Graph:**  Leverage [Spanner Graph](https://cloud.google.com/spanner/docs/graph/overview) for knowledge graphs, social networks, GraphRAG, and more, using the ISO Graph Query Language.\n",
    "- **Vertex AI Integration:** Spanner integrates with [Vertex AI](https://cloud.google.com/spanner/docs/ml) for generative AI and custom ML model inference.\n",
    "- **LangChain Integration:**  Build LLM-powered applications with Spanner's integration with [LangChain](https://cloud.google.com/spanner/docs/langchain).\n",
    "- **Vector Similarity Search:** Spanner offers [built-in vector similarity search](https://cloud.google.com/spanner/docs/find-k-nearest-neighbors) with indexing for efficient approximate nearest neighbor search in applications like retrieval augmented generation (RAG).\n",
    "\n",
    "**Use Case Data**\n",
    "\n",
    "Buying a home usually involves borrowing money from a lending institution, typically through a mortgage secured by the home's value. But how do these institutions manage the risks associated with such large loans, and how are lending standards established?\n",
    "\n",
    "In the United States, two government-sponsored enterprises (GSEs) play a vital role in the housing market:\n",
    "\n",
    "- Federal National Mortgage Association ([Fannie Mae](https://www.fanniemae.com/))\n",
    "- Federal Home Loan Mortgage Corporation ([Freddie Mac](https://www.freddiemac.com/))\n",
    "\n",
    "These GSEs purchase mortgages from lenders, enabling those lenders to offer more loans. This process also allows Fannie Mae and Freddie Mac to set standards for mortgages, ensuring they are responsible and borrowers are more likely to repay them. This system makes homeownership more affordable and stabilizes the housing market by maintaining a steady flow of liquidity for lenders and keeping interest rates controlled.\n",
    "\n",
    "However, navigating the complexities of these GSEs and their extensive servicing guides can be challenging.\n",
    "\n",
    "**Approaches**\n",
    "\n",
    "[This series](../readme.md) covers many generative AI workflows. These documents are used directly as long context for Gemini in the workflow [Long Context Retrieval With The Vertex AI Gemini API](../Generate/Long%20Context%20Retrieval%20With%20The%20Vertex%20AI%20Gemini%20API.ipynb). The workflow below uses a [retrieval](./readme.md) approach with the already generated chunks and embeddings."
   ]
  },
  {
   "cell_type": "markdown",
   "id": "be889472-69b0-416c-9cf1-edc9706fa5c5",
   "metadata": {
    "id": "od_UkDpvRmgD"
   },
   "source": [
    "---\n",
    "## Colab Setup\n",
    "\n",
    "When running this notebook in [Colab](https://colab.google/) or [Colab Enterprise](https://cloud.google.com/colab/docs/introduction), this section will authenticate to GCP (follow prompts in the popup) and set the current project for the session."
   ]
  },
  {
   "cell_type": "code",
   "execution_count": 1,
   "id": "21f75ba8-df50-466e-a5ec-f2a6dd88eb26",
   "metadata": {
    "executionInfo": {
     "elapsed": 195,
     "status": "ok",
     "timestamp": 1683726184843,
     "user": {
      "displayName": "Mike Henderson",
      "userId": "07691629187611687318"
     },
     "user_tz": 240
    },
    "id": "8UO9FnqyKBlF",
    "tags": []
   },
   "outputs": [],
   "source": [
    "PROJECT_ID = 'statmike-mlops-349915' # replace with project ID"
   ]
  },
  {
   "cell_type": "code",
   "execution_count": 2,
   "id": "9c325515-1ea0-45cc-82d3-a1bfb1c52155",
   "metadata": {
    "colab": {
     "base_uri": "https://localhost:8080/"
    },
    "executionInfo": {
     "elapsed": 68869,
     "status": "ok",
     "timestamp": 1683726253709,
     "user": {
      "displayName": "Mike Henderson",
      "userId": "07691629187611687318"
     },
     "user_tz": 240
    },
    "id": "N98-KK7LRkjm",
    "outputId": "09ec5008-0def-4e1a-c349-c598ee752f78",
    "tags": []
   },
   "outputs": [],
   "source": [
    "try:\n",
    "    from google.colab import auth\n",
    "    auth.authenticate_user()\n",
    "    !gcloud config set project {PROJECT_ID}\n",
    "except Exception:\n",
    "    pass"
   ]
  },
  {
   "cell_type": "markdown",
   "id": "055a4bd7-7b47-43ef-ba14-636c955e44e3",
   "metadata": {},
   "source": [
    "---\n",
    "## Installs and API Enablement\n",
    "\n",
    "The clients packages may need installing in this environment. "
   ]
  },
  {
   "cell_type": "markdown",
   "id": "410502ee-6fe3-4624-a69a-960ad7105f10",
   "metadata": {},
   "source": [
    "### Installs (If Needed)"
   ]
  },
  {
   "cell_type": "code",
   "execution_count": 3,
   "id": "f4dbdb83-3170-430c-b60d-3d686222a168",
   "metadata": {
    "tags": []
   },
   "outputs": [],
   "source": [
    "# tuples of (import name, install name, min_version)\n",
    "packages = [\n",
    "    ('google.cloud.aiplatform', 'google-cloud-aiplatform', '1.69.0'),\n",
    "    ('google.cloud.spanner', 'google-cloud-spanner')\n",
    "]\n",
    "\n",
    "import importlib\n",
    "install = False\n",
    "for package in packages:\n",
    "    if not importlib.util.find_spec(package[0]):\n",
    "        print(f'installing package {package[1]}')\n",
    "        install = True\n",
    "        !pip install {package[1]} -U -q --user\n",
    "    elif len(package) == 3:\n",
    "        if importlib.metadata.version(package[0]) < package[2]:\n",
    "            print(f'updating package {package[1]}')\n",
    "            install = True\n",
    "            !pip install {package[1]} -U -q --user"
   ]
  },
  {
   "cell_type": "markdown",
   "id": "25374857-7d37-4c84-8cbb-a3c2fc7bb065",
   "metadata": {},
   "source": [
    "### API Enablement"
   ]
  },
  {
   "cell_type": "code",
   "execution_count": 4,
   "id": "9b7300a8-7e3a-4a08-95c0-91186237753f",
   "metadata": {
    "tags": []
   },
   "outputs": [],
   "source": [
    "!gcloud services enable aiplatform.googleapis.com\n",
    "!gcloud services enable spanner.googleapis.com"
   ]
  },
  {
   "cell_type": "markdown",
   "id": "157d09ba-9774-495f-8ced-3382bf75be8f",
   "metadata": {},
   "source": [
    "### Restart Kernel (If Installs Occured)\n",
    "\n",
    "After a kernel restart the code submission can start with the next cell after this one."
   ]
  },
  {
   "cell_type": "code",
   "execution_count": 5,
   "id": "f9864153-66c8-43e1-ae96-1179632ccf7d",
   "metadata": {
    "tags": []
   },
   "outputs": [],
   "source": [
    "if install:\n",
    "    import IPython\n",
    "    app = IPython.Application.instance()\n",
    "    app.kernel.do_shutdown(True)\n",
    "    IPython.display.display(IPython.display.Markdown(\"\"\"<div class=\\\"alert alert-block alert-warning\\\">\n",
    "        <b>⚠️ The kernel is going to restart. Please wait until it is finished before continuing to the next step. The previous cells do not need to be run again⚠️</b>\n",
    "        </div>\"\"\"))"
   ]
  },
  {
   "cell_type": "markdown",
   "id": "09a1ab41-cb32-4398-86dc-d30effb88a36",
   "metadata": {
    "id": "appt8-yVRtJ1"
   },
   "source": [
    "---\n",
    "## Setup"
   ]
  },
  {
   "cell_type": "markdown",
   "id": "2cebe11b-9ca1-4f3e-aa78-78640ff01ec8",
   "metadata": {
    "id": "63mx2EozRxFP"
   },
   "source": [
    "Inputs"
   ]
  },
  {
   "cell_type": "code",
   "execution_count": 6,
   "id": "ab2239cd-40ab-416d-bac0-0c6953d911b6",
   "metadata": {
    "colab": {
     "base_uri": "https://localhost:8080/",
     "height": 35
    },
    "executionInfo": {
     "elapsed": 2124,
     "status": "ok",
     "timestamp": 1683726390544,
     "user": {
      "displayName": "Mike Henderson",
      "userId": "07691629187611687318"
     },
     "user_tz": 240
    },
    "id": "xzcoXjM5Rky5",
    "outputId": "b3bdcbc1-70d5-472e-aea2-42c74a42efde",
    "tags": []
   },
   "outputs": [
    {
     "data": {
      "text/plain": [
       "'statmike-mlops-349915'"
      ]
     },
     "execution_count": 6,
     "metadata": {},
     "output_type": "execute_result"
    }
   ],
   "source": [
    "project = !gcloud config get-value project\n",
    "PROJECT_ID = project[0]\n",
    "PROJECT_ID"
   ]
  },
  {
   "cell_type": "code",
   "execution_count": 7,
   "id": "8aa97f05-66e9-4276-b2e6-83b5a91ca50c",
   "metadata": {
    "executionInfo": {
     "elapsed": 2,
     "status": "ok",
     "timestamp": 1683726390712,
     "user": {
      "displayName": "Mike Henderson",
      "userId": "07691629187611687318"
     },
     "user_tz": 240
    },
    "id": "IxWrFtqYMfku",
    "tags": []
   },
   "outputs": [],
   "source": [
    "REGION = 'us-central1'\n",
    "SERIES = 'applied-genai'\n",
    "EXPERIMENT = 'retrieval-spanner'\n",
    "\n",
    "# Spanner names\n",
    "SPANNER_INSTANCE_NAME = PROJECT_ID\n",
    "SPANNER_DATABASE_NAME = SERIES\n",
    "SPANNER_TABLE_NAME = EXPERIMENT.replace('-', '_')"
   ]
  },
  {
   "cell_type": "markdown",
   "id": "52bbf65b-5d29-4a72-84ae-d977b9a743a6",
   "metadata": {
    "id": "LuajVwCiO6Yg"
   },
   "source": [
    "Packages"
   ]
  },
  {
   "cell_type": "code",
   "execution_count": 8,
   "id": "559f6e60-a594-4789-893b-295a8381b670",
   "metadata": {
    "executionInfo": {
     "elapsed": 17761,
     "status": "ok",
     "timestamp": 1683726409304,
     "user": {
      "displayName": "Mike Henderson",
      "userId": "07691629187611687318"
     },
     "user_tz": 240
    },
    "id": "LVC7zzSLRk2C",
    "tags": []
   },
   "outputs": [],
   "source": [
    "import os, json, time, glob, datetime, asyncio\n",
    "\n",
    "import numpy as np\n",
    "\n",
    "# Vertex AI\n",
    "from google.cloud import aiplatform\n",
    "import vertexai.language_models # for embeddings API\n",
    "import vertexai.generative_models # for Gemini Models\n",
    "from vertexai.resources.preview import feature_store\n",
    "\n",
    "# spanner\n",
    "from google.cloud import spanner\n",
    "from google.cloud import spanner_admin_instance_v1\n",
    "from google.cloud import spanner_admin_database_v1"
   ]
  },
  {
   "cell_type": "code",
   "execution_count": 9,
   "id": "d3fef31f-928f-45f2-a3f4-292ee242232c",
   "metadata": {
    "tags": []
   },
   "outputs": [
    {
     "data": {
      "text/plain": [
       "'1.69.0'"
      ]
     },
     "execution_count": 9,
     "metadata": {},
     "output_type": "execute_result"
    }
   ],
   "source": [
    "aiplatform.__version__"
   ]
  },
  {
   "cell_type": "markdown",
   "id": "5758c07e-f064-40fb-a0ef-de6cbde5cd0a",
   "metadata": {
    "id": "EyAVFG9TO9H-"
   },
   "source": [
    "Clients"
   ]
  },
  {
   "cell_type": "code",
   "execution_count": 10,
   "id": "3b72f3bb-176b-4678-ba6b-df9b2de14997",
   "metadata": {
    "executionInfo": {
     "elapsed": 19,
     "status": "ok",
     "timestamp": 1683726409306,
     "user": {
      "displayName": "Mike Henderson",
      "userId": "07691629187611687318"
     },
     "user_tz": 240
    },
    "id": "L0RPE13LOZce",
    "tags": []
   },
   "outputs": [],
   "source": [
    "# vertex ai clients\n",
    "vertexai.init(project = PROJECT_ID, location = REGION)\n",
    "\n",
    "# spanner client\n",
    "spanner_client = spanner.Client(project = PROJECT_ID)\n",
    "instance_client = spanner_admin_instance_v1.InstanceAdminClient()\n",
    "database_client = spanner_admin_database_v1.DatabaseAdminClient()"
   ]
  },
  {
   "cell_type": "markdown",
   "id": "8579282f-2723-4294-b72a-a65cc0831f44",
   "metadata": {},
   "source": [
    "---\n",
    "## Text & Embeddings For Examples\n",
    "\n",
    "This repository contains a [section for document processing (chunking)](../Chunking/readme.md) that includes an example of processing mulitple large pdfs (over 1000 pages) into chunks: [Large Document Processing - Document AI Layout Parser](../Chunking/Large%20Document%20Processing%20-%20Document%20AI%20Layout%20Parser.ipynb).  The chunks of text from that workflow are stored with this repository and loaded by another companion workflow that augments the chunks with text embeddings: [Vertex AI Text Embeddings API](../Embeddings/Vertex%20AI%20Text%20Embeddings%20API.ipynb).\n",
    "\n",
    "The following code will load the version of the chunks that includes text embeddings and prepare it for a local example of retrival augmented generation."
   ]
  },
  {
   "cell_type": "markdown",
   "id": "1e12cbe2-3ca6-4656-9e73-c0db5c63bf50",
   "metadata": {},
   "source": [
    "### Get The Documents\n",
    "\n",
    "If you are working from a clone of this notebooks [repository](https://github.com/statmike/vertex-ai-mlops) then the documents are already present. The following cell checks for the documents folder and if it is missing gets it (`git clone`):"
   ]
  },
  {
   "cell_type": "code",
   "execution_count": 11,
   "id": "6f4e77ed-43f7-42be-9575-6a491c0d6cba",
   "metadata": {
    "tags": []
   },
   "outputs": [],
   "source": [
    "local_dir = '../Embeddings/files/embeddings-api'"
   ]
  },
  {
   "cell_type": "code",
   "execution_count": 12,
   "id": "63ebe7c3-e72c-4394-91c3-d60c05bc0ce2",
   "metadata": {
    "tags": []
   },
   "outputs": [
    {
     "name": "stdout",
     "output_type": "stream",
     "text": [
      "Documents Found in folder `../Embeddings/files/embeddings-api`\n"
     ]
    }
   ],
   "source": [
    "if not os.path.exists(local_dir):\n",
    "    print('Retrieving documents...')\n",
    "    parent_dir = os.path.dirname(local_dir)\n",
    "    temp_dir = os.path.join(parent_dir, 'temp')\n",
    "    if not os.path.exists(temp_dir):\n",
    "        os.makedirs(temp_dir)\n",
    "    !git clone https://www.github.com/statmike/vertex-ai-mlops {temp_dir}/vertex-ai-mlops\n",
    "    shutil.copytree(f'{temp_dir}/vertex-ai-mlops/Applied GenAI/Embeddings/files/embeddings-api', local_dir)\n",
    "    shutil.rmtree(temp_dir)\n",
    "    print(f'Documents are now in folder `{local_dir}`')\n",
    "else:\n",
    "    print(f'Documents Found in folder `{local_dir}`')             "
   ]
  },
  {
   "cell_type": "markdown",
   "id": "33e68a84-9f88-4590-9ff1-e01c8a953ccf",
   "metadata": {},
   "source": [
    "### Load The Chunks"
   ]
  },
  {
   "cell_type": "code",
   "execution_count": 13,
   "id": "58d04382-a74a-44ac-8824-3b46c86aa148",
   "metadata": {
    "tags": []
   },
   "outputs": [
    {
     "data": {
      "text/plain": [
       "['../Embeddings/files/embeddings-api/large-files-chunk-embeddings-0000.jsonl',\n",
       " '../Embeddings/files/embeddings-api/large-files-chunk-embeddings-0001.jsonl',\n",
       " '../Embeddings/files/embeddings-api/large-files-chunk-embeddings-0002.jsonl',\n",
       " '../Embeddings/files/embeddings-api/large-files-chunk-embeddings-0003.jsonl',\n",
       " '../Embeddings/files/embeddings-api/large-files-chunk-embeddings-0004.jsonl',\n",
       " '../Embeddings/files/embeddings-api/large-files-chunk-embeddings-0005.jsonl',\n",
       " '../Embeddings/files/embeddings-api/large-files-chunk-embeddings-0006.jsonl',\n",
       " '../Embeddings/files/embeddings-api/large-files-chunk-embeddings-0007.jsonl',\n",
       " '../Embeddings/files/embeddings-api/large-files-chunk-embeddings-0008.jsonl',\n",
       " '../Embeddings/files/embeddings-api/large-files-chunk-embeddings-0009.jsonl']"
      ]
     },
     "execution_count": 13,
     "metadata": {},
     "output_type": "execute_result"
    }
   ],
   "source": [
    "jsonl_files = glob.glob(f\"{local_dir}/large-files*.jsonl\")\n",
    "jsonl_files.sort()\n",
    "jsonl_files"
   ]
  },
  {
   "cell_type": "code",
   "execution_count": 14,
   "id": "a54c6c96-6c28-49bb-80be-5d46797dfe77",
   "metadata": {
    "tags": []
   },
   "outputs": [
    {
     "data": {
      "text/plain": [
       "9040"
      ]
     },
     "execution_count": 14,
     "metadata": {},
     "output_type": "execute_result"
    }
   ],
   "source": [
    "chunks = []\n",
    "for file in jsonl_files:\n",
    "    with open(file, 'r') as f:\n",
    "        chunks.extend([json.loads(line) for line in f])\n",
    "len(chunks)"
   ]
  },
  {
   "cell_type": "markdown",
   "id": "a70115ec-6d60-41df-b7e6-9e2e5b463b1d",
   "metadata": {},
   "source": [
    "### Review A Chunk"
   ]
  },
  {
   "cell_type": "code",
   "execution_count": 15,
   "id": "fc20423e-e3d6-4e90-9e98-a5248508c82d",
   "metadata": {
    "tags": []
   },
   "outputs": [
    {
     "data": {
      "text/plain": [
       "dict_keys(['instance', 'predictions', 'status'])"
      ]
     },
     "execution_count": 15,
     "metadata": {},
     "output_type": "execute_result"
    }
   ],
   "source": [
    "chunks[0].keys()"
   ]
  },
  {
   "cell_type": "code",
   "execution_count": 16,
   "id": "1955ea39-4ffc-4d30-b653-a5a9911f2dab",
   "metadata": {
    "tags": []
   },
   "outputs": [
    {
     "data": {
      "text/plain": [
       "'fannie_part_0_c17'"
      ]
     },
     "execution_count": 16,
     "metadata": {},
     "output_type": "execute_result"
    }
   ],
   "source": [
    "chunks[0]['instance']['chunk_id']"
   ]
  },
  {
   "cell_type": "code",
   "execution_count": 17,
   "id": "3537982c-4a0e-456c-a652-19ea7507873b",
   "metadata": {
    "tags": []
   },
   "outputs": [
    {
     "name": "stdout",
     "output_type": "stream",
     "text": [
      "# Selling Guide Fannie Mae Single Family\n",
      "\n",
      "## Fannie Mae Copyright Notice\n",
      "\n",
      "### Fannie Mae Copyright Notice\n",
      "\n",
      "|-|\n",
      "| Section B3-4.2, Verification of Depository Assets 402 |\n",
      "| B3-4.2-01, Verification of Deposits and Assets (05/04/2022) 403 |\n",
      "| B3-4.2-02, Depository Accounts (12/14/2022) 405 |\n",
      "| B3-4.2-03, Individual Development Accounts (02/06/2019) 408 |\n",
      "| B3-4.2-04, Pooled Savings (Community Savings Funds) (04/01/2009) 411 |\n",
      "| B3-4.2-05, Foreign Assets (05/04/2022) 411 |\n",
      "| Section B3-4.3, Verification of Non-Depository Assets 412 |\n",
      "| B3-4.3-01, Stocks, Stock Options, Bonds, and Mutual Funds (06/30/2015) 412 |\n",
      "| B3-4.3-02, Trust Accounts (04/01/2009) 413 |\n",
      "| B3-4.3-03, Retirement Accounts (06/30/2015) 414 |\n",
      "| B3-4.3-04, Personal Gifts (09/06/2023) 415 |\n",
      "| B3-4.3-05, Gifts of Equity (10/07/2020) 418 |\n",
      "| B3-4.3-06, Grants and Lender Contributions (12/14/2022) 419 |\n",
      "| B3-4.3-07, Disaster Relief Grants or Loans (04/01/2009) 423 |\n",
      "| B3-4.3-08, Employer Assistance (09/29/2015) 423 |\n",
      "| B3-4.3-09, Earnest Money Deposit (05/04/2022) 425 |\n",
      "| B3-4.3-10, Anticipated Sales Proceeds (02/23/2016) B3-4.3-11, Trade Equity (12/16/2020) 426 428 |\n",
      "| B3-4.3-12, Rent-Related Credits (08/07/2024) 429 |\n",
      "| B3-4.3-13, Sweat Equity (04/15/2014) 430 |\n",
      "| B3-4.3-14, Bridge/Swing Loans (04/01/2009) 431 |\n",
      "| B3-4.3-15, Borrowed Funds Secured by an Asset (10/30/2009) 431 |\n",
      "|  |\n",
      "\n",
      "\n"
     ]
    }
   ],
   "source": [
    "print(chunks[0]['instance']['content'])"
   ]
  },
  {
   "cell_type": "code",
   "execution_count": 18,
   "id": "49f06293-a439-436b-bc93-cd6cd3fb4aff",
   "metadata": {
    "tags": []
   },
   "outputs": [
    {
     "data": {
      "text/plain": [
       "[0.031277116388082504,\n",
       " 0.03056905046105385,\n",
       " 0.010865348391234875,\n",
       " 0.0623614676296711,\n",
       " 0.03228681534528732,\n",
       " 0.05066155269742012,\n",
       " 0.046544693410396576,\n",
       " 0.05509665608406067,\n",
       " -0.014074751175940037,\n",
       " 0.008380400016903877]"
      ]
     },
     "execution_count": 18,
     "metadata": {},
     "output_type": "execute_result"
    }
   ],
   "source": [
    "chunks[0]['predictions'][0]['embeddings']['values'][0:10]"
   ]
  },
  {
   "cell_type": "markdown",
   "id": "f977358d-d9ea-4172-9eca-66079bb6087d",
   "metadata": {},
   "source": [
    "### Prepare Chunk Structure\n",
    "\n",
    "Make a list of dictionaries with information for each chunk:"
   ]
  },
  {
   "cell_type": "code",
   "execution_count": 38,
   "id": "be9fa708-130c-4343-b179-dbde0b09a972",
   "metadata": {
    "tags": []
   },
   "outputs": [],
   "source": [
    "content_chunks = [\n",
    "    dict(\n",
    "        gse = chunk['instance']['gse'],\n",
    "        chunk_id = chunk['instance']['chunk_id'],\n",
    "        content = chunk['instance']['content'],\n",
    "        embedding = chunk['predictions'][0]['embeddings']['values']\n",
    "    ) for chunk in chunks\n",
    "]"
   ]
  },
  {
   "cell_type": "markdown",
   "id": "d6619605-7b10-444e-a131-db06e56a4be8",
   "metadata": {},
   "source": [
    "### Query Embedding\n",
    "\n",
    "Create a query, or prompt, and get the embedding for it:\n",
    "\n",
    "Connect to models for text embeddings. Learn more about the model API:\n",
    "- [Vertex AI Text Embeddings API](../Embeddings/Vertex%20AI%20Text%20Embeddings%20API.ipynb)"
   ]
  },
  {
   "cell_type": "code",
   "execution_count": 20,
   "id": "3da5d30c-3dfb-42ba-a133-83dceb252787",
   "metadata": {
    "tags": []
   },
   "outputs": [],
   "source": [
    "question = \"Does a lender have to perform servicing functions directly?\""
   ]
  },
  {
   "cell_type": "code",
   "execution_count": 21,
   "id": "7992c26f-d058-4920-80a3-a157b88733e4",
   "metadata": {
    "tags": []
   },
   "outputs": [],
   "source": [
    "embedder = vertexai.language_models.TextEmbeddingModel.from_pretrained('text-embedding-004')"
   ]
  },
  {
   "cell_type": "code",
   "execution_count": 22,
   "id": "bbe6fda7-9cea-49a2-9e2f-9222d50677af",
   "metadata": {
    "tags": []
   },
   "outputs": [
    {
     "data": {
      "text/plain": [
       "[-0.0005117303808219731,\n",
       " 0.009651427157223225,\n",
       " 0.01768726110458374,\n",
       " 0.014538003131747246,\n",
       " -0.01829824410378933,\n",
       " 0.027877431362867355,\n",
       " -0.021124685183167458,\n",
       " 0.008830446749925613,\n",
       " -0.02669006586074829,\n",
       " 0.06414774805307388]"
      ]
     },
     "execution_count": 22,
     "metadata": {},
     "output_type": "execute_result"
    }
   ],
   "source": [
    "question_embedding = embedder.get_embeddings([question])[0].values\n",
    "question_embedding[0:10]"
   ]
  },
  {
   "cell_type": "markdown",
   "id": "0b6ec209-b34a-4837-8c54-a991ad831764",
   "metadata": {},
   "source": [
    "---\n",
    "## Retrieval With Spanner\n",
    "\n",
    "- spanner: a globally distributed, scalable, database service\n",
    "    - instance: allocation of resources, compute and storage, in geographic locations\n",
    "        - database: a container for data resources\n",
    "            - table: organize and store information inn a database\n",
    "                - data: made up of supported data types\n",
    "            - also: indexes, views, stored procedures, functions, triggers, sequences"
   ]
  },
  {
   "cell_type": "markdown",
   "id": "c1018b60-1bc6-469c-ac5c-a8000ee7b303",
   "metadata": {},
   "source": [
    "### Choose Edition\n",
    "\n",
    "https://cloud.google.com/spanner/docs/editions-overview\n",
    "\n",
    "https://cloud.google.com/spanner/pricing#compute_capacity\n",
    "\n",
    "https://cloud.google.com/spanner/docs/create-manage-instances#upgrade-edition"
   ]
  },
  {
   "cell_type": "markdown",
   "id": "eb137f9f-f497-4ba8-9f61-c12c43a63ee1",
   "metadata": {},
   "source": [
    "### Create/Retrieve An Instance\n",
    "\n",
    "https://cloud.google.com/python/docs/reference/spanner/latest/google.cloud.spanner_admin_instance_v1.services.instance_admin"
   ]
  },
  {
   "cell_type": "code",
   "execution_count": 24,
   "id": "ba6e7287-fd62-47f5-a0b0-a53ffe3c4ddd",
   "metadata": {
    "tags": []
   },
   "outputs": [],
   "source": [
    "#instance_client.list_instance_configs(parent = f\"projects/{PROJECT_ID}\")"
   ]
  },
  {
   "cell_type": "code",
   "execution_count": 26,
   "id": "cde06a22-fb1c-46bd-aa4e-892ddba14219",
   "metadata": {
    "tags": []
   },
   "outputs": [],
   "source": [
    "config_id = 'regional-us-central1'"
   ]
  },
  {
   "cell_type": "code",
   "execution_count": 29,
   "id": "6f1ed061-d921-47d6-ac45-860e647b5e6e",
   "metadata": {
    "tags": []
   },
   "outputs": [
    {
     "name": "stdout",
     "output_type": "stream",
     "text": [
      "Found the instance: projects/statmike-mlops-349915/instances/statmike-mlops-349915\n"
     ]
    }
   ],
   "source": [
    "try:\n",
    "    spanner_instance = instance_client.get_instance(\n",
    "        name = f'projects/{PROJECT_ID}/instances/{SPANNER_INSTANCE_NAME}'\n",
    "    )\n",
    "    print(f\"Found the instance: {spanner_instance.name}\")\n",
    "except Exception:\n",
    "    create_instance = instance_client.create_instance(\n",
    "        parent = f\"projects/{PROJECT_ID}\",\n",
    "        instance_id = SPANNER_INSTANCE_NAME,\n",
    "        instance = spanner_admin_instance_v1.Instance(\n",
    "            name = f'projects/{PROJECT_ID}/instances/{SPANNER_INSTANCE_NAME}',\n",
    "            config = f'projects/{PROJECT_ID}/instanceConfigs/{config_id}',\n",
    "            display_name = SPANNER_INSTANCE_NAME,\n",
    "            node_count = 1,\n",
    "            edition = 'ENTERPRISE' # needed for vector indexing features\n",
    "        )\n",
    "    )\n",
    "    spanner_instance = create_instance.result()\n",
    "    spanner_instance = instance_client.get_instance(\n",
    "        name = f'projects/{PROJECT_ID}/instances/{SPANNER_INSTANCE_NAME}'\n",
    "    )\n",
    "    print(f\"Created the instance: {spanner_instance.name}\")"
   ]
  },
  {
   "cell_type": "code",
   "execution_count": 30,
   "id": "6427eaf6-974f-45c6-a2ba-b5971ca36762",
   "metadata": {},
   "outputs": [
    {
     "data": {
      "text/plain": [
       "name: \"projects/statmike-mlops-349915/instances/statmike-mlops-349915\"\n",
       "config: \"projects/statmike-mlops-349915/instanceConfigs/regional-us-central1\"\n",
       "display_name: \"statmike-mlops-349915\"\n",
       "node_count: 1\n",
       "state: READY\n",
       "processing_units: 1000\n",
       "create_time {\n",
       "  seconds: 1729873343\n",
       "  nanos: 540788000\n",
       "}\n",
       "update_time {\n",
       "  seconds: 1729873343\n",
       "  nanos: 540788000\n",
       "}\n",
       "edition: ENTERPRISE"
      ]
     },
     "execution_count": 30,
     "metadata": {},
     "output_type": "execute_result"
    }
   ],
   "source": [
    "spanner_instance"
   ]
  },
  {
   "cell_type": "markdown",
   "id": "cdd68b84-03b7-4bfd-9e0b-2832295c5175",
   "metadata": {},
   "source": [
    "### Create/Retrieve A Database\n",
    "\n",
    "https://cloud.google.com/python/docs/reference/spanner/latest/google.cloud.spanner_admin_database_v1.services.database_admin"
   ]
  },
  {
   "cell_type": "code",
   "execution_count": 31,
   "id": "ff1be118-b7ef-478c-92f3-ae172b064574",
   "metadata": {
    "tags": []
   },
   "outputs": [
    {
     "name": "stdout",
     "output_type": "stream",
     "text": [
      "Created the database: projects/statmike-mlops-349915/instances/statmike-mlops-349915/databases/applied-genai\n"
     ]
    }
   ],
   "source": [
    "try:\n",
    "    spanner_database = database_client.get_database(\n",
    "        name = f\"{spanner_instance.name}/databases/{SPANNER_DATABASE_NAME}\"\n",
    "    )\n",
    "    print(f\"Found the database: {spanner_database.name}\")\n",
    "except Exception:\n",
    "    create_database = database_client.create_database(\n",
    "        request = spanner_admin_database_v1.types.CreateDatabaseRequest(\n",
    "            parent = spanner_instance.name,\n",
    "            create_statement = f'CREATE DATABASE `{SPANNER_DATABASE_NAME}`',\n",
    "            extra_statements = [], # you could go ahead and CREATE TABLE here   \n",
    "        )\n",
    "    )\n",
    "    spanner_database = create_database.result()\n",
    "    spanner_database = database_client.get_database(\n",
    "        name = f\"{spanner_instance.name}/databases/{SPANNER_DATABASE_NAME}\"\n",
    "    )\n",
    "    print(f\"Created the database: {spanner_database.name}\")"
   ]
  },
  {
   "cell_type": "code",
   "execution_count": 32,
   "id": "612062e6-bd2d-48bd-930e-0e5b51f37ab4",
   "metadata": {
    "tags": []
   },
   "outputs": [
    {
     "data": {
      "text/plain": [
       "name: \"projects/statmike-mlops-349915/instances/statmike-mlops-349915/databases/applied-genai\"\n",
       "state: READY\n",
       "create_time {\n",
       "  seconds: 1729873484\n",
       "  nanos: 192873000\n",
       "}\n",
       "version_retention_period: \"1h\"\n",
       "earliest_version_time {\n",
       "  seconds: 1729873484\n",
       "  nanos: 192873000\n",
       "}\n",
       "encryption_info {\n",
       "  encryption_type: GOOGLE_DEFAULT_ENCRYPTION\n",
       "}\n",
       "database_dialect: GOOGLE_STANDARD_SQL"
      ]
     },
     "execution_count": 32,
     "metadata": {},
     "output_type": "execute_result"
    }
   ],
   "source": [
    "spanner_database"
   ]
  },
  {
   "cell_type": "markdown",
   "id": "a52f7ddd-74b1-4623-a5e6-a619f4b9fd5a",
   "metadata": {},
   "source": [
    "### Create/Retrieve A Table\n",
    "\n",
    "https://cloud.google.com/spanner/docs/reference/standard-sql/data-types\n",
    "\n",
    "https://cloud.google.com/python/docs/reference/spanner/latest/google.cloud.spanner_v1.database.Database"
   ]
  },
  {
   "cell_type": "code",
   "execution_count": 33,
   "id": "57e0d1fb-6262-4ed0-aecf-5416c54d8495",
   "metadata": {
    "tags": []
   },
   "outputs": [],
   "source": [
    "instance = spanner_client.instance(SPANNER_INSTANCE_NAME)\n",
    "database = instance.database(SPANNER_DATABASE_NAME)"
   ]
  },
  {
   "cell_type": "code",
   "execution_count": 34,
   "id": "2ed40f48-d85c-47d4-ab5f-5b840456b464",
   "metadata": {
    "tags": []
   },
   "outputs": [
    {
     "data": {
      "text/plain": [
       "dict_keys(['gse', 'chunk_id', 'content', 'embedding'])"
      ]
     },
     "execution_count": 34,
     "metadata": {},
     "output_type": "execute_result"
    }
   ],
   "source": [
    "columns = content_chunks[0].keys()\n",
    "columns"
   ]
  },
  {
   "cell_type": "code",
   "execution_count": 39,
   "id": "6e2b0078-7146-48a0-9273-535ccacbb692",
   "metadata": {
    "tags": []
   },
   "outputs": [
    {
     "data": {
      "text/plain": [
       "{'chunk_id': 'STRING(100)',\n",
       " 'embedding': 'ARRAY<FLOAT32>(vector_length=>768)',\n",
       " 'gse': 'STRING(100)',\n",
       " 'content': 'STRING(MAX)'}"
      ]
     },
     "execution_count": 39,
     "metadata": {},
     "output_type": "execute_result"
    }
   ],
   "source": [
    "data_types = dict(\n",
    "    chunk_id = 'STRING(100)',\n",
    "    embedding = f\"ARRAY<FLOAT32>(vector_length=>{len(content_chunks[0]['embedding'])})\",\n",
    "    gse = 'STRING(100)',\n",
    "    content = 'STRING(MAX)'\n",
    ")\n",
    "data_types"
   ]
  },
  {
   "cell_type": "code",
   "execution_count": 40,
   "id": "dafbf061-106e-4570-bcbd-3cf2cb252742",
   "metadata": {
    "tags": []
   },
   "outputs": [
    {
     "name": "stdout",
     "output_type": "stream",
     "text": [
      "Creating Table: retrieval_spanner\n"
     ]
    }
   ],
   "source": [
    "if database.table(SPANNER_TABLE_NAME).exists():\n",
    "    print(f'Found Table: {SPANNER_TABLE_NAME}')\n",
    "else:\n",
    "    print(f'Creating Table: {SPANNER_TABLE_NAME}')\n",
    "    \n",
    "    create_table = database.update_ddl([\n",
    "f\"\"\"CREATE TABLE `{SPANNER_TABLE_NAME}` (\n",
    "{', '.join([f'{c} {data_types[c]}' for c in columns])}\n",
    ") PRIMARY KEY (chunk_id)\"\"\"\n",
    "    ])\n",
    "    create_table.result()"
   ]
  },
  {
   "cell_type": "markdown",
   "id": "6e61bc32-f349-4815-b94d-559a6d24e056",
   "metadata": {},
   "source": [
    "### Add Records To The Table"
   ]
  },
  {
   "cell_type": "code",
   "execution_count": 41,
   "id": "52187ae0-4636-466d-80a5-b602c65ea51e",
   "metadata": {
    "tags": []
   },
   "outputs": [],
   "source": [
    "async def insert_data(database, input_data):\n",
    "    \"\"\"Inserts data rows into the Spanner table asynchronously.\"\"\"\n",
    "    with database.batch() as batch:\n",
    "        for record in input_data:\n",
    "            batch.insert(\n",
    "                table=SPANNER_TABLE_NAME,\n",
    "                columns=tuple(record.keys()),\n",
    "                values=[tuple(record.values())]\n",
    "            )"
   ]
  },
  {
   "cell_type": "code",
   "execution_count": 43,
   "id": "8615df35-0c7e-440a-913f-8d432e3191a0",
   "metadata": {
    "tags": []
   },
   "outputs": [],
   "source": [
    "await insert_data(database, content_chunks)"
   ]
  },
  {
   "cell_type": "code",
   "execution_count": null,
   "id": "a137413e-09ae-422d-9b6b-9f867f6c09c7",
   "metadata": {},
   "outputs": [],
   "source": []
  },
  {
   "cell_type": "code",
   "execution_count": null,
   "id": "63fdcdc2-655f-4f05-9199-b8353c762224",
   "metadata": {},
   "outputs": [],
   "source": []
  },
  {
   "cell_type": "markdown",
   "id": "7debcc66-21a2-4586-bb70-cfaf6b2ccd3d",
   "metadata": {},
   "source": [
    "### Retreive: An Entity With Read Method"
   ]
  },
  {
   "cell_type": "code",
   "execution_count": 44,
   "id": "305f2991-52f8-422b-8721-ea983cb62b1f",
   "metadata": {
    "tags": []
   },
   "outputs": [],
   "source": [
    "entity = 'fannie_part_0_c40'\n",
    "\n",
    "with database.snapshot() as snapshot:\n",
    "    response = snapshot.read(\n",
    "        table = SPANNER_TABLE_NAME,\n",
    "        columns = columns, # or a subset provided as a list [column names]\n",
    "        keyset = spanner.KeySet(keys=[(entity,)]) # or all rows with spanner.KeySet(all_ = True)\n",
    "    )\n",
    "    results = []\n",
    "    for row in list(response):\n",
    "        results.append(dict(zip(columns, row)))"
   ]
  },
  {
   "cell_type": "code",
   "execution_count": 45,
   "id": "00e52f49-287c-47fe-b3e3-0e3d870ef16c",
   "metadata": {
    "tags": []
   },
   "outputs": [
    {
     "data": {
      "text/plain": [
       "1"
      ]
     },
     "execution_count": 45,
     "metadata": {},
     "output_type": "execute_result"
    }
   ],
   "source": [
    "len(results)"
   ]
  },
  {
   "cell_type": "code",
   "execution_count": 46,
   "id": "7d19c0bf-3e3a-40db-b0b0-78a37e9c5400",
   "metadata": {
    "tags": []
   },
   "outputs": [
    {
     "data": {
      "text/plain": [
       "dict_keys(['gse', 'chunk_id', 'content', 'embedding'])"
      ]
     },
     "execution_count": 46,
     "metadata": {},
     "output_type": "execute_result"
    }
   ],
   "source": [
    "results[0].keys()"
   ]
  },
  {
   "cell_type": "code",
   "execution_count": 49,
   "id": "9d915974-e584-4571-8f1e-7decc7ca43dd",
   "metadata": {
    "tags": []
   },
   "outputs": [
    {
     "data": {
      "text/plain": [
       "'fannie_part_0_c40'"
      ]
     },
     "execution_count": 49,
     "metadata": {},
     "output_type": "execute_result"
    }
   ],
   "source": [
    "results[0]['chunk_id']"
   ]
  },
  {
   "cell_type": "code",
   "execution_count": 50,
   "id": "97bc5f15-959a-4b5c-95f0-fe20b0e68d8e",
   "metadata": {
    "tags": []
   },
   "outputs": [
    {
     "data": {
      "text/plain": [
       "'fannie'"
      ]
     },
     "execution_count": 50,
     "metadata": {},
     "output_type": "execute_result"
    }
   ],
   "source": [
    "results[0]['gse']"
   ]
  },
  {
   "cell_type": "code",
   "execution_count": 51,
   "id": "79cf339b-4299-4e26-839c-32c3d9e75df3",
   "metadata": {
    "tags": []
   },
   "outputs": [
    {
     "data": {
      "text/plain": [
       "'# Selling Guide Fannie Mae Single Family\\n\\n## Fannie Mae Copyright Notice\\n\\n### Fannie Mae Copyright Notice\\n\\nGlossary of Defined Terms: V (03/01/2023) and E-3-22, Acronyms 1160\\n| E-3-23, Acronyms and Glossary of Defined Terms: W (11/10/2019) 1160 |\\n| E-3-24, Acronyms and Glossary of Defined Terms: X (04/01/2009) 1161 |\\n| No applicable terms. 1161 |\\n| E-3-25, Acronyms and Glossary of Defined Terms: Y (05/30/2017) 1161 |\\n| E-3-26, Acronyms and Glossary of Defined Terms: Z (04/01/2009) 1162 |\\n\\n|-|-|\\n| No applicable terms. | 1162 |\\n\\n'"
      ]
     },
     "execution_count": 51,
     "metadata": {},
     "output_type": "execute_result"
    }
   ],
   "source": [
    "results[0]['content']"
   ]
  },
  {
   "cell_type": "code",
   "execution_count": null,
   "id": "0150bc5e-a049-4b81-9768-04d1450bb1e0",
   "metadata": {},
   "outputs": [],
   "source": []
  },
  {
   "cell_type": "code",
   "execution_count": null,
   "id": "dae00803-37fe-4c66-a6a3-086254adc86d",
   "metadata": {},
   "outputs": [],
   "source": []
  },
  {
   "cell_type": "markdown",
   "id": "19172d30-4962-450e-8791-792afe87878c",
   "metadata": {},
   "source": [
    "### Retreive: An Entity With Query Method"
   ]
  },
  {
   "cell_type": "code",
   "execution_count": 52,
   "id": "9ee42eee-c05f-4359-b85d-86bfda4ef3ba",
   "metadata": {
    "tags": []
   },
   "outputs": [],
   "source": [
    "entity = 'fannie_part_0_c40'\n",
    "\n",
    "with database.snapshot() as snapshot:\n",
    "    response = snapshot.execute_sql(\n",
    "        f\"SELECT {', '.join(columns)} FROM `{SPANNER_TABLE_NAME}` WHERE chunk_id = @id_value\",\n",
    "        params = {'id_value': entity},\n",
    "        param_types = {'id_value': spanner.param_types.STRING}\n",
    "    )\n",
    "    results = []\n",
    "    for row in list(response):\n",
    "        results.append(dict(zip(columns, row)))"
   ]
  },
  {
   "cell_type": "code",
   "execution_count": 53,
   "id": "c819d48d-3344-4b56-8924-79bf5137cc86",
   "metadata": {
    "tags": []
   },
   "outputs": [
    {
     "data": {
      "text/plain": [
       "1"
      ]
     },
     "execution_count": 53,
     "metadata": {},
     "output_type": "execute_result"
    }
   ],
   "source": [
    "len(results)"
   ]
  },
  {
   "cell_type": "code",
   "execution_count": 54,
   "id": "7c86f311-e40d-4bd0-82c0-30a2a931e313",
   "metadata": {
    "tags": []
   },
   "outputs": [
    {
     "data": {
      "text/plain": [
       "dict_keys(['gse', 'chunk_id', 'content', 'embedding'])"
      ]
     },
     "execution_count": 54,
     "metadata": {},
     "output_type": "execute_result"
    }
   ],
   "source": [
    "results[0].keys()"
   ]
  },
  {
   "cell_type": "code",
   "execution_count": 55,
   "id": "be6d72ae-fc8e-4e5c-94d8-fbf9c5808065",
   "metadata": {
    "tags": []
   },
   "outputs": [],
   "source": [
    "with database.snapshot() as snapshot:\n",
    "    response = snapshot.execute_sql(\n",
    "        f\"\"\"\n",
    "        SELECT {', '.join(columns)}\n",
    "        FROM `{SPANNER_TABLE_NAME}`\n",
    "        WHERE chunk_id = '{entity}'\n",
    "        \"\"\",\n",
    "    )\n",
    "    results = []\n",
    "    for row in list(response):\n",
    "        results.append(dict(zip(columns, row)))"
   ]
  },
  {
   "cell_type": "code",
   "execution_count": 56,
   "id": "72557ba6-62dd-415d-8b55-79e693895d42",
   "metadata": {
    "tags": []
   },
   "outputs": [
    {
     "data": {
      "text/plain": [
       "1"
      ]
     },
     "execution_count": 56,
     "metadata": {},
     "output_type": "execute_result"
    }
   ],
   "source": [
    "len(results)"
   ]
  },
  {
   "cell_type": "code",
   "execution_count": 57,
   "id": "e0b84f44-47ff-4dc9-b020-71ad6fee3d14",
   "metadata": {
    "tags": []
   },
   "outputs": [
    {
     "data": {
      "text/plain": [
       "dict_keys(['gse', 'chunk_id', 'content', 'embedding'])"
      ]
     },
     "execution_count": 57,
     "metadata": {},
     "output_type": "execute_result"
    }
   ],
   "source": [
    "results[0].keys()"
   ]
  },
  {
   "cell_type": "code",
   "execution_count": 59,
   "id": "b9d51b19-76b3-4bcb-9322-881e476e332b",
   "metadata": {
    "tags": []
   },
   "outputs": [
    {
     "data": {
      "text/plain": [
       "'fannie_part_0_c40'"
      ]
     },
     "execution_count": 59,
     "metadata": {},
     "output_type": "execute_result"
    }
   ],
   "source": [
    "results[0]['chunk_id']"
   ]
  },
  {
   "cell_type": "code",
   "execution_count": 60,
   "id": "509ace1f-a739-40cf-bed1-0488e89eb2ac",
   "metadata": {
    "tags": []
   },
   "outputs": [
    {
     "data": {
      "text/plain": [
       "'fannie'"
      ]
     },
     "execution_count": 60,
     "metadata": {},
     "output_type": "execute_result"
    }
   ],
   "source": [
    "results[0]['gse']"
   ]
  },
  {
   "cell_type": "code",
   "execution_count": 61,
   "id": "7159ae97-0432-42d4-ac85-8b316ded9f6f",
   "metadata": {
    "tags": []
   },
   "outputs": [
    {
     "data": {
      "text/plain": [
       "'# Selling Guide Fannie Mae Single Family\\n\\n## Fannie Mae Copyright Notice\\n\\n### Fannie Mae Copyright Notice\\n\\nGlossary of Defined Terms: V (03/01/2023) and E-3-22, Acronyms 1160\\n| E-3-23, Acronyms and Glossary of Defined Terms: W (11/10/2019) 1160 |\\n| E-3-24, Acronyms and Glossary of Defined Terms: X (04/01/2009) 1161 |\\n| No applicable terms. 1161 |\\n| E-3-25, Acronyms and Glossary of Defined Terms: Y (05/30/2017) 1161 |\\n| E-3-26, Acronyms and Glossary of Defined Terms: Z (04/01/2009) 1162 |\\n\\n|-|-|\\n| No applicable terms. | 1162 |\\n\\n'"
      ]
     },
     "execution_count": 61,
     "metadata": {},
     "output_type": "execute_result"
    }
   ],
   "source": [
    "results[0]['content']"
   ]
  },
  {
   "cell_type": "code",
   "execution_count": null,
   "id": "74a42f1f-acb8-4bc7-9e06-f2dc206ab971",
   "metadata": {},
   "outputs": [],
   "source": []
  },
  {
   "cell_type": "code",
   "execution_count": null,
   "id": "7043730f-fc81-4e89-bd44-9a070bddf1d9",
   "metadata": {},
   "outputs": [],
   "source": []
  },
  {
   "cell_type": "markdown",
   "id": "d97a681b-bcb5-425f-851e-f39bf72cf7a0",
   "metadata": {},
   "source": [
    "### Matches: For Entity"
   ]
  },
  {
   "cell_type": "code",
   "execution_count": 62,
   "id": "ab99ef3d-92f9-4ee2-99bc-b86d0dba3ceb",
   "metadata": {
    "tags": []
   },
   "outputs": [],
   "source": [
    "with database.snapshot() as snapshot:\n",
    "    response = snapshot.execute_sql(\n",
    "        f\"\"\"\n",
    "        SELECT {', '.join(columns)}\n",
    "        FROM `{SPANNER_TABLE_NAME}`\n",
    "        ORDER BY DOT_PRODUCT(embedding, ARRAY<FLOAT32>{question_embedding})\n",
    "        LIMIT 5\n",
    "        \"\"\",\n",
    "    )\n",
    "    results = []\n",
    "    for row in list(response):\n",
    "        results.append(dict(zip(columns, row)))"
   ]
  },
  {
   "cell_type": "code",
   "execution_count": 63,
   "id": "998bc0f9-8ad7-4f11-ae73-0ed1a6e0f16b",
   "metadata": {
    "tags": []
   },
   "outputs": [
    {
     "data": {
      "text/plain": [
       "5"
      ]
     },
     "execution_count": 63,
     "metadata": {},
     "output_type": "execute_result"
    }
   ],
   "source": [
    "len(results)"
   ]
  },
  {
   "cell_type": "code",
   "execution_count": 65,
   "id": "a582dc50-5127-4eeb-abbb-8476db6d2df3",
   "metadata": {
    "tags": []
   },
   "outputs": [
    {
     "data": {
      "text/plain": [
       "['freddie_part_2_c180',\n",
       " 'freddie_part_2_c250',\n",
       " 'freddie_part_2_c243',\n",
       " 'freddie_part_2_c157',\n",
       " 'freddie_part_2_c227']"
      ]
     },
     "execution_count": 65,
     "metadata": {},
     "output_type": "execute_result"
    }
   ],
   "source": [
    "[r['chunk_id'] for r in results]"
   ]
  },
  {
   "cell_type": "code",
   "execution_count": null,
   "id": "c5745cd4-abc7-4062-8734-978d52188efe",
   "metadata": {},
   "outputs": [],
   "source": []
  },
  {
   "cell_type": "code",
   "execution_count": null,
   "id": "8823a95a-3204-42af-8843-9530b45470f3",
   "metadata": {},
   "outputs": [],
   "source": []
  },
  {
   "cell_type": "code",
   "execution_count": 66,
   "id": "7e399593-c47a-49c8-9b04-40f7ac9640c2",
   "metadata": {
    "tags": []
   },
   "outputs": [],
   "source": [
    "with database.snapshot() as snapshot:\n",
    "    response = snapshot.execute_sql(\n",
    "        f\"\"\"\n",
    "        SELECT {', '.join(columns)}\n",
    "        FROM `{SPANNER_TABLE_NAME}`\n",
    "        WHERE gse = 'fannie'\n",
    "        ORDER BY DOT_PRODUCT(embedding, ARRAY<FLOAT32>{question_embedding})\n",
    "        LIMIT 5\n",
    "        \"\"\",\n",
    "    )\n",
    "    results = []\n",
    "    for row in list(response):\n",
    "        results.append(dict(zip(columns, row)))"
   ]
  },
  {
   "cell_type": "code",
   "execution_count": 67,
   "id": "5cae477c-ffb5-45d8-8a53-6b1b81f5e7ee",
   "metadata": {
    "tags": []
   },
   "outputs": [
    {
     "data": {
      "text/plain": [
       "5"
      ]
     },
     "execution_count": 67,
     "metadata": {},
     "output_type": "execute_result"
    }
   ],
   "source": [
    "len(results)"
   ]
  },
  {
   "cell_type": "code",
   "execution_count": 68,
   "id": "0849886d-0f4a-466a-9479-4c31b5e95797",
   "metadata": {
    "tags": []
   },
   "outputs": [
    {
     "data": {
      "text/plain": [
       "['fannie_part_0_c839',\n",
       " 'fannie_part_0_c987',\n",
       " 'fannie_part_1_c519',\n",
       " 'fannie_part_0_c753',\n",
       " 'fannie_part_0_c990']"
      ]
     },
     "execution_count": 68,
     "metadata": {},
     "output_type": "execute_result"
    }
   ],
   "source": [
    "[r['chunk_id'] for r in results]"
   ]
  },
  {
   "cell_type": "code",
   "execution_count": null,
   "id": "57963e83-6642-4bd1-8db2-bc614b559721",
   "metadata": {},
   "outputs": [],
   "source": []
  },
  {
   "cell_type": "code",
   "execution_count": null,
   "id": "79d5e854-9348-4288-8a2f-3e6d3b4a9058",
   "metadata": {},
   "outputs": [],
   "source": []
  },
  {
   "cell_type": "code",
   "execution_count": null,
   "id": "68082305-75d8-4e12-b63c-90488731ccd1",
   "metadata": {},
   "outputs": [],
   "source": []
  },
  {
   "cell_type": "code",
   "execution_count": null,
   "id": "04d340f2-b8ad-4748-9c49-a8437156193c",
   "metadata": {},
   "outputs": [],
   "source": []
  },
  {
   "cell_type": "markdown",
   "id": "6398632f-c12e-4631-9079-64ab6d053aef",
   "metadata": {},
   "source": [
    "### Create Vector Index\n",
    "\n",
    "https://cloud.google.com/spanner/docs/find-approximate-nearest-neighbors#vector-index\n",
    "\n",
    "https://cloud.google.com/spanner/docs/find-approximate-nearest-neighbors#rebuild\n",
    "\n",
    "https://cloud.google.com/spanner/docs/reference/standard-sql/data-definition-language#vector_index_statements"
   ]
  },
  {
   "cell_type": "code",
   "execution_count": null,
   "id": "feee2a7e-bc44-4091-9c6a-e837878ddd2a",
   "metadata": {},
   "outputs": [],
   "source": []
  },
  {
   "cell_type": "code",
   "execution_count": null,
   "id": "96d1ba78-2e05-40b0-9d01-1be703d4eddb",
   "metadata": {
    "tags": []
   },
   "outputs": [],
   "source": [
    "create_index = database.update_ddl([\n",
    "f\"\"\"\n",
    "CREATE VECTOR INDEX embedding_index ON `{SPANNER_TABLE_NAME}`(embedding)\n",
    "WHERE embedding IS NOT NULL\n",
    "OPTIONS(\n",
    "    distance_type = 'DOT_PRODUCT',\n",
    "    tree_depth = 2,\n",
    "    num_leaves = 100\n",
    ")\n",
    "\"\"\"\n",
    "])\n",
    "#create_index.result()"
   ]
  },
  {
   "cell_type": "code",
   "execution_count": 80,
   "id": "a7d47434-b82c-43f7-a721-fd42c3f659dd",
   "metadata": {
    "tags": []
   },
   "outputs": [
    {
     "name": "stdout",
     "output_type": "stream",
     "text": [
      "Index Created\n"
     ]
    }
   ],
   "source": [
    "while not create_index.done():\n",
    "    print('Waiting on index creation ...')\n",
    "    time.sleep(60)\n",
    "    \n",
    "print('Index Created')"
   ]
  },
  {
   "cell_type": "code",
   "execution_count": 117,
   "id": "0009bc23-5a4e-4568-ae88-a1e741f9785f",
   "metadata": {
    "tags": []
   },
   "outputs": [],
   "source": [
    "with database.snapshot() as snapshot:\n",
    "    response = snapshot.execute_sql(\n",
    "        f\"\"\"\n",
    "        SELECT *\n",
    "        FROM INFORMATION_SCHEMA.INDEXES\n",
    "        WHERE INDEX_NAME = 'embedding_index'\n",
    "            AND TABLE_NAME = '{SPANNER_TABLE_NAME}'\n",
    "        \"\"\",\n",
    "    )\n",
    "    results = []\n",
    "    for row in list(response):\n",
    "        column_names = [field.name for field in response._metadata.row_type.fields]\n",
    "        results.append(dict(zip(column_names, row)))"
   ]
  },
  {
   "cell_type": "code",
   "execution_count": 118,
   "id": "86a75e2b-4108-42b4-988a-57fcaabb379f",
   "metadata": {
    "tags": []
   },
   "outputs": [
    {
     "data": {
      "text/plain": [
       "[{'TABLE_CATALOG': '',\n",
       "  'TABLE_SCHEMA': '',\n",
       "  'TABLE_NAME': 'retrieval_spanner',\n",
       "  'INDEX_NAME': 'embedding_index',\n",
       "  'INDEX_TYPE': 'VECTOR',\n",
       "  'PARENT_TABLE_NAME': '',\n",
       "  'IS_UNIQUE': False,\n",
       "  'IS_NULL_FILTERED': False,\n",
       "  'INDEX_STATE': 'READ_WRITE',\n",
       "  'FILTER': 'embedding IS NOT NULL',\n",
       "  'SPANNER_IS_MANAGED': False,\n",
       "  'SEARCH_PARTITION_BY': None,\n",
       "  'SEARCH_ORDER_BY': None}]"
      ]
     },
     "execution_count": 118,
     "metadata": {},
     "output_type": "execute_result"
    }
   ],
   "source": [
    "results"
   ]
  },
  {
   "cell_type": "code",
   "execution_count": null,
   "id": "7b98f403-2cab-455b-b582-2050d6cfebfb",
   "metadata": {},
   "outputs": [],
   "source": []
  },
  {
   "cell_type": "code",
   "execution_count": null,
   "id": "09df8751-46c5-48e7-8dce-b183272caf55",
   "metadata": {},
   "outputs": [],
   "source": []
  },
  {
   "cell_type": "markdown",
   "id": "c5c04d3d-dab5-43e3-abd3-928ed200c67e",
   "metadata": {},
   "source": [
    "### Match: With Index"
   ]
  },
  {
   "cell_type": "code",
   "execution_count": 123,
   "id": "8b116c6c-5b55-4ee0-9129-e2fcc3223461",
   "metadata": {
    "tags": []
   },
   "outputs": [],
   "source": [
    "with database.snapshot() as snapshot:\n",
    "    response = snapshot.execute_sql(\n",
    "        f\"\"\"\n",
    "        SELECT {', '.join(columns)}\n",
    "        FROM `{SPANNER_TABLE_NAME}`@{{FORCE_INDEX=embedding_index}}\n",
    "        WHERE embedding IS NOT NULL\n",
    "            AND gse = 'fannie'\n",
    "        ORDER BY APPROX_DOT_PRODUCT(ARRAY<FLOAT32>{question_embedding}, embedding, options => JSON '{{\"num_leaves_to_search\": 10}}')\n",
    "        LIMIT 5\n",
    "        \"\"\",\n",
    "    )\n",
    "    results = []\n",
    "    for row in list(response):\n",
    "        results.append(dict(zip(columns, row)))"
   ]
  },
  {
   "cell_type": "code",
   "execution_count": 124,
   "id": "eecc0e0f-4448-4d48-abdd-694bbbf3ce10",
   "metadata": {
    "tags": []
   },
   "outputs": [
    {
     "data": {
      "text/plain": [
       "5"
      ]
     },
     "execution_count": 124,
     "metadata": {},
     "output_type": "execute_result"
    }
   ],
   "source": [
    "len(results)"
   ]
  },
  {
   "cell_type": "code",
   "execution_count": 125,
   "id": "1561543c-59e7-4471-9640-49873158bb83",
   "metadata": {
    "tags": []
   },
   "outputs": [
    {
     "data": {
      "text/plain": [
       "['fannie_part_0_c839',\n",
       " 'fannie_part_0_c987',\n",
       " 'fannie_part_1_c519',\n",
       " 'fannie_part_0_c753',\n",
       " 'fannie_part_0_c990']"
      ]
     },
     "execution_count": 125,
     "metadata": {},
     "output_type": "execute_result"
    }
   ],
   "source": [
    "[r['chunk_id'] for r in results]"
   ]
  },
  {
   "cell_type": "code",
   "execution_count": null,
   "id": "9bb5ab0c-d014-4724-8e66-35d51cc0bc3b",
   "metadata": {},
   "outputs": [],
   "source": []
  },
  {
   "cell_type": "code",
   "execution_count": null,
   "id": "e9fce5b0-3f84-468d-9d59-f221bde62552",
   "metadata": {},
   "outputs": [],
   "source": []
  },
  {
   "cell_type": "code",
   "execution_count": null,
   "id": "9f91ef53-7246-41f1-97b5-0ec19351df76",
   "metadata": {},
   "outputs": [],
   "source": []
  },
  {
   "cell_type": "code",
   "execution_count": 129,
   "id": "9ba468f4-e8ea-4bcd-b48a-6ed2bae22262",
   "metadata": {
    "tags": []
   },
   "outputs": [],
   "source": [
    "with database.snapshot() as snapshot:\n",
    "    response = snapshot.execute_sql(\n",
    "        f\"\"\"\n",
    "        SELECT {', '.join(columns)}\n",
    "        FROM `{SPANNER_TABLE_NAME}`@{{FORCE_INDEX=embedding_index}}\n",
    "        WHERE embedding IS NOT NULL\n",
    "            AND gse = 'fannie'\n",
    "        ORDER BY APPROX_DOT_PRODUCT(ARRAY<FLOAT32>{question_embedding}, embedding, options => JSON '{{\"num_leaves_to_search\": 10}}')\n",
    "        LIMIT 5\n",
    "        \"\"\",\n",
    "    )\n",
    "    results = []\n",
    "    for row in list(response):\n",
    "        results.append(dict(zip(columns, row)))"
   ]
  },
  {
   "cell_type": "code",
   "execution_count": 130,
   "id": "fe0d5a7b-7787-4446-8739-6e1d03742d2f",
   "metadata": {
    "tags": []
   },
   "outputs": [
    {
     "data": {
      "text/plain": [
       "5"
      ]
     },
     "execution_count": 130,
     "metadata": {},
     "output_type": "execute_result"
    }
   ],
   "source": [
    "len(results)"
   ]
  },
  {
   "cell_type": "code",
   "execution_count": 131,
   "id": "51d455ee-4dc3-44db-baca-d0eac3a2e9a3",
   "metadata": {
    "tags": []
   },
   "outputs": [
    {
     "data": {
      "text/plain": [
       "['fannie_part_0_c839',\n",
       " 'fannie_part_0_c987',\n",
       " 'fannie_part_1_c519',\n",
       " 'fannie_part_0_c753',\n",
       " 'fannie_part_0_c990']"
      ]
     },
     "execution_count": 131,
     "metadata": {},
     "output_type": "execute_result"
    }
   ],
   "source": [
    "[r['chunk_id'] for r in results]"
   ]
  },
  {
   "cell_type": "code",
   "execution_count": null,
   "id": "c564931c-055c-4dd8-bc55-09f6a96785c5",
   "metadata": {},
   "outputs": [],
   "source": []
  },
  {
   "cell_type": "code",
   "execution_count": null,
   "id": "3e04ac6d-bc19-4bb5-a091-88e451c416d9",
   "metadata": {},
   "outputs": [],
   "source": []
  },
  {
   "cell_type": "code",
   "execution_count": null,
   "id": "6f7daf91-011c-4895-a2d1-00e433fbf074",
   "metadata": {},
   "outputs": [],
   "source": []
  },
  {
   "cell_type": "code",
   "execution_count": null,
   "id": "163a8c99-afdf-4d53-9507-43bf3b17c075",
   "metadata": {},
   "outputs": [],
   "source": []
  },
  {
   "cell_type": "code",
   "execution_count": null,
   "id": "875841b7-cfe0-41a0-a30c-92dbb7662760",
   "metadata": {},
   "outputs": [],
   "source": []
  },
  {
   "cell_type": "code",
   "execution_count": null,
   "id": "3315d5c7-1666-488a-b74a-7601148fe39d",
   "metadata": {},
   "outputs": [],
   "source": []
  },
  {
   "cell_type": "code",
   "execution_count": null,
   "id": "5ee6a4fa-2f99-405e-ad0a-da21458d0c35",
   "metadata": {},
   "outputs": [],
   "source": []
  },
  {
   "cell_type": "markdown",
   "id": "ce1f1884-e620-49f4-b59d-c46030cdcb0e",
   "metadata": {},
   "source": [
    "## Remove Resources"
   ]
  },
  {
   "cell_type": "code",
   "execution_count": 133,
   "id": "0b4d9ec2-0b7b-470b-b898-e655a6da0d25",
   "metadata": {
    "tags": []
   },
   "outputs": [],
   "source": [
    "#database_client.drop_database(database = spanner_database.name)"
   ]
  },
  {
   "cell_type": "code",
   "execution_count": 134,
   "id": "8c65830d-3e81-4698-a705-8829362708a7",
   "metadata": {
    "tags": []
   },
   "outputs": [],
   "source": [
    "#instance_client.delete_instance(name = spanner_instance.name)"
   ]
  },
  {
   "cell_type": "code",
   "execution_count": null,
   "id": "beadf88f-4d7f-4fb6-82c1-ea9f74a2571f",
   "metadata": {},
   "outputs": [],
   "source": []
  },
  {
   "cell_type": "code",
   "execution_count": null,
   "id": "0c13b3a2-7b27-47e7-9aa6-b8313780e10f",
   "metadata": {},
   "outputs": [],
   "source": []
  },
  {
   "cell_type": "code",
   "execution_count": null,
   "id": "edca6f0f-66cc-407a-8fdd-618637615696",
   "metadata": {},
   "outputs": [],
   "source": []
  },
  {
   "cell_type": "code",
   "execution_count": null,
   "id": "38586d4e-39b4-4a3e-9e95-82b300c0702a",
   "metadata": {},
   "outputs": [],
   "source": []
  },
  {
   "cell_type": "code",
   "execution_count": null,
   "id": "77f5658b-387c-4427-b3ee-67495ae78f2c",
   "metadata": {},
   "outputs": [],
   "source": []
  },
  {
   "cell_type": "code",
   "execution_count": null,
   "id": "e2654e9b-ae4e-4967-8779-4c4b1f70c809",
   "metadata": {},
   "outputs": [],
   "source": []
  }
 ],
 "metadata": {
  "environment": {
   "kernel": "conda-base-py",
   "name": "workbench-notebooks.m125",
   "type": "gcloud",
   "uri": "us-docker.pkg.dev/deeplearning-platform-release/gcr.io/workbench-notebooks:m125"
  },
  "kernelspec": {
   "display_name": "Python 3 (ipykernel) (Local)",
   "language": "python",
   "name": "conda-base-py"
  },
  "language_info": {
   "codemirror_mode": {
    "name": "ipython",
    "version": 3
   },
   "file_extension": ".py",
   "mimetype": "text/x-python",
   "name": "python",
   "nbconvert_exporter": "python",
   "pygments_lexer": "ipython3",
   "version": "3.10.15"
  }
 },
 "nbformat": 4,
 "nbformat_minor": 5
}
