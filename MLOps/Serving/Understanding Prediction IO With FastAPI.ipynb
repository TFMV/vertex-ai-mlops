{
 "cells": [
  {
   "cell_type": "markdown",
   "id": "bdd70d3b",
   "metadata": {},
   "source": [
    "![tracker](https://us-central1-vertex-ai-mlops-369716.cloudfunctions.net/pixel-tracking?path=statmike%2Fvertex-ai-mlops%2FMLOps%2FServing&file=Understanding+Prediction+IO+With+FastAPI.ipynb)\n",
    "<!--- header table --->\n",
    "<table align=\"left\">\n",
    "  <td style=\"text-align: center\">\n",
    "    <a href=\"https://colab.research.google.com/github/statmike/vertex-ai-mlops/blob/main/MLOps/Serving/Understanding%20Prediction%20IO%20With%20FastAPI.ipynb\">\n",
    "      <img src=\"https://cloud.google.com/ml-engine/images/colab-logo-32px.png\" alt=\"Google Colaboratory logo\">\n",
    "      <br>Run in<br>Colab\n",
    "    </a>\n",
    "  </td>\n",
    "  <td style=\"text-align: center\">\n",
    "    <a href=\"https://console.cloud.google.com/vertex-ai/colab/import/https%3A%2F%2Fraw.githubusercontent.com%2Fstatmike%2Fvertex-ai-mlops%2Fmain%2FMLOps%2FServing%2FUnderstanding%2520Prediction%2520IO%2520With%2520FastAPI.ipynb\">\n",
    "      <img width=\"32px\" src=\"https://lh3.googleusercontent.com/JmcxdQi-qOpctIvWKgPtrzZdJJK-J3sWE1RsfjZNwshCFgE_9fULcNpuXYTilIR2hjwN\" alt=\"Google Cloud Colab Enterprise logo\">\n",
    "      <br>Run in<br>Colab Enterprise\n",
    "    </a>\n",
    "  </td>      \n",
    "  <td style=\"text-align: center\">\n",
    "    <a href=\"https://github.com/statmike/vertex-ai-mlops/blob/main/MLOps/Serving/Understanding%20Prediction%20IO%20With%20FastAPI.ipynb\">\n",
    "      <img src=\"https://cloud.google.com/ml-engine/images/github-logo-32px.png\" alt=\"GitHub logo\">\n",
    "      <br>View on<br>GitHub\n",
    "    </a>\n",
    "  </td>\n",
    "  <td style=\"text-align: center\">\n",
    "    <a href=\"https://console.cloud.google.com/vertex-ai/workbench/deploy-notebook?download_url=https://raw.githubusercontent.com/statmike/vertex-ai-mlops/main/MLOps/Serving/Understanding%20Prediction%20IO%20With%20FastAPI.ipynb\">\n",
    "      <img src=\"https://lh3.googleusercontent.com/UiNooY4LUgW_oTvpsNhPpQzsstV5W8F7rYgxgGBD85cWJoLmrOzhVs_ksK_vgx40SHs7jCqkTkCk=e14-rj-sc0xffffff-h130-w32\" alt=\"Vertex AI logo\">\n",
    "      <br>Open in<br>Vertex AI Workbench\n",
    "    </a>\n",
    "  </td>\n",
    "</table>"
   ]
  },
  {
   "cell_type": "markdown",
   "id": "58dc51d2-3e40-4b95-83b9-315b32540410",
   "metadata": {},
   "source": [
    "# Understanding Prediction IO With FastAPI\n",
    "\n",
    "**IN PROGRESS**\n",
    "\n",
    "Use a simple FastAPI implementation to explore the processing of different input instance format on:\n",
    "- Vertex AI Endpoints\n",
    "- Cloud Run Endpoints\n",
    "- Vetex AI Batch Prediction\n",
    "\n",
    "Inputs to try:\n",
    "- https://cloud.google.com/vertex-ai/docs/predictions/get-batch-predictions#input_data_requirements\n",
    "- https://cloud.google.com/vertex-ai/docs/predictions/get-online-predictions#formatting-prediction-input\n"
   ]
  },
  {
   "cell_type": "markdown",
   "id": "93add80c-4be3-4c58-9d4e-cfdb58a8aeea",
   "metadata": {
    "id": "od_UkDpvRmgD",
    "tags": []
   },
   "source": [
    "---\n",
    "## Colab Setup\n",
    "\n",
    "To run this notebook in Colab run the cells in this section.  Otherwise, skip this section.\n",
    "\n",
    "This cell will authenticate to GCP (follow prompts in the popup)."
   ]
  },
  {
   "cell_type": "code",
   "execution_count": 1,
   "id": "773b731c-6ecd-436f-8de7-dc049e2ac23f",
   "metadata": {
    "executionInfo": {
     "elapsed": 195,
     "status": "ok",
     "timestamp": 1683726184843,
     "user": {
      "displayName": "Mike Henderson",
      "userId": "07691629187611687318"
     },
     "user_tz": 240
    },
    "id": "8UO9FnqyKBlF",
    "tags": []
   },
   "outputs": [],
   "source": [
    "PROJECT_ID = 'statmike-mlops-349915' # replace with project ID"
   ]
  },
  {
   "cell_type": "code",
   "execution_count": 2,
   "id": "296f760d-24bc-4f47-a81d-1c70e6bcac74",
   "metadata": {
    "colab": {
     "base_uri": "https://localhost:8080/"
    },
    "executionInfo": {
     "elapsed": 68869,
     "status": "ok",
     "timestamp": 1683726253709,
     "user": {
      "displayName": "Mike Henderson",
      "userId": "07691629187611687318"
     },
     "user_tz": 240
    },
    "id": "N98-KK7LRkjm",
    "outputId": "09ec5008-0def-4e1a-c349-c598ee752f78",
    "tags": []
   },
   "outputs": [],
   "source": [
    "try:\n",
    "    import google.colab\n",
    "    from google.colab import auth\n",
    "    auth.authenticate_user()\n",
    "    !gcloud config set project {PROJECT_ID}\n",
    "except Exception:\n",
    "    pass"
   ]
  },
  {
   "cell_type": "markdown",
   "id": "f36c66af-7ccb-4ac4-8d63-991d189dfc08",
   "metadata": {},
   "source": [
    "---\n",
    "## Installs\n",
    "\n",
    "The list `packages` contains tuples of package import names and install names.  If the import name is not found then the install name is used to install quitely for the current user."
   ]
  },
  {
   "cell_type": "code",
   "execution_count": 1,
   "id": "273d19dc-bdb8-4be7-be6e-0d5fc8ededce",
   "metadata": {
    "tags": []
   },
   "outputs": [],
   "source": [
    "# tuples of (import name, install name, min_version)\n",
    "packages = [\n",
    "    ('docker', 'docker'),\n",
    "    ('google.cloud.aiplatform', 'google-cloud-aiplatform'),\n",
    "    ('google.cloud.storage', 'google-cloud-storage'),\n",
    "    ('google.cloud.artifactregistry_v1', 'google-cloud-artifact-registry'),\n",
    "    ('google.cloud.devtools', 'google-cloud-build'),\n",
    "    ('google.cloud.run_v2', 'google-cloud-run'),   \n",
    "]\n",
    "\n",
    "import importlib\n",
    "install = False\n",
    "for package in packages:\n",
    "    if not importlib.util.find_spec(package[0]):\n",
    "        print(f'installing package {package[1]}')\n",
    "        install = True\n",
    "        !pip install {package[1]} -U -q --user\n",
    "    elif len(package) == 3:\n",
    "        if importlib.metadata.version(package[0]) < package[2]:\n",
    "            print(f'updating package {package[1]}')\n",
    "            install = True\n",
    "            !pip install {package[1]} -U -q --user"
   ]
  },
  {
   "cell_type": "markdown",
   "id": "705a353f-2b80-4109-840b-26ada0892e29",
   "metadata": {},
   "source": [
    "### API Enablement"
   ]
  },
  {
   "cell_type": "code",
   "execution_count": 2,
   "id": "0d72f495-344a-4fa8-a2b8-122b5a4fc438",
   "metadata": {
    "tags": []
   },
   "outputs": [],
   "source": [
    "!gcloud services enable artifactregistry.googleapis.com\n",
    "!gcloud services enable cloudbuild.googleapis.com\n",
    "!gcloud services enable run.googleapis.com"
   ]
  },
  {
   "cell_type": "markdown",
   "id": "e451ca25-de9d-4f94-9963-1df01908ffe6",
   "metadata": {},
   "source": [
    "### Restart Kernel (If Installs Occured)\n",
    "\n",
    "After a kernel restart the code submission can start with the next cell after this one."
   ]
  },
  {
   "cell_type": "code",
   "execution_count": 3,
   "id": "7e877065-c3eb-4a8a-9eed-b42ba320e506",
   "metadata": {
    "tags": []
   },
   "outputs": [],
   "source": [
    "if install:\n",
    "    import IPython\n",
    "    app = IPython.Application.instance()\n",
    "    app.kernel.do_shutdown(True)\n",
    "    IPython.display.display(IPython.display.Markdown(\"\"\"<div class=\\\"alert alert-block alert-warning\\\">\n",
    "        <b>⚠️ The kernel is going to restart. Please wait until it is finished before continuing to the next step. The previous cells do not need to be run again⚠️</b>\n",
    "        </div>\"\"\"))"
   ]
  },
  {
   "cell_type": "markdown",
   "id": "869468bd-1849-49eb-a30e-77756956b0bc",
   "metadata": {},
   "source": [
    "---\n",
    "## Setup"
   ]
  },
  {
   "cell_type": "markdown",
   "id": "4ffbdbb2-bdc7-4cab-a752-ba8838feba41",
   "metadata": {},
   "source": [
    "inputs:"
   ]
  },
  {
   "cell_type": "code",
   "execution_count": 4,
   "id": "52196f7a-387d-4b9b-8125-7b3689f02c23",
   "metadata": {
    "tags": []
   },
   "outputs": [
    {
     "data": {
      "text/plain": [
       "'statmike-mlops-349915'"
      ]
     },
     "execution_count": 4,
     "metadata": {},
     "output_type": "execute_result"
    }
   ],
   "source": [
    "project = !gcloud config get-value project\n",
    "PROJECT_ID = project[0]\n",
    "PROJECT_ID"
   ]
  },
  {
   "cell_type": "code",
   "execution_count": 5,
   "id": "b1f9fee5-8748-4037-8c12-cf469670f3e5",
   "metadata": {
    "tags": []
   },
   "outputs": [],
   "source": [
    "REGION = 'us-central1'\n",
    "SERIES = 'mlops-serving'\n",
    "EXPERIMENT = 'understand-io'\n",
    "\n",
    "GCS_BUCKET = PROJECT_ID"
   ]
  },
  {
   "cell_type": "markdown",
   "id": "fad097d7-8c48-4938-a7ad-a6611e2f7c77",
   "metadata": {},
   "source": [
    "packages:"
   ]
  },
  {
   "cell_type": "code",
   "execution_count": 6,
   "id": "c85d3a07-1988-46b8-bf04-adb45e32a2ca",
   "metadata": {
    "tags": []
   },
   "outputs": [],
   "source": [
    "import json, os\n",
    "import time\n",
    "import requests\n",
    "\n",
    "import docker\n",
    "\n",
    "import google.auth\n",
    "from google.cloud import storage\n",
    "from google.cloud import artifactregistry_v1\n",
    "from google.cloud.devtools import cloudbuild_v1\n",
    "from google.cloud import run_v2\n",
    "from google.cloud import aiplatform"
   ]
  },
  {
   "cell_type": "markdown",
   "id": "928ff1c5-9476-4064-ae46-58019f145f2b",
   "metadata": {},
   "source": [
    "clients:"
   ]
  },
  {
   "cell_type": "code",
   "execution_count": 7,
   "id": "a756f32c-e880-4a9a-b5a0-1df2b5bf4144",
   "metadata": {
    "tags": []
   },
   "outputs": [],
   "source": [
    "# gcs storage client\n",
    "gcs = storage.Client(project = GCS_BUCKET)\n",
    "bucket = gcs.bucket(GCS_BUCKET)\n",
    "\n",
    "# cloud build client\n",
    "cb = cloudbuild_v1.CloudBuildClient()\n",
    "\n",
    "# artifact registry client\n",
    "ar = artifactregistry_v1.ArtifactRegistryClient()\n",
    "\n",
    "# cloud run client\n",
    "cr = run_v2.ServicesClient()\n",
    "\n",
    "# vertex ai client\n",
    "aiplatform.init(project = PROJECT_ID, location = REGION)"
   ]
  },
  {
   "cell_type": "markdown",
   "id": "3ed05152-79ca-4b67-9a39-5b2045c4d4b8",
   "metadata": {},
   "source": [
    "Parameters:"
   ]
  },
  {
   "cell_type": "code",
   "execution_count": 8,
   "id": "14c2633b-f2fb-41fb-a050-6d4441c76723",
   "metadata": {
    "tags": []
   },
   "outputs": [],
   "source": [
    "DIR = f\"files/{EXPERIMENT}\""
   ]
  },
  {
   "cell_type": "markdown",
   "id": "b8de7b51-3cdd-4350-93aa-3a88c47f851b",
   "metadata": {},
   "source": [
    "Environment:"
   ]
  },
  {
   "cell_type": "code",
   "execution_count": 9,
   "id": "3eec3718-3390-426a-af74-76d80749b5f4",
   "metadata": {
    "tags": []
   },
   "outputs": [],
   "source": [
    "if not os.path.exists(DIR):\n",
    "    os.makedirs(DIR)"
   ]
  },
  {
   "cell_type": "markdown",
   "id": "482a052f-3f05-4127-aec8-02f7bd891977",
   "metadata": {},
   "source": [
    "---\n",
    "## Build A Custom Prediction Container\n",
    "\n",
    "It is really not all that hard with Python!\n",
    "\n",
    "For this example [FastAPI](https://fastapi.tiangolo.com/) is used.\n",
    "\n",
    "This process uses docker to build a custom container and then runs the container on Cloud Run and Vertex AI Endpoints.\n",
    "\n",
    "This could be done locally with Docker and pushed to Artifact Registry before deployment to Cloud Run.  The process below assumes that docker is not available locally and used Cloud Build to both build and push the resulting container to Artifact Registry."
   ]
  },
  {
   "cell_type": "markdown",
   "id": "6417e800-04f2-4dc8-84db-79942847be1e",
   "metadata": {},
   "source": [
    "---\n",
    "### Setup Artifact Registry\n",
    "\n",
    "[Artifact registry](https://cloud.google.com/artifact-registry/docs) organizes artifacts with repositories.  Each repository contains packages and is designated to hold a partifcular format of package: Docker images, Python Packages and [others](https://cloud.google.com/artifact-registry/docs/supported-formats#package)."
   ]
  },
  {
   "cell_type": "markdown",
   "id": "7e31ae69-004b-4923-9b3b-1d16ce6a4575",
   "metadata": {},
   "source": [
    "#### List Repositories\n",
    "\n",
    "This may be empty if no repositories have been created for this project"
   ]
  },
  {
   "cell_type": "code",
   "execution_count": 10,
   "id": "413d6535-f166-4804-aa1f-d8d2195ac072",
   "metadata": {
    "tags": []
   },
   "outputs": [
    {
     "name": "stdout",
     "output_type": "stream",
     "text": [
      "projects/statmike-mlops-349915/locations/us-central1/repositories/frameworks\n",
      "projects/statmike-mlops-349915/locations/us-central1/repositories/frameworks-catboost\n",
      "projects/statmike-mlops-349915/locations/us-central1/repositories/gcf-artifacts\n",
      "projects/statmike-mlops-349915/locations/us-central1/repositories/mlops\n",
      "projects/statmike-mlops-349915/locations/us-central1/repositories/statmike-mlops-349915\n",
      "projects/statmike-mlops-349915/locations/us-central1/repositories/statmike-mlops-349915-docker\n",
      "projects/statmike-mlops-349915/locations/us-central1/repositories/statmike-mlops-349915-python\n"
     ]
    }
   ],
   "source": [
    "for repo in ar.list_repositories(parent = f'projects/{PROJECT_ID}/locations/{REGION}'):\n",
    "    print(repo.name)"
   ]
  },
  {
   "cell_type": "markdown",
   "id": "1d60d118-9147-4a21-9e97-e074329ad618",
   "metadata": {},
   "source": [
    "#### Create/Retrieve Docker Image Repository\n",
    "\n",
    "Create an Artifact Registry Repository to hold Docker Images created by this notebook.  First, check to see if it is already created by a previous run and retrieve it if it has.  Otherwise, create one named for this project."
   ]
  },
  {
   "cell_type": "code",
   "execution_count": 11,
   "id": "4378e760-aa9c-4791-969e-1068905b8c99",
   "metadata": {
    "tags": []
   },
   "outputs": [
    {
     "name": "stdout",
     "output_type": "stream",
     "text": [
      "Creating Repository ...\n",
      "Completed creating repo: projects/statmike-mlops-349915/locations/us-central1/repositories/mlops-serving\n"
     ]
    }
   ],
   "source": [
    "docker_repo = None\n",
    "for repo in ar.list_repositories(parent = f'projects/{PROJECT_ID}/locations/{REGION}'):\n",
    "    if f'{SERIES}' == repo.name.split('/')[-1]:\n",
    "        docker_repo = repo\n",
    "        print(f'Retrieved existing repo: {docker_repo.name}')\n",
    "\n",
    "if not docker_repo:\n",
    "    operation = ar.create_repository(\n",
    "        request = artifactregistry_v1.CreateRepositoryRequest(\n",
    "            parent = f'projects/{PROJECT_ID}/locations/{REGION}',\n",
    "            repository_id = f'{SERIES}',\n",
    "            repository = artifactregistry_v1.Repository(\n",
    "                description = f'A repository for the {SERIES} series that holds docker images.',\n",
    "                name = f'{SERIES}',\n",
    "                format_ = artifactregistry_v1.Repository.Format.DOCKER,\n",
    "                labels = {'series': SERIES}\n",
    "            )\n",
    "        )\n",
    "    )\n",
    "    print('Creating Repository ...')\n",
    "    docker_repo = operation.result()\n",
    "    print(f'Completed creating repo: {docker_repo.name}')"
   ]
  },
  {
   "cell_type": "code",
   "execution_count": 12,
   "id": "546cc483-f056-4b45-95a1-6dbaff655579",
   "metadata": {
    "tags": []
   },
   "outputs": [
    {
     "data": {
      "text/plain": [
       "('projects/statmike-mlops-349915/locations/us-central1/repositories/mlops-serving',\n",
       " 'DOCKER')"
      ]
     },
     "execution_count": 12,
     "metadata": {},
     "output_type": "execute_result"
    }
   ],
   "source": [
    "docker_repo.name, docker_repo.format_.name"
   ]
  },
  {
   "cell_type": "code",
   "execution_count": 13,
   "id": "f022b364-f5e5-4fb5-b5c0-90713c2c3dfc",
   "metadata": {
    "tags": []
   },
   "outputs": [],
   "source": [
    "REPOSITORY = f\"{REGION}-docker.pkg.dev/{PROJECT_ID}/{docker_repo.name.split('/')[-1]}\""
   ]
  },
  {
   "cell_type": "code",
   "execution_count": 14,
   "id": "04cd6c6c-eeca-4f61-ac09-571e738b9c05",
   "metadata": {
    "tags": []
   },
   "outputs": [
    {
     "data": {
      "text/plain": [
       "'us-central1-docker.pkg.dev/statmike-mlops-349915/mlops-serving'"
      ]
     },
     "execution_count": 14,
     "metadata": {},
     "output_type": "execute_result"
    }
   ],
   "source": [
    "REPOSITORY"
   ]
  },
  {
   "cell_type": "markdown",
   "id": "8f7be2ce-6cca-406c-b42b-58860578d1d9",
   "metadata": {
    "tags": []
   },
   "source": [
    "---\n",
    "### Create Application Files\n",
    "\n",
    "```\n",
    "|__ Dockerfile\n",
    "|__ requirements.txt\n",
    "|__ app\n",
    "    |__ __init__.py\n",
    "    |__ main.py\n",
    "    |__ prestart.sh\n",
    "```"
   ]
  },
  {
   "cell_type": "code",
   "execution_count": 15,
   "id": "49e76138-256f-465b-bfd9-68df9103dcca",
   "metadata": {
    "tags": []
   },
   "outputs": [],
   "source": [
    "if not os.path.exists(DIR + '/source/app'):\n",
    "    os.makedirs(DIR + '/source/app')"
   ]
  },
  {
   "cell_type": "code",
   "execution_count": 16,
   "id": "abb23480-b572-4faf-8c3c-f0306e92483a",
   "metadata": {
    "tags": []
   },
   "outputs": [
    {
     "name": "stdout",
     "output_type": "stream",
     "text": [
      "Writing files/understand-io/source/Dockerfile\n"
     ]
    }
   ],
   "source": [
    "%%writefile {DIR}/source/Dockerfile\n",
    "FROM tiangolo/uvicorn-gunicorn-fastapi:python3.9\n",
    "\n",
    "COPY ./app /app\n",
    "COPY ./requirements.txt requirements.txt\n",
    "\n",
    "RUN pip install --no-cache-dir --upgrade pip \\\n",
    "  && pip install --no-cache-dir -r requirements.txt"
   ]
  },
  {
   "cell_type": "code",
   "execution_count": 17,
   "id": "6572dcbf-7ecd-4721-a407-86576bd3eb50",
   "metadata": {
    "tags": []
   },
   "outputs": [
    {
     "name": "stdout",
     "output_type": "stream",
     "text": [
      "Writing files/understand-io/source/requirements.txt\n"
     ]
    }
   ],
   "source": [
    "%%writefile {DIR}/source/requirements.txt\n",
    "numpy"
   ]
  },
  {
   "cell_type": "code",
   "execution_count": 18,
   "id": "ef0099ff-1836-49de-9307-06f02ec97d55",
   "metadata": {
    "tags": []
   },
   "outputs": [
    {
     "name": "stdout",
     "output_type": "stream",
     "text": [
      "Writing files/understand-io/source/app/__init__.py\n"
     ]
    }
   ],
   "source": [
    "%%writefile {DIR}/source/app/__init__.py\n",
    "# init file"
   ]
  },
  {
   "cell_type": "code",
   "execution_count": 19,
   "id": "743e334f-984d-4f61-8e6a-b533c414eff9",
   "metadata": {
    "tags": []
   },
   "outputs": [
    {
     "name": "stdout",
     "output_type": "stream",
     "text": [
      "Writing files/understand-io/source/app/main.py\n"
     ]
    }
   ],
   "source": [
    "%%writefile {DIR}/source/app/main.py\n",
    "# a simple passthrough of instance to predictions\n",
    "\n",
    "# packages\n",
    "import os\n",
    "from fastapi import FastAPI, Request\n",
    "import numpy as np\n",
    "\n",
    "# clients\n",
    "app = FastAPI()\n",
    "\n",
    "# Define function for health route\n",
    "@app.get(os.environ['AIP_HEALTH_ROUTE'], status_code=200)\n",
    "def health():\n",
    "    return {}\n",
    "\n",
    "# Define function for prediction route\n",
    "@app.post(os.environ['AIP_PREDICT_ROUTE'])\n",
    "async def predict(request: Request):\n",
    "    # await the request\n",
    "    body = await request.json()\n",
    "    \n",
    "    # parse the request\n",
    "    instances = body[\"instances\"]\n",
    "    \n",
    "    # return the received inputs as the \"predictions\" - a simple pass through\n",
    "    predictions = instances\n",
    "\n",
    "    # this returns just the predicted probabilities:\n",
    "    return {\"predictions\": predictions}"
   ]
  },
  {
   "cell_type": "code",
   "execution_count": 20,
   "id": "f4353b69-33d3-4e10-903c-ef3ddbb9d294",
   "metadata": {
    "tags": []
   },
   "outputs": [
    {
     "name": "stdout",
     "output_type": "stream",
     "text": [
      "Writing files/understand-io/source/app/prestart.sh\n"
     ]
    }
   ],
   "source": [
    "%%writefile {DIR}/source/app/prestart.sh\n",
    "#!/bin/bash\n",
    "export PORT=$AIP_HTTP_PORT"
   ]
  },
  {
   "cell_type": "code",
   "execution_count": 21,
   "id": "8f41e011-5b35-4b6d-b7e5-2d554e713edf",
   "metadata": {
    "tags": []
   },
   "outputs": [],
   "source": [
    "bucket.blob(f'{SERIES}/{EXPERIMENT}/source/Dockerfile').upload_from_filename(f'{DIR}/source/Dockerfile')\n",
    "bucket.blob(f'{SERIES}/{EXPERIMENT}/source/requirements.txt').upload_from_filename(f'{DIR}/source/requirements.txt')\n",
    "bucket.blob(f'{SERIES}/{EXPERIMENT}/source/app/__init__.py').upload_from_filename(f'{DIR}/source/app/__init__.py')\n",
    "bucket.blob(f'{SERIES}/{EXPERIMENT}/source/app/main.py').upload_from_filename(f'{DIR}/source/app/main.py')\n",
    "bucket.blob(f'{SERIES}/{EXPERIMENT}/source/app/prestart.sh').upload_from_filename(f'{DIR}/source/app/prestart.sh')"
   ]
  },
  {
   "cell_type": "code",
   "execution_count": 22,
   "id": "cba9ee5c-ad32-483c-9bc8-4a78ea21cd4d",
   "metadata": {
    "tags": []
   },
   "outputs": [
    {
     "data": {
      "text/plain": [
       "[<Blob: statmike-mlops-349915, mlops-serving/understand-io/source/Dockerfile, 1740159897721281>,\n",
       " <Blob: statmike-mlops-349915, mlops-serving/understand-io/source/app/__init__.py, 1740159897918644>,\n",
       " <Blob: statmike-mlops-349915, mlops-serving/understand-io/source/app/main.py, 1740159897981494>,\n",
       " <Blob: statmike-mlops-349915, mlops-serving/understand-io/source/app/prestart.sh, 1740159898044525>,\n",
       " <Blob: statmike-mlops-349915, mlops-serving/understand-io/source/requirements.txt, 1740159897860198>]"
      ]
     },
     "execution_count": 22,
     "metadata": {},
     "output_type": "execute_result"
    }
   ],
   "source": [
    "list(bucket.list_blobs(prefix = f'{SERIES}/{EXPERIMENT}/source'))"
   ]
  },
  {
   "cell_type": "markdown",
   "id": "b163c5a8-ff1e-416c-8921-5ff632c7e7e0",
   "metadata": {},
   "source": [
    "---\n",
    "### Build Application Container\n",
    "\n",
    "Use the Cloud Build client to construct and run the build instructions. Here the files collected in GCS are copied to the build instance, then the Docker build is run in the folder with the `Dockerfile`. The resulting image is pushed to Artifact Registry (setup above)."
   ]
  },
  {
   "cell_type": "code",
   "execution_count": 23,
   "id": "6eaa09ab-9fef-46b9-bbe6-9feb95cb3227",
   "metadata": {
    "tags": []
   },
   "outputs": [],
   "source": [
    "# setup the build config with empty list of steps - these will be added sequentially\n",
    "build = cloudbuild_v1.Build(\n",
    "    steps = []\n",
    ")\n",
    "# retrieve the source\n",
    "build.steps.append(\n",
    "    {\n",
    "        'name': 'gcr.io/cloud-builders/gsutil',\n",
    "        'args': ['cp', '-r', f'gs://{GCS_BUCKET}/{SERIES}/{EXPERIMENT}/source/*', '/workspace']\n",
    "    }\n",
    ")\n",
    "# docker build\n",
    "build.steps.append(\n",
    "    {\n",
    "        'name': 'gcr.io/cloud-builders/docker',\n",
    "        'args': ['build', '-t', f'{REPOSITORY}/{EXPERIMENT}', '/workspace']\n",
    "    }    \n",
    ")\n",
    "# docker push\n",
    "build.images = [f\"{REPOSITORY}/{EXPERIMENT}\"]"
   ]
  },
  {
   "cell_type": "code",
   "execution_count": 24,
   "id": "14b21611-3de5-4a74-be6c-aa9c5e4aaaca",
   "metadata": {
    "tags": []
   },
   "outputs": [],
   "source": [
    "operation = cb.create_build(\n",
    "    project_id = PROJECT_ID,\n",
    "    build = build\n",
    ")"
   ]
  },
  {
   "cell_type": "code",
   "execution_count": 25,
   "id": "c2498ae0-50e4-406a-bc3f-70e999f7c73a",
   "metadata": {
    "tags": []
   },
   "outputs": [
    {
     "data": {
      "text/plain": [
       "(<Status.SUCCESS: 3>,\n",
       " images: \"us-central1-docker.pkg.dev/statmike-mlops-349915/mlops-serving/understand-io\")"
      ]
     },
     "execution_count": 25,
     "metadata": {},
     "output_type": "execute_result"
    }
   ],
   "source": [
    "build_response = operation.result()\n",
    "build_response.status, build_response.artifacts"
   ]
  },
  {
   "cell_type": "code",
   "execution_count": 26,
   "id": "811f3934-6ee8-41f6-8d4c-8a9d700b0afd",
   "metadata": {
    "tags": []
   },
   "outputs": [
    {
     "data": {
      "text/plain": [
       "'us-central1-docker.pkg.dev/statmike-mlops-349915/mlops-serving/understand-io'"
      ]
     },
     "execution_count": 26,
     "metadata": {},
     "output_type": "execute_result"
    }
   ],
   "source": [
    "build_response.artifacts.images[0]"
   ]
  },
  {
   "cell_type": "markdown",
   "id": "29641cd3-5ade-41d0-b713-9cde4bdd5778",
   "metadata": {
    "tags": []
   },
   "source": [
    "---\n",
    "## Test Locally\n",
    "\n",
    "If Docker is installed and running locally then use it to test the image."
   ]
  },
  {
   "cell_type": "code",
   "execution_count": 27,
   "id": "8cda93bc-fc9e-4129-8fbf-1dbc6682a872",
   "metadata": {
    "tags": []
   },
   "outputs": [
    {
     "name": "stdout",
     "output_type": "stream",
     "text": [
      "Docker is installed and running. Version: 20.10.17\n"
     ]
    }
   ],
   "source": [
    "try:\n",
    "    local_test = True\n",
    "    docker_client = docker.from_env()\n",
    "    if docker_client.ping():\n",
    "        print(f\"Docker is installed and running. Version: {docker_client.version()['Version']}\")\n",
    "except Exception as e:\n",
    "    local_test = False\n",
    "    print('Docker is either not installed or not running - please fix before proceeding.\\nhttps://docs.docker.com/engine/install/')"
   ]
  },
  {
   "cell_type": "markdown",
   "id": "4addd901-8ab7-415e-aa63-4a92515ca41c",
   "metadata": {},
   "source": [
    "### Pull and Run Container\n",
    "\n",
    "Run the container image with:\n",
    "- ports: inside 8080 mapped to outside 80\n",
    "- set environment variables for:\n",
    "    - `AIP_HTTP_PORT` is `8080`\n",
    "    - `AIP_HEALTH_ROUTE` is `/health`\n",
    "    - `AIP_PREDICT_ROUTE` is `/predict`\n",
    "    - `AIP_STORAGE_URI` is the `gs://bucket/path/to/folder`\n",
    "    - `MODULE_NAME` is 'main'\n",
    "        - this actually defaults to main so is not required\n",
    "        - an alternative script with different prediction output is created in `main2.py` above\n",
    "        - use this environment variable to start the container using the alternative script in module `main2`\n",
    "        - see the [FastAPI Docker Image Advanced Usage](https://github.com/tiangolo/uvicorn-gunicorn-fastapi-docker?tab=readme-ov-file#advanced-usage) details"
   ]
  },
  {
   "cell_type": "code",
   "execution_count": 43,
   "id": "4cdaf92f-f156-464b-8869-bdda72f85f77",
   "metadata": {
    "tags": []
   },
   "outputs": [
    {
     "name": "stdout",
     "output_type": "stream",
     "text": [
      "Using existing image ...\n",
      "Starting container ...\n",
      "Container ready.\n",
      "\tUse `container.logs()` to view startup logs.\n"
     ]
    }
   ],
   "source": [
    "if local_test:\n",
    "    # make sure any prior runs are stopped:\n",
    "    try:\n",
    "        container = docker_client.containers.get('local-run')\n",
    "        container.stop()\n",
    "        container.remove()\n",
    "    except docker.errors.NotFound:\n",
    "        pass\n",
    "    \n",
    "    # get image:\n",
    "    image_uri = build_response.artifacts.images[0]\n",
    "    try:\n",
    "        local_image = docker_client.images.get(image_uri)\n",
    "        remote_image = docker_client.images.pull(image_uri)\n",
    "        if local_image.id != remote_image.id:\n",
    "            print('New image found, updating ...')\n",
    "            local_image = remote_image\n",
    "        else:\n",
    "            print('Using existing image ...')\n",
    "    except docker.errors.ImageNotFound:\n",
    "        print('Pulling image ...')\n",
    "        local_image = docker_client.images.pull(image_uri)\n",
    "        \n",
    "    # run container:\n",
    "    print('Starting container ...')\n",
    "    container = docker_client.containers.run(\n",
    "        image = image_uri,\n",
    "        detach = True,\n",
    "        ports = {'8080/tcp':80}, # Map inside:outside (where docker run -p is outside:inside)\n",
    "        name = 'local-run',\n",
    "        environment = {\n",
    "            'AIP_HTTP_PORT': '8080',\n",
    "            'AIP_HEALTH_ROUTE': '/health',\n",
    "            'AIP_PREDICT_ROUTE': '/predict',\n",
    "            'AIP_STORAGE_URI': f'gs://{bucket.name}/{SERIES}/catboost-overview',\n",
    "            'MODULE_NAME': 'main' # try main2 for alternative output\n",
    "        }\n",
    "    )\n",
    "    print('Container ready.\\n\\tUse `container.logs()` to view startup logs.')"
   ]
  },
  {
   "cell_type": "code",
   "execution_count": 47,
   "id": "1b6a2377-6a0d-4b7c-bbf1-e7bf497f82f4",
   "metadata": {
    "tags": []
   },
   "outputs": [],
   "source": [
    "#container.logs()"
   ]
  },
  {
   "cell_type": "markdown",
   "id": "8f2bf252-1d6d-4998-a6e4-ae23b1e1f7bb",
   "metadata": {},
   "source": [
    "### Health Check\n",
    "\n",
    "Want to see `200`:"
   ]
  },
  {
   "cell_type": "code",
   "execution_count": 48,
   "id": "c4abddd4-a479-4554-94c2-c8a20f472e01",
   "metadata": {
    "tags": []
   },
   "outputs": [
    {
     "name": "stdout",
     "output_type": "stream",
     "text": [
      "200\n"
     ]
    }
   ],
   "source": [
    "if local_test:\n",
    "    response = requests.get(f\"http://localhost:80/health\")\n",
    "    print(response.status_code)"
   ]
  },
  {
   "cell_type": "markdown",
   "id": "b9850987-85fe-40ab-b789-090a2ad210c4",
   "metadata": {},
   "source": [
    "### Inference Test"
   ]
  },
  {
   "cell_type": "code",
   "execution_count": 49,
   "id": "9c6e0968-5f79-4621-8e91-dfefaa4d1222",
   "metadata": {
    "tags": []
   },
   "outputs": [],
   "source": [
    "def predict(instances):\n",
    "    url = f\"http://localhost:80/predict\"\n",
    "    headers = {'Content_Type': 'application/json'}\n",
    "    data = json.dumps({'instances': instances})\n",
    "    response = requests.post(url, headers = headers, data = data)    \n",
    "    return json.loads(response.text)"
   ]
  },
  {
   "cell_type": "code",
   "execution_count": 51,
   "id": "5eef1508-9d14-4b47-8d96-7e1ed43fddf7",
   "metadata": {
    "tags": []
   },
   "outputs": [
    {
     "data": {
      "text/plain": [
       "{'predictions': [1]}"
      ]
     },
     "execution_count": 51,
     "metadata": {},
     "output_type": "execute_result"
    }
   ],
   "source": [
    "predict([1])"
   ]
  },
  {
   "cell_type": "code",
   "execution_count": 52,
   "id": "0065c555-1c61-49af-b5cf-824435515f41",
   "metadata": {
    "tags": []
   },
   "outputs": [
    {
     "data": {
      "text/plain": [
       "{'predictions': [1, 2, 3, 4]}"
      ]
     },
     "execution_count": 52,
     "metadata": {},
     "output_type": "execute_result"
    }
   ],
   "source": [
    "predict([1,2,3,4])"
   ]
  },
  {
   "cell_type": "code",
   "execution_count": 54,
   "id": "06d3c296-2e4e-4175-8e07-d59ff60ad5e3",
   "metadata": {
    "tags": []
   },
   "outputs": [
    {
     "data": {
      "text/plain": [
       "{'predictions': [{'key': 'value'}]}"
      ]
     },
     "execution_count": 54,
     "metadata": {},
     "output_type": "execute_result"
    }
   ],
   "source": [
    "predict([{'key':'value'}])"
   ]
  },
  {
   "cell_type": "code",
   "execution_count": 55,
   "id": "7bb3cc09-5bb4-475a-9596-3d732a2ee704",
   "metadata": {
    "tags": []
   },
   "outputs": [
    {
     "data": {
      "text/plain": [
       "{'predictions': [{'key': 'value'}, {'key': 'value2'}]}"
      ]
     },
     "execution_count": 55,
     "metadata": {},
     "output_type": "execute_result"
    }
   ],
   "source": [
    "predict([{'key':'value'}, {'key':'value2'}])"
   ]
  },
  {
   "cell_type": "code",
   "execution_count": 56,
   "id": "af73cdca-5e0f-4d73-ac66-e82124bbd5ba",
   "metadata": {
    "tags": []
   },
   "outputs": [
    {
     "data": {
      "text/plain": [
       "{'predictions': ['gs://path/to/image/image1.jpg']}"
      ]
     },
     "execution_count": 56,
     "metadata": {},
     "output_type": "execute_result"
    }
   ],
   "source": [
    "predict(['gs://path/to/image/image1.jpg'])"
   ]
  },
  {
   "cell_type": "markdown",
   "id": "8e17295c-1e05-4f15-b620-a5852118a38d",
   "metadata": {},
   "source": [
    "### Stop Container"
   ]
  },
  {
   "cell_type": "code",
   "execution_count": 57,
   "id": "da23b453-fcac-4eef-9574-01a31f882ea8",
   "metadata": {
    "tags": []
   },
   "outputs": [
    {
     "data": {
      "text/plain": [
       "'local-run'"
      ]
     },
     "execution_count": 57,
     "metadata": {},
     "output_type": "execute_result"
    }
   ],
   "source": [
    "container.name"
   ]
  },
  {
   "cell_type": "code",
   "execution_count": 58,
   "id": "f32a9ad5-e31f-415b-ac02-08330795a918",
   "metadata": {
    "tags": []
   },
   "outputs": [],
   "source": [
    "container = docker_client.containers.get(container.name)"
   ]
  },
  {
   "cell_type": "code",
   "execution_count": 59,
   "id": "bfdd3aa6-5f09-485b-a280-c9c139618578",
   "metadata": {
    "tags": []
   },
   "outputs": [
    {
     "data": {
      "text/plain": [
       "'running'"
      ]
     },
     "execution_count": 59,
     "metadata": {},
     "output_type": "execute_result"
    }
   ],
   "source": [
    "container.status"
   ]
  },
  {
   "cell_type": "code",
   "execution_count": 60,
   "id": "8f25f55f-0364-4087-a020-f8671dbee328",
   "metadata": {
    "tags": []
   },
   "outputs": [],
   "source": [
    "container.stop()\n",
    "container.remove()"
   ]
  },
  {
   "cell_type": "code",
   "execution_count": null,
   "id": "e00a6762-6a13-4d81-a4d5-29dfaa49404d",
   "metadata": {},
   "outputs": [],
   "source": []
  }
 ],
 "metadata": {
  "environment": {
   "kernel": "conda-base-py",
   "name": "workbench-notebooks.m125",
   "type": "gcloud",
   "uri": "us-docker.pkg.dev/deeplearning-platform-release/gcr.io/workbench-notebooks:m125"
  },
  "kernelspec": {
   "display_name": "Python 3 (ipykernel) (Local)",
   "language": "python",
   "name": "conda-base-py"
  },
  "language_info": {
   "codemirror_mode": {
    "name": "ipython",
    "version": 3
   },
   "file_extension": ".py",
   "mimetype": "text/x-python",
   "name": "python",
   "nbconvert_exporter": "python",
   "pygments_lexer": "ipython3",
   "version": "3.10.15"
  }
 },
 "nbformat": 4,
 "nbformat_minor": 5
}
