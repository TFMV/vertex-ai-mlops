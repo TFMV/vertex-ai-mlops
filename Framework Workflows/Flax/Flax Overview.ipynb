{
 "cells": [
  {
   "cell_type": "markdown",
   "id": "1fac6536-68ce-4a27-926c-3af08ffccdd1",
   "metadata": {},
   "source": [
    "# Flax Overview\n",
    "\n",
    "This workflow replicates the Keras 3 with JAX backend in this workflow: [Keras With JAX Overview](../Keras/Keras%20With%20JAX%20Overview.ipynb)"
   ]
  },
  {
   "cell_type": "code",
   "execution_count": null,
   "id": "05c1bf98-e34b-4d59-b743-7cd6eee3351c",
   "metadata": {},
   "outputs": [],
   "source": []
  }
 ],
 "metadata": {
  "environment": {
   "kernel": "",
   "name": "workbench-notebooks.m125",
   "type": "gcloud",
   "uri": "us-docker.pkg.dev/deeplearning-platform-release/gcr.io/workbench-notebooks:m125"
  },
  "kernelspec": {
   "display_name": "",
   "name": ""
  },
  "language_info": {
   "name": ""
  }
 },
 "nbformat": 4,
 "nbformat_minor": 5
}
