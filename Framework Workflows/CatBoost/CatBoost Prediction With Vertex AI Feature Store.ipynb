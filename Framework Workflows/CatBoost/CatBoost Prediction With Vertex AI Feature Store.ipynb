{
 "cells": [
  {
   "cell_type": "markdown",
   "id": "1cfb5519",
   "metadata": {},
   "source": [
    "![tracker](https://us-central1-vertex-ai-mlops-369716.cloudfunctions.net/pixel-tracking?path=statmike%2Fvertex-ai-mlops%2FFramework+Workflows%2FCatBoost&file=CatBoost+Prediction+With+Vertex+AI+Feature+Store.ipynb)\n",
    "<!--- header table --->\n",
    "<table align=\"left\">\n",
    "  <td style=\"text-align: center\">\n",
    "    <a href=\"https://colab.research.google.com/github/statmike/vertex-ai-mlops/blob/main/Framework%20Workflows/CatBoost/CatBoost%20Prediction%20With%20Vertex%20AI%20Feature%20Store.ipynb\">\n",
    "      <img src=\"https://cloud.google.com/ml-engine/images/colab-logo-32px.png\" alt=\"Google Colaboratory logo\">\n",
    "      <br>Run in<br>Colab\n",
    "    </a>\n",
    "  </td>\n",
    "  <td style=\"text-align: center\">\n",
    "    <a href=\"https://console.cloud.google.com/vertex-ai/colab/import/https%3A%2F%2Fraw.githubusercontent.com%2Fstatmike%2Fvertex-ai-mlops%2Fmain%2FFramework%2520Workflows%2FCatBoost%2FCatBoost%2520Prediction%2520With%2520Vertex%2520AI%2520Feature%2520Store.ipynb\">\n",
    "      <img width=\"32px\" src=\"https://lh3.googleusercontent.com/JmcxdQi-qOpctIvWKgPtrzZdJJK-J3sWE1RsfjZNwshCFgE_9fULcNpuXYTilIR2hjwN\" alt=\"Google Cloud Colab Enterprise logo\">\n",
    "      <br>Run in<br>Colab Enterprise\n",
    "    </a>\n",
    "  </td>      \n",
    "  <td style=\"text-align: center\">\n",
    "    <a href=\"https://github.com/statmike/vertex-ai-mlops/blob/main/Framework%20Workflows/CatBoost/CatBoost%20Prediction%20With%20Vertex%20AI%20Feature%20Store.ipynb\">\n",
    "      <img src=\"https://cloud.google.com/ml-engine/images/github-logo-32px.png\" alt=\"GitHub logo\">\n",
    "      <br>View on<br>GitHub\n",
    "    </a>\n",
    "  </td>\n",
    "  <td style=\"text-align: center\">\n",
    "    <a href=\"https://console.cloud.google.com/vertex-ai/workbench/deploy-notebook?download_url=https://raw.githubusercontent.com/statmike/vertex-ai-mlops/main/Framework%20Workflows/CatBoost/CatBoost%20Prediction%20With%20Vertex%20AI%20Feature%20Store.ipynb\">\n",
    "      <img src=\"https://lh3.googleusercontent.com/UiNooY4LUgW_oTvpsNhPpQzsstV5W8F7rYgxgGBD85cWJoLmrOzhVs_ksK_vgx40SHs7jCqkTkCk=e14-rj-sc0xffffff-h130-w32\" alt=\"Vertex AI logo\">\n",
    "      <br>Open in<br>Vertex AI Workbench\n",
    "    </a>\n",
    "  </td>\n",
    "</table>"
   ]
  },
  {
   "cell_type": "markdown",
   "id": "6cb89d04-8870-46db-a4fc-9289a2bb34f2",
   "metadata": {},
   "source": [
    "# CatBoost Prediction With Vertex AI Feature Store"
   ]
  },
  {
   "cell_type": "markdown",
   "id": "e74ce9c2-6ced-4e4a-971a-ead35777033a",
   "metadata": {
    "id": "od_UkDpvRmgD",
    "tags": []
   },
   "source": [
    "---\n",
    "## Colab Setup\n",
    "\n",
    "To run this notebook in Colab run the cells in this section.  Otherwise, skip this section.\n",
    "\n",
    "This cell will authenticate to GCP (follow prompts in the popup)."
   ]
  },
  {
   "cell_type": "code",
   "execution_count": 1,
   "id": "c81b95f8-f452-4664-8177-832c2e8abd4e",
   "metadata": {
    "executionInfo": {
     "elapsed": 195,
     "status": "ok",
     "timestamp": 1683726184843,
     "user": {
      "displayName": "Mike Henderson",
      "userId": "07691629187611687318"
     },
     "user_tz": 240
    },
    "id": "8UO9FnqyKBlF",
    "tags": []
   },
   "outputs": [],
   "source": [
    "PROJECT_ID = 'statmike-mlops-349915' # replace with project ID"
   ]
  },
  {
   "cell_type": "code",
   "execution_count": 2,
   "id": "e84c4914-8621-4638-bc85-a261c9a17c81",
   "metadata": {
    "colab": {
     "base_uri": "https://localhost:8080/"
    },
    "executionInfo": {
     "elapsed": 68869,
     "status": "ok",
     "timestamp": 1683726253709,
     "user": {
      "displayName": "Mike Henderson",
      "userId": "07691629187611687318"
     },
     "user_tz": 240
    },
    "id": "N98-KK7LRkjm",
    "outputId": "09ec5008-0def-4e1a-c349-c598ee752f78",
    "tags": []
   },
   "outputs": [],
   "source": [
    "try:\n",
    "    import google.colab\n",
    "    from google.colab import auth\n",
    "    auth.authenticate_user()\n",
    "    !gcloud config set project {PROJECT_ID}\n",
    "except Exception:\n",
    "    pass"
   ]
  },
  {
   "cell_type": "markdown",
   "id": "4a8e0de7-70a5-4dc4-ad3d-9d4082cc5a56",
   "metadata": {},
   "source": [
    "---\n",
    "## Installs\n",
    "\n",
    "The list `packages` contains tuples of package import names and install names.  If the import name is not found then the install name is used to install quitely for the current user."
   ]
  },
  {
   "cell_type": "code",
   "execution_count": 22,
   "id": "872d2193-a4d3-446b-a21f-0b84e832bc00",
   "metadata": {
    "tags": []
   },
   "outputs": [],
   "source": [
    "# tuples of (import name, install name, min_version)\n",
    "packages = [\n",
    "    ('numpy', 'numpy'),\n",
    "    ('catboost', 'catboost'),\n",
    "    ('docker', 'docker'),\n",
    "    ('google.cloud.aiplatform', 'google-cloud-aiplatform'),\n",
    "    ('google.cloud.bigquery', 'google-cloud-bigquery'),\n",
    "    ('google.cloud.storage', 'google-cloud-storage'),\n",
    "    ('google.cloud.artifactregistry_v1', 'google-cloud-artifact-registry'),\n",
    "    ('google.cloud.devtools', 'google-cloud-build'),\n",
    "    ('google.cloud.run_v2', 'google-cloud-run'),   \n",
    "]\n",
    "\n",
    "import importlib\n",
    "install = False\n",
    "for package in packages:\n",
    "    if not importlib.util.find_spec(package[0]):\n",
    "        print(f'installing package {package[1]}')\n",
    "        install = True\n",
    "        !pip install {package[1]} -U -q --user\n",
    "    elif len(package) == 3:\n",
    "        if importlib.metadata.version(package[0]) < package[2]:\n",
    "            print(f'updating package {package[1]}')\n",
    "            install = True\n",
    "            !pip install {package[1]} -U -q --user"
   ]
  },
  {
   "cell_type": "markdown",
   "id": "603a58c1-5efb-4895-90c5-92dabd42675a",
   "metadata": {},
   "source": [
    "### API Enablement"
   ]
  },
  {
   "cell_type": "code",
   "execution_count": 4,
   "id": "15cdecc5-82dd-47dd-a533-94ca72f4eb11",
   "metadata": {
    "tags": []
   },
   "outputs": [],
   "source": [
    "!gcloud services enable artifactregistry.googleapis.com\n",
    "!gcloud services enable cloudbuild.googleapis.com\n",
    "!gcloud services enable run.googleapis.com"
   ]
  },
  {
   "cell_type": "markdown",
   "id": "c8902533-42e4-46df-a21f-b5010c5ea2c8",
   "metadata": {},
   "source": [
    "### Restart Kernel (If Installs Occured)\n",
    "\n",
    "After a kernel restart the code submission can start with the next cell after this one."
   ]
  },
  {
   "cell_type": "code",
   "execution_count": 5,
   "id": "77aeee3d-d013-4a06-8113-be0e53d4c1b2",
   "metadata": {
    "tags": []
   },
   "outputs": [],
   "source": [
    "if install:\n",
    "    import IPython\n",
    "    app = IPython.Application.instance()\n",
    "    app.kernel.do_shutdown(True)\n",
    "    IPython.display.display(IPython.display.Markdown(\"\"\"<div class=\\\"alert alert-block alert-warning\\\">\n",
    "        <b>⚠️ The kernel is going to restart. Please wait until it is finished before continuing to the next step. The previous cells do not need to be run again⚠️</b>\n",
    "        </div>\"\"\"))"
   ]
  },
  {
   "cell_type": "markdown",
   "id": "4581e5d6-11d7-4d5a-a8f2-b9b1059b182d",
   "metadata": {},
   "source": [
    "---\n",
    "## Setup"
   ]
  },
  {
   "cell_type": "markdown",
   "id": "578c3b68-22ac-4351-975c-6e4d274c9acb",
   "metadata": {},
   "source": [
    "inputs:"
   ]
  },
  {
   "cell_type": "code",
   "execution_count": 6,
   "id": "989c8bb8-96c4-406d-9c4a-b16328cf0d9a",
   "metadata": {
    "tags": []
   },
   "outputs": [
    {
     "data": {
      "text/plain": [
       "'statmike-mlops-349915'"
      ]
     },
     "execution_count": 6,
     "metadata": {},
     "output_type": "execute_result"
    }
   ],
   "source": [
    "project = !gcloud config get-value project\n",
    "PROJECT_ID = project[0]\n",
    "PROJECT_ID"
   ]
  },
  {
   "cell_type": "code",
   "execution_count": 19,
   "id": "b84f0eb9-080e-47eb-932e-c1c30d1ad140",
   "metadata": {
    "tags": []
   },
   "outputs": [],
   "source": [
    "REGION = 'us-central1'\n",
    "SERIES = 'frameworks-catboost'\n",
    "EXPERIMENT = 'prediction-feature-store'\n",
    "\n",
    "# GCS Names\n",
    "GCS_BUCKET = PROJECT_ID\n",
    "\n",
    "# make this the BigQuery Project / Dataset / Table prefix to store results\n",
    "BQ_PROJECT = PROJECT_ID\n",
    "BQ_DATASET = SERIES.replace('-', '_')\n",
    "BQ_TABLE = EXPERIMENT\n",
    "BQ_REGION = REGION[0:2]\n",
    "\n",
    "# Vertex AI Feature Store names:\n",
    "FS_NAME = PROJECT_ID.replace('-', '_')\n",
    "FV_NAME = f\"{SERIES}-{EXPERIMENT}\".replace('-', '_')"
   ]
  },
  {
   "cell_type": "markdown",
   "id": "ad6a6565-91b0-4767-89c4-a070dcd16409",
   "metadata": {},
   "source": [
    "packages:"
   ]
  },
  {
   "cell_type": "code",
   "execution_count": 46,
   "id": "4ed1e444-3908-4118-aef6-2880f67a8e2b",
   "metadata": {
    "tags": []
   },
   "outputs": [],
   "source": [
    "import json, os\n",
    "import time, datetime\n",
    "import requests\n",
    "\n",
    "import catboost \n",
    "import numpy as np\n",
    "import docker\n",
    "\n",
    "import google.auth\n",
    "from google.cloud import storage\n",
    "from google.cloud import artifactregistry_v1\n",
    "from google.cloud.devtools import cloudbuild_v1\n",
    "from google.cloud import run_v2\n",
    "from google.cloud import bigquery\n",
    "\n",
    "from google.cloud import aiplatform\n",
    "from vertexai.resources.preview import feature_store"
   ]
  },
  {
   "cell_type": "markdown",
   "id": "894458bc-77e6-4c28-a74e-3180d9d83776",
   "metadata": {},
   "source": [
    "clients:"
   ]
  },
  {
   "cell_type": "code",
   "execution_count": 24,
   "id": "028a565c-f725-4395-b4e8-05fc59a96a11",
   "metadata": {
    "tags": []
   },
   "outputs": [],
   "source": [
    "# gcs storage client\n",
    "gcs = storage.Client(project = GCS_BUCKET)\n",
    "bucket = gcs.bucket(GCS_BUCKET)\n",
    "\n",
    "# cloud build client\n",
    "cb = cloudbuild_v1.CloudBuildClient()\n",
    "\n",
    "# artifact registry client\n",
    "ar = artifactregistry_v1.ArtifactRegistryClient()\n",
    "\n",
    "# cloud run client\n",
    "cr = run_v2.ServicesClient()\n",
    "\n",
    "# BigQuery client\n",
    "bq = bigquery.Client(project = PROJECT_ID)\n",
    "\n",
    "# vertex ai client\n",
    "aiplatform.init(project = PROJECT_ID, location = REGION)"
   ]
  },
  {
   "cell_type": "markdown",
   "id": "48f70c07-e258-4e9c-95d5-b006137ee80b",
   "metadata": {},
   "source": [
    "Parameters:"
   ]
  },
  {
   "cell_type": "code",
   "execution_count": 10,
   "id": "6742dfd7-5319-4857-9299-4666a0ad3336",
   "metadata": {
    "tags": []
   },
   "outputs": [],
   "source": [
    "DIR = f\"files/{EXPERIMENT}\""
   ]
  },
  {
   "cell_type": "markdown",
   "id": "be1bf407-de9a-4ae3-bac4-49873e004691",
   "metadata": {},
   "source": [
    "Environment:"
   ]
  },
  {
   "cell_type": "code",
   "execution_count": 11,
   "id": "3f360519-4393-47ba-93aa-651eac1b2a86",
   "metadata": {
    "tags": []
   },
   "outputs": [],
   "source": [
    "if not os.path.exists(DIR):\n",
    "    os.makedirs(DIR)"
   ]
  },
  {
   "cell_type": "markdown",
   "id": "b5d086fb-d441-4fc6-9e8d-487e3ad51a1c",
   "metadata": {},
   "source": [
    "---\n",
    "## CatBoost Model\n",
    "\n",
    "Retrieve the model trained in prior workflow along with test records.  Test the model directly in this environment."
   ]
  },
  {
   "cell_type": "markdown",
   "id": "19f411a2-97c3-4048-8184-476c9bd489e6",
   "metadata": {},
   "source": [
    "### Check For Files"
   ]
  },
  {
   "cell_type": "code",
   "execution_count": 12,
   "id": "068b8a1a-578c-451a-ad4f-4cc5c9600593",
   "metadata": {
    "tags": []
   },
   "outputs": [
    {
     "name": "stdout",
     "output_type": "stream",
     "text": [
      "Found the files created by the prerequisite workflow:\n",
      "- gs://statmike-mlops-349915/frameworks-catboost/notebook/examples.json\n",
      "- gs://statmike-mlops-349915/frameworks-catboost/notebook/model.cbm\n"
     ]
    }
   ],
   "source": [
    "files = list(bucket.list_blobs(prefix = f'{SERIES}/notebook'))\n",
    "if len(files) > 0:\n",
    "    print('Found the files created by the prerequisite workflow:')\n",
    "    for file in files:\n",
    "        print(f'- gs://{bucket.name}/{file.name}')\n",
    "else:\n",
    "    print('Files note found - Please run the prerequisite notebook (listed at top of this workflow)')"
   ]
  },
  {
   "cell_type": "markdown",
   "id": "fba878d7-00aa-40d3-b0a3-d273bd72a79c",
   "metadata": {},
   "source": [
    "### Load Model"
   ]
  },
  {
   "cell_type": "code",
   "execution_count": 13,
   "id": "e42a61e4-4e50-4995-b4a0-0ec82f49d2c1",
   "metadata": {
    "tags": []
   },
   "outputs": [],
   "source": [
    "model_blob = bucket.blob(f'{SERIES}/notebook/model.cbm')\n",
    "model_bytes = model_blob.download_as_bytes()\n",
    "model = catboost.CatBoostClassifier().load_model(blob = model_bytes)"
   ]
  },
  {
   "cell_type": "markdown",
   "id": "fb107fd9-fa55-4bde-bf4d-6a44ab438f33",
   "metadata": {},
   "source": [
    "### Load Inference Examples"
   ]
  },
  {
   "cell_type": "code",
   "execution_count": 14,
   "id": "1e5e1207-7889-45d5-9883-7676d7dced00",
   "metadata": {
    "tags": []
   },
   "outputs": [],
   "source": [
    "examples_blob = bucket.blob(f'{SERIES}/notebook/examples.json')\n",
    "examples_np = np.array(\n",
    "    json.loads(examples_blob.download_as_string())\n",
    ")"
   ]
  },
  {
   "cell_type": "markdown",
   "id": "49551796-e761-4cf0-ab54-1dd519bc0ab6",
   "metadata": {},
   "source": [
    "### Test Model With Examples"
   ]
  },
  {
   "cell_type": "code",
   "execution_count": 15,
   "id": "c7789d73-0e6a-4d88-8b36-fdce0084db9c",
   "metadata": {
    "tags": []
   },
   "outputs": [
    {
     "data": {
      "text/plain": [
       "array([1, 1, 1, 1, 0, 0, 1, 1, 1, 1])"
      ]
     },
     "execution_count": 15,
     "metadata": {},
     "output_type": "execute_result"
    }
   ],
   "source": [
    "model.predict(examples_np)"
   ]
  },
  {
   "cell_type": "code",
   "execution_count": 18,
   "id": "49b66ed2-9124-4ced-bc66-5e0f4a990c1a",
   "metadata": {
    "tags": []
   },
   "outputs": [
    {
     "data": {
      "text/plain": [
       "['Time',\n",
       " 'V1',\n",
       " 'V2',\n",
       " 'V3',\n",
       " 'V4',\n",
       " 'V5',\n",
       " 'V6',\n",
       " 'V7',\n",
       " 'V8',\n",
       " 'V9',\n",
       " 'V10',\n",
       " 'V11',\n",
       " 'V12',\n",
       " 'V13',\n",
       " 'V14',\n",
       " 'V15',\n",
       " 'V16',\n",
       " 'V17',\n",
       " 'V18',\n",
       " 'V19',\n",
       " 'V20',\n",
       " 'V21',\n",
       " 'V22',\n",
       " 'V23',\n",
       " 'V24',\n",
       " 'V25',\n",
       " 'V26',\n",
       " 'V27',\n",
       " 'V28',\n",
       " 'Amount']"
      ]
     },
     "execution_count": 18,
     "metadata": {},
     "output_type": "execute_result"
    }
   ],
   "source": [
    "model.feature_names_"
   ]
  },
  {
   "cell_type": "markdown",
   "id": "79c7de77-a606-4eef-9b91-ca2057ff6e5c",
   "metadata": {},
   "source": [
    "---\n",
    "## BigQuery - The Offline Store For Vertex AI Feature Store\n",
    "\n",
    "The offline store for [Vertex AI Feature Store](https://cloud.google.com/vertex-ai/docs/featurestore/latest/overview) is BigQuery.  This streamlines ML feature management prior to serving online with feature store.  The data used to train this model in [CatBoost In Notebook](./CatBoost%20In%20Notebook.ipynb) actually came from BigQuery already.\n",
    "\n",
    "This section prepares a version of the BigQuery public table used in the training notebook as a table with an id column to identify individual rows - `transaction_id`."
   ]
  },
  {
   "cell_type": "markdown",
   "id": "064da4ce-cc8e-43bb-9d1d-372a7f0ffe14",
   "metadata": {},
   "source": [
    "### Create/Recall Dataset"
   ]
  },
  {
   "cell_type": "code",
   "execution_count": 25,
   "id": "e9eb6b67-b865-48e1-9d96-687606743c77",
   "metadata": {
    "tags": []
   },
   "outputs": [],
   "source": [
    "dataset = bigquery.Dataset(f\"{BQ_PROJECT}.{BQ_DATASET}\")\n",
    "dataset.location = BQ_REGION\n",
    "bq_dataset = bq.create_dataset(dataset, exists_ok = True)"
   ]
  },
  {
   "cell_type": "markdown",
   "id": "7074cc76-c391-4a57-94c4-6110a23405c9",
   "metadata": {},
   "source": [
    "### Create/Recall Table"
   ]
  },
  {
   "cell_type": "code",
   "execution_count": 27,
   "id": "31281b30-5e77-4133-8c94-d659e1c4c8c9",
   "metadata": {
    "tags": []
   },
   "outputs": [
    {
     "data": {
      "text/plain": [
       "<google.cloud.bigquery.table._EmptyRowIterator at 0x7fa919c827a0>"
      ]
     },
     "execution_count": 27,
     "metadata": {},
     "output_type": "execute_result"
    }
   ],
   "source": [
    "query = f\"\"\"\n",
    "    CREATE TABLE IF NOT EXISTS `{BQ_PROJECT}.{BQ_DATASET}.{BQ_TABLE}` AS\n",
    "    SELECT GENERATE_UUID() AS transaction_id, *\n",
    "    FROM `bigquery-public-data.ml_datasets.ulb_fraud_detection`;\n",
    "\"\"\"\n",
    "job = bq.query(query = query)\n",
    "job.result()"
   ]
  },
  {
   "cell_type": "code",
   "execution_count": 29,
   "id": "00ba7311-d4fe-460e-9c71-18162a1d8223",
   "metadata": {
    "tags": []
   },
   "outputs": [
    {
     "data": {
      "text/plain": [
       "9.254"
      ]
     },
     "execution_count": 29,
     "metadata": {},
     "output_type": "execute_result"
    }
   ],
   "source": [
    "(job.ended - job.started).total_seconds()"
   ]
  },
  {
   "cell_type": "markdown",
   "id": "6f57e0fb-4544-4e55-8a33-a0dee92f7e9d",
   "metadata": {},
   "source": [
    "### Review BigQuery Table"
   ]
  },
  {
   "cell_type": "code",
   "execution_count": 31,
   "id": "4610b653-98af-479c-b13a-734ae65e5fcc",
   "metadata": {
    "tags": []
   },
   "outputs": [
    {
     "data": {
      "text/html": [
       "<div>\n",
       "<style scoped>\n",
       "    .dataframe tbody tr th:only-of-type {\n",
       "        vertical-align: middle;\n",
       "    }\n",
       "\n",
       "    .dataframe tbody tr th {\n",
       "        vertical-align: top;\n",
       "    }\n",
       "\n",
       "    .dataframe thead th {\n",
       "        text-align: right;\n",
       "    }\n",
       "</style>\n",
       "<table border=\"1\" class=\"dataframe\">\n",
       "  <thead>\n",
       "    <tr style=\"text-align: right;\">\n",
       "      <th></th>\n",
       "      <th>transaction_id</th>\n",
       "      <th>Time</th>\n",
       "      <th>V1</th>\n",
       "      <th>V2</th>\n",
       "      <th>V3</th>\n",
       "      <th>V4</th>\n",
       "      <th>V5</th>\n",
       "      <th>V6</th>\n",
       "      <th>V7</th>\n",
       "      <th>V8</th>\n",
       "      <th>...</th>\n",
       "      <th>V21</th>\n",
       "      <th>V22</th>\n",
       "      <th>V23</th>\n",
       "      <th>V24</th>\n",
       "      <th>V25</th>\n",
       "      <th>V26</th>\n",
       "      <th>V27</th>\n",
       "      <th>V28</th>\n",
       "      <th>Amount</th>\n",
       "      <th>Class</th>\n",
       "    </tr>\n",
       "  </thead>\n",
       "  <tbody>\n",
       "    <tr>\n",
       "      <th>0</th>\n",
       "      <td>3a21a7e6-4b33-4fce-b7da-289d16146df3</td>\n",
       "      <td>115285.0</td>\n",
       "      <td>-0.992995</td>\n",
       "      <td>0.594899</td>\n",
       "      <td>1.613710</td>\n",
       "      <td>2.939088</td>\n",
       "      <td>1.675179</td>\n",
       "      <td>0.327479</td>\n",
       "      <td>0.328362</td>\n",
       "      <td>0.207276</td>\n",
       "      <td>...</td>\n",
       "      <td>0.156509</td>\n",
       "      <td>0.445081</td>\n",
       "      <td>-0.364915</td>\n",
       "      <td>-0.640996</td>\n",
       "      <td>0.401665</td>\n",
       "      <td>0.180925</td>\n",
       "      <td>0.081706</td>\n",
       "      <td>0.134099</td>\n",
       "      <td>0.0</td>\n",
       "      <td>0</td>\n",
       "    </tr>\n",
       "    <tr>\n",
       "      <th>1</th>\n",
       "      <td>cb06dca2-6573-4fa9-a51e-42ae1bbbaeba</td>\n",
       "      <td>91543.0</td>\n",
       "      <td>-0.929128</td>\n",
       "      <td>2.514791</td>\n",
       "      <td>-2.878171</td>\n",
       "      <td>-0.197500</td>\n",
       "      <td>0.709615</td>\n",
       "      <td>0.097873</td>\n",
       "      <td>-3.285721</td>\n",
       "      <td>-11.169795</td>\n",
       "      <td>...</td>\n",
       "      <td>-4.757274</td>\n",
       "      <td>2.759508</td>\n",
       "      <td>0.350877</td>\n",
       "      <td>-0.008925</td>\n",
       "      <td>-0.196056</td>\n",
       "      <td>0.320867</td>\n",
       "      <td>0.045830</td>\n",
       "      <td>0.503654</td>\n",
       "      <td>0.0</td>\n",
       "      <td>0</td>\n",
       "    </tr>\n",
       "    <tr>\n",
       "      <th>2</th>\n",
       "      <td>621d7cfc-278e-41d5-a533-c3cdb0e68b44</td>\n",
       "      <td>141273.0</td>\n",
       "      <td>2.147444</td>\n",
       "      <td>0.200913</td>\n",
       "      <td>-2.664948</td>\n",
       "      <td>0.195083</td>\n",
       "      <td>1.234707</td>\n",
       "      <td>-0.832371</td>\n",
       "      <td>0.870348</td>\n",
       "      <td>-0.420298</td>\n",
       "      <td>...</td>\n",
       "      <td>0.282831</td>\n",
       "      <td>0.953374</td>\n",
       "      <td>-0.212726</td>\n",
       "      <td>0.384479</td>\n",
       "      <td>0.735806</td>\n",
       "      <td>0.696998</td>\n",
       "      <td>-0.131764</td>\n",
       "      <td>-0.100937</td>\n",
       "      <td>0.0</td>\n",
       "      <td>0</td>\n",
       "    </tr>\n",
       "  </tbody>\n",
       "</table>\n",
       "<p>3 rows × 32 columns</p>\n",
       "</div>"
      ],
      "text/plain": [
       "                         transaction_id      Time        V1        V2  \\\n",
       "0  3a21a7e6-4b33-4fce-b7da-289d16146df3  115285.0 -0.992995  0.594899   \n",
       "1  cb06dca2-6573-4fa9-a51e-42ae1bbbaeba   91543.0 -0.929128  2.514791   \n",
       "2  621d7cfc-278e-41d5-a533-c3cdb0e68b44  141273.0  2.147444  0.200913   \n",
       "\n",
       "         V3        V4        V5        V6        V7         V8  ...       V21  \\\n",
       "0  1.613710  2.939088  1.675179  0.327479  0.328362   0.207276  ...  0.156509   \n",
       "1 -2.878171 -0.197500  0.709615  0.097873 -3.285721 -11.169795  ... -4.757274   \n",
       "2 -2.664948  0.195083  1.234707 -0.832371  0.870348  -0.420298  ...  0.282831   \n",
       "\n",
       "        V22       V23       V24       V25       V26       V27       V28  \\\n",
       "0  0.445081 -0.364915 -0.640996  0.401665  0.180925  0.081706  0.134099   \n",
       "1  2.759508  0.350877 -0.008925 -0.196056  0.320867  0.045830  0.503654   \n",
       "2  0.953374 -0.212726  0.384479  0.735806  0.696998 -0.131764 -0.100937   \n",
       "\n",
       "   Amount  Class  \n",
       "0     0.0      0  \n",
       "1     0.0      0  \n",
       "2     0.0      0  \n",
       "\n",
       "[3 rows x 32 columns]"
      ]
     },
     "execution_count": 31,
     "metadata": {},
     "output_type": "execute_result"
    }
   ],
   "source": [
    "bq.query(f\"SELECT * FROM `{BQ_PROJECT}.{BQ_DATASET}.{BQ_TABLE}` LIMIT 3\").to_dataframe()"
   ]
  },
  {
   "cell_type": "markdown",
   "id": "a57db3e6-6d4c-4d5f-96b8-9c5825c01bc3",
   "metadata": {},
   "source": [
    "### Get A List of `transaction_id` Values For Testing\n",
    "\n",
    "Get a list of `transaction_id` values to use later in this workflow:"
   ]
  },
  {
   "cell_type": "code",
   "execution_count": 50,
   "id": "022ad515-b3e1-405e-9ec1-671c9badfeb7",
   "metadata": {
    "tags": []
   },
   "outputs": [],
   "source": [
    "transaction_ids = bq.query(f\"SELECT transaction_id FROM `{BQ_PROJECT}.{BQ_DATASET}.{BQ_TABLE}` WHERE Class = 1 LIMIT 10\").to_dataframe()['transaction_id'].tolist()"
   ]
  },
  {
   "cell_type": "code",
   "execution_count": 51,
   "id": "b3273f39-a387-4f8c-bf8e-0fb933dc1714",
   "metadata": {
    "tags": []
   },
   "outputs": [
    {
     "data": {
      "text/plain": [
       "['ac53e6ca-f676-48fa-94cc-9a35972f838d',\n",
       " 'dcadf588-4079-474f-b0b6-5872949ab2bf',\n",
       " 'cff98a84-d59e-4782-a830-85719d1bc568',\n",
       " '342e315a-baad-469c-b940-68cdffe5b250',\n",
       " '920807da-79dc-408e-9aed-da8ce7da0ec7',\n",
       " '806c0df5-a785-4562-addd-2a0fcbd03273',\n",
       " '0953278e-e1cc-4895-91bf-dfb2e79e86e4',\n",
       " '1a380124-4ca5-41b4-afc0-18fb4478a76e',\n",
       " 'fb15047a-d389-48c3-8b3b-c4faba32a418',\n",
       " 'e12d9f95-f115-4d7f-8da8-437c584c5740']"
      ]
     },
     "execution_count": 51,
     "metadata": {},
     "output_type": "execute_result"
    }
   ],
   "source": [
    "transaction_ids"
   ]
  },
  {
   "cell_type": "markdown",
   "id": "32cbfc7d-0985-4758-9b13-080d4871b6b4",
   "metadata": {},
   "source": [
    "---\n",
    "## Understanding Vertex AI Feature Store\n",
    "\n",
    "The next sections will setup online serving for the BigQuery table with [Vertex AI Feature Store](https://cloud.google.com/vertex-ai/docs/featurestore/latest/overview). This workflow takes the shortest path of synchronizing a BigQuery table to feature store.  There are more flexible paths as well using the Feature Registry where features across multiple tables and views can come together in a single serving structure called a feature view.  You can read more about this within the [MLOps](../../MLOps/readme.md) section of this repository, which includes a deep dive into [feature stores](../../MLOps/Feature%20Store/readme.md).\n",
    "\n",
    "<p align=\"center\" ><center>\n",
    "    <img src=\"../../MLOps/resources/images/created/featurestore/overview.png\" width=\"75%\">\n",
    "</center></p>"
   ]
  },
  {
   "cell_type": "markdown",
   "id": "ccd1ba12-e9c1-4e0b-8b65-966efff05f82",
   "metadata": {
    "tags": []
   },
   "source": [
    "---\n",
    "## Setup Vertex AI Feature Store"
   ]
  },
  {
   "cell_type": "markdown",
   "id": "c748b80f-96f8-44f9-a075-3b7269ae7999",
   "metadata": {},
   "source": [
    "### Create/Retrieve Online Store\n",
    "\n",
    "The first step is to create a Vertex AI Feature Store.  There are two serving types to choose from when setting up a feature store: Bigtable and Optimized.  For this work the Optimized online serving is picked which can even [provide vector similarity search](https://cloud.google.com/vertex-ai/docs/featurestore/latest/embeddings-search) functionality that Bigtable serving does not.\n",
    ">**NOTE:** This can take around 10 minutes if creating a new feature store instance\n",
    "\n",
    "**Reference:**\n",
    "- [Create an Online Store Instance](https://cloud.google.com/vertex-ai/docs/featurestore/latest/create-onlinestore)\n",
    "- [Online Serving Types](https://cloud.google.com/vertex-ai/docs/featurestore/latest/online-serving-types)"
   ]
  },
  {
   "cell_type": "code",
   "execution_count": 36,
   "id": "80913176-6198-4aa7-8b6a-e32088b1f659",
   "metadata": {
    "tags": []
   },
   "outputs": [
    {
     "name": "stdout",
     "output_type": "stream",
     "text": [
      "Found the feature store:\n",
      "projects/1026793852137/locations/us-central1/featureOnlineStores/statmike_mlops_349915\n"
     ]
    }
   ],
   "source": [
    "try:\n",
    "    online_store = feature_store.FeatureOnlineStore(name = FS_NAME)\n",
    "    print(f\"Found the feature store:\\n{online_store.resource_name}\")\n",
    "except Exception:\n",
    "    print(\"Create the feature store...\")\n",
    "    online_store = feature_store.FeatureOnlineStore.create_optimized_store(\n",
    "        name = FS_NAME\n",
    "    )\n",
    "    print(f\"Create the feature store:\\n{online_store.resource_name}\")"
   ]
  },
  {
   "cell_type": "code",
   "execution_count": 37,
   "id": "4c9d936e-9d2f-46f5-9566-3a8a56cc1295",
   "metadata": {
    "tags": []
   },
   "outputs": [
    {
     "data": {
      "text/plain": [
       "'statmike_mlops_349915'"
      ]
     },
     "execution_count": 37,
     "metadata": {},
     "output_type": "execute_result"
    }
   ],
   "source": [
    "online_store.name"
   ]
  },
  {
   "cell_type": "markdown",
   "id": "3e555dc0-ea41-4859-bd55-11cdfd21d994",
   "metadata": {},
   "source": [
    "### Create/Retrieve Feature View From BigQuery Source\n",
    "\n",
    "There are two paths to [creating feature views](https://cloud.google.com/vertex-ai/docs/featurestore/latest/create-featureview) in feature store. The one used here is syncing a BigQuery table or view directly to the online store. The alternative involves using the feature registry which gives greater control of selecting features (columns) form multiple BigQuery source tables and views.  Learn more about Vertex AI Feature Store in this repository's [MLOps](../../MLOps/readme.md) section, which includes a deep dive into [feature stores](../../MLOps/Feature%20Store/readme.md).\n",
    "\n",
    "**Reference:**\n",
    "- [Create a feature view instance](https://cloud.google.com/vertex-ai/docs/featurestore/latest/create-featureview)"
   ]
  },
  {
   "cell_type": "code",
   "execution_count": 39,
   "id": "4d3ab8fb-9608-4d99-9521-484c47d45cfc",
   "metadata": {
    "tags": []
   },
   "outputs": [
    {
     "name": "stdout",
     "output_type": "stream",
     "text": [
      "Found the feature view:\n",
      "projects/1026793852137/locations/us-central1/featureOnlineStores/statmike_mlops_349915/featureViews/frameworks_catboost_prediction_feature_store\n"
     ]
    }
   ],
   "source": [
    "try:\n",
    "    feature_view = feature_store.FeatureView(\n",
    "        name = FV_NAME,\n",
    "        feature_online_store_id = online_store.resource_name\n",
    "    )\n",
    "    print(f\"Found the feature view:\\n{feature_view.resource_name}\")\n",
    "except Exception:\n",
    "    print(f\"Create the feature view...\")\n",
    "    feature_view = online_store.create_feature_view(\n",
    "        name = FV_NAME,\n",
    "        source = feature_store.utils.FeatureViewBigQuerySource(\n",
    "            uri = f'bq://{BQ_PROJECT}.{BQ_DATASET}.{BQ_TABLE}',\n",
    "            entity_id_columns = ['transaction_id'] # can be multiple columns \n",
    "        ),\n",
    "        sync_config = 'TZ=America/New_York 0 22 * * *' # Ex: every day at 10PM, just once per day\n",
    "    )   \n",
    "    print(f\"Created the feature view:\\n{feature_view.resource_name}\")"
   ]
  },
  {
   "cell_type": "code",
   "execution_count": 40,
   "id": "43187756-802b-4317-990b-cf63c6e623f1",
   "metadata": {
    "tags": []
   },
   "outputs": [
    {
     "data": {
      "text/plain": [
       "'frameworks_catboost_prediction_feature_store'"
      ]
     },
     "execution_count": 40,
     "metadata": {},
     "output_type": "execute_result"
    }
   ],
   "source": [
    "feature_view.name"
   ]
  },
  {
   "cell_type": "markdown",
   "id": "c69740ac-6c5f-40cd-b591-0fcf70ab3992",
   "metadata": {},
   "source": [
    "### Managing Synchronization"
   ]
  },
  {
   "cell_type": "markdown",
   "id": "98f121ff-6c27-4fbe-a716-6678616d2317",
   "metadata": {},
   "source": [
    "Force a synchronization rather than wait for the next scheduled sync:"
   ]
  },
  {
   "cell_type": "code",
   "execution_count": 41,
   "id": "945d8b56-f780-4ca2-9494-b401229adfad",
   "metadata": {
    "tags": []
   },
   "outputs": [],
   "source": [
    "force_sync = feature_view.sync()"
   ]
  },
  {
   "cell_type": "code",
   "execution_count": 42,
   "id": "e8f35924-5b40-478d-9a4c-2b789ef56270",
   "metadata": {
    "tags": []
   },
   "outputs": [
    {
     "data": {
      "text/plain": [
       "vertexai.resources.preview.feature_store.feature_view.FeatureView.FeatureViewSync"
      ]
     },
     "execution_count": 42,
     "metadata": {},
     "output_type": "execute_result"
    }
   ],
   "source": [
    "type(force_sync)"
   ]
  },
  {
   "cell_type": "code",
   "execution_count": 43,
   "id": "1ef56fac-c924-4ca1-89b7-559dda2792c4",
   "metadata": {
    "tags": []
   },
   "outputs": [
    {
     "data": {
      "text/plain": [
       "{'name': 'projects/1026793852137/locations/us-central1/featureOnlineStores/statmike_mlops_349915/featureViews/frameworks_catboost_prediction_feature_store/featureViewSyncs/2189078868663468032',\n",
       " 'createTime': '2024-11-19T16:35:33.210253Z',\n",
       " 'runTime': {'startTime': '2024-11-19T16:35:33.210253Z'}}"
      ]
     },
     "execution_count": 43,
     "metadata": {},
     "output_type": "execute_result"
    }
   ],
   "source": [
    "force_sync.to_dict()"
   ]
  },
  {
   "cell_type": "markdown",
   "id": "c852b4ca-69a7-44cc-b72a-6b7aa7fae099",
   "metadata": {},
   "source": [
    "Get updated information about the sync job:"
   ]
  },
  {
   "cell_type": "code",
   "execution_count": 44,
   "id": "9447d265-2768-4a5c-8ff1-2a94f9131e5f",
   "metadata": {
    "tags": []
   },
   "outputs": [
    {
     "data": {
      "text/plain": [
       "{'name': 'projects/1026793852137/locations/us-central1/featureOnlineStores/statmike_mlops_349915/featureViews/frameworks_catboost_prediction_feature_store/featureViewSyncs/2189078868663468032',\n",
       " 'createTime': '2024-11-19T16:35:33.210253Z',\n",
       " 'runTime': {'startTime': '2024-11-19T16:35:33.210253Z'}}"
      ]
     },
     "execution_count": 44,
     "metadata": {},
     "output_type": "execute_result"
    }
   ],
   "source": [
    "force_sync = feature_view.get_sync(name = force_sync.name)\n",
    "force_sync.to_dict()"
   ]
  },
  {
   "cell_type": "markdown",
   "id": "89791a3b-24ce-40b3-8ee8-7d6aac5e5939",
   "metadata": {},
   "source": [
    "Wait on the sync job to complete and report timing and rows synced:"
   ]
  },
  {
   "cell_type": "code",
   "execution_count": 47,
   "id": "1d2849ed-a0d1-41fd-b8ce-b9f4da8b15bb",
   "metadata": {
    "tags": []
   },
   "outputs": [
    {
     "name": "stdout",
     "output_type": "stream",
     "text": [
      "Sync completed in 203.904381 seconds and synced 284807 rows.\n"
     ]
    }
   ],
   "source": [
    "waited = 0\n",
    "while True:\n",
    "    sync_status = feature_view.get_sync(name = force_sync.name).to_dict()\n",
    "    if 'endTime' in list(sync_status['runTime'].keys()):\n",
    "        seconds = (\n",
    "            datetime.datetime.fromisoformat(sync_status['runTime']['endTime'].replace('Z', '+00:00'))\n",
    "            -\n",
    "            datetime.datetime.fromisoformat(sync_status['runTime']['startTime'].replace('Z', '+00:00'))\n",
    "        ).total_seconds()\n",
    "        rows = sync_status['syncSummary']['rowSynced']\n",
    "        print(f\"Sync completed in {seconds} seconds and synced {rows} rows.\")\n",
    "        break\n",
    "    else:\n",
    "        print(f\"Waited {waited} seconds, Update again in 30 seconds...\")\n",
    "        time.sleep(30)\n",
    "        waited += 30"
   ]
  },
  {
   "cell_type": "markdown",
   "id": "55621a7d-51ca-423e-9ab2-80898e35e32c",
   "metadata": {},
   "source": [
    "Get a list of sync jobs:"
   ]
  },
  {
   "cell_type": "code",
   "execution_count": 48,
   "id": "536a9a75-3c3d-4f8c-b3c1-71c6056403c9",
   "metadata": {
    "tags": []
   },
   "outputs": [],
   "source": [
    "list_syncs = feature_view.list_syncs()"
   ]
  },
  {
   "cell_type": "markdown",
   "id": "1f381c92-9fc4-4126-8515-fb84528cf24d",
   "metadata": {},
   "source": [
    "Print out the end time and rows synced for each job:"
   ]
  },
  {
   "cell_type": "code",
   "execution_count": 49,
   "id": "d814a871-c55d-46d4-8a1f-6f2165bcd184",
   "metadata": {
    "tags": []
   },
   "outputs": [
    {
     "name": "stdout",
     "output_type": "stream",
     "text": [
      "Sync completed at 11/19/2024 16:38:57 and synced 284807 rows.\n"
     ]
    }
   ],
   "source": [
    "for sync in list_syncs:\n",
    "    s = feature_view.get_sync(name = sync.name).to_dict()\n",
    "    ended = datetime.datetime.fromisoformat(s['runTime']['endTime'].replace('Z', '+00:00')).strftime(\"%m/%d/%Y %H:%M:%S\")\n",
    "    rows = s['syncSummary']['rowSynced']\n",
    "    print(f\"Sync completed at {ended} and synced {rows} rows.\")"
   ]
  },
  {
   "cell_type": "markdown",
   "id": "2a3a73cd-793b-40dc-b9f2-49f4dc7d03e3",
   "metadata": {},
   "source": [
    "### Retrieve: Features For Entity\n"
   ]
  },
  {
   "cell_type": "code",
   "execution_count": 52,
   "id": "fe1e3f3c-5bb6-4226-b7fe-5e62f7a5da4f",
   "metadata": {
    "tags": []
   },
   "outputs": [
    {
     "name": "stdout",
     "output_type": "stream",
     "text": [
      "Public endpoint for the optimized online store statmike_mlops_349915 is 6457115130579648512.us-central1-1026793852137.featurestore.vertexai.goog\n"
     ]
    }
   ],
   "source": [
    "results = feature_view.read(key = [transaction_ids[0]]).to_dict()['features']"
   ]
  },
  {
   "cell_type": "code",
   "execution_count": 53,
   "id": "ce1283c6-ea2b-481f-b97c-cfb17f890dfe",
   "metadata": {
    "tags": []
   },
   "outputs": [
    {
     "data": {
      "text/plain": [
       "[{'name': 'Time', 'value': {'double_value': 84204.0}},\n",
       " {'name': 'V1', 'value': {'double_value': -0.937843305478391}},\n",
       " {'name': 'V2', 'value': {'double_value': 3.46288948991687}},\n",
       " {'name': 'V3', 'value': {'double_value': -6.44510395393435}},\n",
       " {'name': 'V4', 'value': {'double_value': 4.9321986662268005}},\n",
       " {'name': 'V5', 'value': {'double_value': -2.2339830698224503}},\n",
       " {'name': 'V6', 'value': {'double_value': -2.29156112129773}},\n",
       " {'name': 'V7', 'value': {'double_value': -5.69559392853253}},\n",
       " {'name': 'V8', 'value': {'double_value': 1.3388246336226102}},\n",
       " {'name': 'V9', 'value': {'double_value': -4.3223765532932905}},\n",
       " {'name': 'V10', 'value': {'double_value': -8.0991193981365}},\n",
       " {'name': 'V11', 'value': {'double_value': 7.18296700883659}},\n",
       " {'name': 'V12', 'value': {'double_value': -9.44594338249901}},\n",
       " {'name': 'V13', 'value': {'double_value': -0.31461996752022403}},\n",
       " {'name': 'V14', 'value': {'double_value': -12.9914655817567}},\n",
       " {'name': 'V15', 'value': {'double_value': -0.136358931959623}},\n",
       " {'name': 'V16', 'value': {'double_value': -6.367524375171441}},\n",
       " {'name': 'V17', 'value': {'double_value': -12.7343938853776}},\n",
       " {'name': 'V18', 'value': {'double_value': -3.8451296588974304}},\n",
       " {'name': 'V19', 'value': {'double_value': 1.00766725992114}},\n",
       " {'name': 'V20', 'value': {'double_value': 1.12953228130351}},\n",
       " {'name': 'V21', 'value': {'double_value': 1.06655024941577}},\n",
       " {'name': 'V22', 'value': {'double_value': -0.521657289347299}},\n",
       " {'name': 'V23', 'value': {'double_value': -0.31991729290954696}},\n",
       " {'name': 'V24', 'value': {'double_value': -0.40585908809361704}},\n",
       " {'name': 'V25', 'value': {'double_value': 0.9068021599577158}},\n",
       " {'name': 'V26', 'value': {'double_value': 1.1657838901173703}},\n",
       " {'name': 'V27', 'value': {'double_value': 1.3744953323353502}},\n",
       " {'name': 'V28', 'value': {'double_value': 0.729889341911333}},\n",
       " {'name': 'Amount', 'value': {'double_value': 0.0}},\n",
       " {'name': 'Class', 'value': {'int64_value': '1'}}]"
      ]
     },
     "execution_count": 53,
     "metadata": {},
     "output_type": "execute_result"
    }
   ],
   "source": [
    "results"
   ]
  },
  {
   "cell_type": "markdown",
   "id": "fddd2176-a03c-40f6-93d2-74ee1d901842",
   "metadata": {},
   "source": [
    "---\n",
    "## CatBoost Prediction With Feature Store\n",
    "\n",
    "Predictions with CatBoost are the same and the input is just an array of feature values.  The value of feature store is providing the current value of these features as a simple API call with just the entity id for which the features are needed.  This section does these steps separately and then build a simple Python function to bring them together:\n",
    "- request features for an entity id, `transaction_id`\n",
    "- prepare the features for the model: ensure the order is correct and covert to a Numpy array for input to the model\n",
    "- make the prediction request"
   ]
  },
  {
   "cell_type": "markdown",
   "id": "09435450-549a-4711-8a52-6142139a7115",
   "metadata": {},
   "source": [
    "### Step 1: Request Features Based On Entity ID"
   ]
  },
  {
   "cell_type": "code",
   "execution_count": 54,
   "id": "cc919456-469d-4c59-ad9d-535bb2332062",
   "metadata": {
    "tags": []
   },
   "outputs": [],
   "source": [
    "entity_id = transaction_ids[1]"
   ]
  },
  {
   "cell_type": "code",
   "execution_count": 55,
   "id": "87729d54-acf2-46aa-930a-1c1431457698",
   "metadata": {
    "tags": []
   },
   "outputs": [],
   "source": [
    "features = feature_view.read(key = [entity_id]).to_dict()['features']"
   ]
  },
  {
   "cell_type": "markdown",
   "id": "b31a2185-27ef-4761-bb92-8abed66d0ad7",
   "metadata": {},
   "source": [
    "### Step 2: Prepare Features For Inference"
   ]
  },
  {
   "cell_type": "code",
   "execution_count": null,
   "id": "18e4003d-0726-445e-8d4e-39443edb9bf9",
   "metadata": {},
   "outputs": [],
   "source": []
  },
  {
   "cell_type": "code",
   "execution_count": null,
   "id": "f0e1a44c-8bee-4c61-a3e2-64a38fda3f79",
   "metadata": {},
   "outputs": [],
   "source": []
  },
  {
   "cell_type": "code",
   "execution_count": null,
   "id": "3dde70b5-69a0-4364-b8f8-adb4bc3d1bc4",
   "metadata": {},
   "outputs": [],
   "source": []
  },
  {
   "cell_type": "code",
   "execution_count": null,
   "id": "7a5ba59e-d22f-4eb2-9968-2dd909f829cd",
   "metadata": {},
   "outputs": [],
   "source": []
  },
  {
   "cell_type": "code",
   "execution_count": null,
   "id": "629eaaf4-5ff4-456c-9ba0-e064f26be97a",
   "metadata": {},
   "outputs": [],
   "source": []
  },
  {
   "cell_type": "markdown",
   "id": "77ba1881-902f-4e0e-90d0-fdc353cdefd8",
   "metadata": {},
   "source": [
    "### Step 3: Make Prediction"
   ]
  },
  {
   "cell_type": "code",
   "execution_count": null,
   "id": "9e135738-280e-4d5b-8d54-87750ca6a814",
   "metadata": {},
   "outputs": [],
   "source": []
  },
  {
   "cell_type": "markdown",
   "id": "14dba902-09d1-44d3-8ceb-96f95e3c3fbe",
   "metadata": {},
   "source": [
    "### Combine Steps Into Function"
   ]
  },
  {
   "cell_type": "code",
   "execution_count": null,
   "id": "8e5d09c9-82c2-4a76-a283-2930c841e2c7",
   "metadata": {},
   "outputs": [],
   "source": []
  },
  {
   "cell_type": "code",
   "execution_count": null,
   "id": "8ef1dc13-b6f9-4d9c-a0af-136ebadc4840",
   "metadata": {},
   "outputs": [],
   "source": []
  },
  {
   "cell_type": "code",
   "execution_count": null,
   "id": "9898b312-00fe-4e8a-86ef-71ace3596c56",
   "metadata": {},
   "outputs": [],
   "source": []
  },
  {
   "cell_type": "code",
   "execution_count": null,
   "id": "af24ab38-e9dd-464d-b53c-53caf2f98bfb",
   "metadata": {},
   "outputs": [],
   "source": []
  },
  {
   "cell_type": "markdown",
   "id": "4b29d9cd-cc99-4c3f-9cec-7a1c41aebada",
   "metadata": {},
   "source": [
    "- Idea:\n",
    "    - ~~Store original data in BigQuery Table with transation ID~~\n",
    "    - ~~Sync to Feature Store Online~~\n",
    "    - Build Function: Retrieve record (by entity_id), parse response, order columns, create array, predict\n",
    "    - Create custom preidction container with FastAPI using the Function to retrieve based on input of entity_id\n",
    "    - Deploy to local, cloud run, and Vertex Endpoint\n",
    "    \n",
    "    "
   ]
  },
  {
   "cell_type": "code",
   "execution_count": null,
   "id": "a096ecec-1df2-4261-954b-c76ad075df46",
   "metadata": {},
   "outputs": [],
   "source": []
  }
 ],
 "metadata": {
  "environment": {
   "kernel": "conda-base-py",
   "name": "workbench-notebooks.m125",
   "type": "gcloud",
   "uri": "us-docker.pkg.dev/deeplearning-platform-release/gcr.io/workbench-notebooks:m125"
  },
  "kernelspec": {
   "display_name": "Python 3 (ipykernel) (Local)",
   "language": "python",
   "name": "conda-base-py"
  },
  "language_info": {
   "codemirror_mode": {
    "name": "ipython",
    "version": 3
   },
   "file_extension": ".py",
   "mimetype": "text/x-python",
   "name": "python",
   "nbconvert_exporter": "python",
   "pygments_lexer": "ipython3",
   "version": "3.10.15"
  }
 },
 "nbformat": 4,
 "nbformat_minor": 5
}
