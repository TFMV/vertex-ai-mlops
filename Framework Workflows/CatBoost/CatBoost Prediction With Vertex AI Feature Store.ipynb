{
 "cells": [
  {
   "cell_type": "markdown",
   "id": "1cfb5519",
   "metadata": {},
   "source": [
    "![tracker](https://us-central1-vertex-ai-mlops-369716.cloudfunctions.net/pixel-tracking?path=statmike%2Fvertex-ai-mlops%2FFramework+Workflows%2FCatBoost&file=CatBoost+Prediction+With+Vertex+AI+Feature+Store.ipynb)\n",
    "<!--- header table --->\n",
    "<table align=\"left\">\n",
    "  <td style=\"text-align: center\">\n",
    "    <a href=\"https://colab.research.google.com/github/statmike/vertex-ai-mlops/blob/main/Framework%20Workflows/CatBoost/CatBoost%20Prediction%20With%20Vertex%20AI%20Feature%20Store.ipynb\">\n",
    "      <img src=\"https://cloud.google.com/ml-engine/images/colab-logo-32px.png\" alt=\"Google Colaboratory logo\">\n",
    "      <br>Run in<br>Colab\n",
    "    </a>\n",
    "  </td>\n",
    "  <td style=\"text-align: center\">\n",
    "    <a href=\"https://console.cloud.google.com/vertex-ai/colab/import/https%3A%2F%2Fraw.githubusercontent.com%2Fstatmike%2Fvertex-ai-mlops%2Fmain%2FFramework%2520Workflows%2FCatBoost%2FCatBoost%2520Prediction%2520With%2520Vertex%2520AI%2520Feature%2520Store.ipynb\">\n",
    "      <img width=\"32px\" src=\"https://lh3.googleusercontent.com/JmcxdQi-qOpctIvWKgPtrzZdJJK-J3sWE1RsfjZNwshCFgE_9fULcNpuXYTilIR2hjwN\" alt=\"Google Cloud Colab Enterprise logo\">\n",
    "      <br>Run in<br>Colab Enterprise\n",
    "    </a>\n",
    "  </td>      \n",
    "  <td style=\"text-align: center\">\n",
    "    <a href=\"https://github.com/statmike/vertex-ai-mlops/blob/main/Framework%20Workflows/CatBoost/CatBoost%20Prediction%20With%20Vertex%20AI%20Feature%20Store.ipynb\">\n",
    "      <img src=\"https://cloud.google.com/ml-engine/images/github-logo-32px.png\" alt=\"GitHub logo\">\n",
    "      <br>View on<br>GitHub\n",
    "    </a>\n",
    "  </td>\n",
    "  <td style=\"text-align: center\">\n",
    "    <a href=\"https://console.cloud.google.com/vertex-ai/workbench/deploy-notebook?download_url=https://raw.githubusercontent.com/statmike/vertex-ai-mlops/main/Framework%20Workflows/CatBoost/CatBoost%20Prediction%20With%20Vertex%20AI%20Feature%20Store.ipynb\">\n",
    "      <img src=\"https://lh3.googleusercontent.com/UiNooY4LUgW_oTvpsNhPpQzsstV5W8F7rYgxgGBD85cWJoLmrOzhVs_ksK_vgx40SHs7jCqkTkCk=e14-rj-sc0xffffff-h130-w32\" alt=\"Vertex AI logo\">\n",
    "      <br>Open in<br>Vertex AI Workbench\n",
    "    </a>\n",
    "  </td>\n",
    "</table>"
   ]
  },
  {
   "cell_type": "markdown",
   "id": "6cb89d04-8870-46db-a4fc-9289a2bb34f2",
   "metadata": {},
   "source": [
    "# CatBoost Prediction With Vertex AI Feature Store"
   ]
  },
  {
   "cell_type": "markdown",
   "id": "e74ce9c2-6ced-4e4a-971a-ead35777033a",
   "metadata": {
    "id": "od_UkDpvRmgD",
    "tags": []
   },
   "source": [
    "---\n",
    "## Colab Setup\n",
    "\n",
    "To run this notebook in Colab run the cells in this section.  Otherwise, skip this section.\n",
    "\n",
    "This cell will authenticate to GCP (follow prompts in the popup)."
   ]
  },
  {
   "cell_type": "code",
   "execution_count": 1,
   "id": "c81b95f8-f452-4664-8177-832c2e8abd4e",
   "metadata": {
    "executionInfo": {
     "elapsed": 195,
     "status": "ok",
     "timestamp": 1683726184843,
     "user": {
      "displayName": "Mike Henderson",
      "userId": "07691629187611687318"
     },
     "user_tz": 240
    },
    "id": "8UO9FnqyKBlF",
    "tags": []
   },
   "outputs": [],
   "source": [
    "PROJECT_ID = 'statmike-mlops-349915' # replace with project ID"
   ]
  },
  {
   "cell_type": "code",
   "execution_count": 2,
   "id": "e84c4914-8621-4638-bc85-a261c9a17c81",
   "metadata": {
    "colab": {
     "base_uri": "https://localhost:8080/"
    },
    "executionInfo": {
     "elapsed": 68869,
     "status": "ok",
     "timestamp": 1683726253709,
     "user": {
      "displayName": "Mike Henderson",
      "userId": "07691629187611687318"
     },
     "user_tz": 240
    },
    "id": "N98-KK7LRkjm",
    "outputId": "09ec5008-0def-4e1a-c349-c598ee752f78",
    "tags": []
   },
   "outputs": [],
   "source": [
    "try:\n",
    "    import google.colab\n",
    "    from google.colab import auth\n",
    "    auth.authenticate_user()\n",
    "    !gcloud config set project {PROJECT_ID}\n",
    "except Exception:\n",
    "    pass"
   ]
  },
  {
   "cell_type": "markdown",
   "id": "4a8e0de7-70a5-4dc4-ad3d-9d4082cc5a56",
   "metadata": {},
   "source": [
    "---\n",
    "## Installs\n",
    "\n",
    "The list `packages` contains tuples of package import names and install names.  If the import name is not found then the install name is used to install quitely for the current user."
   ]
  },
  {
   "cell_type": "code",
   "execution_count": 3,
   "id": "872d2193-a4d3-446b-a21f-0b84e832bc00",
   "metadata": {
    "tags": []
   },
   "outputs": [],
   "source": [
    "# tuples of (import name, install name, min_version)\n",
    "packages = [\n",
    "    ('numpy', 'numpy'),\n",
    "    ('catboost', 'catboost'),\n",
    "    ('docker', 'docker'),\n",
    "    ('google.cloud.aiplatform', 'google-cloud-aiplatform'),\n",
    "    ('google.cloud.bigquery', 'google-cloud-bigquery'),\n",
    "    ('google.cloud.storage', 'google-cloud-storage'),\n",
    "    ('google.cloud.artifactregistry_v1', 'google-cloud-artifact-registry'),\n",
    "    ('google.cloud.devtools', 'google-cloud-build'),\n",
    "    ('google.cloud.run_v2', 'google-cloud-run'),   \n",
    "]\n",
    "\n",
    "import importlib\n",
    "install = False\n",
    "for package in packages:\n",
    "    if not importlib.util.find_spec(package[0]):\n",
    "        print(f'installing package {package[1]}')\n",
    "        install = True\n",
    "        !pip install {package[1]} -U -q --user\n",
    "    elif len(package) == 3:\n",
    "        if importlib.metadata.version(package[0]) < package[2]:\n",
    "            print(f'updating package {package[1]}')\n",
    "            install = True\n",
    "            !pip install {package[1]} -U -q --user"
   ]
  },
  {
   "cell_type": "markdown",
   "id": "603a58c1-5efb-4895-90c5-92dabd42675a",
   "metadata": {},
   "source": [
    "### API Enablement"
   ]
  },
  {
   "cell_type": "code",
   "execution_count": 4,
   "id": "15cdecc5-82dd-47dd-a533-94ca72f4eb11",
   "metadata": {
    "tags": []
   },
   "outputs": [],
   "source": [
    "!gcloud services enable artifactregistry.googleapis.com\n",
    "!gcloud services enable cloudbuild.googleapis.com\n",
    "!gcloud services enable run.googleapis.com"
   ]
  },
  {
   "cell_type": "markdown",
   "id": "c8902533-42e4-46df-a21f-b5010c5ea2c8",
   "metadata": {},
   "source": [
    "### Restart Kernel (If Installs Occured)\n",
    "\n",
    "After a kernel restart the code submission can start with the next cell after this one."
   ]
  },
  {
   "cell_type": "code",
   "execution_count": 5,
   "id": "77aeee3d-d013-4a06-8113-be0e53d4c1b2",
   "metadata": {
    "tags": []
   },
   "outputs": [],
   "source": [
    "if install:\n",
    "    import IPython\n",
    "    app = IPython.Application.instance()\n",
    "    app.kernel.do_shutdown(True)\n",
    "    IPython.display.display(IPython.display.Markdown(\"\"\"<div class=\\\"alert alert-block alert-warning\\\">\n",
    "        <b>⚠️ The kernel is going to restart. Please wait until it is finished before continuing to the next step. The previous cells do not need to be run again⚠️</b>\n",
    "        </div>\"\"\"))"
   ]
  },
  {
   "cell_type": "markdown",
   "id": "4581e5d6-11d7-4d5a-a8f2-b9b1059b182d",
   "metadata": {},
   "source": [
    "---\n",
    "## Setup"
   ]
  },
  {
   "cell_type": "markdown",
   "id": "578c3b68-22ac-4351-975c-6e4d274c9acb",
   "metadata": {},
   "source": [
    "inputs:"
   ]
  },
  {
   "cell_type": "code",
   "execution_count": 6,
   "id": "989c8bb8-96c4-406d-9c4a-b16328cf0d9a",
   "metadata": {
    "tags": []
   },
   "outputs": [
    {
     "data": {
      "text/plain": [
       "'statmike-mlops-349915'"
      ]
     },
     "execution_count": 6,
     "metadata": {},
     "output_type": "execute_result"
    }
   ],
   "source": [
    "project = !gcloud config get-value project\n",
    "PROJECT_ID = project[0]\n",
    "PROJECT_ID"
   ]
  },
  {
   "cell_type": "code",
   "execution_count": 7,
   "id": "b84f0eb9-080e-47eb-932e-c1c30d1ad140",
   "metadata": {
    "tags": []
   },
   "outputs": [],
   "source": [
    "REGION = 'us-central1'\n",
    "SERIES = 'frameworks-catboost'\n",
    "EXPERIMENT = 'prediction-feature-store'\n",
    "\n",
    "# GCS Names\n",
    "GCS_BUCKET = PROJECT_ID\n",
    "\n",
    "# make this the BigQuery Project / Dataset / Table prefix to store results\n",
    "BQ_PROJECT = PROJECT_ID\n",
    "BQ_DATASET = SERIES.replace('-', '_')\n",
    "BQ_TABLE = EXPERIMENT\n",
    "BQ_REGION = REGION[0:2]\n",
    "\n",
    "# Vertex AI Feature Store names:\n",
    "FS_NAME = PROJECT_ID.replace('-', '_')\n",
    "FV_NAME = f\"{SERIES}-{EXPERIMENT}\".replace('-', '_')"
   ]
  },
  {
   "cell_type": "markdown",
   "id": "ad6a6565-91b0-4767-89c4-a070dcd16409",
   "metadata": {},
   "source": [
    "packages:"
   ]
  },
  {
   "cell_type": "code",
   "execution_count": 8,
   "id": "4ed1e444-3908-4118-aef6-2880f67a8e2b",
   "metadata": {
    "tags": []
   },
   "outputs": [],
   "source": [
    "import json, os\n",
    "import time, datetime\n",
    "import requests\n",
    "\n",
    "import catboost \n",
    "import numpy as np\n",
    "import docker\n",
    "\n",
    "import google.auth\n",
    "from google.cloud import storage\n",
    "from google.cloud import artifactregistry_v1\n",
    "from google.cloud.devtools import cloudbuild_v1\n",
    "from google.cloud import run_v2\n",
    "from google.cloud import bigquery\n",
    "\n",
    "from google.cloud import aiplatform\n",
    "from vertexai.resources.preview import feature_store"
   ]
  },
  {
   "cell_type": "code",
   "execution_count": 118,
   "id": "46ca9298-b170-4d6c-a5ac-574f76e8005b",
   "metadata": {
    "tags": []
   },
   "outputs": [
    {
     "data": {
      "text/plain": [
       "'1.71.0'"
      ]
     },
     "execution_count": 118,
     "metadata": {},
     "output_type": "execute_result"
    }
   ],
   "source": [
    "aiplatform.__version__"
   ]
  },
  {
   "cell_type": "markdown",
   "id": "894458bc-77e6-4c28-a74e-3180d9d83776",
   "metadata": {},
   "source": [
    "clients:"
   ]
  },
  {
   "cell_type": "code",
   "execution_count": 9,
   "id": "028a565c-f725-4395-b4e8-05fc59a96a11",
   "metadata": {
    "tags": []
   },
   "outputs": [],
   "source": [
    "# gcs storage client\n",
    "gcs = storage.Client(project = GCS_BUCKET)\n",
    "bucket = gcs.bucket(GCS_BUCKET)\n",
    "\n",
    "# cloud build client\n",
    "cb = cloudbuild_v1.CloudBuildClient()\n",
    "\n",
    "# artifact registry client\n",
    "ar = artifactregistry_v1.ArtifactRegistryClient()\n",
    "\n",
    "# cloud run client\n",
    "cr = run_v2.ServicesClient()\n",
    "\n",
    "# BigQuery client\n",
    "bq = bigquery.Client(project = PROJECT_ID)\n",
    "\n",
    "# vertex ai client\n",
    "aiplatform.init(project = PROJECT_ID, location = REGION)"
   ]
  },
  {
   "cell_type": "markdown",
   "id": "48f70c07-e258-4e9c-95d5-b006137ee80b",
   "metadata": {},
   "source": [
    "Parameters:"
   ]
  },
  {
   "cell_type": "code",
   "execution_count": 10,
   "id": "6742dfd7-5319-4857-9299-4666a0ad3336",
   "metadata": {
    "tags": []
   },
   "outputs": [],
   "source": [
    "DIR = f\"files/{EXPERIMENT}\""
   ]
  },
  {
   "cell_type": "markdown",
   "id": "be1bf407-de9a-4ae3-bac4-49873e004691",
   "metadata": {},
   "source": [
    "Environment:"
   ]
  },
  {
   "cell_type": "code",
   "execution_count": 11,
   "id": "3f360519-4393-47ba-93aa-651eac1b2a86",
   "metadata": {
    "tags": []
   },
   "outputs": [],
   "source": [
    "if not os.path.exists(DIR):\n",
    "    os.makedirs(DIR)"
   ]
  },
  {
   "cell_type": "markdown",
   "id": "b5d086fb-d441-4fc6-9e8d-487e3ad51a1c",
   "metadata": {},
   "source": [
    "---\n",
    "## CatBoost Model\n",
    "\n",
    "Retrieve the model trained in prior workflow along with test records.  Test the model directly in this environment."
   ]
  },
  {
   "cell_type": "markdown",
   "id": "19f411a2-97c3-4048-8184-476c9bd489e6",
   "metadata": {},
   "source": [
    "### Check For Files"
   ]
  },
  {
   "cell_type": "code",
   "execution_count": 12,
   "id": "068b8a1a-578c-451a-ad4f-4cc5c9600593",
   "metadata": {
    "tags": []
   },
   "outputs": [
    {
     "name": "stdout",
     "output_type": "stream",
     "text": [
      "Found the files created by the prerequisite workflow:\n",
      "- gs://statmike-mlops-349915/frameworks-catboost/notebook/examples.json\n",
      "- gs://statmike-mlops-349915/frameworks-catboost/notebook/model.cbm\n"
     ]
    }
   ],
   "source": [
    "files = list(bucket.list_blobs(prefix = f'{SERIES}/notebook'))\n",
    "if len(files) > 0:\n",
    "    print('Found the files created by the prerequisite workflow:')\n",
    "    for file in files:\n",
    "        print(f'- gs://{bucket.name}/{file.name}')\n",
    "else:\n",
    "    print('Files note found - Please run the prerequisite notebook (listed at top of this workflow)')"
   ]
  },
  {
   "cell_type": "markdown",
   "id": "fba878d7-00aa-40d3-b0a3-d273bd72a79c",
   "metadata": {},
   "source": [
    "### Load Model"
   ]
  },
  {
   "cell_type": "code",
   "execution_count": 13,
   "id": "e42a61e4-4e50-4995-b4a0-0ec82f49d2c1",
   "metadata": {
    "tags": []
   },
   "outputs": [],
   "source": [
    "model_blob = bucket.blob(f'{SERIES}/notebook/model.cbm')\n",
    "model_bytes = model_blob.download_as_bytes()\n",
    "model = catboost.CatBoostClassifier().load_model(blob = model_bytes)"
   ]
  },
  {
   "cell_type": "markdown",
   "id": "fb107fd9-fa55-4bde-bf4d-6a44ab438f33",
   "metadata": {},
   "source": [
    "### Load Inference Examples"
   ]
  },
  {
   "cell_type": "code",
   "execution_count": 14,
   "id": "1e5e1207-7889-45d5-9883-7676d7dced00",
   "metadata": {
    "tags": []
   },
   "outputs": [],
   "source": [
    "examples_blob = bucket.blob(f'{SERIES}/notebook/examples.json')\n",
    "examples_np = np.array(\n",
    "    json.loads(examples_blob.download_as_string())\n",
    ")"
   ]
  },
  {
   "cell_type": "markdown",
   "id": "49551796-e761-4cf0-ab54-1dd519bc0ab6",
   "metadata": {},
   "source": [
    "### Test Model With Examples"
   ]
  },
  {
   "cell_type": "code",
   "execution_count": 15,
   "id": "c7789d73-0e6a-4d88-8b36-fdce0084db9c",
   "metadata": {
    "tags": []
   },
   "outputs": [
    {
     "data": {
      "text/plain": [
       "array([1, 1, 1, 1, 0, 0, 1, 1, 1, 1])"
      ]
     },
     "execution_count": 15,
     "metadata": {},
     "output_type": "execute_result"
    }
   ],
   "source": [
    "model.predict(examples_np)"
   ]
  },
  {
   "cell_type": "code",
   "execution_count": 16,
   "id": "49b66ed2-9124-4ced-bc66-5e0f4a990c1a",
   "metadata": {
    "tags": []
   },
   "outputs": [
    {
     "data": {
      "text/plain": [
       "['Time',\n",
       " 'V1',\n",
       " 'V2',\n",
       " 'V3',\n",
       " 'V4',\n",
       " 'V5',\n",
       " 'V6',\n",
       " 'V7',\n",
       " 'V8',\n",
       " 'V9',\n",
       " 'V10',\n",
       " 'V11',\n",
       " 'V12',\n",
       " 'V13',\n",
       " 'V14',\n",
       " 'V15',\n",
       " 'V16',\n",
       " 'V17',\n",
       " 'V18',\n",
       " 'V19',\n",
       " 'V20',\n",
       " 'V21',\n",
       " 'V22',\n",
       " 'V23',\n",
       " 'V24',\n",
       " 'V25',\n",
       " 'V26',\n",
       " 'V27',\n",
       " 'V28',\n",
       " 'Amount']"
      ]
     },
     "execution_count": 16,
     "metadata": {},
     "output_type": "execute_result"
    }
   ],
   "source": [
    "model.feature_names_"
   ]
  },
  {
   "cell_type": "markdown",
   "id": "79c7de77-a606-4eef-9b91-ca2057ff6e5c",
   "metadata": {},
   "source": [
    "---\n",
    "## BigQuery - The Offline Store For Vertex AI Feature Store\n",
    "\n",
    "The offline store for [Vertex AI Feature Store](https://cloud.google.com/vertex-ai/docs/featurestore/latest/overview) is BigQuery.  This streamlines ML feature management prior to serving online with feature store.  The data used to train this model in [CatBoost In Notebook](./CatBoost%20In%20Notebook.ipynb) actually came from BigQuery already.\n",
    "\n",
    "This section prepares a version of the BigQuery public table used in the training notebook as a table with an id column to identify individual rows - `transaction_id`."
   ]
  },
  {
   "cell_type": "markdown",
   "id": "064da4ce-cc8e-43bb-9d1d-372a7f0ffe14",
   "metadata": {},
   "source": [
    "### Create/Recall Dataset"
   ]
  },
  {
   "cell_type": "code",
   "execution_count": 17,
   "id": "e9eb6b67-b865-48e1-9d96-687606743c77",
   "metadata": {
    "tags": []
   },
   "outputs": [],
   "source": [
    "dataset = bigquery.Dataset(f\"{BQ_PROJECT}.{BQ_DATASET}\")\n",
    "dataset.location = BQ_REGION\n",
    "bq_dataset = bq.create_dataset(dataset, exists_ok = True)"
   ]
  },
  {
   "cell_type": "markdown",
   "id": "7074cc76-c391-4a57-94c4-6110a23405c9",
   "metadata": {},
   "source": [
    "### Create/Recall Table"
   ]
  },
  {
   "cell_type": "code",
   "execution_count": 18,
   "id": "31281b30-5e77-4133-8c94-d659e1c4c8c9",
   "metadata": {
    "tags": []
   },
   "outputs": [
    {
     "data": {
      "text/plain": [
       "<google.cloud.bigquery.table._EmptyRowIterator at 0x7f2775f70be0>"
      ]
     },
     "execution_count": 18,
     "metadata": {},
     "output_type": "execute_result"
    }
   ],
   "source": [
    "query = f\"\"\"\n",
    "    CREATE TABLE IF NOT EXISTS `{BQ_PROJECT}.{BQ_DATASET}.{BQ_TABLE}` AS\n",
    "    SELECT GENERATE_UUID() AS transaction_id, *\n",
    "    FROM `bigquery-public-data.ml_datasets.ulb_fraud_detection`;\n",
    "\"\"\"\n",
    "job = bq.query(query = query)\n",
    "job.result()"
   ]
  },
  {
   "cell_type": "code",
   "execution_count": 19,
   "id": "00ba7311-d4fe-460e-9c71-18162a1d8223",
   "metadata": {
    "tags": []
   },
   "outputs": [
    {
     "data": {
      "text/plain": [
       "0.274"
      ]
     },
     "execution_count": 19,
     "metadata": {},
     "output_type": "execute_result"
    }
   ],
   "source": [
    "(job.ended - job.started).total_seconds()"
   ]
  },
  {
   "cell_type": "markdown",
   "id": "6f57e0fb-4544-4e55-8a33-a0dee92f7e9d",
   "metadata": {},
   "source": [
    "### Review BigQuery Table"
   ]
  },
  {
   "cell_type": "code",
   "execution_count": 20,
   "id": "4610b653-98af-479c-b13a-734ae65e5fcc",
   "metadata": {
    "tags": []
   },
   "outputs": [
    {
     "data": {
      "text/html": [
       "<div>\n",
       "<style scoped>\n",
       "    .dataframe tbody tr th:only-of-type {\n",
       "        vertical-align: middle;\n",
       "    }\n",
       "\n",
       "    .dataframe tbody tr th {\n",
       "        vertical-align: top;\n",
       "    }\n",
       "\n",
       "    .dataframe thead th {\n",
       "        text-align: right;\n",
       "    }\n",
       "</style>\n",
       "<table border=\"1\" class=\"dataframe\">\n",
       "  <thead>\n",
       "    <tr style=\"text-align: right;\">\n",
       "      <th></th>\n",
       "      <th>transaction_id</th>\n",
       "      <th>Time</th>\n",
       "      <th>V1</th>\n",
       "      <th>V2</th>\n",
       "      <th>V3</th>\n",
       "      <th>V4</th>\n",
       "      <th>V5</th>\n",
       "      <th>V6</th>\n",
       "      <th>V7</th>\n",
       "      <th>V8</th>\n",
       "      <th>...</th>\n",
       "      <th>V21</th>\n",
       "      <th>V22</th>\n",
       "      <th>V23</th>\n",
       "      <th>V24</th>\n",
       "      <th>V25</th>\n",
       "      <th>V26</th>\n",
       "      <th>V27</th>\n",
       "      <th>V28</th>\n",
       "      <th>Amount</th>\n",
       "      <th>Class</th>\n",
       "    </tr>\n",
       "  </thead>\n",
       "  <tbody>\n",
       "    <tr>\n",
       "      <th>0</th>\n",
       "      <td>3a21a7e6-4b33-4fce-b7da-289d16146df3</td>\n",
       "      <td>115285.0</td>\n",
       "      <td>-0.992995</td>\n",
       "      <td>0.594899</td>\n",
       "      <td>1.613710</td>\n",
       "      <td>2.939088</td>\n",
       "      <td>1.675179</td>\n",
       "      <td>0.327479</td>\n",
       "      <td>0.328362</td>\n",
       "      <td>0.207276</td>\n",
       "      <td>...</td>\n",
       "      <td>0.156509</td>\n",
       "      <td>0.445081</td>\n",
       "      <td>-0.364915</td>\n",
       "      <td>-0.640996</td>\n",
       "      <td>0.401665</td>\n",
       "      <td>0.180925</td>\n",
       "      <td>0.081706</td>\n",
       "      <td>0.134099</td>\n",
       "      <td>0.0</td>\n",
       "      <td>0</td>\n",
       "    </tr>\n",
       "    <tr>\n",
       "      <th>1</th>\n",
       "      <td>cb06dca2-6573-4fa9-a51e-42ae1bbbaeba</td>\n",
       "      <td>91543.0</td>\n",
       "      <td>-0.929128</td>\n",
       "      <td>2.514791</td>\n",
       "      <td>-2.878171</td>\n",
       "      <td>-0.197500</td>\n",
       "      <td>0.709615</td>\n",
       "      <td>0.097873</td>\n",
       "      <td>-3.285721</td>\n",
       "      <td>-11.169795</td>\n",
       "      <td>...</td>\n",
       "      <td>-4.757274</td>\n",
       "      <td>2.759508</td>\n",
       "      <td>0.350877</td>\n",
       "      <td>-0.008925</td>\n",
       "      <td>-0.196056</td>\n",
       "      <td>0.320867</td>\n",
       "      <td>0.045830</td>\n",
       "      <td>0.503654</td>\n",
       "      <td>0.0</td>\n",
       "      <td>0</td>\n",
       "    </tr>\n",
       "    <tr>\n",
       "      <th>2</th>\n",
       "      <td>621d7cfc-278e-41d5-a533-c3cdb0e68b44</td>\n",
       "      <td>141273.0</td>\n",
       "      <td>2.147444</td>\n",
       "      <td>0.200913</td>\n",
       "      <td>-2.664948</td>\n",
       "      <td>0.195083</td>\n",
       "      <td>1.234707</td>\n",
       "      <td>-0.832371</td>\n",
       "      <td>0.870348</td>\n",
       "      <td>-0.420298</td>\n",
       "      <td>...</td>\n",
       "      <td>0.282831</td>\n",
       "      <td>0.953374</td>\n",
       "      <td>-0.212726</td>\n",
       "      <td>0.384479</td>\n",
       "      <td>0.735806</td>\n",
       "      <td>0.696998</td>\n",
       "      <td>-0.131764</td>\n",
       "      <td>-0.100937</td>\n",
       "      <td>0.0</td>\n",
       "      <td>0</td>\n",
       "    </tr>\n",
       "  </tbody>\n",
       "</table>\n",
       "<p>3 rows × 32 columns</p>\n",
       "</div>"
      ],
      "text/plain": [
       "                         transaction_id      Time        V1        V2  \\\n",
       "0  3a21a7e6-4b33-4fce-b7da-289d16146df3  115285.0 -0.992995  0.594899   \n",
       "1  cb06dca2-6573-4fa9-a51e-42ae1bbbaeba   91543.0 -0.929128  2.514791   \n",
       "2  621d7cfc-278e-41d5-a533-c3cdb0e68b44  141273.0  2.147444  0.200913   \n",
       "\n",
       "         V3        V4        V5        V6        V7         V8  ...       V21  \\\n",
       "0  1.613710  2.939088  1.675179  0.327479  0.328362   0.207276  ...  0.156509   \n",
       "1 -2.878171 -0.197500  0.709615  0.097873 -3.285721 -11.169795  ... -4.757274   \n",
       "2 -2.664948  0.195083  1.234707 -0.832371  0.870348  -0.420298  ...  0.282831   \n",
       "\n",
       "        V22       V23       V24       V25       V26       V27       V28  \\\n",
       "0  0.445081 -0.364915 -0.640996  0.401665  0.180925  0.081706  0.134099   \n",
       "1  2.759508  0.350877 -0.008925 -0.196056  0.320867  0.045830  0.503654   \n",
       "2  0.953374 -0.212726  0.384479  0.735806  0.696998 -0.131764 -0.100937   \n",
       "\n",
       "   Amount  Class  \n",
       "0     0.0      0  \n",
       "1     0.0      0  \n",
       "2     0.0      0  \n",
       "\n",
       "[3 rows x 32 columns]"
      ]
     },
     "execution_count": 20,
     "metadata": {},
     "output_type": "execute_result"
    }
   ],
   "source": [
    "bq.query(f\"SELECT * FROM `{BQ_PROJECT}.{BQ_DATASET}.{BQ_TABLE}` LIMIT 3\").to_dataframe()"
   ]
  },
  {
   "cell_type": "markdown",
   "id": "a57db3e6-6d4c-4d5f-96b8-9c5825c01bc3",
   "metadata": {},
   "source": [
    "### Get A List of `transaction_id` Values For Testing\n",
    "\n",
    "Get a list of `transaction_id` values to use later in this workflow:"
   ]
  },
  {
   "cell_type": "code",
   "execution_count": 21,
   "id": "022ad515-b3e1-405e-9ec1-671c9badfeb7",
   "metadata": {
    "tags": []
   },
   "outputs": [],
   "source": [
    "transaction_ids = bq.query(f\"SELECT transaction_id FROM `{BQ_PROJECT}.{BQ_DATASET}.{BQ_TABLE}` WHERE Class = 1 LIMIT 10\").to_dataframe()['transaction_id'].tolist()"
   ]
  },
  {
   "cell_type": "code",
   "execution_count": 22,
   "id": "b3273f39-a387-4f8c-bf8e-0fb933dc1714",
   "metadata": {
    "tags": []
   },
   "outputs": [
    {
     "data": {
      "text/plain": [
       "['ac53e6ca-f676-48fa-94cc-9a35972f838d',\n",
       " 'dcadf588-4079-474f-b0b6-5872949ab2bf',\n",
       " 'cff98a84-d59e-4782-a830-85719d1bc568',\n",
       " '342e315a-baad-469c-b940-68cdffe5b250',\n",
       " '920807da-79dc-408e-9aed-da8ce7da0ec7',\n",
       " '806c0df5-a785-4562-addd-2a0fcbd03273',\n",
       " '0953278e-e1cc-4895-91bf-dfb2e79e86e4',\n",
       " '1a380124-4ca5-41b4-afc0-18fb4478a76e',\n",
       " 'fb15047a-d389-48c3-8b3b-c4faba32a418',\n",
       " 'e12d9f95-f115-4d7f-8da8-437c584c5740']"
      ]
     },
     "execution_count": 22,
     "metadata": {},
     "output_type": "execute_result"
    }
   ],
   "source": [
    "transaction_ids"
   ]
  },
  {
   "cell_type": "markdown",
   "id": "32cbfc7d-0985-4758-9b13-080d4871b6b4",
   "metadata": {},
   "source": [
    "---\n",
    "## Understanding Vertex AI Feature Store\n",
    "\n",
    "The next sections will setup online serving for the BigQuery table with [Vertex AI Feature Store](https://cloud.google.com/vertex-ai/docs/featurestore/latest/overview). This workflow takes the shortest path of synchronizing a BigQuery table to feature store.  There are more flexible paths as well using the Feature Registry where features across multiple tables and views can come together in a single serving structure called a feature view.  You can read more about this within the [MLOps](../../MLOps/readme.md) section of this repository, which includes a deep dive into [feature stores](../../MLOps/Feature%20Store/readme.md).\n",
    "\n",
    "<p align=\"center\" ><center>\n",
    "    <img src=\"../../MLOps/resources/images/created/featurestore/overview.png\" width=\"75%\">\n",
    "</center></p>"
   ]
  },
  {
   "cell_type": "markdown",
   "id": "ccd1ba12-e9c1-4e0b-8b65-966efff05f82",
   "metadata": {
    "tags": []
   },
   "source": [
    "---\n",
    "## Setup Vertex AI Feature Store"
   ]
  },
  {
   "cell_type": "markdown",
   "id": "c748b80f-96f8-44f9-a075-3b7269ae7999",
   "metadata": {},
   "source": [
    "### Create/Retrieve Online Store\n",
    "\n",
    "The first step is to create a Vertex AI Feature Store.  There are two serving types to choose from when setting up a feature store: Bigtable and Optimized.  For this work the Optimized online serving is picked which can even [provide vector similarity search](https://cloud.google.com/vertex-ai/docs/featurestore/latest/embeddings-search) functionality that Bigtable serving does not.\n",
    ">**NOTE:** This can take around 10 minutes if creating a new feature store instance\n",
    "\n",
    "**Reference:**\n",
    "- [Create an Online Store Instance](https://cloud.google.com/vertex-ai/docs/featurestore/latest/create-onlinestore)\n",
    "- [Online Serving Types](https://cloud.google.com/vertex-ai/docs/featurestore/latest/online-serving-types)"
   ]
  },
  {
   "cell_type": "code",
   "execution_count": 23,
   "id": "80913176-6198-4aa7-8b6a-e32088b1f659",
   "metadata": {
    "tags": []
   },
   "outputs": [
    {
     "name": "stdout",
     "output_type": "stream",
     "text": [
      "Found the feature store:\n",
      "projects/1026793852137/locations/us-central1/featureOnlineStores/statmike_mlops_349915\n"
     ]
    }
   ],
   "source": [
    "try:\n",
    "    online_store = feature_store.FeatureOnlineStore(name = FS_NAME)\n",
    "    print(f\"Found the feature store:\\n{online_store.resource_name}\")\n",
    "except Exception:\n",
    "    print(\"Create the feature store...\")\n",
    "    online_store = feature_store.FeatureOnlineStore.create_optimized_store(\n",
    "        name = FS_NAME\n",
    "    )\n",
    "    print(f\"Create the feature store:\\n{online_store.resource_name}\")"
   ]
  },
  {
   "cell_type": "code",
   "execution_count": 24,
   "id": "4c9d936e-9d2f-46f5-9566-3a8a56cc1295",
   "metadata": {
    "tags": []
   },
   "outputs": [
    {
     "data": {
      "text/plain": [
       "'statmike_mlops_349915'"
      ]
     },
     "execution_count": 24,
     "metadata": {},
     "output_type": "execute_result"
    }
   ],
   "source": [
    "online_store.name"
   ]
  },
  {
   "cell_type": "markdown",
   "id": "3e555dc0-ea41-4859-bd55-11cdfd21d994",
   "metadata": {},
   "source": [
    "### Create/Retrieve Feature View From BigQuery Source\n",
    "\n",
    "There are two paths to [creating feature views](https://cloud.google.com/vertex-ai/docs/featurestore/latest/create-featureview) in feature store. The one used here is syncing a BigQuery table or view directly to the online store. The alternative involves using the feature registry which gives greater control of selecting features (columns) form multiple BigQuery source tables and views.  Learn more about Vertex AI Feature Store in this repository's [MLOps](../../MLOps/readme.md) section, which includes a deep dive into [feature stores](../../MLOps/Feature%20Store/readme.md).\n",
    "\n",
    "**Reference:**\n",
    "- [Create a feature view instance](https://cloud.google.com/vertex-ai/docs/featurestore/latest/create-featureview)"
   ]
  },
  {
   "cell_type": "code",
   "execution_count": 25,
   "id": "4d3ab8fb-9608-4d99-9521-484c47d45cfc",
   "metadata": {
    "tags": []
   },
   "outputs": [
    {
     "name": "stdout",
     "output_type": "stream",
     "text": [
      "Found the feature view:\n",
      "projects/1026793852137/locations/us-central1/featureOnlineStores/statmike_mlops_349915/featureViews/frameworks_catboost_prediction_feature_store\n"
     ]
    }
   ],
   "source": [
    "try:\n",
    "    feature_view = feature_store.FeatureView(\n",
    "        name = FV_NAME,\n",
    "        feature_online_store_id = online_store.resource_name\n",
    "    )\n",
    "    print(f\"Found the feature view:\\n{feature_view.resource_name}\")\n",
    "except Exception:\n",
    "    print(f\"Create the feature view...\")\n",
    "    feature_view = online_store.create_feature_view(\n",
    "        name = FV_NAME,\n",
    "        source = feature_store.utils.FeatureViewBigQuerySource(\n",
    "            uri = f'bq://{BQ_PROJECT}.{BQ_DATASET}.{BQ_TABLE}',\n",
    "            entity_id_columns = ['transaction_id'] # can be multiple columns \n",
    "        ),\n",
    "        sync_config = 'TZ=America/New_York 0 22 * * *' # Ex: every day at 10PM, just once per day\n",
    "    )   \n",
    "    print(f\"Created the feature view:\\n{feature_view.resource_name}\")"
   ]
  },
  {
   "cell_type": "code",
   "execution_count": 26,
   "id": "43187756-802b-4317-990b-cf63c6e623f1",
   "metadata": {
    "tags": []
   },
   "outputs": [
    {
     "data": {
      "text/plain": [
       "'frameworks_catboost_prediction_feature_store'"
      ]
     },
     "execution_count": 26,
     "metadata": {},
     "output_type": "execute_result"
    }
   ],
   "source": [
    "feature_view.name"
   ]
  },
  {
   "cell_type": "markdown",
   "id": "c69740ac-6c5f-40cd-b591-0fcf70ab3992",
   "metadata": {},
   "source": [
    "### Managing Synchronization"
   ]
  },
  {
   "cell_type": "markdown",
   "id": "98f121ff-6c27-4fbe-a716-6678616d2317",
   "metadata": {},
   "source": [
    "Force a synchronization rather than wait for the next scheduled sync:"
   ]
  },
  {
   "cell_type": "code",
   "execution_count": 27,
   "id": "945d8b56-f780-4ca2-9494-b401229adfad",
   "metadata": {
    "tags": []
   },
   "outputs": [],
   "source": [
    "force_sync = feature_view.sync()"
   ]
  },
  {
   "cell_type": "code",
   "execution_count": 28,
   "id": "e8f35924-5b40-478d-9a4c-2b789ef56270",
   "metadata": {
    "tags": []
   },
   "outputs": [
    {
     "data": {
      "text/plain": [
       "vertexai.resources.preview.feature_store.feature_view.FeatureView.FeatureViewSync"
      ]
     },
     "execution_count": 28,
     "metadata": {},
     "output_type": "execute_result"
    }
   ],
   "source": [
    "type(force_sync)"
   ]
  },
  {
   "cell_type": "code",
   "execution_count": 29,
   "id": "1ef56fac-c924-4ca1-89b7-559dda2792c4",
   "metadata": {
    "tags": []
   },
   "outputs": [
    {
     "data": {
      "text/plain": [
       "{'name': 'projects/1026793852137/locations/us-central1/featureOnlineStores/statmike_mlops_349915/featureViews/frameworks_catboost_prediction_feature_store/featureViewSyncs/8731573276163178496',\n",
       " 'createTime': '2024-11-19T19:37:57.742053Z',\n",
       " 'runTime': {'startTime': '2024-11-19T19:37:57.742053Z'}}"
      ]
     },
     "execution_count": 29,
     "metadata": {},
     "output_type": "execute_result"
    }
   ],
   "source": [
    "force_sync.to_dict()"
   ]
  },
  {
   "cell_type": "markdown",
   "id": "c852b4ca-69a7-44cc-b72a-6b7aa7fae099",
   "metadata": {},
   "source": [
    "Get updated information about the sync job:"
   ]
  },
  {
   "cell_type": "code",
   "execution_count": 30,
   "id": "9447d265-2768-4a5c-8ff1-2a94f9131e5f",
   "metadata": {
    "tags": []
   },
   "outputs": [
    {
     "data": {
      "text/plain": [
       "{'name': 'projects/1026793852137/locations/us-central1/featureOnlineStores/statmike_mlops_349915/featureViews/frameworks_catboost_prediction_feature_store/featureViewSyncs/8731573276163178496',\n",
       " 'createTime': '2024-11-19T19:37:57.742053Z',\n",
       " 'runTime': {'startTime': '2024-11-19T19:37:57.742053Z'}}"
      ]
     },
     "execution_count": 30,
     "metadata": {},
     "output_type": "execute_result"
    }
   ],
   "source": [
    "force_sync = feature_view.get_sync(name = force_sync.name)\n",
    "force_sync.to_dict()"
   ]
  },
  {
   "cell_type": "markdown",
   "id": "89791a3b-24ce-40b3-8ee8-7d6aac5e5939",
   "metadata": {},
   "source": [
    "Wait on the sync job to complete and report timing and rows synced:"
   ]
  },
  {
   "cell_type": "code",
   "execution_count": 31,
   "id": "1d2849ed-a0d1-41fd-b8ce-b9f4da8b15bb",
   "metadata": {
    "tags": []
   },
   "outputs": [
    {
     "name": "stdout",
     "output_type": "stream",
     "text": [
      "Waited 0 seconds, Update again in 30 seconds...\n",
      "Waited 30 seconds, Update again in 30 seconds...\n",
      "Waited 60 seconds, Update again in 30 seconds...\n",
      "Waited 90 seconds, Update again in 30 seconds...\n",
      "Waited 120 seconds, Update again in 30 seconds...\n",
      "Waited 150 seconds, Update again in 30 seconds...\n",
      "Sync completed in 158.091344 seconds and synced 284807 rows.\n"
     ]
    }
   ],
   "source": [
    "waited = 0\n",
    "while True:\n",
    "    sync_status = feature_view.get_sync(name = force_sync.name).to_dict()\n",
    "    if 'endTime' in list(sync_status['runTime'].keys()):\n",
    "        seconds = (\n",
    "            datetime.datetime.fromisoformat(sync_status['runTime']['endTime'].replace('Z', '+00:00'))\n",
    "            -\n",
    "            datetime.datetime.fromisoformat(sync_status['runTime']['startTime'].replace('Z', '+00:00'))\n",
    "        ).total_seconds()\n",
    "        rows = sync_status['syncSummary']['rowSynced']\n",
    "        print(f\"Sync completed in {seconds} seconds and synced {rows} rows.\")\n",
    "        break\n",
    "    else:\n",
    "        print(f\"Waited {waited} seconds, Update again in 30 seconds...\")\n",
    "        time.sleep(30)\n",
    "        waited += 30"
   ]
  },
  {
   "cell_type": "markdown",
   "id": "55621a7d-51ca-423e-9ab2-80898e35e32c",
   "metadata": {},
   "source": [
    "Get a list of sync jobs:"
   ]
  },
  {
   "cell_type": "code",
   "execution_count": 32,
   "id": "536a9a75-3c3d-4f8c-b3c1-71c6056403c9",
   "metadata": {
    "tags": []
   },
   "outputs": [],
   "source": [
    "list_syncs = feature_view.list_syncs()"
   ]
  },
  {
   "cell_type": "markdown",
   "id": "1f381c92-9fc4-4126-8515-fb84528cf24d",
   "metadata": {},
   "source": [
    "Print out the end time and rows synced for each job:"
   ]
  },
  {
   "cell_type": "code",
   "execution_count": 33,
   "id": "d814a871-c55d-46d4-8a1f-6f2165bcd184",
   "metadata": {
    "tags": []
   },
   "outputs": [
    {
     "name": "stdout",
     "output_type": "stream",
     "text": [
      "Sync completed at 11/19/2024 19:40:35 and synced 284807 rows.\n",
      "Sync completed at 11/19/2024 16:38:57 and synced 284807 rows.\n"
     ]
    }
   ],
   "source": [
    "for sync in list_syncs:\n",
    "    s = feature_view.get_sync(name = sync.name).to_dict()\n",
    "    ended = datetime.datetime.fromisoformat(s['runTime']['endTime'].replace('Z', '+00:00')).strftime(\"%m/%d/%Y %H:%M:%S\")\n",
    "    rows = s['syncSummary']['rowSynced']\n",
    "    print(f\"Sync completed at {ended} and synced {rows} rows.\")"
   ]
  },
  {
   "cell_type": "markdown",
   "id": "2a3a73cd-793b-40dc-b9f2-49f4dc7d03e3",
   "metadata": {},
   "source": [
    "### Retrieve: Features For Entity\n"
   ]
  },
  {
   "cell_type": "code",
   "execution_count": 34,
   "id": "fe1e3f3c-5bb6-4226-b7fe-5e62f7a5da4f",
   "metadata": {
    "tags": []
   },
   "outputs": [
    {
     "name": "stdout",
     "output_type": "stream",
     "text": [
      "Public endpoint for the optimized online store statmike_mlops_349915 is 6457115130579648512.us-central1-1026793852137.featurestore.vertexai.goog\n"
     ]
    }
   ],
   "source": [
    "results = feature_view.read(key = [transaction_ids[0]]).to_dict()['features']"
   ]
  },
  {
   "cell_type": "code",
   "execution_count": 35,
   "id": "ce1283c6-ea2b-481f-b97c-cfb17f890dfe",
   "metadata": {
    "tags": []
   },
   "outputs": [
    {
     "data": {
      "text/plain": [
       "[{'name': 'Time', 'value': {'double_value': 84204.0}},\n",
       " {'name': 'V1', 'value': {'double_value': -0.937843305478391}},\n",
       " {'name': 'V2', 'value': {'double_value': 3.46288948991687}},\n",
       " {'name': 'V3', 'value': {'double_value': -6.44510395393435}},\n",
       " {'name': 'V4', 'value': {'double_value': 4.9321986662268005}},\n",
       " {'name': 'V5', 'value': {'double_value': -2.2339830698224503}},\n",
       " {'name': 'V6', 'value': {'double_value': -2.29156112129773}},\n",
       " {'name': 'V7', 'value': {'double_value': -5.69559392853253}},\n",
       " {'name': 'V8', 'value': {'double_value': 1.3388246336226102}},\n",
       " {'name': 'V9', 'value': {'double_value': -4.3223765532932905}},\n",
       " {'name': 'V10', 'value': {'double_value': -8.0991193981365}},\n",
       " {'name': 'V11', 'value': {'double_value': 7.18296700883659}},\n",
       " {'name': 'V12', 'value': {'double_value': -9.44594338249901}},\n",
       " {'name': 'V13', 'value': {'double_value': -0.31461996752022403}},\n",
       " {'name': 'V14', 'value': {'double_value': -12.9914655817567}},\n",
       " {'name': 'V15', 'value': {'double_value': -0.136358931959623}},\n",
       " {'name': 'V16', 'value': {'double_value': -6.367524375171441}},\n",
       " {'name': 'V17', 'value': {'double_value': -12.7343938853776}},\n",
       " {'name': 'V18', 'value': {'double_value': -3.8451296588974304}},\n",
       " {'name': 'V19', 'value': {'double_value': 1.00766725992114}},\n",
       " {'name': 'V20', 'value': {'double_value': 1.12953228130351}},\n",
       " {'name': 'V21', 'value': {'double_value': 1.06655024941577}},\n",
       " {'name': 'V22', 'value': {'double_value': -0.521657289347299}},\n",
       " {'name': 'V23', 'value': {'double_value': -0.31991729290954696}},\n",
       " {'name': 'V24', 'value': {'double_value': -0.40585908809361704}},\n",
       " {'name': 'V25', 'value': {'double_value': 0.9068021599577158}},\n",
       " {'name': 'V26', 'value': {'double_value': 1.1657838901173703}},\n",
       " {'name': 'V27', 'value': {'double_value': 1.3744953323353502}},\n",
       " {'name': 'V28', 'value': {'double_value': 0.729889341911333}},\n",
       " {'name': 'Amount', 'value': {'double_value': 0.0}},\n",
       " {'name': 'Class', 'value': {'int64_value': '1'}}]"
      ]
     },
     "execution_count": 35,
     "metadata": {},
     "output_type": "execute_result"
    }
   ],
   "source": [
    "results"
   ]
  },
  {
   "cell_type": "markdown",
   "id": "fddd2176-a03c-40f6-93d2-74ee1d901842",
   "metadata": {},
   "source": [
    "---\n",
    "## CatBoost Prediction With Feature Store\n",
    "\n",
    "Predictions with CatBoost are the same and the input is just an array of feature values.  The value of feature store is providing the current value of these features as a simple API call with just the entity id for which the features are needed.  This section does these steps separately and then build a simple Python function to bring them together:\n",
    "- request features for an entity id, `transaction_id`\n",
    "- prepare the features for the model: ensure the order is correct and covert to a Numpy array for input to the model\n",
    "- make the prediction request"
   ]
  },
  {
   "cell_type": "markdown",
   "id": "09435450-549a-4711-8a52-6142139a7115",
   "metadata": {},
   "source": [
    "### Step 1: Request Features Based On Entity ID"
   ]
  },
  {
   "cell_type": "code",
   "execution_count": 36,
   "id": "cc919456-469d-4c59-ad9d-535bb2332062",
   "metadata": {
    "tags": []
   },
   "outputs": [],
   "source": [
    "entity_id = transaction_ids[1]"
   ]
  },
  {
   "cell_type": "code",
   "execution_count": 37,
   "id": "87729d54-acf2-46aa-930a-1c1431457698",
   "metadata": {
    "tags": []
   },
   "outputs": [],
   "source": [
    "features = feature_view.read(key = [entity_id]).to_dict()['features']"
   ]
  },
  {
   "cell_type": "markdown",
   "id": "b31a2185-27ef-4761-bb92-8abed66d0ad7",
   "metadata": {},
   "source": [
    "### Step 2: Prepare Features For Inference"
   ]
  },
  {
   "cell_type": "markdown",
   "id": "61e954b0-c2ff-427a-bd3d-61c2f71a4adc",
   "metadata": {},
   "source": [
    "Create a dictionary from the 'features' list:"
   ]
  },
  {
   "cell_type": "code",
   "execution_count": 38,
   "id": "28848489-4913-44f1-9ab2-bf99c6c7db23",
   "metadata": {
    "tags": []
   },
   "outputs": [],
   "source": [
    "feature_dict = {item['name']: list(item['value'].values())[0] for item in features}"
   ]
  },
  {
   "cell_type": "code",
   "execution_count": 39,
   "id": "84deb8f9-cc6a-414f-944c-24b740c7b313",
   "metadata": {
    "tags": []
   },
   "outputs": [
    {
     "data": {
      "text/plain": [
       "1.18489112271901"
      ]
     },
     "execution_count": 39,
     "metadata": {},
     "output_type": "execute_result"
    }
   ],
   "source": [
    "feature_dict['V1']"
   ]
  },
  {
   "cell_type": "markdown",
   "id": "3c7f31ef-7801-45df-918b-21cadc1483e5",
   "metadata": {},
   "source": [
    "Extract values in the order of 'model.feature_names_':"
   ]
  },
  {
   "cell_type": "code",
   "execution_count": 40,
   "id": "368f6a3d-1ee7-4ce0-ae23-ee2c65ded8aa",
   "metadata": {
    "tags": []
   },
   "outputs": [],
   "source": [
    "ordered_features = [feature_dict[name] for name in model.feature_names_]"
   ]
  },
  {
   "cell_type": "code",
   "execution_count": 41,
   "id": "f2c0b15a-e8a5-44ba-b40c-baa7c070ae70",
   "metadata": {
    "tags": []
   },
   "outputs": [
    {
     "data": {
      "text/plain": [
       "[149096.0,\n",
       " 1.18489112271901,\n",
       " 3.1520842053621103,\n",
       " -6.134779824630309,\n",
       " 5.531252206483231,\n",
       " 1.7338665141421399,\n",
       " -1.8168614660034201,\n",
       " -0.9166962776441879,\n",
       " 0.26556828701943597,\n",
       " -3.15801423516395,\n",
       " -3.89016924226376,\n",
       " 4.736593842655401,\n",
       " -4.16211519175474,\n",
       " -0.45669677948528903,\n",
       " -10.2667581077355,\n",
       " -0.583018263021109,\n",
       " 0.513470571003558,\n",
       " 0.11366540564811399,\n",
       " 1.4886203593893501,\n",
       " -1.8055767139319798,\n",
       " 0.336441865694103,\n",
       " 0.124235616370838,\n",
       " -0.8238646503270759,\n",
       " -0.0798873559390688,\n",
       " 0.0288277898864561,\n",
       " 0.389711468856018,\n",
       " 0.0601710709421762,\n",
       " 0.48518693548959096,\n",
       " 0.32655157174581395,\n",
       " 0.0]"
      ]
     },
     "execution_count": 41,
     "metadata": {},
     "output_type": "execute_result"
    }
   ],
   "source": [
    "ordered_features"
   ]
  },
  {
   "cell_type": "markdown",
   "id": "77ba1881-902f-4e0e-90d0-fdc353cdefd8",
   "metadata": {},
   "source": [
    "### Step 3: Make Prediction"
   ]
  },
  {
   "cell_type": "code",
   "execution_count": 42,
   "id": "9e135738-280e-4d5b-8d54-87750ca6a814",
   "metadata": {
    "tags": []
   },
   "outputs": [
    {
     "data": {
      "text/plain": [
       "1"
      ]
     },
     "execution_count": 42,
     "metadata": {},
     "output_type": "execute_result"
    }
   ],
   "source": [
    "model.predict(ordered_features)"
   ]
  },
  {
   "cell_type": "code",
   "execution_count": 43,
   "id": "0ce52dce-0ded-4086-ab51-56e7eb070267",
   "metadata": {
    "tags": []
   },
   "outputs": [
    {
     "data": {
      "text/plain": [
       "array([0.01341958, 0.98658042])"
      ]
     },
     "execution_count": 43,
     "metadata": {},
     "output_type": "execute_result"
    }
   ],
   "source": [
    "model.predict_proba(ordered_features)"
   ]
  },
  {
   "cell_type": "markdown",
   "id": "14dba902-09d1-44d3-8ceb-96f95e3c3fbe",
   "metadata": {},
   "source": [
    "### Combine Steps Into Function"
   ]
  },
  {
   "cell_type": "code",
   "execution_count": 44,
   "id": "8e5d09c9-82c2-4a76-a283-2930c841e2c7",
   "metadata": {
    "tags": []
   },
   "outputs": [],
   "source": [
    "def fs_retriever(entities):\n",
    "    instances = []\n",
    "    for entity_id in entities:\n",
    "        features = feature_view.read(key = [entity_id]).to_dict()['features']\n",
    "        feature_dict = {item['name']: list(item['value'].values())[0] for item in features}\n",
    "        ordered_features = [feature_dict[name] for name in model.feature_names_]\n",
    "        instances.append(ordered_features)\n",
    "    return instances"
   ]
  },
  {
   "cell_type": "markdown",
   "id": "19356b85-f45d-4090-89ba-9651ee196c6b",
   "metadata": {},
   "source": [
    "Use function to predict all the same entity ids in `transaction_ids`:"
   ]
  },
  {
   "cell_type": "code",
   "execution_count": 45,
   "id": "8ef1dc13-b6f9-4d9c-a0af-136ebadc4840",
   "metadata": {
    "tags": []
   },
   "outputs": [
    {
     "data": {
      "text/plain": [
       "[1, 1, 1, 1, 1, 1, 1, 1, 1, 1]"
      ]
     },
     "execution_count": 45,
     "metadata": {},
     "output_type": "execute_result"
    }
   ],
   "source": [
    "model.predict(fs_retriever(transaction_ids)).tolist()"
   ]
  },
  {
   "cell_type": "markdown",
   "id": "7a84c26f-7037-40bb-9045-78e486ee88e0",
   "metadata": {},
   "source": [
    "Use function to predict all the same entity ids in `transaction_ids` with detailed output:"
   ]
  },
  {
   "cell_type": "code",
   "execution_count": 46,
   "id": "27d0edf2-fdd2-420c-9121-7c68f6714e10",
   "metadata": {
    "tags": []
   },
   "outputs": [
    {
     "data": {
      "text/plain": [
       "[{'classes': ['0', '1'],\n",
       "  'entity_id': 'ac53e6ca-f676-48fa-94cc-9a35972f838d',\n",
       "  'scores': [0.008689290169925812, 0.9913107098300742],\n",
       "  'predicted_class': '1'},\n",
       " {'classes': ['0', '1'],\n",
       "  'entity_id': 'dcadf588-4079-474f-b0b6-5872949ab2bf',\n",
       "  'scores': [0.013419578610015415, 0.9865804213899846],\n",
       "  'predicted_class': '1'},\n",
       " {'classes': ['0', '1'],\n",
       "  'entity_id': 'cff98a84-d59e-4782-a830-85719d1bc568',\n",
       "  'scores': [0.02156018183823749, 0.9784398181617625],\n",
       "  'predicted_class': '1'},\n",
       " {'classes': ['0', '1'],\n",
       "  'entity_id': '342e315a-baad-469c-b940-68cdffe5b250',\n",
       "  'scores': [0.30935719801551453, 0.6906428019844855],\n",
       "  'predicted_class': '1'},\n",
       " {'classes': ['0', '1'],\n",
       "  'entity_id': '920807da-79dc-408e-9aed-da8ce7da0ec7',\n",
       "  'scores': [0.31034638138520554, 0.6896536186147945],\n",
       "  'predicted_class': '1'},\n",
       " {'classes': ['0', '1'],\n",
       "  'entity_id': '806c0df5-a785-4562-addd-2a0fcbd03273',\n",
       "  'scores': [0.003639435519011358, 0.9963605644809886],\n",
       "  'predicted_class': '1'},\n",
       " {'classes': ['0', '1'],\n",
       "  'entity_id': '0953278e-e1cc-4895-91bf-dfb2e79e86e4',\n",
       "  'scores': [0.0019279265214555696, 0.9980720734785444],\n",
       "  'predicted_class': '1'},\n",
       " {'classes': ['0', '1'],\n",
       "  'entity_id': '1a380124-4ca5-41b4-afc0-18fb4478a76e',\n",
       "  'scores': [0.029414090864905873, 0.9705859091350941],\n",
       "  'predicted_class': '1'},\n",
       " {'classes': ['0', '1'],\n",
       "  'entity_id': 'fb15047a-d389-48c3-8b3b-c4faba32a418',\n",
       "  'scores': [0.0014371475878772744, 0.9985628524121227],\n",
       "  'predicted_class': '1'},\n",
       " {'classes': ['0', '1'],\n",
       "  'entity_id': 'e12d9f95-f115-4d7f-8da8-437c584c5740',\n",
       "  'scores': [0.024110699328721008, 0.975889300671279],\n",
       "  'predicted_class': '1'}]"
      ]
     },
     "execution_count": 46,
     "metadata": {},
     "output_type": "execute_result"
    }
   ],
   "source": [
    "_classes = [str(c) for c in list(model.classes_)]\n",
    "[\n",
    "    dict(\n",
    "        classes = _classes,\n",
    "        entity_id = transaction_ids[p],\n",
    "        scores = probs,\n",
    "        predicted_class = _classes[np.argmax(probs)]\n",
    "    ) for p, probs in enumerate(model.predict_proba(fs_retriever(transaction_ids)).tolist())\n",
    "]"
   ]
  },
  {
   "cell_type": "markdown",
   "id": "947ac126-a16b-484e-bdc8-8d7c8918b6cb",
   "metadata": {},
   "source": [
    "---\n",
    "## Build A Custom Prediction Container\n",
    "\n",
    "It is really not all that hard with Python!\n",
    "\n",
    "For this example [FastAPI](https://fastapi.tiangolo.com/) is used.\n",
    "\n",
    "This process uses docker to build a custom container and then runs the container on Cloud Run.\n",
    "\n",
    "This could be done locally with Docker and pushed to Artifact Registry before deployment to Cloud Run.  The process below assumes that docker is not available locally and used Cloud Build to both build and push the resulting container to Artifact Registry."
   ]
  },
  {
   "cell_type": "markdown",
   "id": "1e5a486b-13fd-4971-b6b3-c93875fc2535",
   "metadata": {},
   "source": [
    "### Setup Artifact Registry\n",
    "\n",
    "[Artifact registry](https://cloud.google.com/artifact-registry/docs) organizes artifacts with repositories.  Each repository contains packages and is designated to hold a partifcular format of package: Docker images, Python Packages and [others](https://cloud.google.com/artifact-registry/docs/supported-formats#package)."
   ]
  },
  {
   "cell_type": "markdown",
   "id": "fd4e3d8b-99e3-452d-8f5b-c8612f3d48ca",
   "metadata": {},
   "source": [
    "#### List Repositories\n",
    "\n",
    "This may be empty if no repositories have been created for this project"
   ]
  },
  {
   "cell_type": "code",
   "execution_count": 47,
   "id": "ab2ae8bc-f0c2-4a8f-a93b-cd9d13a1374c",
   "metadata": {
    "tags": []
   },
   "outputs": [
    {
     "name": "stdout",
     "output_type": "stream",
     "text": [
      "projects/statmike-mlops-349915/locations/us-central1/repositories/frameworks-catboost\n",
      "projects/statmike-mlops-349915/locations/us-central1/repositories/gcf-artifacts\n",
      "projects/statmike-mlops-349915/locations/us-central1/repositories/mlops\n",
      "projects/statmike-mlops-349915/locations/us-central1/repositories/statmike-mlops-349915\n",
      "projects/statmike-mlops-349915/locations/us-central1/repositories/statmike-mlops-349915-docker\n",
      "projects/statmike-mlops-349915/locations/us-central1/repositories/statmike-mlops-349915-python\n"
     ]
    }
   ],
   "source": [
    "for repo in ar.list_repositories(parent = f'projects/{PROJECT_ID}/locations/{REGION}'):\n",
    "    print(repo.name)"
   ]
  },
  {
   "cell_type": "markdown",
   "id": "2b72d358-68e0-495c-badc-e9337ab0ce6b",
   "metadata": {},
   "source": [
    "#### Create/Retrieve Docker Image Repository\n",
    "\n",
    "Create an Artifact Registry Repository to hold Docker Images created by this notebook.  First, check to see if it is already created by a previous run and retrieve it if it has.  Otherwise, create one named for this project."
   ]
  },
  {
   "cell_type": "code",
   "execution_count": 48,
   "id": "b89c88c5-a3c2-4f1a-b85c-33a14f86ec0c",
   "metadata": {
    "tags": []
   },
   "outputs": [
    {
     "name": "stdout",
     "output_type": "stream",
     "text": [
      "Retrieved existing repo: projects/statmike-mlops-349915/locations/us-central1/repositories/frameworks-catboost\n"
     ]
    }
   ],
   "source": [
    "docker_repo = None\n",
    "for repo in ar.list_repositories(parent = f'projects/{PROJECT_ID}/locations/{REGION}'):\n",
    "    if f'{SERIES}' == repo.name.split('/')[-1]:\n",
    "        docker_repo = repo\n",
    "        print(f'Retrieved existing repo: {docker_repo.name}')\n",
    "\n",
    "if not docker_repo:\n",
    "    operation = ar.create_repository(\n",
    "        request = artifactregistry_v1.CreateRepositoryRequest(\n",
    "            parent = f'projects/{PROJECT_ID}/locations/{REGION}',\n",
    "            repository_id = f'{SERIES}',\n",
    "            repository = artifactregistry_v1.Repository(\n",
    "                description = f'A repository for the {SERIES} series that holds docker images.',\n",
    "                name = f'{SERIES}',\n",
    "                format_ = artifactregistry_v1.Repository.Format.DOCKER,\n",
    "                labels = {'series': SERIES}\n",
    "            )\n",
    "        )\n",
    "    )\n",
    "    print('Creating Repository ...')\n",
    "    docker_repo = operation.result()\n",
    "    print(f'Completed creating repo: {docker_repo.name}')"
   ]
  },
  {
   "cell_type": "code",
   "execution_count": 49,
   "id": "36648583-26dc-458f-a664-2ded0f98650c",
   "metadata": {
    "tags": []
   },
   "outputs": [
    {
     "data": {
      "text/plain": [
       "('projects/statmike-mlops-349915/locations/us-central1/repositories/frameworks-catboost',\n",
       " 'DOCKER')"
      ]
     },
     "execution_count": 49,
     "metadata": {},
     "output_type": "execute_result"
    }
   ],
   "source": [
    "docker_repo.name, docker_repo.format_.name"
   ]
  },
  {
   "cell_type": "code",
   "execution_count": 50,
   "id": "4ae1c820-a24b-46a0-bb1a-900d32ecf985",
   "metadata": {
    "tags": []
   },
   "outputs": [],
   "source": [
    "REPOSITORY = f\"{REGION}-docker.pkg.dev/{PROJECT_ID}/{docker_repo.name.split('/')[-1]}\""
   ]
  },
  {
   "cell_type": "code",
   "execution_count": 51,
   "id": "e87e8adb-19a0-4c3c-9de6-6e98f94b13fb",
   "metadata": {
    "tags": []
   },
   "outputs": [
    {
     "data": {
      "text/plain": [
       "'us-central1-docker.pkg.dev/statmike-mlops-349915/frameworks-catboost'"
      ]
     },
     "execution_count": 51,
     "metadata": {},
     "output_type": "execute_result"
    }
   ],
   "source": [
    "REPOSITORY"
   ]
  },
  {
   "cell_type": "markdown",
   "id": "080b5c92-9769-4f8d-8dbb-d2dd61999c87",
   "metadata": {
    "tags": []
   },
   "source": [
    "---\n",
    "### Create Application Files\n",
    "\n",
    "```\n",
    "|__ Dockerfile\n",
    "|__ requirements.txt\n",
    "|__ app\n",
    "    |__ __init__.py\n",
    "    |__ main.py\n",
    "    |__ prestart.sh\n",
    "```"
   ]
  },
  {
   "cell_type": "code",
   "execution_count": 84,
   "id": "f8e5ac5f-b21c-474b-b8a1-07271146330b",
   "metadata": {
    "tags": []
   },
   "outputs": [],
   "source": [
    "if not os.path.exists(DIR + '/source/app'):\n",
    "    os.makedirs(DIR + '/source/app')"
   ]
  },
  {
   "cell_type": "code",
   "execution_count": 85,
   "id": "d16d05ad-5078-4b4a-81bf-d151253c02da",
   "metadata": {
    "tags": []
   },
   "outputs": [
    {
     "name": "stdout",
     "output_type": "stream",
     "text": [
      "Overwriting files/prediction-feature-store/source/Dockerfile\n"
     ]
    }
   ],
   "source": [
    "%%writefile {DIR}/source/Dockerfile\n",
    "FROM tiangolo/uvicorn-gunicorn-fastapi:python3.9\n",
    "\n",
    "COPY ./app /app\n",
    "COPY ./requirements.txt requirements.txt\n",
    "\n",
    "RUN pip install --no-cache-dir --upgrade pip \\\n",
    "  && pip install --no-cache-dir -r requirements.txt"
   ]
  },
  {
   "cell_type": "code",
   "execution_count": 144,
   "id": "c3ce7dc9-c524-4964-bc31-77065fa0c294",
   "metadata": {
    "tags": []
   },
   "outputs": [
    {
     "name": "stdout",
     "output_type": "stream",
     "text": [
      "Overwriting files/prediction-feature-store/source/requirements.txt\n"
     ]
    }
   ],
   "source": [
    "%%writefile {DIR}/source/requirements.txt\n",
    "google-cloud-storage\n",
    "google-cloud-aiplatform==1.71.0\n",
    "catboost\n",
    "numpy"
   ]
  },
  {
   "cell_type": "code",
   "execution_count": 145,
   "id": "2fbf9016-f4d8-4e77-ad2a-821fe1c217ee",
   "metadata": {
    "tags": []
   },
   "outputs": [
    {
     "name": "stdout",
     "output_type": "stream",
     "text": [
      "Overwriting files/prediction-feature-store/source/app/__init__.py\n"
     ]
    }
   ],
   "source": [
    "%%writefile {DIR}/source/app/__init__.py\n",
    "# init file"
   ]
  },
  {
   "cell_type": "code",
   "execution_count": 186,
   "id": "73bbf12d-d508-4ec7-9012-66fe7f0d7e87",
   "metadata": {
    "tags": []
   },
   "outputs": [],
   "source": [
    "online_store = feature_store.FeatureOnlineStore(\n",
    "    name = f\"projects/{PROJECT_ID}/locations/{REGION}/featureOnlineStores/{FS_NAME}\"\n",
    ")"
   ]
  },
  {
   "cell_type": "code",
   "execution_count": 187,
   "id": "56c2bccc-7904-4580-aad9-4a1e1c6b2bc6",
   "metadata": {
    "tags": []
   },
   "outputs": [
    {
     "data": {
      "text/plain": [
       "'statmike_mlops_349915'"
      ]
     },
     "execution_count": 187,
     "metadata": {},
     "output_type": "execute_result"
    }
   ],
   "source": [
    "online_store.name"
   ]
  },
  {
   "cell_type": "code",
   "execution_count": 253,
   "id": "3c81b52d-804d-4650-834f-8af657d223e5",
   "metadata": {
    "tags": []
   },
   "outputs": [
    {
     "name": "stdout",
     "output_type": "stream",
     "text": [
      "Overwriting files/prediction-feature-store/source/app/main.py\n"
     ]
    }
   ],
   "source": [
    "%%writefile {DIR}/source/app/main.py\n",
    "# this version:\n",
    "# - inputs to be json like {'instances': [[list],[list], ...]}\n",
    "# - outputs in json like {'predictions': [[list],[list], ...]}\n",
    "# trying to adhere to Vetex Endpoints Requirements:\n",
    "# - https://cloud.google.com/vertex-ai/docs/predictions/get-online-predictions\n",
    "\n",
    "# packages\n",
    "import os\n",
    "from fastapi import FastAPI, Request\n",
    "import catboost\n",
    "import numpy as np\n",
    "from google.cloud import storage\n",
    "from google.cloud import aiplatform\n",
    "from vertexai.resources.preview import feature_store\n",
    "\n",
    "import logging\n",
    "logger = logging.getLogger()\n",
    "logger.setLevel(logging.INFO)\n",
    "logger.addHandler(logging.StreamHandler())\n",
    "logging.info(f'aiplatform version: {aiplatform.__version__}')\n",
    "\n",
    "# NAMES\n",
    "PROJECT_ID = 'statmike-mlops-349915'\n",
    "REGION = 'us-central1'\n",
    "FS_NAME = 'statmike-mlops-349915'\n",
    "FV_NAME = 'frameworks_catboost_prediction_feature_store'\n",
    "\n",
    "# clients\n",
    "app = FastAPI()\n",
    "gcs = storage.Client()\n",
    "aiplatform.init(project = PROJECT_ID, location = REGION)\n",
    "\n",
    "# feature store\n",
    "online_store = feature_store.FeatureOnlineStore(\n",
    "    name = f\"projects/{PROJECT_ID}/locations/{REGION}/featureOnlineStores/{FS_NAME}\"\n",
    ")\n",
    "feature_view = feature_store.FeatureView(\n",
    "    name = FV_NAME,\n",
    "    feature_online_store_id = online_store.resource_name\n",
    ")\n",
    "\n",
    "# download the model file from GCS\n",
    "paths = os.environ['AIP_STORAGE_URI'].split('/') + ['model.cbm']\n",
    "bucket = gcs.bucket(paths[2])\n",
    "blob = bucket.blob('/'.join(paths[3:]))\n",
    "blob.download_to_filename('model.cbm')\n",
    "\n",
    "# Load the catboost model\n",
    "_model = catboost.CatBoostClassifier().load_model('model.cbm')\n",
    "\n",
    "# get model classification levels and feature names\n",
    "_classes = [str(c) for c in list(_model.classes_)]\n",
    "_features = _model.feature_names_\n",
    "\n",
    "# function to retrieve from feature store\n",
    "def fs_retriever(entities):\n",
    "    instances = []\n",
    "    for entity_id in entities:\n",
    "        features = feature_view.read(key = [entity_id.decode()]).to_dict()['features']\n",
    "        feature_dict = {item['name']: list(item['value'].values())[0] for item in features}\n",
    "        ordered_features = [feature_dict[name] for name in _features]\n",
    "        instances.append(ordered_features)\n",
    "    return instances\n",
    "\n",
    "# Define function for health route\n",
    "@app.get(os.environ['AIP_HEALTH_ROUTE'], status_code=200)\n",
    "def health():\n",
    "    return {}\n",
    "\n",
    "# Define function for prediction route\n",
    "@app.post(os.environ['AIP_PREDICT_ROUTE'])\n",
    "async def predict(request: Request):\n",
    "    # await the request\n",
    "    body = await request.json()\n",
    "    \n",
    "    # parse the request\n",
    "    entities = body[\"instances\"]\n",
    "    \n",
    "    # get predicted probabilities\n",
    "    predictions = _model.predict_proba(fs_retriever(entities)).tolist()\n",
    "\n",
    "    # this returns just the predicted probabilities:\n",
    "    return {\"predictions\": predictions}"
   ]
  },
  {
   "cell_type": "code",
   "execution_count": 254,
   "id": "7cb6c05f-257f-43bd-884a-a8026c7fb4b4",
   "metadata": {
    "tags": []
   },
   "outputs": [
    {
     "name": "stdout",
     "output_type": "stream",
     "text": [
      "Overwriting files/prediction-feature-store/source/app/main2.py\n"
     ]
    }
   ],
   "source": [
    "%%writefile {DIR}/source/app/main2.py\n",
    "# this version:\n",
    "# - inputs to be json like {'instances': [[list],[list], ...]}\n",
    "# - outputs in json like {'predictions': [{'classes': list, 'scores': list, 'predicted_class': str}, ...]}\n",
    "# trying to adhere to Vetex Endpoints Requirements:\n",
    "# - https://cloud.google.com/vertex-ai/docs/predictions/get-online-predictions\n",
    "\n",
    "# packages\n",
    "import os\n",
    "from fastapi import FastAPI, Request\n",
    "import catboost\n",
    "import numpy as np\n",
    "from google.cloud import storage\n",
    "from google.cloud import aiplatform\n",
    "from vertexai.resources.preview import feature_store\n",
    "\n",
    "# NAMES\n",
    "PROJECT_ID = 'statmike-mlops-349915'\n",
    "REGION = 'us-central1'\n",
    "FS_NAME = 'statmike-mlops-349915'\n",
    "FV_NAME = 'frameworks_catboost_prediction_feature_store'\n",
    "\n",
    "# clients\n",
    "app = FastAPI()\n",
    "gcs = storage.Client()\n",
    "aiplatform.init(project = PROJECT_ID, location = REGION)\n",
    "\n",
    "# feature store\n",
    "online_store = feature_store.FeatureOnlineStore(\n",
    "    name = f\"projects/{PROJECT_ID}/locations/{REGION}/featureOnlineStores/{FS_NAME}\"\n",
    ")\n",
    "feature_view = feature_store.FeatureView(\n",
    "    name = FV_NAME,\n",
    "    feature_online_store_id = online_store.resource_name\n",
    ")\n",
    "\n",
    "# download the model file from GCS\n",
    "paths = os.environ['AIP_STORAGE_URI'].split('/') + ['model.cbm']\n",
    "bucket = gcs.bucket(paths[2])\n",
    "blob = bucket.blob('/'.join(paths[3:]))\n",
    "blob.download_to_filename('model.cbm')\n",
    "\n",
    "# Load the catboost model\n",
    "_model = catboost.CatBoostClassifier().load_model('model.cbm')\n",
    "\n",
    "# get model classification levels and feature names\n",
    "_classes = [str(c) for c in list(_model.classes_)]\n",
    "_features = _model.feature_names_\n",
    "\n",
    "# function to retrieve from feature store\n",
    "def fs_retriever(entities):\n",
    "    instances = []\n",
    "    for entity_id in entities:\n",
    "        features = feature_view.read(key = [entity_id.decode()]).to_dict()['features']\n",
    "        feature_dict = {item['name']: list(item['value'].values())[0] for item in features}\n",
    "        ordered_features = [feature_dict[name] for name in _features]\n",
    "        instances.append(ordered_features)\n",
    "    return instances\n",
    "\n",
    "# Define function for health route\n",
    "@app.get(os.environ['AIP_HEALTH_ROUTE'], status_code=200)\n",
    "def health():\n",
    "    return {}\n",
    "\n",
    "# Define function for prediction route\n",
    "@app.post(os.environ['AIP_PREDICT_ROUTE'])\n",
    "async def predict(request: Request):\n",
    "    # await the request\n",
    "    body = await request.json()\n",
    "    \n",
    "    # parse the request\n",
    "    entities = body[\"instances\"]\n",
    "    \n",
    "    # get predicted probabilities\n",
    "    predictions = _model.predict_proba(instances).tolist()\n",
    "    \n",
    "    # format predictions:\n",
    "    preds = [\n",
    "        dict(\n",
    "            classes = _classes,\n",
    "            entity_id = entities[p],\n",
    "            scores = probs,\n",
    "            predicted_class = _classes[np.argmax(probs)]\n",
    "        ) for p, probs in enumerate(model.predict_proba(fs_retriever(entities)).tolist())\n",
    "    ]\n",
    "    \n",
    "    # following outputs detail prediction info for classification:\n",
    "    return {\"predictions\": preds}"
   ]
  },
  {
   "cell_type": "code",
   "execution_count": 255,
   "id": "b276da1b-08b9-4b50-a250-580010fb7e0a",
   "metadata": {
    "tags": []
   },
   "outputs": [
    {
     "name": "stdout",
     "output_type": "stream",
     "text": [
      "Overwriting files/prediction-feature-store/source/app/prestart.sh\n"
     ]
    }
   ],
   "source": [
    "%%writefile {DIR}/source/app/prestart.sh\n",
    "#!/bin/bash\n",
    "export PORT=$AIP_HTTP_PORT"
   ]
  },
  {
   "cell_type": "code",
   "execution_count": 256,
   "id": "486905a1-47aa-4fb8-a485-ad1b157360e8",
   "metadata": {
    "tags": []
   },
   "outputs": [],
   "source": [
    "bucket.blob(f'{SERIES}/{EXPERIMENT}/source/Dockerfile').upload_from_filename(f'{DIR}/source/Dockerfile')\n",
    "bucket.blob(f'{SERIES}/{EXPERIMENT}/source/requirements.txt').upload_from_filename(f'{DIR}/source/requirements.txt')\n",
    "bucket.blob(f'{SERIES}/{EXPERIMENT}/source/app/__init__.py').upload_from_filename(f'{DIR}/source/app/__init__.py')\n",
    "bucket.blob(f'{SERIES}/{EXPERIMENT}/source/app/main.py').upload_from_filename(f'{DIR}/source/app/main.py')\n",
    "bucket.blob(f'{SERIES}/{EXPERIMENT}/source/app/main2.py').upload_from_filename(f'{DIR}/source/app/main2.py')\n",
    "bucket.blob(f'{SERIES}/{EXPERIMENT}/source/app/prestart.sh').upload_from_filename(f'{DIR}/source/app/prestart.sh')"
   ]
  },
  {
   "cell_type": "code",
   "execution_count": 257,
   "id": "538d0a44-c7e7-42e7-b537-39b1b46f017d",
   "metadata": {
    "tags": []
   },
   "outputs": [
    {
     "data": {
      "text/plain": [
       "[<Blob: statmike-mlops-349915, frameworks-catboost/prediction-feature-store/source/Dockerfile, 1732063277330757>,\n",
       " <Blob: statmike-mlops-349915, frameworks-catboost/prediction-feature-store/source/app/__init__.py, 1732063277485416>,\n",
       " <Blob: statmike-mlops-349915, frameworks-catboost/prediction-feature-store/source/app/main.py, 1732063277556475>,\n",
       " <Blob: statmike-mlops-349915, frameworks-catboost/prediction-feature-store/source/app/main2.py, 1732063277633222>,\n",
       " <Blob: statmike-mlops-349915, frameworks-catboost/prediction-feature-store/source/app/prestart.sh, 1732063277719087>,\n",
       " <Blob: statmike-mlops-349915, frameworks-catboost/prediction-feature-store/source/requirements.txt, 1732063277409353>]"
      ]
     },
     "execution_count": 257,
     "metadata": {},
     "output_type": "execute_result"
    }
   ],
   "source": [
    "list(bucket.list_blobs(prefix = f'{SERIES}/{EXPERIMENT}/source'))"
   ]
  },
  {
   "cell_type": "markdown",
   "id": "4230bf3e-6a9e-4aa0-8e0c-b9606de43c6c",
   "metadata": {},
   "source": [
    "---\n",
    "### Build Application Container\n",
    "\n",
    "Use the Cloud Build client to construct and run the build instructions. Here the files collected in GCS are copied to the build instance, then the Docker build is run in the folder with the `Dockerfile`. The resulting image is pushed to Artifact Registry (setup above)."
   ]
  },
  {
   "cell_type": "code",
   "execution_count": 258,
   "id": "46d387a0-cde7-44c9-8375-7a66fceb5189",
   "metadata": {
    "tags": []
   },
   "outputs": [],
   "source": [
    "# setup the build config with empty list of steps - these will be added sequentially\n",
    "build = cloudbuild_v1.Build(\n",
    "    steps = []\n",
    ")\n",
    "# retrieve the source\n",
    "build.steps.append(\n",
    "    {\n",
    "        'name': 'gcr.io/cloud-builders/gsutil',\n",
    "        'args': ['cp', '-r', f'gs://{GCS_BUCKET}/{SERIES}/{EXPERIMENT}/source/*', '/workspace']\n",
    "    }\n",
    ")\n",
    "# docker build\n",
    "build.steps.append(\n",
    "    {\n",
    "        'name': 'gcr.io/cloud-builders/docker',\n",
    "        'args': ['build', '-t', f'{REPOSITORY}/{EXPERIMENT}', '/workspace']\n",
    "    }    \n",
    ")\n",
    "# docker push\n",
    "build.images = [f\"{REPOSITORY}/{EXPERIMENT}\"]"
   ]
  },
  {
   "cell_type": "code",
   "execution_count": 259,
   "id": "641c69ee-816e-4aa6-8c97-26355e701864",
   "metadata": {
    "tags": []
   },
   "outputs": [],
   "source": [
    "operation = cb.create_build(\n",
    "    project_id = PROJECT_ID,\n",
    "    build = build\n",
    ")"
   ]
  },
  {
   "cell_type": "code",
   "execution_count": 260,
   "id": "4999ba21-d06a-4ed3-99b5-b7146ee6991c",
   "metadata": {
    "tags": []
   },
   "outputs": [
    {
     "data": {
      "text/plain": [
       "(<Status.SUCCESS: 3>,\n",
       " images: \"us-central1-docker.pkg.dev/statmike-mlops-349915/frameworks-catboost/prediction-feature-store\")"
      ]
     },
     "execution_count": 260,
     "metadata": {},
     "output_type": "execute_result"
    }
   ],
   "source": [
    "build_response = operation.result()\n",
    "build_response.status, build_response.artifacts"
   ]
  },
  {
   "cell_type": "code",
   "execution_count": 261,
   "id": "2bc1e0bc-8843-4001-abbf-1de9a9e585f1",
   "metadata": {
    "tags": []
   },
   "outputs": [
    {
     "data": {
      "text/plain": [
       "'us-central1-docker.pkg.dev/statmike-mlops-349915/frameworks-catboost/prediction-feature-store'"
      ]
     },
     "execution_count": 261,
     "metadata": {},
     "output_type": "execute_result"
    }
   ],
   "source": [
    "build_response.artifacts.images[0]"
   ]
  },
  {
   "cell_type": "markdown",
   "id": "974f4339-ed04-4701-8c34-e8a8750b67b2",
   "metadata": {
    "tags": []
   },
   "source": [
    "---\n",
    "## Test Locally\n",
    "\n",
    "If Docker is installed and running locally then use it to test the image."
   ]
  },
  {
   "cell_type": "code",
   "execution_count": 155,
   "id": "db4be5ca-e500-4aa4-8165-ad6fcc64ca02",
   "metadata": {
    "tags": []
   },
   "outputs": [
    {
     "name": "stdout",
     "output_type": "stream",
     "text": [
      "Docker is installed and running. Version: 20.10.17\n"
     ]
    }
   ],
   "source": [
    "try:\n",
    "    local_test = True\n",
    "    docker_client = docker.from_env()\n",
    "    if docker_client.ping():\n",
    "        print(f\"Docker is installed and running. Version: {docker_client.version()['Version']}\")\n",
    "    # Run the following command to configure gcloud as the credential helper for the Artifact Registry domain associated with this repository's location:\n",
    "    config_docker = !gcloud auth configure-docker us-central1-docker.pkg.dev --quiet\n",
    "except Exception as e:\n",
    "    local_test = False\n",
    "    print('Docker is either not installed or not running - please fix before proceeding.\\nhttps://docs.docker.com/engine/install/')"
   ]
  },
  {
   "cell_type": "markdown",
   "id": "3cbf4fed-fb83-42cf-87e3-7b63b1677c9d",
   "metadata": {},
   "source": [
    "### Pull and Run Container\n",
    "\n",
    "Run the container image with:\n",
    "- ports: inside 8080 mapped to outside 80\n",
    "- set environment variables for:\n",
    "    - `AIP_HTTP_PORT` is `8080`\n",
    "    - `AIP_HEALTH_ROUTE` is `/health`\n",
    "    - `AIP_PREDICT_ROUTE` is `/predict`\n",
    "    - `AIP_STORAGE_URI` is the `gs://bucket/path/to/folder`\n",
    "    - `MODULE_NAME` is 'main'\n",
    "        - this actually defaults to main so is not required\n",
    "        - an alternative script with different prediction output is created in `main2.py` above\n",
    "        - use this environment variable to start the container using the alternative script in module `main2`\n",
    "        - see the [FastAPI Docker Image Advanced Usage](https://github.com/tiangolo/uvicorn-gunicorn-fastapi-docker?tab=readme-ov-file#advanced-usage) details"
   ]
  },
  {
   "cell_type": "code",
   "execution_count": 160,
   "id": "5e684ffd-e83b-4573-a260-e06a9a4a8684",
   "metadata": {
    "tags": []
   },
   "outputs": [
    {
     "name": "stdout",
     "output_type": "stream",
     "text": [
      "New image found, updating ...\n",
      "Starting container ...\n",
      "Container ready.\n",
      "\tUse `container.logs()` to view startup logs.\n"
     ]
    }
   ],
   "source": [
    "if local_test:\n",
    "    # make sure any prior runs are stopped:\n",
    "    try:\n",
    "        container = docker_client.containers.get('local-run')\n",
    "        container.stop()\n",
    "        container.remove()\n",
    "    except docker.errors.NotFound:\n",
    "        pass\n",
    "    \n",
    "    # get image:\n",
    "    image_uri = build_response.artifacts.images[0]\n",
    "    try:\n",
    "        local_image = docker_client.images.get(image_uri)\n",
    "        remote_image = docker_client.images.pull(image_uri)\n",
    "        if local_image.id != remote_image.id:\n",
    "            print('New image found, updating ...')\n",
    "            local_image = remote_image\n",
    "        else:\n",
    "            print('Using existing image ...')\n",
    "    except docker.errors.ImageNotFound:\n",
    "        print('Pulling image ...')\n",
    "        local_image = docker_client.images.pull(image_uri)\n",
    "        \n",
    "    # run container:\n",
    "    print('Starting container ...')\n",
    "    container = docker_client.containers.run(\n",
    "        image = image_uri,\n",
    "        detach = True,\n",
    "        ports = {'8080/tcp':80}, # Map inside:outside (where docker run -p is outside:inside)\n",
    "        name = 'local-run',\n",
    "        environment = {\n",
    "            'AIP_HTTP_PORT': '8080',\n",
    "            'AIP_HEALTH_ROUTE': '/health',\n",
    "            'AIP_PREDICT_ROUTE': '/predict',\n",
    "            'AIP_STORAGE_URI': f'gs://{bucket.name}/{SERIES}/notebook',\n",
    "            'MODULE_NAME': 'main' # try main or main2 for alternative output\n",
    "        }\n",
    "    )\n",
    "    print('Container ready.\\n\\tUse `container.logs()` to view startup logs.')"
   ]
  },
  {
   "cell_type": "code",
   "execution_count": null,
   "id": "8067395f-48cd-4861-8f58-5670ac714a63",
   "metadata": {
    "tags": []
   },
   "outputs": [],
   "source": [
    "container.logs()"
   ]
  },
  {
   "cell_type": "markdown",
   "id": "4def2d01-7db7-4382-ab81-516be0c7b2f0",
   "metadata": {},
   "source": [
    "### Health Check\n",
    "\n",
    "Want to see `200`:"
   ]
  },
  {
   "cell_type": "code",
   "execution_count": null,
   "id": "dcd47793-1f16-4994-aa5a-fd3347115ff2",
   "metadata": {
    "tags": []
   },
   "outputs": [],
   "source": [
    "if local_test:\n",
    "    response = requests.get(f\"http://localhost:80/health\")\n",
    "    print(response.status_code)"
   ]
  },
  {
   "cell_type": "markdown",
   "id": "0d1a78ed-f9a9-44a0-afd3-5e8deb7d5e44",
   "metadata": {},
   "source": [
    "### Inference Test"
   ]
  },
  {
   "cell_type": "code",
   "execution_count": null,
   "id": "33ab9766-05a3-4860-a3bc-507dfbf239a1",
   "metadata": {
    "tags": []
   },
   "outputs": [],
   "source": [
    "def predict(instances):\n",
    "    url = f\"http://localhost:80/predict\"\n",
    "    headers = {'Content_Type': 'application/json'}\n",
    "    data = json.dumps({'instances': instances})\n",
    "    response = requests.post(url, headers = headers, data = data)\n",
    "    print(response)\n",
    "    return json.loads(response.text)"
   ]
  },
  {
   "cell_type": "code",
   "execution_count": null,
   "id": "c6c5b249-023e-4901-af9d-13c3fb1be97c",
   "metadata": {
    "tags": []
   },
   "outputs": [],
   "source": [
    "predict(transaction_ids[0:1])"
   ]
  },
  {
   "cell_type": "code",
   "execution_count": 276,
   "id": "a269937a-ed56-4e7f-b15e-fc8bffcbfb23",
   "metadata": {
    "tags": []
   },
   "outputs": [
    {
     "data": {
      "text/plain": [
       "{'predictions': [{'classes': ['0', '1'],\n",
       "   'scores': [0.4290084852039555, 0.5709915147960445],\n",
       "   'predicted_class': '1'}]}"
      ]
     },
     "execution_count": 276,
     "metadata": {},
     "output_type": "execute_result"
    }
   ],
   "source": [
    "predict(examples_np[1:2].tolist())"
   ]
  },
  {
   "cell_type": "code",
   "execution_count": 277,
   "id": "e23283e1-f179-42f5-8b65-2e1d18f63410",
   "metadata": {
    "tags": []
   },
   "outputs": [
    {
     "data": {
      "text/plain": [
       "{'predictions': [{'classes': ['0', '1'],\n",
       "   'scores': [0.01301489502678177, 0.9869851049732182],\n",
       "   'predicted_class': '1'},\n",
       "  {'classes': ['0', '1'],\n",
       "   'scores': [0.4290084852039555, 0.5709915147960445],\n",
       "   'predicted_class': '1'}]}"
      ]
     },
     "execution_count": 277,
     "metadata": {},
     "output_type": "execute_result"
    }
   ],
   "source": [
    "predict(examples_np[0:2].tolist())"
   ]
  },
  {
   "cell_type": "code",
   "execution_count": 278,
   "id": "29930fd1-2e0b-4a21-8255-da94b2bd5698",
   "metadata": {
    "tags": []
   },
   "outputs": [
    {
     "data": {
      "text/plain": [
       "{'predictions': [{'classes': ['0', '1'],\n",
       "   'scores': [0.01301489502678177, 0.9869851049732182],\n",
       "   'predicted_class': '1'},\n",
       "  {'classes': ['0', '1'],\n",
       "   'scores': [0.4290084852039555, 0.5709915147960445],\n",
       "   'predicted_class': '1'},\n",
       "  {'classes': ['0', '1'],\n",
       "   'scores': [0.009615226297050805, 0.9903847737029492],\n",
       "   'predicted_class': '1'},\n",
       "  {'classes': ['0', '1'],\n",
       "   'scores': [0.0013530555055006888, 0.9986469444944993],\n",
       "   'predicted_class': '1'},\n",
       "  {'classes': ['0', '1'],\n",
       "   'scores': [0.9998299274177335, 0.00017007258226652255],\n",
       "   'predicted_class': '0'},\n",
       "  {'classes': ['0', '1'],\n",
       "   'scores': [0.9993910308803445, 0.0006089691196554726],\n",
       "   'predicted_class': '0'},\n",
       "  {'classes': ['0', '1'],\n",
       "   'scores': [0.007042458810377461, 0.9929575411896225],\n",
       "   'predicted_class': '1'},\n",
       "  {'classes': ['0', '1'],\n",
       "   'scores': [0.011614043033476573, 0.9883859569665234],\n",
       "   'predicted_class': '1'},\n",
       "  {'classes': ['0', '1'],\n",
       "   'scores': [0.014325467849923612, 0.9856745321500764],\n",
       "   'predicted_class': '1'},\n",
       "  {'classes': ['0', '1'],\n",
       "   'scores': [0.005764301100520064, 0.9942356988994799],\n",
       "   'predicted_class': '1'}]}"
      ]
     },
     "execution_count": 278,
     "metadata": {},
     "output_type": "execute_result"
    }
   ],
   "source": [
    "predict(examples_np.tolist())"
   ]
  },
  {
   "cell_type": "markdown",
   "id": "1d8d45f4-82ac-4a49-aa79-68b2b39b9b13",
   "metadata": {},
   "source": [
    "### Stop Container"
   ]
  },
  {
   "cell_type": "code",
   "execution_count": 171,
   "id": "784101e1-8bd5-43fb-bd65-8c0e3e12ee74",
   "metadata": {
    "tags": []
   },
   "outputs": [
    {
     "data": {
      "text/plain": [
       "'local-run'"
      ]
     },
     "execution_count": 171,
     "metadata": {},
     "output_type": "execute_result"
    }
   ],
   "source": [
    "container.name"
   ]
  },
  {
   "cell_type": "code",
   "execution_count": 172,
   "id": "91ef8482-50ad-406f-87ef-2891b044251a",
   "metadata": {
    "tags": []
   },
   "outputs": [],
   "source": [
    "container = docker_client.containers.get(container.name)"
   ]
  },
  {
   "cell_type": "code",
   "execution_count": 173,
   "id": "52ee6525-9714-4b55-a9d8-f77f7087699b",
   "metadata": {
    "tags": []
   },
   "outputs": [
    {
     "data": {
      "text/plain": [
       "'exited'"
      ]
     },
     "execution_count": 173,
     "metadata": {},
     "output_type": "execute_result"
    }
   ],
   "source": [
    "container.status"
   ]
  },
  {
   "cell_type": "code",
   "execution_count": 174,
   "id": "e9dea32d-0240-4e4d-8f85-3dc9e5ab7798",
   "metadata": {
    "tags": []
   },
   "outputs": [],
   "source": [
    "container.stop()\n",
    "container.remove()"
   ]
  },
  {
   "cell_type": "markdown",
   "id": "f5e23615-ab98-4609-8630-6d989b150f61",
   "metadata": {
    "tags": []
   },
   "source": [
    "---\n",
    "## Cloud Run\n",
    "\n",
    "Deploy the model to [Cloud Run](https://cloud.google.com/run/docs/overview/what-is-cloud-run) using the same container build and tested above from Artifact Registry.\n",
    "\n",
    "Some highlights for Cloud Run:\n",
    "- Rapid scaling to handle requests\n",
    "- Scale to zero (default) or other minimum if set\n",
    "- Can handle larger input (request) and output (response) sizes\n",
    "    - See [requests limits](https://cloud.google.com/run/quotas#request_limits)\n",
    "- Configure [memory limits](https://cloud.google.com/run/docs/configuring/services/memory-limits) and [cpu limits](https://cloud.google.com/run/docs/configuring/services/cpu) and [concurrency](https://cloud.google.com/run/docs/configuring/concurrency) and [autoscaling](https://cloud.google.com/run/docs/about-instance-autoscaling) and [request timeout](https://cloud.google.com/run/docs/configuring/request-timeout)"
   ]
  },
  {
   "cell_type": "markdown",
   "id": "b5c0a0ab-63a9-43ea-b02f-22110d1d05c3",
   "metadata": {},
   "source": [
    "### Deploy The Endpoint"
   ]
  },
  {
   "cell_type": "code",
   "execution_count": 262,
   "id": "378fbd75-076f-4c39-9328-a037b54501bc",
   "metadata": {
    "tags": []
   },
   "outputs": [],
   "source": [
    "parent = f\"projects/{PROJECT_ID}/locations/{REGION}\"\n",
    "service = run_v2.Service()\n",
    "#service.name = f\"{parent}/services/{SERIES}\"\n",
    "service.template.containers = [\n",
    "    run_v2.Container(\n",
    "        image = build_response.artifacts.images[0],\n",
    "        ports = [run_v2.ContainerPort(container_port = 8080)],\n",
    "        env = [\n",
    "            run_v2.EnvVar(name = 'AIP_HTTP_PORT', value = '8080'),\n",
    "            run_v2.EnvVar(name = 'AIP_HEALTH_ROUTE', value = '/health'),\n",
    "            run_v2.EnvVar(name = 'AIP_PREDICT_ROUTE', value = '/predict'),\n",
    "            run_v2.EnvVar(name = 'AIP_STORAGE_URI', value = f'gs://{bucket.name}/{SERIES}/notebook'),\n",
    "            run_v2.EnvVar(name = 'MODULE_NAME', value = 'main')\n",
    "        ],\n",
    "        resources = run_v2.ResourceRequirements(\n",
    "            limits = {\"cpu\": '8', \"memory\": '32Gi'}\n",
    "        )\n",
    "    )\n",
    "]\n",
    "service.ingress = run_v2.IngressTraffic.INGRESS_TRAFFIC_INTERNAL_ONLY"
   ]
  },
  {
   "cell_type": "code",
   "execution_count": 263,
   "id": "a3699382-ede3-453b-8a8d-8e3f8fa58174",
   "metadata": {
    "tags": []
   },
   "outputs": [
    {
     "name": "stdout",
     "output_type": "stream",
     "text": [
      "Started Service: projects/statmike-mlops-349915/locations/us-central1/services/frameworks-catboost-prediction-feature-store\n"
     ]
    }
   ],
   "source": [
    "try:\n",
    "    # create the service:\n",
    "    run_response = cr.create_service(request = {\"parent\": parent, \"service\": service, \"service_id\": SERIES+'-'+EXPERIMENT})\n",
    "    # wait on the operation to complete:\n",
    "    run_response.result()\n",
    "    # print the name of the service\n",
    "    print(f\"Started Service: {run_response.metadata.name}\")\n",
    "except Exception as e:\n",
    "    print(f\"Error creating service: {e}\")"
   ]
  },
  {
   "cell_type": "code",
   "execution_count": 264,
   "id": "5119b979-86cb-44ce-897f-0adae6c62fcc",
   "metadata": {
    "tags": []
   },
   "outputs": [
    {
     "data": {
      "text/plain": [
       "'https://frameworks-catboost-prediction-feature-store-urlxi72dpa-uc.a.run.app'"
      ]
     },
     "execution_count": 264,
     "metadata": {},
     "output_type": "execute_result"
    }
   ],
   "source": [
    "run_response.metadata.uri"
   ]
  },
  {
   "cell_type": "markdown",
   "id": "aaa49e11-9b1a-4674-b6bb-aa12a2c0e5da",
   "metadata": {},
   "source": [
    "### Permissions\n",
    "\n",
    "The endpoint requires authentication.  Check ou tthe [Authentication Overview](https://cloud.google.com/run/docs/authenticating/overview) and in the case below the [Authenticating service-to-service](https://cloud.google.com/run/docs/authenticating/service-to-service) method is used by giving the same service account used to run the notebook and create the endpoint the role to invoke the endpoint as well."
   ]
  },
  {
   "cell_type": "code",
   "execution_count": 265,
   "id": "4defd81e-20f9-4ff9-aa72-0987269812ae",
   "metadata": {
    "tags": []
   },
   "outputs": [
    {
     "data": {
      "text/plain": [
       "'1026793852137-compute@developer.gserviceaccount.com'"
      ]
     },
     "execution_count": 265,
     "metadata": {},
     "output_type": "execute_result"
    }
   ],
   "source": [
    "SERVICE_ACCOUNT = !gcloud config list --format='value(core.account)' \n",
    "SERVICE_ACCOUNT = SERVICE_ACCOUNT[0]\n",
    "SERVICE_ACCOUNT"
   ]
  },
  {
   "cell_type": "code",
   "execution_count": 266,
   "id": "8f904a70-4856-4c36-b1ff-fddf05df5074",
   "metadata": {
    "tags": []
   },
   "outputs": [
    {
     "data": {
      "text/plain": [
       "'projects/statmike-mlops-349915/locations/us-central1/services/frameworks-catboost-prediction-feature-store'"
      ]
     },
     "execution_count": 266,
     "metadata": {},
     "output_type": "execute_result"
    }
   ],
   "source": [
    "run_response.metadata.name"
   ]
  },
  {
   "cell_type": "code",
   "execution_count": 267,
   "id": "c74ea331-c445-4ed3-b3ab-4d9701646e3b",
   "metadata": {
    "tags": []
   },
   "outputs": [
    {
     "name": "stdout",
     "output_type": "stream",
     "text": [
      "IAM policy updated: [role: \"roles/run.invoker\"\n",
      "members: \"allUsers\"\n",
      "members: \"serviceAccount:1026793852137-compute@developer.gserviceaccount.com\"\n",
      "]\n"
     ]
    }
   ],
   "source": [
    "policy = cr.get_iam_policy(request = {'resource': run_response.metadata.name})\n",
    "policy.bindings.add(\n",
    "    role = 'roles/run.invoker',\n",
    "    members = [f\"serviceAccount:{SERVICE_ACCOUNT}\", 'allUsers'] #'allUsers'\n",
    ")\n",
    "policy_response = cr.set_iam_policy(request = {\"resource\": run_response.metadata.name, \"policy\": policy})\n",
    "print(f\"IAM policy updated: {policy_response.bindings}\")"
   ]
  },
  {
   "cell_type": "code",
   "execution_count": 268,
   "id": "b8bcc7e8-e8ec-487b-8261-b60115589720",
   "metadata": {
    "tags": []
   },
   "outputs": [
    {
     "data": {
      "text/plain": [
       "[role: \"roles/run.invoker\"\n",
       "members: \"serviceAccount:1026793852137-compute@developer.gserviceaccount.com\"\n",
       "members: \"allUsers\"\n",
       "]"
      ]
     },
     "execution_count": 268,
     "metadata": {},
     "output_type": "execute_result"
    }
   ],
   "source": [
    "policy.bindings"
   ]
  },
  {
   "cell_type": "markdown",
   "id": "03428db0-a25e-4c73-bcfe-6248f73fa84c",
   "metadata": {
    "tags": []
   },
   "source": [
    "**WAIT: The update of the IAM Policy might take a few moments to take effect.  Rerun the following health check section until you get a `200` response code.**"
   ]
  },
  {
   "cell_type": "markdown",
   "id": "963bddb6-8dca-4fd1-87ad-37aa6cfa998c",
   "metadata": {},
   "source": [
    "### Health Check\n",
    "\n",
    "Want to see `200`:"
   ]
  },
  {
   "cell_type": "code",
   "execution_count": 269,
   "id": "7dbb225e-3302-43f4-ae82-0c183b55aef0",
   "metadata": {
    "tags": []
   },
   "outputs": [],
   "source": [
    "def health(uri):\n",
    "    url = f\"{uri}/health\"\n",
    "    credentials, _ = google.auth.default()\n",
    "    auth_req = google.auth.transport.requests.Request()\n",
    "    credentials.refresh(auth_req)\n",
    "    headers = {'Authorization': f'Bearer {credentials.token}'}\n",
    "    response = requests.get(url, headers = headers)    \n",
    "    return response.status_code\n",
    "\n",
    "def check_health(uri, timeout_seconds = 200, retry_seconds = 10):\n",
    "    start_time = time.time()\n",
    "    while True:\n",
    "        status_code = health(uri)\n",
    "        if status_code == 200:\n",
    "            break\n",
    "        elapsed_time = time.time() - start_time\n",
    "        if elapsed_time > timeout_seconds:\n",
    "            break\n",
    "        time.sleep(retry_seconds)\n",
    "    return status_code"
   ]
  },
  {
   "cell_type": "code",
   "execution_count": 183,
   "id": "0ce2ffb8-3d85-4c27-b6b9-d2a540ee7716",
   "metadata": {
    "tags": []
   },
   "outputs": [
    {
     "data": {
      "text/plain": [
       "503"
      ]
     },
     "execution_count": 183,
     "metadata": {},
     "output_type": "execute_result"
    }
   ],
   "source": [
    "check_health(run_response.metadata.uri)"
   ]
  },
  {
   "cell_type": "code",
   "execution_count": 270,
   "id": "01a973a3-6bcf-4aba-bd74-e448fb1200f3",
   "metadata": {
    "tags": []
   },
   "outputs": [
    {
     "data": {
      "text/plain": [
       "401"
      ]
     },
     "execution_count": 270,
     "metadata": {},
     "output_type": "execute_result"
    }
   ],
   "source": [
    "health(run_response.metadata.uri)"
   ]
  },
  {
   "cell_type": "markdown",
   "id": "1d74cd2f-c5d7-4129-8f2c-dcedd2530b4a",
   "metadata": {},
   "source": [
    "### Inference Test"
   ]
  },
  {
   "cell_type": "code",
   "execution_count": 563,
   "id": "4aa55947-9456-41c4-a68c-431e47b49ad4",
   "metadata": {
    "tags": []
   },
   "outputs": [],
   "source": [
    "def predict(instances):\n",
    "    credentials, _ = google.auth.default()\n",
    "    auth_req = google.auth.transport.requests.Request()\n",
    "    credentials.refresh(auth_req)\n",
    "    url = f\"{run_response.metadata.uri}/predict\"\n",
    "    headers = {\n",
    "        'Authorization': f'Bearer {credentials.token}',\n",
    "        'Content_Type': 'application/json'\n",
    "    }\n",
    "    data = json.dumps({'instances': instances})\n",
    "    response = requests.post(url, headers = headers, data = data)    \n",
    "    return json.loads(response.text)"
   ]
  },
  {
   "cell_type": "code",
   "execution_count": 564,
   "id": "39bb87fa-ceb6-4684-85c8-959473789c55",
   "metadata": {
    "tags": []
   },
   "outputs": [
    {
     "data": {
      "text/plain": [
       "{'predictions': [{'classes': ['0', '1'],\n",
       "   'scores': [0.01301489502678177, 0.9869851049732182],\n",
       "   'predicted_class': '1'}]}"
      ]
     },
     "execution_count": 564,
     "metadata": {},
     "output_type": "execute_result"
    }
   ],
   "source": [
    "predict(examples_np[0:1].tolist())"
   ]
  },
  {
   "cell_type": "code",
   "execution_count": 565,
   "id": "afeb7b9c-0826-4046-99c6-842ce6d61baf",
   "metadata": {
    "tags": []
   },
   "outputs": [
    {
     "data": {
      "text/plain": [
       "{'predictions': [{'classes': ['0', '1'],\n",
       "   'scores': [0.4290084852039555, 0.5709915147960445],\n",
       "   'predicted_class': '1'}]}"
      ]
     },
     "execution_count": 565,
     "metadata": {},
     "output_type": "execute_result"
    }
   ],
   "source": [
    "predict(examples_np[1:2].tolist())"
   ]
  },
  {
   "cell_type": "code",
   "execution_count": 566,
   "id": "72dbe00c-922b-4c4b-b509-62470fa2cbab",
   "metadata": {
    "tags": []
   },
   "outputs": [
    {
     "data": {
      "text/plain": [
       "{'predictions': [{'classes': ['0', '1'],\n",
       "   'scores': [0.01301489502678177, 0.9869851049732182],\n",
       "   'predicted_class': '1'},\n",
       "  {'classes': ['0', '1'],\n",
       "   'scores': [0.4290084852039555, 0.5709915147960445],\n",
       "   'predicted_class': '1'}]}"
      ]
     },
     "execution_count": 566,
     "metadata": {},
     "output_type": "execute_result"
    }
   ],
   "source": [
    "predict(examples_np[0:2].tolist())"
   ]
  },
  {
   "cell_type": "code",
   "execution_count": 567,
   "id": "c824730d-1d3c-4d62-a914-f8d7039d92f4",
   "metadata": {
    "tags": []
   },
   "outputs": [
    {
     "data": {
      "text/plain": [
       "{'predictions': [{'classes': ['0', '1'],\n",
       "   'scores': [0.01301489502678177, 0.9869851049732182],\n",
       "   'predicted_class': '1'},\n",
       "  {'classes': ['0', '1'],\n",
       "   'scores': [0.4290084852039555, 0.5709915147960445],\n",
       "   'predicted_class': '1'},\n",
       "  {'classes': ['0', '1'],\n",
       "   'scores': [0.009615226297050805, 0.9903847737029492],\n",
       "   'predicted_class': '1'},\n",
       "  {'classes': ['0', '1'],\n",
       "   'scores': [0.0013530555055006888, 0.9986469444944993],\n",
       "   'predicted_class': '1'},\n",
       "  {'classes': ['0', '1'],\n",
       "   'scores': [0.9998299274177335, 0.00017007258226652255],\n",
       "   'predicted_class': '0'},\n",
       "  {'classes': ['0', '1'],\n",
       "   'scores': [0.9993910308803445, 0.0006089691196554726],\n",
       "   'predicted_class': '0'},\n",
       "  {'classes': ['0', '1'],\n",
       "   'scores': [0.007042458810377461, 0.9929575411896225],\n",
       "   'predicted_class': '1'},\n",
       "  {'classes': ['0', '1'],\n",
       "   'scores': [0.011614043033476573, 0.9883859569665234],\n",
       "   'predicted_class': '1'},\n",
       "  {'classes': ['0', '1'],\n",
       "   'scores': [0.014325467849923612, 0.9856745321500764],\n",
       "   'predicted_class': '1'},\n",
       "  {'classes': ['0', '1'],\n",
       "   'scores': [0.005764301100520064, 0.9942356988994799],\n",
       "   'predicted_class': '1'}]}"
      ]
     },
     "execution_count": 567,
     "metadata": {},
     "output_type": "execute_result"
    }
   ],
   "source": [
    "predict(examples_np.tolist())"
   ]
  },
  {
   "cell_type": "markdown",
   "id": "9d2b27e2-1f55-4d05-9c47-330200501557",
   "metadata": {},
   "source": [
    "### Remove The Service\n",
    "\n",
    "Cloud Run will scale to zero here since a minimum has not been set.  This notebook does proceed with deleting the service in the following code."
   ]
  },
  {
   "cell_type": "code",
   "execution_count": 271,
   "id": "cd273416-6a0d-4500-9d24-19c6327a8a5b",
   "metadata": {
    "tags": []
   },
   "outputs": [],
   "source": [
    "remove_response = cr.delete_service(request = {\"name\": run_response.metadata.name})"
   ]
  },
  {
   "cell_type": "code",
   "execution_count": 272,
   "id": "d8d14e52-3bad-4190-8df4-eddf8d904ad3",
   "metadata": {
    "tags": []
   },
   "outputs": [
    {
     "data": {
      "text/plain": [
       "name: \"projects/statmike-mlops-349915/locations/us-central1/services/frameworks-catboost-prediction-feature-store\"\n",
       "uid: \"8c7671a6-84fb-45bd-b355-31374b0fb500\"\n",
       "generation: 2\n",
       "create_time {\n",
       "  seconds: 1732063436\n",
       "  nanos: 590504000\n",
       "}\n",
       "update_time {\n",
       "  seconds: 1732063645\n",
       "  nanos: 657334000\n",
       "}\n",
       "delete_time {\n",
       "  seconds: 1732063644\n",
       "  nanos: 939959000\n",
       "}\n",
       "expire_time {\n",
       "  seconds: 1734655644\n",
       "  nanos: 939959000\n",
       "}\n",
       "creator: \"1026793852137-compute@developer.gserviceaccount.com\"\n",
       "last_modifier: \"1026793852137-compute@developer.gserviceaccount.com\"\n",
       "ingress: INGRESS_TRAFFIC_INTERNAL_ONLY\n",
       "launch_stage: GA\n",
       "template {\n",
       "  scaling {\n",
       "    max_instance_count: 100\n",
       "  }\n",
       "  timeout {\n",
       "    seconds: 300\n",
       "  }\n",
       "  service_account: \"1026793852137-compute@developer.gserviceaccount.com\"\n",
       "  containers {\n",
       "    image: \"us-central1-docker.pkg.dev/statmike-mlops-349915/frameworks-catboost/prediction-feature-store\"\n",
       "    env {\n",
       "      name: \"AIP_HTTP_PORT\"\n",
       "      value: \"8080\"\n",
       "    }\n",
       "    env {\n",
       "      name: \"AIP_HEALTH_ROUTE\"\n",
       "      value: \"/health\"\n",
       "    }\n",
       "    env {\n",
       "      name: \"AIP_PREDICT_ROUTE\"\n",
       "      value: \"/predict\"\n",
       "    }\n",
       "    env {\n",
       "      name: \"AIP_STORAGE_URI\"\n",
       "      value: \"gs://statmike-mlops-349915/frameworks-catboost/notebook\"\n",
       "    }\n",
       "    env {\n",
       "      name: \"MODULE_NAME\"\n",
       "      value: \"main\"\n",
       "    }\n",
       "    resources {\n",
       "      limits {\n",
       "        key: \"memory\"\n",
       "        value: \"32Gi\"\n",
       "      }\n",
       "      limits {\n",
       "        key: \"cpu\"\n",
       "        value: \"8\"\n",
       "      }\n",
       "    }\n",
       "    ports {\n",
       "      name: \"http1\"\n",
       "      container_port: 8080\n",
       "    }\n",
       "    startup_probe {\n",
       "      timeout_seconds: 240\n",
       "      period_seconds: 240\n",
       "      failure_threshold: 1\n",
       "      tcp_socket {\n",
       "        port: 8080\n",
       "      }\n",
       "    }\n",
       "  }\n",
       "  max_instance_request_concurrency: 80\n",
       "}\n",
       "traffic {\n",
       "  type_: TRAFFIC_TARGET_ALLOCATION_TYPE_LATEST\n",
       "  percent: 100\n",
       "}\n",
       "urls: \"https://frameworks-catboost-prediction-feature-store-1026793852137.us-central1.run.app\"\n",
       "urls: \"https://frameworks-catboost-prediction-feature-store-urlxi72dpa-uc.a.run.app\"\n",
       "observed_generation: 2\n",
       "terminal_condition {\n",
       "  type_: \"Ready\"\n",
       "  state: CONDITION_SUCCEEDED\n",
       "  last_transition_time {\n",
       "    seconds: 1732063645\n",
       "    nanos: 657334000\n",
       "  }\n",
       "}\n",
       "conditions {\n",
       "  type_: \"RoutesReady\"\n",
       "  state: CONDITION_SUCCEEDED\n",
       "  last_transition_time {\n",
       "    seconds: 1732063490\n",
       "    nanos: 438789000\n",
       "  }\n",
       "}\n",
       "conditions {\n",
       "  type_: \"ConfigurationsReady\"\n",
       "  state: CONDITION_SUCCEEDED\n",
       "  last_transition_time {\n",
       "    seconds: 1732063489\n",
       "    nanos: 193909000\n",
       "  }\n",
       "}\n",
       "latest_ready_revision: \"projects/statmike-mlops-349915/locations/us-central1/services/frameworks-catboost-prediction-feature-store/revisions/frameworks-catboost-prediction-feature-store-00001-bh8\"\n",
       "latest_created_revision: \"projects/statmike-mlops-349915/locations/us-central1/services/frameworks-catboost-prediction-feature-store/revisions/frameworks-catboost-prediction-feature-store-00001-bh8\"\n",
       "traffic_statuses {\n",
       "  type_: TRAFFIC_TARGET_ALLOCATION_TYPE_LATEST\n",
       "  percent: 100\n",
       "}\n",
       "uri: \"https://frameworks-catboost-prediction-feature-store-urlxi72dpa-uc.a.run.app\"\n",
       "etag: \"\\\"CJ3j9LkGEPC9uLkC/cHJvamVjdHMvc3RhdG1pa2UtbWxvcHMtMzQ5OTE1L2xvY2F0aW9ucy91cy1jZW50cmFsMS9zZXJ2aWNlcy9mcmFtZXdvcmtzLWNhdGJvb3N0LXByZWRpY3Rpb24tZmVhdHVyZS1zdG9yZQ\\\"\""
      ]
     },
     "execution_count": 272,
     "metadata": {},
     "output_type": "execute_result"
    }
   ],
   "source": [
    "remove_response.result()"
   ]
  },
  {
   "cell_type": "code",
   "execution_count": null,
   "id": "9898b312-00fe-4e8a-86ef-71ace3596c56",
   "metadata": {},
   "outputs": [],
   "source": []
  },
  {
   "cell_type": "code",
   "execution_count": null,
   "id": "af24ab38-e9dd-464d-b53c-53caf2f98bfb",
   "metadata": {},
   "outputs": [],
   "source": []
  },
  {
   "cell_type": "markdown",
   "id": "4b29d9cd-cc99-4c3f-9cec-7a1c41aebada",
   "metadata": {},
   "source": [
    "- Idea:\n",
    "    - ~~Store original data in BigQuery Table with transation ID~~\n",
    "    - ~~Sync to Feature Store Online~~\n",
    "    - ~~Build Function: Retrieve record (by entity_id), parse response, order columns, create array, predict~~\n",
    "    - Create custom prediction container with FastAPI using the Function to retrieve based on input of entity_id\n",
    "    - Deploy to local, cloud run, and Vertex Endpoint\n",
    "    \n",
    "    "
   ]
  },
  {
   "cell_type": "code",
   "execution_count": null,
   "id": "a096ecec-1df2-4261-954b-c76ad075df46",
   "metadata": {},
   "outputs": [],
   "source": []
  }
 ],
 "metadata": {
  "environment": {
   "kernel": "conda-base-py",
   "name": "workbench-notebooks.m125",
   "type": "gcloud",
   "uri": "us-docker.pkg.dev/deeplearning-platform-release/gcr.io/workbench-notebooks:m125"
  },
  "kernelspec": {
   "display_name": "Python 3 (ipykernel) (Local)",
   "language": "python",
   "name": "conda-base-py"
  },
  "language_info": {
   "codemirror_mode": {
    "name": "ipython",
    "version": 3
   },
   "file_extension": ".py",
   "mimetype": "text/x-python",
   "name": "python",
   "nbconvert_exporter": "python",
   "pygments_lexer": "ipython3",
   "version": "3.10.15"
  }
 },
 "nbformat": 4,
 "nbformat_minor": 5
}
