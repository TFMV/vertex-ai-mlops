{
 "cells": [
  {
   "cell_type": "markdown",
   "id": "c7c0a376",
   "metadata": {},
   "source": [
    "![tracker](https://us-central1-vertex-ai-mlops-369716.cloudfunctions.net/pixel-tracking?path=statmike%2Fvertex-ai-mlops%2FFramework+Workflows%2FCatBoost&file=CatBoost+In+Notebook.ipynb)\n",
    "<!--- header table --->\n",
    "<table align=\"left\">\n",
    "  <td style=\"text-align: center\">\n",
    "    <a href=\"https://colab.research.google.com/github/statmike/vertex-ai-mlops/blob/main/Framework%20Workflows/CatBoost/CatBoost%20In%20Notebook.ipynb\">\n",
    "      <img src=\"https://cloud.google.com/ml-engine/images/colab-logo-32px.png\" alt=\"Google Colaboratory logo\">\n",
    "      <br>Run in<br>Colab\n",
    "    </a>\n",
    "  </td>\n",
    "  <td style=\"text-align: center\">\n",
    "    <a href=\"https://console.cloud.google.com/vertex-ai/colab/import/https%3A%2F%2Fraw.githubusercontent.com%2Fstatmike%2Fvertex-ai-mlops%2Fmain%2FFramework%2520Workflows%2FCatBoost%2FCatBoost%2520In%2520Notebook.ipynb\">\n",
    "      <img width=\"32px\" src=\"https://lh3.googleusercontent.com/JmcxdQi-qOpctIvWKgPtrzZdJJK-J3sWE1RsfjZNwshCFgE_9fULcNpuXYTilIR2hjwN\" alt=\"Google Cloud Colab Enterprise logo\">\n",
    "      <br>Run in<br>Colab Enterprise\n",
    "    </a>\n",
    "  </td>      \n",
    "  <td style=\"text-align: center\">\n",
    "    <a href=\"https://github.com/statmike/vertex-ai-mlops/blob/main/Framework%20Workflows/CatBoost/CatBoost%20In%20Notebook.ipynb\">\n",
    "      <img src=\"https://cloud.google.com/ml-engine/images/github-logo-32px.png\" alt=\"GitHub logo\">\n",
    "      <br>View on<br>GitHub\n",
    "    </a>\n",
    "  </td>\n",
    "  <td style=\"text-align: center\">\n",
    "    <a href=\"https://console.cloud.google.com/vertex-ai/workbench/deploy-notebook?download_url=https://raw.githubusercontent.com/statmike/vertex-ai-mlops/main/Framework%20Workflows/CatBoost/CatBoost%20In%20Notebook.ipynb\">\n",
    "      <img src=\"https://lh3.googleusercontent.com/UiNooY4LUgW_oTvpsNhPpQzsstV5W8F7rYgxgGBD85cWJoLmrOzhVs_ksK_vgx40SHs7jCqkTkCk=e14-rj-sc0xffffff-h130-w32\" alt=\"Vertex AI logo\">\n",
    "      <br>Open in<br>Vertex AI Workbench\n",
    "    </a>\n",
    "  </td>\n",
    "</table>"
   ]
  },
  {
   "cell_type": "markdown",
   "id": "c4d2a031-0e0e-4fb7-a86a-a49263373e41",
   "metadata": {},
   "source": [
    "# CatBoost - In Notebook"
   ]
  },
  {
   "cell_type": "markdown",
   "id": "82b2856f-6498-4ef6-9695-47dff5c99e66",
   "metadata": {
    "id": "od_UkDpvRmgD",
    "tags": []
   },
   "source": [
    "---\n",
    "## Colab Setup\n",
    "\n",
    "To run this notebook in Colab run the cells in this section.  Otherwise, skip this section.\n",
    "\n",
    "This cell will authenticate to GCP (follow prompts in the popup)."
   ]
  },
  {
   "cell_type": "code",
   "execution_count": 1,
   "id": "ba3a5036-ed89-434e-ba5e-1229876ad1d6",
   "metadata": {
    "executionInfo": {
     "elapsed": 195,
     "status": "ok",
     "timestamp": 1683726184843,
     "user": {
      "displayName": "Mike Henderson",
      "userId": "07691629187611687318"
     },
     "user_tz": 240
    },
    "id": "8UO9FnqyKBlF",
    "tags": []
   },
   "outputs": [],
   "source": [
    "PROJECT_ID = 'statmike-mlops-349915' # replace with project ID"
   ]
  },
  {
   "cell_type": "code",
   "execution_count": 2,
   "id": "4a63386e-66c5-4ecd-adab-a07e81fd75c6",
   "metadata": {
    "colab": {
     "base_uri": "https://localhost:8080/"
    },
    "executionInfo": {
     "elapsed": 68869,
     "status": "ok",
     "timestamp": 1683726253709,
     "user": {
      "displayName": "Mike Henderson",
      "userId": "07691629187611687318"
     },
     "user_tz": 240
    },
    "id": "N98-KK7LRkjm",
    "outputId": "09ec5008-0def-4e1a-c349-c598ee752f78",
    "tags": []
   },
   "outputs": [],
   "source": [
    "try:\n",
    "    import google.colab\n",
    "    from google.colab import auth\n",
    "    auth.authenticate_user()\n",
    "    !gcloud config set project {PROJECT_ID}\n",
    "except Exception:\n",
    "    pass"
   ]
  },
  {
   "cell_type": "markdown",
   "id": "d6f94ec2-4ffd-4050-8954-7fba66280011",
   "metadata": {},
   "source": [
    "---\n",
    "## Installs\n",
    "\n",
    "The list `packages` contains tuples of package import names and install names.  If the import name is not found then the install name is used to install quitely for the current user."
   ]
  },
  {
   "cell_type": "code",
   "execution_count": 92,
   "id": "8d05fa62-17af-4337-aa60-e17303c83d7c",
   "metadata": {
    "tags": []
   },
   "outputs": [],
   "source": [
    "# tuples of (import name, install name, min_version)\n",
    "packages = [\n",
    "    ('catboost', 'catboost'),\n",
    "    ('bigframes', 'bigframes'),\n",
    "    ('sklearn', 'scikit-learn'),\n",
    "    ('numpy', 'numpy'),\n",
    "    ('google.cloud.aiplatform', 'google-cloud-aiplatform', '1.66.0'), \n",
    "    ('google.cloud.storage', 'google-cloud-storage'),   \n",
    "]\n",
    "\n",
    "import importlib\n",
    "install = False\n",
    "for package in packages:\n",
    "    if not importlib.util.find_spec(package[0]):\n",
    "        print(f'installing package {package[1]}')\n",
    "        install = True\n",
    "        !pip install {package[1]} -U -q --user\n",
    "    elif len(package) == 3:\n",
    "        if importlib.metadata.version(package[0]) < package[2]:\n",
    "            print(f'updating package {package[1]}')\n",
    "            install = True\n",
    "            !pip install {package[1]} -U -q --user"
   ]
  },
  {
   "cell_type": "markdown",
   "id": "4de84e34-6656-44dc-8a32-ff4e0491e48d",
   "metadata": {},
   "source": [
    "### API Enablement"
   ]
  },
  {
   "cell_type": "code",
   "execution_count": 4,
   "id": "745237e7-8623-4972-a096-17d626d5e272",
   "metadata": {
    "tags": []
   },
   "outputs": [],
   "source": [
    "!gcloud services enable aiplatform.googleapis.com"
   ]
  },
  {
   "cell_type": "markdown",
   "id": "3e86272c-b95b-468b-8ad0-92b963a466d0",
   "metadata": {},
   "source": [
    "### Restart Kernel (If Installs Occured)\n",
    "\n",
    "After a kernel restart the code submission can start with the next cell after this one."
   ]
  },
  {
   "cell_type": "code",
   "execution_count": 5,
   "id": "0b7dfee2-189a-4a52-a4a6-e94ae27a2536",
   "metadata": {
    "tags": []
   },
   "outputs": [],
   "source": [
    "if install:\n",
    "    import IPython\n",
    "    app = IPython.Application.instance()\n",
    "    app.kernel.do_shutdown(True)\n",
    "    IPython.display.display(IPython.display.Markdown(\"\"\"<div class=\\\"alert alert-block alert-warning\\\">\n",
    "        <b>⚠️ The kernel is going to restart. Please wait until it is finished before continuing to the next step. The previous cells do not need to be run again⚠️</b>\n",
    "        </div>\"\"\"))"
   ]
  },
  {
   "cell_type": "markdown",
   "id": "b3ef694d-cc80-49d9-8a8f-ecf365649cc5",
   "metadata": {},
   "source": [
    "---\n",
    "## Setup"
   ]
  },
  {
   "cell_type": "markdown",
   "id": "7bccc134-eb08-40cf-8d54-e47d4a73cdee",
   "metadata": {},
   "source": [
    "inputs:"
   ]
  },
  {
   "cell_type": "code",
   "execution_count": 6,
   "id": "0d0b29bd-1891-4858-a145-83ba8fb8b6a0",
   "metadata": {
    "tags": []
   },
   "outputs": [
    {
     "data": {
      "text/plain": [
       "'statmike-mlops-349915'"
      ]
     },
     "execution_count": 6,
     "metadata": {},
     "output_type": "execute_result"
    }
   ],
   "source": [
    "project = !gcloud config get-value project\n",
    "PROJECT_ID = project[0]\n",
    "PROJECT_ID"
   ]
  },
  {
   "cell_type": "code",
   "execution_count": 98,
   "id": "c57f6e53-f561-40f3-b991-c8c202fc9e37",
   "metadata": {
    "tags": []
   },
   "outputs": [],
   "source": [
    "REGION = 'us-central1'\n",
    "SERIES = 'frameworks-catboost'\n",
    "EXPERIMENT = 'notebook'\n",
    "\n",
    "GCS_BUCKET = PROJECT_ID"
   ]
  },
  {
   "cell_type": "markdown",
   "id": "3d8dff2a-8a9d-4ef0-9677-e576fb2f79f9",
   "metadata": {},
   "source": [
    "packages:"
   ]
  },
  {
   "cell_type": "code",
   "execution_count": 211,
   "id": "45413264-d808-4a24-8d70-570fe7c4e02c",
   "metadata": {
    "tags": []
   },
   "outputs": [],
   "source": [
    "import tempfile, json, os, io\n",
    "\n",
    "import bigframes.pandas as bpd\n",
    "\n",
    "import catboost \n",
    "import catboost.utils\n",
    "import sklearn.metrics #import accuracy_score\n",
    "import numpy as np\n",
    "\n",
    "from google.cloud import aiplatform\n",
    "from google.cloud import storage"
   ]
  },
  {
   "cell_type": "markdown",
   "id": "781aac78-5994-4f2b-b250-5592b9b88eff",
   "metadata": {},
   "source": [
    "clients:"
   ]
  },
  {
   "cell_type": "code",
   "execution_count": 103,
   "id": "3fa71885-982d-4e4a-b96e-6d37d3f237bc",
   "metadata": {
    "tags": []
   },
   "outputs": [
    {
     "data": {
      "text/html": [
       "\n",
       "        \n",
       "    <link rel=\"stylesheet\" href=\"https://fonts.googleapis.com/icon?family=Material+Icons\">\n",
       "    <style>\n",
       "      .view-vertex-resource,\n",
       "      .view-vertex-resource:hover,\n",
       "      .view-vertex-resource:visited {\n",
       "        position: relative;\n",
       "        display: inline-flex;\n",
       "        flex-direction: row;\n",
       "        height: 32px;\n",
       "        padding: 0 12px;\n",
       "          margin: 4px 18px;\n",
       "        gap: 4px;\n",
       "        border-radius: 4px;\n",
       "\n",
       "        align-items: center;\n",
       "        justify-content: center;\n",
       "        background-color: rgb(255, 255, 255);\n",
       "        color: rgb(51, 103, 214);\n",
       "\n",
       "        font-family: Roboto,\"Helvetica Neue\",sans-serif;\n",
       "        font-size: 13px;\n",
       "        font-weight: 500;\n",
       "        text-transform: uppercase;\n",
       "        text-decoration: none !important;\n",
       "\n",
       "        transition: box-shadow 280ms cubic-bezier(0.4, 0, 0.2, 1) 0s;\n",
       "        box-shadow: 0px 3px 1px -2px rgba(0,0,0,0.2), 0px 2px 2px 0px rgba(0,0,0,0.14), 0px 1px 5px 0px rgba(0,0,0,0.12);\n",
       "      }\n",
       "      .view-vertex-resource:active {\n",
       "        box-shadow: 0px 5px 5px -3px rgba(0,0,0,0.2),0px 8px 10px 1px rgba(0,0,0,0.14),0px 3px 14px 2px rgba(0,0,0,0.12);\n",
       "      }\n",
       "      .view-vertex-resource:active .view-vertex-ripple::before {\n",
       "        position: absolute;\n",
       "        top: 0;\n",
       "        bottom: 0;\n",
       "        left: 0;\n",
       "        right: 0;\n",
       "        border-radius: 4px;\n",
       "        pointer-events: none;\n",
       "\n",
       "        content: '';\n",
       "        background-color: rgb(51, 103, 214);\n",
       "        opacity: 0.12;\n",
       "      }\n",
       "      .view-vertex-icon {\n",
       "        font-size: 18px;\n",
       "      }\n",
       "    </style>\n",
       "  \n",
       "        <a class=\"view-vertex-resource\" id=\"view-vertex-resource-1fc517a1-b973-4a4c-85c9-6e8498e3a201\" href=\"#view-view-vertex-resource-1fc517a1-b973-4a4c-85c9-6e8498e3a201\">\n",
       "          <span class=\"material-icons view-vertex-icon\">science</span>\n",
       "          <span>View Experiment</span>\n",
       "        </a>\n",
       "        \n",
       "        <script>\n",
       "          (function () {\n",
       "            const link = document.getElementById('view-vertex-resource-1fc517a1-b973-4a4c-85c9-6e8498e3a201');\n",
       "            link.addEventListener('click', (e) => {\n",
       "              if (window.google?.colab?.openUrl) {\n",
       "                window.google.colab.openUrl('https://console.cloud.google.com/vertex-ai/experiments/locations/us-central1/experiments/frameworks-catboost-notebook/runs?project=statmike-mlops-349915');\n",
       "              } else {\n",
       "                window.open('https://console.cloud.google.com/vertex-ai/experiments/locations/us-central1/experiments/frameworks-catboost-notebook/runs?project=statmike-mlops-349915', '_blank');\n",
       "              }\n",
       "              e.stopPropagation();\n",
       "              e.preventDefault();\n",
       "            });\n",
       "          })();\n",
       "        </script>\n",
       "    "
      ],
      "text/plain": [
       "<IPython.core.display.HTML object>"
      ]
     },
     "metadata": {},
     "output_type": "display_data"
    }
   ],
   "source": [
    "# BigFrames API For BigQuery\n",
    "bpd.options.bigquery.project = PROJECT_ID\n",
    "\n",
    "# vertex ai clients\n",
    "aiplatform.init(project = PROJECT_ID, location = REGION, experiment = f\"{SERIES}-{EXPERIMENT}\")\n",
    "\n",
    "# gcs storage client\n",
    "gcs = storage.Client(project = GCS_BUCKET)\n",
    "bucket = gcs.bucket(GCS_BUCKET)"
   ]
  },
  {
   "cell_type": "markdown",
   "id": "c27c03c0-5de9-4100-83c8-e8b743fbd387",
   "metadata": {},
   "source": [
    "Parameters:"
   ]
  },
  {
   "cell_type": "code",
   "execution_count": 190,
   "id": "0c55a053-771f-41a3-b782-b97dcd585b44",
   "metadata": {
    "tags": []
   },
   "outputs": [],
   "source": [
    "DIR = f\"files/{EXPERIMENT}\""
   ]
  },
  {
   "cell_type": "markdown",
   "id": "ad0e532d-2db7-4b53-8b2b-2c05b439ac22",
   "metadata": {},
   "source": [
    "Environment:"
   ]
  },
  {
   "cell_type": "code",
   "execution_count": 193,
   "id": "c6295bcf-bbe0-4c30-aad5-c2cdc97aaac3",
   "metadata": {
    "tags": []
   },
   "outputs": [],
   "source": [
    "if not os.path.exists(DIR):\n",
    "    os.makedirs(DIR)"
   ]
  },
  {
   "cell_type": "markdown",
   "id": "360dcbf7-a606-4b01-bc64-efa2dfe36961",
   "metadata": {},
   "source": [
    "---\n",
    "## Data Source\n",
    "\n",
    "**The Data**\n",
    "\n",
    "The BigQuery source table is `bigquery-public-data.ml_datasets.ulb_fraud_detection`.  This is a table of credit card transactions that are classified as fradulant, `Class = 1`, or normal `Class = 0`.    \n",
    "- The data can be researched further at this [Kaggle link](https://www.kaggle.com/mlg-ulb/creditcardfraud).\n",
    "- Read mode about BigQuery public datasets [here](https://cloud.google.com/bigquery/public-data)\n",
    "\n",
    "**Description of the Data**\n",
    "\n",
    "This is a table of 284,807 credit card transactions classified as fradulant or normal in the column `Class`.  In order protect confidentiality, the original features have been transformed using [principle component analysis (PCA)](https://en.wikipedia.org/wiki/Principal_component_analysis) into 28 features named `V1, V2, ... V28` (float).  Two descriptive features are provided without transformation by PCA:\n",
    "- `Time` (integer) is the seconds elapsed between the transaction and the earliest transaction in the table\n",
    "- `Amount` (float) is the value of the transaction\n",
    ">**Quick Note on PCA**<p>PCA is an unsupervised learning technique: there is not a target variable.  PCA is commonlly used as a variable/feature reduction technique.  If you have 100 features then you could reduce it to a number p (say 10) projected features.  The choice of this number is a balance of how well it can explain the variance of the full feature space and reducing the number of features.  Each projected feature is orthogonal to each other feature, meaning there is no correlation between these new projected features.</p>\n",
    "\n",
    "**Preparation of the Data**\n",
    "\n",
    "Adds columns to the source data:  \n",
    "- `splits` (string) this divided the tranactions into sets for `TRAIN` (80%), `VALIDATE` (10%), and `TEST` (10%)"
   ]
  },
  {
   "cell_type": "code",
   "execution_count": 10,
   "id": "b13e767f-6116-418a-85fc-c043769f6a39",
   "metadata": {
    "tags": []
   },
   "outputs": [],
   "source": [
    "fraud_ds = bpd.read_gbq('bigquery-public-data.ml_datasets.ulb_fraud_detection', use_cache=False)"
   ]
  },
  {
   "cell_type": "code",
   "execution_count": 11,
   "id": "ae71a658-9ac3-4b78-b542-5636fcb011b7",
   "metadata": {
    "tags": []
   },
   "outputs": [
    {
     "data": {
      "text/html": [
       "Query job ac8234b2-6e87-4637-8351-d828e7fc5c63 is DONE. 70.6 MB processed. <a target=\"_blank\" href=\"https://console.cloud.google.com/bigquery?project=statmike-mlops-349915&j=bq:US:ac8234b2-6e87-4637-8351-d828e7fc5c63&page=queryresults\">Open Job</a>"
      ],
      "text/plain": [
       "<IPython.core.display.HTML object>"
      ]
     },
     "metadata": {},
     "output_type": "display_data"
    },
    {
     "data": {
      "text/html": [
       "Query job 0499c8d8-af0c-482c-b34a-62c303287eec is DONE. 0 Bytes processed. <a target=\"_blank\" href=\"https://console.cloud.google.com/bigquery?project=statmike-mlops-349915&j=bq:US:0499c8d8-af0c-482c-b34a-62c303287eec&page=queryresults\">Open Job</a>"
      ],
      "text/plain": [
       "<IPython.core.display.HTML object>"
      ]
     },
     "metadata": {},
     "output_type": "display_data"
    },
    {
     "data": {
      "text/html": [
       "Query job 039d2c49-475e-4093-93a9-4bca0df1b37e is DONE. 1.3 kB processed. <a target=\"_blank\" href=\"https://console.cloud.google.com/bigquery?project=statmike-mlops-349915&j=bq:US:039d2c49-475e-4093-93a9-4bca0df1b37e&page=queryresults\">Open Job</a>"
      ],
      "text/plain": [
       "<IPython.core.display.HTML object>"
      ]
     },
     "metadata": {},
     "output_type": "display_data"
    },
    {
     "data": {
      "text/html": [
       "<div>\n",
       "<style scoped>\n",
       "    .dataframe tbody tr th:only-of-type {\n",
       "        vertical-align: middle;\n",
       "    }\n",
       "\n",
       "    .dataframe tbody tr th {\n",
       "        vertical-align: top;\n",
       "    }\n",
       "\n",
       "    .dataframe thead th {\n",
       "        text-align: right;\n",
       "    }\n",
       "</style>\n",
       "<table border=\"1\" class=\"dataframe\">\n",
       "  <thead>\n",
       "    <tr style=\"text-align: right;\">\n",
       "      <th></th>\n",
       "      <th>Time</th>\n",
       "      <th>V1</th>\n",
       "      <th>V2</th>\n",
       "      <th>V3</th>\n",
       "      <th>V4</th>\n",
       "      <th>V5</th>\n",
       "      <th>V6</th>\n",
       "      <th>V7</th>\n",
       "      <th>V8</th>\n",
       "      <th>V9</th>\n",
       "      <th>...</th>\n",
       "      <th>V21</th>\n",
       "      <th>V22</th>\n",
       "      <th>V23</th>\n",
       "      <th>V24</th>\n",
       "      <th>V25</th>\n",
       "      <th>V26</th>\n",
       "      <th>V27</th>\n",
       "      <th>V28</th>\n",
       "      <th>Amount</th>\n",
       "      <th>Class</th>\n",
       "    </tr>\n",
       "  </thead>\n",
       "  <tbody>\n",
       "    <tr>\n",
       "      <th>0</th>\n",
       "      <td>72890.0</td>\n",
       "      <td>-1.22258</td>\n",
       "      <td>-0.017622</td>\n",
       "      <td>2.317581</td>\n",
       "      <td>-1.547722</td>\n",
       "      <td>-0.958068</td>\n",
       "      <td>-0.370571</td>\n",
       "      <td>-0.583838</td>\n",
       "      <td>0.384328</td>\n",
       "      <td>-0.72238</td>\n",
       "      <td>...</td>\n",
       "      <td>0.430025</td>\n",
       "      <td>1.217131</td>\n",
       "      <td>-0.463494</td>\n",
       "      <td>0.456253</td>\n",
       "      <td>0.385304</td>\n",
       "      <td>-0.104713</td>\n",
       "      <td>-0.303068</td>\n",
       "      <td>-0.300302</td>\n",
       "      <td>5.9</td>\n",
       "      <td>0</td>\n",
       "    </tr>\n",
       "    <tr>\n",
       "      <th>1</th>\n",
       "      <td>131206.0</td>\n",
       "      <td>1.967597</td>\n",
       "      <td>-1.009301</td>\n",
       "      <td>-1.970656</td>\n",
       "      <td>-0.406056</td>\n",
       "      <td>1.614598</td>\n",
       "      <td>3.92548</td>\n",
       "      <td>-1.209586</td>\n",
       "      <td>0.952736</td>\n",
       "      <td>-0.429297</td>\n",
       "      <td>...</td>\n",
       "      <td>-0.288566</td>\n",
       "      <td>-0.420307</td>\n",
       "      <td>0.258054</td>\n",
       "      <td>0.632264</td>\n",
       "      <td>-0.148758</td>\n",
       "      <td>-0.656398</td>\n",
       "      <td>0.077885</td>\n",
       "      <td>-0.027551</td>\n",
       "      <td>59.0</td>\n",
       "      <td>0</td>\n",
       "    </tr>\n",
       "    <tr>\n",
       "      <th>2</th>\n",
       "      <td>122831.0</td>\n",
       "      <td>2.290614</td>\n",
       "      <td>-1.288035</td>\n",
       "      <td>-1.091499</td>\n",
       "      <td>-1.591945</td>\n",
       "      <td>-0.983697</td>\n",
       "      <td>-0.58711</td>\n",
       "      <td>-0.952236</td>\n",
       "      <td>-0.272064</td>\n",
       "      <td>-1.392405</td>\n",
       "      <td>...</td>\n",
       "      <td>-0.161871</td>\n",
       "      <td>0.04143</td>\n",
       "      <td>0.225622</td>\n",
       "      <td>0.672485</td>\n",
       "      <td>-0.105101</td>\n",
       "      <td>-0.194599</td>\n",
       "      <td>0.007488</td>\n",
       "      <td>-0.040725</td>\n",
       "      <td>30.0</td>\n",
       "      <td>0</td>\n",
       "    </tr>\n",
       "    <tr>\n",
       "      <th>3</th>\n",
       "      <td>68397.0</td>\n",
       "      <td>1.258859</td>\n",
       "      <td>0.440981</td>\n",
       "      <td>0.331167</td>\n",
       "      <td>0.681581</td>\n",
       "      <td>-0.267935</td>\n",
       "      <td>-1.046229</td>\n",
       "      <td>0.163925</td>\n",
       "      <td>-0.269223</td>\n",
       "      <td>-0.142249</td>\n",
       "      <td>...</td>\n",
       "      <td>-0.27486</td>\n",
       "      <td>-0.734847</td>\n",
       "      <td>0.116306</td>\n",
       "      <td>0.376938</td>\n",
       "      <td>0.25547</td>\n",
       "      <td>0.090629</td>\n",
       "      <td>-0.015355</td>\n",
       "      <td>0.033149</td>\n",
       "      <td>0.89</td>\n",
       "      <td>0</td>\n",
       "    </tr>\n",
       "    <tr>\n",
       "      <th>4</th>\n",
       "      <td>152137.0</td>\n",
       "      <td>2.023988</td>\n",
       "      <td>-0.351874</td>\n",
       "      <td>-0.494781</td>\n",
       "      <td>0.36047</td>\n",
       "      <td>-0.400929</td>\n",
       "      <td>-0.202362</td>\n",
       "      <td>-0.544039</td>\n",
       "      <td>-0.078031</td>\n",
       "      <td>1.364484</td>\n",
       "      <td>...</td>\n",
       "      <td>0.160192</td>\n",
       "      <td>0.774027</td>\n",
       "      <td>0.021697</td>\n",
       "      <td>-0.601828</td>\n",
       "      <td>0.029147</td>\n",
       "      <td>-0.175735</td>\n",
       "      <td>0.04743</td>\n",
       "      <td>-0.041086</td>\n",
       "      <td>9.99</td>\n",
       "      <td>0</td>\n",
       "    </tr>\n",
       "  </tbody>\n",
       "</table>\n",
       "<p>5 rows × 31 columns</p>\n",
       "</div>[5 rows x 31 columns in total]"
      ],
      "text/plain": [
       "       Time        V1        V2        V3        V4        V5        V6  \\\n",
       "0   72890.0  -1.22258 -0.017622  2.317581 -1.547722 -0.958068 -0.370571   \n",
       "1  131206.0  1.967597 -1.009301 -1.970656 -0.406056  1.614598   3.92548   \n",
       "2  122831.0  2.290614 -1.288035 -1.091499 -1.591945 -0.983697  -0.58711   \n",
       "3   68397.0  1.258859  0.440981  0.331167  0.681581 -0.267935 -1.046229   \n",
       "4  152137.0  2.023988 -0.351874 -0.494781   0.36047 -0.400929 -0.202362   \n",
       "\n",
       "         V7        V8        V9  ...       V21       V22       V23       V24  \\\n",
       "0 -0.583838  0.384328  -0.72238  ...  0.430025  1.217131 -0.463494  0.456253   \n",
       "1 -1.209586  0.952736 -0.429297  ... -0.288566 -0.420307  0.258054  0.632264   \n",
       "2 -0.952236 -0.272064 -1.392405  ... -0.161871   0.04143  0.225622  0.672485   \n",
       "3  0.163925 -0.269223 -0.142249  ...  -0.27486 -0.734847  0.116306  0.376938   \n",
       "4 -0.544039 -0.078031  1.364484  ...  0.160192  0.774027  0.021697 -0.601828   \n",
       "\n",
       "        V25       V26       V27       V28  Amount  Class  \n",
       "0  0.385304 -0.104713 -0.303068 -0.300302     5.9      0  \n",
       "1 -0.148758 -0.656398  0.077885 -0.027551    59.0      0  \n",
       "2 -0.105101 -0.194599  0.007488 -0.040725    30.0      0  \n",
       "3   0.25547  0.090629 -0.015355  0.033149    0.89      0  \n",
       "4  0.029147 -0.175735   0.04743 -0.041086    9.99      0  \n",
       "\n",
       "[5 rows x 31 columns]"
      ]
     },
     "execution_count": 11,
     "metadata": {},
     "output_type": "execute_result"
    }
   ],
   "source": [
    "fraud_ds.head()"
   ]
  },
  {
   "cell_type": "code",
   "execution_count": 12,
   "id": "08620146-c988-4543-862f-d7797ead985b",
   "metadata": {
    "tags": []
   },
   "outputs": [
    {
     "data": {
      "text/html": [
       "Query job a6cafd14-2670-4ab7-8bd5-c9799faf2b25 is DONE. 70.6 MB processed. <a target=\"_blank\" href=\"https://console.cloud.google.com/bigquery?project=statmike-mlops-349915&j=bq:US:a6cafd14-2670-4ab7-8bd5-c9799faf2b25&page=queryresults\">Open Job</a>"
      ],
      "text/plain": [
       "<IPython.core.display.HTML object>"
      ]
     },
     "metadata": {},
     "output_type": "display_data"
    }
   ],
   "source": [
    "fraud_ds = fraud_ds.to_pandas()"
   ]
  },
  {
   "cell_type": "code",
   "execution_count": 13,
   "id": "d5c9e065-1884-4835-8037-57ec888295c3",
   "metadata": {
    "tags": []
   },
   "outputs": [],
   "source": [
    "shuffle = fraud_ds.sample(frac = 1, random_state = 42)\n",
    "train_pct, val_pct = .8, .1\n",
    "train_end = int(train_pct * len(shuffle))\n",
    "val_end = int((train_pct + val_pct) * len(shuffle))\n",
    "\n",
    "fraud_ds['splits'] = 'None'\n",
    "fraud_ds.loc[shuffle[:train_end].index, 'splits'] = 'TRAIN'\n",
    "fraud_ds.loc[shuffle[train_end:val_end].index, 'splits'] = 'VALIDATE'\n",
    "fraud_ds.loc[shuffle[val_end:].index, 'splits'] = 'TEST'"
   ]
  },
  {
   "cell_type": "code",
   "execution_count": 14,
   "id": "efa35b1e-08f2-46ed-96ce-9ff43671a8a0",
   "metadata": {
    "tags": []
   },
   "outputs": [
    {
     "data": {
      "text/html": [
       "<div>\n",
       "<style scoped>\n",
       "    .dataframe tbody tr th:only-of-type {\n",
       "        vertical-align: middle;\n",
       "    }\n",
       "\n",
       "    .dataframe tbody tr th {\n",
       "        vertical-align: top;\n",
       "    }\n",
       "\n",
       "    .dataframe thead th {\n",
       "        text-align: right;\n",
       "    }\n",
       "</style>\n",
       "<table border=\"1\" class=\"dataframe\">\n",
       "  <thead>\n",
       "    <tr style=\"text-align: right;\">\n",
       "      <th></th>\n",
       "      <th>Time</th>\n",
       "      <th>V1</th>\n",
       "      <th>V2</th>\n",
       "      <th>V3</th>\n",
       "      <th>V4</th>\n",
       "      <th>V5</th>\n",
       "      <th>V6</th>\n",
       "      <th>V7</th>\n",
       "      <th>V8</th>\n",
       "      <th>V9</th>\n",
       "      <th>...</th>\n",
       "      <th>V22</th>\n",
       "      <th>V23</th>\n",
       "      <th>V24</th>\n",
       "      <th>V25</th>\n",
       "      <th>V26</th>\n",
       "      <th>V27</th>\n",
       "      <th>V28</th>\n",
       "      <th>Amount</th>\n",
       "      <th>Class</th>\n",
       "      <th>splits</th>\n",
       "    </tr>\n",
       "  </thead>\n",
       "  <tbody>\n",
       "    <tr>\n",
       "      <th>0</th>\n",
       "      <td>72890.0</td>\n",
       "      <td>-1.22258</td>\n",
       "      <td>-0.017622</td>\n",
       "      <td>2.317581</td>\n",
       "      <td>-1.547722</td>\n",
       "      <td>-0.958068</td>\n",
       "      <td>-0.370571</td>\n",
       "      <td>-0.583838</td>\n",
       "      <td>0.384328</td>\n",
       "      <td>-0.72238</td>\n",
       "      <td>...</td>\n",
       "      <td>1.217131</td>\n",
       "      <td>-0.463494</td>\n",
       "      <td>0.456253</td>\n",
       "      <td>0.385304</td>\n",
       "      <td>-0.104713</td>\n",
       "      <td>-0.303068</td>\n",
       "      <td>-0.300302</td>\n",
       "      <td>5.9</td>\n",
       "      <td>0</td>\n",
       "      <td>TRAIN</td>\n",
       "    </tr>\n",
       "    <tr>\n",
       "      <th>1</th>\n",
       "      <td>131206.0</td>\n",
       "      <td>1.967597</td>\n",
       "      <td>-1.009301</td>\n",
       "      <td>-1.970656</td>\n",
       "      <td>-0.406056</td>\n",
       "      <td>1.614598</td>\n",
       "      <td>3.92548</td>\n",
       "      <td>-1.209586</td>\n",
       "      <td>0.952736</td>\n",
       "      <td>-0.429297</td>\n",
       "      <td>...</td>\n",
       "      <td>-0.420307</td>\n",
       "      <td>0.258054</td>\n",
       "      <td>0.632264</td>\n",
       "      <td>-0.148758</td>\n",
       "      <td>-0.656398</td>\n",
       "      <td>0.077885</td>\n",
       "      <td>-0.027551</td>\n",
       "      <td>59.0</td>\n",
       "      <td>0</td>\n",
       "      <td>TRAIN</td>\n",
       "    </tr>\n",
       "    <tr>\n",
       "      <th>2</th>\n",
       "      <td>122831.0</td>\n",
       "      <td>2.290614</td>\n",
       "      <td>-1.288035</td>\n",
       "      <td>-1.091499</td>\n",
       "      <td>-1.591945</td>\n",
       "      <td>-0.983697</td>\n",
       "      <td>-0.58711</td>\n",
       "      <td>-0.952236</td>\n",
       "      <td>-0.272064</td>\n",
       "      <td>-1.392405</td>\n",
       "      <td>...</td>\n",
       "      <td>0.04143</td>\n",
       "      <td>0.225622</td>\n",
       "      <td>0.672485</td>\n",
       "      <td>-0.105101</td>\n",
       "      <td>-0.194599</td>\n",
       "      <td>0.007488</td>\n",
       "      <td>-0.040725</td>\n",
       "      <td>30.0</td>\n",
       "      <td>0</td>\n",
       "      <td>TRAIN</td>\n",
       "    </tr>\n",
       "    <tr>\n",
       "      <th>3</th>\n",
       "      <td>68397.0</td>\n",
       "      <td>1.258859</td>\n",
       "      <td>0.440981</td>\n",
       "      <td>0.331167</td>\n",
       "      <td>0.681581</td>\n",
       "      <td>-0.267935</td>\n",
       "      <td>-1.046229</td>\n",
       "      <td>0.163925</td>\n",
       "      <td>-0.269223</td>\n",
       "      <td>-0.142249</td>\n",
       "      <td>...</td>\n",
       "      <td>-0.734847</td>\n",
       "      <td>0.116306</td>\n",
       "      <td>0.376938</td>\n",
       "      <td>0.25547</td>\n",
       "      <td>0.090629</td>\n",
       "      <td>-0.015355</td>\n",
       "      <td>0.033149</td>\n",
       "      <td>0.89</td>\n",
       "      <td>0</td>\n",
       "      <td>TRAIN</td>\n",
       "    </tr>\n",
       "    <tr>\n",
       "      <th>4</th>\n",
       "      <td>152137.0</td>\n",
       "      <td>2.023988</td>\n",
       "      <td>-0.351874</td>\n",
       "      <td>-0.494781</td>\n",
       "      <td>0.36047</td>\n",
       "      <td>-0.400929</td>\n",
       "      <td>-0.202362</td>\n",
       "      <td>-0.544039</td>\n",
       "      <td>-0.078031</td>\n",
       "      <td>1.364484</td>\n",
       "      <td>...</td>\n",
       "      <td>0.774027</td>\n",
       "      <td>0.021697</td>\n",
       "      <td>-0.601828</td>\n",
       "      <td>0.029147</td>\n",
       "      <td>-0.175735</td>\n",
       "      <td>0.04743</td>\n",
       "      <td>-0.041086</td>\n",
       "      <td>9.99</td>\n",
       "      <td>0</td>\n",
       "      <td>TRAIN</td>\n",
       "    </tr>\n",
       "  </tbody>\n",
       "</table>\n",
       "<p>5 rows × 32 columns</p>\n",
       "</div>"
      ],
      "text/plain": [
       "       Time        V1        V2        V3        V4        V5        V6  \\\n",
       "0   72890.0  -1.22258 -0.017622  2.317581 -1.547722 -0.958068 -0.370571   \n",
       "1  131206.0  1.967597 -1.009301 -1.970656 -0.406056  1.614598   3.92548   \n",
       "2  122831.0  2.290614 -1.288035 -1.091499 -1.591945 -0.983697  -0.58711   \n",
       "3   68397.0  1.258859  0.440981  0.331167  0.681581 -0.267935 -1.046229   \n",
       "4  152137.0  2.023988 -0.351874 -0.494781   0.36047 -0.400929 -0.202362   \n",
       "\n",
       "         V7        V8        V9  ...       V22       V23       V24       V25  \\\n",
       "0 -0.583838  0.384328  -0.72238  ...  1.217131 -0.463494  0.456253  0.385304   \n",
       "1 -1.209586  0.952736 -0.429297  ... -0.420307  0.258054  0.632264 -0.148758   \n",
       "2 -0.952236 -0.272064 -1.392405  ...   0.04143  0.225622  0.672485 -0.105101   \n",
       "3  0.163925 -0.269223 -0.142249  ... -0.734847  0.116306  0.376938   0.25547   \n",
       "4 -0.544039 -0.078031  1.364484  ...  0.774027  0.021697 -0.601828  0.029147   \n",
       "\n",
       "        V26       V27       V28  Amount  Class  splits  \n",
       "0 -0.104713 -0.303068 -0.300302     5.9      0   TRAIN  \n",
       "1 -0.656398  0.077885 -0.027551    59.0      0   TRAIN  \n",
       "2 -0.194599  0.007488 -0.040725    30.0      0   TRAIN  \n",
       "3  0.090629 -0.015355  0.033149    0.89      0   TRAIN  \n",
       "4 -0.175735   0.04743 -0.041086    9.99      0   TRAIN  \n",
       "\n",
       "[5 rows x 32 columns]"
      ]
     },
     "execution_count": 14,
     "metadata": {},
     "output_type": "execute_result"
    }
   ],
   "source": [
    "fraud_ds.head()"
   ]
  },
  {
   "cell_type": "markdown",
   "id": "4f540cea-a59b-45f4-b73f-97d1c3542c86",
   "metadata": {},
   "source": [
    "---\n",
    "## CatBoost"
   ]
  },
  {
   "cell_type": "markdown",
   "id": "5e351674-bf5b-4668-9f91-c2805aa9db02",
   "metadata": {},
   "source": [
    "### Data Preparation"
   ]
  },
  {
   "cell_type": "code",
   "execution_count": 15,
   "id": "3f9509d6-a26c-426c-9c6f-33b0de7bb3e9",
   "metadata": {
    "tags": []
   },
   "outputs": [],
   "source": [
    "X = fraud_ds.drop(['Class', 'splits'], axis = 1)\n",
    "y = fraud_ds.Class\n",
    "splits = fraud_ds.splits"
   ]
  },
  {
   "cell_type": "code",
   "execution_count": 16,
   "id": "0f8110f4-16bc-4a5e-ab96-a1226241db72",
   "metadata": {
    "tags": []
   },
   "outputs": [],
   "source": [
    "train = catboost.Pool(\n",
    "    data = X.loc[splits[splits == 'TRAIN'].index],\n",
    "    label = y.loc[splits[splits == 'TRAIN'].index]\n",
    ")\n",
    "validate = catboost.Pool(\n",
    "    data = X.loc[splits[splits == 'VALIDATE'].index],\n",
    "    label = y.loc[splits[splits == 'VALIDATE'].index]\n",
    ")\n",
    "test = catboost.Pool(\n",
    "    data = X.loc[splits[splits == 'TEST'].index],\n",
    "    label = y.loc[splits[splits == 'TEST'].index]\n",
    ")"
   ]
  },
  {
   "cell_type": "code",
   "execution_count": 29,
   "id": "dfe6b6b5-99fe-4b6f-ba29-10444f107c84",
   "metadata": {
    "tags": []
   },
   "outputs": [
    {
     "data": {
      "text/plain": [
       "array([[ 2.7930000e+03, -1.0485601e+00,  3.4101680e-01, ...,\n",
       "        -9.7160764e-02, -3.4747571e-01,  1.0000000e+00],\n",
       "       [ 1.0873900e+05, -1.2946961e+00,  3.0926020e+00, ...,\n",
       "        -8.4436423e-01, -2.9500297e-01,  7.5599999e+00],\n",
       "       [ 6.0400000e+04, -2.8835166e-01,  7.0912164e-01, ...,\n",
       "         1.0991978e-02,  2.1180758e-02,  2.9800000e+00],\n",
       "       ...,\n",
       "       [ 1.3858600e+05, -1.0272281e+00,  1.7412000e+00, ...,\n",
       "        -4.9604988e-01, -3.1936836e-01,  1.0590000e+01],\n",
       "       [ 6.3628000e+04, -7.9432732e-01,  1.0733790e+00, ...,\n",
       "         3.4771362e-01,  1.4111678e-01,  1.9990000e+01],\n",
       "       [ 2.5450000e+03, -7.5646615e-01,  9.4055700e-01, ...,\n",
       "        -2.6545532e-02,  4.3833274e-02,  5.8000002e+00]], dtype=float32)"
      ]
     },
     "execution_count": 29,
     "metadata": {},
     "output_type": "execute_result"
    }
   ],
   "source": [
    "test.get_features()"
   ]
  },
  {
   "cell_type": "code",
   "execution_count": 48,
   "id": "60509c93-f48c-49ab-b53e-142ca05e32f4",
   "metadata": {
    "tags": []
   },
   "outputs": [
    {
     "data": {
      "text/plain": [
       "array([0, 0, 0, ..., 0, 0, 0])"
      ]
     },
     "execution_count": 48,
     "metadata": {},
     "output_type": "execute_result"
    }
   ],
   "source": [
    "test.get_label()"
   ]
  },
  {
   "cell_type": "markdown",
   "id": "e18fc356-7d04-46bc-ae78-c8af9abb1b9b",
   "metadata": {},
   "source": [
    "### Training"
   ]
  },
  {
   "cell_type": "code",
   "execution_count": 17,
   "id": "0185f2db-48a0-44dc-beca-8a13f2f4501e",
   "metadata": {
    "tags": []
   },
   "outputs": [],
   "source": [
    "model = catboost.CatBoostClassifier(\n",
    "    custom_loss = [catboost.metrics.Accuracy()],\n",
    "    random_seed = 42,\n",
    "    iterations = 200,\n",
    "    verbose = False\n",
    ")"
   ]
  },
  {
   "cell_type": "code",
   "execution_count": 18,
   "id": "799f36c8-8845-49b3-9fb7-6affb2292091",
   "metadata": {
    "tags": []
   },
   "outputs": [
    {
     "data": {
      "text/plain": [
       "<catboost.core.CatBoostClassifier at 0x7f9658a30520>"
      ]
     },
     "execution_count": 18,
     "metadata": {},
     "output_type": "execute_result"
    }
   ],
   "source": [
    "model.fit(\n",
    "    train,\n",
    "    eval_set = validate\n",
    ")"
   ]
  },
  {
   "cell_type": "code",
   "execution_count": 19,
   "id": "6b5e5ac1-12d3-4068-8042-d6faffdbf48c",
   "metadata": {
    "tags": []
   },
   "outputs": [
    {
     "data": {
      "text/plain": [
       "{'learn': {'Accuracy': 0.9999034431301982, 'Logloss': 0.00043716791558089595},\n",
       " 'validation': {'Accuracy': 0.9995786664794073,\n",
       "  'Logloss': 0.002149552674352494}}"
      ]
     },
     "execution_count": 19,
     "metadata": {},
     "output_type": "execute_result"
    }
   ],
   "source": [
    "model.get_best_score()"
   ]
  },
  {
   "cell_type": "code",
   "execution_count": 20,
   "id": "3b36d33a-b435-4d30-b2f8-4277183e5279",
   "metadata": {
    "tags": []
   },
   "outputs": [
    {
     "data": {
      "text/plain": [
       "69"
      ]
     },
     "execution_count": 20,
     "metadata": {},
     "output_type": "execute_result"
    }
   ],
   "source": [
    "model.get_best_iteration()"
   ]
  },
  {
   "cell_type": "code",
   "execution_count": 21,
   "id": "2ae2bf94-5277-47ff-b45a-dd148903a759",
   "metadata": {
    "tags": []
   },
   "outputs": [
    {
     "data": {
      "text/plain": [
       "{'iterations': 200,\n",
       " 'random_seed': 42,\n",
       " 'verbose': False,\n",
       " 'custom_loss': ['Accuracy']}"
      ]
     },
     "execution_count": 21,
     "metadata": {},
     "output_type": "execute_result"
    }
   ],
   "source": [
    "model.get_params()"
   ]
  },
  {
   "cell_type": "code",
   "execution_count": 22,
   "id": "af877f7d-feb1-4ed9-b94e-8bd77a95d5ae",
   "metadata": {
    "tags": []
   },
   "outputs": [
    {
     "data": {
      "text/plain": [
       "{'nan_mode': 'Min',\n",
       " 'eval_metric': 'Logloss',\n",
       " 'iterations': 200,\n",
       " 'sampling_frequency': 'PerTree',\n",
       " 'leaf_estimation_method': 'Newton',\n",
       " 'random_score_type': 'NormalWithModelSizeDecrease',\n",
       " 'grow_policy': 'SymmetricTree',\n",
       " 'penalties_coefficient': 1,\n",
       " 'boosting_type': 'Plain',\n",
       " 'model_shrink_mode': 'Constant',\n",
       " 'feature_border_type': 'GreedyLogSum',\n",
       " 'bayesian_matrix_reg': 0.10000000149011612,\n",
       " 'eval_fraction': 0,\n",
       " 'force_unit_auto_pair_weights': False,\n",
       " 'l2_leaf_reg': 3,\n",
       " 'random_strength': 1,\n",
       " 'rsm': 1,\n",
       " 'boost_from_average': False,\n",
       " 'model_size_reg': 0.5,\n",
       " 'pool_metainfo_options': {'tags': {}},\n",
       " 'subsample': 0.800000011920929,\n",
       " 'use_best_model': True,\n",
       " 'class_names': [0, 1],\n",
       " 'random_seed': 42,\n",
       " 'depth': 6,\n",
       " 'posterior_sampling': False,\n",
       " 'border_count': 254,\n",
       " 'classes_count': 0,\n",
       " 'auto_class_weights': 'None',\n",
       " 'sparse_features_conflict_fraction': 0,\n",
       " 'custom_metric': ['Accuracy'],\n",
       " 'leaf_estimation_backtracking': 'AnyImprovement',\n",
       " 'best_model_min_trees': 1,\n",
       " 'model_shrink_rate': 0,\n",
       " 'min_data_in_leaf': 1,\n",
       " 'loss_function': 'Logloss',\n",
       " 'learning_rate': 0.24394799768924713,\n",
       " 'score_function': 'Cosine',\n",
       " 'task_type': 'CPU',\n",
       " 'leaf_estimation_iterations': 10,\n",
       " 'bootstrap_type': 'MVS',\n",
       " 'max_leaves': 64}"
      ]
     },
     "execution_count": 22,
     "metadata": {},
     "output_type": "execute_result"
    }
   ],
   "source": [
    "model.get_all_params()"
   ]
  },
  {
   "cell_type": "markdown",
   "id": "6ba323eb-ba6b-4e24-a55c-8e1190b401c5",
   "metadata": {},
   "source": [
    "### Inference"
   ]
  },
  {
   "cell_type": "code",
   "execution_count": 23,
   "id": "763436ec-0239-4191-9045-8466ffe019e9",
   "metadata": {
    "tags": []
   },
   "outputs": [],
   "source": [
    "predictions = model.predict(test.get_features())\n",
    "predictions_probs = model.predict_proba(test.get_features())"
   ]
  },
  {
   "cell_type": "code",
   "execution_count": 24,
   "id": "83580551-6946-4a5e-a731-b464c17c5936",
   "metadata": {
    "tags": []
   },
   "outputs": [
    {
     "data": {
      "text/plain": [
       "array([0, 0, 0, 0, 0, 0, 0, 0, 0, 0])"
      ]
     },
     "execution_count": 24,
     "metadata": {},
     "output_type": "execute_result"
    }
   ],
   "source": [
    "predictions[0:10]"
   ]
  },
  {
   "cell_type": "code",
   "execution_count": 25,
   "id": "6e416ed6-b72e-416f-ba32-8975978ed25a",
   "metadata": {
    "tags": []
   },
   "outputs": [
    {
     "data": {
      "text/plain": [
       "array([[9.99921674e-01, 7.83259909e-05],\n",
       "       [9.89528053e-01, 1.04719474e-02],\n",
       "       [9.99981821e-01, 1.81792276e-05],\n",
       "       [9.99993107e-01, 6.89255259e-06],\n",
       "       [9.99600287e-01, 3.99712633e-04],\n",
       "       [9.99870655e-01, 1.29344732e-04],\n",
       "       [9.99973999e-01, 2.60012740e-05],\n",
       "       [9.99858036e-01, 1.41963930e-04],\n",
       "       [9.99982863e-01, 1.71372976e-05],\n",
       "       [9.99960022e-01, 3.99781716e-05]])"
      ]
     },
     "execution_count": 25,
     "metadata": {},
     "output_type": "execute_result"
    }
   ],
   "source": [
    "predictions_probs[0:10]"
   ]
  },
  {
   "cell_type": "code",
   "execution_count": 26,
   "id": "fb8fce12-c0b7-46fc-a9e5-c7fe75757cbb",
   "metadata": {
    "tags": []
   },
   "outputs": [
    {
     "data": {
      "text/plain": [
       "0.9994733330992591"
      ]
     },
     "execution_count": 26,
     "metadata": {},
     "output_type": "execute_result"
    }
   ],
   "source": [
    "sklearn.metrics.accuracy_score(\n",
    "    test.get_label(),\n",
    "    model.predict(test.get_features())\n",
    ")"
   ]
  },
  {
   "cell_type": "markdown",
   "id": "f507de08-a554-450a-b28a-dc4a15e9caac",
   "metadata": {},
   "source": [
    "### Evaluation"
   ]
  },
  {
   "cell_type": "code",
   "execution_count": 127,
   "id": "855e8f7a-d4b7-408d-b026-20c49c05b767",
   "metadata": {
    "tags": []
   },
   "outputs": [
    {
     "data": {
      "text/plain": [
       "array([0, 1])"
      ]
     },
     "execution_count": 127,
     "metadata": {},
     "output_type": "execute_result"
    }
   ],
   "source": [
    "# class labels\n",
    "model.classes_"
   ]
  },
  {
   "cell_type": "code",
   "execution_count": 126,
   "id": "4e86fd46-12d3-4caa-8ffe-3f50c1dbbf6e",
   "metadata": {
    "tags": []
   },
   "outputs": [
    {
     "data": {
      "text/plain": [
       "[[28425, 0], [15, 41]]"
      ]
     },
     "execution_count": 126,
     "metadata": {},
     "output_type": "execute_result"
    }
   ],
   "source": [
    "# confusion matrix\n",
    "sklearn.metrics.confusion_matrix(test.get_label(), model.predict(test)).tolist()"
   ]
  },
  {
   "cell_type": "code",
   "execution_count": 122,
   "id": "4e181e65-3113-4b70-bd93-3f8bdd02f3d8",
   "metadata": {
    "tags": []
   },
   "outputs": [
    {
     "data": {
      "text/plain": [
       "0.9997362869198312"
      ]
     },
     "execution_count": 122,
     "metadata": {},
     "output_type": "execute_result"
    }
   ],
   "source": [
    "# precision\n",
    "sklearn.metrics.precision_score(test.get_label(), model.predict(test), average='macro')"
   ]
  },
  {
   "cell_type": "code",
   "execution_count": 123,
   "id": "5b46f8de-c3ad-40f9-85d7-3e84f07b2dce",
   "metadata": {
    "tags": []
   },
   "outputs": [
    {
     "data": {
      "text/plain": [
       "0.8660714285714286"
      ]
     },
     "execution_count": 123,
     "metadata": {},
     "output_type": "execute_result"
    }
   ],
   "source": [
    "# recall\n",
    "sklearn.metrics.recall_score(test.get_label(), model.predict(test), average='macro')"
   ]
  },
  {
   "cell_type": "code",
   "execution_count": 124,
   "id": "9aafa5f7-4589-4891-9b4f-195b1d36e952",
   "metadata": {
    "tags": []
   },
   "outputs": [
    {
     "data": {
      "text/plain": [
       "0.922548521049583"
      ]
     },
     "execution_count": 124,
     "metadata": {},
     "output_type": "execute_result"
    }
   ],
   "source": [
    "# f1\n",
    "sklearn.metrics.f1_score(test.get_label(), model.predict(test), average='macro')"
   ]
  },
  {
   "cell_type": "code",
   "execution_count": 125,
   "id": "fabf5112-c54d-47a9-9435-aaa098e7faca",
   "metadata": {
    "tags": []
   },
   "outputs": [
    {
     "data": {
      "text/plain": [
       "0.732669524043598"
      ]
     },
     "execution_count": 125,
     "metadata": {},
     "output_type": "execute_result"
    }
   ],
   "source": [
    "# average precision\n",
    "sklearn.metrics.average_precision_score(test.get_label(), model.predict(test), average='macro')"
   ]
  },
  {
   "cell_type": "code",
   "execution_count": 145,
   "id": "761ed97b-924b-4475-a3fd-bd75f9d1bb63",
   "metadata": {
    "tags": []
   },
   "outputs": [],
   "source": [
    "# fpr, tpr, threshold for ROC curve\n",
    "fpr, tpr, threshold = sklearn.metrics.roc_curve(test.get_label(), model.predict_proba(test)[:, 1])"
   ]
  },
  {
   "cell_type": "code",
   "execution_count": 143,
   "id": "fdb6d63b-2c59-4400-9cfe-fc0707fc3979",
   "metadata": {
    "tags": []
   },
   "outputs": [
    {
     "data": {
      "text/plain": [
       "(array([0.        , 0.        , 0.        , ..., 0.99971856, 0.99978892,\n",
       "        1.        ]),\n",
       " array([0.        , 0.01785714, 0.73214286, ..., 1.        , 1.        ,\n",
       "        1.        ]),\n",
       " array([           inf, 9.99321985e-01, 5.23995158e-01, ...,\n",
       "        1.03439049e-06, 1.01246217e-06, 5.94146431e-07]))"
      ]
     },
     "execution_count": 143,
     "metadata": {},
     "output_type": "execute_result"
    }
   ],
   "source": [
    "fpr, tpr, threshold"
   ]
  },
  {
   "cell_type": "code",
   "execution_count": 134,
   "id": "eea1fb89-9d33-48c4-9d1c-eebe3fe1da6d",
   "metadata": {
    "tags": []
   },
   "outputs": [
    {
     "data": {
      "text/plain": [
       "array([[2.8425e+04, 0.0000e+00],\n",
       "       [1.5000e+01, 4.1000e+01]])"
      ]
     },
     "execution_count": 134,
     "metadata": {},
     "output_type": "execute_result"
    }
   ],
   "source": [
    "# confusion matrix\n",
    "catboost.utils.get_confusion_matrix(model, test)"
   ]
  },
  {
   "cell_type": "code",
   "execution_count": 133,
   "id": "7fb9780d-b5b6-4e46-beb7-a57b2f1f91f2",
   "metadata": {
    "tags": []
   },
   "outputs": [
    {
     "data": {
      "text/plain": [
       "(array([0.        , 0.        , 0.        , ..., 0.99992964, 0.99996482,\n",
       "        1.        ]),\n",
       " array([0.        , 0.01785714, 0.03571429, ..., 1.        , 1.        ,\n",
       "        1.        ]),\n",
       " array([1.00000000e+00, 9.99317951e-01, 9.98980431e-01, ...,\n",
       "        7.13992184e-07, 6.31039079e-07, 0.00000000e+00]))"
      ]
     },
     "execution_count": 133,
     "metadata": {},
     "output_type": "execute_result"
    }
   ],
   "source": [
    "# fpr, tpr, thresholds for ROC curve\n",
    "catboost.utils.get_roc_curve(model, test)"
   ]
  },
  {
   "cell_type": "markdown",
   "id": "188934bd-af97-4480-8194-346a61ca17d6",
   "metadata": {},
   "source": [
    "### Inference Data Formats"
   ]
  },
  {
   "cell_type": "code",
   "execution_count": 79,
   "id": "c98b5b68-b3df-4833-93d2-919a7b9b2476",
   "metadata": {
    "tags": []
   },
   "outputs": [
    {
     "data": {
      "text/html": [
       "<div>\n",
       "<style scoped>\n",
       "    .dataframe tbody tr th:only-of-type {\n",
       "        vertical-align: middle;\n",
       "    }\n",
       "\n",
       "    .dataframe tbody tr th {\n",
       "        vertical-align: top;\n",
       "    }\n",
       "\n",
       "    .dataframe thead th {\n",
       "        text-align: right;\n",
       "    }\n",
       "</style>\n",
       "<table border=\"1\" class=\"dataframe\">\n",
       "  <thead>\n",
       "    <tr style=\"text-align: right;\">\n",
       "      <th></th>\n",
       "      <th>Time</th>\n",
       "      <th>V1</th>\n",
       "      <th>V2</th>\n",
       "      <th>V3</th>\n",
       "      <th>V4</th>\n",
       "      <th>V5</th>\n",
       "      <th>V6</th>\n",
       "      <th>V7</th>\n",
       "      <th>V8</th>\n",
       "      <th>V9</th>\n",
       "      <th>...</th>\n",
       "      <th>V20</th>\n",
       "      <th>V21</th>\n",
       "      <th>V22</th>\n",
       "      <th>V23</th>\n",
       "      <th>V24</th>\n",
       "      <th>V25</th>\n",
       "      <th>V26</th>\n",
       "      <th>V27</th>\n",
       "      <th>V28</th>\n",
       "      <th>Amount</th>\n",
       "    </tr>\n",
       "  </thead>\n",
       "  <tbody>\n",
       "    <tr>\n",
       "      <th>4131</th>\n",
       "      <td>13323.0</td>\n",
       "      <td>-5.454362</td>\n",
       "      <td>8.287421</td>\n",
       "      <td>-12.752811</td>\n",
       "      <td>8.594342</td>\n",
       "      <td>-3.106002</td>\n",
       "      <td>-3.179949</td>\n",
       "      <td>-9.252794</td>\n",
       "      <td>4.245062</td>\n",
       "      <td>-6.329801</td>\n",
       "      <td>...</td>\n",
       "      <td>1.305862</td>\n",
       "      <td>1.846165</td>\n",
       "      <td>-0.267172</td>\n",
       "      <td>-0.310804</td>\n",
       "      <td>-1.201685</td>\n",
       "      <td>1.352176</td>\n",
       "      <td>0.608425</td>\n",
       "      <td>1.574715</td>\n",
       "      <td>0.808725</td>\n",
       "      <td>1.0</td>\n",
       "    </tr>\n",
       "  </tbody>\n",
       "</table>\n",
       "<p>1 rows × 30 columns</p>\n",
       "</div>"
      ],
      "text/plain": [
       "         Time        V1        V2         V3        V4        V5        V6  \\\n",
       "4131  13323.0 -5.454362  8.287421 -12.752811  8.594342 -3.106002 -3.179949   \n",
       "\n",
       "            V7        V8        V9  ...       V20       V21       V22  \\\n",
       "4131 -9.252794  4.245062 -6.329801  ...  1.305862  1.846165 -0.267172   \n",
       "\n",
       "           V23       V24       V25       V26       V27       V28  Amount  \n",
       "4131 -0.310804 -1.201685  1.352176  0.608425  1.574715  0.808725     1.0  \n",
       "\n",
       "[1 rows x 30 columns]"
      ]
     },
     "execution_count": 79,
     "metadata": {},
     "output_type": "execute_result"
    }
   ],
   "source": [
    "example_df = fraud_ds[(fraud_ds['splits']=='TEST') & (fraud_ds['Class']==1)].iloc[0:1].drop(['Class', 'splits'], axis = 1)\n",
    "example_df"
   ]
  },
  {
   "cell_type": "code",
   "execution_count": 80,
   "id": "28d1ee8e-3936-4e04-b789-4f3367b8282c",
   "metadata": {
    "tags": []
   },
   "outputs": [
    {
     "data": {
      "text/html": [
       "<div>\n",
       "<style scoped>\n",
       "    .dataframe tbody tr th:only-of-type {\n",
       "        vertical-align: middle;\n",
       "    }\n",
       "\n",
       "    .dataframe tbody tr th {\n",
       "        vertical-align: top;\n",
       "    }\n",
       "\n",
       "    .dataframe thead th {\n",
       "        text-align: right;\n",
       "    }\n",
       "</style>\n",
       "<table border=\"1\" class=\"dataframe\">\n",
       "  <thead>\n",
       "    <tr style=\"text-align: right;\">\n",
       "      <th></th>\n",
       "      <th>V10</th>\n",
       "      <th>V17</th>\n",
       "      <th>V11</th>\n",
       "      <th>V12</th>\n",
       "      <th>Time</th>\n",
       "      <th>V26</th>\n",
       "      <th>V20</th>\n",
       "      <th>V21</th>\n",
       "      <th>V18</th>\n",
       "      <th>V5</th>\n",
       "      <th>...</th>\n",
       "      <th>V22</th>\n",
       "      <th>V28</th>\n",
       "      <th>V6</th>\n",
       "      <th>V24</th>\n",
       "      <th>V2</th>\n",
       "      <th>V9</th>\n",
       "      <th>V25</th>\n",
       "      <th>V19</th>\n",
       "      <th>V1</th>\n",
       "      <th>V16</th>\n",
       "    </tr>\n",
       "  </thead>\n",
       "  <tbody>\n",
       "    <tr>\n",
       "      <th>4131</th>\n",
       "      <td>-13.136698</td>\n",
       "      <td>-14.744902</td>\n",
       "      <td>11.22847</td>\n",
       "      <td>-17.131301</td>\n",
       "      <td>13323.0</td>\n",
       "      <td>0.608425</td>\n",
       "      <td>1.305862</td>\n",
       "      <td>1.846165</td>\n",
       "      <td>-5.247301</td>\n",
       "      <td>-3.106002</td>\n",
       "      <td>...</td>\n",
       "      <td>-0.267172</td>\n",
       "      <td>0.808725</td>\n",
       "      <td>-3.179949</td>\n",
       "      <td>-1.201685</td>\n",
       "      <td>8.287421</td>\n",
       "      <td>-6.329801</td>\n",
       "      <td>1.352176</td>\n",
       "      <td>-0.574675</td>\n",
       "      <td>-5.454362</td>\n",
       "      <td>-9.723565</td>\n",
       "    </tr>\n",
       "  </tbody>\n",
       "</table>\n",
       "<p>1 rows × 30 columns</p>\n",
       "</div>"
      ],
      "text/plain": [
       "            V10        V17       V11        V12     Time       V26       V20  \\\n",
       "4131 -13.136698 -14.744902  11.22847 -17.131301  13323.0  0.608425  1.305862   \n",
       "\n",
       "           V21       V18        V5  ...       V22       V28        V6  \\\n",
       "4131  1.846165 -5.247301 -3.106002  ... -0.267172  0.808725 -3.179949   \n",
       "\n",
       "           V24        V2        V9       V25       V19        V1       V16  \n",
       "4131 -1.201685  8.287421 -6.329801  1.352176 -0.574675 -5.454362 -9.723565  \n",
       "\n",
       "[1 rows x 30 columns]"
      ]
     },
     "execution_count": 80,
     "metadata": {},
     "output_type": "execute_result"
    }
   ],
   "source": [
    "example_df_reordered = example_df.reindex(columns = np.random.permutation(example_df.columns))\n",
    "example_df_reordered"
   ]
  },
  {
   "cell_type": "code",
   "execution_count": 81,
   "id": "77821ce5-0535-478f-8c8f-b96f8a9b5191",
   "metadata": {
    "tags": []
   },
   "outputs": [
    {
     "data": {
      "text/plain": [
       "Time        13323.0\n",
       "V1        -5.454362\n",
       "V2         8.287421\n",
       "V3       -12.752811\n",
       "V4         8.594342\n",
       "V5        -3.106002\n",
       "V6        -3.179949\n",
       "V7        -9.252794\n",
       "V8         4.245062\n",
       "V9        -6.329801\n",
       "V10      -13.136698\n",
       "V11        11.22847\n",
       "V12      -17.131301\n",
       "V13       -0.169401\n",
       "V14      -18.049998\n",
       "V15       -1.366236\n",
       "V16       -9.723565\n",
       "V17      -14.744902\n",
       "V18       -5.247301\n",
       "V19       -0.574675\n",
       "V20        1.305862\n",
       "V21        1.846165\n",
       "V22       -0.267172\n",
       "V23       -0.310804\n",
       "V24       -1.201685\n",
       "V25        1.352176\n",
       "V26        0.608425\n",
       "V27        1.574715\n",
       "V28        0.808725\n",
       "Amount          1.0\n",
       "Name: 4131, dtype: Float64"
      ]
     },
     "execution_count": 81,
     "metadata": {},
     "output_type": "execute_result"
    }
   ],
   "source": [
    "example_series = example_df.iloc[0]\n",
    "example_series_reordered = example_df_reordered.iloc[0]\n",
    "example_series"
   ]
  },
  {
   "cell_type": "code",
   "execution_count": 82,
   "id": "df755951-26c6-4e4f-aff9-4229717aa3df",
   "metadata": {
    "tags": []
   },
   "outputs": [
    {
     "data": {
      "text/plain": [
       "array([[13323.0, -5.454361779396731, 8.287420555349831,\n",
       "        -12.7528112729386, 8.59434189301081, -3.10600228114338,\n",
       "        -3.1799487568641402, -9.25279393795831, 4.24506220985367,\n",
       "        -6.32980084623466, -13.136698369103902, 11.228470279576001,\n",
       "        -17.1313009454468, -0.16940105681412398, -18.049997689859396,\n",
       "        -1.3662356609906499, -9.7235653091894, -14.7449024646768,\n",
       "        -5.24730110631125, -0.5746751437958171, 1.3058619148343702,\n",
       "        1.84616479291417, -0.267171794223081, -0.31080396975162106,\n",
       "        -1.20168545799806, 1.35217609502433, 0.6084245963604029,\n",
       "        1.5747147838420401, 0.8087252050902329, 1.0]], dtype=object)"
      ]
     },
     "execution_count": 82,
     "metadata": {},
     "output_type": "execute_result"
    }
   ],
   "source": [
    "example_np = example_df.to_numpy()\n",
    "example_np_reordered = example_df_reordered.to_numpy()\n",
    "example_np"
   ]
  },
  {
   "cell_type": "code",
   "execution_count": 83,
   "id": "6a96361d-f289-48ef-9667-2d400219dcc2",
   "metadata": {
    "tags": []
   },
   "outputs": [
    {
     "data": {
      "text/plain": [
       "[[13323.0,\n",
       "  -5.454361779396731,\n",
       "  8.287420555349831,\n",
       "  -12.7528112729386,\n",
       "  8.59434189301081,\n",
       "  -3.10600228114338,\n",
       "  -3.1799487568641402,\n",
       "  -9.25279393795831,\n",
       "  4.24506220985367,\n",
       "  -6.32980084623466,\n",
       "  -13.136698369103902,\n",
       "  11.228470279576001,\n",
       "  -17.1313009454468,\n",
       "  -0.16940105681412398,\n",
       "  -18.049997689859396,\n",
       "  -1.3662356609906499,\n",
       "  -9.7235653091894,\n",
       "  -14.7449024646768,\n",
       "  -5.24730110631125,\n",
       "  -0.5746751437958171,\n",
       "  1.3058619148343702,\n",
       "  1.84616479291417,\n",
       "  -0.267171794223081,\n",
       "  -0.31080396975162106,\n",
       "  -1.20168545799806,\n",
       "  1.35217609502433,\n",
       "  0.6084245963604029,\n",
       "  1.5747147838420401,\n",
       "  0.8087252050902329,\n",
       "  1.0]]"
      ]
     },
     "execution_count": 83,
     "metadata": {},
     "output_type": "execute_result"
    }
   ],
   "source": [
    "example_list = example_df.values.tolist()\n",
    "example_list_reordered = example_df_reordered.values.tolist()\n",
    "example_list"
   ]
  },
  {
   "cell_type": "code",
   "execution_count": 84,
   "id": "3b7d400a-4535-43b8-81ba-fd7f416e3c22",
   "metadata": {
    "tags": []
   },
   "outputs": [
    {
     "data": {
      "text/plain": [
       "(array([1]), array([1]))"
      ]
     },
     "execution_count": 84,
     "metadata": {},
     "output_type": "execute_result"
    }
   ],
   "source": [
    "model.predict(example_df), model.predict(example_df_reordered)"
   ]
  },
  {
   "cell_type": "code",
   "execution_count": 85,
   "id": "f950f169-c872-43dc-ba41-b3d561130dce",
   "metadata": {
    "tags": []
   },
   "outputs": [
    {
     "data": {
      "text/plain": [
       "(1, 0)"
      ]
     },
     "execution_count": 85,
     "metadata": {},
     "output_type": "execute_result"
    }
   ],
   "source": [
    "model.predict(example_series), model.predict(example_series_reordered)"
   ]
  },
  {
   "cell_type": "code",
   "execution_count": 86,
   "id": "bf8c0ebe-ae4b-4015-8e16-4968846bc57d",
   "metadata": {
    "tags": []
   },
   "outputs": [
    {
     "data": {
      "text/plain": [
       "(array([1]), array([0]))"
      ]
     },
     "execution_count": 86,
     "metadata": {},
     "output_type": "execute_result"
    }
   ],
   "source": [
    "model.predict(example_np), model.predict(example_np_reordered)"
   ]
  },
  {
   "cell_type": "code",
   "execution_count": 108,
   "id": "10ada5e3-54f7-4de2-a765-97f2295c5d24",
   "metadata": {
    "tags": []
   },
   "outputs": [
    {
     "data": {
      "text/plain": [
       "(array([1]), array([0]))"
      ]
     },
     "execution_count": 108,
     "metadata": {},
     "output_type": "execute_result"
    }
   ],
   "source": [
    "model.predict(example_list), model.predict(example_list_reordered)"
   ]
  },
  {
   "cell_type": "code",
   "execution_count": 207,
   "id": "3e79f5f5-010a-4cc2-980e-e42993ece02a",
   "metadata": {
    "tags": []
   },
   "outputs": [],
   "source": [
    "examples_np = fraud_ds[(fraud_ds['splits']=='TEST') & (fraud_ds['Class']==1)].iloc[0:10].drop(['Class', 'splits'], axis = 1).to_numpy()"
   ]
  },
  {
   "cell_type": "code",
   "execution_count": 208,
   "id": "8c515a13-1dbc-4f7f-8fdb-52b7fd00ac30",
   "metadata": {
    "tags": []
   },
   "outputs": [
    {
     "data": {
      "text/plain": [
       "1"
      ]
     },
     "execution_count": 208,
     "metadata": {},
     "output_type": "execute_result"
    }
   ],
   "source": [
    "model.predict(examples_np[0])"
   ]
  },
  {
   "cell_type": "code",
   "execution_count": 209,
   "id": "53349a02-10e2-4e1f-b87f-86a0e75646c9",
   "metadata": {
    "tags": []
   },
   "outputs": [
    {
     "data": {
      "text/plain": [
       "array([1, 1, 1, 1, 0, 0, 1, 1, 1, 1])"
      ]
     },
     "execution_count": 209,
     "metadata": {},
     "output_type": "execute_result"
    }
   ],
   "source": [
    "model.predict(examples_np)"
   ]
  },
  {
   "cell_type": "markdown",
   "id": "2f3b2bf2-4ba9-4edd-8e78-793d9be6660f",
   "metadata": {
    "tags": []
   },
   "source": [
    "---\n",
    "## Model Files\n",
    "\n",
    "Save and recall model files using GCS."
   ]
  },
  {
   "cell_type": "markdown",
   "id": "894cb448-66ea-4f76-b4b6-3b00382e0061",
   "metadata": {},
   "source": [
    "### Save To GCS"
   ]
  },
  {
   "cell_type": "code",
   "execution_count": 225,
   "id": "d195ec98-7072-43a0-9d6c-4a1ccd91edb0",
   "metadata": {
    "tags": []
   },
   "outputs": [],
   "source": [
    "model_blob = bucket.blob(f'{SERIES}/{EXPERIMENT}/model.cbm')\n",
    "\n",
    "with tempfile.NamedTemporaryFile() as temp_file:\n",
    "    model.save_model(temp_file.name, format = 'cbm')\n",
    "    model_blob.upload_from_filename(temp_file.name)"
   ]
  },
  {
   "cell_type": "code",
   "execution_count": 237,
   "id": "f5ca4c92-a38c-42b6-bf2a-f2b65c125239",
   "metadata": {
    "tags": []
   },
   "outputs": [],
   "source": [
    "examples_blob = bucket.blob(f'{SERIES}/{EXPERIMENT}/examples.json')\n",
    "examples_blob.upload_from_string(\n",
    "    json.dumps(examples_np.tolist()),\n",
    "    content_type = 'appliation/json'\n",
    ")"
   ]
  },
  {
   "cell_type": "code",
   "execution_count": 238,
   "id": "3d6e7cf3-25ea-4a9a-b4a1-5ee00f208cf4",
   "metadata": {
    "tags": []
   },
   "outputs": [
    {
     "data": {
      "text/plain": [
       "[<Blob: statmike-mlops-349915, frameworks-catboost/notebook/examples.json, 1727814002308236>,\n",
       " <Blob: statmike-mlops-349915, frameworks-catboost/notebook/model.cbm, 1727813570750716>]"
      ]
     },
     "execution_count": 238,
     "metadata": {},
     "output_type": "execute_result"
    }
   ],
   "source": [
    "list(bucket.list_blobs(prefix = f'{SERIES}/{EXPERIMENT}'))"
   ]
  },
  {
   "cell_type": "markdown",
   "id": "e1cd24ac-4365-4792-acf3-9d5302976763",
   "metadata": {},
   "source": [
    "### Load From GCS"
   ]
  },
  {
   "cell_type": "code",
   "execution_count": 239,
   "id": "b2c8ae11-6a04-473d-b08a-588543774167",
   "metadata": {
    "tags": []
   },
   "outputs": [
    {
     "data": {
      "text/plain": [
       "<catboost.core.CatBoostClassifier at 0x7f95b6c6ed10>"
      ]
     },
     "execution_count": 239,
     "metadata": {},
     "output_type": "execute_result"
    }
   ],
   "source": [
    "model_bytes = model_blob.download_as_bytes()\n",
    "reload_model = catboost.CatBoostClassifier()\n",
    "reload_model.load_model(blob = model_bytes)"
   ]
  },
  {
   "cell_type": "code",
   "execution_count": 244,
   "id": "9cf7c502-5267-49de-8422-95a4577f3f59",
   "metadata": {
    "tags": []
   },
   "outputs": [],
   "source": [
    "reload_examples_np = np.array(\n",
    "    json.loads(examples_blob.download_as_string())\n",
    ")"
   ]
  },
  {
   "cell_type": "code",
   "execution_count": 245,
   "id": "96996bd8-8147-4b7a-870a-f660c4e8a235",
   "metadata": {
    "tags": []
   },
   "outputs": [
    {
     "data": {
      "text/plain": [
       "array([1, 1, 1, 1, 0, 0, 1, 1, 1, 1])"
      ]
     },
     "execution_count": 245,
     "metadata": {},
     "output_type": "execute_result"
    }
   ],
   "source": [
    "reload_model.predict(examples_np)"
   ]
  },
  {
   "cell_type": "code",
   "execution_count": 246,
   "id": "178655ab-b426-42f1-bedd-30c929824efd",
   "metadata": {
    "tags": []
   },
   "outputs": [
    {
     "data": {
      "text/plain": [
       "array([1, 1, 1, 1, 0, 0, 1, 1, 1, 1])"
      ]
     },
     "execution_count": 246,
     "metadata": {},
     "output_type": "execute_result"
    }
   ],
   "source": [
    "reload_model.predict(reload_examples_np)"
   ]
  },
  {
   "cell_type": "markdown",
   "id": "3ad1f50a-cdfc-4064-bb3b-b24cd9304bfa",
   "metadata": {},
   "source": [
    "---\n",
    "## Vertex AI Experiments\n",
    "\n",
    "[Vertex AI Experiments](https://cloud.google.com/vertex-ai/docs/experiments/intro-vertex-ai-experiments) is covered in detail in this repository under the [MLOps](../../MLOps/readme.md) section for [Experiment Tracking](../../MLOps/Experiment%20Tracking/readme.md).\n",
    "\n",
    "In short:\n",
    "- Experiments is a service for tracking ana analyzing metrics, parameters and other data related to ML processes\n",
    "- An [experiment is created or connected](https://cloud.google.com/vertex-ai/docs/experiments/create-experiment) with the SDK via `aiplatform.init(experiment = 'name for experiment here`)\n",
    "- Information is logged to a [run created under an experiment](https://cloud.google.com/vertex-ai/docs/experiments/create-manage-exp-run) with `aiplatform.start_run(run = 'name for run here')`\n",
    "- Log information with the SDK:\n",
    "    - [Autolog](https://cloud.google.com/vertex-ai/docs/experiments/autolog-data) with `aiplatform.autolog()`\n",
    "        - for supported frameworks\n",
    "    - [Summary metrics](https://cloud.google.com/vertex-ai/docs/experiments/log-data#summary-metrics) with `aiplatform.log_metrics()`\n",
    "    - [Time series metrics](https://cloud.google.com/vertex-ai/docs/experiments/log-data#time-series-metrics) with `aiplatform.log_time_series_metrics()`\n",
    "        - This requires a backing Vertex AI TensorBoard resource\n",
    "    - [Parameters](https://cloud.google.com/vertex-ai/docs/experiments/log-data#parameters) with `aiplatform.log_params()`\n",
    "    - [Classification metrics](https://cloud.google.com/vertex-ai/docs/experiments/log-data#classification-metrics) with `aiplatform.log_classification_metrics()`\n",
    "    - [Model Artifacts](https://cloud.google.com/vertex-ai/docs/experiments/log-models-exp-run) with `aiplatform.save_model()`\n",
    "        - for supported frameworks\n",
    "    - [Metadata Artifacts with Executions](https://cloud.google.com/vertex-ai/docs/experiments/track-executions-artifacts) using `aiplatform.start_execution`\n",
    "- Manages runs with:\n",
    "    - [End a run](https://cloud.google.com/vertex-ai/docs/experiments/create-manage-exp-run#end-run) with `aiplatform.end_run()`\n",
    "    - [Resume a run](https://cloud.google.com/vertex-ai/docs/experiments/create-manage-exp-run#resume-run) to update/add to an existing run by adding the `resume = True` parameter to `aiplatform.stsart_run(run = '', resume = True)`\n",
    "    - [Delete a run](https://cloud.google.com/vertex-ai/docs/experiments/create-manage-exp-run#delete-run) with the SDK's `ExperimentRun` method\n",
    "    - [Change the status](https://cloud.google.com/vertex-ai/docs/experiments/create-manage-exp-run#manage-status) of a run with the SDK's `ExperimentRun` method"
   ]
  },
  {
   "cell_type": "markdown",
   "id": "6cfe90c5-99ae-4aee-9801-03eb2bc2a7ca",
   "metadata": {},
   "source": [
    "### Start An Experiment Run"
   ]
  },
  {
   "cell_type": "code",
   "execution_count": 146,
   "id": "2ca6d942-4f4f-438a-965f-083b6bae3015",
   "metadata": {
    "tags": []
   },
   "outputs": [
    {
     "name": "stdout",
     "output_type": "stream",
     "text": [
      "Associating projects/1026793852137/locations/us-central1/metadataStores/default/contexts/frameworks-catboost-notebook-example to Experiment: frameworks-catboost-notebook\n"
     ]
    },
    {
     "data": {
      "text/html": [
       "\n",
       "        \n",
       "    <link rel=\"stylesheet\" href=\"https://fonts.googleapis.com/icon?family=Material+Icons\">\n",
       "    <style>\n",
       "      .view-vertex-resource,\n",
       "      .view-vertex-resource:hover,\n",
       "      .view-vertex-resource:visited {\n",
       "        position: relative;\n",
       "        display: inline-flex;\n",
       "        flex-direction: row;\n",
       "        height: 32px;\n",
       "        padding: 0 12px;\n",
       "          margin: 4px 18px;\n",
       "        gap: 4px;\n",
       "        border-radius: 4px;\n",
       "\n",
       "        align-items: center;\n",
       "        justify-content: center;\n",
       "        background-color: rgb(255, 255, 255);\n",
       "        color: rgb(51, 103, 214);\n",
       "\n",
       "        font-family: Roboto,\"Helvetica Neue\",sans-serif;\n",
       "        font-size: 13px;\n",
       "        font-weight: 500;\n",
       "        text-transform: uppercase;\n",
       "        text-decoration: none !important;\n",
       "\n",
       "        transition: box-shadow 280ms cubic-bezier(0.4, 0, 0.2, 1) 0s;\n",
       "        box-shadow: 0px 3px 1px -2px rgba(0,0,0,0.2), 0px 2px 2px 0px rgba(0,0,0,0.14), 0px 1px 5px 0px rgba(0,0,0,0.12);\n",
       "      }\n",
       "      .view-vertex-resource:active {\n",
       "        box-shadow: 0px 5px 5px -3px rgba(0,0,0,0.2),0px 8px 10px 1px rgba(0,0,0,0.14),0px 3px 14px 2px rgba(0,0,0,0.12);\n",
       "      }\n",
       "      .view-vertex-resource:active .view-vertex-ripple::before {\n",
       "        position: absolute;\n",
       "        top: 0;\n",
       "        bottom: 0;\n",
       "        left: 0;\n",
       "        right: 0;\n",
       "        border-radius: 4px;\n",
       "        pointer-events: none;\n",
       "\n",
       "        content: '';\n",
       "        background-color: rgb(51, 103, 214);\n",
       "        opacity: 0.12;\n",
       "      }\n",
       "      .view-vertex-icon {\n",
       "        font-size: 18px;\n",
       "      }\n",
       "    </style>\n",
       "  \n",
       "        <a class=\"view-vertex-resource\" id=\"view-vertex-resource-0c3b3466-0ed6-410d-a3b9-6b62e7277e7b\" href=\"#view-view-vertex-resource-0c3b3466-0ed6-410d-a3b9-6b62e7277e7b\">\n",
       "          <span class=\"material-icons view-vertex-icon\">science</span>\n",
       "          <span>View Experiment Run</span>\n",
       "        </a>\n",
       "        \n",
       "        <script>\n",
       "          (function () {\n",
       "            const link = document.getElementById('view-vertex-resource-0c3b3466-0ed6-410d-a3b9-6b62e7277e7b');\n",
       "            link.addEventListener('click', (e) => {\n",
       "              if (window.google?.colab?.openUrl) {\n",
       "                window.google.colab.openUrl('https://console.cloud.google.com/vertex-ai/experiments/locations/us-central1/experiments/frameworks-catboost-notebook/runs/frameworks-catboost-notebook-example?project=statmike-mlops-349915');\n",
       "              } else {\n",
       "                window.open('https://console.cloud.google.com/vertex-ai/experiments/locations/us-central1/experiments/frameworks-catboost-notebook/runs/frameworks-catboost-notebook-example?project=statmike-mlops-349915', '_blank');\n",
       "              }\n",
       "              e.stopPropagation();\n",
       "              e.preventDefault();\n",
       "            });\n",
       "          })();\n",
       "        </script>\n",
       "    "
      ],
      "text/plain": [
       "<IPython.core.display.HTML object>"
      ]
     },
     "metadata": {},
     "output_type": "display_data"
    },
    {
     "data": {
      "text/plain": [
       "<google.cloud.aiplatform.metadata.experiment_run_resource.ExperimentRun at 0x7f95bf0f2440>"
      ]
     },
     "execution_count": 146,
     "metadata": {},
     "output_type": "execute_result"
    }
   ],
   "source": [
    "aiplatform.start_run(run = 'example')"
   ]
  },
  {
   "cell_type": "markdown",
   "id": "728e0b40-72b7-494c-b78c-9b348485d5d6",
   "metadata": {},
   "source": [
    "### Log Model Parameters"
   ]
  },
  {
   "cell_type": "code",
   "execution_count": 166,
   "id": "b58910de-e2d2-42d6-95c8-8fd2d4c9e137",
   "metadata": {
    "tags": []
   },
   "outputs": [],
   "source": [
    "params = model.get_all_params()\n",
    "for key, value in params.items():\n",
    "    if type(value) in [dict, list]:\n",
    "        params[key] = json.dumps(value)\n",
    "        \n",
    "aiplatform.log_params(params)"
   ]
  },
  {
   "cell_type": "markdown",
   "id": "b1b5b1ec-7e91-477c-93ae-58589b410e36",
   "metadata": {},
   "source": [
    "### Log Summary Metrics"
   ]
  },
  {
   "cell_type": "code",
   "execution_count": 170,
   "id": "5094723a-f4ad-48bb-8eb0-555c05d91887",
   "metadata": {
    "tags": []
   },
   "outputs": [],
   "source": [
    "for split in ['train', 'validate', 'test']:\n",
    "    if split == 'train': dataset = train\n",
    "    elif split == 'validate': dataset = validate\n",
    "    elif split == 'test': dataset = test\n",
    "    aiplatform.log_metrics(\n",
    "        {\n",
    "            f'{split}_accuracy' : sklearn.metrics.accuracy_score(dataset.get_label(), model.predict(dataset)),\n",
    "            f'{split}_precision' : sklearn.metrics.precision_score(dataset.get_label(), model.predict(dataset), average='macro'),\n",
    "            f'{split}_recall' : sklearn.metrics.recall_score(dataset.get_label(), model.predict(dataset), average='macro'),\n",
    "            f'{split}_f1' : sklearn.metrics.f1_score(dataset.get_label(), model.predict(dataset), average='macro'),\n",
    "            f'{split}_average_precision' : sklearn.metrics.average_precision_score(dataset.get_label(), model.predict(dataset), average='macro')        \n",
    "        }\n",
    "    )"
   ]
  },
  {
   "cell_type": "markdown",
   "id": "7a5c8e2c-d594-4e68-a3f8-7012f086a5f2",
   "metadata": {},
   "source": [
    "### Log Classification Metrics"
   ]
  },
  {
   "cell_type": "code",
   "execution_count": 178,
   "id": "f6d28439-d219-43a7-86cc-84cfd650c104",
   "metadata": {
    "tags": []
   },
   "outputs": [],
   "source": [
    "for split in ['train', 'validate', 'test']:\n",
    "    if split == 'train': dataset = train\n",
    "    elif split == 'validate': dataset = validate\n",
    "    elif split == 'test': dataset = test\n",
    "    \n",
    "    \n",
    "    fpr, tpr, threshold = sklearn.metrics.roc_curve(dataset.get_label(), model.predict_proba(dataset)[:, 1])\n",
    "    aiplatform.log_classification_metrics(\n",
    "        labels = [str(x) for x in model.classes_],\n",
    "        matrix = sklearn.metrics.confusion_matrix(dataset.get_label(), model.predict(dataset)).tolist(),\n",
    "        #fpr = fpr.tolist()[1:],\n",
    "        #tpr = tpr.tolist()[1:],\n",
    "        #threshold = threshold.tolist()[1:],\n",
    "        display_name = split\n",
    "    )"
   ]
  },
  {
   "cell_type": "markdown",
   "id": "ee0ec2b1-cfa4-4c48-b54b-504fcc2d6282",
   "metadata": {},
   "source": [
    "### Log Model Artifact"
   ]
  },
  {
   "cell_type": "code",
   "execution_count": 183,
   "id": "055483cb-4422-474f-8598-14ec8bd728dd",
   "metadata": {
    "tags": []
   },
   "outputs": [],
   "source": [
    "model_artifact = aiplatform.Artifact.create(\n",
    "    schema_title = 'system.Model',\n",
    "    schema_version = '0.0.1',\n",
    "    display_name = 'Model For Example',\n",
    "    uri = f\"gs://{bucket.name}/{model_blob.name}\",\n",
    ")"
   ]
  },
  {
   "cell_type": "code",
   "execution_count": 186,
   "id": "0e353ed8-07b1-455f-99dc-a90ffbe9f7c0",
   "metadata": {
    "tags": []
   },
   "outputs": [],
   "source": [
    "with aiplatform.start_execution(\n",
    "    schema_title = 'system.ContainerExecution',\n",
    "    display_name = 'Train Model'\n",
    ") as exc:\n",
    "    exc.assign_output_artifacts([model_artifact])"
   ]
  },
  {
   "cell_type": "code",
   "execution_count": 187,
   "id": "922feb42-52ba-4538-9fa3-70d0b79da8ae",
   "metadata": {
    "tags": []
   },
   "outputs": [
    {
     "data": {
      "text/plain": [
       "'gs://statmike-mlops-349915/frameworks-catboost/notebook/model.cbm'"
      ]
     },
     "execution_count": 187,
     "metadata": {},
     "output_type": "execute_result"
    }
   ],
   "source": [
    "model_artifact.uri"
   ]
  },
  {
   "cell_type": "code",
   "execution_count": 189,
   "id": "640e8f48-1d5a-4ffe-8628-6276c842bb77",
   "metadata": {
    "tags": []
   },
   "outputs": [],
   "source": [
    "#dir(exc)"
   ]
  },
  {
   "cell_type": "markdown",
   "id": "caaacbd2-732a-48cb-a7a5-2446b043d2ac",
   "metadata": {},
   "source": [
    "---\n",
    "## Save Files For Companion Workflows\n",
    "\n",
    "This section saves the model and some test instances to a local folder for use in companion workflows that use the model."
   ]
  },
  {
   "cell_type": "code",
   "execution_count": 194,
   "id": "cd604524-6b0e-47fa-94da-15ce810d4a41",
   "metadata": {
    "tags": []
   },
   "outputs": [],
   "source": [
    "model.save_model(f'{DIR}/model.cbm', format = 'cbm')"
   ]
  },
  {
   "cell_type": "code",
   "execution_count": 248,
   "id": "d56bf966-b4c4-4cbb-8530-a7bd11395f24",
   "metadata": {
    "tags": []
   },
   "outputs": [],
   "source": [
    "with open(f'{DIR}/examples.json', 'w') as f:\n",
    "    json.dump(examples_np.tolist(), f)"
   ]
  }
 ],
 "metadata": {
  "environment": {
   "kernel": "conda-base-py",
   "name": "workbench-notebooks.m125",
   "type": "gcloud",
   "uri": "us-docker.pkg.dev/deeplearning-platform-release/gcr.io/workbench-notebooks:m125"
  },
  "kernelspec": {
   "display_name": "Python 3 (ipykernel) (Local)",
   "language": "python",
   "name": "conda-base-py"
  },
  "language_info": {
   "codemirror_mode": {
    "name": "ipython",
    "version": 3
   },
   "file_extension": ".py",
   "mimetype": "text/x-python",
   "name": "python",
   "nbconvert_exporter": "python",
   "pygments_lexer": "ipython3",
   "version": "3.10.15"
  }
 },
 "nbformat": 4,
 "nbformat_minor": 5
}
