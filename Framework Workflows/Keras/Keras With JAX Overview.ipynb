{
 "cells": [
  {
   "cell_type": "markdown",
   "id": "2e5dd27f",
   "metadata": {},
   "source": [
    "![tracker](https://us-central1-vertex-ai-mlops-369716.cloudfunctions.net/pixel-tracking?path=statmike%2Fvertex-ai-mlops%2FFramework+Workflows%2FKeras&file=Keras+With+JAX+Overview.ipynb)\n",
    "<!--- header table --->\n",
    "<table align=\"left\">\n",
    "  <td style=\"text-align: center\">\n",
    "    <a href=\"https://colab.research.google.com/github/statmike/vertex-ai-mlops/blob/main/Framework%20Workflows/Keras/Keras%20With%20JAX%20Overview.ipynb\">\n",
    "      <img src=\"https://cloud.google.com/ml-engine/images/colab-logo-32px.png\" alt=\"Google Colaboratory logo\">\n",
    "      <br>Run in<br>Colab\n",
    "    </a>\n",
    "  </td>\n",
    "  <td style=\"text-align: center\">\n",
    "    <a href=\"https://console.cloud.google.com/vertex-ai/colab/import/https%3A%2F%2Fraw.githubusercontent.com%2Fstatmike%2Fvertex-ai-mlops%2Fmain%2FFramework%2520Workflows%2FKeras%2FKeras%2520With%2520JAX%2520Overview.ipynb\">\n",
    "      <img width=\"32px\" src=\"https://lh3.googleusercontent.com/JmcxdQi-qOpctIvWKgPtrzZdJJK-J3sWE1RsfjZNwshCFgE_9fULcNpuXYTilIR2hjwN\" alt=\"Google Cloud Colab Enterprise logo\">\n",
    "      <br>Run in<br>Colab Enterprise\n",
    "    </a>\n",
    "  </td>      \n",
    "  <td style=\"text-align: center\">\n",
    "    <a href=\"https://github.com/statmike/vertex-ai-mlops/blob/main/Framework%20Workflows/Keras/Keras%20With%20JAX%20Overview.ipynb\">\n",
    "      <img src=\"https://cloud.google.com/ml-engine/images/github-logo-32px.png\" alt=\"GitHub logo\">\n",
    "      <br>View on<br>GitHub\n",
    "    </a>\n",
    "  </td>\n",
    "  <td style=\"text-align: center\">\n",
    "    <a href=\"https://console.cloud.google.com/vertex-ai/workbench/deploy-notebook?download_url=https://raw.githubusercontent.com/statmike/vertex-ai-mlops/main/Framework%20Workflows/Keras/Keras%20With%20JAX%20Overview.ipynb\">\n",
    "      <img src=\"https://lh3.googleusercontent.com/UiNooY4LUgW_oTvpsNhPpQzsstV5W8F7rYgxgGBD85cWJoLmrOzhVs_ksK_vgx40SHs7jCqkTkCk=e14-rj-sc0xffffff-h130-w32\" alt=\"Vertex AI logo\">\n",
    "      <br>Open in<br>Vertex AI Workbench\n",
    "    </a>\n",
    "  </td>\n",
    "</table>"
   ]
  },
  {
   "cell_type": "markdown",
   "id": "ccf49c32-311c-4665-a5ea-4d126503022d",
   "metadata": {},
   "source": [
    "# Keras Overview\n",
    "\n",
    "An overview of using Keras 3 for building an autoencoder and its application in anomaly detection.\n",
    "\n",
    "This overview demonstrates how to build, train, and deploy an autoencoder for anomaly detection using Keras 3, with a focus on:\n",
    "\n",
    "*   Leveraging the **JAX backend** for numerical computation.\n",
    "*   Creating a robust and portable model suitable for **TensorFlow Serving**.\n",
    "*   Structuring the model for clear outputs and easy analysis.\n",
    "*   Handling data preprocessing and feature engineering within the Keras workflow.\n",
    "\n",
    "## Core Concepts\n",
    "\n",
    "**Keras 3:** A high-level API for building and training neural networks. Keras 3 offers multi-backend support, allowing you to use the same Keras code with TensorFlow, JAX, or PyTorch.\n",
    "\n",
    "**JAX:** A numerical computation library from Google that excels at automatic differentiation and acceleration on GPUs and TPUs. Using JAX as the Keras backend can lead to significant performance improvements, especially for models with custom operations or complex gradient calculations.\n",
    "\n",
    "**Autoencoders:** A type of neural network trained to *reconstruct* its input.  An autoencoder consists of two main parts:\n",
    "    *   **Encoder:** Compresses the input data into a lower-dimensional \"latent space\" representation.\n",
    "    *   **Decoder:** Reconstructs the original input from the latent space representation.\n",
    "\n",
    "**Anomaly Detection:** The principle is that anomalies (data points that deviate significantly from the norm) will have *higher reconstruction errors* than normal data points.  By training the autoencoder on \"normal\" data, we can use the reconstruction error as a measure of \"anomalousness.\"\n",
    "\n",
    "**TensorFlow Serving:** A flexible, high-performance serving system for machine learning models, designed for production environments. Keras 3 models can be easily exported to the TensorFlow SavedModel format, which is directly compatible with TensorFlow Serving.\n",
    "\n",
    "**TensorFlow Datasets (`tf.data`)**: An efficient API for building input pipelines, particularly well-suited for large datasets.\n",
    "\n",
    "## Workflow Summary\n",
    "\n",
    "This workflow covers the following key steps:\n",
    "\n",
    "1.  **Data Loading and Preprocessing:**\n",
    "    *   Loading data from BigQuery using the `google-cloud-bigquery` library.\n",
    "    *   Converting the data to a `tf.data.Dataset` for efficient batching and prefetching.\n",
    "    *   Defining preprocessing steps:\n",
    "        *   Removing irrelevant columns (`transaction_id`).\n",
    "        *   Identifying the target variable (`Class`).\n",
    "        *   Identifying numerical features.\n",
    "        *   Creating `Normalization` layers (`normalizer` and `denormalizer`) for feature scaling.  These layers are adapted to the training data.\n",
    "    *   Creating a `prep_batch` function to prepare batches of data for the model.\n",
    "\n",
    "2.  **Autoencoder Model Definition:**\n",
    "    *   Defining the `autoencoder` model using the Keras Functional API.  This includes an encoder (with `Dense` and `Dropout` layers) and a decoder, with a `latent` layer representing the compressed representation.\n",
    "    *   Using a custom loss function (`custom_loss`) based on Mean Absolute Error (MAE), implemented using JAX's NumPy (`jnp`).\n",
    "    *   Compiling the `autoencoder` with an optimizer (Adam) and metrics (RMSE, MSE, MAE, MSLE).\n",
    "\n",
    "3.  **Autoencoder Training:**\n",
    "    *   Training the `autoencoder` using the prepared `train_dataset` and `val_dataset`.\n",
    "    *   Using `EarlyStopping` to prevent overfitting (optional, but good practice).\n",
    "\n",
    "4.  **Encoder Model Creation:**\n",
    "    *   Creating a separate `encoder_model` from the trained `autoencoder` to extract the latent space representation. This uses `keras.Model` with the `autoencoder`'s input and the `latent` layer's output.\n",
    "\n",
    "5.  **`PostProcessingLayer` (Custom Layer):**\n",
    "    *   Defining a custom Keras layer, `PostProcessingLayer`, to encapsulate all the post-processing logic *within* the model graph. This layer:\n",
    "        *   Takes the trained `autoencoder`, `encoder_model`, `normalizer`, and `denormalizer` as inputs.\n",
    "        *   Performs normalization, autoencoding, denormalization, *and* latent space extraction.\n",
    "        *   Calculates reconstruction errors and metrics (MAE, RMSE, MSE, MSLE) *per instance*, aggregated across features.  Uses JAX (`jnp`) for these calculations.\n",
    "        *   Returns a dictionary containing:\n",
    "            *   `normalized_reconstruction`: The reconstructed output (normalized).\n",
    "            *   `normalized_reconstruction_errors`:  The difference between the normalized input and reconstruction.\n",
    "            *   `normalized_metrics`:  MAE, RMSE, MSE, and MSLE calculated on the normalized data.\n",
    "            *   `denormalized_reconstruction`:  The reconstructed output, denormalized back to the original scale.\n",
    "            *   `denormalized_reconstruction_errors`: The difference between the original (denormalized) input and the denormalized reconstruction.\n",
    "            *   `denormalized_metrics`: MAE, RMSE, MSE, and MSLE calculated on the denormalized data.\n",
    "            *   `encoded`: The output of the `encoder_model` (the latent space representation).\n",
    "        * For the TF Serving Model, a `PostProcessingLayerTF` is created to return a *flattened* dictionary, for compatiability.\n",
    "\n",
    "6. **Keras `final_model` Definition:**\n",
    "      * A separate `final_model` is created.\n",
    "      *   Takes a single tensor input (representing the stacked numerical features).\n",
    "        *   Passes the input to the `PostProcessingLayer`.\n",
    "        *   Returns the structured dictionary output from the `PostProcessingLayer`.\n",
    "\n",
    "7.  **Saving and Loading (Keras Format):**\n",
    "    *   The trained `autoencoder`, `encoder_model`, `normalizer`, and `denormalizer` are saved individually using `model.save()` with the `.keras` extension. This is the preferred format for Keras models.\n",
    "    *   These components are loaded back using `keras.models.load_model()`.\n",
    "    *   The `final_model` is *reconstructed* using the *loaded* components. This ensures all layers are correctly initialized within the Keras/JAX context. This reconstructed model is used for predictions within the Keras/JAX workflow.\n",
    "\n",
    "8.  **Saving and Loading (TensorFlow SavedModel Format):**\n",
    "      * A separate `final_model_tf` is created, using a `PostProcessingLayerTF` instance. This version of the layer returns a flattened dictionary.\n",
    "    *   The `final_model_tf` is saved using `model.export()`, creating a TensorFlow SavedModel. This is the format suitable for deployment with TensorFlow Serving.\n",
    "    * The model is loaded using `tf.saved_model.load`.\n",
    "\n",
    "9.  **Prediction:**\n",
    "    *   Demonstrates making predictions with both the loaded Keras model (`loaded_final_model_keras`) and the loaded TensorFlow SavedModel (using `tf.saved_model.load` and accessing the serving signature).\n",
    "    *   Shows how to prepare a single instance for prediction using `take(1).batch(1)` on the `tf.data.Dataset`.\n",
    "    * Shows converting inputs to `tf.float32`\n",
    "\n",
    "**Key Advantages of This Workflow:**\n",
    "\n",
    "*   **Modularity:** The code is well-structured and modular, with clear separation of concerns (data loading, preprocessing, autoencoder, post-processing).\n",
    "*   **Flexibility:** You can easily modify the autoencoder architecture, loss function, or metrics without affecting other parts of the code.\n",
    "*   **Portability:** The Keras model (saved as `.keras`) can be used with any Keras 3 backend (TensorFlow, JAX, or PyTorch).\n",
    "*   **Deployability:** The TensorFlow SavedModel is ready for deployment with TensorFlow Serving or other TensorFlow-based serving infrastructure.\n",
    "*   **Reproducibility:** Saving and loading all necessary components ensures consistent results.\n",
    "*   **Efficiency:**  Uses `tf.data` for efficient data handling and JAX for optimized numerical computation.\n",
    "*   **Clear Output Structure:** The final output is a well-organized dictionary (or list of dictionaries), making it easy to access and analyze the results."
   ]
  },
  {
   "cell_type": "markdown",
   "id": "67d92566-c86c-4008-a161-612854b5faab",
   "metadata": {
    "id": "od_UkDpvRmgD"
   },
   "source": [
    "---\n",
    "## Colab Setup\n",
    "\n",
    "When running this notebook in [Colab](https://colab.google/) or [Colab Enterprise](https://cloud.google.com/colab/docs/introduction), this section will authenticate to GCP (follow prompts in the popup) and set the current project for the session."
   ]
  },
  {
   "cell_type": "code",
   "execution_count": 23,
   "id": "0737962b-1ef0-4552-b642-99dec7499980",
   "metadata": {
    "executionInfo": {
     "elapsed": 195,
     "status": "ok",
     "timestamp": 1683726184843,
     "user": {
      "displayName": "Mike Henderson",
      "userId": "07691629187611687318"
     },
     "user_tz": 240
    },
    "id": "8UO9FnqyKBlF",
    "tags": []
   },
   "outputs": [],
   "source": [
    "PROJECT_ID = 'statmike-mlops-349915' # replace with project ID"
   ]
  },
  {
   "cell_type": "code",
   "execution_count": 24,
   "id": "fe5bbbdf-dc78-43d0-8429-8d3a48c97249",
   "metadata": {
    "colab": {
     "base_uri": "https://localhost:8080/"
    },
    "executionInfo": {
     "elapsed": 68869,
     "status": "ok",
     "timestamp": 1683726253709,
     "user": {
      "displayName": "Mike Henderson",
      "userId": "07691629187611687318"
     },
     "user_tz": 240
    },
    "id": "N98-KK7LRkjm",
    "outputId": "09ec5008-0def-4e1a-c349-c598ee752f78",
    "tags": []
   },
   "outputs": [],
   "source": [
    "try:\n",
    "    from google.colab import auth\n",
    "    auth.authenticate_user()\n",
    "    !gcloud config set project {PROJECT_ID}\n",
    "except Exception:\n",
    "    pass"
   ]
  },
  {
   "cell_type": "markdown",
   "id": "b7d5d7ea-5b0c-4191-9456-388a9e3a1ccf",
   "metadata": {},
   "source": [
    "---\n",
    "## Installs and API Enablement\n",
    "\n",
    "The clients packages may need installing in this environment. "
   ]
  },
  {
   "cell_type": "markdown",
   "id": "754632d3-ea20-4b64-81b3-63bd294a977c",
   "metadata": {},
   "source": [
    "### Installs (If Needed)"
   ]
  },
  {
   "cell_type": "code",
   "execution_count": 25,
   "id": "9a7cb888-f010-40f8-b0d7-c6f8a9c77926",
   "metadata": {
    "tags": []
   },
   "outputs": [],
   "source": [
    "# tuples of (import name, install name, min_version)\n",
    "packages = [\n",
    "    ('google.cloud.aiplatform', 'google-cloud-aiplatform'),\n",
    "    ('google.cloud.bigquery', 'google-cloud-bigquery'),\n",
    "    ('jax','jax'),\n",
    "    ('keras', 'keras', '3.6.0'),\n",
    "    ('numpy', 'numpy'),\n",
    "    ('tensorflow', 'tensorflow'),\n",
    "    ('pydot', 'pydot')\n",
    "]\n",
    "\n",
    "import importlib\n",
    "install = False\n",
    "for package in packages:\n",
    "    if not importlib.util.find_spec(package[0]):\n",
    "        print(f'installing package {package[1]}')\n",
    "        install = True\n",
    "        !pip install {package[1]} -U -q --user\n",
    "    elif len(package) == 3:\n",
    "        if importlib.metadata.version(package[0]) < package[2]:\n",
    "            print(f'updating package {package[1]}')\n",
    "            install = True\n",
    "            !pip install {package[1]} -U -q --user"
   ]
  },
  {
   "cell_type": "markdown",
   "id": "8b5319ef-200f-4341-b1f6-040432f45409",
   "metadata": {
    "tags": []
   },
   "source": [
    "### Graphviz Install\n",
    "\n",
    "Plotting the [model structure with Keras](https://keras.io/api/utils/model_plotting_utils/) uses [Graphviz](https://graphviz.org/download/).\n",
    "\n",
    "This code checks for Graphviz and if missing installs it."
   ]
  },
  {
   "cell_type": "code",
   "execution_count": 26,
   "id": "8d67ffd6-bc1e-4cd7-aff3-b1f8c5bb2fd5",
   "metadata": {
    "tags": []
   },
   "outputs": [
    {
     "name": "stdout",
     "output_type": "stream",
     "text": [
      "Graphviz installed with version: dot - graphviz version 2.43.0 (0)\n"
     ]
    }
   ],
   "source": [
    "check = !dot -V\n",
    "if check[0].startswith('dot'):\n",
    "    print(f'Graphviz installed with version: {check[0]}')\n",
    "else:\n",
    "    print('Installing Graphviz...')\n",
    "    install = !sudo apt-get install graphviz --assume-yes\n",
    "    print('Completed')"
   ]
  },
  {
   "cell_type": "markdown",
   "id": "4cacea46-0f27-4453-aa2d-5f0214326215",
   "metadata": {},
   "source": [
    "### API Enablement"
   ]
  },
  {
   "cell_type": "code",
   "execution_count": 27,
   "id": "cd198660-1cb2-4a54-ab0f-fe055132d388",
   "metadata": {
    "tags": []
   },
   "outputs": [],
   "source": [
    "!gcloud services enable aiplatform.googleapis.com"
   ]
  },
  {
   "cell_type": "markdown",
   "id": "b2182867-ec3e-4797-93e3-b09a0fa9acbc",
   "metadata": {},
   "source": [
    "### Restart Kernel (If Installs Occured)\n",
    "\n",
    "After a kernel restart the code submission can start with the next cell after this one."
   ]
  },
  {
   "cell_type": "code",
   "execution_count": 28,
   "id": "756b1dd4-836a-4cd2-a0bd-1eeea65f8fd6",
   "metadata": {
    "tags": []
   },
   "outputs": [],
   "source": [
    "if install:\n",
    "    import IPython\n",
    "    app = IPython.Application.instance()\n",
    "    app.kernel.do_shutdown(True)\n",
    "    IPython.display.display(IPython.display.Markdown(\"\"\"<div class=\\\"alert alert-block alert-warning\\\">\n",
    "        <b>⚠️ The kernel is going to restart. Please wait until it is finished before continuing to the next step. The previous cells do not need to be run again⚠️</b>\n",
    "        </div>\"\"\"))"
   ]
  },
  {
   "cell_type": "markdown",
   "id": "fe5d7ff7-b086-416b-acdf-4971fa26c12d",
   "metadata": {
    "id": "appt8-yVRtJ1"
   },
   "source": [
    "---\n",
    "## Setup"
   ]
  },
  {
   "cell_type": "markdown",
   "id": "621034b9-a98e-4195-9477-ee88fbf845a3",
   "metadata": {
    "id": "63mx2EozRxFP"
   },
   "source": [
    "Inputs"
   ]
  },
  {
   "cell_type": "code",
   "execution_count": 29,
   "id": "9666cf25-fbd7-493e-a697-a70b6b10e85d",
   "metadata": {
    "colab": {
     "base_uri": "https://localhost:8080/",
     "height": 35
    },
    "executionInfo": {
     "elapsed": 2124,
     "status": "ok",
     "timestamp": 1683726390544,
     "user": {
      "displayName": "Mike Henderson",
      "userId": "07691629187611687318"
     },
     "user_tz": 240
    },
    "id": "xzcoXjM5Rky5",
    "outputId": "b3bdcbc1-70d5-472e-aea2-42c74a42efde",
    "tags": []
   },
   "outputs": [
    {
     "data": {
      "text/plain": [
       "'statmike-mlops-349915'"
      ]
     },
     "execution_count": 29,
     "metadata": {},
     "output_type": "execute_result"
    }
   ],
   "source": [
    "project = !gcloud config get-value project\n",
    "PROJECT_ID = project[0]\n",
    "PROJECT_ID"
   ]
  },
  {
   "cell_type": "code",
   "execution_count": 30,
   "id": "0578a494-10fa-4954-aec5-be89976621fa",
   "metadata": {
    "executionInfo": {
     "elapsed": 2,
     "status": "ok",
     "timestamp": 1683726390712,
     "user": {
      "displayName": "Mike Henderson",
      "userId": "07691629187611687318"
     },
     "user_tz": 240
    },
    "id": "IxWrFtqYMfku",
    "tags": []
   },
   "outputs": [],
   "source": [
    "REGION = 'us-central1'\n",
    "SERIES = 'frameworks'\n",
    "EXPERIMENT = 'keras-overview'\n",
    "\n",
    "# Data source for this series of notebooks: Described above\n",
    "BQ_SOURCE = 'bigquery-public-data.ml_datasets.ulb_fraud_detection'\n",
    "\n",
    "# make this the BigQuery Project / Dataset / Table prefix to store results\n",
    "BQ_PROJECT = PROJECT_ID\n",
    "BQ_DATASET = SERIES.replace('-', '_')\n",
    "BQ_TABLE = SERIES\n",
    "BQ_REGION = REGION[0:2] # use a multi region"
   ]
  },
  {
   "cell_type": "markdown",
   "id": "70ec5396-e63b-4834-b8e6-c6bed6276f21",
   "metadata": {
    "id": "LuajVwCiO6Yg"
   },
   "source": [
    "Packages"
   ]
  },
  {
   "cell_type": "code",
   "execution_count": 31,
   "id": "cf4341ea-5267-4fb2-a7d0-701743bced28",
   "metadata": {
    "executionInfo": {
     "elapsed": 17761,
     "status": "ok",
     "timestamp": 1683726409304,
     "user": {
      "displayName": "Mike Henderson",
      "userId": "07691629187611687318"
     },
     "user_tz": 240
    },
    "id": "LVC7zzSLRk2C",
    "tags": []
   },
   "outputs": [],
   "source": [
    "# import python package\n",
    "import os, math\n",
    "from collections import OrderedDict\n",
    "\n",
    "# import keras, set backend prior to first import of keras\n",
    "os.environ['KERAS_BACKEND'] = 'jax'\n",
    "import keras\n",
    "\n",
    "import matplotlib.pyplot as plt\n",
    "\n",
    "# import jax for numerical operations uses with keras (and jax backend) - like custom loss function\n",
    "import jax.numpy as jnp\n",
    "import numpy as np\n",
    "\n",
    "# import tensorflow - used here to read data with tf.data\n",
    "import tensorflow as tf\n",
    "\n",
    "# Vertex AI\n",
    "from google.cloud import aiplatform\n",
    "\n",
    "# BigQuery\n",
    "from google.cloud import bigquery"
   ]
  },
  {
   "cell_type": "markdown",
   "id": "bf40f7c8-1a2a-40db-8489-6f5ea11f0853",
   "metadata": {},
   "source": [
    "Check Versions of Packages:"
   ]
  },
  {
   "cell_type": "code",
   "execution_count": 32,
   "id": "7188f2f5-3455-47d4-b723-09f30b05bfd9",
   "metadata": {
    "tags": []
   },
   "outputs": [
    {
     "data": {
      "text/plain": [
       "'1.78.0'"
      ]
     },
     "execution_count": 32,
     "metadata": {},
     "output_type": "execute_result"
    }
   ],
   "source": [
    "aiplatform.__version__"
   ]
  },
  {
   "cell_type": "code",
   "execution_count": 33,
   "id": "04007f92-458d-412b-8248-052fe2153e8f",
   "metadata": {
    "tags": []
   },
   "outputs": [
    {
     "data": {
      "text/plain": [
       "'3.6.0'"
      ]
     },
     "execution_count": 33,
     "metadata": {},
     "output_type": "execute_result"
    }
   ],
   "source": [
    "keras.__version__"
   ]
  },
  {
   "cell_type": "code",
   "execution_count": 34,
   "id": "d50d45f8-6eda-45a2-a917-e597b315d8a7",
   "metadata": {
    "tags": []
   },
   "outputs": [
    {
     "data": {
      "text/plain": [
       "'2.18.0'"
      ]
     },
     "execution_count": 34,
     "metadata": {},
     "output_type": "execute_result"
    }
   ],
   "source": [
    "tf.__version__"
   ]
  },
  {
   "cell_type": "markdown",
   "id": "184e4db1-9746-47b9-82fe-0adaa6afe332",
   "metadata": {
    "id": "EyAVFG9TO9H-"
   },
   "source": [
    "Clients"
   ]
  },
  {
   "cell_type": "code",
   "execution_count": 35,
   "id": "4d752607-fdf5-4159-95dc-fdc3ae436979",
   "metadata": {
    "executionInfo": {
     "elapsed": 19,
     "status": "ok",
     "timestamp": 1683726409306,
     "user": {
      "displayName": "Mike Henderson",
      "userId": "07691629187611687318"
     },
     "user_tz": 240
    },
    "id": "L0RPE13LOZce",
    "tags": []
   },
   "outputs": [],
   "source": [
    "# vertex ai clients\n",
    "aiplatform.init(project = PROJECT_ID, location = REGION)\n",
    "\n",
    "# bigquery client\n",
    "bq = bigquery.Client(project = PROJECT_ID)"
   ]
  },
  {
   "cell_type": "markdown",
   "id": "6d800f87-7ad2-4c80-9044-e275fad82716",
   "metadata": {},
   "source": [
    "Parameters:"
   ]
  },
  {
   "cell_type": "code",
   "execution_count": 36,
   "id": "39983330-1822-463e-ab0a-321b4822e60a",
   "metadata": {
    "tags": []
   },
   "outputs": [],
   "source": [
    "DIR = f\"files/{EXPERIMENT}\""
   ]
  },
  {
   "cell_type": "markdown",
   "id": "25cadac9-e73d-4212-949d-28253d7ed162",
   "metadata": {},
   "source": [
    "Environment:"
   ]
  },
  {
   "cell_type": "code",
   "execution_count": 37,
   "id": "96efe3dd-0993-4a0e-b46e-e212ce12272f",
   "metadata": {
    "tags": []
   },
   "outputs": [],
   "source": [
    "if not os.path.exists(DIR):\n",
    "    os.makedirs(DIR)"
   ]
  },
  {
   "cell_type": "markdown",
   "id": "a7d76f6e-704f-44da-bbb5-abdf77e2ecfc",
   "metadata": {},
   "source": [
    "---\n",
    "## Review Source Data\n",
    "\n",
    "This is a BigQuery public table of 284,807 credit card transactions classified as fradulant or normal in the column `Class`.\n",
    "- The data can be researched further at this [Kaggle link](https://www.kaggle.com/mlg-ulb/creditcardfraud).\n",
    "- Read mode about BigQuery public datasets [here](https://cloud.google.com/bigquery/public-data)\n",
    "\n",
    "In order protect confidentiality, the original features have been transformed using [principle component analysis (PCA)](https://en.wikipedia.org/wiki/Principal_component_analysis) into 28 features named `V1, V2, ... V28` (float).  Two descriptive features are provided without transformation by PCA:\n",
    "- `Time` (integer) is the seconds elapsed between the transaction and the earliest transaction in the table\n",
    "- `Amount` (float) is the value of the transaction\n",
    " "
   ]
  },
  {
   "cell_type": "markdown",
   "id": "6e1dc2a2-3cfe-4446-8da5-e461431b3e1c",
   "metadata": {},
   "source": [
    "### Review BigQuery table:"
   ]
  },
  {
   "cell_type": "code",
   "execution_count": 38,
   "id": "f41fb98c-f861-4084-b9f7-c373229802a7",
   "metadata": {
    "tags": []
   },
   "outputs": [
    {
     "data": {
      "text/html": [
       "<div>\n",
       "<style scoped>\n",
       "    .dataframe tbody tr th:only-of-type {\n",
       "        vertical-align: middle;\n",
       "    }\n",
       "\n",
       "    .dataframe tbody tr th {\n",
       "        vertical-align: top;\n",
       "    }\n",
       "\n",
       "    .dataframe thead th {\n",
       "        text-align: right;\n",
       "    }\n",
       "</style>\n",
       "<table border=\"1\" class=\"dataframe\">\n",
       "  <thead>\n",
       "    <tr style=\"text-align: right;\">\n",
       "      <th></th>\n",
       "      <th>Time</th>\n",
       "      <th>V1</th>\n",
       "      <th>V2</th>\n",
       "      <th>V3</th>\n",
       "      <th>V4</th>\n",
       "      <th>V5</th>\n",
       "      <th>V6</th>\n",
       "      <th>V7</th>\n",
       "      <th>V8</th>\n",
       "      <th>V9</th>\n",
       "      <th>...</th>\n",
       "      <th>V21</th>\n",
       "      <th>V22</th>\n",
       "      <th>V23</th>\n",
       "      <th>V24</th>\n",
       "      <th>V25</th>\n",
       "      <th>V26</th>\n",
       "      <th>V27</th>\n",
       "      <th>V28</th>\n",
       "      <th>Amount</th>\n",
       "      <th>Class</th>\n",
       "    </tr>\n",
       "  </thead>\n",
       "  <tbody>\n",
       "    <tr>\n",
       "      <th>0</th>\n",
       "      <td>8748.0</td>\n",
       "      <td>-1.070416</td>\n",
       "      <td>0.304517</td>\n",
       "      <td>2.777064</td>\n",
       "      <td>2.154061</td>\n",
       "      <td>0.254450</td>\n",
       "      <td>-0.448529</td>\n",
       "      <td>-0.398691</td>\n",
       "      <td>0.144672</td>\n",
       "      <td>1.070900</td>\n",
       "      <td>...</td>\n",
       "      <td>-0.122032</td>\n",
       "      <td>-0.182351</td>\n",
       "      <td>0.019576</td>\n",
       "      <td>0.626023</td>\n",
       "      <td>-0.018518</td>\n",
       "      <td>-0.263291</td>\n",
       "      <td>-0.198600</td>\n",
       "      <td>0.098435</td>\n",
       "      <td>0.0</td>\n",
       "      <td>0</td>\n",
       "    </tr>\n",
       "    <tr>\n",
       "      <th>1</th>\n",
       "      <td>27074.0</td>\n",
       "      <td>1.165628</td>\n",
       "      <td>0.423671</td>\n",
       "      <td>0.887635</td>\n",
       "      <td>2.740163</td>\n",
       "      <td>-0.338578</td>\n",
       "      <td>-0.142846</td>\n",
       "      <td>-0.055628</td>\n",
       "      <td>-0.015325</td>\n",
       "      <td>-0.213621</td>\n",
       "      <td>...</td>\n",
       "      <td>-0.081184</td>\n",
       "      <td>-0.025694</td>\n",
       "      <td>-0.076609</td>\n",
       "      <td>0.414687</td>\n",
       "      <td>0.631032</td>\n",
       "      <td>0.077322</td>\n",
       "      <td>0.010182</td>\n",
       "      <td>0.019912</td>\n",
       "      <td>0.0</td>\n",
       "      <td>0</td>\n",
       "    </tr>\n",
       "    <tr>\n",
       "      <th>2</th>\n",
       "      <td>28292.0</td>\n",
       "      <td>1.050879</td>\n",
       "      <td>0.053408</td>\n",
       "      <td>1.364590</td>\n",
       "      <td>2.666158</td>\n",
       "      <td>-0.378636</td>\n",
       "      <td>1.382032</td>\n",
       "      <td>-0.766202</td>\n",
       "      <td>0.486126</td>\n",
       "      <td>0.152611</td>\n",
       "      <td>...</td>\n",
       "      <td>0.083467</td>\n",
       "      <td>0.624424</td>\n",
       "      <td>-0.157228</td>\n",
       "      <td>-0.240411</td>\n",
       "      <td>0.573061</td>\n",
       "      <td>0.244090</td>\n",
       "      <td>0.063834</td>\n",
       "      <td>0.010981</td>\n",
       "      <td>0.0</td>\n",
       "      <td>0</td>\n",
       "    </tr>\n",
       "    <tr>\n",
       "      <th>3</th>\n",
       "      <td>28488.0</td>\n",
       "      <td>1.070316</td>\n",
       "      <td>0.079499</td>\n",
       "      <td>1.471856</td>\n",
       "      <td>2.863786</td>\n",
       "      <td>-0.637887</td>\n",
       "      <td>0.858159</td>\n",
       "      <td>-0.687478</td>\n",
       "      <td>0.344146</td>\n",
       "      <td>0.459561</td>\n",
       "      <td>...</td>\n",
       "      <td>0.048067</td>\n",
       "      <td>0.534713</td>\n",
       "      <td>-0.098645</td>\n",
       "      <td>0.129272</td>\n",
       "      <td>0.543737</td>\n",
       "      <td>0.242724</td>\n",
       "      <td>0.065070</td>\n",
       "      <td>0.023500</td>\n",
       "      <td>0.0</td>\n",
       "      <td>0</td>\n",
       "    </tr>\n",
       "    <tr>\n",
       "      <th>4</th>\n",
       "      <td>31392.0</td>\n",
       "      <td>-3.680953</td>\n",
       "      <td>-4.183581</td>\n",
       "      <td>2.642743</td>\n",
       "      <td>4.263802</td>\n",
       "      <td>4.643286</td>\n",
       "      <td>-0.225053</td>\n",
       "      <td>-3.733637</td>\n",
       "      <td>1.273037</td>\n",
       "      <td>0.015661</td>\n",
       "      <td>...</td>\n",
       "      <td>0.649051</td>\n",
       "      <td>1.054124</td>\n",
       "      <td>0.795528</td>\n",
       "      <td>-0.901314</td>\n",
       "      <td>-0.425524</td>\n",
       "      <td>0.511675</td>\n",
       "      <td>0.125419</td>\n",
       "      <td>0.243671</td>\n",
       "      <td>0.0</td>\n",
       "      <td>0</td>\n",
       "    </tr>\n",
       "  </tbody>\n",
       "</table>\n",
       "<p>5 rows × 31 columns</p>\n",
       "</div>"
      ],
      "text/plain": [
       "      Time        V1        V2        V3        V4        V5        V6  \\\n",
       "0   8748.0 -1.070416  0.304517  2.777064  2.154061  0.254450 -0.448529   \n",
       "1  27074.0  1.165628  0.423671  0.887635  2.740163 -0.338578 -0.142846   \n",
       "2  28292.0  1.050879  0.053408  1.364590  2.666158 -0.378636  1.382032   \n",
       "3  28488.0  1.070316  0.079499  1.471856  2.863786 -0.637887  0.858159   \n",
       "4  31392.0 -3.680953 -4.183581  2.642743  4.263802  4.643286 -0.225053   \n",
       "\n",
       "         V7        V8        V9  ...       V21       V22       V23       V24  \\\n",
       "0 -0.398691  0.144672  1.070900  ... -0.122032 -0.182351  0.019576  0.626023   \n",
       "1 -0.055628 -0.015325 -0.213621  ... -0.081184 -0.025694 -0.076609  0.414687   \n",
       "2 -0.766202  0.486126  0.152611  ...  0.083467  0.624424 -0.157228 -0.240411   \n",
       "3 -0.687478  0.344146  0.459561  ...  0.048067  0.534713 -0.098645  0.129272   \n",
       "4 -3.733637  1.273037  0.015661  ...  0.649051  1.054124  0.795528 -0.901314   \n",
       "\n",
       "        V25       V26       V27       V28  Amount  Class  \n",
       "0 -0.018518 -0.263291 -0.198600  0.098435     0.0      0  \n",
       "1  0.631032  0.077322  0.010182  0.019912     0.0      0  \n",
       "2  0.573061  0.244090  0.063834  0.010981     0.0      0  \n",
       "3  0.543737  0.242724  0.065070  0.023500     0.0      0  \n",
       "4 -0.425524  0.511675  0.125419  0.243671     0.0      0  \n",
       "\n",
       "[5 rows x 31 columns]"
      ]
     },
     "execution_count": 38,
     "metadata": {},
     "output_type": "execute_result"
    }
   ],
   "source": [
    "source_data = bq.query(f'SELECT * FROM `{BQ_SOURCE}` LIMIT 5').to_dataframe()\n",
    "source_data"
   ]
  },
  {
   "cell_type": "code",
   "execution_count": 39,
   "id": "c23ff1c4-ede6-4676-a60f-385b678a3f2b",
   "metadata": {
    "tags": []
   },
   "outputs": [
    {
     "data": {
      "text/plain": [
       "Time      float64\n",
       "V1        float64\n",
       "V2        float64\n",
       "V3        float64\n",
       "V4        float64\n",
       "V5        float64\n",
       "V6        float64\n",
       "V7        float64\n",
       "V8        float64\n",
       "V9        float64\n",
       "V10       float64\n",
       "V11       float64\n",
       "V12       float64\n",
       "V13       float64\n",
       "V14       float64\n",
       "V15       float64\n",
       "V16       float64\n",
       "V17       float64\n",
       "V18       float64\n",
       "V19       float64\n",
       "V20       float64\n",
       "V21       float64\n",
       "V22       float64\n",
       "V23       float64\n",
       "V24       float64\n",
       "V25       float64\n",
       "V26       float64\n",
       "V27       float64\n",
       "V28       float64\n",
       "Amount    float64\n",
       "Class       Int64\n",
       "dtype: object"
      ]
     },
     "execution_count": 39,
     "metadata": {},
     "output_type": "execute_result"
    }
   ],
   "source": [
    "source_data.dtypes"
   ]
  },
  {
   "cell_type": "markdown",
   "id": "11dd9150-fd13-4c9b-bacb-2f638a6e8915",
   "metadata": {},
   "source": [
    "---\n",
    "## Prepare Data Source\n",
    "\n",
    "The data preparation includes adding splits for machine learning with a column named `splits` with 80% for training (`TRAIN`), 10% for validation (`VALIDATE`) and 10% for testing (`TEST`). Additionally, a unique identifier was added to each transaction, `transaction_id`. \n",
    "\n",
    ">These steps could be done locally at training but are instead done in the source system, BigQuery in this case, which provides several advantages:\n",
    ">\n",
    ">-   **Single Source of Truth:** A single data preparation can benefit multiple model training jobs for different architectures or even different team members working on the same model. This ensures consistency and avoids duplication of effort.\n",
    ">-   **Leverage BigQuery's Power:** BigQuery is highly optimized for large-scale data processing. Performing these operations directly in BigQuery leverages its distributed processing capabilities, making the preparation significantly faster and more efficient than local processing, especially for massive datasets.\n",
    ">-   **Reduced Data Movement:** Preparing the data in BigQuery reduces the amount of data that needs to be moved out of BigQuery and into the training environment. This minimizes latency and potential bottlenecks associated with data transfer.\n",
    ">-   **Data Versioning and Reproducibility:** By preparing the splits and unique ID in BigQuery, the specific dataset used for training can be easily tracked and versioned. This enhances the reproducibility of experiments and makes it easier to understand the provenance of the data used in a particular model.\n",
    ">-   **Simplified Training Pipeline:** The training pipeline becomes simpler because it can directly read pre-split data from BigQuery, eliminating the need for complex splitting logic within the training code.\n",
    ">-   **Pre-calculated Joins and Features:** BigQuery can be used to pre-calculate joins and engineer new features that are beneficial for the model. This can improve model performance and further reduce the workload during the training phase.\n",
    ">\n",
    ">**Further Considerations:**\n",
    ">\n",
    ">-   **Data Governance and Security:** BigQuery offers robust data governance and security features. Performing data preparation within BigQuery allows you to maintain control over access and ensure data quality.\n",
    ">-   **Scalability:** This approach is highly scalable. As your dataset grows, BigQuery can handle the increased workload without requiring significant changes to your data preparation pipeline.\n",
    ">-   **Cost Optimization:** While moving large amounts of data out of BigQuery can incur costs, performing the preparation steps within BigQuery and only extracting the necessary data for training can often be more cost-effective.\n",
    ">\n",
    ">By preparing the data in BigQuery, you create a streamlined, efficient, and reproducible workflow (pipeline) that leverages the strengths of the platform and sets your machine learning models up for success.\n"
   ]
  },
  {
   "cell_type": "markdown",
   "id": "3544b562-c5e7-474b-97f2-107af233b5d0",
   "metadata": {},
   "source": [
    "### Create/Recall Dataset"
   ]
  },
  {
   "cell_type": "code",
   "execution_count": 40,
   "id": "c546d187-9fdb-4a10-94f9-8509e43a2041",
   "metadata": {
    "tags": []
   },
   "outputs": [],
   "source": [
    "dataset = bigquery.Dataset(f\"{BQ_PROJECT}.{BQ_DATASET}\")\n",
    "dataset.location = BQ_REGION\n",
    "bq_dataset = bq.create_dataset(dataset, exists_ok = True)"
   ]
  },
  {
   "cell_type": "markdown",
   "id": "2a30972e-5be6-4ed9-b6e2-f69bb9a9fbad",
   "metadata": {},
   "source": [
    "### Create/Recall Table With Preparation For ML\n",
    "\n",
    "Copy the data from the source while adding columns:\n",
    "- `transaction_id` as a unique identify for the row\n",
    "    - Use the `GENERATE_UUID()` function\n",
    "- `splits` column to randomly assign rows to 'TRAIN\", \"VALIDATE\" and \"TEST\" groups\n",
    "    - stratified sampling within the levels of `class` by first assigning row numbers within the levels of `class` then using the with a CASE statment to assign the `splits` level."
   ]
  },
  {
   "cell_type": "code",
   "execution_count": 41,
   "id": "da5a9533-e065-4815-b872-02f5a5095f67",
   "metadata": {
    "tags": []
   },
   "outputs": [
    {
     "data": {
      "text/plain": [
       "0.308"
      ]
     },
     "execution_count": 41,
     "metadata": {},
     "output_type": "execute_result"
    }
   ],
   "source": [
    "job = bq.query(f\"\"\"\n",
    "#CREATE OR REPLACE TABLE\n",
    "CREATE TABLE IF NOT EXISTS \n",
    "    `{BQ_PROJECT}.{BQ_DATASET}.{BQ_TABLE}` AS\n",
    "WITH\n",
    "    add_id AS (\n",
    "        SELECT *,\n",
    "            GENERATE_UUID() transaction_id,\n",
    "            ROW_NUMBER() OVER (PARTITION BY class ORDER BY RAND()) as rn\n",
    "            FROM `{BQ_SOURCE}`\n",
    "    )\n",
    "SELECT * EXCEPT(rn),\n",
    "    CASE \n",
    "        WHEN rn <= 0.8 * COUNT(*) OVER (PARTITION BY class) THEN 'TRAIN'\n",
    "        WHEN rn <= 0.9 * COUNT(*) OVER (PARTITION BY class) THEN 'VALIDATE'\n",
    "        ELSE 'TEST'\n",
    "    END AS splits\n",
    "FROM add_id\n",
    "\"\"\")\n",
    "job.result()\n",
    "(job.ended-job.started).total_seconds()"
   ]
  },
  {
   "cell_type": "code",
   "execution_count": 42,
   "id": "9775537d-2fe1-4316-9342-03a231cbb844",
   "metadata": {
    "tags": []
   },
   "outputs": [
    {
     "data": {
      "text/html": [
       "<div>\n",
       "<style scoped>\n",
       "    .dataframe tbody tr th:only-of-type {\n",
       "        vertical-align: middle;\n",
       "    }\n",
       "\n",
       "    .dataframe tbody tr th {\n",
       "        vertical-align: top;\n",
       "    }\n",
       "\n",
       "    .dataframe thead th {\n",
       "        text-align: right;\n",
       "    }\n",
       "</style>\n",
       "<table border=\"1\" class=\"dataframe\">\n",
       "  <thead>\n",
       "    <tr style=\"text-align: right;\">\n",
       "      <th></th>\n",
       "      <th>Time</th>\n",
       "      <th>V1</th>\n",
       "      <th>V2</th>\n",
       "      <th>V3</th>\n",
       "      <th>V4</th>\n",
       "      <th>V5</th>\n",
       "      <th>V6</th>\n",
       "      <th>V7</th>\n",
       "      <th>V8</th>\n",
       "      <th>V9</th>\n",
       "      <th>...</th>\n",
       "      <th>V23</th>\n",
       "      <th>V24</th>\n",
       "      <th>V25</th>\n",
       "      <th>V26</th>\n",
       "      <th>V27</th>\n",
       "      <th>V28</th>\n",
       "      <th>Amount</th>\n",
       "      <th>Class</th>\n",
       "      <th>transaction_id</th>\n",
       "      <th>splits</th>\n",
       "    </tr>\n",
       "  </thead>\n",
       "  <tbody>\n",
       "    <tr>\n",
       "      <th>0</th>\n",
       "      <td>122959.0</td>\n",
       "      <td>-1.327297</td>\n",
       "      <td>0.422904</td>\n",
       "      <td>1.617505</td>\n",
       "      <td>2.291196</td>\n",
       "      <td>2.375055</td>\n",
       "      <td>0.411735</td>\n",
       "      <td>0.213517</td>\n",
       "      <td>0.424743</td>\n",
       "      <td>-1.809624</td>\n",
       "      <td>...</td>\n",
       "      <td>0.192604</td>\n",
       "      <td>0.068281</td>\n",
       "      <td>-0.245725</td>\n",
       "      <td>-0.697654</td>\n",
       "      <td>0.038216</td>\n",
       "      <td>0.150059</td>\n",
       "      <td>0.0</td>\n",
       "      <td>0</td>\n",
       "      <td>c97b6e2f-603a-4dbe-9bca-0add881f2084</td>\n",
       "      <td>TEST</td>\n",
       "    </tr>\n",
       "    <tr>\n",
       "      <th>1</th>\n",
       "      <td>122312.0</td>\n",
       "      <td>-1.988557</td>\n",
       "      <td>-0.720301</td>\n",
       "      <td>0.863204</td>\n",
       "      <td>3.114494</td>\n",
       "      <td>1.847474</td>\n",
       "      <td>0.255881</td>\n",
       "      <td>0.580362</td>\n",
       "      <td>-0.083756</td>\n",
       "      <td>-0.939044</td>\n",
       "      <td>...</td>\n",
       "      <td>1.564951</td>\n",
       "      <td>0.546312</td>\n",
       "      <td>-0.548531</td>\n",
       "      <td>-0.746620</td>\n",
       "      <td>-0.748016</td>\n",
       "      <td>0.410640</td>\n",
       "      <td>0.0</td>\n",
       "      <td>0</td>\n",
       "      <td>791e403e-d59f-491d-b0b7-d8f8710c07fb</td>\n",
       "      <td>TEST</td>\n",
       "    </tr>\n",
       "    <tr>\n",
       "      <th>2</th>\n",
       "      <td>119592.0</td>\n",
       "      <td>2.139741</td>\n",
       "      <td>0.245651</td>\n",
       "      <td>-2.654856</td>\n",
       "      <td>0.178287</td>\n",
       "      <td>1.336991</td>\n",
       "      <td>-0.724664</td>\n",
       "      <td>0.906032</td>\n",
       "      <td>-0.436125</td>\n",
       "      <td>-0.528015</td>\n",
       "      <td>...</td>\n",
       "      <td>-0.216033</td>\n",
       "      <td>0.345316</td>\n",
       "      <td>0.747103</td>\n",
       "      <td>0.700184</td>\n",
       "      <td>-0.123739</td>\n",
       "      <td>-0.099989</td>\n",
       "      <td>0.0</td>\n",
       "      <td>0</td>\n",
       "      <td>d9e720c5-311d-4cf7-95cb-2256823803ba</td>\n",
       "      <td>TEST</td>\n",
       "    </tr>\n",
       "    <tr>\n",
       "      <th>3</th>\n",
       "      <td>114162.0</td>\n",
       "      <td>1.899800</td>\n",
       "      <td>0.368336</td>\n",
       "      <td>0.058981</td>\n",
       "      <td>3.734313</td>\n",
       "      <td>0.106120</td>\n",
       "      <td>0.707141</td>\n",
       "      <td>-0.472405</td>\n",
       "      <td>0.131502</td>\n",
       "      <td>-0.458634</td>\n",
       "      <td>...</td>\n",
       "      <td>0.168515</td>\n",
       "      <td>0.674750</td>\n",
       "      <td>-0.104164</td>\n",
       "      <td>0.041509</td>\n",
       "      <td>0.016028</td>\n",
       "      <td>-0.025852</td>\n",
       "      <td>0.0</td>\n",
       "      <td>0</td>\n",
       "      <td>1e2f3bb7-5c58-4f47-9c3d-d51e6298d6e3</td>\n",
       "      <td>TEST</td>\n",
       "    </tr>\n",
       "    <tr>\n",
       "      <th>4</th>\n",
       "      <td>36601.0</td>\n",
       "      <td>1.092339</td>\n",
       "      <td>-0.063143</td>\n",
       "      <td>1.345504</td>\n",
       "      <td>2.738232</td>\n",
       "      <td>-0.768844</td>\n",
       "      <td>0.857445</td>\n",
       "      <td>-0.842873</td>\n",
       "      <td>0.476848</td>\n",
       "      <td>0.501090</td>\n",
       "      <td>...</td>\n",
       "      <td>-0.159378</td>\n",
       "      <td>0.008694</td>\n",
       "      <td>0.568803</td>\n",
       "      <td>0.222004</td>\n",
       "      <td>0.032466</td>\n",
       "      <td>0.009505</td>\n",
       "      <td>0.0</td>\n",
       "      <td>0</td>\n",
       "      <td>b1ae958a-0801-453d-a838-b11b4306f559</td>\n",
       "      <td>TEST</td>\n",
       "    </tr>\n",
       "  </tbody>\n",
       "</table>\n",
       "<p>5 rows × 33 columns</p>\n",
       "</div>"
      ],
      "text/plain": [
       "       Time        V1        V2        V3        V4        V5        V6  \\\n",
       "0  122959.0 -1.327297  0.422904  1.617505  2.291196  2.375055  0.411735   \n",
       "1  122312.0 -1.988557 -0.720301  0.863204  3.114494  1.847474  0.255881   \n",
       "2  119592.0  2.139741  0.245651 -2.654856  0.178287  1.336991 -0.724664   \n",
       "3  114162.0  1.899800  0.368336  0.058981  3.734313  0.106120  0.707141   \n",
       "4   36601.0  1.092339 -0.063143  1.345504  2.738232 -0.768844  0.857445   \n",
       "\n",
       "         V7        V8        V9  ...       V23       V24       V25       V26  \\\n",
       "0  0.213517  0.424743 -1.809624  ...  0.192604  0.068281 -0.245725 -0.697654   \n",
       "1  0.580362 -0.083756 -0.939044  ...  1.564951  0.546312 -0.548531 -0.746620   \n",
       "2  0.906032 -0.436125 -0.528015  ... -0.216033  0.345316  0.747103  0.700184   \n",
       "3 -0.472405  0.131502 -0.458634  ...  0.168515  0.674750 -0.104164  0.041509   \n",
       "4 -0.842873  0.476848  0.501090  ... -0.159378  0.008694  0.568803  0.222004   \n",
       "\n",
       "        V27       V28  Amount  Class                        transaction_id  \\\n",
       "0  0.038216  0.150059     0.0      0  c97b6e2f-603a-4dbe-9bca-0add881f2084   \n",
       "1 -0.748016  0.410640     0.0      0  791e403e-d59f-491d-b0b7-d8f8710c07fb   \n",
       "2 -0.123739 -0.099989     0.0      0  d9e720c5-311d-4cf7-95cb-2256823803ba   \n",
       "3  0.016028 -0.025852     0.0      0  1e2f3bb7-5c58-4f47-9c3d-d51e6298d6e3   \n",
       "4  0.032466  0.009505     0.0      0  b1ae958a-0801-453d-a838-b11b4306f559   \n",
       "\n",
       "   splits  \n",
       "0    TEST  \n",
       "1    TEST  \n",
       "2    TEST  \n",
       "3    TEST  \n",
       "4    TEST  \n",
       "\n",
       "[5 rows x 33 columns]"
      ]
     },
     "execution_count": 42,
     "metadata": {},
     "output_type": "execute_result"
    }
   ],
   "source": [
    "raw_sample = bq.query(f'SELECT * FROM `{BQ_PROJECT}.{BQ_DATASET}.{BQ_TABLE}` LIMIT 5').to_dataframe()\n",
    "raw_sample"
   ]
  },
  {
   "cell_type": "markdown",
   "id": "a9722a68-2e16-4c34-a4d4-3b1e510cc86e",
   "metadata": {},
   "source": [
    "### Review the number of records for each level of `Class` for each of the data splits:"
   ]
  },
  {
   "cell_type": "code",
   "execution_count": 43,
   "id": "563f40a0-f684-4a5f-8dbd-f0b5f88bfd8d",
   "metadata": {
    "tags": []
   },
   "outputs": [
    {
     "data": {
      "text/html": [
       "<div>\n",
       "<style scoped>\n",
       "    .dataframe tbody tr th:only-of-type {\n",
       "        vertical-align: middle;\n",
       "    }\n",
       "\n",
       "    .dataframe tbody tr th {\n",
       "        vertical-align: top;\n",
       "    }\n",
       "\n",
       "    .dataframe thead th {\n",
       "        text-align: right;\n",
       "    }\n",
       "</style>\n",
       "<table border=\"1\" class=\"dataframe\">\n",
       "  <thead>\n",
       "    <tr style=\"text-align: right;\">\n",
       "      <th></th>\n",
       "      <th>splits</th>\n",
       "      <th>class</th>\n",
       "      <th>count</th>\n",
       "      <th>percentage</th>\n",
       "    </tr>\n",
       "  </thead>\n",
       "  <tbody>\n",
       "    <tr>\n",
       "      <th>0</th>\n",
       "      <td>TEST</td>\n",
       "      <td>0</td>\n",
       "      <td>28432</td>\n",
       "      <td>10.00</td>\n",
       "    </tr>\n",
       "    <tr>\n",
       "      <th>1</th>\n",
       "      <td>TRAIN</td>\n",
       "      <td>0</td>\n",
       "      <td>227452</td>\n",
       "      <td>80.00</td>\n",
       "    </tr>\n",
       "    <tr>\n",
       "      <th>2</th>\n",
       "      <td>VALIDATE</td>\n",
       "      <td>0</td>\n",
       "      <td>28431</td>\n",
       "      <td>10.00</td>\n",
       "    </tr>\n",
       "    <tr>\n",
       "      <th>3</th>\n",
       "      <td>TEST</td>\n",
       "      <td>1</td>\n",
       "      <td>50</td>\n",
       "      <td>10.16</td>\n",
       "    </tr>\n",
       "    <tr>\n",
       "      <th>4</th>\n",
       "      <td>TRAIN</td>\n",
       "      <td>1</td>\n",
       "      <td>393</td>\n",
       "      <td>79.88</td>\n",
       "    </tr>\n",
       "    <tr>\n",
       "      <th>5</th>\n",
       "      <td>VALIDATE</td>\n",
       "      <td>1</td>\n",
       "      <td>49</td>\n",
       "      <td>9.96</td>\n",
       "    </tr>\n",
       "  </tbody>\n",
       "</table>\n",
       "</div>"
      ],
      "text/plain": [
       "     splits  class   count  percentage\n",
       "0      TEST      0   28432       10.00\n",
       "1     TRAIN      0  227452       80.00\n",
       "2  VALIDATE      0   28431       10.00\n",
       "3      TEST      1      50       10.16\n",
       "4     TRAIN      1     393       79.88\n",
       "5  VALIDATE      1      49        9.96"
      ]
     },
     "execution_count": 43,
     "metadata": {},
     "output_type": "execute_result"
    }
   ],
   "source": [
    "bq.query(f\"\"\"\n",
    "SELECT splits, class,\n",
    "    count(*) as count,\n",
    "    ROUND(count(*) * 100.0 / SUM(count(*)) OVER (PARTITION BY class), 2) AS percentage\n",
    "FROM `{BQ_PROJECT}.{BQ_DATASET}.{BQ_TABLE}`\n",
    "GROUP BY splits, class\n",
    "\"\"\").to_dataframe()"
   ]
  },
  {
   "cell_type": "markdown",
   "id": "c6e54a24-de87-42a6-a7bd-f66b65b55155",
   "metadata": {},
   "source": [
    "---\n",
    "## Training An Autoencoder"
   ]
  },
  {
   "cell_type": "markdown",
   "id": "9125443b-88b9-4cf7-9f13-11ee568c2729",
   "metadata": {},
   "source": [
    "### Source Data\n",
    "\n",
    "Here the data is being read to a local Panda dataframe.  There are actually many ways to read batches for training directly from data sources like [TensorFlow I/O](https://www.tensorflow.org/io)."
   ]
  },
  {
   "cell_type": "code",
   "execution_count": 44,
   "id": "e56ceee8-dd25-42c2-82c8-79a2116d6c81",
   "metadata": {
    "tags": []
   },
   "outputs": [],
   "source": [
    "train_ds = bq.query(f\"SELECT * EXCEPT(splits) FROM `{BQ_PROJECT}.{BQ_DATASET}.{BQ_TABLE}` WHERE splits = 'TRAIN' AND Class = 0\").to_dataframe()\n",
    "test_ds = bq.query(f\"SELECT * EXCEPT(splits) FROM `{BQ_PROJECT}.{BQ_DATASET}.{BQ_TABLE}` WHERE splits = 'TEST' AND Class = 0\").to_dataframe()\n",
    "validate_ds = bq.query(f\"SELECT * EXCEPT(splits) FROM `{BQ_PROJECT}.{BQ_DATASET}.{BQ_TABLE}` WHERE splits = 'VALIDATE' AND Class = 0\").to_dataframe()"
   ]
  },
  {
   "cell_type": "code",
   "execution_count": 45,
   "id": "89288f2a-16d6-4ef1-81e7-c459cf5d5d88",
   "metadata": {
    "tags": []
   },
   "outputs": [
    {
     "data": {
      "text/plain": [
       "Index(['Time', 'V1', 'V2', 'V3', 'V4', 'V5', 'V6', 'V7', 'V8', 'V9', 'V10',\n",
       "       'V11', 'V12', 'V13', 'V14', 'V15', 'V16', 'V17', 'V18', 'V19', 'V20',\n",
       "       'V21', 'V22', 'V23', 'V24', 'V25', 'V26', 'V27', 'V28', 'Amount',\n",
       "       'Class', 'transaction_id'],\n",
       "      dtype='object')"
      ]
     },
     "execution_count": 45,
     "metadata": {},
     "output_type": "execute_result"
    }
   ],
   "source": [
    "train_ds.columns"
   ]
  },
  {
   "cell_type": "code",
   "execution_count": 46,
   "id": "243ba038-28ad-4e8d-aeee-b788586475eb",
   "metadata": {
    "tags": []
   },
   "outputs": [],
   "source": [
    "# Define column categories\n",
    "var_target = ['Class']\n",
    "var_omit = ['transaction_id']\n",
    "var_numeric = [x for x in train_ds.columns.tolist() if x not in var_target + var_omit]"
   ]
  },
  {
   "cell_type": "markdown",
   "id": "8333c871-51fb-447c-a0b0-b4d9f7171051",
   "metadata": {},
   "source": [
    "### Record Reader\n",
    "\n",
    "A mechanism for efficient input pipleines reading records of data and transforming them for training, validation, and testing.  Here this is done with the [`tf.data.Dataset` API from TensorFlow](https://www.tensorflow.org/api_docs/python/tf/data/Dataset)."
   ]
  },
  {
   "cell_type": "code",
   "execution_count": 47,
   "id": "77ee087f-524d-414f-a816-4e57a6a4ddce",
   "metadata": {
    "tags": []
   },
   "outputs": [],
   "source": [
    "def reader(ds):\n",
    "    return tf.data.Dataset.from_tensor_slices(dict(ds))"
   ]
  },
  {
   "cell_type": "code",
   "execution_count": 48,
   "id": "abf87798-2672-4353-bde6-566b5f686d3f",
   "metadata": {
    "tags": []
   },
   "outputs": [
    {
     "name": "stderr",
     "output_type": "stream",
     "text": [
      "2025-02-09 12:54:29.377293: E external/local_xla/xla/stream_executor/cuda/cuda_driver.cc:152] failed call to cuInit: INTERNAL: CUDA error: Failed call to cuInit: UNKNOWN ERROR (303)\n"
     ]
    }
   ],
   "source": [
    "train_read = reader(train_ds)\n",
    "validate_read = reader(validate_ds)\n",
    "test_read = reader(test_ds)"
   ]
  },
  {
   "cell_type": "markdown",
   "id": "933a4a20-bd0b-4d8e-9c69-1259671c9f55",
   "metadata": {},
   "source": [
    "Retrieve and example batch of 10 records:"
   ]
  },
  {
   "cell_type": "code",
   "execution_count": 49,
   "id": "5f39cce2-fc8c-4e6b-9bf5-8c89b3558341",
   "metadata": {
    "tags": []
   },
   "outputs": [
    {
     "data": {
      "text/plain": [
       "dict_keys(['Time', 'V1', 'V2', 'V3', 'V4', 'V5', 'V6', 'V7', 'V8', 'V9', 'V10', 'V11', 'V12', 'V13', 'V14', 'V15', 'V16', 'V17', 'V18', 'V19', 'V20', 'V21', 'V22', 'V23', 'V24', 'V25', 'V26', 'V27', 'V28', 'Amount', 'Class', 'transaction_id'])"
      ]
     },
     "execution_count": 49,
     "metadata": {},
     "output_type": "execute_result"
    }
   ],
   "source": [
    "example_batch = next(iter(train_read.batch(10).take(1)))\n",
    "example_batch.keys()"
   ]
  },
  {
   "cell_type": "code",
   "execution_count": 50,
   "id": "d5c98afc-f062-493b-a784-45d0f8531f71",
   "metadata": {
    "tags": []
   },
   "outputs": [
    {
     "data": {
      "text/plain": [
       "<tf.Tensor: shape=(10,), dtype=float64, numpy=\n",
       "array([121232., 141191.,  27074., 152785.,  45888.,  28287.,  77250.,\n",
       "        91032., 114998., 114802.])>"
      ]
     },
     "execution_count": 50,
     "metadata": {},
     "output_type": "execute_result"
    }
   ],
   "source": [
    "example_batch['Time']"
   ]
  },
  {
   "cell_type": "markdown",
   "id": "cf244c1b-346d-46f3-8d4e-2a8348f4004d",
   "metadata": {},
   "source": [
    "### Shaping Records With The Reader\n",
    "\n",
    "The reader will read batches of data from the source as shown above.  The model training expects input and output which in the case of the model below, an autoencoder, is actually the same.  The [.map()](https://www.tensorflow.org/api_docs/python/tf/data/Dataset#map) method makes it easy to use a Python function to reshape records as they are being read."
   ]
  },
  {
   "cell_type": "code",
   "execution_count": 51,
   "id": "6c8ca571-6f59-4be4-8a82-de19030e26d7",
   "metadata": {
    "tags": []
   },
   "outputs": [],
   "source": [
    "def prep_batch(source):\n",
    "    for k in var_omit + var_target:\n",
    "        source.pop(k, None)\n",
    "    numeric_values = tf.stack([source[col] for col in var_numeric], axis=-1)\n",
    "    return numeric_values, numeric_values"
   ]
  },
  {
   "cell_type": "markdown",
   "id": "075a009c-1bff-4c52-ae76-b4134490d41a",
   "metadata": {},
   "source": [
    "Retrieve an example batch with the mapped `prep_batch` function:"
   ]
  },
  {
   "cell_type": "code",
   "execution_count": 52,
   "id": "5b351234-c642-4afa-b249-295eb7adb48f",
   "metadata": {
    "tags": []
   },
   "outputs": [],
   "source": [
    "batch, batch = next(iter(train_read.batch(10).take(1).map(prep_batch)))"
   ]
  },
  {
   "cell_type": "code",
   "execution_count": 53,
   "id": "5338f01a-9027-462d-be44-5cb7250014ff",
   "metadata": {
    "tags": []
   },
   "outputs": [
    {
     "data": {
      "text/plain": [
       "TensorShape([10, 30])"
      ]
     },
     "execution_count": 53,
     "metadata": {},
     "output_type": "execute_result"
    }
   ],
   "source": [
    "batch.shape"
   ]
  },
  {
   "cell_type": "code",
   "execution_count": 54,
   "id": "9482ee89-8042-4fa0-a3e2-d2069a65ebd4",
   "metadata": {
    "tags": []
   },
   "outputs": [
    {
     "data": {
      "text/plain": [
       "<tf.Tensor: shape=(30,), dtype=float64, numpy=\n",
       "array([ 1.21232000e+05,  1.89210174e+00,  4.21051108e-01, -1.14253307e-01,\n",
       "        4.04482233e+00,  7.45462900e-02,  1.99350239e-01, -8.98144812e-02,\n",
       "       -5.60563985e-02, -4.32118598e-01,  1.25813358e+00, -1.48724126e+00,\n",
       "        6.54674320e-01,  1.08224565e+00, -5.69839885e-01, -2.09087366e+00,\n",
       "        3.13417827e-01, -4.53702926e-01, -6.29874084e-01, -1.27625475e+00,\n",
       "       -2.49981782e-01,  9.73456976e-02,  6.36281515e-01,  6.76783804e-02,\n",
       "        8.70881783e-02,  1.44543154e-01,  1.28037173e-01,  5.46884528e-03,\n",
       "       -4.44875212e-02,  0.00000000e+00])>"
      ]
     },
     "execution_count": 54,
     "metadata": {},
     "output_type": "execute_result"
    }
   ],
   "source": [
    "batch[0]"
   ]
  },
  {
   "cell_type": "markdown",
   "id": "390caee1-29f6-49e7-8f81-0b0531bdcc73",
   "metadata": {
    "tags": []
   },
   "source": [
    "### Preprocessing Layers\n",
    "\n",
    "Preprocessing, like normalization, can be done with [Keras processing layers](https://keras.io/api/layers/preprocessing_layers/).  These layers can calculate, called [adapt](https://www.tensorflow.org/guide/keras/preprocessing_layers#the_adapt_method), from a data source and remember the values required to repeat the steps with the model during inference."
   ]
  },
  {
   "cell_type": "code",
   "execution_count": 55,
   "id": "4a0eb590-3f93-4bdb-b53d-6daaa8089413",
   "metadata": {
    "tags": []
   },
   "outputs": [],
   "source": [
    "# Normalization\n",
    "normalizer = keras.layers.Normalization(axis=-1, name='normalization')\n",
    "\n",
    "# Adapt the normalizer \n",
    "numeric_feature_reader = train_read.batch(1000).prefetch(tf.data.AUTOTUNE).map(prep_batch)\n",
    "normalizer.adapt(numeric_feature_reader.map(lambda x, _: x))\n",
    "\n",
    "# Denormalization using normalizer parameters\n",
    "denormalizer = keras.layers.Normalization(axis = -1, name = 'denormalize', invert = True, mean = normalizer.mean, variance = normalizer.variance)"
   ]
  },
  {
   "cell_type": "markdown",
   "id": "00166f87-bac6-422a-9386-2dabd647b11c",
   "metadata": {},
   "source": [
    "### Autoencoder\n",
    "\n",
    "The trainable model.  A series of code that goes from input to encoding to decoding as a series of layers.  In this case dropout is used between layers for regularization to prevent over-fitting."
   ]
  },
  {
   "cell_type": "markdown",
   "id": "bc0167c3-e00c-420e-8d7e-4646ea3cd290",
   "metadata": {},
   "source": [
    "#### Model Layers"
   ]
  },
  {
   "cell_type": "code",
   "execution_count": 56,
   "id": "7654e7f0-6e66-42d8-acdb-4a29f05fb538",
   "metadata": {
    "tags": []
   },
   "outputs": [],
   "source": [
    "autoencoder_input = keras.Input(shape = (len(var_numeric),), name = \"autoencoder_input\")\n",
    "\n",
    "encoder = keras.layers.Dense(16, activation='relu', name='enc_dense1', kernel_regularizer = keras.regularizers.l2(0.001))(autoencoder_input)\n",
    "encoder = keras.layers.Dropout(0.4, name='enc_dropout1')(encoder)\n",
    "encoder = keras.layers.Dense(8, activation='relu', name='enc_dense2', kernel_regularizer = keras.regularizers.l2(0.001))(encoder)\n",
    "encoder = keras.layers.Dropout(0.4, name='enc_dropout2')(encoder)\n",
    "\n",
    "latent = keras.layers.Dense(4, activation='relu', name='latent', kernel_regularizer = keras.regularizers.l2(0.001))(encoder)\n",
    "\n",
    "decoder = keras.layers.Dense(8, activation='relu', name='dec_dense1', kernel_regularizer = keras.regularizers.l2(0.001))(latent)\n",
    "decoder = keras.layers.Dropout(0.4, name='dec_dropout1')(decoder)\n",
    "decoder = keras.layers.Dense(16, activation='relu', name='dec_dense2', kernel_regularizer = keras.regularizers.l2(0.001))(decoder)\n",
    "decoder = keras.layers.Dropout(0.4, name='dec_dropout2')(decoder)\n",
    "\n",
    "reconstructed = keras.layers.Dense(len(var_numeric), activation='linear', name='reconstructed')(decoder)"
   ]
  },
  {
   "cell_type": "code",
   "execution_count": 57,
   "id": "ec5e06a9-214c-4098-a82f-76f8b2f2e61a",
   "metadata": {
    "tags": []
   },
   "outputs": [],
   "source": [
    "autoencoder = keras.Model(autoencoder_input, reconstructed, name = 'autoencoder')"
   ]
  },
  {
   "cell_type": "markdown",
   "id": "eed3e1f0-611c-4bcd-99d6-564ab1dc9720",
   "metadata": {},
   "source": [
    "#### Define Loss Function\n",
    "\n",
    "Here I want to use the mean absolute error (MAE) as the loss function to minimize during training.  Keras has [built in loss functions](https://keras.io/api/losses/) but you can also specify you own as a function. Here a simple function is used to calculate the mean of the absolute difference between values (the actual and the predicted).  In other words, the MAE.    "
   ]
  },
  {
   "cell_type": "code",
   "execution_count": 58,
   "id": "40f29c82-6f26-4ff4-8d97-9affcc899f92",
   "metadata": {
    "tags": []
   },
   "outputs": [],
   "source": [
    "@keras.saving.register_keras_serializable()\n",
    "def custom_loss(y_true, y_pred):\n",
    "    return jnp.mean(jnp.abs(y_true - y_pred), axis=-1)"
   ]
  },
  {
   "cell_type": "markdown",
   "id": "6eaa0cb3-b61e-4c5f-baae-7a21e2d7c1b4",
   "metadata": {},
   "source": [
    "#### Compile The Model\n",
    "\n",
    "The Keras model training API has a [compile method](https://keras.io/api/models/model_training_apis/) which configures a model for training by specifying an optimizer, a loss function, and a metrics to evaluate and report during training.  There are also other parameters for detailed training approaches and debugging."
   ]
  },
  {
   "cell_type": "code",
   "execution_count": 59,
   "id": "7440b2f9-9854-438b-8af9-bbc3e7c65339",
   "metadata": {
    "tags": []
   },
   "outputs": [],
   "source": [
    "autoencoder.compile(\n",
    "    optimizer = keras.optimizers.Adam(learning_rate = 0.0005),\n",
    "    loss = custom_loss, #keras.losses.MeanAbsoluteError(),\n",
    "    metrics = [\n",
    "        keras.metrics.RootMeanSquaredError(name = 'rmse'),\n",
    "        keras.metrics.MeanSquaredError(name = 'mse'),\n",
    "        keras.metrics.MeanAbsoluteError(name = 'mae'),\n",
    "        keras.metrics.MeanSquaredLogarithmicError(name = 'msle')\n",
    "    ]\n",
    ")"
   ]
  },
  {
   "cell_type": "markdown",
   "id": "56c10dd8-b84f-42af-9479-1e881a77e955",
   "metadata": {},
   "source": [
    "#### Review The Model\n",
    "\n",
    "Review the models network using the [.summary() method](https://keras.io/api/models/model/#summary-method) of the model object."
   ]
  },
  {
   "cell_type": "code",
   "execution_count": 60,
   "id": "ac1875ae-9a69-4b2f-aa19-1169278d35e8",
   "metadata": {
    "tags": []
   },
   "outputs": [
    {
     "data": {
      "text/html": [
       "<pre style=\"white-space:pre;overflow-x:auto;line-height:normal;font-family:Menlo,'DejaVu Sans Mono',consolas,'Courier New',monospace\"><span style=\"font-weight: bold\">Model: \"autoencoder\"</span>\n",
       "</pre>\n"
      ],
      "text/plain": [
       "\u001b[1mModel: \"autoencoder\"\u001b[0m\n"
      ]
     },
     "metadata": {},
     "output_type": "display_data"
    },
    {
     "data": {
      "text/html": [
       "<pre style=\"white-space:pre;overflow-x:auto;line-height:normal;font-family:Menlo,'DejaVu Sans Mono',consolas,'Courier New',monospace\">┏━━━━━━━━━━━━━━━━━━━━━━━━━━━━━━━━━┳━━━━━━━━━━━━━━━━━━━━━━━━┳━━━━━━━━━━━━━━━┓\n",
       "┃<span style=\"font-weight: bold\"> Layer (type)                    </span>┃<span style=\"font-weight: bold\"> Output Shape           </span>┃<span style=\"font-weight: bold\">       Param # </span>┃\n",
       "┡━━━━━━━━━━━━━━━━━━━━━━━━━━━━━━━━━╇━━━━━━━━━━━━━━━━━━━━━━━━╇━━━━━━━━━━━━━━━┩\n",
       "│ autoencoder_input (<span style=\"color: #0087ff; text-decoration-color: #0087ff\">InputLayer</span>)  │ (<span style=\"color: #00d7ff; text-decoration-color: #00d7ff\">None</span>, <span style=\"color: #00af00; text-decoration-color: #00af00\">30</span>)             │             <span style=\"color: #00af00; text-decoration-color: #00af00\">0</span> │\n",
       "├─────────────────────────────────┼────────────────────────┼───────────────┤\n",
       "│ enc_dense1 (<span style=\"color: #0087ff; text-decoration-color: #0087ff\">Dense</span>)              │ (<span style=\"color: #00d7ff; text-decoration-color: #00d7ff\">None</span>, <span style=\"color: #00af00; text-decoration-color: #00af00\">16</span>)             │           <span style=\"color: #00af00; text-decoration-color: #00af00\">496</span> │\n",
       "├─────────────────────────────────┼────────────────────────┼───────────────┤\n",
       "│ enc_dropout1 (<span style=\"color: #0087ff; text-decoration-color: #0087ff\">Dropout</span>)          │ (<span style=\"color: #00d7ff; text-decoration-color: #00d7ff\">None</span>, <span style=\"color: #00af00; text-decoration-color: #00af00\">16</span>)             │             <span style=\"color: #00af00; text-decoration-color: #00af00\">0</span> │\n",
       "├─────────────────────────────────┼────────────────────────┼───────────────┤\n",
       "│ enc_dense2 (<span style=\"color: #0087ff; text-decoration-color: #0087ff\">Dense</span>)              │ (<span style=\"color: #00d7ff; text-decoration-color: #00d7ff\">None</span>, <span style=\"color: #00af00; text-decoration-color: #00af00\">8</span>)              │           <span style=\"color: #00af00; text-decoration-color: #00af00\">136</span> │\n",
       "├─────────────────────────────────┼────────────────────────┼───────────────┤\n",
       "│ enc_dropout2 (<span style=\"color: #0087ff; text-decoration-color: #0087ff\">Dropout</span>)          │ (<span style=\"color: #00d7ff; text-decoration-color: #00d7ff\">None</span>, <span style=\"color: #00af00; text-decoration-color: #00af00\">8</span>)              │             <span style=\"color: #00af00; text-decoration-color: #00af00\">0</span> │\n",
       "├─────────────────────────────────┼────────────────────────┼───────────────┤\n",
       "│ latent (<span style=\"color: #0087ff; text-decoration-color: #0087ff\">Dense</span>)                  │ (<span style=\"color: #00d7ff; text-decoration-color: #00d7ff\">None</span>, <span style=\"color: #00af00; text-decoration-color: #00af00\">4</span>)              │            <span style=\"color: #00af00; text-decoration-color: #00af00\">36</span> │\n",
       "├─────────────────────────────────┼────────────────────────┼───────────────┤\n",
       "│ dec_dense1 (<span style=\"color: #0087ff; text-decoration-color: #0087ff\">Dense</span>)              │ (<span style=\"color: #00d7ff; text-decoration-color: #00d7ff\">None</span>, <span style=\"color: #00af00; text-decoration-color: #00af00\">8</span>)              │            <span style=\"color: #00af00; text-decoration-color: #00af00\">40</span> │\n",
       "├─────────────────────────────────┼────────────────────────┼───────────────┤\n",
       "│ dec_dropout1 (<span style=\"color: #0087ff; text-decoration-color: #0087ff\">Dropout</span>)          │ (<span style=\"color: #00d7ff; text-decoration-color: #00d7ff\">None</span>, <span style=\"color: #00af00; text-decoration-color: #00af00\">8</span>)              │             <span style=\"color: #00af00; text-decoration-color: #00af00\">0</span> │\n",
       "├─────────────────────────────────┼────────────────────────┼───────────────┤\n",
       "│ dec_dense2 (<span style=\"color: #0087ff; text-decoration-color: #0087ff\">Dense</span>)              │ (<span style=\"color: #00d7ff; text-decoration-color: #00d7ff\">None</span>, <span style=\"color: #00af00; text-decoration-color: #00af00\">16</span>)             │           <span style=\"color: #00af00; text-decoration-color: #00af00\">144</span> │\n",
       "├─────────────────────────────────┼────────────────────────┼───────────────┤\n",
       "│ dec_dropout2 (<span style=\"color: #0087ff; text-decoration-color: #0087ff\">Dropout</span>)          │ (<span style=\"color: #00d7ff; text-decoration-color: #00d7ff\">None</span>, <span style=\"color: #00af00; text-decoration-color: #00af00\">16</span>)             │             <span style=\"color: #00af00; text-decoration-color: #00af00\">0</span> │\n",
       "├─────────────────────────────────┼────────────────────────┼───────────────┤\n",
       "│ reconstructed (<span style=\"color: #0087ff; text-decoration-color: #0087ff\">Dense</span>)           │ (<span style=\"color: #00d7ff; text-decoration-color: #00d7ff\">None</span>, <span style=\"color: #00af00; text-decoration-color: #00af00\">30</span>)             │           <span style=\"color: #00af00; text-decoration-color: #00af00\">510</span> │\n",
       "└─────────────────────────────────┴────────────────────────┴───────────────┘\n",
       "</pre>\n"
      ],
      "text/plain": [
       "┏━━━━━━━━━━━━━━━━━━━━━━━━━━━━━━━━━┳━━━━━━━━━━━━━━━━━━━━━━━━┳━━━━━━━━━━━━━━━┓\n",
       "┃\u001b[1m \u001b[0m\u001b[1mLayer (type)                   \u001b[0m\u001b[1m \u001b[0m┃\u001b[1m \u001b[0m\u001b[1mOutput Shape          \u001b[0m\u001b[1m \u001b[0m┃\u001b[1m \u001b[0m\u001b[1m      Param #\u001b[0m\u001b[1m \u001b[0m┃\n",
       "┡━━━━━━━━━━━━━━━━━━━━━━━━━━━━━━━━━╇━━━━━━━━━━━━━━━━━━━━━━━━╇━━━━━━━━━━━━━━━┩\n",
       "│ autoencoder_input (\u001b[38;5;33mInputLayer\u001b[0m)  │ (\u001b[38;5;45mNone\u001b[0m, \u001b[38;5;34m30\u001b[0m)             │             \u001b[38;5;34m0\u001b[0m │\n",
       "├─────────────────────────────────┼────────────────────────┼───────────────┤\n",
       "│ enc_dense1 (\u001b[38;5;33mDense\u001b[0m)              │ (\u001b[38;5;45mNone\u001b[0m, \u001b[38;5;34m16\u001b[0m)             │           \u001b[38;5;34m496\u001b[0m │\n",
       "├─────────────────────────────────┼────────────────────────┼───────────────┤\n",
       "│ enc_dropout1 (\u001b[38;5;33mDropout\u001b[0m)          │ (\u001b[38;5;45mNone\u001b[0m, \u001b[38;5;34m16\u001b[0m)             │             \u001b[38;5;34m0\u001b[0m │\n",
       "├─────────────────────────────────┼────────────────────────┼───────────────┤\n",
       "│ enc_dense2 (\u001b[38;5;33mDense\u001b[0m)              │ (\u001b[38;5;45mNone\u001b[0m, \u001b[38;5;34m8\u001b[0m)              │           \u001b[38;5;34m136\u001b[0m │\n",
       "├─────────────────────────────────┼────────────────────────┼───────────────┤\n",
       "│ enc_dropout2 (\u001b[38;5;33mDropout\u001b[0m)          │ (\u001b[38;5;45mNone\u001b[0m, \u001b[38;5;34m8\u001b[0m)              │             \u001b[38;5;34m0\u001b[0m │\n",
       "├─────────────────────────────────┼────────────────────────┼───────────────┤\n",
       "│ latent (\u001b[38;5;33mDense\u001b[0m)                  │ (\u001b[38;5;45mNone\u001b[0m, \u001b[38;5;34m4\u001b[0m)              │            \u001b[38;5;34m36\u001b[0m │\n",
       "├─────────────────────────────────┼────────────────────────┼───────────────┤\n",
       "│ dec_dense1 (\u001b[38;5;33mDense\u001b[0m)              │ (\u001b[38;5;45mNone\u001b[0m, \u001b[38;5;34m8\u001b[0m)              │            \u001b[38;5;34m40\u001b[0m │\n",
       "├─────────────────────────────────┼────────────────────────┼───────────────┤\n",
       "│ dec_dropout1 (\u001b[38;5;33mDropout\u001b[0m)          │ (\u001b[38;5;45mNone\u001b[0m, \u001b[38;5;34m8\u001b[0m)              │             \u001b[38;5;34m0\u001b[0m │\n",
       "├─────────────────────────────────┼────────────────────────┼───────────────┤\n",
       "│ dec_dense2 (\u001b[38;5;33mDense\u001b[0m)              │ (\u001b[38;5;45mNone\u001b[0m, \u001b[38;5;34m16\u001b[0m)             │           \u001b[38;5;34m144\u001b[0m │\n",
       "├─────────────────────────────────┼────────────────────────┼───────────────┤\n",
       "│ dec_dropout2 (\u001b[38;5;33mDropout\u001b[0m)          │ (\u001b[38;5;45mNone\u001b[0m, \u001b[38;5;34m16\u001b[0m)             │             \u001b[38;5;34m0\u001b[0m │\n",
       "├─────────────────────────────────┼────────────────────────┼───────────────┤\n",
       "│ reconstructed (\u001b[38;5;33mDense\u001b[0m)           │ (\u001b[38;5;45mNone\u001b[0m, \u001b[38;5;34m30\u001b[0m)             │           \u001b[38;5;34m510\u001b[0m │\n",
       "└─────────────────────────────────┴────────────────────────┴───────────────┘\n"
      ]
     },
     "metadata": {},
     "output_type": "display_data"
    },
    {
     "data": {
      "text/html": [
       "<pre style=\"white-space:pre;overflow-x:auto;line-height:normal;font-family:Menlo,'DejaVu Sans Mono',consolas,'Courier New',monospace\"><span style=\"font-weight: bold\"> Total params: </span><span style=\"color: #00af00; text-decoration-color: #00af00\">1,362</span> (5.32 KB)\n",
       "</pre>\n"
      ],
      "text/plain": [
       "\u001b[1m Total params: \u001b[0m\u001b[38;5;34m1,362\u001b[0m (5.32 KB)\n"
      ]
     },
     "metadata": {},
     "output_type": "display_data"
    },
    {
     "data": {
      "text/html": [
       "<pre style=\"white-space:pre;overflow-x:auto;line-height:normal;font-family:Menlo,'DejaVu Sans Mono',consolas,'Courier New',monospace\"><span style=\"font-weight: bold\"> Trainable params: </span><span style=\"color: #00af00; text-decoration-color: #00af00\">1,362</span> (5.32 KB)\n",
       "</pre>\n"
      ],
      "text/plain": [
       "\u001b[1m Trainable params: \u001b[0m\u001b[38;5;34m1,362\u001b[0m (5.32 KB)\n"
      ]
     },
     "metadata": {},
     "output_type": "display_data"
    },
    {
     "data": {
      "text/html": [
       "<pre style=\"white-space:pre;overflow-x:auto;line-height:normal;font-family:Menlo,'DejaVu Sans Mono',consolas,'Courier New',monospace\"><span style=\"font-weight: bold\"> Non-trainable params: </span><span style=\"color: #00af00; text-decoration-color: #00af00\">0</span> (0.00 B)\n",
       "</pre>\n"
      ],
      "text/plain": [
       "\u001b[1m Non-trainable params: \u001b[0m\u001b[38;5;34m0\u001b[0m (0.00 B)\n"
      ]
     },
     "metadata": {},
     "output_type": "display_data"
    }
   ],
   "source": [
    "autoencoder.summary()"
   ]
  },
  {
   "cell_type": "markdown",
   "id": "5ac8d4ed-8660-4578-9072-03264819c8ee",
   "metadata": {},
   "source": [
    "#### Read And Prepare Training/Validation Data\n",
    "\n",
    "Use the reader and associated [methods](https://www.tensorflow.org/api_docs/python/tf/data/Dataset#methods) to read, shape, and feed the data for training:\n",
    "- Shuffle\n",
    "- Shape\n",
    "- Normalize\n",
    "- Batch\n",
    "- Reshape\n",
    "- Prefetch"
   ]
  },
  {
   "cell_type": "code",
   "execution_count": 61,
   "id": "650c466d-62af-46bc-b6a4-bc4d80934ae3",
   "metadata": {
    "tags": []
   },
   "outputs": [],
   "source": [
    "# Data preparation for training\n",
    "def reshape_data(x, y):\n",
    "    return tf.reshape(x, (-1, len(var_numeric))), tf.reshape(y, (-1, len(var_numeric)))\n",
    "\n",
    "\n",
    "# Data preparation for training\n",
    "train_dataset = train_read \\\n",
    "    .shuffle(buffer_size = len(train_ds), reshuffle_each_iteration = True) \\\n",
    "    .map(prep_batch) \\\n",
    "    .map(lambda x, y: (normalizer(x), normalizer(y))) \\\n",
    "    .batch(100) \\\n",
    "    .map(reshape_data) \\\n",
    "    .prefetch(tf.data.AUTOTUNE)\n",
    "val_dataset = validate_read \\\n",
    "    .map(prep_batch) \\\n",
    "    .map(lambda x, y: (normalizer(x), normalizer(y))) \\\n",
    "    .batch(100) \\\n",
    "    .map(reshape_data) \\\n",
    "    .prefetch(tf.data.AUTOTUNE)"
   ]
  },
  {
   "cell_type": "markdown",
   "id": "a452f189-4d52-4f60-b344-058bccb13678",
   "metadata": {},
   "source": [
    "#### Define Early Stopping Criteria"
   ]
  },
  {
   "cell_type": "code",
   "execution_count": 62,
   "id": "ad203555-a9ea-4d80-804e-137f0106042c",
   "metadata": {
    "tags": []
   },
   "outputs": [],
   "source": [
    "early_stopping = keras.callbacks.EarlyStopping(\n",
    "    monitor = \"val_loss\",  # Monitor validation loss\n",
    "    patience = 5,          # Number of epochs with no improvement before stopping\n",
    "    restore_best_weights = True, # using the model that generalized best to the validation set, not the overfitted model from the last epoch\n",
    ")"
   ]
  },
  {
   "cell_type": "markdown",
   "id": "4d992352-abd9-4e78-8b65-0a63a70854e8",
   "metadata": {},
   "source": [
    "#### Train"
   ]
  },
  {
   "cell_type": "code",
   "execution_count": 63,
   "id": "b1f6366b-903e-43fe-a07f-4eed2d8ed377",
   "metadata": {
    "tags": []
   },
   "outputs": [
    {
     "name": "stdout",
     "output_type": "stream",
     "text": [
      "Epoch 1/10\n",
      "\u001b[1m2275/2275\u001b[0m \u001b[32m━━━━━━━━━━━━━━━━━━━━\u001b[0m\u001b[37m\u001b[0m \u001b[1m33s\u001b[0m 12ms/step - loss: 0.6843 - mae: 0.6631 - mse: 1.0020 - msle: 0.1464 - rmse: 1.0010 - val_loss: 0.6467 - val_mae: 0.6439 - val_mse: 0.9549 - val_msle: 0.1379 - val_rmse: 0.9772\n",
      "Epoch 2/10\n",
      "\u001b[1m2275/2275\u001b[0m \u001b[32m━━━━━━━━━━━━━━━━━━━━\u001b[0m\u001b[37m\u001b[0m \u001b[1m30s\u001b[0m 11ms/step - loss: 0.6508 - mae: 0.6480 - mse: 0.9815 - msle: 0.1384 - rmse: 0.9907 - val_loss: 0.6399 - val_mae: 0.6370 - val_mse: 0.9443 - val_msle: 0.1340 - val_rmse: 0.9717\n",
      "Epoch 3/10\n",
      "\u001b[1m2275/2275\u001b[0m \u001b[32m━━━━━━━━━━━━━━━━━━━━\u001b[0m\u001b[37m\u001b[0m \u001b[1m30s\u001b[0m 12ms/step - loss: 0.6472 - mae: 0.6442 - mse: 0.9831 - msle: 0.1359 - rmse: 0.9915 - val_loss: 0.6393 - val_mae: 0.6363 - val_mse: 0.9440 - val_msle: 0.1334 - val_rmse: 0.9716\n",
      "Epoch 4/10\n",
      "\u001b[1m2275/2275\u001b[0m \u001b[32m━━━━━━━━━━━━━━━━━━━━\u001b[0m\u001b[37m\u001b[0m \u001b[1m29s\u001b[0m 11ms/step - loss: 0.6466 - mae: 0.6436 - mse: 0.9761 - msle: 0.1354 - rmse: 0.9880 - val_loss: 0.6388 - val_mae: 0.6359 - val_mse: 0.9434 - val_msle: 0.1335 - val_rmse: 0.9713\n",
      "Epoch 5/10\n",
      "\u001b[1m2275/2275\u001b[0m \u001b[32m━━━━━━━━━━━━━━━━━━━━\u001b[0m\u001b[37m\u001b[0m \u001b[1m28s\u001b[0m 11ms/step - loss: 0.6466 - mae: 0.6437 - mse: 0.9773 - msle: 0.1357 - rmse: 0.9886 - val_loss: 0.6384 - val_mae: 0.6354 - val_mse: 0.9432 - val_msle: 0.1329 - val_rmse: 0.9712\n",
      "Epoch 6/10\n",
      "\u001b[1m2275/2275\u001b[0m \u001b[32m━━━━━━━━━━━━━━━━━━━━\u001b[0m\u001b[37m\u001b[0m \u001b[1m29s\u001b[0m 11ms/step - loss: 0.6460 - mae: 0.6431 - mse: 0.9672 - msle: 0.1354 - rmse: 0.9834 - val_loss: 0.6383 - val_mae: 0.6354 - val_mse: 0.9428 - val_msle: 0.1333 - val_rmse: 0.9710\n",
      "Epoch 7/10\n",
      "\u001b[1m2275/2275\u001b[0m \u001b[32m━━━━━━━━━━━━━━━━━━━━\u001b[0m\u001b[37m\u001b[0m \u001b[1m29s\u001b[0m 11ms/step - loss: 0.6454 - mae: 0.6425 - mse: 0.9715 - msle: 0.1351 - rmse: 0.9856 - val_loss: 0.6376 - val_mae: 0.6347 - val_mse: 0.9421 - val_msle: 0.1325 - val_rmse: 0.9706\n",
      "Epoch 8/10\n",
      "\u001b[1m2275/2275\u001b[0m \u001b[32m━━━━━━━━━━━━━━━━━━━━\u001b[0m\u001b[37m\u001b[0m \u001b[1m29s\u001b[0m 11ms/step - loss: 0.6477 - mae: 0.6449 - mse: 0.9938 - msle: 0.1358 - rmse: 0.9968 - val_loss: 0.6380 - val_mae: 0.6351 - val_mse: 0.9426 - val_msle: 0.1324 - val_rmse: 0.9709\n",
      "Epoch 9/10\n",
      "\u001b[1m2275/2275\u001b[0m \u001b[32m━━━━━━━━━━━━━━━━━━━━\u001b[0m\u001b[37m\u001b[0m \u001b[1m43s\u001b[0m 17ms/step - loss: 0.6470 - mae: 0.6442 - mse: 0.9826 - msle: 0.1356 - rmse: 0.9912 - val_loss: 0.6389 - val_mae: 0.6361 - val_mse: 0.9441 - val_msle: 0.1331 - val_rmse: 0.9716\n",
      "Epoch 10/10\n",
      "\u001b[1m2275/2275\u001b[0m \u001b[32m━━━━━━━━━━━━━━━━━━━━\u001b[0m\u001b[37m\u001b[0m \u001b[1m43s\u001b[0m 17ms/step - loss: 0.6454 - mae: 0.6427 - mse: 0.9714 - msle: 0.1351 - rmse: 0.9856 - val_loss: 0.6376 - val_mae: 0.6349 - val_mse: 0.9424 - val_msle: 0.1325 - val_rmse: 0.9708\n"
     ]
    }
   ],
   "source": [
    "history = autoencoder.fit(\n",
    "    train_dataset,\n",
    "    epochs = 10,\n",
    "    validation_data = val_dataset,\n",
    "    callbacks = [early_stopping]\n",
    ")"
   ]
  },
  {
   "cell_type": "markdown",
   "id": "31187a3d-5a03-43a7-acda-1b744a96e69c",
   "metadata": {},
   "source": [
    "#### Evaluate"
   ]
  },
  {
   "cell_type": "code",
   "execution_count": 64,
   "id": "ca347213-b5a1-4af4-a284-08be16cb7bee",
   "metadata": {
    "tags": []
   },
   "outputs": [],
   "source": [
    "test_dataset = test_read \\\n",
    "    .map(prep_batch) \\\n",
    "    .map(lambda x, y: (normalizer(x), normalizer(y))) \\\n",
    "    .batch(1024) \\\n",
    "    .map(reshape_data) \\\n",
    "    .prefetch(tf.data.AUTOTUNE) # Use your batch size"
   ]
  },
  {
   "cell_type": "code",
   "execution_count": 65,
   "id": "1aa4c35e-01fd-4e1c-af38-64a1441f96b1",
   "metadata": {
    "tags": []
   },
   "outputs": [
    {
     "name": "stdout",
     "output_type": "stream",
     "text": [
      "\u001b[1m28/28\u001b[0m \u001b[32m━━━━━━━━━━━━━━━━━━━━\u001b[0m\u001b[37m\u001b[0m \u001b[1m2s\u001b[0m 66ms/step - loss: 0.6057 - mae: 0.6028 - mse: 0.8377 - msle: 0.1271 - rmse: 0.9147\n"
     ]
    }
   ],
   "source": [
    "test_loss, test_rmse, test_mse, test_mae, test_msle = autoencoder.evaluate(test_dataset)"
   ]
  },
  {
   "cell_type": "code",
   "execution_count": 66,
   "id": "5760d106-73be-4275-9d13-d0922356f6a7",
   "metadata": {
    "tags": []
   },
   "outputs": [
    {
     "data": {
      "image/png": "[encoded data removed]",
      "text/plain": [
       "<Figure size 640x480 with 1 Axes>"
      ]
     },
     "metadata": {},
     "output_type": "display_data"
    }
   ],
   "source": [
    "# Plot the training, validation, and test loss\n",
    "plt.plot(history.history['loss'], label='Training Loss')\n",
    "plt.plot(history.history['val_loss'], label='Validation Loss')\n",
    "plt.plot(len(history.history['loss']) - 1, test_loss, 'ro', label='Test Loss')\n",
    "\n",
    "plt.xlabel('Epoch')\n",
    "plt.ylabel('Loss')\n",
    "plt.title('Training, Validation, and Test Loss')\n",
    "plt.legend()\n",
    "plt.show()"
   ]
  },
  {
   "cell_type": "markdown",
   "id": "88af7417-0fad-487b-a919-0e00eef8a7cd",
   "metadata": {},
   "source": [
    "#### Predict - Batches"
   ]
  },
  {
   "cell_type": "code",
   "execution_count": 67,
   "id": "18116b39-f700-42ee-8d7f-8ea4b5d7dccd",
   "metadata": {
    "tags": []
   },
   "outputs": [],
   "source": [
    "test_data = test_read.map(prep_batch).map(lambda x, _: normalizer(x)).batch(100).prefetch(tf.data.AUTOTUNE)"
   ]
  },
  {
   "cell_type": "code",
   "execution_count": 68,
   "id": "2ab2596d-4050-4940-92bf-76ae9e1bb5dd",
   "metadata": {
    "tags": []
   },
   "outputs": [
    {
     "name": "stdout",
     "output_type": "stream",
     "text": [
      "\u001b[1m28/28\u001b[0m \u001b[32m━━━━━━━━━━━━━━━━━━━━\u001b[0m\u001b[37m\u001b[0m \u001b[1m2s\u001b[0m 64ms/step\n"
     ]
    }
   ],
   "source": [
    "predictions = autoencoder.predict(test_dataset)"
   ]
  },
  {
   "cell_type": "code",
   "execution_count": 69,
   "id": "e34cbb99-ce0f-4ea8-8097-82b506ca939a",
   "metadata": {
    "tags": []
   },
   "outputs": [
    {
     "data": {
      "text/plain": [
       "array([[-0.25733203, -0.07432278,  0.06270407, ...,  0.01333485,\n",
       "         0.03683881, -0.2584034 ],\n",
       "       [ 0.24138814,  0.11011872,  0.0320839 , ..., -0.00791514,\n",
       "        -0.00717063, -0.26491985],\n",
       "       [ 0.9612831 ,  0.4698131 , -0.02437552, ..., -0.04337186,\n",
       "        -0.08023604, -0.2727877 ],\n",
       "       ...,\n",
       "       [-0.4254338 , -0.13024947,  0.07220531, ...,  0.02016881,\n",
       "         0.05103048, -0.25610337],\n",
       "       [-0.03840262, -0.00148597,  0.05033002, ...,  0.00443455,\n",
       "         0.01835614, -0.26139885],\n",
       "       [ 0.29710674,  0.13795847,  0.02771404, ..., -0.01065943,\n",
       "        -0.01282576, -0.26552883]], dtype=float32)"
      ]
     },
     "execution_count": 69,
     "metadata": {},
     "output_type": "execute_result"
    }
   ],
   "source": [
    "predictions"
   ]
  },
  {
   "cell_type": "markdown",
   "id": "95e1ffde-c8b7-412b-8cc9-cd5a67a1679d",
   "metadata": {},
   "source": [
    "#### Predict - Instances"
   ]
  },
  {
   "cell_type": "code",
   "execution_count": 70,
   "id": "ad07a2d3-16dc-4935-830c-9143d4c35f2e",
   "metadata": {
    "tags": []
   },
   "outputs": [
    {
     "data": {
      "text/plain": [
       "<tf.Tensor: shape=(3, 30), dtype=float64, numpy=\n",
       "array([[ 1.22959000e+05, -1.32729681e+00,  4.22904408e-01,\n",
       "         1.61750487e+00,  2.29119609e+00,  2.37505508e+00,\n",
       "         4.11734608e-01,  2.13516912e-01,  4.24743057e-01,\n",
       "        -1.80962432e+00,  5.63424164e-01, -2.15715613e-01,\n",
       "         2.55745375e-01,  1.43720868e-01,  6.64174539e-02,\n",
       "        -2.19269326e+00,  1.50004375e+00, -1.48305134e+00,\n",
       "        -9.73547277e-02, -1.36598162e+00,  6.85717013e-02,\n",
       "        -3.37965985e-01, -1.46195905e+00,  1.92604144e-01,\n",
       "         6.82811106e-02, -2.45725047e-01, -6.97654196e-01,\n",
       "         3.82157166e-02,  1.50059278e-01,  0.00000000e+00],\n",
       "       [ 1.22312000e+05, -1.98855728e+00, -7.20301213e-01,\n",
       "         8.63204409e-01,  3.11449406e+00,  1.84747391e+00,\n",
       "         2.55881461e-01,  5.80361923e-01, -8.37562835e-02,\n",
       "        -9.39043765e-01,  1.67151292e+00,  4.86318267e-01,\n",
       "         3.22838436e-02, -4.71286201e-01, -2.63797878e-01,\n",
       "        -1.65909481e+00,  1.20486226e+00, -1.27729724e+00,\n",
       "        -3.35620945e-01, -1.07094480e+00, -8.57828725e-01,\n",
       "        -6.20289462e-01, -1.07563635e+00,  1.56495140e+00,\n",
       "         5.46311776e-01, -5.48530630e-01, -7.46619614e-01,\n",
       "        -7.48016061e-01,  4.10640472e-01,  0.00000000e+00],\n",
       "       [ 1.19592000e+05,  2.13974143e+00,  2.45650513e-01,\n",
       "        -2.65485572e+00,  1.78286715e-01,  1.33699090e+00,\n",
       "        -7.24663998e-01,  9.06032324e-01, -4.36124937e-01,\n",
       "        -5.28015251e-01,  4.04044126e-01,  6.71436482e-01,\n",
       "         1.09175002e+00,  6.45989342e-01,  8.37037623e-01,\n",
       "        -9.39859908e-01, -5.51466233e-01, -5.35908617e-01,\n",
       "        -2.02552237e-01,  3.98325982e-01, -1.60988416e-01,\n",
       "         2.96680772e-01,  1.03628516e+00, -2.16033438e-01,\n",
       "         3.45316056e-01,  7.47103424e-01,  7.00184058e-01,\n",
       "        -1.23739141e-01, -9.99890044e-02,  0.00000000e+00]])>"
      ]
     },
     "execution_count": 70,
     "metadata": {},
     "output_type": "execute_result"
    }
   ],
   "source": [
    "test_instances = next(iter(test_read.map(prep_batch).batch(3).take(1)))[0] # get first element of tuple for prediction\n",
    "test_instances"
   ]
  },
  {
   "cell_type": "code",
   "execution_count": 71,
   "id": "e72c5aad-e46b-4474-bfae-4dd4c674988d",
   "metadata": {
    "tags": []
   },
   "outputs": [
    {
     "name": "stdout",
     "output_type": "stream",
     "text": [
      "\u001b[1m1/1\u001b[0m \u001b[32m━━━━━━━━━━━━━━━━━━━━\u001b[0m\u001b[37m\u001b[0m \u001b[1m0s\u001b[0m 85ms/step\n"
     ]
    },
    {
     "data": {
      "text/plain": [
       "array([[-2.57332027e-01, -7.43227750e-02,  6.27040714e-02,\n",
       "         2.28090897e-01, -9.67510883e-03, -8.64035413e-02,\n",
       "        -1.75226957e-01,  1.89672597e-03,  3.57278809e-02,\n",
       "        -8.00862163e-02, -1.06392555e-01,  2.63494439e-04,\n",
       "         1.25106424e-01, -1.92877278e-03,  2.95052025e-02,\n",
       "         1.36818811e-01,  8.01539272e-02, -8.50973725e-02,\n",
       "        -8.66050366e-03,  1.04040094e-03, -5.87001555e-02,\n",
       "        -4.96217050e-02, -2.62919515e-02, -3.26121897e-02,\n",
       "         7.62757435e-02,  8.84789452e-02, -1.26803517e-01,\n",
       "         1.33348498e-02,  3.68388183e-02, -2.58403391e-01],\n",
       "       [ 2.41388083e-01,  1.10118747e-01,  3.20838988e-02,\n",
       "        -1.12648398e-01, -6.11343831e-02,  2.51061171e-02,\n",
       "        -2.44389817e-01,  4.92223054e-02, -5.19726425e-03,\n",
       "        -2.19038352e-02, -7.84757137e-02, -7.70224035e-02,\n",
       "         1.35321587e-01, -1.24026816e-02,  4.78570350e-02,\n",
       "        -9.51023400e-03,  7.16185719e-02, -1.40118718e-01,\n",
       "         2.29755901e-02,  9.89722740e-03, -9.47761312e-02,\n",
       "        -1.07693300e-02,  9.25983265e-02,  8.19317997e-03,\n",
       "         5.70198074e-02, -8.56290758e-02, -9.36460048e-02,\n",
       "        -7.91514106e-03, -7.17062876e-03, -2.64919847e-01],\n",
       "       [ 9.61283088e-01,  4.69813108e-01, -2.43755206e-02,\n",
       "        -6.60333395e-01, -1.03124022e-01,  1.79913327e-01,\n",
       "        -3.58663112e-01,  1.12848751e-01, -7.25151077e-02,\n",
       "         7.10317418e-02, -1.71317905e-02, -1.82087749e-01,\n",
       "         1.63416922e-01, -4.40594219e-02,  9.65423211e-02,\n",
       "        -2.04173148e-01,  3.53586301e-02, -2.19999045e-01,\n",
       "         5.00270166e-02,  3.06285843e-02, -1.49690449e-01,\n",
       "         6.00767881e-02,  3.12102616e-01,  6.74621016e-02,\n",
       "         3.84930149e-02, -3.08593720e-01, -2.90998071e-02,\n",
       "        -4.33718637e-02, -8.02360401e-02, -2.72787690e-01]], dtype=float32)"
      ]
     },
     "execution_count": 71,
     "metadata": {},
     "output_type": "execute_result"
    }
   ],
   "source": [
    "autoencoder.predict(normalizer(test_instances))"
   ]
  },
  {
   "cell_type": "code",
   "execution_count": 72,
   "id": "690e546c-0619-4555-8ee0-c34c46b8f283",
   "metadata": {
    "tags": []
   },
   "outputs": [
    {
     "name": "stdout",
     "output_type": "stream",
     "text": [
      "\u001b[1m1/1\u001b[0m \u001b[32m━━━━━━━━━━━━━━━━━━━━\u001b[0m\u001b[37m\u001b[0m \u001b[1m0s\u001b[0m 3ms/step\n"
     ]
    },
    {
     "data": {
      "text/plain": [
       "Array([[ 8.26738750e+04, -1.34258702e-01,  9.48251784e-02,\n",
       "         3.44490737e-01, -2.15190202e-02, -1.12447321e-01,\n",
       "        -2.30187237e-01,  1.18706785e-02,  4.09602076e-02,\n",
       "        -8.21491107e-02, -1.00884899e-01, -6.83494145e-03,\n",
       "         1.28442615e-01, -1.79761858e-03,  3.94909270e-02,\n",
       "         1.24131739e-01,  7.54556805e-02, -5.21466732e-02,\n",
       "        -2.82458821e-03,  2.26313714e-04, -4.65672575e-02,\n",
       "        -3.68381739e-02, -1.84831060e-02, -2.02304423e-02,\n",
       "         4.67535369e-02,  4.53850366e-02, -6.16063103e-02,\n",
       "         4.79694176e-03,  1.23749115e-02,  2.27783890e+01],\n",
       "       [ 1.06362992e+05,  2.21877962e-01,  4.45827022e-02,\n",
       "        -1.53110147e-01, -9.34952646e-02,  3.93156968e-02,\n",
       "        -3.22361499e-01,  6.79300576e-02, -6.75640069e-03,\n",
       "        -1.87797137e-02, -7.18610063e-02, -8.43133330e-02,\n",
       "         1.38110757e-01, -1.22282738e-02,  5.59342280e-02,\n",
       "        -9.75523144e-03,  6.82560354e-02, -9.31711495e-02,\n",
       "         2.32257843e-02,  7.41520850e-03, -7.46730193e-02,\n",
       "        -8.95502232e-03,  6.75421283e-02,  5.15549816e-03,\n",
       "         3.51073369e-02, -4.53458354e-02, -4.56061475e-02,\n",
       "        -3.73005401e-03, -2.39712186e-03,  2.11227188e+01],\n",
       "       [ 1.40557875e+05,  9.16408956e-01, -4.80575636e-02,\n",
       "        -9.52925503e-01, -1.52226284e-01,  2.50006050e-01,\n",
       "        -4.74655032e-01,  1.43298566e-01, -8.52455348e-02,\n",
       "         8.24411660e-02, -8.08446854e-03, -1.89640358e-01,\n",
       "         1.64701581e-01, -4.37542833e-02,  9.95564163e-02,\n",
       "        -1.87866315e-01,  3.76704820e-02, -1.52730748e-01,\n",
       "         4.55009639e-02,  2.42424048e-02, -1.17455184e-01,\n",
       "         4.18890491e-02,  2.26368457e-01,  4.20280285e-02,\n",
       "         2.39021350e-02, -1.61536783e-01, -1.44593660e-02,\n",
       "        -1.79577935e-02, -2.69219633e-02,  1.91237030e+01]],      dtype=float32)"
      ]
     },
     "execution_count": 72,
     "metadata": {},
     "output_type": "execute_result"
    }
   ],
   "source": [
    "denormalizer(autoencoder.predict(normalizer(test_instances)))"
   ]
  },
  {
   "cell_type": "markdown",
   "id": "524bae60-dd61-4c46-aecd-519687f8ab7e",
   "metadata": {},
   "source": [
    "#### Visualize Reconstructions"
   ]
  },
  {
   "cell_type": "markdown",
   "id": "0a0e95a7-5b84-4331-a378-531291721c1a",
   "metadata": {},
   "source": [
    "Original Data Units:"
   ]
  },
  {
   "cell_type": "code",
   "execution_count": 73,
   "id": "25dd057b-e132-4c55-aaaf-2bc9e51d34bb",
   "metadata": {
    "tags": []
   },
   "outputs": [
    {
     "name": "stdout",
     "output_type": "stream",
     "text": [
      "\u001b[1m1/1\u001b[0m \u001b[32m━━━━━━━━━━━━━━━━━━━━\u001b[0m\u001b[37m\u001b[0m \u001b[1m0s\u001b[0m 6ms/step\n"
     ]
    },
    {
     "data": {
      "image/png": "[encoded data removed]",
      "text/plain": [
       "<Figure size 1000x200 with 2 Axes>"
      ]
     },
     "metadata": {},
     "output_type": "display_data"
    },
    {
     "data": {
      "image/png": "[encoded data removed]",
      "text/plain": [
       "<Figure size 1000x200 with 2 Axes>"
      ]
     },
     "metadata": {},
     "output_type": "display_data"
    },
    {
     "data": {
      "image/png": "[encoded data removed]",
      "text/plain": [
       "<Figure size 1000x200 with 2 Axes>"
      ]
     },
     "metadata": {},
     "output_type": "display_data"
    }
   ],
   "source": [
    "reconstructions = autoencoder.predict(test_instances)\n",
    "denormalized_inputs = denormalizer(test_instances)\n",
    "denormalized_reconstructions = denormalizer(reconstructions)\n",
    "\n",
    "for i in range(test_instances.shape[0]):\n",
    "    plt.figure(figsize=(10, 2))\n",
    "\n",
    "    plt.subplot(1, 2, 1)\n",
    "    plt.plot(denormalized_inputs[i])  # Original\n",
    "    plt.title('Original')\n",
    "\n",
    "    plt.subplot(1, 2, 2)\n",
    "    plt.plot(denormalized_reconstructions[i])  # Reconstructed\n",
    "    plt.title('Reconstructed')\n",
    "\n",
    "    plt.show()"
   ]
  },
  {
   "cell_type": "markdown",
   "id": "f0b5cee0-ecff-4a45-91be-17227a80f6d6",
   "metadata": {},
   "source": [
    "Normalized Data:"
   ]
  },
  {
   "cell_type": "code",
   "execution_count": 74,
   "id": "54b2c0f7-7c2f-482d-9b25-6a0d52e08743",
   "metadata": {
    "tags": []
   },
   "outputs": [
    {
     "name": "stdout",
     "output_type": "stream",
     "text": [
      "\u001b[1m1/1\u001b[0m \u001b[32m━━━━━━━━━━━━━━━━━━━━\u001b[0m\u001b[37m\u001b[0m \u001b[1m0s\u001b[0m 9ms/step\n"
     ]
    },
    {
     "data": {
      "image/png": "[encoded data removed]",
      "text/plain": [
       "<Figure size 1000x200 with 2 Axes>"
      ]
     },
     "metadata": {},
     "output_type": "display_data"
    },
    {
     "data": {
      "image/png": "[encoded data removed]",
      "text/plain": [
       "<Figure size 1000x200 with 2 Axes>"
      ]
     },
     "metadata": {},
     "output_type": "display_data"
    },
    {
     "data": {
      "image/png": "[encoded data removed]",
      "text/plain": [
       "<Figure size 1000x200 with 2 Axes>"
      ]
     },
     "metadata": {},
     "output_type": "display_data"
    }
   ],
   "source": [
    "reconstructions = autoencoder.predict(test_instances)\n",
    "\n",
    "for i in range(test_instances.shape[0]):\n",
    "    plt.figure(figsize=(10, 2))\n",
    "\n",
    "    plt.subplot(1, 2, 1)\n",
    "    plt.plot(test_instances[i])  # Original\n",
    "    plt.title('Original')\n",
    "\n",
    "    plt.subplot(1, 2, 2)\n",
    "    plt.plot(reconstructions[i])  # Reconstructed\n",
    "    plt.title('Reconstructed')\n",
    "\n",
    "    plt.show()"
   ]
  },
  {
   "cell_type": "markdown",
   "id": "9065ea7a-c529-403e-9d89-0c3c452f4c22",
   "metadata": {},
   "source": [
    "#### Continue Training\n",
    "\n",
    "Rather than starting the training over we can continue it.\n",
    "\n",
    "**About Continued Training**\n",
    "- **Continued Training** or **Fine Tuning** is using the same or similar data to continue to train the model to refine the weights.  Usually all layers are left unlocked and are trainable.\n",
    "- **Transfer Learning** is using a new, more targeted data source to continue to train the model and refine the weights of higher layers while leaving the lower layers frozen. The earlier training might even be referrred to as pre-training when it involved training on a much larger more general data source and the continued training is now on a smaller, related, but more specific data source.\n",
    "    - lower layers usually learn general features\n",
    "    - higher layers usually more task-specific\n",
    "\n",
    "Earlier the learning rate was fixed with `learning_rate = 0.0005`.  Recompile the model with a learning rate scheduler and then continue the training for 10 more epochs."
   ]
  },
  {
   "cell_type": "code",
   "execution_count": 75,
   "id": "738b79dc-c6c4-4164-8451-72b272a1b79a",
   "metadata": {
    "tags": []
   },
   "outputs": [],
   "source": [
    "lr_scheduler = keras.optimizers.schedules.ExponentialDecay(\n",
    "    initial_learning_rate = 0.0005,  # Start with the previous LR\n",
    "    decay_steps = 1000,            # Decay every 1000 steps\n",
    "    decay_rate = 0.95,              # Decay by 5%\n",
    "    staircase = True               # Integer decay (optional)\n",
    ")"
   ]
  },
  {
   "cell_type": "code",
   "execution_count": 76,
   "id": "4e67773a-fffa-4bdc-b337-5ccaccc35cee",
   "metadata": {
    "tags": []
   },
   "outputs": [],
   "source": [
    "# Recompile the model with the new learning rate:\n",
    "autoencoder.compile(\n",
    "    optimizer = keras.optimizers.Adam(learning_rate = lr_scheduler),\n",
    "    loss = custom_loss,\n",
    "    metrics = [\n",
    "        keras.metrics.RootMeanSquaredError(name = 'rmse'),\n",
    "        keras.metrics.MeanSquaredError(name = 'mse'),\n",
    "        keras.metrics.MeanAbsoluteError(name = 'mae'),\n",
    "        keras.metrics.MeanSquaredLogarithmicError(name = 'msle')\n",
    "    ]\n",
    ")"
   ]
  },
  {
   "cell_type": "code",
   "execution_count": 77,
   "id": "b2063b01-67d8-43e0-9b68-a298a597fbf6",
   "metadata": {
    "tags": []
   },
   "outputs": [
    {
     "name": "stdout",
     "output_type": "stream",
     "text": [
      "Epoch 1/10\n",
      "\u001b[1m2275/2275\u001b[0m \u001b[32m━━━━━━━━━━━━━━━━━━━━\u001b[0m\u001b[37m\u001b[0m \u001b[1m46s\u001b[0m 18ms/step - loss: 0.6468 - mae: 0.6440 - mse: 1.0013 - msle: 0.1354 - rmse: 1.0005 - val_loss: 0.6380 - val_mae: 0.6351 - val_mse: 0.9427 - val_msle: 0.1327 - val_rmse: 0.9709\n",
      "Epoch 2/10\n",
      "\u001b[1m2275/2275\u001b[0m \u001b[32m━━━━━━━━━━━━━━━━━━━━\u001b[0m\u001b[37m\u001b[0m \u001b[1m29s\u001b[0m 11ms/step - loss: 0.6450 - mae: 0.6422 - mse: 0.9627 - msle: 0.1351 - rmse: 0.9812 - val_loss: 0.6378 - val_mae: 0.6350 - val_mse: 0.9425 - val_msle: 0.1326 - val_rmse: 0.9708\n",
      "Epoch 3/10\n",
      "\u001b[1m2275/2275\u001b[0m \u001b[32m━━━━━━━━━━━━━━━━━━━━\u001b[0m\u001b[37m\u001b[0m \u001b[1m43s\u001b[0m 17ms/step - loss: 0.6465 - mae: 0.6437 - mse: 0.9754 - msle: 0.1354 - rmse: 0.9876 - val_loss: 0.6377 - val_mae: 0.6349 - val_mse: 0.9425 - val_msle: 0.1325 - val_rmse: 0.9708\n",
      "Epoch 4/10\n",
      "\u001b[1m2275/2275\u001b[0m \u001b[32m━━━━━━━━━━━━━━━━━━━━\u001b[0m\u001b[37m\u001b[0m \u001b[1m29s\u001b[0m 11ms/step - loss: 0.6456 - mae: 0.6429 - mse: 0.9669 - msle: 0.1350 - rmse: 0.9833 - val_loss: 0.6376 - val_mae: 0.6349 - val_mse: 0.9424 - val_msle: 0.1324 - val_rmse: 0.9708\n",
      "Epoch 5/10\n",
      "\u001b[1m2275/2275\u001b[0m \u001b[32m━━━━━━━━━━━━━━━━━━━━\u001b[0m\u001b[37m\u001b[0m \u001b[1m29s\u001b[0m 11ms/step - loss: 0.6453 - mae: 0.6426 - mse: 0.9790 - msle: 0.1350 - rmse: 0.9894 - val_loss: 0.6381 - val_mae: 0.6354 - val_mse: 0.9428 - val_msle: 0.1330 - val_rmse: 0.9710\n",
      "Epoch 6/10\n",
      "\u001b[1m2275/2275\u001b[0m \u001b[32m━━━━━━━━━━━━━━━━━━━━\u001b[0m\u001b[37m\u001b[0m \u001b[1m34s\u001b[0m 13ms/step - loss: 0.6456 - mae: 0.6429 - mse: 0.9651 - msle: 0.1353 - rmse: 0.9824 - val_loss: 0.6376 - val_mae: 0.6349 - val_mse: 0.9424 - val_msle: 0.1328 - val_rmse: 0.9708\n",
      "Epoch 7/10\n",
      "\u001b[1m2275/2275\u001b[0m \u001b[32m━━━━━━━━━━━━━━━━━━━━\u001b[0m\u001b[37m\u001b[0m \u001b[1m31s\u001b[0m 12ms/step - loss: 0.6463 - mae: 0.6437 - mse: 0.9809 - msle: 0.1356 - rmse: 0.9904 - val_loss: 0.6380 - val_mae: 0.6353 - val_mse: 0.9429 - val_msle: 0.1327 - val_rmse: 0.9710\n",
      "Epoch 8/10\n",
      "\u001b[1m2275/2275\u001b[0m \u001b[32m━━━━━━━━━━━━━━━━━━━━\u001b[0m\u001b[37m\u001b[0m \u001b[1m29s\u001b[0m 11ms/step - loss: 0.6458 - mae: 0.6431 - mse: 0.9786 - msle: 0.1351 - rmse: 0.9892 - val_loss: 0.6375 - val_mae: 0.6348 - val_mse: 0.9422 - val_msle: 0.1328 - val_rmse: 0.9707\n",
      "Epoch 9/10\n",
      "\u001b[1m2275/2275\u001b[0m \u001b[32m━━━━━━━━━━━━━━━━━━━━\u001b[0m\u001b[37m\u001b[0m \u001b[1m29s\u001b[0m 11ms/step - loss: 0.6465 - mae: 0.6438 - mse: 0.9866 - msle: 0.1354 - rmse: 0.9933 - val_loss: 0.6374 - val_mae: 0.6347 - val_mse: 0.9422 - val_msle: 0.1325 - val_rmse: 0.9707\n",
      "Epoch 10/10\n",
      "\u001b[1m2275/2275\u001b[0m \u001b[32m━━━━━━━━━━━━━━━━━━━━\u001b[0m\u001b[37m\u001b[0m \u001b[1m29s\u001b[0m 11ms/step - loss: 0.6453 - mae: 0.6427 - mse: 0.9740 - msle: 0.1351 - rmse: 0.9869 - val_loss: 0.6373 - val_mae: 0.6346 - val_mse: 0.9420 - val_msle: 0.1327 - val_rmse: 0.9706\n"
     ]
    }
   ],
   "source": [
    "# Continue training, appending to the history:\n",
    "continued_history = autoencoder.fit(\n",
    "    train_dataset,\n",
    "    epochs = 10,  # Train for 10 *more* epochs\n",
    "    validation_data = val_dataset\n",
    ")"
   ]
  },
  {
   "cell_type": "code",
   "execution_count": 78,
   "id": "9b55246c-4843-4293-9332-1e1843d8b877",
   "metadata": {
    "tags": []
   },
   "outputs": [],
   "source": [
    "# Combine Histories:\n",
    "for key in continued_history.history.keys():\n",
    "    history.history[key] += continued_history.history[key]"
   ]
  },
  {
   "cell_type": "code",
   "execution_count": 79,
   "id": "16158e35-b815-474e-9d4c-eb4651e7f4dd",
   "metadata": {
    "tags": []
   },
   "outputs": [
    {
     "name": "stdout",
     "output_type": "stream",
     "text": [
      "\u001b[1m28/28\u001b[0m \u001b[32m━━━━━━━━━━━━━━━━━━━━\u001b[0m\u001b[37m\u001b[0m \u001b[1m3s\u001b[0m 77ms/step - loss: 0.6053 - mae: 0.6027 - mse: 0.8376 - msle: 0.1273 - rmse: 0.9146\n"
     ]
    }
   ],
   "source": [
    "test_loss, test_rmse, test_mse, test_mae, test_msle = autoencoder.evaluate(test_dataset)"
   ]
  },
  {
   "cell_type": "code",
   "execution_count": 80,
   "id": "8b9104f2-a3ff-4df8-aadc-793f471ff361",
   "metadata": {
    "tags": []
   },
   "outputs": [
    {
     "data": {
      "image/png": "[encoded data removed]",
      "text/plain": [
       "<Figure size 640x480 with 1 Axes>"
      ]
     },
     "metadata": {},
     "output_type": "display_data"
    }
   ],
   "source": [
    "# Plot the training, validation, and test loss\n",
    "plt.plot(history.history['loss'], label='Training Loss')\n",
    "plt.plot(history.history['val_loss'], label='Validation Loss')\n",
    "plt.plot(len(history.history['loss']) - 1, test_loss, 'ro', label='Test Loss')\n",
    "\n",
    "plt.xlabel('Epoch')\n",
    "plt.ylabel('Loss')\n",
    "plt.title('Training, Validation, and Test Loss')\n",
    "plt.legend()\n",
    "plt.show()"
   ]
  },
  {
   "cell_type": "markdown",
   "id": "41a7d1b0-0293-476c-b8a5-54381a06c743",
   "metadata": {},
   "source": [
    "## Create An Encoder Model From The Latent Layer\n",
    "\n",
    "There are times where the only prediction you want from the trained autoencoder is the latent layer.  This layer makes a great encoder for creating embeddings for doing things like vector similarity search to identify similar records!\n",
    "\n",
    "We don't need to retrain the model, just create a model object from now trained autoencoders `latent` layer."
   ]
  },
  {
   "cell_type": "code",
   "execution_count": 81,
   "id": "d8918eb6-2495-4462-9cc3-d4f1948f960d",
   "metadata": {
    "tags": []
   },
   "outputs": [],
   "source": [
    "latent_layer = autoencoder.get_layer('latent')\n",
    "latent_dim = latent.shape[-1]\n",
    "encoder_model = keras.Model(inputs = autoencoder.input, outputs = latent_layer.output, name = 'encoder')"
   ]
  },
  {
   "cell_type": "markdown",
   "id": "a0615bef-e94f-41f7-a428-a3b30193eecf",
   "metadata": {},
   "source": [
    "### Predict With The Latent Model\n",
    "\n",
    "Notice that the latent layers predictions are the 4 dimension representation trained in the middle of the autoencoder:"
   ]
  },
  {
   "cell_type": "code",
   "execution_count": 82,
   "id": "0be30c5d-854f-4146-8d81-89d8f9460f6c",
   "metadata": {
    "tags": []
   },
   "outputs": [
    {
     "name": "stdout",
     "output_type": "stream",
     "text": [
      "\u001b[1m1/1\u001b[0m \u001b[32m━━━━━━━━━━━━━━━━━━━━\u001b[0m\u001b[37m\u001b[0m \u001b[1m0s\u001b[0m 48ms/step\n"
     ]
    },
    {
     "data": {
      "text/plain": [
       "array([[0.1103485 , 0.        , 0.        , 0.05672061],\n",
       "       [0.30505222, 0.        , 0.        , 0.16123873],\n",
       "       [0.96625847, 0.        , 0.        , 0.5161915 ]], dtype=float32)"
      ]
     },
     "execution_count": 82,
     "metadata": {},
     "output_type": "execute_result"
    }
   ],
   "source": [
    "encoder_model.predict(normalizer(test_instances))"
   ]
  },
  {
   "cell_type": "markdown",
   "id": "5bed5c7d-db35-4052-93ff-285435f76789",
   "metadata": {},
   "source": [
    "---\n",
    "## Enchance Autoencoder\n",
    "\n",
    "Create new model objects that are built around the trained autoencoder.  With Keras models can be layers in new models.  Here a new model combines the preprocessing layers, normalizer and denormalizer, with the autoencoder into a new model object we will call a stacked model.  These make serving easier!"
   ]
  },
  {
   "cell_type": "markdown",
   "id": "8f15f728-234f-43c1-89e7-a546dc0c6e63",
   "metadata": {},
   "source": [
    "### Stacked Model - Combined Preprocessing, Model, and Postprocessing\n",
    "\n",
    "Simply stack the normalizer + autoencoder + denormalizer in a new model object:"
   ]
  },
  {
   "cell_type": "code",
   "execution_count": 83,
   "id": "f405e5e2-8a7f-4749-89ab-fd8b9e422e0b",
   "metadata": {
    "tags": []
   },
   "outputs": [
    {
     "data": {
      "text/plain": [
       "(keras.src.layers.preprocessing.normalization.Normalization,\n",
       " keras.src.models.functional.Functional,\n",
       " keras.src.layers.preprocessing.normalization.Normalization)"
      ]
     },
     "execution_count": 83,
     "metadata": {},
     "output_type": "execute_result"
    }
   ],
   "source": [
    "type(normalizer), type(autoencoder), type(denormalizer)"
   ]
  },
  {
   "cell_type": "code",
   "execution_count": 84,
   "id": "b7e7107f-dec3-4db6-9466-2678a496bb2d",
   "metadata": {
    "tags": []
   },
   "outputs": [],
   "source": [
    "# Create a new sequential model\n",
    "stacked_model = keras.Sequential([\n",
    "    normalizer,\n",
    "    autoencoder,\n",
    "    denormalizer\n",
    "], name='stacked_autoencoder')"
   ]
  },
  {
   "cell_type": "markdown",
   "id": "23950584-eb85-48e7-a55e-f80aa5bd49d9",
   "metadata": {},
   "source": [
    "#### Predict"
   ]
  },
  {
   "cell_type": "code",
   "execution_count": 85,
   "id": "37e36184-6f16-4ba7-856e-643c60770ce0",
   "metadata": {
    "tags": []
   },
   "outputs": [],
   "source": [
    "test_instances = test_read.map(prep_batch).batch(100).prefetch(tf.data.AUTOTUNE)"
   ]
  },
  {
   "cell_type": "code",
   "execution_count": 86,
   "id": "f0cb3743-5a9e-47e5-b9c4-9799db542067",
   "metadata": {
    "tags": []
   },
   "outputs": [
    {
     "name": "stdout",
     "output_type": "stream",
     "text": [
      "\u001b[1m285/285\u001b[0m \u001b[32m━━━━━━━━━━━━━━━━━━━━\u001b[0m\u001b[37m\u001b[0m \u001b[1m2s\u001b[0m 6ms/step\n"
     ]
    }
   ],
   "source": [
    "predictions = stacked_model.predict(test_instances)"
   ]
  },
  {
   "cell_type": "code",
   "execution_count": 87,
   "id": "88cbcac6-1bb8-4eac-8a2d-f69e70912784",
   "metadata": {
    "tags": []
   },
   "outputs": [
    {
     "data": {
      "text/plain": [
       "array([[ 8.46495312e+04, -1.20067075e-01,  9.30297598e-02,\n",
       "         3.14661771e-01, -3.34826447e-02, -9.59751755e-02,\n",
       "        -2.34427691e-01,  1.94891840e-02,  3.96082252e-02,\n",
       "        -6.90148026e-02, -1.03628010e-01, -1.57195516e-02,\n",
       "         1.31998867e-01, -4.22615092e-03,  4.05934155e-02,\n",
       "         1.06524356e-01,  7.43651167e-02, -5.41560948e-02,\n",
       "        -4.49759234e-03, -1.03028375e-03, -4.98089306e-02,\n",
       "        -3.82569619e-02, -1.69785246e-02, -1.58087388e-02,\n",
       "         4.50282097e-02,  3.49843204e-02, -5.85144423e-02,\n",
       "         6.62519271e-03,  1.07871667e-02,  2.20930824e+01],\n",
       "       [ 1.08392312e+05,  2.51276702e-01,  4.17948812e-02,\n",
       "        -1.86752498e-01, -1.00344568e-01,  5.10883182e-02,\n",
       "        -3.28040898e-01,  7.46903047e-02, -8.49290378e-03,\n",
       "        -7.02512451e-03, -7.20431358e-02, -9.22111347e-02,\n",
       "         1.41632691e-01, -1.57660916e-02,  5.86169697e-02,\n",
       "        -2.48292368e-02,  6.98695928e-02, -9.63703990e-02,\n",
       "         1.95179135e-02,  8.23222846e-03, -7.72634819e-02,\n",
       "        -1.02970582e-02,  6.89090714e-02,  1.04479045e-02,\n",
       "         3.51066627e-02, -5.49548082e-02, -4.25704159e-02,\n",
       "        -1.95646100e-03, -3.89468879e-03,  2.09939365e+01],\n",
       "       [ 1.40469578e+05,  9.18011129e-01, -5.01340777e-02,\n",
       "        -9.40099061e-01, -1.50763854e-01,  2.42499530e-01,\n",
       "        -4.71249491e-01,  1.42188713e-01, -8.15328956e-02,\n",
       "         8.66876841e-02, -9.25821811e-03, -1.89230606e-01,\n",
       "         1.67458549e-01, -4.45141792e-02,  9.80399027e-02,\n",
       "        -1.92707121e-01,  4.85462621e-02, -1.54671878e-01,\n",
       "         3.78833450e-02,  2.46897396e-02, -1.16967060e-01,\n",
       "         3.58113907e-02,  2.12480307e-01,  4.80337404e-02,\n",
       "         2.60588694e-02, -1.67189404e-01, -1.38400979e-02,\n",
       "        -1.53768929e-02, -2.65501980e-02,  1.99858055e+01]], dtype=float32)"
      ]
     },
     "execution_count": 87,
     "metadata": {},
     "output_type": "execute_result"
    }
   ],
   "source": [
    "predictions[0:3]"
   ]
  },
  {
   "cell_type": "markdown",
   "id": "86bcd77f-5eb7-475f-830f-7727e0178016",
   "metadata": {},
   "source": [
    "#### Review The Model"
   ]
  },
  {
   "cell_type": "code",
   "execution_count": 88,
   "id": "321df2ad-6192-45b2-93d0-a709875177fe",
   "metadata": {
    "tags": []
   },
   "outputs": [
    {
     "data": {
      "text/html": [
       "<pre style=\"white-space:pre;overflow-x:auto;line-height:normal;font-family:Menlo,'DejaVu Sans Mono',consolas,'Courier New',monospace\"><span style=\"font-weight: bold\">Model: \"stacked_autoencoder\"</span>\n",
       "</pre>\n"
      ],
      "text/plain": [
       "\u001b[1mModel: \"stacked_autoencoder\"\u001b[0m\n"
      ]
     },
     "metadata": {},
     "output_type": "display_data"
    },
    {
     "data": {
      "text/html": [
       "<pre style=\"white-space:pre;overflow-x:auto;line-height:normal;font-family:Menlo,'DejaVu Sans Mono',consolas,'Courier New',monospace\">┏━━━━━━━━━━━━━━━━━━━━━━━━━━━━━━━━━┳━━━━━━━━━━━━━━━━━━━━━━━━┳━━━━━━━━━━━━━━━┓\n",
       "┃<span style=\"font-weight: bold\"> Layer (type)                    </span>┃<span style=\"font-weight: bold\"> Output Shape           </span>┃<span style=\"font-weight: bold\">       Param # </span>┃\n",
       "┡━━━━━━━━━━━━━━━━━━━━━━━━━━━━━━━━━╇━━━━━━━━━━━━━━━━━━━━━━━━╇━━━━━━━━━━━━━━━┩\n",
       "│ normalization (<span style=\"color: #0087ff; text-decoration-color: #0087ff\">Normalization</span>)   │ (<span style=\"color: #00af00; text-decoration-color: #00af00\">100</span>, <span style=\"color: #00af00; text-decoration-color: #00af00\">30</span>)              │            <span style=\"color: #00af00; text-decoration-color: #00af00\">61</span> │\n",
       "├─────────────────────────────────┼────────────────────────┼───────────────┤\n",
       "│ autoencoder (<span style=\"color: #0087ff; text-decoration-color: #0087ff\">Functional</span>)        │ (<span style=\"color: #00af00; text-decoration-color: #00af00\">100</span>, <span style=\"color: #00af00; text-decoration-color: #00af00\">30</span>)              │         <span style=\"color: #00af00; text-decoration-color: #00af00\">1,362</span> │\n",
       "├─────────────────────────────────┼────────────────────────┼───────────────┤\n",
       "│ denormalize (<span style=\"color: #0087ff; text-decoration-color: #0087ff\">Normalization</span>)     │ (<span style=\"color: #00af00; text-decoration-color: #00af00\">100</span>, <span style=\"color: #00af00; text-decoration-color: #00af00\">30</span>)              │             <span style=\"color: #00af00; text-decoration-color: #00af00\">0</span> │\n",
       "└─────────────────────────────────┴────────────────────────┴───────────────┘\n",
       "</pre>\n"
      ],
      "text/plain": [
       "┏━━━━━━━━━━━━━━━━━━━━━━━━━━━━━━━━━┳━━━━━━━━━━━━━━━━━━━━━━━━┳━━━━━━━━━━━━━━━┓\n",
       "┃\u001b[1m \u001b[0m\u001b[1mLayer (type)                   \u001b[0m\u001b[1m \u001b[0m┃\u001b[1m \u001b[0m\u001b[1mOutput Shape          \u001b[0m\u001b[1m \u001b[0m┃\u001b[1m \u001b[0m\u001b[1m      Param #\u001b[0m\u001b[1m \u001b[0m┃\n",
       "┡━━━━━━━━━━━━━━━━━━━━━━━━━━━━━━━━━╇━━━━━━━━━━━━━━━━━━━━━━━━╇━━━━━━━━━━━━━━━┩\n",
       "│ normalization (\u001b[38;5;33mNormalization\u001b[0m)   │ (\u001b[38;5;34m100\u001b[0m, \u001b[38;5;34m30\u001b[0m)              │            \u001b[38;5;34m61\u001b[0m │\n",
       "├─────────────────────────────────┼────────────────────────┼───────────────┤\n",
       "│ autoencoder (\u001b[38;5;33mFunctional\u001b[0m)        │ (\u001b[38;5;34m100\u001b[0m, \u001b[38;5;34m30\u001b[0m)              │         \u001b[38;5;34m1,362\u001b[0m │\n",
       "├─────────────────────────────────┼────────────────────────┼───────────────┤\n",
       "│ denormalize (\u001b[38;5;33mNormalization\u001b[0m)     │ (\u001b[38;5;34m100\u001b[0m, \u001b[38;5;34m30\u001b[0m)              │             \u001b[38;5;34m0\u001b[0m │\n",
       "└─────────────────────────────────┴────────────────────────┴───────────────┘\n"
      ]
     },
     "metadata": {},
     "output_type": "display_data"
    },
    {
     "data": {
      "text/html": [
       "<pre style=\"white-space:pre;overflow-x:auto;line-height:normal;font-family:Menlo,'DejaVu Sans Mono',consolas,'Courier New',monospace\"><span style=\"font-weight: bold\"> Total params: </span><span style=\"color: #00af00; text-decoration-color: #00af00\">1,423</span> (5.56 KB)\n",
       "</pre>\n"
      ],
      "text/plain": [
       "\u001b[1m Total params: \u001b[0m\u001b[38;5;34m1,423\u001b[0m (5.56 KB)\n"
      ]
     },
     "metadata": {},
     "output_type": "display_data"
    },
    {
     "data": {
      "text/html": [
       "<pre style=\"white-space:pre;overflow-x:auto;line-height:normal;font-family:Menlo,'DejaVu Sans Mono',consolas,'Courier New',monospace\"><span style=\"font-weight: bold\"> Trainable params: </span><span style=\"color: #00af00; text-decoration-color: #00af00\">1,362</span> (5.32 KB)\n",
       "</pre>\n"
      ],
      "text/plain": [
       "\u001b[1m Trainable params: \u001b[0m\u001b[38;5;34m1,362\u001b[0m (5.32 KB)\n"
      ]
     },
     "metadata": {},
     "output_type": "display_data"
    },
    {
     "data": {
      "text/html": [
       "<pre style=\"white-space:pre;overflow-x:auto;line-height:normal;font-family:Menlo,'DejaVu Sans Mono',consolas,'Courier New',monospace\"><span style=\"font-weight: bold\"> Non-trainable params: </span><span style=\"color: #00af00; text-decoration-color: #00af00\">61</span> (244.00 B)\n",
       "</pre>\n"
      ],
      "text/plain": [
       "\u001b[1m Non-trainable params: \u001b[0m\u001b[38;5;34m61\u001b[0m (244.00 B)\n"
      ]
     },
     "metadata": {},
     "output_type": "display_data"
    }
   ],
   "source": [
    "stacked_model.summary()"
   ]
  },
  {
   "cell_type": "code",
   "execution_count": 89,
   "id": "548e5b6c-ba2f-4912-9386-4ceb03c50211",
   "metadata": {
    "tags": []
   },
   "outputs": [
    {
     "data": {
      "text/html": [
       "<pre style=\"white-space:pre;overflow-x:auto;line-height:normal;font-family:Menlo,'DejaVu Sans Mono',consolas,'Courier New',monospace\"><span style=\"font-weight: bold\">Model: \"stacked_autoencoder\"</span>\n",
       "</pre>\n"
      ],
      "text/plain": [
       "\u001b[1mModel: \"stacked_autoencoder\"\u001b[0m\n"
      ]
     },
     "metadata": {},
     "output_type": "display_data"
    },
    {
     "data": {
      "text/html": [
       "<pre style=\"white-space:pre;overflow-x:auto;line-height:normal;font-family:Menlo,'DejaVu Sans Mono',consolas,'Courier New',monospace\">┏━━━━━━━━━━━━━━━━━━━━━━━━━━━━━━━━━┳━━━━━━━━━━━━━━━━━━━━━━━━┳━━━━━━━━━━━━━━━┓\n",
       "┃<span style=\"font-weight: bold\"> Layer (type)                    </span>┃<span style=\"font-weight: bold\"> Output Shape           </span>┃<span style=\"font-weight: bold\">       Param # </span>┃\n",
       "┡━━━━━━━━━━━━━━━━━━━━━━━━━━━━━━━━━╇━━━━━━━━━━━━━━━━━━━━━━━━╇━━━━━━━━━━━━━━━┩\n",
       "│ normalization (<span style=\"color: #0087ff; text-decoration-color: #0087ff\">Normalization</span>)   │ (<span style=\"color: #00af00; text-decoration-color: #00af00\">100</span>, <span style=\"color: #00af00; text-decoration-color: #00af00\">30</span>)              │            <span style=\"color: #00af00; text-decoration-color: #00af00\">61</span> │\n",
       "├─────────────────────────────────┼────────────────────────┼───────────────┤\n",
       "│ autoencoder (<span style=\"color: #0087ff; text-decoration-color: #0087ff\">Functional</span>)        │ (<span style=\"color: #00af00; text-decoration-color: #00af00\">100</span>, <span style=\"color: #00af00; text-decoration-color: #00af00\">30</span>)              │         <span style=\"color: #00af00; text-decoration-color: #00af00\">1,362</span> │\n",
       "├─────────────────────────────────┼────────────────────────┼───────────────┤\n",
       "│    └ autoencoder_input          │ (<span style=\"color: #00d7ff; text-decoration-color: #00d7ff\">None</span>, <span style=\"color: #00af00; text-decoration-color: #00af00\">30</span>)             │             <span style=\"color: #00af00; text-decoration-color: #00af00\">0</span> │\n",
       "│ (<span style=\"color: #0087ff; text-decoration-color: #0087ff\">InputLayer</span>)                    │                        │               │\n",
       "├─────────────────────────────────┼────────────────────────┼───────────────┤\n",
       "│    └ enc_dense1 (<span style=\"color: #0087ff; text-decoration-color: #0087ff\">Dense</span>)         │ (<span style=\"color: #00d7ff; text-decoration-color: #00d7ff\">None</span>, <span style=\"color: #00af00; text-decoration-color: #00af00\">16</span>)             │           <span style=\"color: #00af00; text-decoration-color: #00af00\">496</span> │\n",
       "├─────────────────────────────────┼────────────────────────┼───────────────┤\n",
       "│    └ enc_dropout1 (<span style=\"color: #0087ff; text-decoration-color: #0087ff\">Dropout</span>)     │ (<span style=\"color: #00d7ff; text-decoration-color: #00d7ff\">None</span>, <span style=\"color: #00af00; text-decoration-color: #00af00\">16</span>)             │             <span style=\"color: #00af00; text-decoration-color: #00af00\">0</span> │\n",
       "├─────────────────────────────────┼────────────────────────┼───────────────┤\n",
       "│    └ enc_dense2 (<span style=\"color: #0087ff; text-decoration-color: #0087ff\">Dense</span>)         │ (<span style=\"color: #00d7ff; text-decoration-color: #00d7ff\">None</span>, <span style=\"color: #00af00; text-decoration-color: #00af00\">8</span>)              │           <span style=\"color: #00af00; text-decoration-color: #00af00\">136</span> │\n",
       "├─────────────────────────────────┼────────────────────────┼───────────────┤\n",
       "│    └ enc_dropout2 (<span style=\"color: #0087ff; text-decoration-color: #0087ff\">Dropout</span>)     │ (<span style=\"color: #00d7ff; text-decoration-color: #00d7ff\">None</span>, <span style=\"color: #00af00; text-decoration-color: #00af00\">8</span>)              │             <span style=\"color: #00af00; text-decoration-color: #00af00\">0</span> │\n",
       "├─────────────────────────────────┼────────────────────────┼───────────────┤\n",
       "│    └ latent (<span style=\"color: #0087ff; text-decoration-color: #0087ff\">Dense</span>)             │ (<span style=\"color: #00d7ff; text-decoration-color: #00d7ff\">None</span>, <span style=\"color: #00af00; text-decoration-color: #00af00\">4</span>)              │            <span style=\"color: #00af00; text-decoration-color: #00af00\">36</span> │\n",
       "├─────────────────────────────────┼────────────────────────┼───────────────┤\n",
       "│    └ dec_dense1 (<span style=\"color: #0087ff; text-decoration-color: #0087ff\">Dense</span>)         │ (<span style=\"color: #00d7ff; text-decoration-color: #00d7ff\">None</span>, <span style=\"color: #00af00; text-decoration-color: #00af00\">8</span>)              │            <span style=\"color: #00af00; text-decoration-color: #00af00\">40</span> │\n",
       "├─────────────────────────────────┼────────────────────────┼───────────────┤\n",
       "│    └ dec_dropout1 (<span style=\"color: #0087ff; text-decoration-color: #0087ff\">Dropout</span>)     │ (<span style=\"color: #00d7ff; text-decoration-color: #00d7ff\">None</span>, <span style=\"color: #00af00; text-decoration-color: #00af00\">8</span>)              │             <span style=\"color: #00af00; text-decoration-color: #00af00\">0</span> │\n",
       "├─────────────────────────────────┼────────────────────────┼───────────────┤\n",
       "│    └ dec_dense2 (<span style=\"color: #0087ff; text-decoration-color: #0087ff\">Dense</span>)         │ (<span style=\"color: #00d7ff; text-decoration-color: #00d7ff\">None</span>, <span style=\"color: #00af00; text-decoration-color: #00af00\">16</span>)             │           <span style=\"color: #00af00; text-decoration-color: #00af00\">144</span> │\n",
       "├─────────────────────────────────┼────────────────────────┼───────────────┤\n",
       "│    └ dec_dropout2 (<span style=\"color: #0087ff; text-decoration-color: #0087ff\">Dropout</span>)     │ (<span style=\"color: #00d7ff; text-decoration-color: #00d7ff\">None</span>, <span style=\"color: #00af00; text-decoration-color: #00af00\">16</span>)             │             <span style=\"color: #00af00; text-decoration-color: #00af00\">0</span> │\n",
       "├─────────────────────────────────┼────────────────────────┼───────────────┤\n",
       "│    └ reconstructed (<span style=\"color: #0087ff; text-decoration-color: #0087ff\">Dense</span>)      │ (<span style=\"color: #00d7ff; text-decoration-color: #00d7ff\">None</span>, <span style=\"color: #00af00; text-decoration-color: #00af00\">30</span>)             │           <span style=\"color: #00af00; text-decoration-color: #00af00\">510</span> │\n",
       "├─────────────────────────────────┼────────────────────────┼───────────────┤\n",
       "│ denormalize (<span style=\"color: #0087ff; text-decoration-color: #0087ff\">Normalization</span>)     │ (<span style=\"color: #00af00; text-decoration-color: #00af00\">100</span>, <span style=\"color: #00af00; text-decoration-color: #00af00\">30</span>)              │             <span style=\"color: #00af00; text-decoration-color: #00af00\">0</span> │\n",
       "└─────────────────────────────────┴────────────────────────┴───────────────┘\n",
       "</pre>\n"
      ],
      "text/plain": [
       "┏━━━━━━━━━━━━━━━━━━━━━━━━━━━━━━━━━┳━━━━━━━━━━━━━━━━━━━━━━━━┳━━━━━━━━━━━━━━━┓\n",
       "┃\u001b[1m \u001b[0m\u001b[1mLayer (type)                   \u001b[0m\u001b[1m \u001b[0m┃\u001b[1m \u001b[0m\u001b[1mOutput Shape          \u001b[0m\u001b[1m \u001b[0m┃\u001b[1m \u001b[0m\u001b[1m      Param #\u001b[0m\u001b[1m \u001b[0m┃\n",
       "┡━━━━━━━━━━━━━━━━━━━━━━━━━━━━━━━━━╇━━━━━━━━━━━━━━━━━━━━━━━━╇━━━━━━━━━━━━━━━┩\n",
       "│ normalization (\u001b[38;5;33mNormalization\u001b[0m)   │ (\u001b[38;5;34m100\u001b[0m, \u001b[38;5;34m30\u001b[0m)              │            \u001b[38;5;34m61\u001b[0m │\n",
       "├─────────────────────────────────┼────────────────────────┼───────────────┤\n",
       "│ autoencoder (\u001b[38;5;33mFunctional\u001b[0m)        │ (\u001b[38;5;34m100\u001b[0m, \u001b[38;5;34m30\u001b[0m)              │         \u001b[38;5;34m1,362\u001b[0m │\n",
       "├─────────────────────────────────┼────────────────────────┼───────────────┤\n",
       "│    └ autoencoder_input          │ (\u001b[38;5;45mNone\u001b[0m, \u001b[38;5;34m30\u001b[0m)             │             \u001b[38;5;34m0\u001b[0m │\n",
       "│ (\u001b[38;5;33mInputLayer\u001b[0m)                    │                        │               │\n",
       "├─────────────────────────────────┼────────────────────────┼───────────────┤\n",
       "│    └ enc_dense1 (\u001b[38;5;33mDense\u001b[0m)         │ (\u001b[38;5;45mNone\u001b[0m, \u001b[38;5;34m16\u001b[0m)             │           \u001b[38;5;34m496\u001b[0m │\n",
       "├─────────────────────────────────┼────────────────────────┼───────────────┤\n",
       "│    └ enc_dropout1 (\u001b[38;5;33mDropout\u001b[0m)     │ (\u001b[38;5;45mNone\u001b[0m, \u001b[38;5;34m16\u001b[0m)             │             \u001b[38;5;34m0\u001b[0m │\n",
       "├─────────────────────────────────┼────────────────────────┼───────────────┤\n",
       "│    └ enc_dense2 (\u001b[38;5;33mDense\u001b[0m)         │ (\u001b[38;5;45mNone\u001b[0m, \u001b[38;5;34m8\u001b[0m)              │           \u001b[38;5;34m136\u001b[0m │\n",
       "├─────────────────────────────────┼────────────────────────┼───────────────┤\n",
       "│    └ enc_dropout2 (\u001b[38;5;33mDropout\u001b[0m)     │ (\u001b[38;5;45mNone\u001b[0m, \u001b[38;5;34m8\u001b[0m)              │             \u001b[38;5;34m0\u001b[0m │\n",
       "├─────────────────────────────────┼────────────────────────┼───────────────┤\n",
       "│    └ latent (\u001b[38;5;33mDense\u001b[0m)             │ (\u001b[38;5;45mNone\u001b[0m, \u001b[38;5;34m4\u001b[0m)              │            \u001b[38;5;34m36\u001b[0m │\n",
       "├─────────────────────────────────┼────────────────────────┼───────────────┤\n",
       "│    └ dec_dense1 (\u001b[38;5;33mDense\u001b[0m)         │ (\u001b[38;5;45mNone\u001b[0m, \u001b[38;5;34m8\u001b[0m)              │            \u001b[38;5;34m40\u001b[0m │\n",
       "├─────────────────────────────────┼────────────────────────┼───────────────┤\n",
       "│    └ dec_dropout1 (\u001b[38;5;33mDropout\u001b[0m)     │ (\u001b[38;5;45mNone\u001b[0m, \u001b[38;5;34m8\u001b[0m)              │             \u001b[38;5;34m0\u001b[0m │\n",
       "├─────────────────────────────────┼────────────────────────┼───────────────┤\n",
       "│    └ dec_dense2 (\u001b[38;5;33mDense\u001b[0m)         │ (\u001b[38;5;45mNone\u001b[0m, \u001b[38;5;34m16\u001b[0m)             │           \u001b[38;5;34m144\u001b[0m │\n",
       "├─────────────────────────────────┼────────────────────────┼───────────────┤\n",
       "│    └ dec_dropout2 (\u001b[38;5;33mDropout\u001b[0m)     │ (\u001b[38;5;45mNone\u001b[0m, \u001b[38;5;34m16\u001b[0m)             │             \u001b[38;5;34m0\u001b[0m │\n",
       "├─────────────────────────────────┼────────────────────────┼───────────────┤\n",
       "│    └ reconstructed (\u001b[38;5;33mDense\u001b[0m)      │ (\u001b[38;5;45mNone\u001b[0m, \u001b[38;5;34m30\u001b[0m)             │           \u001b[38;5;34m510\u001b[0m │\n",
       "├─────────────────────────────────┼────────────────────────┼───────────────┤\n",
       "│ denormalize (\u001b[38;5;33mNormalization\u001b[0m)     │ (\u001b[38;5;34m100\u001b[0m, \u001b[38;5;34m30\u001b[0m)              │             \u001b[38;5;34m0\u001b[0m │\n",
       "└─────────────────────────────────┴────────────────────────┴───────────────┘\n"
      ]
     },
     "metadata": {},
     "output_type": "display_data"
    },
    {
     "data": {
      "text/html": [
       "<pre style=\"white-space:pre;overflow-x:auto;line-height:normal;font-family:Menlo,'DejaVu Sans Mono',consolas,'Courier New',monospace\"><span style=\"font-weight: bold\"> Total params: </span><span style=\"color: #00af00; text-decoration-color: #00af00\">1,423</span> (5.56 KB)\n",
       "</pre>\n"
      ],
      "text/plain": [
       "\u001b[1m Total params: \u001b[0m\u001b[38;5;34m1,423\u001b[0m (5.56 KB)\n"
      ]
     },
     "metadata": {},
     "output_type": "display_data"
    },
    {
     "data": {
      "text/html": [
       "<pre style=\"white-space:pre;overflow-x:auto;line-height:normal;font-family:Menlo,'DejaVu Sans Mono',consolas,'Courier New',monospace\"><span style=\"font-weight: bold\"> Trainable params: </span><span style=\"color: #00af00; text-decoration-color: #00af00\">1,362</span> (5.32 KB)\n",
       "</pre>\n"
      ],
      "text/plain": [
       "\u001b[1m Trainable params: \u001b[0m\u001b[38;5;34m1,362\u001b[0m (5.32 KB)\n"
      ]
     },
     "metadata": {},
     "output_type": "display_data"
    },
    {
     "data": {
      "text/html": [
       "<pre style=\"white-space:pre;overflow-x:auto;line-height:normal;font-family:Menlo,'DejaVu Sans Mono',consolas,'Courier New',monospace\"><span style=\"font-weight: bold\"> Non-trainable params: </span><span style=\"color: #00af00; text-decoration-color: #00af00\">61</span> (244.00 B)\n",
       "</pre>\n"
      ],
      "text/plain": [
       "\u001b[1m Non-trainable params: \u001b[0m\u001b[38;5;34m61\u001b[0m (244.00 B)\n"
      ]
     },
     "metadata": {},
     "output_type": "display_data"
    }
   ],
   "source": [
    "stacked_model.summary(expand_nested=True)"
   ]
  },
  {
   "cell_type": "markdown",
   "id": "b544b88f-e50b-4327-9809-beb50241da07",
   "metadata": {},
   "source": [
    "### Model Built From Models - Combining Models and Customizing Outputs\n",
    "\n",
    "More than stacking, also output reconstructed data in both the normalized and denormalized (original units) form:"
   ]
  },
  {
   "cell_type": "code",
   "execution_count": 90,
   "id": "ca8caf98-8b9d-4083-a937-d597f562cd98",
   "metadata": {
    "tags": []
   },
   "outputs": [],
   "source": [
    "input_layer = keras.Input(shape=(autoencoder.input.shape[1],), name=\"serving_input\")\n",
    "normalized_input = normalizer(input_layer)\n",
    "latent_output = encoder_model(normalized_input)\n",
    "reconstructed_raw = autoencoder(normalized_input)\n",
    "multiple_outputs = {\n",
    "    'normalized': reconstructed_raw,  # Output directly from autoencoder\n",
    "    'denormalized': denormalizer(reconstructed_raw),  # Apply denormalization\n",
    "    'encoded': latent_output\n",
    "}\n",
    "stacked_autoencoder = keras.Model(inputs = input_layer, outputs = multiple_outputs, name=\"stacked_autoencoder\")"
   ]
  },
  {
   "cell_type": "markdown",
   "id": "11775ed7-dd6a-4d21-8abc-5acf1161fc54",
   "metadata": {},
   "source": [
    "#### Review The Model"
   ]
  },
  {
   "cell_type": "code",
   "execution_count": 91,
   "id": "a6e93911-136e-459b-94f4-917ee3281c00",
   "metadata": {
    "tags": []
   },
   "outputs": [
    {
     "data": {
      "text/html": [
       "<pre style=\"white-space:pre;overflow-x:auto;line-height:normal;font-family:Menlo,'DejaVu Sans Mono',consolas,'Courier New',monospace\"><span style=\"font-weight: bold\">Model: \"stacked_autoencoder\"</span>\n",
       "</pre>\n"
      ],
      "text/plain": [
       "\u001b[1mModel: \"stacked_autoencoder\"\u001b[0m\n"
      ]
     },
     "metadata": {},
     "output_type": "display_data"
    },
    {
     "data": {
      "text/html": [
       "<pre style=\"white-space:pre;overflow-x:auto;line-height:normal;font-family:Menlo,'DejaVu Sans Mono',consolas,'Courier New',monospace\">┏━━━━━━━━━━━━━━━━━━━━━┳━━━━━━━━━━━━━━━━━━━┳━━━━━━━━━━━━┳━━━━━━━━━━━━━━━━━━━┓\n",
       "┃<span style=\"font-weight: bold\"> Layer (type)        </span>┃<span style=\"font-weight: bold\"> Output Shape      </span>┃<span style=\"font-weight: bold\">    Param # </span>┃<span style=\"font-weight: bold\"> Connected to      </span>┃\n",
       "┡━━━━━━━━━━━━━━━━━━━━━╇━━━━━━━━━━━━━━━━━━━╇━━━━━━━━━━━━╇━━━━━━━━━━━━━━━━━━━┩\n",
       "│ serving_input       │ (<span style=\"color: #00d7ff; text-decoration-color: #00d7ff\">None</span>, <span style=\"color: #00af00; text-decoration-color: #00af00\">30</span>)        │          <span style=\"color: #00af00; text-decoration-color: #00af00\">0</span> │ -                 │\n",
       "│ (<span style=\"color: #0087ff; text-decoration-color: #0087ff\">InputLayer</span>)        │                   │            │                   │\n",
       "├─────────────────────┼───────────────────┼────────────┼───────────────────┤\n",
       "│ normalization       │ (<span style=\"color: #00d7ff; text-decoration-color: #00d7ff\">None</span>, <span style=\"color: #00af00; text-decoration-color: #00af00\">30</span>)        │         <span style=\"color: #00af00; text-decoration-color: #00af00\">61</span> │ serving_input[<span style=\"color: #00af00; text-decoration-color: #00af00\">0</span>]… │\n",
       "│ (<span style=\"color: #0087ff; text-decoration-color: #0087ff\">Normalization</span>)     │                   │            │                   │\n",
       "├─────────────────────┼───────────────────┼────────────┼───────────────────┤\n",
       "│ autoencoder         │ (<span style=\"color: #00d7ff; text-decoration-color: #00d7ff\">None</span>, <span style=\"color: #00af00; text-decoration-color: #00af00\">30</span>)        │      <span style=\"color: #00af00; text-decoration-color: #00af00\">1,362</span> │ normalization[<span style=\"color: #00af00; text-decoration-color: #00af00\">1</span>]… │\n",
       "│ (<span style=\"color: #0087ff; text-decoration-color: #0087ff\">Functional</span>)        │                   │            │                   │\n",
       "├─────────────────────┼───────────────────┼────────────┼───────────────────┤\n",
       "│ denormalize         │ (<span style=\"color: #00d7ff; text-decoration-color: #00d7ff\">None</span>, <span style=\"color: #00af00; text-decoration-color: #00af00\">30</span>)        │          <span style=\"color: #00af00; text-decoration-color: #00af00\">0</span> │ autoencoder[<span style=\"color: #00af00; text-decoration-color: #00af00\">1</span>][<span style=\"color: #00af00; text-decoration-color: #00af00\">0</span>] │\n",
       "│ (<span style=\"color: #0087ff; text-decoration-color: #0087ff\">Normalization</span>)     │                   │            │                   │\n",
       "├─────────────────────┼───────────────────┼────────────┼───────────────────┤\n",
       "│ encoder             │ (<span style=\"color: #00d7ff; text-decoration-color: #00d7ff\">None</span>, <span style=\"color: #00af00; text-decoration-color: #00af00\">4</span>)         │        <span style=\"color: #00af00; text-decoration-color: #00af00\">668</span> │ normalization[<span style=\"color: #00af00; text-decoration-color: #00af00\">1</span>]… │\n",
       "│ (<span style=\"color: #0087ff; text-decoration-color: #0087ff\">Functional</span>)        │                   │            │                   │\n",
       "└─────────────────────┴───────────────────┴────────────┴───────────────────┘\n",
       "</pre>\n"
      ],
      "text/plain": [
       "┏━━━━━━━━━━━━━━━━━━━━━┳━━━━━━━━━━━━━━━━━━━┳━━━━━━━━━━━━┳━━━━━━━━━━━━━━━━━━━┓\n",
       "┃\u001b[1m \u001b[0m\u001b[1mLayer (type)       \u001b[0m\u001b[1m \u001b[0m┃\u001b[1m \u001b[0m\u001b[1mOutput Shape     \u001b[0m\u001b[1m \u001b[0m┃\u001b[1m \u001b[0m\u001b[1m   Param #\u001b[0m\u001b[1m \u001b[0m┃\u001b[1m \u001b[0m\u001b[1mConnected to     \u001b[0m\u001b[1m \u001b[0m┃\n",
       "┡━━━━━━━━━━━━━━━━━━━━━╇━━━━━━━━━━━━━━━━━━━╇━━━━━━━━━━━━╇━━━━━━━━━━━━━━━━━━━┩\n",
       "│ serving_input       │ (\u001b[38;5;45mNone\u001b[0m, \u001b[38;5;34m30\u001b[0m)        │          \u001b[38;5;34m0\u001b[0m │ -                 │\n",
       "│ (\u001b[38;5;33mInputLayer\u001b[0m)        │                   │            │                   │\n",
       "├─────────────────────┼───────────────────┼────────────┼───────────────────┤\n",
       "│ normalization       │ (\u001b[38;5;45mNone\u001b[0m, \u001b[38;5;34m30\u001b[0m)        │         \u001b[38;5;34m61\u001b[0m │ serving_input[\u001b[38;5;34m0\u001b[0m]… │\n",
       "│ (\u001b[38;5;33mNormalization\u001b[0m)     │                   │            │                   │\n",
       "├─────────────────────┼───────────────────┼────────────┼───────────────────┤\n",
       "│ autoencoder         │ (\u001b[38;5;45mNone\u001b[0m, \u001b[38;5;34m30\u001b[0m)        │      \u001b[38;5;34m1,362\u001b[0m │ normalization[\u001b[38;5;34m1\u001b[0m]… │\n",
       "│ (\u001b[38;5;33mFunctional\u001b[0m)        │                   │            │                   │\n",
       "├─────────────────────┼───────────────────┼────────────┼───────────────────┤\n",
       "│ denormalize         │ (\u001b[38;5;45mNone\u001b[0m, \u001b[38;5;34m30\u001b[0m)        │          \u001b[38;5;34m0\u001b[0m │ autoencoder[\u001b[38;5;34m1\u001b[0m][\u001b[38;5;34m0\u001b[0m] │\n",
       "│ (\u001b[38;5;33mNormalization\u001b[0m)     │                   │            │                   │\n",
       "├─────────────────────┼───────────────────┼────────────┼───────────────────┤\n",
       "│ encoder             │ (\u001b[38;5;45mNone\u001b[0m, \u001b[38;5;34m4\u001b[0m)         │        \u001b[38;5;34m668\u001b[0m │ normalization[\u001b[38;5;34m1\u001b[0m]… │\n",
       "│ (\u001b[38;5;33mFunctional\u001b[0m)        │                   │            │                   │\n",
       "└─────────────────────┴───────────────────┴────────────┴───────────────────┘\n"
      ]
     },
     "metadata": {},
     "output_type": "display_data"
    },
    {
     "data": {
      "text/html": [
       "<pre style=\"white-space:pre;overflow-x:auto;line-height:normal;font-family:Menlo,'DejaVu Sans Mono',consolas,'Courier New',monospace\"><span style=\"font-weight: bold\"> Total params: </span><span style=\"color: #00af00; text-decoration-color: #00af00\">1,423</span> (5.56 KB)\n",
       "</pre>\n"
      ],
      "text/plain": [
       "\u001b[1m Total params: \u001b[0m\u001b[38;5;34m1,423\u001b[0m (5.56 KB)\n"
      ]
     },
     "metadata": {},
     "output_type": "display_data"
    },
    {
     "data": {
      "text/html": [
       "<pre style=\"white-space:pre;overflow-x:auto;line-height:normal;font-family:Menlo,'DejaVu Sans Mono',consolas,'Courier New',monospace\"><span style=\"font-weight: bold\"> Trainable params: </span><span style=\"color: #00af00; text-decoration-color: #00af00\">1,362</span> (5.32 KB)\n",
       "</pre>\n"
      ],
      "text/plain": [
       "\u001b[1m Trainable params: \u001b[0m\u001b[38;5;34m1,362\u001b[0m (5.32 KB)\n"
      ]
     },
     "metadata": {},
     "output_type": "display_data"
    },
    {
     "data": {
      "text/html": [
       "<pre style=\"white-space:pre;overflow-x:auto;line-height:normal;font-family:Menlo,'DejaVu Sans Mono',consolas,'Courier New',monospace\"><span style=\"font-weight: bold\"> Non-trainable params: </span><span style=\"color: #00af00; text-decoration-color: #00af00\">61</span> (244.00 B)\n",
       "</pre>\n"
      ],
      "text/plain": [
       "\u001b[1m Non-trainable params: \u001b[0m\u001b[38;5;34m61\u001b[0m (244.00 B)\n"
      ]
     },
     "metadata": {},
     "output_type": "display_data"
    }
   ],
   "source": [
    "stacked_autoencoder.summary()"
   ]
  },
  {
   "cell_type": "code",
   "execution_count": 92,
   "id": "58eee1b8-f560-4e70-a91b-0aab2412c405",
   "metadata": {
    "tags": []
   },
   "outputs": [
    {
     "data": {
      "text/html": [
       "<pre style=\"white-space:pre;overflow-x:auto;line-height:normal;font-family:Menlo,'DejaVu Sans Mono',consolas,'Courier New',monospace\"><span style=\"font-weight: bold\">Model: \"stacked_autoencoder\"</span>\n",
       "</pre>\n"
      ],
      "text/plain": [
       "\u001b[1mModel: \"stacked_autoencoder\"\u001b[0m\n"
      ]
     },
     "metadata": {},
     "output_type": "display_data"
    },
    {
     "data": {
      "text/html": [
       "<pre style=\"white-space:pre;overflow-x:auto;line-height:normal;font-family:Menlo,'DejaVu Sans Mono',consolas,'Courier New',monospace\">┏━━━━━━━━━━━━━━━━━━━━━┳━━━━━━━━━━━━━━━━━━━┳━━━━━━━━━━━━┳━━━━━━━━━━━━━━━━━━━┓\n",
       "┃<span style=\"font-weight: bold\"> Layer (type)        </span>┃<span style=\"font-weight: bold\"> Output Shape      </span>┃<span style=\"font-weight: bold\">    Param # </span>┃<span style=\"font-weight: bold\"> Connected to      </span>┃\n",
       "┡━━━━━━━━━━━━━━━━━━━━━╇━━━━━━━━━━━━━━━━━━━╇━━━━━━━━━━━━╇━━━━━━━━━━━━━━━━━━━┩\n",
       "│ serving_input       │ (<span style=\"color: #00d7ff; text-decoration-color: #00d7ff\">None</span>, <span style=\"color: #00af00; text-decoration-color: #00af00\">30</span>)        │          <span style=\"color: #00af00; text-decoration-color: #00af00\">0</span> │ -                 │\n",
       "│ (<span style=\"color: #0087ff; text-decoration-color: #0087ff\">InputLayer</span>)        │                   │            │                   │\n",
       "├─────────────────────┼───────────────────┼────────────┼───────────────────┤\n",
       "│ normalization       │ (<span style=\"color: #00d7ff; text-decoration-color: #00d7ff\">None</span>, <span style=\"color: #00af00; text-decoration-color: #00af00\">30</span>)        │         <span style=\"color: #00af00; text-decoration-color: #00af00\">61</span> │ serving_input[<span style=\"color: #00af00; text-decoration-color: #00af00\">0</span>]… │\n",
       "│ (<span style=\"color: #0087ff; text-decoration-color: #0087ff\">Normalization</span>)     │                   │            │                   │\n",
       "├─────────────────────┼───────────────────┼────────────┼───────────────────┤\n",
       "│ autoencoder         │ (<span style=\"color: #00d7ff; text-decoration-color: #00d7ff\">None</span>, <span style=\"color: #00af00; text-decoration-color: #00af00\">30</span>)        │      <span style=\"color: #00af00; text-decoration-color: #00af00\">1,362</span> │ normalization[<span style=\"color: #00af00; text-decoration-color: #00af00\">1</span>]… │\n",
       "│ (<span style=\"color: #0087ff; text-decoration-color: #0087ff\">Functional</span>)        │                   │            │                   │\n",
       "├─────────────────────┼───────────────────┼────────────┼───────────────────┤\n",
       "│    └                │ (<span style=\"color: #00d7ff; text-decoration-color: #00d7ff\">None</span>, <span style=\"color: #00af00; text-decoration-color: #00af00\">30</span>)        │          <span style=\"color: #00af00; text-decoration-color: #00af00\">0</span> │ -                 │\n",
       "│ autoencoder_input   │                   │            │                   │\n",
       "│ (<span style=\"color: #0087ff; text-decoration-color: #0087ff\">InputLayer</span>)        │                   │            │                   │\n",
       "├─────────────────────┼───────────────────┼────────────┼───────────────────┤\n",
       "│    └ enc_dense1     │ (<span style=\"color: #00d7ff; text-decoration-color: #00d7ff\">None</span>, <span style=\"color: #00af00; text-decoration-color: #00af00\">16</span>)        │        <span style=\"color: #00af00; text-decoration-color: #00af00\">496</span> │ -                 │\n",
       "│ (<span style=\"color: #0087ff; text-decoration-color: #0087ff\">Dense</span>)             │                   │            │                   │\n",
       "├─────────────────────┼───────────────────┼────────────┼───────────────────┤\n",
       "│    └ enc_dropout1   │ (<span style=\"color: #00d7ff; text-decoration-color: #00d7ff\">None</span>, <span style=\"color: #00af00; text-decoration-color: #00af00\">16</span>)        │          <span style=\"color: #00af00; text-decoration-color: #00af00\">0</span> │ -                 │\n",
       "│ (<span style=\"color: #0087ff; text-decoration-color: #0087ff\">Dropout</span>)           │                   │            │                   │\n",
       "├─────────────────────┼───────────────────┼────────────┼───────────────────┤\n",
       "│    └ enc_dense2     │ (<span style=\"color: #00d7ff; text-decoration-color: #00d7ff\">None</span>, <span style=\"color: #00af00; text-decoration-color: #00af00\">8</span>)         │        <span style=\"color: #00af00; text-decoration-color: #00af00\">136</span> │ -                 │\n",
       "│ (<span style=\"color: #0087ff; text-decoration-color: #0087ff\">Dense</span>)             │                   │            │                   │\n",
       "├─────────────────────┼───────────────────┼────────────┼───────────────────┤\n",
       "│    └ enc_dropout2   │ (<span style=\"color: #00d7ff; text-decoration-color: #00d7ff\">None</span>, <span style=\"color: #00af00; text-decoration-color: #00af00\">8</span>)         │          <span style=\"color: #00af00; text-decoration-color: #00af00\">0</span> │ -                 │\n",
       "│ (<span style=\"color: #0087ff; text-decoration-color: #0087ff\">Dropout</span>)           │                   │            │                   │\n",
       "├─────────────────────┼───────────────────┼────────────┼───────────────────┤\n",
       "│    └ latent (<span style=\"color: #0087ff; text-decoration-color: #0087ff\">Dense</span>) │ (<span style=\"color: #00d7ff; text-decoration-color: #00d7ff\">None</span>, <span style=\"color: #00af00; text-decoration-color: #00af00\">4</span>)         │         <span style=\"color: #00af00; text-decoration-color: #00af00\">36</span> │ -                 │\n",
       "├─────────────────────┼───────────────────┼────────────┼───────────────────┤\n",
       "│    └ dec_dense1     │ (<span style=\"color: #00d7ff; text-decoration-color: #00d7ff\">None</span>, <span style=\"color: #00af00; text-decoration-color: #00af00\">8</span>)         │         <span style=\"color: #00af00; text-decoration-color: #00af00\">40</span> │ -                 │\n",
       "│ (<span style=\"color: #0087ff; text-decoration-color: #0087ff\">Dense</span>)             │                   │            │                   │\n",
       "├─────────────────────┼───────────────────┼────────────┼───────────────────┤\n",
       "│    └ dec_dropout1   │ (<span style=\"color: #00d7ff; text-decoration-color: #00d7ff\">None</span>, <span style=\"color: #00af00; text-decoration-color: #00af00\">8</span>)         │          <span style=\"color: #00af00; text-decoration-color: #00af00\">0</span> │ -                 │\n",
       "│ (<span style=\"color: #0087ff; text-decoration-color: #0087ff\">Dropout</span>)           │                   │            │                   │\n",
       "├─────────────────────┼───────────────────┼────────────┼───────────────────┤\n",
       "│    └ dec_dense2     │ (<span style=\"color: #00d7ff; text-decoration-color: #00d7ff\">None</span>, <span style=\"color: #00af00; text-decoration-color: #00af00\">16</span>)        │        <span style=\"color: #00af00; text-decoration-color: #00af00\">144</span> │ -                 │\n",
       "│ (<span style=\"color: #0087ff; text-decoration-color: #0087ff\">Dense</span>)             │                   │            │                   │\n",
       "├─────────────────────┼───────────────────┼────────────┼───────────────────┤\n",
       "│    └ dec_dropout2   │ (<span style=\"color: #00d7ff; text-decoration-color: #00d7ff\">None</span>, <span style=\"color: #00af00; text-decoration-color: #00af00\">16</span>)        │          <span style=\"color: #00af00; text-decoration-color: #00af00\">0</span> │ -                 │\n",
       "│ (<span style=\"color: #0087ff; text-decoration-color: #0087ff\">Dropout</span>)           │                   │            │                   │\n",
       "├─────────────────────┼───────────────────┼────────────┼───────────────────┤\n",
       "│    └ reconstructed  │ (<span style=\"color: #00d7ff; text-decoration-color: #00d7ff\">None</span>, <span style=\"color: #00af00; text-decoration-color: #00af00\">30</span>)        │        <span style=\"color: #00af00; text-decoration-color: #00af00\">510</span> │ -                 │\n",
       "│ (<span style=\"color: #0087ff; text-decoration-color: #0087ff\">Dense</span>)             │                   │            │                   │\n",
       "├─────────────────────┼───────────────────┼────────────┼───────────────────┤\n",
       "│ denormalize         │ (<span style=\"color: #00d7ff; text-decoration-color: #00d7ff\">None</span>, <span style=\"color: #00af00; text-decoration-color: #00af00\">30</span>)        │          <span style=\"color: #00af00; text-decoration-color: #00af00\">0</span> │ autoencoder[<span style=\"color: #00af00; text-decoration-color: #00af00\">1</span>][<span style=\"color: #00af00; text-decoration-color: #00af00\">0</span>] │\n",
       "│ (<span style=\"color: #0087ff; text-decoration-color: #0087ff\">Normalization</span>)     │                   │            │                   │\n",
       "├─────────────────────┼───────────────────┼────────────┼───────────────────┤\n",
       "│ encoder             │ (<span style=\"color: #00d7ff; text-decoration-color: #00d7ff\">None</span>, <span style=\"color: #00af00; text-decoration-color: #00af00\">4</span>)         │        <span style=\"color: #00af00; text-decoration-color: #00af00\">668</span> │ normalization[<span style=\"color: #00af00; text-decoration-color: #00af00\">1</span>]… │\n",
       "│ (<span style=\"color: #0087ff; text-decoration-color: #0087ff\">Functional</span>)        │                   │            │                   │\n",
       "├─────────────────────┼───────────────────┼────────────┼───────────────────┤\n",
       "│    └                │ (<span style=\"color: #00d7ff; text-decoration-color: #00d7ff\">None</span>, <span style=\"color: #00af00; text-decoration-color: #00af00\">30</span>)        │          <span style=\"color: #00af00; text-decoration-color: #00af00\">0</span> │ -                 │\n",
       "│ autoencoder_input   │                   │            │                   │\n",
       "│ (<span style=\"color: #0087ff; text-decoration-color: #0087ff\">InputLayer</span>)        │                   │            │                   │\n",
       "├─────────────────────┼───────────────────┼────────────┼───────────────────┤\n",
       "│    └ enc_dense1     │ (<span style=\"color: #00d7ff; text-decoration-color: #00d7ff\">None</span>, <span style=\"color: #00af00; text-decoration-color: #00af00\">16</span>)        │        <span style=\"color: #00af00; text-decoration-color: #00af00\">496</span> │ -                 │\n",
       "│ (<span style=\"color: #0087ff; text-decoration-color: #0087ff\">Dense</span>)             │                   │            │                   │\n",
       "├─────────────────────┼───────────────────┼────────────┼───────────────────┤\n",
       "│    └ enc_dropout1   │ (<span style=\"color: #00d7ff; text-decoration-color: #00d7ff\">None</span>, <span style=\"color: #00af00; text-decoration-color: #00af00\">16</span>)        │          <span style=\"color: #00af00; text-decoration-color: #00af00\">0</span> │ -                 │\n",
       "│ (<span style=\"color: #0087ff; text-decoration-color: #0087ff\">Dropout</span>)           │                   │            │                   │\n",
       "├─────────────────────┼───────────────────┼────────────┼───────────────────┤\n",
       "│    └ enc_dense2     │ (<span style=\"color: #00d7ff; text-decoration-color: #00d7ff\">None</span>, <span style=\"color: #00af00; text-decoration-color: #00af00\">8</span>)         │        <span style=\"color: #00af00; text-decoration-color: #00af00\">136</span> │ -                 │\n",
       "│ (<span style=\"color: #0087ff; text-decoration-color: #0087ff\">Dense</span>)             │                   │            │                   │\n",
       "├─────────────────────┼───────────────────┼────────────┼───────────────────┤\n",
       "│    └ enc_dropout2   │ (<span style=\"color: #00d7ff; text-decoration-color: #00d7ff\">None</span>, <span style=\"color: #00af00; text-decoration-color: #00af00\">8</span>)         │          <span style=\"color: #00af00; text-decoration-color: #00af00\">0</span> │ -                 │\n",
       "│ (<span style=\"color: #0087ff; text-decoration-color: #0087ff\">Dropout</span>)           │                   │            │                   │\n",
       "├─────────────────────┼───────────────────┼────────────┼───────────────────┤\n",
       "│    └ latent (<span style=\"color: #0087ff; text-decoration-color: #0087ff\">Dense</span>) │ (<span style=\"color: #00d7ff; text-decoration-color: #00d7ff\">None</span>, <span style=\"color: #00af00; text-decoration-color: #00af00\">4</span>)         │         <span style=\"color: #00af00; text-decoration-color: #00af00\">36</span> │ -                 │\n",
       "└─────────────────────┴───────────────────┴────────────┴───────────────────┘\n",
       "</pre>\n"
      ],
      "text/plain": [
       "┏━━━━━━━━━━━━━━━━━━━━━┳━━━━━━━━━━━━━━━━━━━┳━━━━━━━━━━━━┳━━━━━━━━━━━━━━━━━━━┓\n",
       "┃\u001b[1m \u001b[0m\u001b[1mLayer (type)       \u001b[0m\u001b[1m \u001b[0m┃\u001b[1m \u001b[0m\u001b[1mOutput Shape     \u001b[0m\u001b[1m \u001b[0m┃\u001b[1m \u001b[0m\u001b[1m   Param #\u001b[0m\u001b[1m \u001b[0m┃\u001b[1m \u001b[0m\u001b[1mConnected to     \u001b[0m\u001b[1m \u001b[0m┃\n",
       "┡━━━━━━━━━━━━━━━━━━━━━╇━━━━━━━━━━━━━━━━━━━╇━━━━━━━━━━━━╇━━━━━━━━━━━━━━━━━━━┩\n",
       "│ serving_input       │ (\u001b[38;5;45mNone\u001b[0m, \u001b[38;5;34m30\u001b[0m)        │          \u001b[38;5;34m0\u001b[0m │ -                 │\n",
       "│ (\u001b[38;5;33mInputLayer\u001b[0m)        │                   │            │                   │\n",
       "├─────────────────────┼───────────────────┼────────────┼───────────────────┤\n",
       "│ normalization       │ (\u001b[38;5;45mNone\u001b[0m, \u001b[38;5;34m30\u001b[0m)        │         \u001b[38;5;34m61\u001b[0m │ serving_input[\u001b[38;5;34m0\u001b[0m]… │\n",
       "│ (\u001b[38;5;33mNormalization\u001b[0m)     │                   │            │                   │\n",
       "├─────────────────────┼───────────────────┼────────────┼───────────────────┤\n",
       "│ autoencoder         │ (\u001b[38;5;45mNone\u001b[0m, \u001b[38;5;34m30\u001b[0m)        │      \u001b[38;5;34m1,362\u001b[0m │ normalization[\u001b[38;5;34m1\u001b[0m]… │\n",
       "│ (\u001b[38;5;33mFunctional\u001b[0m)        │                   │            │                   │\n",
       "├─────────────────────┼───────────────────┼────────────┼───────────────────┤\n",
       "│    └                │ (\u001b[38;5;45mNone\u001b[0m, \u001b[38;5;34m30\u001b[0m)        │          \u001b[38;5;34m0\u001b[0m │ -                 │\n",
       "│ autoencoder_input   │                   │            │                   │\n",
       "│ (\u001b[38;5;33mInputLayer\u001b[0m)        │                   │            │                   │\n",
       "├─────────────────────┼───────────────────┼────────────┼───────────────────┤\n",
       "│    └ enc_dense1     │ (\u001b[38;5;45mNone\u001b[0m, \u001b[38;5;34m16\u001b[0m)        │        \u001b[38;5;34m496\u001b[0m │ -                 │\n",
       "│ (\u001b[38;5;33mDense\u001b[0m)             │                   │            │                   │\n",
       "├─────────────────────┼───────────────────┼────────────┼───────────────────┤\n",
       "│    └ enc_dropout1   │ (\u001b[38;5;45mNone\u001b[0m, \u001b[38;5;34m16\u001b[0m)        │          \u001b[38;5;34m0\u001b[0m │ -                 │\n",
       "│ (\u001b[38;5;33mDropout\u001b[0m)           │                   │            │                   │\n",
       "├─────────────────────┼───────────────────┼────────────┼───────────────────┤\n",
       "│    └ enc_dense2     │ (\u001b[38;5;45mNone\u001b[0m, \u001b[38;5;34m8\u001b[0m)         │        \u001b[38;5;34m136\u001b[0m │ -                 │\n",
       "│ (\u001b[38;5;33mDense\u001b[0m)             │                   │            │                   │\n",
       "├─────────────────────┼───────────────────┼────────────┼───────────────────┤\n",
       "│    └ enc_dropout2   │ (\u001b[38;5;45mNone\u001b[0m, \u001b[38;5;34m8\u001b[0m)         │          \u001b[38;5;34m0\u001b[0m │ -                 │\n",
       "│ (\u001b[38;5;33mDropout\u001b[0m)           │                   │            │                   │\n",
       "├─────────────────────┼───────────────────┼────────────┼───────────────────┤\n",
       "│    └ latent (\u001b[38;5;33mDense\u001b[0m) │ (\u001b[38;5;45mNone\u001b[0m, \u001b[38;5;34m4\u001b[0m)         │         \u001b[38;5;34m36\u001b[0m │ -                 │\n",
       "├─────────────────────┼───────────────────┼────────────┼───────────────────┤\n",
       "│    └ dec_dense1     │ (\u001b[38;5;45mNone\u001b[0m, \u001b[38;5;34m8\u001b[0m)         │         \u001b[38;5;34m40\u001b[0m │ -                 │\n",
       "│ (\u001b[38;5;33mDense\u001b[0m)             │                   │            │                   │\n",
       "├─────────────────────┼───────────────────┼────────────┼───────────────────┤\n",
       "│    └ dec_dropout1   │ (\u001b[38;5;45mNone\u001b[0m, \u001b[38;5;34m8\u001b[0m)         │          \u001b[38;5;34m0\u001b[0m │ -                 │\n",
       "│ (\u001b[38;5;33mDropout\u001b[0m)           │                   │            │                   │\n",
       "├─────────────────────┼───────────────────┼────────────┼───────────────────┤\n",
       "│    └ dec_dense2     │ (\u001b[38;5;45mNone\u001b[0m, \u001b[38;5;34m16\u001b[0m)        │        \u001b[38;5;34m144\u001b[0m │ -                 │\n",
       "│ (\u001b[38;5;33mDense\u001b[0m)             │                   │            │                   │\n",
       "├─────────────────────┼───────────────────┼────────────┼───────────────────┤\n",
       "│    └ dec_dropout2   │ (\u001b[38;5;45mNone\u001b[0m, \u001b[38;5;34m16\u001b[0m)        │          \u001b[38;5;34m0\u001b[0m │ -                 │\n",
       "│ (\u001b[38;5;33mDropout\u001b[0m)           │                   │            │                   │\n",
       "├─────────────────────┼───────────────────┼────────────┼───────────────────┤\n",
       "│    └ reconstructed  │ (\u001b[38;5;45mNone\u001b[0m, \u001b[38;5;34m30\u001b[0m)        │        \u001b[38;5;34m510\u001b[0m │ -                 │\n",
       "│ (\u001b[38;5;33mDense\u001b[0m)             │                   │            │                   │\n",
       "├─────────────────────┼───────────────────┼────────────┼───────────────────┤\n",
       "│ denormalize         │ (\u001b[38;5;45mNone\u001b[0m, \u001b[38;5;34m30\u001b[0m)        │          \u001b[38;5;34m0\u001b[0m │ autoencoder[\u001b[38;5;34m1\u001b[0m][\u001b[38;5;34m0\u001b[0m] │\n",
       "│ (\u001b[38;5;33mNormalization\u001b[0m)     │                   │            │                   │\n",
       "├─────────────────────┼───────────────────┼────────────┼───────────────────┤\n",
       "│ encoder             │ (\u001b[38;5;45mNone\u001b[0m, \u001b[38;5;34m4\u001b[0m)         │        \u001b[38;5;34m668\u001b[0m │ normalization[\u001b[38;5;34m1\u001b[0m]… │\n",
       "│ (\u001b[38;5;33mFunctional\u001b[0m)        │                   │            │                   │\n",
       "├─────────────────────┼───────────────────┼────────────┼───────────────────┤\n",
       "│    └                │ (\u001b[38;5;45mNone\u001b[0m, \u001b[38;5;34m30\u001b[0m)        │          \u001b[38;5;34m0\u001b[0m │ -                 │\n",
       "│ autoencoder_input   │                   │            │                   │\n",
       "│ (\u001b[38;5;33mInputLayer\u001b[0m)        │                   │            │                   │\n",
       "├─────────────────────┼───────────────────┼────────────┼───────────────────┤\n",
       "│    └ enc_dense1     │ (\u001b[38;5;45mNone\u001b[0m, \u001b[38;5;34m16\u001b[0m)        │        \u001b[38;5;34m496\u001b[0m │ -                 │\n",
       "│ (\u001b[38;5;33mDense\u001b[0m)             │                   │            │                   │\n",
       "├─────────────────────┼───────────────────┼────────────┼───────────────────┤\n",
       "│    └ enc_dropout1   │ (\u001b[38;5;45mNone\u001b[0m, \u001b[38;5;34m16\u001b[0m)        │          \u001b[38;5;34m0\u001b[0m │ -                 │\n",
       "│ (\u001b[38;5;33mDropout\u001b[0m)           │                   │            │                   │\n",
       "├─────────────────────┼───────────────────┼────────────┼───────────────────┤\n",
       "│    └ enc_dense2     │ (\u001b[38;5;45mNone\u001b[0m, \u001b[38;5;34m8\u001b[0m)         │        \u001b[38;5;34m136\u001b[0m │ -                 │\n",
       "│ (\u001b[38;5;33mDense\u001b[0m)             │                   │            │                   │\n",
       "├─────────────────────┼───────────────────┼────────────┼───────────────────┤\n",
       "│    └ enc_dropout2   │ (\u001b[38;5;45mNone\u001b[0m, \u001b[38;5;34m8\u001b[0m)         │          \u001b[38;5;34m0\u001b[0m │ -                 │\n",
       "│ (\u001b[38;5;33mDropout\u001b[0m)           │                   │            │                   │\n",
       "├─────────────────────┼───────────────────┼────────────┼───────────────────┤\n",
       "│    └ latent (\u001b[38;5;33mDense\u001b[0m) │ (\u001b[38;5;45mNone\u001b[0m, \u001b[38;5;34m4\u001b[0m)         │         \u001b[38;5;34m36\u001b[0m │ -                 │\n",
       "└─────────────────────┴───────────────────┴────────────┴───────────────────┘\n"
      ]
     },
     "metadata": {},
     "output_type": "display_data"
    },
    {
     "data": {
      "text/html": [
       "<pre style=\"white-space:pre;overflow-x:auto;line-height:normal;font-family:Menlo,'DejaVu Sans Mono',consolas,'Courier New',monospace\"><span style=\"font-weight: bold\"> Total params: </span><span style=\"color: #00af00; text-decoration-color: #00af00\">1,423</span> (5.56 KB)\n",
       "</pre>\n"
      ],
      "text/plain": [
       "\u001b[1m Total params: \u001b[0m\u001b[38;5;34m1,423\u001b[0m (5.56 KB)\n"
      ]
     },
     "metadata": {},
     "output_type": "display_data"
    },
    {
     "data": {
      "text/html": [
       "<pre style=\"white-space:pre;overflow-x:auto;line-height:normal;font-family:Menlo,'DejaVu Sans Mono',consolas,'Courier New',monospace\"><span style=\"font-weight: bold\"> Trainable params: </span><span style=\"color: #00af00; text-decoration-color: #00af00\">1,362</span> (5.32 KB)\n",
       "</pre>\n"
      ],
      "text/plain": [
       "\u001b[1m Trainable params: \u001b[0m\u001b[38;5;34m1,362\u001b[0m (5.32 KB)\n"
      ]
     },
     "metadata": {},
     "output_type": "display_data"
    },
    {
     "data": {
      "text/html": [
       "<pre style=\"white-space:pre;overflow-x:auto;line-height:normal;font-family:Menlo,'DejaVu Sans Mono',consolas,'Courier New',monospace\"><span style=\"font-weight: bold\"> Non-trainable params: </span><span style=\"color: #00af00; text-decoration-color: #00af00\">61</span> (244.00 B)\n",
       "</pre>\n"
      ],
      "text/plain": [
       "\u001b[1m Non-trainable params: \u001b[0m\u001b[38;5;34m61\u001b[0m (244.00 B)\n"
      ]
     },
     "metadata": {},
     "output_type": "display_data"
    }
   ],
   "source": [
    "stacked_autoencoder.summary(expand_nested=True)"
   ]
  },
  {
   "cell_type": "markdown",
   "id": "748a5330-bb4b-4b51-8775-b5d68ccc4d39",
   "metadata": {},
   "source": [
    "#### Predict"
   ]
  },
  {
   "cell_type": "code",
   "execution_count": 93,
   "id": "21df3945-f3db-4182-bf61-5c89104470d3",
   "metadata": {
    "tags": []
   },
   "outputs": [],
   "source": [
    "test_instances = test_read.map(prep_batch).batch(100).prefetch(tf.data.AUTOTUNE)"
   ]
  },
  {
   "cell_type": "code",
   "execution_count": 94,
   "id": "f0ebd6b2-e45d-4f9f-89e2-68ccb9212cb5",
   "metadata": {
    "tags": []
   },
   "outputs": [
    {
     "name": "stdout",
     "output_type": "stream",
     "text": [
      "\u001b[1m285/285\u001b[0m \u001b[32m━━━━━━━━━━━━━━━━━━━━\u001b[0m\u001b[37m\u001b[0m \u001b[1m2s\u001b[0m 7ms/step\n"
     ]
    }
   ],
   "source": [
    "predictions = stacked_autoencoder.predict(test_instances)"
   ]
  },
  {
   "cell_type": "code",
   "execution_count": 95,
   "id": "618c906f-5c64-4c8a-a7a5-47c487d0c463",
   "metadata": {
    "tags": []
   },
   "outputs": [
    {
     "data": {
      "text/plain": [
       "array([[ 8.46495312e+04, -1.20067075e-01,  9.30297598e-02,\n",
       "         3.14661771e-01, -3.34826447e-02, -9.59751755e-02,\n",
       "        -2.34427691e-01,  1.94891840e-02,  3.96082252e-02,\n",
       "        -6.90148026e-02, -1.03628010e-01, -1.57195516e-02,\n",
       "         1.31998867e-01, -4.22615092e-03,  4.05934155e-02,\n",
       "         1.06524356e-01,  7.43651167e-02, -5.41560948e-02,\n",
       "        -4.49759234e-03, -1.03028375e-03, -4.98089306e-02,\n",
       "        -3.82569619e-02, -1.69785246e-02, -1.58087388e-02,\n",
       "         4.50282097e-02,  3.49843204e-02, -5.85144423e-02,\n",
       "         6.62519271e-03,  1.07871667e-02,  2.20930824e+01],\n",
       "       [ 1.08392312e+05,  2.51276702e-01,  4.17948812e-02,\n",
       "        -1.86752498e-01, -1.00344568e-01,  5.10883182e-02,\n",
       "        -3.28040898e-01,  7.46903047e-02, -8.49290378e-03,\n",
       "        -7.02512451e-03, -7.20431358e-02, -9.22111347e-02,\n",
       "         1.41632691e-01, -1.57660916e-02,  5.86169697e-02,\n",
       "        -2.48292368e-02,  6.98695928e-02, -9.63703990e-02,\n",
       "         1.95179135e-02,  8.23222846e-03, -7.72634819e-02,\n",
       "        -1.02970582e-02,  6.89090714e-02,  1.04479045e-02,\n",
       "         3.51066627e-02, -5.49548082e-02, -4.25704159e-02,\n",
       "        -1.95646100e-03, -3.89468879e-03,  2.09939365e+01],\n",
       "       [ 1.40469578e+05,  9.18011129e-01, -5.01340777e-02,\n",
       "        -9.40099061e-01, -1.50763854e-01,  2.42499530e-01,\n",
       "        -4.71249491e-01,  1.42188713e-01, -8.15328956e-02,\n",
       "         8.66876841e-02, -9.25821811e-03, -1.89230606e-01,\n",
       "         1.67458549e-01, -4.45141792e-02,  9.80399027e-02,\n",
       "        -1.92707121e-01,  4.85462621e-02, -1.54671878e-01,\n",
       "         3.78833450e-02,  2.46897396e-02, -1.16967060e-01,\n",
       "         3.58113907e-02,  2.12480307e-01,  4.80337404e-02,\n",
       "         2.60588694e-02, -1.67189404e-01, -1.38400979e-02,\n",
       "        -1.53768929e-02, -2.65501980e-02,  1.99858055e+01]], dtype=float32)"
      ]
     },
     "execution_count": 95,
     "metadata": {},
     "output_type": "execute_result"
    }
   ],
   "source": [
    "predictions['denormalized'][0:3]"
   ]
  },
  {
   "cell_type": "code",
   "execution_count": 96,
   "id": "f6355728-8d8c-4675-911e-d19578031e6c",
   "metadata": {
    "tags": []
   },
   "outputs": [
    {
     "data": {
      "text/plain": [
       "array([[-2.1573909e-01, -6.6973001e-02,  6.1609857e-02,  2.0766510e-01,\n",
       "        -1.8228479e-02, -7.4300438e-02, -1.7840877e-01,  8.3283037e-03,\n",
       "         3.4568325e-02, -6.8026997e-02, -1.0903104e-01, -8.5990429e-03,\n",
       "         1.2886389e-01, -4.3673757e-03,  3.0735655e-02,  1.1757518e-01,\n",
       "         7.8861043e-02, -8.7792374e-02, -1.0692233e-02, -5.0774589e-04,\n",
       "        -6.2861100e-02, -5.1598646e-02, -2.4212562e-02, -2.5504742e-02,\n",
       "         7.3423073e-02,  6.8520486e-02, -1.2039617e-01,  1.7891005e-02,\n",
       "         3.2108545e-02, -2.6110065e-01],\n",
       "       [ 2.8411078e-01,  1.2534422e-01,  3.0384865e-02, -1.3568547e-01,\n",
       "        -6.6031285e-02,  3.3756189e-02, -2.4865134e-01,  5.4929342e-02,\n",
       "        -6.6866130e-03, -1.1111401e-02, -7.8650899e-02, -8.4900588e-02,\n",
       "         1.3904279e-01, -1.5955171e-02,  5.0851151e-02, -2.5985062e-02,\n",
       "         7.3531486e-02, -1.4440949e-01,  1.8472677e-02,  1.0903807e-02,\n",
       "        -9.8101199e-02, -1.2639321e-02,  9.4487496e-02,  1.6700197e-02,\n",
       "         5.7018690e-02, -1.0406821e-01, -8.7354988e-02, -3.4951977e-03,\n",
       "        -1.1632241e-02, -2.6542673e-01],\n",
       "       [ 9.5942432e-01,  4.7064289e-01, -2.5641046e-02, -6.5155029e-01,\n",
       "        -1.0207845e-01,  1.7439783e-01, -3.5610777e-01,  1.1191180e-01,\n",
       "        -6.9330886e-02,  7.4930668e-02, -1.8260770e-02, -1.8167901e-01,\n",
       "         1.6632989e-01, -4.4822469e-02,  9.4849795e-02, -2.0946380e-01,\n",
       "         4.8252139e-02, -2.2260247e-01,  4.0776026e-02,  3.1179707e-02,\n",
       "        -1.4906390e-01,  5.1608182e-02,  2.9290864e-01,  7.7115685e-02,\n",
       "         4.2058982e-02, -3.1944081e-01, -2.7816482e-02, -3.6940042e-02,\n",
       "        -7.9128467e-02, -2.6939458e-01]], dtype=float32)"
      ]
     },
     "execution_count": 96,
     "metadata": {},
     "output_type": "execute_result"
    }
   ],
   "source": [
    "predictions['normalized'][0:3]"
   ]
  },
  {
   "cell_type": "code",
   "execution_count": 97,
   "id": "5f043f7d-9bbe-4598-84ca-f9b3ce47136e",
   "metadata": {
    "tags": []
   },
   "outputs": [
    {
     "data": {
      "text/plain": [
       "array([[0.11034848, 0.        , 0.        , 0.0567206 ],\n",
       "       [0.30505222, 0.        , 0.        , 0.16123873],\n",
       "       [0.96625847, 0.        , 0.        , 0.5161915 ]], dtype=float32)"
      ]
     },
     "execution_count": 97,
     "metadata": {},
     "output_type": "execute_result"
    }
   ],
   "source": [
    "predictions['encoded'][0:3]"
   ]
  },
  {
   "cell_type": "markdown",
   "id": "c343c334-f46e-401b-a57f-defc422c2151",
   "metadata": {
    "tags": []
   },
   "source": [
    "### Adding Named Inputs\n",
    "\n",
    "How can we prevent feature order drift?  How about modifying the input to receive a dictionary of key:value pairs that map to the correct order inside the model!\n",
    "\n",
    "Named inputs, a dictionary of features\n",
    "- input dictionary, concatenate features, pass to the stacked model\n",
    "\n",
    "Why?\n",
    "- user-friendly!\n",
    "- prevent training serving skew from feature order drift causing serving error\n",
    "\n",
    "\n",
    "Using an ordered dictionary for the input layers ensures the inputs order as they pass to the concatenation layers is consistent.  The inputs to the model can actually be out of order but this ordering of the input layer will force the consistency needed."
   ]
  },
  {
   "cell_type": "markdown",
   "id": "1d1cb73a-f573-4ad8-8a7f-f8d7a0d13c90",
   "metadata": {},
   "source": [
    "#### Input Layer"
   ]
  },
  {
   "cell_type": "code",
   "execution_count": 98,
   "id": "fb2420d3-34b8-4394-9467-414a05edbf81",
   "metadata": {
    "tags": []
   },
   "outputs": [],
   "source": [
    "input_dict = OrderedDict()\n",
    "for key in var_numeric:\n",
    "    input_dict[key] = keras.layers.Input(shape=(1,), name=key)"
   ]
  },
  {
   "cell_type": "code",
   "execution_count": 99,
   "id": "7c8f303a-a6a0-4a86-9736-0b9892bbf55b",
   "metadata": {
    "tags": []
   },
   "outputs": [],
   "source": [
    "concatenated_inputs = keras.layers.Concatenate(axis = -1)(list(input_dict.values()))"
   ]
  },
  {
   "cell_type": "markdown",
   "id": "0effb331-3871-4f72-91f9-7cd26b78909d",
   "metadata": {},
   "source": [
    "#### Model"
   ]
  },
  {
   "cell_type": "code",
   "execution_count": 100,
   "id": "675ac4d0-ff98-410a-9910-feaac8d42acc",
   "metadata": {
    "tags": []
   },
   "outputs": [],
   "source": [
    "ordered_model = keras.Model(inputs = input_dict, outputs = stacked_autoencoder(concatenated_inputs))"
   ]
  },
  {
   "cell_type": "markdown",
   "id": "2be99ed7-d0d0-4792-9f50-a324baa9253d",
   "metadata": {},
   "source": [
    "#### Data Mapping"
   ]
  },
  {
   "cell_type": "code",
   "execution_count": 101,
   "id": "9d53afda-0839-43ce-96fc-63b15de88679",
   "metadata": {
    "tags": []
   },
   "outputs": [],
   "source": [
    "def prep_batch_ordered(source):\n",
    "    for k in var_omit + var_target:\n",
    "        source.pop(k, None)\n",
    "        \n",
    "    #Check the keys\n",
    "    if set(source.keys()) != set(var_numeric):\n",
    "        raise ValueError(\"Input data keys do not match expected feature names.\")\n",
    "\n",
    "    return OrderedDict((key, source[key]) for key in var_numeric)    "
   ]
  },
  {
   "cell_type": "code",
   "execution_count": 102,
   "id": "41caf85b-77ef-4ea7-a604-83aff8256004",
   "metadata": {
    "tags": []
   },
   "outputs": [],
   "source": [
    "test_instances = test_read.map(prep_batch_ordered).batch(100).prefetch(tf.data.AUTOTUNE)"
   ]
  },
  {
   "cell_type": "markdown",
   "id": "11d27745-b8e8-4f0b-b6da-41cb71ed4213",
   "metadata": {},
   "source": [
    "#### Predict"
   ]
  },
  {
   "cell_type": "code",
   "execution_count": 103,
   "id": "24e11e59-d1c5-4b46-a3bc-78d0a0a9e6fb",
   "metadata": {
    "tags": []
   },
   "outputs": [
    {
     "name": "stdout",
     "output_type": "stream",
     "text": [
      "\u001b[1m285/285\u001b[0m \u001b[32m━━━━━━━━━━━━━━━━━━━━\u001b[0m\u001b[37m\u001b[0m \u001b[1m2s\u001b[0m 7ms/step\n"
     ]
    }
   ],
   "source": [
    "predictions = ordered_model.predict(test_instances)"
   ]
  },
  {
   "cell_type": "code",
   "execution_count": 104,
   "id": "4f48c0b4-87c8-43d4-b3e3-6e49ed6aa930",
   "metadata": {
    "tags": []
   },
   "outputs": [
    {
     "data": {
      "text/plain": [
       "array([[-2.1573909e-01, -6.6973001e-02,  6.1609857e-02,  2.0766510e-01,\n",
       "        -1.8228479e-02, -7.4300438e-02, -1.7840877e-01,  8.3283037e-03,\n",
       "         3.4568325e-02, -6.8026997e-02, -1.0903104e-01, -8.5990429e-03,\n",
       "         1.2886389e-01, -4.3673757e-03,  3.0735655e-02,  1.1757518e-01,\n",
       "         7.8861043e-02, -8.7792374e-02, -1.0692233e-02, -5.0774589e-04,\n",
       "        -6.2861100e-02, -5.1598646e-02, -2.4212562e-02, -2.5504742e-02,\n",
       "         7.3423073e-02,  6.8520486e-02, -1.2039617e-01,  1.7891005e-02,\n",
       "         3.2108545e-02, -2.6110065e-01],\n",
       "       [ 2.8411078e-01,  1.2534422e-01,  3.0384865e-02, -1.3568547e-01,\n",
       "        -6.6031285e-02,  3.3756189e-02, -2.4865134e-01,  5.4929342e-02,\n",
       "        -6.6866130e-03, -1.1111401e-02, -7.8650899e-02, -8.4900588e-02,\n",
       "         1.3904279e-01, -1.5955171e-02,  5.0851151e-02, -2.5985062e-02,\n",
       "         7.3531486e-02, -1.4440949e-01,  1.8472677e-02,  1.0903807e-02,\n",
       "        -9.8101199e-02, -1.2639321e-02,  9.4487496e-02,  1.6700197e-02,\n",
       "         5.7018690e-02, -1.0406821e-01, -8.7354988e-02, -3.4951977e-03,\n",
       "        -1.1632241e-02, -2.6542673e-01],\n",
       "       [ 9.5942432e-01,  4.7064289e-01, -2.5641046e-02, -6.5155029e-01,\n",
       "        -1.0207845e-01,  1.7439783e-01, -3.5610777e-01,  1.1191180e-01,\n",
       "        -6.9330886e-02,  7.4930668e-02, -1.8260770e-02, -1.8167901e-01,\n",
       "         1.6632989e-01, -4.4822469e-02,  9.4849795e-02, -2.0946380e-01,\n",
       "         4.8252139e-02, -2.2260247e-01,  4.0776026e-02,  3.1179707e-02,\n",
       "        -1.4906390e-01,  5.1608182e-02,  2.9290864e-01,  7.7115685e-02,\n",
       "         4.2058982e-02, -3.1944081e-01, -2.7816482e-02, -3.6940042e-02,\n",
       "        -7.9128467e-02, -2.6939458e-01]], dtype=float32)"
      ]
     },
     "execution_count": 104,
     "metadata": {},
     "output_type": "execute_result"
    }
   ],
   "source": [
    "predictions['normalized'][0:3]"
   ]
  },
  {
   "cell_type": "markdown",
   "id": "1b77b0d4-3ccb-4524-bc68-45489a54cbb8",
   "metadata": {},
   "source": [
    "#### Review The Model"
   ]
  },
  {
   "cell_type": "code",
   "execution_count": 105,
   "id": "dc5910ec-3156-4f5f-8d37-d47647f8fc92",
   "metadata": {
    "tags": []
   },
   "outputs": [
    {
     "data": {
      "text/html": [
       "<pre style=\"white-space:pre;overflow-x:auto;line-height:normal;font-family:Menlo,'DejaVu Sans Mono',consolas,'Courier New',monospace\"><span style=\"font-weight: bold\">Model: \"functional_1\"</span>\n",
       "</pre>\n"
      ],
      "text/plain": [
       "\u001b[1mModel: \"functional_1\"\u001b[0m\n"
      ]
     },
     "metadata": {},
     "output_type": "display_data"
    },
    {
     "data": {
      "text/html": [
       "<pre style=\"white-space:pre;overflow-x:auto;line-height:normal;font-family:Menlo,'DejaVu Sans Mono',consolas,'Courier New',monospace\">┏━━━━━━━━━━━━━━━━━━━━━┳━━━━━━━━━━━━━━━━━━━┳━━━━━━━━━━━━┳━━━━━━━━━━━━━━━━━━━┓\n",
       "┃<span style=\"font-weight: bold\"> Layer (type)        </span>┃<span style=\"font-weight: bold\"> Output Shape      </span>┃<span style=\"font-weight: bold\">    Param # </span>┃<span style=\"font-weight: bold\"> Connected to      </span>┃\n",
       "┡━━━━━━━━━━━━━━━━━━━━━╇━━━━━━━━━━━━━━━━━━━╇━━━━━━━━━━━━╇━━━━━━━━━━━━━━━━━━━┩\n",
       "│ Time (<span style=\"color: #0087ff; text-decoration-color: #0087ff\">InputLayer</span>)   │ (<span style=\"color: #00d7ff; text-decoration-color: #00d7ff\">None</span>, <span style=\"color: #00af00; text-decoration-color: #00af00\">1</span>)         │          <span style=\"color: #00af00; text-decoration-color: #00af00\">0</span> │ -                 │\n",
       "├─────────────────────┼───────────────────┼────────────┼───────────────────┤\n",
       "│ V1 (<span style=\"color: #0087ff; text-decoration-color: #0087ff\">InputLayer</span>)     │ (<span style=\"color: #00d7ff; text-decoration-color: #00d7ff\">None</span>, <span style=\"color: #00af00; text-decoration-color: #00af00\">1</span>)         │          <span style=\"color: #00af00; text-decoration-color: #00af00\">0</span> │ -                 │\n",
       "├─────────────────────┼───────────────────┼────────────┼───────────────────┤\n",
       "│ V2 (<span style=\"color: #0087ff; text-decoration-color: #0087ff\">InputLayer</span>)     │ (<span style=\"color: #00d7ff; text-decoration-color: #00d7ff\">None</span>, <span style=\"color: #00af00; text-decoration-color: #00af00\">1</span>)         │          <span style=\"color: #00af00; text-decoration-color: #00af00\">0</span> │ -                 │\n",
       "├─────────────────────┼───────────────────┼────────────┼───────────────────┤\n",
       "│ V3 (<span style=\"color: #0087ff; text-decoration-color: #0087ff\">InputLayer</span>)     │ (<span style=\"color: #00d7ff; text-decoration-color: #00d7ff\">None</span>, <span style=\"color: #00af00; text-decoration-color: #00af00\">1</span>)         │          <span style=\"color: #00af00; text-decoration-color: #00af00\">0</span> │ -                 │\n",
       "├─────────────────────┼───────────────────┼────────────┼───────────────────┤\n",
       "│ V4 (<span style=\"color: #0087ff; text-decoration-color: #0087ff\">InputLayer</span>)     │ (<span style=\"color: #00d7ff; text-decoration-color: #00d7ff\">None</span>, <span style=\"color: #00af00; text-decoration-color: #00af00\">1</span>)         │          <span style=\"color: #00af00; text-decoration-color: #00af00\">0</span> │ -                 │\n",
       "├─────────────────────┼───────────────────┼────────────┼───────────────────┤\n",
       "│ V5 (<span style=\"color: #0087ff; text-decoration-color: #0087ff\">InputLayer</span>)     │ (<span style=\"color: #00d7ff; text-decoration-color: #00d7ff\">None</span>, <span style=\"color: #00af00; text-decoration-color: #00af00\">1</span>)         │          <span style=\"color: #00af00; text-decoration-color: #00af00\">0</span> │ -                 │\n",
       "├─────────────────────┼───────────────────┼────────────┼───────────────────┤\n",
       "│ V6 (<span style=\"color: #0087ff; text-decoration-color: #0087ff\">InputLayer</span>)     │ (<span style=\"color: #00d7ff; text-decoration-color: #00d7ff\">None</span>, <span style=\"color: #00af00; text-decoration-color: #00af00\">1</span>)         │          <span style=\"color: #00af00; text-decoration-color: #00af00\">0</span> │ -                 │\n",
       "├─────────────────────┼───────────────────┼────────────┼───────────────────┤\n",
       "│ V7 (<span style=\"color: #0087ff; text-decoration-color: #0087ff\">InputLayer</span>)     │ (<span style=\"color: #00d7ff; text-decoration-color: #00d7ff\">None</span>, <span style=\"color: #00af00; text-decoration-color: #00af00\">1</span>)         │          <span style=\"color: #00af00; text-decoration-color: #00af00\">0</span> │ -                 │\n",
       "├─────────────────────┼───────────────────┼────────────┼───────────────────┤\n",
       "│ V8 (<span style=\"color: #0087ff; text-decoration-color: #0087ff\">InputLayer</span>)     │ (<span style=\"color: #00d7ff; text-decoration-color: #00d7ff\">None</span>, <span style=\"color: #00af00; text-decoration-color: #00af00\">1</span>)         │          <span style=\"color: #00af00; text-decoration-color: #00af00\">0</span> │ -                 │\n",
       "├─────────────────────┼───────────────────┼────────────┼───────────────────┤\n",
       "│ V9 (<span style=\"color: #0087ff; text-decoration-color: #0087ff\">InputLayer</span>)     │ (<span style=\"color: #00d7ff; text-decoration-color: #00d7ff\">None</span>, <span style=\"color: #00af00; text-decoration-color: #00af00\">1</span>)         │          <span style=\"color: #00af00; text-decoration-color: #00af00\">0</span> │ -                 │\n",
       "├─────────────────────┼───────────────────┼────────────┼───────────────────┤\n",
       "│ V10 (<span style=\"color: #0087ff; text-decoration-color: #0087ff\">InputLayer</span>)    │ (<span style=\"color: #00d7ff; text-decoration-color: #00d7ff\">None</span>, <span style=\"color: #00af00; text-decoration-color: #00af00\">1</span>)         │          <span style=\"color: #00af00; text-decoration-color: #00af00\">0</span> │ -                 │\n",
       "├─────────────────────┼───────────────────┼────────────┼───────────────────┤\n",
       "│ V11 (<span style=\"color: #0087ff; text-decoration-color: #0087ff\">InputLayer</span>)    │ (<span style=\"color: #00d7ff; text-decoration-color: #00d7ff\">None</span>, <span style=\"color: #00af00; text-decoration-color: #00af00\">1</span>)         │          <span style=\"color: #00af00; text-decoration-color: #00af00\">0</span> │ -                 │\n",
       "├─────────────────────┼───────────────────┼────────────┼───────────────────┤\n",
       "│ V12 (<span style=\"color: #0087ff; text-decoration-color: #0087ff\">InputLayer</span>)    │ (<span style=\"color: #00d7ff; text-decoration-color: #00d7ff\">None</span>, <span style=\"color: #00af00; text-decoration-color: #00af00\">1</span>)         │          <span style=\"color: #00af00; text-decoration-color: #00af00\">0</span> │ -                 │\n",
       "├─────────────────────┼───────────────────┼────────────┼───────────────────┤\n",
       "│ V13 (<span style=\"color: #0087ff; text-decoration-color: #0087ff\">InputLayer</span>)    │ (<span style=\"color: #00d7ff; text-decoration-color: #00d7ff\">None</span>, <span style=\"color: #00af00; text-decoration-color: #00af00\">1</span>)         │          <span style=\"color: #00af00; text-decoration-color: #00af00\">0</span> │ -                 │\n",
       "├─────────────────────┼───────────────────┼────────────┼───────────────────┤\n",
       "│ V14 (<span style=\"color: #0087ff; text-decoration-color: #0087ff\">InputLayer</span>)    │ (<span style=\"color: #00d7ff; text-decoration-color: #00d7ff\">None</span>, <span style=\"color: #00af00; text-decoration-color: #00af00\">1</span>)         │          <span style=\"color: #00af00; text-decoration-color: #00af00\">0</span> │ -                 │\n",
       "├─────────────────────┼───────────────────┼────────────┼───────────────────┤\n",
       "│ V15 (<span style=\"color: #0087ff; text-decoration-color: #0087ff\">InputLayer</span>)    │ (<span style=\"color: #00d7ff; text-decoration-color: #00d7ff\">None</span>, <span style=\"color: #00af00; text-decoration-color: #00af00\">1</span>)         │          <span style=\"color: #00af00; text-decoration-color: #00af00\">0</span> │ -                 │\n",
       "├─────────────────────┼───────────────────┼────────────┼───────────────────┤\n",
       "│ V16 (<span style=\"color: #0087ff; text-decoration-color: #0087ff\">InputLayer</span>)    │ (<span style=\"color: #00d7ff; text-decoration-color: #00d7ff\">None</span>, <span style=\"color: #00af00; text-decoration-color: #00af00\">1</span>)         │          <span style=\"color: #00af00; text-decoration-color: #00af00\">0</span> │ -                 │\n",
       "├─────────────────────┼───────────────────┼────────────┼───────────────────┤\n",
       "│ V17 (<span style=\"color: #0087ff; text-decoration-color: #0087ff\">InputLayer</span>)    │ (<span style=\"color: #00d7ff; text-decoration-color: #00d7ff\">None</span>, <span style=\"color: #00af00; text-decoration-color: #00af00\">1</span>)         │          <span style=\"color: #00af00; text-decoration-color: #00af00\">0</span> │ -                 │\n",
       "├─────────────────────┼───────────────────┼────────────┼───────────────────┤\n",
       "│ V18 (<span style=\"color: #0087ff; text-decoration-color: #0087ff\">InputLayer</span>)    │ (<span style=\"color: #00d7ff; text-decoration-color: #00d7ff\">None</span>, <span style=\"color: #00af00; text-decoration-color: #00af00\">1</span>)         │          <span style=\"color: #00af00; text-decoration-color: #00af00\">0</span> │ -                 │\n",
       "├─────────────────────┼───────────────────┼────────────┼───────────────────┤\n",
       "│ V19 (<span style=\"color: #0087ff; text-decoration-color: #0087ff\">InputLayer</span>)    │ (<span style=\"color: #00d7ff; text-decoration-color: #00d7ff\">None</span>, <span style=\"color: #00af00; text-decoration-color: #00af00\">1</span>)         │          <span style=\"color: #00af00; text-decoration-color: #00af00\">0</span> │ -                 │\n",
       "├─────────────────────┼───────────────────┼────────────┼───────────────────┤\n",
       "│ V20 (<span style=\"color: #0087ff; text-decoration-color: #0087ff\">InputLayer</span>)    │ (<span style=\"color: #00d7ff; text-decoration-color: #00d7ff\">None</span>, <span style=\"color: #00af00; text-decoration-color: #00af00\">1</span>)         │          <span style=\"color: #00af00; text-decoration-color: #00af00\">0</span> │ -                 │\n",
       "├─────────────────────┼───────────────────┼────────────┼───────────────────┤\n",
       "│ V21 (<span style=\"color: #0087ff; text-decoration-color: #0087ff\">InputLayer</span>)    │ (<span style=\"color: #00d7ff; text-decoration-color: #00d7ff\">None</span>, <span style=\"color: #00af00; text-decoration-color: #00af00\">1</span>)         │          <span style=\"color: #00af00; text-decoration-color: #00af00\">0</span> │ -                 │\n",
       "├─────────────────────┼───────────────────┼────────────┼───────────────────┤\n",
       "│ V22 (<span style=\"color: #0087ff; text-decoration-color: #0087ff\">InputLayer</span>)    │ (<span style=\"color: #00d7ff; text-decoration-color: #00d7ff\">None</span>, <span style=\"color: #00af00; text-decoration-color: #00af00\">1</span>)         │          <span style=\"color: #00af00; text-decoration-color: #00af00\">0</span> │ -                 │\n",
       "├─────────────────────┼───────────────────┼────────────┼───────────────────┤\n",
       "│ V23 (<span style=\"color: #0087ff; text-decoration-color: #0087ff\">InputLayer</span>)    │ (<span style=\"color: #00d7ff; text-decoration-color: #00d7ff\">None</span>, <span style=\"color: #00af00; text-decoration-color: #00af00\">1</span>)         │          <span style=\"color: #00af00; text-decoration-color: #00af00\">0</span> │ -                 │\n",
       "├─────────────────────┼───────────────────┼────────────┼───────────────────┤\n",
       "│ V24 (<span style=\"color: #0087ff; text-decoration-color: #0087ff\">InputLayer</span>)    │ (<span style=\"color: #00d7ff; text-decoration-color: #00d7ff\">None</span>, <span style=\"color: #00af00; text-decoration-color: #00af00\">1</span>)         │          <span style=\"color: #00af00; text-decoration-color: #00af00\">0</span> │ -                 │\n",
       "├─────────────────────┼───────────────────┼────────────┼───────────────────┤\n",
       "│ V25 (<span style=\"color: #0087ff; text-decoration-color: #0087ff\">InputLayer</span>)    │ (<span style=\"color: #00d7ff; text-decoration-color: #00d7ff\">None</span>, <span style=\"color: #00af00; text-decoration-color: #00af00\">1</span>)         │          <span style=\"color: #00af00; text-decoration-color: #00af00\">0</span> │ -                 │\n",
       "├─────────────────────┼───────────────────┼────────────┼───────────────────┤\n",
       "│ V26 (<span style=\"color: #0087ff; text-decoration-color: #0087ff\">InputLayer</span>)    │ (<span style=\"color: #00d7ff; text-decoration-color: #00d7ff\">None</span>, <span style=\"color: #00af00; text-decoration-color: #00af00\">1</span>)         │          <span style=\"color: #00af00; text-decoration-color: #00af00\">0</span> │ -                 │\n",
       "├─────────────────────┼───────────────────┼────────────┼───────────────────┤\n",
       "│ V27 (<span style=\"color: #0087ff; text-decoration-color: #0087ff\">InputLayer</span>)    │ (<span style=\"color: #00d7ff; text-decoration-color: #00d7ff\">None</span>, <span style=\"color: #00af00; text-decoration-color: #00af00\">1</span>)         │          <span style=\"color: #00af00; text-decoration-color: #00af00\">0</span> │ -                 │\n",
       "├─────────────────────┼───────────────────┼────────────┼───────────────────┤\n",
       "│ V28 (<span style=\"color: #0087ff; text-decoration-color: #0087ff\">InputLayer</span>)    │ (<span style=\"color: #00d7ff; text-decoration-color: #00d7ff\">None</span>, <span style=\"color: #00af00; text-decoration-color: #00af00\">1</span>)         │          <span style=\"color: #00af00; text-decoration-color: #00af00\">0</span> │ -                 │\n",
       "├─────────────────────┼───────────────────┼────────────┼───────────────────┤\n",
       "│ Amount (<span style=\"color: #0087ff; text-decoration-color: #0087ff\">InputLayer</span>) │ (<span style=\"color: #00d7ff; text-decoration-color: #00d7ff\">None</span>, <span style=\"color: #00af00; text-decoration-color: #00af00\">1</span>)         │          <span style=\"color: #00af00; text-decoration-color: #00af00\">0</span> │ -                 │\n",
       "├─────────────────────┼───────────────────┼────────────┼───────────────────┤\n",
       "│ concatenate         │ (<span style=\"color: #00d7ff; text-decoration-color: #00d7ff\">None</span>, <span style=\"color: #00af00; text-decoration-color: #00af00\">30</span>)        │          <span style=\"color: #00af00; text-decoration-color: #00af00\">0</span> │ Time[<span style=\"color: #00af00; text-decoration-color: #00af00\">0</span>][<span style=\"color: #00af00; text-decoration-color: #00af00\">0</span>],       │\n",
       "│ (<span style=\"color: #0087ff; text-decoration-color: #0087ff\">Concatenate</span>)       │                   │            │ V1[<span style=\"color: #00af00; text-decoration-color: #00af00\">0</span>][<span style=\"color: #00af00; text-decoration-color: #00af00\">0</span>],         │\n",
       "│                     │                   │            │ V2[<span style=\"color: #00af00; text-decoration-color: #00af00\">0</span>][<span style=\"color: #00af00; text-decoration-color: #00af00\">0</span>],         │\n",
       "│                     │                   │            │ V3[<span style=\"color: #00af00; text-decoration-color: #00af00\">0</span>][<span style=\"color: #00af00; text-decoration-color: #00af00\">0</span>],         │\n",
       "│                     │                   │            │ V4[<span style=\"color: #00af00; text-decoration-color: #00af00\">0</span>][<span style=\"color: #00af00; text-decoration-color: #00af00\">0</span>],         │\n",
       "│                     │                   │            │ V5[<span style=\"color: #00af00; text-decoration-color: #00af00\">0</span>][<span style=\"color: #00af00; text-decoration-color: #00af00\">0</span>],         │\n",
       "│                     │                   │            │ V6[<span style=\"color: #00af00; text-decoration-color: #00af00\">0</span>][<span style=\"color: #00af00; text-decoration-color: #00af00\">0</span>],         │\n",
       "│                     │                   │            │ V7[<span style=\"color: #00af00; text-decoration-color: #00af00\">0</span>][<span style=\"color: #00af00; text-decoration-color: #00af00\">0</span>],         │\n",
       "│                     │                   │            │ V8[<span style=\"color: #00af00; text-decoration-color: #00af00\">0</span>][<span style=\"color: #00af00; text-decoration-color: #00af00\">0</span>],         │\n",
       "│                     │                   │            │ V9[<span style=\"color: #00af00; text-decoration-color: #00af00\">0</span>][<span style=\"color: #00af00; text-decoration-color: #00af00\">0</span>],         │\n",
       "│                     │                   │            │ V10[<span style=\"color: #00af00; text-decoration-color: #00af00\">0</span>][<span style=\"color: #00af00; text-decoration-color: #00af00\">0</span>],        │\n",
       "│                     │                   │            │ V11[<span style=\"color: #00af00; text-decoration-color: #00af00\">0</span>][<span style=\"color: #00af00; text-decoration-color: #00af00\">0</span>],        │\n",
       "│                     │                   │            │ V12[<span style=\"color: #00af00; text-decoration-color: #00af00\">0</span>][<span style=\"color: #00af00; text-decoration-color: #00af00\">0</span>],        │\n",
       "│                     │                   │            │ V13[<span style=\"color: #00af00; text-decoration-color: #00af00\">0</span>][<span style=\"color: #00af00; text-decoration-color: #00af00\">0</span>],        │\n",
       "│                     │                   │            │ V14[<span style=\"color: #00af00; text-decoration-color: #00af00\">0</span>][<span style=\"color: #00af00; text-decoration-color: #00af00\">0</span>],        │\n",
       "│                     │                   │            │ V15[<span style=\"color: #00af00; text-decoration-color: #00af00\">0</span>][<span style=\"color: #00af00; text-decoration-color: #00af00\">0</span>],        │\n",
       "│                     │                   │            │ V16[<span style=\"color: #00af00; text-decoration-color: #00af00\">0</span>][<span style=\"color: #00af00; text-decoration-color: #00af00\">0</span>],        │\n",
       "│                     │                   │            │ V17[<span style=\"color: #00af00; text-decoration-color: #00af00\">0</span>][<span style=\"color: #00af00; text-decoration-color: #00af00\">0</span>],        │\n",
       "│                     │                   │            │ V18[<span style=\"color: #00af00; text-decoration-color: #00af00\">0</span>][<span style=\"color: #00af00; text-decoration-color: #00af00\">0</span>],        │\n",
       "│                     │                   │            │ V19[<span style=\"color: #00af00; text-decoration-color: #00af00\">0</span>][<span style=\"color: #00af00; text-decoration-color: #00af00\">0</span>],        │\n",
       "│                     │                   │            │ V20[<span style=\"color: #00af00; text-decoration-color: #00af00\">0</span>][<span style=\"color: #00af00; text-decoration-color: #00af00\">0</span>],        │\n",
       "│                     │                   │            │ V21[<span style=\"color: #00af00; text-decoration-color: #00af00\">0</span>][<span style=\"color: #00af00; text-decoration-color: #00af00\">0</span>],        │\n",
       "│                     │                   │            │ V22[<span style=\"color: #00af00; text-decoration-color: #00af00\">0</span>][<span style=\"color: #00af00; text-decoration-color: #00af00\">0</span>],        │\n",
       "│                     │                   │            │ V23[<span style=\"color: #00af00; text-decoration-color: #00af00\">0</span>][<span style=\"color: #00af00; text-decoration-color: #00af00\">0</span>],        │\n",
       "│                     │                   │            │ V24[<span style=\"color: #00af00; text-decoration-color: #00af00\">0</span>][<span style=\"color: #00af00; text-decoration-color: #00af00\">0</span>],        │\n",
       "│                     │                   │            │ V25[<span style=\"color: #00af00; text-decoration-color: #00af00\">0</span>][<span style=\"color: #00af00; text-decoration-color: #00af00\">0</span>],        │\n",
       "│                     │                   │            │ V26[<span style=\"color: #00af00; text-decoration-color: #00af00\">0</span>][<span style=\"color: #00af00; text-decoration-color: #00af00\">0</span>],        │\n",
       "│                     │                   │            │ V27[<span style=\"color: #00af00; text-decoration-color: #00af00\">0</span>][<span style=\"color: #00af00; text-decoration-color: #00af00\">0</span>],        │\n",
       "│                     │                   │            │ V28[<span style=\"color: #00af00; text-decoration-color: #00af00\">0</span>][<span style=\"color: #00af00; text-decoration-color: #00af00\">0</span>],        │\n",
       "│                     │                   │            │ Amount[<span style=\"color: #00af00; text-decoration-color: #00af00\">0</span>][<span style=\"color: #00af00; text-decoration-color: #00af00\">0</span>]      │\n",
       "├─────────────────────┼───────────────────┼────────────┼───────────────────┤\n",
       "│ stacked_autoencoder │ [(<span style=\"color: #00d7ff; text-decoration-color: #00d7ff\">None</span>, <span style=\"color: #00af00; text-decoration-color: #00af00\">30</span>),      │      <span style=\"color: #00af00; text-decoration-color: #00af00\">1,423</span> │ concatenate[<span style=\"color: #00af00; text-decoration-color: #00af00\">0</span>][<span style=\"color: #00af00; text-decoration-color: #00af00\">0</span>] │\n",
       "│ (<span style=\"color: #0087ff; text-decoration-color: #0087ff\">Functional</span>)        │ (<span style=\"color: #00d7ff; text-decoration-color: #00d7ff\">None</span>, <span style=\"color: #00af00; text-decoration-color: #00af00\">4</span>), (<span style=\"color: #00d7ff; text-decoration-color: #00d7ff\">None</span>, │            │                   │\n",
       "│                     │ <span style=\"color: #00af00; text-decoration-color: #00af00\">30</span>)]              │            │                   │\n",
       "├─────────────────────┼───────────────────┼────────────┼───────────────────┤\n",
       "│    └ serving_input  │ (<span style=\"color: #00d7ff; text-decoration-color: #00d7ff\">None</span>, <span style=\"color: #00af00; text-decoration-color: #00af00\">30</span>)        │          <span style=\"color: #00af00; text-decoration-color: #00af00\">0</span> │ -                 │\n",
       "│ (<span style=\"color: #0087ff; text-decoration-color: #0087ff\">InputLayer</span>)        │                   │            │                   │\n",
       "├─────────────────────┼───────────────────┼────────────┼───────────────────┤\n",
       "│    └ normalization  │ (<span style=\"color: #00d7ff; text-decoration-color: #00d7ff\">None</span>, <span style=\"color: #00af00; text-decoration-color: #00af00\">30</span>)        │         <span style=\"color: #00af00; text-decoration-color: #00af00\">61</span> │ -                 │\n",
       "│ (<span style=\"color: #0087ff; text-decoration-color: #0087ff\">Normalization</span>)     │                   │            │                   │\n",
       "├─────────────────────┼───────────────────┼────────────┼───────────────────┤\n",
       "│    └ autoencoder    │ (<span style=\"color: #00d7ff; text-decoration-color: #00d7ff\">None</span>, <span style=\"color: #00af00; text-decoration-color: #00af00\">30</span>)        │      <span style=\"color: #00af00; text-decoration-color: #00af00\">1,362</span> │ -                 │\n",
       "│ (<span style=\"color: #0087ff; text-decoration-color: #0087ff\">Functional</span>)        │                   │            │                   │\n",
       "├─────────────────────┼───────────────────┼────────────┼───────────────────┤\n",
       "│       └             │ (<span style=\"color: #00d7ff; text-decoration-color: #00d7ff\">None</span>, <span style=\"color: #00af00; text-decoration-color: #00af00\">30</span>)        │          <span style=\"color: #00af00; text-decoration-color: #00af00\">0</span> │ -                 │\n",
       "│ autoencoder_input   │                   │            │                   │\n",
       "│ (<span style=\"color: #0087ff; text-decoration-color: #0087ff\">InputLayer</span>)        │                   │            │                   │\n",
       "├─────────────────────┼───────────────────┼────────────┼───────────────────┤\n",
       "│       └ enc_dense1  │ (<span style=\"color: #00d7ff; text-decoration-color: #00d7ff\">None</span>, <span style=\"color: #00af00; text-decoration-color: #00af00\">16</span>)        │        <span style=\"color: #00af00; text-decoration-color: #00af00\">496</span> │ -                 │\n",
       "│ (<span style=\"color: #0087ff; text-decoration-color: #0087ff\">Dense</span>)             │                   │            │                   │\n",
       "├─────────────────────┼───────────────────┼────────────┼───────────────────┤\n",
       "│       └             │ (<span style=\"color: #00d7ff; text-decoration-color: #00d7ff\">None</span>, <span style=\"color: #00af00; text-decoration-color: #00af00\">16</span>)        │          <span style=\"color: #00af00; text-decoration-color: #00af00\">0</span> │ -                 │\n",
       "│ enc_dropout1        │                   │            │                   │\n",
       "│ (<span style=\"color: #0087ff; text-decoration-color: #0087ff\">Dropout</span>)           │                   │            │                   │\n",
       "├─────────────────────┼───────────────────┼────────────┼───────────────────┤\n",
       "│       └ enc_dense2  │ (<span style=\"color: #00d7ff; text-decoration-color: #00d7ff\">None</span>, <span style=\"color: #00af00; text-decoration-color: #00af00\">8</span>)         │        <span style=\"color: #00af00; text-decoration-color: #00af00\">136</span> │ -                 │\n",
       "│ (<span style=\"color: #0087ff; text-decoration-color: #0087ff\">Dense</span>)             │                   │            │                   │\n",
       "├─────────────────────┼───────────────────┼────────────┼───────────────────┤\n",
       "│       └             │ (<span style=\"color: #00d7ff; text-decoration-color: #00d7ff\">None</span>, <span style=\"color: #00af00; text-decoration-color: #00af00\">8</span>)         │          <span style=\"color: #00af00; text-decoration-color: #00af00\">0</span> │ -                 │\n",
       "│ enc_dropout2        │                   │            │                   │\n",
       "│ (<span style=\"color: #0087ff; text-decoration-color: #0087ff\">Dropout</span>)           │                   │            │                   │\n",
       "├─────────────────────┼───────────────────┼────────────┼───────────────────┤\n",
       "│       └ latent      │ (<span style=\"color: #00d7ff; text-decoration-color: #00d7ff\">None</span>, <span style=\"color: #00af00; text-decoration-color: #00af00\">4</span>)         │         <span style=\"color: #00af00; text-decoration-color: #00af00\">36</span> │ -                 │\n",
       "│ (<span style=\"color: #0087ff; text-decoration-color: #0087ff\">Dense</span>)             │                   │            │                   │\n",
       "├─────────────────────┼───────────────────┼────────────┼───────────────────┤\n",
       "│       └ dec_dense1  │ (<span style=\"color: #00d7ff; text-decoration-color: #00d7ff\">None</span>, <span style=\"color: #00af00; text-decoration-color: #00af00\">8</span>)         │         <span style=\"color: #00af00; text-decoration-color: #00af00\">40</span> │ -                 │\n",
       "│ (<span style=\"color: #0087ff; text-decoration-color: #0087ff\">Dense</span>)             │                   │            │                   │\n",
       "├─────────────────────┼───────────────────┼────────────┼───────────────────┤\n",
       "│       └             │ (<span style=\"color: #00d7ff; text-decoration-color: #00d7ff\">None</span>, <span style=\"color: #00af00; text-decoration-color: #00af00\">8</span>)         │          <span style=\"color: #00af00; text-decoration-color: #00af00\">0</span> │ -                 │\n",
       "│ dec_dropout1        │                   │            │                   │\n",
       "│ (<span style=\"color: #0087ff; text-decoration-color: #0087ff\">Dropout</span>)           │                   │            │                   │\n",
       "├─────────────────────┼───────────────────┼────────────┼───────────────────┤\n",
       "│       └ dec_dense2  │ (<span style=\"color: #00d7ff; text-decoration-color: #00d7ff\">None</span>, <span style=\"color: #00af00; text-decoration-color: #00af00\">16</span>)        │        <span style=\"color: #00af00; text-decoration-color: #00af00\">144</span> │ -                 │\n",
       "│ (<span style=\"color: #0087ff; text-decoration-color: #0087ff\">Dense</span>)             │                   │            │                   │\n",
       "├─────────────────────┼───────────────────┼────────────┼───────────────────┤\n",
       "│       └             │ (<span style=\"color: #00d7ff; text-decoration-color: #00d7ff\">None</span>, <span style=\"color: #00af00; text-decoration-color: #00af00\">16</span>)        │          <span style=\"color: #00af00; text-decoration-color: #00af00\">0</span> │ -                 │\n",
       "│ dec_dropout2        │                   │            │                   │\n",
       "│ (<span style=\"color: #0087ff; text-decoration-color: #0087ff\">Dropout</span>)           │                   │            │                   │\n",
       "├─────────────────────┼───────────────────┼────────────┼───────────────────┤\n",
       "│       └             │ (<span style=\"color: #00d7ff; text-decoration-color: #00d7ff\">None</span>, <span style=\"color: #00af00; text-decoration-color: #00af00\">30</span>)        │        <span style=\"color: #00af00; text-decoration-color: #00af00\">510</span> │ -                 │\n",
       "│ reconstructed       │                   │            │                   │\n",
       "│ (<span style=\"color: #0087ff; text-decoration-color: #0087ff\">Dense</span>)             │                   │            │                   │\n",
       "├─────────────────────┼───────────────────┼────────────┼───────────────────┤\n",
       "│    └ denormalize    │ (<span style=\"color: #00d7ff; text-decoration-color: #00d7ff\">None</span>, <span style=\"color: #00af00; text-decoration-color: #00af00\">30</span>)        │          <span style=\"color: #00af00; text-decoration-color: #00af00\">0</span> │ -                 │\n",
       "│ (<span style=\"color: #0087ff; text-decoration-color: #0087ff\">Normalization</span>)     │                   │            │                   │\n",
       "├─────────────────────┼───────────────────┼────────────┼───────────────────┤\n",
       "│    └ encoder        │ (<span style=\"color: #00d7ff; text-decoration-color: #00d7ff\">None</span>, <span style=\"color: #00af00; text-decoration-color: #00af00\">4</span>)         │        <span style=\"color: #00af00; text-decoration-color: #00af00\">668</span> │ -                 │\n",
       "│ (<span style=\"color: #0087ff; text-decoration-color: #0087ff\">Functional</span>)        │                   │            │                   │\n",
       "├─────────────────────┼───────────────────┼────────────┼───────────────────┤\n",
       "│       └             │ (<span style=\"color: #00d7ff; text-decoration-color: #00d7ff\">None</span>, <span style=\"color: #00af00; text-decoration-color: #00af00\">30</span>)        │          <span style=\"color: #00af00; text-decoration-color: #00af00\">0</span> │ -                 │\n",
       "│ autoencoder_input   │                   │            │                   │\n",
       "│ (<span style=\"color: #0087ff; text-decoration-color: #0087ff\">InputLayer</span>)        │                   │            │                   │\n",
       "├─────────────────────┼───────────────────┼────────────┼───────────────────┤\n",
       "│       └ enc_dense1  │ (<span style=\"color: #00d7ff; text-decoration-color: #00d7ff\">None</span>, <span style=\"color: #00af00; text-decoration-color: #00af00\">16</span>)        │        <span style=\"color: #00af00; text-decoration-color: #00af00\">496</span> │ -                 │\n",
       "│ (<span style=\"color: #0087ff; text-decoration-color: #0087ff\">Dense</span>)             │                   │            │                   │\n",
       "├─────────────────────┼───────────────────┼────────────┼───────────────────┤\n",
       "│       └             │ (<span style=\"color: #00d7ff; text-decoration-color: #00d7ff\">None</span>, <span style=\"color: #00af00; text-decoration-color: #00af00\">16</span>)        │          <span style=\"color: #00af00; text-decoration-color: #00af00\">0</span> │ -                 │\n",
       "│ enc_dropout1        │                   │            │                   │\n",
       "│ (<span style=\"color: #0087ff; text-decoration-color: #0087ff\">Dropout</span>)           │                   │            │                   │\n",
       "├─────────────────────┼───────────────────┼────────────┼───────────────────┤\n",
       "│       └ enc_dense2  │ (<span style=\"color: #00d7ff; text-decoration-color: #00d7ff\">None</span>, <span style=\"color: #00af00; text-decoration-color: #00af00\">8</span>)         │        <span style=\"color: #00af00; text-decoration-color: #00af00\">136</span> │ -                 │\n",
       "│ (<span style=\"color: #0087ff; text-decoration-color: #0087ff\">Dense</span>)             │                   │            │                   │\n",
       "├─────────────────────┼───────────────────┼────────────┼───────────────────┤\n",
       "│       └             │ (<span style=\"color: #00d7ff; text-decoration-color: #00d7ff\">None</span>, <span style=\"color: #00af00; text-decoration-color: #00af00\">8</span>)         │          <span style=\"color: #00af00; text-decoration-color: #00af00\">0</span> │ -                 │\n",
       "│ enc_dropout2        │                   │            │                   │\n",
       "│ (<span style=\"color: #0087ff; text-decoration-color: #0087ff\">Dropout</span>)           │                   │            │                   │\n",
       "├─────────────────────┼───────────────────┼────────────┼───────────────────┤\n",
       "│       └ latent      │ (<span style=\"color: #00d7ff; text-decoration-color: #00d7ff\">None</span>, <span style=\"color: #00af00; text-decoration-color: #00af00\">4</span>)         │         <span style=\"color: #00af00; text-decoration-color: #00af00\">36</span> │ -                 │\n",
       "│ (<span style=\"color: #0087ff; text-decoration-color: #0087ff\">Dense</span>)             │                   │            │                   │\n",
       "└─────────────────────┴───────────────────┴────────────┴───────────────────┘\n",
       "</pre>\n"
      ],
      "text/plain": [
       "┏━━━━━━━━━━━━━━━━━━━━━┳━━━━━━━━━━━━━━━━━━━┳━━━━━━━━━━━━┳━━━━━━━━━━━━━━━━━━━┓\n",
       "┃\u001b[1m \u001b[0m\u001b[1mLayer (type)       \u001b[0m\u001b[1m \u001b[0m┃\u001b[1m \u001b[0m\u001b[1mOutput Shape     \u001b[0m\u001b[1m \u001b[0m┃\u001b[1m \u001b[0m\u001b[1m   Param #\u001b[0m\u001b[1m \u001b[0m┃\u001b[1m \u001b[0m\u001b[1mConnected to     \u001b[0m\u001b[1m \u001b[0m┃\n",
       "┡━━━━━━━━━━━━━━━━━━━━━╇━━━━━━━━━━━━━━━━━━━╇━━━━━━━━━━━━╇━━━━━━━━━━━━━━━━━━━┩\n",
       "│ Time (\u001b[38;5;33mInputLayer\u001b[0m)   │ (\u001b[38;5;45mNone\u001b[0m, \u001b[38;5;34m1\u001b[0m)         │          \u001b[38;5;34m0\u001b[0m │ -                 │\n",
       "├─────────────────────┼───────────────────┼────────────┼───────────────────┤\n",
       "│ V1 (\u001b[38;5;33mInputLayer\u001b[0m)     │ (\u001b[38;5;45mNone\u001b[0m, \u001b[38;5;34m1\u001b[0m)         │          \u001b[38;5;34m0\u001b[0m │ -                 │\n",
       "├─────────────────────┼───────────────────┼────────────┼───────────────────┤\n",
       "│ V2 (\u001b[38;5;33mInputLayer\u001b[0m)     │ (\u001b[38;5;45mNone\u001b[0m, \u001b[38;5;34m1\u001b[0m)         │          \u001b[38;5;34m0\u001b[0m │ -                 │\n",
       "├─────────────────────┼───────────────────┼────────────┼───────────────────┤\n",
       "│ V3 (\u001b[38;5;33mInputLayer\u001b[0m)     │ (\u001b[38;5;45mNone\u001b[0m, \u001b[38;5;34m1\u001b[0m)         │          \u001b[38;5;34m0\u001b[0m │ -                 │\n",
       "├─────────────────────┼───────────────────┼────────────┼───────────────────┤\n",
       "│ V4 (\u001b[38;5;33mInputLayer\u001b[0m)     │ (\u001b[38;5;45mNone\u001b[0m, \u001b[38;5;34m1\u001b[0m)         │          \u001b[38;5;34m0\u001b[0m │ -                 │\n",
       "├─────────────────────┼───────────────────┼────────────┼───────────────────┤\n",
       "│ V5 (\u001b[38;5;33mInputLayer\u001b[0m)     │ (\u001b[38;5;45mNone\u001b[0m, \u001b[38;5;34m1\u001b[0m)         │          \u001b[38;5;34m0\u001b[0m │ -                 │\n",
       "├─────────────────────┼───────────────────┼────────────┼───────────────────┤\n",
       "│ V6 (\u001b[38;5;33mInputLayer\u001b[0m)     │ (\u001b[38;5;45mNone\u001b[0m, \u001b[38;5;34m1\u001b[0m)         │          \u001b[38;5;34m0\u001b[0m │ -                 │\n",
       "├─────────────────────┼───────────────────┼────────────┼───────────────────┤\n",
       "│ V7 (\u001b[38;5;33mInputLayer\u001b[0m)     │ (\u001b[38;5;45mNone\u001b[0m, \u001b[38;5;34m1\u001b[0m)         │          \u001b[38;5;34m0\u001b[0m │ -                 │\n",
       "├─────────────────────┼───────────────────┼────────────┼───────────────────┤\n",
       "│ V8 (\u001b[38;5;33mInputLayer\u001b[0m)     │ (\u001b[38;5;45mNone\u001b[0m, \u001b[38;5;34m1\u001b[0m)         │          \u001b[38;5;34m0\u001b[0m │ -                 │\n",
       "├─────────────────────┼───────────────────┼────────────┼───────────────────┤\n",
       "│ V9 (\u001b[38;5;33mInputLayer\u001b[0m)     │ (\u001b[38;5;45mNone\u001b[0m, \u001b[38;5;34m1\u001b[0m)         │          \u001b[38;5;34m0\u001b[0m │ -                 │\n",
       "├─────────────────────┼───────────────────┼────────────┼───────────────────┤\n",
       "│ V10 (\u001b[38;5;33mInputLayer\u001b[0m)    │ (\u001b[38;5;45mNone\u001b[0m, \u001b[38;5;34m1\u001b[0m)         │          \u001b[38;5;34m0\u001b[0m │ -                 │\n",
       "├─────────────────────┼───────────────────┼────────────┼───────────────────┤\n",
       "│ V11 (\u001b[38;5;33mInputLayer\u001b[0m)    │ (\u001b[38;5;45mNone\u001b[0m, \u001b[38;5;34m1\u001b[0m)         │          \u001b[38;5;34m0\u001b[0m │ -                 │\n",
       "├─────────────────────┼───────────────────┼────────────┼───────────────────┤\n",
       "│ V12 (\u001b[38;5;33mInputLayer\u001b[0m)    │ (\u001b[38;5;45mNone\u001b[0m, \u001b[38;5;34m1\u001b[0m)         │          \u001b[38;5;34m0\u001b[0m │ -                 │\n",
       "├─────────────────────┼───────────────────┼────────────┼───────────────────┤\n",
       "│ V13 (\u001b[38;5;33mInputLayer\u001b[0m)    │ (\u001b[38;5;45mNone\u001b[0m, \u001b[38;5;34m1\u001b[0m)         │          \u001b[38;5;34m0\u001b[0m │ -                 │\n",
       "├─────────────────────┼───────────────────┼────────────┼───────────────────┤\n",
       "│ V14 (\u001b[38;5;33mInputLayer\u001b[0m)    │ (\u001b[38;5;45mNone\u001b[0m, \u001b[38;5;34m1\u001b[0m)         │          \u001b[38;5;34m0\u001b[0m │ -                 │\n",
       "├─────────────────────┼───────────────────┼────────────┼───────────────────┤\n",
       "│ V15 (\u001b[38;5;33mInputLayer\u001b[0m)    │ (\u001b[38;5;45mNone\u001b[0m, \u001b[38;5;34m1\u001b[0m)         │          \u001b[38;5;34m0\u001b[0m │ -                 │\n",
       "├─────────────────────┼───────────────────┼────────────┼───────────────────┤\n",
       "│ V16 (\u001b[38;5;33mInputLayer\u001b[0m)    │ (\u001b[38;5;45mNone\u001b[0m, \u001b[38;5;34m1\u001b[0m)         │          \u001b[38;5;34m0\u001b[0m │ -                 │\n",
       "├─────────────────────┼───────────────────┼────────────┼───────────────────┤\n",
       "│ V17 (\u001b[38;5;33mInputLayer\u001b[0m)    │ (\u001b[38;5;45mNone\u001b[0m, \u001b[38;5;34m1\u001b[0m)         │          \u001b[38;5;34m0\u001b[0m │ -                 │\n",
       "├─────────────────────┼───────────────────┼────────────┼───────────────────┤\n",
       "│ V18 (\u001b[38;5;33mInputLayer\u001b[0m)    │ (\u001b[38;5;45mNone\u001b[0m, \u001b[38;5;34m1\u001b[0m)         │          \u001b[38;5;34m0\u001b[0m │ -                 │\n",
       "├─────────────────────┼───────────────────┼────────────┼───────────────────┤\n",
       "│ V19 (\u001b[38;5;33mInputLayer\u001b[0m)    │ (\u001b[38;5;45mNone\u001b[0m, \u001b[38;5;34m1\u001b[0m)         │          \u001b[38;5;34m0\u001b[0m │ -                 │\n",
       "├─────────────────────┼───────────────────┼────────────┼───────────────────┤\n",
       "│ V20 (\u001b[38;5;33mInputLayer\u001b[0m)    │ (\u001b[38;5;45mNone\u001b[0m, \u001b[38;5;34m1\u001b[0m)         │          \u001b[38;5;34m0\u001b[0m │ -                 │\n",
       "├─────────────────────┼───────────────────┼────────────┼───────────────────┤\n",
       "│ V21 (\u001b[38;5;33mInputLayer\u001b[0m)    │ (\u001b[38;5;45mNone\u001b[0m, \u001b[38;5;34m1\u001b[0m)         │          \u001b[38;5;34m0\u001b[0m │ -                 │\n",
       "├─────────────────────┼───────────────────┼────────────┼───────────────────┤\n",
       "│ V22 (\u001b[38;5;33mInputLayer\u001b[0m)    │ (\u001b[38;5;45mNone\u001b[0m, \u001b[38;5;34m1\u001b[0m)         │          \u001b[38;5;34m0\u001b[0m │ -                 │\n",
       "├─────────────────────┼───────────────────┼────────────┼───────────────────┤\n",
       "│ V23 (\u001b[38;5;33mInputLayer\u001b[0m)    │ (\u001b[38;5;45mNone\u001b[0m, \u001b[38;5;34m1\u001b[0m)         │          \u001b[38;5;34m0\u001b[0m │ -                 │\n",
       "├─────────────────────┼───────────────────┼────────────┼───────────────────┤\n",
       "│ V24 (\u001b[38;5;33mInputLayer\u001b[0m)    │ (\u001b[38;5;45mNone\u001b[0m, \u001b[38;5;34m1\u001b[0m)         │          \u001b[38;5;34m0\u001b[0m │ -                 │\n",
       "├─────────────────────┼───────────────────┼────────────┼───────────────────┤\n",
       "│ V25 (\u001b[38;5;33mInputLayer\u001b[0m)    │ (\u001b[38;5;45mNone\u001b[0m, \u001b[38;5;34m1\u001b[0m)         │          \u001b[38;5;34m0\u001b[0m │ -                 │\n",
       "├─────────────────────┼───────────────────┼────────────┼───────────────────┤\n",
       "│ V26 (\u001b[38;5;33mInputLayer\u001b[0m)    │ (\u001b[38;5;45mNone\u001b[0m, \u001b[38;5;34m1\u001b[0m)         │          \u001b[38;5;34m0\u001b[0m │ -                 │\n",
       "├─────────────────────┼───────────────────┼────────────┼───────────────────┤\n",
       "│ V27 (\u001b[38;5;33mInputLayer\u001b[0m)    │ (\u001b[38;5;45mNone\u001b[0m, \u001b[38;5;34m1\u001b[0m)         │          \u001b[38;5;34m0\u001b[0m │ -                 │\n",
       "├─────────────────────┼───────────────────┼────────────┼───────────────────┤\n",
       "│ V28 (\u001b[38;5;33mInputLayer\u001b[0m)    │ (\u001b[38;5;45mNone\u001b[0m, \u001b[38;5;34m1\u001b[0m)         │          \u001b[38;5;34m0\u001b[0m │ -                 │\n",
       "├─────────────────────┼───────────────────┼────────────┼───────────────────┤\n",
       "│ Amount (\u001b[38;5;33mInputLayer\u001b[0m) │ (\u001b[38;5;45mNone\u001b[0m, \u001b[38;5;34m1\u001b[0m)         │          \u001b[38;5;34m0\u001b[0m │ -                 │\n",
       "├─────────────────────┼───────────────────┼────────────┼───────────────────┤\n",
       "│ concatenate         │ (\u001b[38;5;45mNone\u001b[0m, \u001b[38;5;34m30\u001b[0m)        │          \u001b[38;5;34m0\u001b[0m │ Time[\u001b[38;5;34m0\u001b[0m][\u001b[38;5;34m0\u001b[0m],       │\n",
       "│ (\u001b[38;5;33mConcatenate\u001b[0m)       │                   │            │ V1[\u001b[38;5;34m0\u001b[0m][\u001b[38;5;34m0\u001b[0m],         │\n",
       "│                     │                   │            │ V2[\u001b[38;5;34m0\u001b[0m][\u001b[38;5;34m0\u001b[0m],         │\n",
       "│                     │                   │            │ V3[\u001b[38;5;34m0\u001b[0m][\u001b[38;5;34m0\u001b[0m],         │\n",
       "│                     │                   │            │ V4[\u001b[38;5;34m0\u001b[0m][\u001b[38;5;34m0\u001b[0m],         │\n",
       "│                     │                   │            │ V5[\u001b[38;5;34m0\u001b[0m][\u001b[38;5;34m0\u001b[0m],         │\n",
       "│                     │                   │            │ V6[\u001b[38;5;34m0\u001b[0m][\u001b[38;5;34m0\u001b[0m],         │\n",
       "│                     │                   │            │ V7[\u001b[38;5;34m0\u001b[0m][\u001b[38;5;34m0\u001b[0m],         │\n",
       "│                     │                   │            │ V8[\u001b[38;5;34m0\u001b[0m][\u001b[38;5;34m0\u001b[0m],         │\n",
       "│                     │                   │            │ V9[\u001b[38;5;34m0\u001b[0m][\u001b[38;5;34m0\u001b[0m],         │\n",
       "│                     │                   │            │ V10[\u001b[38;5;34m0\u001b[0m][\u001b[38;5;34m0\u001b[0m],        │\n",
       "│                     │                   │            │ V11[\u001b[38;5;34m0\u001b[0m][\u001b[38;5;34m0\u001b[0m],        │\n",
       "│                     │                   │            │ V12[\u001b[38;5;34m0\u001b[0m][\u001b[38;5;34m0\u001b[0m],        │\n",
       "│                     │                   │            │ V13[\u001b[38;5;34m0\u001b[0m][\u001b[38;5;34m0\u001b[0m],        │\n",
       "│                     │                   │            │ V14[\u001b[38;5;34m0\u001b[0m][\u001b[38;5;34m0\u001b[0m],        │\n",
       "│                     │                   │            │ V15[\u001b[38;5;34m0\u001b[0m][\u001b[38;5;34m0\u001b[0m],        │\n",
       "│                     │                   │            │ V16[\u001b[38;5;34m0\u001b[0m][\u001b[38;5;34m0\u001b[0m],        │\n",
       "│                     │                   │            │ V17[\u001b[38;5;34m0\u001b[0m][\u001b[38;5;34m0\u001b[0m],        │\n",
       "│                     │                   │            │ V18[\u001b[38;5;34m0\u001b[0m][\u001b[38;5;34m0\u001b[0m],        │\n",
       "│                     │                   │            │ V19[\u001b[38;5;34m0\u001b[0m][\u001b[38;5;34m0\u001b[0m],        │\n",
       "│                     │                   │            │ V20[\u001b[38;5;34m0\u001b[0m][\u001b[38;5;34m0\u001b[0m],        │\n",
       "│                     │                   │            │ V21[\u001b[38;5;34m0\u001b[0m][\u001b[38;5;34m0\u001b[0m],        │\n",
       "│                     │                   │            │ V22[\u001b[38;5;34m0\u001b[0m][\u001b[38;5;34m0\u001b[0m],        │\n",
       "│                     │                   │            │ V23[\u001b[38;5;34m0\u001b[0m][\u001b[38;5;34m0\u001b[0m],        │\n",
       "│                     │                   │            │ V24[\u001b[38;5;34m0\u001b[0m][\u001b[38;5;34m0\u001b[0m],        │\n",
       "│                     │                   │            │ V25[\u001b[38;5;34m0\u001b[0m][\u001b[38;5;34m0\u001b[0m],        │\n",
       "│                     │                   │            │ V26[\u001b[38;5;34m0\u001b[0m][\u001b[38;5;34m0\u001b[0m],        │\n",
       "│                     │                   │            │ V27[\u001b[38;5;34m0\u001b[0m][\u001b[38;5;34m0\u001b[0m],        │\n",
       "│                     │                   │            │ V28[\u001b[38;5;34m0\u001b[0m][\u001b[38;5;34m0\u001b[0m],        │\n",
       "│                     │                   │            │ Amount[\u001b[38;5;34m0\u001b[0m][\u001b[38;5;34m0\u001b[0m]      │\n",
       "├─────────────────────┼───────────────────┼────────────┼───────────────────┤\n",
       "│ stacked_autoencoder │ [(\u001b[38;5;45mNone\u001b[0m, \u001b[38;5;34m30\u001b[0m),      │      \u001b[38;5;34m1,423\u001b[0m │ concatenate[\u001b[38;5;34m0\u001b[0m][\u001b[38;5;34m0\u001b[0m] │\n",
       "│ (\u001b[38;5;33mFunctional\u001b[0m)        │ (\u001b[38;5;45mNone\u001b[0m, \u001b[38;5;34m4\u001b[0m), (\u001b[38;5;45mNone\u001b[0m, │            │                   │\n",
       "│                     │ \u001b[38;5;34m30\u001b[0m)]              │            │                   │\n",
       "├─────────────────────┼───────────────────┼────────────┼───────────────────┤\n",
       "│    └ serving_input  │ (\u001b[38;5;45mNone\u001b[0m, \u001b[38;5;34m30\u001b[0m)        │          \u001b[38;5;34m0\u001b[0m │ -                 │\n",
       "│ (\u001b[38;5;33mInputLayer\u001b[0m)        │                   │            │                   │\n",
       "├─────────────────────┼───────────────────┼────────────┼───────────────────┤\n",
       "│    └ normalization  │ (\u001b[38;5;45mNone\u001b[0m, \u001b[38;5;34m30\u001b[0m)        │         \u001b[38;5;34m61\u001b[0m │ -                 │\n",
       "│ (\u001b[38;5;33mNormalization\u001b[0m)     │                   │            │                   │\n",
       "├─────────────────────┼───────────────────┼────────────┼───────────────────┤\n",
       "│    └ autoencoder    │ (\u001b[38;5;45mNone\u001b[0m, \u001b[38;5;34m30\u001b[0m)        │      \u001b[38;5;34m1,362\u001b[0m │ -                 │\n",
       "│ (\u001b[38;5;33mFunctional\u001b[0m)        │                   │            │                   │\n",
       "├─────────────────────┼───────────────────┼────────────┼───────────────────┤\n",
       "│       └             │ (\u001b[38;5;45mNone\u001b[0m, \u001b[38;5;34m30\u001b[0m)        │          \u001b[38;5;34m0\u001b[0m │ -                 │\n",
       "│ autoencoder_input   │                   │            │                   │\n",
       "│ (\u001b[38;5;33mInputLayer\u001b[0m)        │                   │            │                   │\n",
       "├─────────────────────┼───────────────────┼────────────┼───────────────────┤\n",
       "│       └ enc_dense1  │ (\u001b[38;5;45mNone\u001b[0m, \u001b[38;5;34m16\u001b[0m)        │        \u001b[38;5;34m496\u001b[0m │ -                 │\n",
       "│ (\u001b[38;5;33mDense\u001b[0m)             │                   │            │                   │\n",
       "├─────────────────────┼───────────────────┼────────────┼───────────────────┤\n",
       "│       └             │ (\u001b[38;5;45mNone\u001b[0m, \u001b[38;5;34m16\u001b[0m)        │          \u001b[38;5;34m0\u001b[0m │ -                 │\n",
       "│ enc_dropout1        │                   │            │                   │\n",
       "│ (\u001b[38;5;33mDropout\u001b[0m)           │                   │            │                   │\n",
       "├─────────────────────┼───────────────────┼────────────┼───────────────────┤\n",
       "│       └ enc_dense2  │ (\u001b[38;5;45mNone\u001b[0m, \u001b[38;5;34m8\u001b[0m)         │        \u001b[38;5;34m136\u001b[0m │ -                 │\n",
       "│ (\u001b[38;5;33mDense\u001b[0m)             │                   │            │                   │\n",
       "├─────────────────────┼───────────────────┼────────────┼───────────────────┤\n",
       "│       └             │ (\u001b[38;5;45mNone\u001b[0m, \u001b[38;5;34m8\u001b[0m)         │          \u001b[38;5;34m0\u001b[0m │ -                 │\n",
       "│ enc_dropout2        │                   │            │                   │\n",
       "│ (\u001b[38;5;33mDropout\u001b[0m)           │                   │            │                   │\n",
       "├─────────────────────┼───────────────────┼────────────┼───────────────────┤\n",
       "│       └ latent      │ (\u001b[38;5;45mNone\u001b[0m, \u001b[38;5;34m4\u001b[0m)         │         \u001b[38;5;34m36\u001b[0m │ -                 │\n",
       "│ (\u001b[38;5;33mDense\u001b[0m)             │                   │            │                   │\n",
       "├─────────────────────┼───────────────────┼────────────┼───────────────────┤\n",
       "│       └ dec_dense1  │ (\u001b[38;5;45mNone\u001b[0m, \u001b[38;5;34m8\u001b[0m)         │         \u001b[38;5;34m40\u001b[0m │ -                 │\n",
       "│ (\u001b[38;5;33mDense\u001b[0m)             │                   │            │                   │\n",
       "├─────────────────────┼───────────────────┼────────────┼───────────────────┤\n",
       "│       └             │ (\u001b[38;5;45mNone\u001b[0m, \u001b[38;5;34m8\u001b[0m)         │          \u001b[38;5;34m0\u001b[0m │ -                 │\n",
       "│ dec_dropout1        │                   │            │                   │\n",
       "│ (\u001b[38;5;33mDropout\u001b[0m)           │                   │            │                   │\n",
       "├─────────────────────┼───────────────────┼────────────┼───────────────────┤\n",
       "│       └ dec_dense2  │ (\u001b[38;5;45mNone\u001b[0m, \u001b[38;5;34m16\u001b[0m)        │        \u001b[38;5;34m144\u001b[0m │ -                 │\n",
       "│ (\u001b[38;5;33mDense\u001b[0m)             │                   │            │                   │\n",
       "├─────────────────────┼───────────────────┼────────────┼───────────────────┤\n",
       "│       └             │ (\u001b[38;5;45mNone\u001b[0m, \u001b[38;5;34m16\u001b[0m)        │          \u001b[38;5;34m0\u001b[0m │ -                 │\n",
       "│ dec_dropout2        │                   │            │                   │\n",
       "│ (\u001b[38;5;33mDropout\u001b[0m)           │                   │            │                   │\n",
       "├─────────────────────┼───────────────────┼────────────┼───────────────────┤\n",
       "│       └             │ (\u001b[38;5;45mNone\u001b[0m, \u001b[38;5;34m30\u001b[0m)        │        \u001b[38;5;34m510\u001b[0m │ -                 │\n",
       "│ reconstructed       │                   │            │                   │\n",
       "│ (\u001b[38;5;33mDense\u001b[0m)             │                   │            │                   │\n",
       "├─────────────────────┼───────────────────┼────────────┼───────────────────┤\n",
       "│    └ denormalize    │ (\u001b[38;5;45mNone\u001b[0m, \u001b[38;5;34m30\u001b[0m)        │          \u001b[38;5;34m0\u001b[0m │ -                 │\n",
       "│ (\u001b[38;5;33mNormalization\u001b[0m)     │                   │            │                   │\n",
       "├─────────────────────┼───────────────────┼────────────┼───────────────────┤\n",
       "│    └ encoder        │ (\u001b[38;5;45mNone\u001b[0m, \u001b[38;5;34m4\u001b[0m)         │        \u001b[38;5;34m668\u001b[0m │ -                 │\n",
       "│ (\u001b[38;5;33mFunctional\u001b[0m)        │                   │            │                   │\n",
       "├─────────────────────┼───────────────────┼────────────┼───────────────────┤\n",
       "│       └             │ (\u001b[38;5;45mNone\u001b[0m, \u001b[38;5;34m30\u001b[0m)        │          \u001b[38;5;34m0\u001b[0m │ -                 │\n",
       "│ autoencoder_input   │                   │            │                   │\n",
       "│ (\u001b[38;5;33mInputLayer\u001b[0m)        │                   │            │                   │\n",
       "├─────────────────────┼───────────────────┼────────────┼───────────────────┤\n",
       "│       └ enc_dense1  │ (\u001b[38;5;45mNone\u001b[0m, \u001b[38;5;34m16\u001b[0m)        │        \u001b[38;5;34m496\u001b[0m │ -                 │\n",
       "│ (\u001b[38;5;33mDense\u001b[0m)             │                   │            │                   │\n",
       "├─────────────────────┼───────────────────┼────────────┼───────────────────┤\n",
       "│       └             │ (\u001b[38;5;45mNone\u001b[0m, \u001b[38;5;34m16\u001b[0m)        │          \u001b[38;5;34m0\u001b[0m │ -                 │\n",
       "│ enc_dropout1        │                   │            │                   │\n",
       "│ (\u001b[38;5;33mDropout\u001b[0m)           │                   │            │                   │\n",
       "├─────────────────────┼───────────────────┼────────────┼───────────────────┤\n",
       "│       └ enc_dense2  │ (\u001b[38;5;45mNone\u001b[0m, \u001b[38;5;34m8\u001b[0m)         │        \u001b[38;5;34m136\u001b[0m │ -                 │\n",
       "│ (\u001b[38;5;33mDense\u001b[0m)             │                   │            │                   │\n",
       "├─────────────────────┼───────────────────┼────────────┼───────────────────┤\n",
       "│       └             │ (\u001b[38;5;45mNone\u001b[0m, \u001b[38;5;34m8\u001b[0m)         │          \u001b[38;5;34m0\u001b[0m │ -                 │\n",
       "│ enc_dropout2        │                   │            │                   │\n",
       "│ (\u001b[38;5;33mDropout\u001b[0m)           │                   │            │                   │\n",
       "├─────────────────────┼───────────────────┼────────────┼───────────────────┤\n",
       "│       └ latent      │ (\u001b[38;5;45mNone\u001b[0m, \u001b[38;5;34m4\u001b[0m)         │         \u001b[38;5;34m36\u001b[0m │ -                 │\n",
       "│ (\u001b[38;5;33mDense\u001b[0m)             │                   │            │                   │\n",
       "└─────────────────────┴───────────────────┴────────────┴───────────────────┘\n"
      ]
     },
     "metadata": {},
     "output_type": "display_data"
    },
    {
     "data": {
      "text/html": [
       "<pre style=\"white-space:pre;overflow-x:auto;line-height:normal;font-family:Menlo,'DejaVu Sans Mono',consolas,'Courier New',monospace\"><span style=\"font-weight: bold\"> Total params: </span><span style=\"color: #00af00; text-decoration-color: #00af00\">1,423</span> (5.56 KB)\n",
       "</pre>\n"
      ],
      "text/plain": [
       "\u001b[1m Total params: \u001b[0m\u001b[38;5;34m1,423\u001b[0m (5.56 KB)\n"
      ]
     },
     "metadata": {},
     "output_type": "display_data"
    },
    {
     "data": {
      "text/html": [
       "<pre style=\"white-space:pre;overflow-x:auto;line-height:normal;font-family:Menlo,'DejaVu Sans Mono',consolas,'Courier New',monospace\"><span style=\"font-weight: bold\"> Trainable params: </span><span style=\"color: #00af00; text-decoration-color: #00af00\">1,362</span> (5.32 KB)\n",
       "</pre>\n"
      ],
      "text/plain": [
       "\u001b[1m Trainable params: \u001b[0m\u001b[38;5;34m1,362\u001b[0m (5.32 KB)\n"
      ]
     },
     "metadata": {},
     "output_type": "display_data"
    },
    {
     "data": {
      "text/html": [
       "<pre style=\"white-space:pre;overflow-x:auto;line-height:normal;font-family:Menlo,'DejaVu Sans Mono',consolas,'Courier New',monospace\"><span style=\"font-weight: bold\"> Non-trainable params: </span><span style=\"color: #00af00; text-decoration-color: #00af00\">61</span> (244.00 B)\n",
       "</pre>\n"
      ],
      "text/plain": [
       "\u001b[1m Non-trainable params: \u001b[0m\u001b[38;5;34m61\u001b[0m (244.00 B)\n"
      ]
     },
     "metadata": {},
     "output_type": "display_data"
    }
   ],
   "source": [
    "ordered_model.summary(expand_nested = True)"
   ]
  },
  {
   "cell_type": "markdown",
   "id": "a3f35bcb-39ab-4b20-9906-b523f93a4bc4",
   "metadata": {},
   "source": [
    "### Detailed Post-Processing\n",
    "\n",
    "Derive useful information from the reconstructed data, both normalized and denormalized."
   ]
  },
  {
   "cell_type": "code",
   "execution_count": 106,
   "id": "596759e8-a6be-4864-8d50-99d1fa711820",
   "metadata": {
    "tags": []
   },
   "outputs": [],
   "source": [
    "def post_process_predictions(inputs, predictions):\n",
    "    inputs = jnp.array(inputs)\n",
    "    normalized_inputs = normalizer(inputs)\n",
    "    normalized_reconstruction = predictions['normalized']\n",
    "    denormalized_reconstruction = predictions['denormalized']\n",
    "\n",
    "    # Per-instance, aggregated metrics.  Keep axis=-1, then reshape.\n",
    "    norm_mae = jnp.mean(jnp.abs(normalized_reconstruction - normalized_inputs), axis=-1)\n",
    "    norm_rmse = jnp.sqrt(jnp.mean(jnp.square(normalized_reconstruction - normalized_inputs), axis=-1))\n",
    "    norm_mse = jnp.mean(jnp.square(normalized_reconstruction - normalized_inputs), axis=-1)\n",
    "    norm_msle = jnp.mean(jnp.square(jnp.log1p(jnp.maximum(0.0, normalized_reconstruction)) - jnp.log1p(jnp.maximum(0.0, normalized_inputs))), axis=-1)\n",
    "\n",
    "    denorm_mae = jnp.mean(jnp.abs(denormalized_reconstruction - inputs), axis=-1)\n",
    "    denorm_rmse = jnp.sqrt(jnp.mean(jnp.square(denormalized_reconstruction - inputs), axis=-1))\n",
    "    denorm_mse = jnp.mean(jnp.square(denormalized_reconstruction - inputs), axis=-1)\n",
    "    denorm_msle = jnp.mean(jnp.square(jnp.log1p(jnp.maximum(0.0, denormalized_reconstruction)) - jnp.log1p(jnp.maximum(0.0, inputs))), axis=-1)\n",
    "\n",
    "    normalized_errors = normalized_inputs - normalized_reconstruction\n",
    "    denormalized_errors = inputs - denormalized_reconstruction\n",
    "\n",
    "    results = []\n",
    "    num_instances = inputs.shape[0]\n",
    "    for i in range(num_instances):\n",
    "        instance_data = {\n",
    "            'normalized': {\n",
    "                'reconstruction': np.array(normalized_reconstruction[i]),\n",
    "                'reconstruction_errors': np.array(normalized_errors[i]),\n",
    "                'metrics': {  # Scalar metrics per instance\n",
    "                    'MAE': np.array(norm_mae[i]).reshape(()),  # Reshape to scalar\n",
    "                    'RMSE': np.array(norm_rmse[i]).reshape(()),\n",
    "                    'MSE': np.array(norm_mse[i]).reshape(()),\n",
    "                    'MSLE': np.array(norm_msle[i]).reshape(())\n",
    "                }\n",
    "            },\n",
    "            'denormalized': {\n",
    "                'reconstruction': np.array(denormalized_reconstruction[i]),\n",
    "                'reconstruction_errors': np.array(denormalized_errors[i]),\n",
    "                'metrics': {  # Scalar metrics per instance\n",
    "                    'MAE': np.array(denorm_mae[i]).reshape(()),\n",
    "                    'RMSE': np.array(denorm_rmse[i]).reshape(()),\n",
    "                    'MSE': np.array(denorm_mse[i]).reshape(()),\n",
    "                    'MSLE': np.array(denorm_msle[i]).reshape(())\n",
    "                }\n",
    "            },\n",
    "            'encoded': np.array(predictions['encoded'][i])\n",
    "        }\n",
    "        results.append(instance_data)\n",
    "    return results\n"
   ]
  },
  {
   "cell_type": "code",
   "execution_count": 107,
   "id": "c57bd80d-79ce-4d3e-bf4f-a268b51bc1c0",
   "metadata": {
    "tags": []
   },
   "outputs": [],
   "source": [
    "def prep_serving_batch(source):\n",
    "    for k in var_omit + var_target:\n",
    "        source.pop(k, None)\n",
    "    numeric_values = tf.stack([source[col] for col in var_numeric], axis=-1)\n",
    "    return numeric_values"
   ]
  },
  {
   "cell_type": "code",
   "execution_count": 108,
   "id": "d8a3c788-f08c-427a-ab50-f6b5813568ce",
   "metadata": {
    "tags": []
   },
   "outputs": [
    {
     "name": "stdout",
     "output_type": "stream",
     "text": [
      "\u001b[1m285/285\u001b[0m \u001b[32m━━━━━━━━━━━━━━━━━━━━\u001b[0m\u001b[37m\u001b[0m \u001b[1m2s\u001b[0m 6ms/step\n"
     ]
    }
   ],
   "source": [
    "test_instances = test_read.map(prep_serving_batch).batch(100).prefetch(tf.data.AUTOTUNE)\n",
    "\n",
    "# Get raw predictions from stacked_autoencoder\n",
    "raw_predictions = stacked_autoencoder.predict(test_instances)"
   ]
  },
  {
   "cell_type": "code",
   "execution_count": 109,
   "id": "04367183-857e-4814-910c-997620ba609b",
   "metadata": {
    "tags": []
   },
   "outputs": [
    {
     "data": {
      "text/plain": [
       "{'denormalized': array([[ 8.46495312e+04, -1.20067075e-01,  9.30297598e-02, ...,\n",
       "          6.62519271e-03,  1.07871667e-02,  2.20930824e+01],\n",
       "        [ 1.08392312e+05,  2.51276702e-01,  4.17948812e-02, ...,\n",
       "         -1.95646100e-03, -3.89468879e-03,  2.09939365e+01],\n",
       "        [ 1.40469578e+05,  9.18011129e-01, -5.01340777e-02, ...,\n",
       "         -1.53768929e-02, -2.65501980e-02,  1.99858055e+01],\n",
       "        ...,\n",
       "        [ 6.79927500e+04, -3.28927547e-01,  1.21869445e-01, ...,\n",
       "          1.20752892e-02,  2.02053320e-02,  2.30129242e+01],\n",
       "        [ 8.32974766e+04, -1.37012079e-01,  9.53695402e-02, ...,\n",
       "          7.06749037e-03,  1.15515087e-02,  2.21677742e+01],\n",
       "        [ 1.01651195e+05,  1.11296892e-01,  6.10928722e-02, ...,\n",
       "          8.61539389e-04,  8.63642665e-04,  2.12065277e+01]], dtype=float32),\n",
       " 'encoded': array([[0.11034848, 0.        , 0.        , 0.0567206 ],\n",
       "        [0.30505222, 0.        , 0.        , 0.16123873],\n",
       "        [0.96625847, 0.        , 0.        , 0.5161915 ],\n",
       "        ...,\n",
       "        [0.01571965, 0.        , 0.        , 0.00592397],\n",
       "        [0.10268708, 0.        , 0.        , 0.05260867],\n",
       "        [0.22038841, 0.        , 0.        , 0.11579175]], dtype=float32),\n",
       " 'normalized': array([[-0.21573909, -0.066973  ,  0.06160986, ...,  0.017891  ,\n",
       "          0.03210855, -0.26110065],\n",
       "        [ 0.28411078,  0.12534422,  0.03038486, ..., -0.0034952 ,\n",
       "         -0.01163224, -0.26542673],\n",
       "        [ 0.9594243 ,  0.4706429 , -0.02564105, ..., -0.03694004,\n",
       "         -0.07912847, -0.26939458],\n",
       "        ...,\n",
       "        [-0.5664096 , -0.17514087,  0.07918614, ...,  0.0314731 ,\n",
       "          0.06016753, -0.2574803 ],\n",
       "        [-0.24420352, -0.07574874,  0.06303583, ...,  0.01899325,\n",
       "          0.0343857 , -0.26080668],\n",
       "        [ 0.142192  ,  0.05284932,  0.04214599, ...,  0.0035275 ,\n",
       "          0.00254397, -0.26459   ]], dtype=float32)}"
      ]
     },
     "execution_count": 109,
     "metadata": {},
     "output_type": "execute_result"
    }
   ],
   "source": [
    "raw_predictions"
   ]
  },
  {
   "cell_type": "code",
   "execution_count": 110,
   "id": "cf3848a0-ef89-44c9-8c29-78e8ef107d37",
   "metadata": {
    "tags": []
   },
   "outputs": [],
   "source": [
    "processed_predictions = post_process_predictions(tf.concat(list(test_instances), axis=0), raw_predictions)"
   ]
  },
  {
   "cell_type": "code",
   "execution_count": 111,
   "id": "94a64ea2-773e-4c65-9627-565ad8acdfc2",
   "metadata": {
    "tags": []
   },
   "outputs": [
    {
     "data": {
      "text/plain": [
       "{'normalized': {'reconstruction': array([-0.21573909, -0.066973  ,  0.06160986,  0.2076651 , -0.01822848,\n",
       "         -0.07430044, -0.17840877,  0.0083283 ,  0.03456832, -0.068027  ,\n",
       "         -0.10903104, -0.00859904,  0.12886389, -0.00436738,  0.03073565,\n",
       "          0.11757518,  0.07886104, -0.08779237, -0.01069223, -0.00050775,\n",
       "         -0.0628611 , -0.05159865, -0.02421256, -0.02550474,  0.07342307,\n",
       "          0.06852049, -0.12039617,  0.017891  ,  0.03210855, -0.26110065],\n",
       "        dtype=float32),\n",
       "  'reconstruction_errors': array([ 0.80651814, -0.62521863,  0.2010414 ,  0.8921404 ,  1.6620246 ,\n",
       "          1.8156184 ,  0.48484722,  0.16379908,  0.33031893, -1.5981342 ,\n",
       "          0.64160895, -0.19949919,  0.13074811,  0.14856052,  0.02882137,\n",
       "         -2.5128834 ,  1.6901779 , -1.9164104 , -0.11276756, -1.6816405 ,\n",
       "          0.15195097, -0.4176145 , -1.9970202 ,  0.33500293,  0.03844658,\n",
       "         -0.5386673 , -1.3245043 ,  0.07872623,  0.4149252 , -0.08695501],\n",
       "        dtype=float32),\n",
       "  'metrics': {'MAE': array(0.7675531, dtype=float32),\n",
       "   'RMSE': array(1.0577843, dtype=float32),\n",
       "   'MSE': array(1.1189077, dtype=float32),\n",
       "   'MSLE': array(0.13346672, dtype=float32)}},\n",
       " 'denormalized': {'reconstruction': array([ 8.46495312e+04, -1.20067075e-01,  9.30297598e-02,  3.14661771e-01,\n",
       "         -3.34826447e-02, -9.59751755e-02, -2.34427691e-01,  1.94891840e-02,\n",
       "          3.96082252e-02, -6.90148026e-02, -1.03628010e-01, -1.57195516e-02,\n",
       "          1.31998867e-01, -4.22615092e-03,  4.05934155e-02,  1.06524356e-01,\n",
       "          7.43651167e-02, -5.41560948e-02, -4.49759234e-03, -1.03028375e-03,\n",
       "         -4.98089306e-02, -3.82569619e-02, -1.69785246e-02, -1.58087388e-02,\n",
       "          4.50282097e-02,  3.49843204e-02, -5.85144423e-02,  6.62519271e-03,\n",
       "          1.07871667e-02,  2.20930824e+01], dtype=float32),\n",
       "  'reconstruction_errors': array([ 3.83094688e+04, -1.20722973e+00,  3.29874635e-01,  1.30284309e+00,\n",
       "          2.32467866e+00,  2.47103024e+00,  6.46162271e-01,  1.94027722e-01,\n",
       "          3.85134816e-01, -1.74060953e+00,  6.67052150e-01, -1.99996069e-01,\n",
       "          1.23746514e-01,  1.47947013e-01,  2.58240402e-02, -2.29921770e+00,\n",
       "          1.42567861e+00, -1.42889524e+00, -9.28571299e-02, -1.36495125e+00,\n",
       "          1.18380636e-01, -2.99709022e-01, -1.44498050e+00,  2.08412886e-01,\n",
       "          2.32529044e-02, -2.80709386e-01, -6.39139771e-01,  3.15905213e-02,\n",
       "          1.39272124e-01, -2.20930824e+01], dtype=float32),\n",
       "  'metrics': {'MAE': array(1278.4377, dtype=float32),\n",
       "   'RMSE': array(6994.3213, dtype=float32),\n",
       "   'MSE': array(48920532., dtype=float32),\n",
       "   'MSLE': array(0.48981676, dtype=float32)}},\n",
       " 'encoded': array([0.11034848, 0.        , 0.        , 0.0567206 ], dtype=float32)}"
      ]
     },
     "execution_count": 111,
     "metadata": {},
     "output_type": "execute_result"
    }
   ],
   "source": [
    "processed_predictions[0]"
   ]
  },
  {
   "cell_type": "markdown",
   "id": "2e60fc44-11cb-45d0-8583-9d5889d30ed4",
   "metadata": {},
   "source": [
    "### Custom Layers For Post-Processing Inside The Model"
   ]
  },
  {
   "cell_type": "code",
   "execution_count": 112,
   "id": "36d9fa5a-b6f1-4406-88f6-fea90f7f09da",
   "metadata": {
    "tags": []
   },
   "outputs": [],
   "source": [
    "@keras.saving.register_keras_serializable()\n",
    "class PostProcessingLayer(keras.layers.Layer):\n",
    "    def __init__(self, autoencoder, normalizer, denormalizer, encoder_model, **kwargs):\n",
    "        super().__init__(**kwargs)\n",
    "        self.autoencoder = autoencoder\n",
    "        self.normalizer = normalizer\n",
    "        self.denormalizer = denormalizer\n",
    "        self.encoder_model = encoder_model\n",
    "\n",
    "        # Define output signature (Flattened)\n",
    "        self.output_signature = {\n",
    "            'normalized_reconstruction': tf.TensorSpec(shape=(None, len(var_numeric)), dtype=tf.float32),\n",
    "            'normalized_reconstruction_errors': tf.TensorSpec(shape=(None, len(var_numeric)), dtype=tf.float32),\n",
    "            'normalized_MAE': tf.TensorSpec(shape=(None,), dtype=tf.float32),\n",
    "            'normalized_RMSE': tf.TensorSpec(shape=(None,), dtype=tf.float32),\n",
    "            'normalized_MSE': tf.TensorSpec(shape=(None,), dtype=tf.float32),\n",
    "            'normalized_MSLE': tf.TensorSpec(shape=(None,), dtype=tf.float32),\n",
    "            'denormalized_reconstruction': tf.TensorSpec(shape=(None, len(var_numeric)), dtype=tf.float32),\n",
    "            'denormalized_reconstruction_errors': tf.TensorSpec(shape=(None, len(var_numeric)), dtype=tf.float32),\n",
    "            'denormalized_MAE': tf.TensorSpec(shape=(None,), dtype=tf.float32),\n",
    "            'denormalized_RMSE': tf.TensorSpec(shape=(None,), dtype=tf.float32),\n",
    "            'denormalized_MSE': tf.TensorSpec(shape=(None,), dtype=tf.float32),\n",
    "            'denormalized_MSLE': tf.TensorSpec(shape=(None,), dtype=tf.float32),\n",
    "            'encoded': tf.TensorSpec(shape=(None, latent_dim), dtype=tf.float32)\n",
    "        }\n",
    "    def call(self, inputs):\n",
    "        normalized_inputs = self.normalizer(inputs)\n",
    "        normalized_reconstruction = self.autoencoder(normalized_inputs)\n",
    "        denormalized_reconstruction = self.denormalizer(normalized_reconstruction)\n",
    "        latent_output = self.encoder_model(normalized_inputs)\n",
    "\n",
    "        norm_mae = jnp.mean(jnp.abs(normalized_reconstruction - normalized_inputs), axis=-1)\n",
    "        norm_rmse = jnp.sqrt(jnp.mean(jnp.square(normalized_reconstruction - normalized_inputs), axis=-1))\n",
    "        norm_mse = jnp.mean(jnp.square(normalized_reconstruction - normalized_inputs), axis=-1)\n",
    "        norm_msle = jnp.mean(jnp.square(jnp.log1p(jnp.maximum(0.0, normalized_reconstruction)) - jnp.log1p(jnp.maximum(0.0, normalized_inputs))), axis=-1)\n",
    "\n",
    "        denorm_mae = jnp.mean(jnp.abs(denormalized_reconstruction - inputs), axis=-1)\n",
    "        denorm_rmse = jnp.sqrt(jnp.mean(jnp.square(denormalized_reconstruction - inputs), axis=-1))\n",
    "        denorm_mse = jnp.mean(jnp.square(denormalized_reconstruction - inputs), axis=-1)\n",
    "        denorm_msle = jnp.mean(jnp.square(jnp.log1p(jnp.maximum(0.0, denormalized_reconstruction)) - jnp.log1p(jnp.maximum(0.0, inputs))), axis=-1)\n",
    "\n",
    "        normalized_errors = normalized_inputs - normalized_reconstruction\n",
    "        denormalized_errors = inputs - denormalized_reconstruction\n",
    "\n",
    "        # Flattened output dictionary\n",
    "        return {\n",
    "            'normalized_reconstruction': normalized_reconstruction,\n",
    "            'normalized_reconstruction_errors': normalized_errors,\n",
    "            'normalized_MAE': norm_mae,\n",
    "            'normalized_RMSE': norm_rmse,\n",
    "            'normalized_MSE': norm_mse,\n",
    "            'normalized_MSLE': norm_msle,\n",
    "            'denormalized_reconstruction': denormalized_reconstruction,\n",
    "            'denormalized_reconstruction_errors': denormalized_errors,\n",
    "            'denormalized_MAE': denorm_mae,\n",
    "            'denormalized_RMSE': denorm_rmse,\n",
    "            'denormalized_MSE': denorm_mse,\n",
    "            'denormalized_MSLE': denorm_msle,\n",
    "            'encoded': latent_output\n",
    "        }\n",
    "\n",
    "\n",
    "    def get_config(self):\n",
    "        config = super().get_config()\n",
    "        config.update({\n",
    "            'autoencoder': keras.saving.serialize_keras_object(self.autoencoder),\n",
    "            'normalizer': keras.saving.serialize_keras_object(self.normalizer),\n",
    "            'denormalizer': keras.saving.serialize_keras_object(self.denormalizer),\n",
    "            'encoder_model': keras.saving.serialize_keras_object(self.encoder_model),\n",
    "        })\n",
    "        return config\n",
    "\n",
    "    @classmethod\n",
    "    def from_config(cls, config):\n",
    "        autoencoder = keras.saving.deserialize_keras_object(config['autoencoder'])\n",
    "        normalizer = keras.saving.deserialize_keras_object(config['normalizer'])\n",
    "        denormalizer = keras.saving.deserialize_keras_object(config['denormalizer'])\n",
    "        encoder_model = keras.saving.deserialize_keras_object(config['encoder_model'])\n",
    "        del config[\"autoencoder\"]\n",
    "        del config[\"encoder_model\"]\n",
    "        del config[\"normalizer\"]\n",
    "        del config[\"denormalizer\"]\n",
    "        return cls(autoencoder=autoencoder, normalizer=normalizer, denormalizer=denormalizer, encoder_model=encoder_model, **config)\n"
   ]
  },
  {
   "cell_type": "code",
   "execution_count": 113,
   "id": "3bbb6250-7e86-4060-918e-2ad169aa39d3",
   "metadata": {
    "tags": []
   },
   "outputs": [
    {
     "data": {
      "text/html": [
       "<pre style=\"white-space:pre;overflow-x:auto;line-height:normal;font-family:Menlo,'DejaVu Sans Mono',consolas,'Courier New',monospace\"><span style=\"font-weight: bold\">Model: \"final_model\"</span>\n",
       "</pre>\n"
      ],
      "text/plain": [
       "\u001b[1mModel: \"final_model\"\u001b[0m\n"
      ]
     },
     "metadata": {},
     "output_type": "display_data"
    },
    {
     "data": {
      "text/html": [
       "<pre style=\"white-space:pre;overflow-x:auto;line-height:normal;font-family:Menlo,'DejaVu Sans Mono',consolas,'Courier New',monospace\">┏━━━━━━━━━━━━━━━━━━━━━━━━━━━━━━━━━┳━━━━━━━━━━━━━━━━━━━━━━━━┳━━━━━━━━━━━━━━━┓\n",
       "┃<span style=\"font-weight: bold\"> Layer (type)                    </span>┃<span style=\"font-weight: bold\"> Output Shape           </span>┃<span style=\"font-weight: bold\">       Param # </span>┃\n",
       "┡━━━━━━━━━━━━━━━━━━━━━━━━━━━━━━━━━╇━━━━━━━━━━━━━━━━━━━━━━━━╇━━━━━━━━━━━━━━━┩\n",
       "│ input_layer (<span style=\"color: #0087ff; text-decoration-color: #0087ff\">InputLayer</span>)        │ (<span style=\"color: #00d7ff; text-decoration-color: #00d7ff\">None</span>, <span style=\"color: #00af00; text-decoration-color: #00af00\">30</span>)             │             <span style=\"color: #00af00; text-decoration-color: #00af00\">0</span> │\n",
       "├─────────────────────────────────┼────────────────────────┼───────────────┤\n",
       "│ post_processing_layer           │ [(<span style=\"color: #00d7ff; text-decoration-color: #00d7ff\">None</span>), (<span style=\"color: #00d7ff; text-decoration-color: #00d7ff\">None</span>),       │         <span style=\"color: #00af00; text-decoration-color: #00af00\">1,423</span> │\n",
       "│ (<span style=\"color: #0087ff; text-decoration-color: #0087ff\">PostProcessingLayer</span>)           │ (<span style=\"color: #00d7ff; text-decoration-color: #00d7ff\">None</span>), (<span style=\"color: #00d7ff; text-decoration-color: #00d7ff\">None</span>), (<span style=\"color: #00d7ff; text-decoration-color: #00d7ff\">None</span>, │               │\n",
       "│                                 │ <span style=\"color: #00af00; text-decoration-color: #00af00\">30</span>), (<span style=\"color: #00d7ff; text-decoration-color: #00d7ff\">None</span>, <span style=\"color: #00af00; text-decoration-color: #00af00\">30</span>),       │               │\n",
       "│                                 │ (<span style=\"color: #00d7ff; text-decoration-color: #00d7ff\">None</span>, <span style=\"color: #00af00; text-decoration-color: #00af00\">4</span>), (<span style=\"color: #00d7ff; text-decoration-color: #00d7ff\">None</span>),     │               │\n",
       "│                                 │ (<span style=\"color: #00d7ff; text-decoration-color: #00d7ff\">None</span>), (<span style=\"color: #00d7ff; text-decoration-color: #00d7ff\">None</span>),        │               │\n",
       "│                                 │ (<span style=\"color: #00d7ff; text-decoration-color: #00d7ff\">None</span>), (<span style=\"color: #00d7ff; text-decoration-color: #00d7ff\">None</span>, <span style=\"color: #00af00; text-decoration-color: #00af00\">30</span>),    │               │\n",
       "│                                 │ (<span style=\"color: #00d7ff; text-decoration-color: #00d7ff\">None</span>, <span style=\"color: #00af00; text-decoration-color: #00af00\">30</span>)]            │               │\n",
       "└─────────────────────────────────┴────────────────────────┴───────────────┘\n",
       "</pre>\n"
      ],
      "text/plain": [
       "┏━━━━━━━━━━━━━━━━━━━━━━━━━━━━━━━━━┳━━━━━━━━━━━━━━━━━━━━━━━━┳━━━━━━━━━━━━━━━┓\n",
       "┃\u001b[1m \u001b[0m\u001b[1mLayer (type)                   \u001b[0m\u001b[1m \u001b[0m┃\u001b[1m \u001b[0m\u001b[1mOutput Shape          \u001b[0m\u001b[1m \u001b[0m┃\u001b[1m \u001b[0m\u001b[1m      Param #\u001b[0m\u001b[1m \u001b[0m┃\n",
       "┡━━━━━━━━━━━━━━━━━━━━━━━━━━━━━━━━━╇━━━━━━━━━━━━━━━━━━━━━━━━╇━━━━━━━━━━━━━━━┩\n",
       "│ input_layer (\u001b[38;5;33mInputLayer\u001b[0m)        │ (\u001b[38;5;45mNone\u001b[0m, \u001b[38;5;34m30\u001b[0m)             │             \u001b[38;5;34m0\u001b[0m │\n",
       "├─────────────────────────────────┼────────────────────────┼───────────────┤\n",
       "│ post_processing_layer           │ [(\u001b[38;5;45mNone\u001b[0m), (\u001b[38;5;45mNone\u001b[0m),       │         \u001b[38;5;34m1,423\u001b[0m │\n",
       "│ (\u001b[38;5;33mPostProcessingLayer\u001b[0m)           │ (\u001b[38;5;45mNone\u001b[0m), (\u001b[38;5;45mNone\u001b[0m), (\u001b[38;5;45mNone\u001b[0m, │               │\n",
       "│                                 │ \u001b[38;5;34m30\u001b[0m), (\u001b[38;5;45mNone\u001b[0m, \u001b[38;5;34m30\u001b[0m),       │               │\n",
       "│                                 │ (\u001b[38;5;45mNone\u001b[0m, \u001b[38;5;34m4\u001b[0m), (\u001b[38;5;45mNone\u001b[0m),     │               │\n",
       "│                                 │ (\u001b[38;5;45mNone\u001b[0m), (\u001b[38;5;45mNone\u001b[0m),        │               │\n",
       "│                                 │ (\u001b[38;5;45mNone\u001b[0m), (\u001b[38;5;45mNone\u001b[0m, \u001b[38;5;34m30\u001b[0m),    │               │\n",
       "│                                 │ (\u001b[38;5;45mNone\u001b[0m, \u001b[38;5;34m30\u001b[0m)]            │               │\n",
       "└─────────────────────────────────┴────────────────────────┴───────────────┘\n"
      ]
     },
     "metadata": {},
     "output_type": "display_data"
    },
    {
     "data": {
      "text/html": [
       "<pre style=\"white-space:pre;overflow-x:auto;line-height:normal;font-family:Menlo,'DejaVu Sans Mono',consolas,'Courier New',monospace\"><span style=\"font-weight: bold\"> Total params: </span><span style=\"color: #00af00; text-decoration-color: #00af00\">1,423</span> (5.56 KB)\n",
       "</pre>\n"
      ],
      "text/plain": [
       "\u001b[1m Total params: \u001b[0m\u001b[38;5;34m1,423\u001b[0m (5.56 KB)\n"
      ]
     },
     "metadata": {},
     "output_type": "display_data"
    },
    {
     "data": {
      "text/html": [
       "<pre style=\"white-space:pre;overflow-x:auto;line-height:normal;font-family:Menlo,'DejaVu Sans Mono',consolas,'Courier New',monospace\"><span style=\"font-weight: bold\"> Trainable params: </span><span style=\"color: #00af00; text-decoration-color: #00af00\">1,362</span> (5.32 KB)\n",
       "</pre>\n"
      ],
      "text/plain": [
       "\u001b[1m Trainable params: \u001b[0m\u001b[38;5;34m1,362\u001b[0m (5.32 KB)\n"
      ]
     },
     "metadata": {},
     "output_type": "display_data"
    },
    {
     "data": {
      "text/html": [
       "<pre style=\"white-space:pre;overflow-x:auto;line-height:normal;font-family:Menlo,'DejaVu Sans Mono',consolas,'Courier New',monospace\"><span style=\"font-weight: bold\"> Non-trainable params: </span><span style=\"color: #00af00; text-decoration-color: #00af00\">61</span> (244.00 B)\n",
       "</pre>\n"
      ],
      "text/plain": [
       "\u001b[1m Non-trainable params: \u001b[0m\u001b[38;5;34m61\u001b[0m (244.00 B)\n"
      ]
     },
     "metadata": {},
     "output_type": "display_data"
    }
   ],
   "source": [
    "input_layer = keras.Input(shape=(len(var_numeric),), name=\"input_layer\")  # Single input\n",
    "outputs = PostProcessingLayer(autoencoder, normalizer, denormalizer, encoder_model)(input_layer) # Pass single tensor\n",
    "final_model = keras.Model(inputs=input_layer, outputs=outputs, name='final_model')  # Single input\n",
    "final_model.summary(expand_nested=True)"
   ]
  },
  {
   "cell_type": "code",
   "execution_count": 114,
   "id": "8c0060f5-7ca4-4c20-9526-2425fe3a24cd",
   "metadata": {
    "tags": []
   },
   "outputs": [
    {
     "name": "stdout",
     "output_type": "stream",
     "text": [
      "\u001b[1m285/285\u001b[0m \u001b[32m━━━━━━━━━━━━━━━━━━━━\u001b[0m\u001b[37m\u001b[0m \u001b[1m2s\u001b[0m 7ms/step\n"
     ]
    }
   ],
   "source": [
    "def prep_serving_batch(source):\n",
    "    for k in var_omit + var_target:\n",
    "        source.pop(k, None)\n",
    "    numeric_values = tf.stack([source[col] for col in var_numeric], axis=-1)\n",
    "    #return numeric_values\n",
    "    return tf.cast(numeric_values, tf.float32)\n",
    "\n",
    "test_instances = test_read.map(prep_serving_batch).batch(100).prefetch(tf.data.AUTOTUNE)\n",
    "predictions = final_model.predict(test_instances)"
   ]
  },
  {
   "cell_type": "code",
   "execution_count": 115,
   "id": "94388f03-45fa-43f9-8627-8cc2f23ea7a3",
   "metadata": {
    "tags": []
   },
   "outputs": [
    {
     "data": {
      "text/plain": [
       "{'denormalized_MAE': array([1278.4377 ,  465.5798 ,  697.12335, ..., 1093.9894 , 2198.2544 ,\n",
       "        1334.7113 ], dtype=float32),\n",
       " 'denormalized_MSE': array([4.8920532e+07, 6.4586060e+06, 1.4529123e+07, ..., 2.4031284e+07,\n",
       "        1.1498122e+08, 3.6725268e+07], dtype=float32),\n",
       " 'denormalized_MSLE': array([0.48981678, 0.5337459 , 0.41992074, ..., 2.4584217 , 2.6595364 ,\n",
       "        2.2541301 ], dtype=float32),\n",
       " 'denormalized_RMSE': array([ 6994.3213,  2541.3787,  3811.7087, ...,  4902.1714, 10722.93  ,\n",
       "         6060.1377], dtype=float32),\n",
       " 'denormalized_reconstruction': array([[ 8.46495312e+04, -1.20067075e-01,  9.30297598e-02, ...,\n",
       "          6.62519271e-03,  1.07871667e-02,  2.20930824e+01],\n",
       "        [ 1.08392312e+05,  2.51276702e-01,  4.17948812e-02, ...,\n",
       "         -1.95646100e-03, -3.89468879e-03,  2.09939365e+01],\n",
       "        [ 1.40469578e+05,  9.18011129e-01, -5.01340777e-02, ...,\n",
       "         -1.53768929e-02, -2.65501980e-02,  1.99858055e+01],\n",
       "        ...,\n",
       "        [ 6.79927500e+04, -3.28927547e-01,  1.21869445e-01, ...,\n",
       "          1.20752892e-02,  2.02053320e-02,  2.30129242e+01],\n",
       "        [ 8.32974766e+04, -1.37012079e-01,  9.53695402e-02, ...,\n",
       "          7.06749037e-03,  1.15515087e-02,  2.21677742e+01],\n",
       "        [ 1.01651195e+05,  1.11296892e-01,  6.10928722e-02, ...,\n",
       "          8.61539389e-04,  8.63642665e-04,  2.12065277e+01]], dtype=float32),\n",
       " 'denormalized_reconstruction_errors': array([[ 3.83094688e+04, -1.20722973e+00,  3.29874635e-01, ...,\n",
       "          3.15905213e-02,  1.39272124e-01, -2.20930824e+01],\n",
       "        [ 1.39196875e+04, -2.23983407e+00, -7.62096107e-01, ...,\n",
       "         -7.46059597e-01,  4.14535165e-01, -2.09939365e+01],\n",
       "        [-2.08775781e+04,  1.22173023e+00,  2.95784593e-01, ...,\n",
       "         -1.08362243e-01, -7.34388083e-02, -1.99858055e+01],\n",
       "        ...,\n",
       "        [-2.60147500e+04, -1.15108147e+01, -1.78335304e+01, ...,\n",
       "         -2.21099687e+00,  5.71957469e-01,  6.64598730e+03],\n",
       "        [ 5.82485234e+04, -1.32599077e+01, -1.93260231e+01, ...,\n",
       "         -2.40959263e+00,  6.14900649e-01,  7.51953223e+03],\n",
       "        [ 3.23198047e+04, -1.10614691e+01, -1.34202261e+01, ...,\n",
       "          3.41406703e+00, -2.45621300e+00,  7.56211328e+03]], dtype=float32),\n",
       " 'encoded': array([[0.11034848, 0.        , 0.        , 0.0567206 ],\n",
       "        [0.30505222, 0.        , 0.        , 0.16123873],\n",
       "        [0.96625847, 0.        , 0.        , 0.5161915 ],\n",
       "        ...,\n",
       "        [0.01571965, 0.        , 0.        , 0.00592397],\n",
       "        [0.10268708, 0.        , 0.        , 0.05260867],\n",
       "        [0.22038841, 0.        , 0.        , 0.11579175]], dtype=float32),\n",
       " 'normalized_MAE': array([0.7675531, 1.0021378, 0.6008178, ..., 6.0972424, 6.897984 ,\n",
       "        5.9711165], dtype=float32),\n",
       " 'normalized_MSE': array([  1.1189077,   1.4153835,   0.5198711, ...,  88.481346 ,\n",
       "        113.626976 ,  94.000275 ], dtype=float32),\n",
       " 'normalized_MSLE': array([0.13346672, 0.22481978, 0.14727198, ..., 1.9094417 , 2.1101816 ,\n",
       "        1.6758426 ], dtype=float32),\n",
       " 'normalized_RMSE': array([ 1.0577843,  1.1896989,  0.7210209, ...,  9.406452 , 10.6595955,\n",
       "         9.695374 ], dtype=float32),\n",
       " 'normalized_reconstruction': array([[-0.21573909, -0.066973  ,  0.06160986, ...,  0.017891  ,\n",
       "          0.03210855, -0.26110065],\n",
       "        [ 0.28411078,  0.12534422,  0.03038486, ..., -0.0034952 ,\n",
       "         -0.01163224, -0.26542673],\n",
       "        [ 0.9594243 ,  0.4706429 , -0.02564105, ..., -0.03694004,\n",
       "         -0.07912847, -0.26939458],\n",
       "        ...,\n",
       "        [-0.5664096 , -0.17514087,  0.07918614, ...,  0.0314731 ,\n",
       "          0.06016753, -0.2574803 ],\n",
       "        [-0.24420352, -0.07574874,  0.06303583, ...,  0.01899325,\n",
       "          0.0343857 , -0.26080668],\n",
       "        [ 0.142192  ,  0.05284932,  0.04214599, ...,  0.0035275 ,\n",
       "          0.00254397, -0.26459   ]], dtype=float32),\n",
       " 'normalized_reconstruction_errors': array([[  0.80651814,  -0.62521863,   0.2010414 , ...,   0.07872623,\n",
       "           0.41492522,  -0.086955  ],\n",
       "        [  0.29304713,  -1.1599996 ,  -0.46445787, ...,  -1.8592432 ,\n",
       "           1.2350003 ,  -0.08262892],\n",
       "        [ -0.43952978,   0.63272834,   0.18026529, ...,  -0.2700478 ,\n",
       "          -0.21879192,  -0.07866107],\n",
       "        ...,\n",
       "        [ -0.5476809 ,  -5.9613976 , -10.868607  , ...,  -5.5099907 ,\n",
       "           1.7039993 ,  26.157595  ],\n",
       "        [  1.2262893 ,  -6.8672447 , -11.778204  , ...,  -6.0049076 ,\n",
       "           1.8319373 ,  29.595736  ],\n",
       "        [  0.68041945,  -5.7286835 ,  -8.178928  , ...,   8.5081415 ,\n",
       "          -7.3176513 ,  29.763329  ]], dtype=float32)}"
      ]
     },
     "execution_count": 115,
     "metadata": {},
     "output_type": "execute_result"
    }
   ],
   "source": [
    "predictions"
   ]
  },
  {
   "cell_type": "code",
   "execution_count": 116,
   "id": "7fc96285-1afe-407b-b3b0-a186ad499aac",
   "metadata": {
    "tags": []
   },
   "outputs": [],
   "source": [
    "def convert_to_list_of_dicts(predictions):\n",
    "    results_list = []\n",
    "    num_instances = predictions['normalized_reconstruction'].shape[0]  # Get batch size\n",
    "\n",
    "    for i in range(num_instances):\n",
    "        instance_data = {}\n",
    "        for key, value in predictions.items():\n",
    "             # Check if the value is a NumPy array before slicing\n",
    "            if isinstance(value, np.ndarray):\n",
    "                 instance_data[key] = value[i]  # Get the i-th instance\n",
    "            #if it is a tensor\n",
    "            elif isinstance(value, tf.Tensor):\n",
    "                instance_data[key] = value[i].numpy()\n",
    "            else:\n",
    "                instance_data[key] = value #keep as is if not array/tensor\n",
    "\n",
    "        results_list.append(instance_data)\n",
    "    return results_list"
   ]
  },
  {
   "cell_type": "code",
   "execution_count": 117,
   "id": "c4d3ee56-003f-4160-9c3a-f66a7cb192a9",
   "metadata": {
    "tags": []
   },
   "outputs": [],
   "source": [
    "processed_predictions = convert_to_list_of_dicts(predictions)"
   ]
  },
  {
   "cell_type": "code",
   "execution_count": 118,
   "id": "7e10f89c-32fd-4446-848b-8515ed330def",
   "metadata": {
    "tags": []
   },
   "outputs": [
    {
     "name": "stdout",
     "output_type": "stream",
     "text": [
      "28432\n",
      "{'denormalized_MAE': 1278.4377, 'denormalized_MSE': 48920532.0, 'denormalized_MSLE': 0.48981678, 'denormalized_RMSE': 6994.3213, 'denormalized_reconstruction': array([ 8.46495312e+04, -1.20067075e-01,  9.30297598e-02,  3.14661771e-01,\n",
      "       -3.34826447e-02, -9.59751755e-02, -2.34427691e-01,  1.94891840e-02,\n",
      "        3.96082252e-02, -6.90148026e-02, -1.03628010e-01, -1.57195516e-02,\n",
      "        1.31998867e-01, -4.22615092e-03,  4.05934155e-02,  1.06524356e-01,\n",
      "        7.43651167e-02, -5.41560948e-02, -4.49759234e-03, -1.03028375e-03,\n",
      "       -4.98089306e-02, -3.82569619e-02, -1.69785246e-02, -1.58087388e-02,\n",
      "        4.50282097e-02,  3.49843204e-02, -5.85144423e-02,  6.62519271e-03,\n",
      "        1.07871667e-02,  2.20930824e+01], dtype=float32), 'denormalized_reconstruction_errors': array([ 3.83094688e+04, -1.20722973e+00,  3.29874635e-01,  1.30284309e+00,\n",
      "        2.32467866e+00,  2.47103024e+00,  6.46162271e-01,  1.94027722e-01,\n",
      "        3.85134816e-01, -1.74060953e+00,  6.67052150e-01, -1.99996069e-01,\n",
      "        1.23746514e-01,  1.47947013e-01,  2.58240402e-02, -2.29921770e+00,\n",
      "        1.42567861e+00, -1.42889524e+00, -9.28571299e-02, -1.36495125e+00,\n",
      "        1.18380636e-01, -2.99709022e-01, -1.44498050e+00,  2.08412886e-01,\n",
      "        2.32529044e-02, -2.80709386e-01, -6.39139771e-01,  3.15905213e-02,\n",
      "        1.39272124e-01, -2.20930824e+01], dtype=float32), 'encoded': array([0.11034848, 0.        , 0.        , 0.0567206 ], dtype=float32), 'normalized_MAE': 0.7675531, 'normalized_MSE': 1.1189077, 'normalized_MSLE': 0.13346672, 'normalized_RMSE': 1.0577843, 'normalized_reconstruction': array([-0.21573909, -0.066973  ,  0.06160986,  0.2076651 , -0.01822848,\n",
      "       -0.07430044, -0.17840877,  0.0083283 ,  0.03456832, -0.068027  ,\n",
      "       -0.10903104, -0.00859904,  0.12886389, -0.00436738,  0.03073565,\n",
      "        0.11757518,  0.07886104, -0.08779237, -0.01069223, -0.00050775,\n",
      "       -0.0628611 , -0.05159865, -0.02421256, -0.02550474,  0.07342307,\n",
      "        0.06852049, -0.12039617,  0.017891  ,  0.03210855, -0.26110065],\n",
      "      dtype=float32), 'normalized_reconstruction_errors': array([ 0.80651814, -0.62521863,  0.2010414 ,  0.8921404 ,  1.6620245 ,\n",
      "        1.8156184 ,  0.48484722,  0.16379909,  0.33031893, -1.5981342 ,\n",
      "        0.64160895, -0.19949919,  0.13074812,  0.14856052,  0.02882137,\n",
      "       -2.5128834 ,  1.6901779 , -1.9164104 , -0.11276755, -1.6816404 ,\n",
      "        0.15195097, -0.41761446, -1.9970204 ,  0.33500293,  0.03844657,\n",
      "       -0.53866726, -1.3245043 ,  0.07872623,  0.41492522, -0.086955  ],\n",
      "      dtype=float32)}\n"
     ]
    }
   ],
   "source": [
    "print(len(processed_predictions))\n",
    "print(processed_predictions[0])"
   ]
  },
  {
   "cell_type": "code",
   "execution_count": 119,
   "id": "5a252941-7504-427b-9f74-5cae60fbd7d5",
   "metadata": {
    "tags": []
   },
   "outputs": [
    {
     "data": {
      "text/plain": [
       "<tf.Tensor: shape=(1, 30), dtype=float32, numpy=\n",
       "array([[ 1.2295900e+05, -1.3272969e+00,  4.2290440e-01,  1.6175048e+00,\n",
       "         2.2911961e+00,  2.3750551e+00,  4.1173461e-01,  2.1351691e-01,\n",
       "         4.2474306e-01, -1.8096243e+00,  5.6342417e-01, -2.1571562e-01,\n",
       "         2.5574538e-01,  1.4372087e-01,  6.6417456e-02, -2.1926932e+00,\n",
       "         1.5000437e+00, -1.4830513e+00, -9.7354725e-02, -1.3659816e+00,\n",
       "         6.8571702e-02, -3.3796600e-01, -1.4619590e+00,  1.9260414e-01,\n",
       "         6.8281114e-02, -2.4572505e-01, -6.9765419e-01,  3.8215715e-02,\n",
       "         1.5005928e-01,  0.0000000e+00]], dtype=float32)>"
      ]
     },
     "execution_count": 119,
     "metadata": {},
     "output_type": "execute_result"
    }
   ],
   "source": [
    "single_instance = next(iter(test_read.map(prep_serving_batch).take(1).batch(1)))\n",
    "single_instance"
   ]
  },
  {
   "cell_type": "code",
   "execution_count": 120,
   "id": "705be348-788c-4c21-bc27-492980c1404e",
   "metadata": {
    "tags": []
   },
   "outputs": [
    {
     "name": "stdout",
     "output_type": "stream",
     "text": [
      "\u001b[1m1/1\u001b[0m \u001b[32m━━━━━━━━━━━━━━━━━━━━\u001b[0m\u001b[37m\u001b[0m \u001b[1m0s\u001b[0m 267ms/step\n"
     ]
    },
    {
     "data": {
      "text/plain": [
       "{'denormalized_MAE': array([1278.4377], dtype=float32),\n",
       " 'denormalized_MSE': array([48920532.], dtype=float32),\n",
       " 'denormalized_MSLE': array([0.48981676], dtype=float32),\n",
       " 'denormalized_RMSE': array([6994.3213], dtype=float32),\n",
       " 'denormalized_reconstruction': array([[ 8.46495312e+04, -1.20067090e-01,  9.30297598e-02,\n",
       "          3.14661831e-01, -3.34826373e-02, -9.59751755e-02,\n",
       "         -2.34427691e-01,  1.94891822e-02,  3.96082252e-02,\n",
       "         -6.90148026e-02, -1.03628002e-01, -1.57195516e-02,\n",
       "          1.31998867e-01, -4.22614906e-03,  4.05934155e-02,\n",
       "          1.06524356e-01,  7.43651018e-02, -5.41561022e-02,\n",
       "         -4.49759373e-03, -1.03028386e-03, -4.98089381e-02,\n",
       "         -3.82569581e-02, -1.69785321e-02, -1.58087388e-02,\n",
       "          4.50282060e-02,  3.49843279e-02, -5.85144535e-02,\n",
       "          6.62519271e-03,  1.07871685e-02,  2.20930824e+01]], dtype=float32),\n",
       " 'denormalized_reconstruction_errors': array([[ 3.83094688e+04, -1.20722973e+00,  3.29874635e-01,\n",
       "          1.30284297e+00,  2.32467866e+00,  2.47103024e+00,\n",
       "          6.46162271e-01,  1.94027722e-01,  3.85134816e-01,\n",
       "         -1.74060953e+00,  6.67052150e-01, -1.99996069e-01,\n",
       "          1.23746514e-01,  1.47947013e-01,  2.58240402e-02,\n",
       "         -2.29921770e+00,  1.42567861e+00, -1.42889524e+00,\n",
       "         -9.28571299e-02, -1.36495125e+00,  1.18380636e-01,\n",
       "         -2.99709022e-01, -1.44498050e+00,  2.08412886e-01,\n",
       "          2.32529081e-02, -2.80709386e-01, -6.39139712e-01,\n",
       "          3.15905213e-02,  1.39272109e-01, -2.20930824e+01]], dtype=float32),\n",
       " 'encoded': array([[0.11034847, 0.        , 0.        , 0.0567206 ]], dtype=float32),\n",
       " 'normalized_MAE': array([0.7675531], dtype=float32),\n",
       " 'normalized_MSE': array([1.1189077], dtype=float32),\n",
       " 'normalized_MSLE': array([0.13346672], dtype=float32),\n",
       " 'normalized_RMSE': array([1.0577843], dtype=float32),\n",
       " 'normalized_reconstruction': array([[-0.2157391 , -0.06697301,  0.06160986,  0.20766513, -0.01822848,\n",
       "         -0.07430044, -0.17840877,  0.0083283 ,  0.03456832, -0.068027  ,\n",
       "         -0.10903103, -0.00859904,  0.12886389, -0.00436737,  0.03073565,\n",
       "          0.11757518,  0.07886103, -0.08779238, -0.01069224, -0.00050775,\n",
       "         -0.06286111, -0.05159864, -0.02421257, -0.02550474,  0.07342307,\n",
       "          0.0685205 , -0.12039619,  0.017891  ,  0.03210855, -0.26110065]],\n",
       "       dtype=float32),\n",
       " 'normalized_reconstruction_errors': array([[ 0.8065181 , -0.62521863,  0.2010414 ,  0.8921403 ,  1.6620245 ,\n",
       "          1.8156183 ,  0.48484722,  0.16379909,  0.33031893, -1.5981342 ,\n",
       "          0.64160895, -0.19949919,  0.13074811,  0.14856052,  0.02882137,\n",
       "         -2.5128832 ,  1.690178  , -1.9164104 , -0.11276755, -1.6816404 ,\n",
       "          0.15195099, -0.41761446, -1.9970205 ,  0.33500293,  0.03844658,\n",
       "         -0.53866726, -1.3245043 ,  0.07872623,  0.41492522, -0.08695501]],\n",
       "       dtype=float32)}"
      ]
     },
     "execution_count": 120,
     "metadata": {},
     "output_type": "execute_result"
    }
   ],
   "source": [
    "final_model.predict(single_instance)"
   ]
  },
  {
   "cell_type": "markdown",
   "id": "ad812716-30d4-4111-bbf1-8677e228aea5",
   "metadata": {},
   "source": [
    "## Model Saving And Serving\n",
    "\n",
    "This section shows to to save, load, and serve with the Keras format and with TensorFlow SavedModel format.  The approach to this is different for each.  For Keras the individual model components are saved, reloaded, and then the final model is reconstructed in this example.  For TensorFlow SavedModel the completed `final_model` is saved and loaded completely."
   ]
  },
  {
   "cell_type": "markdown",
   "id": "31a01b91-13c6-46ea-b7f2-b72b990bf273",
   "metadata": {},
   "source": [
    "Data for serving examples:"
   ]
  },
  {
   "cell_type": "code",
   "execution_count": 121,
   "id": "df39d87e-68b7-439d-a994-db904b60c348",
   "metadata": {
    "tags": []
   },
   "outputs": [],
   "source": [
    "test_instances = test_read.map(prep_serving_batch).batch(100).prefetch(tf.data.AUTOTUNE)\n",
    "single_instance_ds = test_read.map(prep_serving_batch).take(1).batch(1)  # Single instance\n",
    "single_instance_tensor = next(iter(single_instance_ds)) #for TF serving"
   ]
  },
  {
   "cell_type": "markdown",
   "id": "a7901dfa-d165-4aeb-b81d-a6176034eb4c",
   "metadata": {},
   "source": [
    "### Keras Format\n",
    "\n",
    "https://keras.io/api/models/model_saving_apis/model_saving_and_loading/"
   ]
  },
  {
   "cell_type": "code",
   "execution_count": 122,
   "id": "ef70b7ec-a633-45e3-adca-55d3f83155bb",
   "metadata": {
    "tags": []
   },
   "outputs": [],
   "source": [
    "KERAS_DIR = os.path.join(DIR, \"keras\")\n",
    "os.makedirs(KERAS_DIR, exist_ok=True)"
   ]
  },
  {
   "cell_type": "markdown",
   "id": "d5657d3c-7827-46b8-b326-40f00b232046",
   "metadata": {},
   "source": [
    "#### Save Models\n",
    "\n",
    "Save each compolent model: autoencoder, encoder_model, normalizer, and denormalizer."
   ]
  },
  {
   "cell_type": "code",
   "execution_count": 123,
   "id": "4d94354f-0782-41a8-93a1-10af502473ac",
   "metadata": {
    "tags": []
   },
   "outputs": [],
   "source": [
    "autoencoder.save(os.path.join(KERAS_DIR, 'autoencoder.keras'))\n",
    "encoder_model.save(os.path.join(KERAS_DIR, 'encoder_model.keras'))"
   ]
  },
  {
   "cell_type": "code",
   "execution_count": 124,
   "id": "e81e672d-5685-4b68-9729-4200eac55b1a",
   "metadata": {
    "tags": []
   },
   "outputs": [],
   "source": [
    "norm_input = keras.Input(shape=(len(var_numeric),))\n",
    "norm_model = keras.Model(inputs=norm_input, outputs=normalizer(norm_input))\n",
    "norm_model.compile()  # Compile is necessary before saving\n",
    "norm_model.save(os.path.join(KERAS_DIR, \"normalizer.keras\"))\n",
    "\n",
    "denorm_input = keras.Input(shape=(len(var_numeric),))\n",
    "denorm_model = keras.Model(inputs=denorm_input, outputs=denormalizer(denorm_input))\n",
    "denorm_model.compile() # Compile is necessary before saving\n",
    "denorm_model.save(os.path.join(KERAS_DIR, \"denormalizer.keras\"))"
   ]
  },
  {
   "cell_type": "markdown",
   "id": "949ec588-9f5d-4a50-ac82-1d038ccb30f7",
   "metadata": {},
   "source": [
    "#### Load Models\n",
    "\n",
    "Load each component model."
   ]
  },
  {
   "cell_type": "code",
   "execution_count": 125,
   "id": "f2650589-34fa-4683-90f1-d594089ff6b7",
   "metadata": {
    "tags": []
   },
   "outputs": [],
   "source": [
    "loaded_keras_autoencoder = keras.models.load_model(os.path.join(KERAS_DIR, \"autoencoder.keras\"))\n",
    "loaded_keras_encoder_model = keras.models.load_model(os.path.join(KERAS_DIR, \"encoder_model.keras\"))\n",
    "loaded_keras_normalizer = keras.models.load_model(os.path.join(KERAS_DIR, \"normalizer.keras\"))\n",
    "loaded_keras_denormalizer = keras.models.load_model(os.path.join(KERAS_DIR, \"denormalizer.keras\"))"
   ]
  },
  {
   "cell_type": "markdown",
   "id": "1a179701-6ca5-4541-ad74-403ba7241f7a",
   "metadata": {},
   "source": [
    "#### Prepare Serving Model"
   ]
  },
  {
   "cell_type": "code",
   "execution_count": 126,
   "id": "d3797e89-b9d8-45ea-9855-4b1bf5dcd388",
   "metadata": {
    "tags": []
   },
   "outputs": [
    {
     "data": {
      "text/html": [
       "<pre style=\"white-space:pre;overflow-x:auto;line-height:normal;font-family:Menlo,'DejaVu Sans Mono',consolas,'Courier New',monospace\"><span style=\"font-weight: bold\">Model: \"final_model_keras\"</span>\n",
       "</pre>\n"
      ],
      "text/plain": [
       "\u001b[1mModel: \"final_model_keras\"\u001b[0m\n"
      ]
     },
     "metadata": {},
     "output_type": "display_data"
    },
    {
     "data": {
      "text/html": [
       "<pre style=\"white-space:pre;overflow-x:auto;line-height:normal;font-family:Menlo,'DejaVu Sans Mono',consolas,'Courier New',monospace\">┏━━━━━━━━━━━━━━━━━━━━━━━━━━━━━━━━━┳━━━━━━━━━━━━━━━━━━━━━━━━┳━━━━━━━━━━━━━━━┓\n",
       "┃<span style=\"font-weight: bold\"> Layer (type)                    </span>┃<span style=\"font-weight: bold\"> Output Shape           </span>┃<span style=\"font-weight: bold\">       Param # </span>┃\n",
       "┡━━━━━━━━━━━━━━━━━━━━━━━━━━━━━━━━━╇━━━━━━━━━━━━━━━━━━━━━━━━╇━━━━━━━━━━━━━━━┩\n",
       "│ input_layer_keras (<span style=\"color: #0087ff; text-decoration-color: #0087ff\">InputLayer</span>)  │ (<span style=\"color: #00d7ff; text-decoration-color: #00d7ff\">None</span>, <span style=\"color: #00af00; text-decoration-color: #00af00\">30</span>)             │             <span style=\"color: #00af00; text-decoration-color: #00af00\">0</span> │\n",
       "├─────────────────────────────────┼────────────────────────┼───────────────┤\n",
       "│ post_processing_layer_1         │ [(<span style=\"color: #00d7ff; text-decoration-color: #00d7ff\">None</span>), (<span style=\"color: #00d7ff; text-decoration-color: #00d7ff\">None</span>),       │         <span style=\"color: #00af00; text-decoration-color: #00af00\">2,091</span> │\n",
       "│ (<span style=\"color: #0087ff; text-decoration-color: #0087ff\">PostProcessingLayer</span>)           │ (<span style=\"color: #00d7ff; text-decoration-color: #00d7ff\">None</span>), (<span style=\"color: #00d7ff; text-decoration-color: #00d7ff\">None</span>), (<span style=\"color: #00d7ff; text-decoration-color: #00d7ff\">None</span>, │               │\n",
       "│                                 │ <span style=\"color: #00af00; text-decoration-color: #00af00\">30</span>), (<span style=\"color: #00d7ff; text-decoration-color: #00d7ff\">None</span>, <span style=\"color: #00af00; text-decoration-color: #00af00\">30</span>),       │               │\n",
       "│                                 │ (<span style=\"color: #00d7ff; text-decoration-color: #00d7ff\">None</span>, <span style=\"color: #00af00; text-decoration-color: #00af00\">4</span>), (<span style=\"color: #00d7ff; text-decoration-color: #00d7ff\">None</span>),     │               │\n",
       "│                                 │ (<span style=\"color: #00d7ff; text-decoration-color: #00d7ff\">None</span>), (<span style=\"color: #00d7ff; text-decoration-color: #00d7ff\">None</span>),        │               │\n",
       "│                                 │ (<span style=\"color: #00d7ff; text-decoration-color: #00d7ff\">None</span>), (<span style=\"color: #00d7ff; text-decoration-color: #00d7ff\">None</span>, <span style=\"color: #00af00; text-decoration-color: #00af00\">30</span>),    │               │\n",
       "│                                 │ (<span style=\"color: #00d7ff; text-decoration-color: #00d7ff\">None</span>, <span style=\"color: #00af00; text-decoration-color: #00af00\">30</span>)]            │               │\n",
       "└─────────────────────────────────┴────────────────────────┴───────────────┘\n",
       "</pre>\n"
      ],
      "text/plain": [
       "┏━━━━━━━━━━━━━━━━━━━━━━━━━━━━━━━━━┳━━━━━━━━━━━━━━━━━━━━━━━━┳━━━━━━━━━━━━━━━┓\n",
       "┃\u001b[1m \u001b[0m\u001b[1mLayer (type)                   \u001b[0m\u001b[1m \u001b[0m┃\u001b[1m \u001b[0m\u001b[1mOutput Shape          \u001b[0m\u001b[1m \u001b[0m┃\u001b[1m \u001b[0m\u001b[1m      Param #\u001b[0m\u001b[1m \u001b[0m┃\n",
       "┡━━━━━━━━━━━━━━━━━━━━━━━━━━━━━━━━━╇━━━━━━━━━━━━━━━━━━━━━━━━╇━━━━━━━━━━━━━━━┩\n",
       "│ input_layer_keras (\u001b[38;5;33mInputLayer\u001b[0m)  │ (\u001b[38;5;45mNone\u001b[0m, \u001b[38;5;34m30\u001b[0m)             │             \u001b[38;5;34m0\u001b[0m │\n",
       "├─────────────────────────────────┼────────────────────────┼───────────────┤\n",
       "│ post_processing_layer_1         │ [(\u001b[38;5;45mNone\u001b[0m), (\u001b[38;5;45mNone\u001b[0m),       │         \u001b[38;5;34m2,091\u001b[0m │\n",
       "│ (\u001b[38;5;33mPostProcessingLayer\u001b[0m)           │ (\u001b[38;5;45mNone\u001b[0m), (\u001b[38;5;45mNone\u001b[0m), (\u001b[38;5;45mNone\u001b[0m, │               │\n",
       "│                                 │ \u001b[38;5;34m30\u001b[0m), (\u001b[38;5;45mNone\u001b[0m, \u001b[38;5;34m30\u001b[0m),       │               │\n",
       "│                                 │ (\u001b[38;5;45mNone\u001b[0m, \u001b[38;5;34m4\u001b[0m), (\u001b[38;5;45mNone\u001b[0m),     │               │\n",
       "│                                 │ (\u001b[38;5;45mNone\u001b[0m), (\u001b[38;5;45mNone\u001b[0m),        │               │\n",
       "│                                 │ (\u001b[38;5;45mNone\u001b[0m), (\u001b[38;5;45mNone\u001b[0m, \u001b[38;5;34m30\u001b[0m),    │               │\n",
       "│                                 │ (\u001b[38;5;45mNone\u001b[0m, \u001b[38;5;34m30\u001b[0m)]            │               │\n",
       "└─────────────────────────────────┴────────────────────────┴───────────────┘\n"
      ]
     },
     "metadata": {},
     "output_type": "display_data"
    },
    {
     "data": {
      "text/html": [
       "<pre style=\"white-space:pre;overflow-x:auto;line-height:normal;font-family:Menlo,'DejaVu Sans Mono',consolas,'Courier New',monospace\"><span style=\"font-weight: bold\"> Total params: </span><span style=\"color: #00af00; text-decoration-color: #00af00\">2,091</span> (8.17 KB)\n",
       "</pre>\n"
      ],
      "text/plain": [
       "\u001b[1m Total params: \u001b[0m\u001b[38;5;34m2,091\u001b[0m (8.17 KB)\n"
      ]
     },
     "metadata": {},
     "output_type": "display_data"
    },
    {
     "data": {
      "text/html": [
       "<pre style=\"white-space:pre;overflow-x:auto;line-height:normal;font-family:Menlo,'DejaVu Sans Mono',consolas,'Courier New',monospace\"><span style=\"font-weight: bold\"> Trainable params: </span><span style=\"color: #00af00; text-decoration-color: #00af00\">2,030</span> (7.93 KB)\n",
       "</pre>\n"
      ],
      "text/plain": [
       "\u001b[1m Trainable params: \u001b[0m\u001b[38;5;34m2,030\u001b[0m (7.93 KB)\n"
      ]
     },
     "metadata": {},
     "output_type": "display_data"
    },
    {
     "data": {
      "text/html": [
       "<pre style=\"white-space:pre;overflow-x:auto;line-height:normal;font-family:Menlo,'DejaVu Sans Mono',consolas,'Courier New',monospace\"><span style=\"font-weight: bold\"> Non-trainable params: </span><span style=\"color: #00af00; text-decoration-color: #00af00\">61</span> (244.00 B)\n",
       "</pre>\n"
      ],
      "text/plain": [
       "\u001b[1m Non-trainable params: \u001b[0m\u001b[38;5;34m61\u001b[0m (244.00 B)\n"
      ]
     },
     "metadata": {},
     "output_type": "display_data"
    }
   ],
   "source": [
    "input_layer_keras = keras.Input(shape=(len(var_numeric),), name=\"input_layer_keras\")\n",
    "# Use the LOADED autoencoder, encoder, normalizer and denormalizer:\n",
    "loaded_keras_outputs = PostProcessingLayer(loaded_keras_autoencoder, loaded_keras_normalizer, loaded_keras_denormalizer, loaded_keras_encoder_model)(input_layer_keras)\n",
    "loaded_keras_final_model = keras.Model(inputs=input_layer_keras, outputs=loaded_keras_outputs, name='final_model_keras')\n",
    "loaded_keras_final_model.summary(expand_nested=True)  # Good practice to check"
   ]
  },
  {
   "cell_type": "markdown",
   "id": "e9bc1559-4b82-4f2b-adc5-f7a71f45e318",
   "metadata": {},
   "source": [
    "#### Predict With Serving Model"
   ]
  },
  {
   "cell_type": "code",
   "execution_count": 127,
   "id": "a28d96f6-7398-4ce9-b4e7-ca91061686f6",
   "metadata": {
    "tags": []
   },
   "outputs": [
    {
     "name": "stdout",
     "output_type": "stream",
     "text": [
      "\u001b[1m1/1\u001b[0m \u001b[32m━━━━━━━━━━━━━━━━━━━━\u001b[0m\u001b[37m\u001b[0m \u001b[1m0s\u001b[0m 255ms/step\n"
     ]
    },
    {
     "data": {
      "text/plain": [
       "{'denormalized_MAE': array([1278.4377], dtype=float32),\n",
       " 'denormalized_MSE': array([48920532.], dtype=float32),\n",
       " 'denormalized_MSLE': array([0.48981676], dtype=float32),\n",
       " 'denormalized_RMSE': array([6994.3213], dtype=float32),\n",
       " 'denormalized_reconstruction': array([[ 8.46495312e+04, -1.20067090e-01,  9.30297598e-02,\n",
       "          3.14661831e-01, -3.34826373e-02, -9.59751755e-02,\n",
       "         -2.34427691e-01,  1.94891822e-02,  3.96082252e-02,\n",
       "         -6.90148026e-02, -1.03628002e-01, -1.57195516e-02,\n",
       "          1.31998867e-01, -4.22614906e-03,  4.05934155e-02,\n",
       "          1.06524356e-01,  7.43651018e-02, -5.41561022e-02,\n",
       "         -4.49759373e-03, -1.03028386e-03, -4.98089381e-02,\n",
       "         -3.82569581e-02, -1.69785321e-02, -1.58087388e-02,\n",
       "          4.50282060e-02,  3.49843279e-02, -5.85144535e-02,\n",
       "          6.62519271e-03,  1.07871685e-02,  2.20930824e+01]], dtype=float32),\n",
       " 'denormalized_reconstruction_errors': array([[ 3.83094688e+04, -1.20722973e+00,  3.29874635e-01,\n",
       "          1.30284297e+00,  2.32467866e+00,  2.47103024e+00,\n",
       "          6.46162271e-01,  1.94027722e-01,  3.85134816e-01,\n",
       "         -1.74060953e+00,  6.67052150e-01, -1.99996069e-01,\n",
       "          1.23746514e-01,  1.47947013e-01,  2.58240402e-02,\n",
       "         -2.29921770e+00,  1.42567861e+00, -1.42889524e+00,\n",
       "         -9.28571299e-02, -1.36495125e+00,  1.18380636e-01,\n",
       "         -2.99709022e-01, -1.44498050e+00,  2.08412886e-01,\n",
       "          2.32529081e-02, -2.80709386e-01, -6.39139712e-01,\n",
       "          3.15905213e-02,  1.39272109e-01, -2.20930824e+01]], dtype=float32),\n",
       " 'encoded': array([[0.11034847, 0.        , 0.        , 0.0567206 ]], dtype=float32),\n",
       " 'normalized_MAE': array([0.7675531], dtype=float32),\n",
       " 'normalized_MSE': array([1.1189077], dtype=float32),\n",
       " 'normalized_MSLE': array([0.13346672], dtype=float32),\n",
       " 'normalized_RMSE': array([1.0577843], dtype=float32),\n",
       " 'normalized_reconstruction': array([[-0.2157391 , -0.06697301,  0.06160986,  0.20766513, -0.01822848,\n",
       "         -0.07430044, -0.17840877,  0.0083283 ,  0.03456832, -0.068027  ,\n",
       "         -0.10903103, -0.00859904,  0.12886389, -0.00436737,  0.03073565,\n",
       "          0.11757518,  0.07886103, -0.08779238, -0.01069224, -0.00050775,\n",
       "         -0.06286111, -0.05159864, -0.02421257, -0.02550474,  0.07342307,\n",
       "          0.0685205 , -0.12039619,  0.017891  ,  0.03210855, -0.26110065]],\n",
       "       dtype=float32),\n",
       " 'normalized_reconstruction_errors': array([[ 0.8065181 , -0.62521863,  0.2010414 ,  0.8921403 ,  1.6620245 ,\n",
       "          1.8156183 ,  0.48484722,  0.16379909,  0.33031893, -1.5981342 ,\n",
       "          0.64160895, -0.19949919,  0.13074811,  0.14856052,  0.02882137,\n",
       "         -2.5128832 ,  1.690178  , -1.9164104 , -0.11276755, -1.6816404 ,\n",
       "          0.15195099, -0.41761446, -1.9970205 ,  0.33500293,  0.03844658,\n",
       "         -0.53866726, -1.3245043 ,  0.07872623,  0.41492522, -0.08695501]],\n",
       "       dtype=float32)}"
      ]
     },
     "execution_count": 127,
     "metadata": {},
     "output_type": "execute_result"
    }
   ],
   "source": [
    "loaded_keras_final_model.predict(single_instance_tensor)"
   ]
  },
  {
   "cell_type": "markdown",
   "id": "279de9dc-9ea3-4fcd-b80f-fcd203267046",
   "metadata": {},
   "source": [
    "### TensorFlow SavedModel Format\n",
    "\n",
    "https://keras.io/api/models/model_saving_apis/export/#export-method"
   ]
  },
  {
   "cell_type": "code",
   "execution_count": 128,
   "id": "ee3b5c7d-ae6d-4f91-b6c1-baee7613c40f",
   "metadata": {
    "tags": []
   },
   "outputs": [],
   "source": [
    "TF_DIR = os.path.join(DIR, \"tensorflow\")\n",
    "os.makedirs(TF_DIR, exist_ok=True)"
   ]
  },
  {
   "cell_type": "markdown",
   "id": "e75b521d-e183-4ba8-a86a-9e3a052d8340",
   "metadata": {},
   "source": [
    "#### Save Model\n",
    "\n",
    "Save the complete `final_model`.  Similarly the component models can be saved and loaded if needed for the serving use case."
   ]
  },
  {
   "cell_type": "code",
   "execution_count": 129,
   "id": "676fef46-22e7-45cb-b161-68b25e5fb41d",
   "metadata": {
    "tags": []
   },
   "outputs": [
    {
     "name": "stdout",
     "output_type": "stream",
     "text": [
      "INFO:tensorflow:Assets written to: files/keras-overview/tensorflow/final_model/assets\n"
     ]
    },
    {
     "name": "stderr",
     "output_type": "stream",
     "text": [
      "INFO:tensorflow:Assets written to: files/keras-overview/tensorflow/final_model/assets\n"
     ]
    },
    {
     "name": "stdout",
     "output_type": "stream",
     "text": [
      "Saved artifact at 'files/keras-overview/tensorflow/final_model'. The following endpoints are available:\n",
      "\n",
      "* Endpoint 'serve'\n"
     ]
    }
   ],
   "source": [
    "#autoencoder.export(os.path.join(TF_DIR, 'autoencoder'), format = 'tf_saved_model', verbose = False)\n",
    "#encoder_model.export(os.path.join(TF_DIR, 'encoder_model'), format = 'tf_saved_model', verbose = False)\n",
    "final_model.export(os.path.join(TF_DIR, 'final_model'), format = 'tf_saved_model', verbose = False)"
   ]
  },
  {
   "cell_type": "markdown",
   "id": "ee007408-3799-4884-a1ac-08ebf6be2927",
   "metadata": {},
   "source": [
    "#### Load Model\n",
    "\n",
    "The model is loaded with TensorFlow rather than Keras:"
   ]
  },
  {
   "cell_type": "code",
   "execution_count": 130,
   "id": "623c37e5-7670-477c-81a6-5a985267c93a",
   "metadata": {
    "tags": []
   },
   "outputs": [
    {
     "name": "stderr",
     "output_type": "stream",
     "text": [
      "WARNING:absl:Importing a function (__inference_internal_grad_fn_115121) with ops with unsaved custom gradients. Will likely fail if a gradient is requested.\n"
     ]
    }
   ],
   "source": [
    "loaded_tf_final_model = tf.saved_model.load(os.path.join(TF_DIR, \"final_model\"))"
   ]
  },
  {
   "cell_type": "markdown",
   "id": "e4360135-56fa-489b-847f-3d4ee9515d0b",
   "metadata": {},
   "source": [
    "#### Prepare Serving Model"
   ]
  },
  {
   "cell_type": "code",
   "execution_count": 131,
   "id": "5c003857-c6c5-4cc5-a66b-05ee594639d1",
   "metadata": {
    "tags": []
   },
   "outputs": [],
   "source": [
    "infer = loaded_tf_final_model.signatures[\"serve\"]"
   ]
  },
  {
   "cell_type": "markdown",
   "id": "fc3a4bf2-35e3-4f11-9471-023c73da1bf5",
   "metadata": {},
   "source": [
    "#### Predictions "
   ]
  },
  {
   "cell_type": "code",
   "execution_count": 132,
   "id": "6b380f70-7250-49a4-9fa0-58362e6ae0db",
   "metadata": {
    "tags": []
   },
   "outputs": [
    {
     "name": "stderr",
     "output_type": "stream",
     "text": [
      "WARNING: All log messages before absl::InitializeLog() is called are written to STDERR\n",
      "I0000 00:00:1739106402.942516 1637738 service.cc:148] XLA service 0x7fdc9c00cf90 initialized for platform Host (this does not guarantee that XLA will be used). Devices:\n",
      "I0000 00:00:1739106402.942698 1637738 service.cc:156]   StreamExecutor device (0): Host, Default Version\n",
      "I0000 00:00:1739106403.212578 1637738 device_compiler.h:188] Compiled cluster using XLA!  This line is logged at most once for the lifetime of the process.\n"
     ]
    }
   ],
   "source": [
    "predictions_tf = infer(single_instance_tensor)"
   ]
  },
  {
   "cell_type": "code",
   "execution_count": 133,
   "id": "709267ee-61bb-4b63-9eef-ad7be96b77e1",
   "metadata": {
    "tags": []
   },
   "outputs": [
    {
     "name": "stdout",
     "output_type": "stream",
     "text": [
      "\n",
      "TensorFlow SavedModel Prediction:\n",
      "normalized_reconstruction: [[-0.2157391  -0.06697301  0.06160986  0.20766513 -0.01822848 -0.07430044\n",
      "  -0.17840877  0.0083283   0.03456832 -0.068027   -0.10903103 -0.00859904\n",
      "   0.12886389 -0.00436737  0.03073565  0.11757518  0.07886103 -0.08779238\n",
      "  -0.01069224 -0.00050775 -0.06286111 -0.05159864 -0.02421257 -0.02550474\n",
      "   0.07342307  0.0685205  -0.12039619  0.017891    0.03210855 -0.26110065]]\n",
      "encoded: [[0.11034847 0.         0.         0.0567206 ]]\n",
      "denormalized_reconstruction: [[ 8.46495312e+04 -1.20067090e-01  9.30297598e-02  3.14661831e-01\n",
      "  -3.34826373e-02 -9.59751755e-02 -2.34427691e-01  1.94891822e-02\n",
      "   3.96082252e-02 -6.90148026e-02 -1.03628002e-01 -1.57195516e-02\n",
      "   1.31998867e-01 -4.22614906e-03  4.05934155e-02  1.06524356e-01\n",
      "   7.43651018e-02 -5.41561022e-02 -4.49759373e-03 -1.03028386e-03\n",
      "  -4.98089381e-02 -3.82569581e-02 -1.69785321e-02 -1.58087388e-02\n",
      "   4.50282060e-02  3.49843279e-02 -5.85144535e-02  6.62519271e-03\n",
      "   1.07871685e-02  2.20930824e+01]]\n",
      "normalized_RMSE: [1.0577843]\n",
      "normalized_MSLE: [0.13346672]\n",
      "denormalized_MAE: [1278.4377]\n",
      "denormalized_MSLE: [0.48981678]\n",
      "normalized_MAE: [0.7675531]\n",
      "normalized_MSE: [1.1189077]\n",
      "denormalized_MSE: [48920532.]\n",
      "normalized_reconstruction_errors: [[ 0.8065181  -0.62521863  0.2010414   0.8921403   1.6620245   1.8156183\n",
      "   0.48484722  0.16379909  0.33031893 -1.5981342   0.64160895 -0.19949919\n",
      "   0.13074811  0.14856052  0.02882137 -2.5128832   1.690178   -1.9164104\n",
      "  -0.11276755 -1.6816404   0.15195099 -0.41761446 -1.9970205   0.33500293\n",
      "   0.03844658 -0.53866726 -1.3245043   0.07872623  0.41492522 -0.08695501]]\n",
      "denormalized_RMSE: [6994.3213]\n",
      "denormalized_reconstruction_errors: [[ 3.83094688e+04 -1.20722973e+00  3.29874635e-01  1.30284297e+00\n",
      "   2.32467866e+00  2.47103024e+00  6.46162271e-01  1.94027722e-01\n",
      "   3.85134816e-01 -1.74060953e+00  6.67052150e-01 -1.99996069e-01\n",
      "   1.23746514e-01  1.47947013e-01  2.58240402e-02 -2.29921770e+00\n",
      "   1.42567861e+00 -1.42889524e+00 -9.28571299e-02 -1.36495125e+00\n",
      "   1.18380636e-01 -2.99709022e-01 -1.44498050e+00  2.08412886e-01\n",
      "   2.32529081e-02 -2.80709386e-01 -6.39139712e-01  3.15905213e-02\n",
      "   1.39272109e-01 -2.20930824e+01]]\n"
     ]
    }
   ],
   "source": [
    "print(\"\\nTensorFlow SavedModel Prediction:\")\n",
    "for key, value in predictions_tf.items():\n",
    "    print(f\"{key}: {value.numpy()}\")"
   ]
  },
  {
   "cell_type": "code",
   "execution_count": null,
   "id": "bddbd033-229e-4918-b824-092ce202f548",
   "metadata": {},
   "outputs": [],
   "source": []
  }
 ],
 "metadata": {
  "environment": {
   "kernel": "conda-base-py",
   "name": "workbench-notebooks.m125",
   "type": "gcloud",
   "uri": "us-docker.pkg.dev/deeplearning-platform-release/gcr.io/workbench-notebooks:m125"
  },
  "kernelspec": {
   "display_name": "Python 3 (ipykernel) (Local)",
   "language": "python",
   "name": "conda-base-py"
  },
  "language_info": {
   "codemirror_mode": {
    "name": "ipython",
    "version": 3
   },
   "file_extension": ".py",
   "mimetype": "text/x-python",
   "name": "python",
   "nbconvert_exporter": "python",
   "pygments_lexer": "ipython3",
   "version": "3.10.15"
  }
 },
 "nbformat": 4,
 "nbformat_minor": 5
}
