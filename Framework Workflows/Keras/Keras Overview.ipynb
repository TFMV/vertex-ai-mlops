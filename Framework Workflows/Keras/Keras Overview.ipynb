{
 "cells": [
  {
   "cell_type": "markdown",
   "id": "f0333a11",
   "metadata": {},
   "source": [
    "![tracker](https://us-central1-vertex-ai-mlops-369716.cloudfunctions.net/pixel-tracking?path=statmike%2Fvertex-ai-mlops%2FFramework+Workflows%2FKeras&file=Keras+Overview.ipynb)\n",
    "<!--- header table --->\n",
    "<table align=\"left\">\n",
    "  <td style=\"text-align: center\">\n",
    "    <a href=\"https://colab.research.google.com/github/statmike/vertex-ai-mlops/blob/main/Framework%20Workflows/Keras/Keras%20Overview.ipynb\">\n",
    "      <img src=\"https://cloud.google.com/ml-engine/images/colab-logo-32px.png\" alt=\"Google Colaboratory logo\">\n",
    "      <br>Run in<br>Colab\n",
    "    </a>\n",
    "  </td>\n",
    "  <td style=\"text-align: center\">\n",
    "    <a href=\"https://console.cloud.google.com/vertex-ai/colab/import/https%3A%2F%2Fraw.githubusercontent.com%2Fstatmike%2Fvertex-ai-mlops%2Fmain%2FFramework%2520Workflows%2FKeras%2FKeras%2520Overview.ipynb\">\n",
    "      <img width=\"32px\" src=\"https://lh3.googleusercontent.com/JmcxdQi-qOpctIvWKgPtrzZdJJK-J3sWE1RsfjZNwshCFgE_9fULcNpuXYTilIR2hjwN\" alt=\"Google Cloud Colab Enterprise logo\">\n",
    "      <br>Run in<br>Colab Enterprise\n",
    "    </a>\n",
    "  </td>      \n",
    "  <td style=\"text-align: center\">\n",
    "    <a href=\"https://github.com/statmike/vertex-ai-mlops/blob/main/Framework%20Workflows/Keras/Keras%20Overview.ipynb\">\n",
    "      <img src=\"https://cloud.google.com/ml-engine/images/github-logo-32px.png\" alt=\"GitHub logo\">\n",
    "      <br>View on<br>GitHub\n",
    "    </a>\n",
    "  </td>\n",
    "  <td style=\"text-align: center\">\n",
    "    <a href=\"https://console.cloud.google.com/vertex-ai/workbench/deploy-notebook?download_url=https://raw.githubusercontent.com/statmike/vertex-ai-mlops/main/Framework%20Workflows/Keras/Keras%20Overview.ipynb\">\n",
    "      <img src=\"https://lh3.googleusercontent.com/UiNooY4LUgW_oTvpsNhPpQzsstV5W8F7rYgxgGBD85cWJoLmrOzhVs_ksK_vgx40SHs7jCqkTkCk=e14-rj-sc0xffffff-h130-w32\" alt=\"Vertex AI logo\">\n",
    "      <br>Open in<br>Vertex AI Workbench\n",
    "    </a>\n",
    "  </td>\n",
    "</table>"
   ]
  },
  {
   "cell_type": "markdown",
   "id": "ccf49c32-311c-4665-a5ea-4d126503022d",
   "metadata": {},
   "source": [
    "# Keras Overview\n",
    "\n",
    "An overview of using Keras 3 for building an autoencoder and its application in anomaly detection.\n",
    "\n",
    "Neural Networks provide a powerful and flexible framework for learning complex patterns in data. They represent data with general structures called tensors and learn by iteratively adjusting internal parameters through a process called training. This allows them to build sophisticated representations of the underlying data distribution.\n",
    "\n",
    "**Structure and Training:**\n",
    "\n",
    "A neural network is structured as a series of interconnected layers. Each layer is composed of nodes (or neurons) connected to the nodes in preceding and subsequent layers. During training, the network learns optimal values for these connections (weights) and biases associated with each node, enabling it to map inputs to desired outputs.\n",
    "\n",
    "**Frameworks and Keras:**\n",
    "\n",
    "Several popular frameworks facilitate neural network development, including TensorFlow, PyTorch, and the increasingly adopted JAX. Keras 3 offers a user-friendly, high-level API that sits atop these frameworks, enabling you to build and train models that can leverage the strengths of each backend. This means you can write your code once in Keras and potentially switch the backend (TensorFlow, PyTorch, or JAX) depending on your needs or performance considerations.\n",
    "\n",
    "**Autoencoders and Anomaly Detection:**\n",
    "\n",
    "Autoencoders are a specific type of neural network architecture that learn to reconstruct their input data. By forcing the network to learn a compressed representation of the data (encoding) and then reconstruct it (decoding), autoencoders can capture essential features. This makes them useful for tasks like dimensionality reduction and, importantly, anomaly detection. Anomalies, being significantly different from the learned patterns, typically result in higher reconstruction errors, allowing for their identification.\n",
    "\n",
    "**What This Workflow Covers:**\n",
    "- Train an autoencoder with Keras API\n",
    "    - Use Tensorflow Dataset to manage reading data\n",
    "    - Format data for training\n",
    "    - Preprocess data for training with feature engineering steps\n",
    "    - Train the model\n",
    "    - Evaluate the model\n",
    "    - Predict with the model\n",
    "- Enhance the autoencoder:\n",
    "    - include preprocessing within the model\n",
    "    - name the model inputs to help with training/serving skew\n",
    "    - customize the model outputs\n",
    "    - export and import the model for serving"
   ]
  },
  {
   "cell_type": "markdown",
   "id": "67d92566-c86c-4008-a161-612854b5faab",
   "metadata": {
    "id": "od_UkDpvRmgD"
   },
   "source": [
    "---\n",
    "## Colab Setup\n",
    "\n",
    "When running this notebook in [Colab](https://colab.google/) or [Colab Enterprise](https://cloud.google.com/colab/docs/introduction), this section will authenticate to GCP (follow prompts in the popup) and set the current project for the session."
   ]
  },
  {
   "cell_type": "code",
   "execution_count": 1,
   "id": "0737962b-1ef0-4552-b642-99dec7499980",
   "metadata": {
    "executionInfo": {
     "elapsed": 195,
     "status": "ok",
     "timestamp": 1683726184843,
     "user": {
      "displayName": "Mike Henderson",
      "userId": "07691629187611687318"
     },
     "user_tz": 240
    },
    "id": "8UO9FnqyKBlF",
    "tags": []
   },
   "outputs": [],
   "source": [
    "PROJECT_ID = 'statmike-mlops-349915' # replace with project ID"
   ]
  },
  {
   "cell_type": "code",
   "execution_count": 2,
   "id": "fe5bbbdf-dc78-43d0-8429-8d3a48c97249",
   "metadata": {
    "colab": {
     "base_uri": "https://localhost:8080/"
    },
    "executionInfo": {
     "elapsed": 68869,
     "status": "ok",
     "timestamp": 1683726253709,
     "user": {
      "displayName": "Mike Henderson",
      "userId": "07691629187611687318"
     },
     "user_tz": 240
    },
    "id": "N98-KK7LRkjm",
    "outputId": "09ec5008-0def-4e1a-c349-c598ee752f78",
    "tags": []
   },
   "outputs": [],
   "source": [
    "try:\n",
    "    from google.colab import auth\n",
    "    auth.authenticate_user()\n",
    "    !gcloud config set project {PROJECT_ID}\n",
    "except Exception:\n",
    "    pass"
   ]
  },
  {
   "cell_type": "markdown",
   "id": "b7d5d7ea-5b0c-4191-9456-388a9e3a1ccf",
   "metadata": {},
   "source": [
    "---\n",
    "## Installs and API Enablement\n",
    "\n",
    "The clients packages may need installing in this environment. "
   ]
  },
  {
   "cell_type": "markdown",
   "id": "754632d3-ea20-4b64-81b3-63bd294a977c",
   "metadata": {},
   "source": [
    "### Installs (If Needed)"
   ]
  },
  {
   "cell_type": "code",
   "execution_count": 3,
   "id": "9a7cb888-f010-40f8-b0d7-c6f8a9c77926",
   "metadata": {
    "tags": []
   },
   "outputs": [],
   "source": [
    "# tuples of (import name, install name, min_version)\n",
    "packages = [\n",
    "    ('google.cloud.aiplatform', 'google-cloud-aiplatform'),\n",
    "    ('google.cloud.bigquery', 'google-cloud-bigquery'),\n",
    "    ('jax','jax'),\n",
    "    ('keras', 'keras', '3.6.0'),\n",
    "    ('tensorflow', 'tensorflow'),\n",
    "    ('pydot', 'pydot')\n",
    "]\n",
    "\n",
    "import importlib\n",
    "install = False\n",
    "for package in packages:\n",
    "    if not importlib.util.find_spec(package[0]):\n",
    "        print(f'installing package {package[1]}')\n",
    "        install = True\n",
    "        !pip install {package[1]} -U -q --user\n",
    "    elif len(package) == 3:\n",
    "        if importlib.metadata.version(package[0]) < package[2]:\n",
    "            print(f'updating package {package[1]}')\n",
    "            install = True\n",
    "            !pip install {package[1]} -U -q --user"
   ]
  },
  {
   "cell_type": "markdown",
   "id": "8b5319ef-200f-4341-b1f6-040432f45409",
   "metadata": {
    "tags": []
   },
   "source": [
    "### Graphviz Install\n",
    "\n",
    "Plotting the [model structure with Keras](https://keras.io/api/utils/model_plotting_utils/) uses [Graphviz](https://graphviz.org/download/).\n",
    "\n",
    "This code checks for Graphviz and if missing installs it."
   ]
  },
  {
   "cell_type": "code",
   "execution_count": 4,
   "id": "8d67ffd6-bc1e-4cd7-aff3-b1f8c5bb2fd5",
   "metadata": {
    "tags": []
   },
   "outputs": [
    {
     "name": "stdout",
     "output_type": "stream",
     "text": [
      "Graphviz installed with version: dot - graphviz version 2.43.0 (0)\n"
     ]
    }
   ],
   "source": [
    "check = !dot -V\n",
    "if check[0].startswith('dot'):\n",
    "    print(f'Graphviz installed with version: {check[0]}')\n",
    "else:\n",
    "    print('Installing Graphviz...')\n",
    "    install = !sudo apt-get install graphviz --assume-yes\n",
    "    print('Completed')"
   ]
  },
  {
   "cell_type": "markdown",
   "id": "4cacea46-0f27-4453-aa2d-5f0214326215",
   "metadata": {},
   "source": [
    "### API Enablement"
   ]
  },
  {
   "cell_type": "code",
   "execution_count": 5,
   "id": "cd198660-1cb2-4a54-ab0f-fe055132d388",
   "metadata": {
    "tags": []
   },
   "outputs": [],
   "source": [
    "!gcloud services enable aiplatform.googleapis.com"
   ]
  },
  {
   "cell_type": "markdown",
   "id": "b2182867-ec3e-4797-93e3-b09a0fa9acbc",
   "metadata": {},
   "source": [
    "### Restart Kernel (If Installs Occured)\n",
    "\n",
    "After a kernel restart the code submission can start with the next cell after this one."
   ]
  },
  {
   "cell_type": "code",
   "execution_count": 6,
   "id": "756b1dd4-836a-4cd2-a0bd-1eeea65f8fd6",
   "metadata": {
    "tags": []
   },
   "outputs": [],
   "source": [
    "if install:\n",
    "    import IPython\n",
    "    app = IPython.Application.instance()\n",
    "    app.kernel.do_shutdown(True)\n",
    "    IPython.display.display(IPython.display.Markdown(\"\"\"<div class=\\\"alert alert-block alert-warning\\\">\n",
    "        <b>⚠️ The kernel is going to restart. Please wait until it is finished before continuing to the next step. The previous cells do not need to be run again⚠️</b>\n",
    "        </div>\"\"\"))"
   ]
  },
  {
   "cell_type": "markdown",
   "id": "fe5d7ff7-b086-416b-acdf-4971fa26c12d",
   "metadata": {
    "id": "appt8-yVRtJ1"
   },
   "source": [
    "---\n",
    "## Setup"
   ]
  },
  {
   "cell_type": "markdown",
   "id": "621034b9-a98e-4195-9477-ee88fbf845a3",
   "metadata": {
    "id": "63mx2EozRxFP"
   },
   "source": [
    "Inputs"
   ]
  },
  {
   "cell_type": "code",
   "execution_count": 7,
   "id": "9666cf25-fbd7-493e-a697-a70b6b10e85d",
   "metadata": {
    "colab": {
     "base_uri": "https://localhost:8080/",
     "height": 35
    },
    "executionInfo": {
     "elapsed": 2124,
     "status": "ok",
     "timestamp": 1683726390544,
     "user": {
      "displayName": "Mike Henderson",
      "userId": "07691629187611687318"
     },
     "user_tz": 240
    },
    "id": "xzcoXjM5Rky5",
    "outputId": "b3bdcbc1-70d5-472e-aea2-42c74a42efde",
    "tags": []
   },
   "outputs": [
    {
     "data": {
      "text/plain": [
       "'statmike-mlops-349915'"
      ]
     },
     "execution_count": 7,
     "metadata": {},
     "output_type": "execute_result"
    }
   ],
   "source": [
    "project = !gcloud config get-value project\n",
    "PROJECT_ID = project[0]\n",
    "PROJECT_ID"
   ]
  },
  {
   "cell_type": "code",
   "execution_count": 8,
   "id": "0578a494-10fa-4954-aec5-be89976621fa",
   "metadata": {
    "executionInfo": {
     "elapsed": 2,
     "status": "ok",
     "timestamp": 1683726390712,
     "user": {
      "displayName": "Mike Henderson",
      "userId": "07691629187611687318"
     },
     "user_tz": 240
    },
    "id": "IxWrFtqYMfku",
    "tags": []
   },
   "outputs": [],
   "source": [
    "REGION = 'us-central1'\n",
    "SERIES = 'frameworks-keras'\n",
    "EXPERIMENT = 'overview'\n",
    "\n",
    "# Data source for this series of notebooks: Described above\n",
    "BQ_SOURCE = 'bigquery-public-data.ml_datasets.ulb_fraud_detection'\n",
    "\n",
    "# make this the BigQuery Project / Dataset / Table prefix to store results\n",
    "BQ_PROJECT = PROJECT_ID\n",
    "BQ_DATASET = SERIES.replace('-', '_')\n",
    "BQ_TABLE = EXPERIMENT\n",
    "BQ_REGION = REGION[0:2] # use a multi region"
   ]
  },
  {
   "cell_type": "markdown",
   "id": "70ec5396-e63b-4834-b8e6-c6bed6276f21",
   "metadata": {
    "id": "LuajVwCiO6Yg"
   },
   "source": [
    "Packages"
   ]
  },
  {
   "cell_type": "code",
   "execution_count": 49,
   "id": "cf4341ea-5267-4fb2-a7d0-701743bced28",
   "metadata": {
    "executionInfo": {
     "elapsed": 17761,
     "status": "ok",
     "timestamp": 1683726409304,
     "user": {
      "displayName": "Mike Henderson",
      "userId": "07691629187611687318"
     },
     "user_tz": 240
    },
    "id": "LVC7zzSLRk2C",
    "tags": []
   },
   "outputs": [],
   "source": [
    "# import python package\n",
    "import os\n",
    "\n",
    "# import keras, set backend prior to first import of keras\n",
    "os.environ['KERAS_BACKEND'] = 'jax'\n",
    "import keras\n",
    "\n",
    "import matplotlib.pyplot as plt\n",
    "\n",
    "# import jax for numerical operations uses with keras (and jax backend) - like custom loss function\n",
    "import jax.numpy as jnp\n",
    "\n",
    "# import tensorflow - used here to read data with tf.data\n",
    "import tensorflow as tf\n",
    "\n",
    "# Vertex AI\n",
    "from google.cloud import aiplatform\n",
    "\n",
    "# BigQuery\n",
    "from google.cloud import bigquery"
   ]
  },
  {
   "cell_type": "markdown",
   "id": "bf40f7c8-1a2a-40db-8489-6f5ea11f0853",
   "metadata": {},
   "source": [
    "Check Versions of Packages:"
   ]
  },
  {
   "cell_type": "code",
   "execution_count": 10,
   "id": "7188f2f5-3455-47d4-b723-09f30b05bfd9",
   "metadata": {
    "tags": []
   },
   "outputs": [
    {
     "data": {
      "text/plain": [
       "'1.78.0'"
      ]
     },
     "execution_count": 10,
     "metadata": {},
     "output_type": "execute_result"
    }
   ],
   "source": [
    "aiplatform.__version__"
   ]
  },
  {
   "cell_type": "code",
   "execution_count": 11,
   "id": "04007f92-458d-412b-8248-052fe2153e8f",
   "metadata": {
    "tags": []
   },
   "outputs": [
    {
     "data": {
      "text/plain": [
       "'3.6.0'"
      ]
     },
     "execution_count": 11,
     "metadata": {},
     "output_type": "execute_result"
    }
   ],
   "source": [
    "keras.__version__"
   ]
  },
  {
   "cell_type": "code",
   "execution_count": 12,
   "id": "d50d45f8-6eda-45a2-a917-e597b315d8a7",
   "metadata": {
    "tags": []
   },
   "outputs": [
    {
     "data": {
      "text/plain": [
       "'2.18.0'"
      ]
     },
     "execution_count": 12,
     "metadata": {},
     "output_type": "execute_result"
    }
   ],
   "source": [
    "tf.__version__"
   ]
  },
  {
   "cell_type": "markdown",
   "id": "184e4db1-9746-47b9-82fe-0adaa6afe332",
   "metadata": {
    "id": "EyAVFG9TO9H-"
   },
   "source": [
    "Clients"
   ]
  },
  {
   "cell_type": "code",
   "execution_count": 14,
   "id": "4d752607-fdf5-4159-95dc-fdc3ae436979",
   "metadata": {
    "executionInfo": {
     "elapsed": 19,
     "status": "ok",
     "timestamp": 1683726409306,
     "user": {
      "displayName": "Mike Henderson",
      "userId": "07691629187611687318"
     },
     "user_tz": 240
    },
    "id": "L0RPE13LOZce",
    "tags": []
   },
   "outputs": [],
   "source": [
    "# vertex ai clients\n",
    "aiplatform.init(project = PROJECT_ID, location = REGION)\n",
    "\n",
    "# bigquery client\n",
    "bq = bigquery.Client(project = PROJECT_ID)"
   ]
  },
  {
   "cell_type": "markdown",
   "id": "a7d76f6e-704f-44da-bbb5-abdf77e2ecfc",
   "metadata": {},
   "source": [
    "---\n",
    "## Review Source Data\n",
    "\n",
    "This is a BigQuery public table of 284,807 credit card transactions classified as fradulant or normal in the column `Class`.\n",
    "- The data can be researched further at this [Kaggle link](https://www.kaggle.com/mlg-ulb/creditcardfraud).\n",
    "- Read mode about BigQuery public datasets [here](https://cloud.google.com/bigquery/public-data)\n",
    "\n",
    "In order protect confidentiality, the original features have been transformed using [principle component analysis (PCA)](https://en.wikipedia.org/wiki/Principal_component_analysis) into 28 features named `V1, V2, ... V28` (float).  Two descriptive features are provided without transformation by PCA:\n",
    "- `Time` (integer) is the seconds elapsed between the transaction and the earliest transaction in the table\n",
    "- `Amount` (float) is the value of the transaction\n",
    " "
   ]
  },
  {
   "cell_type": "markdown",
   "id": "6e1dc2a2-3cfe-4446-8da5-e461431b3e1c",
   "metadata": {},
   "source": [
    "### Review BigQuery table:"
   ]
  },
  {
   "cell_type": "code",
   "execution_count": 15,
   "id": "f41fb98c-f861-4084-b9f7-c373229802a7",
   "metadata": {
    "tags": []
   },
   "outputs": [
    {
     "data": {
      "text/html": [
       "<div>\n",
       "<style scoped>\n",
       "    .dataframe tbody tr th:only-of-type {\n",
       "        vertical-align: middle;\n",
       "    }\n",
       "\n",
       "    .dataframe tbody tr th {\n",
       "        vertical-align: top;\n",
       "    }\n",
       "\n",
       "    .dataframe thead th {\n",
       "        text-align: right;\n",
       "    }\n",
       "</style>\n",
       "<table border=\"1\" class=\"dataframe\">\n",
       "  <thead>\n",
       "    <tr style=\"text-align: right;\">\n",
       "      <th></th>\n",
       "      <th>Time</th>\n",
       "      <th>V1</th>\n",
       "      <th>V2</th>\n",
       "      <th>V3</th>\n",
       "      <th>V4</th>\n",
       "      <th>V5</th>\n",
       "      <th>V6</th>\n",
       "      <th>V7</th>\n",
       "      <th>V8</th>\n",
       "      <th>V9</th>\n",
       "      <th>...</th>\n",
       "      <th>V21</th>\n",
       "      <th>V22</th>\n",
       "      <th>V23</th>\n",
       "      <th>V24</th>\n",
       "      <th>V25</th>\n",
       "      <th>V26</th>\n",
       "      <th>V27</th>\n",
       "      <th>V28</th>\n",
       "      <th>Amount</th>\n",
       "      <th>Class</th>\n",
       "    </tr>\n",
       "  </thead>\n",
       "  <tbody>\n",
       "    <tr>\n",
       "      <th>0</th>\n",
       "      <td>8748.0</td>\n",
       "      <td>-1.070416</td>\n",
       "      <td>0.304517</td>\n",
       "      <td>2.777064</td>\n",
       "      <td>2.154061</td>\n",
       "      <td>0.254450</td>\n",
       "      <td>-0.448529</td>\n",
       "      <td>-0.398691</td>\n",
       "      <td>0.144672</td>\n",
       "      <td>1.070900</td>\n",
       "      <td>...</td>\n",
       "      <td>-0.122032</td>\n",
       "      <td>-0.182351</td>\n",
       "      <td>0.019576</td>\n",
       "      <td>0.626023</td>\n",
       "      <td>-0.018518</td>\n",
       "      <td>-0.263291</td>\n",
       "      <td>-0.198600</td>\n",
       "      <td>0.098435</td>\n",
       "      <td>0.0</td>\n",
       "      <td>0</td>\n",
       "    </tr>\n",
       "    <tr>\n",
       "      <th>1</th>\n",
       "      <td>27074.0</td>\n",
       "      <td>1.165628</td>\n",
       "      <td>0.423671</td>\n",
       "      <td>0.887635</td>\n",
       "      <td>2.740163</td>\n",
       "      <td>-0.338578</td>\n",
       "      <td>-0.142846</td>\n",
       "      <td>-0.055628</td>\n",
       "      <td>-0.015325</td>\n",
       "      <td>-0.213621</td>\n",
       "      <td>...</td>\n",
       "      <td>-0.081184</td>\n",
       "      <td>-0.025694</td>\n",
       "      <td>-0.076609</td>\n",
       "      <td>0.414687</td>\n",
       "      <td>0.631032</td>\n",
       "      <td>0.077322</td>\n",
       "      <td>0.010182</td>\n",
       "      <td>0.019912</td>\n",
       "      <td>0.0</td>\n",
       "      <td>0</td>\n",
       "    </tr>\n",
       "    <tr>\n",
       "      <th>2</th>\n",
       "      <td>28292.0</td>\n",
       "      <td>1.050879</td>\n",
       "      <td>0.053408</td>\n",
       "      <td>1.364590</td>\n",
       "      <td>2.666158</td>\n",
       "      <td>-0.378636</td>\n",
       "      <td>1.382032</td>\n",
       "      <td>-0.766202</td>\n",
       "      <td>0.486126</td>\n",
       "      <td>0.152611</td>\n",
       "      <td>...</td>\n",
       "      <td>0.083467</td>\n",
       "      <td>0.624424</td>\n",
       "      <td>-0.157228</td>\n",
       "      <td>-0.240411</td>\n",
       "      <td>0.573061</td>\n",
       "      <td>0.244090</td>\n",
       "      <td>0.063834</td>\n",
       "      <td>0.010981</td>\n",
       "      <td>0.0</td>\n",
       "      <td>0</td>\n",
       "    </tr>\n",
       "    <tr>\n",
       "      <th>3</th>\n",
       "      <td>28488.0</td>\n",
       "      <td>1.070316</td>\n",
       "      <td>0.079499</td>\n",
       "      <td>1.471856</td>\n",
       "      <td>2.863786</td>\n",
       "      <td>-0.637887</td>\n",
       "      <td>0.858159</td>\n",
       "      <td>-0.687478</td>\n",
       "      <td>0.344146</td>\n",
       "      <td>0.459561</td>\n",
       "      <td>...</td>\n",
       "      <td>0.048067</td>\n",
       "      <td>0.534713</td>\n",
       "      <td>-0.098645</td>\n",
       "      <td>0.129272</td>\n",
       "      <td>0.543737</td>\n",
       "      <td>0.242724</td>\n",
       "      <td>0.065070</td>\n",
       "      <td>0.023500</td>\n",
       "      <td>0.0</td>\n",
       "      <td>0</td>\n",
       "    </tr>\n",
       "    <tr>\n",
       "      <th>4</th>\n",
       "      <td>31392.0</td>\n",
       "      <td>-3.680953</td>\n",
       "      <td>-4.183581</td>\n",
       "      <td>2.642743</td>\n",
       "      <td>4.263802</td>\n",
       "      <td>4.643286</td>\n",
       "      <td>-0.225053</td>\n",
       "      <td>-3.733637</td>\n",
       "      <td>1.273037</td>\n",
       "      <td>0.015661</td>\n",
       "      <td>...</td>\n",
       "      <td>0.649051</td>\n",
       "      <td>1.054124</td>\n",
       "      <td>0.795528</td>\n",
       "      <td>-0.901314</td>\n",
       "      <td>-0.425524</td>\n",
       "      <td>0.511675</td>\n",
       "      <td>0.125419</td>\n",
       "      <td>0.243671</td>\n",
       "      <td>0.0</td>\n",
       "      <td>0</td>\n",
       "    </tr>\n",
       "  </tbody>\n",
       "</table>\n",
       "<p>5 rows × 31 columns</p>\n",
       "</div>"
      ],
      "text/plain": [
       "      Time        V1        V2        V3        V4        V5        V6  \\\n",
       "0   8748.0 -1.070416  0.304517  2.777064  2.154061  0.254450 -0.448529   \n",
       "1  27074.0  1.165628  0.423671  0.887635  2.740163 -0.338578 -0.142846   \n",
       "2  28292.0  1.050879  0.053408  1.364590  2.666158 -0.378636  1.382032   \n",
       "3  28488.0  1.070316  0.079499  1.471856  2.863786 -0.637887  0.858159   \n",
       "4  31392.0 -3.680953 -4.183581  2.642743  4.263802  4.643286 -0.225053   \n",
       "\n",
       "         V7        V8        V9  ...       V21       V22       V23       V24  \\\n",
       "0 -0.398691  0.144672  1.070900  ... -0.122032 -0.182351  0.019576  0.626023   \n",
       "1 -0.055628 -0.015325 -0.213621  ... -0.081184 -0.025694 -0.076609  0.414687   \n",
       "2 -0.766202  0.486126  0.152611  ...  0.083467  0.624424 -0.157228 -0.240411   \n",
       "3 -0.687478  0.344146  0.459561  ...  0.048067  0.534713 -0.098645  0.129272   \n",
       "4 -3.733637  1.273037  0.015661  ...  0.649051  1.054124  0.795528 -0.901314   \n",
       "\n",
       "        V25       V26       V27       V28  Amount  Class  \n",
       "0 -0.018518 -0.263291 -0.198600  0.098435     0.0      0  \n",
       "1  0.631032  0.077322  0.010182  0.019912     0.0      0  \n",
       "2  0.573061  0.244090  0.063834  0.010981     0.0      0  \n",
       "3  0.543737  0.242724  0.065070  0.023500     0.0      0  \n",
       "4 -0.425524  0.511675  0.125419  0.243671     0.0      0  \n",
       "\n",
       "[5 rows x 31 columns]"
      ]
     },
     "execution_count": 15,
     "metadata": {},
     "output_type": "execute_result"
    }
   ],
   "source": [
    "source_data = bq.query(f'SELECT * FROM `{BQ_SOURCE}` LIMIT 5').to_dataframe()\n",
    "source_data"
   ]
  },
  {
   "cell_type": "code",
   "execution_count": 16,
   "id": "c23ff1c4-ede6-4676-a60f-385b678a3f2b",
   "metadata": {
    "tags": []
   },
   "outputs": [
    {
     "data": {
      "text/plain": [
       "Time      float64\n",
       "V1        float64\n",
       "V2        float64\n",
       "V3        float64\n",
       "V4        float64\n",
       "V5        float64\n",
       "V6        float64\n",
       "V7        float64\n",
       "V8        float64\n",
       "V9        float64\n",
       "V10       float64\n",
       "V11       float64\n",
       "V12       float64\n",
       "V13       float64\n",
       "V14       float64\n",
       "V15       float64\n",
       "V16       float64\n",
       "V17       float64\n",
       "V18       float64\n",
       "V19       float64\n",
       "V20       float64\n",
       "V21       float64\n",
       "V22       float64\n",
       "V23       float64\n",
       "V24       float64\n",
       "V25       float64\n",
       "V26       float64\n",
       "V27       float64\n",
       "V28       float64\n",
       "Amount    float64\n",
       "Class       Int64\n",
       "dtype: object"
      ]
     },
     "execution_count": 16,
     "metadata": {},
     "output_type": "execute_result"
    }
   ],
   "source": [
    "source_data.dtypes"
   ]
  },
  {
   "cell_type": "markdown",
   "id": "11dd9150-fd13-4c9b-bacb-2f638a6e8915",
   "metadata": {},
   "source": [
    "---\n",
    "## Prepare Data Source\n",
    "\n",
    "The data preparation includes adding splits for machine learning with a column named `splits` with 80% for training (`TRAIN`), 10% for validation (`VALIDATE`) and 10% for testing (`TEST`). Additionally, a unique identifier was added to each transaction, `transaction_id`. \n",
    "\n",
    ">These steps could be done locally at training but are instead done in the source system, BigQuery in this case, which provides several advantages:\n",
    ">\n",
    ">-   **Single Source of Truth:** A single data preparation can benefit multiple model training jobs for different architectures or even different team members working on the same model. This ensures consistency and avoids duplication of effort.\n",
    ">-   **Leverage BigQuery's Power:** BigQuery is highly optimized for large-scale data processing. Performing these operations directly in BigQuery leverages its distributed processing capabilities, making the preparation significantly faster and more efficient than local processing, especially for massive datasets.\n",
    ">-   **Reduced Data Movement:** Preparing the data in BigQuery reduces the amount of data that needs to be moved out of BigQuery and into the training environment. This minimizes latency and potential bottlenecks associated with data transfer.\n",
    ">-   **Data Versioning and Reproducibility:** By preparing the splits and unique ID in BigQuery, the specific dataset used for training can be easily tracked and versioned. This enhances the reproducibility of experiments and makes it easier to understand the provenance of the data used in a particular model.\n",
    ">-   **Simplified Training Pipeline:** The training pipeline becomes simpler because it can directly read pre-split data from BigQuery, eliminating the need for complex splitting logic within the training code.\n",
    ">-   **Pre-calculated Joins and Features:** BigQuery can be used to pre-calculate joins and engineer new features that are beneficial for the model. This can improve model performance and further reduce the workload during the training phase.\n",
    ">\n",
    ">**Further Considerations:**\n",
    ">\n",
    ">-   **Data Governance and Security:** BigQuery offers robust data governance and security features. Performing data preparation within BigQuery allows you to maintain control over access and ensure data quality.\n",
    ">-   **Scalability:** This approach is highly scalable. As your dataset grows, BigQuery can handle the increased workload without requiring significant changes to your data preparation pipeline.\n",
    ">-   **Cost Optimization:** While moving large amounts of data out of BigQuery can incur costs, performing the preparation steps within BigQuery and only extracting the necessary data for training can often be more cost-effective.\n",
    ">\n",
    ">By preparing the data in BigQuery, you create a streamlined, efficient, and reproducible workflow (pipeline) that leverages the strengths of the platform and sets your machine learning models up for success.\n"
   ]
  },
  {
   "cell_type": "markdown",
   "id": "3544b562-c5e7-474b-97f2-107af233b5d0",
   "metadata": {},
   "source": [
    "### Create/Recall Dataset"
   ]
  },
  {
   "cell_type": "code",
   "execution_count": 17,
   "id": "c546d187-9fdb-4a10-94f9-8509e43a2041",
   "metadata": {
    "tags": []
   },
   "outputs": [],
   "source": [
    "dataset = bigquery.Dataset(f\"{BQ_PROJECT}.{BQ_DATASET}\")\n",
    "dataset.location = BQ_REGION\n",
    "bq_dataset = bq.create_dataset(dataset, exists_ok = True)"
   ]
  },
  {
   "cell_type": "markdown",
   "id": "2a30972e-5be6-4ed9-b6e2-f69bb9a9fbad",
   "metadata": {},
   "source": [
    "### Create/Recall Table With Preparation For ML\n",
    "\n",
    "Copy the data from the source while adding columns:\n",
    "- `transaction_id` as a unique identify for the row\n",
    "    - Use the `GENERATE_UUID()` function\n",
    "- `splits` column to randomly assign rows to 'TRAIN\", \"VALIDATE\" and \"TEST\" groups\n",
    "    - stratified sampling within the levels of `class` by first assigning row numbers within the levels of `class` then using the with a CASE statment to assign the `splits` level."
   ]
  },
  {
   "cell_type": "code",
   "execution_count": 18,
   "id": "da5a9533-e065-4815-b872-02f5a5095f67",
   "metadata": {
    "tags": []
   },
   "outputs": [
    {
     "data": {
      "text/plain": [
       "0.347"
      ]
     },
     "execution_count": 18,
     "metadata": {},
     "output_type": "execute_result"
    }
   ],
   "source": [
    "job = bq.query(f\"\"\"\n",
    "#CREATE OR REPLACE TABLE\n",
    "CREATE TABLE IF NOT EXISTS \n",
    "    `{BQ_PROJECT}.{BQ_DATASET}.{BQ_TABLE}` AS\n",
    "WITH\n",
    "    add_id AS (\n",
    "        SELECT *,\n",
    "            GENERATE_UUID() transaction_id,\n",
    "            ROW_NUMBER() OVER (PARTITION BY class ORDER BY RAND()) as rn\n",
    "            FROM `{BQ_SOURCE}`\n",
    "    )\n",
    "SELECT * EXCEPT(rn),\n",
    "    CASE \n",
    "        WHEN rn <= 0.8 * COUNT(*) OVER (PARTITION BY class) THEN 'TRAIN'\n",
    "        WHEN rn <= 0.9 * COUNT(*) OVER (PARTITION BY class) THEN 'VALIDATE'\n",
    "        ELSE 'TEST'\n",
    "    END AS splits\n",
    "FROM add_id\n",
    "\"\"\")\n",
    "job.result()\n",
    "(job.ended-job.started).total_seconds()"
   ]
  },
  {
   "cell_type": "code",
   "execution_count": 19,
   "id": "9775537d-2fe1-4316-9342-03a231cbb844",
   "metadata": {
    "tags": []
   },
   "outputs": [
    {
     "data": {
      "text/html": [
       "<div>\n",
       "<style scoped>\n",
       "    .dataframe tbody tr th:only-of-type {\n",
       "        vertical-align: middle;\n",
       "    }\n",
       "\n",
       "    .dataframe tbody tr th {\n",
       "        vertical-align: top;\n",
       "    }\n",
       "\n",
       "    .dataframe thead th {\n",
       "        text-align: right;\n",
       "    }\n",
       "</style>\n",
       "<table border=\"1\" class=\"dataframe\">\n",
       "  <thead>\n",
       "    <tr style=\"text-align: right;\">\n",
       "      <th></th>\n",
       "      <th>Time</th>\n",
       "      <th>V1</th>\n",
       "      <th>V2</th>\n",
       "      <th>V3</th>\n",
       "      <th>V4</th>\n",
       "      <th>V5</th>\n",
       "      <th>V6</th>\n",
       "      <th>V7</th>\n",
       "      <th>V8</th>\n",
       "      <th>V9</th>\n",
       "      <th>...</th>\n",
       "      <th>V23</th>\n",
       "      <th>V24</th>\n",
       "      <th>V25</th>\n",
       "      <th>V26</th>\n",
       "      <th>V27</th>\n",
       "      <th>V28</th>\n",
       "      <th>Amount</th>\n",
       "      <th>Class</th>\n",
       "      <th>transaction_id</th>\n",
       "      <th>splits</th>\n",
       "    </tr>\n",
       "  </thead>\n",
       "  <tbody>\n",
       "    <tr>\n",
       "      <th>0</th>\n",
       "      <td>43330.0</td>\n",
       "      <td>-1.510308</td>\n",
       "      <td>0.780684</td>\n",
       "      <td>2.085747</td>\n",
       "      <td>3.123133</td>\n",
       "      <td>0.589557</td>\n",
       "      <td>1.301681</td>\n",
       "      <td>-1.300991</td>\n",
       "      <td>-2.345333</td>\n",
       "      <td>0.148722</td>\n",
       "      <td>...</td>\n",
       "      <td>-0.341324</td>\n",
       "      <td>-0.370869</td>\n",
       "      <td>-0.201199</td>\n",
       "      <td>0.423964</td>\n",
       "      <td>0.210998</td>\n",
       "      <td>-0.058616</td>\n",
       "      <td>0.0</td>\n",
       "      <td>0</td>\n",
       "      <td>34a1f550-443c-45f0-858d-94cf0baebfe8</td>\n",
       "      <td>TEST</td>\n",
       "    </tr>\n",
       "    <tr>\n",
       "      <th>1</th>\n",
       "      <td>141955.0</td>\n",
       "      <td>-1.585532</td>\n",
       "      <td>1.240411</td>\n",
       "      <td>-0.558349</td>\n",
       "      <td>-0.841657</td>\n",
       "      <td>0.397502</td>\n",
       "      <td>-1.532723</td>\n",
       "      <td>0.388818</td>\n",
       "      <td>0.575896</td>\n",
       "      <td>-0.278370</td>\n",
       "      <td>...</td>\n",
       "      <td>-0.249493</td>\n",
       "      <td>0.001462</td>\n",
       "      <td>-0.045791</td>\n",
       "      <td>-0.110667</td>\n",
       "      <td>0.305249</td>\n",
       "      <td>0.015271</td>\n",
       "      <td>0.0</td>\n",
       "      <td>0</td>\n",
       "      <td>a2dfc3ff-aa20-4742-bb1c-c6f67440e34a</td>\n",
       "      <td>TEST</td>\n",
       "    </tr>\n",
       "    <tr>\n",
       "      <th>2</th>\n",
       "      <td>58813.0</td>\n",
       "      <td>-2.524342</td>\n",
       "      <td>-0.313784</td>\n",
       "      <td>2.304085</td>\n",
       "      <td>3.043016</td>\n",
       "      <td>5.495686</td>\n",
       "      <td>-2.600347</td>\n",
       "      <td>-3.779679</td>\n",
       "      <td>-1.042154</td>\n",
       "      <td>-1.014503</td>\n",
       "      <td>...</td>\n",
       "      <td>-6.185491</td>\n",
       "      <td>0.440080</td>\n",
       "      <td>-1.409641</td>\n",
       "      <td>-0.209465</td>\n",
       "      <td>-0.111065</td>\n",
       "      <td>0.116788</td>\n",
       "      <td>0.0</td>\n",
       "      <td>0</td>\n",
       "      <td>d7910b3a-fc5e-417c-8b61-5516cc4dc981</td>\n",
       "      <td>TEST</td>\n",
       "    </tr>\n",
       "    <tr>\n",
       "      <th>3</th>\n",
       "      <td>139716.0</td>\n",
       "      <td>-2.006121</td>\n",
       "      <td>2.048709</td>\n",
       "      <td>-0.963971</td>\n",
       "      <td>-1.046216</td>\n",
       "      <td>-0.118273</td>\n",
       "      <td>-1.400030</td>\n",
       "      <td>0.401296</td>\n",
       "      <td>0.728337</td>\n",
       "      <td>0.095944</td>\n",
       "      <td>...</td>\n",
       "      <td>0.059168</td>\n",
       "      <td>-0.113542</td>\n",
       "      <td>0.066162</td>\n",
       "      <td>-0.143905</td>\n",
       "      <td>-0.218363</td>\n",
       "      <td>-0.091904</td>\n",
       "      <td>0.0</td>\n",
       "      <td>0</td>\n",
       "      <td>4de5ecd4-7c82-40dd-a52a-4b5e8b1e8ba3</td>\n",
       "      <td>TEST</td>\n",
       "    </tr>\n",
       "    <tr>\n",
       "      <th>4</th>\n",
       "      <td>59183.0</td>\n",
       "      <td>1.175167</td>\n",
       "      <td>-0.087900</td>\n",
       "      <td>0.278759</td>\n",
       "      <td>-0.279214</td>\n",
       "      <td>-0.166236</td>\n",
       "      <td>0.058772</td>\n",
       "      <td>-0.232681</td>\n",
       "      <td>0.192241</td>\n",
       "      <td>-0.014614</td>\n",
       "      <td>...</td>\n",
       "      <td>0.165047</td>\n",
       "      <td>-0.253526</td>\n",
       "      <td>-0.016523</td>\n",
       "      <td>0.890504</td>\n",
       "      <td>-0.059400</td>\n",
       "      <td>-0.013996</td>\n",
       "      <td>0.0</td>\n",
       "      <td>0</td>\n",
       "      <td>ec122bde-5780-4223-9e35-7f26de453512</td>\n",
       "      <td>TEST</td>\n",
       "    </tr>\n",
       "  </tbody>\n",
       "</table>\n",
       "<p>5 rows × 33 columns</p>\n",
       "</div>"
      ],
      "text/plain": [
       "       Time        V1        V2        V3        V4        V5        V6  \\\n",
       "0   43330.0 -1.510308  0.780684  2.085747  3.123133  0.589557  1.301681   \n",
       "1  141955.0 -1.585532  1.240411 -0.558349 -0.841657  0.397502 -1.532723   \n",
       "2   58813.0 -2.524342 -0.313784  2.304085  3.043016  5.495686 -2.600347   \n",
       "3  139716.0 -2.006121  2.048709 -0.963971 -1.046216 -0.118273 -1.400030   \n",
       "4   59183.0  1.175167 -0.087900  0.278759 -0.279214 -0.166236  0.058772   \n",
       "\n",
       "         V7        V8        V9  ...       V23       V24       V25       V26  \\\n",
       "0 -1.300991 -2.345333  0.148722  ... -0.341324 -0.370869 -0.201199  0.423964   \n",
       "1  0.388818  0.575896 -0.278370  ... -0.249493  0.001462 -0.045791 -0.110667   \n",
       "2 -3.779679 -1.042154 -1.014503  ... -6.185491  0.440080 -1.409641 -0.209465   \n",
       "3  0.401296  0.728337  0.095944  ...  0.059168 -0.113542  0.066162 -0.143905   \n",
       "4 -0.232681  0.192241 -0.014614  ...  0.165047 -0.253526 -0.016523  0.890504   \n",
       "\n",
       "        V27       V28  Amount  Class                        transaction_id  \\\n",
       "0  0.210998 -0.058616     0.0      0  34a1f550-443c-45f0-858d-94cf0baebfe8   \n",
       "1  0.305249  0.015271     0.0      0  a2dfc3ff-aa20-4742-bb1c-c6f67440e34a   \n",
       "2 -0.111065  0.116788     0.0      0  d7910b3a-fc5e-417c-8b61-5516cc4dc981   \n",
       "3 -0.218363 -0.091904     0.0      0  4de5ecd4-7c82-40dd-a52a-4b5e8b1e8ba3   \n",
       "4 -0.059400 -0.013996     0.0      0  ec122bde-5780-4223-9e35-7f26de453512   \n",
       "\n",
       "   splits  \n",
       "0    TEST  \n",
       "1    TEST  \n",
       "2    TEST  \n",
       "3    TEST  \n",
       "4    TEST  \n",
       "\n",
       "[5 rows x 33 columns]"
      ]
     },
     "execution_count": 19,
     "metadata": {},
     "output_type": "execute_result"
    }
   ],
   "source": [
    "raw_sample = bq.query(f'SELECT * FROM `{BQ_PROJECT}.{BQ_DATASET}.{BQ_TABLE}` LIMIT 5').to_dataframe()\n",
    "raw_sample"
   ]
  },
  {
   "cell_type": "markdown",
   "id": "a9722a68-2e16-4c34-a4d4-3b1e510cc86e",
   "metadata": {},
   "source": [
    "### Review the number of records for each level of `Class` for each of the data splits:"
   ]
  },
  {
   "cell_type": "code",
   "execution_count": 20,
   "id": "563f40a0-f684-4a5f-8dbd-f0b5f88bfd8d",
   "metadata": {
    "tags": []
   },
   "outputs": [
    {
     "data": {
      "text/html": [
       "<div>\n",
       "<style scoped>\n",
       "    .dataframe tbody tr th:only-of-type {\n",
       "        vertical-align: middle;\n",
       "    }\n",
       "\n",
       "    .dataframe tbody tr th {\n",
       "        vertical-align: top;\n",
       "    }\n",
       "\n",
       "    .dataframe thead th {\n",
       "        text-align: right;\n",
       "    }\n",
       "</style>\n",
       "<table border=\"1\" class=\"dataframe\">\n",
       "  <thead>\n",
       "    <tr style=\"text-align: right;\">\n",
       "      <th></th>\n",
       "      <th>splits</th>\n",
       "      <th>class</th>\n",
       "      <th>count</th>\n",
       "      <th>percentage</th>\n",
       "    </tr>\n",
       "  </thead>\n",
       "  <tbody>\n",
       "    <tr>\n",
       "      <th>0</th>\n",
       "      <td>TEST</td>\n",
       "      <td>1</td>\n",
       "      <td>50</td>\n",
       "      <td>10.16</td>\n",
       "    </tr>\n",
       "    <tr>\n",
       "      <th>1</th>\n",
       "      <td>TRAIN</td>\n",
       "      <td>1</td>\n",
       "      <td>393</td>\n",
       "      <td>79.88</td>\n",
       "    </tr>\n",
       "    <tr>\n",
       "      <th>2</th>\n",
       "      <td>VALIDATE</td>\n",
       "      <td>1</td>\n",
       "      <td>49</td>\n",
       "      <td>9.96</td>\n",
       "    </tr>\n",
       "    <tr>\n",
       "      <th>3</th>\n",
       "      <td>TEST</td>\n",
       "      <td>0</td>\n",
       "      <td>28432</td>\n",
       "      <td>10.00</td>\n",
       "    </tr>\n",
       "    <tr>\n",
       "      <th>4</th>\n",
       "      <td>TRAIN</td>\n",
       "      <td>0</td>\n",
       "      <td>227452</td>\n",
       "      <td>80.00</td>\n",
       "    </tr>\n",
       "    <tr>\n",
       "      <th>5</th>\n",
       "      <td>VALIDATE</td>\n",
       "      <td>0</td>\n",
       "      <td>28431</td>\n",
       "      <td>10.00</td>\n",
       "    </tr>\n",
       "  </tbody>\n",
       "</table>\n",
       "</div>"
      ],
      "text/plain": [
       "     splits  class   count  percentage\n",
       "0      TEST      1      50       10.16\n",
       "1     TRAIN      1     393       79.88\n",
       "2  VALIDATE      1      49        9.96\n",
       "3      TEST      0   28432       10.00\n",
       "4     TRAIN      0  227452       80.00\n",
       "5  VALIDATE      0   28431       10.00"
      ]
     },
     "execution_count": 20,
     "metadata": {},
     "output_type": "execute_result"
    }
   ],
   "source": [
    "bq.query(f\"\"\"\n",
    "SELECT splits, class,\n",
    "    count(*) as count,\n",
    "    ROUND(count(*) * 100.0 / SUM(count(*)) OVER (PARTITION BY class), 2) AS percentage\n",
    "FROM `{BQ_PROJECT}.{BQ_DATASET}.{BQ_TABLE}`\n",
    "GROUP BY splits, class\n",
    "\"\"\").to_dataframe()"
   ]
  },
  {
   "cell_type": "markdown",
   "id": "c6e54a24-de87-42a6-a7bd-f66b65b55155",
   "metadata": {},
   "source": [
    "---\n",
    "## Training An Autoencoder"
   ]
  },
  {
   "cell_type": "markdown",
   "id": "9125443b-88b9-4cf7-9f13-11ee568c2729",
   "metadata": {},
   "source": [
    "### Source Data\n",
    "\n",
    "Here the data is being read to a local Panda dataframe.  There are actually many ways to read batches for training directly from data sources like [TensorFlow I/O](https://www.tensorflow.org/io)."
   ]
  },
  {
   "cell_type": "code",
   "execution_count": 21,
   "id": "e56ceee8-dd25-42c2-82c8-79a2116d6c81",
   "metadata": {
    "tags": []
   },
   "outputs": [],
   "source": [
    "train_ds = bq.query(f\"SELECT * EXCEPT(splits) FROM `{BQ_PROJECT}.{BQ_DATASET}.{BQ_TABLE}` WHERE splits = 'TRAIN' AND Class = 0\").to_dataframe()\n",
    "test_ds = bq.query(f\"SELECT * EXCEPT(splits) FROM `{BQ_PROJECT}.{BQ_DATASET}.{BQ_TABLE}` WHERE splits = 'TEST' AND Class = 0\").to_dataframe()\n",
    "validate_ds = bq.query(f\"SELECT * EXCEPT(splits) FROM `{BQ_PROJECT}.{BQ_DATASET}.{BQ_TABLE}` WHERE splits = 'VALIDATE' AND Class = 0\").to_dataframe()"
   ]
  },
  {
   "cell_type": "code",
   "execution_count": 22,
   "id": "89288f2a-16d6-4ef1-81e7-c459cf5d5d88",
   "metadata": {
    "tags": []
   },
   "outputs": [
    {
     "data": {
      "text/plain": [
       "Index(['Time', 'V1', 'V2', 'V3', 'V4', 'V5', 'V6', 'V7', 'V8', 'V9', 'V10',\n",
       "       'V11', 'V12', 'V13', 'V14', 'V15', 'V16', 'V17', 'V18', 'V19', 'V20',\n",
       "       'V21', 'V22', 'V23', 'V24', 'V25', 'V26', 'V27', 'V28', 'Amount',\n",
       "       'Class', 'transaction_id'],\n",
       "      dtype='object')"
      ]
     },
     "execution_count": 22,
     "metadata": {},
     "output_type": "execute_result"
    }
   ],
   "source": [
    "train_ds.columns"
   ]
  },
  {
   "cell_type": "code",
   "execution_count": 23,
   "id": "243ba038-28ad-4e8d-aeee-b788586475eb",
   "metadata": {
    "tags": []
   },
   "outputs": [],
   "source": [
    "# Define column categories\n",
    "var_target = ['Class']\n",
    "var_omit = ['transaction_id']\n",
    "var_numeric = [x for x in train_ds.columns.tolist() if x not in var_target + var_omit]"
   ]
  },
  {
   "cell_type": "markdown",
   "id": "8333c871-51fb-447c-a0b0-b4d9f7171051",
   "metadata": {},
   "source": [
    "### Record Reader\n",
    "\n",
    "A mechanism for efficient input pipleines reading records of data and transforming them for training, validation, and testing.  Here this is done with the [`tf.data.Dataset` API from TensorFlow](https://www.tensorflow.org/api_docs/python/tf/data/Dataset)."
   ]
  },
  {
   "cell_type": "code",
   "execution_count": 24,
   "id": "77ee087f-524d-414f-a816-4e57a6a4ddce",
   "metadata": {
    "tags": []
   },
   "outputs": [],
   "source": [
    "def reader(ds):\n",
    "    return tf.data.Dataset.from_tensor_slices(dict(ds))"
   ]
  },
  {
   "cell_type": "code",
   "execution_count": 25,
   "id": "abf87798-2672-4353-bde6-566b5f686d3f",
   "metadata": {
    "tags": []
   },
   "outputs": [
    {
     "name": "stderr",
     "output_type": "stream",
     "text": [
      "2025-02-04 18:28:50.131844: E external/local_xla/xla/stream_executor/cuda/cuda_driver.cc:152] failed call to cuInit: INTERNAL: CUDA error: Failed call to cuInit: UNKNOWN ERROR (303)\n"
     ]
    }
   ],
   "source": [
    "train_read = reader(train_ds)\n",
    "validate_read = reader(validate_ds)\n",
    "test_read = reader(test_ds)"
   ]
  },
  {
   "cell_type": "markdown",
   "id": "933a4a20-bd0b-4d8e-9c69-1259671c9f55",
   "metadata": {},
   "source": [
    "Retrieve and example batch of 10 records:"
   ]
  },
  {
   "cell_type": "code",
   "execution_count": 28,
   "id": "5f39cce2-fc8c-4e6b-9bf5-8c89b3558341",
   "metadata": {
    "tags": []
   },
   "outputs": [
    {
     "data": {
      "text/plain": [
       "dict_keys(['Time', 'V1', 'V2', 'V3', 'V4', 'V5', 'V6', 'V7', 'V8', 'V9', 'V10', 'V11', 'V12', 'V13', 'V14', 'V15', 'V16', 'V17', 'V18', 'V19', 'V20', 'V21', 'V22', 'V23', 'V24', 'V25', 'V26', 'V27', 'V28', 'Amount', 'Class', 'transaction_id'])"
      ]
     },
     "execution_count": 28,
     "metadata": {},
     "output_type": "execute_result"
    }
   ],
   "source": [
    "example_batch = next(iter(train_read.batch(10).take(1)))\n",
    "example_batch.keys()"
   ]
  },
  {
   "cell_type": "code",
   "execution_count": 29,
   "id": "d5c98afc-f062-493b-a784-45d0f8531f71",
   "metadata": {
    "tags": []
   },
   "outputs": [
    {
     "data": {
      "text/plain": [
       "<tf.Tensor: shape=(10,), dtype=float64, numpy=\n",
       "array([ 83533., 113822.,  39200.,  61781., 148437., 123042., 127907.,\n",
       "         1888., 117742., 163935.])>"
      ]
     },
     "execution_count": 29,
     "metadata": {},
     "output_type": "execute_result"
    }
   ],
   "source": [
    "example_batch['Time']"
   ]
  },
  {
   "cell_type": "markdown",
   "id": "cf244c1b-346d-46f3-8d4e-2a8348f4004d",
   "metadata": {},
   "source": [
    "### Shaping Records With The Reader\n",
    "\n",
    "The reader will read batches of data from the source as shown above.  The model training expects input and output which in the case of the model below, an autoencoder, is actually the same.  The [.map()](https://www.tensorflow.org/api_docs/python/tf/data/Dataset#map) method makes it easy to use a Python function to reshape records as they are being read."
   ]
  },
  {
   "cell_type": "code",
   "execution_count": 30,
   "id": "6c8ca571-6f59-4be4-8a82-de19030e26d7",
   "metadata": {
    "tags": []
   },
   "outputs": [],
   "source": [
    "def prep_batch(source):\n",
    "    for k in var_omit + var_target:\n",
    "        source.pop(k, None)\n",
    "    numeric_values = tf.stack([source[col] for col in var_numeric], axis=-1)\n",
    "    return numeric_values, numeric_values"
   ]
  },
  {
   "cell_type": "markdown",
   "id": "075a009c-1bff-4c52-ae76-b4134490d41a",
   "metadata": {},
   "source": [
    "Retrieve an example batch with the mapped `prep_batch` function:"
   ]
  },
  {
   "cell_type": "code",
   "execution_count": 31,
   "id": "5b351234-c642-4afa-b249-295eb7adb48f",
   "metadata": {
    "tags": []
   },
   "outputs": [],
   "source": [
    "batch, batch = next(iter(train_read.map(prep_batch).batch(10).take(1)))"
   ]
  },
  {
   "cell_type": "code",
   "execution_count": 32,
   "id": "5338f01a-9027-462d-be44-5cb7250014ff",
   "metadata": {
    "tags": []
   },
   "outputs": [
    {
     "data": {
      "text/plain": [
       "TensorShape([10, 30])"
      ]
     },
     "execution_count": 32,
     "metadata": {},
     "output_type": "execute_result"
    }
   ],
   "source": [
    "batch.shape"
   ]
  },
  {
   "cell_type": "code",
   "execution_count": 33,
   "id": "9482ee89-8042-4fa0-a3e2-d2069a65ebd4",
   "metadata": {
    "tags": []
   },
   "outputs": [
    {
     "data": {
      "text/plain": [
       "<tf.Tensor: shape=(30,), dtype=float64, numpy=\n",
       "array([ 8.35330000e+04,  1.12552389e+00,  1.89853946e-01,  1.50865969e+00,\n",
       "        2.71993690e+00, -8.82341741e-01,  1.28390258e-01, -6.22650925e-01,\n",
       "        2.19444433e-01,  2.55370444e-01,  5.21744641e-01, -1.11755689e+00,\n",
       "       -3.42581768e-01, -9.18035487e-01, -2.24182825e-01, -1.98108066e-01,\n",
       "        6.65628330e-01, -3.60429717e-01, -8.31641571e-02, -8.35711759e-01,\n",
       "       -2.25172417e-01, -9.75838741e-02, -1.72683342e-01,  5.75558670e-02,\n",
       "        3.60859312e-01,  2.65443187e-01, -4.04174990e-02,  3.66861302e-02,\n",
       "        3.36852774e-02,  0.00000000e+00])>"
      ]
     },
     "execution_count": 33,
     "metadata": {},
     "output_type": "execute_result"
    }
   ],
   "source": [
    "batch[0]"
   ]
  },
  {
   "cell_type": "markdown",
   "id": "390caee1-29f6-49e7-8f81-0b0531bdcc73",
   "metadata": {
    "tags": []
   },
   "source": [
    "### Preprocessing Layers\n",
    "\n",
    "Preprocessing, like normalization, can be done with [Keras processing layers](https://keras.io/api/layers/preprocessing_layers/).  These layers can calculate, called [adapt](https://www.tensorflow.org/guide/keras/preprocessing_layers#the_adapt_method), from a data source and remember the values required to repeat the steps with the model during inference."
   ]
  },
  {
   "cell_type": "code",
   "execution_count": 36,
   "id": "4a0eb590-3f93-4bdb-b53d-6daaa8089413",
   "metadata": {
    "tags": []
   },
   "outputs": [],
   "source": [
    "# Normalization\n",
    "normalizer = keras.layers.Normalization(axis=-1, name='normalization')\n",
    "\n",
    "# Adapt the normalizer \n",
    "numeric_feature_reader = train_read.map(prep_batch).batch(1000).prefetch(tf.data.AUTOTUNE)\n",
    "normalizer.adapt(numeric_feature_reader.map(lambda x, _: x))\n",
    "\n",
    "# Denormalization using normalizer parameters\n",
    "denormalizer = keras.layers.Normalization(axis = -1, name = 'denormalize', invert = True, mean = normalizer.mean, variance = normalizer.variance)"
   ]
  },
  {
   "cell_type": "markdown",
   "id": "00166f87-bac6-422a-9386-2dabd647b11c",
   "metadata": {},
   "source": [
    "### Autoencoder\n",
    "\n",
    "The trainable model.  A series of code that goes from input to encoding to decoding as a series of layers.  In this case dropout is used between layers for regularization to prevent over-fitting."
   ]
  },
  {
   "cell_type": "markdown",
   "id": "bc0167c3-e00c-420e-8d7e-4646ea3cd290",
   "metadata": {},
   "source": [
    "#### Model Layers"
   ]
  },
  {
   "cell_type": "code",
   "execution_count": 40,
   "id": "7654e7f0-6e66-42d8-acdb-4a29f05fb538",
   "metadata": {
    "tags": []
   },
   "outputs": [],
   "source": [
    "autoencoder_input = keras.Input(shape = (len(var_numeric),), name = \"autoencoder_input\")\n",
    "\n",
    "encoder = keras.layers.Dense(16, activation='relu', name='enc_dense1', kernel_regularizer = keras.regularizers.l2(0.001))(autoencoder_input)\n",
    "encoder = keras.layers.Dropout(0.4, name='enc_dropout1')(encoder)\n",
    "encoder = keras.layers.Dense(8, activation='relu', name='enc_dense2', kernel_regularizer = keras.regularizers.l2(0.001))(encoder)\n",
    "encoder = keras.layers.Dropout(0.4, name='enc_dropout2')(encoder)\n",
    "\n",
    "latent = keras.layers.Dense(4, activation='relu', name='latent', kernel_regularizer = keras.regularizers.l2(0.001))(encoder)\n",
    "\n",
    "decoder = keras.layers.Dense(8, activation='relu', name='dec_dense1', kernel_regularizer = keras.regularizers.l2(0.001))(latent)\n",
    "decoder = keras.layers.Dropout(0.4, name='dec_dropout1')(decoder)\n",
    "decoder = keras.layers.Dense(16, activation='relu', name='dec_dense2', kernel_regularizer = keras.regularizers.l2(0.001))(decoder)\n",
    "decoder = keras.layers.Dropout(0.4, name='dec_dropout2')(decoder)\n",
    "\n",
    "reconstructed = keras.layers.Dense(len(var_numeric), activation='linear', name='reconstructed')(decoder)"
   ]
  },
  {
   "cell_type": "code",
   "execution_count": 41,
   "id": "ec5e06a9-214c-4098-a82f-76f8b2f2e61a",
   "metadata": {
    "tags": []
   },
   "outputs": [],
   "source": [
    "autoencoder = keras.Model(autoencoder_input, reconstructed, name = 'autoencoder')"
   ]
  },
  {
   "cell_type": "markdown",
   "id": "eed3e1f0-611c-4bcd-99d6-564ab1dc9720",
   "metadata": {},
   "source": [
    "#### Define Loss Function\n",
    "\n",
    "Here I want to use the mean absolute error (MAE) as the loss function to minimize during training.  Keras has [built in loss functions](https://keras.io/api/losses/) but you can also specify you own as a function. Here a simple function is used to calculate the mean of the absolute difference between values (the actual and the predicted).  In other words, the MAE.    "
   ]
  },
  {
   "cell_type": "code",
   "execution_count": 42,
   "id": "40f29c82-6f26-4ff4-8d97-9affcc899f92",
   "metadata": {
    "tags": []
   },
   "outputs": [],
   "source": [
    "import jax.numpy as jnp\n",
    "def custom_loss(y_true, y_pred):\n",
    "    return jnp.mean(jnp.abs(y_true - y_pred), axis=-1)"
   ]
  },
  {
   "cell_type": "markdown",
   "id": "6eaa0cb3-b61e-4c5f-baae-7a21e2d7c1b4",
   "metadata": {},
   "source": [
    "#### Compile The Model\n",
    "\n",
    "The Keras model training API has a [compile method](https://keras.io/api/models/model_training_apis/) which configures a model for training by specifying an optimizer, a loss function, and a metrics to evaluate and report during training.  There are also other parameters for detailed training approaches and debugging."
   ]
  },
  {
   "cell_type": "code",
   "execution_count": 43,
   "id": "7440b2f9-9854-438b-8af9-bbc3e7c65339",
   "metadata": {
    "tags": []
   },
   "outputs": [],
   "source": [
    "autoencoder.compile(\n",
    "    optimizer = keras.optimizers.Adam(learning_rate = 0.0005),\n",
    "    loss = custom_loss, #keras.losses.MeanAbsoluteError(),\n",
    "    metrics = [\n",
    "        keras.metrics.RootMeanSquaredError(name = 'rmse'),\n",
    "        keras.metrics.MeanSquaredError(name = 'mse'),\n",
    "        keras.metrics.MeanAbsoluteError(name = 'mae'),\n",
    "        keras.metrics.MeanSquaredLogarithmicError(name = 'msle')\n",
    "    ]\n",
    ")"
   ]
  },
  {
   "cell_type": "markdown",
   "id": "56c10dd8-b84f-42af-9479-1e881a77e955",
   "metadata": {},
   "source": [
    "#### Review The Model\n",
    "\n",
    "Review the models network using the [.summary() method](https://keras.io/api/models/model/#summary-method) of the model object."
   ]
  },
  {
   "cell_type": "code",
   "execution_count": 44,
   "id": "ac1875ae-9a69-4b2f-aa19-1169278d35e8",
   "metadata": {
    "tags": []
   },
   "outputs": [
    {
     "data": {
      "text/html": [
       "<pre style=\"white-space:pre;overflow-x:auto;line-height:normal;font-family:Menlo,'DejaVu Sans Mono',consolas,'Courier New',monospace\"><span style=\"font-weight: bold\">Model: \"autoencoder\"</span>\n",
       "</pre>\n"
      ],
      "text/plain": [
       "\u001b[1mModel: \"autoencoder\"\u001b[0m\n"
      ]
     },
     "metadata": {},
     "output_type": "display_data"
    },
    {
     "data": {
      "text/html": [
       "<pre style=\"white-space:pre;overflow-x:auto;line-height:normal;font-family:Menlo,'DejaVu Sans Mono',consolas,'Courier New',monospace\">┏━━━━━━━━━━━━━━━━━━━━━━━━━━━━━━━━━┳━━━━━━━━━━━━━━━━━━━━━━━━┳━━━━━━━━━━━━━━━┓\n",
       "┃<span style=\"font-weight: bold\"> Layer (type)                    </span>┃<span style=\"font-weight: bold\"> Output Shape           </span>┃<span style=\"font-weight: bold\">       Param # </span>┃\n",
       "┡━━━━━━━━━━━━━━━━━━━━━━━━━━━━━━━━━╇━━━━━━━━━━━━━━━━━━━━━━━━╇━━━━━━━━━━━━━━━┩\n",
       "│ autoencoder_input (<span style=\"color: #0087ff; text-decoration-color: #0087ff\">InputLayer</span>)  │ (<span style=\"color: #00d7ff; text-decoration-color: #00d7ff\">None</span>, <span style=\"color: #00af00; text-decoration-color: #00af00\">30</span>)             │             <span style=\"color: #00af00; text-decoration-color: #00af00\">0</span> │\n",
       "├─────────────────────────────────┼────────────────────────┼───────────────┤\n",
       "│ enc_dense1 (<span style=\"color: #0087ff; text-decoration-color: #0087ff\">Dense</span>)              │ (<span style=\"color: #00d7ff; text-decoration-color: #00d7ff\">None</span>, <span style=\"color: #00af00; text-decoration-color: #00af00\">16</span>)             │           <span style=\"color: #00af00; text-decoration-color: #00af00\">496</span> │\n",
       "├─────────────────────────────────┼────────────────────────┼───────────────┤\n",
       "│ enc_dropout1 (<span style=\"color: #0087ff; text-decoration-color: #0087ff\">Dropout</span>)          │ (<span style=\"color: #00d7ff; text-decoration-color: #00d7ff\">None</span>, <span style=\"color: #00af00; text-decoration-color: #00af00\">16</span>)             │             <span style=\"color: #00af00; text-decoration-color: #00af00\">0</span> │\n",
       "├─────────────────────────────────┼────────────────────────┼───────────────┤\n",
       "│ enc_dense2 (<span style=\"color: #0087ff; text-decoration-color: #0087ff\">Dense</span>)              │ (<span style=\"color: #00d7ff; text-decoration-color: #00d7ff\">None</span>, <span style=\"color: #00af00; text-decoration-color: #00af00\">8</span>)              │           <span style=\"color: #00af00; text-decoration-color: #00af00\">136</span> │\n",
       "├─────────────────────────────────┼────────────────────────┼───────────────┤\n",
       "│ enc_dropout2 (<span style=\"color: #0087ff; text-decoration-color: #0087ff\">Dropout</span>)          │ (<span style=\"color: #00d7ff; text-decoration-color: #00d7ff\">None</span>, <span style=\"color: #00af00; text-decoration-color: #00af00\">8</span>)              │             <span style=\"color: #00af00; text-decoration-color: #00af00\">0</span> │\n",
       "├─────────────────────────────────┼────────────────────────┼───────────────┤\n",
       "│ latent (<span style=\"color: #0087ff; text-decoration-color: #0087ff\">Dense</span>)                  │ (<span style=\"color: #00d7ff; text-decoration-color: #00d7ff\">None</span>, <span style=\"color: #00af00; text-decoration-color: #00af00\">4</span>)              │            <span style=\"color: #00af00; text-decoration-color: #00af00\">36</span> │\n",
       "├─────────────────────────────────┼────────────────────────┼───────────────┤\n",
       "│ dec_dense1 (<span style=\"color: #0087ff; text-decoration-color: #0087ff\">Dense</span>)              │ (<span style=\"color: #00d7ff; text-decoration-color: #00d7ff\">None</span>, <span style=\"color: #00af00; text-decoration-color: #00af00\">8</span>)              │            <span style=\"color: #00af00; text-decoration-color: #00af00\">40</span> │\n",
       "├─────────────────────────────────┼────────────────────────┼───────────────┤\n",
       "│ dec_dropout1 (<span style=\"color: #0087ff; text-decoration-color: #0087ff\">Dropout</span>)          │ (<span style=\"color: #00d7ff; text-decoration-color: #00d7ff\">None</span>, <span style=\"color: #00af00; text-decoration-color: #00af00\">8</span>)              │             <span style=\"color: #00af00; text-decoration-color: #00af00\">0</span> │\n",
       "├─────────────────────────────────┼────────────────────────┼───────────────┤\n",
       "│ dec_dense2 (<span style=\"color: #0087ff; text-decoration-color: #0087ff\">Dense</span>)              │ (<span style=\"color: #00d7ff; text-decoration-color: #00d7ff\">None</span>, <span style=\"color: #00af00; text-decoration-color: #00af00\">16</span>)             │           <span style=\"color: #00af00; text-decoration-color: #00af00\">144</span> │\n",
       "├─────────────────────────────────┼────────────────────────┼───────────────┤\n",
       "│ dec_dropout2 (<span style=\"color: #0087ff; text-decoration-color: #0087ff\">Dropout</span>)          │ (<span style=\"color: #00d7ff; text-decoration-color: #00d7ff\">None</span>, <span style=\"color: #00af00; text-decoration-color: #00af00\">16</span>)             │             <span style=\"color: #00af00; text-decoration-color: #00af00\">0</span> │\n",
       "├─────────────────────────────────┼────────────────────────┼───────────────┤\n",
       "│ reconstructed (<span style=\"color: #0087ff; text-decoration-color: #0087ff\">Dense</span>)           │ (<span style=\"color: #00d7ff; text-decoration-color: #00d7ff\">None</span>, <span style=\"color: #00af00; text-decoration-color: #00af00\">30</span>)             │           <span style=\"color: #00af00; text-decoration-color: #00af00\">510</span> │\n",
       "└─────────────────────────────────┴────────────────────────┴───────────────┘\n",
       "</pre>\n"
      ],
      "text/plain": [
       "┏━━━━━━━━━━━━━━━━━━━━━━━━━━━━━━━━━┳━━━━━━━━━━━━━━━━━━━━━━━━┳━━━━━━━━━━━━━━━┓\n",
       "┃\u001b[1m \u001b[0m\u001b[1mLayer (type)                   \u001b[0m\u001b[1m \u001b[0m┃\u001b[1m \u001b[0m\u001b[1mOutput Shape          \u001b[0m\u001b[1m \u001b[0m┃\u001b[1m \u001b[0m\u001b[1m      Param #\u001b[0m\u001b[1m \u001b[0m┃\n",
       "┡━━━━━━━━━━━━━━━━━━━━━━━━━━━━━━━━━╇━━━━━━━━━━━━━━━━━━━━━━━━╇━━━━━━━━━━━━━━━┩\n",
       "│ autoencoder_input (\u001b[38;5;33mInputLayer\u001b[0m)  │ (\u001b[38;5;45mNone\u001b[0m, \u001b[38;5;34m30\u001b[0m)             │             \u001b[38;5;34m0\u001b[0m │\n",
       "├─────────────────────────────────┼────────────────────────┼───────────────┤\n",
       "│ enc_dense1 (\u001b[38;5;33mDense\u001b[0m)              │ (\u001b[38;5;45mNone\u001b[0m, \u001b[38;5;34m16\u001b[0m)             │           \u001b[38;5;34m496\u001b[0m │\n",
       "├─────────────────────────────────┼────────────────────────┼───────────────┤\n",
       "│ enc_dropout1 (\u001b[38;5;33mDropout\u001b[0m)          │ (\u001b[38;5;45mNone\u001b[0m, \u001b[38;5;34m16\u001b[0m)             │             \u001b[38;5;34m0\u001b[0m │\n",
       "├─────────────────────────────────┼────────────────────────┼───────────────┤\n",
       "│ enc_dense2 (\u001b[38;5;33mDense\u001b[0m)              │ (\u001b[38;5;45mNone\u001b[0m, \u001b[38;5;34m8\u001b[0m)              │           \u001b[38;5;34m136\u001b[0m │\n",
       "├─────────────────────────────────┼────────────────────────┼───────────────┤\n",
       "│ enc_dropout2 (\u001b[38;5;33mDropout\u001b[0m)          │ (\u001b[38;5;45mNone\u001b[0m, \u001b[38;5;34m8\u001b[0m)              │             \u001b[38;5;34m0\u001b[0m │\n",
       "├─────────────────────────────────┼────────────────────────┼───────────────┤\n",
       "│ latent (\u001b[38;5;33mDense\u001b[0m)                  │ (\u001b[38;5;45mNone\u001b[0m, \u001b[38;5;34m4\u001b[0m)              │            \u001b[38;5;34m36\u001b[0m │\n",
       "├─────────────────────────────────┼────────────────────────┼───────────────┤\n",
       "│ dec_dense1 (\u001b[38;5;33mDense\u001b[0m)              │ (\u001b[38;5;45mNone\u001b[0m, \u001b[38;5;34m8\u001b[0m)              │            \u001b[38;5;34m40\u001b[0m │\n",
       "├─────────────────────────────────┼────────────────────────┼───────────────┤\n",
       "│ dec_dropout1 (\u001b[38;5;33mDropout\u001b[0m)          │ (\u001b[38;5;45mNone\u001b[0m, \u001b[38;5;34m8\u001b[0m)              │             \u001b[38;5;34m0\u001b[0m │\n",
       "├─────────────────────────────────┼────────────────────────┼───────────────┤\n",
       "│ dec_dense2 (\u001b[38;5;33mDense\u001b[0m)              │ (\u001b[38;5;45mNone\u001b[0m, \u001b[38;5;34m16\u001b[0m)             │           \u001b[38;5;34m144\u001b[0m │\n",
       "├─────────────────────────────────┼────────────────────────┼───────────────┤\n",
       "│ dec_dropout2 (\u001b[38;5;33mDropout\u001b[0m)          │ (\u001b[38;5;45mNone\u001b[0m, \u001b[38;5;34m16\u001b[0m)             │             \u001b[38;5;34m0\u001b[0m │\n",
       "├─────────────────────────────────┼────────────────────────┼───────────────┤\n",
       "│ reconstructed (\u001b[38;5;33mDense\u001b[0m)           │ (\u001b[38;5;45mNone\u001b[0m, \u001b[38;5;34m30\u001b[0m)             │           \u001b[38;5;34m510\u001b[0m │\n",
       "└─────────────────────────────────┴────────────────────────┴───────────────┘\n"
      ]
     },
     "metadata": {},
     "output_type": "display_data"
    },
    {
     "data": {
      "text/html": [
       "<pre style=\"white-space:pre;overflow-x:auto;line-height:normal;font-family:Menlo,'DejaVu Sans Mono',consolas,'Courier New',monospace\"><span style=\"font-weight: bold\"> Total params: </span><span style=\"color: #00af00; text-decoration-color: #00af00\">1,362</span> (5.32 KB)\n",
       "</pre>\n"
      ],
      "text/plain": [
       "\u001b[1m Total params: \u001b[0m\u001b[38;5;34m1,362\u001b[0m (5.32 KB)\n"
      ]
     },
     "metadata": {},
     "output_type": "display_data"
    },
    {
     "data": {
      "text/html": [
       "<pre style=\"white-space:pre;overflow-x:auto;line-height:normal;font-family:Menlo,'DejaVu Sans Mono',consolas,'Courier New',monospace\"><span style=\"font-weight: bold\"> Trainable params: </span><span style=\"color: #00af00; text-decoration-color: #00af00\">1,362</span> (5.32 KB)\n",
       "</pre>\n"
      ],
      "text/plain": [
       "\u001b[1m Trainable params: \u001b[0m\u001b[38;5;34m1,362\u001b[0m (5.32 KB)\n"
      ]
     },
     "metadata": {},
     "output_type": "display_data"
    },
    {
     "data": {
      "text/html": [
       "<pre style=\"white-space:pre;overflow-x:auto;line-height:normal;font-family:Menlo,'DejaVu Sans Mono',consolas,'Courier New',monospace\"><span style=\"font-weight: bold\"> Non-trainable params: </span><span style=\"color: #00af00; text-decoration-color: #00af00\">0</span> (0.00 B)\n",
       "</pre>\n"
      ],
      "text/plain": [
       "\u001b[1m Non-trainable params: \u001b[0m\u001b[38;5;34m0\u001b[0m (0.00 B)\n"
      ]
     },
     "metadata": {},
     "output_type": "display_data"
    }
   ],
   "source": [
    "autoencoder.summary()"
   ]
  },
  {
   "cell_type": "markdown",
   "id": "5ac8d4ed-8660-4578-9072-03264819c8ee",
   "metadata": {},
   "source": [
    "#### Read And Prepare Training/Validation Data\n",
    "\n",
    "Use the reader and associated [methods](https://www.tensorflow.org/api_docs/python/tf/data/Dataset#methods) to read, shape, and feed the data for training:\n",
    "- Shuffle\n",
    "- Shape\n",
    "- Normalize\n",
    "- Batch\n",
    "- Reshape\n",
    "- Prefetch"
   ]
  },
  {
   "cell_type": "code",
   "execution_count": 45,
   "id": "650c466d-62af-46bc-b6a4-bc4d80934ae3",
   "metadata": {
    "tags": []
   },
   "outputs": [],
   "source": [
    "# Data preparation for training\n",
    "def reshape_data(x, y):\n",
    "    return tf.reshape(x, (-1, len(var_numeric))), tf.reshape(y, (-1, len(var_numeric)))\n",
    "\n",
    "\n",
    "# Data preparation for training\n",
    "train_dataset = train_read \\\n",
    "    .shuffle(buffer_size = len(train_ds), reshuffle_each_iteration = True) \\\n",
    "    .map(prep_batch) \\\n",
    "    .map(lambda x, y: (normalizer(x), normalizer(y))) \\\n",
    "    .batch(100) \\\n",
    "    .map(reshape_data) \\\n",
    "    .prefetch(tf.data.AUTOTUNE)\n",
    "val_dataset = validate_read \\\n",
    "    .map(prep_batch) \\\n",
    "    .map(lambda x, y: (normalizer(x), normalizer(y))) \\\n",
    "    .batch(100) \\\n",
    "    .map(reshape_data) \\\n",
    "    .prefetch(tf.data.AUTOTUNE)"
   ]
  },
  {
   "cell_type": "markdown",
   "id": "a452f189-4d52-4f60-b344-058bccb13678",
   "metadata": {},
   "source": [
    "#### Define Early Stopping Criteria"
   ]
  },
  {
   "cell_type": "code",
   "execution_count": 47,
   "id": "ad203555-a9ea-4d80-804e-137f0106042c",
   "metadata": {
    "tags": []
   },
   "outputs": [],
   "source": [
    "early_stopping = keras.callbacks.EarlyStopping(\n",
    "    monitor = \"val_loss\",  # Monitor validation loss\n",
    "    patience = 5,          # Number of epochs with no improvement before stopping\n",
    "    restore_best_weights = True, # using the model that generalized best to the validation set, not the overfitted model from the last epoch\n",
    ")"
   ]
  },
  {
   "cell_type": "markdown",
   "id": "4d992352-abd9-4e78-8b65-0a63a70854e8",
   "metadata": {},
   "source": [
    "#### Train"
   ]
  },
  {
   "cell_type": "code",
   "execution_count": 48,
   "id": "b1f6366b-903e-43fe-a07f-4eed2d8ed377",
   "metadata": {
    "tags": []
   },
   "outputs": [
    {
     "name": "stdout",
     "output_type": "stream",
     "text": [
      "Epoch 1/50\n",
      "\u001b[1m2275/2275\u001b[0m \u001b[32m━━━━━━━━━━━━━━━━━━━━\u001b[0m\u001b[37m\u001b[0m \u001b[1m32s\u001b[0m 12ms/step - loss: 0.6948 - mae: 0.6675 - mse: 1.0100 - msle: 0.1467 - rmse: 1.0050 - val_loss: 0.6433 - val_mae: 0.6396 - val_mse: 0.9534 - val_msle: 0.1359 - val_rmse: 0.9764\n",
      "Epoch 2/50\n",
      "\u001b[1m2275/2275\u001b[0m \u001b[32m━━━━━━━━━━━━━━━━━━━━\u001b[0m\u001b[37m\u001b[0m \u001b[1m32s\u001b[0m 12ms/step - loss: 0.6504 - mae: 0.6469 - mse: 0.9802 - msle: 0.1367 - rmse: 0.9900 - val_loss: 0.6393 - val_mae: 0.6359 - val_mse: 0.9496 - val_msle: 0.1337 - val_rmse: 0.9745\n",
      "Epoch 3/50\n",
      "\u001b[1m2275/2275\u001b[0m \u001b[32m━━━━━━━━━━━━━━━━━━━━\u001b[0m\u001b[37m\u001b[0m \u001b[1m28s\u001b[0m 11ms/step - loss: 0.6479 - mae: 0.6444 - mse: 0.9822 - msle: 0.1355 - rmse: 0.9910 - val_loss: 0.6413 - val_mae: 0.6376 - val_mse: 0.9524 - val_msle: 0.1346 - val_rmse: 0.9759\n",
      "Epoch 4/50\n",
      "\u001b[1m2275/2275\u001b[0m \u001b[32m━━━━━━━━━━━━━━━━━━━━\u001b[0m\u001b[37m\u001b[0m \u001b[1m29s\u001b[0m 11ms/step - loss: 0.6476 - mae: 0.6439 - mse: 0.9897 - msle: 0.1352 - rmse: 0.9947 - val_loss: 0.6417 - val_mae: 0.6379 - val_mse: 0.9529 - val_msle: 0.1351 - val_rmse: 0.9762\n",
      "Epoch 5/50\n",
      "\u001b[1m2275/2275\u001b[0m \u001b[32m━━━━━━━━━━━━━━━━━━━━\u001b[0m\u001b[37m\u001b[0m \u001b[1m29s\u001b[0m 11ms/step - loss: 0.6460 - mae: 0.6422 - mse: 0.9741 - msle: 0.1349 - rmse: 0.9870 - val_loss: 0.6424 - val_mae: 0.6387 - val_mse: 0.9541 - val_msle: 0.1350 - val_rmse: 0.9768\n",
      "Epoch 6/50\n",
      "\u001b[1m2275/2275\u001b[0m \u001b[32m━━━━━━━━━━━━━━━━━━━━\u001b[0m\u001b[37m\u001b[0m \u001b[1m30s\u001b[0m 11ms/step - loss: 0.6459 - mae: 0.6422 - mse: 0.9689 - msle: 0.1348 - rmse: 0.9843 - val_loss: 0.6428 - val_mae: 0.6391 - val_mse: 0.9548 - val_msle: 0.1353 - val_rmse: 0.9772\n",
      "Epoch 7/50\n",
      "\u001b[1m2275/2275\u001b[0m \u001b[32m━━━━━━━━━━━━━━━━━━━━\u001b[0m\u001b[37m\u001b[0m \u001b[1m28s\u001b[0m 11ms/step - loss: 0.6451 - mae: 0.6414 - mse: 0.9688 - msle: 0.1345 - rmse: 0.9842 - val_loss: 0.6432 - val_mae: 0.6397 - val_mse: 0.9556 - val_msle: 0.1352 - val_rmse: 0.9776\n"
     ]
    }
   ],
   "source": [
    "history = autoencoder.fit(\n",
    "    train_dataset,\n",
    "    epochs = 50,\n",
    "    validation_data = val_dataset,\n",
    "    callbacks = [early_stopping]\n",
    ")"
   ]
  },
  {
   "cell_type": "markdown",
   "id": "31187a3d-5a03-43a7-acda-1b744a96e69c",
   "metadata": {},
   "source": [
    "#### Evaluate"
   ]
  },
  {
   "cell_type": "code",
   "execution_count": 52,
   "id": "ca347213-b5a1-4af4-a284-08be16cb7bee",
   "metadata": {
    "tags": []
   },
   "outputs": [],
   "source": [
    "test_dataset = test_read \\\n",
    "    .map(prep_batch) \\\n",
    "    .map(lambda x, y: (normalizer(x), normalizer(y))) \\\n",
    "    .batch(1024) \\\n",
    "    .map(reshape_data) \\\n",
    "    .prefetch(tf.data.AUTOTUNE) # Use your batch size"
   ]
  },
  {
   "cell_type": "code",
   "execution_count": 53,
   "id": "1aa4c35e-01fd-4e1c-af38-64a1441f96b1",
   "metadata": {
    "tags": []
   },
   "outputs": [
    {
     "name": "stdout",
     "output_type": "stream",
     "text": [
      "\u001b[1m28/28\u001b[0m \u001b[32m━━━━━━━━━━━━━━━━━━━━\u001b[0m\u001b[37m\u001b[0m \u001b[1m3s\u001b[0m 73ms/step - loss: 0.6478 - mae: 0.6444 - mse: 0.9828 - msle: 0.1341 - rmse: 0.9907\n"
     ]
    }
   ],
   "source": [
    "test_loss, test_rmse, test_mse, test_mae, test_msle = autoencoder.evaluate(test_dataset)"
   ]
  },
  {
   "cell_type": "code",
   "execution_count": 54,
   "id": "5760d106-73be-4275-9d13-d0922356f6a7",
   "metadata": {
    "tags": []
   },
   "outputs": [
    {
     "data": {
      "image/png": "[encoded data removed]",
      "text/plain": [
       "<Figure size 640x480 with 1 Axes>"
      ]
     },
     "metadata": {},
     "output_type": "display_data"
    }
   ],
   "source": [
    "# Plot the training, validation, and test loss\n",
    "plt.plot(history.history['loss'], label='Training Loss')\n",
    "plt.plot(history.history['val_loss'], label='Validation Loss')\n",
    "plt.plot(len(history.history['loss']) - 1, test_loss, 'ro', label='Test Loss')\n",
    "\n",
    "plt.xlabel('Epoch')\n",
    "plt.ylabel('Loss')\n",
    "plt.title('Training, Validation, and Test Loss')\n",
    "plt.legend()\n",
    "plt.show()"
   ]
  },
  {
   "cell_type": "markdown",
   "id": "88af7417-0fad-487b-a919-0e00eef8a7cd",
   "metadata": {},
   "source": [
    "#### Predict"
   ]
  },
  {
   "cell_type": "code",
   "execution_count": 55,
   "id": "ad07a2d3-16dc-4935-830c-9143d4c35f2e",
   "metadata": {
    "tags": []
   },
   "outputs": [
    {
     "data": {
      "text/plain": [
       "<tf.Tensor: shape=(2, 30), dtype=float64, numpy=\n",
       "array([[ 4.33300000e+04, -1.51030791e+00,  7.80683602e-01,\n",
       "         2.08574736e+00,  3.12313283e+00,  5.89556504e-01,\n",
       "         1.30168094e+00, -1.30099101e+00, -2.34533311e+00,\n",
       "         1.48722209e-01,  1.06300824e+00, -1.88035726e+00,\n",
       "         3.10971711e-01,  9.54298638e-01, -1.10646280e+00,\n",
       "        -7.86015840e-01, -5.55324333e-01,  3.35236557e-01,\n",
       "         1.85637688e-01,  1.54380629e+00, -6.44864027e-01,\n",
       "         2.22981820e+00, -4.60620924e-02, -3.41323962e-01,\n",
       "        -3.70869344e-01, -2.01199298e-01,  4.23963954e-01,\n",
       "         2.10998182e-01, -5.86163935e-02,  0.00000000e+00],\n",
       "       [ 1.41955000e+05, -1.58553155e+00,  1.24041103e+00,\n",
       "        -5.58349101e-01, -8.41657245e-01,  3.97502038e-01,\n",
       "        -1.53272269e+00,  3.88817678e-01,  5.75896042e-01,\n",
       "        -2.78369582e-01, -8.56928209e-01, -1.11892547e+00,\n",
       "         7.37223588e-01,  4.79262560e-01,  7.95002104e-01,\n",
       "        -3.96344845e-01, -3.62277829e-01,  4.99583980e-02,\n",
       "        -6.48353912e-01,  9.05398036e-03, -1.20858153e-01,\n",
       "        -4.55251243e-02, -9.66050096e-02, -2.49492659e-01,\n",
       "         1.46170950e-03, -4.57906605e-02, -1.10666825e-01,\n",
       "         3.05248570e-01,  1.52714254e-02,  0.00000000e+00]])>"
      ]
     },
     "execution_count": 55,
     "metadata": {},
     "output_type": "execute_result"
    }
   ],
   "source": [
    "test_instance = next(iter(test_read.map(prep_batch).batch(2).take(1)))[0] # get first element of tuple for prediction\n",
    "test_instance"
   ]
  },
  {
   "cell_type": "code",
   "execution_count": 56,
   "id": "690e546c-0619-4555-8ee0-c34c46b8f283",
   "metadata": {
    "tags": []
   },
   "outputs": [
    {
     "name": "stdout",
     "output_type": "stream",
     "text": [
      "\u001b[1m1/1\u001b[0m \u001b[32m━━━━━━━━━━━━━━━━━━━━\u001b[0m\u001b[37m\u001b[0m \u001b[1m0s\u001b[0m 99ms/step\n"
     ]
    },
    {
     "data": {
      "text/plain": [
       "Array([[ 6.78442031e+04, -3.28995109e-01,  1.22358300e-01,\n",
       "         6.20532990e-01,  2.19555888e-02, -2.18390077e-01,\n",
       "        -1.68783128e-01, -3.92828286e-02,  7.99054354e-02,\n",
       "        -9.88100395e-02, -1.20875344e-01,  3.68811376e-02,\n",
       "         1.39660284e-01,  1.74331591e-02,  2.60786247e-02,\n",
       "         1.96518883e-01,  9.37388167e-02, -3.49491648e-02,\n",
       "        -1.41241867e-02, -7.04543060e-03, -3.13049890e-02,\n",
       "        -5.63311130e-02, -7.85807595e-02, -2.94602849e-02,\n",
       "         5.29047176e-02,  9.37912017e-02, -6.87602386e-02,\n",
       "         1.19836284e-02,  2.15235911e-02,  2.37034454e+01],\n",
       "       [ 1.09510266e+05,  2.29332015e-01,  3.61228958e-02,\n",
       "        -2.72302032e-01, -1.14036068e-01,  4.89010885e-02,\n",
       "        -3.35452795e-01,  7.21692815e-02, -2.99641816e-03,\n",
       "         1.06096845e-02, -8.19130465e-02, -8.25194567e-02,\n",
       "         1.49689600e-01, -2.30007265e-02,  6.32765144e-02,\n",
       "        -3.89189720e-02,  8.06107372e-02, -1.00753196e-01,\n",
       "         1.72823165e-02, -4.35313070e-03, -8.05594102e-02,\n",
       "         2.27200333e-03,  9.05545279e-02,  2.11490374e-02,\n",
       "         3.09082605e-02, -5.50091863e-02, -4.89816181e-02,\n",
       "        -3.62978596e-03, -8.72891489e-03,  2.16142883e+01]],      dtype=float32)"
      ]
     },
     "execution_count": 56,
     "metadata": {},
     "output_type": "execute_result"
    }
   ],
   "source": [
    "denormalizer(autoencoder.predict(normalizer(test_instance)))"
   ]
  },
  {
   "cell_type": "markdown",
   "id": "5bed5c7d-db35-4052-93ff-285435f76789",
   "metadata": {},
   "source": [
    "---\n",
    "## Enchance Autoencoder"
   ]
  },
  {
   "cell_type": "markdown",
   "id": "ac8c8170-62d6-4615-8b17-3b5a16dc8558",
   "metadata": {},
   "source": [
    "### Combine Preprocessing, Model, and Postprocessing\n",
    "\n",
    "With Keras models can be layers in new models.  Here a new model combines the preprocessing layers, normalizer and denormalizer, with the autoencoder into a new model object we will call a stacked model."
   ]
  },
  {
   "cell_type": "markdown",
   "id": "8f15f728-234f-43c1-89e7-a546dc0c6e63",
   "metadata": {},
   "source": [
    "#### Stacked Model"
   ]
  },
  {
   "cell_type": "code",
   "execution_count": 58,
   "id": "f405e5e2-8a7f-4749-89ab-fd8b9e422e0b",
   "metadata": {
    "tags": []
   },
   "outputs": [
    {
     "data": {
      "text/plain": [
       "(keras.src.layers.preprocessing.normalization.Normalization,\n",
       " keras.src.models.functional.Functional,\n",
       " keras.src.layers.preprocessing.normalization.Normalization)"
      ]
     },
     "execution_count": 58,
     "metadata": {},
     "output_type": "execute_result"
    }
   ],
   "source": [
    "type(normalizer), type(autoencoder), type(denormalizer)"
   ]
  },
  {
   "cell_type": "code",
   "execution_count": 59,
   "id": "b7e7107f-dec3-4db6-9466-2678a496bb2d",
   "metadata": {
    "tags": []
   },
   "outputs": [],
   "source": [
    "# Create a new sequential model\n",
    "stacked_model = keras.Sequential([\n",
    "    normalizer,\n",
    "    autoencoder,\n",
    "    denormalizer\n",
    "], name='stacked_autoencoder')"
   ]
  },
  {
   "cell_type": "markdown",
   "id": "23950584-eb85-48e7-a55e-f80aa5bd49d9",
   "metadata": {},
   "source": [
    "#### Predict"
   ]
  },
  {
   "cell_type": "code",
   "execution_count": 64,
   "id": "37e36184-6f16-4ba7-856e-643c60770ce0",
   "metadata": {
    "tags": []
   },
   "outputs": [
    {
     "data": {
      "text/plain": [
       "<tf.Tensor: shape=(3, 30), dtype=float64, numpy=\n",
       "array([[ 4.33300000e+04, -1.51030791e+00,  7.80683602e-01,\n",
       "         2.08574736e+00,  3.12313283e+00,  5.89556504e-01,\n",
       "         1.30168094e+00, -1.30099101e+00, -2.34533311e+00,\n",
       "         1.48722209e-01,  1.06300824e+00, -1.88035726e+00,\n",
       "         3.10971711e-01,  9.54298638e-01, -1.10646280e+00,\n",
       "        -7.86015840e-01, -5.55324333e-01,  3.35236557e-01,\n",
       "         1.85637688e-01,  1.54380629e+00, -6.44864027e-01,\n",
       "         2.22981820e+00, -4.60620924e-02, -3.41323962e-01,\n",
       "        -3.70869344e-01, -2.01199298e-01,  4.23963954e-01,\n",
       "         2.10998182e-01, -5.86163935e-02,  0.00000000e+00],\n",
       "       [ 1.41955000e+05, -1.58553155e+00,  1.24041103e+00,\n",
       "        -5.58349101e-01, -8.41657245e-01,  3.97502038e-01,\n",
       "        -1.53272269e+00,  3.88817678e-01,  5.75896042e-01,\n",
       "        -2.78369582e-01, -8.56928209e-01, -1.11892547e+00,\n",
       "         7.37223588e-01,  4.79262560e-01,  7.95002104e-01,\n",
       "        -3.96344845e-01, -3.62277829e-01,  4.99583980e-02,\n",
       "        -6.48353912e-01,  9.05398036e-03, -1.20858153e-01,\n",
       "        -4.55251243e-02, -9.66050096e-02, -2.49492659e-01,\n",
       "         1.46170950e-03, -4.57906605e-02, -1.10666825e-01,\n",
       "         3.05248570e-01,  1.52714254e-02,  0.00000000e+00],\n",
       "       [ 5.88130000e+04, -2.52434169e+00, -3.13783601e-01,\n",
       "         2.30408519e+00,  3.04301624e+00,  5.49568553e+00,\n",
       "        -2.60034741e+00, -3.77967918e+00, -1.04215423e+00,\n",
       "        -1.01450330e+00,  1.53923938e+00,  2.52971539e+00,\n",
       "         1.43285256e+00,  1.35472709e+00, -1.58017117e+00,\n",
       "         6.56081647e-01,  1.56644280e-01,  1.04249010e+00,\n",
       "        -1.67074627e-01, -1.50057081e-01, -5.00659376e-01,\n",
       "         4.84891963e-01, -1.38873431e+00, -6.18549115e+00,\n",
       "         4.40079702e-01, -1.40964108e+00, -2.09464855e-01,\n",
       "        -1.11064544e-01,  1.16787999e-01,  0.00000000e+00]])>"
      ]
     },
     "execution_count": 64,
     "metadata": {},
     "output_type": "execute_result"
    }
   ],
   "source": [
    "test_instance = next(iter(test_read.map(prep_batch).batch(3).take(1)))[0]\n",
    "test_instance"
   ]
  },
  {
   "cell_type": "code",
   "execution_count": 65,
   "id": "f0cb3743-5a9e-47e5-b9c4-9799db542067",
   "metadata": {
    "tags": []
   },
   "outputs": [
    {
     "name": "stdout",
     "output_type": "stream",
     "text": [
      "\u001b[1m1/1\u001b[0m \u001b[32m━━━━━━━━━━━━━━━━━━━━\u001b[0m\u001b[37m\u001b[0m \u001b[1m0s\u001b[0m 6ms/step\n"
     ]
    },
    {
     "data": {
      "text/plain": [
       "array([[ 6.78442109e+04, -3.28995109e-01,  1.22358300e-01,\n",
       "         6.20533049e-01,  2.19555888e-02, -2.18390077e-01,\n",
       "        -1.68783128e-01, -3.92828248e-02,  7.99054354e-02,\n",
       "        -9.88100395e-02, -1.20875344e-01,  3.68811339e-02,\n",
       "         1.39660284e-01,  1.74331609e-02,  2.60786247e-02,\n",
       "         1.96518868e-01,  9.37388167e-02, -3.49491648e-02,\n",
       "        -1.41241876e-02, -7.04543060e-03, -3.13049890e-02,\n",
       "        -5.63311130e-02, -7.85807669e-02, -2.94602849e-02,\n",
       "         5.29047176e-02,  9.37912092e-02, -6.87602460e-02,\n",
       "         1.19836284e-02,  2.15235911e-02,  2.37034473e+01],\n",
       "       [ 1.09510266e+05,  2.29332075e-01,  3.61229032e-02,\n",
       "        -2.72302061e-01, -1.14036061e-01,  4.89010885e-02,\n",
       "        -3.35452795e-01,  7.21692815e-02, -2.99642677e-03,\n",
       "         1.06096836e-02, -8.19130465e-02, -8.25194567e-02,\n",
       "         1.49689600e-01, -2.30007228e-02,  6.32765144e-02,\n",
       "        -3.89189720e-02,  8.06107298e-02, -1.00753196e-01,\n",
       "         1.72823165e-02, -4.35313070e-03, -8.05594102e-02,\n",
       "         2.27200310e-03,  9.05545279e-02,  2.11490374e-02,\n",
       "         3.09082586e-02, -5.50091825e-02, -4.89816181e-02,\n",
       "        -3.62978759e-03, -8.72891583e-03,  2.16142883e+01],\n",
       "       [ 6.78439844e+04, -3.28998119e-01,  1.22358784e-01,\n",
       "         6.20537817e-01,  2.19562538e-02, -2.18391463e-01,\n",
       "        -1.68782175e-01, -3.92834321e-02,  7.99058974e-02,\n",
       "        -9.88106579e-02, -1.20875515e-01,  3.68816927e-02,\n",
       "         1.39660209e-01,  1.74333714e-02,  2.60783695e-02,\n",
       "         1.96520165e-01,  9.37388986e-02, -3.49487662e-02,\n",
       "        -1.41243339e-02, -7.04547483e-03, -3.13047133e-02,\n",
       "        -5.63314557e-02, -7.85816759e-02, -2.94605512e-02,\n",
       "         5.29048294e-02,  9.37919840e-02, -6.87602982e-02,\n",
       "         1.19837122e-02,  2.15237550e-02,  2.37034626e+01]], dtype=float32)"
      ]
     },
     "execution_count": 65,
     "metadata": {},
     "output_type": "execute_result"
    }
   ],
   "source": [
    "stacked_model.predict(test_instance)"
   ]
  },
  {
   "cell_type": "markdown",
   "id": "86bcd77f-5eb7-475f-830f-7727e0178016",
   "metadata": {},
   "source": [
    "#### Review The Model"
   ]
  },
  {
   "cell_type": "code",
   "execution_count": 66,
   "id": "321df2ad-6192-45b2-93d0-a709875177fe",
   "metadata": {
    "tags": []
   },
   "outputs": [
    {
     "data": {
      "text/html": [
       "<pre style=\"white-space:pre;overflow-x:auto;line-height:normal;font-family:Menlo,'DejaVu Sans Mono',consolas,'Courier New',monospace\"><span style=\"font-weight: bold\">Model: \"stacked_autoencoder\"</span>\n",
       "</pre>\n"
      ],
      "text/plain": [
       "\u001b[1mModel: \"stacked_autoencoder\"\u001b[0m\n"
      ]
     },
     "metadata": {},
     "output_type": "display_data"
    },
    {
     "data": {
      "text/html": [
       "<pre style=\"white-space:pre;overflow-x:auto;line-height:normal;font-family:Menlo,'DejaVu Sans Mono',consolas,'Courier New',monospace\">┏━━━━━━━━━━━━━━━━━━━━━━━━━━━━━━━━━┳━━━━━━━━━━━━━━━━━━━━━━━━┳━━━━━━━━━━━━━━━┓\n",
       "┃<span style=\"font-weight: bold\"> Layer (type)                    </span>┃<span style=\"font-weight: bold\"> Output Shape           </span>┃<span style=\"font-weight: bold\">       Param # </span>┃\n",
       "┡━━━━━━━━━━━━━━━━━━━━━━━━━━━━━━━━━╇━━━━━━━━━━━━━━━━━━━━━━━━╇━━━━━━━━━━━━━━━┩\n",
       "│ normalization (<span style=\"color: #0087ff; text-decoration-color: #0087ff\">Normalization</span>)   │ (<span style=\"color: #00af00; text-decoration-color: #00af00\">3</span>, <span style=\"color: #00af00; text-decoration-color: #00af00\">30</span>)                │            <span style=\"color: #00af00; text-decoration-color: #00af00\">61</span> │\n",
       "├─────────────────────────────────┼────────────────────────┼───────────────┤\n",
       "│ autoencoder (<span style=\"color: #0087ff; text-decoration-color: #0087ff\">Functional</span>)        │ (<span style=\"color: #00af00; text-decoration-color: #00af00\">3</span>, <span style=\"color: #00af00; text-decoration-color: #00af00\">30</span>)                │         <span style=\"color: #00af00; text-decoration-color: #00af00\">1,362</span> │\n",
       "├─────────────────────────────────┼────────────────────────┼───────────────┤\n",
       "│ denormalize (<span style=\"color: #0087ff; text-decoration-color: #0087ff\">Normalization</span>)     │ (<span style=\"color: #00af00; text-decoration-color: #00af00\">3</span>, <span style=\"color: #00af00; text-decoration-color: #00af00\">30</span>)                │             <span style=\"color: #00af00; text-decoration-color: #00af00\">0</span> │\n",
       "└─────────────────────────────────┴────────────────────────┴───────────────┘\n",
       "</pre>\n"
      ],
      "text/plain": [
       "┏━━━━━━━━━━━━━━━━━━━━━━━━━━━━━━━━━┳━━━━━━━━━━━━━━━━━━━━━━━━┳━━━━━━━━━━━━━━━┓\n",
       "┃\u001b[1m \u001b[0m\u001b[1mLayer (type)                   \u001b[0m\u001b[1m \u001b[0m┃\u001b[1m \u001b[0m\u001b[1mOutput Shape          \u001b[0m\u001b[1m \u001b[0m┃\u001b[1m \u001b[0m\u001b[1m      Param #\u001b[0m\u001b[1m \u001b[0m┃\n",
       "┡━━━━━━━━━━━━━━━━━━━━━━━━━━━━━━━━━╇━━━━━━━━━━━━━━━━━━━━━━━━╇━━━━━━━━━━━━━━━┩\n",
       "│ normalization (\u001b[38;5;33mNormalization\u001b[0m)   │ (\u001b[38;5;34m3\u001b[0m, \u001b[38;5;34m30\u001b[0m)                │            \u001b[38;5;34m61\u001b[0m │\n",
       "├─────────────────────────────────┼────────────────────────┼───────────────┤\n",
       "│ autoencoder (\u001b[38;5;33mFunctional\u001b[0m)        │ (\u001b[38;5;34m3\u001b[0m, \u001b[38;5;34m30\u001b[0m)                │         \u001b[38;5;34m1,362\u001b[0m │\n",
       "├─────────────────────────────────┼────────────────────────┼───────────────┤\n",
       "│ denormalize (\u001b[38;5;33mNormalization\u001b[0m)     │ (\u001b[38;5;34m3\u001b[0m, \u001b[38;5;34m30\u001b[0m)                │             \u001b[38;5;34m0\u001b[0m │\n",
       "└─────────────────────────────────┴────────────────────────┴───────────────┘\n"
      ]
     },
     "metadata": {},
     "output_type": "display_data"
    },
    {
     "data": {
      "text/html": [
       "<pre style=\"white-space:pre;overflow-x:auto;line-height:normal;font-family:Menlo,'DejaVu Sans Mono',consolas,'Courier New',monospace\"><span style=\"font-weight: bold\"> Total params: </span><span style=\"color: #00af00; text-decoration-color: #00af00\">1,423</span> (5.56 KB)\n",
       "</pre>\n"
      ],
      "text/plain": [
       "\u001b[1m Total params: \u001b[0m\u001b[38;5;34m1,423\u001b[0m (5.56 KB)\n"
      ]
     },
     "metadata": {},
     "output_type": "display_data"
    },
    {
     "data": {
      "text/html": [
       "<pre style=\"white-space:pre;overflow-x:auto;line-height:normal;font-family:Menlo,'DejaVu Sans Mono',consolas,'Courier New',monospace\"><span style=\"font-weight: bold\"> Trainable params: </span><span style=\"color: #00af00; text-decoration-color: #00af00\">1,362</span> (5.32 KB)\n",
       "</pre>\n"
      ],
      "text/plain": [
       "\u001b[1m Trainable params: \u001b[0m\u001b[38;5;34m1,362\u001b[0m (5.32 KB)\n"
      ]
     },
     "metadata": {},
     "output_type": "display_data"
    },
    {
     "data": {
      "text/html": [
       "<pre style=\"white-space:pre;overflow-x:auto;line-height:normal;font-family:Menlo,'DejaVu Sans Mono',consolas,'Courier New',monospace\"><span style=\"font-weight: bold\"> Non-trainable params: </span><span style=\"color: #00af00; text-decoration-color: #00af00\">61</span> (244.00 B)\n",
       "</pre>\n"
      ],
      "text/plain": [
       "\u001b[1m Non-trainable params: \u001b[0m\u001b[38;5;34m61\u001b[0m (244.00 B)\n"
      ]
     },
     "metadata": {},
     "output_type": "display_data"
    }
   ],
   "source": [
    "stacked_model.summary()"
   ]
  },
  {
   "cell_type": "code",
   "execution_count": 67,
   "id": "548e5b6c-ba2f-4912-9386-4ceb03c50211",
   "metadata": {
    "tags": []
   },
   "outputs": [
    {
     "data": {
      "text/html": [
       "<pre style=\"white-space:pre;overflow-x:auto;line-height:normal;font-family:Menlo,'DejaVu Sans Mono',consolas,'Courier New',monospace\"><span style=\"font-weight: bold\">Model: \"stacked_autoencoder\"</span>\n",
       "</pre>\n"
      ],
      "text/plain": [
       "\u001b[1mModel: \"stacked_autoencoder\"\u001b[0m\n"
      ]
     },
     "metadata": {},
     "output_type": "display_data"
    },
    {
     "data": {
      "text/html": [
       "<pre style=\"white-space:pre;overflow-x:auto;line-height:normal;font-family:Menlo,'DejaVu Sans Mono',consolas,'Courier New',monospace\">┏━━━━━━━━━━━━━━━━━━━━━━━━━━━━━━━━━┳━━━━━━━━━━━━━━━━━━━━━━━━┳━━━━━━━━━━━━━━━┓\n",
       "┃<span style=\"font-weight: bold\"> Layer (type)                    </span>┃<span style=\"font-weight: bold\"> Output Shape           </span>┃<span style=\"font-weight: bold\">       Param # </span>┃\n",
       "┡━━━━━━━━━━━━━━━━━━━━━━━━━━━━━━━━━╇━━━━━━━━━━━━━━━━━━━━━━━━╇━━━━━━━━━━━━━━━┩\n",
       "│ normalization (<span style=\"color: #0087ff; text-decoration-color: #0087ff\">Normalization</span>)   │ (<span style=\"color: #00af00; text-decoration-color: #00af00\">3</span>, <span style=\"color: #00af00; text-decoration-color: #00af00\">30</span>)                │            <span style=\"color: #00af00; text-decoration-color: #00af00\">61</span> │\n",
       "├─────────────────────────────────┼────────────────────────┼───────────────┤\n",
       "│ autoencoder (<span style=\"color: #0087ff; text-decoration-color: #0087ff\">Functional</span>)        │ (<span style=\"color: #00af00; text-decoration-color: #00af00\">3</span>, <span style=\"color: #00af00; text-decoration-color: #00af00\">30</span>)                │         <span style=\"color: #00af00; text-decoration-color: #00af00\">1,362</span> │\n",
       "├─────────────────────────────────┼────────────────────────┼───────────────┤\n",
       "│    └ autoencoder_input          │ (<span style=\"color: #00d7ff; text-decoration-color: #00d7ff\">None</span>, <span style=\"color: #00af00; text-decoration-color: #00af00\">30</span>)             │             <span style=\"color: #00af00; text-decoration-color: #00af00\">0</span> │\n",
       "│ (<span style=\"color: #0087ff; text-decoration-color: #0087ff\">InputLayer</span>)                    │                        │               │\n",
       "├─────────────────────────────────┼────────────────────────┼───────────────┤\n",
       "│    └ enc_dense1 (<span style=\"color: #0087ff; text-decoration-color: #0087ff\">Dense</span>)         │ (<span style=\"color: #00d7ff; text-decoration-color: #00d7ff\">None</span>, <span style=\"color: #00af00; text-decoration-color: #00af00\">16</span>)             │           <span style=\"color: #00af00; text-decoration-color: #00af00\">496</span> │\n",
       "├─────────────────────────────────┼────────────────────────┼───────────────┤\n",
       "│    └ enc_dropout1 (<span style=\"color: #0087ff; text-decoration-color: #0087ff\">Dropout</span>)     │ (<span style=\"color: #00d7ff; text-decoration-color: #00d7ff\">None</span>, <span style=\"color: #00af00; text-decoration-color: #00af00\">16</span>)             │             <span style=\"color: #00af00; text-decoration-color: #00af00\">0</span> │\n",
       "├─────────────────────────────────┼────────────────────────┼───────────────┤\n",
       "│    └ enc_dense2 (<span style=\"color: #0087ff; text-decoration-color: #0087ff\">Dense</span>)         │ (<span style=\"color: #00d7ff; text-decoration-color: #00d7ff\">None</span>, <span style=\"color: #00af00; text-decoration-color: #00af00\">8</span>)              │           <span style=\"color: #00af00; text-decoration-color: #00af00\">136</span> │\n",
       "├─────────────────────────────────┼────────────────────────┼───────────────┤\n",
       "│    └ enc_dropout2 (<span style=\"color: #0087ff; text-decoration-color: #0087ff\">Dropout</span>)     │ (<span style=\"color: #00d7ff; text-decoration-color: #00d7ff\">None</span>, <span style=\"color: #00af00; text-decoration-color: #00af00\">8</span>)              │             <span style=\"color: #00af00; text-decoration-color: #00af00\">0</span> │\n",
       "├─────────────────────────────────┼────────────────────────┼───────────────┤\n",
       "│    └ latent (<span style=\"color: #0087ff; text-decoration-color: #0087ff\">Dense</span>)             │ (<span style=\"color: #00d7ff; text-decoration-color: #00d7ff\">None</span>, <span style=\"color: #00af00; text-decoration-color: #00af00\">4</span>)              │            <span style=\"color: #00af00; text-decoration-color: #00af00\">36</span> │\n",
       "├─────────────────────────────────┼────────────────────────┼───────────────┤\n",
       "│    └ dec_dense1 (<span style=\"color: #0087ff; text-decoration-color: #0087ff\">Dense</span>)         │ (<span style=\"color: #00d7ff; text-decoration-color: #00d7ff\">None</span>, <span style=\"color: #00af00; text-decoration-color: #00af00\">8</span>)              │            <span style=\"color: #00af00; text-decoration-color: #00af00\">40</span> │\n",
       "├─────────────────────────────────┼────────────────────────┼───────────────┤\n",
       "│    └ dec_dropout1 (<span style=\"color: #0087ff; text-decoration-color: #0087ff\">Dropout</span>)     │ (<span style=\"color: #00d7ff; text-decoration-color: #00d7ff\">None</span>, <span style=\"color: #00af00; text-decoration-color: #00af00\">8</span>)              │             <span style=\"color: #00af00; text-decoration-color: #00af00\">0</span> │\n",
       "├─────────────────────────────────┼────────────────────────┼───────────────┤\n",
       "│    └ dec_dense2 (<span style=\"color: #0087ff; text-decoration-color: #0087ff\">Dense</span>)         │ (<span style=\"color: #00d7ff; text-decoration-color: #00d7ff\">None</span>, <span style=\"color: #00af00; text-decoration-color: #00af00\">16</span>)             │           <span style=\"color: #00af00; text-decoration-color: #00af00\">144</span> │\n",
       "├─────────────────────────────────┼────────────────────────┼───────────────┤\n",
       "│    └ dec_dropout2 (<span style=\"color: #0087ff; text-decoration-color: #0087ff\">Dropout</span>)     │ (<span style=\"color: #00d7ff; text-decoration-color: #00d7ff\">None</span>, <span style=\"color: #00af00; text-decoration-color: #00af00\">16</span>)             │             <span style=\"color: #00af00; text-decoration-color: #00af00\">0</span> │\n",
       "├─────────────────────────────────┼────────────────────────┼───────────────┤\n",
       "│    └ reconstructed (<span style=\"color: #0087ff; text-decoration-color: #0087ff\">Dense</span>)      │ (<span style=\"color: #00d7ff; text-decoration-color: #00d7ff\">None</span>, <span style=\"color: #00af00; text-decoration-color: #00af00\">30</span>)             │           <span style=\"color: #00af00; text-decoration-color: #00af00\">510</span> │\n",
       "├─────────────────────────────────┼────────────────────────┼───────────────┤\n",
       "│ denormalize (<span style=\"color: #0087ff; text-decoration-color: #0087ff\">Normalization</span>)     │ (<span style=\"color: #00af00; text-decoration-color: #00af00\">3</span>, <span style=\"color: #00af00; text-decoration-color: #00af00\">30</span>)                │             <span style=\"color: #00af00; text-decoration-color: #00af00\">0</span> │\n",
       "└─────────────────────────────────┴────────────────────────┴───────────────┘\n",
       "</pre>\n"
      ],
      "text/plain": [
       "┏━━━━━━━━━━━━━━━━━━━━━━━━━━━━━━━━━┳━━━━━━━━━━━━━━━━━━━━━━━━┳━━━━━━━━━━━━━━━┓\n",
       "┃\u001b[1m \u001b[0m\u001b[1mLayer (type)                   \u001b[0m\u001b[1m \u001b[0m┃\u001b[1m \u001b[0m\u001b[1mOutput Shape          \u001b[0m\u001b[1m \u001b[0m┃\u001b[1m \u001b[0m\u001b[1m      Param #\u001b[0m\u001b[1m \u001b[0m┃\n",
       "┡━━━━━━━━━━━━━━━━━━━━━━━━━━━━━━━━━╇━━━━━━━━━━━━━━━━━━━━━━━━╇━━━━━━━━━━━━━━━┩\n",
       "│ normalization (\u001b[38;5;33mNormalization\u001b[0m)   │ (\u001b[38;5;34m3\u001b[0m, \u001b[38;5;34m30\u001b[0m)                │            \u001b[38;5;34m61\u001b[0m │\n",
       "├─────────────────────────────────┼────────────────────────┼───────────────┤\n",
       "│ autoencoder (\u001b[38;5;33mFunctional\u001b[0m)        │ (\u001b[38;5;34m3\u001b[0m, \u001b[38;5;34m30\u001b[0m)                │         \u001b[38;5;34m1,362\u001b[0m │\n",
       "├─────────────────────────────────┼────────────────────────┼───────────────┤\n",
       "│    └ autoencoder_input          │ (\u001b[38;5;45mNone\u001b[0m, \u001b[38;5;34m30\u001b[0m)             │             \u001b[38;5;34m0\u001b[0m │\n",
       "│ (\u001b[38;5;33mInputLayer\u001b[0m)                    │                        │               │\n",
       "├─────────────────────────────────┼────────────────────────┼───────────────┤\n",
       "│    └ enc_dense1 (\u001b[38;5;33mDense\u001b[0m)         │ (\u001b[38;5;45mNone\u001b[0m, \u001b[38;5;34m16\u001b[0m)             │           \u001b[38;5;34m496\u001b[0m │\n",
       "├─────────────────────────────────┼────────────────────────┼───────────────┤\n",
       "│    └ enc_dropout1 (\u001b[38;5;33mDropout\u001b[0m)     │ (\u001b[38;5;45mNone\u001b[0m, \u001b[38;5;34m16\u001b[0m)             │             \u001b[38;5;34m0\u001b[0m │\n",
       "├─────────────────────────────────┼────────────────────────┼───────────────┤\n",
       "│    └ enc_dense2 (\u001b[38;5;33mDense\u001b[0m)         │ (\u001b[38;5;45mNone\u001b[0m, \u001b[38;5;34m8\u001b[0m)              │           \u001b[38;5;34m136\u001b[0m │\n",
       "├─────────────────────────────────┼────────────────────────┼───────────────┤\n",
       "│    └ enc_dropout2 (\u001b[38;5;33mDropout\u001b[0m)     │ (\u001b[38;5;45mNone\u001b[0m, \u001b[38;5;34m8\u001b[0m)              │             \u001b[38;5;34m0\u001b[0m │\n",
       "├─────────────────────────────────┼────────────────────────┼───────────────┤\n",
       "│    └ latent (\u001b[38;5;33mDense\u001b[0m)             │ (\u001b[38;5;45mNone\u001b[0m, \u001b[38;5;34m4\u001b[0m)              │            \u001b[38;5;34m36\u001b[0m │\n",
       "├─────────────────────────────────┼────────────────────────┼───────────────┤\n",
       "│    └ dec_dense1 (\u001b[38;5;33mDense\u001b[0m)         │ (\u001b[38;5;45mNone\u001b[0m, \u001b[38;5;34m8\u001b[0m)              │            \u001b[38;5;34m40\u001b[0m │\n",
       "├─────────────────────────────────┼────────────────────────┼───────────────┤\n",
       "│    └ dec_dropout1 (\u001b[38;5;33mDropout\u001b[0m)     │ (\u001b[38;5;45mNone\u001b[0m, \u001b[38;5;34m8\u001b[0m)              │             \u001b[38;5;34m0\u001b[0m │\n",
       "├─────────────────────────────────┼────────────────────────┼───────────────┤\n",
       "│    └ dec_dense2 (\u001b[38;5;33mDense\u001b[0m)         │ (\u001b[38;5;45mNone\u001b[0m, \u001b[38;5;34m16\u001b[0m)             │           \u001b[38;5;34m144\u001b[0m │\n",
       "├─────────────────────────────────┼────────────────────────┼───────────────┤\n",
       "│    └ dec_dropout2 (\u001b[38;5;33mDropout\u001b[0m)     │ (\u001b[38;5;45mNone\u001b[0m, \u001b[38;5;34m16\u001b[0m)             │             \u001b[38;5;34m0\u001b[0m │\n",
       "├─────────────────────────────────┼────────────────────────┼───────────────┤\n",
       "│    └ reconstructed (\u001b[38;5;33mDense\u001b[0m)      │ (\u001b[38;5;45mNone\u001b[0m, \u001b[38;5;34m30\u001b[0m)             │           \u001b[38;5;34m510\u001b[0m │\n",
       "├─────────────────────────────────┼────────────────────────┼───────────────┤\n",
       "│ denormalize (\u001b[38;5;33mNormalization\u001b[0m)     │ (\u001b[38;5;34m3\u001b[0m, \u001b[38;5;34m30\u001b[0m)                │             \u001b[38;5;34m0\u001b[0m │\n",
       "└─────────────────────────────────┴────────────────────────┴───────────────┘\n"
      ]
     },
     "metadata": {},
     "output_type": "display_data"
    },
    {
     "data": {
      "text/html": [
       "<pre style=\"white-space:pre;overflow-x:auto;line-height:normal;font-family:Menlo,'DejaVu Sans Mono',consolas,'Courier New',monospace\"><span style=\"font-weight: bold\"> Total params: </span><span style=\"color: #00af00; text-decoration-color: #00af00\">1,423</span> (5.56 KB)\n",
       "</pre>\n"
      ],
      "text/plain": [
       "\u001b[1m Total params: \u001b[0m\u001b[38;5;34m1,423\u001b[0m (5.56 KB)\n"
      ]
     },
     "metadata": {},
     "output_type": "display_data"
    },
    {
     "data": {
      "text/html": [
       "<pre style=\"white-space:pre;overflow-x:auto;line-height:normal;font-family:Menlo,'DejaVu Sans Mono',consolas,'Courier New',monospace\"><span style=\"font-weight: bold\"> Trainable params: </span><span style=\"color: #00af00; text-decoration-color: #00af00\">1,362</span> (5.32 KB)\n",
       "</pre>\n"
      ],
      "text/plain": [
       "\u001b[1m Trainable params: \u001b[0m\u001b[38;5;34m1,362\u001b[0m (5.32 KB)\n"
      ]
     },
     "metadata": {},
     "output_type": "display_data"
    },
    {
     "data": {
      "text/html": [
       "<pre style=\"white-space:pre;overflow-x:auto;line-height:normal;font-family:Menlo,'DejaVu Sans Mono',consolas,'Courier New',monospace\"><span style=\"font-weight: bold\"> Non-trainable params: </span><span style=\"color: #00af00; text-decoration-color: #00af00\">61</span> (244.00 B)\n",
       "</pre>\n"
      ],
      "text/plain": [
       "\u001b[1m Non-trainable params: \u001b[0m\u001b[38;5;34m61\u001b[0m (244.00 B)\n"
      ]
     },
     "metadata": {},
     "output_type": "display_data"
    }
   ],
   "source": [
    "stacked_model.summary(expand_nested=True)"
   ]
  },
  {
   "cell_type": "markdown",
   "id": "c343c334-f46e-401b-a57f-defc422c2151",
   "metadata": {
    "tags": []
   },
   "source": [
    "### Adding Named Inputs\n",
    "\n",
    "How can we prevent feature order drift?  How about modifying the input to receive a dictionary of key:value pairs that map to the correct order inside the model!\n",
    "\n",
    "Named inputs, a dictionary of features\n",
    "- input dictionary, concatenate features, pass to the stacked model\n",
    "\n",
    "Why?\n",
    "- user-friendly!\n",
    "- prevent training serving skew from feature order drift causing serving error\n",
    "\n",
    "\n",
    "Using an ordered dictionary for the input layers ensures the inputs order as they pass to the concatenation layers is consistent.  The inputs to the model can actually be out of order but this ordering of the input layer will force the consistency needed."
   ]
  },
  {
   "cell_type": "markdown",
   "id": "1d1cb73a-f573-4ad8-8a7f-f8d7a0d13c90",
   "metadata": {},
   "source": [
    "#### Input Layer"
   ]
  },
  {
   "cell_type": "code",
   "execution_count": 68,
   "id": "fb2420d3-34b8-4394-9467-414a05edbf81",
   "metadata": {
    "tags": []
   },
   "outputs": [],
   "source": [
    "from collections import OrderedDict\n",
    "\n",
    "input_dict = OrderedDict()\n",
    "for key in var_numeric:\n",
    "    input_dict[key] = keras.layers.Input(shape=(1,), name=key)"
   ]
  },
  {
   "cell_type": "code",
   "execution_count": 69,
   "id": "7c8f303a-a6a0-4a86-9736-0b9892bbf55b",
   "metadata": {
    "tags": []
   },
   "outputs": [],
   "source": [
    "concatenated_inputs = keras.layers.Concatenate(axis = -1)(list(input_dict.values()))"
   ]
  },
  {
   "cell_type": "markdown",
   "id": "0effb331-3871-4f72-91f9-7cd26b78909d",
   "metadata": {},
   "source": [
    "#### Model"
   ]
  },
  {
   "cell_type": "code",
   "execution_count": 70,
   "id": "675ac4d0-ff98-410a-9910-feaac8d42acc",
   "metadata": {
    "tags": []
   },
   "outputs": [],
   "source": [
    "ordered_model = keras.Model(inputs = input_dict, outputs = stacked_model(concatenated_inputs))"
   ]
  },
  {
   "cell_type": "markdown",
   "id": "2be99ed7-d0d0-4792-9f50-a324baa9253d",
   "metadata": {},
   "source": [
    "#### Data Mapping"
   ]
  },
  {
   "cell_type": "code",
   "execution_count": 75,
   "id": "27717848-6803-4118-babc-41f3e74ac078",
   "metadata": {
    "tags": []
   },
   "outputs": [],
   "source": [
    "def prep_batch_dict(source):\n",
    "    for k in var_omit + var_target:\n",
    "        source.pop(k, None)\n",
    "\n",
    "    # Create an ordered dictionary with empty lists for each key\n",
    "    result = OrderedDict((key, []) for key in var_numeric)\n",
    "\n",
    "    # Iterate through each column and append the value to the corresponding list\n",
    "    for key in var_numeric:\n",
    "        result[key].append(source[key])\n",
    "\n",
    "    # Convert lists to tensors\n",
    "    for key in result:\n",
    "        result[key] = tf.concat(result[key], axis=0)\n",
    "\n",
    "    return result"
   ]
  },
  {
   "cell_type": "code",
   "execution_count": 76,
   "id": "41caf85b-77ef-4ea7-a604-83aff8256004",
   "metadata": {
    "tags": []
   },
   "outputs": [],
   "source": [
    "test_instance = next(iter(test_read.map(prep_batch_dict).batch(3).take(1)))"
   ]
  },
  {
   "cell_type": "markdown",
   "id": "11d27745-b8e8-4f0b-b6da-41cb71ed4213",
   "metadata": {},
   "source": [
    "#### Predict"
   ]
  },
  {
   "cell_type": "code",
   "execution_count": 77,
   "id": "24e11e59-d1c5-4b46-a3bc-78d0a0a9e6fb",
   "metadata": {
    "tags": []
   },
   "outputs": [
    {
     "name": "stdout",
     "output_type": "stream",
     "text": [
      "\u001b[1m1/1\u001b[0m \u001b[32m━━━━━━━━━━━━━━━━━━━━\u001b[0m\u001b[37m\u001b[0m \u001b[1m0s\u001b[0m 153ms/step\n"
     ]
    },
    {
     "data": {
      "text/plain": [
       "array([[ 6.78442109e+04, -3.28995109e-01,  1.22358300e-01,\n",
       "         6.20533049e-01,  2.19555888e-02, -2.18390077e-01,\n",
       "        -1.68783128e-01, -3.92828248e-02,  7.99054354e-02,\n",
       "        -9.88100395e-02, -1.20875344e-01,  3.68811339e-02,\n",
       "         1.39660284e-01,  1.74331609e-02,  2.60786247e-02,\n",
       "         1.96518868e-01,  9.37388167e-02, -3.49491648e-02,\n",
       "        -1.41241876e-02, -7.04543060e-03, -3.13049890e-02,\n",
       "        -5.63311130e-02, -7.85807669e-02, -2.94602849e-02,\n",
       "         5.29047176e-02,  9.37912092e-02, -6.87602460e-02,\n",
       "         1.19836284e-02,  2.15235911e-02,  2.37034473e+01],\n",
       "       [ 1.09510266e+05,  2.29332075e-01,  3.61229032e-02,\n",
       "        -2.72302061e-01, -1.14036061e-01,  4.89010885e-02,\n",
       "        -3.35452795e-01,  7.21692815e-02, -2.99642677e-03,\n",
       "         1.06096836e-02, -8.19130465e-02, -8.25194567e-02,\n",
       "         1.49689600e-01, -2.30007228e-02,  6.32765144e-02,\n",
       "        -3.89189720e-02,  8.06107298e-02, -1.00753196e-01,\n",
       "         1.72823165e-02, -4.35313070e-03, -8.05594102e-02,\n",
       "         2.27200310e-03,  9.05545279e-02,  2.11490374e-02,\n",
       "         3.09082586e-02, -5.50091825e-02, -4.89816181e-02,\n",
       "        -3.62978759e-03, -8.72891583e-03,  2.16142883e+01],\n",
       "       [ 6.78439844e+04, -3.28998119e-01,  1.22358784e-01,\n",
       "         6.20537817e-01,  2.19562538e-02, -2.18391463e-01,\n",
       "        -1.68782175e-01, -3.92834321e-02,  7.99058974e-02,\n",
       "        -9.88106579e-02, -1.20875515e-01,  3.68816927e-02,\n",
       "         1.39660209e-01,  1.74333714e-02,  2.60783695e-02,\n",
       "         1.96520165e-01,  9.37388986e-02, -3.49487662e-02,\n",
       "        -1.41243339e-02, -7.04547483e-03, -3.13047133e-02,\n",
       "        -5.63314557e-02, -7.85816759e-02, -2.94605512e-02,\n",
       "         5.29048294e-02,  9.37919840e-02, -6.87602982e-02,\n",
       "         1.19837122e-02,  2.15237550e-02,  2.37034626e+01]], dtype=float32)"
      ]
     },
     "execution_count": 77,
     "metadata": {},
     "output_type": "execute_result"
    }
   ],
   "source": [
    "ordered_model.predict(test_instance)"
   ]
  },
  {
   "cell_type": "code",
   "execution_count": 78,
   "id": "03e06c65-63cd-4ce2-b5e4-1c7e74e729d4",
   "metadata": {
    "tags": []
   },
   "outputs": [
    {
     "data": {
      "text/plain": [
       "OrderedDict([('Time',\n",
       "              <tf.Tensor: shape=(3,), dtype=float64, numpy=array([ 43330., 141955.,  58813.])>),\n",
       "             ('V1',\n",
       "              <tf.Tensor: shape=(3,), dtype=float64, numpy=array([-1.51030791, -1.58553155, -2.52434169])>),\n",
       "             ('V2',\n",
       "              <tf.Tensor: shape=(3,), dtype=float64, numpy=array([ 0.7806836 ,  1.24041103, -0.3137836 ])>),\n",
       "             ('V3',\n",
       "              <tf.Tensor: shape=(3,), dtype=float64, numpy=array([ 2.08574736, -0.5583491 ,  2.30408519])>),\n",
       "             ('V4',\n",
       "              <tf.Tensor: shape=(3,), dtype=float64, numpy=array([ 3.12313283, -0.84165725,  3.04301624])>),\n",
       "             ('V5',\n",
       "              <tf.Tensor: shape=(3,), dtype=float64, numpy=array([0.5895565 , 0.39750204, 5.49568553])>),\n",
       "             ('V6',\n",
       "              <tf.Tensor: shape=(3,), dtype=float64, numpy=array([ 1.30168094, -1.53272269, -2.60034741])>),\n",
       "             ('V7',\n",
       "              <tf.Tensor: shape=(3,), dtype=float64, numpy=array([-1.30099101,  0.38881768, -3.77967918])>),\n",
       "             ('V8',\n",
       "              <tf.Tensor: shape=(3,), dtype=float64, numpy=array([-2.34533311,  0.57589604, -1.04215423])>),\n",
       "             ('V9',\n",
       "              <tf.Tensor: shape=(3,), dtype=float64, numpy=array([ 0.14872221, -0.27836958, -1.0145033 ])>),\n",
       "             ('V10',\n",
       "              <tf.Tensor: shape=(3,), dtype=float64, numpy=array([ 1.06300824, -0.85692821,  1.53923938])>),\n",
       "             ('V11',\n",
       "              <tf.Tensor: shape=(3,), dtype=float64, numpy=array([-1.88035726, -1.11892547,  2.52971539])>),\n",
       "             ('V12',\n",
       "              <tf.Tensor: shape=(3,), dtype=float64, numpy=array([0.31097171, 0.73722359, 1.43285256])>),\n",
       "             ('V13',\n",
       "              <tf.Tensor: shape=(3,), dtype=float64, numpy=array([0.95429864, 0.47926256, 1.35472709])>),\n",
       "             ('V14',\n",
       "              <tf.Tensor: shape=(3,), dtype=float64, numpy=array([-1.1064628 ,  0.7950021 , -1.58017117])>),\n",
       "             ('V15',\n",
       "              <tf.Tensor: shape=(3,), dtype=float64, numpy=array([-0.78601584, -0.39634485,  0.65608165])>),\n",
       "             ('V16',\n",
       "              <tf.Tensor: shape=(3,), dtype=float64, numpy=array([-0.55532433, -0.36227783,  0.15664428])>),\n",
       "             ('V17',\n",
       "              <tf.Tensor: shape=(3,), dtype=float64, numpy=array([0.33523656, 0.0499584 , 1.0424901 ])>),\n",
       "             ('V18',\n",
       "              <tf.Tensor: shape=(3,), dtype=float64, numpy=array([ 0.18563769, -0.64835391, -0.16707463])>),\n",
       "             ('V19',\n",
       "              <tf.Tensor: shape=(3,), dtype=float64, numpy=array([ 1.54380629,  0.00905398, -0.15005708])>),\n",
       "             ('V20',\n",
       "              <tf.Tensor: shape=(3,), dtype=float64, numpy=array([-0.64486403, -0.12085815, -0.50065938])>),\n",
       "             ('V21',\n",
       "              <tf.Tensor: shape=(3,), dtype=float64, numpy=array([ 2.2298182 , -0.04552512,  0.48489196])>),\n",
       "             ('V22',\n",
       "              <tf.Tensor: shape=(3,), dtype=float64, numpy=array([-0.04606209, -0.09660501, -1.38873431])>),\n",
       "             ('V23',\n",
       "              <tf.Tensor: shape=(3,), dtype=float64, numpy=array([-0.34132396, -0.24949266, -6.18549115])>),\n",
       "             ('V24',\n",
       "              <tf.Tensor: shape=(3,), dtype=float64, numpy=array([-0.37086934,  0.00146171,  0.4400797 ])>),\n",
       "             ('V25',\n",
       "              <tf.Tensor: shape=(3,), dtype=float64, numpy=array([-0.2011993 , -0.04579066, -1.40964108])>),\n",
       "             ('V26',\n",
       "              <tf.Tensor: shape=(3,), dtype=float64, numpy=array([ 0.42396395, -0.11066682, -0.20946486])>),\n",
       "             ('V27',\n",
       "              <tf.Tensor: shape=(3,), dtype=float64, numpy=array([ 0.21099818,  0.30524857, -0.11106454])>),\n",
       "             ('V28',\n",
       "              <tf.Tensor: shape=(3,), dtype=float64, numpy=array([-0.05861639,  0.01527143,  0.116788  ])>),\n",
       "             ('Amount',\n",
       "              <tf.Tensor: shape=(3,), dtype=float64, numpy=array([0., 0., 0.])>)])"
      ]
     },
     "execution_count": 78,
     "metadata": {},
     "output_type": "execute_result"
    }
   ],
   "source": [
    "test_instance"
   ]
  },
  {
   "cell_type": "markdown",
   "id": "1b77b0d4-3ccb-4524-bc68-45489a54cbb8",
   "metadata": {},
   "source": [
    "#### Review The Model"
   ]
  },
  {
   "cell_type": "code",
   "execution_count": 80,
   "id": "dc5910ec-3156-4f5f-8d37-d47647f8fc92",
   "metadata": {
    "tags": []
   },
   "outputs": [
    {
     "data": {
      "text/html": [
       "<pre style=\"white-space:pre;overflow-x:auto;line-height:normal;font-family:Menlo,'DejaVu Sans Mono',consolas,'Courier New',monospace\"><span style=\"font-weight: bold\">Model: \"functional_1\"</span>\n",
       "</pre>\n"
      ],
      "text/plain": [
       "\u001b[1mModel: \"functional_1\"\u001b[0m\n"
      ]
     },
     "metadata": {},
     "output_type": "display_data"
    },
    {
     "data": {
      "text/html": [
       "<pre style=\"white-space:pre;overflow-x:auto;line-height:normal;font-family:Menlo,'DejaVu Sans Mono',consolas,'Courier New',monospace\">┏━━━━━━━━━━━━━━━━━━━━━┳━━━━━━━━━━━━━━━━━━━┳━━━━━━━━━━━━┳━━━━━━━━━━━━━━━━━━━┓\n",
       "┃<span style=\"font-weight: bold\"> Layer (type)        </span>┃<span style=\"font-weight: bold\"> Output Shape      </span>┃<span style=\"font-weight: bold\">    Param # </span>┃<span style=\"font-weight: bold\"> Connected to      </span>┃\n",
       "┡━━━━━━━━━━━━━━━━━━━━━╇━━━━━━━━━━━━━━━━━━━╇━━━━━━━━━━━━╇━━━━━━━━━━━━━━━━━━━┩\n",
       "│ Time (<span style=\"color: #0087ff; text-decoration-color: #0087ff\">InputLayer</span>)   │ (<span style=\"color: #00d7ff; text-decoration-color: #00d7ff\">None</span>, <span style=\"color: #00af00; text-decoration-color: #00af00\">1</span>)         │          <span style=\"color: #00af00; text-decoration-color: #00af00\">0</span> │ -                 │\n",
       "├─────────────────────┼───────────────────┼────────────┼───────────────────┤\n",
       "│ V1 (<span style=\"color: #0087ff; text-decoration-color: #0087ff\">InputLayer</span>)     │ (<span style=\"color: #00d7ff; text-decoration-color: #00d7ff\">None</span>, <span style=\"color: #00af00; text-decoration-color: #00af00\">1</span>)         │          <span style=\"color: #00af00; text-decoration-color: #00af00\">0</span> │ -                 │\n",
       "├─────────────────────┼───────────────────┼────────────┼───────────────────┤\n",
       "│ V2 (<span style=\"color: #0087ff; text-decoration-color: #0087ff\">InputLayer</span>)     │ (<span style=\"color: #00d7ff; text-decoration-color: #00d7ff\">None</span>, <span style=\"color: #00af00; text-decoration-color: #00af00\">1</span>)         │          <span style=\"color: #00af00; text-decoration-color: #00af00\">0</span> │ -                 │\n",
       "├─────────────────────┼───────────────────┼────────────┼───────────────────┤\n",
       "│ V3 (<span style=\"color: #0087ff; text-decoration-color: #0087ff\">InputLayer</span>)     │ (<span style=\"color: #00d7ff; text-decoration-color: #00d7ff\">None</span>, <span style=\"color: #00af00; text-decoration-color: #00af00\">1</span>)         │          <span style=\"color: #00af00; text-decoration-color: #00af00\">0</span> │ -                 │\n",
       "├─────────────────────┼───────────────────┼────────────┼───────────────────┤\n",
       "│ V4 (<span style=\"color: #0087ff; text-decoration-color: #0087ff\">InputLayer</span>)     │ (<span style=\"color: #00d7ff; text-decoration-color: #00d7ff\">None</span>, <span style=\"color: #00af00; text-decoration-color: #00af00\">1</span>)         │          <span style=\"color: #00af00; text-decoration-color: #00af00\">0</span> │ -                 │\n",
       "├─────────────────────┼───────────────────┼────────────┼───────────────────┤\n",
       "│ V5 (<span style=\"color: #0087ff; text-decoration-color: #0087ff\">InputLayer</span>)     │ (<span style=\"color: #00d7ff; text-decoration-color: #00d7ff\">None</span>, <span style=\"color: #00af00; text-decoration-color: #00af00\">1</span>)         │          <span style=\"color: #00af00; text-decoration-color: #00af00\">0</span> │ -                 │\n",
       "├─────────────────────┼───────────────────┼────────────┼───────────────────┤\n",
       "│ V6 (<span style=\"color: #0087ff; text-decoration-color: #0087ff\">InputLayer</span>)     │ (<span style=\"color: #00d7ff; text-decoration-color: #00d7ff\">None</span>, <span style=\"color: #00af00; text-decoration-color: #00af00\">1</span>)         │          <span style=\"color: #00af00; text-decoration-color: #00af00\">0</span> │ -                 │\n",
       "├─────────────────────┼───────────────────┼────────────┼───────────────────┤\n",
       "│ V7 (<span style=\"color: #0087ff; text-decoration-color: #0087ff\">InputLayer</span>)     │ (<span style=\"color: #00d7ff; text-decoration-color: #00d7ff\">None</span>, <span style=\"color: #00af00; text-decoration-color: #00af00\">1</span>)         │          <span style=\"color: #00af00; text-decoration-color: #00af00\">0</span> │ -                 │\n",
       "├─────────────────────┼───────────────────┼────────────┼───────────────────┤\n",
       "│ V8 (<span style=\"color: #0087ff; text-decoration-color: #0087ff\">InputLayer</span>)     │ (<span style=\"color: #00d7ff; text-decoration-color: #00d7ff\">None</span>, <span style=\"color: #00af00; text-decoration-color: #00af00\">1</span>)         │          <span style=\"color: #00af00; text-decoration-color: #00af00\">0</span> │ -                 │\n",
       "├─────────────────────┼───────────────────┼────────────┼───────────────────┤\n",
       "│ V9 (<span style=\"color: #0087ff; text-decoration-color: #0087ff\">InputLayer</span>)     │ (<span style=\"color: #00d7ff; text-decoration-color: #00d7ff\">None</span>, <span style=\"color: #00af00; text-decoration-color: #00af00\">1</span>)         │          <span style=\"color: #00af00; text-decoration-color: #00af00\">0</span> │ -                 │\n",
       "├─────────────────────┼───────────────────┼────────────┼───────────────────┤\n",
       "│ V10 (<span style=\"color: #0087ff; text-decoration-color: #0087ff\">InputLayer</span>)    │ (<span style=\"color: #00d7ff; text-decoration-color: #00d7ff\">None</span>, <span style=\"color: #00af00; text-decoration-color: #00af00\">1</span>)         │          <span style=\"color: #00af00; text-decoration-color: #00af00\">0</span> │ -                 │\n",
       "├─────────────────────┼───────────────────┼────────────┼───────────────────┤\n",
       "│ V11 (<span style=\"color: #0087ff; text-decoration-color: #0087ff\">InputLayer</span>)    │ (<span style=\"color: #00d7ff; text-decoration-color: #00d7ff\">None</span>, <span style=\"color: #00af00; text-decoration-color: #00af00\">1</span>)         │          <span style=\"color: #00af00; text-decoration-color: #00af00\">0</span> │ -                 │\n",
       "├─────────────────────┼───────────────────┼────────────┼───────────────────┤\n",
       "│ V12 (<span style=\"color: #0087ff; text-decoration-color: #0087ff\">InputLayer</span>)    │ (<span style=\"color: #00d7ff; text-decoration-color: #00d7ff\">None</span>, <span style=\"color: #00af00; text-decoration-color: #00af00\">1</span>)         │          <span style=\"color: #00af00; text-decoration-color: #00af00\">0</span> │ -                 │\n",
       "├─────────────────────┼───────────────────┼────────────┼───────────────────┤\n",
       "│ V13 (<span style=\"color: #0087ff; text-decoration-color: #0087ff\">InputLayer</span>)    │ (<span style=\"color: #00d7ff; text-decoration-color: #00d7ff\">None</span>, <span style=\"color: #00af00; text-decoration-color: #00af00\">1</span>)         │          <span style=\"color: #00af00; text-decoration-color: #00af00\">0</span> │ -                 │\n",
       "├─────────────────────┼───────────────────┼────────────┼───────────────────┤\n",
       "│ V14 (<span style=\"color: #0087ff; text-decoration-color: #0087ff\">InputLayer</span>)    │ (<span style=\"color: #00d7ff; text-decoration-color: #00d7ff\">None</span>, <span style=\"color: #00af00; text-decoration-color: #00af00\">1</span>)         │          <span style=\"color: #00af00; text-decoration-color: #00af00\">0</span> │ -                 │\n",
       "├─────────────────────┼───────────────────┼────────────┼───────────────────┤\n",
       "│ V15 (<span style=\"color: #0087ff; text-decoration-color: #0087ff\">InputLayer</span>)    │ (<span style=\"color: #00d7ff; text-decoration-color: #00d7ff\">None</span>, <span style=\"color: #00af00; text-decoration-color: #00af00\">1</span>)         │          <span style=\"color: #00af00; text-decoration-color: #00af00\">0</span> │ -                 │\n",
       "├─────────────────────┼───────────────────┼────────────┼───────────────────┤\n",
       "│ V16 (<span style=\"color: #0087ff; text-decoration-color: #0087ff\">InputLayer</span>)    │ (<span style=\"color: #00d7ff; text-decoration-color: #00d7ff\">None</span>, <span style=\"color: #00af00; text-decoration-color: #00af00\">1</span>)         │          <span style=\"color: #00af00; text-decoration-color: #00af00\">0</span> │ -                 │\n",
       "├─────────────────────┼───────────────────┼────────────┼───────────────────┤\n",
       "│ V17 (<span style=\"color: #0087ff; text-decoration-color: #0087ff\">InputLayer</span>)    │ (<span style=\"color: #00d7ff; text-decoration-color: #00d7ff\">None</span>, <span style=\"color: #00af00; text-decoration-color: #00af00\">1</span>)         │          <span style=\"color: #00af00; text-decoration-color: #00af00\">0</span> │ -                 │\n",
       "├─────────────────────┼───────────────────┼────────────┼───────────────────┤\n",
       "│ V18 (<span style=\"color: #0087ff; text-decoration-color: #0087ff\">InputLayer</span>)    │ (<span style=\"color: #00d7ff; text-decoration-color: #00d7ff\">None</span>, <span style=\"color: #00af00; text-decoration-color: #00af00\">1</span>)         │          <span style=\"color: #00af00; text-decoration-color: #00af00\">0</span> │ -                 │\n",
       "├─────────────────────┼───────────────────┼────────────┼───────────────────┤\n",
       "│ V19 (<span style=\"color: #0087ff; text-decoration-color: #0087ff\">InputLayer</span>)    │ (<span style=\"color: #00d7ff; text-decoration-color: #00d7ff\">None</span>, <span style=\"color: #00af00; text-decoration-color: #00af00\">1</span>)         │          <span style=\"color: #00af00; text-decoration-color: #00af00\">0</span> │ -                 │\n",
       "├─────────────────────┼───────────────────┼────────────┼───────────────────┤\n",
       "│ V20 (<span style=\"color: #0087ff; text-decoration-color: #0087ff\">InputLayer</span>)    │ (<span style=\"color: #00d7ff; text-decoration-color: #00d7ff\">None</span>, <span style=\"color: #00af00; text-decoration-color: #00af00\">1</span>)         │          <span style=\"color: #00af00; text-decoration-color: #00af00\">0</span> │ -                 │\n",
       "├─────────────────────┼───────────────────┼────────────┼───────────────────┤\n",
       "│ V21 (<span style=\"color: #0087ff; text-decoration-color: #0087ff\">InputLayer</span>)    │ (<span style=\"color: #00d7ff; text-decoration-color: #00d7ff\">None</span>, <span style=\"color: #00af00; text-decoration-color: #00af00\">1</span>)         │          <span style=\"color: #00af00; text-decoration-color: #00af00\">0</span> │ -                 │\n",
       "├─────────────────────┼───────────────────┼────────────┼───────────────────┤\n",
       "│ V22 (<span style=\"color: #0087ff; text-decoration-color: #0087ff\">InputLayer</span>)    │ (<span style=\"color: #00d7ff; text-decoration-color: #00d7ff\">None</span>, <span style=\"color: #00af00; text-decoration-color: #00af00\">1</span>)         │          <span style=\"color: #00af00; text-decoration-color: #00af00\">0</span> │ -                 │\n",
       "├─────────────────────┼───────────────────┼────────────┼───────────────────┤\n",
       "│ V23 (<span style=\"color: #0087ff; text-decoration-color: #0087ff\">InputLayer</span>)    │ (<span style=\"color: #00d7ff; text-decoration-color: #00d7ff\">None</span>, <span style=\"color: #00af00; text-decoration-color: #00af00\">1</span>)         │          <span style=\"color: #00af00; text-decoration-color: #00af00\">0</span> │ -                 │\n",
       "├─────────────────────┼───────────────────┼────────────┼───────────────────┤\n",
       "│ V24 (<span style=\"color: #0087ff; text-decoration-color: #0087ff\">InputLayer</span>)    │ (<span style=\"color: #00d7ff; text-decoration-color: #00d7ff\">None</span>, <span style=\"color: #00af00; text-decoration-color: #00af00\">1</span>)         │          <span style=\"color: #00af00; text-decoration-color: #00af00\">0</span> │ -                 │\n",
       "├─────────────────────┼───────────────────┼────────────┼───────────────────┤\n",
       "│ V25 (<span style=\"color: #0087ff; text-decoration-color: #0087ff\">InputLayer</span>)    │ (<span style=\"color: #00d7ff; text-decoration-color: #00d7ff\">None</span>, <span style=\"color: #00af00; text-decoration-color: #00af00\">1</span>)         │          <span style=\"color: #00af00; text-decoration-color: #00af00\">0</span> │ -                 │\n",
       "├─────────────────────┼───────────────────┼────────────┼───────────────────┤\n",
       "│ V26 (<span style=\"color: #0087ff; text-decoration-color: #0087ff\">InputLayer</span>)    │ (<span style=\"color: #00d7ff; text-decoration-color: #00d7ff\">None</span>, <span style=\"color: #00af00; text-decoration-color: #00af00\">1</span>)         │          <span style=\"color: #00af00; text-decoration-color: #00af00\">0</span> │ -                 │\n",
       "├─────────────────────┼───────────────────┼────────────┼───────────────────┤\n",
       "│ V27 (<span style=\"color: #0087ff; text-decoration-color: #0087ff\">InputLayer</span>)    │ (<span style=\"color: #00d7ff; text-decoration-color: #00d7ff\">None</span>, <span style=\"color: #00af00; text-decoration-color: #00af00\">1</span>)         │          <span style=\"color: #00af00; text-decoration-color: #00af00\">0</span> │ -                 │\n",
       "├─────────────────────┼───────────────────┼────────────┼───────────────────┤\n",
       "│ V28 (<span style=\"color: #0087ff; text-decoration-color: #0087ff\">InputLayer</span>)    │ (<span style=\"color: #00d7ff; text-decoration-color: #00d7ff\">None</span>, <span style=\"color: #00af00; text-decoration-color: #00af00\">1</span>)         │          <span style=\"color: #00af00; text-decoration-color: #00af00\">0</span> │ -                 │\n",
       "├─────────────────────┼───────────────────┼────────────┼───────────────────┤\n",
       "│ Amount (<span style=\"color: #0087ff; text-decoration-color: #0087ff\">InputLayer</span>) │ (<span style=\"color: #00d7ff; text-decoration-color: #00d7ff\">None</span>, <span style=\"color: #00af00; text-decoration-color: #00af00\">1</span>)         │          <span style=\"color: #00af00; text-decoration-color: #00af00\">0</span> │ -                 │\n",
       "├─────────────────────┼───────────────────┼────────────┼───────────────────┤\n",
       "│ concatenate         │ (<span style=\"color: #00d7ff; text-decoration-color: #00d7ff\">None</span>, <span style=\"color: #00af00; text-decoration-color: #00af00\">30</span>)        │          <span style=\"color: #00af00; text-decoration-color: #00af00\">0</span> │ Time[<span style=\"color: #00af00; text-decoration-color: #00af00\">0</span>][<span style=\"color: #00af00; text-decoration-color: #00af00\">0</span>],       │\n",
       "│ (<span style=\"color: #0087ff; text-decoration-color: #0087ff\">Concatenate</span>)       │                   │            │ V1[<span style=\"color: #00af00; text-decoration-color: #00af00\">0</span>][<span style=\"color: #00af00; text-decoration-color: #00af00\">0</span>],         │\n",
       "│                     │                   │            │ V2[<span style=\"color: #00af00; text-decoration-color: #00af00\">0</span>][<span style=\"color: #00af00; text-decoration-color: #00af00\">0</span>],         │\n",
       "│                     │                   │            │ V3[<span style=\"color: #00af00; text-decoration-color: #00af00\">0</span>][<span style=\"color: #00af00; text-decoration-color: #00af00\">0</span>],         │\n",
       "│                     │                   │            │ V4[<span style=\"color: #00af00; text-decoration-color: #00af00\">0</span>][<span style=\"color: #00af00; text-decoration-color: #00af00\">0</span>],         │\n",
       "│                     │                   │            │ V5[<span style=\"color: #00af00; text-decoration-color: #00af00\">0</span>][<span style=\"color: #00af00; text-decoration-color: #00af00\">0</span>],         │\n",
       "│                     │                   │            │ V6[<span style=\"color: #00af00; text-decoration-color: #00af00\">0</span>][<span style=\"color: #00af00; text-decoration-color: #00af00\">0</span>],         │\n",
       "│                     │                   │            │ V7[<span style=\"color: #00af00; text-decoration-color: #00af00\">0</span>][<span style=\"color: #00af00; text-decoration-color: #00af00\">0</span>],         │\n",
       "│                     │                   │            │ V8[<span style=\"color: #00af00; text-decoration-color: #00af00\">0</span>][<span style=\"color: #00af00; text-decoration-color: #00af00\">0</span>],         │\n",
       "│                     │                   │            │ V9[<span style=\"color: #00af00; text-decoration-color: #00af00\">0</span>][<span style=\"color: #00af00; text-decoration-color: #00af00\">0</span>],         │\n",
       "│                     │                   │            │ V10[<span style=\"color: #00af00; text-decoration-color: #00af00\">0</span>][<span style=\"color: #00af00; text-decoration-color: #00af00\">0</span>],        │\n",
       "│                     │                   │            │ V11[<span style=\"color: #00af00; text-decoration-color: #00af00\">0</span>][<span style=\"color: #00af00; text-decoration-color: #00af00\">0</span>],        │\n",
       "│                     │                   │            │ V12[<span style=\"color: #00af00; text-decoration-color: #00af00\">0</span>][<span style=\"color: #00af00; text-decoration-color: #00af00\">0</span>],        │\n",
       "│                     │                   │            │ V13[<span style=\"color: #00af00; text-decoration-color: #00af00\">0</span>][<span style=\"color: #00af00; text-decoration-color: #00af00\">0</span>],        │\n",
       "│                     │                   │            │ V14[<span style=\"color: #00af00; text-decoration-color: #00af00\">0</span>][<span style=\"color: #00af00; text-decoration-color: #00af00\">0</span>],        │\n",
       "│                     │                   │            │ V15[<span style=\"color: #00af00; text-decoration-color: #00af00\">0</span>][<span style=\"color: #00af00; text-decoration-color: #00af00\">0</span>],        │\n",
       "│                     │                   │            │ V16[<span style=\"color: #00af00; text-decoration-color: #00af00\">0</span>][<span style=\"color: #00af00; text-decoration-color: #00af00\">0</span>],        │\n",
       "│                     │                   │            │ V17[<span style=\"color: #00af00; text-decoration-color: #00af00\">0</span>][<span style=\"color: #00af00; text-decoration-color: #00af00\">0</span>],        │\n",
       "│                     │                   │            │ V18[<span style=\"color: #00af00; text-decoration-color: #00af00\">0</span>][<span style=\"color: #00af00; text-decoration-color: #00af00\">0</span>],        │\n",
       "│                     │                   │            │ V19[<span style=\"color: #00af00; text-decoration-color: #00af00\">0</span>][<span style=\"color: #00af00; text-decoration-color: #00af00\">0</span>],        │\n",
       "│                     │                   │            │ V20[<span style=\"color: #00af00; text-decoration-color: #00af00\">0</span>][<span style=\"color: #00af00; text-decoration-color: #00af00\">0</span>],        │\n",
       "│                     │                   │            │ V21[<span style=\"color: #00af00; text-decoration-color: #00af00\">0</span>][<span style=\"color: #00af00; text-decoration-color: #00af00\">0</span>],        │\n",
       "│                     │                   │            │ V22[<span style=\"color: #00af00; text-decoration-color: #00af00\">0</span>][<span style=\"color: #00af00; text-decoration-color: #00af00\">0</span>],        │\n",
       "│                     │                   │            │ V23[<span style=\"color: #00af00; text-decoration-color: #00af00\">0</span>][<span style=\"color: #00af00; text-decoration-color: #00af00\">0</span>],        │\n",
       "│                     │                   │            │ V24[<span style=\"color: #00af00; text-decoration-color: #00af00\">0</span>][<span style=\"color: #00af00; text-decoration-color: #00af00\">0</span>],        │\n",
       "│                     │                   │            │ V25[<span style=\"color: #00af00; text-decoration-color: #00af00\">0</span>][<span style=\"color: #00af00; text-decoration-color: #00af00\">0</span>],        │\n",
       "│                     │                   │            │ V26[<span style=\"color: #00af00; text-decoration-color: #00af00\">0</span>][<span style=\"color: #00af00; text-decoration-color: #00af00\">0</span>],        │\n",
       "│                     │                   │            │ V27[<span style=\"color: #00af00; text-decoration-color: #00af00\">0</span>][<span style=\"color: #00af00; text-decoration-color: #00af00\">0</span>],        │\n",
       "│                     │                   │            │ V28[<span style=\"color: #00af00; text-decoration-color: #00af00\">0</span>][<span style=\"color: #00af00; text-decoration-color: #00af00\">0</span>],        │\n",
       "│                     │                   │            │ Amount[<span style=\"color: #00af00; text-decoration-color: #00af00\">0</span>][<span style=\"color: #00af00; text-decoration-color: #00af00\">0</span>]      │\n",
       "├─────────────────────┼───────────────────┼────────────┼───────────────────┤\n",
       "│ stacked_autoencoder │ (<span style=\"color: #00d7ff; text-decoration-color: #00d7ff\">None</span>, <span style=\"color: #00af00; text-decoration-color: #00af00\">30</span>)        │      <span style=\"color: #00af00; text-decoration-color: #00af00\">1,423</span> │ concatenate[<span style=\"color: #00af00; text-decoration-color: #00af00\">0</span>][<span style=\"color: #00af00; text-decoration-color: #00af00\">0</span>] │\n",
       "│ (<span style=\"color: #0087ff; text-decoration-color: #0087ff\">Sequential</span>)        │                   │            │                   │\n",
       "├─────────────────────┼───────────────────┼────────────┼───────────────────┤\n",
       "│    └ normalization  │ (<span style=\"color: #00af00; text-decoration-color: #00af00\">3</span>, <span style=\"color: #00af00; text-decoration-color: #00af00\">30</span>)           │         <span style=\"color: #00af00; text-decoration-color: #00af00\">61</span> │ -                 │\n",
       "│ (<span style=\"color: #0087ff; text-decoration-color: #0087ff\">Normalization</span>)     │                   │            │                   │\n",
       "├─────────────────────┼───────────────────┼────────────┼───────────────────┤\n",
       "│    └ autoencoder    │ (<span style=\"color: #00af00; text-decoration-color: #00af00\">3</span>, <span style=\"color: #00af00; text-decoration-color: #00af00\">30</span>)           │      <span style=\"color: #00af00; text-decoration-color: #00af00\">1,362</span> │ -                 │\n",
       "│ (<span style=\"color: #0087ff; text-decoration-color: #0087ff\">Functional</span>)        │                   │            │                   │\n",
       "├─────────────────────┼───────────────────┼────────────┼───────────────────┤\n",
       "│       └             │ (<span style=\"color: #00d7ff; text-decoration-color: #00d7ff\">None</span>, <span style=\"color: #00af00; text-decoration-color: #00af00\">30</span>)        │          <span style=\"color: #00af00; text-decoration-color: #00af00\">0</span> │ -                 │\n",
       "│ autoencoder_input   │                   │            │                   │\n",
       "│ (<span style=\"color: #0087ff; text-decoration-color: #0087ff\">InputLayer</span>)        │                   │            │                   │\n",
       "├─────────────────────┼───────────────────┼────────────┼───────────────────┤\n",
       "│       └ enc_dense1  │ (<span style=\"color: #00d7ff; text-decoration-color: #00d7ff\">None</span>, <span style=\"color: #00af00; text-decoration-color: #00af00\">16</span>)        │        <span style=\"color: #00af00; text-decoration-color: #00af00\">496</span> │ -                 │\n",
       "│ (<span style=\"color: #0087ff; text-decoration-color: #0087ff\">Dense</span>)             │                   │            │                   │\n",
       "├─────────────────────┼───────────────────┼────────────┼───────────────────┤\n",
       "│       └             │ (<span style=\"color: #00d7ff; text-decoration-color: #00d7ff\">None</span>, <span style=\"color: #00af00; text-decoration-color: #00af00\">16</span>)        │          <span style=\"color: #00af00; text-decoration-color: #00af00\">0</span> │ -                 │\n",
       "│ enc_dropout1        │                   │            │                   │\n",
       "│ (<span style=\"color: #0087ff; text-decoration-color: #0087ff\">Dropout</span>)           │                   │            │                   │\n",
       "├─────────────────────┼───────────────────┼────────────┼───────────────────┤\n",
       "│       └ enc_dense2  │ (<span style=\"color: #00d7ff; text-decoration-color: #00d7ff\">None</span>, <span style=\"color: #00af00; text-decoration-color: #00af00\">8</span>)         │        <span style=\"color: #00af00; text-decoration-color: #00af00\">136</span> │ -                 │\n",
       "│ (<span style=\"color: #0087ff; text-decoration-color: #0087ff\">Dense</span>)             │                   │            │                   │\n",
       "├─────────────────────┼───────────────────┼────────────┼───────────────────┤\n",
       "│       └             │ (<span style=\"color: #00d7ff; text-decoration-color: #00d7ff\">None</span>, <span style=\"color: #00af00; text-decoration-color: #00af00\">8</span>)         │          <span style=\"color: #00af00; text-decoration-color: #00af00\">0</span> │ -                 │\n",
       "│ enc_dropout2        │                   │            │                   │\n",
       "│ (<span style=\"color: #0087ff; text-decoration-color: #0087ff\">Dropout</span>)           │                   │            │                   │\n",
       "├─────────────────────┼───────────────────┼────────────┼───────────────────┤\n",
       "│       └ latent      │ (<span style=\"color: #00d7ff; text-decoration-color: #00d7ff\">None</span>, <span style=\"color: #00af00; text-decoration-color: #00af00\">4</span>)         │         <span style=\"color: #00af00; text-decoration-color: #00af00\">36</span> │ -                 │\n",
       "│ (<span style=\"color: #0087ff; text-decoration-color: #0087ff\">Dense</span>)             │                   │            │                   │\n",
       "├─────────────────────┼───────────────────┼────────────┼───────────────────┤\n",
       "│       └ dec_dense1  │ (<span style=\"color: #00d7ff; text-decoration-color: #00d7ff\">None</span>, <span style=\"color: #00af00; text-decoration-color: #00af00\">8</span>)         │         <span style=\"color: #00af00; text-decoration-color: #00af00\">40</span> │ -                 │\n",
       "│ (<span style=\"color: #0087ff; text-decoration-color: #0087ff\">Dense</span>)             │                   │            │                   │\n",
       "├─────────────────────┼───────────────────┼────────────┼───────────────────┤\n",
       "│       └             │ (<span style=\"color: #00d7ff; text-decoration-color: #00d7ff\">None</span>, <span style=\"color: #00af00; text-decoration-color: #00af00\">8</span>)         │          <span style=\"color: #00af00; text-decoration-color: #00af00\">0</span> │ -                 │\n",
       "│ dec_dropout1        │                   │            │                   │\n",
       "│ (<span style=\"color: #0087ff; text-decoration-color: #0087ff\">Dropout</span>)           │                   │            │                   │\n",
       "├─────────────────────┼───────────────────┼────────────┼───────────────────┤\n",
       "│       └ dec_dense2  │ (<span style=\"color: #00d7ff; text-decoration-color: #00d7ff\">None</span>, <span style=\"color: #00af00; text-decoration-color: #00af00\">16</span>)        │        <span style=\"color: #00af00; text-decoration-color: #00af00\">144</span> │ -                 │\n",
       "│ (<span style=\"color: #0087ff; text-decoration-color: #0087ff\">Dense</span>)             │                   │            │                   │\n",
       "├─────────────────────┼───────────────────┼────────────┼───────────────────┤\n",
       "│       └             │ (<span style=\"color: #00d7ff; text-decoration-color: #00d7ff\">None</span>, <span style=\"color: #00af00; text-decoration-color: #00af00\">16</span>)        │          <span style=\"color: #00af00; text-decoration-color: #00af00\">0</span> │ -                 │\n",
       "│ dec_dropout2        │                   │            │                   │\n",
       "│ (<span style=\"color: #0087ff; text-decoration-color: #0087ff\">Dropout</span>)           │                   │            │                   │\n",
       "├─────────────────────┼───────────────────┼────────────┼───────────────────┤\n",
       "│       └             │ (<span style=\"color: #00d7ff; text-decoration-color: #00d7ff\">None</span>, <span style=\"color: #00af00; text-decoration-color: #00af00\">30</span>)        │        <span style=\"color: #00af00; text-decoration-color: #00af00\">510</span> │ -                 │\n",
       "│ reconstructed       │                   │            │                   │\n",
       "│ (<span style=\"color: #0087ff; text-decoration-color: #0087ff\">Dense</span>)             │                   │            │                   │\n",
       "├─────────────────────┼───────────────────┼────────────┼───────────────────┤\n",
       "│    └ denormalize    │ (<span style=\"color: #00af00; text-decoration-color: #00af00\">3</span>, <span style=\"color: #00af00; text-decoration-color: #00af00\">30</span>)           │          <span style=\"color: #00af00; text-decoration-color: #00af00\">0</span> │ -                 │\n",
       "│ (<span style=\"color: #0087ff; text-decoration-color: #0087ff\">Normalization</span>)     │                   │            │                   │\n",
       "└─────────────────────┴───────────────────┴────────────┴───────────────────┘\n",
       "</pre>\n"
      ],
      "text/plain": [
       "┏━━━━━━━━━━━━━━━━━━━━━┳━━━━━━━━━━━━━━━━━━━┳━━━━━━━━━━━━┳━━━━━━━━━━━━━━━━━━━┓\n",
       "┃\u001b[1m \u001b[0m\u001b[1mLayer (type)       \u001b[0m\u001b[1m \u001b[0m┃\u001b[1m \u001b[0m\u001b[1mOutput Shape     \u001b[0m\u001b[1m \u001b[0m┃\u001b[1m \u001b[0m\u001b[1m   Param #\u001b[0m\u001b[1m \u001b[0m┃\u001b[1m \u001b[0m\u001b[1mConnected to     \u001b[0m\u001b[1m \u001b[0m┃\n",
       "┡━━━━━━━━━━━━━━━━━━━━━╇━━━━━━━━━━━━━━━━━━━╇━━━━━━━━━━━━╇━━━━━━━━━━━━━━━━━━━┩\n",
       "│ Time (\u001b[38;5;33mInputLayer\u001b[0m)   │ (\u001b[38;5;45mNone\u001b[0m, \u001b[38;5;34m1\u001b[0m)         │          \u001b[38;5;34m0\u001b[0m │ -                 │\n",
       "├─────────────────────┼───────────────────┼────────────┼───────────────────┤\n",
       "│ V1 (\u001b[38;5;33mInputLayer\u001b[0m)     │ (\u001b[38;5;45mNone\u001b[0m, \u001b[38;5;34m1\u001b[0m)         │          \u001b[38;5;34m0\u001b[0m │ -                 │\n",
       "├─────────────────────┼───────────────────┼────────────┼───────────────────┤\n",
       "│ V2 (\u001b[38;5;33mInputLayer\u001b[0m)     │ (\u001b[38;5;45mNone\u001b[0m, \u001b[38;5;34m1\u001b[0m)         │          \u001b[38;5;34m0\u001b[0m │ -                 │\n",
       "├─────────────────────┼───────────────────┼────────────┼───────────────────┤\n",
       "│ V3 (\u001b[38;5;33mInputLayer\u001b[0m)     │ (\u001b[38;5;45mNone\u001b[0m, \u001b[38;5;34m1\u001b[0m)         │          \u001b[38;5;34m0\u001b[0m │ -                 │\n",
       "├─────────────────────┼───────────────────┼────────────┼───────────────────┤\n",
       "│ V4 (\u001b[38;5;33mInputLayer\u001b[0m)     │ (\u001b[38;5;45mNone\u001b[0m, \u001b[38;5;34m1\u001b[0m)         │          \u001b[38;5;34m0\u001b[0m │ -                 │\n",
       "├─────────────────────┼───────────────────┼────────────┼───────────────────┤\n",
       "│ V5 (\u001b[38;5;33mInputLayer\u001b[0m)     │ (\u001b[38;5;45mNone\u001b[0m, \u001b[38;5;34m1\u001b[0m)         │          \u001b[38;5;34m0\u001b[0m │ -                 │\n",
       "├─────────────────────┼───────────────────┼────────────┼───────────────────┤\n",
       "│ V6 (\u001b[38;5;33mInputLayer\u001b[0m)     │ (\u001b[38;5;45mNone\u001b[0m, \u001b[38;5;34m1\u001b[0m)         │          \u001b[38;5;34m0\u001b[0m │ -                 │\n",
       "├─────────────────────┼───────────────────┼────────────┼───────────────────┤\n",
       "│ V7 (\u001b[38;5;33mInputLayer\u001b[0m)     │ (\u001b[38;5;45mNone\u001b[0m, \u001b[38;5;34m1\u001b[0m)         │          \u001b[38;5;34m0\u001b[0m │ -                 │\n",
       "├─────────────────────┼───────────────────┼────────────┼───────────────────┤\n",
       "│ V8 (\u001b[38;5;33mInputLayer\u001b[0m)     │ (\u001b[38;5;45mNone\u001b[0m, \u001b[38;5;34m1\u001b[0m)         │          \u001b[38;5;34m0\u001b[0m │ -                 │\n",
       "├─────────────────────┼───────────────────┼────────────┼───────────────────┤\n",
       "│ V9 (\u001b[38;5;33mInputLayer\u001b[0m)     │ (\u001b[38;5;45mNone\u001b[0m, \u001b[38;5;34m1\u001b[0m)         │          \u001b[38;5;34m0\u001b[0m │ -                 │\n",
       "├─────────────────────┼───────────────────┼────────────┼───────────────────┤\n",
       "│ V10 (\u001b[38;5;33mInputLayer\u001b[0m)    │ (\u001b[38;5;45mNone\u001b[0m, \u001b[38;5;34m1\u001b[0m)         │          \u001b[38;5;34m0\u001b[0m │ -                 │\n",
       "├─────────────────────┼───────────────────┼────────────┼───────────────────┤\n",
       "│ V11 (\u001b[38;5;33mInputLayer\u001b[0m)    │ (\u001b[38;5;45mNone\u001b[0m, \u001b[38;5;34m1\u001b[0m)         │          \u001b[38;5;34m0\u001b[0m │ -                 │\n",
       "├─────────────────────┼───────────────────┼────────────┼───────────────────┤\n",
       "│ V12 (\u001b[38;5;33mInputLayer\u001b[0m)    │ (\u001b[38;5;45mNone\u001b[0m, \u001b[38;5;34m1\u001b[0m)         │          \u001b[38;5;34m0\u001b[0m │ -                 │\n",
       "├─────────────────────┼───────────────────┼────────────┼───────────────────┤\n",
       "│ V13 (\u001b[38;5;33mInputLayer\u001b[0m)    │ (\u001b[38;5;45mNone\u001b[0m, \u001b[38;5;34m1\u001b[0m)         │          \u001b[38;5;34m0\u001b[0m │ -                 │\n",
       "├─────────────────────┼───────────────────┼────────────┼───────────────────┤\n",
       "│ V14 (\u001b[38;5;33mInputLayer\u001b[0m)    │ (\u001b[38;5;45mNone\u001b[0m, \u001b[38;5;34m1\u001b[0m)         │          \u001b[38;5;34m0\u001b[0m │ -                 │\n",
       "├─────────────────────┼───────────────────┼────────────┼───────────────────┤\n",
       "│ V15 (\u001b[38;5;33mInputLayer\u001b[0m)    │ (\u001b[38;5;45mNone\u001b[0m, \u001b[38;5;34m1\u001b[0m)         │          \u001b[38;5;34m0\u001b[0m │ -                 │\n",
       "├─────────────────────┼───────────────────┼────────────┼───────────────────┤\n",
       "│ V16 (\u001b[38;5;33mInputLayer\u001b[0m)    │ (\u001b[38;5;45mNone\u001b[0m, \u001b[38;5;34m1\u001b[0m)         │          \u001b[38;5;34m0\u001b[0m │ -                 │\n",
       "├─────────────────────┼───────────────────┼────────────┼───────────────────┤\n",
       "│ V17 (\u001b[38;5;33mInputLayer\u001b[0m)    │ (\u001b[38;5;45mNone\u001b[0m, \u001b[38;5;34m1\u001b[0m)         │          \u001b[38;5;34m0\u001b[0m │ -                 │\n",
       "├─────────────────────┼───────────────────┼────────────┼───────────────────┤\n",
       "│ V18 (\u001b[38;5;33mInputLayer\u001b[0m)    │ (\u001b[38;5;45mNone\u001b[0m, \u001b[38;5;34m1\u001b[0m)         │          \u001b[38;5;34m0\u001b[0m │ -                 │\n",
       "├─────────────────────┼───────────────────┼────────────┼───────────────────┤\n",
       "│ V19 (\u001b[38;5;33mInputLayer\u001b[0m)    │ (\u001b[38;5;45mNone\u001b[0m, \u001b[38;5;34m1\u001b[0m)         │          \u001b[38;5;34m0\u001b[0m │ -                 │\n",
       "├─────────────────────┼───────────────────┼────────────┼───────────────────┤\n",
       "│ V20 (\u001b[38;5;33mInputLayer\u001b[0m)    │ (\u001b[38;5;45mNone\u001b[0m, \u001b[38;5;34m1\u001b[0m)         │          \u001b[38;5;34m0\u001b[0m │ -                 │\n",
       "├─────────────────────┼───────────────────┼────────────┼───────────────────┤\n",
       "│ V21 (\u001b[38;5;33mInputLayer\u001b[0m)    │ (\u001b[38;5;45mNone\u001b[0m, \u001b[38;5;34m1\u001b[0m)         │          \u001b[38;5;34m0\u001b[0m │ -                 │\n",
       "├─────────────────────┼───────────────────┼────────────┼───────────────────┤\n",
       "│ V22 (\u001b[38;5;33mInputLayer\u001b[0m)    │ (\u001b[38;5;45mNone\u001b[0m, \u001b[38;5;34m1\u001b[0m)         │          \u001b[38;5;34m0\u001b[0m │ -                 │\n",
       "├─────────────────────┼───────────────────┼────────────┼───────────────────┤\n",
       "│ V23 (\u001b[38;5;33mInputLayer\u001b[0m)    │ (\u001b[38;5;45mNone\u001b[0m, \u001b[38;5;34m1\u001b[0m)         │          \u001b[38;5;34m0\u001b[0m │ -                 │\n",
       "├─────────────────────┼───────────────────┼────────────┼───────────────────┤\n",
       "│ V24 (\u001b[38;5;33mInputLayer\u001b[0m)    │ (\u001b[38;5;45mNone\u001b[0m, \u001b[38;5;34m1\u001b[0m)         │          \u001b[38;5;34m0\u001b[0m │ -                 │\n",
       "├─────────────────────┼───────────────────┼────────────┼───────────────────┤\n",
       "│ V25 (\u001b[38;5;33mInputLayer\u001b[0m)    │ (\u001b[38;5;45mNone\u001b[0m, \u001b[38;5;34m1\u001b[0m)         │          \u001b[38;5;34m0\u001b[0m │ -                 │\n",
       "├─────────────────────┼───────────────────┼────────────┼───────────────────┤\n",
       "│ V26 (\u001b[38;5;33mInputLayer\u001b[0m)    │ (\u001b[38;5;45mNone\u001b[0m, \u001b[38;5;34m1\u001b[0m)         │          \u001b[38;5;34m0\u001b[0m │ -                 │\n",
       "├─────────────────────┼───────────────────┼────────────┼───────────────────┤\n",
       "│ V27 (\u001b[38;5;33mInputLayer\u001b[0m)    │ (\u001b[38;5;45mNone\u001b[0m, \u001b[38;5;34m1\u001b[0m)         │          \u001b[38;5;34m0\u001b[0m │ -                 │\n",
       "├─────────────────────┼───────────────────┼────────────┼───────────────────┤\n",
       "│ V28 (\u001b[38;5;33mInputLayer\u001b[0m)    │ (\u001b[38;5;45mNone\u001b[0m, \u001b[38;5;34m1\u001b[0m)         │          \u001b[38;5;34m0\u001b[0m │ -                 │\n",
       "├─────────────────────┼───────────────────┼────────────┼───────────────────┤\n",
       "│ Amount (\u001b[38;5;33mInputLayer\u001b[0m) │ (\u001b[38;5;45mNone\u001b[0m, \u001b[38;5;34m1\u001b[0m)         │          \u001b[38;5;34m0\u001b[0m │ -                 │\n",
       "├─────────────────────┼───────────────────┼────────────┼───────────────────┤\n",
       "│ concatenate         │ (\u001b[38;5;45mNone\u001b[0m, \u001b[38;5;34m30\u001b[0m)        │          \u001b[38;5;34m0\u001b[0m │ Time[\u001b[38;5;34m0\u001b[0m][\u001b[38;5;34m0\u001b[0m],       │\n",
       "│ (\u001b[38;5;33mConcatenate\u001b[0m)       │                   │            │ V1[\u001b[38;5;34m0\u001b[0m][\u001b[38;5;34m0\u001b[0m],         │\n",
       "│                     │                   │            │ V2[\u001b[38;5;34m0\u001b[0m][\u001b[38;5;34m0\u001b[0m],         │\n",
       "│                     │                   │            │ V3[\u001b[38;5;34m0\u001b[0m][\u001b[38;5;34m0\u001b[0m],         │\n",
       "│                     │                   │            │ V4[\u001b[38;5;34m0\u001b[0m][\u001b[38;5;34m0\u001b[0m],         │\n",
       "│                     │                   │            │ V5[\u001b[38;5;34m0\u001b[0m][\u001b[38;5;34m0\u001b[0m],         │\n",
       "│                     │                   │            │ V6[\u001b[38;5;34m0\u001b[0m][\u001b[38;5;34m0\u001b[0m],         │\n",
       "│                     │                   │            │ V7[\u001b[38;5;34m0\u001b[0m][\u001b[38;5;34m0\u001b[0m],         │\n",
       "│                     │                   │            │ V8[\u001b[38;5;34m0\u001b[0m][\u001b[38;5;34m0\u001b[0m],         │\n",
       "│                     │                   │            │ V9[\u001b[38;5;34m0\u001b[0m][\u001b[38;5;34m0\u001b[0m],         │\n",
       "│                     │                   │            │ V10[\u001b[38;5;34m0\u001b[0m][\u001b[38;5;34m0\u001b[0m],        │\n",
       "│                     │                   │            │ V11[\u001b[38;5;34m0\u001b[0m][\u001b[38;5;34m0\u001b[0m],        │\n",
       "│                     │                   │            │ V12[\u001b[38;5;34m0\u001b[0m][\u001b[38;5;34m0\u001b[0m],        │\n",
       "│                     │                   │            │ V13[\u001b[38;5;34m0\u001b[0m][\u001b[38;5;34m0\u001b[0m],        │\n",
       "│                     │                   │            │ V14[\u001b[38;5;34m0\u001b[0m][\u001b[38;5;34m0\u001b[0m],        │\n",
       "│                     │                   │            │ V15[\u001b[38;5;34m0\u001b[0m][\u001b[38;5;34m0\u001b[0m],        │\n",
       "│                     │                   │            │ V16[\u001b[38;5;34m0\u001b[0m][\u001b[38;5;34m0\u001b[0m],        │\n",
       "│                     │                   │            │ V17[\u001b[38;5;34m0\u001b[0m][\u001b[38;5;34m0\u001b[0m],        │\n",
       "│                     │                   │            │ V18[\u001b[38;5;34m0\u001b[0m][\u001b[38;5;34m0\u001b[0m],        │\n",
       "│                     │                   │            │ V19[\u001b[38;5;34m0\u001b[0m][\u001b[38;5;34m0\u001b[0m],        │\n",
       "│                     │                   │            │ V20[\u001b[38;5;34m0\u001b[0m][\u001b[38;5;34m0\u001b[0m],        │\n",
       "│                     │                   │            │ V21[\u001b[38;5;34m0\u001b[0m][\u001b[38;5;34m0\u001b[0m],        │\n",
       "│                     │                   │            │ V22[\u001b[38;5;34m0\u001b[0m][\u001b[38;5;34m0\u001b[0m],        │\n",
       "│                     │                   │            │ V23[\u001b[38;5;34m0\u001b[0m][\u001b[38;5;34m0\u001b[0m],        │\n",
       "│                     │                   │            │ V24[\u001b[38;5;34m0\u001b[0m][\u001b[38;5;34m0\u001b[0m],        │\n",
       "│                     │                   │            │ V25[\u001b[38;5;34m0\u001b[0m][\u001b[38;5;34m0\u001b[0m],        │\n",
       "│                     │                   │            │ V26[\u001b[38;5;34m0\u001b[0m][\u001b[38;5;34m0\u001b[0m],        │\n",
       "│                     │                   │            │ V27[\u001b[38;5;34m0\u001b[0m][\u001b[38;5;34m0\u001b[0m],        │\n",
       "│                     │                   │            │ V28[\u001b[38;5;34m0\u001b[0m][\u001b[38;5;34m0\u001b[0m],        │\n",
       "│                     │                   │            │ Amount[\u001b[38;5;34m0\u001b[0m][\u001b[38;5;34m0\u001b[0m]      │\n",
       "├─────────────────────┼───────────────────┼────────────┼───────────────────┤\n",
       "│ stacked_autoencoder │ (\u001b[38;5;45mNone\u001b[0m, \u001b[38;5;34m30\u001b[0m)        │      \u001b[38;5;34m1,423\u001b[0m │ concatenate[\u001b[38;5;34m0\u001b[0m][\u001b[38;5;34m0\u001b[0m] │\n",
       "│ (\u001b[38;5;33mSequential\u001b[0m)        │                   │            │                   │\n",
       "├─────────────────────┼───────────────────┼────────────┼───────────────────┤\n",
       "│    └ normalization  │ (\u001b[38;5;34m3\u001b[0m, \u001b[38;5;34m30\u001b[0m)           │         \u001b[38;5;34m61\u001b[0m │ -                 │\n",
       "│ (\u001b[38;5;33mNormalization\u001b[0m)     │                   │            │                   │\n",
       "├─────────────────────┼───────────────────┼────────────┼───────────────────┤\n",
       "│    └ autoencoder    │ (\u001b[38;5;34m3\u001b[0m, \u001b[38;5;34m30\u001b[0m)           │      \u001b[38;5;34m1,362\u001b[0m │ -                 │\n",
       "│ (\u001b[38;5;33mFunctional\u001b[0m)        │                   │            │                   │\n",
       "├─────────────────────┼───────────────────┼────────────┼───────────────────┤\n",
       "│       └             │ (\u001b[38;5;45mNone\u001b[0m, \u001b[38;5;34m30\u001b[0m)        │          \u001b[38;5;34m0\u001b[0m │ -                 │\n",
       "│ autoencoder_input   │                   │            │                   │\n",
       "│ (\u001b[38;5;33mInputLayer\u001b[0m)        │                   │            │                   │\n",
       "├─────────────────────┼───────────────────┼────────────┼───────────────────┤\n",
       "│       └ enc_dense1  │ (\u001b[38;5;45mNone\u001b[0m, \u001b[38;5;34m16\u001b[0m)        │        \u001b[38;5;34m496\u001b[0m │ -                 │\n",
       "│ (\u001b[38;5;33mDense\u001b[0m)             │                   │            │                   │\n",
       "├─────────────────────┼───────────────────┼────────────┼───────────────────┤\n",
       "│       └             │ (\u001b[38;5;45mNone\u001b[0m, \u001b[38;5;34m16\u001b[0m)        │          \u001b[38;5;34m0\u001b[0m │ -                 │\n",
       "│ enc_dropout1        │                   │            │                   │\n",
       "│ (\u001b[38;5;33mDropout\u001b[0m)           │                   │            │                   │\n",
       "├─────────────────────┼───────────────────┼────────────┼───────────────────┤\n",
       "│       └ enc_dense2  │ (\u001b[38;5;45mNone\u001b[0m, \u001b[38;5;34m8\u001b[0m)         │        \u001b[38;5;34m136\u001b[0m │ -                 │\n",
       "│ (\u001b[38;5;33mDense\u001b[0m)             │                   │            │                   │\n",
       "├─────────────────────┼───────────────────┼────────────┼───────────────────┤\n",
       "│       └             │ (\u001b[38;5;45mNone\u001b[0m, \u001b[38;5;34m8\u001b[0m)         │          \u001b[38;5;34m0\u001b[0m │ -                 │\n",
       "│ enc_dropout2        │                   │            │                   │\n",
       "│ (\u001b[38;5;33mDropout\u001b[0m)           │                   │            │                   │\n",
       "├─────────────────────┼───────────────────┼────────────┼───────────────────┤\n",
       "│       └ latent      │ (\u001b[38;5;45mNone\u001b[0m, \u001b[38;5;34m4\u001b[0m)         │         \u001b[38;5;34m36\u001b[0m │ -                 │\n",
       "│ (\u001b[38;5;33mDense\u001b[0m)             │                   │            │                   │\n",
       "├─────────────────────┼───────────────────┼────────────┼───────────────────┤\n",
       "│       └ dec_dense1  │ (\u001b[38;5;45mNone\u001b[0m, \u001b[38;5;34m8\u001b[0m)         │         \u001b[38;5;34m40\u001b[0m │ -                 │\n",
       "│ (\u001b[38;5;33mDense\u001b[0m)             │                   │            │                   │\n",
       "├─────────────────────┼───────────────────┼────────────┼───────────────────┤\n",
       "│       └             │ (\u001b[38;5;45mNone\u001b[0m, \u001b[38;5;34m8\u001b[0m)         │          \u001b[38;5;34m0\u001b[0m │ -                 │\n",
       "│ dec_dropout1        │                   │            │                   │\n",
       "│ (\u001b[38;5;33mDropout\u001b[0m)           │                   │            │                   │\n",
       "├─────────────────────┼───────────────────┼────────────┼───────────────────┤\n",
       "│       └ dec_dense2  │ (\u001b[38;5;45mNone\u001b[0m, \u001b[38;5;34m16\u001b[0m)        │        \u001b[38;5;34m144\u001b[0m │ -                 │\n",
       "│ (\u001b[38;5;33mDense\u001b[0m)             │                   │            │                   │\n",
       "├─────────────────────┼───────────────────┼────────────┼───────────────────┤\n",
       "│       └             │ (\u001b[38;5;45mNone\u001b[0m, \u001b[38;5;34m16\u001b[0m)        │          \u001b[38;5;34m0\u001b[0m │ -                 │\n",
       "│ dec_dropout2        │                   │            │                   │\n",
       "│ (\u001b[38;5;33mDropout\u001b[0m)           │                   │            │                   │\n",
       "├─────────────────────┼───────────────────┼────────────┼───────────────────┤\n",
       "│       └             │ (\u001b[38;5;45mNone\u001b[0m, \u001b[38;5;34m30\u001b[0m)        │        \u001b[38;5;34m510\u001b[0m │ -                 │\n",
       "│ reconstructed       │                   │            │                   │\n",
       "│ (\u001b[38;5;33mDense\u001b[0m)             │                   │            │                   │\n",
       "├─────────────────────┼───────────────────┼────────────┼───────────────────┤\n",
       "│    └ denormalize    │ (\u001b[38;5;34m3\u001b[0m, \u001b[38;5;34m30\u001b[0m)           │          \u001b[38;5;34m0\u001b[0m │ -                 │\n",
       "│ (\u001b[38;5;33mNormalization\u001b[0m)     │                   │            │                   │\n",
       "└─────────────────────┴───────────────────┴────────────┴───────────────────┘\n"
      ]
     },
     "metadata": {},
     "output_type": "display_data"
    },
    {
     "data": {
      "text/html": [
       "<pre style=\"white-space:pre;overflow-x:auto;line-height:normal;font-family:Menlo,'DejaVu Sans Mono',consolas,'Courier New',monospace\"><span style=\"font-weight: bold\"> Total params: </span><span style=\"color: #00af00; text-decoration-color: #00af00\">1,423</span> (5.56 KB)\n",
       "</pre>\n"
      ],
      "text/plain": [
       "\u001b[1m Total params: \u001b[0m\u001b[38;5;34m1,423\u001b[0m (5.56 KB)\n"
      ]
     },
     "metadata": {},
     "output_type": "display_data"
    },
    {
     "data": {
      "text/html": [
       "<pre style=\"white-space:pre;overflow-x:auto;line-height:normal;font-family:Menlo,'DejaVu Sans Mono',consolas,'Courier New',monospace\"><span style=\"font-weight: bold\"> Trainable params: </span><span style=\"color: #00af00; text-decoration-color: #00af00\">1,362</span> (5.32 KB)\n",
       "</pre>\n"
      ],
      "text/plain": [
       "\u001b[1m Trainable params: \u001b[0m\u001b[38;5;34m1,362\u001b[0m (5.32 KB)\n"
      ]
     },
     "metadata": {},
     "output_type": "display_data"
    },
    {
     "data": {
      "text/html": [
       "<pre style=\"white-space:pre;overflow-x:auto;line-height:normal;font-family:Menlo,'DejaVu Sans Mono',consolas,'Courier New',monospace\"><span style=\"font-weight: bold\"> Non-trainable params: </span><span style=\"color: #00af00; text-decoration-color: #00af00\">61</span> (244.00 B)\n",
       "</pre>\n"
      ],
      "text/plain": [
       "\u001b[1m Non-trainable params: \u001b[0m\u001b[38;5;34m61\u001b[0m (244.00 B)\n"
      ]
     },
     "metadata": {},
     "output_type": "display_data"
    }
   ],
   "source": [
    "ordered_model.summary(expand_nested = True)"
   ]
  },
  {
   "cell_type": "markdown",
   "id": "a3f35bcb-39ab-4b20-9906-b523f93a4bc4",
   "metadata": {},
   "source": [
    "### Adding Detailed Outputs"
   ]
  },
  {
   "cell_type": "code",
   "execution_count": 81,
   "id": "93cbf4d2-dc58-497e-a7fb-d57a396881ad",
   "metadata": {
    "tags": []
   },
   "outputs": [],
   "source": [
    "class NormalizedMetricsLayer(keras.layers.Layer):\n",
    "    def __init__(self, normalizer, name='normalized_metrics'):\n",
    "        super(NormalizedMetricsLayer, self).__init__(name=name)\n",
    "        self.normalizer = normalizer\n",
    "        self.mae = keras.metrics.MeanAbsoluteError()\n",
    "        self.rmse = keras.metrics.RootMeanSquaredError()\n",
    "        self.mse = keras.metrics.MeanSquaredError()\n",
    "        self.msle = keras.metrics.MeanSquaredLogarithmicError()\n",
    "\n",
    "    def call(self, inputs, targets):\n",
    "        normalized_inputs = self.normalizer(inputs)\n",
    "        self.mae.update_state(normalized_inputs, targets)\n",
    "        self.rmse.update_state(normalized_inputs, targets)\n",
    "        self.mse.update_state(normalized_inputs, targets)\n",
    "        self.msle.update_state(normalized_inputs, targets)\n",
    "\n",
    "        return {\n",
    "            'MAE': self.mae.result(),\n",
    "            'RMSE': self.rmse.result(),\n",
    "            'MSE': self.mse.result(),\n",
    "            'MSLE': self.msle.result()\n",
    "        }"
   ]
  },
  {
   "cell_type": "code",
   "execution_count": 82,
   "id": "ab9f0218-af62-4aa3-b498-17196c0fb45e",
   "metadata": {
    "tags": []
   },
   "outputs": [],
   "source": [
    "class DenormalizedOutputsLayer(keras.layers.Layer):\n",
    "    def __init__(self, denormalizer, name='denormalized_outputs'):\n",
    "        super(DenormalizedOutputsLayer, self).__init__(name=name)\n",
    "        self.denormalizer = denormalizer\n",
    "\n",
    "    def call(self, inputs, targets):\n",
    "        denormalized_inputs = self.denormalizer(inputs)\n",
    "        denormalized_targets = self.denormalizer(targets)\n",
    "        errors = denormalized_inputs - denormalized_targets\n",
    "\n",
    "        return {\n",
    "            'reconstruction': denormalized_targets,\n",
    "            'reconstruction_errors': errors\n",
    "        }"
   ]
  },
  {
   "cell_type": "code",
   "execution_count": 83,
   "id": "3370950d-dbb7-44b1-8238-0e68ae184791",
   "metadata": {
    "tags": []
   },
   "outputs": [],
   "source": [
    "# Create Ordered Input Layers\n",
    "input_dict = OrderedDict()\n",
    "for key in var_numeric:\n",
    "    input_dict[key] = keras.layers.Input(shape=(1,), name=key)\n",
    "\n",
    "# Concatenate Inputs\n",
    "concatenated_inputs = keras.layers.Concatenate(axis=-1)(list(input_dict.values()))\n",
    "\n",
    "# Get the normalized predictions from the stacked autoencoder\n",
    "normalized_predictions = stacked_model(concatenated_inputs)\n",
    "\n",
    "# Calculate normalized metrics\n",
    "normalized_metrics = NormalizedMetricsLayer(normalizer)(concatenated_inputs, normalized_predictions)\n",
    "\n",
    "# Calculate denormalized outputs\n",
    "denormalized_outputs = DenormalizedOutputsLayer(denormalizer)(concatenated_inputs, normalized_predictions)\n",
    "\n",
    "# Create the final model\n",
    "final_model = keras.Model(\n",
    "    inputs=input_dict,\n",
    "    outputs={\n",
    "        'normalized': {\n",
    "            'reconstruction': normalized_predictions,\n",
    "            'reconstruction_errors': concatenated_inputs - normalized_predictions,\n",
    "            'metrics': normalized_metrics\n",
    "        },\n",
    "        'denormalized': denormalized_outputs\n",
    "    },\n",
    "    name='final_model'\n",
    ")"
   ]
  },
  {
   "cell_type": "code",
   "execution_count": 90,
   "id": "eb7abf64-121c-49fd-ae0d-78e996ddc520",
   "metadata": {
    "tags": []
   },
   "outputs": [],
   "source": [
    "test_dataset = test_read \\\n",
    "    .map(prep_batch_dict) \\\n",
    "    .batch(3) \\\n",
    "    .prefetch(tf.data.AUTOTUNE)"
   ]
  },
  {
   "cell_type": "code",
   "execution_count": 91,
   "id": "47dd1a91-e932-4fe2-b3e5-ae9a35da2d55",
   "metadata": {
    "tags": []
   },
   "outputs": [],
   "source": [
    "test_instance = next(iter(test_dataset.take(1)))"
   ]
  },
  {
   "cell_type": "code",
   "execution_count": 92,
   "id": "703530c1-b00f-4917-85de-675cb8b708b1",
   "metadata": {
    "tags": []
   },
   "outputs": [
    {
     "name": "stdout",
     "output_type": "stream",
     "text": [
      "\u001b[1m1/1\u001b[0m \u001b[32m━━━━━━━━━━━━━━━━━━━━\u001b[0m\u001b[37m\u001b[0m \u001b[1m0s\u001b[0m 14ms/step\n"
     ]
    },
    {
     "ename": "ValueError",
     "evalue": "zero-dimensional arrays cannot be concatenated",
     "output_type": "error",
     "traceback": [
      "\u001b[0;31m---------------------------------------------------------------------------\u001b[0m",
      "\u001b[0;31mValueError\u001b[0m                                Traceback (most recent call last)",
      "Cell \u001b[0;32mIn[92], line 1\u001b[0m\n\u001b[0;32m----> 1\u001b[0m predictions \u001b[38;5;241m=\u001b[39m \u001b[43mfinal_model\u001b[49m\u001b[38;5;241;43m.\u001b[39;49m\u001b[43mpredict\u001b[49m\u001b[43m(\u001b[49m\u001b[43mtest_instance\u001b[49m\u001b[43m)\u001b[49m\n",
      "File \u001b[0;32m~/.local/lib/python3.10/site-packages/keras/src/utils/traceback_utils.py:122\u001b[0m, in \u001b[0;36mfilter_traceback.<locals>.error_handler\u001b[0;34m(*args, **kwargs)\u001b[0m\n\u001b[1;32m    119\u001b[0m     filtered_tb \u001b[38;5;241m=\u001b[39m _process_traceback_frames(e\u001b[38;5;241m.\u001b[39m__traceback__)\n\u001b[1;32m    120\u001b[0m     \u001b[38;5;66;03m# To get the full stack trace, call:\u001b[39;00m\n\u001b[1;32m    121\u001b[0m     \u001b[38;5;66;03m# `keras.config.disable_traceback_filtering()`\u001b[39;00m\n\u001b[0;32m--> 122\u001b[0m     \u001b[38;5;28;01mraise\u001b[39;00m e\u001b[38;5;241m.\u001b[39mwith_traceback(filtered_tb) \u001b[38;5;28;01mfrom\u001b[39;00m \u001b[38;5;28;01mNone\u001b[39;00m\n\u001b[1;32m    123\u001b[0m \u001b[38;5;28;01mfinally\u001b[39;00m:\n\u001b[1;32m    124\u001b[0m     \u001b[38;5;28;01mdel\u001b[39;00m filtered_tb\n",
      "File \u001b[0;32m~/.local/lib/python3.10/site-packages/keras/src/tree/optree_impl.py:87\u001b[0m, in \u001b[0;36mmap_structure_up_to.<locals>.<lambda>\u001b[0;34m(_, *args)\u001b[0m\n\u001b[1;32m     84\u001b[0m \u001b[38;5;28;01mdef\u001b[39;00m \u001b[38;5;21mmap_structure_up_to\u001b[39m(shallow_structure, func, \u001b[38;5;241m*\u001b[39mstructures):\n\u001b[1;32m     85\u001b[0m     \u001b[38;5;28;01mreturn\u001b[39;00m _map_structure_with_path_up_to(\n\u001b[1;32m     86\u001b[0m         shallow_structure,\n\u001b[0;32m---> 87\u001b[0m         \u001b[38;5;28;01mlambda\u001b[39;00m _, \u001b[38;5;241m*\u001b[39margs: \u001b[43mfunc\u001b[49m\u001b[43m(\u001b[49m\u001b[38;5;241;43m*\u001b[39;49m\u001b[43margs\u001b[49m\u001b[43m)\u001b[49m,  \u001b[38;5;66;03m# Discards path.\u001b[39;00m\n\u001b[1;32m     88\u001b[0m         \u001b[38;5;241m*\u001b[39mstructures,\n\u001b[1;32m     89\u001b[0m     )\n",
      "\u001b[0;31mValueError\u001b[0m: zero-dimensional arrays cannot be concatenated"
     ]
    }
   ],
   "source": [
    "predictions = final_model.predict(test_instance)"
   ]
  },
  {
   "cell_type": "code",
   "execution_count": 88,
   "id": "29890d19-3f50-45bf-811b-a06ae9803297",
   "metadata": {
    "tags": []
   },
   "outputs": [],
   "source": [
    "test_instance = next(iter(test_read.map(prep_batch_dict).batch(3).take(1)))"
   ]
  },
  {
   "cell_type": "code",
   "execution_count": null,
   "id": "7e2c43a5-47d6-40c9-b902-24fec5f6c754",
   "metadata": {},
   "outputs": [],
   "source": []
  },
  {
   "cell_type": "code",
   "execution_count": null,
   "id": "e289fcee-9567-4598-93cd-b5a1932c0ca2",
   "metadata": {},
   "outputs": [],
   "source": []
  },
  {
   "cell_type": "code",
   "execution_count": null,
   "id": "3577462b-1360-407c-9209-e5e3e67e5787",
   "metadata": {},
   "outputs": [],
   "source": []
  },
  {
   "cell_type": "code",
   "execution_count": null,
   "id": "8c3d3d50-86f9-4d2a-af7c-23c4cc231ab9",
   "metadata": {},
   "outputs": [],
   "source": []
  },
  {
   "cell_type": "markdown",
   "id": "ad812716-30d4-4111-bbf1-8677e228aea5",
   "metadata": {},
   "source": [
    "## Model Saving And Serving\n",
    "\n",
    "At serving use the models input signature to define a prep_batch_dict function with the correct ordered dictionary."
   ]
  },
  {
   "cell_type": "code",
   "execution_count": null,
   "id": "2fa7d930-3036-4481-86f1-b046064ba1f3",
   "metadata": {},
   "outputs": [],
   "source": []
  },
  {
   "cell_type": "code",
   "execution_count": null,
   "id": "7de0b091-359c-4598-8730-3bbc7e7b988c",
   "metadata": {},
   "outputs": [],
   "source": []
  },
  {
   "cell_type": "code",
   "execution_count": null,
   "id": "e9dfef11-65b4-4969-8681-c2ae250c25f9",
   "metadata": {},
   "outputs": [],
   "source": []
  },
  {
   "cell_type": "markdown",
   "id": "ed31d403-502f-4b4c-9244-bbd93ef64aad",
   "metadata": {},
   "source": [
    "---\n",
    "## WIP"
   ]
  },
  {
   "cell_type": "markdown",
   "id": "ddc8f7d2-b912-44bf-9534-7198c1e27b54",
   "metadata": {
    "tags": []
   },
   "source": [
    "---\n",
    "Customizing the outputs:\n",
    "    - reconstructed values: normalized, denormalized\n",
    "    - errors in reconstructed values: normalized, denormalized\n",
    "    - embedding layer\n",
    "    - error metrics: MAE, MSE, RMSE    "
   ]
  },
  {
   "cell_type": "code",
   "execution_count": 63,
   "id": "7a246787-98cd-4010-9de8-c95a0b4c7a60",
   "metadata": {
    "tags": []
   },
   "outputs": [],
   "source": [
    "# Get encoder output\n",
    "encoder_output = autoencoder.get_layer('enc_dense3').output"
   ]
  },
  {
   "cell_type": "code",
   "execution_count": 66,
   "id": "678055dc-a549-4360-9e27-7ab91ecc63a8",
   "metadata": {
    "tags": []
   },
   "outputs": [],
   "source": [
    "# L2 normalize the embedding using Lambda layer with output_shape\n",
    "normalized_embedding = keras.layers.Lambda(\n",
    "    lambda x: x / tf.sqrt(tf.reduce_sum(tf.square(x), axis=-1, keepdims=True)),\n",
    "    output_shape=lambda input_shape: input_shape\n",
    ")(encoder_output)"
   ]
  },
  {
   "cell_type": "code",
   "execution_count": 67,
   "id": "89f03ee1-7b02-4485-a4d9-9489e017f6fd",
   "metadata": {
    "tags": []
   },
   "outputs": [],
   "source": [
    "# Connect the concatenated inputs to the stacked model\n",
    "denormalized_output = stacked_model(concatenated_inputs)"
   ]
  },
  {
   "cell_type": "code",
   "execution_count": 70,
   "id": "764b208c-c408-45fb-9e11-8a4640e26a5b",
   "metadata": {
    "tags": []
   },
   "outputs": [],
   "source": [
    "# Create outputs for the model\n",
    "normalized_reconstruction = autoencoder(concatenated_inputs)\n",
    "denormalized_reconstruction = denormalized_output\n",
    "# Calculate reconstruction errors using Lambda layers and TensorFlow operations\n",
    "normalized_reconstruction_error = keras.layers.Lambda(\n",
    "    lambda x: tf.abs(x[0] - x[1]),\n",
    "    output_shape=lambda input_shape: input_shape[0]\n",
    ")([concatenated_inputs, normalized_reconstruction])\n",
    "denormalized_reconstruction_error = keras.layers.Lambda(\n",
    "    lambda x: tf.abs(x[0] - x[1]),\n",
    "    output_shape=lambda input_shape: input_shape[0]\n",
    ")([denormalizer(concatenated_inputs), denormalized_reconstruction])"
   ]
  },
  {
   "cell_type": "code",
   "execution_count": 71,
   "id": "7e1756e2-eb12-4f0f-9cd5-435ee5a0c9c0",
   "metadata": {
    "tags": []
   },
   "outputs": [],
   "source": [
    "# Create the final model with structured output\n",
    "final_model = keras.Model(\n",
    "    inputs=input_dict,\n",
    "    outputs={\n",
    "        'reconstruction': {\n",
    "            'normalized': normalized_reconstruction,\n",
    "            'denormalized': denormalized_reconstruction,\n",
    "        },\n",
    "        'reconstruction_errors': {\n",
    "            'normalized': normalized_reconstruction_error,\n",
    "            'denormalized': denormalized_reconstruction_error,\n",
    "        },\n",
    "        'embedding': {\n",
    "            'encoding': encoder_output,\n",
    "            'normalized_encoding': normalized_embedding,\n",
    "        }\n",
    "    }\n",
    ")"
   ]
  },
  {
   "cell_type": "code",
   "execution_count": 72,
   "id": "2584145c-c7e1-4425-a5e6-d7316b884a07",
   "metadata": {
    "tags": []
   },
   "outputs": [],
   "source": [
    "test_instance = next(iter(test_read.map(prep_batch_dict).batch(3).take(1)))"
   ]
  },
  {
   "cell_type": "code",
   "execution_count": 73,
   "id": "4c046cc4-938d-426d-8a16-1975f83090bb",
   "metadata": {
    "tags": []
   },
   "outputs": [
    {
     "ename": "AttributeError",
     "evalue": "'str' object has no attribute '_error_repr'",
     "output_type": "error",
     "traceback": [
      "\u001b[0;31m---------------------------------------------------------------------------\u001b[0m",
      "\u001b[0;31mAttributeError\u001b[0m                            Traceback (most recent call last)",
      "Cell \u001b[0;32mIn[73], line 1\u001b[0m\n\u001b[0;32m----> 1\u001b[0m \u001b[43mfinal_model\u001b[49m\u001b[38;5;241;43m.\u001b[39;49m\u001b[43mpredict\u001b[49m\u001b[43m(\u001b[49m\u001b[43mtest_instance\u001b[49m\u001b[43m)\u001b[49m\n",
      "File \u001b[0;32m~/.local/lib/python3.10/site-packages/keras/src/utils/traceback_utils.py:122\u001b[0m, in \u001b[0;36mfilter_traceback.<locals>.error_handler\u001b[0;34m(*args, **kwargs)\u001b[0m\n\u001b[1;32m    119\u001b[0m     filtered_tb \u001b[38;5;241m=\u001b[39m _process_traceback_frames(e\u001b[38;5;241m.\u001b[39m__traceback__)\n\u001b[1;32m    120\u001b[0m     \u001b[38;5;66;03m# To get the full stack trace, call:\u001b[39;00m\n\u001b[1;32m    121\u001b[0m     \u001b[38;5;66;03m# `keras.config.disable_traceback_filtering()`\u001b[39;00m\n\u001b[0;32m--> 122\u001b[0m     \u001b[38;5;28;01mraise\u001b[39;00m e\u001b[38;5;241m.\u001b[39mwith_traceback(filtered_tb) \u001b[38;5;28;01mfrom\u001b[39;00m \u001b[38;5;28;01mNone\u001b[39;00m\n\u001b[1;32m    123\u001b[0m \u001b[38;5;28;01mfinally\u001b[39;00m:\n\u001b[1;32m    124\u001b[0m     \u001b[38;5;28;01mdel\u001b[39;00m filtered_tb\n",
      "    \u001b[0;31m[... skipping hidden 13 frame]\u001b[0m\n",
      "File \u001b[0;32m~/.local/lib/python3.10/site-packages/jax/_src/errors.py:314\u001b[0m, in \u001b[0;36mTracerArrayConversionError.__init__\u001b[0;34m(self, tracer)\u001b[0m\n\u001b[1;32m    311\u001b[0m \u001b[38;5;28;01mdef\u001b[39;00m \u001b[38;5;21m__init__\u001b[39m(\u001b[38;5;28mself\u001b[39m, tracer: core\u001b[38;5;241m.\u001b[39mTracer):\n\u001b[1;32m    312\u001b[0m   \u001b[38;5;28msuper\u001b[39m()\u001b[38;5;241m.\u001b[39m\u001b[38;5;21m__init__\u001b[39m(\n\u001b[1;32m    313\u001b[0m       \u001b[38;5;124m\"\u001b[39m\u001b[38;5;124mThe numpy.ndarray conversion method __array__() was called on \u001b[39m\u001b[38;5;124m\"\u001b[39m\n\u001b[0;32m--> 314\u001b[0m       \u001b[38;5;124mf\u001b[39m\u001b[38;5;124m\"\u001b[39m\u001b[38;5;132;01m{\u001b[39;00m\u001b[43mtracer\u001b[49m\u001b[38;5;241;43m.\u001b[39;49m\u001b[43m_error_repr\u001b[49m()\u001b[38;5;132;01m}\u001b[39;00m\u001b[38;5;132;01m{\u001b[39;00mtracer\u001b[38;5;241m.\u001b[39m_origin_msg()\u001b[38;5;132;01m}\u001b[39;00m\u001b[38;5;124m\"\u001b[39m)\n",
      "\u001b[0;31mAttributeError\u001b[0m: 'str' object has no attribute '_error_repr'"
     ]
    }
   ],
   "source": [
    "final_model.predict(test_instance)"
   ]
  },
  {
   "cell_type": "code",
   "execution_count": 75,
   "id": "7cd78209-e806-49ed-be11-8ac91fe6610a",
   "metadata": {
    "tags": []
   },
   "outputs": [
    {
     "ename": "TypeError",
     "evalue": "'NoneType' object is not callable",
     "output_type": "error",
     "traceback": [
      "\u001b[0;31m---------------------------------------------------------------------------\u001b[0m",
      "\u001b[0;31mTypeError\u001b[0m                                 Traceback (most recent call last)",
      "Cell \u001b[0;32mIn[75], line 9\u001b[0m\n\u001b[1;32m      6\u001b[0m test_instance_dict \u001b[38;5;241m=\u001b[39m test_batch\n\u001b[1;32m      8\u001b[0m \u001b[38;5;66;03m# 2. Perform Prediction\u001b[39;00m\n\u001b[0;32m----> 9\u001b[0m predictions \u001b[38;5;241m=\u001b[39m \u001b[43mfinal_model\u001b[49m\u001b[38;5;241;43m.\u001b[39;49m\u001b[43mpredict\u001b[49m\u001b[43m(\u001b[49m\u001b[43mtest_instance_dict\u001b[49m\u001b[43m)\u001b[49m\n",
      "File \u001b[0;32m~/.local/lib/python3.10/site-packages/keras/src/utils/traceback_utils.py:122\u001b[0m, in \u001b[0;36mfilter_traceback.<locals>.error_handler\u001b[0;34m(*args, **kwargs)\u001b[0m\n\u001b[1;32m    119\u001b[0m     filtered_tb \u001b[38;5;241m=\u001b[39m _process_traceback_frames(e\u001b[38;5;241m.\u001b[39m__traceback__)\n\u001b[1;32m    120\u001b[0m     \u001b[38;5;66;03m# To get the full stack trace, call:\u001b[39;00m\n\u001b[1;32m    121\u001b[0m     \u001b[38;5;66;03m# `keras.config.disable_traceback_filtering()`\u001b[39;00m\n\u001b[0;32m--> 122\u001b[0m     \u001b[38;5;28;01mraise\u001b[39;00m e\u001b[38;5;241m.\u001b[39mwith_traceback(filtered_tb) \u001b[38;5;28;01mfrom\u001b[39;00m \u001b[38;5;28;01mNone\u001b[39;00m\n\u001b[1;32m    123\u001b[0m \u001b[38;5;28;01mfinally\u001b[39;00m:\n\u001b[1;32m    124\u001b[0m     \u001b[38;5;28;01mdel\u001b[39;00m filtered_tb\n",
      "File \u001b[0;32m~/.local/lib/python3.10/site-packages/keras/src/backend/common/variables.py:219\u001b[0m, in \u001b[0;36mKerasVariable.value\u001b[0;34m(self)\u001b[0m\n\u001b[1;32m    212\u001b[0m         \u001b[38;5;28;01mreturn\u001b[39;00m \u001b[38;5;28mself\u001b[39m\u001b[38;5;241m.\u001b[39m_maybe_autocast(value)\n\u001b[1;32m    213\u001b[0m \u001b[38;5;28;01mif\u001b[39;00m \u001b[38;5;28mself\u001b[39m\u001b[38;5;241m.\u001b[39m_value \u001b[38;5;129;01mis\u001b[39;00m \u001b[38;5;28;01mNone\u001b[39;00m:\n\u001b[1;32m    214\u001b[0m     \u001b[38;5;66;03m# Uninitialized variable. Return a placeholder.\u001b[39;00m\n\u001b[1;32m    215\u001b[0m     \u001b[38;5;66;03m# This is fine because it's only ever used\u001b[39;00m\n\u001b[1;32m    216\u001b[0m     \u001b[38;5;66;03m# in during shape inference / graph tracing\u001b[39;00m\n\u001b[1;32m    217\u001b[0m     \u001b[38;5;66;03m# (anything else would be a bug, to be fixed.)\u001b[39;00m\n\u001b[1;32m    218\u001b[0m     \u001b[38;5;28;01mreturn\u001b[39;00m \u001b[38;5;28mself\u001b[39m\u001b[38;5;241m.\u001b[39m_maybe_autocast(\n\u001b[0;32m--> 219\u001b[0m         \u001b[38;5;28;43mself\u001b[39;49m\u001b[38;5;241;43m.\u001b[39;49m\u001b[43m_initializer\u001b[49m\u001b[43m(\u001b[49m\u001b[38;5;28;43mself\u001b[39;49m\u001b[38;5;241;43m.\u001b[39;49m\u001b[43m_shape\u001b[49m\u001b[43m,\u001b[49m\u001b[43m \u001b[49m\u001b[43mdtype\u001b[49m\u001b[38;5;241;43m=\u001b[39;49m\u001b[38;5;28;43mself\u001b[39;49m\u001b[38;5;241;43m.\u001b[39;49m\u001b[43m_dtype\u001b[49m\u001b[43m)\u001b[49m\n\u001b[1;32m    220\u001b[0m     )\n\u001b[1;32m    221\u001b[0m \u001b[38;5;28;01mreturn\u001b[39;00m \u001b[38;5;28mself\u001b[39m\u001b[38;5;241m.\u001b[39m_maybe_autocast(\u001b[38;5;28mself\u001b[39m\u001b[38;5;241m.\u001b[39m_value)\n",
      "\u001b[0;31mTypeError\u001b[0m: 'NoneType' object is not callable"
     ]
    }
   ],
   "source": [
    "# 1. Prepare a Single Batch with Correct Structure\n",
    "test_read_dict = test_read.map(prep_batch_dict)\n",
    "test_batch = next(iter(test_read_dict.batch(3)))  # No need for .take(1)\n",
    "\n",
    "# Access the dictionary (first element of the tuple)\n",
    "test_instance_dict = test_batch\n",
    "\n",
    "# 2. Perform Prediction\n",
    "predictions = final_model.predict(test_instance_dict)"
   ]
  },
  {
   "cell_type": "code",
   "execution_count": null,
   "id": "c512fee2-66d6-4a10-a9f0-be25573709ff",
   "metadata": {},
   "outputs": [],
   "source": []
  },
  {
   "cell_type": "code",
   "execution_count": null,
   "id": "c0dc61c3-a1cf-411d-8c90-edadc4e8477a",
   "metadata": {},
   "outputs": [],
   "source": []
  },
  {
   "cell_type": "code",
   "execution_count": null,
   "id": "a3547146-e40f-4bff-8d7e-4d7fe062479f",
   "metadata": {},
   "outputs": [],
   "source": []
  },
  {
   "cell_type": "code",
   "execution_count": null,
   "id": "5c003857-c6c5-4cc5-a66b-05ee594639d1",
   "metadata": {},
   "outputs": [],
   "source": []
  },
  {
   "cell_type": "code",
   "execution_count": null,
   "id": "17a95719-514b-412a-bc5b-345853411caa",
   "metadata": {},
   "outputs": [],
   "source": []
  },
  {
   "cell_type": "code",
   "execution_count": null,
   "id": "df39d87e-68b7-439d-a994-db904b60c348",
   "metadata": {},
   "outputs": [],
   "source": []
  },
  {
   "cell_type": "code",
   "execution_count": null,
   "id": "6b380f70-7250-49a4-9fa0-58362e6ae0db",
   "metadata": {},
   "outputs": [],
   "source": []
  },
  {
   "cell_type": "code",
   "execution_count": null,
   "id": "709267ee-61bb-4b63-9eef-ad7be96b77e1",
   "metadata": {},
   "outputs": [],
   "source": []
  },
  {
   "cell_type": "code",
   "execution_count": null,
   "id": "b4abde4e-8353-425e-a103-683f0c16824f",
   "metadata": {},
   "outputs": [],
   "source": []
  },
  {
   "cell_type": "code",
   "execution_count": null,
   "id": "c627f580-e96e-4e65-8b6a-b543b1e8d25e",
   "metadata": {},
   "outputs": [],
   "source": []
  },
  {
   "cell_type": "code",
   "execution_count": null,
   "id": "62909e60-818c-4569-b628-6472edc9cecc",
   "metadata": {},
   "outputs": [],
   "source": []
  },
  {
   "cell_type": "code",
   "execution_count": null,
   "id": "b0e5a3ae-64c4-4857-8509-27a89a2d4032",
   "metadata": {},
   "outputs": [],
   "source": []
  },
  {
   "cell_type": "code",
   "execution_count": null,
   "id": "89656a10-6a08-44a9-894c-ab9d52e747b7",
   "metadata": {},
   "outputs": [],
   "source": []
  },
  {
   "cell_type": "code",
   "execution_count": null,
   "id": "d7debbda-04f7-4f59-903b-05f8cffe2c8a",
   "metadata": {},
   "outputs": [],
   "source": []
  },
  {
   "cell_type": "code",
   "execution_count": null,
   "id": "94d972f3-b262-4024-80c2-c3a6bc150c3e",
   "metadata": {},
   "outputs": [],
   "source": []
  },
  {
   "cell_type": "code",
   "execution_count": null,
   "id": "5dbda031-6d29-4a1b-a64e-47057ed1d4b8",
   "metadata": {},
   "outputs": [],
   "source": []
  },
  {
   "cell_type": "code",
   "execution_count": null,
   "id": "38230efc-430b-4006-85cf-323dbed016e3",
   "metadata": {},
   "outputs": [],
   "source": []
  },
  {
   "cell_type": "code",
   "execution_count": null,
   "id": "8d84ab7c-5671-4561-a1d1-9678b709ef94",
   "metadata": {},
   "outputs": [],
   "source": []
  },
  {
   "cell_type": "code",
   "execution_count": null,
   "id": "2ac052a5-d59e-4240-974b-8fe7e613dec9",
   "metadata": {},
   "outputs": [],
   "source": []
  },
  {
   "cell_type": "code",
   "execution_count": null,
   "id": "f86e3111-5316-45ae-8957-c49b4e5e0fcf",
   "metadata": {},
   "outputs": [],
   "source": []
  },
  {
   "cell_type": "code",
   "execution_count": null,
   "id": "71b3ffdf-39c1-46cd-9823-3aa12cc3f15c",
   "metadata": {},
   "outputs": [],
   "source": []
  },
  {
   "cell_type": "code",
   "execution_count": null,
   "id": "30e60c19-20f9-4b15-821a-e094af42f14a",
   "metadata": {},
   "outputs": [],
   "source": []
  },
  {
   "cell_type": "code",
   "execution_count": null,
   "id": "3c493d7d-4664-421b-91a8-b79a69eb3190",
   "metadata": {},
   "outputs": [],
   "source": []
  },
  {
   "cell_type": "code",
   "execution_count": null,
   "id": "81a63094-745f-4150-a8a1-3a2d7c60876e",
   "metadata": {},
   "outputs": [],
   "source": []
  },
  {
   "cell_type": "code",
   "execution_count": null,
   "id": "39e9606e-03c5-4a61-a692-34388b018786",
   "metadata": {},
   "outputs": [],
   "source": []
  },
  {
   "cell_type": "code",
   "execution_count": null,
   "id": "2e5eafd1-8ab6-4d65-9d6f-ff93eb0bebad",
   "metadata": {},
   "outputs": [],
   "source": []
  },
  {
   "cell_type": "code",
   "execution_count": null,
   "id": "2124c626-1fd2-4e89-907b-f8beec6ead1a",
   "metadata": {},
   "outputs": [],
   "source": []
  },
  {
   "cell_type": "code",
   "execution_count": null,
   "id": "e403045c-20be-494c-a8b0-5c42a836c997",
   "metadata": {},
   "outputs": [],
   "source": []
  },
  {
   "cell_type": "markdown",
   "id": "40fa1bc0-99e4-47d0-909a-236cc7c4a7ef",
   "metadata": {},
   "source": [
    "Notes:\n",
    "- outputs customized\n",
    "- more epochs but using the full model\n",
    "    - or the inner model - how does it update the full\n",
    "- specific\n",
    "    - rename middle layer: embedding\n",
    "    - output normalized version of this\n",
    "- export/import example\n",
    "- for dict input convert test instance to actual dictionary:\n",
    "    - show inference\n",
    "    - show mis-ordered inference\n",
    "    - add extra keys, show inference\n",
    "- supervised (maybe another workflow)\n",
    "- semi-superfixed with pre-train and fine-tune (maybe another workflow)\n",
    "- vae (another workflow)\n",
    "- serving with continual/incrmental learning using mini batch update\n",
    "- pipeline to train - include experiments, artifacts\n",
    "    - set hyperparamters\n",
    "    - train in component\n",
    "    - train as training job\n",
    "    - hyperparameter tuning to find best paramters with vizier.  Prepfer pipeline and direct api usage if possible.\n",
    "- build autoencoder variations\n",
    "    - fine tune as semi-supervised\n",
    "    - fine tune as vae\n",
    "    - fine tune as semi-supervised vae\n",
    "- introduce timeseries autoencoder\n",
    "    - fine tune as transformer using rows/time/series as sequence"
   ]
  },
  {
   "cell_type": "code",
   "execution_count": null,
   "id": "bddbd033-229e-4918-b824-092ce202f548",
   "metadata": {},
   "outputs": [],
   "source": []
  }
 ],
 "metadata": {
  "environment": {
   "kernel": "conda-base-py",
   "name": "workbench-notebooks.m125",
   "type": "gcloud",
   "uri": "us-docker.pkg.dev/deeplearning-platform-release/gcr.io/workbench-notebooks:m125"
  },
  "kernelspec": {
   "display_name": "Python 3 (ipykernel) (Local)",
   "language": "python",
   "name": "conda-base-py"
  },
  "language_info": {
   "codemirror_mode": {
    "name": "ipython",
    "version": 3
   },
   "file_extension": ".py",
   "mimetype": "text/x-python",
   "name": "python",
   "nbconvert_exporter": "python",
   "pygments_lexer": "ipython3",
   "version": "3.10.15"
  }
 },
 "nbformat": 4,
 "nbformat_minor": 5
}
